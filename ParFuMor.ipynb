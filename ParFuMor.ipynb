{
 "metadata": {
  "name": "",
  "signature": "sha256:77dfbd47ed9fc4e0637a21985047f52d2321b23bd54acfe3351595ab990e71b0"
 },
 "nbformat": 3,
 "nbformat_minor": 0,
 "worksheets": [
  {
   "cells": [
    {
     "cell_type": "heading",
     "level": 1,
     "metadata": {},
     "source": [
      "Partie 0. Pr\u00e9paration"
     ]
    },
    {
     "cell_type": "markdown",
     "metadata": {},
     "source": [
      "import re\n",
      "import sys\n",
      "import codecs"
     ]
    },
    {
     "cell_type": "heading",
     "level": 2,
     "metadata": {},
     "source": [
      "fichiers"
     ]
    },
    {
     "cell_type": "markdown",
     "metadata": {},
     "source": [
      "# ouvre le fichier de r\u00e8gles (Kalaba-Gloses.txt)\n",
      "try:\n",
      "    regles=codecs.open(sys.argv[1],\"r\", \"utf-8\")\n",
      "except IOError:\n",
      "    print ('le fichier \"'+ sys.argv[1]+ '\" ne peut pas \u00eatre ouvert')\n",
      "    sys.exit()\n",
      "\n",
      "# ouvre le fichier du lexique (Kalaba-Stems.txt)\n",
      "try:\n",
      "    lexique=codecs.open(sys.argv[2],\"r\", \"utf-8\")\n",
      "except IOError:\n",
      "    print ('le fichier \"'+ sys.argv[2]+ '\" ne peut pas \u00eatre ouvert')\n",
      "    sys.exit()\n",
      "    \n",
      "# ouvre le fichier des blocs (blocks.txt)\n",
      "try:\n",
      "    blocks_file=codecs.open(sys.argv[3],\"r\", \"utf-8\")\n",
      "except IOError:\n",
      "    print ('le fichier \"'+ sys.argv[3]+ '\" ne peut pas \u00eatre ouvert')\n",
      "    sys.exit()"
     ]
    },
    {
     "cell_type": "markdown",
     "metadata": {},
     "source": [
      "regles = !cat Kalaba-Gloses.txt"
     ]
    },
    {
     "cell_type": "markdown",
     "metadata": {},
     "source": [
      "lexique = !cat ./Kalaba-Stems.txt"
     ]
    },
    {
     "cell_type": "markdown",
     "metadata": {},
     "source": [
      "blocks_file = !cat ./blocks.txt"
     ]
    },
    {
     "cell_type": "heading",
     "level": 2,
     "metadata": {},
     "source": [
      "fonctions"
     ]
    },
    {
     "cell_type": "markdown",
     "metadata": {},
     "source": [
      "def merge_2_lists(liste1, liste2):\n",
      "    \"\"\"\n",
      "    Fusionne deux listes. \n",
      "    prend en argument deux listes\n",
      "    \"\"\"\n",
      "    for l in range(1):\n",
      "        temp = []\n",
      "        for i in liste1:\n",
      "            for j in liste2:\n",
      "                temp.append(i+j)\n",
      "        return temp"
     ]
    },
    {
     "cell_type": "markdown",
     "metadata": {},
     "source": [
      "def merge_lists(liste):\n",
      "    \"\"\"\n",
      "    Fusionne autant de listes qu'il y a de cas de figure pr\u00e9vus\n",
      "    prend en argument une liste de listes\n",
      "    utilise merge_2_lists()\n",
      "    Pour \u00e9tendre la fonction, observer les deux premi\u00e8res boucles.\n",
      "    \"\"\"\n",
      "    if len(liste) == 2:\n",
      "        listea = merge_2_lists(liste[0], liste[1])\n",
      "        return listea\n",
      "    elif len(liste) == 3:\n",
      "        listea = merge_2_lists(liste[0], liste[1])\n",
      "        listeb = merge_2_lists(listea, liste[2])\n",
      "        return listeb\n",
      "    elif len(liste) == 4:\n",
      "        listea = merge_2_lists(liste[0], liste[1])\n",
      "        listeb = merge_2_lists(listea, liste[2])\n",
      "        listec = merge_2_lists(listeb, liste[3])\n",
      "        return listec\n",
      "    elif len(liste) == 5:\n",
      "        listea = merge_2_lists(liste[0], liste[1])\n",
      "        listeb = merge_2_lists(listea, liste[2])\n",
      "        listec = merge_2_lists(listeb, liste[3])\n",
      "        listed = merge_2_lists(listec, liste[4])\n",
      "        return listed\n",
      "    else:\n",
      "        print(\"il y a trop de listes \u00e0 fusionner.\\nveuillez \u00e9tendre la fonction merge_lists()\")"
     ]
    },
    {
     "cell_type": "markdown",
     "metadata": {},
     "source": [
      "def order(liste):\n",
      "    \"\"\"\n",
      "    compte le nombre de traits (ajoute le tuple (nombre_de_traits, ligne) \u00e0 ordered_tuples[] )\n",
      "    ordonne la liste en ordre descendant\n",
      "    renvoie la liste des lignes en ordre descendant\n",
      "    \"\"\"\n",
      "    ordered_tuples = []\n",
      "    ordered = []\n",
      "    for l in liste:\n",
      "        splitted = len(l.split(\", \"))\n",
      "        ordered_tuples.append((splitted, l))\n",
      "    ordered_tuples.sort(reverse=True)\n",
      "    \n",
      "    for o in ordered_tuples:\n",
      "        ordered.append(o[1])\n",
      "    return ordered"
     ]
    },
    {
     "cell_type": "heading",
     "level": 1,
     "metadata": {},
     "source": [
      "Partie 1 : g\u00e9n\u00e9rer les \"commandes\""
     ]
    },
    {
     "cell_type": "heading",
     "level": 2,
     "metadata": {},
     "source": [
      "g\u00e9n\u00e9rer le paradigme vide"
     ]
    },
    {
     "cell_type": "markdown",
     "metadata": {},
     "source": [
      "- pour chaque ligne dans paradigme:\n",
      "    - si la ligne n'est pas vide,:\n",
      "        - gestion de la premi\u00e8re ligne : cat\u00e9gorie grammaticale\n",
      "        - si il y a \":\" dans la ligne, on met la cat\u00e9gorie dans une liste qu'on ajoute \u00e0 lists[]\n",
      "         -gestion des lignes du genre de \"Nombre\"\n",
      "        - si il y a \";\" dans la ligne:\n",
      "            on d\u00e9coupe la ligne sur les \\t, puis sur les ;\n",
      "            pour chaque c\u00f4t\u00e9 du ; on d\u00e9coupe sur les . puis les , et on g\u00e9n\u00e8re tous les cas de figure.\n",
      "            on ajoute tout \u00e7a dans lists[]\n",
      "\n",
      "            "
     ]
    },
    {
     "cell_type": "markdown",
     "metadata": {},
     "source": [
      "paradigme = []\n",
      "lists = []\n",
      "for r in regles:\n",
      "    r=r.strip()\n",
      "    # gestion de la premi\u00e8re ligne : cat\u00e9gorie grammaticale\n",
      "    if r != \"=\":\n",
      "        if \":\" in r:\n",
      "            temp_list = []\n",
      "            r = re.sub(\":\", \"\", r)\n",
      "            temp_list.append(r.strip())\n",
      "            lists.append(temp_list)\n",
      "        elif \"\\t\" in r:\n",
      "            temp_list = []\n",
      "            split1 = r.split(\"\\t\")\n",
      "            split2 = split1[1].split(\",\")\n",
      "            for s in split2:\n",
      "                temp_list.append(\", \"+split1[0]+\"=\"+s.strip())\n",
      "            lists.append(temp_list)\n",
      "    elif \"=\" in r:\n",
      "        paradigme.extend(merge_lists(lists)) \n",
      "        lists = []  "
     ]
    },
    {
     "cell_type": "markdown",
     "metadata": {},
     "source": [
      "for o in paradigme:\n",
      "    print(o)"
     ]
    },
    {
     "cell_type": "heading",
     "level": 2,
     "metadata": {},
     "source": [
      "G\u00e9n\u00e9rer le paradigme de chaque lex\u00e8me"
     ]
    },
    {
     "cell_type": "markdown",
     "metadata": {},
     "source": [
      "structure d'une commande : \n",
      "forme;cat-gram;attr;valeur"
     ]
    },
    {
     "cell_type": "markdown",
     "metadata": {},
     "source": [
      "lex = []\n",
      "cat_lex = \"\"\n",
      "temp_list = []\n",
      "traduction = {} # dictionnaire pour retrouver la traduction lors de la g\u00e9n\u00e9ration des formes fl\u00e9chies\n",
      "for l in lexique:\n",
      "    l=l.strip()\n",
      "    # extraction de la cat\u00e9gorie grammaticale du des lex\u00e8mes\n",
      "    if l.startswith(\"# \"):\n",
      "        cat_lex = re.sub(\"# \", \"\", l)\n",
      "        if len(temp_list) != 0:\n",
      "            lex.extend(temp_list)\n",
      "        temp_list = []\n",
      "    elif \",\" in l:\n",
      "        champs = l.split(\",\")\n",
      "        traduction[champs[1]]=champs[2]\n",
      "        for p in paradigme:\n",
      "            catgram = p.split(\", \")\n",
      "            # si la categorie dans lexique[] correspond \u00e0 celle dans paradigme[]\n",
      "            if catgram[0] == cat_lex:\n",
      "                for c in catgram:\n",
      "                    if \"=\" in c:\n",
      "                        trait = c.split(\"=\")\n",
      "                        # si la valeur du trait que le lex\u00e8me choisi (ex M,F,A,I pour un N)\n",
      "                        # est la valeur d'un des traits de la ligne, on ajoute phono+ligne dans lex[]\n",
      "                        if trait[1] == champs[0]:\n",
      "                            traits = \" \".join(catgram)\n",
      "                            temp_list.append(champs[1]+\", \"+p)"
     ]
    },
    {
     "cell_type": "markdown",
     "metadata": {},
     "source": [
      "for l in lex:\n",
      "    print(l)"
     ]
    },
    {
     "cell_type": "heading",
     "level": 1,
     "metadata": {},
     "source": [
      "Partie 2 : Importer les blocks"
     ]
    },
    {
     "cell_type": "markdown",
     "metadata": {},
     "source": [
      "blocks = []\n",
      "lists = []\n",
      "cat_block = \"\"\n",
      "for b in blocks_file:\n",
      "    b=b.strip()\n",
      "    # gestion de la premi\u00e8re ligne : cat\u00e9gorie grammaticale\n",
      "    if b != \"=\":\n",
      "        if \":\" in b:\n",
      "            b = b.split(\"-\")\n",
      "            b = b[0].strip()\n",
      "            cat_block = b\n",
      "        else:\n",
      "            lists.append(b)\n",
      "    elif \"=\" in b: \n",
      "        blocks.append((cat_block, order(lists)))\n",
      "        lists = []"
     ]
    },
    {
     "cell_type": "markdown",
     "metadata": {},
     "source": [
      "for b in blocks:\n",
      "    print(b)"
     ]
    },
    {
     "cell_type": "heading",
     "level": 1,
     "metadata": {},
     "source": [
      "Partie 3 : g\u00e9n\u00e9rer les formes fl\u00e9chies"
     ]
    },
    {
     "cell_type": "code",
     "collapsed": false,
     "input": [
      "output = []\n",
      "for l in lex:\n",
      "    modified = l.split(\", \")\n",
      "    traits_lexeme = l.split(\", \")[2:]\n",
      "    for b in blocks:\n",
      "        if l.split(\", \")[1] == b[0]:\n",
      "            a = False # False = r\u00e8gle du block pas encore appliqu\u00e9e\n",
      "            for c in b[1]:\n",
      "                splitted = c.split(\" > \")\n",
      "                ajout = splitted[1]\n",
      "                traits_block = splitted[0].split(\", \")\n",
      "                if a == False and len(list(set(traits_block+traits_lexeme))) <= len(traits_lexeme) or len(list(set(traits_block+traits_lexeme))) <= len(traits_block):\n",
      "                    a = True\n",
      "                    modified[0] += ajout\n",
      "    form = modified[0]                             # forme fl\u00e9chie\n",
      "    francais = traduction[l.split(\", \")[0]]   # traduction en fran\u00e7ais\n",
      "    categ = modified[1]                            # cat\u00e9gorie grammaticale\n",
      "    traits_str = \", \".join(modified[2:])           # liste des traits joints par \", \"\n",
      "    ### ins\u00e9rer ci-dessous la mise en page \n",
      "    commande1 = \"<A>\"+form+\"\\t\\t\\t\"+categ+\" , \"+traits_str+\"</A>\"\n",
      "    commande2 = \"<B>\\t\\t\"+francais+\"\\t\"+categ+\" , \"+traits_str+\"</B>\\n\"\n",
      "    ###\n",
      "    output.append(commande1)\n",
      "    output.append(commande2)"
     ],
     "language": "python",
     "metadata": {},
     "outputs": []
    },
    {
     "cell_type": "markdown",
     "metadata": {},
     "source": [
      "for o in output:\n",
      "    print(o)"
     ]
    },
    {
     "cell_type": "markdown",
     "metadata": {},
     "source": [
      "# \u00e9crit le paradigme fl\u00e9chi dans un fichier\n",
      "with open(\"paradigme_fl\u00e9chi.txt\", \"a\") as f:\n",
      "    for o in output:\n",
      "        f.write(o)\n",
      "        f.write(\"\\n\")"
     ]
    },
    {
     "cell_type": "markdown",
     "metadata": {},
     "source": [
      "#Nouvelle partie"
     ]
    },
    {
     "cell_type": "code",
     "collapsed": false,
     "input": [
      "import yaml\n",
      "import itertools\n",
      "import re"
     ],
     "language": "python",
     "metadata": {},
     "outputs": [],
     "prompt_number": 30
    },
    {
     "cell_type": "code",
     "collapsed": true,
     "input": [
      "def depthDict(element):\n",
      "    max=0\n",
      "    if type(element)==type({}):\n",
      "        for k in element:\n",
      "            depth=depthDict(element[k])\n",
      "            if depth>max:\n",
      "                max=depth\n",
      "        return max+1\n",
      "    else:\n",
      "        return 0"
     ],
     "language": "python",
     "metadata": {},
     "outputs": [],
     "prompt_number": 4
    },
    {
     "cell_type": "code",
     "collapsed": false,
     "input": [
      "with open(\"Kalaba-Gloses.yaml\", 'r') as stream:\n",
      "    gloses=yaml.load(stream)\n",
      "with open(\"Kalaba-Stems.yaml\", 'r') as stream:\n",
      "    stems=yaml.load(stream)\n",
      "with open(\"Kalaba-Blocks.yaml\", 'r') as stream:\n",
      "    blocks=yaml.load(stream)"
     ],
     "language": "python",
     "metadata": {},
     "outputs": [],
     "prompt_number": 5
    },
    {
     "cell_type": "markdown",
     "metadata": {},
     "source": [
      "gloses,stems,blocks"
     ]
    },
    {
     "cell_type": "code",
     "collapsed": true,
     "input": [
      "class Paradigmes:\n",
      "    '''\n",
      "    information sur les cases flexionnelles par cat\u00e9gorie\n",
      "    '''\n",
      "    def __init__(self):\n",
      "        self.cases={}\n",
      "        self.categories=[]\n",
      "        \n",
      "    def addForme(self,cat,proprietes):\n",
      "        sigma=\", \".join(proprietes)\n",
      "        cle={sigma:proprietes}\n",
      "        if not cat in self.categories:\n",
      "            self.categories.append(cat)\n",
      "        if not cat in self.cases:\n",
      "            self.cases[cat]=[]\n",
      "        if not cle in self.cases[cat]:\n",
      "            self.cases[cat].append(cle)\n",
      "    \n",
      "    def getSigmas(self,classe):\n",
      "        sigmas=[]\n",
      "        if classe in hierarchieCF.categorie:\n",
      "            cat=hierarchieCF.categorie[classe]\n",
      "            filtre=\"%s=%s\"%(hierarchieCF.getFeature(cat,classe),classe)\n",
      "        else:\n",
      "            cat=classe\n",
      "            filtre=\"\"\n",
      "        if cat in self.cases:\n",
      "            for element in self.cases[cat]:\n",
      "                for cle in element:\n",
      "                    if filtre in cle:\n",
      "                        sigmas.append(cle)\n",
      "            return sigmas\n",
      "        else:\n",
      "            return [cat]"
     ],
     "language": "python",
     "metadata": {},
     "outputs": [],
     "prompt_number": 6
    },
    {
     "cell_type": "code",
     "collapsed": true,
     "input": [
      "class HierarchieCF:\n",
      "    '''\n",
      "    hi\u00e9rarchie des classes flexionnelles\n",
      "    '''\n",
      "    def __init__(self):\n",
      "        self.classes={}\n",
      "        self.categorie={}\n",
      "        self.trait={}\n",
      "        \n",
      "    def addCategory(self,category,classe):\n",
      "        if not category in self.classes:\n",
      "            self.classes[category]=[]\n",
      "        self.classes[category].append(classe)\n",
      "        self.categorie[classe]=category\n",
      "        for attribut in gloses[category]:\n",
      "            if set(gloses[category][attribut])==set(hierarchieCF.classes[category]):\n",
      "                for valeur in gloses[category][attribut]:\n",
      "                    hierarchieCF.addFeature(category,valeur,attribut)\n",
      "                    \n",
      "    def addFeature(self,category,classe,feature):\n",
      "        self.trait[category+\"-\"+classe]=feature\n",
      "        \n",
      "    def getFeature(self,category,classe):\n",
      "        cle=category+\"-\"+classe\n",
      "        if cle in self.trait:\n",
      "            return self.trait[category+\"-\"+classe]\n",
      "        else:\n",
      "            return \"Cat\u00e9gorie\""
     ],
     "language": "python",
     "metadata": {},
     "outputs": [],
     "prompt_number": 7
    },
    {
     "cell_type": "code",
     "collapsed": false,
     "input": [
      "class Tableau:\n",
      "    '''\n",
      "    liste de sigmas\n",
      "    '''\n",
      "    def __init__(self,classe,stem):\n",
      "        self.cases=[]\n",
      "        self.stem=stem\n",
      "        for case in paradigmes.getSigmas(classe):\n",
      "            self.cases.append(case)\n",
      "            \n",
      "    def __repr__(self):\n",
      "        return stem+\" : \"+\", \".join(self.cases)\n",
      "    "
     ],
     "language": "python",
     "metadata": {},
     "outputs": [],
     "prompt_number": 8
    },
    {
     "cell_type": "code",
     "collapsed": false,
     "input": [
      "class Lexeme:\n",
      "    '''\n",
      "    Formes fl\u00e9chies d'un lex\u00e8me suivant sa classe flexionnelle\n",
      "    '''\n",
      "    def __init__(self,stem,classe,nom):\n",
      "        self.stem=stem\n",
      "        self.classe=classe\n",
      "        self.nom=nom\n",
      "        self.paradigme=Tableau(classe,stem)\n",
      "        self.formes=[]\n",
      "\n",
      "    def __repr__(self):\n",
      "        return \"%s, %s, %s, %s\"%(self.stem,self.classe,self.nom,self.paradigme)\n",
      "    \n",
      "    def addForme(self,*formes):\n",
      "        for forme in formes:\n",
      "            self.formes.append(forme)\n",
      "        \n",
      "class Lexique:\n",
      "    '''\n",
      "    Lexique des formes fl\u00e9chies\n",
      "    '''\n",
      "    def __init__(self):\n",
      "        self.lexemes={}\n",
      "    \n",
      "    def addLexeme(self,classe,stem,*formes):\n",
      "        nom=classe+\"-\"+stem\n",
      "        self.lexemes[nom]=Lexeme(stem,classe,formes[0])\n",
      "        self.lexemes[nom].addForme(*formes)\n",
      "    "
     ],
     "language": "python",
     "metadata": {},
     "outputs": [],
     "prompt_number": 9
    },
    {
     "cell_type": "code",
     "collapsed": true,
     "input": [
      "paradigmes=Paradigmes()\n",
      "for cat in gloses:\n",
      "    attributes=[]\n",
      "    if gloses[cat]:\n",
      "        for attribute in gloses[cat]:\n",
      "            attributes.append(gloses[cat][attribute])\n",
      "        nuplets=(itertools.product(*attributes))\n",
      "        for nuplet in nuplets:\n",
      "            proprietes=[cat]\n",
      "            for element in range(len(nuplet)):\n",
      "                proprietes.append(\"%s=%s\"%(gloses[cat].keys()[element],nuplet[element]))\n",
      "            paradigmes.addForme(cat,proprietes)"
     ],
     "language": "python",
     "metadata": {},
     "outputs": [],
     "prompt_number": 10
    },
    {
     "cell_type": "code",
     "collapsed": true,
     "input": [
      "hierarchieCF=HierarchieCF()\n",
      "lexique=Lexique()\n",
      "\n",
      "def analyserStems(niveau):\n",
      "    depthNiveau=depthDict(niveau)\n",
      "    if depthNiveau>1:\n",
      "        for element1 in niveau:\n",
      "            depthElement=depthDict(niveau[element1])\n",
      "            if depthElement>=2:\n",
      "                for element2 in niveau[element1]:\n",
      "                    hierarchieCF.addCategory(element1,element2)\n",
      "                analyserStems(niveau[element1])\n",
      "            else:\n",
      "                for forme in niveau[element1]:\n",
      "                    if isinstance(niveau[element1][forme],str):\n",
      "                        lexique.addLexeme(element1,forme,niveau[element1][forme])\n",
      "                    elif isinstance(niveau[element1][forme],unicode):\n",
      "                        lexique.addLexeme(element1,forme,niveau[element1][forme].encode('utf8'))\n",
      "                    elif isinstance(niveau[element1][forme],list):\n",
      "                        lexique.addLexeme(element1,forme,*niveau[element1][forme])\n",
      "                    else:\n",
      "                        print \"PB\",element1,forme,niveau[element1][forme]\n",
      "analyserStems(stems)"
     ],
     "language": "python",
     "metadata": {},
     "outputs": [],
     "prompt_number": 11
    },
    {
     "cell_type": "code",
     "collapsed": true,
     "input": [
      "for lexeme in lexique.lexemes:\n",
      "    print lexeme, lexique.lexemes[lexeme].nom, lexique.lexemes[lexeme].formes\n",
      "    for case in lexique.lexemes[lexeme].paradigme.cases:\n",
      "#        print lexeme, lexique.lexemes[lexeme].stem, case\n",
      "        categorie=hierarchieCF.categorie[lexique.lexemes[lexeme].classe]\n",
      "#        print categorie\n",
      "        forme=lexique.lexemes[lexeme].stem\n",
      "        for bloc in blocks[categorie]: \n",
      "            for sigma,transformation in bloc.iteritems():\n",
      "                if sigma in case:\n",
      "                    forme=modifierForme(forme,transformation)\n",
      "                    print sigma,\"=>\", transformation\n",
      "                    print case,\"=\", forme\n",
      "            \n"
     ],
     "language": "python",
     "metadata": {},
     "outputs": [
      {
       "output_type": "stream",
       "stream": "stdout",
       "text": [
        "VI-topaz dormir ['dormir', 'dort', 'dorment', 'dormait', 'dormaient', 'dormira', 'dormiront']\n",
        "Type=VI, Genre-Abs=H => X+h\n",
        "V, Nombre-Abs=Sg, Type=VI, Genre-Abs=H = topazh\n",
        "Type=VI, Genre-Abs=Nh => X+n\n",
        "V, Nombre-Abs=Sg, Type=VI, Genre-Abs=Nh = topazn\n",
        "Type=VI, Genre-Abs=H => X+h\n",
        "V, Nombre-Abs=Du, Type=VI, Genre-Abs=H = topazh\n",
        "Type=VI, Genre-Abs=Nh => X+n\n",
        "V, Nombre-Abs=Du, Type=VI, Genre-Abs=Nh = topazn\n",
        "Type=VI, Genre-Abs=H => X+h\n",
        "V, Nombre-Abs=Pl, Type=VI, Genre-Abs=H = topazh\n",
        "Type=VI, Genre-Abs=Nh => X+n\n",
        "V, Nombre-Abs=Pl, Type=VI, Genre-Abs=Nh = topazn\n",
        "M-bet gar\u00e7on [u'gar\\xe7on', u'gar\\xe7ons']\n",
        "Cas=Erg => X+s\n",
        "N, Genre=M, Nombre=Sg, Cas=Erg = bets\n",
        "Cas=Erg => X+s\n",
        "N, Genre=M, Nombre=Du, Cas=Erg = bets\n",
        "Cas=Erg => X+s\n",
        "N, Genre=M, Nombre=Pl, Cas=Erg = bets\n",
        "I-kab table ['table', 'tables']\n",
        "Cas=Erg => X+s\n",
        "N, Genre=I, Nombre=Sg, Cas=Erg = kabs\n",
        "Cas=Erg => X+s\n",
        "N, Genre=I, Nombre=Du, Cas=Erg = kabs\n",
        "Cas=Erg => X+s\n",
        "N, Genre=I, Nombre=Pl, Cas=Erg = kabs\n",
        "I-non oeuf ['oeuf', 'oeufs']\n",
        "Cas=Erg => X+s\n",
        "N, Genre=I, Nombre=Sg, Cas=Erg = nons\n",
        "Cas=Erg => X+s\n",
        "N, Genre=I, Nombre=Du, Cas=Erg = nons\n",
        "Cas=Erg => X+s\n",
        "N, Genre=I, Nombre=Pl, Cas=Erg = nons\n",
        "A-bal autruche ['autruche', 'autruches']\n",
        "Cas=Erg => X+s\n",
        "N, Genre=A, Nombre=Sg, Cas=Erg = bals\n",
        "Cas=Erg => X+s\n",
        "N, Genre=A, Nombre=Du, Cas=Erg = bals\n",
        "Cas=Erg => X+s\n",
        "N, Genre=A, Nombre=Pl, Cas=Erg = bals\n",
        "PREP-zon sous ['sous']\n"
       ]
      },
      {
       "ename": "KeyError",
       "evalue": "'PREP'",
       "output_type": "pyerr",
       "traceback": [
        "\u001b[0;31m---------------------------------------------------------------------------\u001b[0m\n\u001b[0;31mKeyError\u001b[0m                                  Traceback (most recent call last)",
        "\u001b[0;32m<ipython-input-55-79e63d25794d>\u001b[0m in \u001b[0;36m<module>\u001b[0;34m()\u001b[0m\n\u001b[1;32m      3\u001b[0m     \u001b[0;32mfor\u001b[0m \u001b[0mcase\u001b[0m \u001b[0;32min\u001b[0m \u001b[0mlexique\u001b[0m\u001b[0;34m.\u001b[0m\u001b[0mlexemes\u001b[0m\u001b[0;34m[\u001b[0m\u001b[0mlexeme\u001b[0m\u001b[0;34m]\u001b[0m\u001b[0;34m.\u001b[0m\u001b[0mparadigme\u001b[0m\u001b[0;34m.\u001b[0m\u001b[0mcases\u001b[0m\u001b[0;34m:\u001b[0m\u001b[0;34m\u001b[0m\u001b[0m\n\u001b[1;32m      4\u001b[0m \u001b[0;31m#        print lexeme, lexique.lexemes[lexeme].stem, case\u001b[0m\u001b[0;34m\u001b[0m\u001b[0;34m\u001b[0m\u001b[0m\n\u001b[0;32m----> 5\u001b[0;31m         \u001b[0mcategorie\u001b[0m\u001b[0;34m=\u001b[0m\u001b[0mhierarchieCF\u001b[0m\u001b[0;34m.\u001b[0m\u001b[0mcategorie\u001b[0m\u001b[0;34m[\u001b[0m\u001b[0mlexique\u001b[0m\u001b[0;34m.\u001b[0m\u001b[0mlexemes\u001b[0m\u001b[0;34m[\u001b[0m\u001b[0mlexeme\u001b[0m\u001b[0;34m]\u001b[0m\u001b[0;34m.\u001b[0m\u001b[0mclasse\u001b[0m\u001b[0;34m]\u001b[0m\u001b[0;34m\u001b[0m\u001b[0m\n\u001b[0m\u001b[1;32m      6\u001b[0m \u001b[0;31m#        print categorie\u001b[0m\u001b[0;34m\u001b[0m\u001b[0;34m\u001b[0m\u001b[0m\n\u001b[1;32m      7\u001b[0m         \u001b[0mforme\u001b[0m\u001b[0;34m=\u001b[0m\u001b[0mlexique\u001b[0m\u001b[0;34m.\u001b[0m\u001b[0mlexemes\u001b[0m\u001b[0;34m[\u001b[0m\u001b[0mlexeme\u001b[0m\u001b[0;34m]\u001b[0m\u001b[0;34m.\u001b[0m\u001b[0mstem\u001b[0m\u001b[0;34m\u001b[0m\u001b[0m\n",
        "\u001b[0;31mKeyError\u001b[0m: 'PREP'"
       ]
      }
     ],
     "prompt_number": 55
    },
    {
     "cell_type": "code",
     "collapsed": false,
     "input": [
      "def modifierForme(forme,transformation):\n",
      "    m=re.match(\"^([^+]*)\\+([^+]*)$\",transformation)\n",
      "    if m:\n",
      "        if m.group(1)==\"X\":\n",
      "            suffixe=m.group(2)\n",
      "            prefixe=\"\"\n",
      "        elif m.group(2)==\"X\":\n",
      "            prefixe=m.group(1)\n",
      "            suffixe=\"\"\n",
      "    else:\n",
      "        m=re.match(\"^([^+]*)\\+([^+]*)\\+([^+]*)$\",transformation)\n",
      "        if m:\n",
      "            if m.group(2)==\"X\":\n",
      "                prefixe=m.group(1)\n",
      "                suffixe=m.group(3)\n",
      "    return prefixe+forme+suffixe\n",
      "            "
     ],
     "language": "python",
     "metadata": {},
     "outputs": [],
     "prompt_number": 43
    },
    {
     "cell_type": "code",
     "collapsed": false,
     "input": [
      "hierarchieCF.categorie"
     ],
     "language": "python",
     "metadata": {},
     "outputs": [
      {
       "metadata": {},
       "output_type": "pyout",
       "prompt_number": 47,
       "text": [
        "{'A': 'N',\n",
        " 'DEF': 'DET',\n",
        " 'DEM': 'DET',\n",
        " 'F': 'N',\n",
        " 'I': 'N',\n",
        " 'IND': 'DET',\n",
        " 'M': 'N',\n",
        " 'VI': 'V',\n",
        " 'VT': 'V'}"
       ]
      }
     ],
     "prompt_number": 47
    },
    {
     "cell_type": "code",
     "collapsed": false,
     "input": [
      "for categorie in blocks:\n",
      "    print categorie\n",
      "    for bloc in blocks[categorie]:\n",
      "        for key, value in bloc.iteritems():\n",
      "            print key, \">\", value"
     ],
     "language": "python",
     "metadata": {},
     "outputs": [
      {
       "output_type": "stream",
       "stream": "stdout",
       "text": [
        "N\n",
        "Genre=F > X+a\n",
        "Cas=Abs, Genre=A > X+i\n",
        "Cas=Abs, Genre=M > X+e\n",
        "Cas=Erg, Genre=M > X+o\n",
        "Cas=Erg, Nombre=Pl > X+t\n",
        "Cas=Erg > X+s\n",
        "Cas=Erg, Nombre=Sg > X+x\n",
        "Cas=Abs, Nombre=Du > X+d\n",
        "Cas=Abs, Genre=F, Nombre=Du > X+b\n",
        "V\n",
        "Type=VT > X+o\n",
        "Type=VI, Genre-Abs=Nh > X+n\n",
        "Type=VI, Genre-Abs=H > X+h\n",
        "Type=VT, Nombre-Abs=Sg > X+s\n",
        "Type=VT, Nombre-Abs=Pl > X+p\n",
        "Type=VT, Nombre-Abs=Du > X+d\n"
       ]
      }
     ],
     "prompt_number": 27
    },
    {
     "cell_type": "code",
     "collapsed": false,
     "input": [
      "hierarchieCF.categorie"
     ],
     "language": "python",
     "metadata": {},
     "outputs": [
      {
       "metadata": {},
       "output_type": "pyout",
       "prompt_number": 58,
       "text": [
        "{'A': 'N',\n",
        " 'DEF': 'DET',\n",
        " 'DEM': 'DET',\n",
        " 'F': 'N',\n",
        " 'I': 'N',\n",
        " 'IND': 'DET',\n",
        " 'M': 'N',\n",
        " 'VI': 'V',\n",
        " 'VT': 'V'}"
       ]
      }
     ],
     "prompt_number": 58
    },
    {
     "cell_type": "code",
     "collapsed": false,
     "input": [],
     "language": "python",
     "metadata": {},
     "outputs": []
    }
   ],
   "metadata": {}
  }
 ]
}
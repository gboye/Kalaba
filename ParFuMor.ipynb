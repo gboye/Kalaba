{
 "metadata": {
  "name": "",
  "signature": "sha256:6cd4ba99fe495a932c86e435d0c5fbb8f41fa536fe271d43f75ecadf65e64b39"
 },
 "nbformat": 3,
 "nbformat_minor": 0,
 "worksheets": [
  {
   "cells": [
    {
     "cell_type": "heading",
     "level": 1,
     "metadata": {},
     "source": [
      "Partie 0. Pr\u00e9paration"
     ]
    },
    {
     "cell_type": "code",
     "collapsed": true,
     "input": [
      "import re\n",
      "import sys\n",
      "import codecs"
     ],
     "language": "python",
     "metadata": {},
     "outputs": [],
     "prompt_number": 116
    },
    {
     "cell_type": "heading",
     "level": 2,
     "metadata": {},
     "source": [
      "fichiers"
     ]
    },
    {
     "cell_type": "code",
     "collapsed": true,
     "input": [
      "# ouvre le fichier de r\u00e8gles (Kalaba-Gloses.txt)\n",
      "try:\n",
      "    regles=codecs.open(sys.argv[1],\"r\", \"utf-8\")\n",
      "except IOError:\n",
      "    print ('le fichier \"'+ sys.argv[1]+ '\" ne peut pas \u00eatre ouvert')\n",
      "    sys.exit()\n",
      "\n",
      "# ouvre le fichier du lexique (Kalaba-Stems.txt)\n",
      "try:\n",
      "    lexique=codecs.open(sys.argv[2],\"r\", \"utf-8\")\n",
      "except IOError:\n",
      "    print ('le fichier \"'+ sys.argv[2]+ '\" ne peut pas \u00eatre ouvert')\n",
      "    sys.exit()\n",
      "    \n",
      "# ouvre le fichier des blocs (blocks.txt)\n",
      "try:\n",
      "    blocks_file=codecs.open(sys.argv[3],\"r\", \"utf-8\")\n",
      "except IOError:\n",
      "    print ('le fichier \"'+ sys.argv[3]+ '\" ne peut pas \u00eatre ouvert')\n",
      "    sys.exit()"
     ],
     "language": "python",
     "metadata": {},
     "outputs": [
      {
       "output_type": "stream",
       "stream": "stdout",
       "text": [
        "le fichier \"-f\" ne peut pas \u00eatre ouvert\n"
       ]
      },
      {
       "ename": "SystemExit",
       "evalue": "",
       "output_type": "pyerr",
       "traceback": [
        "An exception has occurred, use %tb to see the full traceback.\n",
        "\u001b[0;31mSystemExit\u001b[0m\n"
       ]
      },
      {
       "output_type": "stream",
       "stream": "stderr",
       "text": [
        "To exit: use 'exit', 'quit', or Ctrl-D.\n"
       ]
      }
     ],
     "prompt_number": 117
    },
    {
     "cell_type": "code",
     "collapsed": true,
     "input": [
      "regles = !cat Kalaba-Gloses.txt"
     ],
     "language": "python",
     "metadata": {},
     "outputs": [],
     "prompt_number": 118
    },
    {
     "cell_type": "code",
     "collapsed": true,
     "input": [
      "lexique = !cat ./Kalaba-Stems.txt"
     ],
     "language": "python",
     "metadata": {},
     "outputs": [],
     "prompt_number": 119
    },
    {
     "cell_type": "code",
     "collapsed": true,
     "input": [
      "blocks_file = !cat ./blocks.txt"
     ],
     "language": "python",
     "metadata": {},
     "outputs": [],
     "prompt_number": 120
    },
    {
     "cell_type": "heading",
     "level": 2,
     "metadata": {},
     "source": [
      "fonctions"
     ]
    },
    {
     "cell_type": "code",
     "collapsed": true,
     "input": [
      "def merge_2_lists(liste1, liste2):\n",
      "    \"\"\"\n",
      "    Fusionne deux listes. \n",
      "    prend en argument deux listes\n",
      "    \"\"\"\n",
      "    for l in range(1):\n",
      "        temp = []\n",
      "        for i in liste1:\n",
      "            for j in liste2:\n",
      "                temp.append(i+j)\n",
      "        return temp"
     ],
     "language": "python",
     "metadata": {},
     "outputs": [],
     "prompt_number": 121
    },
    {
     "cell_type": "code",
     "collapsed": true,
     "input": [
      "def merge_lists(liste):\n",
      "    \"\"\"\n",
      "    Fusionne autant de listes qu'il y a de cas de figure pr\u00e9vus\n",
      "    prend en argument une liste de listes\n",
      "    utilise merge_2_lists()\n",
      "    Pour \u00e9tendre la fonction, observer les deux premi\u00e8res boucles.\n",
      "    \"\"\"\n",
      "    if len(liste) == 2:\n",
      "        listea = merge_2_lists(liste[0], liste[1])\n",
      "        return listea\n",
      "    elif len(liste) == 3:\n",
      "        listea = merge_2_lists(liste[0], liste[1])\n",
      "        listeb = merge_2_lists(listea, liste[2])\n",
      "        return listeb\n",
      "    elif len(liste) == 4:\n",
      "        listea = merge_2_lists(liste[0], liste[1])\n",
      "        listeb = merge_2_lists(listea, liste[2])\n",
      "        listec = merge_2_lists(listeb, liste[3])\n",
      "        return listec\n",
      "    elif len(liste) == 5:\n",
      "        listea = merge_2_lists(liste[0], liste[1])\n",
      "        listeb = merge_2_lists(listea, liste[2])\n",
      "        listec = merge_2_lists(listeb, liste[3])\n",
      "        listed = merge_2_lists(listec, liste[4])\n",
      "        return listed\n",
      "    else:\n",
      "        print(\"il y a trop de listes \u00e0 fusionner.\\nveuillez \u00e9tendre la fonction merge_lists()\")"
     ],
     "language": "python",
     "metadata": {},
     "outputs": [],
     "prompt_number": 122
    },
    {
     "cell_type": "code",
     "collapsed": true,
     "input": [
      "def order(liste):\n",
      "    \"\"\"\n",
      "    compte le nombre de traits (ajoute le tuple (nombre_de_traits, ligne) \u00e0 ordered_tuples[] )\n",
      "    ordonne la liste en ordre descendant\n",
      "    renvoie la liste des lignes en ordre descendant\n",
      "    \"\"\"\n",
      "    ordered_tuples = []\n",
      "    ordered = []\n",
      "    for l in liste:\n",
      "        splitted = len(l.split(\", \"))\n",
      "        ordered_tuples.append((splitted, l))\n",
      "    ordered_tuples.sort(reverse=True)\n",
      "    \n",
      "    for o in ordered_tuples:\n",
      "        ordered.append(o[1])\n",
      "    return ordered"
     ],
     "language": "python",
     "metadata": {},
     "outputs": [],
     "prompt_number": 123
    },
    {
     "cell_type": "heading",
     "level": 1,
     "metadata": {},
     "source": [
      "Partie 1 : g\u00e9n\u00e9rer les \"commandes\""
     ]
    },
    {
     "cell_type": "heading",
     "level": 2,
     "metadata": {},
     "source": [
      "g\u00e9n\u00e9rer le paradigme vide"
     ]
    },
    {
     "cell_type": "raw",
     "metadata": {},
     "source": [
      "pour chaque ligne dans paradigme:\n",
      "    si la ligne n'est pas vide,:\n",
      "        # gestion de la premi\u00e8re ligne : cat\u00e9gorie grammaticale\n",
      "        si il y a \":\" dans la ligne, on met la cat\u00e9gorie dans une liste qu'on ajoute \u00e0 lists[]\n",
      "        # gestion des lignes du genre de \"Nombre\"\n",
      "        si il y a \";\" dans la ligne:\n",
      "            on d\u00e9coupe la ligne sur les \\t, puis sur les ;\n",
      "            pour chaque c\u00f4t\u00e9 du ; on d\u00e9coupe sur les . puis les , et on g\u00e9n\u00e8re tous les cas de figure.\n",
      "            on ajoute tout \u00e7a dans lists[]\n",
      "\n",
      "            "
     ]
    },
    {
     "cell_type": "code",
     "collapsed": true,
     "input": [
      "paradigme = []\n",
      "lists = []\n",
      "for r in regles:\n",
      "    r=r.strip()\n",
      "    # gestion de la premi\u00e8re ligne : cat\u00e9gorie grammaticale\n",
      "    if r != \"=\":\n",
      "        if \":\" in r:\n",
      "            temp_list = []\n",
      "            r = re.sub(\":\", \"\", r)\n",
      "            temp_list.append(r.strip())\n",
      "            lists.append(temp_list)\n",
      "        elif \"\\t\" in r:\n",
      "            temp_list = []\n",
      "            split1 = r.split(\"\\t\")\n",
      "            split2 = split1[1].split(\",\")\n",
      "            for s in split2:\n",
      "                temp_list.append(\", \"+split1[0]+\"=\"+s.strip())\n",
      "            lists.append(temp_list)\n",
      "    elif \"=\" in r:\n",
      "        paradigme.extend(merge_lists(lists)) \n",
      "        lists = []  "
     ],
     "language": "python",
     "metadata": {},
     "outputs": [],
     "prompt_number": 124
    },
    {
     "cell_type": "code",
     "collapsed": true,
     "input": [
      "for o in paradigme:\n",
      "    print(o)"
     ],
     "language": "python",
     "metadata": {},
     "outputs": [
      {
       "output_type": "stream",
       "stream": "stdout",
       "text": [
        "N, Genre=M, Nombre=Sg\n",
        "N, Genre=M, Nombre=Pl\n",
        "N, Genre=F, Nombre=Sg\n",
        "N, Genre=F, Nombre=Pl\n",
        "V, Type=V, Personne-Nombre=1SG\n",
        "V, Type=V, Personne-Nombre=2SG\n",
        "V, Type=V, Personne-Nombre=3SG\n",
        "V, Type=V, Personne-Nombre=1PL\n",
        "V, Type=V, Personne-Nombre=2PL\n",
        "V, Type=V, Personne-Nombre=3PL\n",
        "Det, Type=DEF, Genre=M, Nombre=Sg\n",
        "Det, Type=DEF, Genre=M, Nombre=Pl\n",
        "Det, Type=DEF, Genre=F, Nombre=Sg\n",
        "Det, Type=DEF, Genre=F, Nombre=Pl\n",
        "Det, Type=IND, Genre=M, Nombre=Sg\n",
        "Det, Type=IND, Genre=M, Nombre=Pl\n",
        "Det, Type=IND, Genre=F, Nombre=Sg\n",
        "Det, Type=IND, Genre=F, Nombre=Pl\n",
        "Det, Type=DEM, Genre=M, Nombre=Sg\n",
        "Det, Type=DEM, Genre=M, Nombre=Pl\n",
        "Det, Type=DEM, Genre=F, Nombre=Sg\n",
        "Det, Type=DEM, Genre=F, Nombre=Pl\n",
        "Adj, Type=ADJ, Genre=M, Nombre=Sg\n",
        "Adj, Type=ADJ, Genre=M, Nombre=Pl\n",
        "Adj, Type=ADJ, Genre=F, Nombre=Sg\n",
        "Adj, Type=ADJ, Genre=F, Nombre=Pl\n"
       ]
      }
     ],
     "prompt_number": 125
    },
    {
     "cell_type": "heading",
     "level": 2,
     "metadata": {},
     "source": [
      "G\u00e9n\u00e9rer le paradigme de chaque lex\u00e8me"
     ]
    },
    {
     "cell_type": "markdown",
     "metadata": {},
     "source": [
      "structure d'une commande : \n",
      "forme;cat-gram;attr;valeur"
     ]
    },
    {
     "cell_type": "code",
     "collapsed": true,
     "input": [
      "lex = []\n",
      "cat_lex = \"\"\n",
      "temp_list = []\n",
      "traduction = {} # dictionnaire pour retrouver la traduction lors de la g\u00e9n\u00e9ration des formes fl\u00e9chies\n",
      "for l in lexique:\n",
      "    l=l.strip()\n",
      "    # extraction de la cat\u00e9gorie grammaticale du des lex\u00e8mes\n",
      "    if l.startswith(\"# \"):\n",
      "        cat_lex = re.sub(\"# \", \"\", l)\n",
      "        if len(temp_list) != 0:\n",
      "            lex.extend(temp_list)\n",
      "        temp_list = []\n",
      "    elif \",\" in l:\n",
      "        champs = l.split(\",\")\n",
      "        traduction[champs[1]]=champs[2]\n",
      "        for p in paradigme:\n",
      "            catgram = p.split(\", \")\n",
      "            # si la categorie dans lexique[] correspond \u00e0 celle dans paradigme[]\n",
      "            if catgram[0] == cat_lex:\n",
      "                for c in catgram:\n",
      "                    if \"=\" in c:\n",
      "                        trait = c.split(\"=\")\n",
      "                        # si la valeur du trait que le lex\u00e8me choisi (ex M,F,A,I pour un N)\n",
      "                        # est la valeur d'un des traits de la ligne, on ajoute phono+ligne dans lex[]\n",
      "                        if trait[1] == champs[0]:\n",
      "                            traits = \" \".join(catgram)\n",
      "                            temp_list.append(champs[1]+\", \"+p)"
     ],
     "language": "python",
     "metadata": {},
     "outputs": [],
     "prompt_number": 126
    },
    {
     "cell_type": "code",
     "collapsed": true,
     "input": [
      "for l in lex:\n",
      "    print(l)"
     ],
     "language": "python",
     "metadata": {},
     "outputs": [
      {
       "output_type": "stream",
       "stream": "stdout",
       "text": [
        "tSik, N, Genre=M, Nombre=Sg\n",
        "tSik, N, Genre=M, Nombre=Pl\n",
        "tSik, N, Genre=F, Nombre=Sg\n",
        "tSik, N, Genre=F, Nombre=Pl\n",
        "simpatik, Adj, Type=ADJ, Genre=M, Nombre=Sg\n",
        "simpatik, Adj, Type=ADJ, Genre=M, Nombre=Pl\n",
        "simpatik, Adj, Type=ADJ, Genre=F, Nombre=Sg\n",
        "simpatik, Adj, Type=ADJ, Genre=F, Nombre=Pl\n",
        "brab, Adj, Type=ADJ, Genre=M, Nombre=Sg\n",
        "brab, Adj, Type=ADJ, Genre=M, Nombre=Pl\n",
        "brab, Adj, Type=ADJ, Genre=F, Nombre=Sg\n",
        "brab, Adj, Type=ADJ, Genre=F, Nombre=Pl\n",
        "blank, Adj, Type=ADJ, Genre=M, Nombre=Sg\n",
        "blank, Adj, Type=ADJ, Genre=M, Nombre=Pl\n",
        "blank, Adj, Type=ADJ, Genre=F, Nombre=Sg\n",
        "blank, Adj, Type=ADJ, Genre=F, Nombre=Pl\n",
        "kome, V, Type=V, Personne-Nombre=1SG\n",
        "kome, V, Type=V, Personne-Nombre=2SG\n",
        "kome, V, Type=V, Personne-Nombre=3SG\n",
        "kome, V, Type=V, Personne-Nombre=1PL\n",
        "kome, V, Type=V, Personne-Nombre=2PL\n",
        "kome, V, Type=V, Personne-Nombre=3PL\n",
        "tSarla, V, Type=V, Personne-Nombre=1SG\n",
        "tSarla, V, Type=V, Personne-Nombre=2SG\n",
        "tSarla, V, Type=V, Personne-Nombre=3SG\n",
        "tSarla, V, Type=V, Personne-Nombre=1PL\n",
        "tSarla, V, Type=V, Personne-Nombre=2PL\n",
        "tSarla, V, Type=V, Personne-Nombre=3PL\n",
        "l, Det, Type=DEF, Genre=M, Nombre=Sg\n",
        "l, Det, Type=DEF, Genre=M, Nombre=Pl\n",
        "l, Det, Type=DEF, Genre=F, Nombre=Sg\n",
        "l, Det, Type=DEF, Genre=F, Nombre=Pl\n",
        "un, Det, Type=IND, Genre=M, Nombre=Sg\n",
        "un, Det, Type=IND, Genre=M, Nombre=Pl\n",
        "un, Det, Type=IND, Genre=F, Nombre=Sg\n",
        "un, Det, Type=IND, Genre=F, Nombre=Pl\n",
        "est, Det, Type=DEM, Genre=M, Nombre=Sg\n",
        "est, Det, Type=DEM, Genre=M, Nombre=Pl\n",
        "est, Det, Type=DEM, Genre=F, Nombre=Sg\n",
        "est, Det, Type=DEM, Genre=F, Nombre=Pl\n"
       ]
      }
     ],
     "prompt_number": 127
    },
    {
     "cell_type": "heading",
     "level": 1,
     "metadata": {},
     "source": [
      "Partie 2 : Importer les blocks"
     ]
    },
    {
     "cell_type": "code",
     "collapsed": true,
     "input": [
      "blocks = []\n",
      "lists = []\n",
      "cat_block = \"\"\n",
      "for b in blocks_file:\n",
      "    b=b.strip()\n",
      "    # gestion de la premi\u00e8re ligne : cat\u00e9gorie grammaticale\n",
      "    if b != \"=\":\n",
      "        if \":\" in b:\n",
      "            b = b.split(\"-\")\n",
      "            b = b[0].strip()\n",
      "            cat_block = b\n",
      "        else:\n",
      "            lists.append(b)\n",
      "    elif \"=\" in b: \n",
      "        blocks.append((cat_block, order(lists)))\n",
      "        lists = []"
     ],
     "language": "python",
     "metadata": {},
     "outputs": [],
     "prompt_number": 128
    },
    {
     "cell_type": "code",
     "collapsed": true,
     "input": [
      "for b in blocks:\n",
      "    print(b)"
     ],
     "language": "python",
     "metadata": {},
     "outputs": [
      {
       "output_type": "stream",
       "stream": "stdout",
       "text": [
        "('N', ['Genre=M > o', 'Genre=F > a'])\n",
        "('N', ['Nombre=Pl > s'])\n",
        "('V', ['Personne-Nombre=3PL > n', 'Personne-Nombre=2SG > s', 'Personne-Nombre=2PL > js', 'Personne-Nombre=1PL > mos'])\n",
        "('Adj', ['Genre=M > o', 'Genre=F > a'])\n",
        "('Adj', ['Nombre=Pl > s'])\n",
        "('Det', ['Genre=M > o', 'Genre=F > a'])\n",
        "('Det', ['Nombre=Pl > s'])\n"
       ]
      }
     ],
     "prompt_number": 129
    },
    {
     "cell_type": "heading",
     "level": 1,
     "metadata": {},
     "source": [
      "Partie 3 : g\u00e9n\u00e9rer les formes fl\u00e9chies"
     ]
    },
    {
     "cell_type": "code",
     "collapsed": true,
     "input": [
      "output = []\n",
      "for l in lex:\n",
      "    modified = l.split(\", \")\n",
      "    traits_lexeme = l.split(\", \")[2:]\n",
      "    for b in blocks:\n",
      "        if l.split(\", \")[1] == b[0]:    # si la cat\u00e9gorie du lex\u00e8me correspond \u00e0 celle du bloc\n",
      "            a = False                   # False = r\u00e8gle du bloc pas encore appliqu\u00e9e\n",
      "            for c in b[1]:              # pour chaque r\u00e8gle du bloc\n",
      "                splitted = c.split(\" > \")\n",
      "                ajout = splitted[1]\n",
      "                traits_block = splitted[0].split(\", \")\n",
      "                if a == (False \n",
      "                         and len(set(traits_block+traits_lexeme)) <= len(traits_lexeme) \n",
      "                         or len(set(traits_block+traits_lexeme)) <= len(traits_block)):\n",
      "                    a = True\n",
      "                    modified[0] += ajout\n",
      "    form = modified[0]                             # forme fl\u00e9chie\n",
      "    francais = traduction[l.split(\", \")[0]]   # traduction en fran\u00e7ais\n",
      "    categ = modified[1]                            # cat\u00e9gorie grammaticale\n",
      "    traits_str = \", \".join(modified[2:])           # liste des traits joints par \", \"\n",
      "    ### ins\u00e9rer ci-dessous la mise en page \n",
      "    commande1 = \"\\\\newcommand{\\\\\"+francais+traits_str+\"}{\\\\strutgb{0pt}\\\\grapho{\"+form+\"}}\"\n",
      "    commande2 = \"\\\\newcommand{\\\\\"+francais+traits_str+\"P}{\\\\textipa{\"+form+\"}}\"\n",
      "    commande3 = \"\\\\newcommand{\\\\\"+francais+traits_str+\"G}{\\\\textipa{\"+francais+traits_str+\"}}\"\n",
      "    ###\n",
      "    output.append(commande1)\n",
      "    output.append(commande2)\n",
      "    output.append(commande3)"
     ],
     "language": "python",
     "metadata": {},
     "outputs": [],
     "prompt_number": 133
    },
    {
     "cell_type": "code",
     "collapsed": true,
     "input": [
      "for o in output:\n",
      "    print(o)"
     ],
     "language": "python",
     "metadata": {},
     "outputs": [
      {
       "output_type": "stream",
       "stream": "stdout",
       "text": [
        "\\newcommand{\\filleGenre=M, Nombre=Sg}{\\strutgb{0pt}\\grapho{tSikos}}\n",
        "\\newcommand{\\filleGenre=M, Nombre=SgP}{\\textipa{tSikos}}\n",
        "\\newcommand{\\filleGenre=M, Nombre=SgG}{\\textipa{filleGenre=M, Nombre=Sg}}\n",
        "\\newcommand{\\filleGenre=M, Nombre=Pl}{\\strutgb{0pt}\\grapho{tSikos}}\n",
        "\\newcommand{\\filleGenre=M, Nombre=PlP}{\\textipa{tSikos}}\n",
        "\\newcommand{\\filleGenre=M, Nombre=PlG}{\\textipa{filleGenre=M, Nombre=Pl}}\n",
        "\\newcommand{\\filleGenre=F, Nombre=Sg}{\\strutgb{0pt}\\grapho{tSikos}}\n",
        "\\newcommand{\\filleGenre=F, Nombre=SgP}{\\textipa{tSikos}}\n",
        "\\newcommand{\\filleGenre=F, Nombre=SgG}{\\textipa{filleGenre=F, Nombre=Sg}}\n",
        "\\newcommand{\\filleGenre=F, Nombre=Pl}{\\strutgb{0pt}\\grapho{tSikos}}\n",
        "\\newcommand{\\filleGenre=F, Nombre=PlP}{\\textipa{tSikos}}\n",
        "\\newcommand{\\filleGenre=F, Nombre=PlG}{\\textipa{filleGenre=F, Nombre=Pl}}\n",
        "\\newcommand{\\sympaType=ADJ, Genre=M, Nombre=Sg}{\\strutgb{0pt}\\grapho{simpatikos}}\n",
        "\\newcommand{\\sympaType=ADJ, Genre=M, Nombre=SgP}{\\textipa{simpatikos}}\n",
        "\\newcommand{\\sympaType=ADJ, Genre=M, Nombre=SgG}{\\textipa{sympaType=ADJ, Genre=M, Nombre=Sg}}\n",
        "\\newcommand{\\sympaType=ADJ, Genre=M, Nombre=Pl}{\\strutgb{0pt}\\grapho{simpatikos}}\n",
        "\\newcommand{\\sympaType=ADJ, Genre=M, Nombre=PlP}{\\textipa{simpatikos}}\n",
        "\\newcommand{\\sympaType=ADJ, Genre=M, Nombre=PlG}{\\textipa{sympaType=ADJ, Genre=M, Nombre=Pl}}\n",
        "\\newcommand{\\sympaType=ADJ, Genre=F, Nombre=Sg}{\\strutgb{0pt}\\grapho{simpatikos}}\n",
        "\\newcommand{\\sympaType=ADJ, Genre=F, Nombre=SgP}{\\textipa{simpatikos}}\n",
        "\\newcommand{\\sympaType=ADJ, Genre=F, Nombre=SgG}{\\textipa{sympaType=ADJ, Genre=F, Nombre=Sg}}\n",
        "\\newcommand{\\sympaType=ADJ, Genre=F, Nombre=Pl}{\\strutgb{0pt}\\grapho{simpatikos}}\n",
        "\\newcommand{\\sympaType=ADJ, Genre=F, Nombre=PlP}{\\textipa{simpatikos}}\n",
        "\\newcommand{\\sympaType=ADJ, Genre=F, Nombre=PlG}{\\textipa{sympaType=ADJ, Genre=F, Nombre=Pl}}\n",
        "\\newcommand{\\braveType=ADJ, Genre=M, Nombre=Sg}{\\strutgb{0pt}\\grapho{brabos}}\n",
        "\\newcommand{\\braveType=ADJ, Genre=M, Nombre=SgP}{\\textipa{brabos}}\n",
        "\\newcommand{\\braveType=ADJ, Genre=M, Nombre=SgG}{\\textipa{braveType=ADJ, Genre=M, Nombre=Sg}}\n",
        "\\newcommand{\\braveType=ADJ, Genre=M, Nombre=Pl}{\\strutgb{0pt}\\grapho{brabos}}\n",
        "\\newcommand{\\braveType=ADJ, Genre=M, Nombre=PlP}{\\textipa{brabos}}\n",
        "\\newcommand{\\braveType=ADJ, Genre=M, Nombre=PlG}{\\textipa{braveType=ADJ, Genre=M, Nombre=Pl}}\n",
        "\\newcommand{\\braveType=ADJ, Genre=F, Nombre=Sg}{\\strutgb{0pt}\\grapho{brabos}}\n",
        "\\newcommand{\\braveType=ADJ, Genre=F, Nombre=SgP}{\\textipa{brabos}}\n",
        "\\newcommand{\\braveType=ADJ, Genre=F, Nombre=SgG}{\\textipa{braveType=ADJ, Genre=F, Nombre=Sg}}\n",
        "\\newcommand{\\braveType=ADJ, Genre=F, Nombre=Pl}{\\strutgb{0pt}\\grapho{brabos}}\n",
        "\\newcommand{\\braveType=ADJ, Genre=F, Nombre=PlP}{\\textipa{brabos}}\n",
        "\\newcommand{\\braveType=ADJ, Genre=F, Nombre=PlG}{\\textipa{braveType=ADJ, Genre=F, Nombre=Pl}}\n",
        "\\newcommand{\\blancType=ADJ, Genre=M, Nombre=Sg}{\\strutgb{0pt}\\grapho{blankos}}\n",
        "\\newcommand{\\blancType=ADJ, Genre=M, Nombre=SgP}{\\textipa{blankos}}\n",
        "\\newcommand{\\blancType=ADJ, Genre=M, Nombre=SgG}{\\textipa{blancType=ADJ, Genre=M, Nombre=Sg}}\n",
        "\\newcommand{\\blancType=ADJ, Genre=M, Nombre=Pl}{\\strutgb{0pt}\\grapho{blankos}}\n",
        "\\newcommand{\\blancType=ADJ, Genre=M, Nombre=PlP}{\\textipa{blankos}}\n",
        "\\newcommand{\\blancType=ADJ, Genre=M, Nombre=PlG}{\\textipa{blancType=ADJ, Genre=M, Nombre=Pl}}\n",
        "\\newcommand{\\blancType=ADJ, Genre=F, Nombre=Sg}{\\strutgb{0pt}\\grapho{blankos}}\n",
        "\\newcommand{\\blancType=ADJ, Genre=F, Nombre=SgP}{\\textipa{blankos}}\n",
        "\\newcommand{\\blancType=ADJ, Genre=F, Nombre=SgG}{\\textipa{blancType=ADJ, Genre=F, Nombre=Sg}}\n",
        "\\newcommand{\\blancType=ADJ, Genre=F, Nombre=Pl}{\\strutgb{0pt}\\grapho{blankos}}\n",
        "\\newcommand{\\blancType=ADJ, Genre=F, Nombre=PlP}{\\textipa{blankos}}\n",
        "\\newcommand{\\blancType=ADJ, Genre=F, Nombre=PlG}{\\textipa{blancType=ADJ, Genre=F, Nombre=Pl}}\n",
        "\\newcommand{\\mangerType=V, Personne-Nombre=1SG}{\\strutgb{0pt}\\grapho{komen}}\n",
        "\\newcommand{\\mangerType=V, Personne-Nombre=1SGP}{\\textipa{komen}}\n",
        "\\newcommand{\\mangerType=V, Personne-Nombre=1SGG}{\\textipa{mangerType=V, Personne-Nombre=1SG}}\n",
        "\\newcommand{\\mangerType=V, Personne-Nombre=2SG}{\\strutgb{0pt}\\grapho{komen}}\n",
        "\\newcommand{\\mangerType=V, Personne-Nombre=2SGP}{\\textipa{komen}}\n",
        "\\newcommand{\\mangerType=V, Personne-Nombre=2SGG}{\\textipa{mangerType=V, Personne-Nombre=2SG}}\n",
        "\\newcommand{\\mangerType=V, Personne-Nombre=3SG}{\\strutgb{0pt}\\grapho{komen}}\n",
        "\\newcommand{\\mangerType=V, Personne-Nombre=3SGP}{\\textipa{komen}}\n",
        "\\newcommand{\\mangerType=V, Personne-Nombre=3SGG}{\\textipa{mangerType=V, Personne-Nombre=3SG}}\n",
        "\\newcommand{\\mangerType=V, Personne-Nombre=1PL}{\\strutgb{0pt}\\grapho{komen}}\n",
        "\\newcommand{\\mangerType=V, Personne-Nombre=1PLP}{\\textipa{komen}}\n",
        "\\newcommand{\\mangerType=V, Personne-Nombre=1PLG}{\\textipa{mangerType=V, Personne-Nombre=1PL}}\n",
        "\\newcommand{\\mangerType=V, Personne-Nombre=2PL}{\\strutgb{0pt}\\grapho{komen}}\n",
        "\\newcommand{\\mangerType=V, Personne-Nombre=2PLP}{\\textipa{komen}}\n",
        "\\newcommand{\\mangerType=V, Personne-Nombre=2PLG}{\\textipa{mangerType=V, Personne-Nombre=2PL}}\n",
        "\\newcommand{\\mangerType=V, Personne-Nombre=3PL}{\\strutgb{0pt}\\grapho{komen}}\n",
        "\\newcommand{\\mangerType=V, Personne-Nombre=3PLP}{\\textipa{komen}}\n",
        "\\newcommand{\\mangerType=V, Personne-Nombre=3PLG}{\\textipa{mangerType=V, Personne-Nombre=3PL}}\n",
        "\\newcommand{\\parlerType=V, Personne-Nombre=1SG}{\\strutgb{0pt}\\grapho{tSarlan}}\n",
        "\\newcommand{\\parlerType=V, Personne-Nombre=1SGP}{\\textipa{tSarlan}}\n",
        "\\newcommand{\\parlerType=V, Personne-Nombre=1SGG}{\\textipa{parlerType=V, Personne-Nombre=1SG}}\n",
        "\\newcommand{\\parlerType=V, Personne-Nombre=2SG}{\\strutgb{0pt}\\grapho{tSarlan}}\n",
        "\\newcommand{\\parlerType=V, Personne-Nombre=2SGP}{\\textipa{tSarlan}}\n",
        "\\newcommand{\\parlerType=V, Personne-Nombre=2SGG}{\\textipa{parlerType=V, Personne-Nombre=2SG}}\n",
        "\\newcommand{\\parlerType=V, Personne-Nombre=3SG}{\\strutgb{0pt}\\grapho{tSarlan}}\n",
        "\\newcommand{\\parlerType=V, Personne-Nombre=3SGP}{\\textipa{tSarlan}}\n",
        "\\newcommand{\\parlerType=V, Personne-Nombre=3SGG}{\\textipa{parlerType=V, Personne-Nombre=3SG}}\n",
        "\\newcommand{\\parlerType=V, Personne-Nombre=1PL}{\\strutgb{0pt}\\grapho{tSarlan}}\n",
        "\\newcommand{\\parlerType=V, Personne-Nombre=1PLP}{\\textipa{tSarlan}}\n",
        "\\newcommand{\\parlerType=V, Personne-Nombre=1PLG}{\\textipa{parlerType=V, Personne-Nombre=1PL}}\n",
        "\\newcommand{\\parlerType=V, Personne-Nombre=2PL}{\\strutgb{0pt}\\grapho{tSarlan}}\n",
        "\\newcommand{\\parlerType=V, Personne-Nombre=2PLP}{\\textipa{tSarlan}}\n",
        "\\newcommand{\\parlerType=V, Personne-Nombre=2PLG}{\\textipa{parlerType=V, Personne-Nombre=2PL}}\n",
        "\\newcommand{\\parlerType=V, Personne-Nombre=3PL}{\\strutgb{0pt}\\grapho{tSarlan}}\n",
        "\\newcommand{\\parlerType=V, Personne-Nombre=3PLP}{\\textipa{tSarlan}}\n",
        "\\newcommand{\\parlerType=V, Personne-Nombre=3PLG}{\\textipa{parlerType=V, Personne-Nombre=3PL}}\n",
        "\\newcommand{\\DEFType=DEF, Genre=M, Nombre=Sg}{\\strutgb{0pt}\\grapho{los}}\n",
        "\\newcommand{\\DEFType=DEF, Genre=M, Nombre=SgP}{\\textipa{los}}\n",
        "\\newcommand{\\DEFType=DEF, Genre=M, Nombre=SgG}{\\textipa{DEFType=DEF, Genre=M, Nombre=Sg}}\n",
        "\\newcommand{\\DEFType=DEF, Genre=M, Nombre=Pl}{\\strutgb{0pt}\\grapho{los}}\n",
        "\\newcommand{\\DEFType=DEF, Genre=M, Nombre=PlP}{\\textipa{los}}\n",
        "\\newcommand{\\DEFType=DEF, Genre=M, Nombre=PlG}{\\textipa{DEFType=DEF, Genre=M, Nombre=Pl}}\n",
        "\\newcommand{\\DEFType=DEF, Genre=F, Nombre=Sg}{\\strutgb{0pt}\\grapho{los}}\n",
        "\\newcommand{\\DEFType=DEF, Genre=F, Nombre=SgP}{\\textipa{los}}\n",
        "\\newcommand{\\DEFType=DEF, Genre=F, Nombre=SgG}{\\textipa{DEFType=DEF, Genre=F, Nombre=Sg}}\n",
        "\\newcommand{\\DEFType=DEF, Genre=F, Nombre=Pl}{\\strutgb{0pt}\\grapho{los}}\n",
        "\\newcommand{\\DEFType=DEF, Genre=F, Nombre=PlP}{\\textipa{los}}\n",
        "\\newcommand{\\DEFType=DEF, Genre=F, Nombre=PlG}{\\textipa{DEFType=DEF, Genre=F, Nombre=Pl}}\n",
        "\\newcommand{\\INDType=IND, Genre=M, Nombre=Sg}{\\strutgb{0pt}\\grapho{unos}}\n",
        "\\newcommand{\\INDType=IND, Genre=M, Nombre=SgP}{\\textipa{unos}}\n",
        "\\newcommand{\\INDType=IND, Genre=M, Nombre=SgG}{\\textipa{INDType=IND, Genre=M, Nombre=Sg}}\n",
        "\\newcommand{\\INDType=IND, Genre=M, Nombre=Pl}{\\strutgb{0pt}\\grapho{unos}}\n",
        "\\newcommand{\\INDType=IND, Genre=M, Nombre=PlP}{\\textipa{unos}}\n",
        "\\newcommand{\\INDType=IND, Genre=M, Nombre=PlG}{\\textipa{INDType=IND, Genre=M, Nombre=Pl}}\n",
        "\\newcommand{\\INDType=IND, Genre=F, Nombre=Sg}{\\strutgb{0pt}\\grapho{unos}}\n",
        "\\newcommand{\\INDType=IND, Genre=F, Nombre=SgP}{\\textipa{unos}}\n",
        "\\newcommand{\\INDType=IND, Genre=F, Nombre=SgG}{\\textipa{INDType=IND, Genre=F, Nombre=Sg}}\n",
        "\\newcommand{\\INDType=IND, Genre=F, Nombre=Pl}{\\strutgb{0pt}\\grapho{unos}}\n",
        "\\newcommand{\\INDType=IND, Genre=F, Nombre=PlP}{\\textipa{unos}}\n",
        "\\newcommand{\\INDType=IND, Genre=F, Nombre=PlG}{\\textipa{INDType=IND, Genre=F, Nombre=Pl}}\n",
        "\\newcommand{\\DEMType=DEM, Genre=M, Nombre=Sg}{\\strutgb{0pt}\\grapho{estos}}\n",
        "\\newcommand{\\DEMType=DEM, Genre=M, Nombre=SgP}{\\textipa{estos}}\n",
        "\\newcommand{\\DEMType=DEM, Genre=M, Nombre=SgG}{\\textipa{DEMType=DEM, Genre=M, Nombre=Sg}}\n",
        "\\newcommand{\\DEMType=DEM, Genre=M, Nombre=Pl}{\\strutgb{0pt}\\grapho{estos}}\n",
        "\\newcommand{\\DEMType=DEM, Genre=M, Nombre=PlP}{\\textipa{estos}}\n",
        "\\newcommand{\\DEMType=DEM, Genre=M, Nombre=PlG}{\\textipa{DEMType=DEM, Genre=M, Nombre=Pl}}\n",
        "\\newcommand{\\DEMType=DEM, Genre=F, Nombre=Sg}{\\strutgb{0pt}\\grapho{estos}}\n",
        "\\newcommand{\\DEMType=DEM, Genre=F, Nombre=SgP}{\\textipa{estos}}\n",
        "\\newcommand{\\DEMType=DEM, Genre=F, Nombre=SgG}{\\textipa{DEMType=DEM, Genre=F, Nombre=Sg}}\n",
        "\\newcommand{\\DEMType=DEM, Genre=F, Nombre=Pl}{\\strutgb{0pt}\\grapho{estos}}\n",
        "\\newcommand{\\DEMType=DEM, Genre=F, Nombre=PlP}{\\textipa{estos}}\n",
        "\\newcommand{\\DEMType=DEM, Genre=F, Nombre=PlG}{\\textipa{DEMType=DEM, Genre=F, Nombre=Pl}}\n"
       ]
      }
     ],
     "prompt_number": 134
    },
    {
     "cell_type": "markdown",
     "metadata": {},
     "source": [
      "# \u00e9crit le paradigme fl\u00e9chi dans un fichier\n",
      "with open(\"paradigme_fl\u00e9chi.txt\", \"a\") as f:\n",
      "    for o in output:\n",
      "        f.write(o)\n",
      "        f.write(\"\\n\")"
     ]
    },
    {
     "cell_type": "code",
     "collapsed": true,
     "input": [],
     "language": "python",
     "metadata": {},
     "outputs": []
    }
   ],
   "metadata": {}
  }
 ]
}
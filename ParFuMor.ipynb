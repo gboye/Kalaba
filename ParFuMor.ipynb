{
 "metadata": {
  "name": "",
  "signature": "sha256:7c64ba6e6769c0793f2c8d5c792fb54271204c097e85facb20cd16c2c694a133"
 },
 "nbformat": 3,
 "nbformat_minor": 0,
 "worksheets": [
  {
   "cells": [
    {
     "cell_type": "markdown",
     "metadata": {},
     "source": [
      "#ParFuMor (version YAML & Objets)"
     ]
    },
    {
     "cell_type": "code",
     "collapsed": false,
     "input": [
      "import yaml\n",
      "import itertools\n",
      "#import re\n",
      "import ParFuMor as PFM\n",
      "from ParFuMor import *\n",
      "import pickle"
     ],
     "language": "python",
     "metadata": {},
     "outputs": [],
     "prompt_number": 1
    },
    {
     "cell_type": "code",
     "collapsed": false,
     "input": [
      "with open(\"Kalaba-Gloses.yaml\", 'r') as stream:\n",
      "    gloses=yaml.load(stream)\n",
      "    PFM.gloses=gloses\n",
      "with open(\"Kalaba-Stems.yaml\", 'r') as stream:\n",
      "    stems=yaml.load(stream)\n",
      "    PFM.stems=stems\n",
      "with open(\"Kalaba-Blocks.yaml\", 'r') as stream:\n",
      "    blocks=yaml.load(stream)\n",
      "    PFM.blocks=blocks\n",
      "with open(\"Kalaba-Phonology.yaml\", 'r') as stream:\n",
      "    phonology=yaml.load(stream)\n",
      "    PFM.phonology=phonology"
     ],
     "language": "python",
     "metadata": {},
     "outputs": [],
     "prompt_number": 2
    },
    {
     "cell_type": "code",
     "collapsed": false,
     "input": [
      "regles=Regles()\n",
      "PFM.regles=regles\n",
      "for categorie in blocks:\n",
      "    regles.addBlocs(categorie,blocks[categorie])\n"
     ],
     "language": "python",
     "metadata": {},
     "outputs": [],
     "prompt_number": 3
    },
    {
     "cell_type": "code",
     "collapsed": true,
     "input": [
      "paradigmes=Paradigmes()\n",
      "PFM.paradigmes=paradigmes\n",
      "for cat in gloses:\n",
      "    attributes=[]\n",
      "    if gloses[cat]:\n",
      "        for attribute in gloses[cat]:\n",
      "            attributes.append(gloses[cat][attribute])\n",
      "        nuplets=(itertools.product(*attributes))\n",
      "        for nuplet in nuplets:\n",
      "            proprietes=[cat]\n",
      "            for element in range(len(nuplet)):\n",
      "                proprietes.append(\"%s=%s\"%(gloses[cat].keys()[element],nuplet[element]))\n",
      "            paradigmes.addForme(cat,proprietes)"
     ],
     "language": "python",
     "metadata": {},
     "outputs": [],
     "prompt_number": 4
    },
    {
     "cell_type": "code",
     "collapsed": false,
     "input": [
      "hierarchieCF=HierarchieCF()\n",
      "PFM.hierarchieCF=hierarchieCF\n",
      "lexique=Lexique()\n",
      "PFM.lexique=lexique\n"
     ],
     "language": "python",
     "metadata": {},
     "outputs": [],
     "prompt_number": 5
    },
    {
     "cell_type": "code",
     "collapsed": false,
     "input": [
      "analyserGloses(gloses)\n",
      "analyserStems(stems)"
     ],
     "language": "python",
     "metadata": {},
     "outputs": [],
     "prompt_number": 6
    },
    {
     "cell_type": "code",
     "collapsed": true,
     "input": [
      "hierarchieCF.trait"
     ],
     "language": "python",
     "metadata": {},
     "outputs": [
      {
       "metadata": {},
       "output_type": "pyout",
       "prompt_number": 7,
       "text": [
        "{'N-A': 'Genre',\n",
        " 'N-B': 'Genre',\n",
        " 'N-C': 'Genre',\n",
        " 'N-D': 'Genre',\n",
        " 'V-VD': 'Type',\n",
        " 'V-VI': 'Type',\n",
        " 'V-VT': 'Type'}"
       ]
      }
     ],
     "prompt_number": 7
    },
    {
     "cell_type": "code",
     "collapsed": false,
     "input": [
      "paradigmes.getSigmas(\"M\")"
     ],
     "language": "python",
     "metadata": {},
     "outputs": [
      {
       "metadata": {},
       "output_type": "pyout",
       "prompt_number": 8,
       "text": [
        "['M']"
       ]
      }
     ],
     "prompt_number": 8
    },
    {
     "cell_type": "code",
     "collapsed": false,
     "input": [
      "with open('PFM-Hierarchie.pkl', 'wb') as output:\n",
      "   pickle.dump(hierarchieCF, output, pickle.HIGHEST_PROTOCOL)\n",
      "with open('PFM-Lexique.pkl', 'wb') as output:\n",
      "   pickle.dump(lexique, output, pickle.HIGHEST_PROTOCOL)\n",
      "with open('PFM-Regles.pkl', 'wb') as output:\n",
      "   pickle.dump(regles, output, pickle.HIGHEST_PROTOCOL)\n"
     ],
     "language": "python",
     "metadata": {},
     "outputs": [],
     "prompt_number": 9
    },
    {
     "cell_type": "code",
     "collapsed": false,
     "input": [
      "lexique.getLexemes(\"dormir\")"
     ],
     "language": "python",
     "metadata": {},
     "outputs": [
      {
       "metadata": {},
       "output_type": "pyout",
       "prompt_number": 10,
       "text": [
        "[briN, VI, dormir.VI\n",
        " \t\tbriN :\n",
        " \t\t\tV, Temps=PRS, Nombre-Abs=Sg, Type=VI, Genre-Abs=A:\tpabirawiNu\t\\cacherGloses{Sg-}dormir.\\cacherGloses{VI}\\cacherGloses{xPRS.A}\n",
        " \t\t\tV, Temps=PRS, Nombre-Abs=Sg, Type=VI, Genre-Abs=B:\tpabarawiNu\t\\cacherGloses{Sg-}dormir.\\cacherGloses{VI}\\cacherGloses{xPRS.B}\n",
        " \t\t\tV, Temps=PRS, Nombre-Abs=Sg, Type=VI, Genre-Abs=C:\tpaborawiNu\t\\cacherGloses{Sg-}dormir.\\cacherGloses{VI}\\cacherGloses{xPRS.C}\n",
        " \t\t\tV, Temps=PRS, Nombre-Abs=Sg, Type=VI, Genre-Abs=D:\tpaberawiNu\t\\cacherGloses{Sg-}dormir.\\cacherGloses{VI}\\cacherGloses{xPRS.D}\n",
        " \t\t\tV, Temps=PRS, Nombre-Abs=Du, Type=VI, Genre-Abs=A:\tsabirawiNu\t\\cacherGloses{Du-}dormir.\\cacherGloses{VI}\\cacherGloses{xPRS.A}\n",
        " \t\t\tV, Temps=PRS, Nombre-Abs=Du, Type=VI, Genre-Abs=B:\tsabarawiNu\t\\cacherGloses{Du-}dormir.\\cacherGloses{VI}\\cacherGloses{xPRS.B}\n",
        " \t\t\tV, Temps=PRS, Nombre-Abs=Du, Type=VI, Genre-Abs=C:\tsaborawiNu\t\\cacherGloses{Du-}dormir.\\cacherGloses{VI}\\cacherGloses{xPRS.C}\n",
        " \t\t\tV, Temps=PRS, Nombre-Abs=Du, Type=VI, Genre-Abs=D:\tsaberawiNu\t\\cacherGloses{Du-}dormir.\\cacherGloses{VI}\\cacherGloses{xPRS.D}\n",
        " \t\t\tV, Temps=PRS, Nombre-Abs=Pl, Type=VI, Genre-Abs=A:\tdabirawiNu\t\\cacherGloses{Pl-}dormir.\\cacherGloses{VI}\\cacherGloses{xPRS.A}\n",
        " \t\t\tV, Temps=PRS, Nombre-Abs=Pl, Type=VI, Genre-Abs=B:\tdabarawiNu\t\\cacherGloses{Pl-}dormir.\\cacherGloses{VI}\\cacherGloses{xPRS.B}\n",
        " \t\t\tV, Temps=PRS, Nombre-Abs=Pl, Type=VI, Genre-Abs=C:\tdaborawiNu\t\\cacherGloses{Pl-}dormir.\\cacherGloses{VI}\\cacherGloses{xPRS.C}\n",
        " \t\t\tV, Temps=PRS, Nombre-Abs=Pl, Type=VI, Genre-Abs=D:\tdaberawiNu\t\\cacherGloses{Pl-}dormir.\\cacherGloses{VI}\\cacherGloses{xPRS.D}\n",
        " \t\t\tV, Temps=PST, Nombre-Abs=Sg, Type=VI, Genre-Abs=A:\tpipaboraNi\t\\cacherGloses{Sg-}dormir.\\cacherGloses{VI}\\cacherGloses{xPST.A}\n",
        " \t\t\tV, Temps=PST, Nombre-Abs=Sg, Type=VI, Genre-Abs=B:\tpapaboruNi\t\\cacherGloses{Sg-}dormir.\\cacherGloses{VI}\\cacherGloses{xPST.B}\n",
        " \t\t\tV, Temps=PST, Nombre-Abs=Sg, Type=VI, Genre-Abs=C:\tpopaboroNi\t\\cacherGloses{Sg-}dormir.\\cacherGloses{VI}\\cacherGloses{xPST.C}\n",
        " \t\t\tV, Temps=PST, Nombre-Abs=Sg, Type=VI, Genre-Abs=D:\tpepaboroNi\t\\cacherGloses{Sg-}dormir.\\cacherGloses{VI}\\cacherGloses{xPST.D}\n",
        " \t\t\tV, Temps=PST, Nombre-Abs=Du, Type=VI, Genre-Abs=A:\tsipaboraNi\t\\cacherGloses{Du-}dormir.\\cacherGloses{VI}\\cacherGloses{xPST.A}\n",
        " \t\t\tV, Temps=PST, Nombre-Abs=Du, Type=VI, Genre-Abs=B:\tsapaboruNi\t\\cacherGloses{Du-}dormir.\\cacherGloses{VI}\\cacherGloses{xPST.B}\n",
        " \t\t\tV, Temps=PST, Nombre-Abs=Du, Type=VI, Genre-Abs=C:\tsopaboroNi\t\\cacherGloses{Du-}dormir.\\cacherGloses{VI}\\cacherGloses{xPST.C}\n",
        " \t\t\tV, Temps=PST, Nombre-Abs=Du, Type=VI, Genre-Abs=D:\tsepaboroNi\t\\cacherGloses{Du-}dormir.\\cacherGloses{VI}\\cacherGloses{xPST.D}\n",
        " \t\t\tV, Temps=PST, Nombre-Abs=Pl, Type=VI, Genre-Abs=A:\tdipaboraNi\t\\cacherGloses{Pl-}dormir.\\cacherGloses{VI}\\cacherGloses{xPST.A}\n",
        " \t\t\tV, Temps=PST, Nombre-Abs=Pl, Type=VI, Genre-Abs=B:\tdapaboruNi\t\\cacherGloses{Pl-}dormir.\\cacherGloses{VI}\\cacherGloses{xPST.B}\n",
        " \t\t\tV, Temps=PST, Nombre-Abs=Pl, Type=VI, Genre-Abs=C:\tdopaboroNi\t\\cacherGloses{Pl-}dormir.\\cacherGloses{VI}\\cacherGloses{xPST.C}\n",
        " \t\t\tV, Temps=PST, Nombre-Abs=Pl, Type=VI, Genre-Abs=D:\tdepaboroNi\t\\cacherGloses{Pl-}dormir.\\cacherGloses{VI}\\cacherGloses{xPST.D}]"
       ]
      }
     ],
     "prompt_number": 10
    },
    {
     "cell_type": "code",
     "collapsed": false,
     "input": [
      "lexique.catLexeme"
     ],
     "language": "python",
     "metadata": {},
     "outputs": [
      {
       "metadata": {},
       "output_type": "pyout",
       "prompt_number": 11,
       "text": [
        "{'ADJ': ['noir.1',\n",
        "  'grand.1',\n",
        "  'petit.1',\n",
        "  'blanc.1',\n",
        "  'bas.1',\n",
        "  'quatre.2',\n",
        "  'trois.2',\n",
        "  'jaune.2',\n",
        "  'rouge.2',\n",
        "  'gros.2',\n",
        "  'maigre.2'],\n",
        " 'DET': ['IND', 'DEF', 'DEM'],\n",
        " 'N': ['infirmi\\xc3\\xa8re.A',\n",
        "  'Katisha.A',\n",
        "  'plaine.A',\n",
        "  'viande.A',\n",
        "  'balai.A',\n",
        "  'fruit.A',\n",
        "  'fille.C',\n",
        "  'coyote.C',\n",
        "  'oeuf.C',\n",
        "  'village.C',\n",
        "  'caf\\xc3\\xa9.C',\n",
        "  'chasseur.C',\n",
        "  'Nicole.B',\n",
        "  'th\\xc3\\xa9.B',\n",
        "  'souriS.B',\n",
        "  'chambre.B',\n",
        "  'autruche.B',\n",
        "  'coussin.B',\n",
        "  'maison.D',\n",
        "  'table.D',\n",
        "  'gar\\xc3\\xa7on.D',\n",
        "  'lit.D',\n",
        "  'cuisine.D',\n",
        "  'Nabil.D',\n",
        "  'chat.D'],\n",
        " 'PREP': ['pour', 'devant', 'sur', 'dans', 'sous', '\\xc3\\xa0', 'avec', 'de'],\n",
        " 'V': ['tomber.VI',\n",
        "  'entrer.VI',\n",
        "  'arriver.VI',\n",
        "  'dormir.VI',\n",
        "  'boire.VT',\n",
        "  'supporter.VT',\n",
        "  'acheter.VT',\n",
        "  'manger.VT',\n",
        "  'chasser.VT',\n",
        "  'donner.VD',\n",
        "  'lancer.VD',\n",
        "  'offrir.VD',\n",
        "  'montrer.VD']}"
       ]
      }
     ],
     "prompt_number": 11
    },
    {
     "cell_type": "code",
     "collapsed": false,
     "input": [
      "lexique.getLexemes(\"inf\")"
     ],
     "language": "python",
     "metadata": {},
     "outputs": [
      {
       "metadata": {},
       "output_type": "pyout",
       "prompt_number": 12,
       "text": [
        "[modak, A, infirmi\u00e8re.A\n",
        " \t\tmodak :\n",
        " \t\t\tN, Genre=A, Nombre=Sg, Cas=Erg:\tremamodoke\t\\cacherGloses{Erg-}infirmi\u00e8re.\\cacherGloses{A}\\cacherGloses{xSg}\n",
        " \t\t\tN, Genre=A, Nombre=Sg, Cas=Abs:\tbomamodoke\t\\cacherGloses{Abs-}infirmi\u00e8re.\\cacherGloses{A}\\cacherGloses{xSg}\n",
        " \t\t\tN, Genre=A, Nombre=Sg, Cas=Obl:\tkomamodoke\t\\cacherGloses{Obl-}infirmi\u00e8re.\\cacherGloses{A}\\cacherGloses{xSg}\n",
        " \t\t\tN, Genre=A, Nombre=Sg, Cas=Dat:\tlimamodoke\t\\cacherGloses{Dat-}infirmi\u00e8re.\\cacherGloses{A}\\cacherGloses{xSg}\n",
        " \t\t\tN, Genre=A, Nombre=Du, Cas=Erg:\tremopodit\t\\cacherGloses{Erg-}infirmi\u00e8re.\\cacherGloses{A}\\cacherGloses{xA.Du}\n",
        " \t\t\tN, Genre=A, Nombre=Du, Cas=Abs:\tbomopodit\t\\cacherGloses{Abs-}infirmi\u00e8re.\\cacherGloses{A}\\cacherGloses{xA.Du}\n",
        " \t\t\tN, Genre=A, Nombre=Du, Cas=Obl:\tkomopodit\t\\cacherGloses{Obl-}infirmi\u00e8re.\\cacherGloses{A}\\cacherGloses{xA.Du}\n",
        " \t\t\tN, Genre=A, Nombre=Du, Cas=Dat:\tlimopodit\t\\cacherGloses{Dat-}infirmi\u00e8re.\\cacherGloses{A}\\cacherGloses{xA.Du}\n",
        " \t\t\tN, Genre=A, Nombre=Pl, Cas=Erg:\tremodopuki\t\\cacherGloses{Erg-}infirmi\u00e8re.\\cacherGloses{A}\\cacherGloses{xA.Pl}\n",
        " \t\t\tN, Genre=A, Nombre=Pl, Cas=Abs:\tbomodopuki\t\\cacherGloses{Abs-}infirmi\u00e8re.\\cacherGloses{A}\\cacherGloses{xA.Pl}\n",
        " \t\t\tN, Genre=A, Nombre=Pl, Cas=Obl:\tkomodopuki\t\\cacherGloses{Obl-}infirmi\u00e8re.\\cacherGloses{A}\\cacherGloses{xA.Pl}\n",
        " \t\t\tN, Genre=A, Nombre=Pl, Cas=Dat:\tlimodopuki\t\\cacherGloses{Dat-}infirmi\u00e8re.\\cacherGloses{A}\\cacherGloses{xA.Pl}]"
       ]
      }
     ],
     "prompt_number": 12
    },
    {
     "cell_type": "code",
     "collapsed": false,
     "input": [],
     "language": "python",
     "metadata": {},
     "outputs": [],
     "prompt_number": 12
    },
    {
     "cell_type": "code",
     "collapsed": false,
     "input": [],
     "language": "python",
     "metadata": {},
     "outputs": [],
     "prompt_number": 12
    }
   ],
   "metadata": {}
  }
 ]
}
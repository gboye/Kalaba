{
 "metadata": {
  "name": "",
  "signature": "sha256:2c9d76297bc0c5f467ca0c8a9dbb7ba2f66d944322409dd7433ba0de23416a09"
 },
 "nbformat": 3,
 "nbformat_minor": 0,
 "worksheets": [
  {
   "cells": [
    {
     "cell_type": "markdown",
     "metadata": {},
     "source": [
      "#ParFuMor (version YAML & Objets)"
     ]
    },
    {
     "cell_type": "code",
     "collapsed": false,
     "input": [
      "import yaml\n",
      "import itertools\n",
      "#import re\n",
      "import ParFuMor\n",
      "from ParFuMor import *\n",
      "import pickle"
     ],
     "language": "python",
     "metadata": {},
     "outputs": [],
     "prompt_number": 1
    },
    {
     "cell_type": "code",
     "collapsed": false,
     "input": [
      "with open(\"Kalaba-Gloses.yaml\", 'r') as stream:\n",
      "    gloses=yaml.load(stream)\n",
      "    ParFuMor.gloses=gloses\n",
      "with open(\"Kalaba-Stems.yaml\", 'r') as stream:\n",
      "    stems=yaml.load(stream)\n",
      "    ParFuMor.stems=stems\n",
      "with open(\"Kalaba-Blocks.yaml\", 'r') as stream:\n",
      "    blocks=yaml.load(stream)\n",
      "    ParFuMor.blocks=blocks\n",
      "with open(\"Kalaba-Phonology.yaml\", 'r') as stream:\n",
      "    phonology=yaml.load(stream)\n",
      "    ParFuMor.phonology=phonology"
     ],
     "language": "python",
     "metadata": {},
     "outputs": [],
     "prompt_number": 2
    },
    {
     "cell_type": "code",
     "collapsed": false,
     "input": [
      "regles=Regles()\n",
      "ParFuMor.regles=regles\n",
      "for categorie in blocks:\n",
      "    regles.addBlocs(categorie,blocks[categorie])\n"
     ],
     "language": "python",
     "metadata": {},
     "outputs": [],
     "prompt_number": 3
    },
    {
     "cell_type": "code",
     "collapsed": true,
     "input": [
      "paradigmes=Paradigmes()\n",
      "ParFuMor.paradigmes=paradigmes\n",
      "for cat in gloses:\n",
      "    attributes=[]\n",
      "    if gloses[cat]:\n",
      "        for attribute in gloses[cat]:\n",
      "            attributes.append(gloses[cat][attribute])\n",
      "        nuplets=(itertools.product(*attributes))\n",
      "        for nuplet in nuplets:\n",
      "            proprietes=[cat]\n",
      "            for element in range(len(nuplet)):\n",
      "                proprietes.append(\"%s=%s\"%(gloses[cat].keys()[element],nuplet[element]))\n",
      "            paradigmes.addForme(cat,proprietes)"
     ],
     "language": "python",
     "metadata": {},
     "outputs": [],
     "prompt_number": 4
    },
    {
     "cell_type": "code",
     "collapsed": false,
     "input": [
      "hierarchieCF=HierarchieCF()\n",
      "ParFuMor.hierarchieCF=hierarchieCF\n",
      "lexique=Lexique()\n",
      "ParFuMor.lexique=lexique\n"
     ],
     "language": "python",
     "metadata": {},
     "outputs": [],
     "prompt_number": 5
    },
    {
     "cell_type": "code",
     "collapsed": false,
     "input": [
      "analyserGloses(gloses)\n",
      "analyserStems(stems)"
     ],
     "language": "python",
     "metadata": {},
     "outputs": [],
     "prompt_number": 6
    },
    {
     "cell_type": "code",
     "collapsed": true,
     "input": [
      "hierarchieCF.trait"
     ],
     "language": "python",
     "metadata": {},
     "outputs": [
      {
       "metadata": {},
       "output_type": "pyout",
       "prompt_number": 7,
       "text": [
        "{'DET-DEF': 'Type',\n",
        " 'DET-DEM': 'Type',\n",
        " 'DET-IND': 'Type',\n",
        " 'N-A': 'Genre',\n",
        " 'N-F': 'Genre',\n",
        " 'N-I': 'Genre',\n",
        " 'N-M': 'Genre',\n",
        " 'V-VI': 'Type',\n",
        " 'V-VT': 'Type'}"
       ]
      }
     ],
     "prompt_number": 7
    },
    {
     "cell_type": "code",
     "collapsed": false,
     "input": [
      "paradigmes.getSigmas(\"M\")"
     ],
     "language": "python",
     "metadata": {},
     "outputs": [
      {
       "metadata": {},
       "output_type": "pyout",
       "prompt_number": 8,
       "text": [
        "['N, Genre=M, Nombre=Sg, Cas=Erg',\n",
        " 'N, Genre=M, Nombre=Sg, Cas=Abs',\n",
        " 'N, Genre=M, Nombre=Sg, Cas=Nu',\n",
        " 'N, Genre=M, Nombre=Du, Cas=Erg',\n",
        " 'N, Genre=M, Nombre=Du, Cas=Abs',\n",
        " 'N, Genre=M, Nombre=Du, Cas=Nu',\n",
        " 'N, Genre=M, Nombre=Pl, Cas=Erg',\n",
        " 'N, Genre=M, Nombre=Pl, Cas=Abs',\n",
        " 'N, Genre=M, Nombre=Pl, Cas=Nu']"
       ]
      }
     ],
     "prompt_number": 8
    },
    {
     "cell_type": "code",
     "collapsed": false,
     "input": [
      "with open('Hierarchie.pkl', 'wb') as output:\n",
      "   pickle.dump(hierarchieCF, output, pickle.HIGHEST_PROTOCOL)\n",
      "with open('Lexique.pkl', 'wb') as output:\n",
      "   pickle.dump(lexique, output, pickle.HIGHEST_PROTOCOL)\n",
      "with open('Regles.pkl', 'wb') as output:\n",
      "   pickle.dump(regles, output, pickle.HIGHEST_PROTOCOL)\n"
     ],
     "language": "python",
     "metadata": {},
     "outputs": [],
     "prompt_number": 9
    },
    {
     "cell_type": "code",
     "collapsed": false,
     "input": [
      "lexique.getLexemes(\"man\")"
     ],
     "language": "python",
     "metadata": {},
     "outputs": [
      {
       "metadata": {},
       "output_type": "pyout",
       "prompt_number": 10,
       "text": [
        "[bogot, VT, manger.VT\n",
        " \t\tbogot :\n",
        " \t\t\tV, Nombre-Abs=Sg, Type=VT, Genre-Abs=H:\tsijabgotur\tVT.Sg+manger.VTxVT+VT.Sg\n",
        " \t\t\tV, Nombre-Abs=Sg, Type=VT, Genre-Abs=Nh:\tsijabgotur\tVT.Sg+manger.VTxVT+VT.Sg\n",
        " \t\t\tV, Nombre-Abs=Du, Type=VT, Genre-Abs=H:\tjabgotudu\tmanger.VTxVT-VT.Du\n",
        " \t\t\tV, Nombre-Abs=Du, Type=VT, Genre-Abs=Nh:\tjabgotudu\tmanger.VTxVT-VT.Du\n",
        " \t\t\tV, Nombre-Abs=Pl, Type=VT, Genre-Abs=H:\tlujabgotu\tVT.Pl-manger.VTxVT\n",
        " \t\t\tV, Nombre-Abs=Pl, Type=VT, Genre-Abs=Nh:\tlujabgotu\tVT.Pl-manger.VTxVT]"
       ]
      }
     ],
     "prompt_number": 10
    },
    {
     "cell_type": "code",
     "collapsed": false,
     "input": [
      "hierarchieCF.superieur"
     ],
     "language": "python",
     "metadata": {},
     "outputs": [
      {
       "metadata": {},
       "output_type": "pyout",
       "prompt_number": 11,
       "text": [
        "{'A': 'Nh',\n",
        " 'DEF': 'DET',\n",
        " 'DEM': 'DET',\n",
        " 'F': 'H',\n",
        " 'H': 'N',\n",
        " 'I': 'Nh',\n",
        " 'IND': 'DET',\n",
        " 'M': 'H',\n",
        " 'Nh': 'N',\n",
        " 'VI': 'V',\n",
        " 'VT': 'V'}"
       ]
      }
     ],
     "prompt_number": 11
    },
    {
     "cell_type": "code",
     "collapsed": false,
     "input": [],
     "language": "python",
     "metadata": {},
     "outputs": [],
     "prompt_number": 11
    }
   ],
   "metadata": {}
  }
 ]
}
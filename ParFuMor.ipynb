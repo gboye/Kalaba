{
 "metadata": {
  "name": "",
  "signature": "sha256:5c8b233a6b4d33b62aa91b664bd15ba4c780709d121eecd0ab1e2c5e9bb8b945"
 },
 "nbformat": 3,
 "nbformat_minor": 0,
 "worksheets": [
  {
   "cells": [
    {
     "cell_type": "markdown",
     "metadata": {},
     "source": [
      "#ParFuMor (version YAML & Objets)"
     ]
    },
    {
     "cell_type": "code",
     "collapsed": false,
     "input": [
      "import yaml\n",
      "import itertools\n",
      "#import re\n",
      "import ParFuMor as PFM\n",
      "from ParFuMor import *\n",
      "import pickle"
     ],
     "language": "python",
     "metadata": {},
     "outputs": [],
     "prompt_number": 1
    },
    {
     "cell_type": "code",
     "collapsed": false,
     "input": [
      "with open(\"Kalaba-Gloses.yaml\", 'r') as stream:\n",
      "    gloses=yaml.load(stream)\n",
      "    PFM.gloses=gloses\n",
      "with open(\"Kalaba-Stems.yaml\", 'r') as stream:\n",
      "    stems=yaml.load(stream)\n",
      "    PFM.stems=stems\n",
      "with open(\"Kalaba-Blocks.yaml\", 'r') as stream:\n",
      "    blocks=yaml.load(stream)\n",
      "    PFM.blocks=blocks\n",
      "with open(\"Kalaba-Phonology.yaml\", 'r') as stream:\n",
      "    phonology=yaml.load(stream)\n",
      "    PFM.phonology=phonology"
     ],
     "language": "python",
     "metadata": {},
     "outputs": [],
     "prompt_number": 2
    },
    {
     "cell_type": "code",
     "collapsed": false,
     "input": [
      "regles=Regles()\n",
      "PFM.regles=regles\n",
      "for categorie in blocks:\n",
      "    regles.addBlocs(categorie,blocks[categorie])\n"
     ],
     "language": "python",
     "metadata": {},
     "outputs": [],
     "prompt_number": 3
    },
    {
     "cell_type": "code",
     "collapsed": true,
     "input": [
      "paradigmes=Paradigmes()\n",
      "PFM.paradigmes=paradigmes\n",
      "for cat in gloses:\n",
      "    attributes=[]\n",
      "    if gloses[cat]:\n",
      "        for attribute in gloses[cat]:\n",
      "            attributes.append(gloses[cat][attribute])\n",
      "        nuplets=(itertools.product(*attributes))\n",
      "        for nuplet in nuplets:\n",
      "            proprietes=[cat]\n",
      "            for element in range(len(nuplet)):\n",
      "                proprietes.append(\"%s=%s\"%(gloses[cat].keys()[element],nuplet[element]))\n",
      "            paradigmes.addForme(cat,proprietes)"
     ],
     "language": "python",
     "metadata": {},
     "outputs": [],
     "prompt_number": 4
    },
    {
     "cell_type": "code",
     "collapsed": false,
     "input": [
      "hierarchieCF=HierarchieCF()\n",
      "PFM.hierarchieCF=hierarchieCF\n",
      "lexique=Lexique()\n",
      "PFM.lexique=lexique\n"
     ],
     "language": "python",
     "metadata": {},
     "outputs": [],
     "prompt_number": 5
    },
    {
     "cell_type": "code",
     "collapsed": false,
     "input": [
      "analyserGloses(gloses)\n",
      "analyserStems(stems)"
     ],
     "language": "python",
     "metadata": {},
     "outputs": [],
     "prompt_number": 6
    },
    {
     "cell_type": "code",
     "collapsed": true,
     "input": [
      "hierarchieCF.trait"
     ],
     "language": "python",
     "metadata": {},
     "outputs": [
      {
       "metadata": {},
       "output_type": "pyout",
       "prompt_number": 7,
       "text": [
        "{'DET-DEF': 'Type',\n",
        " 'DET-DEM': 'Type',\n",
        " 'DET-IND': 'Type',\n",
        " 'N-A': 'Genre',\n",
        " 'N-F': 'Genre',\n",
        " 'N-I': 'Genre',\n",
        " 'N-M': 'Genre',\n",
        " 'V-VI': 'Type',\n",
        " 'V-VT': 'Type'}"
       ]
      }
     ],
     "prompt_number": 7
    },
    {
     "cell_type": "code",
     "collapsed": false,
     "input": [
      "paradigmes.getSigmas(\"M\")"
     ],
     "language": "python",
     "metadata": {},
     "outputs": [
      {
       "metadata": {},
       "output_type": "pyout",
       "prompt_number": 8,
       "text": [
        "['N, Genre=M, Nombre=Sg, Cas=Erg',\n",
        " 'N, Genre=M, Nombre=Sg, Cas=Abs',\n",
        " 'N, Genre=M, Nombre=Sg, Cas=Nu',\n",
        " 'N, Genre=M, Nombre=Du, Cas=Erg',\n",
        " 'N, Genre=M, Nombre=Du, Cas=Abs',\n",
        " 'N, Genre=M, Nombre=Du, Cas=Nu',\n",
        " 'N, Genre=M, Nombre=Pl, Cas=Erg',\n",
        " 'N, Genre=M, Nombre=Pl, Cas=Abs',\n",
        " 'N, Genre=M, Nombre=Pl, Cas=Nu']"
       ]
      }
     ],
     "prompt_number": 8
    },
    {
     "cell_type": "code",
     "collapsed": false,
     "input": [
      "with open('PFM-Hierarchie.pkl', 'wb') as output:\n",
      "   pickle.dump(hierarchieCF, output, pickle.HIGHEST_PROTOCOL)\n",
      "with open('PFM-Lexique.pkl', 'wb') as output:\n",
      "   pickle.dump(lexique, output, pickle.HIGHEST_PROTOCOL)\n",
      "with open('PFM-Regles.pkl', 'wb') as output:\n",
      "   pickle.dump(regles, output, pickle.HIGHEST_PROTOCOL)\n"
     ],
     "language": "python",
     "metadata": {},
     "outputs": [],
     "prompt_number": 9
    },
    {
     "cell_type": "code",
     "collapsed": false,
     "input": [
      "lexique.getLexemes(\"IND\")"
     ],
     "language": "python",
     "metadata": {},
     "outputs": [
      {
       "metadata": {},
       "output_type": "pyout",
       "prompt_number": 10,
       "text": [
        "[l, IND, IND.IND\n",
        " \t\tl :\n",
        " \t\t\tDET, Nombre=Sg, Type=IND:\tili\t\\blanc{Sg-}IND\\blanc{.IND}\\blanc{-IND}\n",
        " \t\t\tDET, Nombre=Du, Type=IND:\tuli\t\\blanc{Du-}IND\\blanc{.IND}\\blanc{-IND}\n",
        " \t\t\tDET, Nombre=Pl, Type=IND:\teli\t\\blanc{Pl-}IND\\blanc{.IND}\\blanc{-IND}]"
       ]
      }
     ],
     "prompt_number": 10
    },
    {
     "cell_type": "code",
     "collapsed": false,
     "input": [
      "lexique.catLexeme[\"N\"]"
     ],
     "language": "python",
     "metadata": {},
     "outputs": [
      {
       "metadata": {},
       "output_type": "pyout",
       "prompt_number": 11,
       "text": [
        "['autruche.A',\n",
        " 'chat.A',\n",
        " 'souris.A',\n",
        " 'table.I',\n",
        " 'oeuf.I',\n",
        " 'caf\\xc3\\xa9.I',\n",
        " 'th\\xc3\\xa9.I',\n",
        " 'chambre.I',\n",
        " 'coussin.I',\n",
        " 'lit.I',\n",
        " 'Adil.M',\n",
        " 'pompier.M',\n",
        " 'Adonis.M',\n",
        " 'gar\\xc3\\xa7on.M',\n",
        " 'Isabelle.F',\n",
        " 'infirmi\\xc3\\xa8re.F',\n",
        " 'fille.F',\n",
        " 'In\\xc3\\xa8s.F']"
       ]
      }
     ],
     "prompt_number": 11
    },
    {
     "cell_type": "code",
     "collapsed": false,
     "input": [],
     "language": "python",
     "metadata": {},
     "outputs": [],
     "prompt_number": 11
    }
   ],
   "metadata": {}
  }
 ]
}
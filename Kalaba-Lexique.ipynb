{
 "metadata": {
  "name": "",
  "signature": "sha256:6e6b1705923c570070c9bcda057266adced38560345ac9ca2447fc59edbb6bc0"
 },
 "nbformat": 3,
 "nbformat_minor": 0,
 "worksheets": [
  {
   "cells": [
    {
     "cell_type": "code",
     "collapsed": false,
     "input": [
      "# -*- coding: utf8 -*-\n",
      "repertoire=\"Kalaba-Test\"\n",
      "serie=repertoire+\"/\"\n",
      "#########################IMPORTS############################################\n",
      "import codecs, optparse\n",
      "import re, random\n",
      "import sys,os,time\n",
      "import string\n",
      "import yaml\n",
      "import ParFuMor as PFM\n",
      "from ParFuMor import *\n",
      "import pickle"
     ],
     "language": "python",
     "metadata": {},
     "outputs": [],
     "prompt_number": 132
    },
    {
     "cell_type": "code",
     "collapsed": false,
     "input": [
      "print_glose=False\n",
      "#numeros={'1':'Un','2':'Deux','3':'Trois','4':'Quatre','5':'Cinq'}"
     ],
     "language": "python",
     "metadata": {},
     "outputs": [],
     "prompt_number": 133
    },
    {
     "cell_type": "code",
     "collapsed": false,
     "input": [
      "with open(serie+\"Phonology.yaml\", 'r') as stream:\n",
      "    phonology=yaml.load(stream)\n",
      "with open(serie+\"MorphoSyntax.yaml\", 'r') as stream:\n",
      "    morphosyntax=yaml.load(stream)\n",
      "with open(serie+\"Hierarchie.pkl\", 'rb') as input:\n",
      "   PFM.hierarchieCF = pickle.load(input)\n",
      "with open(serie+\"Lexique.pkl\", 'rb') as input:\n",
      "   PFM.lexique = pickle.load(input)\n",
      "with open(serie+\"Regles.pkl\", 'rb') as input:\n",
      "   PFM.regles = pickle.load(input)"
     ],
     "language": "python",
     "metadata": {},
     "outputs": [],
     "prompt_number": 134
    },
    {
     "cell_type": "markdown",
     "metadata": {},
     "source": [
      "####D\u00e9finition des segments"
     ]
    },
    {
     "cell_type": "code",
     "collapsed": false,
     "input": [
      "consonnes=phonology[\"consonnes\"]\n",
      "voyelles=phonology[\"voyelles\"]\n",
      "gabarits=phonology[\"gabarits\"]\n",
      "derives=phonology[\"derives\"]\n",
      "nom_classe=phonology[\"nom_classe\"]\n",
      "nom_apo=phonology[\"apophonies\"]\n",
      "nom_mut=phonology[\"mutations\"]\n",
      "syllabes=phonology[\"syllabes\"]"
     ],
     "language": "python",
     "metadata": {},
     "outputs": [],
     "prompt_number": 135
    },
    {
     "cell_type": "markdown",
     "metadata": {},
     "source": [
      "####Attention aux correspondances pour les syllabes\n",
      "YAML interpr\u00e8te la cl\u00e9 no comme False"
     ]
    },
    {
     "cell_type": "code",
     "collapsed": false,
     "input": [
      "def parse_grapho(graphie):\n",
      "    chunks=re.findall(r\"([djkmnpqrstwz][aeiou]?)|[aeiou]|[.\u2026,;!?:\u2014\u2013()\\[\\]\\/# \"\"\u00ab\u00bb<>]\", graphie)\n",
      "    result=[]\n",
      "    for chunk in chunks:\n",
      "        if chunk in syllabes.keys():\n",
      "            result.append(syllabes[chunk])\n",
      "        else:\n",
      "            result.append(chunk)\n",
      "    return \"\".join(result)"
     ],
     "language": "python",
     "metadata": {},
     "outputs": [],
     "prompt_number": 136
    },
    {
     "cell_type": "code",
     "collapsed": false,
     "input": [
      "try:\n",
      "    __IPYTHON__ \n",
      "    ipython=True\n",
      "except: \n",
      "    ipython=False\n",
      "\n",
      "version=os.path.basename(\"__file__\")\n",
      "time_stamp='%s' % time.strftime(\"%y%m%d-%H%M\")\n",
      "print \"%% version : \"+version\n",
      "print \"%% traitement : \"+time_stamp\n",
      "\n",
      "if ipython or True:\n",
      "#    lexeme_nom=\"lexemes.txt\"\n",
      "#    phrase_nom=\"phrases.txt\"\n",
      "    pass\n",
      "else:\n",
      "    parser=optparse.OptionParser()\n",
      "    parser.add_option(\"-o\", \"--out\", dest=\"outfile\", action=\"store_true\", help=\"write to FILE\")\n",
      "    parser.add_option(\"-c\", \"--cloze\", dest=\"print_cloze\", action=\"store_true\", help=\"write a CLOZE FILE\")\n",
      "    parser.add_option(\"-l\", \"--lexicon\", dest=\"print_lexique\", action=\"store_true\", help=\"append a lexicon\")\n",
      "    parser.add_option(\"-r\", \"--roots\", dest=\"print_racines\", action=\"store_true\", help=\"append a root list\")\n",
      "\n",
      "    (options, args) = parser.parse_args()\n",
      "    lexeme_nom=args[0]\n",
      "    phrase_nom=args[1]"
     ],
     "language": "python",
     "metadata": {},
     "outputs": [
      {
       "output_type": "stream",
       "stream": "stdout",
       "text": [
        "%% version : __file__\n",
        "%% traitement : 140915-0001\n"
       ]
      }
     ],
     "prompt_number": 137
    },
    {
     "cell_type": "code",
     "collapsed": false,
     "input": [
      "def recoder(chaine,table):\n",
      "    if type(chaine)==str:\n",
      "        temp=unicode(chaine.decode('utf8')).translate(table)\n",
      "        result=temp.encode('utf8')\n",
      "    elif type(chaine)==unicode:\n",
      "        result=chaine.translate(table)\n",
      "    return result\n",
      "#translit=string.maketrans(u'iueoaftgzZvjkSpN',u'tgazpHTGZJVkXyxI')\n",
      "phonoIn =  unicode(phonology[\"translations\"][\"grapho\"][\"in\"])\n",
      "graphoIn = [ord(char) for char in phonoIn]\n",
      "graphoOut = unicode(phonology[\"translations\"][\"grapho\"][\"out\"])\n",
      "translit = dict(zip(graphoIn, graphoOut))"
     ],
     "language": "python",
     "metadata": {},
     "outputs": [],
     "prompt_number": 138
    },
    {
     "cell_type": "code",
     "collapsed": false,
     "input": [
      "accentedIn = unicode(phonology[\"translations\"][\"deaccent\"][\"in\"])\n",
      "deaccentIn = [ord(char) for char in accentedIn]\n",
      "deaccentOut = unicode(phonology[\"translations\"][\"deaccent\"][\"out\"])\n",
      "deaccent = dict(zip(deaccentIn, deaccentOut))"
     ],
     "language": "python",
     "metadata": {},
     "outputs": [],
     "prompt_number": 139
    },
    {
     "cell_type": "code",
     "collapsed": false,
     "input": [
      "tipaIn = unicode(phonology[\"translations\"][\"ipa\"][\"in\"])\n",
      "ipaIn = [ord(char) for char in tipaIn]\n",
      "ipaOut = unicode(phonology[\"translations\"][\"ipa\"][\"out\"])\n",
      "toipa = dict(zip(ipaIn, ipaOut))"
     ],
     "language": "python",
     "metadata": {},
     "outputs": [],
     "prompt_number": 140
    },
    {
     "cell_type": "code",
     "collapsed": false,
     "input": [
      "tableaux={}\n",
      "declarations=[]\n",
      "for categorie in PFM.lexique.catLexeme:\n",
      "    if not categorie in tableaux:\n",
      "        tableaux[categorie]=[]\n",
      "    if verbose: print categorie\n",
      "    for lexeme in PFM.lexique.catLexeme[categorie]:\n",
      "        if verbose: print PFM.lexique.lexemes[lexeme]\n",
      "        for case in PFM.lexique.lexemes[lexeme].paradigme.cases:\n",
      "            if categorie in PFM.categoriesMajeures:\n",
      "                nom=PFM.lexique.lexemes[lexeme].nom\n",
      "            else:\n",
      "                nom=PFM.lexique.lexemes[lexeme].nom.upper()\n",
      "            ref=PFM.modifierGlose(nom,case.sigma,\"ref\")\n",
      "            ref=recoder(ref,deaccent)\n",
      "#            for num in numeros:\n",
      "#                ref=ref.replace(num,numeros[num])\n",
      "            phono=case.forme\n",
      "            grapho=parse_grapho(recoder(phono,translit))\n",
      "            declarations.append(\"\\\\newcommand{\\\\\"+ref+\"}{\\\\strutgb{0pt}\\\\grapho{\"+grapho+\"}}\")\n",
      "            declarations.append(\"\\\\newcommand{\\\\\"+ref+\"P}{\\\\textipa{\"+case.forme+\"}}\")\n",
      "            declarations.append(\"\\\\newcommand{\\\\\"+ref+\"G}{\"+case.glose+\"}\")\n",
      "            if print_glose:\n",
      "                tableaux[categorie].append(\"\\\\\"+ref+\" & \\\\\"+ref+\"P & \\\\\"+ref+\"G \\\\\\\\\")\n",
      "            else:\n",
      "                tableaux[categorie].append(\"\\\\\"+ref+\" & \\\\\"+ref+\"P & \\\\\\\\\")\n",
      "    "
     ],
     "language": "python",
     "metadata": {},
     "outputs": [],
     "prompt_number": 141
    },
    {
     "cell_type": "code",
     "collapsed": false,
     "input": [
      "with open(serie+\"Declarations.tex\", 'wb') as output:\n",
      "    for declaration in declarations:\n",
      "        output.write(declaration+\"\\n\")"
     ],
     "language": "python",
     "metadata": {},
     "outputs": [],
     "prompt_number": 142
    },
    {
     "cell_type": "code",
     "collapsed": false,
     "input": [
      "with open(serie+\"Tableaux.yaml\", 'w') as outfile:\n",
      "    outfile.write(yaml.dump(tableaux, default_flow_style=True))"
     ],
     "language": "python",
     "metadata": {},
     "outputs": [],
     "prompt_number": 143
    },
    {
     "cell_type": "code",
     "collapsed": false,
     "input": [],
     "language": "python",
     "metadata": {},
     "outputs": [],
     "prompt_number": 143
    }
   ],
   "metadata": {}
  }
 ]
}
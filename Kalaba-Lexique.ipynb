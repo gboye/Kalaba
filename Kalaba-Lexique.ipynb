{
 "metadata": {
  "name": "",
  "signature": "sha256:5462530d576e4b05c9e6ec389d30cabe6eeb17bc7767ee54a0e7e5348a241380"
 },
 "nbformat": 3,
 "nbformat_minor": 0,
 "worksheets": [
  {
   "cells": [
    {
     "cell_type": "code",
     "collapsed": false,
     "input": [
      "# -*- coding: utf8 -*-\n",
      "\n",
      "#########################IMPORTS############################################\n",
      "import codecs, optparse\n",
      "import re, random\n",
      "import sys,os,time\n",
      "import string\n",
      "import yaml\n",
      "import ParFuMor as PFM\n",
      "from ParFuMor import *\n",
      "import pickle"
     ],
     "language": "python",
     "metadata": {},
     "outputs": [],
     "prompt_number": 1
    },
    {
     "cell_type": "code",
     "collapsed": false,
     "input": [
      "print_glose=True\n",
      "numeros={'1':'Un','2':'Deux','3':'Trois','4':'Quatre','5':'Cinq'}"
     ],
     "language": "python",
     "metadata": {},
     "outputs": [],
     "prompt_number": 2
    },
    {
     "cell_type": "code",
     "collapsed": false,
     "input": [
      "with open(\"Kalaba-Phonology.yaml\", 'r') as stream:\n",
      "    phonology=yaml.load(stream)\n",
      "with open(\"Kalaba-MorphoSyntax.yaml\", 'r') as stream:\n",
      "    morphosyntax=yaml.load(stream)\n",
      "with open('PFM-Hierarchie.pkl', 'rb') as input:\n",
      "   PFM.hierarchieCF = pickle.load(input)\n",
      "with open('PFM-Lexique.pkl', 'rb') as input:\n",
      "   PFM.lexique = pickle.load(input)\n",
      "with open('PFM-Regles.pkl', 'rb') as input:\n",
      "   PFM.regles = pickle.load(input)"
     ],
     "language": "python",
     "metadata": {},
     "outputs": [],
     "prompt_number": 24
    },
    {
     "cell_type": "markdown",
     "metadata": {},
     "source": [
      "####D\u00e9finition des segments"
     ]
    },
    {
     "cell_type": "code",
     "collapsed": false,
     "input": [
      "consonnes=phonology[\"consonnes\"]\n",
      "voyelles=phonology[\"voyelles\"]\n",
      "gabarits=phonology[\"gabarits\"]\n",
      "derives=phonology[\"derives\"]\n",
      "nom_classe=phonology[\"nom_classe\"]\n",
      "nom_apo=phonology[\"apophonies\"]\n",
      "nom_mut=phonology[\"mutations\"]\n",
      "syllabes=phonology[\"syllabes\"]"
     ],
     "language": "python",
     "metadata": {},
     "outputs": [],
     "prompt_number": 25
    },
    {
     "cell_type": "markdown",
     "metadata": {},
     "source": [
      "####Attention aux correspondances pour les syllabes\n",
      "YAML interpr\u00e8te la cl\u00e9 no comme False"
     ]
    },
    {
     "cell_type": "code",
     "collapsed": false,
     "input": [
      "def parse_grapho(graphie):\n",
      "    chunks=re.findall(r\"([djkmnpqrstwz][aeiou]?)|[aeiou]|[.\u2026,;!?:\u2014\u2013()\\[\\]\\/# \"\"\u00ab\u00bb<>]\", graphie)\n",
      "    result=[]\n",
      "    for chunk in chunks:\n",
      "#        print chunk\n",
      "        if chunk in syllabes.keys():\n",
      "            result.append(syllabes[chunk])\n",
      "        else:\n",
      "            result.append(chunk)\n",
      "    return \"\".join(result)"
     ],
     "language": "python",
     "metadata": {},
     "outputs": [],
     "prompt_number": 29
    },
    {
     "cell_type": "code",
     "collapsed": false,
     "input": [
      "try:\n",
      "    __IPYTHON__ \n",
      "    ipython=True\n",
      "except: \n",
      "    ipython=False\n",
      "\n",
      "version=os.path.basename(\"__file__\")\n",
      "time_stamp='%s' % time.strftime(\"%y%m%d-%H%M\")\n",
      "print \"%% version : \"+version\n",
      "print \"%% traitement : \"+time_stamp\n",
      "\n",
      "if ipython or True:\n",
      "    lexeme_nom=\"lexemes.txt\"\n",
      "    phrase_nom=\"phrases.txt\"\n",
      "else:\n",
      "    parser=optparse.OptionParser()\n",
      "    parser.add_option(\"-o\", \"--out\", dest=\"outfile\", action=\"store_true\", help=\"write to FILE\")\n",
      "    parser.add_option(\"-c\", \"--cloze\", dest=\"print_cloze\", action=\"store_true\", help=\"write a CLOZE FILE\")\n",
      "    parser.add_option(\"-l\", \"--lexicon\", dest=\"print_lexique\", action=\"store_true\", help=\"append a lexicon\")\n",
      "    parser.add_option(\"-r\", \"--roots\", dest=\"print_racines\", action=\"store_true\", help=\"append a root list\")\n",
      "\n",
      "    (options, args) = parser.parse_args()\n",
      "    lexeme_nom=args[0]\n",
      "    phrase_nom=args[1]"
     ],
     "language": "python",
     "metadata": {},
     "outputs": [
      {
       "output_type": "stream",
       "stream": "stdout",
       "text": [
        "%% version : __file__\n",
        "%% traitement : 140914-1552\n"
       ]
      }
     ],
     "prompt_number": 6
    },
    {
     "cell_type": "code",
     "collapsed": false,
     "input": [
      "def recoder(chaine,table):\n",
      "    if type(chaine)==str:\n",
      "        temp=unicode(chaine.decode('utf8')).translate(table)\n",
      "        result=temp.encode('utf8')\n",
      "    elif type(chaine)==unicode:\n",
      "        result=chaine.translate(table)\n",
      "    return result\n",
      "#translit=string.maketrans(u'iueoaftgzZvjkSpN',u'tgazpHTGZJVkXyxI')\n",
      "phonoIn =  unicode(phonology[\"translations\"][\"grapho\"][\"in\"])\n",
      "graphoIn = [ord(char) for char in phonoIn]\n",
      "graphoOut = unicode(phonology[\"translations\"][\"grapho\"][\"out\"])\n",
      "translit = dict(zip(graphoIn, graphoOut))"
     ],
     "language": "python",
     "metadata": {},
     "outputs": [],
     "prompt_number": 7
    },
    {
     "cell_type": "code",
     "collapsed": false,
     "input": [
      "accentedIn = unicode(phonology[\"translations\"][\"deaccent\"][\"in\"])\n",
      "deaccentIn = [ord(char) for char in accentedIn]\n",
      "deaccentOut = unicode(phonology[\"translations\"][\"deaccent\"][\"out\"])\n",
      "deaccent = dict(zip(deaccentIn, deaccentOut))"
     ],
     "language": "python",
     "metadata": {},
     "outputs": [],
     "prompt_number": 8
    },
    {
     "cell_type": "code",
     "collapsed": false,
     "input": [
      "tipaIn = unicode(phonology[\"translations\"][\"ipa\"][\"in\"])\n",
      "ipaIn = [ord(char) for char in tipaIn]\n",
      "ipaOut = unicode(phonology[\"translations\"][\"ipa\"][\"out\"])\n",
      "toipa = dict(zip(ipaIn, ipaOut))"
     ],
     "language": "python",
     "metadata": {},
     "outputs": [],
     "prompt_number": 9
    },
    {
     "cell_type": "code",
     "collapsed": false,
     "input": [
      "tableaux={}\n",
      "declarations=[]\n",
      "for categorie in PFM.lexique.catLexeme:\n",
      "    if not categorie in tableaux:\n",
      "        tableaux[categorie]=[]\n",
      "    if verbose: print categorie\n",
      "    for lexeme in PFM.lexique.catLexeme[categorie]:\n",
      "        if verbose: print PFM.lexique.lexemes[lexeme]\n",
      "        for case in PFM.lexique.lexemes[lexeme].paradigme.cases:\n",
      "            if categorie in PFM.categoriesMajeures:\n",
      "                nom=PFM.lexique.lexemes[lexeme].nom\n",
      "            else:\n",
      "                nom=PFM.lexique.lexemes[lexeme].nom.upper()\n",
      "            ref=PFM.modifierGlose(nom,case.sigma,\"ref\")\n",
      "            ref=recoder(ref,deaccent)\n",
      "            for num in numeros:\n",
      "                ref=ref.replace(num,numeros[num])\n",
      "            phono=case.forme\n",
      "            grapho=parse_grapho(recoder(phono,translit))\n",
      "            declarations.append(\"\\\\newcommand{\\\\\"+ref+\"}{\\\\strutgb{0pt}\\\\grapho{\"+grapho+\"}}\")\n",
      "            declarations.append(\"\\\\newcommand{\\\\\"+ref+\"P}{\\\\textipa{\"+case.forme+\"}}\")\n",
      "            declarations.append(\"\\\\newcommand{\\\\\"+ref+\"G}{\"+case.glose+\"}\")\n",
      "            if print_glose:\n",
      "                tableaux[categorie].append(\"\\\\\"+ref+\" & \\\\\"+ref+\"P & \\\\\"+ref+\"G \\\\\\\\\")\n",
      "            else:\n",
      "                tableaux[categorie].append(\"\\\\\"+ref+\" & \\\\\"+ref+\"P & \\\\\\\\\")\n",
      "    "
     ],
     "language": "python",
     "metadata": {},
     "outputs": [],
     "prompt_number": 30
    },
    {
     "cell_type": "code",
     "collapsed": false,
     "input": [
      "with open('14-Kalaba-declarations.tex', 'wb') as output:\n",
      "    for declaration in declarations:\n",
      "        output.write(declaration)"
     ],
     "language": "python",
     "metadata": {},
     "outputs": [],
     "prompt_number": 31
    },
    {
     "cell_type": "code",
     "collapsed": false,
     "input": [],
     "language": "python",
     "metadata": {},
     "outputs": []
    }
   ],
   "metadata": {}
  }
 ]
}
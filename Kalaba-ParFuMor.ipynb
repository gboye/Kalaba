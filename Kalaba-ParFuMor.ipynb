{
 "metadata": {
  "name": "",
  "signature": "sha256:2f4a805c0d4754691effdd538e6dd899939ea55f184fe4a0a7ed4a57351cc479"
 },
 "nbformat": 3,
 "nbformat_minor": 0,
 "worksheets": [
  {
   "cells": [
    {
     "cell_type": "markdown",
     "metadata": {},
     "source": [
      "#ParFuMor (version YAML & Objets)"
     ]
    },
    {
     "cell_type": "code",
     "collapsed": false,
     "input": [
      "import yaml\n",
      "import itertools\n",
      "#import re\n",
      "import ParFuMor as PFM\n",
      "from ParFuMor import *\n",
      "import pickle"
     ],
     "language": "python",
     "metadata": {},
     "outputs": [],
     "prompt_number": 1
    },
    {
     "cell_type": "code",
     "collapsed": false,
     "input": [
      "with open(\"Kalaba-Gloses.yaml\", 'r') as stream:\n",
      "    gloses=yaml.load(stream)\n",
      "    PFM.gloses=gloses\n",
      "with open(\"Kalaba-Stems.yaml\", 'r') as stream:\n",
      "    stems=yaml.load(stream)\n",
      "    PFM.stems=stems\n",
      "with open(\"Kalaba-Blocks.yaml\", 'r') as stream:\n",
      "    blocks=yaml.load(stream)\n",
      "    PFM.blocks=blocks\n",
      "with open(\"Kalaba-Phonology.yaml\", 'r') as stream:\n",
      "    phonology=yaml.load(stream)\n",
      "    PFM.phonology=phonology\n",
      "with open(\"Kalaba-MorphoSyntax.yaml\", 'r') as stream:\n",
      "    morphosyntax=yaml.load(stream)\n",
      "    PFM.morphosyntax=morphosyntax"
     ],
     "language": "python",
     "metadata": {},
     "outputs": [],
     "prompt_number": 2
    },
    {
     "cell_type": "code",
     "collapsed": false,
     "input": [
      "regles=Regles()\n",
      "PFM.regles=regles\n",
      "for categorie in blocks:\n",
      "    regles.addBlocs(categorie,blocks[categorie])\n"
     ],
     "language": "python",
     "metadata": {},
     "outputs": [],
     "prompt_number": 3
    },
    {
     "cell_type": "code",
     "collapsed": true,
     "input": [
      "paradigmes=Paradigmes()\n",
      "PFM.paradigmes=paradigmes\n",
      "for cat in gloses:\n",
      "    attributes=[]\n",
      "    if gloses[cat]:\n",
      "        if set(gloses[cat].keys())==set(morphosyntax[\"Attributs\"][cat]):\n",
      "            features=morphosyntax[\"Attributs\"][cat]\n",
      "        else:\n",
      "            features=gloses[cat].keys()\n",
      "        for attribute in features:\n",
      "            attributes.append(gloses[cat][attribute])\n",
      "        nuplets=(itertools.product(*attributes))\n",
      "        for nuplet in nuplets:\n",
      "            proprietes=[cat]\n",
      "            for element in range(len(nuplet)):\n",
      "                proprietes.append(\"%s=%s\"%(features[element],nuplet[element]))\n",
      "            paradigmes.addForme(cat,proprietes)"
     ],
     "language": "python",
     "metadata": {},
     "outputs": [],
     "prompt_number": 4
    },
    {
     "cell_type": "code",
     "collapsed": false,
     "input": [
      "hierarchieCF=HierarchieCF()\n",
      "PFM.hierarchieCF=hierarchieCF\n",
      "lexique=Lexique()\n",
      "PFM.lexique=lexique\n"
     ],
     "language": "python",
     "metadata": {},
     "outputs": [],
     "prompt_number": 5
    },
    {
     "cell_type": "code",
     "collapsed": false,
     "input": [
      "analyserGloses(gloses)\n",
      "analyserStems(stems)"
     ],
     "language": "python",
     "metadata": {},
     "outputs": [
      {
       "output_type": "stream",
       "stream": "stdout",
       "text": [
        "DET\n",
        "Cas\n",
        "Nombre\n",
        "N\n",
        "Genre\n",
        "Nombre\n",
        "Cas\n",
        "ADJ\n",
        "Genre\n",
        "Nombre\n",
        "CF\n",
        "PREP\n",
        "V\n",
        "Temps\n",
        "Nombre-Abs\n",
        "Type\n",
        "Genre-Abs\n"
       ]
      }
     ],
     "prompt_number": 6
    },
    {
     "cell_type": "code",
     "collapsed": true,
     "input": [
      "hierarchieCF.trait"
     ],
     "language": "python",
     "metadata": {},
     "outputs": [
      {
       "metadata": {},
       "output_type": "pyout",
       "prompt_number": 7,
       "text": [
        "{'ADJ-1': 'CF',\n",
        " 'ADJ-2': 'CF',\n",
        " 'N-A': 'Genre',\n",
        " 'N-B': 'Genre',\n",
        " 'N-C': 'Genre',\n",
        " 'N-D': 'Genre',\n",
        " 'V-VD': 'Type',\n",
        " 'V-VI': 'Type',\n",
        " 'V-VT': 'Type'}"
       ]
      }
     ],
     "prompt_number": 7
    },
    {
     "cell_type": "code",
     "collapsed": false,
     "input": [
      "paradigmes.getSigmas(\"M\")"
     ],
     "language": "python",
     "metadata": {},
     "outputs": [
      {
       "metadata": {},
       "output_type": "pyout",
       "prompt_number": 8,
       "text": [
        "['M']"
       ]
      }
     ],
     "prompt_number": 8
    },
    {
     "cell_type": "code",
     "collapsed": false,
     "input": [
      "with open('PFM-Hierarchie.pkl', 'wb') as output:\n",
      "   pickle.dump(hierarchieCF, output, pickle.HIGHEST_PROTOCOL)\n",
      "with open('PFM-Lexique.pkl', 'wb') as output:\n",
      "   pickle.dump(lexique, output, pickle.HIGHEST_PROTOCOL)\n",
      "with open('PFM-Regles.pkl', 'wb') as output:\n",
      "   pickle.dump(regles, output, pickle.HIGHEST_PROTOCOL)\n"
     ],
     "language": "python",
     "metadata": {},
     "outputs": [],
     "prompt_number": 9
    },
    {
     "cell_type": "code",
     "collapsed": false,
     "input": [
      "lexique.getLexemes(\"dans\")[0].classe in PFM.categoriesMineures"
     ],
     "language": "python",
     "metadata": {},
     "outputs": [
      {
       "metadata": {},
       "output_type": "pyout",
       "prompt_number": 10,
       "text": [
        "True"
       ]
      }
     ],
     "prompt_number": 10
    },
    {
     "cell_type": "code",
     "collapsed": false,
     "input": [
      "mot=\"blanc\"\n",
      "nomLexeme=PFM.lexique.formeLexeme[mot][0]\n",
      "categorie=PFM.lexique.lexemes[nomLexeme].classe\n",
      "categorie"
     ],
     "language": "python",
     "metadata": {},
     "outputs": [
      {
       "metadata": {},
       "output_type": "pyout",
       "prompt_number": 11,
       "text": [
        "'1'"
       ]
      }
     ],
     "prompt_number": 11
    },
    {
     "cell_type": "code",
     "collapsed": false,
     "input": [
      "lexique.getLexemes(\"blanc\")[0]"
     ],
     "language": "python",
     "metadata": {},
     "outputs": [
      {
       "metadata": {},
       "output_type": "pyout",
       "prompt_number": 12,
       "text": [
        "nor, 1, blanc.1\n",
        "\t\tnor :\n",
        "\t\t\tADJ, CF=1, Genre=A, Nombre=Sg:\tnoriv\tblanc\\cacherGloses{.1}\\cacherGloses{-1.Sg}\\cacherGloses{-1.A}\n",
        "\t\t\tADJ, CF=1, Genre=A, Nombre=Du:\tnorav\tblanc\\cacherGloses{.1}\\cacherGloses{-Du}\\cacherGloses{-1.A}\n",
        "\t\t\tADJ, CF=1, Genre=A, Nombre=Pl:\tnorov\tblanc\\cacherGloses{.1}\\cacherGloses{-1.Pl}\\cacherGloses{-1.A}\n",
        "\t\t\tADJ, CF=1, Genre=B, Nombre=Sg:\tnorif\tblanc\\cacherGloses{.1}\\cacherGloses{-1.Sg}\\cacherGloses{-1.B}\n",
        "\t\t\tADJ, CF=1, Genre=B, Nombre=Du:\tnoraf\tblanc\\cacherGloses{.1}\\cacherGloses{-Du}\\cacherGloses{-1.B}\n",
        "\t\t\tADJ, CF=1, Genre=B, Nombre=Pl:\tnorof\tblanc\\cacherGloses{.1}\\cacherGloses{-1.Pl}\\cacherGloses{-1.B}\n",
        "\t\t\tADJ, CF=1, Genre=C, Nombre=Sg:\tnorid\tblanc\\cacherGloses{.1}\\cacherGloses{-1.Sg}\\cacherGloses{-1.C}\n",
        "\t\t\tADJ, CF=1, Genre=C, Nombre=Du:\tnorad\tblanc\\cacherGloses{.1}\\cacherGloses{-Du}\\cacherGloses{-1.C}\n",
        "\t\t\tADJ, CF=1, Genre=C, Nombre=Pl:\tnorod\tblanc\\cacherGloses{.1}\\cacherGloses{-1.Pl}\\cacherGloses{-1.C}\n",
        "\t\t\tADJ, CF=1, Genre=D, Nombre=Sg:\tnorik\tblanc\\cacherGloses{.1}\\cacherGloses{-1.Sg}\\cacherGloses{-1.D}\n",
        "\t\t\tADJ, CF=1, Genre=D, Nombre=Du:\tnorak\tblanc\\cacherGloses{.1}\\cacherGloses{-Du}\\cacherGloses{-1.D}\n",
        "\t\t\tADJ, CF=1, Genre=D, Nombre=Pl:\tnorok\tblanc\\cacherGloses{.1}\\cacherGloses{-1.Pl}\\cacherGloses{-1.D}"
       ]
      }
     ],
     "prompt_number": 12
    },
    {
     "cell_type": "code",
     "collapsed": false,
     "input": [
      "classe=\"1\"\n",
      "cat=hierarchieCF.categorie[classe]\n",
      "\"%s=%s\"%(hierarchieCF.getFeature(cat,classe),classe)\n"
     ],
     "language": "python",
     "metadata": {},
     "outputs": [
      {
       "metadata": {},
       "output_type": "pyout",
       "prompt_number": 13,
       "text": [
        "'CF=1'"
       ]
      }
     ],
     "prompt_number": 13
    },
    {
     "cell_type": "code",
     "collapsed": false,
     "input": [
      "paradigmes.cases[\"ADJ\"]"
     ],
     "language": "python",
     "metadata": {},
     "outputs": [
      {
       "metadata": {},
       "output_type": "pyout",
       "prompt_number": 14,
       "text": [
        "[{'ADJ, CF=1, Genre=A, Nombre=Sg': ['ADJ', 'CF=1', 'Genre=A', 'Nombre=Sg']},\n",
        " {'ADJ, CF=1, Genre=A, Nombre=Du': ['ADJ', 'CF=1', 'Genre=A', 'Nombre=Du']},\n",
        " {'ADJ, CF=1, Genre=A, Nombre=Pl': ['ADJ', 'CF=1', 'Genre=A', 'Nombre=Pl']},\n",
        " {'ADJ, CF=1, Genre=B, Nombre=Sg': ['ADJ', 'CF=1', 'Genre=B', 'Nombre=Sg']},\n",
        " {'ADJ, CF=1, Genre=B, Nombre=Du': ['ADJ', 'CF=1', 'Genre=B', 'Nombre=Du']},\n",
        " {'ADJ, CF=1, Genre=B, Nombre=Pl': ['ADJ', 'CF=1', 'Genre=B', 'Nombre=Pl']},\n",
        " {'ADJ, CF=1, Genre=C, Nombre=Sg': ['ADJ', 'CF=1', 'Genre=C', 'Nombre=Sg']},\n",
        " {'ADJ, CF=1, Genre=C, Nombre=Du': ['ADJ', 'CF=1', 'Genre=C', 'Nombre=Du']},\n",
        " {'ADJ, CF=1, Genre=C, Nombre=Pl': ['ADJ', 'CF=1', 'Genre=C', 'Nombre=Pl']},\n",
        " {'ADJ, CF=1, Genre=D, Nombre=Sg': ['ADJ', 'CF=1', 'Genre=D', 'Nombre=Sg']},\n",
        " {'ADJ, CF=1, Genre=D, Nombre=Du': ['ADJ', 'CF=1', 'Genre=D', 'Nombre=Du']},\n",
        " {'ADJ, CF=1, Genre=D, Nombre=Pl': ['ADJ', 'CF=1', 'Genre=D', 'Nombre=Pl']},\n",
        " {'ADJ, CF=2, Genre=A, Nombre=Sg': ['ADJ', 'CF=2', 'Genre=A', 'Nombre=Sg']},\n",
        " {'ADJ, CF=2, Genre=A, Nombre=Du': ['ADJ', 'CF=2', 'Genre=A', 'Nombre=Du']},\n",
        " {'ADJ, CF=2, Genre=A, Nombre=Pl': ['ADJ', 'CF=2', 'Genre=A', 'Nombre=Pl']},\n",
        " {'ADJ, CF=2, Genre=B, Nombre=Sg': ['ADJ', 'CF=2', 'Genre=B', 'Nombre=Sg']},\n",
        " {'ADJ, CF=2, Genre=B, Nombre=Du': ['ADJ', 'CF=2', 'Genre=B', 'Nombre=Du']},\n",
        " {'ADJ, CF=2, Genre=B, Nombre=Pl': ['ADJ', 'CF=2', 'Genre=B', 'Nombre=Pl']},\n",
        " {'ADJ, CF=2, Genre=C, Nombre=Sg': ['ADJ', 'CF=2', 'Genre=C', 'Nombre=Sg']},\n",
        " {'ADJ, CF=2, Genre=C, Nombre=Du': ['ADJ', 'CF=2', 'Genre=C', 'Nombre=Du']},\n",
        " {'ADJ, CF=2, Genre=C, Nombre=Pl': ['ADJ', 'CF=2', 'Genre=C', 'Nombre=Pl']},\n",
        " {'ADJ, CF=2, Genre=D, Nombre=Sg': ['ADJ', 'CF=2', 'Genre=D', 'Nombre=Sg']},\n",
        " {'ADJ, CF=2, Genre=D, Nombre=Du': ['ADJ', 'CF=2', 'Genre=D', 'Nombre=Du']},\n",
        " {'ADJ, CF=2, Genre=D, Nombre=Pl': ['ADJ', 'CF=2', 'Genre=D', 'Nombre=Pl']}]"
       ]
      }
     ],
     "prompt_number": 14
    },
    {
     "cell_type": "code",
     "collapsed": false,
     "input": [
      "hierarchieCF.classes[\"N\"]"
     ],
     "language": "python",
     "metadata": {},
     "outputs": [
      {
       "metadata": {},
       "output_type": "pyout",
       "prompt_number": 15,
       "text": [
        "['A', 'C', 'B', 'D']"
       ]
      }
     ],
     "prompt_number": 15
    },
    {
     "cell_type": "code",
     "collapsed": false,
     "input": [],
     "language": "python",
     "metadata": {},
     "outputs": [],
     "prompt_number": 15
    }
   ],
   "metadata": {}
  }
 ]
}
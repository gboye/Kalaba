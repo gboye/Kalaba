{
 "metadata": {
  "name": "",
  "signature": "sha256:fc50cdcd8a198b2d53685db3a25e523af3eb0189384b5e5310828930bea4ea9b"
 },
 "nbformat": 3,
 "nbformat_minor": 0,
 "worksheets": [
  {
   "cells": [
    {
     "cell_type": "markdown",
     "metadata": {},
     "source": [
      "#ParFuMor (version YAML & Objets)"
     ]
    },
    {
     "cell_type": "code",
     "collapsed": false,
     "input": [
      "# -*- coding: utf8 -*-\n",
      "from os.path import expanduser\n",
      "home = expanduser(\"~\")\n",
      "repertoire=home+\"/Copy/Cours/Bordeaux/L1-UE1/Kalaba-14\"\n",
      "serie=repertoire+\"/\"\n",
      "\n",
      "import yaml\n",
      "import itertools\n",
      "#import re\n",
      "import ParFuMor as PFM\n",
      "from ParFuMor import *\n",
      "import pickle"
     ],
     "language": "python",
     "metadata": {},
     "outputs": [],
     "prompt_number": 55
    },
    {
     "cell_type": "code",
     "collapsed": false,
     "input": [
      "with open(serie+\"Gloses.yaml\", 'r') as stream:\n",
      "    gloses=yaml.load(stream)\n",
      "    PFM.gloses=gloses\n",
      "with open(serie+\"Stems.yaml\", 'r') as stream:\n",
      "    stems=yaml.load(stream)\n",
      "    PFM.stems=stems\n",
      "with open(serie+\"Blocks.yaml\", 'r') as stream:\n",
      "    blocks=yaml.load(stream)\n",
      "    PFM.blocks=blocks\n",
      "with open(serie+\"Phonology.yaml\", 'r') as stream:\n",
      "    phonology=yaml.load(stream)\n",
      "    PFM.phonology=phonology\n",
      "with open(serie+\"MorphoSyntax.yaml\", 'r') as stream:\n",
      "    morphosyntax=yaml.load(stream)\n",
      "    PFM.morphosyntax=morphosyntax"
     ],
     "language": "python",
     "metadata": {},
     "outputs": [],
     "prompt_number": 56
    },
    {
     "cell_type": "code",
     "collapsed": false,
     "input": [
      "regles=Regles()\n",
      "PFM.regles=regles\n",
      "for categorie in blocks:\n",
      "    regles.addBlocs(categorie,blocks[categorie])\n"
     ],
     "language": "python",
     "metadata": {},
     "outputs": [],
     "prompt_number": 57
    },
    {
     "cell_type": "code",
     "collapsed": false,
     "input": [
      "paradigmes=Paradigmes()\n",
      "PFM.paradigmes=paradigmes"
     ],
     "language": "python",
     "metadata": {},
     "outputs": [],
     "prompt_number": 58
    },
    {
     "cell_type": "code",
     "collapsed": false,
     "input": [
      "hierarchieCF=HierarchieCF()\n",
      "PFM.hierarchieCF=hierarchieCF\n",
      "lexique=Lexique()\n",
      "PFM.lexique=lexique\n"
     ],
     "language": "python",
     "metadata": {},
     "outputs": [],
     "prompt_number": 59
    },
    {
     "cell_type": "code",
     "collapsed": false,
     "input": [
      "paradigmes=Paradigmes()\n",
      "PFM.paradigmes=paradigmes"
     ],
     "language": "python",
     "metadata": {},
     "outputs": [],
     "prompt_number": 60
    },
    {
     "cell_type": "code",
     "collapsed": true,
     "input": [
      "paradigmes=Paradigmes()\n",
      "PFM.paradigmes=paradigmes\n",
      "for cat in gloses:\n",
      "#    print cat\n",
      "    attributes=[]\n",
      "    if gloses[cat]:\n",
      "        if set(gloses[cat].keys())==set(morphosyntax[\"Attributs\"][cat]):\n",
      "            features=morphosyntax[\"Attributs\"][cat]\n",
      "#            print \"inh\u00e9rent\",features\n",
      "        else:\n",
      "            features=gloses[cat].keys()\n",
      "#            print \"contextuel\",features\n",
      "        for attribute in features:\n",
      "            attributes.append(gloses[cat][attribute])\n",
      "        nuplets=(itertools.product(*attributes))\n",
      "        for nuplet in nuplets:\n",
      "            proprietes=[cat]\n",
      "            for element in range(len(nuplet)):\n",
      "                proprietes.append(\"%s=%s\"%(features[element],nuplet[element]))\n",
      "            paradigmes.addForme(cat,proprietes)"
     ],
     "language": "python",
     "metadata": {},
     "outputs": [],
     "prompt_number": 61
    },
    {
     "cell_type": "code",
     "collapsed": false,
     "input": [
      "analyserGloses(gloses)\n",
      "analyserStems(stems)"
     ],
     "language": "python",
     "metadata": {},
     "outputs": [],
     "prompt_number": 62
    },
    {
     "cell_type": "code",
     "collapsed": false,
     "input": [
      "with open(serie+\"Hierarchie.pkl\", 'wb') as output:\n",
      "   pickle.dump(hierarchieCF, output, pickle.HIGHEST_PROTOCOL)\n",
      "with open(serie+\"Lexique.pkl\", 'wb') as output:\n",
      "   pickle.dump(lexique, output, pickle.HIGHEST_PROTOCOL)\n",
      "with open(serie+\"Regles.pkl\", 'wb') as output:\n",
      "   pickle.dump(regles, output, pickle.HIGHEST_PROTOCOL)\n"
     ],
     "language": "python",
     "metadata": {},
     "outputs": [],
     "prompt_number": 63
    }
   ],
   "metadata": {}
  }
 ]
}
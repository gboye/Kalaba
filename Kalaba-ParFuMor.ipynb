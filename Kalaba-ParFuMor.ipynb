{
 "metadata": {
  "name": "",
  "signature": "sha256:4e17b68926f06b93227f689aa59ca966cc63abe62c2eaa27d9c2877d972e1f3e"
 },
 "nbformat": 3,
 "nbformat_minor": 0,
 "worksheets": [
  {
   "cells": [
    {
     "cell_type": "markdown",
     "metadata": {},
     "source": [
      "#ParFuMor (version YAML & Objets)"
     ]
    },
    {
     "cell_type": "code",
     "collapsed": false,
     "input": [
      "import yaml\n",
      "import itertools\n",
      "#import re\n",
      "import ParFuMor as PFM\n",
      "from ParFuMor import *\n",
      "import pickle"
     ],
     "language": "python",
     "metadata": {},
     "outputs": [],
     "prompt_number": 1
    },
    {
     "cell_type": "code",
     "collapsed": false,
     "input": [
      "with open(\"Kalaba-Gloses.yaml\", 'r') as stream:\n",
      "    gloses=yaml.load(stream)\n",
      "    PFM.gloses=gloses\n",
      "with open(\"Kalaba-Stems.yaml\", 'r') as stream:\n",
      "    stems=yaml.load(stream)\n",
      "    PFM.stems=stems\n",
      "with open(\"Kalaba-Blocks.yaml\", 'r') as stream:\n",
      "    blocks=yaml.load(stream)\n",
      "    PFM.blocks=blocks\n",
      "with open(\"Kalaba-Phonology.yaml\", 'r') as stream:\n",
      "    phonology=yaml.load(stream)\n",
      "    PFM.phonology=phonology\n",
      "with open(\"Kalaba-MorphoSyntax.yaml\", 'r') as stream:\n",
      "    morphosyntax=yaml.load(stream)\n",
      "    PFM.morphosyntax=morphosyntax"
     ],
     "language": "python",
     "metadata": {},
     "outputs": [],
     "prompt_number": 2
    },
    {
     "cell_type": "code",
     "collapsed": false,
     "input": [
      "regles=Regles()\n",
      "PFM.regles=regles\n",
      "for categorie in blocks:\n",
      "    regles.addBlocs(categorie,blocks[categorie])\n"
     ],
     "language": "python",
     "metadata": {},
     "outputs": [],
     "prompt_number": 3
    },
    {
     "cell_type": "code",
     "collapsed": true,
     "input": [
      "paradigmes=Paradigmes()\n",
      "PFM.paradigmes=paradigmes\n",
      "for cat in gloses:\n",
      "    attributes=[]\n",
      "    if gloses[cat]:\n",
      "        if set(gloses[cat].keys())==set(morphosyntax[\"Attributs\"][cat]):\n",
      "            features=morphosyntax[\"Attributs\"][cat]\n",
      "        else:\n",
      "            features=gloses[cat].keys()\n",
      "        for attribute in features:\n",
      "            attributes.append(gloses[cat][attribute])\n",
      "        nuplets=(itertools.product(*attributes))\n",
      "        for nuplet in nuplets:\n",
      "            proprietes=[cat]\n",
      "            for element in range(len(nuplet)):\n",
      "                proprietes.append(\"%s=%s\"%(features[element],nuplet[element]))\n",
      "            paradigmes.addForme(cat,proprietes)"
     ],
     "language": "python",
     "metadata": {},
     "outputs": [],
     "prompt_number": 4
    },
    {
     "cell_type": "code",
     "collapsed": false,
     "input": [
      "hierarchieCF=HierarchieCF()\n",
      "PFM.hierarchieCF=hierarchieCF\n",
      "lexique=Lexique()\n",
      "PFM.lexique=lexique\n"
     ],
     "language": "python",
     "metadata": {},
     "outputs": [],
     "prompt_number": 5
    },
    {
     "cell_type": "code",
     "collapsed": false,
     "input": [
      "analyserGloses(gloses)\n",
      "analyserStems(stems)"
     ],
     "language": "python",
     "metadata": {},
     "outputs": [
      {
       "output_type": "stream",
       "stream": "stdout",
       "text": [
        "DET\n",
        "Cas\n",
        "Nombre\n",
        "N\n",
        "Genre\n",
        "Nombre\n",
        "Cas\n",
        "ADJ\n",
        "Genre\n",
        "Nombre\n",
        "CF\n",
        "PREP\n",
        "V\n",
        "Temps\n",
        "Nombre-Abs\n",
        "Type\n",
        "Genre-Abs\n"
       ]
      }
     ],
     "prompt_number": 6
    },
    {
     "cell_type": "code",
     "collapsed": true,
     "input": [
      "hierarchieCF.trait"
     ],
     "language": "python",
     "metadata": {},
     "outputs": [
      {
       "metadata": {},
       "output_type": "pyout",
       "prompt_number": 7,
       "text": [
        "{'ADJ-1': 'CF',\n",
        " 'ADJ-2': 'CF',\n",
        " 'N-A': 'Genre',\n",
        " 'N-B': 'Genre',\n",
        " 'N-C': 'Genre',\n",
        " 'N-D': 'Genre',\n",
        " 'V-VD': 'Type',\n",
        " 'V-VI': 'Type',\n",
        " 'V-VT': 'Type'}"
       ]
      }
     ],
     "prompt_number": 7
    },
    {
     "cell_type": "code",
     "collapsed": false,
     "input": [
      "paradigmes.getSigmas(\"M\")"
     ],
     "language": "python",
     "metadata": {},
     "outputs": [
      {
       "metadata": {},
       "output_type": "pyout",
       "prompt_number": 8,
       "text": [
        "['M']"
       ]
      }
     ],
     "prompt_number": 8
    },
    {
     "cell_type": "code",
     "collapsed": false,
     "input": [
      "with open('PFM-Hierarchie.pkl', 'wb') as output:\n",
      "   pickle.dump(hierarchieCF, output, pickle.HIGHEST_PROTOCOL)\n",
      "with open('PFM-Lexique.pkl', 'wb') as output:\n",
      "   pickle.dump(lexique, output, pickle.HIGHEST_PROTOCOL)\n",
      "with open('PFM-Regles.pkl', 'wb') as output:\n",
      "   pickle.dump(regles, output, pickle.HIGHEST_PROTOCOL)\n"
     ],
     "language": "python",
     "metadata": {},
     "outputs": [],
     "prompt_number": 9
    }
   ],
   "metadata": {}
  }
 ]
}
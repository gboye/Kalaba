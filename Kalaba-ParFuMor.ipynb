{
 "metadata": {
  "name": "",
  "signature": "sha256:05303b68bdc28e2d524703cfb423efd589313eaffb2eb5e091d6d052ac323491"
 },
 "nbformat": 3,
 "nbformat_minor": 0,
 "worksheets": [
  {
   "cells": [
    {
     "cell_type": "markdown",
     "metadata": {},
     "source": [
      "#ParFuMor (version YAML & Objets)"
     ]
    },
    {
     "cell_type": "code",
     "collapsed": false,
     "input": [
      "repertoire=\"Kalaba-Test\"\n",
      "serie=repertoire+\"/\"\n",
      "\n",
      "import yaml\n",
      "import itertools\n",
      "#import re\n",
      "import ParFuMor as PFM\n",
      "from ParFuMor import *\n",
      "import pickle"
     ],
     "language": "python",
     "metadata": {},
     "outputs": [],
     "prompt_number": 61
    },
    {
     "cell_type": "code",
     "collapsed": false,
     "input": [
      "with open(serie+\"Gloses.yaml\", 'r') as stream:\n",
      "    gloses=yaml.load(stream)\n",
      "    PFM.gloses=gloses\n",
      "with open(serie+\"Stems.yaml\", 'r') as stream:\n",
      "    stems=yaml.load(stream)\n",
      "    PFM.stems=stems\n",
      "with open(serie+\"Blocks.yaml\", 'r') as stream:\n",
      "    blocks=yaml.load(stream)\n",
      "    PFM.blocks=blocks\n",
      "with open(serie+\"Phonology.yaml\", 'r') as stream:\n",
      "    phonology=yaml.load(stream)\n",
      "    PFM.phonology=phonology\n",
      "with open(serie+\"MorphoSyntax.yaml\", 'r') as stream:\n",
      "    morphosyntax=yaml.load(stream)\n",
      "    PFM.morphosyntax=morphosyntax"
     ],
     "language": "python",
     "metadata": {},
     "outputs": [],
     "prompt_number": 62
    },
    {
     "cell_type": "code",
     "collapsed": false,
     "input": [
      "regles=Regles()\n",
      "PFM.regles=regles\n",
      "for categorie in blocks:\n",
      "    regles.addBlocs(categorie,blocks[categorie])\n"
     ],
     "language": "python",
     "metadata": {},
     "outputs": [],
     "prompt_number": 63
    },
    {
     "cell_type": "code",
     "collapsed": true,
     "input": [
      "paradigmes=Paradigmes()\n",
      "PFM.paradigmes=paradigmes\n",
      "for cat in gloses:\n",
      "    attributes=[]\n",
      "    if gloses[cat]:\n",
      "        if set(gloses[cat].keys())==set(morphosyntax[\"Attributs\"][cat]):\n",
      "            features=morphosyntax[\"Attributs\"][cat]\n",
      "        else:\n",
      "            features=gloses[cat].keys()\n",
      "        for attribute in features:\n",
      "            attributes.append(gloses[cat][attribute])\n",
      "        nuplets=(itertools.product(*attributes))\n",
      "        for nuplet in nuplets:\n",
      "            proprietes=[cat]\n",
      "            for element in range(len(nuplet)):\n",
      "                proprietes.append(\"%s=%s\"%(features[element],nuplet[element]))\n",
      "            paradigmes.addForme(cat,proprietes)"
     ],
     "language": "python",
     "metadata": {},
     "outputs": [],
     "prompt_number": 64
    },
    {
     "cell_type": "code",
     "collapsed": false,
     "input": [
      "hierarchieCF=HierarchieCF()\n",
      "PFM.hierarchieCF=hierarchieCF\n",
      "lexique=Lexique()\n",
      "PFM.lexique=lexique\n"
     ],
     "language": "python",
     "metadata": {},
     "outputs": [],
     "prompt_number": 65
    },
    {
     "cell_type": "code",
     "collapsed": false,
     "input": [
      "analyserGloses(gloses)\n",
      "analyserStems(stems)"
     ],
     "language": "python",
     "metadata": {},
     "outputs": [
      {
       "output_type": "stream",
       "stream": "stdout",
       "text": [
        "DET\n",
        "Cas\n",
        "Nombre\n",
        "N\n",
        "Genre\n",
        "Nombre\n",
        "CF\n",
        "Cas\n",
        "ADJ\n",
        "Genre\n",
        "Nombre\n",
        "CF\n",
        "PREP\n",
        "V\n",
        "Temps\n",
        "Nombre-Abs\n",
        "Type\n",
        "Genre-Abs\n"
       ]
      }
     ],
     "prompt_number": 66
    },
    {
     "cell_type": "code",
     "collapsed": true,
     "input": [
      "hierarchieCF.getCategory(\"B\")"
     ],
     "language": "python",
     "metadata": {},
     "outputs": [
      {
       "metadata": {},
       "output_type": "pyout",
       "prompt_number": 72,
       "text": [
        "'N'"
       ]
      }
     ],
     "prompt_number": 72
    },
    {
     "cell_type": "code",
     "collapsed": false,
     "input": [
      "lexique.getLexemes(\"Kat\")"
     ],
     "language": "python",
     "metadata": {},
     "outputs": [
      {
       "metadata": {},
       "output_type": "pyout",
       "prompt_number": 75,
       "text": [
        "[katiSa, A, Katisha.A\n",
        " \t\tkatiSa :\n",
        " \t\t\tN, Genre=A, Nombre=Sg, CF=N1, Cas=Erg:\trekatiSaa\t\\cacherGloses{Erg-}Katisha\\cacherGloses{.A}\\cacherGloses{-N1.Sg}\n",
        " \t\t\tN, Genre=A, Nombre=Sg, CF=N1, Cas=Abs:\tbokatiSaa\t\\cacherGloses{Abs-}Katisha\\cacherGloses{.A}\\cacherGloses{-N1.Sg}\n",
        " \t\t\tN, Genre=A, Nombre=Sg, CF=N1, Cas=Obl:\tkokatiSaa\t\\cacherGloses{Obl-}Katisha\\cacherGloses{.A}\\cacherGloses{-N1.Sg}\n",
        " \t\t\tN, Genre=A, Nombre=Sg, CF=N1, Cas=Dat:\tlikatiSaa\t\\cacherGloses{Dat-}Katisha\\cacherGloses{.A}\\cacherGloses{-N1.Sg}\n",
        " \t\t\tN, Genre=A, Nombre=Sg, CF=N2, Cas=Erg:\trekatiSa\t\\cacherGloses{Erg-}Katisha\\cacherGloses{.A}\n",
        " \t\t\tN, Genre=A, Nombre=Sg, CF=N2, Cas=Abs:\tbokatiSa\t\\cacherGloses{Abs-}Katisha\\cacherGloses{.A}\n",
        " \t\t\tN, Genre=A, Nombre=Sg, CF=N2, Cas=Obl:\tkokatiSa\t\\cacherGloses{Obl-}Katisha\\cacherGloses{.A}\n",
        " \t\t\tN, Genre=A, Nombre=Sg, CF=N2, Cas=Dat:\tlikatiSa\t\\cacherGloses{Dat-}Katisha\\cacherGloses{.A}\n",
        " \t\t\tN, Genre=A, Nombre=Du, CF=N1, Cas=Erg:\trekataSi\t\\cacherGloses{Erg-}Katisha\\cacherGloses{.A}\\cacherGloses{xN1.Du}\n",
        " \t\t\tN, Genre=A, Nombre=Du, CF=N1, Cas=Abs:\tbokataSi\t\\cacherGloses{Abs-}Katisha\\cacherGloses{.A}\\cacherGloses{xN1.Du}\n",
        " \t\t\tN, Genre=A, Nombre=Du, CF=N1, Cas=Obl:\tkokataSi\t\\cacherGloses{Obl-}Katisha\\cacherGloses{.A}\\cacherGloses{xN1.Du}\n",
        " \t\t\tN, Genre=A, Nombre=Du, CF=N1, Cas=Dat:\tlikataSi\t\\cacherGloses{Dat-}Katisha\\cacherGloses{.A}\\cacherGloses{xN1.Du}\n",
        " \t\t\tN, Genre=A, Nombre=Du, CF=N2, Cas=Erg:\trekattaSi\t\\cacherGloses{Erg-}Katisha\\cacherGloses{.A}\\cacherGloses{xN2.Du}\n",
        " \t\t\tN, Genre=A, Nombre=Du, CF=N2, Cas=Abs:\tbokattaSi\t\\cacherGloses{Abs-}Katisha\\cacherGloses{.A}\\cacherGloses{xN2.Du}\n",
        " \t\t\tN, Genre=A, Nombre=Du, CF=N2, Cas=Obl:\tkokattaSi\t\\cacherGloses{Obl-}Katisha\\cacherGloses{.A}\\cacherGloses{xN2.Du}\n",
        " \t\t\tN, Genre=A, Nombre=Du, CF=N2, Cas=Dat:\tlikattaSi\t\\cacherGloses{Dat-}Katisha\\cacherGloses{.A}\\cacherGloses{xN2.Du}\n",
        " \t\t\tN, Genre=A, Nombre=Pl, CF=N1, Cas=Erg:\trekattaSi\t\\cacherGloses{Erg-}Katisha\\cacherGloses{.A}\\cacherGloses{xN1.Pl}\n",
        " \t\t\tN, Genre=A, Nombre=Pl, CF=N1, Cas=Abs:\tbokattaSi\t\\cacherGloses{Abs-}Katisha\\cacherGloses{.A}\\cacherGloses{xN1.Pl}\n",
        " \t\t\tN, Genre=A, Nombre=Pl, CF=N1, Cas=Obl:\tkokattaSi\t\\cacherGloses{Obl-}Katisha\\cacherGloses{.A}\\cacherGloses{xN1.Pl}\n",
        " \t\t\tN, Genre=A, Nombre=Pl, CF=N1, Cas=Dat:\tlikattaSi\t\\cacherGloses{Dat-}Katisha\\cacherGloses{.A}\\cacherGloses{xN1.Pl}\n",
        " \t\t\tN, Genre=A, Nombre=Pl, CF=N2, Cas=Erg:\trekaztuSi\t\\cacherGloses{Erg-}Katisha\\cacherGloses{.A}\\cacherGloses{xN2.Pl}\n",
        " \t\t\tN, Genre=A, Nombre=Pl, CF=N2, Cas=Abs:\tbokaztuSi\t\\cacherGloses{Abs-}Katisha\\cacherGloses{.A}\\cacherGloses{xN2.Pl}\n",
        " \t\t\tN, Genre=A, Nombre=Pl, CF=N2, Cas=Obl:\tkokaztuSi\t\\cacherGloses{Obl-}Katisha\\cacherGloses{.A}\\cacherGloses{xN2.Pl}\n",
        " \t\t\tN, Genre=A, Nombre=Pl, CF=N2, Cas=Dat:\tlikaztuSi\t\\cacherGloses{Dat-}Katisha\\cacherGloses{.A}\\cacherGloses{xN2.Pl}]"
       ]
      }
     ],
     "prompt_number": 75
    },
    {
     "cell_type": "code",
     "collapsed": false,
     "input": [
      "paradigmes.getSigmas(\"N1\")"
     ],
     "language": "python",
     "metadata": {},
     "outputs": [
      {
       "metadata": {},
       "output_type": "pyout",
       "prompt_number": 74,
       "text": [
        "['N, Genre=A, Nombre=Sg, CF=N1, Cas=Erg',\n",
        " 'N, Genre=A, Nombre=Sg, CF=N1, Cas=Abs',\n",
        " 'N, Genre=A, Nombre=Sg, CF=N1, Cas=Obl',\n",
        " 'N, Genre=A, Nombre=Sg, CF=N1, Cas=Dat',\n",
        " 'N, Genre=A, Nombre=Du, CF=N1, Cas=Erg',\n",
        " 'N, Genre=A, Nombre=Du, CF=N1, Cas=Abs',\n",
        " 'N, Genre=A, Nombre=Du, CF=N1, Cas=Obl',\n",
        " 'N, Genre=A, Nombre=Du, CF=N1, Cas=Dat',\n",
        " 'N, Genre=A, Nombre=Pl, CF=N1, Cas=Erg',\n",
        " 'N, Genre=A, Nombre=Pl, CF=N1, Cas=Abs',\n",
        " 'N, Genre=A, Nombre=Pl, CF=N1, Cas=Obl',\n",
        " 'N, Genre=A, Nombre=Pl, CF=N1, Cas=Dat',\n",
        " 'N, Genre=B, Nombre=Sg, CF=N1, Cas=Erg',\n",
        " 'N, Genre=B, Nombre=Sg, CF=N1, Cas=Abs',\n",
        " 'N, Genre=B, Nombre=Sg, CF=N1, Cas=Obl',\n",
        " 'N, Genre=B, Nombre=Sg, CF=N1, Cas=Dat',\n",
        " 'N, Genre=B, Nombre=Du, CF=N1, Cas=Erg',\n",
        " 'N, Genre=B, Nombre=Du, CF=N1, Cas=Abs',\n",
        " 'N, Genre=B, Nombre=Du, CF=N1, Cas=Obl',\n",
        " 'N, Genre=B, Nombre=Du, CF=N1, Cas=Dat',\n",
        " 'N, Genre=B, Nombre=Pl, CF=N1, Cas=Erg',\n",
        " 'N, Genre=B, Nombre=Pl, CF=N1, Cas=Abs',\n",
        " 'N, Genre=B, Nombre=Pl, CF=N1, Cas=Obl',\n",
        " 'N, Genre=B, Nombre=Pl, CF=N1, Cas=Dat',\n",
        " 'N, Genre=C, Nombre=Sg, CF=N1, Cas=Erg',\n",
        " 'N, Genre=C, Nombre=Sg, CF=N1, Cas=Abs',\n",
        " 'N, Genre=C, Nombre=Sg, CF=N1, Cas=Obl',\n",
        " 'N, Genre=C, Nombre=Sg, CF=N1, Cas=Dat',\n",
        " 'N, Genre=C, Nombre=Du, CF=N1, Cas=Erg',\n",
        " 'N, Genre=C, Nombre=Du, CF=N1, Cas=Abs',\n",
        " 'N, Genre=C, Nombre=Du, CF=N1, Cas=Obl',\n",
        " 'N, Genre=C, Nombre=Du, CF=N1, Cas=Dat',\n",
        " 'N, Genre=C, Nombre=Pl, CF=N1, Cas=Erg',\n",
        " 'N, Genre=C, Nombre=Pl, CF=N1, Cas=Abs',\n",
        " 'N, Genre=C, Nombre=Pl, CF=N1, Cas=Obl',\n",
        " 'N, Genre=C, Nombre=Pl, CF=N1, Cas=Dat',\n",
        " 'N, Genre=D, Nombre=Sg, CF=N1, Cas=Erg',\n",
        " 'N, Genre=D, Nombre=Sg, CF=N1, Cas=Abs',\n",
        " 'N, Genre=D, Nombre=Sg, CF=N1, Cas=Obl',\n",
        " 'N, Genre=D, Nombre=Sg, CF=N1, Cas=Dat',\n",
        " 'N, Genre=D, Nombre=Du, CF=N1, Cas=Erg',\n",
        " 'N, Genre=D, Nombre=Du, CF=N1, Cas=Abs',\n",
        " 'N, Genre=D, Nombre=Du, CF=N1, Cas=Obl',\n",
        " 'N, Genre=D, Nombre=Du, CF=N1, Cas=Dat',\n",
        " 'N, Genre=D, Nombre=Pl, CF=N1, Cas=Erg',\n",
        " 'N, Genre=D, Nombre=Pl, CF=N1, Cas=Abs',\n",
        " 'N, Genre=D, Nombre=Pl, CF=N1, Cas=Obl',\n",
        " 'N, Genre=D, Nombre=Pl, CF=N1, Cas=Dat']"
       ]
      }
     ],
     "prompt_number": 74
    },
    {
     "cell_type": "code",
     "collapsed": false,
     "input": [
      "with open(serie+\"Hierarchie.pkl\", 'wb') as output:\n",
      "   pickle.dump(hierarchieCF, output, pickle.HIGHEST_PROTOCOL)\n",
      "with open(serie+\"Lexique.pkl\", 'wb') as output:\n",
      "   pickle.dump(lexique, output, pickle.HIGHEST_PROTOCOL)\n",
      "with open(serie+\"Regles.pkl\", 'wb') as output:\n",
      "   pickle.dump(regles, output, pickle.HIGHEST_PROTOCOL)\n"
     ],
     "language": "python",
     "metadata": {},
     "outputs": [],
     "prompt_number": 69
    }
   ],
   "metadata": {}
  }
 ]
}
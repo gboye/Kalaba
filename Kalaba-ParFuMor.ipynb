{
 "metadata": {
  "name": "",
  "signature": "sha256:2e2e48349dcb2451bd04fe71a70f1ffd4305ff9659cd5a1ddd1b6095066f39bb"
 },
 "nbformat": 3,
 "nbformat_minor": 0,
 "worksheets": [
  {
   "cells": [
    {
     "cell_type": "markdown",
     "metadata": {},
     "source": [
      "#ParFuMor (version YAML & Objets)"
     ]
    },
    {
     "cell_type": "code",
     "collapsed": false,
     "input": [
      "repertoire=\"Kalaba-Test\"\n",
      "serie=repertoire+\"/\"\n",
      "\n",
      "import yaml\n",
      "import itertools\n",
      "#import re\n",
      "import ParFuMor as PFM\n",
      "from ParFuMor import *\n",
      "import pickle"
     ],
     "language": "python",
     "metadata": {},
     "outputs": [],
     "prompt_number": 191
    },
    {
     "cell_type": "code",
     "collapsed": false,
     "input": [
      "with open(serie+\"Gloses.yaml\", 'r') as stream:\n",
      "    gloses=yaml.load(stream)\n",
      "    PFM.gloses=gloses\n",
      "with open(serie+\"Stems.yaml\", 'r') as stream:\n",
      "    stems=yaml.load(stream)\n",
      "    PFM.stems=stems\n",
      "with open(serie+\"Blocks.yaml\", 'r') as stream:\n",
      "    blocks=yaml.load(stream)\n",
      "    PFM.blocks=blocks\n",
      "with open(serie+\"Phonology.yaml\", 'r') as stream:\n",
      "    phonology=yaml.load(stream)\n",
      "    PFM.phonology=phonology\n",
      "with open(serie+\"MorphoSyntax.yaml\", 'r') as stream:\n",
      "    morphosyntax=yaml.load(stream)\n",
      "    PFM.morphosyntax=morphosyntax"
     ],
     "language": "python",
     "metadata": {},
     "outputs": [],
     "prompt_number": 192
    },
    {
     "cell_type": "code",
     "collapsed": false,
     "input": [
      "regles=Regles()\n",
      "PFM.regles=regles\n",
      "for categorie in blocks:\n",
      "    regles.addBlocs(categorie,blocks[categorie])\n"
     ],
     "language": "python",
     "metadata": {},
     "outputs": [],
     "prompt_number": 193
    },
    {
     "cell_type": "code",
     "collapsed": true,
     "input": [
      "paradigmes=Paradigmes()\n",
      "PFM.paradigmes=paradigmes\n",
      "for cat in gloses:\n",
      "    attributes=[]\n",
      "    if gloses[cat]:\n",
      "        if set(gloses[cat].keys())==set(morphosyntax[\"Attributs\"][cat]):\n",
      "            features=morphosyntax[\"Attributs\"][cat]\n",
      "        else:\n",
      "            features=gloses[cat].keys()\n",
      "        for attribute in features:\n",
      "            attributes.append(gloses[cat][attribute])\n",
      "        nuplets=(itertools.product(*attributes))\n",
      "        for nuplet in nuplets:\n",
      "            proprietes=[cat]\n",
      "            for element in range(len(nuplet)):\n",
      "                proprietes.append(\"%s=%s\"%(features[element],nuplet[element]))\n",
      "            paradigmes.addForme(cat,proprietes)"
     ],
     "language": "python",
     "metadata": {},
     "outputs": [],
     "prompt_number": 194
    },
    {
     "cell_type": "code",
     "collapsed": false,
     "input": [
      "hierarchieCF=HierarchieCF()\n",
      "PFM.hierarchieCF=hierarchieCF\n",
      "lexique=Lexique()\n",
      "PFM.lexique=lexique\n"
     ],
     "language": "python",
     "metadata": {},
     "outputs": [],
     "prompt_number": 195
    },
    {
     "cell_type": "code",
     "collapsed": false,
     "input": [
      "analyserGloses(gloses)\n",
      "analyserStems(stems)"
     ],
     "language": "python",
     "metadata": {},
     "outputs": [
      {
       "output_type": "stream",
       "stream": "stdout",
       "text": [
        "DET\n",
        "Cas\n",
        "Nombre\n",
        "N\n",
        "Genre\n",
        "Nombre\n",
        "Cas\n",
        "ADJ\n",
        "Genre\n",
        "Nombre\n",
        "CF\n",
        "PREP\n",
        "V\n",
        "Temps\n",
        "Nombre-Abs\n",
        "Type\n",
        "Genre-Abs\n"
       ]
      }
     ],
     "prompt_number": 196
    },
    {
     "cell_type": "code",
     "collapsed": true,
     "input": [
      "hierarchieCF.getCategory(\"B\")"
     ],
     "language": "python",
     "metadata": {},
     "outputs": [
      {
       "metadata": {},
       "output_type": "pyout",
       "prompt_number": 197,
       "text": [
        "'N'"
       ]
      }
     ],
     "prompt_number": 197
    },
    {
     "cell_type": "code",
     "collapsed": false,
     "input": [
      "lexique.getLexemes(\"Kat\")"
     ],
     "language": "python",
     "metadata": {},
     "outputs": [
      {
       "metadata": {},
       "output_type": "pyout",
       "prompt_number": 198,
       "text": [
        "[katiSa, A, Katisha.A\n",
        " \t\tkatiSa :\n",
        " \t\t\tN, Genre=A, Nombre=Sg, Cas=Erg:\trekatiSaa\t\\cacherGloses{Erg-}Katisha\\cacherGloses{.A}\\cacherGloses{-Sg}\n",
        " \t\t\tN, Genre=A, Nombre=Sg, Cas=Abs:\tkatiSaaab\tKatisha\\cacherGloses{.A}\\cacherGloses{-Sg}\\cacherGloses{-Abs}\n",
        " \t\t\tN, Genre=A, Nombre=Sg, Cas=Obl:\tkatiSaaol\tKatisha\\cacherGloses{.A}\\cacherGloses{-Sg}\\cacherGloses{-Obl}\n",
        " \t\t\tN, Genre=A, Nombre=Sg, Cas=Dat:\tdakatiSaa\t\\cacherGloses{Dat-}Katisha\\cacherGloses{.A}\\cacherGloses{-Sg}\n",
        " \t\t\tN, Genre=A, Nombre=Du, Cas=Erg:\treokatiSa\t\\cacherGloses{Erg-}\\cacherGloses{Du-}Katisha\\cacherGloses{.A}\n",
        " \t\t\tN, Genre=A, Nombre=Du, Cas=Abs:\tokatiSaab\t\\cacherGloses{Du-}Katisha\\cacherGloses{.A}\\cacherGloses{-Abs}\n",
        " \t\t\tN, Genre=A, Nombre=Du, Cas=Obl:\tokatiSaol\t\\cacherGloses{Du-}Katisha\\cacherGloses{.A}\\cacherGloses{-Obl}\n",
        " \t\t\tN, Genre=A, Nombre=Du, Cas=Dat:\tdaokatiSa\t\\cacherGloses{Dat-}\\cacherGloses{Du-}Katisha\\cacherGloses{.A}\n",
        " \t\t\tN, Genre=A, Nombre=Pl, Cas=Erg:\treokatiSaa\t\\cacherGloses{Erg-}\\cacherGloses{Pl+}Katisha\\cacherGloses{.A}\\cacherGloses{+Pl}\n",
        " \t\t\tN, Genre=A, Nombre=Pl, Cas=Abs:\tokatiSaaab\t\\cacherGloses{Pl+}Katisha\\cacherGloses{.A}\\cacherGloses{+Pl}\\cacherGloses{-Abs}\n",
        " \t\t\tN, Genre=A, Nombre=Pl, Cas=Obl:\tokatiSaaol\t\\cacherGloses{Pl+}Katisha\\cacherGloses{.A}\\cacherGloses{+Pl}\\cacherGloses{-Obl}\n",
        " \t\t\tN, Genre=A, Nombre=Pl, Cas=Dat:\tdaokatiSaa\t\\cacherGloses{Dat-}\\cacherGloses{Pl+}Katisha\\cacherGloses{.A}\\cacherGloses{+Pl}]"
       ]
      }
     ],
     "prompt_number": 198
    },
    {
     "cell_type": "code",
     "collapsed": false,
     "input": [
      "paradigmes.getSigmas(\"N1\")"
     ],
     "language": "python",
     "metadata": {},
     "outputs": [
      {
       "metadata": {},
       "output_type": "pyout",
       "prompt_number": 199,
       "text": [
        "[]"
       ]
      }
     ],
     "prompt_number": 199
    },
    {
     "cell_type": "code",
     "collapsed": false,
     "input": [
      "with open(serie+\"Hierarchie.pkl\", 'wb') as output:\n",
      "   pickle.dump(hierarchieCF, output, pickle.HIGHEST_PROTOCOL)\n",
      "with open(serie+\"Lexique.pkl\", 'wb') as output:\n",
      "   pickle.dump(lexique, output, pickle.HIGHEST_PROTOCOL)\n",
      "with open(serie+\"Regles.pkl\", 'wb') as output:\n",
      "   pickle.dump(regles, output, pickle.HIGHEST_PROTOCOL)\n"
     ],
     "language": "python",
     "metadata": {},
     "outputs": [],
     "prompt_number": 200
    }
   ],
   "metadata": {}
  }
 ]
}
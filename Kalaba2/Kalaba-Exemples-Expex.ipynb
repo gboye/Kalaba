{
 "cells": [
  {
   "cell_type": "code",
   "execution_count": 49,
   "metadata": {
    "collapsed": true
   },
   "outputs": [],
   "source": [
    "# -*- coding: utf8 -*-\n",
    "from os.path import expanduser\n",
    "home = expanduser(\"~\")\n",
    "annee=\"19\"\n",
    "nKalaba=\"K3\"\n",
    "repertoire=home+\"/ownCloud/Cours/Bordeaux/L1-LinguistiqueGenerale/Kalaba-Project/\"+annee+\"-%s\"%nKalaba\n",
    "serie=repertoire+\"/\"\n",
    "nomExemples=serie+\"Exemples-Corr.tex\"\n",
    "nomExemples=serie+\"Exemples.tex\"\n",
    "debug=False"
   ]
  },
  {
   "cell_type": "code",
   "execution_count": 50,
   "metadata": {
    "collapsed": true
   },
   "outputs": [],
   "source": [
    "#########################IMPORTS############################################\n",
    "import codecs, optparse\n",
    "import re, random\n",
    "import sys,os,time\n",
    "import string\n",
    "import yaml, warnings"
   ]
  },
  {
   "cell_type": "code",
   "execution_count": 51,
   "metadata": {
    "collapsed": true
   },
   "outputs": [],
   "source": [
    "with codecs.open(nomExemples, 'r',encoding=\"utf8\") as input:\n",
    "    lineExemples=\"\".join(input.readlines())"
   ]
  },
  {
   "cell_type": "code",
   "execution_count": 52,
   "metadata": {
    "collapsed": true
   },
   "outputs": [],
   "source": [
    "exemples=re.findall(ur\"\\\\ex\\n\\\\gloses\\n(.*?)\\\\\\\\\\s*\\n(.*?)\\\\\\\\\\s*\\n(.*?)\\\\\\\\\\s*\\n(.*?)\\n\",lineExemples)"
   ]
  },
  {
   "cell_type": "code",
   "execution_count": 53,
   "metadata": {
    "collapsed": true
   },
   "outputs": [],
   "source": [
    "numEx=[\"a\",\"b\",\"c\",\"ft\"]\n",
    "linesExpex=[]\n",
    "for exemple in exemples:\n",
    "    linesExpex.append(u\"\\\\ex\") \n",
    "    linesExpex.append(u\"\\\\begingl\") \n",
    "    for num,ligne in enumerate(exemple):\n",
    "        if ligne.startswith(\"%\"):\n",
    "            linesExpex.append(u\"%% \\\\gl%s \"%numEx[num]+ligne[1:]+\" //\") \n",
    "        else:\n",
    "            linesExpex.append(u\"\\\\gl%s \"%numEx[num]+ligne+\" //\") \n",
    "    linesExpex.append(u\"\\\\endgl\") \n",
    "    linesExpex.append(u\"\\\\xe\")  "
   ]
  },
  {
   "cell_type": "code",
   "execution_count": 54,
   "metadata": {
    "collapsed": true
   },
   "outputs": [],
   "source": [
    "with codecs.open(nomExemples.replace(\".tex\",\"-expex.tex\"), 'w',encoding=\"utf8\") as output:\n",
    "    output.writelines(\"\\n\".join(linesExpex))"
   ]
  }
 ],
 "metadata": {
  "kernelspec": {
   "display_name": "Python 2",
   "language": "python",
   "name": "python2"
  },
  "language_info": {
   "codemirror_mode": {
    "name": "ipython",
    "version": 2
   },
   "file_extension": ".py",
   "mimetype": "text/x-python",
   "name": "python",
   "nbconvert_exporter": "python",
   "pygments_lexer": "ipython2",
   "version": "2.7.11"
  }
 },
 "nbformat": 4,
 "nbformat_minor": 1
}

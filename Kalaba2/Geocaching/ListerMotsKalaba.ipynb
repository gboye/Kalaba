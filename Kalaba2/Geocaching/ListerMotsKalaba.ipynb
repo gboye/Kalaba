{
 "cells": [
  {
   "cell_type": "code",
   "execution_count": 12,
   "metadata": {},
   "outputs": [],
   "source": [
    "import yaml,codecs,re\n",
    "import pandas as pd"
   ]
  },
  {
   "cell_type": "code",
   "execution_count": 13,
   "metadata": {},
   "outputs": [],
   "source": [
    "from os.path import expanduser\n",
    "home = expanduser(\"~\")\n",
    "serie=home+\"/Dropbox/Partage-Broadway/GAM/Caches/NosCaches/Kalabas/K400/\"\n",
    "csvTexte=serie+\"Phrases.csv\""
   ]
  },
  {
   "cell_type": "code",
   "execution_count": 14,
   "metadata": {},
   "outputs": [],
   "source": [
    "with codecs.open(csvTexte,\"r\",encoding=\"utf8\") as inFile:\n",
    "    texteLignes=inFile.readlines()"
   ]
  },
  {
   "cell_type": "code",
   "execution_count": null,
   "metadata": {},
   "outputs": [],
   "source": [
    "dictMots={}\n",
    "for l in texteLignes:\n",
    "    mots=re.split(ur\"[ \\t\\n.]+\",l)\n",
    "    for mot in mots:\n",
    "        if mot:\n",
    "            if mot not in dictMots:\n",
    "                dictMots[mot]=0\n",
    "            dictMots[mot]+=1"
   ]
  },
  {
   "cell_type": "code",
   "execution_count": 23,
   "metadata": {},
   "outputs": [],
   "source": [
    "pd.DataFrame.from_dict(dictMots,orient=\"index\").to_csv(path_or_buf=serie+\"ListeMots.csv\",encoding=\"utf8\",sep=\"\\t\")"
   ]
  }
 ],
 "metadata": {
  "kernelspec": {
   "display_name": "Python 2",
   "language": "python",
   "name": "python2"
  },
  "language_info": {
   "codemirror_mode": {
    "name": "ipython",
    "version": 2
   },
   "file_extension": ".py",
   "mimetype": "text/x-python",
   "name": "python",
   "nbconvert_exporter": "python",
   "pygments_lexer": "ipython2",
   "version": "2.7.15"
  }
 },
 "nbformat": 4,
 "nbformat_minor": 2
}

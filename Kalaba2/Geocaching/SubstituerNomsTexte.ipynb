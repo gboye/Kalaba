{
 "cells": [
  {
   "cell_type": "code",
   "execution_count": 62,
   "metadata": {},
   "outputs": [],
   "source": [
    "import yaml,codecs\n",
    "import pandas as pd"
   ]
  },
  {
   "cell_type": "code",
   "execution_count": 71,
   "metadata": {},
   "outputs": [],
   "source": [
    "from os.path import expanduser\n",
    "home = expanduser(\"~\")\n",
    "serie=home+\"/Dropbox/Partage-Broadway/GAM/Caches/NosCaches/Kalabas/K400/\"\n",
    "csvNoms=serie+\"noms40.csv\"\n",
    "csvPhrases=serie+\"Phrases.csv\"\n",
    "csvTraductions=serie+\"Traductions.csv\""
   ]
  },
  {
   "cell_type": "code",
   "execution_count": 64,
   "metadata": {},
   "outputs": [],
   "source": [
    "dfNoms=pd.read_csv(csvNoms,sep=\"\\t\",encoding=\"utf8\",header=None,usecols=[2,3])\n",
    "dictNoms=dfNoms.set_index(2).dropna().to_dict()[3]"
   ]
  },
  {
   "cell_type": "code",
   "execution_count": 65,
   "metadata": {},
   "outputs": [],
   "source": [
    "with codecs.open(csvPhrases,\"r\",encoding=\"utf8\") as inFile:\n",
    "    texteLignes=inFile.readlines()"
   ]
  },
  {
   "cell_type": "code",
   "execution_count": 66,
   "metadata": {},
   "outputs": [],
   "source": [
    "def remplacerMots(ligne):\n",
    "    result=ligne\n",
    "    for k,v in dictNoms.iteritems():\n",
    "        result=result.replace(k,v)\n",
    "    return result"
   ]
  },
  {
   "cell_type": "code",
   "execution_count": 68,
   "metadata": {},
   "outputs": [
    {
     "data": {
      "text/plain": [
       "[u'le magicien\\toffrait\\tun puma\\t\\xe0 Doris.\\t\\t\\n',\n",
       " u'les deux araign\\xe9es\\tdorment\\t\\t\\tavec la grande sorci\\xe8re.\\t\\n',\n",
       " u'les deux grands caf\\xe9s noirs\\ttombent\\t\\t\\tdans le petit lit de la grande fille.\\t\\n',\n",
       " u'un gros magicien blanc\\tach\\xe8te\\tdes caf\\xe9s noirs.\\t\\t\\t\\n',\n",
       " u'les trois cerfs noirs\\tmangent\\tces deux taupes blanches.\\t\\t\\t\\n',\n",
       " u'deux taupes\\tlancent\\tun oeuf\\t\\xe0 une araign\\xe9e\\t\\tsous le lit.\\n',\n",
       " u'le lit\\tsupportait\\tdeux gros cerfs blancs.\\t\\t\\t\\n',\n",
       " u'deux magiciens de cette maison\\tachetaient\\tles quatre oeufs de Doris.\\t\\t\\t\\n',\n",
       " u'un cerf jaune\\tdormait\\t\\t\\t\\tdevant la maison.\\n',\n",
       " u'deux petits magiciens\\tarrivent\\t\\t\\tavec Doris.\\t\\n',\n",
       " u'Paul\\tachetait\\tun lit\\t\\tpour la chambre.\\t\\n',\n",
       " u'ces deux grands gar\\xe7ons\\tdorment\\t\\t\\t\\tsous le lit.\\n',\n",
       " u'des grands gar\\xe7ons\\tmontraient\\tdes taupes\\taux filles de la maison.\\t\\t\\n',\n",
       " u'les pumas de la grande plaine\\tmontrent\\tles oeufs\\taux cerfs.\\t\\t\\n',\n",
       " u'les oeufs des araign\\xe9es\\ttombaient\\t\\t\\tsous la maison\\tdevant Doris.\\n',\n",
       " u'ces deux grands magiciens maigres\\tsupportent\\tles lits\\t\\tavec des coussins.\\t\\n',\n",
       " u'la fille du magicien\\tdonne\\tdeux araign\\xe9es\\taux sorci\\xe8res de la plaine\\t\\tdans la cuisine.\\n',\n",
       " u'deux taupes\\tbuvaient\\tdes tursans\\t\\tsous cette table.\\t\\n',\n",
       " u'les sorci\\xe8res du village\\tdonnent\\tdes kiwis\\taux magiciens\\tde la maison.\\t\\n',\n",
       " u'les taupes du village\\tdorment\\t\\t\\tdevant le cerf.\\t\\n',\n",
       " u'les petits lits des grandes filles maigres\\tarrivent\\t\\t\\tdans la chambre.\\t\\n',\n",
       " u'un coussin\\tsupporte\\tle cerf.\\t\\t\\t\\n',\n",
       " u'les deux petits oeufs\\tarrivent\\t\\t\\tsous la grande araign\\xe9e.\\t\\n',\n",
       " u'ces trois cerfs\\tbuvaient\\tle tursan de Berlin\\t\\tdans la cuisine.\\t\\n',\n",
       " u'les sorci\\xe8res\\tmangent\\tdes oeufs\\t\\tsur des coussins.\\t\\n',\n",
       " u'les trois filles\\tchassent\\tces deux pumas devant la maison rouge\\t\\tavec des balais jaunes.\\t\\n',\n",
       " u'les chambres\\tsupportent\\tdes lits.\\t\\t\\t\\n',\n",
       " u'ces deux sorci\\xe8res\\tmangeaient\\tdeux oeufs.\\t\\t\\t\\n',\n",
       " u'Paul\\tdonnait\\tun petit lit\\t\\xe0 la grande sorci\\xe8re.\\t\\t\\n',\n",
       " u'deux caf\\xe9s\\ttombaient\\t\\t\\tsur les coussins de la chambre.\\t\\n',\n",
       " u'Doris\\ttombe\\t\\t\\tsur les coussins du lit.\\t\\n',\n",
       " u'Paul\\ttombe\\t\\t\\tdans le lit de cette petite sorci\\xe8re.\\t\\n',\n",
       " u'la fille de Doris\\tdort\\t\\t\\t\\tdans la chambre de Paul.\\n',\n",
       " u'les sorci\\xe8res\\toffraient\\tun caf\\xe9\\taux deux magiciens de taupes.\\t\\t\\n',\n",
       " u'un gar\\xe7on\\tarrive\\t\\t\\tdans la chambre des deux filles.\\t\\n',\n",
       " u'les cerfs blancs\\tdorment\\t\\t\\tsur deux grosses tables.\\t\\n',\n",
       " u'deux filles\\tarrivent\\t\\t\\tavec deux gar\\xe7ons.\\t\\n',\n",
       " u'les filles de Berlin\\tdorment\\t\\t\\tavec une taupe blanche.\\t\\n',\n",
       " u'deux pumas jaunes\\tarrivaient\\t\\t\\tdans la grande plaine.\\t\\n',\n",
       " u'un gar\\xe7on\\tlan\\xe7ait\\tun balai jaune\\taux pumas de la plaine.\\t\\t\\n',\n",
       " u'cette araign\\xe9e\\ttombe\\t\\t\\tsur un coussin\\tavec deux petits oeufs.\\n',\n",
       " u'les petites taupes\\ttombent\\t\\t\\tsur un cerf noir.\\t\\n',\n",
       " u'ces deux pumas\\tchassaient\\tdes araign\\xe9es.\\t\\t\\t\\n',\n",
       " u'les pumas\\tlan\\xe7aient\\tune taupe\\t\\xe0 ces cerfs.\\t\\t\\n',\n",
       " u'le petit lit blanc\\tsupporte\\tdes gros coussins noirs.\\t\\t\\t\\n',\n",
       " u'ce petit gar\\xe7on\\tmange\\tles deux oeufs de cette araign\\xe9e.\\t\\t\\t\\n',\n",
       " u'des petits magiciens\\tmangent\\tun oeuf noir\\t\\t\\tdans la chambre.\\n',\n",
       " u'deux araign\\xe9es\\tmangeaient\\tdes kiwis\\t\\t\\tdevant ces deux maisons.\\n',\n",
       " u'les taupes blanches\\tsupportent\\tune sorci\\xe8re.\\t\\t\\t\\n',\n",
       " u'les deux petites filles\\tach\\xe8tent\\tdes grands caf\\xe9s.\\t\\t\\t\\n',\n",
       " u'les sorci\\xe8res\\tdonnent\\tle balai\\t\\xe0 Paul\\t\\tsur la table.\\n',\n",
       " u'deux magiciens de pumas\\tmontrent\\tla viande\\t\\xe0 ce cerf.\\t\\t\\n',\n",
       " u'deux cerfs\\tmangent\\tdes taupes.\\t\\t\\t\\n',\n",
       " u'deux gar\\xe7ons\\tdonnaient\\tdes taupes noires\\t\\xe0 des cerfs.\\t\\t\\n',\n",
       " u'deux grands gar\\xe7ons\\tboivent\\tdes petits caf\\xe9s.\\t\\t\\t\\n',\n",
       " u'le tursan noir\\tchasse\\tles pumas.\\t\\t\\t\\n',\n",
       " u'ces trois magiciens\\toffraient\\tdeux araign\\xe9es des plaines\\tau petit gar\\xe7on blanc.\\t\\t\\n',\n",
       " u'les quatre balais\\tsupportaient\\tla table de la cuisine.\\t\\t\\t\\n',\n",
       " u'deux filles\\toffraient\\tdes coussins rouges\\tau gar\\xe7on.\\t\\t\\n',\n",
       " u'les deux magiciens\\tsupportaient\\tles pumas de Paul.\\t\\t\\t\\n',\n",
       " u'le magicien\\tdonne\\tcette viande\\tau cerf des gar\\xe7ons.\\t\\t\\n',\n",
       " u'une taupe\\tarrive\\t\\t\\tdans le lit de Berlin.\\t\\n',\n",
       " u'Doris\\tsupporte\\tles deux grosses araign\\xe9es.\\t\\t\\t\\n',\n",
       " u'deux magiciens maigres\\tlan\\xe7aient\\tdes oeufs jaunes\\t\\xe0 Berlin\\tdans la cuisine.\\t\\n',\n",
       " u'ces deux kiwis jaunes\\tentrent\\t\\t\\tdans la maison du cerf.\\t\\n',\n",
       " u'les deux sorci\\xe8res\\tarrivent\\t\\t\\tdans la chambre du magicien.\\t\\n',\n",
       " u'ces gar\\xe7ons maigres\\tsupportaient\\tles deux taupes blanches des magiciens\\t\\t\\t\\n',\n",
       " u'deux sorci\\xe8res\\tmontraient\\tun lit\\t\\xe0 deux biches.\\t\\t\\n',\n",
       " u'ces filles\\tachetaient\\tdes balais\\t\\t\\tdevant la maison jaune.\\n',\n",
       " u'Doris\\tmontre\\tla cuisine de la maison\\taux filles des sorci\\xe8res.\\t\\t\\n',\n",
       " u'la table avec les balais\\ttombait\\t\\t\\tdevant les magiciens dans la cuisine.\\t\\n',\n",
       " u'une table\\ttombe\\t\\t\\tdans la chambre noire.\\t\\n',\n",
       " u'un petit cerf\\tchassait\\ttrois taupes blanches.\\t\\t\\t\\n',\n",
       " u'les kiwis rouges\\tarrivent\\t\\t\\tdans le village de la fille de Paul.\\t\\n',\n",
       " u'cette fille\\tboit\\tun tursan noir\\t\\tavec les deux petits magiciens.\\t\\n',\n",
       " u'les deux cerfs blancs\\tdorment\\t\\t\\t\\tsur la table basse.\\n',\n",
       " u'le magicien de taupes blanches\\tentre\\t\\t\\tdans la grande cuisine de Berlin.\\t\\n',\n",
       " u'la table\\tsupporte\\tdes kiwis rouges.\\t\\t\\t\\n',\n",
       " u'Paul\\toffre\\tces viandes\\t\\xe0 Doris\\tpour la cuisine.\\t\\n',\n",
       " u'les petits gar\\xe7ons\\tach\\xe8tent\\tdeux coussins blancs.\\t\\t\\t\\n',\n",
       " u'les sorci\\xe8res\\tchassaient\\tune taupe\\t\\tavec des balais.\\t\\n',\n",
       " u'ces araign\\xe9es\\tarrivent\\t\\t\\tdans le village de Paul.\\t\\n',\n",
       " u'les magiciens\\tmontraient\\tune araign\\xe9e\\taux deux petites filles\\t\\tdevant la maison.\\n',\n",
       " u'des gar\\xe7ons\\tarrivent\\t\\t\\tdans les deux petites chambres blanches.\\t\\n',\n",
       " u'le gros magicien\\tbuvait\\tun caf\\xe9\\t\\tsur la table de la cuisine de la petite maison blanche.\\t\\n',\n",
       " u'une petite taupe\\tentre\\t\\t\\tdans la maison du gros cerf.\\t\\n',\n",
       " u'la petite taupe\\tboit\\tun petit tursan\\t\\t\\tsous ce grand lit.\\n',\n",
       " u'les gros magiciens\\tmangeaient\\tune petite araign\\xe9e noire\\t\\t\\tsur des coussins.\\n',\n",
       " u'les petits coussins\\tarrivaient\\t\\t\\tdans la grande maison\\tavec les sorci\\xe8res.\\n',\n",
       " u'les gros magiciens\\tdorment\\t\\t\\tsous les grandes tables noires.\\t\\n',\n",
       " u'deux magiciens\\tdormaient\\t\\t\\tsur des coussins\\tdevant la cuisine.\\n',\n",
       " u'le puma\\tentre\\t\\t\\tdans la maison jaune du village.\\t\\n',\n",
       " u'les magiciens\\tdonnaient\\tdes kiwis jaunes\\taux grandes araign\\xe9es.\\t\\t\\n',\n",
       " u'les deux araign\\xe9es\\tboivent\\tces deux grands caf\\xe9s.\\t\\t\\t\\n',\n",
       " u'deux araign\\xe9es\\tdonnent\\tun oeuf\\t\\xe0 ces pumas maigres.\\t\\t\\n',\n",
       " u'un oeuf\\ttombe\\t\\t\\tdans le lit.\\t\\n',\n",
       " u'ces deux grosses taupes\\tchassent\\tles petits cerfs des filles de Doris.\\t\\t\\t\\n',\n",
       " u'les deux pumas\\tchassent\\tdes araign\\xe9es\\t\\t\\tdans la plaine.\\n',\n",
       " u'les tursans noirs\\ttombent\\t\\t\\tsous les coussins.\\t\\n',\n",
       " u'les deux cerfs jaunes\\tchassent\\tles taupes de la maison\\t\\tdans la petite cuisine.\\t\\n',\n",
       " u'les sorci\\xe8res\\toffrent\\tun lit\\t\\xe0 Berlin.\\t\\t\\n',\n",
       " u'ces sorci\\xe8res\\tdorment\\t\\t\\tdans les grandes chambres.\\t\\n',\n",
       " u'des pumas\\tdormaient\\t\\t\\t\\tsous la chambre des deux sorci\\xe8res.\\n',\n",
       " u'Berlin\\tdonne\\tces trois cerfs\\t\\xe0 ces deux filles.\\t\\t\\n',\n",
       " u'ces deux tables\\tsupportent\\tles filles.\\t\\t\\t\\n',\n",
       " u'Doris\\tarrivait\\t\\t\\tdans la chambre\\tavec deux gros cerfs.\\n',\n",
       " u'des filles\\tach\\xe8tent\\tun maigre cerf noir.\\t\\t\\t\\n',\n",
       " u'un grand magicien\\tmontrait\\tun petit puma\\t\\xe0 Paul\\t\\tdans la plaine devant la cuisine.\\n',\n",
       " u'deux gros cerfs\\tdorment\\t\\t\\t\\tsous la petite table de la grande chambre.\\n',\n",
       " u'ces deux kiwis\\tarrivent\\t\\t\\tde la plaine.\\t\\n',\n",
       " u'deux oeufs\\tsupportent\\tcette araign\\xe9e.\\t\\t\\t\\n',\n",
       " u'le coussin\\tarrive\\t\\t\\tsur le lit.\\t\\n',\n",
       " u'une petite araign\\xe9e blanche\\tboit\\tun tursan noir\\t\\t\\tdevant la maison.\\n',\n",
       " u'les lits\\tsupportent\\tles deux gros magiciens.\\t\\t\\t\\n',\n",
       " u'une grosse araign\\xe9e\\tsupporte\\tun petit gar\\xe7on.\\t\\t\\t\\n',\n",
       " u'ces deux gar\\xe7ons\\toffrent\\tune table\\taux magiciens.\\t\\t\\n',\n",
       " u'les sorci\\xe8res\\tlancent\\tla viande de ces pumas\\t\\xe0 Berlin\\tsur la table de la cuisine.\\t\\n',\n",
       " u'les trois maigres araign\\xe9es\\tdonnaient\\tdes oeufs blancs\\t\\tsur les gros coussins noirs.\\t\\n',\n",
       " u'ces deux sorci\\xe8res\\tboivent\\tun caf\\xe9\\t\\tavec les magiciens.\\t\\n',\n",
       " u'une petite fille\\tlancE\\tdeux viandes\\tau gros puma.\\t\\t\\n',\n",
       " u'les silures de Paul\\tr\\xeavassent\\t\\t\\tsur la table de la cuisine\\t\\n',\n",
       " u'la biche noire\\tmange\\tles deux silures rouges de Paul\\t\\t\\tdevant la maison\\n',\n",
       " u'deux magiciens\\tmontraient\\ttrois silures\\t\\xe0 la fille de Berlin\\t\\t\\n',\n",
       " u'Paul\\tdonne\\tce silure\\t\\xe0 Doris\\tpour le cerf de la maison\\t\\n',\n",
       " u'les cerfs\\tmangeaient\\tles quatre silures de Paul\\t\\t\\t\\n',\n",
       " u\"la biche de Paul\\tmontre\\tdes silures\\t\\xe0 l'araign\\xe9e de la sorci\\xe8re\\t\\t\\n\",\n",
       " u'ces trois filles\\tbuvaient\\tdes caf\\xe9s\\t\\t\\tdans la cuisine de la maison de Paul\\n',\n",
       " u'ces quatre biches\\tentraient\\t\\t\\tdans la maison des viandes pour pumas\\t\\n',\n",
       " u'ce silure noir\\tlancE\\tquatre caf\\xe9s\\t\\t\\tpour la biche de Berlin\\n',\n",
       " u'la viande du silure blanc\\tentre\\t\\t\\tdans la chambre des deux biches maigres\\t\\n']"
      ]
     },
     "execution_count": 68,
     "metadata": {},
     "output_type": "execute_result"
    }
   ],
   "source": [
    "newLines=[]\n",
    "for ligne in texteLignes:\n",
    "    newLines.append(remplacerMots(ligne))\n",
    "newLines"
   ]
  },
  {
   "cell_type": "code",
   "execution_count": 69,
   "metadata": {},
   "outputs": [],
   "source": [
    "with codecs.open(csvTexte.replace(\".csv\",\"-New.csv\"),\"w\",encoding=\"utf8\") as outFile:\n",
    "    outFile.writelines(newLines)"
   ]
  },
  {
   "cell_type": "code",
   "execution_count": null,
   "metadata": {},
   "outputs": [],
   "source": []
  },
  {
   "cell_type": "code",
   "execution_count": 72,
   "metadata": {},
   "outputs": [],
   "source": [
    "with codecs.open(csvTraductions,\"r\",encoding=\"utf8\") as inFile:\n",
    "    texteLignes=inFile.readlines()"
   ]
  },
  {
   "cell_type": "code",
   "execution_count": 73,
   "metadata": {},
   "outputs": [
    {
     "data": {
      "text/plain": [
       "[u'les magiciens\\toffrent\\tdeux pumas\\t\\xe0 la sorci\\xe8re.\\t\\t\\n',\n",
       " u'les deux kiwis\\tarrivaient\\t\\t\\tdans la cuisine de Doris.\\t\\n',\n",
       " u'les deux petites tables jaunes\\ttombent\\t\\t\\tdevant les trois cerfs de Paul\\tdans la cuisine.\\n',\n",
       " u'ce grand magicien de pumas\\tdonne\\tune maison\\taux sorci\\xe8res du village.\\t\\t\\n',\n",
       " u\"les trois villages de la plaine\\tchassent\\tles magiciens d'araign\\xe9es \\t\\tavec des balais.\\t\\n\",\n",
       " u'Berlin\\tachetait\\tla viande du puma\\taux petits magiciens\\tavec un silure.\\t\\n',\n",
       " u'les deux silures sur la table de la cuisine\\ttombaient\\t\\t\\tsur le gros cerf noir de Paul\\t\\n',\n",
       " u'les gar\\xe7ons de la maison de Doris\\tach\\xe8tent\\tdeux araign\\xe9es\\t\\tpour les filles de Paul\\t\\n',\n",
       " u'le petit cerf \\tdort\\t\\t\\tavec une araign\\xe9e\\tsous le lit.\\n',\n",
       " u'quatre magiciens de cerfs noirs\\tarrivent\\t\\t\\tdans la cuisine de Doris.\\t\\n',\n",
       " u'Doris\\tach\\xe8te\\tun \\u0153uf\\t\\tpour le gros cerf.\\t\\n',\n",
       " u'ces trois coussins\\ttombaient\\t\\t\\tsur le petit lit de la fille de Doris.\\t\\n',\n",
       " u'les filles du village des magiciens\\tlan\\xe7aient\\tdes taupes blanches\\t\\xe0 Berlin\\t\\tdevant la maison jaune.\\n',\n",
       " u\"un puma maigre rouge des plaines\\tmontre\\tquatre sorci\\xe8res\\taux deux gros magiciens d'araign\\xe9es\\tdevant la maison de Berlin\\t\\n\",\n",
       " u'les \\u0153ufs sur les coussins\\ttombaient\\t\\t\\tsous le lit dans la cuisine\\tdevant le silure rouge.\\n',\n",
       " u'la grosse taupe de la maison des filles du magicien\\tentre\\t\\t\\tdans la chambre du magicien\\t\\n',\n",
       " u\"l'araign\\xe9e du magicien\\tsupportait\\tles trois silures\\t\\tavec des petits coussins jaunes\\tdans la cuisine.\\n\",\n",
       " u'cette petite fille du village\\tboit\\tle tursan noir de Berlin\\t\\t\\tdevant la maison du gros magicien.\\n',\n",
       " u\"le gar\\xe7on avec l'araign\\xe9e\\tbuvait\\tun caf\\xe9\\t\\tavec la sorci\\xe8re\\tdans la chambre jaune.\\n\",\n",
       " u'des biches noires\\tdormaient\\t\\t\\tsur des coussins rouges\\tsous la maison du magicien de pumas.\\n',\n",
       " u'les gros balais du magicien de cerfs\\ttombent\\t\\t\\tdevant le lit dans la chambre de la sorci\\xe8re\\t\\n',\n",
       " u'la grande maison rouge dans le village de Doris \\tsupporte\\ttrois araign\\xe9es\\t\\tavec quatre balais.\\t\\n',\n",
       " u'cette viande de puma\\tarrive\\t\\t\\tdans le village des sorci\\xe8res de la plaine\\t\\n',\n",
       " u'les cuisines des maisons du village\\toffraient\\tle caf\\xe9\\taux magiciens de puma\\t\\tdans la plaine des trois araign\\xe9es\\n',\n",
       " u'ce tursan noir du village des silures rouges\\tdormait\\t\\t\\tsous la table\\tdans la cuisine des sorci\\xe8res de la maison noire\\n',\n",
       " u'les deux pumas noirs de Berlin\\tchassaient\\tles petites taupes blanches des gar\\xe7ons\\t\\tdans la maison.\\t\\n',\n",
       " u\"ces deux chambres de la maison des sorci\\xe8res\\toffrent\\tdes lits\\taux magiciens d'araign\\xe9es blanches\\t\\t\\n\",\n",
       " u\"des lits dans les chambres de la maison de Paul\\tsupportaient\\tces quatre \\u0153ufs d'araign\\xe9e\\t\\t\\tdans le village des trois pumas.\\n\",\n",
       " u'la fille de la sorci\\xe8re\\tdonnait\\tdes \\u0153ufs\\t\\xe0 Doris\\t\\tdevant la cuisine des gar\\xe7ons de Paul\\n',\n",
       " u'le caf\\xe9 de la cuisine du gar\\xe7on du magicien de pumas\\toffrait\\tun balai \\xe0 taupes\\t\\xe0 la grosse sorci\\xe8re de la maison.\\t\\t\\n',\n",
       " u'les magiciens de taupes blanches\\tmangeaient\\tdes kiwis\\t\\tsur les deux coussins blancs\\tdevant la petite plaine\\n',\n",
       " u'la petite fille de Berlin\\tdormait\\t\\t\\t\\tdans une chambre.\\n']"
      ]
     },
     "execution_count": 73,
     "metadata": {},
     "output_type": "execute_result"
    }
   ],
   "source": [
    "newLines=[]\n",
    "for ligne in texteLignes:\n",
    "    newLines.append(remplacerMots(ligne))\n",
    "newLines"
   ]
  },
  {
   "cell_type": "code",
   "execution_count": 75,
   "metadata": {},
   "outputs": [],
   "source": [
    "with codecs.open(csvTraductions.replace(\".csv\",\"-New.csv\"),\"w\",encoding=\"utf8\") as outFile:\n",
    "    outFile.writelines(newLines)"
   ]
  },
  {
   "cell_type": "code",
   "execution_count": null,
   "metadata": {},
   "outputs": [],
   "source": []
  }
 ],
 "metadata": {
  "kernelspec": {
   "display_name": "Python 2",
   "language": "python",
   "name": "python2"
  },
  "language_info": {
   "codemirror_mode": {
    "name": "ipython",
    "version": 2
   },
   "file_extension": ".py",
   "mimetype": "text/x-python",
   "name": "python",
   "nbconvert_exporter": "python",
   "pygments_lexer": "ipython2",
   "version": "2.7.15"
  }
 },
 "nbformat": 4,
 "nbformat_minor": 2
}

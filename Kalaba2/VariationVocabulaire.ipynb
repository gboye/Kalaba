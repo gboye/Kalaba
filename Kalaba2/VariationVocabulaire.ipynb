{
 "cells": [
  {
   "cell_type": "code",
   "execution_count": null,
   "metadata": {
    "collapsed": true
   },
   "outputs": [],
   "source": [
    "# -*- coding: utf8 -*-\n",
    "from os.path import expanduser\n",
    "import codecs\n",
    "import itertools as it\n",
    "home = expanduser(\"~\")\n",
    "repertoire=home+\"/ownCloud/Cours/Bordeaux/L1-LinguistiqueGenerale/Kalaba-Project/\"\n",
    "nomTraductions=repertoire+\"Phrases-B2-autruches-comp.csv\""
   ]
  },
  {
   "cell_type": "code",
   "execution_count": null,
   "metadata": {
    "collapsed": true
   },
   "outputs": [],
   "source": [
    "with codecs.open(nomTraductions,\"r\",encoding=\"utf8\") as input:\n",
    "    traductionsIn=input.readlines()"
   ]
  },
  {
   "cell_type": "code",
   "execution_count": null,
   "metadata": {
    "collapsed": true
   },
   "outputs": [],
   "source": [
    "def getAlternatives(libelle,syntagme):\n",
    "    alternatives=raw_input(libelle+syntagme+\"\\n\").decode(\"utf8\")\n",
    "    return set(alternatives.split(\",\"))"
   ]
  },
  {
   "cell_type": "code",
   "execution_count": null,
   "metadata": {
    "scrolled": false
   },
   "outputs": [],
   "source": [
    "alternatives={'':[\"\"]}\n",
    "for ligne in traductionsIn[:5]:\n",
    "    syntagmes=ligne.strip().split(\"\\t\")\n",
    "    gnSG={}\n",
    "    gnPL={}\n",
    "    vSG={}\n",
    "    vPL={}\n",
    "    divers={}\n",
    "    print \" \".join(syntagmes)\n",
    "    for nSyntagme,syntagme in enumerate(syntagmes):\n",
    "        if syntagme:\n",
    "            if syntagme in alternatives:\n",
    "                print syntagme, \", \".join(list(alternatives[syntagme]))\n",
    "            else:\n",
    "                alternatives[syntagme]=set()\n",
    "            if nSyntagme in [0,1,2]:\n",
    "                if nSyntagme==0:\n",
    "                    nombreSujet=raw_input(\"Quel nombre pour le sujet ?\\n\").decode(\"utf8\")\n",
    "                if nSyntagme in [0,2]: \n",
    "                    dicSG=gnSG\n",
    "                    dicPL=gnPL\n",
    "                else:\n",
    "                    dicSG=vSG\n",
    "                    dicPL=vPL\n",
    "                if not syntagme in dicSG: dicSG[syntagme]=set()\n",
    "                if not syntagme in dicPL: dicPL[syntagme]=set()\n",
    "                dicSG[syntagme]|=getAlternatives(\"alternatives SG pour \",syntagme.encode(\"utf8\"))\n",
    "                dicPL[syntagme]|=getAlternatives(\"alternatives PL pour \",syntagme.encode(\"utf8\"))\n",
    "                if nombreSujet==\"sg\": dicSG[syntagme]|=set([syntagme])\n",
    "                else: dicPL[syntagme]|=set([syntagme])\n",
    "                alternatives[syntagme]|=dicSG[syntagme]|dicPL[syntagme]\n",
    "            else:\n",
    "                alternatives[syntagme]|=getAlternatives(\"alternatives pour \",syntagme.encode(\"utf8\"))\n",
    "                alternatives[syntagme]|=set([syntagme])\n",
    "    altSyntagmes=[list(alternatives[k]) for k in syntagmes[2:]]\n",
    "    sujetSG=[gnSG[syntagmes[0]],vSG[syntagmes[1]]]+altSyntagmes\n",
    "    sujetPL=[gnPL[syntagmes[0]],vPL[syntagmes[1]]]+altSyntagmes\n",
    "    for phrase in it.product(*sujetSG):\n",
    "        if not phrase[-1].endswith(\".\"): phrase[-1]+=\".\"\n",
    "        print \"\\t\".join(phrase)\n",
    "    for phrase in it.product(*sujetPL):\n",
    "        if not phrase[-1].endswith(\".\"): phrase[-1]+=\".\"\n",
    "        print \"\\t\".join(phrase)"
   ]
  },
  {
   "cell_type": "code",
   "execution_count": null,
   "metadata": {},
   "outputs": [],
   "source": [
    "[list(alternatives[k]) for k in syntagmes[2:]]"
   ]
  },
  {
   "cell_type": "code",
   "execution_count": null,
   "metadata": {},
   "outputs": [],
   "source": [
    "sujetSG"
   ]
  },
  {
   "cell_type": "code",
   "execution_count": null,
   "metadata": {},
   "outputs": [],
   "source": [
    "list(alternatives[''])"
   ]
  }
 ],
 "metadata": {
  "kernelspec": {
   "display_name": "Python 2",
   "language": "python",
   "name": "python2"
  },
  "language_info": {
   "codemirror_mode": {
    "name": "ipython",
    "version": 2
   },
   "file_extension": ".py",
   "mimetype": "text/x-python",
   "name": "python",
   "nbconvert_exporter": "python",
   "pygments_lexer": "ipython2",
   "version": "2.7.11"
  }
 },
 "nbformat": 4,
 "nbformat_minor": 1
}

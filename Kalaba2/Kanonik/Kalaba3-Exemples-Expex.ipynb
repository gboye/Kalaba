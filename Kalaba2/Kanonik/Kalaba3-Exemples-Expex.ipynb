{
 "cells": [
  {
   "cell_type": "markdown",
   "metadata": {},
   "source": [
    "# Transformation des exemples en expex pour TD/Correction/Analyse"
   ]
  },
  {
   "cell_type": "code",
   "execution_count": 137,
   "metadata": {},
   "outputs": [],
   "source": [
    "from os.path import expanduser\n",
    "#from cellbell import ding\n",
    "\n",
    "def ding():\n",
    "    os.system('afplay /System/Library/Sounds/Submarine.aiff')"
   ]
  },
  {
   "cell_type": "code",
   "execution_count": 138,
   "metadata": {},
   "outputs": [
    {
     "name": "stdout",
     "output_type": "stream",
     "text": [
      "[2] Kanonik\n"
     ]
    }
   ],
   "source": [
    "%store -r numerosKalaba typeKalaba\n",
    "# numerosKalaba=[5]\n",
    "print numerosKalaba,typeKalaba"
   ]
  },
  {
   "cell_type": "code",
   "execution_count": 139,
   "metadata": {},
   "outputs": [
    {
     "name": "stdout",
     "output_type": "stream",
     "text": [
      "/Users/gilles/ownCloud/Cours/Bordeaux/L1-UE4-Morphologie/K-22/Kanonik-02/\n"
     ]
    }
   ],
   "source": [
    "# -*- coding: utf8 -*-\n",
    "home = expanduser(\"~\")\n",
    "\n",
    "if typeKalaba!=\"Kanonik\":\n",
    "    numeroKalaba=\"21-K%d/\"%numerosKalaba[0]\n",
    "    repertoire=home+\"/ownCloud/Cours/Bordeaux/L1-LinguistiqueGenerale/00-ProjetKalaba/\"\n",
    "    serie=repertoire+numeroKalaba\n",
    "else:\n",
    "    numeroKalaba=\"K-22/Kanonik-%02d/\"%numerosKalaba[0]\n",
    "    repertoire=home+\"/ownCloud/Cours/Bordeaux/L1-UE4-Morphologie/\"\n",
    "    serie=repertoire+numeroKalaba\n",
    "\n",
    "print serie"
   ]
  },
  {
   "cell_type": "code",
   "execution_count": 140,
   "metadata": {},
   "outputs": [],
   "source": [
    "nomExemples=serie+\"Exemples.tex\"\n",
    "nomExemplesCorr=serie+\"Exemples-Corr.tex\"\n",
    "nomExemplesCorrExpex=serie+\"Exemples-Corr-expex.tex\"\n",
    "debug=False"
   ]
  },
  {
   "cell_type": "code",
   "execution_count": 141,
   "metadata": {},
   "outputs": [],
   "source": [
    "#########################IMPORTS############################################\n",
    "import codecs, optparse\n",
    "import re, random\n",
    "import sys,os,time\n",
    "import string\n",
    "import yaml, warnings"
   ]
  },
  {
   "cell_type": "markdown",
   "metadata": {},
   "source": [
    "# Transformation des exemples du TD"
   ]
  },
  {
   "cell_type": "code",
   "execution_count": 142,
   "metadata": {},
   "outputs": [],
   "source": [
    "with codecs.open(nomExemples, 'r',encoding=\"utf8\") as input:\n",
    "    lineExemples=\"\".join(input.readlines())"
   ]
  },
  {
   "cell_type": "code",
   "execution_count": 143,
   "metadata": {},
   "outputs": [],
   "source": [
    "exemples=re.findall(ur\"\\\\ex\\n\\\\gloses\\n(.*?)\\\\\\\\\\s*\\n(.*?)\\\\\\\\\\s*\\n(.*?)\\\\\\\\\\s*\\n(.*?)\\n\",lineExemples)"
   ]
  },
  {
   "cell_type": "code",
   "execution_count": 144,
   "metadata": {},
   "outputs": [],
   "source": [
    "numEx=[\"a\",\"b\",\"c\",\"ft\"]\n",
    "linesExpex=[]\n",
    "for exemple in exemples:\n",
    "    linesExpex.append(u\"\\\\ex\") \n",
    "    linesExpex.append(u\"\\\\begingl\") \n",
    "    for num,ligne in enumerate(exemple):\n",
    "        if ligne.startswith(\"%\"):\n",
    "            linesExpex.append(u\"%% \\\\gl%s \"%numEx[num]+ligne[1:]+\" //\") \n",
    "        else:\n",
    "            linesExpex.append(u\"\\\\gl%s \"%numEx[num]+ligne+\" //\") \n",
    "    linesExpex.append(u\"\\\\endgl\") \n",
    "    linesExpex.append(u\"\\\\xe\")  "
   ]
  },
  {
   "cell_type": "code",
   "execution_count": 145,
   "metadata": {},
   "outputs": [],
   "source": [
    "with codecs.open(nomExemples.replace(\".tex\",\"-expex.tex\"), 'w',encoding=\"utf8\") as output:\n",
    "    output.writelines(\"\\n\".join(linesExpex))"
   ]
  },
  {
   "cell_type": "markdown",
   "metadata": {},
   "source": [
    "# Transformation des exemples du corrigé"
   ]
  },
  {
   "cell_type": "code",
   "execution_count": 146,
   "metadata": {},
   "outputs": [],
   "source": [
    "with codecs.open(nomExemplesCorr, 'r',encoding=\"utf8\") as input:\n",
    "    lineExemples=\"\".join(input.readlines())"
   ]
  },
  {
   "cell_type": "code",
   "execution_count": 147,
   "metadata": {},
   "outputs": [],
   "source": [
    "exemples=re.findall(ur\"\\\\ex\\n\\\\gloses\\n(.*?)\\\\\\\\\\s*\\n(.*?)\\\\\\\\\\s*\\n(.*?)\\\\\\\\\\s*\\n(.*?)\\n\",lineExemples)"
   ]
  },
  {
   "cell_type": "code",
   "execution_count": 148,
   "metadata": {},
   "outputs": [],
   "source": [
    "numEx=[\"a\",\"b\",\"c\",\"ft\"]\n",
    "linesExpex=[]\n",
    "for exemple in exemples:\n",
    "    linesExpex.append(u\"\\\\ex\") \n",
    "    linesExpex.append(u\"\\\\begingl\") \n",
    "    for num,ligne in enumerate(exemple):\n",
    "        if ligne.startswith(\"%\"):\n",
    "            linesExpex.append(u\"%% \\\\gl%s \"%numEx[num]+ligne[1:]+\" //\") \n",
    "        else:\n",
    "            linesExpex.append(u\"\\\\gl%s \"%numEx[num]+ligne+\" //\") \n",
    "    linesExpex.append(u\"\\\\endgl\") \n",
    "    linesExpex.append(u\"\\\\xe\")  "
   ]
  },
  {
   "cell_type": "code",
   "execution_count": 149,
   "metadata": {},
   "outputs": [],
   "source": [
    "with codecs.open(nomExemplesCorr.replace(\".tex\",\"-expex.tex\"), 'w',encoding=\"utf8\") as output:\n",
    "    output.writelines(\"\\n\".join(linesExpex))"
   ]
  },
  {
   "cell_type": "markdown",
   "metadata": {},
   "source": [
    "# Transformation des exemples de l'analyse"
   ]
  },
  {
   "cell_type": "code",
   "execution_count": 150,
   "metadata": {},
   "outputs": [],
   "source": [
    "with codecs.open(nomExemplesCorrExpex, 'r',encoding=\"utf8\") as input:\n",
    "    lineExemples=\"\".join(input.readlines()).split(\"\\n\")"
   ]
  },
  {
   "cell_type": "code",
   "execution_count": 151,
   "metadata": {},
   "outputs": [],
   "source": [
    "linesSortie=[]\n",
    "for e in lineExemples:\n",
    "    if e.startswith(u\"\\\\glb\"):\n",
    "        linesSortie.append(e)\n",
    "        linesSortie.append(e.replace(u\"P{}\",u\"D{}\"))\n",
    "    else:\n",
    "        linesSortie.append(e)        "
   ]
  },
  {
   "cell_type": "code",
   "execution_count": 152,
   "metadata": {},
   "outputs": [],
   "source": [
    "with codecs.open(nomExemplesCorrExpex.replace(\"-expex.tex\",\"-Decoupe-expex.tex\"), 'w',encoding=\"utf8\") as output:\n",
    "    output.writelines(\"\\n\".join(linesSortie))"
   ]
  },
  {
   "cell_type": "code",
   "execution_count": 153,
   "metadata": {},
   "outputs": [],
   "source": [
    "ding()"
   ]
  },
  {
   "cell_type": "code",
   "execution_count": null,
   "metadata": {},
   "outputs": [],
   "source": []
  }
 ],
 "metadata": {
  "kernelspec": {
   "display_name": "Python [conda env:python2]",
   "language": "python",
   "name": "conda-env-python2-py"
  },
  "language_info": {
   "codemirror_mode": {
    "name": "ipython",
    "version": 2
   },
   "file_extension": ".py",
   "mimetype": "text/x-python",
   "name": "python",
   "nbconvert_exporter": "python",
   "pygments_lexer": "ipython2",
   "version": "2.7.16"
  }
 },
 "nbformat": 4,
 "nbformat_minor": 1
}

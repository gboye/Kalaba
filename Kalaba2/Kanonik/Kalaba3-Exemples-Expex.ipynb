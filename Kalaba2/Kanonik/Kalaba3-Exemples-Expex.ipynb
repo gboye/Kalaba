{
 "cells": [
  {
   "cell_type": "markdown",
   "metadata": {},
   "source": [
    "# Transformation des exemples en expex pour TD/Correction/Analyse"
   ]
  },
  {
   "cell_type": "code",
   "execution_count": 17,
   "metadata": {},
   "outputs": [],
   "source": [
    "from os.path import expanduser\n",
    "#from cellbell import ding\n",
    "\n",
    "def ding():\n",
    "    os.system('afplay /System/Library/Sounds/Submarine.aiff')"
   ]
  },
  {
   "cell_type": "code",
   "execution_count": 18,
   "metadata": {},
   "outputs": [
    {
     "name": "stdout",
     "output_type": "stream",
     "text": [
      "21-K5\n"
     ]
    }
   ],
   "source": [
    "%store -r numerosKalaba\n",
    "# numerosKalaba=[5]\n",
    "numeroKalaba=\"21-K%d\"%numerosKalaba[0]\n",
    "print numeroKalaba"
   ]
  },
  {
   "cell_type": "code",
   "execution_count": 19,
   "metadata": {},
   "outputs": [],
   "source": [
    "# -*- coding: utf8 -*-\n",
    "home = expanduser(\"~\")\n",
    "serie=home+\"/ownCloud/Cours/Bordeaux/L1-LinguistiqueGenerale/00-ProjetKalaba/%s/\"%numeroKalaba\n",
    "\n",
    "nomExemples=serie+\"Exemples.tex\"\n",
    "nomExemplesCorr=serie+\"Exemples-Corr.tex\"\n",
    "nomExemplesCorrExpex=serie+\"Exemples-Corr-expex.tex\"\n",
    "debug=False"
   ]
  },
  {
   "cell_type": "code",
   "execution_count": 20,
   "metadata": {},
   "outputs": [],
   "source": [
    "#########################IMPORTS############################################\n",
    "import codecs, optparse\n",
    "import re, random\n",
    "import sys,os,time\n",
    "import string\n",
    "import yaml, warnings"
   ]
  },
  {
   "cell_type": "markdown",
   "metadata": {},
   "source": [
    "# Transformation des exemples du TD"
   ]
  },
  {
   "cell_type": "code",
   "execution_count": 21,
   "metadata": {},
   "outputs": [],
   "source": [
    "with codecs.open(nomExemples, 'r',encoding=\"utf8\") as input:\n",
    "    lineExemples=\"\".join(input.readlines())"
   ]
  },
  {
   "cell_type": "code",
   "execution_count": 22,
   "metadata": {},
   "outputs": [],
   "source": [
    "exemples=re.findall(ur\"\\\\ex\\n\\\\gloses\\n(.*?)\\\\\\\\\\s*\\n(.*?)\\\\\\\\\\s*\\n(.*?)\\\\\\\\\\s*\\n(.*?)\\n\",lineExemples)"
   ]
  },
  {
   "cell_type": "code",
   "execution_count": 23,
   "metadata": {},
   "outputs": [],
   "source": [
    "numEx=[\"a\",\"b\",\"c\",\"ft\"]\n",
    "linesExpex=[]\n",
    "for exemple in exemples:\n",
    "    linesExpex.append(u\"\\\\ex\") \n",
    "    linesExpex.append(u\"\\\\begingl\") \n",
    "    for num,ligne in enumerate(exemple):\n",
    "        if ligne.startswith(\"%\"):\n",
    "            linesExpex.append(u\"%% \\\\gl%s \"%numEx[num]+ligne[1:]+\" //\") \n",
    "        else:\n",
    "            linesExpex.append(u\"\\\\gl%s \"%numEx[num]+ligne+\" //\") \n",
    "    linesExpex.append(u\"\\\\endgl\") \n",
    "    linesExpex.append(u\"\\\\xe\")  "
   ]
  },
  {
   "cell_type": "code",
   "execution_count": 24,
   "metadata": {},
   "outputs": [],
   "source": [
    "with codecs.open(nomExemples.replace(\".tex\",\"-expex.tex\"), 'w',encoding=\"utf8\") as output:\n",
    "    output.writelines(\"\\n\".join(linesExpex))"
   ]
  },
  {
   "cell_type": "markdown",
   "metadata": {},
   "source": [
    "# Transformation des exemples du corrigé"
   ]
  },
  {
   "cell_type": "code",
   "execution_count": 25,
   "metadata": {},
   "outputs": [],
   "source": [
    "with codecs.open(nomExemplesCorr, 'r',encoding=\"utf8\") as input:\n",
    "    lineExemples=\"\".join(input.readlines())"
   ]
  },
  {
   "cell_type": "code",
   "execution_count": 26,
   "metadata": {},
   "outputs": [],
   "source": [
    "exemples=re.findall(ur\"\\\\ex\\n\\\\gloses\\n(.*?)\\\\\\\\\\s*\\n(.*?)\\\\\\\\\\s*\\n(.*?)\\\\\\\\\\s*\\n(.*?)\\n\",lineExemples)"
   ]
  },
  {
   "cell_type": "code",
   "execution_count": 27,
   "metadata": {},
   "outputs": [],
   "source": [
    "numEx=[\"a\",\"b\",\"c\",\"ft\"]\n",
    "linesExpex=[]\n",
    "for exemple in exemples:\n",
    "    linesExpex.append(u\"\\\\ex\") \n",
    "    linesExpex.append(u\"\\\\begingl\") \n",
    "    for num,ligne in enumerate(exemple):\n",
    "        if ligne.startswith(\"%\"):\n",
    "            linesExpex.append(u\"%% \\\\gl%s \"%numEx[num]+ligne[1:]+\" //\") \n",
    "        else:\n",
    "            linesExpex.append(u\"\\\\gl%s \"%numEx[num]+ligne+\" //\") \n",
    "    linesExpex.append(u\"\\\\endgl\") \n",
    "    linesExpex.append(u\"\\\\xe\")  "
   ]
  },
  {
   "cell_type": "code",
   "execution_count": 28,
   "metadata": {},
   "outputs": [],
   "source": [
    "with codecs.open(nomExemplesCorr.replace(\".tex\",\"-expex.tex\"), 'w',encoding=\"utf8\") as output:\n",
    "    output.writelines(\"\\n\".join(linesExpex))"
   ]
  },
  {
   "cell_type": "markdown",
   "metadata": {},
   "source": [
    "# Transformation des exemples de l'analyse"
   ]
  },
  {
   "cell_type": "code",
   "execution_count": 29,
   "metadata": {},
   "outputs": [],
   "source": [
    "with codecs.open(nomExemplesCorrExpex, 'r',encoding=\"utf8\") as input:\n",
    "    lineExemples=\"\".join(input.readlines()).split(\"\\n\")"
   ]
  },
  {
   "cell_type": "code",
   "execution_count": 30,
   "metadata": {},
   "outputs": [],
   "source": [
    "linesSortie=[]\n",
    "for e in lineExemples:\n",
    "    if e.startswith(u\"\\\\glb\"):\n",
    "        linesSortie.append(e)\n",
    "        linesSortie.append(e.replace(u\"P{}\",u\"D{}\"))\n",
    "    else:\n",
    "        linesSortie.append(e)        "
   ]
  },
  {
   "cell_type": "code",
   "execution_count": 31,
   "metadata": {},
   "outputs": [],
   "source": [
    "with codecs.open(nomExemplesCorrExpex.replace(\"-expex.tex\",\"-Decoupe-expex.tex\"), 'w',encoding=\"utf8\") as output:\n",
    "    output.writelines(\"\\n\".join(linesSortie))"
   ]
  },
  {
   "cell_type": "code",
   "execution_count": 32,
   "metadata": {},
   "outputs": [],
   "source": [
    "ding()"
   ]
  },
  {
   "cell_type": "code",
   "execution_count": null,
   "metadata": {},
   "outputs": [],
   "source": []
  }
 ],
 "metadata": {
  "kernelspec": {
   "display_name": "Python (py27)",
   "language": "python",
   "name": "py27"
  },
  "language_info": {
   "codemirror_mode": {
    "name": "ipython",
    "version": 2
   },
   "file_extension": ".py",
   "mimetype": "text/x-python",
   "name": "python",
   "nbconvert_exporter": "python",
   "pygments_lexer": "ipython2",
   "version": "2.7.16"
  }
 },
 "nbformat": 4,
 "nbformat_minor": 1
}

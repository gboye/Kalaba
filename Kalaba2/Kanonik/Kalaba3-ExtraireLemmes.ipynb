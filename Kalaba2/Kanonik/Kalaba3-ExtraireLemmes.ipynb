{
 "cells": [
  {
   "cell_type": "code",
   "execution_count": 1,
   "id": "e069d482-e5d3-4378-992b-3075969ee752",
   "metadata": {},
   "outputs": [],
   "source": [
    "import yaml\n",
    "from os.path import expanduser\n",
    "import pyperclip"
   ]
  },
  {
   "cell_type": "code",
   "execution_count": 2,
   "id": "42b46e15-ac99-4caa-bdf6-e9ab9661ef88",
   "metadata": {},
   "outputs": [],
   "source": [
    "home = expanduser(\"~\")\n",
    "\n",
    "repertoire=home+\"/ownCloud/Cours/Bordeaux/L1-LinguistiqueGenerale/00-ProjetKalaba/\"\n",
    "serie=repertoire+\"23-K1/\"\n",
    "with open(serie+\"Stems.yaml\", 'r') as stream:\n",
    "        stems=yaml.safe_load(stream)"
   ]
  },
  {
   "cell_type": "code",
   "execution_count": 3,
   "id": "540208b3-c4f1-40bf-9fbc-79390ff66a1c",
   "metadata": {},
   "outputs": [
    {
     "ename": "KeyError",
     "evalue": "0",
     "output_type": "error",
     "traceback": [
      "\u001b[0;31m---------------------------------------------------------------------------\u001b[0m",
      "\u001b[0;31mKeyError\u001b[0m                                  Traceback (most recent call last)",
      "\u001b[0;32m<ipython-input-3-b8febb38de86>\u001b[0m in \u001b[0;36m<module>\u001b[0;34m()\u001b[0m\n\u001b[0;32m----> 1\u001b[0;31m \u001b[0mlCat\u001b[0m\u001b[0;34m=\u001b[0m\u001b[0;34m[\u001b[0m\u001b[0mv\u001b[0m\u001b[0;34m[\u001b[0m\u001b[0;36m0\u001b[0m\u001b[0;34m]\u001b[0m \u001b[0;32mfor\u001b[0m  \u001b[0mk\u001b[0m\u001b[0;34m,\u001b[0m\u001b[0mv\u001b[0m \u001b[0;32min\u001b[0m \u001b[0mstems\u001b[0m\u001b[0;34m[\u001b[0m\u001b[0;34m\"NOM\"\u001b[0m\u001b[0;34m]\u001b[0m\u001b[0;34m.\u001b[0m\u001b[0miteritems\u001b[0m\u001b[0;34m(\u001b[0m\u001b[0;34m)\u001b[0m\u001b[0;34m]\u001b[0m\u001b[0;34m\u001b[0m\u001b[0m\n\u001b[0m\u001b[1;32m      2\u001b[0m \u001b[0msCat\u001b[0m\u001b[0;34m=\u001b[0m\u001b[0;34m\"\\n\"\u001b[0m\u001b[0;34m.\u001b[0m\u001b[0mjoin\u001b[0m\u001b[0;34m(\u001b[0m\u001b[0msorted\u001b[0m\u001b[0;34m(\u001b[0m\u001b[0mlCat\u001b[0m\u001b[0;34m)\u001b[0m\u001b[0;34m)\u001b[0m\u001b[0;34m\u001b[0m\u001b[0m\n\u001b[1;32m      3\u001b[0m \u001b[0mpyperclip\u001b[0m\u001b[0;34m.\u001b[0m\u001b[0mcopy\u001b[0m\u001b[0;34m(\u001b[0m\u001b[0msCat\u001b[0m\u001b[0;34m)\u001b[0m\u001b[0;34m\u001b[0m\u001b[0m\n",
      "\u001b[0;31mKeyError\u001b[0m: 0"
     ]
    }
   ],
   "source": [
    "lCat=[v[0] for  k,v in stems[\"NOM\"].iteritems()]\n",
    "sCat=\"\\n\".join(sorted(lCat))\n",
    "pyperclip.copy(sCat)"
   ]
  },
  {
   "cell_type": "code",
   "execution_count": 5,
   "id": "84aa81cd-c16a-4799-aaa5-c57e4119f0ad",
   "metadata": {
    "tags": []
   },
   "outputs": [
    {
     "name": "stdout",
     "output_type": "stream",
     "text": [
      "Agathos\n",
      "Clemencia\n",
      "Elphaba\n",
      "Freja\n",
      "Hoderi\n",
      "Kaleb\n",
      "Katisha\n",
      "Mahira\n",
      "Nabil\n",
      "Nicole\n",
      "Violette\n",
      "arbre\n",
      "autruche\n",
      "balai\n",
      "blessure\n",
      "bras\n",
      "bûcher\n",
      "café\n",
      "caillou\n",
      "chambre\n",
      "chasseur\n",
      "chasseuse\n",
      "chat\n",
      "chatte\n",
      "chef\n",
      "chemin\n",
      "colère\n",
      "combat\n",
      "combattant\n",
      "construction\n",
      "corps\n",
      "coup\n",
      "coussin\n",
      "couteau\n",
      "coyote\n",
      "crapaud\n",
      "cri\n",
      "croc\n",
      "créature\n",
      "cuisine\n",
      "côté\n",
      "demande\n",
      "dernier-N\n",
      "disparition\n",
      "donjon\n",
      "douleur\n",
      "dragon\n",
      "dégât\n",
      "démon\n",
      "enfant\n",
      "esprit\n",
      "excuse\n",
      "femme\n",
      "feu\n",
      "fille\n",
      "forêt\n",
      "fruit\n",
      "gargouille\n",
      "garçon\n",
      "gorge\n",
      "grimoire\n",
      "harmonie\n",
      "histoire\n",
      "homme\n",
      "hurlement\n",
      "héros\n",
      "infirmière\n",
      "jardin\n",
      "jour\n",
      "lance\n",
      "lever-N\n",
      "lit\n",
      "livre\n",
      "loup\n",
      "loup.HYPER\n",
      "louve\n",
      "lueur\n",
      "lumière\n",
      "lune\n",
      "légende\n",
      "légume\n",
      "main\n",
      "maison\n",
      "manoir\n",
      "marais\n",
      "matin\n",
      "maître\n",
      "milieu\n",
      "mort\n",
      "mère\n",
      "nouvelle-N\n",
      "nuit\n",
      "obscurité\n",
      "oeil\n",
      "ombre\n",
      "parent\n",
      "peau\n",
      "place\n",
      "plaine\n",
      "poisson\n",
      "proximité\n",
      "père\n",
      "raison\n",
      "robe\n",
      "serpent\n",
      "soeur\n",
      "sorcier\n",
      "sort\n",
      "sortilège\n",
      "souffrance\n",
      "souris\n",
      "table\n",
      "thé\n",
      "tornade\n",
      "vengeance\n",
      "viande\n",
      "village\n",
      "villageois\n",
      "villageoise\n",
      "visage\n",
      "voleuse\n",
      "vote\n",
      "œuf\n"
     ]
    }
   ],
   "source": [
    "print sCat"
   ]
  },
  {
   "cell_type": "code",
   "execution_count": 28,
   "id": "715606cf-5565-45bb-8358-adb12a448b2e",
   "metadata": {},
   "outputs": [],
   "source": [
    "lCat=[]\n",
    "for  k,v in stems[\"VER\"].iteritems():\n",
    "    for kk,vv in v.iteritems():\n",
    "        lCat.append(vv[0])\n",
    "sCat=\"\\n\".join(sorted(lCat))\n",
    "pyperclip.copy(sCat)"
   ]
  },
  {
   "cell_type": "code",
   "execution_count": 4,
   "id": "2a3503b7-7bfd-4efe-bc5e-8cec6ea3bd35",
   "metadata": {},
   "outputs": [],
   "source": [
    "lCat=[]\n",
    "for  k,v in stems[\"NOM\"].iteritems():\n",
    "    for kk,vv in v.iteritems():\n",
    "        lCat.append(vv[0])\n",
    "sCat=\"\\n\".join(sorted(lCat))\n",
    "pyperclip.copy(sCat)"
   ]
  }
 ],
 "metadata": {
  "kernelspec": {
   "display_name": "Python 2.7",
   "language": "python",
   "name": "py2"
  },
  "language_info": {
   "codemirror_mode": {
    "name": "ipython",
    "version": 2
   },
   "file_extension": ".py",
   "mimetype": "text/x-python",
   "name": "python",
   "nbconvert_exporter": "python",
   "pygments_lexer": "ipython2",
   "version": "2.7.16"
  }
 },
 "nbformat": 4,
 "nbformat_minor": 5
}

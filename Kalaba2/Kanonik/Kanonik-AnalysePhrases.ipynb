{
 "cells": [
  {
   "cell_type": "code",
   "execution_count": 369,
   "metadata": {},
   "outputs": [],
   "source": [
    "import pandas as pd\n",
    "import codecs,re"
   ]
  },
  {
   "cell_type": "code",
   "execution_count": 370,
   "metadata": {},
   "outputs": [
    {
     "name": "stdout",
     "output_type": "stream",
     "text": [
      "25\n"
     ]
    }
   ],
   "source": [
    "%store -r numerosKanoniks\n",
    "if numerosKanoniks and len(numerosKanoniks)==1:\n",
    "    numGroupe=int(numerosKanoniks[0])\n",
    "if numGroupe==0:\n",
    "    strSelect=raw_input(\"Quel numéro ?\\n\")\n",
    "    numGroupe=int(strSelect)\n",
    "# numGroupe+=1\n",
    "# numGroupe=19\n",
    "print numGroupe"
   ]
  },
  {
   "cell_type": "code",
   "execution_count": 371,
   "metadata": {},
   "outputs": [],
   "source": [
    "# -*- coding: utf8 -*-\n",
    "from os.path import expanduser\n",
    "from cellbell import ding\n",
    "from itertools import groupby\n",
    "home = expanduser(\"~\")\n",
    "annee=\"2020\"\n",
    "annee=\"20-Kanoniks\"\n",
    "RightLeft=True\n",
    "repertoire=home+\"/ownCloud/Cours/Bordeaux/L1-UE4-Morphologie/00-Kanonik/\"+annee\n",
    "serie=repertoire+\"/\"+\"K%02d/\"%numGroupe\n",
    "complementPhrases=\"\""
   ]
  },
  {
   "cell_type": "code",
   "execution_count": 372,
   "metadata": {},
   "outputs": [],
   "source": [
    "phrase_nom=serie+complementPhrases+\"Phrases.csv\"\n",
    "traduction_nom=serie+complementPhrases+\"Traductions.csv\""
   ]
  },
  {
   "cell_type": "code",
   "execution_count": 373,
   "metadata": {},
   "outputs": [
    {
     "name": "stdout",
     "output_type": "stream",
     "text": [
      "Félix\tmange\tles jolies patates noires\t\t\tsur cette table\n"
     ]
    }
   ],
   "source": [
    "with codecs.open(phrase_nom,\"r\",encoding=\"utf8\") as inFile:\n",
    "    phrases=[p.strip() for p in inFile.readlines()]\n",
    "print phrases[0]    "
   ]
  },
  {
   "cell_type": "code",
   "execution_count": 374,
   "metadata": {},
   "outputs": [],
   "source": [
    "sep=\"\\t\"\n",
    "if \"\\t\" not in phrases[0]:\n",
    "    sep=raw_input(\"Quel séparateur ?\")"
   ]
  },
  {
   "cell_type": "code",
   "execution_count": 375,
   "metadata": {},
   "outputs": [],
   "source": [
    "def nettoyagePhrase(phrase):\n",
    "    result=phrase\n",
    "    if '\"' in result:\n",
    "        result=result.replace('\"','')\n",
    "    return result"
   ]
  },
  {
   "cell_type": "code",
   "execution_count": 376,
   "metadata": {},
   "outputs": [
    {
     "data": {
      "text/plain": [
       "[['1', '1', '0', '0', '1', '1'],\n",
       " ['1', '1', '0', '0', '1', '0'],\n",
       " ['1', '1', '0', '0', '0', '1'],\n",
       " ['1', '1', '1', '1', '0', '0'],\n",
       " ['1', '1', '1', '1', '0', '1'],\n",
       " ['1', '1', '1', '0', '0', '1'],\n",
       " ['1', '1', '1', '0', '0', '0']]"
      ]
     },
     "execution_count": 376,
     "metadata": {},
     "output_type": "execute_result"
    }
   ],
   "source": [
    "combinaisons=set()\n",
    "for p in phrases:\n",
    "    phrase=nettoyagePhrase(p)\n",
    "    champs=re.split(sep,phrase)\n",
    "#    print champs\n",
    "    combinaison=[\"0\" for i in range(6)]\n",
    "    for nC,c in enumerate(champs):\n",
    "        if c.strip()!=\"\":\n",
    "            combinaison[nC]=\"1\"\n",
    "    combinaisons.add(\"\".join(combinaison))\n",
    "combinaisons=[list(c) for c in combinaisons]\n",
    "combinaisons"
   ]
  },
  {
   "cell_type": "code",
   "execution_count": 377,
   "metadata": {},
   "outputs": [
    {
     "name": "stdout",
     "output_type": "stream",
     "text": [
      "25\n",
      "COD\n",
      "['1', '1', '1', '1', '0', '1']\n",
      "COI\n",
      "['1', '1', '1', '1', '0', '1']\n",
      "COMP\n",
      "['1', '1', '0', '0', '1', '1']\n"
     ]
    }
   ],
   "source": [
    "print numGroupe\n",
    "nomFonctions={0:\"Sujet\",1:\"Verbe\",2:\"COD\",3:\"COI\",4:\"COMP\",5:\"AJOUT\"}\n",
    "base=[\"0\" for i in range(6)]\n",
    "for fonction in range(6):\n",
    "    fonctBase=base[:]\n",
    "    fonctBase[fonction]=\"1\"\n",
    "    for c in combinaisons:\n",
    "        if c[fonction]==\"1\":\n",
    "            for nPos,pos in enumerate(c):\n",
    "                if c[nPos]==\"1\":\n",
    "                    fonctBase[nPos]=\"1\"\n",
    "    if \"0\" in fonctBase:\n",
    "        print nomFonctions[fonction]\n",
    "        print fonctBase"
   ]
  }
 ],
 "metadata": {
  "kernelspec": {
   "display_name": "Python 2",
   "language": "python",
   "name": "python2"
  },
  "language_info": {
   "codemirror_mode": {
    "name": "ipython",
    "version": 2
   },
   "file_extension": ".py",
   "mimetype": "text/x-python",
   "name": "python",
   "nbconvert_exporter": "python",
   "pygments_lexer": "ipython2",
   "version": "2.7.15"
  }
 },
 "nbformat": 4,
 "nbformat_minor": 2
}

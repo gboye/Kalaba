{
 "cells": [
  {
   "cell_type": "markdown",
   "metadata": {},
   "source": [
    "# Calculer les différences entre la remise et la sortie"
   ]
  },
  {
   "cell_type": "code",
   "execution_count": 1,
   "metadata": {},
   "outputs": [],
   "source": [
    "import codecs,re,os\n",
    "from os.path import expanduser\n",
    "import ansi2html\n",
    "from IPython.display import display, HTML\n",
    "conv=ansi2html.Ansi2HTMLConverter()\n"
   ]
  },
  {
   "cell_type": "code",
   "execution_count": 2,
   "metadata": {},
   "outputs": [],
   "source": [
    "def ding():\n",
    "    os.system('afplay /System/Library/Sounds/Submarine.aiff')"
   ]
  },
  {
   "cell_type": "code",
   "execution_count": 3,
   "metadata": {},
   "outputs": [
    {
     "name": "stdout",
     "output_type": "stream",
     "text": [
      "[18] Kanonik\n"
     ]
    }
   ],
   "source": [
    "%store -r numerosKalaba typeKalaba\n",
    "# numerosKalaba=[1]\n",
    "print numerosKalaba, typeKalaba\n",
    "# numerosKalaba=[2]"
   ]
  },
  {
   "cell_type": "code",
   "execution_count": 4,
   "metadata": {},
   "outputs": [
    {
     "name": "stdout",
     "output_type": "stream",
     "text": [
      "/Users/gilles/Library/Mobile Documents/com~apple~CloudDocs/Downloads/23-Kanoniks/Kanonik-18-ok/\n"
     ]
    }
   ],
   "source": [
    "home = expanduser(\"~\")\n",
    "\n",
    "if typeKalaba!=\"Kanonik\":\n",
    "    numeroKalaba=\"22-K%d/\"%numerosKalaba[0]\n",
    "    repertoire=home+\"/ownCloud/Cours/Bordeaux/L1-LinguistiqueGenerale/00-ProjetKalaba/\"\n",
    "    serie=repertoire+numeroKalaba\n",
    "else:\n",
    "    repertoire=home+\"/Library/Mobile Documents/com~apple~CloudDocs/Downloads/\"\n",
    "    serie=repertoire+\"23-Kanoniks/\"\n",
    "    serie=serie+\"Kanonik-%02d-ok/\"%numerosKalaba[0]\n",
    "\n",
    "print serie"
   ]
  },
  {
   "cell_type": "code",
   "execution_count": 5,
   "metadata": {},
   "outputs": [],
   "source": [
    "fTraductions=serie+\"Traductions.txt\"\n",
    "fKanonik=serie+\"eCampus-Kanonik.txt\"\n",
    "fKanonikGB=serie+\"Kanonik.txt\"\n",
    "serieCLI='\"'+serie+'\"'"
   ]
  },
  {
   "cell_type": "markdown",
   "metadata": {},
   "source": [
    "## Créer le fichier Kanonik-GB\n",
    "- ouvrir les traductions bilingues de *Traductions.txt*\n",
    "- couper au point-virgule\n",
    "- sauver le kanonik"
   ]
  },
  {
   "cell_type": "code",
   "execution_count": 6,
   "metadata": {},
   "outputs": [],
   "source": [
    "with codecs.open(fTraductions,\"r\",encoding=\"utf8\") as inFile:\n",
    "    phrases=[p.strip() for p in inFile.readlines()]\n",
    "traductions=[p.split(\";\")[0].strip() for p in phrases]"
   ]
  },
  {
   "cell_type": "code",
   "execution_count": 7,
   "metadata": {},
   "outputs": [],
   "source": [
    "with codecs.open(fKanonikGB,\"w\",encoding=\"utf8\") as outFile:\n",
    "    outFile.write(\"\\n\".join(traductions))"
   ]
  },
  {
   "cell_type": "markdown",
   "metadata": {},
   "source": [
    "## Faire la différence entre les deux traductions\n",
    "- git diff entre *Kanonik.txt* et *Kanonik-GB.txt* \n",
    "    - code tiré de https://stackoverflow.com/questions/1721738/using-diff-or-anything-else-to-get-character-level-diff-between-text-files\n",
    "- transformer le résultat des couleurs ANSI en HTML"
   ]
  },
  {
   "cell_type": "code",
   "execution_count": 8,
   "metadata": {},
   "outputs": [],
   "source": [
    "fKanonik=\"eCampus-Kanonik.txt\"\n",
    "fKanonikGB=\"Kanonik.txt\""
   ]
  },
  {
   "cell_type": "code",
   "execution_count": 9,
   "metadata": {},
   "outputs": [],
   "source": [
    "diffKanonik=!cd {serieCLI} && git diff --no-index --word-diff=color --word-diff-regex=. {fKanonik} {fKanonikGB}"
   ]
  },
  {
   "cell_type": "code",
   "execution_count": 10,
   "metadata": {},
   "outputs": [],
   "source": [
    "if \"@@\" in diffKanonik[4]:\n",
    "    diffKanonik=diffKanonik[4:]\n",
    "diffKanonik=[l.decode(\"utf8\") for l in diffKanonik]"
   ]
  },
  {
   "cell_type": "code",
   "execution_count": 11,
   "metadata": {},
   "outputs": [],
   "source": [
    "with codecs.open(serie+\"diffKanonik.html\",\"w\",encoding=\"utf8\") as outFile:\n",
    "    for line in conv.convert(\"\\n\".join(diffKanonik)):\n",
    "        outFile.write(line)"
   ]
  },
  {
   "cell_type": "code",
   "execution_count": 12,
   "metadata": {},
   "outputs": [],
   "source": [
    "ding()"
   ]
  },
  {
   "cell_type": "markdown",
   "metadata": {},
   "source": [
    "## Faire la différence entre les fichiers Blocks"
   ]
  },
  {
   "cell_type": "code",
   "execution_count": 13,
   "metadata": {},
   "outputs": [],
   "source": [
    "fBlocks=\"eCampus-Blocks.yaml\"\n",
    "fBlocksGB=\"Blocks.yaml\""
   ]
  },
  {
   "cell_type": "code",
   "execution_count": 14,
   "metadata": {},
   "outputs": [],
   "source": [
    "diffBlocks=!cd {serieCLI} && git diff --no-index --word-diff=color --word-diff-regex=. {fBlocks} {fBlocksGB}\n",
    "# print diffBlocks"
   ]
  },
  {
   "cell_type": "code",
   "execution_count": 15,
   "metadata": {},
   "outputs": [],
   "source": [
    "if \"@@\" in diffBlocks[4]:\n",
    "    diffBlocks=diffBlocks[4:]\n",
    "else:\n",
    "    print \"Mauvaise coupe\"\n",
    "diffBlocks=[l.decode(\"utf8\") for l in diffBlocks]"
   ]
  },
  {
   "cell_type": "code",
   "execution_count": 16,
   "metadata": {},
   "outputs": [],
   "source": [
    "with codecs.open(serie+\"diffBlocks.html\",\"w\",encoding=\"utf8\") as outFile:\n",
    "    for line in conv.convert(\"\\n\".join(diffBlocks)):\n",
    "        outFile.write(line)"
   ]
  },
  {
   "cell_type": "markdown",
   "metadata": {},
   "source": [
    "## Faire la différence entre les fichiers Stems"
   ]
  },
  {
   "cell_type": "code",
   "execution_count": 17,
   "metadata": {},
   "outputs": [],
   "source": [
    "fStems=\"eCampus-Stems.yaml\"\n",
    "fStemsGB=\"Stems.yaml\""
   ]
  },
  {
   "cell_type": "code",
   "execution_count": 18,
   "metadata": {},
   "outputs": [],
   "source": [
    "diffStems=!cd {serieCLI} && git diff --no-index --word-diff=color --word-diff-regex=. {fStems} {fStemsGB}\n",
    "# print diffStems"
   ]
  },
  {
   "cell_type": "code",
   "execution_count": 19,
   "metadata": {},
   "outputs": [],
   "source": [
    "if \"@@\" in diffStems[4]:\n",
    "    diffStems=diffStems[4:]\n",
    "else:\n",
    "    print \"Mauvaise coupe\"\n",
    "diffStems=[l.decode(\"utf8\") for l in diffStems]"
   ]
  },
  {
   "cell_type": "code",
   "execution_count": 20,
   "metadata": {},
   "outputs": [],
   "source": [
    "with codecs.open(serie+\"diffStems.html\",\"w\",encoding=\"utf8\") as outFile:\n",
    "    for line in conv.convert(\"\\n\".join(diffStems)):\n",
    "        outFile.write(line)"
   ]
  },
  {
   "cell_type": "markdown",
   "metadata": {},
   "source": [
    "## Faire la différence entre les fichiers Phrases"
   ]
  },
  {
   "cell_type": "code",
   "execution_count": 21,
   "metadata": {},
   "outputs": [],
   "source": [
    "fPhrases=\"eCampus-Phrases.csv\"\n",
    "fPhrasesGB=\"Phrases.csv\""
   ]
  },
  {
   "cell_type": "code",
   "execution_count": 22,
   "metadata": {},
   "outputs": [],
   "source": [
    "diffPhrases=!cd {serieCLI} && git diff --no-index --word-diff=color --word-diff-regex=. {fPhrases} {fPhrasesGB}"
   ]
  },
  {
   "cell_type": "code",
   "execution_count": 23,
   "metadata": {},
   "outputs": [],
   "source": [
    "if \"@@\" in diffPhrases[4]:\n",
    "    diffPhrases=diffPhrases[4:]\n",
    "else:\n",
    "    print \"Mauvaise coupe\"\n",
    "diffPhrases=[l.decode(\"utf8\") for l in diffPhrases]"
   ]
  },
  {
   "cell_type": "code",
   "execution_count": 24,
   "metadata": {},
   "outputs": [],
   "source": [
    "with codecs.open(serie+\"diffPhrases.html\",\"w\",encoding=\"utf8\") as outFile:\n",
    "    for line in conv.convert(\"\\n\".join(diffPhrases)):\n",
    "        outFile.write(line)"
   ]
  },
  {
   "cell_type": "code",
   "execution_count": null,
   "metadata": {},
   "outputs": [],
   "source": []
  }
 ],
 "metadata": {
  "kernelspec": {
   "display_name": "Python 2.7",
   "language": "python",
   "name": "py2"
  },
  "language_info": {
   "codemirror_mode": {
    "name": "ipython",
    "version": 2
   },
   "file_extension": ".py",
   "mimetype": "text/x-python",
   "name": "python",
   "nbconvert_exporter": "python",
   "pygments_lexer": "ipython2",
   "version": "2.7.16"
  },
  "toc-autonumbering": false,
  "toc-showcode": false,
  "toc-showmarkdowntxt": false,
  "toc-showtags": false
 },
 "nbformat": 4,
 "nbformat_minor": 4
}

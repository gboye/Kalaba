{
 "cells": [
  {
   "cell_type": "code",
   "execution_count": 1,
   "metadata": {},
   "outputs": [],
   "source": [
    "import pandas as pd\n",
    "import codecs,re,os"
   ]
  },
  {
   "cell_type": "code",
   "execution_count": 2,
   "metadata": {},
   "outputs": [],
   "source": [
    "def ding():\n",
    "    os.system('afplay /System/Library/Sounds/Submarine.aiff')"
   ]
  },
  {
   "cell_type": "code",
   "execution_count": 3,
   "metadata": {},
   "outputs": [
    {
     "name": "stdout",
     "output_type": "stream",
     "text": [
      "[18] Kanonik\n"
     ]
    }
   ],
   "source": [
    "%store -r numerosKalaba typeKalaba\n",
    "# numerosKalaba=[1]\n",
    "print numerosKalaba, typeKalaba\n",
    "# numerosKalaba=[2]"
   ]
  },
  {
   "cell_type": "code",
   "execution_count": 4,
   "metadata": {},
   "outputs": [],
   "source": [
    "# -*- coding: utf8 -*-\n",
    "from os.path import expanduser\n",
    "# from cellbell import ding\n",
    "from itertools import groupby"
   ]
  },
  {
   "cell_type": "code",
   "execution_count": 5,
   "metadata": {},
   "outputs": [
    {
     "name": "stdout",
     "output_type": "stream",
     "text": [
      "/Users/gilles/Library/Mobile Documents/com~apple~CloudDocs/Downloads/23-Kanoniks/Kanonik-18-ok/\n"
     ]
    }
   ],
   "source": [
    "home = expanduser(\"~\")\n",
    "\n",
    "if typeKalaba!=\"Kanonik\":\n",
    "    numeroKalaba=\"22-K%d/\"%numerosKalaba[0]\n",
    "    repertoire=home+\"/ownCloud/Cours/Bordeaux/L1-LinguistiqueGenerale/00-ProjetKalaba/\"\n",
    "    serie=repertoire+numeroKalaba\n",
    "else:\n",
    "    repertoire=home+\"/Library/Mobile Documents/com~apple~CloudDocs/Downloads/\"\n",
    "    serie=repertoire+\"23-Kanoniks/\"\n",
    "    serie=serie+\"Kanonik-%02d-ok/\"%numerosKalaba[0]\n",
    "\n",
    "print serie"
   ]
  },
  {
   "cell_type": "code",
   "execution_count": 6,
   "metadata": {},
   "outputs": [],
   "source": [
    "RightLeft=True\n",
    "complementPhrases=\"\""
   ]
  },
  {
   "cell_type": "code",
   "execution_count": 7,
   "metadata": {},
   "outputs": [],
   "source": [
    "phrase_nom=serie+complementPhrases+\"Phrases.csv\"\n",
    "traduction_nom=serie+complementPhrases+\"Traductions.csv\""
   ]
  },
  {
   "cell_type": "code",
   "execution_count": 8,
   "metadata": {},
   "outputs": [
    {
     "name": "stdout",
     "output_type": "stream",
     "text": [
      "Afior\test\tune grande planète\n"
     ]
    }
   ],
   "source": [
    "with codecs.open(phrase_nom,\"r\",encoding=\"utf8\") as inFile:\n",
    "    phrases=[p.strip() for p in inFile.readlines()]\n",
    "print phrases[0]    "
   ]
  },
  {
   "cell_type": "code",
   "execution_count": 9,
   "metadata": {},
   "outputs": [],
   "source": [
    "sep=\"\\t\"\n",
    "if \"\\t\" not in phrases[0]:\n",
    "    sep=raw_input(\"Quel séparateur ?\")"
   ]
  },
  {
   "cell_type": "code",
   "execution_count": 10,
   "metadata": {},
   "outputs": [],
   "source": [
    "def nettoyagePhrase(phrase):\n",
    "    result=phrase\n",
    "    if '\"' in result:\n",
    "        result=result.replace('\"','')\n",
    "    return result"
   ]
  },
  {
   "cell_type": "code",
   "execution_count": 11,
   "metadata": {},
   "outputs": [],
   "source": [
    "tableauxLatexRemplissage=[]\n",
    "tableauxLatexRemplissage.append(u\"%\\\\columnbreak\\n\\\\subsection*{Combinaisons des fonctions}\")\n",
    "tableauxLatexRemplissage.append(u\"\\\\needspace{6\\\\baselineskip}\")\n",
    "tableauxLatexRemplissage.append(u\"Types de combinaisons\\n\\\\medskip\\n\")\n"
   ]
  },
  {
   "cell_type": "code",
   "execution_count": 12,
   "metadata": {},
   "outputs": [
    {
     "name": "stdout",
     "output_type": "stream",
     "text": [
      "[u'\\\\begin{tabular}{lrrrrrr}\\n\\\\toprule\\n{} &  SUJ &  VER &  OBJ &  IND &  COMP &  AJOUT \\\\\\\\\\nCombinaisons &      &      &      &      &       &        \\\\\\\\\\n\\\\midrule\\n1            &    1 &    1 &    0 &    0 &     1 &      1 \\\\\\\\\\n2            &    1 &    1 &    0 &    0 &     1 &      0 \\\\\\\\\\n3            &    1 &    1 &    0 &    0 &     0 &      0 \\\\\\\\\\n4            &    1 &    1 &    0 &    0 &     0 &      1 \\\\\\\\\\n5            &    1 &    1 &    1 &    1 &     0 &      0 \\\\\\\\\\n6            &    1 &    1 &    1 &    0 &     0 &      1 \\\\\\\\\\n7            &    1 &    1 &    1 &    0 &     0 &      0 \\\\\\\\\\n8            &    1 &    1 &    1 &    0 &     1 &      0 \\\\\\\\\\n\\\\bottomrule\\n\\\\end{tabular}']\n"
     ]
    }
   ],
   "source": [
    "combinaisons=set()\n",
    "for p in phrases:\n",
    "    phrase=nettoyagePhrase(p)\n",
    "    champs=re.split(sep,phrase)\n",
    "#    print champs\n",
    "    combinaison=[\"0\" for i in range(6)]\n",
    "    for nC,c in enumerate(champs):\n",
    "        if c.strip()!=\"\":\n",
    "            combinaison[nC]=\"1\"\n",
    "    combinaisons.add(\"\".join(combinaison))\n",
    "combinaisons=[list(c) for c in combinaisons]\n",
    "dfCombinaisons=pd.DataFrame.from_records(combinaisons,columns=\"SUJ VER OBJ IND COMP AJOUT\".split(\" \"))\n",
    "dfCombinaisons.index.name=\"Combinaisons\"\n",
    "dfCombinaisons.index+=1\n",
    "dfCombinaisons=dfCombinaisons.apply(pd.to_numeric)\n",
    "ltxCombinaisons=dfCombinaisons.to_latex()\n",
    "tableauxLatexRemplissage.append(ltxCombinaisons.strip())\n",
    "print [ltxCombinaisons.strip()]"
   ]
  },
  {
   "cell_type": "code",
   "execution_count": 13,
   "metadata": {},
   "outputs": [
    {
     "name": "stdout",
     "output_type": "stream",
     "text": [
      "\\begin{tabular}{lll}\n",
      "\\toprule\n",
      "AJOUT &   IND &    \\\\\n",
      "COMP  &   IND &    \\\\\n",
      "IND   &  COMP &  AJOUT \\\\\n",
      "\\bottomrule\n",
      "\\end{tabular}\n",
      "\n"
     ]
    }
   ],
   "source": [
    "ordrePbs={}\n",
    "for c in dfCombinaisons.columns:\n",
    "    cPair=dfCombinaisons.groupby(c).sum()\n",
    "    for k,v in cPair.loc[1,cPair.eq(0).any()].to_dict().iteritems():\n",
    "        if v==0 : \n",
    "            if c not in ordrePbs:\n",
    "                ordrePbs[c]=[]\n",
    "            ordrePbs[c].append(k)\n",
    "\n",
    "ltxAmbiguites=pd.DataFrame.from_dict(ordrePbs,orient=\"index\").sort_index().to_latex(header=False).replace(\"None\",\"\")\n",
    "if \"Empty DataFrame\" not in ltxAmbiguites:\n",
    "    print ltxAmbiguites\n",
    "    tableauxLatexRemplissage.append(u\"\\\\bigskip\\n\\n\\\\noindent\\nAmbiguïtés sur l'ordre\\n\\\\medskip\\n\")\n",
    "    tableauxLatexRemplissage.append(ltxAmbiguites)"
   ]
  },
  {
   "cell_type": "code",
   "execution_count": 14,
   "metadata": {},
   "outputs": [
    {
     "name": "stdout",
     "output_type": "stream",
     "text": [
      "%\\columnbreak\n",
      "\\subsection*{Combinaisons des fonctions}\\needspace{6\\baselineskip}Types de combinaisons\n",
      "\\medskip\n",
      "\\begin{tabular}{lrrrrrr}\n",
      "\\toprule\n",
      "{} &  SUJ &  VER &  OBJ &  IND &  COMP &  AJOUT \\\\\n",
      "Combinaisons &      &      &      &      &       &        \\\\\n",
      "\\midrule\n",
      "1            &    1 &    1 &    0 &    0 &     1 &      1 \\\\\n",
      "2            &    1 &    1 &    0 &    0 &     1 &      0 \\\\\n",
      "3            &    1 &    1 &    0 &    0 &     0 &      0 \\\\\n",
      "4            &    1 &    1 &    0 &    0 &     0 &      1 \\\\\n",
      "5            &    1 &    1 &    1 &    1 &     0 &      0 \\\\\n",
      "6            &    1 &    1 &    1 &    0 &     0 &      1 \\\\\n",
      "7            &    1 &    1 &    1 &    0 &     0 &      0 \\\\\n",
      "8            &    1 &    1 &    1 &    0 &     1 &      0 \\\\\n",
      "\\bottomrule\n",
      "\\end{tabular}\\bigskip\n",
      "\n",
      "\\noindent\n",
      "Ambiguïtés sur l'ordre\n",
      "\\medskip\n",
      "\\begin{tabular}{lll}\n",
      "\\toprule\n",
      "AJOUT &   IND &    \\\\\n",
      "COMP  &   IND &    \\\\\n",
      "IND   &  COMP &  AJOUT \\\\\n",
      "\\bottomrule\n",
      "\\end{tabular}\n",
      "\n"
     ]
    }
   ],
   "source": [
    "print \"\".join(tableauxLatexRemplissage)\n",
    "with codecs.open(serie+\"Fonctions.tex\",\"w\",encoding=\"utf8\") as outFile:\n",
    "    outFile.write(\"\\n\".join(tableauxLatexRemplissage))  "
   ]
  },
  {
   "cell_type": "code",
   "execution_count": 15,
   "metadata": {},
   "outputs": [],
   "source": [
    "ding()"
   ]
  },
  {
   "cell_type": "code",
   "execution_count": null,
   "metadata": {},
   "outputs": [],
   "source": []
  }
 ],
 "metadata": {
  "kernelspec": {
   "display_name": "Python [conda env:python2]",
   "language": "python",
   "name": "conda-env-python2-py"
  },
  "language_info": {
   "codemirror_mode": {
    "name": "ipython",
    "version": 2
   },
   "file_extension": ".py",
   "mimetype": "text/x-python",
   "name": "python",
   "nbconvert_exporter": "python",
   "pygments_lexer": "ipython2",
   "version": "2.7.16"
  },
  "toc-autonumbering": false,
  "toc-showcode": false,
  "toc-showmarkdowntxt": false,
  "toc-showtags": false
 },
 "nbformat": 4,
 "nbformat_minor": 4
}

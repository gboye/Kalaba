{
 "cells": [
  {
   "cell_type": "code",
   "execution_count": 120,
   "metadata": {},
   "outputs": [],
   "source": [
    "import pandas as pd\n",
    "import codecs,re,os"
   ]
  },
  {
   "cell_type": "code",
   "execution_count": 121,
   "metadata": {},
   "outputs": [],
   "source": [
    "def ding():\n",
    "    os.system('afplay /System/Library/Sounds/Submarine.aiff')"
   ]
  },
  {
   "cell_type": "code",
   "execution_count": 122,
   "metadata": {},
   "outputs": [
    {
     "name": "stdout",
     "output_type": "stream",
     "text": [
      "[2] Kanonik\n"
     ]
    }
   ],
   "source": [
    "%store -r numerosKalaba typeKalaba\n",
    "# numerosKalaba=[5]\n",
    "print numerosKalaba, typeKalaba"
   ]
  },
  {
   "cell_type": "code",
   "execution_count": 123,
   "metadata": {},
   "outputs": [],
   "source": [
    "# -*- coding: utf8 -*-\n",
    "from os.path import expanduser\n",
    "# from cellbell import ding\n",
    "from itertools import groupby"
   ]
  },
  {
   "cell_type": "code",
   "execution_count": 124,
   "metadata": {},
   "outputs": [
    {
     "name": "stdout",
     "output_type": "stream",
     "text": [
      "/Users/gilles/ownCloud/Cours/Bordeaux/L1-UE4-Morphologie/K-22/Kanonik-02/\n"
     ]
    }
   ],
   "source": [
    "home = expanduser(\"~\")\n",
    "\n",
    "if typeKalaba!=\"Kanonik\":\n",
    "    numeroKalaba=\"21-K%d/\"%numerosKalaba[0]\n",
    "    repertoire=home+\"/ownCloud/Cours/Bordeaux/L1-LinguistiqueGenerale/00-ProjetKalaba/\"\n",
    "    serie=repertoire+numeroKalaba\n",
    "else:\n",
    "    numeroKalaba=\"K-22/Kanonik-%02d/\"%numerosKalaba[0]\n",
    "    repertoire=home+\"/ownCloud/Cours/Bordeaux/L1-UE4-Morphologie/\"\n",
    "    serie=repertoire+numeroKalaba\n",
    "\n",
    "print serie"
   ]
  },
  {
   "cell_type": "code",
   "execution_count": 125,
   "metadata": {},
   "outputs": [],
   "source": [
    "RightLeft=True\n",
    "complementPhrases=\"\""
   ]
  },
  {
   "cell_type": "code",
   "execution_count": 126,
   "metadata": {},
   "outputs": [],
   "source": [
    "phrase_nom=serie+complementPhrases+\"Phrases.csv\"\n",
    "traduction_nom=serie+complementPhrases+\"Traductions.csv\""
   ]
  },
  {
   "cell_type": "code",
   "execution_count": 127,
   "metadata": {},
   "outputs": [
    {
     "name": "stdout",
     "output_type": "stream",
     "text": [
      "La légende\tparlait\t\t\tde deux amis\n"
     ]
    }
   ],
   "source": [
    "with codecs.open(phrase_nom,\"r\",encoding=\"utf8\") as inFile:\n",
    "    phrases=[p.strip() for p in inFile.readlines()]\n",
    "print phrases[0]    "
   ]
  },
  {
   "cell_type": "code",
   "execution_count": 128,
   "metadata": {},
   "outputs": [],
   "source": [
    "sep=\"\\t\"\n",
    "if \"\\t\" not in phrases[0]:\n",
    "    sep=raw_input(\"Quel séparateur ?\")"
   ]
  },
  {
   "cell_type": "code",
   "execution_count": 129,
   "metadata": {},
   "outputs": [],
   "source": [
    "def nettoyagePhrase(phrase):\n",
    "    result=phrase\n",
    "    if '\"' in result:\n",
    "        result=result.replace('\"','')\n",
    "    return result"
   ]
  },
  {
   "cell_type": "code",
   "execution_count": 130,
   "metadata": {},
   "outputs": [
    {
     "data": {
      "text/plain": [
       "[['1', '1', '0', '0', '1', '1'],\n",
       " ['1', '1', '0', '0', '1', '0'],\n",
       " ['1', '1', '0', '0', '0', '0'],\n",
       " ['1', '1', '0', '0', '0', '1'],\n",
       " ['1', '1', '1', '1', '1', '1'],\n",
       " ['1', '1', '1', '1', '0', '0'],\n",
       " ['1', '1', '1', '1', '0', '1'],\n",
       " ['1', '1', '1', '0', '0', '1'],\n",
       " ['1', '1', '1', '0', '0', '0'],\n",
       " ['1', '1', '1', '0', '1', '0']]"
      ]
     },
     "execution_count": 130,
     "metadata": {},
     "output_type": "execute_result"
    }
   ],
   "source": [
    "combinaisons=set()\n",
    "for p in phrases:\n",
    "    phrase=nettoyagePhrase(p)\n",
    "    champs=re.split(sep,phrase)\n",
    "#    print champs\n",
    "    combinaison=[\"0\" for i in range(6)]\n",
    "    for nC,c in enumerate(champs):\n",
    "        if c.strip()!=\"\":\n",
    "            combinaison[nC]=\"1\"\n",
    "    combinaisons.add(\"\".join(combinaison))\n",
    "combinaisons=[list(c) for c in combinaisons]\n",
    "combinaisons"
   ]
  },
  {
   "cell_type": "code",
   "execution_count": 131,
   "metadata": {},
   "outputs": [],
   "source": [
    "nomFonctions={0:\"Sujet\",1:\"Verbe\",2:\"COD\",3:\"COI\",4:\"COMP\",5:\"AJOUT\"}\n",
    "base=[\"0\" for i in range(6)]\n",
    "for fonction in range(6):\n",
    "    fonctBase=base[:]\n",
    "    fonctBase[fonction]=\"1\"\n",
    "    for c in combinaisons:\n",
    "        if c[fonction]==\"1\":\n",
    "            for nPos,pos in enumerate(c):\n",
    "                if c[nPos]==\"1\":\n",
    "                    fonctBase[nPos]=\"1\"\n",
    "    if \"0\" in fonctBase:\n",
    "        print nomFonctions[fonction]\n",
    "        print fonctBase"
   ]
  },
  {
   "cell_type": "code",
   "execution_count": 132,
   "metadata": {},
   "outputs": [],
   "source": [
    "ding()"
   ]
  },
  {
   "cell_type": "code",
   "execution_count": null,
   "metadata": {},
   "outputs": [],
   "source": []
  }
 ],
 "metadata": {
  "kernelspec": {
   "display_name": "Python [conda env:python2]",
   "language": "python",
   "name": "conda-env-python2-py"
  },
  "language_info": {
   "codemirror_mode": {
    "name": "ipython",
    "version": 2
   },
   "file_extension": ".py",
   "mimetype": "text/x-python",
   "name": "python",
   "nbconvert_exporter": "python",
   "pygments_lexer": "ipython2",
   "version": "2.7.16"
  }
 },
 "nbformat": 4,
 "nbformat_minor": 2
}

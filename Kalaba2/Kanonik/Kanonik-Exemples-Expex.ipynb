{
 "cells": [
  {
   "cell_type": "markdown",
   "metadata": {},
   "source": [
    "# Transformation des exemples en expex pour TD/Correction/Analyse"
   ]
  },
  {
   "cell_type": "code",
   "execution_count": 595,
   "metadata": {},
   "outputs": [],
   "source": [
    "from os.path import expanduser\n",
    "from cellbell import ding"
   ]
  },
  {
   "cell_type": "code",
   "execution_count": 596,
   "metadata": {},
   "outputs": [
    {
     "name": "stdout",
     "output_type": "stream",
     "text": [
      "25\n"
     ]
    }
   ],
   "source": [
    "%store -r numGroupe\n",
    "#numGroupe=19\n",
    "print numGroupe"
   ]
  },
  {
   "cell_type": "code",
   "execution_count": 597,
   "metadata": {},
   "outputs": [],
   "source": [
    "# -*- coding: utf8 -*-\n",
    "home = expanduser(\"~\")\n",
    "annee=\"2020\"\n",
    "annee=\"20-Kanoniks\"\n",
    "repertoire=home+\"/ownCloud/Cours/Bordeaux/L1-UE4-Morphologie/00-Kanonik/\"+annee\n",
    "serie=repertoire+\"/K%02d/\"%numGroupe\n",
    "\n",
    "nomExemples=serie+\"Exemples.tex\"\n",
    "nomExemplesCorr=serie+\"Exemples-Corr.tex\"\n",
    "nomExemplesCorrExpex=serie+\"Exemples-Corr-expex.tex\"\n",
    "debug=False"
   ]
  },
  {
   "cell_type": "code",
   "execution_count": 598,
   "metadata": {},
   "outputs": [],
   "source": [
    "#########################IMPORTS############################################\n",
    "import codecs, optparse\n",
    "import re, random\n",
    "import sys,os,time\n",
    "import string\n",
    "import yaml, warnings"
   ]
  },
  {
   "cell_type": "markdown",
   "metadata": {},
   "source": [
    "# Transformation des exemples du TD"
   ]
  },
  {
   "cell_type": "code",
   "execution_count": 599,
   "metadata": {},
   "outputs": [],
   "source": [
    "with codecs.open(nomExemples, 'r',encoding=\"utf8\") as input:\n",
    "    lineExemples=\"\".join(input.readlines())"
   ]
  },
  {
   "cell_type": "code",
   "execution_count": 600,
   "metadata": {},
   "outputs": [],
   "source": [
    "exemples=re.findall(ur\"\\\\ex\\n\\\\gloses\\n(.*?)\\\\\\\\\\s*\\n(.*?)\\\\\\\\\\s*\\n(.*?)\\\\\\\\\\s*\\n(.*?)\\n\",lineExemples)"
   ]
  },
  {
   "cell_type": "code",
   "execution_count": 601,
   "metadata": {},
   "outputs": [],
   "source": [
    "numEx=[\"a\",\"b\",\"c\",\"ft\"]\n",
    "linesExpex=[]\n",
    "for exemple in exemples:\n",
    "    linesExpex.append(u\"\\\\ex\") \n",
    "    linesExpex.append(u\"\\\\begingl\") \n",
    "    for num,ligne in enumerate(exemple):\n",
    "        if ligne.startswith(\"%\"):\n",
    "            linesExpex.append(u\"%% \\\\gl%s \"%numEx[num]+ligne[1:]+\" //\") \n",
    "        else:\n",
    "            linesExpex.append(u\"\\\\gl%s \"%numEx[num]+ligne+\" //\") \n",
    "    linesExpex.append(u\"\\\\endgl\") \n",
    "    linesExpex.append(u\"\\\\xe\")  "
   ]
  },
  {
   "cell_type": "code",
   "execution_count": 602,
   "metadata": {},
   "outputs": [],
   "source": [
    "with codecs.open(nomExemples.replace(\".tex\",\"-expex.tex\"), 'w',encoding=\"utf8\") as output:\n",
    "    output.writelines(\"\\n\".join(linesExpex))"
   ]
  },
  {
   "cell_type": "markdown",
   "metadata": {},
   "source": [
    "# Transformation des exemples du corrigé"
   ]
  },
  {
   "cell_type": "code",
   "execution_count": 603,
   "metadata": {},
   "outputs": [],
   "source": [
    "with codecs.open(nomExemplesCorr, 'r',encoding=\"utf8\") as input:\n",
    "    lineExemples=\"\".join(input.readlines())"
   ]
  },
  {
   "cell_type": "code",
   "execution_count": 604,
   "metadata": {},
   "outputs": [],
   "source": [
    "exemples=re.findall(ur\"\\\\ex\\n\\\\gloses\\n(.*?)\\\\\\\\\\s*\\n(.*?)\\\\\\\\\\s*\\n(.*?)\\\\\\\\\\s*\\n(.*?)\\n\",lineExemples)"
   ]
  },
  {
   "cell_type": "code",
   "execution_count": 605,
   "metadata": {},
   "outputs": [],
   "source": [
    "numEx=[\"a\",\"b\",\"c\",\"ft\"]\n",
    "linesExpex=[]\n",
    "for exemple in exemples:\n",
    "    linesExpex.append(u\"\\\\ex\") \n",
    "    linesExpex.append(u\"\\\\begingl\") \n",
    "    for num,ligne in enumerate(exemple):\n",
    "        if ligne.startswith(\"%\"):\n",
    "            linesExpex.append(u\"%% \\\\gl%s \"%numEx[num]+ligne[1:]+\" //\") \n",
    "        else:\n",
    "            linesExpex.append(u\"\\\\gl%s \"%numEx[num]+ligne+\" //\") \n",
    "    linesExpex.append(u\"\\\\endgl\") \n",
    "    linesExpex.append(u\"\\\\xe\")  "
   ]
  },
  {
   "cell_type": "code",
   "execution_count": 606,
   "metadata": {},
   "outputs": [],
   "source": [
    "with codecs.open(nomExemplesCorr.replace(\".tex\",\"-expex.tex\"), 'w',encoding=\"utf8\") as output:\n",
    "    output.writelines(\"\\n\".join(linesExpex))"
   ]
  },
  {
   "cell_type": "markdown",
   "metadata": {},
   "source": [
    "# Transformation des exemples de l'analyse"
   ]
  },
  {
   "cell_type": "code",
   "execution_count": 607,
   "metadata": {},
   "outputs": [],
   "source": [
    "with codecs.open(nomExemplesCorrExpex, 'r',encoding=\"utf8\") as input:\n",
    "    lineExemples=\"\".join(input.readlines()).split(\"\\n\")"
   ]
  },
  {
   "cell_type": "code",
   "execution_count": 608,
   "metadata": {},
   "outputs": [],
   "source": [
    "linesSortie=[]\n",
    "for e in lineExemples:\n",
    "    if e.startswith(u\"\\\\glb\"):\n",
    "        linesSortie.append(e)\n",
    "        linesSortie.append(e.replace(u\"P{}\",u\"D{}\"))\n",
    "    else:\n",
    "        linesSortie.append(e)        "
   ]
  },
  {
   "cell_type": "code",
   "execution_count": 609,
   "metadata": {},
   "outputs": [],
   "source": [
    "with codecs.open(nomExemplesCorrExpex.replace(\"-expex.tex\",\"-Decoupe-expex.tex\"), 'w',encoding=\"utf8\") as output:\n",
    "    output.writelines(\"\\n\".join(linesSortie))"
   ]
  },
  {
   "cell_type": "code",
   "execution_count": 610,
   "metadata": {},
   "outputs": [],
   "source": [
    "ding()"
   ]
  }
 ],
 "metadata": {
  "kernelspec": {
   "display_name": "Python 2",
   "language": "python",
   "name": "python2"
  },
  "language_info": {
   "codemirror_mode": {
    "name": "ipython",
    "version": 2
   },
   "file_extension": ".py",
   "mimetype": "text/x-python",
   "name": "python",
   "nbconvert_exporter": "python",
   "pygments_lexer": "ipython2",
   "version": "2.7.15"
  }
 },
 "nbformat": 4,
 "nbformat_minor": 1
}

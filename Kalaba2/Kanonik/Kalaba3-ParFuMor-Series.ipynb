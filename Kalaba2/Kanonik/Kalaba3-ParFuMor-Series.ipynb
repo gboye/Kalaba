{
 "cells": [
  {
   "cell_type": "markdown",
   "metadata": {},
   "source": [
    "# ParFuMor (version YAML & Objets)\n",
    "\n",
    "- Ajout d'un %store pour la gestion des numéros de kanoniks (16/04/20)\n",
    "\n",
    "- Attention les règles qui ne changent pas le radical donnent lieu à des mauvais découpages des formes..."
   ]
  },
  {
   "cell_type": "code",
   "execution_count": 460,
   "metadata": {},
   "outputs": [],
   "source": [
    "# -*- coding: utf8 -*-\n",
    "import os\n",
    "from os.path import expanduser\n",
    "import itertools\n",
    "import yaml,YamlDuplicates\n",
    "from yaml.constructor import ConstructorError\n",
    "import warnings\n",
    "import ParFuMor as PFM\n",
    "from ParFuMor import *\n",
    "import pickle\n",
    "from IPython.display import HTML, display\n",
    "#import cellbell "
   ]
  },
  {
   "cell_type": "code",
   "execution_count": 461,
   "metadata": {},
   "outputs": [],
   "source": [
    "def ding():\n",
    "    os.system('afplay /System/Library/Sounds/Submarine.aiff')"
   ]
  },
  {
   "cell_type": "markdown",
   "metadata": {},
   "source": [
    "# Gestion partagée des numéros à traiter\n",
    "\n",
    "le block suivant permet de partager les numéros à traiter entre les différents Notebooks.\n",
    "- %store -r variable lit la variable dans le stock\n",
    "- %store variable stocke la variable"
   ]
  },
  {
   "cell_type": "code",
   "execution_count": 462,
   "metadata": {},
   "outputs": [
    {
     "name": "stdout",
     "output_type": "stream",
     "text": [
      "[4]\n",
      "Stored 'numerosKalaba' (list)\n"
     ]
    }
   ],
   "source": [
    "%store -r numerosKalaba\n",
    "numerosKalaba=[1,2,3,4,5]\n",
    "numerosKalaba=[4]\n",
    "print numerosKalaba\n",
    "%store numerosKalaba"
   ]
  },
  {
   "cell_type": "code",
   "execution_count": 463,
   "metadata": {},
   "outputs": [],
   "source": [
    "home = expanduser(\"~\")\n",
    "repertoire=home+\"/ownCloud/Cours/Bordeaux/L1-LinguistiqueGenerale/00-ProjetKalaba/\"\n",
    "serie=repertoire+\"21-\"\n",
    "nomsKalabas=[serie+\"K%d/\"%num for num in numerosKalaba]"
   ]
  },
  {
   "cell_type": "code",
   "execution_count": 464,
   "metadata": {},
   "outputs": [],
   "source": [
    "def getExemple(lDict):\n",
    "    exKey=lDict.keys()[0]\n",
    "    if isinstance(lDict[exKey],dict):\n",
    "        result=getExemple(lDict[exKey])\n",
    "    elif isinstance(lDict[exKey],list):\n",
    "        result=lDict[exKey][0]\n",
    "    return result"
   ]
  },
  {
   "cell_type": "code",
   "execution_count": 465,
   "metadata": {
    "scrolled": true
   },
   "outputs": [
    {
     "name": "stdout",
     "output_type": "stream",
     "text": [
      "\n",
      "/Users/gilles/ownCloud/Cours/Bordeaux/L1-LinguistiqueGenerale/00-ProjetKalaba/21-K4/\n"
     ]
    },
    {
     "name": "stderr",
     "output_type": "stream",
     "text": [
      "/Users/gilles/anaconda/envs/py27/lib/python2.7/site-packages/ipykernel_launcher.py:32: UserWarning: \n",
      "/Users/gilles/ownCloud/Cours/Bordeaux/L1-LinguistiqueGenerale/00-ProjetKalaba/21-K4/\n",
      "Les attributs de ADJ ne sont pas cohérents\n",
      "Morphosyntax => Genre, Nombre, Cas\n",
      "Gloses => Genre, Nombre\n"
     ]
    },
    {
     "name": "stdout",
     "output_type": "stream",
     "text": [
      "NOM : Genre Nombre Cas\n",
      "VER : Temps Pers Genre\n",
      "ADJ : Genre Nombre\n",
      "PRO : Genre Nombre Cas\n",
      "DET : Genre Nombre Cas\n",
      "head stems\n",
      "head stems,NOM\n",
      "head stems,NOM,INAN\n",
      "head stems,NOM,HUM\n",
      "head stems,NOM,ANIM\n",
      "head stems,VER\n",
      "head stems,VER,VI\n",
      "head stems,VER,VT\n",
      "head stems,ADJ\n"
     ]
    }
   ],
   "source": [
    "PFM.duplicateErrors=[]\n",
    "for serie in nomsKalabas:\n",
    "    print\n",
    "    print serie\n",
    "\n",
    "    with open(serie+\"Gloses.yaml\", 'r') as stream:\n",
    "        gloses=yaml.safe_load(stream)\n",
    "        PFM.gloses=gloses\n",
    "    with open(serie+\"Stems.yaml\", 'r') as stream:\n",
    "        try:\n",
    "            stems=yaml.safe_load(stream)\n",
    "            PFM.stems=stems\n",
    "        except ConstructorError,msg:\n",
    "            print msg\n",
    "            continue\n",
    "    lexiqueTestPrep=getExemple(stems[\"PREP\"])\n",
    "    lexiqueTestNoun=getExemple(stems[\"NOM\"])\n",
    "    lexiqueTestHyper=getExemple(stems[\"ADJ\"])\n",
    "    with open(serie+\"Blocks.yaml\", 'r') as stream:\n",
    "        blocks=yaml.safe_load(stream)\n",
    "        PFM.blocks=blocks\n",
    "    with open(serie+\"Phonology.yaml\", 'r') as stream:\n",
    "        phonology=yaml.safe_load(stream)\n",
    "        PFM.phonology=phonology\n",
    "    with open(serie+\"MorphoSyntax.yaml\", 'r') as stream:\n",
    "        morphosyntax=yaml.safe_load(stream)\n",
    "        PFM.morphosyntax=morphosyntax\n",
    "\n",
    "        \n",
    "    for cat in morphosyntax[\"Attributs\"]:\n",
    "        if sorted(morphosyntax[\"Attributs\"][cat])!=sorted(gloses[cat].keys()):\n",
    "            warnings.warn(\"\\n\"+serie+\"\\nLes attributs de %s ne sont pas cohérents\\nMorphosyntax => %s\\nGloses => %s\"%(cat,\", \".join(morphosyntax[\"Attributs\"][cat]),\", \".join(gloses[cat].keys())))\n",
    "    \n",
    "    regles=Regles()\n",
    "    PFM.regles=regles\n",
    "    for categorie in blocks:\n",
    "        regles.addBlocs(categorie,blocks[categorie])\n",
    "\n",
    "\n",
    "    paradigmes=Paradigmes()\n",
    "    PFM.paradigmes=paradigmes\n",
    "\n",
    "    hierarchieCF=HierarchieCF()\n",
    "    PFM.hierarchieCF=hierarchieCF\n",
    "    lexique=Lexique()\n",
    "    PFM.lexique=lexique\n",
    "\n",
    "\n",
    "    for cat in gloses:\n",
    "    #    print cat\n",
    "        attributes=[]\n",
    "        if gloses[cat]:\n",
    "            if set(gloses[cat].keys())==set(morphosyntax[\"Attributs\"][cat]):\n",
    "                features=morphosyntax[\"Attributs\"][cat]\n",
    "    #            print \"inhérent\",features\n",
    "            else:\n",
    "                features=gloses[cat].keys()\n",
    "    #            print \"contextuel\",features\n",
    "            for attribute in features:\n",
    "                attributes.append(gloses[cat][attribute])\n",
    "            nuplets=(itertools.product(*attributes))\n",
    "            for nuplet in nuplets:\n",
    "                proprietes=[cat]\n",
    "                for element in range(len(nuplet)):\n",
    "                    proprietes.append(u\"%s=%s\"%(features[element],nuplet[element]))\n",
    "                paradigmes.addForme(cat,proprietes)\n",
    "\n",
    "    analyserGloses(gloses)\n",
    "    analyserStems(stems)\n",
    "        \n",
    "    with open(serie+\"Hierarchie-S2.pkl\", 'wb') as output:\n",
    "       pickle.dump(hierarchieCF, output, pickle.HIGHEST_PROTOCOL)\n",
    "    with open(serie+\"Lexique-S2.pkl\", 'wb') as output:\n",
    "       pickle.dump(lexique, output, pickle.HIGHEST_PROTOCOL)\n",
    "    with open(serie+\"Regles-S2.pkl\", 'wb') as output:\n",
    "       pickle.dump(regles, output, pickle.HIGHEST_PROTOCOL)\n",
    "\n",
    "\n",
    "    PFM.lexique.lexemes[lexiqueTestPrep]\n",
    "\n",
    "    mot=lexiqueTestNoun\n",
    "    classesNom=PFM.lexique.formeLexeme[mot][0].split('.')[1:]\n",
    "    [classeElement for classeElement in classesNom if classeElement in gloses[\"NOM\"][\"Genre\"]]\n",
    "\n",
    "    PFM.lexique.formeLexeme[lexiqueTestHyper][0]\n",
    "\n",
    "if PFM.duplicateErrors:\n",
    "    print\n",
    "    print \"=======ERREURS========\"\n",
    "    print\n",
    "    for ligne in PFM.duplicateErrors:\n",
    "        print ligne\n"
   ]
  },
  {
   "cell_type": "code",
   "execution_count": 466,
   "metadata": {},
   "outputs": [
    {
     "data": {
      "text/plain": [
       "'par'"
      ]
     },
     "execution_count": 466,
     "metadata": {},
     "output_type": "execute_result"
    }
   ],
   "source": [
    "getExemple(stems[\"PREP\"])"
   ]
  },
  {
   "cell_type": "code",
   "execution_count": 467,
   "metadata": {},
   "outputs": [
    {
     "name": "stdout",
     "output_type": "stream",
     "text": [
      "profond.A1\n",
      "lance.INAN.N1\n",
      "par\n"
     ]
    }
   ],
   "source": [
    "print PFM.lexique.formeLexeme[lexiqueTestHyper][0]\n",
    "print PFM.lexique.formeLexeme[lexiqueTestNoun][0]\n",
    "print PFM.lexique.formeLexeme[lexiqueTestPrep][0]"
   ]
  },
  {
   "cell_type": "code",
   "execution_count": 468,
   "metadata": {},
   "outputs": [
    {
     "data": {
      "text/plain": [
       "[u'VER, Temps=PRS, Pers=3Sg, Genre=HUM',\n",
       " u'VER, Temps=PRS, Pers=3Sg, Genre=ANIM',\n",
       " u'VER, Temps=PRS, Pers=3Sg, Genre=INAN',\n",
       " u'VER, Temps=PRS, Pers=3Pau, Genre=HUM',\n",
       " u'VER, Temps=PRS, Pers=3Pau, Genre=ANIM',\n",
       " u'VER, Temps=PRS, Pers=3Pau, Genre=INAN',\n",
       " u'VER, Temps=PRS, Pers=3Pl, Genre=HUM',\n",
       " u'VER, Temps=PRS, Pers=3Pl, Genre=ANIM',\n",
       " u'VER, Temps=PRS, Pers=3Pl, Genre=INAN',\n",
       " u'VER, Temps=PST, Pers=3Sg, Genre=HUM',\n",
       " u'VER, Temps=PST, Pers=3Sg, Genre=ANIM',\n",
       " u'VER, Temps=PST, Pers=3Sg, Genre=INAN',\n",
       " u'VER, Temps=PST, Pers=3Pau, Genre=HUM',\n",
       " u'VER, Temps=PST, Pers=3Pau, Genre=ANIM',\n",
       " u'VER, Temps=PST, Pers=3Pau, Genre=INAN',\n",
       " u'VER, Temps=PST, Pers=3Pl, Genre=HUM',\n",
       " u'VER, Temps=PST, Pers=3Pl, Genre=ANIM',\n",
       " u'VER, Temps=PST, Pers=3Pl, Genre=INAN']"
      ]
     },
     "execution_count": 468,
     "metadata": {},
     "output_type": "execute_result"
    }
   ],
   "source": [
    "paradigmes.getSigmas([\"VER\"])"
   ]
  },
  {
   "cell_type": "code",
   "execution_count": 469,
   "metadata": {},
   "outputs": [
    {
     "name": "stdout",
     "output_type": "stream",
     "text": [
      "CF=\n",
      "['CF=N1', 'CF=N2']\n",
      "does not apply\n"
     ]
    }
   ],
   "source": [
    "case=\"CF=N3\"\n",
    "m=re.match(ur\"(.*=)(.*)\",\"CF=N1|N2\")\n",
    "if m:\n",
    "    altTrait=m.group(1)\n",
    "    altValeurs=m.group(2).split(\"|\")\n",
    "    print altTrait\n",
    "    altTraits=[altTrait+v for v in altValeurs]\n",
    "    print altTraits\n",
    "    if any(t == case for t in altTraits):\n",
    "        print \"applies\"\n",
    "    else:\n",
    "        print \"does not apply\""
   ]
  },
  {
   "cell_type": "code",
   "execution_count": 470,
   "metadata": {},
   "outputs": [
    {
     "data": {
      "text/plain": [
       "[('X+b', 'CF=V1,Temps=PRS')]"
      ]
     },
     "execution_count": 470,
     "metadata": {},
     "output_type": "execute_result"
    }
   ],
   "source": [
    "regles.getRules(\"VER\",'CF=V1, Temps=PRS, Pers=3PL')\n",
    "# regles.getRules(\"PRO\",\"Nombre=Du, Genre=C\")"
   ]
  },
  {
   "cell_type": "code",
   "execution_count": 471,
   "metadata": {
    "scrolled": true
   },
   "outputs": [
    {
     "name": "stdout",
     "output_type": "stream",
     "text": [
      "del Genre\n"
     ]
    },
    {
     "data": {
      "text/html": [
       "<div>\n",
       "<style scoped>\n",
       "    .dataframe tbody tr th:only-of-type {\n",
       "        vertical-align: middle;\n",
       "    }\n",
       "\n",
       "    .dataframe tbody tr th {\n",
       "        vertical-align: top;\n",
       "    }\n",
       "\n",
       "    .dataframe thead th {\n",
       "        text-align: right;\n",
       "    }\n",
       "</style>\n",
       "<table border=\"1\" class=\"dataframe\">\n",
       "  <thead>\n",
       "    <tr style=\"text-align: right;\">\n",
       "      <th>Cas</th>\n",
       "      <th>Abs</th>\n",
       "      <th>Dat</th>\n",
       "      <th>Erg</th>\n",
       "      <th>Obl</th>\n",
       "    </tr>\n",
       "    <tr>\n",
       "      <th>Nombre</th>\n",
       "      <th></th>\n",
       "      <th></th>\n",
       "      <th></th>\n",
       "      <th></th>\n",
       "    </tr>\n",
       "  </thead>\n",
       "  <tbody>\n",
       "    <tr>\n",
       "      <th>Pau</th>\n",
       "      <td>ganav</td>\n",
       "      <td>ganav-v</td>\n",
       "      <td>ganav-Z</td>\n",
       "      <td>ganav</td>\n",
       "    </tr>\n",
       "    <tr>\n",
       "      <th>Pl</th>\n",
       "      <td>ganav-we</td>\n",
       "      <td>ganav-we-v</td>\n",
       "      <td>ganav-we</td>\n",
       "      <td>ganav-we</td>\n",
       "    </tr>\n",
       "    <tr>\n",
       "      <th>Sg</th>\n",
       "      <td>ganav</td>\n",
       "      <td>ganav-v</td>\n",
       "      <td>ganav</td>\n",
       "      <td>ganav-d</td>\n",
       "    </tr>\n",
       "  </tbody>\n",
       "</table>\n",
       "</div>"
      ],
      "text/plain": [
       "Cas          Abs         Dat       Erg       Obl\n",
       "Nombre                                          \n",
       "Pau        ganav     ganav-v   ganav-Z     ganav\n",
       "Pl      ganav-we  ganav-we-v  ganav-we  ganav-we\n",
       "Sg         ganav     ganav-v     ganav   ganav-d"
      ]
     },
     "execution_count": 471,
     "metadata": {},
     "output_type": "execute_result"
    }
   ],
   "source": [
    "test=Lexeme(\"ganav\",\"VER\",\"croc\").getParadigm(lignes=[\"Genre\"],colonne=[\"Pers\",\"Temps\"])\n",
    "test=Lexeme(\"ganav\",\"NOM\",\"croc\").getParadigm(lignes=[\"Nombre\"],colonne=[\"Cas\"])\n",
    "\n",
    "# test=Lexeme(\"RAD\",\"DET\",\"croc\").getParadigm(lignes=[\"Genre\"],colonne=[\"Nombre\",\"Cas\"])\n",
    "test\n",
    "#test.index.sortlevel(0,ascending=False)"
   ]
  },
  {
   "cell_type": "raw",
   "metadata": {
    "scrolled": false
   },
   "source": [
    "lignes=[\"Temps\",\"Pers\",\"Trans\"]\n",
    "colonne=[\"Genre\"]\n",
    "lignes=[\"Genre\",\"Nombre\"]\n",
    "colonne=[\"Cas\"]\n",
    "for cf in [\"N%d\"%(i+1) for i in range(4)]:\n",
    "    test=Lexeme(\"RAD\",cf,\"croc\").getParadigm(lignes=lignes,colonne=colonne)\n",
    "    test=test.reset_index().groupby(by=[\"Erg\",\"Abs\",\"Dat\",\"Obl\"]).agg(lambda x: \", \".join(set(x))).reset_index().set_index(lignes)\n",
    "    print cf\n",
    "    display(test)\n",
    "\n",
    "lignes=[\"Cas\",\"Genre\"]\n",
    "colonne=[\"Nombre\"]\n",
    "for cf in [\"A%d\"%(i+1) for i in range(2)]:\n",
    "#for cf in [\"DET\"]:\n",
    "    test=Lexeme(\"RAD\",cf,\"croc\").getParadigm(lignes=lignes,colonne=colonne)\n",
    "    test=test.reset_index().groupby(by=[\"Sg\",\"Du\",\"Pl\"]).agg(lambda x: \", \".join(set(x))).reset_index().set_index(lignes)\n",
    "#    test=test.reset_index().groupby(by=[\"Sg\",\"Du\",\"Pl\"]).agg(lambda x: \", \".join(set(x))).reset_index().set_index(lignes)\n",
    "    print cf\n",
    "    display(test)\n",
    "\n",
    "lignes=[\"Genre\"]\n",
    "colonne=[\"Nombre\"]\n",
    "for cf in [\"DET\"]:\n",
    "    test=Lexeme(\"RAD\",cf,\"croc\").getParadigm(lignes=lignes,colonne=colonne)\n",
    "    test=test.reset_index().groupby(by=[\"Sg\",\"Du\",\"Pl\"]).agg(lambda x: \", \".join(set(x))).reset_index().set_index(lignes)\n",
    "    print cf\n",
    "    display(test)"
   ]
  },
  {
   "cell_type": "code",
   "execution_count": 472,
   "metadata": {
    "scrolled": true
   },
   "outputs": [
    {
     "data": {
      "text/plain": [
       "{}"
      ]
     },
     "execution_count": 472,
     "metadata": {},
     "output_type": "execute_result"
    }
   ],
   "source": [
    "cat=\"N\"\n",
    "triLex={}\n",
    "for element in PFM.lexique.lexemes:\n",
    "#    print element\n",
    "    elementElts=element.split(\".\")\n",
    "    nom=elementElts[0]\n",
    "    if len(elementElts)==3:\n",
    "        if elementElts[1].startswith(cat):\n",
    "            if not elementElts[2] in triLex:\n",
    "                triLex[elementElts[2]]=set()\n",
    "            triLex[elementElts[2]].add((PFM.lexique.lexemes[element].stem,nom))            \n",
    "triLex"
   ]
  },
  {
   "cell_type": "code",
   "execution_count": 473,
   "metadata": {
    "scrolled": false
   },
   "outputs": [
    {
     "name": "stdout",
     "output_type": "stream",
     "text": [
      "arbre.INAN.N1 NuSoT\n",
      "fuir.VT.V1 Zetak\n",
      "courageux.A2 fugur\n",
      "apporter.VT.V1 ZojuZ\n",
      "enfant.HUM.N3 libor\n",
      "œuf.INAN.N3 tuzeN\n",
      "pendre.VT.V1 Duwif\n",
      "viande.INAN.N1 Tagol\n",
      "placer.VT.V2 makuS\n",
      "douleur.INAN.N3 segot\n",
      "chambre.INAN.N3 tamar\n",
      "gros.A1 dobal\n",
      "ressusciter.VT.V2 naveZ\n",
      "voler.VT.V1 Zukub\n",
      "retourner.VI.V1 bagut\n",
      "reconstruire.VT.V2 posaf\n",
      "par bej\n",
      "gargouille.ANIM.N2 gevop\n",
      "lueur.INAN.N1 Zuzab\n",
      "lit.INAN.N1 DaZum\n",
      "combattant.HUM.N1 beneg\n",
      "Violette.HUM.N1 vjolet\n",
      "nourrir.VT.V2 mutase\n",
      "inquiéter.VT.V2 voriT\n",
      "échanger.VT.V2 siduT\n",
      "louve.ANIM.N2 Tuvir\n",
      "rejoindre.VT.V2 riluS\n",
      "trois.A2 poker\n",
      "feu.ANIM.N3 kobud\n",
      "croc.INAN.N3 sojal\n",
      "présenter.VT.V1 bemud\n",
      "changer.VT.V2 tedut\n",
      "nombreux.A2 bekut\n",
      "reconnaître.VT.V1 Dagam\n",
      "sortir.VT.V2 nufuS\n",
      "jaune.A2 kubon\n",
      "blanc.A1 povov\n",
      "planter.VT.V2 goTek\n",
      "grand.A1 savat\n",
      "courir.VI.V2 tidag\n",
      "pleurer-act.VI.V1 Sosak\n",
      "mort.INAN.N3 Soniv\n",
      "dernier-nom.INAN.N3 ruwoN\n",
      "effrayé.A2 nagor\n",
      "furieux.A1 bimog\n",
      "tornade.ANIM.N2 moger\n",
      "disparaître.VT.V2 toZune\n",
      "deux.A1 loNak\n",
      "fille.HUM.N1 dobin\n",
      "harmonie.INAN.N3 pozid\n",
      "Clemencia.HUM.N2 klemansja\n",
      "lever-nom.INAN.N1 bolok\n",
      "connaître.VT.V1 Degem\n",
      "tourner.VT.V2 tiTig\n",
      "couteau.INAN.N2 bureZ\n",
      "DEF k\n",
      "cinq.A2 kink\n",
      "vilain.A2 norib\n",
      "noyer.VT.V1 kuZab\n",
      "homme.HUM.N1 dimuN\n",
      "plaine.INAN.N1 keTuk\n",
      "Agathos.HUM.N1 agaTos\n",
      "jardiner.VT.V2 lobojo\n",
      "entrer.VT.V2 wajut\n",
      "loup.ANIM.N1 beZim\n",
      "manoir.INAN.N2 jidaf\n",
      "chef.HUM.N2 laTas\n",
      "suivant.A1 diDap\n",
      "voir.VT.V1 laDat\n",
      "mère.HUM.N3 tarem\n",
      "pendant SoDeb\n",
      "acheter.VT.V2 ruNin\n",
      "maison.INAN.N2 pumil\n",
      "jeter.VT.V2 talok\n",
      "vote.INAN.N2 temos\n",
      "table.INAN.N2 sipef\n",
      "vengeance.INAN.N3 vuTus\n",
      "aller.VI.V1 Sedaf\n",
      "interroger.VT.V1 guSes\n",
      "demande.INAN.N2 tinup\n",
      "demander.VT.V1 furun\n",
      "DEM b\n",
      "remercier.VT.V2 sotuN\n",
      "matin.INAN.N1 gafeg\n",
      "crapaud.ANIM.N1 gubal\n",
      "excuser.VT.V2 sibaz\n",
      "coyote.ANIM.N3 bonim\n",
      "coussin.INAN.N3 ziTer\n",
      "place.INAN.N1 Sebep\n",
      "balai.INAN.N1 loNot\n",
      "grimoire.INAN.N2 tibefu\n",
      "préparer.VT.V2 soZeZ\n",
      "chasseur.HUM.N1 Sejok\n",
      "brûler.VT.V1 Tilap\n",
      "dernier.A1 ruwor\n",
      "sous fepat\n",
      "transformer.VT.V1 duzeb\n",
      "recouvrir.VT.V1 murip\n",
      "approcher.VT.V2 wilob\n",
      "enlever.VT.V1 bonug\n",
      "illustrer.VT.V1 binod\n",
      "profond.A1 bogaz\n",
      "gorge.INAN.N1 ZojaD\n",
      "embrasser.VT.V2 pafit\n",
      "construction.INAN.N1 gotuz\n",
      "accueillir.VT.V2 peZip\n",
      "héros.HUM.N3 mejaN\n",
      "chatte.ANIM.N1 kiSas\n",
      "thé.INAN.N2 namot\n",
      "bas.A1 TiriS\n",
      "chat.ANIM.N3 kaSis\n",
      "noir.A1 runuk\n",
      "visage.INAN.N1 letat\n",
      "vivre.VI.V1 Named\n",
      "rêvasser.VT.V2 vasaZ\n",
      "Mahira.HUM.N1 maira\n",
      "cacher.VT.V2 witaZ\n",
      "Freja.HUM.N1 freZa\n",
      "protéger.VT.V2 muTib\n",
      "Hoderi.HUM.N3 oderi\n",
      "près SiS\n",
      "parler.VI.V2 reliN\n",
      "livre.INAN.N1 ladop\n",
      "rouge.A2 titov\n",
      "sur rab\n",
      "redevenir.VT.V2 taZup\n",
      "lever.VT.V2 sadaS\n",
      "hurlement.INAN.N3 fiNem\n",
      "Elphaba.HUM.N2 elfaba\n",
      "chercher.VT.V1 Sutib\n",
      "disparu.A1 bewep\n",
      "partir.VT.V2 nuTeZ\n",
      "avec volik\n",
      "IND l\n",
      "six.A2 Spuk\n",
      "arrêter.VT.V1 Zolot\n",
      "PRO g\n",
      "village.INAN.N3 lumiT\n",
      "donner.VT.V1 famat\n",
      "cuisine.INAN.N1 gedol\n",
      "esprit.ANIM.N3 Nubif\n",
      "différent.A2 kamov\n",
      "nouveau.A2 dikeT\n",
      "avoir.VT.V1 fikaj\n",
      "sorcier.HUM.N2 makert\n",
      "Kaleb.HUM.N3 kaleb\n",
      "blessure.INAN.N1 lalit\n",
      "en oj\n",
      "obscurité.INAN.N1 maguS\n",
      "survoler.VT.V1 NuDuf\n",
      "démon.ANIM.N3 piSul\n",
      "quatre.A1 manaN\n",
      "chemin.INAN.N3 pikag\n",
      "disparition.INAN.N3 Zokod\n",
      "sort.INAN.N2 nagek\n",
      "sept.A1 pujol\n",
      "montrer.VT.V1 palud\n",
      "milieu.INAN.N2 mowat\n",
      "garçon.HUM.N2 mekot\n",
      "manger.VT.V1 Dubav\n",
      "après Nopur\n",
      "coup.INAN.N2 dazuT\n",
      "sauter.VI.V2 maTud\n",
      "Katisha.HUM.N1 katiSa\n",
      "serpent.ANIM.N3 gariZ\n",
      "main.HUM.N2 bikak\n",
      "héroïque.A2 bugoN\n",
      "supporter.VT.V1 pobug\n",
      "lune.INAN.N3 DeTaT\n",
      "pousser.VT.V2 vipiz\n",
      "enfermer.VT.V1 fetek\n",
      "vers lom\n",
      "à kib\n",
      "père.HUM.N2 DoDal\n",
      "raconter.VT.V2 lafen\n",
      "soeur.HUM.N3 kides\n",
      "corps.INAN.N2 dogoS\n",
      "faire.VT.V1 bifed\n",
      "transpercer.VT.V2 gilek\n",
      "jardin.INAN.N1 jegap\n",
      "forêt.INAN.N2 DuguN\n",
      "manquer.VT.V2 taDam\n",
      "souris.ANIM.N2 poZov\n",
      "oeil.HUM.N2 revover\n",
      "nouvelle-nom.INAN.N3 ragop\n",
      "découvrir.VT.V1 TuteN\n",
      "passer.VI.V1 puDel\n",
      "vert.A2 Tonud\n",
      "proximité.INAN.N2 serkam\n",
      "devant fogek\n",
      "nuit.INAN.N1 milenuN\n",
      "boire.VT.V2 toron\n",
      "dans feD\n",
      "maigre.A2 pakek\n",
      "pour tun\n",
      "voleuse.HUM.N2 Sures\n",
      "villageoise.HUM.N2 fuvaT\n",
      "souffrance.INAN.N2 buNob\n",
      "fruit.INAN.N3 tadov\n",
      "lance.INAN.N1 SopeT\n",
      "parent.HUM.N1 eritaZ\n",
      "derrière sopiZ\n",
      "dégât.INAN.N2 barot\n",
      "allumer.VT.V1 Tigos\n",
      "raison.INAN.N3 favet\n",
      "excuse.INAN.N3 magok\n",
      "dévorer.VT.V2 sinag\n",
      "créature.ANIM.N1 Tobaz\n",
      "poisson.ANIM.N2 neriZ\n",
      "treize.A1 fovor\n",
      "autruche.ANIM.N1 biNep\n",
      "côté.INAN.N3 miZel\n",
      "être.VT.V1 geduj\n",
      "détester.VT.V2 siZuk\n",
      "porter.VT.V1 Zifar\n",
      "autre.A1 bunig\n",
      "nuire.VI.V2 gariv\n",
      "légende.INAN.N1 tujup\n",
      "Nicole.HUM.N3 nikol\n",
      "ENTRE feguT\n",
      "hurler.VI.V1 sonil\n",
      "surplomber.VT.V2 toNet\n",
      "colère.INAN.N1 leTer\n",
      "prendre.VT.V2 kakik\n",
      "maître.HUM.N3 pomaD\n",
      "infirmière.HUM.N3 kuwer\n",
      "envahir.VT.V1 DaZal\n",
      "blessé.A1 rusib\n",
      "peau.HUM.N3 nuZun\n",
      "caillou.INAN.N3 Zenuk\n",
      "dormir.VI.V2 batuz\n",
      "donjon.INAN.N1 daTem\n",
      "bûcher.INAN.N2 pabov\n",
      "tomber.VI.V1 bogeg\n",
      "lumière.INAN.N2 Dodor\n",
      "de loZ\n",
      "offrir.VT.V1 naduz\n",
      "arriver.VI.V2 Nanit\n",
      "robe.INAN.N2 dilat\n",
      "marais.INAN.N2 mikot\n",
      "attraper.VT.V1 badof\n",
      "dragon.ANIM.N1 Serek\n",
      "combat.INAN.N2 feSez\n",
      "méchant.A2 gepaT\n",
      "posséder.VT.V1 keSad\n",
      "histoire.INAN.N3 mogul\n",
      "pleurer.VT.V1 senif\n",
      "villageois.HUM.N2 fevaD\n",
      "ombre.INAN.N1 Sokar\n",
      "chasser.VT.V1 Zuruk\n",
      "mourir.VI.V1 SukuD\n",
      "revenir.VI.V2 takan\n",
      "petit.A2 munim\n",
      "voter.VT.V1 Tukat\n",
      "descendre.VT.V1 dikefa\n",
      "femme.HUM.N2 tapiT\n",
      "compter.VT.V1 Tugif\n",
      "bras.HUM.N1 Nipet\n",
      "légume.HUM.N3 fivaD\n",
      "jour.INAN.N3 pedap\n",
      "cri.INAN.N2 rofut\n",
      "lancer.VT.V2 sawuv\n",
      "troisième.A1 karin\n",
      "sortilège.INAN.N3 tiTum\n",
      "Nabil.HUM.N2 nabil\n",
      "terrible.A2 wetaN\n",
      "café.INAN.N2 daDat\n"
     ]
    }
   ],
   "source": [
    "for l in PFM.lexique.lexemes:\n",
    "    print l,PFM.lexique.lexemes[l].stem"
   ]
  },
  {
   "cell_type": "raw",
   "metadata": {},
   "source": [
    "temp=test.reset_index()\n",
    "temp[\"Nombre\"]=pd.Categorical(temp[\"Nombre\"],categories=[\"Sg\",\"Du\",\"Pl\"],ordered=True)\n",
    "temp.sort_values(\"Nombre\")"
   ]
  },
  {
   "cell_type": "code",
   "execution_count": 474,
   "metadata": {},
   "outputs": [],
   "source": [
    "ding()"
   ]
  },
  {
   "cell_type": "code",
   "execution_count": null,
   "metadata": {},
   "outputs": [],
   "source": []
  }
 ],
 "metadata": {
  "kernelspec": {
   "display_name": "Python (py27)",
   "language": "python",
   "name": "py27"
  },
  "language_info": {
   "codemirror_mode": {
    "name": "ipython",
    "version": 2
   },
   "file_extension": ".py",
   "mimetype": "text/x-python",
   "name": "python",
   "nbconvert_exporter": "python",
   "pygments_lexer": "ipython2",
   "version": "2.7.16"
  }
 },
 "nbformat": 4,
 "nbformat_minor": 1
}

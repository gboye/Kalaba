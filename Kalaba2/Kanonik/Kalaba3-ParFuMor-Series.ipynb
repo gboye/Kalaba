{
 "cells": [
  {
   "cell_type": "markdown",
   "metadata": {},
   "source": [
    "# ParFuMor (version YAML & Objets)\n",
    "\n",
    "- Ajout d'un %store pour la gestion des numéros de kanoniks (16/04/20)\n",
    "\n",
    "- Attention les règles qui ne changent pas le radical donnent lieu à des mauvais découpages des formes..."
   ]
  },
  {
   "cell_type": "code",
   "execution_count": 240,
   "metadata": {},
   "outputs": [],
   "source": [
    "# -*- coding: utf8 -*-\n",
    "import os\n",
    "from os.path import expanduser\n",
    "import itertools\n",
    "import yaml,YamlDuplicates\n",
    "from yaml.constructor import ConstructorError\n",
    "import warnings\n",
    "import ParFuMor as PFM\n",
    "from ParFuMor import *\n",
    "import pickle\n",
    "from IPython.display import HTML, display\n",
    "#import cellbell "
   ]
  },
  {
   "cell_type": "code",
   "execution_count": 241,
   "metadata": {},
   "outputs": [],
   "source": [
    "def ding():\n",
    "    os.system('afplay /System/Library/Sounds/Submarine.aiff')"
   ]
  },
  {
   "cell_type": "markdown",
   "metadata": {},
   "source": [
    "# Gestion partagée des numéros à traiter\n",
    "\n",
    "le block suivant permet de partager les numéros à traiter entre les différents Notebooks.\n",
    "- %store -r variable lit la variable dans le stock\n",
    "- %store variable stocke la variable"
   ]
  },
  {
   "cell_type": "code",
   "execution_count": 242,
   "metadata": {},
   "outputs": [
    {
     "name": "stdout",
     "output_type": "stream",
     "text": [
      "[5]\n",
      "Stored 'numerosKalaba' (list)\n"
     ]
    }
   ],
   "source": [
    "%store -r numerosKalaba\n",
    "numerosKalaba=[1,2,3,4,5]\n",
    "numerosKalaba=[5]\n",
    "print numerosKalaba\n",
    "%store numerosKalaba"
   ]
  },
  {
   "cell_type": "code",
   "execution_count": 243,
   "metadata": {},
   "outputs": [],
   "source": [
    "home = expanduser(\"~\")\n",
    "repertoire=home+\"/ownCloud/Cours/Bordeaux/L1-LinguistiqueGenerale/00-ProjetKalaba/\"\n",
    "serie=repertoire+\"21-\"\n",
    "nomsKalabas=[serie+\"K%d/\"%num for num in numerosKalaba]"
   ]
  },
  {
   "cell_type": "code",
   "execution_count": 244,
   "metadata": {},
   "outputs": [],
   "source": [
    "def getExemple(lDict):\n",
    "    exKey=lDict.keys()[0]\n",
    "    if isinstance(lDict[exKey],dict):\n",
    "        result=getExemple(lDict[exKey])\n",
    "    elif isinstance(lDict[exKey],list):\n",
    "        result=lDict[exKey][0]\n",
    "    return result"
   ]
  },
  {
   "cell_type": "code",
   "execution_count": 245,
   "metadata": {
    "scrolled": true
   },
   "outputs": [
    {
     "name": "stdout",
     "output_type": "stream",
     "text": [
      "\n",
      "/Users/gilles/ownCloud/Cours/Bordeaux/L1-LinguistiqueGenerale/00-ProjetKalaba/21-K5/\n"
     ]
    },
    {
     "name": "stderr",
     "output_type": "stream",
     "text": [
      "/Users/gilles/anaconda/envs/py27/lib/python2.7/site-packages/ipykernel_launcher.py:32: UserWarning: \n",
      "/Users/gilles/ownCloud/Cours/Bordeaux/L1-LinguistiqueGenerale/00-ProjetKalaba/21-K5/\n",
      "Les attributs de ADJ ne sont pas cohérents\n",
      "Morphosyntax => Genre, Nombre, Cas\n",
      "Gloses => Genre, Nombre\n"
     ]
    },
    {
     "name": "stdout",
     "output_type": "stream",
     "text": [
      "NOM : Genre Nombre Cas\n",
      "VER : Temps Pers Genre\n",
      "ADJ : Genre Nombre\n",
      "PRO : Genre Nombre Cas\n",
      "DET : Genre Nombre Cas\n",
      "head stems\n",
      "head stems,NOM\n",
      "head stems,NOM,N1\n",
      "head stems,NOM,N2\n",
      "lumière lumière lumière\n",
      "lumières lumière lumière\n",
      "head stems,NOM,N3\n",
      "demande demande demande\n",
      "demandes demande demande\n",
      "soeur soeur soeur\n",
      "soeurs soeur soeur\n",
      "head stems,NOM,N4\n",
      "head stems,VER\n",
      "head stems,VER,VI\n",
      "head stems,VER,VT\n",
      "nourrit nourrir nourrir\n",
      "lever lever lever-NOM\n",
      "excuse excuser excuse\n",
      "PB ADJ A1 None\n",
      "PB ADJ A2 None\n",
      "\n",
      "=======ERREURS========\n",
      "\n",
      "Formes homographes \"lumière\" pour \"lumière\" et \"lumière\"\n",
      "Formes homographes \"lumières\" pour \"lumière\" et \"lumière\"\n",
      "Formes homographes \"demande\" pour \"demande\" et \"demande\"\n",
      "Formes homographes \"demandes\" pour \"demande\" et \"demande\"\n",
      "Formes homographes \"soeur\" pour \"soeur\" et \"soeur\"\n",
      "Formes homographes \"soeurs\" pour \"soeur\" et \"soeur\"\n",
      "Formes homographes \"nourrit\" pour \"nourrir\" et \"nourrir\"\n",
      "Formes homographes \"lever\" pour \"lever\" et \"lever-NOM\"\n",
      "Formes homographes \"excuse\" pour \"excuser\" et \"excuse\"\n"
     ]
    }
   ],
   "source": [
    "PFM.duplicateErrors=[]\n",
    "for serie in nomsKalabas:\n",
    "    print\n",
    "    print serie\n",
    "\n",
    "    with open(serie+\"Gloses.yaml\", 'r') as stream:\n",
    "        gloses=yaml.safe_load(stream)\n",
    "        PFM.gloses=gloses\n",
    "    with open(serie+\"Stems.yaml\", 'r') as stream:\n",
    "        try:\n",
    "            stems=yaml.safe_load(stream)\n",
    "            PFM.stems=stems\n",
    "        except ConstructorError,msg:\n",
    "            print msg\n",
    "            continue\n",
    "    lexiqueTestPrep=getExemple(stems[\"PREP\"])\n",
    "    lexiqueTestNoun=getExemple(stems[\"NOM\"])\n",
    "    lexiqueTestHyper=getExemple(stems[\"ADJ\"])\n",
    "    with open(serie+\"Blocks.yaml\", 'r') as stream:\n",
    "        blocks=yaml.safe_load(stream)\n",
    "        PFM.blocks=blocks\n",
    "    with open(serie+\"Phonology.yaml\", 'r') as stream:\n",
    "        phonology=yaml.safe_load(stream)\n",
    "        PFM.phonology=phonology\n",
    "    with open(serie+\"MorphoSyntax.yaml\", 'r') as stream:\n",
    "        morphosyntax=yaml.safe_load(stream)\n",
    "        PFM.morphosyntax=morphosyntax\n",
    "\n",
    "        \n",
    "    for cat in morphosyntax[\"Attributs\"]:\n",
    "        if sorted(morphosyntax[\"Attributs\"][cat])!=sorted(gloses[cat].keys()):\n",
    "            warnings.warn(\"\\n\"+serie+\"\\nLes attributs de %s ne sont pas cohérents\\nMorphosyntax => %s\\nGloses => %s\"%(cat,\", \".join(morphosyntax[\"Attributs\"][cat]),\", \".join(gloses[cat].keys())))\n",
    "    \n",
    "    regles=Regles()\n",
    "    PFM.regles=regles\n",
    "    for categorie in blocks:\n",
    "        regles.addBlocs(categorie,blocks[categorie])\n",
    "\n",
    "\n",
    "    paradigmes=Paradigmes()\n",
    "    PFM.paradigmes=paradigmes\n",
    "\n",
    "    hierarchieCF=HierarchieCF()\n",
    "    PFM.hierarchieCF=hierarchieCF\n",
    "    lexique=Lexique()\n",
    "    PFM.lexique=lexique\n",
    "\n",
    "\n",
    "    for cat in gloses:\n",
    "    #    print cat\n",
    "        attributes=[]\n",
    "        if gloses[cat]:\n",
    "            if set(gloses[cat].keys())==set(morphosyntax[\"Attributs\"][cat]):\n",
    "                features=morphosyntax[\"Attributs\"][cat]\n",
    "    #            print \"inhérent\",features\n",
    "            else:\n",
    "                features=gloses[cat].keys()\n",
    "    #            print \"contextuel\",features\n",
    "            for attribute in features:\n",
    "                attributes.append(gloses[cat][attribute])\n",
    "            nuplets=(itertools.product(*attributes))\n",
    "            for nuplet in nuplets:\n",
    "                proprietes=[cat]\n",
    "                for element in range(len(nuplet)):\n",
    "                    proprietes.append(u\"%s=%s\"%(features[element],nuplet[element]))\n",
    "                paradigmes.addForme(cat,proprietes)\n",
    "\n",
    "    analyserGloses(gloses)\n",
    "    analyserStems(stems)\n",
    "        \n",
    "    with open(serie+\"Hierarchie-S2.pkl\", 'wb') as output:\n",
    "       pickle.dump(hierarchieCF, output, pickle.HIGHEST_PROTOCOL)\n",
    "    with open(serie+\"Lexique-S2.pkl\", 'wb') as output:\n",
    "       pickle.dump(lexique, output, pickle.HIGHEST_PROTOCOL)\n",
    "    with open(serie+\"Regles-S2.pkl\", 'wb') as output:\n",
    "       pickle.dump(regles, output, pickle.HIGHEST_PROTOCOL)\n",
    "\n",
    "\n",
    "    PFM.lexique.lexemes[lexiqueTestPrep]\n",
    "\n",
    "    mot=lexiqueTestNoun\n",
    "    classesNom=PFM.lexique.formeLexeme[mot][0].split('.')[1:]\n",
    "    [classeElement for classeElement in classesNom if classeElement in gloses[\"NOM\"][\"Genre\"]]\n",
    "\n",
    "    PFM.lexique.formeLexeme[lexiqueTestHyper][0]\n",
    "\n",
    "if PFM.duplicateErrors:\n",
    "    print\n",
    "    print \"=======ERREURS========\"\n",
    "    print\n",
    "    for ligne in PFM.duplicateErrors:\n",
    "        print ligne\n"
   ]
  },
  {
   "cell_type": "code",
   "execution_count": 246,
   "metadata": {},
   "outputs": [
    {
     "data": {
      "text/plain": [
       "u'pr\\xe8s'"
      ]
     },
     "execution_count": 246,
     "metadata": {},
     "output_type": "execute_result"
    }
   ],
   "source": [
    "getExemple(stems[\"PREP\"])"
   ]
  },
  {
   "cell_type": "code",
   "execution_count": 247,
   "metadata": {},
   "outputs": [
    {
     "name": "stdout",
     "output_type": "stream",
     "text": [
      "grand\n",
      "forêt.N1.A\n",
      "près\n"
     ]
    }
   ],
   "source": [
    "print PFM.lexique.formeLexeme[lexiqueTestHyper][0]\n",
    "print PFM.lexique.formeLexeme[lexiqueTestNoun][0]\n",
    "print PFM.lexique.formeLexeme[lexiqueTestPrep][0]"
   ]
  },
  {
   "cell_type": "code",
   "execution_count": 248,
   "metadata": {},
   "outputs": [
    {
     "data": {
      "text/plain": [
       "[u'VER, Temps=PRS, Pers=3Sg, Genre=A',\n",
       " u'VER, Temps=PRS, Pers=3Sg, Genre=B',\n",
       " u'VER, Temps=PRS, Pers=3Sg, Genre=C',\n",
       " u'VER, Temps=PRS, Pers=3Sg, Genre=D',\n",
       " u'VER, Temps=PRS, Pers=3Pau, Genre=A',\n",
       " u'VER, Temps=PRS, Pers=3Pau, Genre=B',\n",
       " u'VER, Temps=PRS, Pers=3Pau, Genre=C',\n",
       " u'VER, Temps=PRS, Pers=3Pau, Genre=D',\n",
       " u'VER, Temps=PRS, Pers=3Pl, Genre=A',\n",
       " u'VER, Temps=PRS, Pers=3Pl, Genre=B',\n",
       " u'VER, Temps=PRS, Pers=3Pl, Genre=C',\n",
       " u'VER, Temps=PRS, Pers=3Pl, Genre=D',\n",
       " u'VER, Temps=PST, Pers=3Sg, Genre=A',\n",
       " u'VER, Temps=PST, Pers=3Sg, Genre=B',\n",
       " u'VER, Temps=PST, Pers=3Sg, Genre=C',\n",
       " u'VER, Temps=PST, Pers=3Sg, Genre=D',\n",
       " u'VER, Temps=PST, Pers=3Pau, Genre=A',\n",
       " u'VER, Temps=PST, Pers=3Pau, Genre=B',\n",
       " u'VER, Temps=PST, Pers=3Pau, Genre=C',\n",
       " u'VER, Temps=PST, Pers=3Pau, Genre=D',\n",
       " u'VER, Temps=PST, Pers=3Pl, Genre=A',\n",
       " u'VER, Temps=PST, Pers=3Pl, Genre=B',\n",
       " u'VER, Temps=PST, Pers=3Pl, Genre=C',\n",
       " u'VER, Temps=PST, Pers=3Pl, Genre=D']"
      ]
     },
     "execution_count": 248,
     "metadata": {},
     "output_type": "execute_result"
    }
   ],
   "source": [
    "paradigmes.getSigmas([\"VER\"])"
   ]
  },
  {
   "cell_type": "code",
   "execution_count": 249,
   "metadata": {},
   "outputs": [
    {
     "name": "stdout",
     "output_type": "stream",
     "text": [
      "CF=\n",
      "['CF=N1', 'CF=N2']\n",
      "does not apply\n"
     ]
    }
   ],
   "source": [
    "case=\"CF=N3\"\n",
    "m=re.match(ur\"(.*=)(.*)\",\"CF=N1|N2\")\n",
    "if m:\n",
    "    altTrait=m.group(1)\n",
    "    altValeurs=m.group(2).split(\"|\")\n",
    "    print altTrait\n",
    "    altTraits=[altTrait+v for v in altValeurs]\n",
    "    print altTraits\n",
    "    if any(t == case for t in altTraits):\n",
    "        print \"applies\"\n",
    "    else:\n",
    "        print \"does not apply\""
   ]
  },
  {
   "cell_type": "code",
   "execution_count": 250,
   "metadata": {},
   "outputs": [
    {
     "data": {
      "text/plain": [
       "[]"
      ]
     },
     "execution_count": 250,
     "metadata": {},
     "output_type": "execute_result"
    }
   ],
   "source": [
    "regles.getRules(\"NOM\",'CF=N3, Genre=C, Nombre=Du, Cas=Acc')\n",
    "regles.getRules(\"VER\",\"Pers=3Pau\")"
   ]
  },
  {
   "cell_type": "code",
   "execution_count": 251,
   "metadata": {
    "scrolled": true
   },
   "outputs": [
    {
     "name": "stdout",
     "output_type": "stream",
     "text": [
      "del Cas\n"
     ]
    },
    {
     "data": {
      "text/html": [
       "<div>\n",
       "<style scoped>\n",
       "    .dataframe tbody tr th:only-of-type {\n",
       "        vertical-align: middle;\n",
       "    }\n",
       "\n",
       "    .dataframe tbody tr th {\n",
       "        vertical-align: top;\n",
       "    }\n",
       "\n",
       "    .dataframe thead th {\n",
       "        text-align: right;\n",
       "    }\n",
       "</style>\n",
       "<table border=\"1\" class=\"dataframe\">\n",
       "  <thead>\n",
       "    <tr style=\"text-align: right;\">\n",
       "      <th>Nombre</th>\n",
       "      <th>Pau</th>\n",
       "      <th>Pl</th>\n",
       "      <th>Sg</th>\n",
       "    </tr>\n",
       "    <tr>\n",
       "      <th>Genre</th>\n",
       "      <th></th>\n",
       "      <th></th>\n",
       "      <th></th>\n",
       "    </tr>\n",
       "  </thead>\n",
       "  <tbody>\n",
       "    <tr>\n",
       "      <th>A</th>\n",
       "      <td>RAD</td>\n",
       "      <td>RAD</td>\n",
       "      <td>RAD</td>\n",
       "    </tr>\n",
       "    <tr>\n",
       "      <th>B</th>\n",
       "      <td>RAD</td>\n",
       "      <td>RAD</td>\n",
       "      <td>RAD</td>\n",
       "    </tr>\n",
       "    <tr>\n",
       "      <th>C</th>\n",
       "      <td>RAD</td>\n",
       "      <td>RAD</td>\n",
       "      <td>RAD</td>\n",
       "    </tr>\n",
       "    <tr>\n",
       "      <th>D</th>\n",
       "      <td>RAD</td>\n",
       "      <td>RAD</td>\n",
       "      <td>RAD</td>\n",
       "    </tr>\n",
       "  </tbody>\n",
       "</table>\n",
       "</div>"
      ],
      "text/plain": [
       "Nombre  Pau   Pl   Sg\n",
       "Genre                \n",
       "A       RAD  RAD  RAD\n",
       "B       RAD  RAD  RAD\n",
       "C       RAD  RAD  RAD\n",
       "D       RAD  RAD  RAD"
      ]
     },
     "execution_count": 251,
     "metadata": {},
     "output_type": "execute_result"
    }
   ],
   "source": [
    "test=Lexeme(\"RAD\",\"PRO\",\"croc\").getParadigm(lignes=[\"Genre\"],colonne=[\"Nombre\"])\n",
    "#test=Lexeme(\"RAD\",\"DET\",\"croc\").getParadigm(lignes=[\"Genre\"],colonne=[\"Nombre\",\"Cas\"])\n",
    "test\n",
    "#test.index.sortlevel(0,ascending=False)"
   ]
  },
  {
   "cell_type": "raw",
   "metadata": {
    "scrolled": false
   },
   "source": [
    "lignes=[\"Temps\",\"Pers\",\"Trans\"]\n",
    "colonne=[\"Genre\"]\n",
    "lignes=[\"Genre\",\"Nombre\"]\n",
    "colonne=[\"Cas\"]\n",
    "for cf in [\"N%d\"%(i+1) for i in range(4)]:\n",
    "    test=Lexeme(\"RAD\",cf,\"croc\").getParadigm(lignes=lignes,colonne=colonne)\n",
    "    test=test.reset_index().groupby(by=[\"Erg\",\"Abs\",\"Dat\",\"Obl\"]).agg(lambda x: \", \".join(set(x))).reset_index().set_index(lignes)\n",
    "    print cf\n",
    "    display(test)\n",
    "\n",
    "lignes=[\"Cas\",\"Genre\"]\n",
    "colonne=[\"Nombre\"]\n",
    "for cf in [\"A%d\"%(i+1) for i in range(2)]:\n",
    "#for cf in [\"DET\"]:\n",
    "    test=Lexeme(\"RAD\",cf,\"croc\").getParadigm(lignes=lignes,colonne=colonne)\n",
    "    test=test.reset_index().groupby(by=[\"Sg\",\"Du\",\"Pl\"]).agg(lambda x: \", \".join(set(x))).reset_index().set_index(lignes)\n",
    "#    test=test.reset_index().groupby(by=[\"Sg\",\"Du\",\"Pl\"]).agg(lambda x: \", \".join(set(x))).reset_index().set_index(lignes)\n",
    "    print cf\n",
    "    display(test)\n",
    "\n",
    "lignes=[\"Genre\"]\n",
    "colonne=[\"Nombre\"]\n",
    "for cf in [\"DET\"]:\n",
    "    test=Lexeme(\"RAD\",cf,\"croc\").getParadigm(lignes=lignes,colonne=colonne)\n",
    "    test=test.reset_index().groupby(by=[\"Sg\",\"Du\",\"Pl\"]).agg(lambda x: \", \".join(set(x))).reset_index().set_index(lignes)\n",
    "    print cf\n",
    "    display(test)"
   ]
  },
  {
   "cell_type": "code",
   "execution_count": 252,
   "metadata": {
    "scrolled": true
   },
   "outputs": [
    {
     "data": {
      "text/plain": [
       "{u'A': {('DoDal', u'p\\xe8re'),\n",
       "  ('Dodor', u'lumi\\xe8re'),\n",
       "  ('DuguN', u'for\\xeat'),\n",
       "  ('Nipet', u'bras'),\n",
       "  ('dimuN', u'homme'),\n",
       "  ('dobin', u'fille'),\n",
       "  ('kides', u'soeur'),\n",
       "  ('maguS', u'obscurit\\xe9'),\n",
       "  ('makert', u'sorcier'),\n",
       "  ('mejaN', u'h\\xe9ros'),\n",
       "  ('mikot', u'marais'),\n",
       "  ('moger', u'tornade'),\n",
       "  ('mogul', u'histoire'),\n",
       "  ('mowat', u'milieu'),\n",
       "  ('pikag', u'chemin'),\n",
       "  ('pomaD', u'ma\\xeetre'),\n",
       "  ('tarem', u'm\\xe8re')},\n",
       " u'B': {('Dodor', u'lumi\\xe8re'),\n",
       "  ('Nubif', u'esprit'),\n",
       "  ('Sebep', u'place'),\n",
       "  ('Soniv', u'mort'),\n",
       "  ('Tobaz', u'cr\\xe9ature'),\n",
       "  ('Zenuk', u'caillou'),\n",
       "  ('bolok', u'lever-nom'),\n",
       "  ('gubal', u'crapaud'),\n",
       "  ('jegap', u'jardin'),\n",
       "  ('jidaf', u'manoir'),\n",
       "  ('kobud', u'feu'),\n",
       "  ('nuZun', u'peau'),\n",
       "  ('oderi', u'Hoderi'),\n",
       "  ('pabov', u'b\\xfbcher'),\n",
       "  ('ragop', u'nouvelle-n'),\n",
       "  ('tapiT', u'femme'),\n",
       "  ('temos', u'vote'),\n",
       "  ('tiTum', u'sortil\\xe8ge'),\n",
       "  ('tibefu', u'grimoire'),\n",
       "  ('tinup', u'demande'),\n",
       "  ('vuTus', u'vengeance')},\n",
       " u'C': {('Sures', u'voleuse'),\n",
       "  ('dilat', u'robe'),\n",
       "  ('favet', u'raison'),\n",
       "  ('fiNem', u'hurlement'),\n",
       "  ('fivaD', u'l\\xe9gume'),\n",
       "  ('freZa', u'Freja'),\n",
       "  ('gafeg', u'matin'),\n",
       "  ('kaSis', u'chat'),\n",
       "  ('klemansja', u'Clemencia'),\n",
       "  ('libor', u'enfant'),\n",
       "  ('loNot', u'balai'),\n",
       "  ('lumiT', u'village'),\n",
       "  ('miZel', u'c\\xf4t\\xe9'),\n",
       "  ('milenuN', u'nuit'),\n",
       "  ('pozid', u'harmonie'),\n",
       "  ('revover', u'oeil'),\n",
       "  ('segot', u'douleur'),\n",
       "  ('tujup', u'l\\xe9gende'),\n",
       "  ('vekaz', u'villageois')},\n",
       " u'D': {('Sejok', u'chasseur'),\n",
       "  ('Zokod', u'disparition'),\n",
       "  ('agaTos', u'Agathos'),\n",
       "  ('barot', u'd\\xe9g\\xe2t'),\n",
       "  ('daTem', u'donjon'),\n",
       "  ('elfaba', u'Elphaba'),\n",
       "  ('eritaZ', u'parent'),\n",
       "  ('gevop', u'gargouille'),\n",
       "  ('gotuz', u'construction'),\n",
       "  ('kides', u'soeur'),\n",
       "  ('ladop', u'livre'),\n",
       "  ('magok', u'excuse'),\n",
       "  ('pedap', u'jour'),\n",
       "  ('ruwoN', u'dernier-n'),\n",
       "  ('serkam', u'proximit\\xe9'),\n",
       "  ('tinup', u'demande')}}"
      ]
     },
     "execution_count": 252,
     "metadata": {},
     "output_type": "execute_result"
    }
   ],
   "source": [
    "cat=\"N\"\n",
    "triLex={}\n",
    "for element in PFM.lexique.lexemes:\n",
    "#    print element\n",
    "    elementElts=element.split(\".\")\n",
    "    nom=elementElts[0]\n",
    "    if len(elementElts)==3:\n",
    "        if elementElts[1].startswith(cat):\n",
    "            if not elementElts[2] in triLex:\n",
    "                triLex[elementElts[2]]=set()\n",
    "            triLex[elementElts[2]].add((PFM.lexique.lexemes[element].stem,nom))            \n",
    "triLex"
   ]
  },
  {
   "cell_type": "code",
   "execution_count": 253,
   "metadata": {
    "scrolled": false
   },
   "outputs": [
    {
     "name": "stdout",
     "output_type": "stream",
     "text": [
      "fuir.VT.V1 Zetak\n",
      "feu.N4.B kobud\n",
      "pendre.VT.V1 Duwif\n",
      "Clemencia.N3.C klemansja\n",
      "remercier.VT.V2 sotuN\n",
      "retourner.VI.V2 bagut\n",
      "oeil.N1.C revover\n",
      "créature.N1.B Tobaz\n",
      "dernier-n.N2.D ruwoN\n",
      "quatre manaN\n",
      "PRO g\n",
      "nourrir.VT.V1 mutase\n",
      "Hoderi.N2.B oderi\n",
      "rejoindre.VT.V2 riluS\n",
      "placer.VT.V1 makuS\n",
      "changer.VT.V2 tedut\n",
      "construction.N2.D gotuz\n",
      "reconnaître.VT.V1 Dagam\n",
      "protéger.VT.V1 muTib\n",
      "courir.VI.V1 tidag\n",
      "proximité.N3.D serkam\n",
      "père.N4.A DoDal\n",
      "vert Tonud\n",
      "pleurer-act.VI.V2 Sosak\n",
      "enlever.VT.V1 bonug\n",
      "disparaître.VT.V1 toZune\n",
      "surplomber.VT.V1 toNet\n",
      "bûcher.N3.B pabov\n",
      "connaître.VT.V1 Degem\n",
      "Elphaba.N2.D elfaba\n",
      "tourner.VT.V2 tiTig\n",
      "demander.VT.V1 furun\n",
      "nouveau dikeT\n",
      "demande.N1.D tinup\n",
      "raison.N4.C favet\n",
      "milieu.N2.A mowat\n",
      "livre.N4.D ladop\n",
      "douleur.N1.C segot\n",
      "demande.N3.B tinup\n",
      "embrasser.VT.V1 pafit\n",
      "héros.N3.A mejaN\n",
      "nouvelle-n.N3.B ragop\n",
      "noyer.VT.V2 kuZab\n",
      "troisième okarina\n",
      "héroïque bugoN\n",
      "en oj\n",
      "fille.N1.A dobin\n",
      "accueillir.VT.V2 peZip\n",
      "gargouille.N2.D gevop\n",
      "légume.N2.C fivaD\n",
      "autre bunig\n",
      "DEM b\n",
      "nuire.VI.V1 gariv\n",
      "inquiéter.VT.V2 voriT\n",
      "excuser.VT.V2 sibaz\n",
      "DEF k\n",
      "entrer.VT.V2 wajut\n",
      "compter.VT.V2 Tugif\n",
      "avec volik\n",
      "reconstruire.VT.V2 posaf\n",
      "sortir.VT.V1 nufuS\n",
      "sur rab\n",
      "Agathos.N4.D agaTos\n",
      "jardiner.VT.V1 lobojo\n",
      "sorcier.N1.A makert\n",
      "vote.N2.B temos\n",
      "obscurité.N3.A maguS\n",
      "voir.VT.V1 laDat\n",
      "peau.N1.B nuZun\n",
      "forêt.N1.A DuguN\n",
      "lever.VT.V2 sadaS\n",
      "chasseur.N1.D Sejok\n",
      "pendant SoDeb\n",
      "interroger.VT.V2 guSes\n",
      "noir runuk\n",
      "près SiS\n",
      "tornade.N2.A moger\n",
      "à kib\n",
      "pousser.VT.V1 vipiz\n",
      "chercher.VT.V2 Sutib\n",
      "village.N4.C lumiT\n",
      "crapaud.N4.B gubal\n",
      "marais.N2.A mikot\n",
      "jeter.VT.V2 talok\n",
      "bras.N1.A Nipet\n",
      "IND l\n",
      "arrêter.VT.V2 Zolot\n",
      "harmonie.N2.C pozid\n",
      "sept pujol\n",
      "échanger.VT.V2 siduT\n",
      "jardin.N4.B jegap\n",
      "donjon.N1.D daTem\n",
      "partir.VI.V1 nuTeZ\n",
      "caillou.N2.B Zenuk\n",
      "survoler.VT.V1 NuDuf\n",
      "disparition.N3.D Zokod\n",
      "chasser.VT.V2 Zuruk\n",
      "redevenir.VT.V2 taZup\n",
      "soeur.N3.D kides\n",
      "manger.VT.V1 Dubav\n",
      "soeur.N3.A kides\n",
      "sortilège.N4.B tiTum\n",
      "villageois.N2.C vekaz\n",
      "lumière.N2.B Dodor\n",
      "voleuse.N4.C Sures\n",
      "lumière.N2.A Dodor\n",
      "vers lom\n",
      "raconter.VT.V1 lafen\n",
      "dormir.VI.V1 batuz\n",
      "chemin.N3.A pikag\n",
      "faire.VT.V1 bifed\n",
      "voter.VT.V2 Tukat\n",
      "manquer.VT.V2 taDam\n",
      "nuit.N1.C milenuN\n",
      "ressusciter.VT.V1 naveZ\n",
      "découvrir.VT.V2 TuteN\n",
      "présenter.VT.V2 bemud\n",
      "chat.N4.C kaSis\n",
      "excuse.N4.D magok\n",
      "dégât.N3.D barot\n",
      "jour.N1.D pedap\n",
      "Freja.N1.C freZa\n",
      "mort.N2.B Soniv\n",
      "dans feD\n",
      "disparu bewep\n",
      "pour tun\n",
      "histoire.N4.A mogul\n",
      "brûler.VT.V2 Tilap\n",
      "balai.N3.C loNot\n",
      "cacher.VT.V2 witaZ\n",
      "allumer.VT.V2 Tigos\n",
      "femme.N3.B tapiT\n",
      "être.VT.V2 geduj\n",
      "détester.VT.V2 siZuk\n",
      "vengeance.N1.B vuTus\n",
      "porter.VT.V2 Zifar\n",
      "enfermer.VT.V1 fetek\n",
      "côté.N4.C miZel\n",
      "hurlement.N2.C fiNem\n",
      "enfant.N2.C libor\n",
      "hurler.VI.V1 sonil\n",
      "par bej\n",
      "grimoire.N2.B tibefu\n",
      "six Spuk\n",
      "légende.N1.C tujup\n",
      "deux loNak\n",
      "grand savat\n",
      "maître.N4.A pomaD\n",
      "cinq kink\n",
      "dernier ruwor\n",
      "méchant gepaT\n",
      "voler.VT.V2 Zukub\n",
      "robe.N3.C dilat\n",
      "vivre.VI.V2 Named\n",
      "attraper.VT.V2 badof\n",
      "posséder.VT.V1 keSad\n",
      "place.N4.B Sebep\n",
      "pleurer.VT.V1 senif\n",
      "homme.N1.A dimuN\n",
      "avoir.VT.V1 fikaj\n",
      "mourir.VI.V1 SukuD\n",
      "revenir.VI.V2 takan\n",
      "parent.N4.D eritaZ\n",
      "préparer.VT.V2 soZeZ\n",
      "lever-nom.N1.B bolok\n",
      "descendre.VT.V1 dikefa\n",
      "trois poker\n",
      "esprit.N1.B Nubif\n",
      "nombreux bekut\n",
      "matin.N3.C gafeg\n",
      "de loZ\n",
      "manoir.N2.B jidaf\n",
      "mère.N2.A tarem\n"
     ]
    }
   ],
   "source": [
    "for l in PFM.lexique.lexemes:\n",
    "    print l,PFM.lexique.lexemes[l].stem"
   ]
  },
  {
   "cell_type": "raw",
   "metadata": {},
   "source": [
    "temp=test.reset_index()\n",
    "temp[\"Nombre\"]=pd.Categorical(temp[\"Nombre\"],categories=[\"Sg\",\"Du\",\"Pl\"],ordered=True)\n",
    "temp.sort_values(\"Nombre\")"
   ]
  },
  {
   "cell_type": "code",
   "execution_count": 254,
   "metadata": {},
   "outputs": [],
   "source": [
    "ding()"
   ]
  },
  {
   "cell_type": "code",
   "execution_count": null,
   "metadata": {},
   "outputs": [],
   "source": []
  }
 ],
 "metadata": {
  "kernelspec": {
   "display_name": "Python (py27)",
   "language": "python",
   "name": "py27"
  },
  "language_info": {
   "codemirror_mode": {
    "name": "ipython",
    "version": 2
   },
   "file_extension": ".py",
   "mimetype": "text/x-python",
   "name": "python",
   "nbconvert_exporter": "python",
   "pygments_lexer": "ipython2",
   "version": "2.7.16"
  }
 },
 "nbformat": 4,
 "nbformat_minor": 1
}

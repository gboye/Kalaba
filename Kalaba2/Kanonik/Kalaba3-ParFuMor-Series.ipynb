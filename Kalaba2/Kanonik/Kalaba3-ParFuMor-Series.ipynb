{
 "cells": [
  {
   "cell_type": "markdown",
   "metadata": {},
   "source": [
    "# ParFuMor (version YAML & Objets)\n",
    "\n",
    "- Ajout d'un %store pour la gestion des numéros de kanoniks (16/04/20)\n",
    "\n",
    "- Attention les règles qui ne changent pas le radical donnent lieu à des mauvais découpages des formes..."
   ]
  },
  {
   "cell_type": "code",
   "execution_count": 35,
   "metadata": {},
   "outputs": [],
   "source": [
    "# -*- coding: utf8 -*-\n",
    "import os\n",
    "from os.path import expanduser\n",
    "import itertools\n",
    "import yaml,YamlDuplicates\n",
    "from yaml.constructor import ConstructorError\n",
    "import warnings\n",
    "import ParFuMor as PFM\n",
    "from ParFuMor import *\n",
    "import pickle\n",
    "from IPython.display import HTML, display\n",
    "#import cellbell "
   ]
  },
  {
   "cell_type": "code",
   "execution_count": 36,
   "metadata": {},
   "outputs": [],
   "source": [
    "def ding():\n",
    "    os.system('afplay /System/Library/Sounds/Submarine.aiff')"
   ]
  },
  {
   "cell_type": "markdown",
   "metadata": {},
   "source": [
    "# Gestion partagée des numéros à traiter\n",
    "\n",
    "le block suivant permet de partager les numéros à traiter entre les différents Notebooks.\n",
    "- %store -r variable lit la variable dans le stock\n",
    "- %store variable stocke la variable"
   ]
  },
  {
   "cell_type": "code",
   "execution_count": 37,
   "metadata": {},
   "outputs": [
    {
     "name": "stdout",
     "output_type": "stream",
     "text": [
      "[5]\n",
      "Stored 'numerosKalaba' (list)\n"
     ]
    }
   ],
   "source": [
    "%store -r numerosKalaba\n",
    "numerosKalaba=[1,2,3,4,5]\n",
    "numerosKalaba=[5]\n",
    "print numerosKalaba\n",
    "%store numerosKalaba"
   ]
  },
  {
   "cell_type": "code",
   "execution_count": 38,
   "metadata": {},
   "outputs": [],
   "source": [
    "home = expanduser(\"~\")\n",
    "repertoire=home+\"/ownCloud/Cours/Bordeaux/L1-LinguistiqueGenerale/00-ProjetKalaba/\"\n",
    "serie=repertoire+\"21-\"\n",
    "nomsKalabas=[serie+\"K%d/\"%num for num in numerosKalaba]"
   ]
  },
  {
   "cell_type": "code",
   "execution_count": 39,
   "metadata": {},
   "outputs": [],
   "source": [
    "def getExemple(lDict):\n",
    "    exKey=lDict.keys()[0]\n",
    "    if isinstance(lDict[exKey],dict):\n",
    "        result=getExemple(lDict[exKey])\n",
    "    elif isinstance(lDict[exKey],list):\n",
    "        result=lDict[exKey][0]\n",
    "    return result"
   ]
  },
  {
   "cell_type": "code",
   "execution_count": 40,
   "metadata": {
    "scrolled": true
   },
   "outputs": [
    {
     "name": "stdout",
     "output_type": "stream",
     "text": [
      "\n",
      "/Users/gilles/ownCloud/Cours/Bordeaux/L1-LinguistiqueGenerale/00-ProjetKalaba/21-K5/\n",
      "NOM : Genre Nombre Cas\n",
      "VER : Temps Pers Genre\n",
      "ADJ : Genre Nombre Cas\n",
      "PRO : Genre Nombre Cas\n",
      "DET : Genre Nombre Cas\n",
      "head stems\n",
      "head stems,NOM\n",
      "head stems,NOM,INAN\n",
      "head stems,NOM,HUM\n",
      "head stems,NOM,ANIM\n",
      "head stems,VER\n",
      "head stems,VER,VI\n",
      "head stems,VER,VT\n",
      "nourrit nourrir nourrir\n",
      "excuse excuser excuse\n",
      "head stems,ADJ\n",
      "nouvelle nouveau nouvelle\n",
      "\n",
      "=======ERREURS========\n",
      "\n",
      "Formes homographes \"nourrit\" pour \"nourrir\" et \"nourrir\"\n",
      "Formes homographes \"excuse\" pour \"excuser\" et \"excuse\"\n",
      "Formes homographes \"nouvelle\" pour \"nouveau\" et \"nouvelle\"\n"
     ]
    }
   ],
   "source": [
    "PFM.duplicateErrors=[]\n",
    "for serie in nomsKalabas:\n",
    "    print\n",
    "    print serie\n",
    "\n",
    "    with open(serie+\"Gloses.yaml\", 'r') as stream:\n",
    "        gloses=yaml.safe_load(stream)\n",
    "        PFM.gloses=gloses\n",
    "    with open(serie+\"Stems.yaml\", 'r') as stream:\n",
    "        try:\n",
    "            stems=yaml.safe_load(stream)\n",
    "            PFM.stems=stems\n",
    "        except ConstructorError,msg:\n",
    "            print msg\n",
    "            continue\n",
    "    lexiqueTestPrep=getExemple(stems[\"PREP\"])\n",
    "    lexiqueTestNoun=getExemple(stems[\"NOM\"])\n",
    "    lexiqueTestHyper=getExemple(stems[\"ADJ\"])\n",
    "    with open(serie+\"Blocks.yaml\", 'r') as stream:\n",
    "        blocks=yaml.safe_load(stream)\n",
    "        PFM.blocks=blocks\n",
    "    with open(serie+\"Phonology.yaml\", 'r') as stream:\n",
    "        phonology=yaml.safe_load(stream)\n",
    "        PFM.phonology=phonology\n",
    "    with open(serie+\"MorphoSyntax.yaml\", 'r') as stream:\n",
    "        morphosyntax=yaml.safe_load(stream)\n",
    "        PFM.morphosyntax=morphosyntax\n",
    "\n",
    "        \n",
    "    for cat in morphosyntax[\"Attributs\"]:\n",
    "        if sorted(morphosyntax[\"Attributs\"][cat])!=sorted(gloses[cat].keys()):\n",
    "            warnings.warn(\"\\n\"+serie+\"\\nLes attributs de %s ne sont pas cohérents\\nMorphosyntax => %s\\nGloses => %s\"%(cat,\", \".join(morphosyntax[\"Attributs\"][cat]),\", \".join(gloses[cat].keys())))\n",
    "    \n",
    "    regles=Regles()\n",
    "    PFM.regles=regles\n",
    "    for categorie in blocks:\n",
    "        regles.addBlocs(categorie,blocks[categorie])\n",
    "\n",
    "\n",
    "    paradigmes=Paradigmes()\n",
    "    PFM.paradigmes=paradigmes\n",
    "\n",
    "    hierarchieCF=HierarchieCF()\n",
    "    PFM.hierarchieCF=hierarchieCF\n",
    "    lexique=Lexique()\n",
    "    PFM.lexique=lexique\n",
    "\n",
    "\n",
    "    for cat in gloses:\n",
    "    #    print cat\n",
    "        attributes=[]\n",
    "        if gloses[cat]:\n",
    "            if set(gloses[cat].keys())==set(morphosyntax[\"Attributs\"][cat]):\n",
    "                features=morphosyntax[\"Attributs\"][cat]\n",
    "    #            print \"inhérent\",features\n",
    "            else:\n",
    "                features=gloses[cat].keys()\n",
    "    #            print \"contextuel\",features\n",
    "            for attribute in features:\n",
    "                attributes.append(gloses[cat][attribute])\n",
    "            nuplets=(itertools.product(*attributes))\n",
    "            for nuplet in nuplets:\n",
    "                proprietes=[cat]\n",
    "                for element in range(len(nuplet)):\n",
    "                    proprietes.append(u\"%s=%s\"%(features[element],nuplet[element]))\n",
    "                paradigmes.addForme(cat,proprietes)\n",
    "\n",
    "    analyserGloses(gloses)\n",
    "    analyserStems(stems)\n",
    "        \n",
    "    with open(serie+\"Hierarchie-S2.pkl\", 'wb') as output:\n",
    "       pickle.dump(hierarchieCF, output, pickle.HIGHEST_PROTOCOL)\n",
    "    with open(serie+\"Lexique-S2.pkl\", 'wb') as output:\n",
    "       pickle.dump(lexique, output, pickle.HIGHEST_PROTOCOL)\n",
    "    with open(serie+\"Regles-S2.pkl\", 'wb') as output:\n",
    "       pickle.dump(regles, output, pickle.HIGHEST_PROTOCOL)\n",
    "\n",
    "\n",
    "    PFM.lexique.lexemes[lexiqueTestPrep]\n",
    "\n",
    "    mot=lexiqueTestNoun\n",
    "    classesNom=PFM.lexique.formeLexeme[mot][0].split('.')[1:]\n",
    "    [classeElement for classeElement in classesNom if classeElement in gloses[\"NOM\"][\"Genre\"]]\n",
    "\n",
    "    PFM.lexique.formeLexeme[lexiqueTestHyper][0]\n",
    "\n",
    "if PFM.duplicateErrors:\n",
    "    print\n",
    "    print \"=======ERREURS========\"\n",
    "    print\n",
    "    for ligne in PFM.duplicateErrors:\n",
    "        print ligne\n"
   ]
  },
  {
   "cell_type": "code",
   "execution_count": 41,
   "metadata": {},
   "outputs": [
    {
     "data": {
      "text/plain": [
       "u'pr\\xe8s'"
      ]
     },
     "execution_count": 41,
     "metadata": {},
     "output_type": "execute_result"
    }
   ],
   "source": [
    "getExemple(stems[\"PREP\"])"
   ]
  },
  {
   "cell_type": "code",
   "execution_count": 42,
   "metadata": {},
   "outputs": [
    {
     "name": "stdout",
     "output_type": "stream",
     "text": [
      "grand.A1\n",
      "place.INAN.N1\n",
      "près\n"
     ]
    }
   ],
   "source": [
    "print PFM.lexique.formeLexeme[lexiqueTestHyper][0]\n",
    "print PFM.lexique.formeLexeme[lexiqueTestNoun][0]\n",
    "print PFM.lexique.formeLexeme[lexiqueTestPrep][0]"
   ]
  },
  {
   "cell_type": "code",
   "execution_count": 43,
   "metadata": {},
   "outputs": [
    {
     "data": {
      "text/plain": [
       "[u'VER, Temps=PRS, Pers=3Sg, Genre=HUM',\n",
       " u'VER, Temps=PRS, Pers=3Sg, Genre=ANIM',\n",
       " u'VER, Temps=PRS, Pers=3Sg, Genre=INAN',\n",
       " u'VER, Temps=PRS, Pers=3Pau, Genre=HUM',\n",
       " u'VER, Temps=PRS, Pers=3Pau, Genre=ANIM',\n",
       " u'VER, Temps=PRS, Pers=3Pau, Genre=INAN',\n",
       " u'VER, Temps=PRS, Pers=3Pl, Genre=HUM',\n",
       " u'VER, Temps=PRS, Pers=3Pl, Genre=ANIM',\n",
       " u'VER, Temps=PRS, Pers=3Pl, Genre=INAN',\n",
       " u'VER, Temps=PST, Pers=3Sg, Genre=HUM',\n",
       " u'VER, Temps=PST, Pers=3Sg, Genre=ANIM',\n",
       " u'VER, Temps=PST, Pers=3Sg, Genre=INAN',\n",
       " u'VER, Temps=PST, Pers=3Pau, Genre=HUM',\n",
       " u'VER, Temps=PST, Pers=3Pau, Genre=ANIM',\n",
       " u'VER, Temps=PST, Pers=3Pau, Genre=INAN',\n",
       " u'VER, Temps=PST, Pers=3Pl, Genre=HUM',\n",
       " u'VER, Temps=PST, Pers=3Pl, Genre=ANIM',\n",
       " u'VER, Temps=PST, Pers=3Pl, Genre=INAN']"
      ]
     },
     "execution_count": 43,
     "metadata": {},
     "output_type": "execute_result"
    }
   ],
   "source": [
    "paradigmes.getSigmas([\"VER\"])"
   ]
  },
  {
   "cell_type": "code",
   "execution_count": 44,
   "metadata": {},
   "outputs": [
    {
     "name": "stdout",
     "output_type": "stream",
     "text": [
      "CF=\n",
      "['CF=N1', 'CF=N2']\n",
      "does not apply\n"
     ]
    }
   ],
   "source": [
    "case=\"CF=N3\"\n",
    "m=re.match(ur\"(.*=)(.*)\",\"CF=N1|N2\")\n",
    "if m:\n",
    "    altTrait=m.group(1)\n",
    "    altValeurs=m.group(2).split(\"|\")\n",
    "    print altTrait\n",
    "    altTraits=[altTrait+v for v in altValeurs]\n",
    "    print altTraits\n",
    "    if any(t == case for t in altTraits):\n",
    "        print \"applies\"\n",
    "    else:\n",
    "        print \"does not apply\""
   ]
  },
  {
   "cell_type": "code",
   "execution_count": 45,
   "metadata": {},
   "outputs": [
    {
     "data": {
      "text/plain": [
       "[]"
      ]
     },
     "execution_count": 45,
     "metadata": {},
     "output_type": "execute_result"
    }
   ],
   "source": [
    "regles.getRules(\"NOM\",'CF=N3, Genre=C, Nombre=Du, Cas=Acc')\n",
    "regles.getRules(\"VER\",\"Pers=3Pau\")"
   ]
  },
  {
   "cell_type": "code",
   "execution_count": 46,
   "metadata": {
    "scrolled": true
   },
   "outputs": [
    {
     "name": "stdout",
     "output_type": "stream",
     "text": [
      "del Cas\n"
     ]
    },
    {
     "data": {
      "text/html": [
       "<div>\n",
       "<style scoped>\n",
       "    .dataframe tbody tr th:only-of-type {\n",
       "        vertical-align: middle;\n",
       "    }\n",
       "\n",
       "    .dataframe tbody tr th {\n",
       "        vertical-align: top;\n",
       "    }\n",
       "\n",
       "    .dataframe thead th {\n",
       "        text-align: right;\n",
       "    }\n",
       "</style>\n",
       "<table border=\"1\" class=\"dataframe\">\n",
       "  <thead>\n",
       "    <tr style=\"text-align: right;\">\n",
       "      <th>Nombre</th>\n",
       "      <th>Pau</th>\n",
       "      <th>Pl</th>\n",
       "      <th>Sg</th>\n",
       "    </tr>\n",
       "    <tr>\n",
       "      <th>Genre</th>\n",
       "      <th></th>\n",
       "      <th></th>\n",
       "      <th></th>\n",
       "    </tr>\n",
       "  </thead>\n",
       "  <tbody>\n",
       "    <tr>\n",
       "      <th>ANIM</th>\n",
       "      <td>RAD-a-p-at,RAD-a-p-er,RAD-a-p-ob,RAD-a-p-ab</td>\n",
       "      <td>RAD-a-l-ob,RAD-a-l-ab,RAD-a-l-at,RAD-a-l-er</td>\n",
       "      <td>RAD-a-s-ob,RAD-a-s-ab,RAD-a-s-at,RAD-a-s-er</td>\n",
       "    </tr>\n",
       "    <tr>\n",
       "      <th>HUM</th>\n",
       "      <td>RAD-u-p-ob,RAD-u-p-ab,RAD-u-p-at,RAD-u-p-er</td>\n",
       "      <td>RAD-u-l-at,RAD-u-l-er,RAD-u-l-ob,RAD-u-l-ab</td>\n",
       "      <td>RAD-u-s-at,RAD-u-s-er,RAD-u-s-ob,RAD-u-s-ab</td>\n",
       "    </tr>\n",
       "    <tr>\n",
       "      <th>INAN</th>\n",
       "      <td>RAD-i-p-at,RAD-i-p-er,RAD-i-p-ob,RAD-i-p-ab</td>\n",
       "      <td>RAD-i-l-ob,RAD-i-l-ab,RAD-i-l-at,RAD-i-l-er</td>\n",
       "      <td>RAD-i-s-ab,RAD-i-s-at,RAD-i-s-ob,RAD-i-s-er</td>\n",
       "    </tr>\n",
       "  </tbody>\n",
       "</table>\n",
       "</div>"
      ],
      "text/plain": [
       "Nombre                                          Pau  \\\n",
       "Genre                                                 \n",
       "ANIM    RAD-a-p-at,RAD-a-p-er,RAD-a-p-ob,RAD-a-p-ab   \n",
       "HUM     RAD-u-p-ob,RAD-u-p-ab,RAD-u-p-at,RAD-u-p-er   \n",
       "INAN    RAD-i-p-at,RAD-i-p-er,RAD-i-p-ob,RAD-i-p-ab   \n",
       "\n",
       "Nombre                                           Pl  \\\n",
       "Genre                                                 \n",
       "ANIM    RAD-a-l-ob,RAD-a-l-ab,RAD-a-l-at,RAD-a-l-er   \n",
       "HUM     RAD-u-l-at,RAD-u-l-er,RAD-u-l-ob,RAD-u-l-ab   \n",
       "INAN    RAD-i-l-ob,RAD-i-l-ab,RAD-i-l-at,RAD-i-l-er   \n",
       "\n",
       "Nombre                                           Sg  \n",
       "Genre                                                \n",
       "ANIM    RAD-a-s-ob,RAD-a-s-ab,RAD-a-s-at,RAD-a-s-er  \n",
       "HUM     RAD-u-s-at,RAD-u-s-er,RAD-u-s-ob,RAD-u-s-ab  \n",
       "INAN    RAD-i-s-ab,RAD-i-s-at,RAD-i-s-ob,RAD-i-s-er  "
      ]
     },
     "execution_count": 46,
     "metadata": {},
     "output_type": "execute_result"
    }
   ],
   "source": [
    "test=Lexeme(\"RAD\",\"PRO\",\"croc\").getParadigm(lignes=[\"Genre\"],colonne=[\"Nombre\"])\n",
    "#test=Lexeme(\"RAD\",\"DET\",\"croc\").getParadigm(lignes=[\"Genre\"],colonne=[\"Nombre\",\"Cas\"])\n",
    "test\n",
    "#test.index.sortlevel(0,ascending=False)"
   ]
  },
  {
   "cell_type": "raw",
   "metadata": {
    "scrolled": false
   },
   "source": [
    "lignes=[\"Temps\",\"Pers\",\"Trans\"]\n",
    "colonne=[\"Genre\"]\n",
    "lignes=[\"Genre\",\"Nombre\"]\n",
    "colonne=[\"Cas\"]\n",
    "for cf in [\"N%d\"%(i+1) for i in range(4)]:\n",
    "    test=Lexeme(\"RAD\",cf,\"croc\").getParadigm(lignes=lignes,colonne=colonne)\n",
    "    test=test.reset_index().groupby(by=[\"Erg\",\"Abs\",\"Dat\",\"Obl\"]).agg(lambda x: \", \".join(set(x))).reset_index().set_index(lignes)\n",
    "    print cf\n",
    "    display(test)\n",
    "\n",
    "lignes=[\"Cas\",\"Genre\"]\n",
    "colonne=[\"Nombre\"]\n",
    "for cf in [\"A%d\"%(i+1) for i in range(2)]:\n",
    "#for cf in [\"DET\"]:\n",
    "    test=Lexeme(\"RAD\",cf,\"croc\").getParadigm(lignes=lignes,colonne=colonne)\n",
    "    test=test.reset_index().groupby(by=[\"Sg\",\"Du\",\"Pl\"]).agg(lambda x: \", \".join(set(x))).reset_index().set_index(lignes)\n",
    "#    test=test.reset_index().groupby(by=[\"Sg\",\"Du\",\"Pl\"]).agg(lambda x: \", \".join(set(x))).reset_index().set_index(lignes)\n",
    "    print cf\n",
    "    display(test)\n",
    "\n",
    "lignes=[\"Genre\"]\n",
    "colonne=[\"Nombre\"]\n",
    "for cf in [\"DET\"]:\n",
    "    test=Lexeme(\"RAD\",cf,\"croc\").getParadigm(lignes=lignes,colonne=colonne)\n",
    "    test=test.reset_index().groupby(by=[\"Sg\",\"Du\",\"Pl\"]).agg(lambda x: \", \".join(set(x))).reset_index().set_index(lignes)\n",
    "    print cf\n",
    "    display(test)"
   ]
  },
  {
   "cell_type": "code",
   "execution_count": 47,
   "metadata": {
    "scrolled": true
   },
   "outputs": [
    {
     "data": {
      "text/plain": [
       "{}"
      ]
     },
     "execution_count": 47,
     "metadata": {},
     "output_type": "execute_result"
    }
   ],
   "source": [
    "cat=\"N\"\n",
    "triLex={}\n",
    "for element in PFM.lexique.lexemes:\n",
    "#    print element\n",
    "    elementElts=element.split(\".\")\n",
    "    nom=elementElts[0]\n",
    "    if len(elementElts)==3:\n",
    "        if elementElts[1].startswith(cat):\n",
    "            if not elementElts[2] in triLex:\n",
    "                triLex[elementElts[2]]=set()\n",
    "            triLex[elementElts[2]].add((PFM.lexique.lexemes[element].stem,nom))            \n",
    "triLex"
   ]
  },
  {
   "cell_type": "code",
   "execution_count": 48,
   "metadata": {
    "scrolled": false
   },
   "outputs": [
    {
     "name": "stdout",
     "output_type": "stream",
     "text": [
      "fuir.VT.V1 Zetak\n",
      "trois.A2 poker\n",
      "pendre.VT.V1 Duwif\n",
      "placer.VT.V2 makuS\n",
      "revenir.VT.V2 takan\n",
      "remercier.VT.V2 sotuN\n",
      "gargouille.ANIM.N2 gevop\n",
      "nourrir.VT.V2 mutase\n",
      "PRO g\n",
      "rejoindre.VT.V2 riluS\n",
      "feu.ANIM.N3 kobud\n",
      "changer.VT.V2 tedut\n",
      "nombreux.A2 nombru\n",
      "reconnaître.VT.V1 Dagam\n",
      "sortir.VT.V2 nufuS\n",
      "grand.A1 savat\n",
      "courir.VI.V2 tidag\n",
      "pleurer-act.VI.V1 Sosak\n",
      "mort.INAN.N3 Soniv\n",
      "voler.VT.V1 Zukub\n",
      "tornade.ANIM.N2 moger\n",
      "disparaître.VT.V2 toZune\n",
      "deux.A1 loNak\n",
      "fille.HUM.N1 dobin\n",
      "harmonie.INAN.N3 pozid\n",
      "Clemencia.HUM.N2 klemansja\n",
      "connaître.VT.V1 Degem\n",
      "tourner.VT.V2 tiTig\n",
      "demander.VT.V1 furun\n",
      "cinq.A2 kink\n",
      "méchant.A2 gepaT\n",
      "noyer.VT.V1 kuZab\n",
      "nuit.INAN.N1 sovuj\n",
      "entrer.VT.V2 wajut\n",
      "manoir.INAN.N2 jidaf\n",
      "embrasser.VT.V2 pafit\n",
      "voir.VT.V1 laDat\n",
      "mère.HUM.N3 tarem\n",
      "en oj\n",
      "jeter.VT.V2 talok\n",
      "vote.INAN.N2 temos\n",
      "dans feD\n",
      "vengeance.INAN.N3 vuTus\n",
      "faire.VT.V1 bifed\n",
      "interroger.VT.V1 guSes\n",
      "demande.INAN.N2 tinup\n",
      "nouvelle.INAN.N3 nuvel\n",
      "DEM b\n",
      "matin.INAN.N1 gafeg\n",
      "voleuse.HUM.N2 Sures\n",
      "excuser.VT.V2 sibaz\n",
      "DEF k\n",
      "place.INAN.N1 Sebep\n",
      "balai.INAN.N1 loNot\n",
      "grimoire.INAN.N2 tibefu\n",
      "préparer.VT.V2 soZeZ\n",
      "chasseur.HUM.N1 Sejok\n",
      "dernier.A1 ruwor\n",
      "reconstruire.VT.V2 posaf\n",
      "sur rab\n",
      "enlever.VT.V1 bonug\n",
      "jardiner.VT.V2 lobojo\n",
      "construction.INAN.N1 gotuz\n",
      "accueillir.VT.V2 peZip\n",
      "héros.HUM.N3 tugid\n",
      "chat.ANIM.N3 kaSis\n",
      "noir.A1 runuk\n",
      "protéger.VT.V2 muTib\n",
      "lever.VT.V2 sadaS\n",
      "cacher.VT.V2 witaZ\n",
      "Freja.HUM.N1 freZa\n",
      "pendant SoDeb\n",
      "près SiS\n",
      "livre.INAN.N1 ladop\n",
      "à kib\n",
      "hurlement.INAN.N3 fiNem\n",
      "Elphaba.HUM.N2 elfaba\n",
      "chercher.VT.V1 Sutib\n",
      "disparu.A1 bewep\n",
      "partir.VT.V2 nuTeZ\n",
      "IND l\n",
      "arrêter.VT.V1 Zolot\n",
      "dernier-n.INAN.N3 ruwoN\n",
      "échanger.VT.V2 siduT\n",
      "douleur.INAN.N3 segot\n",
      "esprit.ANIM.N3 Nubif\n",
      "nouveau.A2 dikeT\n",
      "sorcier.HUM.N2 bolot\n",
      "Agathos.HUM.N1 agaTos\n",
      "obscurité.INAN.N1 maguS\n",
      "survoler.VT.V1 NuDuf\n",
      "quatre.A1 manaN\n",
      "chemin.INAN.N3 pikag\n",
      "disparition.INAN.N3 Zokod\n",
      "redevenir.VT.V2 taZup\n",
      "milieu.INAN.N2 mije\n",
      "avec volik\n",
      "pousser.VT.V2 vipiz\n",
      "enfermer.VT.V1 fetek\n",
      "homme.HUM.N1 dimuN\n",
      "dormir.VI.V2 batuz\n",
      "raconter.VT.V2 lafen\n",
      "soeur.HUM.N3 kides\n",
      "sept.A1 pujol\n",
      "troisième.A1 okarina\n",
      "jardin.INAN.N1 jegap\n",
      "forêt.INAN.N2 DuguN\n",
      "manquer.VT.V2 taDam\n",
      "ressusciter.VT.V2 naveZ\n",
      "oeil.HUM.N2 niTop\n",
      "présenter.VT.V1 bemud\n",
      "découvrir.VT.V1 TuteN\n",
      "vert.A2 Tonud\n",
      "Hoderi.HUM.N3 oderi\n",
      "heroique.A2 bugoN\n",
      "pour tun\n",
      "crapaud.ANIM.N1 gubal\n",
      "brûler.VT.V1 Tilap\n",
      "parent.HUM.N1 pareN\n",
      "dégât.INAN.N2 barot\n",
      "allumer.VT.V1 Tigos\n",
      "raison.INAN.N3 favet\n",
      "excuse.INAN.N3 magok\n",
      "vers lom\n",
      "créature.ANIM.N1 Tobaz\n",
      "manger.VT.V1 Dubav\n",
      "côté.INAN.N3 kote\n",
      "être.VT.V1 geduj\n",
      "détester.VT.V2 siZuk\n",
      "porter.VT.V1 Zifar\n",
      "autre.A1 bunig\n",
      "nuire.VI.V2 gariv\n",
      "retourner.VT.V1 bagut\n",
      "légende.INAN.N1 tujup\n",
      "enfant.HUM.N3 libor\n",
      "hurler.VI.V1 sonil\n",
      "par bej\n",
      "maître.HUM.N3 pomaD\n",
      "peau.HUM.N3 nuZun\n",
      "caillou.INAN.N3 boSad\n",
      "père.HUM.N2 DoDal\n",
      "donjon.INAN.N1 daTem\n",
      "bûcher.INAN.N2 pabov\n",
      "six.A2 Spuk\n",
      "lumière.INAN.N2 Dodor\n",
      "de loZ\n",
      "robe.INAN.N2 dilat\n",
      "marais.INAN.N2 mikot\n",
      "attraper.VT.V1 badof\n",
      "vivre.VI.V1 Named\n",
      "posséder.VT.V1 keSad\n",
      "histoire.INAN.N3 mogul\n",
      "pleurer.VT.V1 senif\n",
      "villageois.HUM.N2 vekaz\n",
      "avoir.VT.V1 fikaj\n",
      "chasser.VT.V1 Zuruk\n",
      "mourir.VI.V1 SukuD\n",
      "voter.VT.V1 Tukat\n",
      "descendre.VT.V1 dikefa\n",
      "femme.HUM.N2 tapiT\n",
      "compter.VT.V1 Tugif\n",
      "bras.HUM.N1 Nipet\n",
      "légume.HUM.N3 fivaD\n",
      "jour.INAN.N3 pedap\n",
      "surplomber.VT.V2 toNet\n",
      "village.INAN.N3 lumiT\n",
      "sortilège.INAN.N3 tiTum\n"
     ]
    }
   ],
   "source": [
    "for l in PFM.lexique.lexemes:\n",
    "    print l,PFM.lexique.lexemes[l].stem"
   ]
  },
  {
   "cell_type": "raw",
   "metadata": {},
   "source": [
    "temp=test.reset_index()\n",
    "temp[\"Nombre\"]=pd.Categorical(temp[\"Nombre\"],categories=[\"Sg\",\"Du\",\"Pl\"],ordered=True)\n",
    "temp.sort_values(\"Nombre\")"
   ]
  },
  {
   "cell_type": "code",
   "execution_count": 49,
   "metadata": {},
   "outputs": [],
   "source": [
    "ding()"
   ]
  },
  {
   "cell_type": "code",
   "execution_count": null,
   "metadata": {},
   "outputs": [],
   "source": []
  }
 ],
 "metadata": {
  "kernelspec": {
   "display_name": "Python (py27)",
   "language": "python",
   "name": "py27"
  },
  "language_info": {
   "codemirror_mode": {
    "name": "ipython",
    "version": 2
   },
   "file_extension": ".py",
   "mimetype": "text/x-python",
   "name": "python",
   "nbconvert_exporter": "python",
   "pygments_lexer": "ipython2",
   "version": "2.7.16"
  }
 },
 "nbformat": 4,
 "nbformat_minor": 1
}

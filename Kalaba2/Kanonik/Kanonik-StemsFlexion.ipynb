{
 "cells": [
  {
   "cell_type": "code",
   "execution_count": 48,
   "metadata": {},
   "outputs": [],
   "source": [
    "import re,yaml,codecs\n",
    "from os.path import expanduser\n",
    "import pandas as pd\n",
    "from cellbell import ding"
   ]
  },
  {
   "cell_type": "code",
   "execution_count": 49,
   "metadata": {},
   "outputs": [],
   "source": [
    "home = expanduser(\"~\")\n",
    "annee=\"2020\"\n",
    "numGroupe=50\n",
    "repertoire=home+\"/ownCloud/Cours/Bordeaux/L1-UE4-Morphologie/00-Kanonik/\"+annee\n",
    "serie=repertoire+\"/K%02d/\"%numGroupe"
   ]
  },
  {
   "cell_type": "code",
   "execution_count": 50,
   "metadata": {},
   "outputs": [],
   "source": [
    "nomLexique=home+\"/ownCloud/Cours/Bordeaux/L2-XML/XML-Ressources/bdlexique.txt\"\n",
    "dfLexique=pd.read_csv(nomLexique,encoding=\"utf8\",sep=\";\")"
   ]
  },
  {
   "cell_type": "code",
   "execution_count": 51,
   "metadata": {},
   "outputs": [],
   "source": [
    "dfLexique.columns=\"ortho phono liaison cat ms tam lemme L23 F1 F2 F3 F4\".split()\n",
    "catLexique={\"NOM\":\"N G\".split(),\"VER\":\"V\".split(),\"ADJ\":\"F G J K L M\".split()}\n",
    "tam=\"pi ii ai\".split()\n",
    "pers=\"3S 3P\".split()"
   ]
  },
  {
   "cell_type": "code",
   "execution_count": 52,
   "metadata": {},
   "outputs": [],
   "source": [
    "#dfLexique#[dfLexique[\"lemme\"]==\"coyote\"][\"ortho\"].tolist()"
   ]
  },
  {
   "cell_type": "code",
   "execution_count": 53,
   "metadata": {},
   "outputs": [
    {
     "ename": "IOError",
     "evalue": "[Errno 2] No such file or directory: '/Users/gilles/ownCloud/Cours/Bordeaux/L1-UE4-Morphologie/00-Kanonik/2020/K50/Stems.csv'",
     "output_type": "error",
     "traceback": [
      "\u001b[0;31m---------------------------------------------------------------------------\u001b[0m",
      "\u001b[0;31mIOError\u001b[0m                                   Traceback (most recent call last)",
      "\u001b[0;32m<ipython-input-53-d3ffaf78af27>\u001b[0m in \u001b[0;36m<module>\u001b[0;34m()\u001b[0m\n\u001b[1;32m      1\u001b[0m \u001b[0mnewStems\u001b[0m\u001b[0;34m=\u001b[0m\u001b[0;34m{\u001b[0m\u001b[0;34m}\u001b[0m\u001b[0;34m\u001b[0m\u001b[0m\n\u001b[0;32m----> 2\u001b[0;31m \u001b[0;32mwith\u001b[0m \u001b[0mopen\u001b[0m\u001b[0;34m(\u001b[0m\u001b[0mserie\u001b[0m\u001b[0;34m+\u001b[0m\u001b[0;34m\"Stems.csv\"\u001b[0m\u001b[0;34m,\u001b[0m \u001b[0;34m'r'\u001b[0m\u001b[0;34m)\u001b[0m \u001b[0;32mas\u001b[0m \u001b[0mstream\u001b[0m\u001b[0;34m:\u001b[0m\u001b[0;34m\u001b[0m\u001b[0m\n\u001b[0m\u001b[1;32m      3\u001b[0m     \u001b[0mstems\u001b[0m\u001b[0;34m=\u001b[0m\u001b[0myaml\u001b[0m\u001b[0;34m.\u001b[0m\u001b[0msafe_load\u001b[0m\u001b[0;34m(\u001b[0m\u001b[0mstream\u001b[0m\u001b[0;34m)\u001b[0m\u001b[0;34m\u001b[0m\u001b[0m\n\u001b[1;32m      4\u001b[0m \u001b[0mstems\u001b[0m\u001b[0;34m\u001b[0m\u001b[0m\n",
      "\u001b[0;31mIOError\u001b[0m: [Errno 2] No such file or directory: '/Users/gilles/ownCloud/Cours/Bordeaux/L1-UE4-Morphologie/00-Kanonik/2020/K50/Stems.csv'"
     ]
    }
   ],
   "source": [
    "newStems={}\n",
    "with open(serie+\"Stems.csv\", 'r') as stream:\n",
    "    stems=yaml.safe_load(stream)\n",
    "stems"
   ]
  },
  {
   "cell_type": "code",
   "execution_count": null,
   "metadata": {},
   "outputs": [],
   "source": [
    "def getFormesVerbe(verbe):\n",
    "    p3S=dfLexique.loc[dfLexique[\"cat\"].isin(catLexique[\"VER\"]) \n",
    "                          & (dfLexique[\"lemme\"]==verbe)\n",
    "                          & (dfLexique[\"tam\"]==\"pi\")\n",
    "                          & (dfLexique[\"ms\"]==\"3S\"), \"ortho\"].tolist()[0]\n",
    "    p3P=dfLexique.loc[dfLexique[\"cat\"].isin(catLexique[\"VER\"]) \n",
    "                          & (dfLexique[\"lemme\"]==verbe)\n",
    "                          & (dfLexique[\"tam\"]==\"pi\")\n",
    "                          & (dfLexique[\"ms\"]==\"3P\"), \"ortho\"].tolist()[0]\n",
    "    i3S=dfLexique.loc[dfLexique[\"cat\"].isin(catLexique[\"VER\"]) \n",
    "                          & (dfLexique[\"lemme\"]==verbe)\n",
    "                          & (dfLexique[\"tam\"]==\"ii\")\n",
    "                          & (dfLexique[\"ms\"]==\"3S\"), \"ortho\"].tolist()[0]\n",
    "    i3P=dfLexique.loc[dfLexique[\"cat\"].isin(catLexique[\"VER\"]) \n",
    "                          & (dfLexique[\"lemme\"]==verbe)\n",
    "                          & (dfLexique[\"tam\"]==\"ii\")\n",
    "                          & (dfLexique[\"ms\"]==\"3P\"), \"ortho\"].tolist()[0]\n",
    "    a3S=dfLexique.loc[dfLexique[\"cat\"].isin(catLexique[\"VER\"]) \n",
    "                          & (dfLexique[\"lemme\"]==verbe)\n",
    "                          & (dfLexique[\"tam\"]==\"ai\")\n",
    "                          & (dfLexique[\"ms\"]==\"3S\"), \"ortho\"].tolist()[0]\n",
    "    a3P=dfLexique.loc[dfLexique[\"cat\"].isin(catLexique[\"VER\"]) \n",
    "                          & (dfLexique[\"lemme\"]==verbe)\n",
    "                          & (dfLexique[\"tam\"]==\"ai\")\n",
    "                          & (dfLexique[\"ms\"]==\"3P\"), \"ortho\"].tolist()[0]\n",
    "    \n",
    "    return p3S,p3P,i3S,i3P,a3S,a3P\n",
    "                             \n",
    "def getFormes(lemme,cat):\n",
    "    if cat==\"VER\":\n",
    "        flexion=list(getFormesVerbe(lemme))\n",
    "    elif cat==\"DET\":\n",
    "        if lemme==\"DEF\": flexion=\"le la les l\".split()\n",
    "        elif lemme==\"IND\": flexion=\"un une des dE d\".split()\n",
    "        else: flexion=\"ce cet cette ces\".split()\n",
    "    else:\n",
    "        flexion=dfLexique.loc[dfLexique[\"cat\"].isin(catLexique[cat]) & (dfLexique[\"lemme\"]==lemme), \"ortho\"].tolist()\n",
    "        flexion=list(set(flexion))\n",
    "        if cat==\"NOM\" and lemme.endswith(\"s\"):\n",
    "            print \"attention\",lemme,\"a été modifié avec un S\"\n",
    "            lemme=lemme[:-1]+\"S\"\n",
    "        if lemme in flexion:\n",
    "            flexion.remove(lemme)\n",
    "    return [lemme]+flexion"
   ]
  },
  {
   "cell_type": "code",
   "execution_count": null,
   "metadata": {},
   "outputs": [],
   "source": [
    "apiSymboles=u\"ʃʒŋθð\"\n",
    "sampaSymboles=u\"SZNTD\"\n",
    "translit={}\n",
    "for i,s in enumerate(apiSymboles):\n",
    "    translit[s]=sampaSymboles[i]\n",
    "translit"
   ]
  },
  {
   "cell_type": "code",
   "execution_count": null,
   "metadata": {},
   "outputs": [],
   "source": [
    "def getTranslit(chaine):\n",
    "    result=chaine\n",
    "    for s in translit:\n",
    "        result=result.replace(s,translit[s])\n",
    "    return result"
   ]
  },
  {
   "cell_type": "code",
   "execution_count": null,
   "metadata": {},
   "outputs": [],
   "source": [
    "getTranslit(u\"ʃaʒuŋoθið\")"
   ]
  },
  {
   "cell_type": "code",
   "execution_count": null,
   "metadata": {},
   "outputs": [],
   "source": [
    "for cat in stems:\n",
    "    if cat not in newStems:\n",
    "        newStems[cat]={}\n",
    "    if cat not in [\"PREP\"]:\n",
    "        print cat\n",
    "        for element in stems[cat]:\n",
    "            if isinstance(stems[cat][element],dict):\n",
    "                newStems[cat][element]={}\n",
    "                for word in stems[cat][element]:\n",
    "                    if isinstance(stems[cat][element][word],dict):\n",
    "                        subelement=word\n",
    "                        if subelement not in newStems[cat][element]:\n",
    "                            newStems[cat][element][subelement]={}\n",
    "                        for w in stems[cat][element][subelement]:\n",
    "                            mot=getTranslit(w)\n",
    "                            flexion=stems[cat][element][subelement][w]\n",
    "                            lemme=flexion[0]\n",
    "                            print getFormes(lemme,cat)\n",
    "                            newStems[cat][element][subelement][mot]=getFormes(lemme,cat)                            \n",
    "                    else:\n",
    "                        mot=getTranslit(word)\n",
    "                        flexion=stems[cat][element][word]\n",
    "                        lemme=flexion[0]\n",
    "                        print lemme, cat\n",
    "                        print getFormes(lemme,cat)\n",
    "                        newStems[cat][element][mot]=getFormes(lemme,cat)\n",
    "                    \n",
    "            else:\n",
    "                flexion=stems[cat][element]\n",
    "                lemme=flexion[0]\n",
    "                print lemme\n",
    "                print getFormes(lemme,cat)\n",
    "                mot=getTranslit(element)\n",
    "                newStems[cat][mot]=getFormes(lemme,cat)        \n",
    "    else:\n",
    "        print cat\n",
    "        for element in stems[cat]:\n",
    "            mot=getTranslit(element)\n",
    "            newStems[cat][mot]=stems[cat][element]"
   ]
  },
  {
   "cell_type": "code",
   "execution_count": null,
   "metadata": {},
   "outputs": [],
   "source": [
    "newStems"
   ]
  },
  {
   "cell_type": "code",
   "execution_count": null,
   "metadata": {},
   "outputs": [],
   "source": [
    "with open(serie+\"Stems.yaml\", 'w') as stream:\n",
    "    yaml.safe_dump(newStems,stream=stream,default_flow_style=False,allow_unicode=True)"
   ]
  },
  {
   "cell_type": "code",
   "execution_count": null,
   "metadata": {},
   "outputs": [],
   "source": [
    "ding()"
   ]
  }
 ],
 "metadata": {
  "kernelspec": {
   "display_name": "Python 2",
   "language": "python",
   "name": "python2"
  },
  "language_info": {
   "codemirror_mode": {
    "name": "ipython",
    "version": 2
   },
   "file_extension": ".py",
   "mimetype": "text/x-python",
   "name": "python",
   "nbconvert_exporter": "python",
   "pygments_lexer": "ipython2",
   "version": "2.7.15"
  }
 },
 "nbformat": 4,
 "nbformat_minor": 2
}

{
 "cells": [
  {
   "cell_type": "code",
   "execution_count": 71,
   "metadata": {
    "collapsed": false
   },
   "outputs": [],
   "source": [
    "# -*- coding: utf8 -*-\n",
    "#########################IMPORTS############################################\n",
    "from os.path import expanduser\n",
    "import codecs, optparse\n",
    "import re, random\n",
    "import sys,os,time\n",
    "import string\n",
    "import yaml, YamlDuplicates\n",
    "import ParFuMor as PFM\n",
    "from ParFuMor import *\n",
    "import pickle"
   ]
  },
  {
   "cell_type": "code",
   "execution_count": 72,
   "metadata": {
    "collapsed": false
   },
   "outputs": [
    {
     "name": "stdout",
     "output_type": "stream",
     "text": [
      "/Users/gilles/ownCloud/Cours/Bordeaux/L1-LinguistiqueGenerale/Kalaba-Project/16-K3/\n"
     ]
    }
   ],
   "source": [
    "home = expanduser(\"~\")\n",
    "repertoire=home+\"/ownCloud/Cours/Bordeaux/L1-LinguistiqueGenerale/Kalaba-Project/\"\n",
    "numerosKalabas=[1,2,3,4,5]\n",
    "numerosKalabas=[3]\n",
    "nomKalabas=[repertoire+\"16-K%d/\"%num for num in numerosKalabas]\n",
    "print \"\\n\".join(nomKalabas)\n",
    "\n",
    "lexiqueTestPrep=u\"dans\"\n",
    "lexiqueTestNoun=u\"loups\"\n",
    "lexiqueTestHyper=u\"villagEOIs\"\n",
    "\n",
    "nomDeclarationRad=\"Declarations-Radicaux.tex\"\n",
    "nomTableauxRad=\"Tableaux-Gloses.yaml\"\n",
    "nomDeclaration=\"Declarations.tex\"\n",
    "nomTableaux=\"Tableaux.yaml\"\n"
   ]
  },
  {
   "cell_type": "markdown",
   "metadata": {},
   "source": [
    "### Javascript from :\n",
    "https://stackoverflow.com/questions/12544056/how-to-i-get-the-current-ipython-notebook-name"
   ]
  },
  {
   "cell_type": "code",
   "execution_count": 73,
   "metadata": {
    "collapsed": false
   },
   "outputs": [
    {
     "data": {
      "application/javascript": [
       "var kernel = IPython.notebook.kernel;\n",
       "var thename = window.document.getElementById(\"notebook_name\").innerHTML;\n",
       "var command = \"theNotebook = \" + \"'\"+thename+\"'\";\n",
       "kernel.execute(command);"
      ],
      "text/plain": [
       "<IPython.core.display.Javascript object>"
      ]
     },
     "metadata": {},
     "output_type": "display_data"
    }
   ],
   "source": [
    "%%javascript\n",
    "var kernel = IPython.notebook.kernel;\n",
    "var thename = window.document.getElementById(\"notebook_name\").innerHTML;\n",
    "var command = \"theNotebook = \" + \"'\"+thename+\"'\";\n",
    "kernel.execute(command);"
   ]
  },
  {
   "cell_type": "code",
   "execution_count": 74,
   "metadata": {
    "collapsed": false
   },
   "outputs": [
    {
     "name": "stdout",
     "output_type": "stream",
     "text": [
      "Kalaba-Lexique-Series\n"
     ]
    }
   ],
   "source": [
    "print(theNotebook)"
   ]
  },
  {
   "cell_type": "code",
   "execution_count": 75,
   "metadata": {
    "collapsed": false
   },
   "outputs": [],
   "source": [
    "debug=0\n",
    "print_glose=True\n",
    "print_cloze=True\n",
    "print_radicaux=False\n",
    "cloze_expanded=True\n",
    "numeros={'1':'Un','2':'Deux','3':'Trois','4':'Quatre','5':'Cinq'}\n",
    "personnes={'1sg':'UnSg','2sg':'DeuxSg','3sg':'TroisSg','1du':'UnDu','2du':'DeuxDu','3du':'TroisDu','1pl':'UnPl','2pl':'DeuxPl','3pl':'TroisPl'}\n",
    "\n",
    "commandGrapho=\"\\\\newcommand{\\\\%s}{\\\\strutgb{0pt}\\\\grapho{%s}}\"\n",
    "#commandGrapho=\"\\\\newcommand{\\\\%s}{\\\\strutgb{0pt}{\\\\dn %s}}\"\n",
    "#commandGrapho=u\"\\\\newcommand{\\\\%s}{\\\\strutgb{0pt}{%s}}\"\n",
    "commandPhono=u\"\\\\newcommand{\\\\%sP}{\\\\textipa{%s}}\"\n",
    "commandGlose=u\"\\\\newcommand{\\\\%sG}{\\\\textGlose{%s}}\""
   ]
  },
  {
   "cell_type": "code",
   "execution_count": 76,
   "metadata": {
    "collapsed": false
   },
   "outputs": [],
   "source": [
    "def parse_grapho(graphie):\n",
    "    chunks=re.findall(ur\"\\s+|[ptkbdgmnNfsSvzZjwrlyv]?[aeiou]?\", graphie,re.U)\n",
    "    result=[]\n",
    "    for chunk in chunks:\n",
    "        #ATTENTION : YAML interprète \"no\" comme FALSE\n",
    "        if chunk in syllabes.keys():\n",
    "            result.append(syllabes[chunk])\n",
    "        else:\n",
    "            result.append(chunk)\n",
    "    return \"\".join(result)"
   ]
  },
  {
   "cell_type": "code",
   "execution_count": 77,
   "metadata": {
    "collapsed": false
   },
   "outputs": [],
   "source": [
    "def parse_cloze(glose):\n",
    "    if debug: print [glose]\n",
    "    chunks=re.findall(r\"\\\\cacherGloses{([^}]*)?}|(\\w+)\", glose,re.UNICODE)\n",
    "    result=[]\n",
    "    for chunk in chunks:\n",
    "        result.extend([x for x in chunk if x!=\"\"])\n",
    "    return (u\"%s;\"%len(result)+\";\".join(result),\"\".join(result))"
   ]
  },
  {
   "cell_type": "code",
   "execution_count": 78,
   "metadata": {
    "collapsed": true
   },
   "outputs": [],
   "source": [
    "def recoder(chaine,table,boolUTF8=True):\n",
    "    if type(chaine)==str:\n",
    "        temp=unicode(chaine.decode('utf8')).translate(table)\n",
    "        result=temp\n",
    "    elif type(chaine)==unicode:\n",
    "        result=chaine.translate(table)\n",
    "    if boolUTF8:\n",
    "        return result\n",
    "    else:\n",
    "        return result.encode(\"utf8\")\n",
    "#translit=string.maketrans(u'iueoaftgzZvjkSpN',u'tgazpHTGZJVkXyxI')"
   ]
  },
  {
   "cell_type": "code",
   "execution_count": 79,
   "metadata": {
    "collapsed": false,
    "scrolled": true
   },
   "outputs": [
    {
     "name": "stdout",
     "output_type": "stream",
     "text": [
      "Génération lexique : 16-K3 11:51:41\n",
      "Génération terminée : 11:51:45\n"
     ]
    }
   ],
   "source": [
    "for serie in nomKalabas:\n",
    "    print \"Génération lexique :\",serie.split(\"/\")[-2], time.strftime(\"%H:%M:%S\")\n",
    "\n",
    "\n",
    "    '''\n",
    "    Lecture des fichiers de paramètres\n",
    "     1) Phonology.yaml pour \n",
    "         - les voyelles, les consonnes\n",
    "         - la correspondance pour l'écrit (symbole => lettre, syllabe => lettres)\n",
    "         - la correspondance pour l'oral\n",
    "         - la désaccentuation et les déligatures du français\n",
    "         - les gabarits ?\n",
    "         - l'apophonie, les mutations consonantiques\n",
    "     2) Stems.yaml pour\n",
    "         - les catégories et les classes\n",
    "         - les radicaux et les formes correspondantes\n",
    "             - la première forme sert de forme de citation\n",
    "     3) MorphoSyntax.yaml pour\n",
    "         - définition de la valeur des formes verbales du français\n",
    "         - définition des attributs de chaque catégorie\n",
    "         - valeur par défaut pour chaque attribut\n",
    "         - définition des cas pour SUJ, OBJ, IND et PREP\n",
    "         - .../...\n",
    "         - définition des constituants et de l'ordre dans les syntagmes\n",
    "         - définition des contractions du français (du => de le, etc.)\n",
    "    '''\n",
    "    with open(serie+\"Phonology.yaml\", 'r') as stream:\n",
    "        phonology=yaml.load(stream)\n",
    "    with open(serie+\"Stems.yaml\", 'r') as stream:\n",
    "        stems=yaml.load(stream)\n",
    "    with open(serie+\"MorphoSyntax.yaml\", 'r') as stream:\n",
    "        morphosyntax=yaml.load(stream)\n",
    "        \n",
    "    '''\n",
    "    Récupération des données du ParFuMor\n",
    "    '''\n",
    "    with open(serie+\"Hierarchie-S2.pkl\", 'rb') as input:\n",
    "       PFM.hierarchieCF = pickle.load(input)\n",
    "    with open(serie+\"Lexique-S2.pkl\", 'rb') as input:\n",
    "       PFM.lexique = pickle.load(input)\n",
    "    with open(serie+\"Regles-S2.pkl\", 'rb') as input:\n",
    "       PFM.regles = pickle.load(input)\n",
    "\n",
    "    if debug: print PFM.lexique.lexemes[lexiqueTestPrep]\n",
    "\n",
    "    consonnes=phonology[\"consonnes\"]\n",
    "    voyelles=phonology[\"voyelles\"]\n",
    "    gabarits=phonology[\"gabarits\"]\n",
    "    derives=phonology[\"derives\"]\n",
    "    nom_classe=phonology[\"nom_classe\"]\n",
    "    nom_apo=phonology[\"apophonies\"]\n",
    "    nom_mut=phonology[\"mutations\"]\n",
    "    syllabes=phonology[\"syllabes\"]\n",
    "\n",
    "    if \"Cas\" in morphosyntax:\n",
    "        casSyntagmes=morphosyntax[\"Cas\"]\n",
    "    else:\n",
    "        casSyntagmes=\"\"\n",
    "    lexiquePrepositions=[stems[\"PREP\"][x][0] for x in stems[\"PREP\"]]\n",
    "    casPreposition={}\n",
    "    for preposition in lexiquePrepositions:\n",
    "        prep=preposition.upper()\n",
    "        if casSyntagmes and prep in casSyntagmes:\n",
    "            casPreposition[preposition]=casSyntagmes[prep]\n",
    "        elif casSyntagmes and \"PREP\" in casSyntagmes:\n",
    "            casPreposition[preposition]=casSyntagmes[\"PREP\"]\n",
    "        else:\n",
    "            casPreposition[preposition]=\"\"\n",
    "    glosePREP={x:u\"%s%s\"%(x.upper(),cacherGloses(\"[\"+casPreposition[x].strip(\"+\").capitalize()+\"]\")) for x in casPreposition if \"+\" in casPreposition[x]}\n",
    "\n",
    "    try:\n",
    "        __IPYTHON__ \n",
    "        ipython=True\n",
    "    except: \n",
    "        ipython=False\n",
    "\n",
    "    \n",
    "    '''\n",
    "    Constitution d'un entête pour les fichiers TEX en sortie\n",
    "        - nom du script\n",
    "        - date du run\n",
    "    '''\n",
    "    texHeader=[]\n",
    "    version=theNotebook\n",
    "    texHeader.append(\"%% script : \"+version)\n",
    "    texHeader.append('%%%% run : %s' % time.strftime(\"%y%m%d-%H%M\"))\n",
    "    if debug: print \"\\n\".join(texHeader)\n",
    "    \n",
    "    if ipython or True:\n",
    "    #    lexeme_nom=\"lexemes.txt\"\n",
    "    #    phrase_nom=\"phrases.txt\"\n",
    "        pass\n",
    "    else:\n",
    "        parser=optparse.OptionParser()\n",
    "        parser.add_option(\"-o\", \"--out\", dest=\"outfile\", action=\"store_true\", help=\"write to FILE\")\n",
    "        parser.add_option(\"-c\", \"--cloze\", dest=\"print_cloze\", action=\"store_true\", help=\"write a CLOZE FILE\")\n",
    "        parser.add_option(\"-l\", \"--lexicon\", dest=\"print_lexique\", action=\"store_true\", help=\"append a lexicon\")\n",
    "        parser.add_option(\"-r\", \"--roots\", dest=\"print_racines\", action=\"store_true\", help=\"append a root list\")\n",
    "\n",
    "        (options, args) = parser.parse_args()\n",
    "        lexeme_nom=args[0]\n",
    "        phrase_nom=args[1]\n",
    "\n",
    "    phonoIn =  unicode(phonology[\"translations\"][\"grapho\"][\"in\"])\n",
    "    graphoIn = [ord(char) for char in phonoIn]\n",
    "    graphoOut = unicode(phonology[\"translations\"][\"grapho\"][\"out\"])\n",
    "    translit = dict(zip(graphoIn, graphoOut))\n",
    "\n",
    "    accentedIn = unicode(phonology[\"translations\"][\"deaccent\"][\"in\"])\n",
    "    deaccentIn = [ord(char) for char in accentedIn]\n",
    "    deaccentOut = unicode(phonology[\"translations\"][\"deaccent\"][\"out\"])\n",
    "    deaccent = dict(zip(deaccentIn, deaccentOut))\n",
    "\n",
    "    deligatures=phonology[\"translations\"][\"deligatures\"]\n",
    "\n",
    "    tipaIn = unicode(phonology[\"translations\"][\"ipa\"][\"in\"])\n",
    "    ipaIn = [ord(char) for char in tipaIn]\n",
    "    ipaOut = unicode(phonology[\"translations\"][\"ipa\"][\"out\"])\n",
    "    toipa = dict(zip(ipaIn, ipaOut))\n",
    "\n",
    "    tableaux={}\n",
    "    tableauxGloses={}\n",
    "    gloseClozes={}\n",
    "    declarations=[]\n",
    "    declarationsRad=[]\n",
    "    \n",
    "    '''\n",
    "    Pour chaque catégorie\n",
    "    '''\n",
    "    for categorie in PFM.lexique.catLexeme:\n",
    "        '''\n",
    "        si la catégorie n'est pas dans le tableau, il faut l'ajouter dans les trois structures :\n",
    "            tableaux : les lignes à ajouter à la fin du document LaTeX sans les gloses\n",
    "            tableauxGloses : les lignes à ajouter à la fin du document LaTeX avec les gloses\n",
    "            gloseClozes : les informations sur les mots pour les questions CLOZE \n",
    "        '''\n",
    "        if not categorie in tableaux:\n",
    "            tableaux[categorie]=set()\n",
    "            tableauxGloses[categorie]=set()\n",
    "            gloseClozes[categorie]=[]\n",
    "        if verbose: print categorie\n",
    "        '''\n",
    "        pour chaque lexème de la catégorie\n",
    "        '''\n",
    "        for lexeme in PFM.lexique.catLexeme[categorie]:\n",
    "            if verbose: print PFM.lexique.lexemes[lexeme]\n",
    "            '''\n",
    "            pour chaque case du paradigme du lexème\n",
    "            '''\n",
    "            for case in PFM.lexique.lexemes[lexeme].paradigme.cases:\n",
    "                caseGlose=case.glose\n",
    "                '''\n",
    "                Les éléments des catégories majeures (N,V,Adj) sont représentés en minuscules\n",
    "                    => les noms propres commencent par une capitale\n",
    "                Les éléments grammaticaux sont représentés en majuscules\n",
    "                '''\n",
    "                if categorie in PFM.categoriesMajeures:\n",
    "                    nom=PFM.lexique.lexemes[lexeme].nom\n",
    "                else:\n",
    "                    nom=PFM.lexique.lexemes[lexeme].nom.upper()\n",
    "                    gloseCase=case.glose\n",
    "                    if categorie==\"PREP\" and gloseCase in glosePREP:\n",
    "                        caseGlose=glosePREP[gloseCase]\n",
    "                    elif categorie==\"PREP\":\n",
    "                        caseGlose=caseGlose.upper()\n",
    "                ref=PFM.modifierGlose(nom,case.sigma,\"ref\")\n",
    "                ref=recoder(ref,deaccent)\n",
    "                \n",
    "                \n",
    "                '''\n",
    "                Dealing with LaTeX names format for commands\n",
    "                \n",
    "                 1) no ligatures\n",
    "                 2) no numbers\n",
    "                '''\n",
    "                \n",
    "                for ligature in deligatures:\n",
    "                    ref=ref.replace(ligature,deligatures[ligature])\n",
    "                for pers in personnes:\n",
    "                    ref=ref.replace(pers,personnes[pers])\n",
    "                for num in numeros:\n",
    "                    ref=ref.replace(num,numeros[num])\n",
    "                    \n",
    "                grapho=chaine2utf8(re.sub(ur\"\\s+\",ur\"\",recoder(parse_grapho(case.forme),translit)))\n",
    "                phonoRad=case.detoure.replace(\" \",\"\")\n",
    "                phono=case.forme.replace(\" \",\"\")\n",
    "\n",
    "                '''\n",
    "                Creating the DECLARATIONS TEX contents\n",
    "                '''\n",
    "                \n",
    "                declarations.append(commandGrapho%(ref,grapho))\n",
    "                declarations.append(commandPhono%(ref,phono))\n",
    "                declarations.append(commandGlose%(ref,caseGlose))\n",
    "                declarationsRad.append(commandGrapho%(ref,grapho))\n",
    "                declarationsRad.append(commandPhono%(ref,phonoRad))\n",
    "                declarationsRad.append(commandGlose%(ref,caseGlose))\n",
    "                \n",
    "                '''\n",
    "                Creating the TABLEAUX TEX contents\n",
    "                '''\n",
    "                \n",
    "                tableauxGloses[categorie].add(\"\\\\\"+ref+\" & \\\\\"+ref+\"P & \\\\\"+ref+\"G \\\\\\\\\")\n",
    "                tableaux[categorie].add(\"\\\\\"+ref+\" & \\\\\"+ref+\"P & \\\\blanc{\\\\\"+ref+\"G} \\\\\\\\\")\n",
    "                \n",
    "                '''\n",
    "                Creating the CLOZE CSV contents\n",
    "                '''\n",
    "                \n",
    "                vedette=nom.split(\".\")[0]\n",
    "                gloses,strGlose=parse_cloze(case.glose)\n",
    "#                print gloses,case.decoupe,case.detoure\n",
    "                phono=case.forme.replace(\" \",\"\")\n",
    "                if debug: print [grapho, recoder(phono,toipa)]\n",
    "                if cloze_expanded:\n",
    "                    try:\n",
    "                        cloze=u\";\".join([ref,vedette,\n",
    "                                         categorie,\n",
    "                                         recoder(case.radical,toipa),recoder(case.racine,toipa),\n",
    "                                         recoder(phono,toipa),recoder(case.decoupe,toipa),\n",
    "                                         case.sigma,\n",
    "                                         strGlose,\n",
    "                                         gloses])\n",
    "                    except NameError:\n",
    "                        cloze=u\";\".join([ref,vedette,\n",
    "                                         categorie,\n",
    "                                         recoder(case.radical,toipa),recoder(case.racine,toipa),\n",
    "                                         recoder(phono,toipa),\n",
    "                                         strGlose,\n",
    "                                         gloses])\n",
    "                else:\n",
    "                    try:\n",
    "                        cloze=u\";\".join([ref,vedette,categorie,recoder(phono,toipa),recoder(case.decoupe,toipa),case.sigma,gloses])\n",
    "                    except NameError:\n",
    "                        cloze=u\";\".join([ref,vedette,categorie,recoder(phono,toipa),gloses])\n",
    "                gloseClozes[categorie].append(cloze)\n",
    "\n",
    "        '''\n",
    "        Écriture des fichiers en sortie\n",
    "         1) déclarations sans les radicaux\n",
    "         2) déclarations avec les radicaux\n",
    "         3) données pour les questions CLOZE\n",
    "         4) tableaux de vocabulaire avec gloses\n",
    "         5) tableaux de vocabulaire sans gloses\n",
    "        '''\n",
    "        with codecs.open(serie+nomDeclaration, 'wb', encoding='utf8') as output:\n",
    "            for declaration in texHeader+declarations:\n",
    "        #        print type(declaration),declaration\n",
    "                output.write(declaration+\"\\n\")\n",
    "\n",
    "        with codecs.open(serie+nomDeclarationRad, 'wb', encoding='utf8') as output:\n",
    "            for declaration in texHeader+declarationsRad:\n",
    "        #        print type(declaration),declaration\n",
    "                output.write(declaration+\"\\n\")\n",
    "\n",
    "        with codecs.open(serie+\"Clozes.txt\", 'wb', encoding='utf8') as output:\n",
    "            for categorie in gloseClozes:\n",
    "                output.write(\"#\\t\"+categorie+\"\\n#\\n#\\n\")\n",
    "                for cloze in gloseClozes[categorie]:\n",
    "                    output.write(cloze+\"\\n\")\n",
    "                output.write(\"#\\n#\\n#\\n\")\n",
    "\n",
    "        yaml.safe_dump(tableauxGloses, file(serie+nomTableauxRad, 'w'), encoding='utf-8', allow_unicode=True)\n",
    "        yaml.safe_dump(tableaux, file(serie+nomTableaux, 'w'), encoding='utf-8', allow_unicode=True)\n",
    "\n",
    "print u\"Génération terminée :\", time.strftime(\"%H:%M:%S\")"
   ]
  },
  {
   "cell_type": "code",
   "execution_count": 80,
   "metadata": {
    "collapsed": false,
    "scrolled": true
   },
   "outputs": [],
   "source": [
    "#gloseClozes"
   ]
  },
  {
   "cell_type": "code",
   "execution_count": 82,
   "metadata": {
    "collapsed": false
   },
   "outputs": [
    {
     "data": {
      "text/plain": [
       "[u'\\\\newcommand{\\\\crocBSgNom}{\\\\strutgb{0pt}\\\\grapho{nuOkueanuInuuse}}',\n",
       " u'\\\\newcommand{\\\\crocBSgNomP}{\\\\textipa{nokajnunes}}',\n",
       " u'\\\\newcommand{\\\\crocBSgNomG}{\\\\textGlose{\\\\cacherGloses{Nom.N1-}croc\\\\cacherGloses{.B.N1}\\\\cacherGloses{-Sg.N1}}}',\n",
       " u'\\\\newcommand{\\\\crocBSgAcc}{\\\\strutgb{0pt}\\\\grapho{kuekueanuInuuse}}',\n",
       " u'\\\\newcommand{\\\\crocBSgAccP}{\\\\textipa{kakajnunes}}',\n",
       " u'\\\\newcommand{\\\\crocBSgAccG}{\\\\textGlose{\\\\cacherGloses{Acc.N1-}croc\\\\cacherGloses{.B.N1}\\\\cacherGloses{-Sg.N1}}}',\n",
       " u'\\\\newcommand{\\\\crocBSgDat}{\\\\strutgb{0pt}\\\\grapho{kueanuInuuTIese}}',\n",
       " u'\\\\newcommand{\\\\crocBSgDatP}{\\\\textipa{kajnunedas}}',\n",
       " u'\\\\newcommand{\\\\crocBSgDatG}{\\\\textGlose{croc\\\\cacherGloses{.B.N1}\\\\cacherGloses{-Dat.N1}\\\\cacherGloses{-Sg.N1}}}',\n",
       " u'\\\\newcommand{\\\\crocBSgObl}{\\\\strutgb{0pt}\\\\grapho{kueanuInuufIise}}',\n",
       " u'\\\\newcommand{\\\\crocBSgOblP}{\\\\textipa{kajnunefis}}',\n",
       " u'\\\\newcommand{\\\\crocBSgOblG}{\\\\textGlose{croc\\\\cacherGloses{.B.N1}\\\\cacherGloses{-Obl.N1}\\\\cacherGloses{-Sg.N1}}}',\n",
       " u'\\\\newcommand{\\\\crocBDuNom}{\\\\strutgb{0pt}\\\\grapho{nuOkueanuInuulI}}',\n",
       " u'\\\\newcommand{\\\\crocBDuNomP}{\\\\textipa{nokajnunel}}',\n",
       " u'\\\\newcommand{\\\\crocBDuNomG}{\\\\textGlose{\\\\cacherGloses{Nom.N1-}croc\\\\cacherGloses{.B.N1}\\\\cacherGloses{-Du.N1}}}',\n",
       " u'\\\\newcommand{\\\\crocBDuAcc}{\\\\strutgb{0pt}\\\\grapho{kuekueanuInuulI}}',\n",
       " u'\\\\newcommand{\\\\crocBDuAccP}{\\\\textipa{kakajnunel}}',\n",
       " u'\\\\newcommand{\\\\crocBDuAccG}{\\\\textGlose{\\\\cacherGloses{Acc.N1-}croc\\\\cacherGloses{.B.N1}\\\\cacherGloses{-Du.N1}}}',\n",
       " u'\\\\newcommand{\\\\crocBDuDat}{\\\\strutgb{0pt}\\\\grapho{kueanuInuuTIelI}}',\n",
       " u'\\\\newcommand{\\\\crocBDuDatP}{\\\\textipa{kajnunedal}}',\n",
       " u'\\\\newcommand{\\\\crocBDuDatG}{\\\\textGlose{croc\\\\cacherGloses{.B.N1}\\\\cacherGloses{-Dat.N1}\\\\cacherGloses{-Du.N1}}}',\n",
       " u'\\\\newcommand{\\\\crocBDuObl}{\\\\strutgb{0pt}\\\\grapho{kueanuInuufIilI}}',\n",
       " u'\\\\newcommand{\\\\crocBDuOblP}{\\\\textipa{kajnunefil}}',\n",
       " u'\\\\newcommand{\\\\crocBDuOblG}{\\\\textGlose{croc\\\\cacherGloses{.B.N1}\\\\cacherGloses{-Obl.N1}\\\\cacherGloses{-Du.N1}}}',\n",
       " u'\\\\newcommand{\\\\crocBPlNom}{\\\\strutgb{0pt}\\\\grapho{nuOkueanuInuupu}}',\n",
       " u'\\\\newcommand{\\\\crocBPlNomP}{\\\\textipa{nokajnunep}}',\n",
       " u'\\\\newcommand{\\\\crocBPlNomG}{\\\\textGlose{\\\\cacherGloses{Nom.N1-}croc\\\\cacherGloses{.B.N1}\\\\cacherGloses{-Pl.N1}}}',\n",
       " u'\\\\newcommand{\\\\crocBPlAcc}{\\\\strutgb{0pt}\\\\grapho{kuekueanuInuupu}}',\n",
       " u'\\\\newcommand{\\\\crocBPlAccP}{\\\\textipa{kakajnunep}}',\n",
       " u'\\\\newcommand{\\\\crocBPlAccG}{\\\\textGlose{\\\\cacherGloses{Acc.N1-}croc\\\\cacherGloses{.B.N1}\\\\cacherGloses{-Pl.N1}}}',\n",
       " u'\\\\newcommand{\\\\crocBPlDat}{\\\\strutgb{0pt}\\\\grapho{kueanuInuuTIepu}}',\n",
       " u'\\\\newcommand{\\\\crocBPlDatP}{\\\\textipa{kajnunedap}}',\n",
       " u'\\\\newcommand{\\\\crocBPlDatG}{\\\\textGlose{croc\\\\cacherGloses{.B.N1}\\\\cacherGloses{-Dat.N1}\\\\cacherGloses{-Pl.N1}}}',\n",
       " u'\\\\newcommand{\\\\crocBPlObl}{\\\\strutgb{0pt}\\\\grapho{kueanuInuufIipu}}',\n",
       " u'\\\\newcommand{\\\\crocBPlOblP}{\\\\textipa{kajnunefip}}',\n",
       " u'\\\\newcommand{\\\\crocBPlOblG}{\\\\textGlose{croc\\\\cacherGloses{.B.N1}\\\\cacherGloses{-Obl.N1}\\\\cacherGloses{-Pl.N1}}}']"
      ]
     },
     "execution_count": 82,
     "metadata": {},
     "output_type": "execute_result"
    }
   ],
   "source": [
    "[l for l in declarations if \"croc\" in l]"
   ]
  }
 ],
 "metadata": {
  "kernelspec": {
   "display_name": "Python 2",
   "language": "python",
   "name": "python2"
  },
  "language_info": {
   "codemirror_mode": {
    "name": "ipython",
    "version": 2
   },
   "file_extension": ".py",
   "mimetype": "text/x-python",
   "name": "python",
   "nbconvert_exporter": "python",
   "pygments_lexer": "ipython2",
   "version": "2.7.11"
  }
 },
 "nbformat": 4,
 "nbformat_minor": 0
}

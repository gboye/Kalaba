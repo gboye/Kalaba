{
 "cells": [
  {
   "cell_type": "markdown",
   "metadata": {},
   "source": [
    "# ParFuMor (version YAML & Objets)"
   ]
  },
  {
   "cell_type": "code",
   "execution_count": 201,
   "metadata": {
    "collapsed": false
   },
   "outputs": [],
   "source": [
    "# -*- coding: utf8 -*-\n",
    "from os.path import expanduser\n",
    "home = expanduser(\"~\")\n",
    "repertoire=home+\"/ownCloud/Cours/Bordeaux/L1-LinguistiqueGenerale/Kalaba-Project/16-K5\"\n",
    "serie=repertoire+\"/\"\n",
    "\n",
    "import yaml\n",
    "import itertools\n",
    "#import re\n",
    "import ParFuMor as PFM\n",
    "from ParFuMor import *\n",
    "import pickle"
   ]
  },
  {
   "cell_type": "code",
   "execution_count": 202,
   "metadata": {
    "collapsed": false
   },
   "outputs": [],
   "source": [
    "with open(serie+\"Gloses.yaml\", 'r') as stream:\n",
    "    gloses=yaml.load(stream)\n",
    "    PFM.gloses=gloses\n",
    "with open(serie+\"Stems.yaml\", 'r') as stream:\n",
    "    stems=yaml.load(stream)\n",
    "    PFM.stems=stems\n",
    "with open(serie+\"Blocks.yaml\", 'r') as stream:\n",
    "    blocks=yaml.load(stream)\n",
    "    PFM.blocks=blocks\n",
    "with open(serie+\"Phonology.yaml\", 'r') as stream:\n",
    "    phonology=yaml.load(stream)\n",
    "    PFM.phonology=phonology\n",
    "with open(serie+\"MorphoSyntax.yaml\", 'r') as stream:\n",
    "    morphosyntax=yaml.load(stream)\n",
    "    PFM.morphosyntax=morphosyntax"
   ]
  },
  {
   "cell_type": "code",
   "execution_count": 203,
   "metadata": {
    "collapsed": false
   },
   "outputs": [],
   "source": [
    "regles=Regles()\n",
    "PFM.regles=regles\n",
    "for categorie in blocks:\n",
    "    regles.addBlocs(categorie,blocks[categorie])\n"
   ]
  },
  {
   "cell_type": "code",
   "execution_count": 204,
   "metadata": {
    "collapsed": false
   },
   "outputs": [],
   "source": [
    "paradigmes=Paradigmes()\n",
    "PFM.paradigmes=paradigmes"
   ]
  },
  {
   "cell_type": "code",
   "execution_count": 205,
   "metadata": {
    "collapsed": false
   },
   "outputs": [],
   "source": [
    "hierarchieCF=HierarchieCF()\n",
    "PFM.hierarchieCF=hierarchieCF\n",
    "lexique=Lexique()\n",
    "PFM.lexique=lexique\n"
   ]
  },
  {
   "cell_type": "code",
   "execution_count": 206,
   "metadata": {
    "collapsed": false
   },
   "outputs": [],
   "source": [
    "paradigmes=Paradigmes()\n",
    "PFM.paradigmes=paradigmes"
   ]
  },
  {
   "cell_type": "code",
   "execution_count": 207,
   "metadata": {
    "collapsed": false
   },
   "outputs": [],
   "source": [
    "paradigmes=Paradigmes()\n",
    "PFM.paradigmes=paradigmes\n",
    "for cat in gloses:\n",
    "#    print cat\n",
    "    attributes=[]\n",
    "    if gloses[cat]:\n",
    "        if set(gloses[cat].keys())==set(morphosyntax[\"Attributs\"][cat]):\n",
    "            features=morphosyntax[\"Attributs\"][cat]\n",
    "#            print \"inhérent\",features\n",
    "        else:\n",
    "            features=gloses[cat].keys()\n",
    "#            print \"contextuel\",features\n",
    "        for attribute in features:\n",
    "            attributes.append(gloses[cat][attribute])\n",
    "        nuplets=(itertools.product(*attributes))\n",
    "        for nuplet in nuplets:\n",
    "            proprietes=[cat]\n",
    "            for element in range(len(nuplet)):\n",
    "                proprietes.append(u\"%s=%s\"%(features[element],nuplet[element]))\n",
    "            paradigmes.addForme(cat,proprietes)"
   ]
  },
  {
   "cell_type": "code",
   "execution_count": 208,
   "metadata": {
    "collapsed": false
   },
   "outputs": [
    {
     "name": "stdout",
     "output_type": "stream",
     "text": [
      "VER : Trans Temps Pers Genre Nombre\n",
      "NOM : Genre Nombre Cas\n",
      "DET : Nombre Cas\n",
      "ADJ : Genre Nombre\n",
      "head stems\n",
      "head stems,VER\n",
      "head stems,VER,VI\n",
      "head stems,VER,VT\n",
      "head stems,VER,VD\n",
      "head stems,NOM\n",
      "head stems,NOM,A\n",
      "head stems,NOM,C\n",
      "head stems,NOM,B\n",
      "head stems,NOM,D\n",
      "head stems,ADJ\n"
     ]
    }
   ],
   "source": [
    "analyserGloses(gloses)\n",
    "analyserStems(stems)"
   ]
  },
  {
   "cell_type": "code",
   "execution_count": 209,
   "metadata": {
    "collapsed": false
   },
   "outputs": [],
   "source": [
    "with open(serie+\"Hierarchie-S2.pkl\", 'wb') as output:\n",
    "   pickle.dump(hierarchieCF, output, pickle.HIGHEST_PROTOCOL)\n",
    "with open(serie+\"Lexique-S2.pkl\", 'wb') as output:\n",
    "   pickle.dump(lexique, output, pickle.HIGHEST_PROTOCOL)\n",
    "with open(serie+\"Regles-S2.pkl\", 'wb') as output:\n",
    "   pickle.dump(regles, output, pickle.HIGHEST_PROTOCOL)\n"
   ]
  },
  {
   "cell_type": "code",
   "execution_count": 210,
   "metadata": {
    "collapsed": true
   },
   "outputs": [],
   "source": [
    "#def chaine2utf8(chaine):\n",
    "#    if type(chaine)==str:\n",
    "#        result=unicode(chaine.decode('utf8'))\n",
    "#    elif type(chaine)==unicode:\n",
    "#        result=chaine\n",
    "#    return result"
   ]
  },
  {
   "cell_type": "code",
   "execution_count": 211,
   "metadata": {
    "collapsed": false
   },
   "outputs": [],
   "source": [
    "#u\"rêvasser.I.VI\" in PFM.lexique.lexemes"
   ]
  },
  {
   "cell_type": "code",
   "execution_count": 212,
   "metadata": {
    "collapsed": false,
    "scrolled": true
   },
   "outputs": [
    {
     "name": "stdout",
     "output_type": "stream",
     "text": [
      "passer.VI.VI1 <type 'unicode'>\n",
      "[u'passer', u'passe', u'passent', u'passait', u'passaient', u'passa', u'pass\\xe8rent']\n",
      "courageux.A1 <type 'unicode'>\n",
      "[u'courageux', u'courageuse', u'courageuses']\n",
      "transpercer.VT.VT2 <type 'unicode'>\n",
      "[u'transpercer', u'transperce', u'transpercent', u'transper\\xe7ait', u'transper\\xe7aient']\n",
      "maison.C.N12 <type 'unicode'>\n",
      "[u'maison', u'maisons']\n",
      "combat.B.N11 <type 'unicode'>\n",
      "[u'combat', u'combats']\n",
      "approcher.VI.VI1 <type 'unicode'>\n",
      "[u'approcher', u'approche', u'approchent', u'approchait', u'approchaient']\n",
      "arbre.B.N12 <type 'unicode'>\n",
      "[u'arbre', u'arbres']\n",
      "mort.B.N21 <type 'unicode'>\n",
      "[u'mort', u'morts']\n",
      "grand.A1 <type 'unicode'>\n",
      "[u'grand', u'grande', u'grands', u'grandes']\n",
      "aller.VI.VI1 <type 'unicode'>\n",
      "[u'aller', u'va', u'vont', u'allait', u'allaient']\n",
      "effrayé.A1 <type 'unicode'>\n",
      "[u'effray\\xe9', u'effray\\xe9s', u'effray\\xe9e', u'effray\\xe9es']\n",
      "de <type 'unicode'>\n",
      "[u'de', u'd']\n",
      "enfant.A.N12 <type 'unicode'>\n",
      "[u'enfant', u'enfants']\n",
      "transformer.VT.VT2 <type 'unicode'>\n",
      "[u'transformer', u'transforme', u'transforment', u'transformait', u'transformaient']\n",
      "pousser.VT.VT2 <type 'unicode'>\n",
      "[u'pousser', u'pousse', u'poussent', u'poussait', u'poussaient']\n",
      "lance.C.N21 <type 'unicode'>\n",
      "[u'lance', u'lances']\n",
      "rejoindre.VT.VT2 <type 'unicode'>\n",
      "[u'rejoindre', u'rejoint', u'rejoignent', u'rejoignait', u'rejoignaient']\n",
      "voir.VT.VT2 <type 'unicode'>\n",
      "[u'voir', u'voit', u'voient', u'voyait', u'voyaient', u'vit', u'virent']\n",
      "envahir.VT.VT1 <type 'unicode'>\n",
      "[u'envahir', u'envahit', u'envahissent', u'envahissait', u'envahissaient']\n",
      "profond.A1 <type 'unicode'>\n",
      "[u'profond', u'profonds', u'profonde', u'profondes']\n",
      "suivant.A2 <type 'unicode'>\n",
      "[u'suivant', u'suivants', u'suivante', u'suivantes']\n",
      "homme.D.N21 <type 'unicode'>\n",
      "[u'homme', u'hommes']\n",
      "furieux.A2 <type 'unicode'>\n",
      "[u'furieux', u'furieuse', u'furieuses']\n",
      "donner.VD.VT1 <type 'unicode'>\n",
      "[u'donner', u'donne', u'donnent', u'donnait', u'donnaient']\n",
      "blessé.A2 <type 'unicode'>\n",
      "[u'bless\\xe9', u'bless\\xe9s', u'bless\\xe9e', u'bless\\xe9es']\n",
      "DEM <type 'unicode'>\n",
      "[u'DEM', u'ce', u'cet', u'cette', u'ces']\n",
      "DEF <type 'unicode'>\n",
      "[u'DEF', u'le', u'la', u'les', u'l']\n",
      "coup.A.N11 <type 'unicode'>\n",
      "[u'coup', u'coups']\n",
      "apporter.VD.VT1 <type 'unicode'>\n",
      "[u'apporter', u'apporte', u'apportent', u'apportait', u'apportaient', u'apporta', u'apport\\xe8rent']\n",
      "démon.D.N11 <type 'unicode'>\n",
      "[u'd\\xe9mon', u'd\\xe9mons']\n",
      "sur <type 'unicode'>\n",
      "[u'sur']\n",
      "lune.A.N12 <type 'unicode'>\n",
      "[u'lune', u'lunes']\n",
      "planter.VT.VT1 <type 'unicode'>\n",
      "[u'planter', u'plante', u'plantent', u'plantait', u'plantaient']\n",
      "milieu.B.N12 <type 'unicode'>\n",
      "[u'milieu', u'milieux']\n",
      "forêt.A.N11 <type 'unicode'>\n",
      "[u'for\\xeat', u'for\\xeats']\n",
      "corps.D.N12 <type 'unicode'>\n",
      "[u'corps', u'corpS']\n",
      "prendre.VT.VT2 <type 'unicode'>\n",
      "[u'prendre', u'prend', u'prennent', u'prenait', u'prenaient']\n",
      "sortir.VI.VI1 <type 'unicode'>\n",
      "[u'sortir', u'sorT', u'sortent', u'sortait', u'sortaient', u'sortit', u'sortirent']\n",
      "main.B.N21 <type 'unicode'>\n",
      "[u'main', u'mains']\n",
      "crocs.B.N11 <type 'unicode'>\n",
      "[u'crocs']\n",
      "à <type 'unicode'>\n",
      "[u'\\xe0']\n",
      "rouge.A1 <type 'unicode'>\n",
      "[u'rouge', u'rouges']\n",
      "sauter.VI.VI1 <type 'unicode'>\n",
      "[u'sauter', u'saute', u'sautent', u'sautait', u'sautaient']\n",
      "visage.D.N11 <type 'unicode'>\n",
      "[u'visage', u'visages']\n",
      "IND <type 'unicode'>\n",
      "[u'IND', u'un', u'une', u'des', u'De']\n",
      "villageois.C.N22 <type 'unicode'>\n",
      "[u'villageois', u'villageoiS']\n",
      "louve.B.N22 <type 'unicode'>\n",
      "[u'louve', u'louves']\n",
      "gorge.C.N22 <type 'unicode'>\n",
      "[u'gorge', u'gorges']\n",
      "colère.B.N22 <type 'unicode'>\n",
      "[u'col\\xe8re', u'col\\xe8res']\n",
      "être.VT.VT1 <type 'unicode'>\n",
      "[u'\\xeatre', u'est', u'sont', u'\\xe9tait', u'\\xe9taient']\n",
      "souffrance.C.N12 <type 'unicode'>\n",
      "[u'souffrance', u'souffrances']\n",
      "avec <type 'unicode'>\n",
      "[u'avec']\n",
      "après <type 'unicode'>\n",
      "[u'apr\\xe8s']\n",
      "villageoise.D.N21 <type 'unicode'>\n",
      "[u'villageoise', u'villageoises']\n",
      "jeter.VT.VT2 <type 'unicode'>\n",
      "[u'jeter', u'jette', u'jettent', u'jetait', u'jetaient']\n",
      "loup.A.N11 <type 'unicode'>\n",
      "[u'loup', u'loups']\n",
      "protéger.VT.VT1 <type 'unicode'>\n",
      "[u'prot\\xe9ger', u'prot\\xe8ge', u'prot\\xe8gent', u'prot\\xe9geait', u'prot\\xe9geaient']\n",
      "cri.C.N22 <type 'unicode'>\n",
      "[u'cri', u'cris']\n",
      "soeur.D.N11 <type 'unicode'>\n",
      "[u'soeur', u'soeurs', u's\\u0153ur', u's\\u0153urs']\n",
      "disparaître.VI.VI1 <type 'unicode'>\n",
      "[u'dispara\\xeetre', u'dispara\\xeet', u'disparaissent', u'disparaissait', u'disparaissaient']\n",
      "fille.A.N22 <type 'unicode'>\n",
      "[u'fille', u'filles']\n",
      "ombre.A.N22 <type 'unicode'>\n",
      "[u'ombre', u'ombres']\n",
      "devant <type 'unicode'>\n",
      "[u'devant']\n",
      "blessure.A.N21 <type 'unicode'>\n",
      "[u'blessure', u'blessures']\n",
      "dans <type 'unicode'>\n",
      "[u'dans']\n",
      "chasser.VT.VT2 <type 'unicode'>\n",
      "[u'chasser', u'chasse', u'chassent', u'chassait', u'chassaient']\n",
      "recouvrir.VT.VT2 <type 'unicode'>\n",
      "[u'recouvrir', u'recouvre', u'recouvrent', u'recouvrait', u'recouvraient']\n",
      "derrière <type 'unicode'>\n",
      "[u'derri\\xe8re']\n",
      "noir.A1 <type 'unicode'>\n",
      "[u'noir', u'noire', u'noirs', u'noires']\n",
      "vers <type 'unicode'>\n",
      "[u'vers']\n",
      "couteau.D.N22 <type 'unicode'>\n",
      "[u'couteau', u'couteaux']\n",
      "courir.VI.VI1 <type 'unicode'>\n",
      "[u'courir', u'court', u'courent', u'courait', u'couraient']\n",
      "serpent.C.N21 <type 'unicode'>\n",
      "[u'serpent', u'serpents']\n",
      "tomber.VI.VI1 <type 'unicode'>\n",
      "[u'tomber', u'tombe', u'tombent', u'tombait', u'tombaient']\n",
      "dévorer.VT.VT1 <type 'unicode'>\n",
      "[u'd\\xe9vorer', u'd\\xe9vore', u'd\\xe9vorent', u'd\\xe9vorait', u'd\\xe9voraient']\n",
      "sort.A.N12 <type 'unicode'>\n",
      "[u'sort', u'sorts']\n",
      "chercher.VT.VT1 <type 'unicode'>\n",
      "[u'chercher', u'cherche', u'cherchent', u'cherchait', u'cherchaient']\n",
      "combattant.B.N22 <type 'unicode'>\n",
      "[u'combattant', u'combattants']\n",
      "parler.VI.VI1 <type 'unicode'>\n",
      "[u'parler', u'parle', u'parlent', u'parlait', u'parlaient', u'parla', u'parl\\xe8rent']\n",
      "nuit.D.N12 <type 'unicode'>\n",
      "[u'nuit', u'nuits']\n",
      "Mahira.C.N12 <type 'unicode'>\n",
      "[u'Mahira']\n",
      "village.C.N11 <type 'unicode'>\n",
      "[u'village', u'villages']\n",
      "chef.D.N22 <type 'unicode'>\n",
      "[u'chef', u'chefs']\n",
      "différent.A2 <type 'unicode'>\n",
      "[u'diff\\xe9rent', u'diff\\xe9rents', u'diff\\xe9rente', u'diff\\xe9rentes']\n",
      "blanc.A2 <type 'unicode'>\n",
      "[u'blanc', u'blanche', u'blancs', u'blanches']\n",
      "lueur.C.N11 <type 'unicode'>\n",
      "[u'lueur', u'lueurs']\n",
      "entre <type 'unicode'>\n",
      "[u'entre']\n",
      "fuir.VI.VI1 <type 'unicode'>\n",
      "[u'fuir', u'fuit', u'fuient', u'fuyait', u'fuyaient']\n",
      "petit.A2 <type 'unicode'>\n",
      "[u'petit', u'petite', u'petits', u'petites']\n",
      "Violette.B.N21 <type 'unicode'>\n",
      "[u'Violette']\n",
      "Kaleb.A.N21 <type 'unicode'>\n",
      "[u'Kaleb']\n",
      "terrible.A2 <type 'unicode'>\n",
      "[u'terrible', u'terribles']\n"
     ]
    }
   ],
   "source": [
    "for element in PFM.lexique.lexemes:\n",
    "    print element, type(element)\n",
    "    print PFM.lexique.lexemes[element].formes"
   ]
  },
  {
   "cell_type": "code",
   "execution_count": 213,
   "metadata": {
    "collapsed": false
   },
   "outputs": [
    {
     "data": {
      "text/plain": [
       "kaleb, A.N21, Kaleb.A.N21\n",
       "\t\tkaleb :\n",
       "\t\t\tNOM, CF=N21,  Genre=A, Nombre=Sg, Cas=Erg:\tkalebsi\tKaleb\\cacherGloses{.A.N21}\\cacherGloses{-Erg.N21}\tkaleb-si\t\\textRadical{kaleb}si\n",
       "\t\t\tNOM, CF=N21,  Genre=A, Nombre=Sg, Cas=Abs:\tkalebke\tKaleb\\cacherGloses{.A.N21}\\cacherGloses{-Abs.N21}\tkaleb-ke\t\\textRadical{kaleb}ke\n",
       "\t\t\tNOM, CF=N21,  Genre=A, Nombre=Sg, Cas=Dat:\tkalebso\tKaleb\\cacherGloses{.A.N21}\\cacherGloses{-Dat.N21}\tkaleb-so\t\\textRadical{kaleb}so\n",
       "\t\t\tNOM, CF=N21,  Genre=A, Nombre=Sg, Cas=Obl:\tkaleb\tKaleb\\cacherGloses{.A.N21}\tkaleb\t\\textRadical{kaleb}\n",
       "\t\t\tNOM, CF=N21,  Genre=A, Nombre=Du, Cas=Erg:\tkallobusi\tKaleb\\cacherGloses{.A.N21}\\cacherGloses{xDu.N2}\\cacherGloses{-Erg.N21}\tracine(kaleb)x1V22o3A-si\t\\textRacineC{k}\\textRacineV{a}\\textRacineC{l}\\textRacineC{l}o\\textRacineC{b}usi\n",
       "\t\t\tNOM, CF=N21,  Genre=A, Nombre=Du, Cas=Abs:\tkallobuke\tKaleb\\cacherGloses{.A.N21}\\cacherGloses{xDu.N2}\\cacherGloses{-Abs.N21}\tracine(kaleb)x1V22o3A-ke\t\\textRacineC{k}\\textRacineV{a}\\textRacineC{l}\\textRacineC{l}o\\textRacineC{b}uke\n",
       "\t\t\tNOM, CF=N21,  Genre=A, Nombre=Du, Cas=Dat:\tkallobuso\tKaleb\\cacherGloses{.A.N21}\\cacherGloses{xDu.N2}\\cacherGloses{-Dat.N21}\tracine(kaleb)x1V22o3A-so\t\\textRacineC{k}\\textRacineV{a}\\textRacineC{l}\\textRacineC{l}o\\textRacineC{b}uso\n",
       "\t\t\tNOM, CF=N21,  Genre=A, Nombre=Du, Cas=Obl:\tkallobuso\tKaleb\\cacherGloses{.A.N21}\\cacherGloses{xDu.N2}\\cacherGloses{-Obl.Du.N21}\tracine(kaleb)x1V22o3A-so\t\\textRacineC{k}\\textRacineV{a}\\textRacineC{l}\\textRacineC{l}o\\textRacineC{b}uso\n",
       "\t\t\tNOM, CF=N21,  Genre=A, Nombre=Pl, Cas=Erg:\tkalebusi\tKaleb\\cacherGloses{.A.N21}\\cacherGloses{-Pl.N2}\\cacherGloses{-Erg.N21}\tkaleb-u-si\t\\textRadical{kaleb}usi\n",
       "\t\t\tNOM, CF=N21,  Genre=A, Nombre=Pl, Cas=Abs:\tkalebuke\tKaleb\\cacherGloses{.A.N21}\\cacherGloses{-Pl.N2}\\cacherGloses{-Abs.N21}\tkaleb-u-ke\t\\textRadical{kaleb}uke\n",
       "\t\t\tNOM, CF=N21,  Genre=A, Nombre=Pl, Cas=Dat:\tkalebuso\tKaleb\\cacherGloses{.A.N21}\\cacherGloses{-Pl.N2}\\cacherGloses{-Dat.N21}\tkaleb-u-so\t\\textRadical{kaleb}uso\n",
       "\t\t\tNOM, CF=N21,  Genre=A, Nombre=Pl, Cas=Obl:\tkalebu\tKaleb\\cacherGloses{.A.N21}\\cacherGloses{-Pl.N2}\tkaleb-u\t\\textRadical{kaleb}u"
      ]
     },
     "execution_count": 213,
     "metadata": {},
     "output_type": "execute_result"
    }
   ],
   "source": [
    "PFM.lexique.lexemes[\"Kaleb.A.N21\"]"
   ]
  },
  {
   "cell_type": "code",
   "execution_count": 214,
   "metadata": {
    "collapsed": false
   },
   "outputs": [],
   "source": [
    "#lexique.lexemes.keys()"
   ]
  },
  {
   "cell_type": "code",
   "execution_count": null,
   "metadata": {
    "collapsed": true
   },
   "outputs": [],
   "source": []
  }
 ],
 "metadata": {
  "kernelspec": {
   "display_name": "Python 2",
   "language": "python",
   "name": "python2"
  },
  "language_info": {
   "codemirror_mode": {
    "name": "ipython",
    "version": 2
   },
   "file_extension": ".py",
   "mimetype": "text/x-python",
   "name": "python",
   "nbconvert_exporter": "python",
   "pygments_lexer": "ipython2",
   "version": "2.7.11"
  }
 },
 "nbformat": 4,
 "nbformat_minor": 0
}

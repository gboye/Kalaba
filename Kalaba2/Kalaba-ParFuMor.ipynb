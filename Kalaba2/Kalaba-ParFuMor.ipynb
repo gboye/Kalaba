{
 "cells": [
  {
   "cell_type": "markdown",
   "metadata": {},
   "source": [
    "# ParFuMor (version YAML & Objets)"
   ]
  },
  {
   "cell_type": "code",
   "execution_count": 30,
   "metadata": {
    "collapsed": false
   },
   "outputs": [],
   "source": [
    "# -*- coding: utf8 -*-\n",
    "from os.path import expanduser\n",
    "home = expanduser(\"~\")\n",
    "repertoire=home+\"/ownCloud/Cours/Bordeaux/L1-LinguistiqueGenerale/Kalaba-Project/16-K5\"\n",
    "serie=repertoire+\"/\"\n",
    "\n",
    "import yaml\n",
    "import itertools\n",
    "#import re\n",
    "import ParFuMor as PFM\n",
    "from ParFuMor import *\n",
    "import pickle"
   ]
  },
  {
   "cell_type": "code",
   "execution_count": 31,
   "metadata": {
    "collapsed": false
   },
   "outputs": [],
   "source": [
    "with open(serie+\"Gloses.yaml\", 'r') as stream:\n",
    "    gloses=yaml.load(stream)\n",
    "    PFM.gloses=gloses\n",
    "with open(serie+\"Stems.yaml\", 'r') as stream:\n",
    "    stems=yaml.load(stream)\n",
    "    PFM.stems=stems\n",
    "with open(serie+\"Blocks.yaml\", 'r') as stream:\n",
    "    blocks=yaml.load(stream)\n",
    "    PFM.blocks=blocks\n",
    "with open(serie+\"Phonology.yaml\", 'r') as stream:\n",
    "    phonology=yaml.load(stream)\n",
    "    PFM.phonology=phonology\n",
    "with open(serie+\"MorphoSyntax.yaml\", 'r') as stream:\n",
    "    morphosyntax=yaml.load(stream)\n",
    "    PFM.morphosyntax=morphosyntax"
   ]
  },
  {
   "cell_type": "code",
   "execution_count": 32,
   "metadata": {
    "collapsed": false
   },
   "outputs": [],
   "source": [
    "regles=Regles()\n",
    "PFM.regles=regles\n",
    "for categorie in blocks:\n",
    "    regles.addBlocs(categorie,blocks[categorie])\n"
   ]
  },
  {
   "cell_type": "code",
   "execution_count": 33,
   "metadata": {
    "collapsed": false
   },
   "outputs": [],
   "source": [
    "paradigmes=Paradigmes()\n",
    "PFM.paradigmes=paradigmes"
   ]
  },
  {
   "cell_type": "code",
   "execution_count": 34,
   "metadata": {
    "collapsed": false
   },
   "outputs": [],
   "source": [
    "hierarchieCF=HierarchieCF()\n",
    "PFM.hierarchieCF=hierarchieCF\n",
    "lexique=Lexique()\n",
    "PFM.lexique=lexique\n"
   ]
  },
  {
   "cell_type": "code",
   "execution_count": 35,
   "metadata": {
    "collapsed": false
   },
   "outputs": [],
   "source": [
    "paradigmes=Paradigmes()\n",
    "PFM.paradigmes=paradigmes"
   ]
  },
  {
   "cell_type": "code",
   "execution_count": 36,
   "metadata": {
    "collapsed": false
   },
   "outputs": [],
   "source": [
    "paradigmes=Paradigmes()\n",
    "PFM.paradigmes=paradigmes\n",
    "for cat in gloses:\n",
    "#    print cat\n",
    "    attributes=[]\n",
    "    if gloses[cat]:\n",
    "        if set(gloses[cat].keys())==set(morphosyntax[\"Attributs\"][cat]):\n",
    "            features=morphosyntax[\"Attributs\"][cat]\n",
    "#            print \"inhérent\",features\n",
    "        else:\n",
    "            features=gloses[cat].keys()\n",
    "#            print \"contextuel\",features\n",
    "        for attribute in features:\n",
    "            attributes.append(gloses[cat][attribute])\n",
    "        nuplets=(itertools.product(*attributes))\n",
    "        for nuplet in nuplets:\n",
    "            proprietes=[cat]\n",
    "            for element in range(len(nuplet)):\n",
    "                proprietes.append(u\"%s=%s\"%(features[element],nuplet[element]))\n",
    "            paradigmes.addForme(cat,proprietes)"
   ]
  },
  {
   "cell_type": "code",
   "execution_count": 37,
   "metadata": {
    "collapsed": false
   },
   "outputs": [
    {
     "name": "stdout",
     "output_type": "stream",
     "text": [
      "VER : Trans Temps Pers Genre Nombre\n",
      "NOM : Genre Nombre Cas\n",
      "DET : Nombre Cas\n",
      "ADJ : Genre Nombre\n",
      "head stems\n",
      "head stems,VER\n",
      "head stems,VER,VI\n",
      "head stems,VER,VT\n",
      "head stems,VER,VD\n",
      "head stems,NOM\n",
      "head stems,NOM,A\n",
      "head stems,NOM,C\n",
      "head stems,NOM,B\n",
      "head stems,NOM,D\n",
      "head stems,ADJ\n"
     ]
    }
   ],
   "source": [
    "analyserGloses(gloses)\n",
    "analyserStems(stems)"
   ]
  },
  {
   "cell_type": "code",
   "execution_count": 38,
   "metadata": {
    "collapsed": false
   },
   "outputs": [],
   "source": [
    "with open(serie+\"Hierarchie-S2.pkl\", 'wb') as output:\n",
    "   pickle.dump(hierarchieCF, output, pickle.HIGHEST_PROTOCOL)\n",
    "with open(serie+\"Lexique-S2.pkl\", 'wb') as output:\n",
    "   pickle.dump(lexique, output, pickle.HIGHEST_PROTOCOL)\n",
    "with open(serie+\"Regles-S2.pkl\", 'wb') as output:\n",
    "   pickle.dump(regles, output, pickle.HIGHEST_PROTOCOL)\n"
   ]
  },
  {
   "cell_type": "code",
   "execution_count": 39,
   "metadata": {
    "collapsed": true
   },
   "outputs": [],
   "source": [
    "#def chaine2utf8(chaine):\n",
    "#    if type(chaine)==str:\n",
    "#        result=unicode(chaine.decode('utf8'))\n",
    "#    elif type(chaine)==unicode:\n",
    "#        result=chaine\n",
    "#    return result"
   ]
  },
  {
   "cell_type": "code",
   "execution_count": 40,
   "metadata": {
    "collapsed": false
   },
   "outputs": [],
   "source": [
    "#u\"rêvasser.I.VI\" in PFM.lexique.lexemes"
   ]
  },
  {
   "cell_type": "code",
   "execution_count": 41,
   "metadata": {
    "collapsed": false,
    "scrolled": true
   },
   "outputs": [
    {
     "name": "stdout",
     "output_type": "stream",
     "text": [
      "courageux.A1 <type 'unicode'>\n",
      "[u'courageux', u'courageuse', u'courageuses']\n",
      "donner.VD.V2 <type 'unicode'>\n",
      "[u'donner', u'donne', u'donnent', u'donnait', u'donnaient']\n",
      "maison.C.N12 <type 'unicode'>\n",
      "[u'maison', u'maisons']\n",
      "combat.B.N11 <type 'unicode'>\n",
      "[u'combat', u'combats']\n",
      "rejoindre.VT.V2 <type 'unicode'>\n",
      "[u'rejoindre', u'rejoint', u'rejoignent', u'rejoignait', u'rejoignaient']\n",
      "arbre.B.N12 <type 'unicode'>\n",
      "[u'arbre', u'arbres']\n",
      "mort.B.N21 <type 'unicode'>\n",
      "[u'mort', u'morts']\n",
      "courir.VI.V1 <type 'unicode'>\n",
      "[u'courir', u'court', u'courent', u'courait', u'couraient']\n",
      "grand.A1 <type 'unicode'>\n",
      "[u'grand', u'grande', u'grands', u'grandes']\n",
      "envahir.VT.V1 <type 'unicode'>\n",
      "[u'envahir', u'envahit', u'envahissent', u'envahissait', u'envahissaient']\n",
      "effrayé.A1 <type 'unicode'>\n",
      "[u'effray\\xe9', u'effray\\xe9s', u'effray\\xe9e', u'effray\\xe9es']\n",
      "de <type 'unicode'>\n",
      "[u'de', u'd']\n",
      "enfant.A.N12 <type 'unicode'>\n",
      "[u'enfant', u'enfants']\n",
      "lance.C.N21 <type 'unicode'>\n",
      "[u'lance', u'lances']\n",
      "profond.A1 <type 'unicode'>\n",
      "[u'profond', u'profonds', u'profonde', u'profondes']\n",
      "suivant.A2 <type 'unicode'>\n",
      "[u'suivant', u'suivants', u'suivante', u'suivantes']\n",
      "disparaître.VI.V1 <type 'unicode'>\n",
      "[u'dispara\\xeetre', u'dispara\\xeet', u'disparaissent', u'disparaissait', u'disparaissaient']\n",
      "homme.D.N21 <type 'unicode'>\n",
      "[u'homme', u'hommes']\n",
      "fuir.VI.V1 <type 'unicode'>\n",
      "[u'fuir', u'fuit', u'fuient', u'fuyait', u'fuyaient']\n",
      "furieux.A2 <type 'unicode'>\n",
      "[u'furieux', u'furieuse', u'furieuses']\n",
      "aller.VI.V2 <type 'unicode'>\n",
      "[u'aller', u'va', u'vont', u'allait', u'allaient']\n",
      "sortir.VI.V1 <type 'unicode'>\n",
      "[u'sortir', u'sorT', u'sortent', u'sortait', u'sortaient', u'sortit', u'sortirent']\n",
      "blessé.A2 <type 'unicode'>\n",
      "[u'bless\\xe9', u'bless\\xe9s', u'bless\\xe9e', u'bless\\xe9es']\n",
      "DEM <type 'unicode'>\n",
      "[u'DEM', u'ce', u'cet', u'cette', u'ces']\n",
      "DEF <type 'unicode'>\n",
      "[u'DEF', u'le', u'la', u'les', u'l']\n",
      "coup.A.N11 <type 'unicode'>\n",
      "[u'coup', u'coups']\n",
      "démon.D.N11 <type 'unicode'>\n",
      "[u'd\\xe9mon', u'd\\xe9mons']\n",
      "recouvrir.VT.V2 <type 'unicode'>\n",
      "[u'recouvrir', u'recouvre', u'recouvrent', u'recouvrait', u'recouvraient']\n",
      "sur <type 'unicode'>\n",
      "[u'sur']\n",
      "voir.VT.V2 <type 'unicode'>\n",
      "[u'voir', u'voit', u'voient', u'voyait', u'voyaient', u'vit', u'virent']\n",
      "lune.A.N12 <type 'unicode'>\n",
      "[u'lune', u'lunes']\n",
      "jeter.VT.V2 <type 'unicode'>\n",
      "[u'jeter', u'jette', u'jettent', u'jetait', u'jetaient']\n",
      "milieu.B.N12 <type 'unicode'>\n",
      "[u'milieu', u'milieux']\n",
      "forêt.A.N11 <type 'unicode'>\n",
      "[u'for\\xeat', u'for\\xeats']\n",
      "corps.D.N12 <type 'unicode'>\n",
      "[u'corps', u'corpS']\n",
      "protéger.VT.V1 <type 'unicode'>\n",
      "[u'prot\\xe9ger', u'prot\\xe8ge', u'prot\\xe8gent', u'prot\\xe9geait', u'prot\\xe9geaient']\n",
      "main.B.N21 <type 'unicode'>\n",
      "[u'main', u'mains']\n",
      "parler.VI.V2 <type 'unicode'>\n",
      "[u'parler', u'parle', u'parlent', u'parlait', u'parlaient', u'parla', u'parl\\xe8rent']\n",
      "pousser.VT.V2 <type 'unicode'>\n",
      "[u'pousser', u'pousse', u'poussent', u'poussait', u'poussaient']\n",
      "à <type 'unicode'>\n",
      "[u'\\xe0']\n",
      "rouge.A1 <type 'unicode'>\n",
      "[u'rouge', u'rouges']\n",
      "chercher.VT.V1 <type 'unicode'>\n",
      "[u'chercher', u'cherche', u'cherchent', u'cherchait', u'cherchaient']\n",
      "visage.D.N11 <type 'unicode'>\n",
      "[u'visage', u'visages']\n",
      "IND <type 'unicode'>\n",
      "[u'IND', u'un', u'une', u'des', u'dE']\n",
      "villageois.C.N22 <type 'unicode'>\n",
      "[u'villageois', u'villageoiS']\n",
      "louve.B.N22 <type 'unicode'>\n",
      "[u'louve', u'louves', u'lOUP', u'lOUPs']\n",
      "gorge.C.N22 <type 'unicode'>\n",
      "[u'gorge', u'gorges']\n",
      "colère.B.N22 <type 'unicode'>\n",
      "[u'col\\xe8re', u'col\\xe8res']\n",
      "blanc.A2 <type 'unicode'>\n",
      "[u'blanc', u'blanche', u'blancs', u'blanches']\n",
      "souffrance.C.N12 <type 'unicode'>\n",
      "[u'souffrance', u'souffrances']\n",
      "transformer.VT.V2 <type 'unicode'>\n",
      "[u'transformer', u'transforme', u'transforment', u'transformait', u'transformaient']\n",
      "avec <type 'unicode'>\n",
      "[u'avec']\n",
      "après <type 'unicode'>\n",
      "[u'apr\\xe8s']\n",
      "croc.B.N11 <type 'unicode'>\n",
      "[u'croc', u'crocs']\n",
      "sauter.VI.V2 <type 'unicode'>\n",
      "[u'sauter', u'saute', u'sautent', u'sautait', u'sautaient']\n",
      "villageoise.D.N21 <type 'unicode'>\n",
      "[u'villageoise', u'villageoises', u'villagEOIS', u'villagEOIs']\n",
      "vers <type 'unicode'>\n",
      "[u'vers']\n",
      "loup.A.N11 <type 'unicode'>\n",
      "[u'loup', u'loups']\n",
      "Mahira.C.N12 <type 'unicode'>\n",
      "[u'Mahira']\n",
      "cri.C.N22 <type 'unicode'>\n",
      "[u'cri', u'cris']\n",
      "transpercer.VT.V2 <type 'unicode'>\n",
      "[u'transpercer', u'transperce', u'transpercent', u'transper\\xe7ait', u'transper\\xe7aient']\n",
      "soeur.D.N11 <type 'unicode'>\n",
      "[u'soeur', u'soeurs', u's\\u0153ur', u's\\u0153urs']\n",
      "passer.VI.V2 <type 'unicode'>\n",
      "[u'passer', u'passe', u'passent', u'passait', u'passaient', u'passa', u'pass\\xe8rent']\n",
      "fille.A.N22 <type 'unicode'>\n",
      "[u'fille', u'filles']\n",
      "ombre.A.N22 <type 'unicode'>\n",
      "[u'ombre', u'ombres']\n",
      "devant <type 'unicode'>\n",
      "[u'devant']\n",
      "blessure.A.N21 <type 'unicode'>\n",
      "[u'blessure', u'blessures']\n",
      "dans <type 'unicode'>\n",
      "[u'dans']\n",
      "derrière <type 'unicode'>\n",
      "[u'derri\\xe8re']\n",
      "noir.A1 <type 'unicode'>\n",
      "[u'noir', u'noire', u'noirs', u'noires']\n",
      "dévorer.VT.V1 <type 'unicode'>\n",
      "[u'd\\xe9vorer', u'd\\xe9vore', u'd\\xe9vorent', u'd\\xe9vorait', u'd\\xe9voraient']\n",
      "planter.VT.V1 <type 'unicode'>\n",
      "[u'planter', u'plante', u'plantent', u'plantait', u'plantaient']\n",
      "être.VT.V1 <type 'unicode'>\n",
      "[u'\\xeatre', u'est', u'sont', u'\\xe9tait', u'\\xe9taient']\n",
      "couteau.D.N22 <type 'unicode'>\n",
      "[u'couteau', u'couteaux']\n",
      "serpent.C.N21 <type 'unicode'>\n",
      "[u'serpent', u'serpents']\n",
      "prendre.VT.V2 <type 'unicode'>\n",
      "[u'prendre', u'prend', u'prennent', u'prenait', u'prenaient']\n",
      "approcher.VI.V2 <type 'unicode'>\n",
      "[u'approcher', u'approche', u'approchent', u'approchait', u'approchaient']\n",
      "sort.A.N12 <type 'unicode'>\n",
      "[u'sort', u'sorts']\n",
      "tomber.VI.V1 <type 'unicode'>\n",
      "[u'tomber', u'tombe', u'tombent', u'tombait', u'tombaient']\n",
      "combattant.B.N22 <type 'unicode'>\n",
      "[u'combattant', u'combattants']\n",
      "nuit.D.N12 <type 'unicode'>\n",
      "[u'nuit', u'nuits']\n",
      "village.C.N11 <type 'unicode'>\n",
      "[u'village', u'villages']\n",
      "chef.D.N22 <type 'unicode'>\n",
      "[u'chef', u'chefs', u'cheffe', u'cheffes']\n",
      "différent.A2 <type 'unicode'>\n",
      "[u'diff\\xe9rent', u'diff\\xe9rents', u'diff\\xe9rente', u'diff\\xe9rentes']\n",
      "enfant.B.N12 <type 'unicode'>\n",
      "[u'enfant', u'enfANTs']\n",
      "chasser.VT.V2 <type 'unicode'>\n",
      "[u'chasser', u'chasse', u'chassent', u'chassait', u'chassaient']\n",
      "lueur.C.N11 <type 'unicode'>\n",
      "[u'lueur', u'lueurs']\n",
      "entre <type 'unicode'>\n",
      "[u'entre']\n",
      "petit.A2 <type 'unicode'>\n",
      "[u'petit', u'petite', u'petits', u'petites']\n",
      "Violette.B.N21 <type 'unicode'>\n",
      "[u'Violette']\n",
      "Kaleb.A.N21 <type 'unicode'>\n",
      "[u'Kaleb']\n",
      "apporter.VD.V1 <type 'unicode'>\n",
      "[u'apporter', u'apporte', u'apportent', u'apportait', u'apportaient', u'apporta', u'apport\\xe8rent']\n",
      "terrible.A2 <type 'unicode'>\n",
      "[u'terrible', u'terribles']\n"
     ]
    }
   ],
   "source": [
    "for element in PFM.lexique.lexemes:\n",
    "    print element, type(element)\n",
    "    print PFM.lexique.lexemes[element].formes"
   ]
  },
  {
   "cell_type": "code",
   "execution_count": 42,
   "metadata": {
    "collapsed": false
   },
   "outputs": [
    {
     "data": {
      "text/plain": [
       "zenoba, B.N12, enfant.B.N12\n",
       "\t\tzenoba :\n",
       "\t\t\tNOM, CF=N12,  Genre=B, Nombre=Sg, Cas=Erg:\tkezenobaa\t\\cacherGloses{Erg.N12-}enfant\\cacherGloses{.B.N12}\\cacherGloses{-Sg.N1}\tke-zenoba-a\tke\\textRadical{zenoba}a\n",
       "\t\t\tNOM, CF=N12,  Genre=B, Nombre=Sg, Cas=Abs:\tzenobaake\tenfant\\cacherGloses{.B.N12}\\cacherGloses{-Sg.N1}\\cacherGloses{-Abs.N12}\tzenoba-a-ke\t\\textRadical{zenoba}ake\n",
       "\t\t\tNOM, CF=N12,  Genre=B, Nombre=Sg, Cas=Dat:\tzenobaaso\tenfant\\cacherGloses{.B.N12}\\cacherGloses{-Sg.N1}\\cacherGloses{-Dat.N12}\tzenoba-a-so\t\\textRadical{zenoba}aso\n",
       "\t\t\tNOM, CF=N12,  Genre=B, Nombre=Sg, Cas=Obl:\tzenobaamu\tenfant\\cacherGloses{.B.N12}\\cacherGloses{-Sg.N1}\\cacherGloses{-Obl.N12}\tzenoba-a-mu\t\\textRadical{zenoba}amu\n",
       "\t\t\tNOM, CF=N12,  Genre=B, Nombre=Du, Cas=Erg:\tkezenobai\t\\cacherGloses{Erg.N12-}enfant\\cacherGloses{.B.N12}\\cacherGloses{-Du.N1}\tke-zenoba-i\tke\\textRadical{zenoba}i\n",
       "\t\t\tNOM, CF=N12,  Genre=B, Nombre=Du, Cas=Abs:\tzenobaike\tenfant\\cacherGloses{.B.N12}\\cacherGloses{-Du.N1}\\cacherGloses{-Abs.N12}\tzenoba-i-ke\t\\textRadical{zenoba}ike\n",
       "\t\t\tNOM, CF=N12,  Genre=B, Nombre=Du, Cas=Dat:\tzenobaiso\tenfant\\cacherGloses{.B.N12}\\cacherGloses{-Du.N1}\\cacherGloses{-Dat.N12}\tzenoba-i-so\t\\textRadical{zenoba}iso\n",
       "\t\t\tNOM, CF=N12,  Genre=B, Nombre=Du, Cas=Obl:\tzenobaimu\tenfant\\cacherGloses{.B.N12}\\cacherGloses{-Du.N1}\\cacherGloses{-Obl.N12}\tzenoba-i-mu\t\\textRadical{zenoba}imu\n",
       "\t\t\tNOM, CF=N12,  Genre=B, Nombre=Pl, Cas=Erg:\tkezennobe\t\\cacherGloses{Erg.N12-}enfant\\cacherGloses{.B.N12}\\cacherGloses{xPl.N1}\tke-racine(zenoba)x1V22A3e\tke\\textRacineC{z}\\textRacineV{e}\\textRacineC{n}\\textRacineC{n}o\\textRacineC{b}e\n",
       "\t\t\tNOM, CF=N12,  Genre=B, Nombre=Pl, Cas=Abs:\tzennobeke\tenfant\\cacherGloses{.B.N12}\\cacherGloses{xPl.N1}\\cacherGloses{-Abs.N12}\tracine(zenoba)x1V22A3e-ke\t\\textRacineC{z}\\textRacineV{e}\\textRacineC{n}\\textRacineC{n}o\\textRacineC{b}eke\n",
       "\t\t\tNOM, CF=N12,  Genre=B, Nombre=Pl, Cas=Dat:\tzennobeso\tenfant\\cacherGloses{.B.N12}\\cacherGloses{xPl.N1}\\cacherGloses{-Dat.N12}\tracine(zenoba)x1V22A3e-so\t\\textRacineC{z}\\textRacineV{e}\\textRacineC{n}\\textRacineC{n}o\\textRacineC{b}eso\n",
       "\t\t\tNOM, CF=N12,  Genre=B, Nombre=Pl, Cas=Obl:\tzennobemu\tenfant\\cacherGloses{.B.N12}\\cacherGloses{xPl.N1}\\cacherGloses{-Obl.N12}\tracine(zenoba)x1V22A3e-mu\t\\textRacineC{z}\\textRacineV{e}\\textRacineC{n}\\textRacineC{n}o\\textRacineC{b}emu"
      ]
     },
     "execution_count": 42,
     "metadata": {},
     "output_type": "execute_result"
    }
   ],
   "source": [
    "PFM.lexique.lexemes[\"enfant.B.N12\"]"
   ]
  },
  {
   "cell_type": "code",
   "execution_count": 43,
   "metadata": {
    "collapsed": false
   },
   "outputs": [],
   "source": [
    "#lexique.lexemes.keys()"
   ]
  },
  {
   "cell_type": "code",
   "execution_count": null,
   "metadata": {
    "collapsed": true
   },
   "outputs": [],
   "source": []
  }
 ],
 "metadata": {
  "kernelspec": {
   "display_name": "Python 2",
   "language": "python",
   "name": "python2"
  },
  "language_info": {
   "codemirror_mode": {
    "name": "ipython",
    "version": 2
   },
   "file_extension": ".py",
   "mimetype": "text/x-python",
   "name": "python",
   "nbconvert_exporter": "python",
   "pygments_lexer": "ipython2",
   "version": "2.7.11"
  }
 },
 "nbformat": 4,
 "nbformat_minor": 0
}

{
 "cells": [
  {
   "cell_type": "markdown",
   "metadata": {},
   "source": [
    "# ParFuMor (version YAML & Objets)"
   ]
  },
  {
   "cell_type": "code",
   "execution_count": 120,
   "metadata": {},
   "outputs": [],
   "source": [
    "# -*- coding: utf8 -*-\n",
    "from os.path import expanduser\n",
    "home = expanduser(\"~\")\n",
    "repertoire=home+\"/ownCloud/Cours/Bordeaux/L1-LinguistiqueGenerale/Kalaba-Project/16-K3\"\n",
    "repertoire=\"/Users/gilles/Dropbox/Partage-Broadway/GAM/Caches/NosCaches/Kalabas/K300\"\n",
    "serie=repertoire+\"/\"\n",
    "\n",
    "import yaml\n",
    "import itertools\n",
    "#import re\n",
    "import ParFuMor as PFM\n",
    "from ParFuMor import *\n",
    "import pickle"
   ]
  },
  {
   "cell_type": "code",
   "execution_count": 121,
   "metadata": {},
   "outputs": [],
   "source": [
    "with open(serie+\"Gloses.yaml\", 'r') as stream:\n",
    "    gloses=yaml.load(stream)\n",
    "    PFM.gloses=gloses\n",
    "with open(serie+\"Stems.yaml\", 'r') as stream:\n",
    "    stems=yaml.load(stream)\n",
    "    PFM.stems=stems\n",
    "with open(serie+\"Blocks.yaml\", 'r') as stream:\n",
    "    blocks=yaml.load(stream)\n",
    "    PFM.blocks=blocks\n",
    "with open(serie+\"Phonology.yaml\", 'r') as stream:\n",
    "    phonology=yaml.load(stream)\n",
    "    PFM.phonology=phonology\n",
    "with open(serie+\"MorphoSyntax.yaml\", 'r') as stream:\n",
    "    morphosyntax=yaml.load(stream)\n",
    "    PFM.morphosyntax=morphosyntax"
   ]
  },
  {
   "cell_type": "code",
   "execution_count": 122,
   "metadata": {},
   "outputs": [],
   "source": [
    "regles=Regles()\n",
    "PFM.regles=regles\n",
    "for categorie in blocks:\n",
    "    regles.addBlocs(categorie,blocks[categorie])\n"
   ]
  },
  {
   "cell_type": "code",
   "execution_count": 123,
   "metadata": {},
   "outputs": [],
   "source": [
    "paradigmes=Paradigmes()\n",
    "PFM.paradigmes=paradigmes"
   ]
  },
  {
   "cell_type": "code",
   "execution_count": 124,
   "metadata": {},
   "outputs": [],
   "source": [
    "hierarchieCF=HierarchieCF()\n",
    "PFM.hierarchieCF=hierarchieCF\n",
    "lexique=Lexique()\n",
    "PFM.lexique=lexique\n"
   ]
  },
  {
   "cell_type": "code",
   "execution_count": 125,
   "metadata": {},
   "outputs": [],
   "source": [
    "paradigmes=Paradigmes()\n",
    "PFM.paradigmes=paradigmes"
   ]
  },
  {
   "cell_type": "code",
   "execution_count": 126,
   "metadata": {},
   "outputs": [],
   "source": [
    "paradigmes=Paradigmes()\n",
    "PFM.paradigmes=paradigmes\n",
    "for cat in gloses:\n",
    "#    print cat\n",
    "    attributes=[]\n",
    "    if gloses[cat]:\n",
    "        if set(gloses[cat].keys())==set(morphosyntax[\"Attributs\"][cat]):\n",
    "            features=morphosyntax[\"Attributs\"][cat]\n",
    "#            print \"inhérent\",features\n",
    "        else:\n",
    "            features=gloses[cat].keys()\n",
    "#            print \"contextuel\",features\n",
    "        for attribute in features:\n",
    "            attributes.append(gloses[cat][attribute])\n",
    "        nuplets=(itertools.product(*attributes))\n",
    "        for nuplet in nuplets:\n",
    "            proprietes=[cat]\n",
    "            for element in range(len(nuplet)):\n",
    "                proprietes.append(u\"%s=%s\"%(features[element],nuplet[element]))\n",
    "            paradigmes.addForme(cat,proprietes)"
   ]
  },
  {
   "cell_type": "code",
   "execution_count": 127,
   "metadata": {},
   "outputs": [
    {
     "name": "stdout",
     "output_type": "stream",
     "text": [
      "VER : Trans Temps Pers Genre\n",
      "NOM : Genre Nombre Cas\n",
      "DET : Nombre Genre Cas\n",
      "ADJ : Genre Nombre\n",
      "head stems\n",
      "head stems,VER\n",
      "head stems,VER,VI\n",
      "head stems,VER,VT\n",
      "head stems,VER,VD\n",
      "head stems,NOM\n",
      "head stems,NOM,N1\n",
      "head stems,NOM,N1,N12\n",
      "head stems,NOM,N1,N11\n",
      "head stems,NOM,N2\n",
      "head stems,NOM,N2,N22\n",
      "head stems,NOM,N2,N21\n",
      "head stems,DET\n",
      "head stems,ADJ\n"
     ]
    }
   ],
   "source": [
    "analyserGloses(gloses)\n",
    "analyserStems(stems)"
   ]
  },
  {
   "cell_type": "code",
   "execution_count": 128,
   "metadata": {},
   "outputs": [],
   "source": [
    "with open(serie+\"Hierarchie-S2.pkl\", 'wb') as output:\n",
    "   pickle.dump(hierarchieCF, output, pickle.HIGHEST_PROTOCOL)\n",
    "with open(serie+\"Lexique-S2.pkl\", 'wb') as output:\n",
    "   pickle.dump(lexique, output, pickle.HIGHEST_PROTOCOL)\n",
    "with open(serie+\"Regles-S2.pkl\", 'wb') as output:\n",
    "   pickle.dump(regles, output, pickle.HIGHEST_PROTOCOL)\n"
   ]
  },
  {
   "cell_type": "code",
   "execution_count": 129,
   "metadata": {},
   "outputs": [
    {
     "name": "stdout",
     "output_type": "stream",
     "text": [
      "case PREP:\tTak\tdans\tTak\t\\textRadical{Tak}\tradical: Tak\tracine:  \n"
     ]
    },
    {
     "data": {
      "text/plain": [
       "Tak, PREP, DANS\n",
       "\t\tTak :\n",
       "\t\t\tPREP:\tTak\tdans\tTak\t\\textRadical{Tak}\tradical: Tak\tracine: "
      ]
     },
     "execution_count": 129,
     "metadata": {},
     "output_type": "execute_result"
    }
   ],
   "source": [
    "PFM.lexique.lexemes[\"dans\"]"
   ]
  },
  {
   "cell_type": "code",
   "execution_count": 130,
   "metadata": {},
   "outputs": [
    {
     "data": {
      "text/plain": [
       "[u'C']"
      ]
     },
     "execution_count": 130,
     "metadata": {},
     "output_type": "execute_result"
    }
   ],
   "source": [
    "mot=\"lOUPs\"\n",
    "classesNom=PFM.lexique.formeLexeme[mot][0].split('.')[1:]\n",
    "[classeElement for classeElement in classesNom if classeElement in gloses[\"NOM\"][\"Genre\"]]"
   ]
  },
  {
   "cell_type": "code",
   "execution_count": 131,
   "metadata": {},
   "outputs": [
    {
     "data": {
      "text/plain": [
       "u'villageois.hyper.N1.N12.C'"
      ]
     },
     "execution_count": 131,
     "metadata": {},
     "output_type": "execute_result"
    }
   ],
   "source": [
    "PFM.lexique.formeLexeme[\"villagEOIs\"][0]"
   ]
  },
  {
   "cell_type": "code",
   "execution_count": 132,
   "metadata": {
    "scrolled": true
   },
   "outputs": [],
   "source": [
    "#for element in PFM.lexique.lexemes:\n",
    "#    print element, type(element)\n",
    "#    print PFM.lexique.lexemes[element].formes"
   ]
  }
 ],
 "metadata": {
  "kernelspec": {
   "display_name": "Python 2",
   "language": "python",
   "name": "python2"
  },
  "language_info": {
   "codemirror_mode": {
    "name": "ipython",
    "version": 2
   },
   "file_extension": ".py",
   "mimetype": "text/x-python",
   "name": "python",
   "nbconvert_exporter": "python",
   "pygments_lexer": "ipython2",
   "version": "2.7.6"
  }
 },
 "nbformat": 4,
 "nbformat_minor": 1
}

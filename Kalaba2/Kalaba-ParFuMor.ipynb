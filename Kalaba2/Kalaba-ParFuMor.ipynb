{
 "cells": [
  {
   "cell_type": "markdown",
   "metadata": {},
   "source": [
    "# ParFuMor (version YAML & Objets)"
   ]
  },
  {
   "cell_type": "code",
   "execution_count": 25,
   "metadata": {
    "collapsed": false
   },
   "outputs": [],
   "source": [
    "# -*- coding: utf8 -*-\n",
    "from os.path import expanduser\n",
    "home = expanduser(\"~\")\n",
    "repertoire=home+\"/ownCloud/Cours/Bordeaux/L1-UE1/Kalaba-15/05-Devoir\"\n",
    "serie=repertoire+\"/\"\n",
    "\n",
    "import yaml\n",
    "import itertools\n",
    "#import re\n",
    "import ParFuMor as PFM\n",
    "from ParFuMor import *\n",
    "import pickle"
   ]
  },
  {
   "cell_type": "code",
   "execution_count": 26,
   "metadata": {
    "collapsed": false
   },
   "outputs": [],
   "source": [
    "with open(serie+\"Gloses.yaml\", 'r') as stream:\n",
    "    gloses=yaml.load(stream)\n",
    "    PFM.gloses=gloses\n",
    "with open(serie+\"Stems.yaml\", 'r') as stream:\n",
    "    stems=yaml.load(stream)\n",
    "    PFM.stems=stems\n",
    "with open(serie+\"Blocks.yaml\", 'r') as stream:\n",
    "    blocks=yaml.load(stream)\n",
    "    PFM.blocks=blocks\n",
    "with open(serie+\"Phonology.yaml\", 'r') as stream:\n",
    "    phonology=yaml.load(stream)\n",
    "    PFM.phonology=phonology\n",
    "with open(serie+\"MorphoSyntax.yaml\", 'r') as stream:\n",
    "    morphosyntax=yaml.load(stream)\n",
    "    PFM.morphosyntax=morphosyntax"
   ]
  },
  {
   "cell_type": "code",
   "execution_count": 27,
   "metadata": {
    "collapsed": false
   },
   "outputs": [],
   "source": [
    "regles=Regles()\n",
    "PFM.regles=regles\n",
    "for categorie in blocks:\n",
    "    regles.addBlocs(categorie,blocks[categorie])\n"
   ]
  },
  {
   "cell_type": "code",
   "execution_count": 28,
   "metadata": {
    "collapsed": false
   },
   "outputs": [],
   "source": [
    "paradigmes=Paradigmes()\n",
    "PFM.paradigmes=paradigmes"
   ]
  },
  {
   "cell_type": "code",
   "execution_count": 29,
   "metadata": {
    "collapsed": false
   },
   "outputs": [],
   "source": [
    "hierarchieCF=HierarchieCF()\n",
    "PFM.hierarchieCF=hierarchieCF\n",
    "lexique=Lexique()\n",
    "PFM.lexique=lexique\n"
   ]
  },
  {
   "cell_type": "code",
   "execution_count": 30,
   "metadata": {
    "collapsed": false
   },
   "outputs": [],
   "source": [
    "paradigmes=Paradigmes()\n",
    "PFM.paradigmes=paradigmes"
   ]
  },
  {
   "cell_type": "code",
   "execution_count": 31,
   "metadata": {
    "collapsed": false
   },
   "outputs": [],
   "source": [
    "paradigmes=Paradigmes()\n",
    "PFM.paradigmes=paradigmes\n",
    "for cat in gloses:\n",
    "#    print cat\n",
    "    attributes=[]\n",
    "    if gloses[cat]:\n",
    "        if set(gloses[cat].keys())==set(morphosyntax[\"Attributs\"][cat]):\n",
    "            features=morphosyntax[\"Attributs\"][cat]\n",
    "#            print \"inhérent\",features\n",
    "        else:\n",
    "            features=gloses[cat].keys()\n",
    "#            print \"contextuel\",features\n",
    "        for attribute in features:\n",
    "            attributes.append(gloses[cat][attribute])\n",
    "        nuplets=(itertools.product(*attributes))\n",
    "        for nuplet in nuplets:\n",
    "            proprietes=[cat]\n",
    "            for element in range(len(nuplet)):\n",
    "                proprietes.append(u\"%s=%s\"%(features[element],nuplet[element]))\n",
    "            paradigmes.addForme(cat,proprietes)"
   ]
  },
  {
   "cell_type": "code",
   "execution_count": 32,
   "metadata": {
    "collapsed": false
   },
   "outputs": [
    {
     "name": "stdout",
     "output_type": "stream",
     "text": [
      "VER : Trans Temps Pers Genre Nombre\n",
      "NOM : Genre Nombre Cas\n",
      "DET : Genre Cas\n",
      "ADJ : Genre Nombre Cas\n",
      "head stems\n",
      "head stems,ADJ\n",
      "head stems,NOM\n",
      "head stems,NOM,A\n",
      "head stems,NOM,C\n",
      "head stems,NOM,B\n",
      "head stems,NOM,D\n",
      "head stems,VER\n",
      "head stems,VER,VI\n",
      "head stems,VER,VT\n",
      "head stems,VER,VD\n"
     ]
    }
   ],
   "source": [
    "analyserGloses(gloses)\n",
    "analyserStems(stems)"
   ]
  },
  {
   "cell_type": "code",
   "execution_count": 33,
   "metadata": {
    "collapsed": false
   },
   "outputs": [],
   "source": [
    "with open(serie+\"Hierarchie-S2.pkl\", 'wb') as output:\n",
    "   pickle.dump(hierarchieCF, output, pickle.HIGHEST_PROTOCOL)\n",
    "with open(serie+\"Lexique-S2.pkl\", 'wb') as output:\n",
    "   pickle.dump(lexique, output, pickle.HIGHEST_PROTOCOL)\n",
    "with open(serie+\"Regles-S2.pkl\", 'wb') as output:\n",
    "   pickle.dump(regles, output, pickle.HIGHEST_PROTOCOL)\n"
   ]
  },
  {
   "cell_type": "code",
   "execution_count": 34,
   "metadata": {
    "collapsed": true
   },
   "outputs": [],
   "source": [
    "#def chaine2utf8(chaine):\n",
    "#    if type(chaine)==str:\n",
    "#        result=unicode(chaine.decode('utf8'))\n",
    "#    elif type(chaine)==unicode:\n",
    "#        result=chaine\n",
    "#    return result"
   ]
  },
  {
   "cell_type": "code",
   "execution_count": 35,
   "metadata": {
    "collapsed": false
   },
   "outputs": [],
   "source": [
    "#u\"rêvasser.I.VI\" in PFM.lexique.lexemes"
   ]
  },
  {
   "cell_type": "code",
   "execution_count": 36,
   "metadata": {
    "collapsed": false,
    "scrolled": true
   },
   "outputs": [
    {
     "name": "stdout",
     "output_type": "stream",
     "text": [
      "chasseur.D.N2 <type 'unicode'>\n",
      "[u'chasseur', u'chasseurs']\n",
      "entrer.VI.V1 <type 'unicode'>\n",
      "[u'entrer', u'entre', u'entrent', u'entrait', u'entraient']\n",
      "acheter.VD.V2 <type 'unicode'>\n",
      "[u'acheter', u'ach\\xe8te', u'ach\\xe8tent', u'achetait', u'achetaient']\n",
      "Nicole.B.N1 <type 'unicode'>\n",
      "[u'Nicole', u'Nicoles']\n",
      "manger.VT.V1 <type 'unicode'>\n",
      "[u'manger', u'mange', u'mangent', u'mangeait', u'mangeaient']\n",
      "gros.A1 <type 'unicode'>\n",
      "[u'gros', u'grosse', u'grosses']\n",
      "chat.A.N3 <type 'unicode'>\n",
      "[u'chat', u'chats']\n",
      "offrir.VD.V3 <type 'unicode'>\n",
      "[u'offrir', u'offre', u'offrent', u'offrait', u'offraient']\n",
      "Nabil.D.N1 <type 'unicode'>\n",
      "[u'Nabil', u'Nabils']\n",
      "dormir.VI.V2 <type 'unicode'>\n",
      "[u'dormir', u'dort', u'dorment', u'dormait', u'dormaient']\n",
      "DEM <type 'unicode'>\n",
      "[u'DEM', u'ce', u'cet', u'cette', u'ces']\n",
      "fruit.B.N3 <type 'unicode'>\n",
      "[u'fruit', u'fruits']\n",
      "quatre.A2 <type 'unicode'>\n",
      "[u'quatre']\n",
      "chasser.VT.V2 <type 'unicode'>\n",
      "[u'chasser', u'chasse', u'chassent', u'chassait', u'chassaient']\n",
      "DEF <type 'unicode'>\n",
      "[u'DEF', u'le', u'la', u'les', u'l']\n",
      "café.D.N2 <type 'unicode'>\n",
      "[u'caf\\xe9', u'caf\\xe9s']\n",
      "plaine.C.N2 <type 'unicode'>\n",
      "[u'plaine', u'plaines']\n",
      "Katisha.C.N1 <type 'unicode'>\n",
      "[u'Katisha', u'Katishas']\n",
      "avec <type 'unicode'>\n",
      "[u'avec']\n",
      "table.B.N1 <type 'unicode'>\n",
      "[u'table', u'tables']\n",
      "autruche.A.N2 <type 'unicode'>\n",
      "[u'autruche', u'autruches']\n",
      "sur <type 'unicode'>\n",
      "[u'sur']\n",
      "poisson.C.N3 <type 'unicode'>\n",
      "[u'poisson', u'poissons']\n",
      "œuf.D.N2 <type 'unicode'>\n",
      "[u'\\u0153uf', u'oeuf', u'\\u0153ufs', u'oeufs']\n",
      "balai.C.N3 <type 'unicode'>\n",
      "[u'balai', u'balais']\n",
      "coussin.C.N3 <type 'unicode'>\n",
      "[u'coussin', u'coussins']\n",
      "arriver.VI.V1 <type 'unicode'>\n",
      "[u'arriver', u'arrive', u'arrivent', u'arrivait', u'arrivaient']\n",
      "chambre.B.N1 <type 'unicode'>\n",
      "[u'chambre', u'chambres']\n",
      "viande.C.N1 <type 'unicode'>\n",
      "[u'viande', u'viandes']\n",
      "grand.A1 <type 'unicode'>\n",
      "[u'grand', u'grande', u'grands', u'grandes']\n",
      "lancer.VD.V1 <type 'unicode'>\n",
      "[u'lancer', u'lance', u'lancent', u'lan\\xe7ait', u'lan\\xe7aient']\n",
      "boire.VT.V1 <type 'unicode'>\n",
      "[u'boire', u'boit', u'boivent', u'buvait', u'buvaient']\n",
      "à <type 'unicode'>\n",
      "[u'\\xe0']\n",
      "bas.A1 <type 'unicode'>\n",
      "[u'bas', u'basse', u'basses']\n",
      "jaune.A2 <type 'unicode'>\n",
      "[u'jaune', u'jaunes']\n",
      "de <type 'unicode'>\n",
      "[u'de', u'd']\n",
      "deux.A2 <type 'unicode'>\n",
      "[u'deux']\n",
      "donner.VD.V3 <type 'unicode'>\n",
      "[u'donner', u'donne', u'donnent', u'donnait', u'donnaient']\n",
      "fille.B.N2 <type 'unicode'>\n",
      "[u'fille', u'filles']\n",
      "thé.D.N1 <type 'unicode'>\n",
      "[u'th\\xe9', u'th\\xe9s']\n",
      "chatte.B.N3 <type 'unicode'>\n",
      "[u'chatte', u'chattes']\n",
      "trois.A2 <type 'unicode'>\n",
      "[u'trois']\n",
      "village.A.N1 <type 'unicode'>\n",
      "[u'village', u'villages']\n",
      "blanc.A1 <type 'unicode'>\n",
      "[u'blanc', u'blanche', u'blancs', u'blanches']\n",
      "infirmière.C.N2 <type 'unicode'>\n",
      "[u'infirmi\\xe8re', u'infirmi\\xe8res']\n",
      "garçon.A.N1 <type 'unicode'>\n",
      "[u'gar\\xe7on', u'gar\\xe7ons']\n",
      "cuisine.B.N2 <type 'unicode'>\n",
      "[u'cuisine', u'cuisines']\n",
      "rouge.A2 <type 'unicode'>\n",
      "[u'rouge', u'rouges']\n",
      "lit.A.N3 <type 'unicode'>\n",
      "[u'lit', u'lits']\n",
      "petit.A1 <type 'unicode'>\n",
      "[u'petit', u'petite', u'petits', u'petites']\n",
      "devant <type 'unicode'>\n",
      "[u'devant']\n",
      "montrer.VD.V1 <type 'unicode'>\n",
      "[u'montrer', u'montre', u'montrent', u'montrait', u'montraient']\n",
      "supporter.VT.V3 <type 'unicode'>\n",
      "[u'supporter', u'supporte', u'supportent', u'supportait', u'supportaient']\n",
      "rêvasser.VI.V2 <type 'unicode'>\n",
      "[u'r\\xeavasser', u'r\\xeavasse', u'r\\xeavassent', u'r\\xeavassait', u'r\\xeavassaient']\n",
      "dans <type 'unicode'>\n",
      "[u'dans']\n",
      "maigre.A2 <type 'unicode'>\n",
      "[u'maigre', u'maigres']\n",
      "pour <type 'unicode'>\n",
      "[u'pour']\n",
      "sous <type 'unicode'>\n",
      "[u'sous']\n",
      "maison.B.N3 <type 'unicode'>\n",
      "[u'maison', u'maisons']\n",
      "souris.A.N2 <type 'unicode'>\n",
      "[u'souris', u'souriS']\n",
      "noir.A1 <type 'unicode'>\n",
      "[u'noir', u'noire', u'noirs', u'noires']\n",
      "IND <type 'unicode'>\n",
      "[u'IND', u'un', u'une', u'des']\n",
      "tomber.VI.V3 <type 'unicode'>\n",
      "[u'tomber', u'tombe', u'tombent', u'tombait', u'tombaient']\n",
      "coyote.D.N1 <type 'unicode'>\n",
      "[u'coyote', u'coyotes']\n"
     ]
    }
   ],
   "source": [
    "for element in PFM.lexique.lexemes:\n",
    "    print element, type(element)\n",
    "    print PFM.lexique.lexemes[element].formes"
   ]
  },
  {
   "cell_type": "code",
   "execution_count": 37,
   "metadata": {
    "collapsed": false
   },
   "outputs": [
    {
     "data": {
      "text/plain": [
       "venad, VD.V2, acheter.VD.V2\n",
       "\t\tvenad :\n",
       "\t\t\tVER, CF=V2,  Trans=VD, Temps=PRS, Pers=3Sg, Genre=A, Nombre=Sg:\tlavenadi\t\\cacherGloses{3Sg.A+}acheter\\cacherGloses{.VD.V2}\\cacherGloses{+3Sg.A}\tla+venad+i\tla\\textRadical{venad}i\n",
       "\t\t\tVER, CF=V2,  Trans=VD, Temps=PRS, Pers=3Sg, Genre=A, Nombre=Du:\tlavenadi\t\\cacherGloses{3Sg.A+}acheter\\cacherGloses{.VD.V2}\\cacherGloses{+3Sg.A}\tla+venad+i\tla\\textRadical{venad}i\n",
       "\t\t\tVER, CF=V2,  Trans=VD, Temps=PRS, Pers=3Sg, Genre=A, Nombre=Pl:\tlavenadini\t\\cacherGloses{3Sg.A+}acheter\\cacherGloses{.VD.V2}\\cacherGloses{-A.Pl}\\cacherGloses{+3Sg.A}\tla+venad-in+i\tla\\textRadical{venad}ini\n",
       "\t\t\tVER, CF=V2,  Trans=VD, Temps=PRS, Pers=3Sg, Genre=B, Nombre=Sg:\tvenadod\tacheter\\cacherGloses{.VD.V2}\\cacherGloses{-B}\tvenad-od\t\\textRadical{venad}od\n",
       "\t\t\tVER, CF=V2,  Trans=VD, Temps=PRS, Pers=3Sg, Genre=B, Nombre=Du:\tvenadod\tacheter\\cacherGloses{.VD.V2}\\cacherGloses{-B}\tvenad-od\t\\textRadical{venad}od\n",
       "\t\t\tVER, CF=V2,  Trans=VD, Temps=PRS, Pers=3Sg, Genre=B, Nombre=Pl:\tvenadod\tacheter\\cacherGloses{.VD.V2}\\cacherGloses{-B}\tvenad-od\t\\textRadical{venad}od\n",
       "\t\t\tVER, CF=V2,  Trans=VD, Temps=PRS, Pers=3Sg, Genre=C, Nombre=Sg:\tvenadeb\tacheter\\cacherGloses{.VD.V2}\\cacherGloses{-C}\tvenad-eb\t\\textRadical{venad}eb\n",
       "\t\t\tVER, CF=V2,  Trans=VD, Temps=PRS, Pers=3Sg, Genre=C, Nombre=Du:\tvenadeb\tacheter\\cacherGloses{.VD.V2}\\cacherGloses{-C}\tvenad-eb\t\\textRadical{venad}eb\n",
       "\t\t\tVER, CF=V2,  Trans=VD, Temps=PRS, Pers=3Sg, Genre=C, Nombre=Pl:\tvenadeb\tacheter\\cacherGloses{.VD.V2}\\cacherGloses{-C}\tvenad-eb\t\\textRadical{venad}eb\n",
       "\t\t\tVER, CF=V2,  Trans=VD, Temps=PRS, Pers=3Sg, Genre=D, Nombre=Sg:\tvenadam\tacheter\\cacherGloses{.VD.V2}\\cacherGloses{-D}\tvenad-am\t\\textRadical{venad}am\n",
       "\t\t\tVER, CF=V2,  Trans=VD, Temps=PRS, Pers=3Sg, Genre=D, Nombre=Du:\tvenadam\tacheter\\cacherGloses{.VD.V2}\\cacherGloses{-D}\tvenad-am\t\\textRadical{venad}am\n",
       "\t\t\tVER, CF=V2,  Trans=VD, Temps=PRS, Pers=3Sg, Genre=D, Nombre=Pl:\tvenadam\tacheter\\cacherGloses{.VD.V2}\\cacherGloses{-D}\tvenad-am\t\\textRadical{venad}am\n",
       "\t\t\tVER, CF=V2,  Trans=VD, Temps=PRS, Pers=3Du, Genre=A, Nombre=Sg:\tkevenado\t\\cacherGloses{3Du+}acheter\\cacherGloses{.VD.V2}\\cacherGloses{+3Du}\tke+venad+o\tke\\textRadical{venad}o\n",
       "\t\t\tVER, CF=V2,  Trans=VD, Temps=PRS, Pers=3Du, Genre=A, Nombre=Du:\tkevenado\t\\cacherGloses{3Du+}acheter\\cacherGloses{.VD.V2}\\cacherGloses{+3Du}\tke+venad+o\tke\\textRadical{venad}o\n",
       "\t\t\tVER, CF=V2,  Trans=VD, Temps=PRS, Pers=3Du, Genre=A, Nombre=Pl:\tkevenadino\t\\cacherGloses{3Du+}acheter\\cacherGloses{.VD.V2}\\cacherGloses{-A.Pl}\\cacherGloses{+3Du}\tke+venad-in+o\tke\\textRadical{venad}ino\n",
       "\t\t\tVER, CF=V2,  Trans=VD, Temps=PRS, Pers=3Du, Genre=B, Nombre=Sg:\tkevenadodo\t\\cacherGloses{3Du+}acheter\\cacherGloses{.VD.V2}\\cacherGloses{-B}\\cacherGloses{+3Du}\tke+venad-od+o\tke\\textRadical{venad}odo\n",
       "\t\t\tVER, CF=V2,  Trans=VD, Temps=PRS, Pers=3Du, Genre=B, Nombre=Du:\tkevenadodo\t\\cacherGloses{3Du+}acheter\\cacherGloses{.VD.V2}\\cacherGloses{-B}\\cacherGloses{+3Du}\tke+venad-od+o\tke\\textRadical{venad}odo\n",
       "\t\t\tVER, CF=V2,  Trans=VD, Temps=PRS, Pers=3Du, Genre=B, Nombre=Pl:\tkevenadodo\t\\cacherGloses{3Du+}acheter\\cacherGloses{.VD.V2}\\cacherGloses{-B}\\cacherGloses{+3Du}\tke+venad-od+o\tke\\textRadical{venad}odo\n",
       "\t\t\tVER, CF=V2,  Trans=VD, Temps=PRS, Pers=3Du, Genre=C, Nombre=Sg:\tkevenadebo\t\\cacherGloses{3Du+}acheter\\cacherGloses{.VD.V2}\\cacherGloses{-C}\\cacherGloses{+3Du}\tke+venad-eb+o\tke\\textRadical{venad}ebo\n",
       "\t\t\tVER, CF=V2,  Trans=VD, Temps=PRS, Pers=3Du, Genre=C, Nombre=Du:\tkevenadebo\t\\cacherGloses{3Du+}acheter\\cacherGloses{.VD.V2}\\cacherGloses{-C}\\cacherGloses{+3Du}\tke+venad-eb+o\tke\\textRadical{venad}ebo\n",
       "\t\t\tVER, CF=V2,  Trans=VD, Temps=PRS, Pers=3Du, Genre=C, Nombre=Pl:\tkevenadebo\t\\cacherGloses{3Du+}acheter\\cacherGloses{.VD.V2}\\cacherGloses{-C}\\cacherGloses{+3Du}\tke+venad-eb+o\tke\\textRadical{venad}ebo\n",
       "\t\t\tVER, CF=V2,  Trans=VD, Temps=PRS, Pers=3Du, Genre=D, Nombre=Sg:\tkevenadamo\t\\cacherGloses{3Du+}acheter\\cacherGloses{.VD.V2}\\cacherGloses{-D}\\cacherGloses{+3Du}\tke+venad-am+o\tke\\textRadical{venad}amo\n",
       "\t\t\tVER, CF=V2,  Trans=VD, Temps=PRS, Pers=3Du, Genre=D, Nombre=Du:\tkevenadamo\t\\cacherGloses{3Du+}acheter\\cacherGloses{.VD.V2}\\cacherGloses{-D}\\cacherGloses{+3Du}\tke+venad-am+o\tke\\textRadical{venad}amo\n",
       "\t\t\tVER, CF=V2,  Trans=VD, Temps=PRS, Pers=3Du, Genre=D, Nombre=Pl:\tkevenadamo\t\\cacherGloses{3Du+}acheter\\cacherGloses{.VD.V2}\\cacherGloses{-D}\\cacherGloses{+3Du}\tke+venad-am+o\tke\\textRadical{venad}amo\n",
       "\t\t\tVER, CF=V2,  Trans=VD, Temps=PRS, Pers=3Pl, Genre=A, Nombre=Sg:\tbovenade\t\\cacherGloses{3Pl+}acheter\\cacherGloses{.VD.V2}\\cacherGloses{+3Pl}\tbo+venad+e\tbo\\textRadical{venad}e\n",
       "\t\t\tVER, CF=V2,  Trans=VD, Temps=PRS, Pers=3Pl, Genre=A, Nombre=Du:\tbovenade\t\\cacherGloses{3Pl+}acheter\\cacherGloses{.VD.V2}\\cacherGloses{+3Pl}\tbo+venad+e\tbo\\textRadical{venad}e\n",
       "\t\t\tVER, CF=V2,  Trans=VD, Temps=PRS, Pers=3Pl, Genre=A, Nombre=Pl:\tbovenadine\t\\cacherGloses{3Pl+}acheter\\cacherGloses{.VD.V2}\\cacherGloses{-A.Pl}\\cacherGloses{+3Pl}\tbo+venad-in+e\tbo\\textRadical{venad}ine\n",
       "\t\t\tVER, CF=V2,  Trans=VD, Temps=PRS, Pers=3Pl, Genre=B, Nombre=Sg:\tbovenadode\t\\cacherGloses{3Pl+}acheter\\cacherGloses{.VD.V2}\\cacherGloses{-B}\\cacherGloses{+3Pl}\tbo+venad-od+e\tbo\\textRadical{venad}ode\n",
       "\t\t\tVER, CF=V2,  Trans=VD, Temps=PRS, Pers=3Pl, Genre=B, Nombre=Du:\tbovenadode\t\\cacherGloses{3Pl+}acheter\\cacherGloses{.VD.V2}\\cacherGloses{-B}\\cacherGloses{+3Pl}\tbo+venad-od+e\tbo\\textRadical{venad}ode\n",
       "\t\t\tVER, CF=V2,  Trans=VD, Temps=PRS, Pers=3Pl, Genre=B, Nombre=Pl:\tbovenadode\t\\cacherGloses{3Pl+}acheter\\cacherGloses{.VD.V2}\\cacherGloses{-B}\\cacherGloses{+3Pl}\tbo+venad-od+e\tbo\\textRadical{venad}ode\n",
       "\t\t\tVER, CF=V2,  Trans=VD, Temps=PRS, Pers=3Pl, Genre=C, Nombre=Sg:\ttivenadebu\t\\cacherGloses{3Pl.C+}acheter\\cacherGloses{.VD.V2}\\cacherGloses{-C}\\cacherGloses{+3Pl.C}\tti+venad-eb+u\tti\\textRadical{venad}ebu\n",
       "\t\t\tVER, CF=V2,  Trans=VD, Temps=PRS, Pers=3Pl, Genre=C, Nombre=Du:\ttivenadebu\t\\cacherGloses{3Pl.C+}acheter\\cacherGloses{.VD.V2}\\cacherGloses{-C}\\cacherGloses{+3Pl.C}\tti+venad-eb+u\tti\\textRadical{venad}ebu\n",
       "\t\t\tVER, CF=V2,  Trans=VD, Temps=PRS, Pers=3Pl, Genre=C, Nombre=Pl:\ttivenadebu\t\\cacherGloses{3Pl.C+}acheter\\cacherGloses{.VD.V2}\\cacherGloses{-C}\\cacherGloses{+3Pl.C}\tti+venad-eb+u\tti\\textRadical{venad}ebu\n",
       "\t\t\tVER, CF=V2,  Trans=VD, Temps=PRS, Pers=3Pl, Genre=D, Nombre=Sg:\tbovenadame\t\\cacherGloses{3Pl+}acheter\\cacherGloses{.VD.V2}\\cacherGloses{-D}\\cacherGloses{+3Pl}\tbo+venad-am+e\tbo\\textRadical{venad}ame\n",
       "\t\t\tVER, CF=V2,  Trans=VD, Temps=PRS, Pers=3Pl, Genre=D, Nombre=Du:\tbovenadame\t\\cacherGloses{3Pl+}acheter\\cacherGloses{.VD.V2}\\cacherGloses{-D}\\cacherGloses{+3Pl}\tbo+venad-am+e\tbo\\textRadical{venad}ame\n",
       "\t\t\tVER, CF=V2,  Trans=VD, Temps=PRS, Pers=3Pl, Genre=D, Nombre=Pl:\tbovenadame\t\\cacherGloses{3Pl+}acheter\\cacherGloses{.VD.V2}\\cacherGloses{-D}\\cacherGloses{+3Pl}\tbo+venad-am+e\tbo\\textRadical{venad}ame\n",
       "\t\t\tVER, CF=V2,  Trans=VD, Temps=PST, Pers=3Sg, Genre=A, Nombre=Sg:\tladuvonnedi\t\\cacherGloses{3Sg.A+}acheter\\cacherGloses{.VD.V2}\\cacherGloses{xPST}\\cacherGloses{+3Sg.A}\tla+racine(venad)xdu1A22V3+i\tladu\\textRacineC{v}o\\textRacineC{n}\\textRacineC{n}\\textRacineV{e}\\textRacineC{d}i\n",
       "\t\t\tVER, CF=V2,  Trans=VD, Temps=PST, Pers=3Sg, Genre=A, Nombre=Du:\tladuvonnedi\t\\cacherGloses{3Sg.A+}acheter\\cacherGloses{.VD.V2}\\cacherGloses{xPST}\\cacherGloses{+3Sg.A}\tla+racine(venad)xdu1A22V3+i\tladu\\textRacineC{v}o\\textRacineC{n}\\textRacineC{n}\\textRacineV{e}\\textRacineC{d}i\n",
       "\t\t\tVER, CF=V2,  Trans=VD, Temps=PST, Pers=3Sg, Genre=A, Nombre=Pl:\tladuvonnedini\t\\cacherGloses{3Sg.A+}acheter\\cacherGloses{.VD.V2}\\cacherGloses{xPST}\\cacherGloses{-A.Pl}\\cacherGloses{+3Sg.A}\tla+racine(venad)xdu1A22V3-in+i\tladu\\textRacineC{v}o\\textRacineC{n}\\textRacineC{n}\\textRacineV{e}\\textRacineC{d}ini\n",
       "\t\t\tVER, CF=V2,  Trans=VD, Temps=PST, Pers=3Sg, Genre=B, Nombre=Sg:\tduvonnedod\tacheter\\cacherGloses{.VD.V2}\\cacherGloses{xPST}\\cacherGloses{-B}\tracine(venad)xdu1A22V3-od\tdu\\textRacineC{v}o\\textRacineC{n}\\textRacineC{n}\\textRacineV{e}\\textRacineC{d}od\n",
       "\t\t\tVER, CF=V2,  Trans=VD, Temps=PST, Pers=3Sg, Genre=B, Nombre=Du:\tduvonnedod\tacheter\\cacherGloses{.VD.V2}\\cacherGloses{xPST}\\cacherGloses{-B}\tracine(venad)xdu1A22V3-od\tdu\\textRacineC{v}o\\textRacineC{n}\\textRacineC{n}\\textRacineV{e}\\textRacineC{d}od\n",
       "\t\t\tVER, CF=V2,  Trans=VD, Temps=PST, Pers=3Sg, Genre=B, Nombre=Pl:\tduvonnedod\tacheter\\cacherGloses{.VD.V2}\\cacherGloses{xPST}\\cacherGloses{-B}\tracine(venad)xdu1A22V3-od\tdu\\textRacineC{v}o\\textRacineC{n}\\textRacineC{n}\\textRacineV{e}\\textRacineC{d}od\n",
       "\t\t\tVER, CF=V2,  Trans=VD, Temps=PST, Pers=3Sg, Genre=C, Nombre=Sg:\tduvonnedeb\tacheter\\cacherGloses{.VD.V2}\\cacherGloses{xPST}\\cacherGloses{-C}\tracine(venad)xdu1A22V3-eb\tdu\\textRacineC{v}o\\textRacineC{n}\\textRacineC{n}\\textRacineV{e}\\textRacineC{d}eb\n",
       "\t\t\tVER, CF=V2,  Trans=VD, Temps=PST, Pers=3Sg, Genre=C, Nombre=Du:\tduvonnedeb\tacheter\\cacherGloses{.VD.V2}\\cacherGloses{xPST}\\cacherGloses{-C}\tracine(venad)xdu1A22V3-eb\tdu\\textRacineC{v}o\\textRacineC{n}\\textRacineC{n}\\textRacineV{e}\\textRacineC{d}eb\n",
       "\t\t\tVER, CF=V2,  Trans=VD, Temps=PST, Pers=3Sg, Genre=C, Nombre=Pl:\tduvonnedeb\tacheter\\cacherGloses{.VD.V2}\\cacherGloses{xPST}\\cacherGloses{-C}\tracine(venad)xdu1A22V3-eb\tdu\\textRacineC{v}o\\textRacineC{n}\\textRacineC{n}\\textRacineV{e}\\textRacineC{d}eb\n",
       "\t\t\tVER, CF=V2,  Trans=VD, Temps=PST, Pers=3Sg, Genre=D, Nombre=Sg:\tduvonnedam\tacheter\\cacherGloses{.VD.V2}\\cacherGloses{xPST}\\cacherGloses{-D}\tracine(venad)xdu1A22V3-am\tdu\\textRacineC{v}o\\textRacineC{n}\\textRacineC{n}\\textRacineV{e}\\textRacineC{d}am\n",
       "\t\t\tVER, CF=V2,  Trans=VD, Temps=PST, Pers=3Sg, Genre=D, Nombre=Du:\tduvonnedam\tacheter\\cacherGloses{.VD.V2}\\cacherGloses{xPST}\\cacherGloses{-D}\tracine(venad)xdu1A22V3-am\tdu\\textRacineC{v}o\\textRacineC{n}\\textRacineC{n}\\textRacineV{e}\\textRacineC{d}am\n",
       "\t\t\tVER, CF=V2,  Trans=VD, Temps=PST, Pers=3Sg, Genre=D, Nombre=Pl:\tduvonnedam\tacheter\\cacherGloses{.VD.V2}\\cacherGloses{xPST}\\cacherGloses{-D}\tracine(venad)xdu1A22V3-am\tdu\\textRacineC{v}o\\textRacineC{n}\\textRacineC{n}\\textRacineV{e}\\textRacineC{d}am\n",
       "\t\t\tVER, CF=V2,  Trans=VD, Temps=PST, Pers=3Du, Genre=A, Nombre=Sg:\tkeduvonnedo\t\\cacherGloses{3Du+}acheter\\cacherGloses{.VD.V2}\\cacherGloses{xPST}\\cacherGloses{+3Du}\tke+racine(venad)xdu1A22V3+o\tkedu\\textRacineC{v}o\\textRacineC{n}\\textRacineC{n}\\textRacineV{e}\\textRacineC{d}o\n",
       "\t\t\tVER, CF=V2,  Trans=VD, Temps=PST, Pers=3Du, Genre=A, Nombre=Du:\tkeduvonnedo\t\\cacherGloses{3Du+}acheter\\cacherGloses{.VD.V2}\\cacherGloses{xPST}\\cacherGloses{+3Du}\tke+racine(venad)xdu1A22V3+o\tkedu\\textRacineC{v}o\\textRacineC{n}\\textRacineC{n}\\textRacineV{e}\\textRacineC{d}o\n",
       "\t\t\tVER, CF=V2,  Trans=VD, Temps=PST, Pers=3Du, Genre=A, Nombre=Pl:\tkeduvonnedino\t\\cacherGloses{3Du+}acheter\\cacherGloses{.VD.V2}\\cacherGloses{xPST}\\cacherGloses{-A.Pl}\\cacherGloses{+3Du}\tke+racine(venad)xdu1A22V3-in+o\tkedu\\textRacineC{v}o\\textRacineC{n}\\textRacineC{n}\\textRacineV{e}\\textRacineC{d}ino\n",
       "\t\t\tVER, CF=V2,  Trans=VD, Temps=PST, Pers=3Du, Genre=B, Nombre=Sg:\tkeduvonnedodo\t\\cacherGloses{3Du+}acheter\\cacherGloses{.VD.V2}\\cacherGloses{xPST}\\cacherGloses{-B}\\cacherGloses{+3Du}\tke+racine(venad)xdu1A22V3-od+o\tkedu\\textRacineC{v}o\\textRacineC{n}\\textRacineC{n}\\textRacineV{e}\\textRacineC{d}odo\n",
       "\t\t\tVER, CF=V2,  Trans=VD, Temps=PST, Pers=3Du, Genre=B, Nombre=Du:\tkeduvonnedodo\t\\cacherGloses{3Du+}acheter\\cacherGloses{.VD.V2}\\cacherGloses{xPST}\\cacherGloses{-B}\\cacherGloses{+3Du}\tke+racine(venad)xdu1A22V3-od+o\tkedu\\textRacineC{v}o\\textRacineC{n}\\textRacineC{n}\\textRacineV{e}\\textRacineC{d}odo\n",
       "\t\t\tVER, CF=V2,  Trans=VD, Temps=PST, Pers=3Du, Genre=B, Nombre=Pl:\tkeduvonnedodo\t\\cacherGloses{3Du+}acheter\\cacherGloses{.VD.V2}\\cacherGloses{xPST}\\cacherGloses{-B}\\cacherGloses{+3Du}\tke+racine(venad)xdu1A22V3-od+o\tkedu\\textRacineC{v}o\\textRacineC{n}\\textRacineC{n}\\textRacineV{e}\\textRacineC{d}odo\n",
       "\t\t\tVER, CF=V2,  Trans=VD, Temps=PST, Pers=3Du, Genre=C, Nombre=Sg:\tkeduvonnedebo\t\\cacherGloses{3Du+}acheter\\cacherGloses{.VD.V2}\\cacherGloses{xPST}\\cacherGloses{-C}\\cacherGloses{+3Du}\tke+racine(venad)xdu1A22V3-eb+o\tkedu\\textRacineC{v}o\\textRacineC{n}\\textRacineC{n}\\textRacineV{e}\\textRacineC{d}ebo\n",
       "\t\t\tVER, CF=V2,  Trans=VD, Temps=PST, Pers=3Du, Genre=C, Nombre=Du:\tkeduvonnedebo\t\\cacherGloses{3Du+}acheter\\cacherGloses{.VD.V2}\\cacherGloses{xPST}\\cacherGloses{-C}\\cacherGloses{+3Du}\tke+racine(venad)xdu1A22V3-eb+o\tkedu\\textRacineC{v}o\\textRacineC{n}\\textRacineC{n}\\textRacineV{e}\\textRacineC{d}ebo\n",
       "\t\t\tVER, CF=V2,  Trans=VD, Temps=PST, Pers=3Du, Genre=C, Nombre=Pl:\tkeduvonnedebo\t\\cacherGloses{3Du+}acheter\\cacherGloses{.VD.V2}\\cacherGloses{xPST}\\cacherGloses{-C}\\cacherGloses{+3Du}\tke+racine(venad)xdu1A22V3-eb+o\tkedu\\textRacineC{v}o\\textRacineC{n}\\textRacineC{n}\\textRacineV{e}\\textRacineC{d}ebo\n",
       "\t\t\tVER, CF=V2,  Trans=VD, Temps=PST, Pers=3Du, Genre=D, Nombre=Sg:\tkeduvonnedamo\t\\cacherGloses{3Du+}acheter\\cacherGloses{.VD.V2}\\cacherGloses{xPST}\\cacherGloses{-D}\\cacherGloses{+3Du}\tke+racine(venad)xdu1A22V3-am+o\tkedu\\textRacineC{v}o\\textRacineC{n}\\textRacineC{n}\\textRacineV{e}\\textRacineC{d}amo\n",
       "\t\t\tVER, CF=V2,  Trans=VD, Temps=PST, Pers=3Du, Genre=D, Nombre=Du:\tkeduvonnedamo\t\\cacherGloses{3Du+}acheter\\cacherGloses{.VD.V2}\\cacherGloses{xPST}\\cacherGloses{-D}\\cacherGloses{+3Du}\tke+racine(venad)xdu1A22V3-am+o\tkedu\\textRacineC{v}o\\textRacineC{n}\\textRacineC{n}\\textRacineV{e}\\textRacineC{d}amo\n",
       "\t\t\tVER, CF=V2,  Trans=VD, Temps=PST, Pers=3Du, Genre=D, Nombre=Pl:\tkeduvonnedamo\t\\cacherGloses{3Du+}acheter\\cacherGloses{.VD.V2}\\cacherGloses{xPST}\\cacherGloses{-D}\\cacherGloses{+3Du}\tke+racine(venad)xdu1A22V3-am+o\tkedu\\textRacineC{v}o\\textRacineC{n}\\textRacineC{n}\\textRacineV{e}\\textRacineC{d}amo\n",
       "\t\t\tVER, CF=V2,  Trans=VD, Temps=PST, Pers=3Pl, Genre=A, Nombre=Sg:\tboduvonnede\t\\cacherGloses{3Pl+}acheter\\cacherGloses{.VD.V2}\\cacherGloses{xPST}\\cacherGloses{+3Pl}\tbo+racine(venad)xdu1A22V3+e\tbodu\\textRacineC{v}o\\textRacineC{n}\\textRacineC{n}\\textRacineV{e}\\textRacineC{d}e\n",
       "\t\t\tVER, CF=V2,  Trans=VD, Temps=PST, Pers=3Pl, Genre=A, Nombre=Du:\tboduvonnede\t\\cacherGloses{3Pl+}acheter\\cacherGloses{.VD.V2}\\cacherGloses{xPST}\\cacherGloses{+3Pl}\tbo+racine(venad)xdu1A22V3+e\tbodu\\textRacineC{v}o\\textRacineC{n}\\textRacineC{n}\\textRacineV{e}\\textRacineC{d}e\n",
       "\t\t\tVER, CF=V2,  Trans=VD, Temps=PST, Pers=3Pl, Genre=A, Nombre=Pl:\tboduvonnedine\t\\cacherGloses{3Pl+}acheter\\cacherGloses{.VD.V2}\\cacherGloses{xPST}\\cacherGloses{-A.Pl}\\cacherGloses{+3Pl}\tbo+racine(venad)xdu1A22V3-in+e\tbodu\\textRacineC{v}o\\textRacineC{n}\\textRacineC{n}\\textRacineV{e}\\textRacineC{d}ine\n",
       "\t\t\tVER, CF=V2,  Trans=VD, Temps=PST, Pers=3Pl, Genre=B, Nombre=Sg:\tboduvonnedode\t\\cacherGloses{3Pl+}acheter\\cacherGloses{.VD.V2}\\cacherGloses{xPST}\\cacherGloses{-B}\\cacherGloses{+3Pl}\tbo+racine(venad)xdu1A22V3-od+e\tbodu\\textRacineC{v}o\\textRacineC{n}\\textRacineC{n}\\textRacineV{e}\\textRacineC{d}ode\n",
       "\t\t\tVER, CF=V2,  Trans=VD, Temps=PST, Pers=3Pl, Genre=B, Nombre=Du:\tboduvonnedode\t\\cacherGloses{3Pl+}acheter\\cacherGloses{.VD.V2}\\cacherGloses{xPST}\\cacherGloses{-B}\\cacherGloses{+3Pl}\tbo+racine(venad)xdu1A22V3-od+e\tbodu\\textRacineC{v}o\\textRacineC{n}\\textRacineC{n}\\textRacineV{e}\\textRacineC{d}ode\n",
       "\t\t\tVER, CF=V2,  Trans=VD, Temps=PST, Pers=3Pl, Genre=B, Nombre=Pl:\tboduvonnedode\t\\cacherGloses{3Pl+}acheter\\cacherGloses{.VD.V2}\\cacherGloses{xPST}\\cacherGloses{-B}\\cacherGloses{+3Pl}\tbo+racine(venad)xdu1A22V3-od+e\tbodu\\textRacineC{v}o\\textRacineC{n}\\textRacineC{n}\\textRacineV{e}\\textRacineC{d}ode\n",
       "\t\t\tVER, CF=V2,  Trans=VD, Temps=PST, Pers=3Pl, Genre=C, Nombre=Sg:\ttiduvonnedebu\t\\cacherGloses{3Pl.C+}acheter\\cacherGloses{.VD.V2}\\cacherGloses{xPST}\\cacherGloses{-C}\\cacherGloses{+3Pl.C}\tti+racine(venad)xdu1A22V3-eb+u\ttidu\\textRacineC{v}o\\textRacineC{n}\\textRacineC{n}\\textRacineV{e}\\textRacineC{d}ebu\n",
       "\t\t\tVER, CF=V2,  Trans=VD, Temps=PST, Pers=3Pl, Genre=C, Nombre=Du:\ttiduvonnedebu\t\\cacherGloses{3Pl.C+}acheter\\cacherGloses{.VD.V2}\\cacherGloses{xPST}\\cacherGloses{-C}\\cacherGloses{+3Pl.C}\tti+racine(venad)xdu1A22V3-eb+u\ttidu\\textRacineC{v}o\\textRacineC{n}\\textRacineC{n}\\textRacineV{e}\\textRacineC{d}ebu\n",
       "\t\t\tVER, CF=V2,  Trans=VD, Temps=PST, Pers=3Pl, Genre=C, Nombre=Pl:\ttiduvonnedebu\t\\cacherGloses{3Pl.C+}acheter\\cacherGloses{.VD.V2}\\cacherGloses{xPST}\\cacherGloses{-C}\\cacherGloses{+3Pl.C}\tti+racine(venad)xdu1A22V3-eb+u\ttidu\\textRacineC{v}o\\textRacineC{n}\\textRacineC{n}\\textRacineV{e}\\textRacineC{d}ebu\n",
       "\t\t\tVER, CF=V2,  Trans=VD, Temps=PST, Pers=3Pl, Genre=D, Nombre=Sg:\tboduvonnedame\t\\cacherGloses{3Pl+}acheter\\cacherGloses{.VD.V2}\\cacherGloses{xPST}\\cacherGloses{-D}\\cacherGloses{+3Pl}\tbo+racine(venad)xdu1A22V3-am+e\tbodu\\textRacineC{v}o\\textRacineC{n}\\textRacineC{n}\\textRacineV{e}\\textRacineC{d}ame\n",
       "\t\t\tVER, CF=V2,  Trans=VD, Temps=PST, Pers=3Pl, Genre=D, Nombre=Du:\tboduvonnedame\t\\cacherGloses{3Pl+}acheter\\cacherGloses{.VD.V2}\\cacherGloses{xPST}\\cacherGloses{-D}\\cacherGloses{+3Pl}\tbo+racine(venad)xdu1A22V3-am+e\tbodu\\textRacineC{v}o\\textRacineC{n}\\textRacineC{n}\\textRacineV{e}\\textRacineC{d}ame\n",
       "\t\t\tVER, CF=V2,  Trans=VD, Temps=PST, Pers=3Pl, Genre=D, Nombre=Pl:\tboduvonnedame\t\\cacherGloses{3Pl+}acheter\\cacherGloses{.VD.V2}\\cacherGloses{xPST}\\cacherGloses{-D}\\cacherGloses{+3Pl}\tbo+racine(venad)xdu1A22V3-am+e\tbodu\\textRacineC{v}o\\textRacineC{n}\\textRacineC{n}\\textRacineV{e}\\textRacineC{d}ame"
      ]
     },
     "execution_count": 37,
     "metadata": {},
     "output_type": "execute_result"
    }
   ],
   "source": [
    "PFM.lexique.lexemes[\"acheter.VD.V2\"]"
   ]
  },
  {
   "cell_type": "code",
   "execution_count": 38,
   "metadata": {
    "collapsed": false
   },
   "outputs": [],
   "source": [
    "#lexique.lexemes.keys()"
   ]
  }
 ],
 "metadata": {
  "kernelspec": {
   "display_name": "Python 2",
   "language": "python",
   "name": "python2"
  },
  "language_info": {
   "codemirror_mode": {
    "name": "ipython",
    "version": 2
   },
   "file_extension": ".py",
   "mimetype": "text/x-python",
   "name": "python",
   "nbconvert_exporter": "python",
   "pygments_lexer": "ipython2",
   "version": "2.7.11"
  }
 },
 "nbformat": 4,
 "nbformat_minor": 0
}

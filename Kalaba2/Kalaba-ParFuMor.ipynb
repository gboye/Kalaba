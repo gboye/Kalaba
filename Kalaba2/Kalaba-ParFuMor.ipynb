{
 "cells": [
  {
   "cell_type": "markdown",
   "metadata": {},
   "source": [
    "# ParFuMor (version YAML & Objets)"
   ]
  },
  {
   "cell_type": "code",
   "execution_count": 74,
   "metadata": {
    "collapsed": false
   },
   "outputs": [],
   "source": [
    "# -*- coding: utf8 -*-\n",
    "from os.path import expanduser\n",
    "home = expanduser(\"~\")\n",
    "repertoire=home+\"/ownCloud/Cours/Bordeaux/L1-LinguistiqueGenerale/Kalaba-Project/16-K1\"\n",
    "serie=repertoire+\"/\"\n",
    "\n",
    "import yaml\n",
    "import itertools\n",
    "#import re\n",
    "import ParFuMor as PFM\n",
    "from ParFuMor import *\n",
    "import pickle"
   ]
  },
  {
   "cell_type": "code",
   "execution_count": 75,
   "metadata": {
    "collapsed": false
   },
   "outputs": [],
   "source": [
    "with open(serie+\"Gloses.yaml\", 'r') as stream:\n",
    "    gloses=yaml.load(stream)\n",
    "    PFM.gloses=gloses\n",
    "with open(serie+\"Stems.yaml\", 'r') as stream:\n",
    "    stems=yaml.load(stream)\n",
    "    PFM.stems=stems\n",
    "with open(serie+\"Blocks.yaml\", 'r') as stream:\n",
    "    blocks=yaml.load(stream)\n",
    "    PFM.blocks=blocks\n",
    "with open(serie+\"Phonology.yaml\", 'r') as stream:\n",
    "    phonology=yaml.load(stream)\n",
    "    PFM.phonology=phonology\n",
    "with open(serie+\"MorphoSyntax.yaml\", 'r') as stream:\n",
    "    morphosyntax=yaml.load(stream)\n",
    "    PFM.morphosyntax=morphosyntax"
   ]
  },
  {
   "cell_type": "code",
   "execution_count": 76,
   "metadata": {
    "collapsed": false
   },
   "outputs": [],
   "source": [
    "regles=Regles()\n",
    "PFM.regles=regles\n",
    "for categorie in blocks:\n",
    "    regles.addBlocs(categorie,blocks[categorie])\n"
   ]
  },
  {
   "cell_type": "code",
   "execution_count": 77,
   "metadata": {
    "collapsed": false
   },
   "outputs": [],
   "source": [
    "paradigmes=Paradigmes()\n",
    "PFM.paradigmes=paradigmes"
   ]
  },
  {
   "cell_type": "code",
   "execution_count": 78,
   "metadata": {
    "collapsed": false
   },
   "outputs": [],
   "source": [
    "hierarchieCF=HierarchieCF()\n",
    "PFM.hierarchieCF=hierarchieCF\n",
    "lexique=Lexique()\n",
    "PFM.lexique=lexique\n"
   ]
  },
  {
   "cell_type": "code",
   "execution_count": 79,
   "metadata": {
    "collapsed": false
   },
   "outputs": [],
   "source": [
    "paradigmes=Paradigmes()\n",
    "PFM.paradigmes=paradigmes"
   ]
  },
  {
   "cell_type": "code",
   "execution_count": 80,
   "metadata": {
    "collapsed": false
   },
   "outputs": [],
   "source": [
    "paradigmes=Paradigmes()\n",
    "PFM.paradigmes=paradigmes\n",
    "for cat in gloses:\n",
    "#    print cat\n",
    "    attributes=[]\n",
    "    if gloses[cat]:\n",
    "        if set(gloses[cat].keys())==set(morphosyntax[\"Attributs\"][cat]):\n",
    "            features=morphosyntax[\"Attributs\"][cat]\n",
    "#            print \"inhérent\",features\n",
    "        else:\n",
    "            features=gloses[cat].keys()\n",
    "#            print \"contextuel\",features\n",
    "        for attribute in features:\n",
    "            attributes.append(gloses[cat][attribute])\n",
    "        nuplets=(itertools.product(*attributes))\n",
    "        for nuplet in nuplets:\n",
    "            proprietes=[cat]\n",
    "            for element in range(len(nuplet)):\n",
    "                proprietes.append(u\"%s=%s\"%(features[element],nuplet[element]))\n",
    "            paradigmes.addForme(cat,proprietes)"
   ]
  },
  {
   "cell_type": "code",
   "execution_count": 81,
   "metadata": {
    "collapsed": false
   },
   "outputs": [
    {
     "name": "stdout",
     "output_type": "stream",
     "text": [
      "VER : Temps Pers\n",
      "NOM : Genre Nombre\n",
      "DET : Genre Nombre\n",
      "ADJ : Genre Nombre\n",
      "head stems\n",
      "head stems,VER\n",
      "head stems,NOM\n",
      "head stems,NOM,M\n",
      "head stems,NOM,F\n"
     ]
    }
   ],
   "source": [
    "analyserGloses(gloses)\n",
    "analyserStems(stems)"
   ]
  },
  {
   "cell_type": "code",
   "execution_count": 82,
   "metadata": {
    "collapsed": false
   },
   "outputs": [],
   "source": [
    "with open(serie+\"Hierarchie-S2.pkl\", 'wb') as output:\n",
    "   pickle.dump(hierarchieCF, output, pickle.HIGHEST_PROTOCOL)\n",
    "with open(serie+\"Lexique-S2.pkl\", 'wb') as output:\n",
    "   pickle.dump(lexique, output, pickle.HIGHEST_PROTOCOL)\n",
    "with open(serie+\"Regles-S2.pkl\", 'wb') as output:\n",
    "   pickle.dump(regles, output, pickle.HIGHEST_PROTOCOL)\n"
   ]
  },
  {
   "cell_type": "code",
   "execution_count": 83,
   "metadata": {
    "collapsed": true
   },
   "outputs": [],
   "source": [
    "#def chaine2utf8(chaine):\n",
    "#    if type(chaine)==str:\n",
    "#        result=unicode(chaine.decode('utf8'))\n",
    "#    elif type(chaine)==unicode:\n",
    "#        result=chaine\n",
    "#    return result"
   ]
  },
  {
   "cell_type": "code",
   "execution_count": 84,
   "metadata": {
    "collapsed": false
   },
   "outputs": [],
   "source": [
    "#u\"rêvasser.I.VI\" in PFM.lexique.lexemes"
   ]
  },
  {
   "cell_type": "code",
   "execution_count": 85,
   "metadata": {
    "collapsed": false,
    "scrolled": true
   },
   "outputs": [
    {
     "name": "stdout",
     "output_type": "stream",
     "text": [
      "transformer.V1 <type 'unicode'>\n",
      "[u'transformer', u'transforme', u'transforment', u'transformait', u'transformaient']\n",
      "envahir.V1 <type 'unicode'>\n",
      "[u'envahir', u'envahit', u'envahissent', u'envahissait', u'envahissaient']\n",
      "ombre.F.N1 <type 'unicode'>\n",
      "[u'ombre', u'ombres']\n",
      "sortir.V1 <type 'unicode'>\n",
      "[u'sortir', u'sorT', u'sortent', u'sortait', u'sortaient', u'sortit', u'sortirent']\n",
      "donner.V2 <type 'unicode'>\n",
      "[u'donner', u'donne', u'donnent', u'donnait', u'donnaient']\n",
      "rouge <type 'unicode'>\n",
      "[u'rouge', u'rouges']\n",
      "forêt.F.N2 <type 'unicode'>\n",
      "[u'for\\xeat', u'for\\xeats']\n",
      "noir <type 'unicode'>\n",
      "[u'noir', u'noire', u'noirs', u'noires']\n",
      "être.V1 <type 'unicode'>\n",
      "[u'\\xeatre', u'est', u'sont', u'\\xe9tait', u'\\xe9taient']\n",
      "différent <type 'unicode'>\n",
      "[u'diff\\xe9rent', u'diff\\xe9rents', u'diff\\xe9rente', u'diff\\xe9rentes']\n",
      "cri.M.N2 <type 'unicode'>\n",
      "[u'cri', u'cris']\n",
      "vers <type 'unicode'>\n",
      "[u'vers']\n",
      "apporter.V1 <type 'unicode'>\n",
      "[u'apporter', u'apporte', u'apportent', u'apportait', u'apportaient', u'apporta', u'apport\\xe8rent']\n",
      "de <type 'unicode'>\n",
      "[u'de', u'd']\n",
      "maison.F.N1 <type 'unicode'>\n",
      "[u'maison', u'maisons']\n",
      "village.M.N1 <type 'unicode'>\n",
      "[u'village', u'villages']\n",
      "Kaleb.M.N2 <type 'unicode'>\n",
      "[u'Kaleb']\n",
      "villageois.M.N1 <type 'unicode'>\n",
      "[u'villageois', u'villageoiS', u'villagEOISe', u'villagEOIse', u'villagEOIS', u'villagEOIs']\n",
      "blessé <type 'unicode'>\n",
      "[u'bless\\xe9', u'bless\\xe9s', u'bless\\xe9e', u'bless\\xe9es']\n",
      "combattant.M.N3 <type 'unicode'>\n",
      "[u'combattant', u'combattants']\n",
      "gorge.M.N2 <type 'unicode'>\n",
      "[u'gorge', u'gorges']\n",
      "disparaître.V1 <type 'unicode'>\n",
      "[u'dispara\\xeetre', u'dispara\\xeet', u'disparaissent', u'disparaissait', u'disparaissaient']\n",
      "fille.F.N1 <type 'unicode'>\n",
      "[u'fille', u'filles']\n",
      "souffrance.M.N2 <type 'unicode'>\n",
      "[u'souffrance', u'souffrances']\n",
      "furieux <type 'unicode'>\n",
      "[u'furieux', u'furieuse', u'furieuses']\n",
      "fuir.V1 <type 'unicode'>\n",
      "[u'fuir', u'fuit', u'fuient', u'fuyait', u'fuyaient']\n",
      "profond <type 'unicode'>\n",
      "[u'profond', u'profonds', u'profonde', u'profondes']\n",
      "DEM <type 'unicode'>\n",
      "[u'DEM', u'ce', u'cet', u'cette', u'ces']\n",
      "arbre.M.N3 <type 'unicode'>\n",
      "[u'arbre', u'arbres']\n",
      "DEF <type 'unicode'>\n",
      "[u'DEF', u'le', u'la', u'les', u'l']\n",
      "couteau.M.N2 <type 'unicode'>\n",
      "[u'couteau', u'couteaux']\n",
      "lueur.F.N3 <type 'unicode'>\n",
      "[u'lueur', u'lueurs']\n",
      "courageux <type 'unicode'>\n",
      "[u'courageux', u'courageuse', u'courageuses']\n",
      "chercher.V2 <type 'unicode'>\n",
      "[u'chercher', u'cherche', u'cherchent', u'cherchait', u'cherchaient']\n",
      "aller.V2 <type 'unicode'>\n",
      "[u'aller', u'va', u'vont', u'allait', u'allaient']\n",
      "sur <type 'unicode'>\n",
      "[u'sur']\n",
      "jeter.V1 <type 'unicode'>\n",
      "[u'jeter', u'jette', u'jettent', u'jetait', u'jetaient']\n",
      "dévorer.V1 <type 'unicode'>\n",
      "[u'd\\xe9vorer', u'd\\xe9vore', u'd\\xe9vorent', u'd\\xe9vorait', u'd\\xe9voraient']\n",
      "parler.V2 <type 'unicode'>\n",
      "[u'parler', u'parle', u'parlent', u'parlait', u'parlaient', u'parla', u'parl\\xe8rent']\n",
      "sauter.V2 <type 'unicode'>\n",
      "[u'sauter', u'saute', u'sautent', u'sautait', u'sautaient']\n",
      "voir.V1 <type 'unicode'>\n",
      "[u'voir', u'voit', u'voient', u'voyait', u'voyaient', u'vit', u'virent']\n",
      "Violette.F.N1 <type 'unicode'>\n",
      "[u'Violette']\n",
      "courir.V1 <type 'unicode'>\n",
      "[u'courir', u'court', u'courent', u'courait', u'couraient']\n",
      "à <type 'unicode'>\n",
      "[u'\\xe0']\n",
      "blessure.F.N2 <type 'unicode'>\n",
      "[u'blessure', u'blessures']\n",
      "terrible <type 'unicode'>\n",
      "[u'terrible', u'terribles']\n",
      "IND <type 'unicode'>\n",
      "[u'IND', u'un', u'une', u'des', u'dE']\n",
      "soeur.F.N1 <type 'unicode'>\n",
      "[u'soeur', u'soeurs', u's\\u0153ur', u's\\u0153urs']\n",
      "louve.F.N1 <type 'unicode'>\n",
      "[u'louve', u'louves']\n",
      "tomber.V2 <type 'unicode'>\n",
      "[u'tomber', u'tombe', u'tombent', u'tombait', u'tombaient']\n",
      "combat.M.N1 <type 'unicode'>\n",
      "[u'combat', u'combats']\n",
      "démon.M.N2 <type 'unicode'>\n",
      "[u'd\\xe9mon', u'd\\xe9mons']\n",
      "approcher.V2 <type 'unicode'>\n",
      "[u'approcher', u'approche', u'approchent', u'approchait', u'approchaient']\n",
      "chasser.V2 <type 'unicode'>\n",
      "[u'chasser', u'chasse', u'chassent', u'chassait', u'chassaient']\n",
      "lance.F.N1 <type 'unicode'>\n",
      "[u'lance', u'lances']\n",
      "blanc <type 'unicode'>\n",
      "[u'blanc', u'blanche', u'blancs', u'blanches']\n",
      "Mahira.F.N1 <type 'unicode'>\n",
      "[u'Mahira']\n",
      "avec <type 'unicode'>\n",
      "[u'avec']\n",
      "croc.F.N1 <type 'unicode'>\n",
      "[u'croc', u'crocs']\n",
      "après <type 'unicode'>\n",
      "[u'apr\\xe8s']\n",
      "corps.M.N1 <type 'unicode'>\n",
      "[u'corps', u'corpS']\n",
      "enfant.M.N2 <type 'unicode'>\n",
      "[u'enfant', u'enfANTs']\n",
      "prendre.V1 <type 'unicode'>\n",
      "[u'prendre', u'prend', u'prennent', u'prenait', u'prenaient']\n",
      "protéger.V2 <type 'unicode'>\n",
      "[u'prot\\xe9ger', u'prot\\xe8ge', u'prot\\xe8gent', u'prot\\xe9geait', u'prot\\xe9geaient']\n",
      "villageoise.F.N1 <type 'unicode'>\n",
      "[u'villageoise', u'villageoises']\n",
      "main.F.N1 <type 'unicode'>\n",
      "[u'main', u'mains']\n",
      "serpent.M.N3 <type 'unicode'>\n",
      "[u'serpent', u'serpents']\n",
      "devant <type 'unicode'>\n",
      "[u'devant']\n",
      "pousser.V2 <type 'unicode'>\n",
      "[u'pousser', u'pousse', u'poussent', u'poussait', u'poussaient']\n",
      "dans <type 'unicode'>\n",
      "[u'dans']\n",
      "derrière <type 'unicode'>\n",
      "[u'derri\\xe8re']\n",
      "loup.M.N1 <type 'unicode'>\n",
      "[u'loup', u'loups', u'lOUP', u'lOUPs']\n",
      "lune.F.N1 <type 'unicode'>\n",
      "[u'lune', u'lunes']\n",
      "chef.M.N2 <type 'unicode'>\n",
      "[u'chef', u'chefs', u'cheffe', u'cheffes']\n",
      "mort.F.N2 <type 'unicode'>\n",
      "[u'mort', u'morts']\n",
      "petit <type 'unicode'>\n",
      "[u'petit', u'petite', u'petits', u'petites']\n",
      "milieu.M.N2 <type 'unicode'>\n",
      "[u'milieu', u'milieux']\n",
      "planter.V1 <type 'unicode'>\n",
      "[u'planter', u'plante', u'plantent', u'plantait', u'plantaient']\n",
      "suivant <type 'unicode'>\n",
      "[u'suivant', u'suivants', u'suivante', u'suivantes']\n",
      "nuit.F.N1 <type 'unicode'>\n",
      "[u'nuit', u'nuits']\n",
      "homme.M.N1 <type 'unicode'>\n",
      "[u'homme', u'hommes']\n",
      "visage.M.N1 <type 'unicode'>\n",
      "[u'visage', u'visages']\n",
      "grand <type 'unicode'>\n",
      "[u'grand', u'grande', u'grands', u'grandes']\n",
      "colère.F.N1 <type 'unicode'>\n",
      "[u'col\\xe8re', u'col\\xe8res']\n",
      "rejoindre.V2 <type 'unicode'>\n",
      "[u'rejoindre', u'rejoint', u'rejoignent', u'rejoignait', u'rejoignaient']\n",
      "enfant.F.N1 <type 'unicode'>\n",
      "[u'enfant', u'enfants']\n",
      "coup.M.N1 <type 'unicode'>\n",
      "[u'coup', u'coups']\n",
      "recouvrir.V2 <type 'unicode'>\n",
      "[u'recouvrir', u'recouvre', u'recouvrent', u'recouvrait', u'recouvraient']\n",
      "entre <type 'unicode'>\n",
      "[u'entre']\n",
      "sort.M.N1 <type 'unicode'>\n",
      "[u'sort', u'sorts']\n",
      "transpercer.V1 <type 'unicode'>\n",
      "[u'transpercer', u'transperce', u'transpercent', u'transper\\xe7ait', u'transper\\xe7aient']\n",
      "effrayé <type 'unicode'>\n",
      "[u'effray\\xe9', u'effray\\xe9s', u'effray\\xe9e', u'effray\\xe9es']\n",
      "passer.V2 <type 'unicode'>\n",
      "[u'passer', u'passe', u'passent', u'passait', u'passaient', u'passa', u'pass\\xe8rent']\n"
     ]
    }
   ],
   "source": [
    "for element in PFM.lexique.lexemes:\n",
    "    print element, type(element)\n",
    "    print PFM.lexique.lexemes[element].formes"
   ]
  },
  {
   "cell_type": "code",
   "execution_count": 86,
   "metadata": {
    "collapsed": false
   },
   "outputs": [
    {
     "name": "stdout",
     "output_type": "stream",
     "text": [
      "case ADJ, Genre=M, Nombre=Sg:\tatroso\tterrible\\cacherGloses{-M}\tatros-o\t\\textRadical{atros}o\tradical: atros\tracine:  \n",
      "case ADJ, Genre=M, Nombre=Du:\tatrosol\tterrible\\cacherGloses{-M}\\cacherGloses{-Du}\tatros-o-l\t\\textRadical{atros}ol\tradical: atros\tracine:  \n",
      "case ADJ, Genre=M, Nombre=Pl:\tatrosos\tterrible\\cacherGloses{-M}\\cacherGloses{-Pl}\tatros-o-s\t\\textRadical{atros}os\tradical: atros\tracine:  \n",
      "case ADJ, Genre=F, Nombre=Sg:\tatrosa\tterrible\\cacherGloses{-F}\tatros-a\t\\textRadical{atros}a\tradical: atros\tracine:  \n",
      "case ADJ, Genre=F, Nombre=Du:\tatrosal\tterrible\\cacherGloses{-F}\\cacherGloses{-Du}\tatros-a-l\t\\textRadical{atros}al\tradical: atros\tracine:  \n",
      "case ADJ, Genre=F, Nombre=Pl:\tatrosas\tterrible\\cacherGloses{-F}\\cacherGloses{-Pl}\tatros-a-s\t\\textRadical{atros}as\tradical: atros\tracine:  \n"
     ]
    },
    {
     "data": {
      "text/plain": [
       "atros, ADJ, terrible\n",
       "\t\tatros :\n",
       "\t\t\tADJ, Genre=M, Nombre=Sg:\tatroso\tterrible\\cacherGloses{-M}\tatros-o\t\\textRadical{atros}o\tradical: atros\tracine: \n",
       "\t\t\tADJ, Genre=M, Nombre=Du:\tatrosol\tterrible\\cacherGloses{-M}\\cacherGloses{-Du}\tatros-o-l\t\\textRadical{atros}ol\tradical: atros\tracine: \n",
       "\t\t\tADJ, Genre=M, Nombre=Pl:\tatrosos\tterrible\\cacherGloses{-M}\\cacherGloses{-Pl}\tatros-o-s\t\\textRadical{atros}os\tradical: atros\tracine: \n",
       "\t\t\tADJ, Genre=F, Nombre=Sg:\tatrosa\tterrible\\cacherGloses{-F}\tatros-a\t\\textRadical{atros}a\tradical: atros\tracine: \n",
       "\t\t\tADJ, Genre=F, Nombre=Du:\tatrosal\tterrible\\cacherGloses{-F}\\cacherGloses{-Du}\tatros-a-l\t\\textRadical{atros}al\tradical: atros\tracine: \n",
       "\t\t\tADJ, Genre=F, Nombre=Pl:\tatrosas\tterrible\\cacherGloses{-F}\\cacherGloses{-Pl}\tatros-a-s\t\\textRadical{atros}as\tradical: atros\tracine: "
      ]
     },
     "execution_count": 86,
     "metadata": {},
     "output_type": "execute_result"
    }
   ],
   "source": [
    "PFM.lexique.lexemes[\"terrible\"]"
   ]
  },
  {
   "cell_type": "code",
   "execution_count": 87,
   "metadata": {
    "collapsed": false
   },
   "outputs": [
    {
     "name": "stdout",
     "output_type": "stream",
     "text": [
      "case DET, Genre=M, Nombre=Sg:\tsto\tDEM\\cacherGloses{-M}\tst-o\t\\textRadical{st}o\tradical: st\tracine:  \n",
      "case DET, Genre=M, Nombre=Du:\tstol\tDEM\\cacherGloses{-M}\\cacherGloses{-Du}\tst-o-l\t\\textRadical{st}ol\tradical: st\tracine:  \n",
      "case DET, Genre=M, Nombre=Pl:\tstos\tDEM\\cacherGloses{-M}\\cacherGloses{-Pl}\tst-o-s\t\\textRadical{st}os\tradical: st\tracine:  \n",
      "case DET, Genre=F, Nombre=Sg:\tsta\tDEM\\cacherGloses{-F}\tst-a\t\\textRadical{st}a\tradical: st\tracine:  \n",
      "case DET, Genre=F, Nombre=Du:\tstal\tDEM\\cacherGloses{-F}\\cacherGloses{-Du}\tst-a-l\t\\textRadical{st}al\tradical: st\tracine:  \n",
      "case DET, Genre=F, Nombre=Pl:\tstas\tDEM\\cacherGloses{-F}\\cacherGloses{-Pl}\tst-a-s\t\\textRadical{st}as\tradical: st\tracine:  \n",
      "st, DET, DEM\n",
      "\t\tst :\n",
      "\t\t\tDET, Genre=M, Nombre=Sg:\tsto\tDEM\\cacherGloses{-M}\tst-o\t\\textRadical{st}o\tradical: st\tracine: \n",
      "\t\t\tDET, Genre=M, Nombre=Du:\tstol\tDEM\\cacherGloses{-M}\\cacherGloses{-Du}\tst-o-l\t\\textRadical{st}ol\tradical: st\tracine: \n",
      "\t\t\tDET, Genre=M, Nombre=Pl:\tstos\tDEM\\cacherGloses{-M}\\cacherGloses{-Pl}\tst-o-s\t\\textRadical{st}os\tradical: st\tracine: \n",
      "\t\t\tDET, Genre=F, Nombre=Sg:\tsta\tDEM\\cacherGloses{-F}\tst-a\t\\textRadical{st}a\tradical: st\tracine: \n",
      "\t\t\tDET, Genre=F, Nombre=Du:\tstal\tDEM\\cacherGloses{-F}\\cacherGloses{-Du}\tst-a-l\t\\textRadical{st}al\tradical: st\tracine: \n",
      "\t\t\tDET, Genre=F, Nombre=Pl:\tstas\tDEM\\cacherGloses{-F}\\cacherGloses{-Pl}\tst-a-s\t\\textRadical{st}as\tradical: st\tracine: \n",
      "\n"
     ]
    }
   ],
   "source": [
    "if \"DEM.DEM\" in PFM.lexique.lexemes.keys(): \n",
    "    print PFM.lexique.lexemes[\"DEM.DEM\"]\n",
    "else:\n",
    "    print PFM.lexique.lexemes[\"DEM\"]"
   ]
  },
  {
   "cell_type": "code",
   "execution_count": 88,
   "metadata": {
    "collapsed": false
   },
   "outputs": [],
   "source": [
    "#lexique.lexemes.keys()"
   ]
  },
  {
   "cell_type": "code",
   "execution_count": 90,
   "metadata": {
    "collapsed": false
   },
   "outputs": [
    {
     "data": {
      "text/plain": [
       "[u'M']"
      ]
     },
     "execution_count": 90,
     "metadata": {},
     "output_type": "execute_result"
    }
   ],
   "source": [
    "mot=\"lOUPs\"\n",
    "classesNom=PFM.lexique.formeLexeme[mot][0].split('.')[1:]\n",
    "[classeElement for classeElement in classesNom if classeElement in gloses[\"NOM\"][\"Genre\"]]"
   ]
  }
 ],
 "metadata": {
  "kernelspec": {
   "display_name": "Python 2",
   "language": "python",
   "name": "python2"
  },
  "language_info": {
   "codemirror_mode": {
    "name": "ipython",
    "version": 2
   },
   "file_extension": ".py",
   "mimetype": "text/x-python",
   "name": "python",
   "nbconvert_exporter": "python",
   "pygments_lexer": "ipython2",
   "version": "2.7.11"
  }
 },
 "nbformat": 4,
 "nbformat_minor": 0
}

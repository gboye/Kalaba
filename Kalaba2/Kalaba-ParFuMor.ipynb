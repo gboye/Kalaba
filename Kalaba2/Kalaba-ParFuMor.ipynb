{
 "cells": [
  {
   "cell_type": "markdown",
   "metadata": {},
   "source": [
    "# ParFuMor (version YAML & Objets)"
   ]
  },
  {
   "cell_type": "code",
   "execution_count": 224,
   "metadata": {
    "collapsed": false
   },
   "outputs": [],
   "source": [
    "# -*- coding: utf8 -*-\n",
    "from os.path import expanduser\n",
    "home = expanduser(\"~\")\n",
    "repertoire=home+\"/ownCloud/Cours/Bordeaux/L1-LinguistiqueGenerale/Kalaba-Project/16-K3\"\n",
    "serie=repertoire+\"/\"\n",
    "\n",
    "import yaml\n",
    "import itertools\n",
    "#import re\n",
    "import ParFuMor as PFM\n",
    "from ParFuMor import *\n",
    "import pickle"
   ]
  },
  {
   "cell_type": "code",
   "execution_count": 225,
   "metadata": {
    "collapsed": false
   },
   "outputs": [],
   "source": [
    "with open(serie+\"Gloses.yaml\", 'r') as stream:\n",
    "    gloses=yaml.load(stream)\n",
    "    PFM.gloses=gloses\n",
    "with open(serie+\"Stems.yaml\", 'r') as stream:\n",
    "    stems=yaml.load(stream)\n",
    "    PFM.stems=stems\n",
    "with open(serie+\"Blocks.yaml\", 'r') as stream:\n",
    "    blocks=yaml.load(stream)\n",
    "    PFM.blocks=blocks\n",
    "with open(serie+\"Phonology.yaml\", 'r') as stream:\n",
    "    phonology=yaml.load(stream)\n",
    "    PFM.phonology=phonology\n",
    "with open(serie+\"MorphoSyntax.yaml\", 'r') as stream:\n",
    "    morphosyntax=yaml.load(stream)\n",
    "    PFM.morphosyntax=morphosyntax"
   ]
  },
  {
   "cell_type": "code",
   "execution_count": 226,
   "metadata": {
    "collapsed": false
   },
   "outputs": [],
   "source": [
    "regles=Regles()\n",
    "PFM.regles=regles\n",
    "for categorie in blocks:\n",
    "    regles.addBlocs(categorie,blocks[categorie])\n"
   ]
  },
  {
   "cell_type": "code",
   "execution_count": 227,
   "metadata": {
    "collapsed": false
   },
   "outputs": [],
   "source": [
    "paradigmes=Paradigmes()\n",
    "PFM.paradigmes=paradigmes"
   ]
  },
  {
   "cell_type": "code",
   "execution_count": 228,
   "metadata": {
    "collapsed": false
   },
   "outputs": [],
   "source": [
    "hierarchieCF=HierarchieCF()\n",
    "PFM.hierarchieCF=hierarchieCF\n",
    "lexique=Lexique()\n",
    "PFM.lexique=lexique\n"
   ]
  },
  {
   "cell_type": "code",
   "execution_count": 229,
   "metadata": {
    "collapsed": false
   },
   "outputs": [],
   "source": [
    "paradigmes=Paradigmes()\n",
    "PFM.paradigmes=paradigmes"
   ]
  },
  {
   "cell_type": "code",
   "execution_count": 230,
   "metadata": {
    "collapsed": false
   },
   "outputs": [],
   "source": [
    "paradigmes=Paradigmes()\n",
    "PFM.paradigmes=paradigmes\n",
    "for cat in gloses:\n",
    "#    print cat\n",
    "    attributes=[]\n",
    "    if gloses[cat]:\n",
    "        if set(gloses[cat].keys())==set(morphosyntax[\"Attributs\"][cat]):\n",
    "            features=morphosyntax[\"Attributs\"][cat]\n",
    "#            print \"inhérent\",features\n",
    "        else:\n",
    "            features=gloses[cat].keys()\n",
    "#            print \"contextuel\",features\n",
    "        for attribute in features:\n",
    "            attributes.append(gloses[cat][attribute])\n",
    "        nuplets=(itertools.product(*attributes))\n",
    "        for nuplet in nuplets:\n",
    "            proprietes=[cat]\n",
    "            for element in range(len(nuplet)):\n",
    "                proprietes.append(u\"%s=%s\"%(features[element],nuplet[element]))\n",
    "            paradigmes.addForme(cat,proprietes)"
   ]
  },
  {
   "cell_type": "code",
   "execution_count": 231,
   "metadata": {
    "collapsed": false
   },
   "outputs": [
    {
     "name": "stdout",
     "output_type": "stream",
     "text": [
      "VER : Trans Temps Pers Genre Nombre\n",
      "NOM : Genre Nombre Cas\n",
      "DET : Genre Nombre Cas\n",
      "ADJ : Genre Nombre\n",
      "head stems\n",
      "head stems,VER\n",
      "head stems,VER,V1\n",
      "head stems,VER,V2\n",
      "head stems,NOM\n",
      "head stems,NOM,A\n",
      "head stems,NOM,C\n",
      "head stems,NOM,B\n",
      "head stems,NOM,D\n",
      "head stems,DET\n",
      "head stems,ADJ\n"
     ]
    }
   ],
   "source": [
    "analyserGloses(gloses)\n",
    "analyserStems(stems)"
   ]
  },
  {
   "cell_type": "code",
   "execution_count": 232,
   "metadata": {
    "collapsed": false
   },
   "outputs": [],
   "source": [
    "with open(serie+\"Hierarchie-S2.pkl\", 'wb') as output:\n",
    "   pickle.dump(hierarchieCF, output, pickle.HIGHEST_PROTOCOL)\n",
    "with open(serie+\"Lexique-S2.pkl\", 'wb') as output:\n",
    "   pickle.dump(lexique, output, pickle.HIGHEST_PROTOCOL)\n",
    "with open(serie+\"Regles-S2.pkl\", 'wb') as output:\n",
    "   pickle.dump(regles, output, pickle.HIGHEST_PROTOCOL)\n"
   ]
  },
  {
   "cell_type": "code",
   "execution_count": 233,
   "metadata": {
    "collapsed": true
   },
   "outputs": [],
   "source": [
    "#def chaine2utf8(chaine):\n",
    "#    if type(chaine)==str:\n",
    "#        result=unicode(chaine.decode('utf8'))\n",
    "#    elif type(chaine)==unicode:\n",
    "#        result=chaine\n",
    "#    return result"
   ]
  },
  {
   "cell_type": "code",
   "execution_count": 234,
   "metadata": {
    "collapsed": false
   },
   "outputs": [],
   "source": [
    "#u\"rêvasser.I.VI\" in PFM.lexique.lexemes"
   ]
  },
  {
   "cell_type": "code",
   "execution_count": 235,
   "metadata": {
    "collapsed": false,
    "scrolled": true
   },
   "outputs": [
    {
     "name": "stdout",
     "output_type": "stream",
     "text": [
      "main.B.N2 <type 'unicode'>\n",
      "[u'main', u'mains']\n",
      "aller.V2.VI <type 'unicode'>\n",
      "[u'aller', u'va', u'vont', u'allait', u'allaient']\n",
      "lune.A.N2 <type 'unicode'>\n",
      "[u'lune', u'lunes']\n",
      "mort.B.N2 <type 'unicode'>\n",
      "[u'mort', u'morts']\n",
      "courageux.A2 <type 'unicode'>\n",
      "[u'courageux', u'courageuse', u'courageuses']\n",
      "blessure.A.N3 <type 'unicode'>\n",
      "[u'blessure', u'blessures']\n",
      "visage.D.N1 <type 'unicode'>\n",
      "[u'visage', u'visages']\n",
      "chercher.V1.VT <type 'unicode'>\n",
      "[u'chercher', u'cherche', u'cherchent', u'cherchait', u'cherchaient']\n",
      "sort.A.N2 <type 'unicode'>\n",
      "[u'sort', u'sorts']\n",
      "recouvrir.V1.VT <type 'unicode'>\n",
      "[u'recouvrir', u'recouvre', u'recouvrent', u'recouvrait', u'recouvraient']\n",
      "vers <type 'unicode'>\n",
      "[u'vers']\n",
      "maison.C.N2 <type 'unicode'>\n",
      "[u'maison', u'maisons']\n",
      "villageois.C.N3 <type 'unicode'>\n",
      "[u'villageois', u'villageoiS']\n",
      "chef.D.N3 <type 'unicode'>\n",
      "[u'chef', u'chefs', u'cheffe', u'cheffes']\n",
      "effrayé.A2 <type 'unicode'>\n",
      "[u'effray\\xe9', u'effray\\xe9s', u'effray\\xe9e', u'effray\\xe9es']\n",
      "soeur.D.N1 <type 'unicode'>\n",
      "[u'soeur', u'soeurs', u's\\u0153ur', u's\\u0153urs']\n",
      "villageoise.D.N2 <type 'unicode'>\n",
      "[u'villageoise', u'villageoises', u'villagEOIS', u'villagEOIs']\n",
      "être.V2.VT <type 'unicode'>\n",
      "[u'\\xeatre', u'est', u'sont', u'\\xe9tait', u'\\xe9taient']\n",
      "disparaître.V1.VI <type 'unicode'>\n",
      "[u'dispara\\xeetre', u'dispara\\xeet', u'disparaissent', u'disparaissait', u'disparaissaient']\n",
      "louve.B.N2 <type 'unicode'>\n",
      "[u'louve', u'louves', u'lOUP', u'lOUPs']\n",
      "souffrance.C.N2 <type 'unicode'>\n",
      "[u'souffrance', u'souffrances']\n",
      "profond.A1 <type 'unicode'>\n",
      "[u'profond', u'profonds', u'profonde', u'profondes']\n",
      "suivant.A2 <type 'unicode'>\n",
      "[u'suivant', u'suivants', u'suivante', u'suivantes']\n",
      "courir.V1.VI <type 'unicode'>\n",
      "[u'courir', u'court', u'courent', u'courait', u'couraient']\n",
      "IND.ART <type 'unicode'>\n",
      "[u'IND', u'un', u'une', u'des', u'dE']\n",
      "crocs.B.N1 <type 'unicode'>\n",
      "[u'crocs']\n",
      "sauter.V2.VT <type 'unicode'>\n",
      "[u'sauter', u'saute', u'sautent', u'sautait', u'sautaient']\n",
      "blessé.A1 <type 'unicode'>\n",
      "[u'bless\\xe9', u'bless\\xe9s', u'bless\\xe9e', u'bless\\xe9es']\n",
      "planter.V1.VT <type 'unicode'>\n",
      "[u'planter', u'plante', u'plantent', u'plantait', u'plantaient']\n",
      "parler.V1.VI <type 'unicode'>\n",
      "[u'parler', u'parle', u'parlent', u'parlait', u'parlaient', u'parla', u'parl\\xe8rent']\n",
      "Mahira.C.N2 <type 'unicode'>\n",
      "[u'Mahira']\n",
      "donner.V1.VT <type 'unicode'>\n",
      "[u'donner', u'donne', u'donnent', u'donnait', u'donnaient']\n",
      "nuit.D.N1 <type 'unicode'>\n",
      "[u'nuit', u'nuits']\n",
      "milieu.B.N1 <type 'unicode'>\n",
      "[u'milieu', u'milieux']\n",
      "sur <type 'unicode'>\n",
      "[u'sur']\n",
      "apporter.V1.VT <type 'unicode'>\n",
      "[u'apporter', u'apporte', u'apportent', u'apportait', u'apportaient', u'apporta', u'apport\\xe8rent']\n",
      "Violette.B.N1 <type 'unicode'>\n",
      "[u'Violette']\n",
      "transpercer.V1.VT <type 'unicode'>\n",
      "[u'transpercer', u'transperce', u'transpercent', u'transper\\xe7ait', u'transper\\xe7aient']\n",
      "DEF.ART <type 'unicode'>\n",
      "[u'DEF', u'le', u'la', u'les', u'l']\n",
      "enfant.A.N2 <type 'unicode'>\n",
      "[u'enfant', u'enfants', u'gar\\xe7on', u'gar\\xe7ons']\n",
      "loup.A.N1 <type 'unicode'>\n",
      "[u'loup', u'loups']\n",
      "transformer.V2.VT <type 'unicode'>\n",
      "[u'transformer', u'transforme', u'transforment', u'transformait', u'transformaient']\n",
      "à <type 'unicode'>\n",
      "[u'\\xe0']\n",
      "rouge.A1 <type 'unicode'>\n",
      "[u'rouge', u'rouges']\n",
      "gorge.C.N3 <type 'unicode'>\n",
      "[u'gorge', u'gorges']\n",
      "prendre.V1.VT <type 'unicode'>\n",
      "[u'prendre', u'prend', u'prennent', u'prenait', u'prenaient']\n",
      "combat.B.N1 <type 'unicode'>\n",
      "[u'combat', u'combats']\n",
      "envahir.V1.VT <type 'unicode'>\n",
      "[u'envahir', u'envahit', u'envahissent', u'envahissait', u'envahissaient']\n",
      "combattant.B.N3 <type 'unicode'>\n",
      "[u'combattant', u'combattants']\n",
      "serpent.C.N3 <type 'unicode'>\n",
      "[u'serpent', u'serpents']\n",
      "chasser.V2.VT <type 'unicode'>\n",
      "[u'chasser', u'chasse', u'chassent', u'chassait', u'chassaient']\n",
      "passer.V1.VI <type 'unicode'>\n",
      "[u'passer', u'passe', u'passent', u'passait', u'passaient', u'passa', u'pass\\xe8rent']\n",
      "rejoindre.V1.VT <type 'unicode'>\n",
      "[u'rejoindre', u'rejoint', u'rejoignent', u'rejoignait', u'rejoignaient']\n",
      "avec <type 'unicode'>\n",
      "[u'avec']\n",
      "après <type 'unicode'>\n",
      "[u'apr\\xe8s']\n",
      "furieux.A1 <type 'unicode'>\n",
      "[u'furieux', u'furieuse', u'furieuses']\n",
      "couteau.D.N3 <type 'unicode'>\n",
      "[u'couteau', u'couteaux']\n",
      "DEM.DEM <type 'unicode'>\n",
      "[u'DEM', u'ce', u'cet', u'cette', u'ces']\n",
      "jeter.V2.VT <type 'unicode'>\n",
      "[u'jeter', u'jette', u'jettent', u'jetait', u'jetaient']\n",
      "homme.D.N2 <type 'unicode'>\n",
      "[u'homme', u'hommes']\n",
      "fuir.V2.VI <type 'unicode'>\n",
      "[u'fuir', u'fuit', u'fuient', u'fuyait', u'fuyaient']\n",
      "arbre.B.N1 <type 'unicode'>\n",
      "[u'arbre', u'arbres']\n",
      "devant <type 'unicode'>\n",
      "[u'devant']\n",
      "dans <type 'unicode'>\n",
      "[u'dans']\n",
      "noir.A2 <type 'unicode'>\n",
      "[u'noir', u'noire', u'noirs', u'noires']\n",
      "derrière <type 'unicode'>\n",
      "[u'derri\\xe8re']\n",
      "ombre.A.N3 <type 'unicode'>\n",
      "[u'ombre', u'ombres']\n",
      "voir.V2.VT <type 'unicode'>\n",
      "[u'voir', u'voit', u'voient', u'voyait', u'voyaient', u'vit', u'virent']\n",
      "enfant.B.N3 <type 'unicode'>\n",
      "[u'enfant', u'enfANTs']\n",
      "grand.A1 <type 'unicode'>\n",
      "[u'grand', u'grande', u'grands', u'grandes']\n",
      "corps.D.N2 <type 'unicode'>\n",
      "[u'corps', u'corpS']\n",
      "lance.C.N2 <type 'unicode'>\n",
      "[u'lance', u'lances']\n",
      "Kaleb.A.N2 <type 'unicode'>\n",
      "[u'Kaleb']\n",
      "tomber.V2.VI <type 'unicode'>\n",
      "[u'tomber', u'tombe', u'tombent', u'tombait', u'tombaient']\n",
      "sortir.V2.VI <type 'unicode'>\n",
      "[u'sortir', u'sorT', u'sortent', u'sortait', u'sortaient', u'sortit', u'sortirent']\n",
      "forêt.A.N1 <type 'unicode'>\n",
      "[u'for\\xeat', u'for\\xeats']\n",
      "cri.C.N3 <type 'unicode'>\n",
      "[u'cri', u'cris']\n",
      "lueur.C.N1 <type 'unicode'>\n",
      "[u'lueur', u'lueurs']\n",
      "protéger.V2.VT <type 'unicode'>\n",
      "[u'prot\\xe9ger', u'prot\\xe8ge', u'prot\\xe8gent', u'prot\\xe9geait', u'prot\\xe9geaient']\n",
      "de <type 'unicode'>\n",
      "[u'de', u'd']\n",
      "dévorer.V2.VT <type 'unicode'>\n",
      "[u'd\\xe9vorer', u'd\\xe9vore', u'd\\xe9vorent', u'd\\xe9vorait', u'd\\xe9voraient']\n",
      "pousser.V2.VT <type 'unicode'>\n",
      "[u'pousser', u'pousse', u'poussent', u'poussait', u'poussaient']\n",
      "fille.A.N3 <type 'unicode'>\n",
      "[u'fille', u'filles']\n",
      "différent.A1 <type 'unicode'>\n",
      "[u'diff\\xe9rent']\n",
      "démon.D.N1 <type 'unicode'>\n",
      "[u'd\\xe9mon', u'd\\xe9mons']\n",
      "blanc.A1 <type 'unicode'>\n",
      "[u'blanc', u'blanche', u'blancs', u'blanches']\n",
      "village.C.N1 <type 'unicode'>\n",
      "[u'village', u'villages']\n",
      "entre <type 'unicode'>\n",
      "[u'entre']\n",
      "petit.A2 <type 'unicode'>\n",
      "[u'petit', u'petite', u'petits', u'petites']\n",
      "approcher.V1.VI <type 'unicode'>\n",
      "[u'approcher', u'approche', u'approchent', u'approchait', u'approchaient']\n",
      "colère.B.N3 <type 'unicode'>\n",
      "[u'col\\xe8re', u'col\\xe8res']\n",
      "coup.A.N1 <type 'unicode'>\n",
      "[u'coup', u'coups']\n",
      "terrible.A2 <type 'unicode'>\n",
      "[u'terrible', u'terribles']\n"
     ]
    }
   ],
   "source": [
    "for element in PFM.lexique.lexemes:\n",
    "    print element, type(element)\n",
    "    print PFM.lexique.lexemes[element].formes"
   ]
  },
  {
   "cell_type": "code",
   "execution_count": 236,
   "metadata": {
    "collapsed": false
   },
   "outputs": [
    {
     "ename": "KeyError",
     "evalue": "'terrible'",
     "output_type": "error",
     "traceback": [
      "\u001b[0;31m---------------------------------------------------------------------------\u001b[0m",
      "\u001b[0;31mKeyError\u001b[0m                                  Traceback (most recent call last)",
      "\u001b[0;32m<ipython-input-236-56fe696189be>\u001b[0m in \u001b[0;36m<module>\u001b[0;34m()\u001b[0m\n\u001b[0;32m----> 1\u001b[0;31m \u001b[0mPFM\u001b[0m\u001b[0;34m.\u001b[0m\u001b[0mlexique\u001b[0m\u001b[0;34m.\u001b[0m\u001b[0mlexemes\u001b[0m\u001b[0;34m[\u001b[0m\u001b[0;34m\"terrible\"\u001b[0m\u001b[0;34m]\u001b[0m\u001b[0;34m\u001b[0m\u001b[0m\n\u001b[0m",
      "\u001b[0;31mKeyError\u001b[0m: 'terrible'"
     ]
    }
   ],
   "source": [
    "PFM.lexique.lexemes[\"terrible\"]"
   ]
  },
  {
   "cell_type": "code",
   "execution_count": null,
   "metadata": {
    "collapsed": false
   },
   "outputs": [],
   "source": [
    "PFM.lexique.lexemes[\"DEM.DEM\"]"
   ]
  },
  {
   "cell_type": "code",
   "execution_count": null,
   "metadata": {
    "collapsed": false
   },
   "outputs": [],
   "source": [
    "#lexique.lexemes.keys()"
   ]
  },
  {
   "cell_type": "code",
   "execution_count": null,
   "metadata": {
    "collapsed": false
   },
   "outputs": [],
   "source": [
    "mot=\"lOUPs\"\n",
    "classesNom=PFM.lexique.formeLexeme[mot][0].split('.')[1:]\n",
    "[classeElement for classeElement in classesNom if classeElement in gloses[\"NOM\"][\"Genre\"]]"
   ]
  },
  {
   "cell_type": "code",
   "execution_count": null,
   "metadata": {
    "collapsed": false
   },
   "outputs": [],
   "source": [
    "PFM.lexique.formeLexeme[\"villagEOIs\"][0]"
   ]
  }
 ],
 "metadata": {
  "kernelspec": {
   "display_name": "Python 2",
   "language": "python",
   "name": "python2"
  },
  "language_info": {
   "codemirror_mode": {
    "name": "ipython",
    "version": 2
   },
   "file_extension": ".py",
   "mimetype": "text/x-python",
   "name": "python",
   "nbconvert_exporter": "python",
   "pygments_lexer": "ipython2",
   "version": "2.7.11"
  }
 },
 "nbformat": 4,
 "nbformat_minor": 0
}

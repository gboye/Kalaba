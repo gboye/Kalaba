{
 "cells": [
  {
   "cell_type": "markdown",
   "metadata": {},
   "source": [
    "# ParFuMor (version YAML & Objets)"
   ]
  },
  {
   "cell_type": "code",
   "execution_count": 74,
   "metadata": {
    "collapsed": false
   },
   "outputs": [],
   "source": [
    "# -*- coding: utf8 -*-\n",
    "from os.path import expanduser\n",
    "home = expanduser(\"~\")\n",
    "repertoire=home+\"/ownCloud/Cours/Bordeaux/L1-LinguistiqueGenerale/Kalaba-Project/16-K5\"\n",
    "serie=repertoire+\"/\"\n",
    "\n",
    "import yaml\n",
    "import itertools\n",
    "#import re\n",
    "import ParFuMor as PFM\n",
    "from ParFuMor import *\n",
    "import pickle"
   ]
  },
  {
   "cell_type": "code",
   "execution_count": 75,
   "metadata": {
    "collapsed": false
   },
   "outputs": [],
   "source": [
    "with open(serie+\"Gloses.yaml\", 'r') as stream:\n",
    "    gloses=yaml.load(stream)\n",
    "    PFM.gloses=gloses\n",
    "with open(serie+\"Stems.yaml\", 'r') as stream:\n",
    "    stems=yaml.load(stream)\n",
    "    PFM.stems=stems\n",
    "with open(serie+\"Blocks.yaml\", 'r') as stream:\n",
    "    blocks=yaml.load(stream)\n",
    "    PFM.blocks=blocks\n",
    "with open(serie+\"Phonology.yaml\", 'r') as stream:\n",
    "    phonology=yaml.load(stream)\n",
    "    PFM.phonology=phonology\n",
    "with open(serie+\"MorphoSyntax.yaml\", 'r') as stream:\n",
    "    morphosyntax=yaml.load(stream)\n",
    "    PFM.morphosyntax=morphosyntax"
   ]
  },
  {
   "cell_type": "code",
   "execution_count": 76,
   "metadata": {
    "collapsed": false
   },
   "outputs": [],
   "source": [
    "regles=Regles()\n",
    "PFM.regles=regles\n",
    "for categorie in blocks:\n",
    "    regles.addBlocs(categorie,blocks[categorie])\n"
   ]
  },
  {
   "cell_type": "code",
   "execution_count": 77,
   "metadata": {
    "collapsed": false
   },
   "outputs": [],
   "source": [
    "paradigmes=Paradigmes()\n",
    "PFM.paradigmes=paradigmes"
   ]
  },
  {
   "cell_type": "code",
   "execution_count": 78,
   "metadata": {
    "collapsed": false
   },
   "outputs": [],
   "source": [
    "hierarchieCF=HierarchieCF()\n",
    "PFM.hierarchieCF=hierarchieCF\n",
    "lexique=Lexique()\n",
    "PFM.lexique=lexique\n"
   ]
  },
  {
   "cell_type": "code",
   "execution_count": 79,
   "metadata": {
    "collapsed": false
   },
   "outputs": [],
   "source": [
    "paradigmes=Paradigmes()\n",
    "PFM.paradigmes=paradigmes"
   ]
  },
  {
   "cell_type": "code",
   "execution_count": 80,
   "metadata": {
    "collapsed": false
   },
   "outputs": [],
   "source": [
    "paradigmes=Paradigmes()\n",
    "PFM.paradigmes=paradigmes\n",
    "for cat in gloses:\n",
    "#    print cat\n",
    "    attributes=[]\n",
    "    if gloses[cat]:\n",
    "        if set(gloses[cat].keys())==set(morphosyntax[\"Attributs\"][cat]):\n",
    "            features=morphosyntax[\"Attributs\"][cat]\n",
    "#            print \"inhérent\",features\n",
    "        else:\n",
    "            features=gloses[cat].keys()\n",
    "#            print \"contextuel\",features\n",
    "        for attribute in features:\n",
    "            attributes.append(gloses[cat][attribute])\n",
    "        nuplets=(itertools.product(*attributes))\n",
    "        for nuplet in nuplets:\n",
    "            proprietes=[cat]\n",
    "            for element in range(len(nuplet)):\n",
    "                proprietes.append(u\"%s=%s\"%(features[element],nuplet[element]))\n",
    "            paradigmes.addForme(cat,proprietes)"
   ]
  },
  {
   "cell_type": "code",
   "execution_count": 81,
   "metadata": {
    "collapsed": false
   },
   "outputs": [
    {
     "name": "stdout",
     "output_type": "stream",
     "text": [
      "VER : Trans Temps Pers Genre Nombre\n",
      "NOM : Genre Nombre Cas\n",
      "DET : Nombre Cas\n",
      "ADJ : Genre Nombre\n",
      "head stems\n",
      "head stems,VER\n",
      "head stems,VER,VI\n",
      "head stems,VER,VT\n",
      "head stems,VER,VD\n",
      "head stems,NOM\n",
      "head stems,NOM,N1\n",
      "head stems,NOM,N1,N12\n",
      "head stems,NOM,N1,N11\n",
      "head stems,NOM,N2\n",
      "head stems,NOM,N2,N22\n",
      "head stems,NOM,N2,N21\n",
      "head stems,ADJ\n"
     ]
    }
   ],
   "source": [
    "analyserGloses(gloses)\n",
    "analyserStems(stems)"
   ]
  },
  {
   "cell_type": "code",
   "execution_count": 82,
   "metadata": {
    "collapsed": false
   },
   "outputs": [],
   "source": [
    "with open(serie+\"Hierarchie-S2.pkl\", 'wb') as output:\n",
    "   pickle.dump(hierarchieCF, output, pickle.HIGHEST_PROTOCOL)\n",
    "with open(serie+\"Lexique-S2.pkl\", 'wb') as output:\n",
    "   pickle.dump(lexique, output, pickle.HIGHEST_PROTOCOL)\n",
    "with open(serie+\"Regles-S2.pkl\", 'wb') as output:\n",
    "   pickle.dump(regles, output, pickle.HIGHEST_PROTOCOL)\n"
   ]
  },
  {
   "cell_type": "code",
   "execution_count": 83,
   "metadata": {
    "collapsed": true
   },
   "outputs": [],
   "source": [
    "#def chaine2utf8(chaine):\n",
    "#    if type(chaine)==str:\n",
    "#        result=unicode(chaine.decode('utf8'))\n",
    "#    elif type(chaine)==unicode:\n",
    "#        result=chaine\n",
    "#    return result"
   ]
  },
  {
   "cell_type": "code",
   "execution_count": 84,
   "metadata": {
    "collapsed": false
   },
   "outputs": [],
   "source": [
    "#u\"rêvasser.I.VI\" in PFM.lexique.lexemes"
   ]
  },
  {
   "cell_type": "code",
   "execution_count": 85,
   "metadata": {
    "collapsed": false
   },
   "outputs": [
    {
     "name": "stdout",
     "output_type": "stream",
     "text": [
      "milieu.N1.N12.B <type 'unicode'>\n",
      "[u'milieu', u'milieux']\n",
      "courageux.A1 <type 'unicode'>\n",
      "[u'courageux', u'courageuse', u'courageuses']\n",
      "donner.VD.V2 <type 'unicode'>\n",
      "[u'donner', u'donne', u'donnent', u'donnait', u'donnaient']\n",
      "rejoindre.VT.V2 <type 'unicode'>\n",
      "[u'rejoindre', u'rejoint', u'rejoignent', u'rejoignait', u'rejoignaient']\n",
      "colère.N2.N22.B <type 'unicode'>\n",
      "[u'col\\xe8re', u'col\\xe8res']\n",
      "cri.N2.N22.C <type 'unicode'>\n",
      "[u'cri', u'cris']\n",
      "visage.N1.N11.D <type 'unicode'>\n",
      "[u'visage', u'visages']\n",
      "courir.VI.V1 <type 'unicode'>\n",
      "[u'courir', u'court', u'courent', u'courait', u'couraient']\n",
      "planter.VT.V2 <type 'unicode'>\n",
      "[u'planter', u'plante', u'plantent', u'plantait', u'plantaient']\n",
      "grand.A1 <type 'unicode'>\n",
      "[u'grand', u'grande', u'grands', u'grandes']\n",
      "envahir.VT.V1 <type 'unicode'>\n",
      "[u'envahir', u'envahit', u'envahissent', u'envahissait', u'envahissaient']\n",
      "souffrance.N1.N12.C <type 'unicode'>\n",
      "[u'souffrance', u'souffrances']\n",
      "mort.N2.N21.B <type 'unicode'>\n",
      "[u'mort', u'morts']\n",
      "de <type 'unicode'>\n",
      "[u'de', u'd']\n",
      "serpent.N2.N21.C <type 'unicode'>\n",
      "[u'serpent', u'serpents']\n",
      "effrayé.A1 <type 'unicode'>\n",
      "[u'effray\\xe9', u'effray\\xe9s', u'effray\\xe9e', u'effray\\xe9es']\n",
      "loup.N1.N11.A <type 'unicode'>\n",
      "[u'loup', u'loups']\n",
      "corps.N1.N12.D <type 'unicode'>\n",
      "[u'corps', u'corpS']\n",
      "couteau.N2.N22.D <type 'unicode'>\n",
      "[u'couteau', u'couteaux']\n",
      "croc.N1.N11.B <type 'unicode'>\n",
      "[u'croc', u'crocs']\n",
      "profond.A1 <type 'unicode'>\n",
      "[u'profond', u'profonds', u'profonde', u'profondes']\n",
      "suivant.A2 <type 'unicode'>\n",
      "[u'suivant', u'suivants', u'suivante', u'suivantes']\n",
      "disparaître.VI.V1 <type 'unicode'>\n",
      "[u'dispara\\xeetre', u'dispara\\xeet', u'disparaissent', u'disparaissait', u'disparaissaient']\n",
      "fuir.VI.V1 <type 'unicode'>\n",
      "[u'fuir', u'fuit', u'fuient', u'fuyait', u'fuyaient']\n",
      "villageois.N2.N22.C <type 'unicode'>\n",
      "[u'villageois', u'villageoiS']\n",
      "furieux.A2 <type 'unicode'>\n",
      "[u'furieux', u'furieuse', u'furieuses']\n",
      "aller.VI.V2 <type 'unicode'>\n",
      "[u'aller', u'va', u'vont', u'allait', u'allaient']\n",
      "sortir.VI.V1 <type 'unicode'>\n",
      "[u'sortir', u'sorT', u'sortent', u'sortait', u'sortaient', u'sortit', u'sortirent']\n",
      "blessé.A2 <type 'unicode'>\n",
      "[u'bless\\xe9', u'bless\\xe9s', u'bless\\xe9e', u'bless\\xe9es']\n",
      "DEM <type 'unicode'>\n",
      "[u'DEM', u'ce', u'cet', u'cette', u'ces']\n",
      "DEF <type 'unicode'>\n",
      "[u'DEF', u'le', u'la', u'les', u'l']\n",
      "maison.N1.N12.C <type 'unicode'>\n",
      "[u'maison', u'maisons']\n",
      "combat.N1.N11.B <type 'unicode'>\n",
      "[u'combat', u'combats']\n",
      "forêt.N1.N11.A <type 'unicode'>\n",
      "[u'for\\xeat', u'for\\xeats']\n",
      "Mahira.N1.N12.C <type 'unicode'>\n",
      "[u'Mahira']\n",
      "recouvrir.VT.V1 <type 'unicode'>\n",
      "[u'recouvrir', u'recouvre', u'recouvrent', u'recouvrait', u'recouvraient']\n",
      "sur <type 'unicode'>\n",
      "[u'sur']\n",
      "voir.VT.V2 <type 'unicode'>\n",
      "[u'voir', u'voit', u'voient', u'voyait', u'voyaient', u'vit', u'virent']\n",
      "jeter.VT.V2 <type 'unicode'>\n",
      "[u'jeter', u'jette', u'jettent', u'jetait', u'jetaient']\n",
      "lune.N1.N12.A <type 'unicode'>\n",
      "[u'lune', u'lunes']\n",
      "Kaleb.N2.N21.A <type 'unicode'>\n",
      "[u'Kaleb']\n",
      "protéger.VT.V1 <type 'unicode'>\n",
      "[u'prot\\xe9ger', u'prot\\xe8ge', u'prot\\xe8gent', u'prot\\xe9geait', u'prot\\xe9geaient']\n",
      "lueur.N1.N11.C <type 'unicode'>\n",
      "[u'lueur', u'lueurs']\n",
      "soeur.N1.N11.D <type 'unicode'>\n",
      "[u'soeur', u'soeurs', u's\\u0153ur', u's\\u0153urs']\n",
      "parler.VI.V2 <type 'unicode'>\n",
      "[u'parler', u'parle', u'parlent', u'parlait', u'parlaient', u'parla', u'parl\\xe8rent']\n",
      "pousser.VT.V2 <type 'unicode'>\n",
      "[u'pousser', u'pousse', u'poussent', u'poussait', u'poussaient']\n",
      "à <type 'unicode'>\n",
      "[u'\\xe0']\n",
      "rouge.A1 <type 'unicode'>\n",
      "[u'rouge', u'rouges']\n",
      "Violette.N2.N21.B <type 'unicode'>\n",
      "[u'Violette']\n",
      "chef.N2.N22.D <type 'unicode'>\n",
      "[u'chef', u'chefs', u'cheffe', u'cheffes']\n",
      "chercher.VT.V1 <type 'unicode'>\n",
      "[u'chercher', u'cherche', u'cherchent', u'cherchait', u'cherchaient']\n",
      "IND <type 'unicode'>\n",
      "[u'IND', u'un', u'une', u'des', u'dE']\n",
      "démon.N1.N11.D <type 'unicode'>\n",
      "[u'd\\xe9mon', u'd\\xe9mons']\n",
      "chasser.VT.V2 <type 'unicode'>\n",
      "[u'chasser', u'chasse', u'chassent', u'chassait', u'chassaient']\n",
      "transformer.VT.V2 <type 'unicode'>\n",
      "[u'transformer', u'transforme', u'transforment', u'transformait', u'transformaient']\n",
      "coup.N1.N11.A <type 'unicode'>\n",
      "[u'coup', u'coups']\n",
      "avec <type 'unicode'>\n",
      "[u'avec']\n",
      "après <type 'unicode'>\n",
      "[u'apr\\xe8s']\n",
      "village.N1.N11.C <type 'unicode'>\n",
      "[u'village', u'villages']\n",
      "sauter.VI.V2 <type 'unicode'>\n",
      "[u'sauter', u'saute', u'sautent', u'sautait', u'sautaient']\n",
      "enfant.N1.N12.A <type 'unicode'>\n",
      "[u'enfant', u'enfants', u'gar\\xe7on', u'gar\\xe7ons']\n",
      "enfant.N1.N12.B <type 'unicode'>\n",
      "[u'enfant', u'enfANTs']\n",
      "villageoise.N2.N21.D <type 'unicode'>\n",
      "[u'villageoise', u'villageoises', u'villagEOIS', u'villagEOIs']\n",
      "transpercer.VT.V2 <type 'unicode'>\n",
      "[u'transpercer', u'transperce', u'transpercent', u'transper\\xe7ait', u'transper\\xe7aient']\n",
      "blessure.N2.N21.A <type 'unicode'>\n",
      "[u'blessure', u'blessures']\n",
      "passer.VI.V2 <type 'unicode'>\n",
      "[u'passer', u'passe', u'passent', u'passait', u'passaient', u'passa', u'pass\\xe8rent']\n",
      "devant <type 'unicode'>\n",
      "[u'devant']\n",
      "dans <type 'unicode'>\n",
      "[u'dans']\n",
      "main.N2.N21.B <type 'unicode'>\n",
      "[u'main', u'mains']\n",
      "combattant.N2.N22.B <type 'unicode'>\n",
      "[u'combattant', u'combattants']\n",
      "derrière <type 'unicode'>\n",
      "[u'derri\\xe8re']\n",
      "noir.A1 <type 'unicode'>\n",
      "[u'noir', u'noire', u'noirs', u'noires']\n",
      "homme.N2.N21.D <type 'unicode'>\n",
      "[u'homme', u'hommes']\n",
      "ombre.N2.N22.A <type 'unicode'>\n",
      "[u'ombre', u'ombres']\n",
      "dévorer.VT.V1 <type 'unicode'>\n",
      "[u'd\\xe9vorer', u'd\\xe9vore', u'd\\xe9vorent', u'd\\xe9vorait', u'd\\xe9voraient']\n",
      "vers <type 'unicode'>\n",
      "[u'vers']\n",
      "être.VT.V1 <type 'unicode'>\n",
      "[u'\\xeatre', u'est', u'sont', u'\\xe9tait', u'\\xe9taient']\n",
      "fille.N2.N22.A <type 'unicode'>\n",
      "[u'fille', u'filles']\n",
      "prendre.VT.V2 <type 'unicode'>\n",
      "[u'prendre', u'prend', u'prennent', u'prenait', u'prenaient']\n",
      "approcher.VI.V2 <type 'unicode'>\n",
      "[u'approcher', u'approche', u'approchent', u'approchait', u'approchaient']\n",
      "tomber.VI.V1 <type 'unicode'>\n",
      "[u'tomber', u'tombe', u'tombent', u'tombait', u'tombaient']\n",
      "arbre.N1.N12.B <type 'unicode'>\n",
      "[u'arbre', u'arbres']\n",
      "nuit.N1.N12.D <type 'unicode'>\n",
      "[u'nuit', u'nuits']\n",
      "gorge.N2.N22.C <type 'unicode'>\n",
      "[u'gorge', u'gorges']\n",
      "lance.N2.N21.C <type 'unicode'>\n",
      "[u'lance', u'lances']\n",
      "différent.A2 <type 'unicode'>\n",
      "[u'diff\\xe9rent', u'diff\\xe9rents', u'diff\\xe9rente', u'diff\\xe9rentes']\n",
      "blanc.A2 <type 'unicode'>\n",
      "[u'blanc', u'blanche', u'blancs', u'blanches']\n",
      "sort.N1.N12.A <type 'unicode'>\n",
      "[u'sort', u'sorts']\n",
      "entre <type 'unicode'>\n",
      "[u'entre']\n",
      "petit.A2 <type 'unicode'>\n",
      "[u'petit', u'petite', u'petits', u'petites']\n",
      "apporter.VD.V1 <type 'unicode'>\n",
      "[u'apporter', u'apporte', u'apportent', u'apportait', u'apportaient', u'apporta', u'apport\\xe8rent']\n",
      "louve.N2.N22.B <type 'unicode'>\n",
      "[u'louve', u'louves', u'lOUP', u'lOUPs']\n",
      "terrible.A2 <type 'unicode'>\n",
      "[u'terrible', u'terribles']\n"
     ]
    }
   ],
   "source": [
    "for element in PFM.lexique.lexemes:\n",
    "    print element, type(element)\n",
    "    print PFM.lexique.lexemes[element].formes"
   ]
  },
  {
   "cell_type": "code",
   "execution_count": 86,
   "metadata": {
    "collapsed": false
   },
   "outputs": [
    {
     "data": {
      "text/plain": [
       "etraZ, A2, terrible.A2\n",
       "\t\tetraZ :\n",
       "\t\t\tADJ, CF=A2,  Genre=A, Nombre=Sg:\tetraZol\tterrible\\cacherGloses{.A2}\\cacherGloses{-A2.Sg}\\cacherGloses{-A2.A}\tetraZ-o-l\t\\textRadical{etraZ}ol\n",
       "\t\t\tADJ, CF=A2,  Genre=A, Nombre=Du:\tetraZul\tterrible\\cacherGloses{.A2}\\cacherGloses{-A2.Du}\\cacherGloses{-A2.A}\tetraZ-u-l\t\\textRadical{etraZ}ul\n",
       "\t\t\tADJ, CF=A2,  Genre=A, Nombre=Pl:\tetraZil\tterrible\\cacherGloses{.A2}\\cacherGloses{-A2.Pl}\\cacherGloses{-A2.A}\tetraZ-i-l\t\\textRadical{etraZ}il\n",
       "\t\t\tADJ, CF=A2,  Genre=B, Nombre=Sg:\tetraZo\tterrible\\cacherGloses{.A2}\\cacherGloses{-A2.Sg}\tetraZo\t\\textRadical{etraZ}o\n",
       "\t\t\tADJ, CF=A2,  Genre=B, Nombre=Du:\tetraZu\tterrible\\cacherGloses{.A2}\\cacherGloses{-A2.Du}\tetraZu\t\\textRadical{etraZ}u\n",
       "\t\t\tADJ, CF=A2,  Genre=B, Nombre=Pl:\tetraZi\tterrible\\cacherGloses{.A2}\\cacherGloses{-A2.Pl}\tetraZi\t\\textRadical{etraZ}i\n",
       "\t\t\tADJ, CF=A2,  Genre=C, Nombre=Sg:\tetraZov\tterrible\\cacherGloses{.A2}\\cacherGloses{-A2.Sg}\\cacherGloses{-A2.C}\tetraZ-o-v\t\\textRadical{etraZ}ov\n",
       "\t\t\tADJ, CF=A2,  Genre=C, Nombre=Du:\tetraZuv\tterrible\\cacherGloses{.A2}\\cacherGloses{-A2.Du}\\cacherGloses{-A2.C}\tetraZ-u-v\t\\textRadical{etraZ}uv\n",
       "\t\t\tADJ, CF=A2,  Genre=C, Nombre=Pl:\tetraZiv\tterrible\\cacherGloses{.A2}\\cacherGloses{-A2.Pl}\\cacherGloses{-A2.C}\tetraZ-i-v\t\\textRadical{etraZ}iv\n",
       "\t\t\tADJ, CF=A2,  Genre=D, Nombre=Sg:\tetraZom\tterrible\\cacherGloses{.A2}\\cacherGloses{-A2.Sg}\\cacherGloses{-A2.D}\tetraZ-o-m\t\\textRadical{etraZ}om\n",
       "\t\t\tADJ, CF=A2,  Genre=D, Nombre=Du:\tetraZum\tterrible\\cacherGloses{.A2}\\cacherGloses{-A2.Du}\\cacherGloses{-A2.D}\tetraZ-u-m\t\\textRadical{etraZ}um\n",
       "\t\t\tADJ, CF=A2,  Genre=D, Nombre=Pl:\tetraZim\tterrible\\cacherGloses{.A2}\\cacherGloses{-A2.Pl}\\cacherGloses{-A2.D}\tetraZ-i-m\t\\textRadical{etraZ}im"
      ]
     },
     "execution_count": 86,
     "metadata": {},
     "output_type": "execute_result"
    }
   ],
   "source": [
    "PFM.lexique.lexemes[\"terrible.A2\"]"
   ]
  },
  {
   "cell_type": "code",
   "execution_count": 87,
   "metadata": {
    "collapsed": false
   },
   "outputs": [
    {
     "data": {
      "text/plain": [
       "l, DET, DEM\n",
       "\t\tl :\n",
       "\t\t\tDET, Nombre=Sg, Cas=Erg:\ttekul\t\\cacherGloses{Erg-}\\cacherGloses{Sg-}DEM\tte-ku-l\tteku\\textRadical{l}\n",
       "\t\t\tDET, Nombre=Sg, Cas=Abs:\tpikul\t\\cacherGloses{Abs-}\\cacherGloses{Sg-}DEM\tpi-ku-l\tpiku\\textRadical{l}\n",
       "\t\t\tDET, Nombre=Sg, Cas=Dat:\tkulna\t\\cacherGloses{Sg-}DEM\\cacherGloses{-Dat}\tku-l-na\tku\\textRadical{l}na\n",
       "\t\t\tDET, Nombre=Sg, Cas=Obl:\tkulro\t\\cacherGloses{Sg-}DEM\\cacherGloses{-Obl}\tku-l-ro\tku\\textRadical{l}ro\n",
       "\t\t\tDET, Nombre=Du, Cas=Erg:\ttelab\t\\cacherGloses{Erg-}DEM\\cacherGloses{-Du}\tte-l-ab\tte\\textRadical{l}ab\n",
       "\t\t\tDET, Nombre=Du, Cas=Abs:\tpilab\t\\cacherGloses{Abs-}DEM\\cacherGloses{-Du}\tpi-l-ab\tpi\\textRadical{l}ab\n",
       "\t\t\tDET, Nombre=Du, Cas=Dat:\tlabna\tDEM\\cacherGloses{-Du}\\cacherGloses{-Dat}\tl-ab-na\t\\textRadical{l}abna\n",
       "\t\t\tDET, Nombre=Du, Cas=Obl:\tlabro\tDEM\\cacherGloses{-Du}\\cacherGloses{-Obl}\tl-ab-ro\t\\textRadical{l}abro\n",
       "\t\t\tDET, Nombre=Pl, Cas=Erg:\ttedol\t\\cacherGloses{Erg-}\\cacherGloses{Pl-}DEM\tte-do-l\ttedo\\textRadical{l}\n",
       "\t\t\tDET, Nombre=Pl, Cas=Abs:\tpidol\t\\cacherGloses{Abs-}\\cacherGloses{Pl-}DEM\tpi-do-l\tpido\\textRadical{l}\n",
       "\t\t\tDET, Nombre=Pl, Cas=Dat:\tdolna\t\\cacherGloses{Pl-}DEM\\cacherGloses{-Dat}\tdo-l-na\tdo\\textRadical{l}na\n",
       "\t\t\tDET, Nombre=Pl, Cas=Obl:\tdolro\t\\cacherGloses{Pl-}DEM\\cacherGloses{-Obl}\tdo-l-ro\tdo\\textRadical{l}ro"
      ]
     },
     "execution_count": 87,
     "metadata": {},
     "output_type": "execute_result"
    }
   ],
   "source": [
    "PFM.lexique.lexemes[\"DEM\"]"
   ]
  },
  {
   "cell_type": "code",
   "execution_count": 88,
   "metadata": {
    "collapsed": false
   },
   "outputs": [],
   "source": [
    "#lexique.lexemes.keys()"
   ]
  },
  {
   "cell_type": "code",
   "execution_count": 89,
   "metadata": {
    "collapsed": false
   },
   "outputs": [
    {
     "data": {
      "text/plain": [
       "[u'B']"
      ]
     },
     "execution_count": 89,
     "metadata": {},
     "output_type": "execute_result"
    }
   ],
   "source": [
    "mot=\"lOUPs\"\n",
    "classesNom=PFM.lexique.formeLexeme[mot][0].split('.')[1:]\n",
    "[classeElement for classeElement in classesNom if classeElement in gloses[\"NOM\"][\"Genre\"]]"
   ]
  },
  {
   "cell_type": "code",
   "execution_count": null,
   "metadata": {
    "collapsed": true
   },
   "outputs": [],
   "source": []
  }
 ],
 "metadata": {
  "kernelspec": {
   "display_name": "Python 2",
   "language": "python",
   "name": "python2"
  },
  "language_info": {
   "codemirror_mode": {
    "name": "ipython",
    "version": 2
   },
   "file_extension": ".py",
   "mimetype": "text/x-python",
   "name": "python",
   "nbconvert_exporter": "python",
   "pygments_lexer": "ipython2",
   "version": "2.7.12"
  }
 },
 "nbformat": 4,
 "nbformat_minor": 0
}

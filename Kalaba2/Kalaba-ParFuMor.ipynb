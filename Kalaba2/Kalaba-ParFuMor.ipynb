{
 "cells": [
  {
   "cell_type": "markdown",
   "metadata": {},
   "source": [
    "# ParFuMor (version YAML & Objets)"
   ]
  },
  {
   "cell_type": "code",
   "execution_count": 17,
   "metadata": {
    "collapsed": false
   },
   "outputs": [],
   "source": [
    "# -*- coding: utf8 -*-\n",
    "from os.path import expanduser\n",
    "home = expanduser(\"~\")\n",
    "repertoire=home+\"/ownCloud/Cours/Bordeaux/L1-LinguistiqueGenerale/Kalaba-Project/16-K2\"\n",
    "serie=repertoire+\"/\"\n",
    "\n",
    "import yaml\n",
    "import itertools\n",
    "#import re\n",
    "import ParFuMor as PFM\n",
    "from ParFuMor import *\n",
    "import pickle"
   ]
  },
  {
   "cell_type": "code",
   "execution_count": 18,
   "metadata": {
    "collapsed": false
   },
   "outputs": [],
   "source": [
    "with open(serie+\"Gloses.yaml\", 'r') as stream:\n",
    "    gloses=yaml.load(stream)\n",
    "    PFM.gloses=gloses\n",
    "with open(serie+\"Stems.yaml\", 'r') as stream:\n",
    "    stems=yaml.load(stream)\n",
    "    PFM.stems=stems\n",
    "with open(serie+\"Blocks.yaml\", 'r') as stream:\n",
    "    blocks=yaml.load(stream)\n",
    "    PFM.blocks=blocks\n",
    "with open(serie+\"Phonology.yaml\", 'r') as stream:\n",
    "    phonology=yaml.load(stream)\n",
    "    PFM.phonology=phonology\n",
    "with open(serie+\"MorphoSyntax.yaml\", 'r') as stream:\n",
    "    morphosyntax=yaml.load(stream)\n",
    "    PFM.morphosyntax=morphosyntax"
   ]
  },
  {
   "cell_type": "code",
   "execution_count": 19,
   "metadata": {
    "collapsed": false
   },
   "outputs": [],
   "source": [
    "regles=Regles()\n",
    "PFM.regles=regles\n",
    "for categorie in blocks:\n",
    "    regles.addBlocs(categorie,blocks[categorie])\n"
   ]
  },
  {
   "cell_type": "code",
   "execution_count": 20,
   "metadata": {
    "collapsed": false
   },
   "outputs": [],
   "source": [
    "paradigmes=Paradigmes()\n",
    "PFM.paradigmes=paradigmes"
   ]
  },
  {
   "cell_type": "code",
   "execution_count": 21,
   "metadata": {
    "collapsed": false
   },
   "outputs": [],
   "source": [
    "hierarchieCF=HierarchieCF()\n",
    "PFM.hierarchieCF=hierarchieCF\n",
    "lexique=Lexique()\n",
    "PFM.lexique=lexique\n"
   ]
  },
  {
   "cell_type": "code",
   "execution_count": 22,
   "metadata": {
    "collapsed": false
   },
   "outputs": [],
   "source": [
    "paradigmes=Paradigmes()\n",
    "PFM.paradigmes=paradigmes"
   ]
  },
  {
   "cell_type": "code",
   "execution_count": 23,
   "metadata": {
    "collapsed": false
   },
   "outputs": [],
   "source": [
    "paradigmes=Paradigmes()\n",
    "PFM.paradigmes=paradigmes\n",
    "for cat in gloses:\n",
    "#    print cat\n",
    "    attributes=[]\n",
    "    if gloses[cat]:\n",
    "        if set(gloses[cat].keys())==set(morphosyntax[\"Attributs\"][cat]):\n",
    "            features=morphosyntax[\"Attributs\"][cat]\n",
    "#            print \"inhérent\",features\n",
    "        else:\n",
    "            features=gloses[cat].keys()\n",
    "#            print \"contextuel\",features\n",
    "        for attribute in features:\n",
    "            attributes.append(gloses[cat][attribute])\n",
    "        nuplets=(itertools.product(*attributes))\n",
    "        for nuplet in nuplets:\n",
    "            proprietes=[cat]\n",
    "            for element in range(len(nuplet)):\n",
    "                proprietes.append(u\"%s=%s\"%(features[element],nuplet[element]))\n",
    "            paradigmes.addForme(cat,proprietes)"
   ]
  },
  {
   "cell_type": "code",
   "execution_count": 24,
   "metadata": {
    "collapsed": false
   },
   "outputs": [
    {
     "name": "stdout",
     "output_type": "stream",
     "text": [
      "VER : Temps Pers Genre\n",
      "NOM : Genre Nombre Cas\n",
      "DET : Genre Nombre Cas\n",
      "ADJ : Genre Nombre\n",
      "head stems\n",
      "head stems,VER\n",
      "head stems,NOM\n",
      "head stems,NOM,F\n",
      "head stems,NOM,M\n",
      "head stems,NOM,N\n",
      "head stems,DET\n"
     ]
    }
   ],
   "source": [
    "analyserGloses(gloses)\n",
    "analyserStems(stems)"
   ]
  },
  {
   "cell_type": "code",
   "execution_count": 25,
   "metadata": {
    "collapsed": false
   },
   "outputs": [],
   "source": [
    "with open(serie+\"Hierarchie-S2.pkl\", 'wb') as output:\n",
    "   pickle.dump(hierarchieCF, output, pickle.HIGHEST_PROTOCOL)\n",
    "with open(serie+\"Lexique-S2.pkl\", 'wb') as output:\n",
    "   pickle.dump(lexique, output, pickle.HIGHEST_PROTOCOL)\n",
    "with open(serie+\"Regles-S2.pkl\", 'wb') as output:\n",
    "   pickle.dump(regles, output, pickle.HIGHEST_PROTOCOL)\n"
   ]
  },
  {
   "cell_type": "code",
   "execution_count": 26,
   "metadata": {
    "collapsed": true
   },
   "outputs": [],
   "source": [
    "#def chaine2utf8(chaine):\n",
    "#    if type(chaine)==str:\n",
    "#        result=unicode(chaine.decode('utf8'))\n",
    "#    elif type(chaine)==unicode:\n",
    "#        result=chaine\n",
    "#    return result"
   ]
  },
  {
   "cell_type": "code",
   "execution_count": 27,
   "metadata": {
    "collapsed": false
   },
   "outputs": [],
   "source": [
    "#u\"rêvasser.I.VI\" in PFM.lexique.lexemes"
   ]
  },
  {
   "cell_type": "code",
   "execution_count": 28,
   "metadata": {
    "collapsed": false,
    "scrolled": true
   },
   "outputs": [
    {
     "name": "stdout",
     "output_type": "stream",
     "text": [
      "transformer.V1 <type 'unicode'>\n",
      "[u'transformer', u'transforme', u'transforment', u'transformait', u'transformaient']\n",
      "envahir.V1 <type 'unicode'>\n",
      "[u'envahir', u'envahit', u'envahissent', u'envahissait', u'envahissaient']\n",
      "ombre.F.N2 <type 'unicode'>\n",
      "[u'ombre', u'ombres']\n",
      "sortir.V1 <type 'unicode'>\n",
      "[u'sortir', u'sorT', u'sortent', u'sortait', u'sortaient', u'sortit', u'sortirent']\n",
      "milieu.N.N1 <type 'unicode'>\n",
      "[u'milieu', u'milieux']\n",
      "donner.V2 <type 'unicode'>\n",
      "[u'donner', u'donne', u'donnent', u'donnait', u'donnaient']\n",
      "rouge <type 'unicode'>\n",
      "[u'rouge', u'rouges']\n",
      "forêt.F.N2 <type 'unicode'>\n",
      "[u'for\\xeat', u'for\\xeats']\n",
      "noir <type 'unicode'>\n",
      "[u'noir', u'noire', u'noirs', u'noires']\n",
      "être.V1 <type 'unicode'>\n",
      "[u'\\xeatre', u'est', u'sont', u'\\xe9tait', u'\\xe9taient']\n",
      "différent <type 'unicode'>\n",
      "[u'diff\\xe9rent', u'diff\\xe9rents', u'diff\\xe9rente', u'diff\\xe9rentes']\n",
      "vers <type 'unicode'>\n",
      "[u'vers']\n",
      "apporter.V1 <type 'unicode'>\n",
      "[u'apporter', u'apporte', u'apportent', u'apportait', u'apportaient', u'apporta', u'apport\\xe8rent']\n",
      "de <type 'unicode'>\n",
      "[u'de', u'd']\n",
      "maison.F.N1 <type 'unicode'>\n",
      "[u'maison', u'maisons']\n",
      "combattant.F.N1 <type 'unicode'>\n",
      "[u'combattant', u'combattants']\n",
      "Kaleb.M.N2 <type 'unicode'>\n",
      "[u'Kaleb']\n",
      "villageois.M.N2 <type 'unicode'>\n",
      "[u'villageois', u'villageoiS']\n",
      "coup.N.N1 <type 'unicode'>\n",
      "[u'coup', u'coups']\n",
      "blessé <type 'unicode'>\n",
      "[u'bless\\xe9', u'bless\\xe9s', u'bless\\xe9e', u'bless\\xe9es']\n",
      "disparaître.V1 <type 'unicode'>\n",
      "[u'dispara\\xeetre', u'dispara\\xeet', u'disparaissent', u'disparaissait', u'disparaissaient']\n",
      "IND.ART <type 'unicode'>\n",
      "[u'IND', u'un', u'une', u'des', u'dE']\n",
      "fille.F.N1 <type 'unicode'>\n",
      "[u'fille', u'filles']\n",
      "souffrance.M.N2 <type 'unicode'>\n",
      "[u'souffrance', u'souffrances']\n",
      "gorge.N.N1 <type 'unicode'>\n",
      "[u'gorge', u'gorges']\n",
      "furieux <type 'unicode'>\n",
      "[u'furieux', u'furieuse', u'furieuses']\n",
      "fuir.V1 <type 'unicode'>\n",
      "[u'fuir', u'fuit', u'fuient', u'fuyait', u'fuyaient']\n",
      "profond <type 'unicode'>\n",
      "[u'profond', u'profonds', u'profonde', u'profondes']\n",
      "sort.F.N2 <type 'unicode'>\n",
      "[u'sort', u'sorts']\n",
      "arbre.M.N2 <type 'unicode'>\n",
      "[u'arbre', u'arbres']\n",
      "lance.N.N2 <type 'unicode'>\n",
      "[u'lance', u'lances']\n",
      "courageux <type 'unicode'>\n",
      "[u'courageux', u'courageuse', u'courageuses']\n",
      "chercher.V2 <type 'unicode'>\n",
      "[u'chercher', u'cherche', u'cherchent', u'cherchait', u'cherchaient']\n",
      "aller.V2 <type 'unicode'>\n",
      "[u'aller', u'va', u'vont', u'allait', u'allaient']\n",
      "sur <type 'unicode'>\n",
      "[u'sur']\n",
      "croc.N.N2 <type 'unicode'>\n",
      "[u'croc', u'crocs']\n",
      "jeter.V1 <type 'unicode'>\n",
      "[u'jeter', u'jette', u'jettent', u'jetait', u'jetaient']\n",
      "dévorer.V1 <type 'unicode'>\n",
      "[u'd\\xe9vorer', u'd\\xe9vore', u'd\\xe9vorent', u'd\\xe9vorait', u'd\\xe9voraient']\n",
      "parler.V2 <type 'unicode'>\n",
      "[u'parler', u'parle', u'parlent', u'parlait', u'parlaient', u'parla', u'parl\\xe8rent']\n",
      "blessure.N.N2 <type 'unicode'>\n",
      "[u'blessure', u'blessures']\n",
      "sauter.V2 <type 'unicode'>\n",
      "[u'sauter', u'saute', u'sautent', u'sautait', u'sautaient']\n",
      "DEF.ART <type 'unicode'>\n",
      "[u'DEF', u'le', u'la', u'les', u'l']\n",
      "cri.N.N2 <type 'unicode'>\n",
      "[u'cri', u'cris']\n",
      "Violette.F.N1 <type 'unicode'>\n",
      "[u'Violette']\n",
      "courir.V1 <type 'unicode'>\n",
      "[u'courir', u'court', u'courent', u'courait', u'couraient']\n",
      "à <type 'unicode'>\n",
      "[u'\\xe0']\n",
      "terrible <type 'unicode'>\n",
      "[u'terrible', u'terribles']\n",
      "mort.M.N2 <type 'unicode'>\n",
      "[u'mort', u'morts']\n",
      "soeur.M.N1 <type 'unicode'>\n",
      "[u'soeur', u'soeurs', u's\\u0153ur', u's\\u0153urs']\n",
      "louve.F.N1 <type 'unicode'>\n",
      "[u'louve', u'louves']\n",
      "tomber.V2 <type 'unicode'>\n",
      "[u'tomber', u'tombe', u'tombent', u'tombait', u'tombaient']\n",
      "démon.M.N1 <type 'unicode'>\n",
      "[u'd\\xe9mon', u'd\\xe9mons']\n",
      "approcher.V2 <type 'unicode'>\n",
      "[u'approcher', u'approche', u'approchent', u'approchait', u'approchaient']\n",
      "chasser.V2 <type 'unicode'>\n",
      "[u'chasser', u'chasse', u'chassent', u'chassait', u'chassaient']\n",
      "voir.V1 <type 'unicode'>\n",
      "[u'voir', u'voit', u'voient', u'voyait', u'voyaient', u'vit', u'virent']\n",
      "blanc <type 'unicode'>\n",
      "[u'blanc', u'blanche', u'blancs', u'blanches']\n",
      "Mahira.F.N2 <type 'unicode'>\n",
      "[u'Mahira']\n",
      "avec <type 'unicode'>\n",
      "[u'avec']\n",
      "après <type 'unicode'>\n",
      "[u'apr\\xe8s']\n",
      "prendre.V1 <type 'unicode'>\n",
      "[u'prendre', u'prend', u'prennent', u'prenait', u'prenaient']\n",
      "enfant.M.N1 <type 'unicode'>\n",
      "[u'enfant', u'enfants', u'enfANT', u'enfANTs']\n",
      "combat.N.N1 <type 'unicode'>\n",
      "[u'combat', u'combats']\n",
      "DEM.DEM <type 'unicode'>\n",
      "[u'DEM', u'ce', u'cet', u'cette', u'ces']\n",
      "protéger.V2 <type 'unicode'>\n",
      "[u'prot\\xe9ger', u'prot\\xe8ge', u'prot\\xe8gent', u'prot\\xe9geait', u'prot\\xe9geaient']\n",
      "village.N.N1 <type 'unicode'>\n",
      "[u'village', u'villages']\n",
      "villageoise.F.N1 <type 'unicode'>\n",
      "[u'villageoise', u'villageoises', u'villagEOIs', u'villagEOIS']\n",
      "devant <type 'unicode'>\n",
      "[u'devant']\n",
      "pousser.V2 <type 'unicode'>\n",
      "[u'pousser', u'pousse', u'poussent', u'poussait', u'poussaient']\n",
      "lueur.M.N1 <type 'unicode'>\n",
      "[u'lueur', u'lueurs']\n",
      "dans <type 'unicode'>\n",
      "[u'dans']\n",
      "derrière <type 'unicode'>\n",
      "[u'derri\\xe8re']\n",
      "main.N.N2 <type 'unicode'>\n",
      "[u'main', u'mains']\n",
      "loup.M.N1 <type 'unicode'>\n",
      "[u'loup', u'loups', u'lOUP', u'lOUPs']\n",
      "lune.F.N2 <type 'unicode'>\n",
      "[u'lune', u'lunes']\n",
      "chef.M.N2 <type 'unicode'>\n",
      "[u'chef', u'chefs', u'cheffe', u'cheffes']\n",
      "petit <type 'unicode'>\n",
      "[u'petit', u'petite', u'petits', u'petites']\n",
      "couteau.N.N2 <type 'unicode'>\n",
      "[u'couteau', u'couteaux']\n",
      "planter.V1 <type 'unicode'>\n",
      "[u'planter', u'plante', u'plantent', u'plantait', u'plantaient']\n",
      "colère.N.N2 <type 'unicode'>\n",
      "[u'col\\xe8re', u'col\\xe8res']\n",
      "suivant <type 'unicode'>\n",
      "[u'suivant', u'suivants', u'suivante', u'suivantes']\n",
      "rejoindre.V2 <type 'unicode'>\n",
      "[u'rejoindre', u'rejoint', u'rejoignent', u'rejoignait', u'rejoignaient']\n",
      "nuit.F.N2 <type 'unicode'>\n",
      "[u'nuit', u'nuits']\n",
      "homme.M.N1 <type 'unicode'>\n",
      "[u'homme', u'hommes']\n",
      "grand <type 'unicode'>\n",
      "[u'grand', u'grande', u'grands', u'grandes']\n",
      "visage.N.N1 <type 'unicode'>\n",
      "[u'visage', u'visages']\n",
      "enfant.F.N1 <type 'unicode'>\n",
      "[u'enfant', u'enfANTs']\n",
      "recouvrir.V2 <type 'unicode'>\n",
      "[u'recouvrir', u'recouvre', u'recouvrent', u'recouvrait', u'recouvraient']\n",
      "serpent.M.N2 <type 'unicode'>\n",
      "[u'serpent', u'serpents']\n",
      "entre <type 'unicode'>\n",
      "[u'entre']\n",
      "transpercer.V1 <type 'unicode'>\n",
      "[u'transpercer', u'transperce', u'transpercent', u'transper\\xe7ait', u'transper\\xe7aient']\n",
      "effrayé <type 'unicode'>\n",
      "[u'effray\\xe9', u'effray\\xe9s', u'effray\\xe9e', u'effray\\xe9es']\n",
      "corps.N.N1 <type 'unicode'>\n",
      "[u'corps', u'corpS']\n",
      "passer.V2 <type 'unicode'>\n",
      "[u'passer', u'passe', u'passent', u'passait', u'passaient', u'passa', u'pass\\xe8rent']\n"
     ]
    }
   ],
   "source": [
    "for element in PFM.lexique.lexemes:\n",
    "    print element, type(element)\n",
    "    print PFM.lexique.lexemes[element].formes"
   ]
  },
  {
   "cell_type": "code",
   "execution_count": 29,
   "metadata": {
    "collapsed": false
   },
   "outputs": [
    {
     "name": "stdout",
     "output_type": "stream",
     "text": [
      "case ADJ, Genre=M, Nombre=Sg:\tatrozo\tterrible\\cacherGloses{-M}\tatrozo\t\\textRadical{atroz}o\tradical: atroz\tracine:  \n",
      "case ADJ, Genre=M, Nombre=Du:\tatrozosi\tterrible\\cacherGloses{-M}\\cacherGloses{-Du}\\cacherGloses{-M.Du}\tatroz-o-s-i\t\\textRadical{atroz}osi\tradical: atroz\tracine:  \n",
      "case ADJ, Genre=M, Nombre=Pl:\tatrozoii\tterrible\\cacherGloses{-M}\\cacherGloses{-Pl}\\cacherGloses{-M.Pl}\tatroz-o-i-i\t\\textRadical{atroz}oii\tradical: atroz\tracine:  \n",
      "case ADJ, Genre=F, Nombre=Sg:\tatroza\tterrible\\cacherGloses{-F}\tatroza\t\\textRadical{atroz}a\tradical: atroz\tracine:  \n",
      "case ADJ, Genre=F, Nombre=Du:\tatrozas\tterrible\\cacherGloses{-F}\\cacherGloses{-Du}\tatroz-a-s\t\\textRadical{atroz}as\tradical: atroz\tracine:  \n",
      "case ADJ, Genre=F, Nombre=Pl:\tatrozai\tterrible\\cacherGloses{-F}\\cacherGloses{-Pl}\tatroz-a-i\t\\textRadical{atroz}ai\tradical: atroz\tracine:  \n",
      "case ADJ, Genre=N, Nombre=Sg:\tatrozu\tterrible\\cacherGloses{-N}\tatrozu\t\\textRadical{atroz}u\tradical: atroz\tracine:  \n",
      "case ADJ, Genre=N, Nombre=Du:\tatrozul\tterrible\\cacherGloses{-N}\\cacherGloses{-Du.N}\tatroz-u-l\t\\textRadical{atroz}ul\tradical: atroz\tracine:  \n",
      "case ADJ, Genre=N, Nombre=Pl:\tatrozus\tterrible\\cacherGloses{-N}\\cacherGloses{-Pl.N}\tatroz-u-s\t\\textRadical{atroz}us\tradical: atroz\tracine:  \n"
     ]
    },
    {
     "data": {
      "text/plain": [
       "atroz, ADJ, terrible\n",
       "\t\tatroz :\n",
       "\t\t\tADJ, Genre=M, Nombre=Sg:\tatrozo\tterrible\\cacherGloses{-M}\tatrozo\t\\textRadical{atroz}o\tradical: atroz\tracine: \n",
       "\t\t\tADJ, Genre=M, Nombre=Du:\tatrozosi\tterrible\\cacherGloses{-M}\\cacherGloses{-Du}\\cacherGloses{-M.Du}\tatroz-o-s-i\t\\textRadical{atroz}osi\tradical: atroz\tracine: \n",
       "\t\t\tADJ, Genre=M, Nombre=Pl:\tatrozoii\tterrible\\cacherGloses{-M}\\cacherGloses{-Pl}\\cacherGloses{-M.Pl}\tatroz-o-i-i\t\\textRadical{atroz}oii\tradical: atroz\tracine: \n",
       "\t\t\tADJ, Genre=F, Nombre=Sg:\tatroza\tterrible\\cacherGloses{-F}\tatroza\t\\textRadical{atroz}a\tradical: atroz\tracine: \n",
       "\t\t\tADJ, Genre=F, Nombre=Du:\tatrozas\tterrible\\cacherGloses{-F}\\cacherGloses{-Du}\tatroz-a-s\t\\textRadical{atroz}as\tradical: atroz\tracine: \n",
       "\t\t\tADJ, Genre=F, Nombre=Pl:\tatrozai\tterrible\\cacherGloses{-F}\\cacherGloses{-Pl}\tatroz-a-i\t\\textRadical{atroz}ai\tradical: atroz\tracine: \n",
       "\t\t\tADJ, Genre=N, Nombre=Sg:\tatrozu\tterrible\\cacherGloses{-N}\tatrozu\t\\textRadical{atroz}u\tradical: atroz\tracine: \n",
       "\t\t\tADJ, Genre=N, Nombre=Du:\tatrozul\tterrible\\cacherGloses{-N}\\cacherGloses{-Du.N}\tatroz-u-l\t\\textRadical{atroz}ul\tradical: atroz\tracine: \n",
       "\t\t\tADJ, Genre=N, Nombre=Pl:\tatrozus\tterrible\\cacherGloses{-N}\\cacherGloses{-Pl.N}\tatroz-u-s\t\\textRadical{atroz}us\tradical: atroz\tracine: "
      ]
     },
     "execution_count": 29,
     "metadata": {},
     "output_type": "execute_result"
    }
   ],
   "source": [
    "PFM.lexique.lexemes[\"terrible\"]"
   ]
  },
  {
   "cell_type": "code",
   "execution_count": 31,
   "metadata": {
    "collapsed": false
   },
   "outputs": [
    {
     "name": "stdout",
     "output_type": "stream",
     "text": [
      "case DET, CF=DEM,  Genre=M, Nombre=Sg, Cas=Nom:\tsotne\tDEM\\cacherGloses{.DEM}\\cacherGloses{xM.DEM}\\cacherGloses{-Nom}\\cacherGloses{-Sg.DEM}\tracine(st)x1o2-n-e\t\\textRacineC{s}o\\textRacineC{t}ne\tradical: st\tracine: stta stta\n",
      "case DET, CF=DEM,  Genre=M, Nombre=Sg, Cas=Acc:\tsotke\tDEM\\cacherGloses{.DEM}\\cacherGloses{xM.DEM}\\cacherGloses{-Acc}\\cacherGloses{-Sg.DEM}\tracine(st)x1o2-k-e\t\\textRacineC{s}o\\textRacineC{t}ke\tradical: st\tracine: stta stta\n",
      "case DET, CF=DEM,  Genre=M, Nombre=Sg, Cas=Dat:\tsotde\tDEM\\cacherGloses{.DEM}\\cacherGloses{xM.DEM}\\cacherGloses{-Dat}\\cacherGloses{-Sg.DEM}\tracine(st)x1o2-d-e\t\\textRacineC{s}o\\textRacineC{t}de\tradical: st\tracine: stta stta\n",
      "case DET, CF=DEM,  Genre=M, Nombre=Sg, Cas=Obl:\tsotbe\tDEM\\cacherGloses{.DEM}\\cacherGloses{xM.DEM}\\cacherGloses{-Obl}\\cacherGloses{-Sg.DEM}\tracine(st)x1o2-b-e\t\\textRacineC{s}o\\textRacineC{t}be\tradical: st\tracine: stta stta\n",
      "case DET, CF=DEM,  Genre=M, Nombre=Du, Cas=Nom:\tsotnu\tDEM\\cacherGloses{.DEM}\\cacherGloses{xM.DEM}\\cacherGloses{-Nom}\\cacherGloses{-Du}\tracine(st)x1o2-n-u\t\\textRacineC{s}o\\textRacineC{t}nu\tradical: st\tracine: stta stta\n",
      "case DET, CF=DEM,  Genre=M, Nombre=Du, Cas=Acc:\tsotku\tDEM\\cacherGloses{.DEM}\\cacherGloses{xM.DEM}\\cacherGloses{-Acc}\\cacherGloses{-Du}\tracine(st)x1o2-k-u\t\\textRacineC{s}o\\textRacineC{t}ku\tradical: st\tracine: stta stta\n",
      "case DET, CF=DEM,  Genre=M, Nombre=Du, Cas=Dat:\tsotdu\tDEM\\cacherGloses{.DEM}\\cacherGloses{xM.DEM}\\cacherGloses{-Dat}\\cacherGloses{-Du}\tracine(st)x1o2-d-u\t\\textRacineC{s}o\\textRacineC{t}du\tradical: st\tracine: stta stta\n",
      "case DET, CF=DEM,  Genre=M, Nombre=Du, Cas=Obl:\tsotbu\tDEM\\cacherGloses{.DEM}\\cacherGloses{xM.DEM}\\cacherGloses{-Obl}\\cacherGloses{-Du}\tracine(st)x1o2-b-u\t\\textRacineC{s}o\\textRacineC{t}bu\tradical: st\tracine: stta stta\n",
      "case DET, CF=DEM,  Genre=M, Nombre=Pl, Cas=Nom:\tsotni\tDEM\\cacherGloses{.DEM}\\cacherGloses{xM.DEM}\\cacherGloses{-Nom}\\cacherGloses{-Pl}\tracine(st)x1o2-n-i\t\\textRacineC{s}o\\textRacineC{t}ni\tradical: st\tracine: stta stta\n",
      "case DET, CF=DEM,  Genre=M, Nombre=Pl, Cas=Acc:\tsotki\tDEM\\cacherGloses{.DEM}\\cacherGloses{xM.DEM}\\cacherGloses{-Acc}\\cacherGloses{-Pl}\tracine(st)x1o2-k-i\t\\textRacineC{s}o\\textRacineC{t}ki\tradical: st\tracine: stta stta\n",
      "case DET, CF=DEM,  Genre=M, Nombre=Pl, Cas=Dat:\tsotdi\tDEM\\cacherGloses{.DEM}\\cacherGloses{xM.DEM}\\cacherGloses{-Dat}\\cacherGloses{-Pl}\tracine(st)x1o2-d-i\t\\textRacineC{s}o\\textRacineC{t}di\tradical: st\tracine: stta stta\n",
      "case DET, CF=DEM,  Genre=M, Nombre=Pl, Cas=Obl:\tsotbi\tDEM\\cacherGloses{.DEM}\\cacherGloses{xM.DEM}\\cacherGloses{-Obl}\\cacherGloses{-Pl}\tracine(st)x1o2-b-i\t\\textRacineC{s}o\\textRacineC{t}bi\tradical: st\tracine: stta stta\n",
      "case DET, CF=DEM,  Genre=F, Nombre=Sg, Cas=Nom:\tsatne\tDEM\\cacherGloses{.DEM}\\cacherGloses{xF.DEM}\\cacherGloses{-Nom}\\cacherGloses{-Sg.DEM}\tracine(st)x1a2-n-e\t\\textRacineC{s}a\\textRacineC{t}ne\tradical: st\tracine: stta stta\n",
      "case DET, CF=DEM,  Genre=F, Nombre=Sg, Cas=Acc:\tsatke\tDEM\\cacherGloses{.DEM}\\cacherGloses{xF.DEM}\\cacherGloses{-Acc}\\cacherGloses{-Sg.DEM}\tracine(st)x1a2-k-e\t\\textRacineC{s}a\\textRacineC{t}ke\tradical: st\tracine: stta stta\n",
      "case DET, CF=DEM,  Genre=F, Nombre=Sg, Cas=Dat:\tsatde\tDEM\\cacherGloses{.DEM}\\cacherGloses{xF.DEM}\\cacherGloses{-Dat}\\cacherGloses{-Sg.DEM}\tracine(st)x1a2-d-e\t\\textRacineC{s}a\\textRacineC{t}de\tradical: st\tracine: stta stta\n",
      "case DET, CF=DEM,  Genre=F, Nombre=Sg, Cas=Obl:\tsatbe\tDEM\\cacherGloses{.DEM}\\cacherGloses{xF.DEM}\\cacherGloses{-Obl}\\cacherGloses{-Sg.DEM}\tracine(st)x1a2-b-e\t\\textRacineC{s}a\\textRacineC{t}be\tradical: st\tracine: stta stta\n",
      "case DET, CF=DEM,  Genre=F, Nombre=Du, Cas=Nom:\tsatnu\tDEM\\cacherGloses{.DEM}\\cacherGloses{xF.DEM}\\cacherGloses{-Nom}\\cacherGloses{-Du}\tracine(st)x1a2-n-u\t\\textRacineC{s}a\\textRacineC{t}nu\tradical: st\tracine: stta stta\n",
      "case DET, CF=DEM,  Genre=F, Nombre=Du, Cas=Acc:\tsatku\tDEM\\cacherGloses{.DEM}\\cacherGloses{xF.DEM}\\cacherGloses{-Acc}\\cacherGloses{-Du}\tracine(st)x1a2-k-u\t\\textRacineC{s}a\\textRacineC{t}ku\tradical: st\tracine: stta stta\n",
      "case DET, CF=DEM,  Genre=F, Nombre=Du, Cas=Dat:\tsatdu\tDEM\\cacherGloses{.DEM}\\cacherGloses{xF.DEM}\\cacherGloses{-Dat}\\cacherGloses{-Du}\tracine(st)x1a2-d-u\t\\textRacineC{s}a\\textRacineC{t}du\tradical: st\tracine: stta stta\n",
      "case DET, CF=DEM,  Genre=F, Nombre=Du, Cas=Obl:\tsatbu\tDEM\\cacherGloses{.DEM}\\cacherGloses{xF.DEM}\\cacherGloses{-Obl}\\cacherGloses{-Du}\tracine(st)x1a2-b-u\t\\textRacineC{s}a\\textRacineC{t}bu\tradical: st\tracine: stta stta\n",
      "case DET, CF=DEM,  Genre=F, Nombre=Pl, Cas=Nom:\tsatni\tDEM\\cacherGloses{.DEM}\\cacherGloses{xF.DEM}\\cacherGloses{-Nom}\\cacherGloses{-Pl}\tracine(st)x1a2-n-i\t\\textRacineC{s}a\\textRacineC{t}ni\tradical: st\tracine: stta stta\n",
      "case DET, CF=DEM,  Genre=F, Nombre=Pl, Cas=Acc:\tsatki\tDEM\\cacherGloses{.DEM}\\cacherGloses{xF.DEM}\\cacherGloses{-Acc}\\cacherGloses{-Pl}\tracine(st)x1a2-k-i\t\\textRacineC{s}a\\textRacineC{t}ki\tradical: st\tracine: stta stta\n",
      "case DET, CF=DEM,  Genre=F, Nombre=Pl, Cas=Dat:\tsatdi\tDEM\\cacherGloses{.DEM}\\cacherGloses{xF.DEM}\\cacherGloses{-Dat}\\cacherGloses{-Pl}\tracine(st)x1a2-d-i\t\\textRacineC{s}a\\textRacineC{t}di\tradical: st\tracine: stta stta\n",
      "case DET, CF=DEM,  Genre=F, Nombre=Pl, Cas=Obl:\tsatbi\tDEM\\cacherGloses{.DEM}\\cacherGloses{xF.DEM}\\cacherGloses{-Obl}\\cacherGloses{-Pl}\tracine(st)x1a2-b-i\t\\textRacineC{s}a\\textRacineC{t}bi\tradical: st\tracine: stta stta\n",
      "case DET, CF=DEM,  Genre=N, Nombre=Sg, Cas=Nom:\tsutne\tDEM\\cacherGloses{.DEM}\\cacherGloses{xN.DEM}\\cacherGloses{-Nom}\\cacherGloses{-Sg.DEM}\tracine(st)x1u2-n-e\t\\textRacineC{s}u\\textRacineC{t}ne\tradical: st\tracine: stta stta\n",
      "case DET, CF=DEM,  Genre=N, Nombre=Sg, Cas=Acc:\tsutke\tDEM\\cacherGloses{.DEM}\\cacherGloses{xN.DEM}\\cacherGloses{-Acc}\\cacherGloses{-Sg.DEM}\tracine(st)x1u2-k-e\t\\textRacineC{s}u\\textRacineC{t}ke\tradical: st\tracine: stta stta\n",
      "case DET, CF=DEM,  Genre=N, Nombre=Sg, Cas=Dat:\tsutde\tDEM\\cacherGloses{.DEM}\\cacherGloses{xN.DEM}\\cacherGloses{-Dat}\\cacherGloses{-Sg.DEM}\tracine(st)x1u2-d-e\t\\textRacineC{s}u\\textRacineC{t}de\tradical: st\tracine: stta stta\n",
      "case DET, CF=DEM,  Genre=N, Nombre=Sg, Cas=Obl:\tsutbe\tDEM\\cacherGloses{.DEM}\\cacherGloses{xN.DEM}\\cacherGloses{-Obl}\\cacherGloses{-Sg.DEM}\tracine(st)x1u2-b-e\t\\textRacineC{s}u\\textRacineC{t}be\tradical: st\tracine: stta stta\n",
      "case DET, CF=DEM,  Genre=N, Nombre=Du, Cas=Nom:\tsutnu\tDEM\\cacherGloses{.DEM}\\cacherGloses{xN.DEM}\\cacherGloses{-Nom}\\cacherGloses{-Du}\tracine(st)x1u2-n-u\t\\textRacineC{s}u\\textRacineC{t}nu\tradical: st\tracine: stta stta\n",
      "case DET, CF=DEM,  Genre=N, Nombre=Du, Cas=Acc:\tsutku\tDEM\\cacherGloses{.DEM}\\cacherGloses{xN.DEM}\\cacherGloses{-Acc}\\cacherGloses{-Du}\tracine(st)x1u2-k-u\t\\textRacineC{s}u\\textRacineC{t}ku\tradical: st\tracine: stta stta\n",
      "case DET, CF=DEM,  Genre=N, Nombre=Du, Cas=Dat:\tsutdu\tDEM\\cacherGloses{.DEM}\\cacherGloses{xN.DEM}\\cacherGloses{-Dat}\\cacherGloses{-Du}\tracine(st)x1u2-d-u\t\\textRacineC{s}u\\textRacineC{t}du\tradical: st\tracine: stta stta\n",
      "case DET, CF=DEM,  Genre=N, Nombre=Du, Cas=Obl:\tsutbu\tDEM\\cacherGloses{.DEM}\\cacherGloses{xN.DEM}\\cacherGloses{-Obl}\\cacherGloses{-Du}\tracine(st)x1u2-b-u\t\\textRacineC{s}u\\textRacineC{t}bu\tradical: st\tracine: stta stta\n",
      "case DET, CF=DEM,  Genre=N, Nombre=Pl, Cas=Nom:\tsutni\tDEM\\cacherGloses{.DEM}\\cacherGloses{xN.DEM}\\cacherGloses{-Nom}\\cacherGloses{-Pl}\tracine(st)x1u2-n-i\t\\textRacineC{s}u\\textRacineC{t}ni\tradical: st\tracine: stta stta\n",
      "case DET, CF=DEM,  Genre=N, Nombre=Pl, Cas=Acc:\tsutki\tDEM\\cacherGloses{.DEM}\\cacherGloses{xN.DEM}\\cacherGloses{-Acc}\\cacherGloses{-Pl}\tracine(st)x1u2-k-i\t\\textRacineC{s}u\\textRacineC{t}ki\tradical: st\tracine: stta stta\n",
      "case DET, CF=DEM,  Genre=N, Nombre=Pl, Cas=Dat:\tsutdi\tDEM\\cacherGloses{.DEM}\\cacherGloses{xN.DEM}\\cacherGloses{-Dat}\\cacherGloses{-Pl}\tracine(st)x1u2-d-i\t\\textRacineC{s}u\\textRacineC{t}di\tradical: st\tracine: stta stta\n",
      "case DET, CF=DEM,  Genre=N, Nombre=Pl, Cas=Obl:\tsutbi\tDEM\\cacherGloses{.DEM}\\cacherGloses{xN.DEM}\\cacherGloses{-Obl}\\cacherGloses{-Pl}\tracine(st)x1u2-b-i\t\\textRacineC{s}u\\textRacineC{t}bi\tradical: st\tracine: stta stta\n"
     ]
    },
    {
     "data": {
      "text/plain": [
       "st, DEM, DEM.DEM\n",
       "\t\tst :\n",
       "\t\t\tDET, CF=DEM,  Genre=M, Nombre=Sg, Cas=Nom:\tsotne\tDEM\\cacherGloses{.DEM}\\cacherGloses{xM.DEM}\\cacherGloses{-Nom}\\cacherGloses{-Sg.DEM}\tracine(st)x1o2-n-e\t\\textRacineC{s}o\\textRacineC{t}ne\tradical: st\tracine: stta\n",
       "\t\t\tDET, CF=DEM,  Genre=M, Nombre=Sg, Cas=Acc:\tsotke\tDEM\\cacherGloses{.DEM}\\cacherGloses{xM.DEM}\\cacherGloses{-Acc}\\cacherGloses{-Sg.DEM}\tracine(st)x1o2-k-e\t\\textRacineC{s}o\\textRacineC{t}ke\tradical: st\tracine: stta\n",
       "\t\t\tDET, CF=DEM,  Genre=M, Nombre=Sg, Cas=Dat:\tsotde\tDEM\\cacherGloses{.DEM}\\cacherGloses{xM.DEM}\\cacherGloses{-Dat}\\cacherGloses{-Sg.DEM}\tracine(st)x1o2-d-e\t\\textRacineC{s}o\\textRacineC{t}de\tradical: st\tracine: stta\n",
       "\t\t\tDET, CF=DEM,  Genre=M, Nombre=Sg, Cas=Obl:\tsotbe\tDEM\\cacherGloses{.DEM}\\cacherGloses{xM.DEM}\\cacherGloses{-Obl}\\cacherGloses{-Sg.DEM}\tracine(st)x1o2-b-e\t\\textRacineC{s}o\\textRacineC{t}be\tradical: st\tracine: stta\n",
       "\t\t\tDET, CF=DEM,  Genre=M, Nombre=Du, Cas=Nom:\tsotnu\tDEM\\cacherGloses{.DEM}\\cacherGloses{xM.DEM}\\cacherGloses{-Nom}\\cacherGloses{-Du}\tracine(st)x1o2-n-u\t\\textRacineC{s}o\\textRacineC{t}nu\tradical: st\tracine: stta\n",
       "\t\t\tDET, CF=DEM,  Genre=M, Nombre=Du, Cas=Acc:\tsotku\tDEM\\cacherGloses{.DEM}\\cacherGloses{xM.DEM}\\cacherGloses{-Acc}\\cacherGloses{-Du}\tracine(st)x1o2-k-u\t\\textRacineC{s}o\\textRacineC{t}ku\tradical: st\tracine: stta\n",
       "\t\t\tDET, CF=DEM,  Genre=M, Nombre=Du, Cas=Dat:\tsotdu\tDEM\\cacherGloses{.DEM}\\cacherGloses{xM.DEM}\\cacherGloses{-Dat}\\cacherGloses{-Du}\tracine(st)x1o2-d-u\t\\textRacineC{s}o\\textRacineC{t}du\tradical: st\tracine: stta\n",
       "\t\t\tDET, CF=DEM,  Genre=M, Nombre=Du, Cas=Obl:\tsotbu\tDEM\\cacherGloses{.DEM}\\cacherGloses{xM.DEM}\\cacherGloses{-Obl}\\cacherGloses{-Du}\tracine(st)x1o2-b-u\t\\textRacineC{s}o\\textRacineC{t}bu\tradical: st\tracine: stta\n",
       "\t\t\tDET, CF=DEM,  Genre=M, Nombre=Pl, Cas=Nom:\tsotni\tDEM\\cacherGloses{.DEM}\\cacherGloses{xM.DEM}\\cacherGloses{-Nom}\\cacherGloses{-Pl}\tracine(st)x1o2-n-i\t\\textRacineC{s}o\\textRacineC{t}ni\tradical: st\tracine: stta\n",
       "\t\t\tDET, CF=DEM,  Genre=M, Nombre=Pl, Cas=Acc:\tsotki\tDEM\\cacherGloses{.DEM}\\cacherGloses{xM.DEM}\\cacherGloses{-Acc}\\cacherGloses{-Pl}\tracine(st)x1o2-k-i\t\\textRacineC{s}o\\textRacineC{t}ki\tradical: st\tracine: stta\n",
       "\t\t\tDET, CF=DEM,  Genre=M, Nombre=Pl, Cas=Dat:\tsotdi\tDEM\\cacherGloses{.DEM}\\cacherGloses{xM.DEM}\\cacherGloses{-Dat}\\cacherGloses{-Pl}\tracine(st)x1o2-d-i\t\\textRacineC{s}o\\textRacineC{t}di\tradical: st\tracine: stta\n",
       "\t\t\tDET, CF=DEM,  Genre=M, Nombre=Pl, Cas=Obl:\tsotbi\tDEM\\cacherGloses{.DEM}\\cacherGloses{xM.DEM}\\cacherGloses{-Obl}\\cacherGloses{-Pl}\tracine(st)x1o2-b-i\t\\textRacineC{s}o\\textRacineC{t}bi\tradical: st\tracine: stta\n",
       "\t\t\tDET, CF=DEM,  Genre=F, Nombre=Sg, Cas=Nom:\tsatne\tDEM\\cacherGloses{.DEM}\\cacherGloses{xF.DEM}\\cacherGloses{-Nom}\\cacherGloses{-Sg.DEM}\tracine(st)x1a2-n-e\t\\textRacineC{s}a\\textRacineC{t}ne\tradical: st\tracine: stta\n",
       "\t\t\tDET, CF=DEM,  Genre=F, Nombre=Sg, Cas=Acc:\tsatke\tDEM\\cacherGloses{.DEM}\\cacherGloses{xF.DEM}\\cacherGloses{-Acc}\\cacherGloses{-Sg.DEM}\tracine(st)x1a2-k-e\t\\textRacineC{s}a\\textRacineC{t}ke\tradical: st\tracine: stta\n",
       "\t\t\tDET, CF=DEM,  Genre=F, Nombre=Sg, Cas=Dat:\tsatde\tDEM\\cacherGloses{.DEM}\\cacherGloses{xF.DEM}\\cacherGloses{-Dat}\\cacherGloses{-Sg.DEM}\tracine(st)x1a2-d-e\t\\textRacineC{s}a\\textRacineC{t}de\tradical: st\tracine: stta\n",
       "\t\t\tDET, CF=DEM,  Genre=F, Nombre=Sg, Cas=Obl:\tsatbe\tDEM\\cacherGloses{.DEM}\\cacherGloses{xF.DEM}\\cacherGloses{-Obl}\\cacherGloses{-Sg.DEM}\tracine(st)x1a2-b-e\t\\textRacineC{s}a\\textRacineC{t}be\tradical: st\tracine: stta\n",
       "\t\t\tDET, CF=DEM,  Genre=F, Nombre=Du, Cas=Nom:\tsatnu\tDEM\\cacherGloses{.DEM}\\cacherGloses{xF.DEM}\\cacherGloses{-Nom}\\cacherGloses{-Du}\tracine(st)x1a2-n-u\t\\textRacineC{s}a\\textRacineC{t}nu\tradical: st\tracine: stta\n",
       "\t\t\tDET, CF=DEM,  Genre=F, Nombre=Du, Cas=Acc:\tsatku\tDEM\\cacherGloses{.DEM}\\cacherGloses{xF.DEM}\\cacherGloses{-Acc}\\cacherGloses{-Du}\tracine(st)x1a2-k-u\t\\textRacineC{s}a\\textRacineC{t}ku\tradical: st\tracine: stta\n",
       "\t\t\tDET, CF=DEM,  Genre=F, Nombre=Du, Cas=Dat:\tsatdu\tDEM\\cacherGloses{.DEM}\\cacherGloses{xF.DEM}\\cacherGloses{-Dat}\\cacherGloses{-Du}\tracine(st)x1a2-d-u\t\\textRacineC{s}a\\textRacineC{t}du\tradical: st\tracine: stta\n",
       "\t\t\tDET, CF=DEM,  Genre=F, Nombre=Du, Cas=Obl:\tsatbu\tDEM\\cacherGloses{.DEM}\\cacherGloses{xF.DEM}\\cacherGloses{-Obl}\\cacherGloses{-Du}\tracine(st)x1a2-b-u\t\\textRacineC{s}a\\textRacineC{t}bu\tradical: st\tracine: stta\n",
       "\t\t\tDET, CF=DEM,  Genre=F, Nombre=Pl, Cas=Nom:\tsatni\tDEM\\cacherGloses{.DEM}\\cacherGloses{xF.DEM}\\cacherGloses{-Nom}\\cacherGloses{-Pl}\tracine(st)x1a2-n-i\t\\textRacineC{s}a\\textRacineC{t}ni\tradical: st\tracine: stta\n",
       "\t\t\tDET, CF=DEM,  Genre=F, Nombre=Pl, Cas=Acc:\tsatki\tDEM\\cacherGloses{.DEM}\\cacherGloses{xF.DEM}\\cacherGloses{-Acc}\\cacherGloses{-Pl}\tracine(st)x1a2-k-i\t\\textRacineC{s}a\\textRacineC{t}ki\tradical: st\tracine: stta\n",
       "\t\t\tDET, CF=DEM,  Genre=F, Nombre=Pl, Cas=Dat:\tsatdi\tDEM\\cacherGloses{.DEM}\\cacherGloses{xF.DEM}\\cacherGloses{-Dat}\\cacherGloses{-Pl}\tracine(st)x1a2-d-i\t\\textRacineC{s}a\\textRacineC{t}di\tradical: st\tracine: stta\n",
       "\t\t\tDET, CF=DEM,  Genre=F, Nombre=Pl, Cas=Obl:\tsatbi\tDEM\\cacherGloses{.DEM}\\cacherGloses{xF.DEM}\\cacherGloses{-Obl}\\cacherGloses{-Pl}\tracine(st)x1a2-b-i\t\\textRacineC{s}a\\textRacineC{t}bi\tradical: st\tracine: stta\n",
       "\t\t\tDET, CF=DEM,  Genre=N, Nombre=Sg, Cas=Nom:\tsutne\tDEM\\cacherGloses{.DEM}\\cacherGloses{xN.DEM}\\cacherGloses{-Nom}\\cacherGloses{-Sg.DEM}\tracine(st)x1u2-n-e\t\\textRacineC{s}u\\textRacineC{t}ne\tradical: st\tracine: stta\n",
       "\t\t\tDET, CF=DEM,  Genre=N, Nombre=Sg, Cas=Acc:\tsutke\tDEM\\cacherGloses{.DEM}\\cacherGloses{xN.DEM}\\cacherGloses{-Acc}\\cacherGloses{-Sg.DEM}\tracine(st)x1u2-k-e\t\\textRacineC{s}u\\textRacineC{t}ke\tradical: st\tracine: stta\n",
       "\t\t\tDET, CF=DEM,  Genre=N, Nombre=Sg, Cas=Dat:\tsutde\tDEM\\cacherGloses{.DEM}\\cacherGloses{xN.DEM}\\cacherGloses{-Dat}\\cacherGloses{-Sg.DEM}\tracine(st)x1u2-d-e\t\\textRacineC{s}u\\textRacineC{t}de\tradical: st\tracine: stta\n",
       "\t\t\tDET, CF=DEM,  Genre=N, Nombre=Sg, Cas=Obl:\tsutbe\tDEM\\cacherGloses{.DEM}\\cacherGloses{xN.DEM}\\cacherGloses{-Obl}\\cacherGloses{-Sg.DEM}\tracine(st)x1u2-b-e\t\\textRacineC{s}u\\textRacineC{t}be\tradical: st\tracine: stta\n",
       "\t\t\tDET, CF=DEM,  Genre=N, Nombre=Du, Cas=Nom:\tsutnu\tDEM\\cacherGloses{.DEM}\\cacherGloses{xN.DEM}\\cacherGloses{-Nom}\\cacherGloses{-Du}\tracine(st)x1u2-n-u\t\\textRacineC{s}u\\textRacineC{t}nu\tradical: st\tracine: stta\n",
       "\t\t\tDET, CF=DEM,  Genre=N, Nombre=Du, Cas=Acc:\tsutku\tDEM\\cacherGloses{.DEM}\\cacherGloses{xN.DEM}\\cacherGloses{-Acc}\\cacherGloses{-Du}\tracine(st)x1u2-k-u\t\\textRacineC{s}u\\textRacineC{t}ku\tradical: st\tracine: stta\n",
       "\t\t\tDET, CF=DEM,  Genre=N, Nombre=Du, Cas=Dat:\tsutdu\tDEM\\cacherGloses{.DEM}\\cacherGloses{xN.DEM}\\cacherGloses{-Dat}\\cacherGloses{-Du}\tracine(st)x1u2-d-u\t\\textRacineC{s}u\\textRacineC{t}du\tradical: st\tracine: stta\n",
       "\t\t\tDET, CF=DEM,  Genre=N, Nombre=Du, Cas=Obl:\tsutbu\tDEM\\cacherGloses{.DEM}\\cacherGloses{xN.DEM}\\cacherGloses{-Obl}\\cacherGloses{-Du}\tracine(st)x1u2-b-u\t\\textRacineC{s}u\\textRacineC{t}bu\tradical: st\tracine: stta\n",
       "\t\t\tDET, CF=DEM,  Genre=N, Nombre=Pl, Cas=Nom:\tsutni\tDEM\\cacherGloses{.DEM}\\cacherGloses{xN.DEM}\\cacherGloses{-Nom}\\cacherGloses{-Pl}\tracine(st)x1u2-n-i\t\\textRacineC{s}u\\textRacineC{t}ni\tradical: st\tracine: stta\n",
       "\t\t\tDET, CF=DEM,  Genre=N, Nombre=Pl, Cas=Acc:\tsutki\tDEM\\cacherGloses{.DEM}\\cacherGloses{xN.DEM}\\cacherGloses{-Acc}\\cacherGloses{-Pl}\tracine(st)x1u2-k-i\t\\textRacineC{s}u\\textRacineC{t}ki\tradical: st\tracine: stta\n",
       "\t\t\tDET, CF=DEM,  Genre=N, Nombre=Pl, Cas=Dat:\tsutdi\tDEM\\cacherGloses{.DEM}\\cacherGloses{xN.DEM}\\cacherGloses{-Dat}\\cacherGloses{-Pl}\tracine(st)x1u2-d-i\t\\textRacineC{s}u\\textRacineC{t}di\tradical: st\tracine: stta\n",
       "\t\t\tDET, CF=DEM,  Genre=N, Nombre=Pl, Cas=Obl:\tsutbi\tDEM\\cacherGloses{.DEM}\\cacherGloses{xN.DEM}\\cacherGloses{-Obl}\\cacherGloses{-Pl}\tracine(st)x1u2-b-i\t\\textRacineC{s}u\\textRacineC{t}bi\tradical: st\tracine: stta"
      ]
     },
     "execution_count": 31,
     "metadata": {},
     "output_type": "execute_result"
    }
   ],
   "source": [
    "PFM.lexique.lexemes[\"DEM.DEM\"]"
   ]
  },
  {
   "cell_type": "code",
   "execution_count": null,
   "metadata": {
    "collapsed": false
   },
   "outputs": [],
   "source": [
    "#lexique.lexemes.keys()"
   ]
  },
  {
   "cell_type": "code",
   "execution_count": null,
   "metadata": {
    "collapsed": false
   },
   "outputs": [],
   "source": [
    "mot=\"lOUPs\"\n",
    "classesNom=PFM.lexique.formeLexeme[mot][0].split('.')[1:]\n",
    "[classeElement for classeElement in classesNom if classeElement in gloses[\"NOM\"][\"Genre\"]]"
   ]
  },
  {
   "cell_type": "code",
   "execution_count": null,
   "metadata": {
    "collapsed": true
   },
   "outputs": [],
   "source": []
  }
 ],
 "metadata": {
  "kernelspec": {
   "display_name": "Python 2",
   "language": "python",
   "name": "python2"
  },
  "language_info": {
   "codemirror_mode": {
    "name": "ipython",
    "version": 2
   },
   "file_extension": ".py",
   "mimetype": "text/x-python",
   "name": "python",
   "nbconvert_exporter": "python",
   "pygments_lexer": "ipython2",
   "version": "2.7.11"
  }
 },
 "nbformat": 4,
 "nbformat_minor": 0
}

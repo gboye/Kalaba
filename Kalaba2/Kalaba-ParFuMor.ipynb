{
 "cells": [
  {
   "cell_type": "markdown",
   "metadata": {},
   "source": [
    "#ParFuMor (version YAML & Objets)"
   ]
  },
  {
   "cell_type": "code",
   "execution_count": 85,
   "metadata": {
    "collapsed": false
   },
   "outputs": [],
   "source": [
    "# -*- coding: utf8 -*-\n",
    "from os.path import expanduser\n",
    "home = expanduser(\"~\")\n",
    "repertoire=home+\"/Copy/Cours/Bordeaux/L1-UE1/Kalaba-15/05-Classes\"\n",
    "serie=repertoire+\"/\"\n",
    "\n",
    "import yaml\n",
    "import itertools\n",
    "#import re\n",
    "import ParFuMor as PFM\n",
    "from ParFuMor import *\n",
    "import pickle"
   ]
  },
  {
   "cell_type": "code",
   "execution_count": 86,
   "metadata": {
    "collapsed": false
   },
   "outputs": [],
   "source": [
    "with open(serie+\"Gloses.yaml\", 'r') as stream:\n",
    "    gloses=yaml.load(stream)\n",
    "    PFM.gloses=gloses\n",
    "with open(serie+\"Stems.yaml\", 'r') as stream:\n",
    "    stems=yaml.load(stream)\n",
    "    PFM.stems=stems\n",
    "with open(serie+\"Blocks.yaml\", 'r') as stream:\n",
    "    blocks=yaml.load(stream)\n",
    "    PFM.blocks=blocks\n",
    "with open(serie+\"Phonology.yaml\", 'r') as stream:\n",
    "    phonology=yaml.load(stream)\n",
    "    PFM.phonology=phonology\n",
    "with open(serie+\"MorphoSyntax.yaml\", 'r') as stream:\n",
    "    morphosyntax=yaml.load(stream)\n",
    "    PFM.morphosyntax=morphosyntax"
   ]
  },
  {
   "cell_type": "code",
   "execution_count": 87,
   "metadata": {
    "collapsed": false
   },
   "outputs": [],
   "source": [
    "regles=Regles()\n",
    "PFM.regles=regles\n",
    "for categorie in blocks:\n",
    "    regles.addBlocs(categorie,blocks[categorie])\n"
   ]
  },
  {
   "cell_type": "code",
   "execution_count": 88,
   "metadata": {
    "collapsed": false
   },
   "outputs": [],
   "source": [
    "paradigmes=Paradigmes()\n",
    "PFM.paradigmes=paradigmes"
   ]
  },
  {
   "cell_type": "code",
   "execution_count": 89,
   "metadata": {
    "collapsed": false
   },
   "outputs": [],
   "source": [
    "hierarchieCF=HierarchieCF()\n",
    "PFM.hierarchieCF=hierarchieCF\n",
    "lexique=Lexique()\n",
    "PFM.lexique=lexique\n"
   ]
  },
  {
   "cell_type": "code",
   "execution_count": 90,
   "metadata": {
    "collapsed": false
   },
   "outputs": [],
   "source": [
    "paradigmes=Paradigmes()\n",
    "PFM.paradigmes=paradigmes"
   ]
  },
  {
   "cell_type": "code",
   "execution_count": 91,
   "metadata": {
    "collapsed": false
   },
   "outputs": [],
   "source": [
    "paradigmes=Paradigmes()\n",
    "PFM.paradigmes=paradigmes\n",
    "for cat in gloses:\n",
    "#    print cat\n",
    "    attributes=[]\n",
    "    if gloses[cat]:\n",
    "        if set(gloses[cat].keys())==set(morphosyntax[\"Attributs\"][cat]):\n",
    "            features=morphosyntax[\"Attributs\"][cat]\n",
    "#            print \"inhérent\",features\n",
    "        else:\n",
    "            features=gloses[cat].keys()\n",
    "#            print \"contextuel\",features\n",
    "        for attribute in features:\n",
    "            attributes.append(gloses[cat][attribute])\n",
    "        nuplets=(itertools.product(*attributes))\n",
    "        for nuplet in nuplets:\n",
    "            proprietes=[cat]\n",
    "            for element in range(len(nuplet)):\n",
    "                proprietes.append(u\"%s=%s\"%(features[element],nuplet[element]))\n",
    "            paradigmes.addForme(cat,proprietes)"
   ]
  },
  {
   "cell_type": "code",
   "execution_count": 92,
   "metadata": {
    "collapsed": false
   },
   "outputs": [
    {
     "name": "stdout",
     "output_type": "stream",
     "text": [
      "VER : Trans Temps Pers Genre Nombre\n",
      "NOM : Genre Nombre Cas\n",
      "DET : Genre Cas\n",
      "ADJ : Genre Nombre Cas\n",
      "head stems\n",
      "head stems,ADJ\n",
      "head stems,NOM\n",
      "head stems,NOM,A\n",
      "head stems,NOM,C\n",
      "head stems,NOM,B\n",
      "head stems,NOM,D\n",
      "head stems,VER\n",
      "head stems,VER,VI\n",
      "head stems,VER,VT\n",
      "head stems,VER,VD\n"
     ]
    }
   ],
   "source": [
    "analyserGloses(gloses)\n",
    "analyserStems(stems)"
   ]
  },
  {
   "cell_type": "code",
   "execution_count": 93,
   "metadata": {
    "collapsed": false
   },
   "outputs": [],
   "source": [
    "with open(serie+\"Hierarchie.pkl\", 'wb') as output:\n",
    "   pickle.dump(hierarchieCF, output, pickle.HIGHEST_PROTOCOL)\n",
    "with open(serie+\"Lexique.pkl\", 'wb') as output:\n",
    "   pickle.dump(lexique, output, pickle.HIGHEST_PROTOCOL)\n",
    "with open(serie+\"Regles.pkl\", 'wb') as output:\n",
    "   pickle.dump(regles, output, pickle.HIGHEST_PROTOCOL)\n"
   ]
  },
  {
   "cell_type": "code",
   "execution_count": 94,
   "metadata": {
    "collapsed": true
   },
   "outputs": [],
   "source": [
    "#def chaine2utf8(chaine):\n",
    "#    if type(chaine)==str:\n",
    "#        result=unicode(chaine.decode('utf8'))\n",
    "#    elif type(chaine)==unicode:\n",
    "#        result=chaine\n",
    "#    return result"
   ]
  },
  {
   "cell_type": "code",
   "execution_count": 95,
   "metadata": {
    "collapsed": false
   },
   "outputs": [],
   "source": [
    "#u\"rêvasser.I.VI\" in PFM.lexique.lexemes"
   ]
  },
  {
   "cell_type": "code",
   "execution_count": 96,
   "metadata": {
    "collapsed": false,
    "scrolled": true
   },
   "outputs": [],
   "source": [
    "#for element in PFM.lexique.lexemes:\n",
    "#    print element, type(element)\n",
    "#    print PFM.lexique.lexemes[element].formes"
   ]
  },
  {
   "cell_type": "code",
   "execution_count": 97,
   "metadata": {
    "collapsed": false
   },
   "outputs": [],
   "source": [
    "#PFM.lexique.catLexeme"
   ]
  },
  {
   "cell_type": "code",
   "execution_count": 98,
   "metadata": {
    "collapsed": false
   },
   "outputs": [],
   "source": [
    "#lexique.lexemes.keys()"
   ]
  }
 ],
 "metadata": {
  "kernelspec": {
   "display_name": "Python 2",
   "language": "python",
   "name": "python2"
  },
  "language_info": {
   "codemirror_mode": {
    "name": "ipython",
    "version": 2
   },
   "file_extension": ".py",
   "mimetype": "text/x-python",
   "name": "python",
   "nbconvert_exporter": "python",
   "pygments_lexer": "ipython2",
   "version": "2.7.10"
  }
 },
 "nbformat": 4,
 "nbformat_minor": 0
}

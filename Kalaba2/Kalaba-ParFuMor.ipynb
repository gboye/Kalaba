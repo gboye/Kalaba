{
 "cells": [
  {
   "cell_type": "markdown",
   "metadata": {},
   "source": [
    "# ParFuMor (version YAML & Objets)"
   ]
  },
  {
   "cell_type": "code",
   "execution_count": 2,
   "metadata": {
    "collapsed": false
   },
   "outputs": [],
   "source": [
    "# -*- coding: utf8 -*-\n",
    "from os.path import expanduser\n",
    "home = expanduser(\"~\")\n",
    "repertoire=home+\"/ownCloud/Cours/Bordeaux/L1-LinguistiqueGenerale/Kalaba-Project/16-K3\"\n",
    "serie=repertoire+\"/\"\n",
    "\n",
    "import yaml\n",
    "import itertools\n",
    "#import re\n",
    "import ParFuMor as PFM\n",
    "from ParFuMor import *\n",
    "import pickle"
   ]
  },
  {
   "cell_type": "code",
   "execution_count": 3,
   "metadata": {
    "collapsed": false
   },
   "outputs": [],
   "source": [
    "with open(serie+\"Gloses.yaml\", 'r') as stream:\n",
    "    gloses=yaml.load(stream)\n",
    "    PFM.gloses=gloses\n",
    "with open(serie+\"Stems.yaml\", 'r') as stream:\n",
    "    stems=yaml.load(stream)\n",
    "    PFM.stems=stems\n",
    "with open(serie+\"Blocks.yaml\", 'r') as stream:\n",
    "    blocks=yaml.load(stream)\n",
    "    PFM.blocks=blocks\n",
    "with open(serie+\"Phonology.yaml\", 'r') as stream:\n",
    "    phonology=yaml.load(stream)\n",
    "    PFM.phonology=phonology\n",
    "with open(serie+\"MorphoSyntax.yaml\", 'r') as stream:\n",
    "    morphosyntax=yaml.load(stream)\n",
    "    PFM.morphosyntax=morphosyntax"
   ]
  },
  {
   "cell_type": "code",
   "execution_count": 4,
   "metadata": {
    "collapsed": false
   },
   "outputs": [],
   "source": [
    "regles=Regles()\n",
    "PFM.regles=regles\n",
    "for categorie in blocks:\n",
    "    regles.addBlocs(categorie,blocks[categorie])\n"
   ]
  },
  {
   "cell_type": "code",
   "execution_count": 5,
   "metadata": {
    "collapsed": false
   },
   "outputs": [],
   "source": [
    "paradigmes=Paradigmes()\n",
    "PFM.paradigmes=paradigmes"
   ]
  },
  {
   "cell_type": "code",
   "execution_count": 6,
   "metadata": {
    "collapsed": false
   },
   "outputs": [],
   "source": [
    "hierarchieCF=HierarchieCF()\n",
    "PFM.hierarchieCF=hierarchieCF\n",
    "lexique=Lexique()\n",
    "PFM.lexique=lexique\n"
   ]
  },
  {
   "cell_type": "code",
   "execution_count": 7,
   "metadata": {
    "collapsed": false
   },
   "outputs": [],
   "source": [
    "paradigmes=Paradigmes()\n",
    "PFM.paradigmes=paradigmes"
   ]
  },
  {
   "cell_type": "code",
   "execution_count": 8,
   "metadata": {
    "collapsed": false
   },
   "outputs": [],
   "source": [
    "paradigmes=Paradigmes()\n",
    "PFM.paradigmes=paradigmes\n",
    "for cat in gloses:\n",
    "#    print cat\n",
    "    attributes=[]\n",
    "    if gloses[cat]:\n",
    "        if set(gloses[cat].keys())==set(morphosyntax[\"Attributs\"][cat]):\n",
    "            features=morphosyntax[\"Attributs\"][cat]\n",
    "#            print \"inhérent\",features\n",
    "        else:\n",
    "            features=gloses[cat].keys()\n",
    "#            print \"contextuel\",features\n",
    "        for attribute in features:\n",
    "            attributes.append(gloses[cat][attribute])\n",
    "        nuplets=(itertools.product(*attributes))\n",
    "        for nuplet in nuplets:\n",
    "            proprietes=[cat]\n",
    "            for element in range(len(nuplet)):\n",
    "                proprietes.append(u\"%s=%s\"%(features[element],nuplet[element]))\n",
    "            paradigmes.addForme(cat,proprietes)"
   ]
  },
  {
   "cell_type": "code",
   "execution_count": 9,
   "metadata": {
    "collapsed": false
   },
   "outputs": [
    {
     "name": "stdout",
     "output_type": "stream",
     "text": [
      "VER : Trans Temps Pers Genre Nombre\n",
      "NOM : Genre Nombre Cas\n",
      "DET : Genre Nombre Cas\n",
      "ADJ : Genre Nombre\n",
      "head stems\n",
      "head stems,VER\n",
      "head stems,VER,V1\n",
      "head stems,VER,V2\n",
      "head stems,NOM\n",
      "head stems,NOM,A\n",
      "head stems,NOM,C\n",
      "head stems,NOM,B\n",
      "head stems,NOM,D\n",
      "head stems,DET\n",
      "head stems,ADJ\n"
     ]
    }
   ],
   "source": [
    "analyserGloses(gloses)\n",
    "analyserStems(stems)"
   ]
  },
  {
   "cell_type": "code",
   "execution_count": 10,
   "metadata": {
    "collapsed": false
   },
   "outputs": [],
   "source": [
    "with open(serie+\"Hierarchie-S2.pkl\", 'wb') as output:\n",
    "   pickle.dump(hierarchieCF, output, pickle.HIGHEST_PROTOCOL)\n",
    "with open(serie+\"Lexique-S2.pkl\", 'wb') as output:\n",
    "   pickle.dump(lexique, output, pickle.HIGHEST_PROTOCOL)\n",
    "with open(serie+\"Regles-S2.pkl\", 'wb') as output:\n",
    "   pickle.dump(regles, output, pickle.HIGHEST_PROTOCOL)\n"
   ]
  },
  {
   "cell_type": "code",
   "execution_count": 13,
   "metadata": {
    "collapsed": false
   },
   "outputs": [
    {
     "name": "stdout",
     "output_type": "stream",
     "text": [
      "case PREP:\tsar\tdans\tsar\t\\textRadical{sar}\tradical: sar\tracine:  \n"
     ]
    },
    {
     "data": {
      "text/plain": [
       "sar, PREP, DANS\n",
       "\t\tsar :\n",
       "\t\t\tPREP:\tsar\tdans\tsar\t\\textRadical{sar}\tradical: sar\tracine: "
      ]
     },
     "execution_count": 13,
     "metadata": {},
     "output_type": "execute_result"
    }
   ],
   "source": [
    "PFM.lexique.lexemes[\"dans\"]"
   ]
  },
  {
   "cell_type": "code",
   "execution_count": 14,
   "metadata": {
    "collapsed": false
   },
   "outputs": [
    {
     "data": {
      "text/plain": [
       "[u'B']"
      ]
     },
     "execution_count": 14,
     "metadata": {},
     "output_type": "execute_result"
    }
   ],
   "source": [
    "mot=\"lOUPs\"\n",
    "classesNom=PFM.lexique.formeLexeme[mot][0].split('.')[1:]\n",
    "[classeElement for classeElement in classesNom if classeElement in gloses[\"NOM\"][\"Genre\"]]"
   ]
  },
  {
   "cell_type": "code",
   "execution_count": 15,
   "metadata": {
    "collapsed": false
   },
   "outputs": [
    {
     "data": {
      "text/plain": [
       "u'villageoise.D.N2'"
      ]
     },
     "execution_count": 15,
     "metadata": {},
     "output_type": "execute_result"
    }
   ],
   "source": [
    "PFM.lexique.formeLexeme[\"villagEOIs\"][0]"
   ]
  },
  {
   "cell_type": "code",
   "execution_count": 16,
   "metadata": {
    "collapsed": false,
    "scrolled": true
   },
   "outputs": [],
   "source": [
    "#for element in PFM.lexique.lexemes:\n",
    "#    print element, type(element)\n",
    "#    print PFM.lexique.lexemes[element].formes"
   ]
  }
 ],
 "metadata": {
  "kernelspec": {
   "display_name": "Python 2",
   "language": "python",
   "name": "python2"
  },
  "language_info": {
   "codemirror_mode": {
    "name": "ipython",
    "version": 2
   },
   "file_extension": ".py",
   "mimetype": "text/x-python",
   "name": "python",
   "nbconvert_exporter": "python",
   "pygments_lexer": "ipython2",
   "version": "2.7.11"
  }
 },
 "nbformat": 4,
 "nbformat_minor": 0
}

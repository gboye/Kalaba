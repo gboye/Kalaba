{
 "cells": [
  {
   "cell_type": "markdown",
   "metadata": {},
   "source": [
    "#ParFuMor (version YAML & Objets)"
   ]
  },
  {
   "cell_type": "code",
   "execution_count": 54,
   "metadata": {
    "collapsed": false
   },
   "outputs": [],
   "source": [
    "# -*- coding: utf8 -*-\n",
    "from os.path import expanduser\n",
    "home = expanduser(\"~\")\n",
    "repertoire=home+\"/Copy/Cours/Bordeaux/L1-UE1/Kalaba-15/01-PseudoEspagnol\"\n",
    "serie=repertoire+\"/\"\n",
    "\n",
    "import yaml\n",
    "import itertools\n",
    "#import re\n",
    "import ParFuMor as PFM\n",
    "from ParFuMor import *\n",
    "import pickle"
   ]
  },
  {
   "cell_type": "code",
   "execution_count": 55,
   "metadata": {
    "collapsed": false
   },
   "outputs": [],
   "source": [
    "with open(serie+\"Gloses.yaml\", 'r') as stream:\n",
    "    gloses=yaml.load(stream)\n",
    "    PFM.gloses=gloses\n",
    "with open(serie+\"Stems.yaml\", 'r') as stream:\n",
    "    stems=yaml.load(stream)\n",
    "    PFM.stems=stems\n",
    "with open(serie+\"Blocks.yaml\", 'r') as stream:\n",
    "    blocks=yaml.load(stream)\n",
    "    PFM.blocks=blocks\n",
    "with open(serie+\"Phonology.yaml\", 'r') as stream:\n",
    "    phonology=yaml.load(stream)\n",
    "    PFM.phonology=phonology\n",
    "with open(serie+\"MorphoSyntax.yaml\", 'r') as stream:\n",
    "    morphosyntax=yaml.load(stream)\n",
    "    PFM.morphosyntax=morphosyntax"
   ]
  },
  {
   "cell_type": "code",
   "execution_count": 56,
   "metadata": {
    "collapsed": false
   },
   "outputs": [],
   "source": [
    "regles=Regles()\n",
    "PFM.regles=regles\n",
    "for categorie in blocks:\n",
    "    regles.addBlocs(categorie,blocks[categorie])\n"
   ]
  },
  {
   "cell_type": "code",
   "execution_count": 57,
   "metadata": {
    "collapsed": false
   },
   "outputs": [],
   "source": [
    "paradigmes=Paradigmes()\n",
    "PFM.paradigmes=paradigmes"
   ]
  },
  {
   "cell_type": "code",
   "execution_count": 58,
   "metadata": {
    "collapsed": false
   },
   "outputs": [],
   "source": [
    "hierarchieCF=HierarchieCF()\n",
    "PFM.hierarchieCF=hierarchieCF\n",
    "lexique=Lexique()\n",
    "PFM.lexique=lexique\n"
   ]
  },
  {
   "cell_type": "code",
   "execution_count": 59,
   "metadata": {
    "collapsed": false
   },
   "outputs": [],
   "source": [
    "paradigmes=Paradigmes()\n",
    "PFM.paradigmes=paradigmes"
   ]
  },
  {
   "cell_type": "code",
   "execution_count": 60,
   "metadata": {
    "collapsed": true
   },
   "outputs": [],
   "source": [
    "paradigmes=Paradigmes()\n",
    "PFM.paradigmes=paradigmes\n",
    "for cat in gloses:\n",
    "#    print cat\n",
    "    attributes=[]\n",
    "    if gloses[cat]:\n",
    "        if set(gloses[cat].keys())==set(morphosyntax[\"Attributs\"][cat]):\n",
    "            features=morphosyntax[\"Attributs\"][cat]\n",
    "#            print \"inhérent\",features\n",
    "        else:\n",
    "            features=gloses[cat].keys()\n",
    "#            print \"contextuel\",features\n",
    "        for attribute in features:\n",
    "            attributes.append(gloses[cat][attribute])\n",
    "        nuplets=(itertools.product(*attributes))\n",
    "        for nuplet in nuplets:\n",
    "            proprietes=[cat]\n",
    "            for element in range(len(nuplet)):\n",
    "                proprietes.append(u\"%s=%s\"%(features[element],nuplet[element]))\n",
    "            paradigmes.addForme(cat,proprietes)"
   ]
  },
  {
   "cell_type": "code",
   "execution_count": 61,
   "metadata": {
    "collapsed": false
   },
   "outputs": [],
   "source": [
    "analyserGloses(gloses)\n",
    "analyserStems(stems)"
   ]
  },
  {
   "cell_type": "code",
   "execution_count": 62,
   "metadata": {
    "collapsed": false
   },
   "outputs": [],
   "source": [
    "with open(serie+\"Hierarchie.pkl\", 'wb') as output:\n",
    "   pickle.dump(hierarchieCF, output, pickle.HIGHEST_PROTOCOL)\n",
    "with open(serie+\"Lexique.pkl\", 'wb') as output:\n",
    "   pickle.dump(lexique, output, pickle.HIGHEST_PROTOCOL)\n",
    "with open(serie+\"Regles.pkl\", 'wb') as output:\n",
    "   pickle.dump(regles, output, pickle.HIGHEST_PROTOCOL)\n"
   ]
  },
  {
   "cell_type": "code",
   "execution_count": 81,
   "metadata": {
    "collapsed": true
   },
   "outputs": [],
   "source": [
    "def chaine2utf8(chaine):\n",
    "    if type(chaine)==str:\n",
    "        result=unicode(chaine.decode('utf8'))\n",
    "    elif type(chaine)==unicode:\n",
    "        result=chaine\n",
    "    return result"
   ]
  },
  {
   "cell_type": "code",
   "execution_count": 85,
   "metadata": {
    "collapsed": false
   },
   "outputs": [
    {
     "name": "stdout",
     "output_type": "stream",
     "text": [
      "[u'\\xe0', u'\\xe0']\n"
     ]
    }
   ],
   "source": [
    "chaine=u\"à\"\n",
    "print [chaine,chaine2utf8(chaine)]"
   ]
  },
  {
   "cell_type": "code",
   "execution_count": 80,
   "metadata": {
    "collapsed": false
   },
   "outputs": [
    {
     "name": "stdout",
     "output_type": "stream",
     "text": [
      "lancer.E.VD <type 'str'>\n",
      "chat.M <type 'str'>\n",
      "acheter.A.VT <type 'str'>\n",
      "petit <type 'str'>\n",
      "fille.F <type 'str'>\n",
      "oeuf.M <type 'str'>\n",
      "rêvasser.I.VI <type 'unicode'>\n",
      "café.M <type 'unicode'>\n",
      "souris.F <type 'str'>\n",
      "manger.A.VT <type 'str'>\n",
      "maigre <type 'str'>\n",
      "DEM <type 'str'>\n",
      "rouge <type 'str'>\n",
      "entrer.A.VI <type 'str'>\n",
      "thé.M <type 'unicode'>\n",
      "Nicole.F <type 'str'>\n",
      "chasseur.M <type 'str'>\n",
      "village.M <type 'str'>\n",
      "blanc <type 'str'>\n",
      "garçon.M <type 'unicode'>\n",
      "jaune <type 'str'>\n",
      "chatte.F <type 'str'>\n",
      "noir <type 'str'>\n",
      "avec <type 'str'>\n",
      "coyote.M <type 'str'>\n",
      "autruche.F <type 'str'>\n",
      "table.F <type 'str'>\n",
      "poisson.M <type 'str'>\n",
      "DEF <type 'str'>\n",
      "deux <type 'str'>\n",
      "grand <type 'str'>\n",
      "coussin.M <type 'str'>\n",
      "sur <type 'str'>\n",
      "tomber.I.VI <type 'str'>\n",
      "infirmière.F <type 'unicode'>\n",
      "de <type 'str'>\n",
      "Katisha.F <type 'str'>\n",
      "fruit.M <type 'str'>\n",
      "arriver.I.VI <type 'str'>\n",
      "Nabil.M <type 'str'>\n",
      "chasser.A.VT <type 'str'>\n",
      "montrer.E.VD <type 'str'>\n",
      "offrir.I.VD <type 'str'>\n",
      "gros <type 'str'>\n",
      "cuisine.F <type 'str'>\n",
      "quatre <type 'str'>\n",
      "maison.F <type 'str'>\n",
      "à <type 'unicode'>\n",
      "trois <type 'str'>\n",
      "bas <type 'str'>\n",
      "devant <type 'str'>\n",
      "viande.F <type 'str'>\n",
      "balai.M <type 'str'>\n",
      "dans <type 'str'>\n",
      "lit.M <type 'str'>\n",
      "pour <type 'str'>\n",
      "dormir.I.VI <type 'str'>\n",
      "sous <type 'str'>\n",
      "donner.E.VD <type 'str'>\n",
      "plaine.F <type 'str'>\n",
      "IND <type 'str'>\n",
      "chambre.F <type 'str'>\n",
      "supporter.A.VT <type 'str'>\n",
      "boire.E.VT <type 'str'>\n"
     ]
    }
   ],
   "source": [
    "for element in PFM.lexique.lexemes:\n",
    "    print element, type(element)\n",
    "#    print PFM.lexique.lexemes[element]"
   ]
  },
  {
   "cell_type": "code",
   "execution_count": null,
   "metadata": {
    "collapsed": true
   },
   "outputs": [],
   "source": []
  }
 ],
 "metadata": {
  "kernelspec": {
   "display_name": "Python 2",
   "language": "python",
   "name": "python2"
  },
  "language_info": {
   "codemirror_mode": {
    "name": "ipython",
    "version": 2
   },
   "file_extension": ".py",
   "mimetype": "text/x-python",
   "name": "python",
   "nbconvert_exporter": "python",
   "pygments_lexer": "ipython2",
   "version": "2.7.10"
  }
 },
 "nbformat": 4,
 "nbformat_minor": 0
}

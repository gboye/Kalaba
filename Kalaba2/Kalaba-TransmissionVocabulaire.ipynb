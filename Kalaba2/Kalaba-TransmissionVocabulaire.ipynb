{
 "cells": [
  {
   "cell_type": "code",
   "execution_count": 77,
   "metadata": {
    "collapsed": true
   },
   "outputs": [],
   "source": [
    "# -*- coding: utf8 -*-\n",
    "#########################IMPORTS############################################\n",
    "from os.path import expanduser\n",
    "import codecs, optparse\n",
    "import re, random\n",
    "import sys,os,time\n",
    "import string\n",
    "import yaml, YamlDuplicates\n",
    "import ParFuMor as PFM\n",
    "from ParFuMor import *\n",
    "import pickle"
   ]
  },
  {
   "cell_type": "code",
   "execution_count": 78,
   "metadata": {
    "collapsed": true
   },
   "outputs": [],
   "source": [
    "home = expanduser(\"~\")\n",
    "annee=\"17\"\n",
    "def getSerie(nomKalaba):\n",
    "    return home+\"/ownCloud/Cours/Bordeaux/L1-LinguistiqueGenerale/Kalaba-Project/%s-%s/\"%(annee,nomKalaba)\n",
    "\n",
    "prevSerie=getSerie(\"K2\")\n",
    "nextSerie=getSerie(\"K1\")\n"
   ]
  },
  {
   "cell_type": "code",
   "execution_count": 79,
   "metadata": {},
   "outputs": [],
   "source": [
    "with open(prevSerie+\"Stems.yaml\", 'r') as stream:\n",
    "    prevStems=yaml.load(stream)\n",
    "with open(nextSerie+\"Stems.yaml\", 'r') as stream:\n",
    "    nextStems=yaml.load(stream)"
   ]
  },
  {
   "cell_type": "code",
   "execution_count": 80,
   "metadata": {},
   "outputs": [],
   "source": [
    "def getLeaves(stemStructure):\n",
    "    formes={}\n",
    "    for element in stemStructure:\n",
    "        if type(stemStructure[element])==list:\n",
    "            formesCle=\", \".join(stemStructure[element])\n",
    "            formes[formesCle]=element\n",
    "        else:\n",
    "            formes.update(getLeaves(stemStructure[element]))\n",
    "    return formes"
   ]
  },
  {
   "cell_type": "code",
   "execution_count": 81,
   "metadata": {},
   "outputs": [],
   "source": [
    "prevLexique=getLeaves(prevStems)\n",
    "nextLexique=getLeaves(nextStems)"
   ]
  },
  {
   "cell_type": "code",
   "execution_count": 82,
   "metadata": {},
   "outputs": [
    {
     "name": "stdout",
     "output_type": "stream",
     "text": [
      "***\n",
      "villageois.HYPER, villagEOIs, villagEOIS n'est pas dans le nouveau lexique\n",
      "***\n",
      "***\n",
      "loup, loups n'est pas dans le nouveau lexique\n",
      "***\n",
      "***\n",
      "villageois, villageoiS n'est pas dans le nouveau lexique\n",
      "***\n",
      "***\n",
      "loup.HYPER, lOUP, lOUPs n'est pas dans le nouveau lexique\n",
      "***\n",
      "***\n",
      "enfant.HYPER, enfANT, enfANTs n'est pas dans le nouveau lexique\n",
      "***\n",
      "***\n",
      "garçon, garçons, enfant, enfants n'est pas dans le nouveau lexique\n",
      "***\n"
     ]
    }
   ],
   "source": [
    "racineChanges={}\n",
    "for mot in prevLexique:\n",
    "    if mot in nextLexique:\n",
    "#        print mot, \":\", prevLexique[mot], \">\",nextLexique[mot]\n",
    "        racineChanges[nextLexique[mot]]=prevLexique[mot]\n",
    "    else:\n",
    "        print \"***\"\n",
    "        print mot,\"n'est pas dans le nouveau lexique\"\n",
    "        print \"***\""
   ]
  },
  {
   "cell_type": "code",
   "execution_count": 83,
   "metadata": {},
   "outputs": [],
   "source": [
    "def replace_keys(old_dict, key_dict):\n",
    "    new_dict = { }\n",
    "    for key in old_dict.keys():\n",
    "        new_key = key_dict.get(key, key)\n",
    "        if isinstance(old_dict[key], dict):\n",
    "            new_dict[new_key] = replace_keys(old_dict[key], key_dict)\n",
    "        else:\n",
    "            new_dict[new_key] = old_dict[key]\n",
    "    return new_dict\n"
   ]
  },
  {
   "cell_type": "code",
   "execution_count": 84,
   "metadata": {
    "collapsed": true
   },
   "outputs": [],
   "source": [
    "newStems=replace_keys(nextStems,racineChanges)"
   ]
  },
  {
   "cell_type": "code",
   "execution_count": 85,
   "metadata": {},
   "outputs": [],
   "source": [
    "with open(nextSerie+'newStems.yaml', 'w') as output:\n",
    "    yaml.dump(newStems, output, default_flow_style=False,allow_unicode=True)"
   ]
  },
  {
   "cell_type": "code",
   "execution_count": 86,
   "metadata": {
    "collapsed": true
   },
   "outputs": [],
   "source": [
    "with open(nextSerie+\"newStems.yaml\", 'r') as stream:\n",
    "    testStems=yaml.load(stream)\n",
    "    "
   ]
  },
  {
   "cell_type": "code",
   "execution_count": 87,
   "metadata": {},
   "outputs": [
    {
     "data": {
      "text/plain": [
       "{'ADJ': {'Sezak': ['profond', 'profonds', 'profonde', 'profondes'],\n",
       "  'Sogos': ['noir', 'noire', 'noirs', 'noires'],\n",
       "  'Todaf': [u'effray\\xe9', u'effray\\xe9s', u'effray\\xe9e', u'effray\\xe9es'],\n",
       "  'diwos': ['bas', 'basse', 'basses'],\n",
       "  'dubak': ['jaune', 'jaunes'],\n",
       "  'fanot': ['petit', 'petite', 'petits', 'petites'],\n",
       "  'feDet': ['furieux', 'furieuse', 'furieuses'],\n",
       "  'feles': ['terrible', 'terribles'],\n",
       "  'fiZop': ['trois'],\n",
       "  'fuSop': ['courageux', 'courageuse', 'courageuses'],\n",
       "  'gojoT': ['gros', 'grosse', 'grosses'],\n",
       "  'jiseT': ['grand', 'grande', 'grands', 'grandes'],\n",
       "  'kedam': ['blanc', 'blanche', 'blancs', 'blanches'],\n",
       "  'luDet': ['maigre', 'maigres'],\n",
       "  'pabaf': ['suivant', 'suivants', 'suivante', 'suivantes'],\n",
       "  'taDep': [u'diff\\xe9rent',\n",
       "   u'diff\\xe9rents',\n",
       "   u'diff\\xe9rente',\n",
       "   u'diff\\xe9rentes'],\n",
       "  'tonup': ['quatre'],\n",
       "  'tovuN': [u'bless\\xe9', u'bless\\xe9s', u'bless\\xe9e', u'bless\\xe9es'],\n",
       "  'tozan': ['rouge', 'rouges']},\n",
       " 'DET': {'b': ['DEM', 'ce', 'cet', 'cette', 'ces'],\n",
       "  'k': ['DEF', 'le', 'la', 'les', 'l'],\n",
       "  'l': ['IND', 'un', 'une', 'des', 'dE']},\n",
       " 'NOM': {'F': {'Sikore': ['lueur', 'lueurs'],\n",
       "   'SizeZ': [u'infirmi\\xe8re', u'infirmi\\xe8res'],\n",
       "   'Zigolo': ['lune', 'lunes'],\n",
       "   'delit': ['ombre', 'ombres'],\n",
       "   'dopiSu': ['poisson', 'poissons'],\n",
       "   'gavok': [u'col\\xe8re', u'col\\xe8res'],\n",
       "   'gitar': ['main', 'mains'],\n",
       "   'gutev': ['croc', 'crocs'],\n",
       "   'katiSa': ['Katisha', 'Katishas'],\n",
       "   'kigaS': ['fruit', 'fruits'],\n",
       "   'kulor': ['blessure', 'blessures'],\n",
       "   'liZat': ['lance', 'lances'],\n",
       "   'maira': ['Mahira', 'Mahiras'],\n",
       "   'malot': ['plaine', 'plaines'],\n",
       "   'mepot': ['soeur', 'soeurs', u's\\u0153ur', u's\\u0153urs'],\n",
       "   'moDaN': ['autruche', 'autruches'],\n",
       "   'mutul': ['maison', 'maisons'],\n",
       "   'neTom': ['villageoise', 'villageoises'],\n",
       "   'neTor': ['chatte', 'chattes'],\n",
       "   'nikol': ['Nicole', 'Nicoles'],\n",
       "   'padeka': [u'th\\xe9', u'th\\xe9s'],\n",
       "   'renaka': [u'for\\xeat', u'for\\xeats'],\n",
       "   'ropak': ['nuit', 'nuits'],\n",
       "   'sakoS': ['chambre', 'chambres'],\n",
       "   'salogi': ['table', 'tables'],\n",
       "   'tejum': ['fille', 'filles'],\n",
       "   'tifare': ['cuisine', 'cuisines'],\n",
       "   'vjolet': ['Violette', 'Violettes'],\n",
       "   'vobuN': ['louve', 'louves'],\n",
       "   'votur': ['mort', 'morts'],\n",
       "   'zanfana': ['enfant', 'enfants']},\n",
       "  'M': {'Dokap': ['lit', 'lits'],\n",
       "   'Salop': ['homme', 'hommes'],\n",
       "   'Semun': ['arbre', 'arbres'],\n",
       "   'Zenis': ['viande', 'viandes'],\n",
       "   'ZutaS': [u'caf\\xe9', u'caf\\xe9s'],\n",
       "   'abito': ['villageois',\n",
       "    'villageoiS',\n",
       "    'villagEOISe',\n",
       "    'villagEOISes',\n",
       "    'villagEOIS',\n",
       "    'villagEOIs'],\n",
       "   'figeZ': ['chef', 'chefs', 'cheffe', 'cheffes'],\n",
       "   'finot': ['gorge', 'gorges'],\n",
       "   'garruo': ['loup', 'loups', 'lOUP', 'lOUPs'],\n",
       "   'gemof': ['coyote', 'coyotes'],\n",
       "   'kaleb': ['Kaleb', 'Kalebs'],\n",
       "   'katod': ['serpent', 'serpents'],\n",
       "   'ketufe': ['cri', 'cris'],\n",
       "   'kinaZ': ['souris', 'souriS'],\n",
       "   'koziTe': ['chasseur', 'chasseurs'],\n",
       "   'lovofu': ['village', 'villages'],\n",
       "   'lurid': ['souffrance', 'souffrances'],\n",
       "   'matuvu': ['corps', 'corpS'],\n",
       "   'mebuze': ['sort', 'sorts'],\n",
       "   'moDem': ['visage', 'visages'],\n",
       "   'muNov': [u'\\u0153uf', 'oeuf', u'\\u0153ufs', 'oeufs'],\n",
       "   'musag': ['milieu', 'milieux'],\n",
       "   'nabil': ['Nabil', 'Nabils'],\n",
       "   'peToli': ['chat', 'chats'],\n",
       "   'pebime': ['balai', 'balais'],\n",
       "   'power': ['combattant', 'combattants'],\n",
       "   'rugaD': ['coussin', 'coussins'],\n",
       "   'saduT': ['combat', 'combats'],\n",
       "   'tSiko': [u'gar\\xe7on', u'gar\\xe7ons'],\n",
       "   'tejuno': [u'd\\xe9mon', u'd\\xe9mons'],\n",
       "   'zenfane': ['enfant.hyper', 'enfANT', 'enfANTs'],\n",
       "   'zokas': ['coup', 'coups'],\n",
       "   'zudek': ['couteau', 'couteaux']}},\n",
       " 'PREP': {'Dop': ['pour'],\n",
       "  'Nov': ['ENTRE', 'entrE'],\n",
       "  'Sol': ['avec'],\n",
       "  'bo': [u'derri\\xe8re'],\n",
       "  'ful': ['vers'],\n",
       "  'na': ['sous'],\n",
       "  'puw': ['de', 'd'],\n",
       "  'sir': [u'\\xe0'],\n",
       "  'so': ['sur'],\n",
       "  'suz': [u'apr\\xe8s'],\n",
       "  'val': ['dans'],\n",
       "  'we': ['devant']},\n",
       " 'VER': {'V1': {'Dipod': ['transpercer',\n",
       "    'transperce',\n",
       "    'transpercent',\n",
       "    u'transper\\xe7ait',\n",
       "    u'transper\\xe7aient'],\n",
       "   'Duluf': [u'dispara\\xeetre',\n",
       "    u'dispara\\xeet',\n",
       "    'disparaissent',\n",
       "    'disparaissait',\n",
       "    'disparaissaient'],\n",
       "   'Sabir': ['prendre', 'prend', 'prennent', 'prenait', 'prenaient'],\n",
       "   'Tebad': ['supporter',\n",
       "    'supporte',\n",
       "    'supportent',\n",
       "    'supportait',\n",
       "    'supportaient'],\n",
       "   'Zopal': ['envahir',\n",
       "    'envahit',\n",
       "    'envahissent',\n",
       "    'envahissait',\n",
       "    'envahissaient'],\n",
       "   'detip': ['sortir',\n",
       "    'sorT',\n",
       "    'sortent',\n",
       "    'sortait',\n",
       "    'sortaient',\n",
       "    'sortit',\n",
       "    'sortirent'],\n",
       "   'fiker': ['transformer',\n",
       "    'transforme',\n",
       "    'transforment',\n",
       "    'transformait',\n",
       "    'transformaient'],\n",
       "   'gunuN': ['voir', 'voit', 'voient', 'voyait', 'voyaient', 'vit', 'virent'],\n",
       "   'keTor': ['jeter', 'jette', 'jettent', 'jetait', 'jetaient'],\n",
       "   'kiZoj': [u'\\xeatre', 'est', 'sont', u'\\xe9tait', u'\\xe9taient'],\n",
       "   'kimat': ['montrer', 'montre', 'montrent', 'montrait', 'montraient'],\n",
       "   'levin': ['boire', 'boit', 'boivent', 'buvait', 'buvaient'],\n",
       "   'lumok': ['dormir',\n",
       "    'dort',\n",
       "    'dorment',\n",
       "    'dormait',\n",
       "    'dormaient',\n",
       "    'dormit',\n",
       "    'dormirent'],\n",
       "   'malak': [u'd\\xe9vorer',\n",
       "    u'd\\xe9vore',\n",
       "    u'd\\xe9vorent',\n",
       "    u'd\\xe9vorait',\n",
       "    u'd\\xe9voraient'],\n",
       "   'neTad': ['planter', 'plante', 'plantent', 'plantait', 'plantaient'],\n",
       "   'neTaf': ['fuir', 'fuit', 'fuient', 'fuyait', 'fuyaient'],\n",
       "   'neToN': ['apporter',\n",
       "    'apporte',\n",
       "    'apportent',\n",
       "    'apportait',\n",
       "    'apportaient',\n",
       "    'apporta',\n",
       "    u'apport\\xe8rent'],\n",
       "   'nutep': ['courir', 'court', 'courent', 'courait', 'couraient'],\n",
       "   'tiraf': ['lancer', 'lancE', 'lancent', u'lan\\xe7ait', u'lan\\xe7aient'],\n",
       "   'tupej': ['acheter',\n",
       "    u'ach\\xe8te',\n",
       "    u'ach\\xe8tent',\n",
       "    'achetait',\n",
       "    'achetaient']},\n",
       "  'V2': {'Dodaf': ['entrer', 'entre', 'entrent', 'entrait', 'entraient'],\n",
       "   'DuteZ': ['sauter', 'saute', 'sautent', 'sautait', 'sautaient'],\n",
       "   'Siros': ['approcher',\n",
       "    'approche',\n",
       "    'approchent',\n",
       "    'approchait',\n",
       "    'approchaient'],\n",
       "   'Suzun': ['parler',\n",
       "    'parle',\n",
       "    'parlent',\n",
       "    'parlait',\n",
       "    'parlaient',\n",
       "    'parla',\n",
       "    u'parl\\xe8rent'],\n",
       "   'Zebum': ['offrir', 'offre', 'offrent', 'offrait', 'offraient'],\n",
       "   'Zezit': ['donner', 'donne', 'donnent', 'donnait', 'donnaient'],\n",
       "   'Zitef': ['chasser', 'chasse', 'chassent', 'chassait', 'chassaient'],\n",
       "   'ZuNep': ['recouvrir',\n",
       "    'recouvre',\n",
       "    'recouvrent',\n",
       "    'recouvrait',\n",
       "    'recouvraient'],\n",
       "   'boTak': ['rejoindre',\n",
       "    'rejoint',\n",
       "    'rejoignent',\n",
       "    'rejoignait',\n",
       "    'rejoignaient'],\n",
       "   'faZem': ['tomber', 'tombe', 'tombent', 'tombait', 'tombaient'],\n",
       "   'fiDed': ['passer',\n",
       "    'passe',\n",
       "    'passent',\n",
       "    'passait',\n",
       "    'passaient',\n",
       "    'passa',\n",
       "    u'pass\\xe8rent'],\n",
       "   'gafen': ['chercher', 'cherche', 'cherchent', 'cherchait', 'cherchaient'],\n",
       "   'logup': [u'prot\\xe9ger',\n",
       "    u'prot\\xe8ge',\n",
       "    u'prot\\xe8gent',\n",
       "    u'prot\\xe9geait',\n",
       "    u'prot\\xe9geaient'],\n",
       "   'maSiv': ['manger', 'mange', 'mangent', 'mangeait', 'mangeaient'],\n",
       "   'sabiS': ['pousser', 'pousse', 'poussent', 'poussait', 'poussaient'],\n",
       "   'seZod': [u'r\\xeavasser',\n",
       "    u'r\\xeavasse',\n",
       "    u'r\\xeavassent',\n",
       "    u'r\\xeavassait',\n",
       "    u'r\\xeavassaient'],\n",
       "   'wupam': ['arriver', 'arrive', 'arrivent', 'arrivait', 'arrivaient'],\n",
       "   'zeres': ['aller', 'va', 'vont', 'allait', 'allaient']}}}"
      ]
     },
     "execution_count": 87,
     "metadata": {},
     "output_type": "execute_result"
    }
   ],
   "source": [
    "testStems"
   ]
  },
  {
   "cell_type": "code",
   "execution_count": 88,
   "metadata": {},
   "outputs": [
    {
     "name": "stdout",
     "output_type": "stream",
     "text": [
      "effrayé\n"
     ]
    }
   ],
   "source": [
    "print testStems[\"ADJ\"][\"Todaf\"][0]"
   ]
  },
  {
   "cell_type": "code",
   "execution_count": null,
   "metadata": {
    "collapsed": true
   },
   "outputs": [],
   "source": []
  }
 ],
 "metadata": {
  "kernelspec": {
   "display_name": "Python 2",
   "language": "python",
   "name": "python2"
  },
  "language_info": {
   "codemirror_mode": {
    "name": "ipython",
    "version": 2
   },
   "file_extension": ".py",
   "mimetype": "text/x-python",
   "name": "python",
   "nbconvert_exporter": "python",
   "pygments_lexer": "ipython2",
   "version": "2.7.11"
  }
 },
 "nbformat": 4,
 "nbformat_minor": 2
}

{
 "cells": [
  {
   "cell_type": "code",
   "execution_count": 1895,
   "metadata": {
    "collapsed": false
   },
   "outputs": [],
   "source": [
    "# -*- coding: utf8 -*-\n",
    "from os.path import expanduser\n",
    "home = expanduser(\"~\")\n",
    "repertoire=home+\"/ownCloud/Cours/Bordeaux/L1-LinguistiqueGenerale/Kalaba-Project/16-K5\"\n",
    "serie=repertoire+\"/\"\n",
    "variante=\"-Corr\"\n",
    "#variante=\"\"\n",
    "complementPhrases=\"\"\n",
    "#########################IMPORTS############################################\n",
    "import codecs, optparse\n",
    "import re, random\n",
    "import sys,os,time\n",
    "import string\n",
    "import yaml\n",
    "import ParFuMor as PFM\n",
    "from ParFuMor import *\n",
    "import pickle"
   ]
  },
  {
   "cell_type": "code",
   "execution_count": 1896,
   "metadata": {
    "collapsed": false
   },
   "outputs": [],
   "source": [
    "#########################VARIABLES##########################################\n",
    "version=os.path.basename(\"__file__\")\n",
    "time_stamp='%s' % time.strftime(\"%y%m%d-%H%M\")\n",
    "debug=0\n",
    "debug_now=1\n",
    "#casNombreDet=True\n",
    "separateurPhonoCloze=\" \"\n",
    "separateurMots=separateurPhonoCloze\n",
    "marqueurCommentaire=\"%\"\n",
    "print_no=True\n",
    "print_taches=False\n",
    "print_coffee=False\n",
    "print_commands=True\n",
    "print_ortho=True\n",
    "print_phono=False\n",
    "print_glose=False\n",
    "print_radicaux=False\n",
    "#if separateurMots==\"\":\n",
    "#    print_glose=False\n",
    "if variante==\"-Corr\":\n",
    "    print_taches=False\n",
    "    print_coffee=False\n",
    "    print_commands=True\n",
    "    print_ortho=True\n",
    "    print_phono=True\n",
    "    print_glose=True    \n",
    "if print_glose:\n",
    "    separateurMots=\" \"\n",
    "if print_glose+print_ortho+print_phono>1:\n",
    "    print_phrases=True\n",
    "else:\n",
    "    print_phrases=False\n",
    "print_lexique=True\n",
    "print_cloze=True\n",
    "print_racines=True\n",
    "no_form=\"***\"\n",
    "# no_grapho=['dormir', 'lit']\n",
    "# no_phono=['gros', 'coussin']\n",
    "no_grapho=['petit','Nabil',\"sur\"]\n",
    "no_phono=[\"grand\",\"autruche\",'dans']\n",
    "phono_no=u\"XXXXX\"\n",
    "grapho_no=u\"XXXXX\""
   ]
  },
  {
   "cell_type": "code",
   "execution_count": 1897,
   "metadata": {
    "collapsed": false
   },
   "outputs": [
    {
     "data": {
      "text/plain": [
       "3"
      ]
     },
     "execution_count": 1897,
     "metadata": {},
     "output_type": "execute_result"
    }
   ],
   "source": [
    "print_glose+print_ortho+print_phono"
   ]
  },
  {
   "cell_type": "code",
   "execution_count": 1898,
   "metadata": {
    "collapsed": false
   },
   "outputs": [],
   "source": [
    "prononciationBegin=[\n",
    "    \"\\\\begin{center}\",\n",
    "        \"\\\\begin{tabular}{lcc}\",\n",
    "        \"\\\\toprule\",\n",
    "        u\"Graphie & Prononciation & Mot français \\\\\\\\\",\n",
    "        \"\\\\midrule\"\n",
    "        ]\n",
    "prononciationEnd=[\n",
    "        \"\\\\bottomrule\",\n",
    "        \"\\\\end{tabular}\",\n",
    "    \"\\\\end{center}\"\n",
    "]"
   ]
  },
  {
   "cell_type": "code",
   "execution_count": 1899,
   "metadata": {
    "collapsed": false
   },
   "outputs": [],
   "source": [
    "with open(serie+\"Gloses.yaml\", 'r') as stream:\n",
    "    gloses=yaml.load(stream)\n",
    "with open(serie+\"Stems.yaml\", 'r') as stream:\n",
    "    stems=yaml.load(stream)\n",
    "with open(serie+\"Phonology.yaml\", 'r') as stream:\n",
    "    phonology=yaml.load(stream)\n",
    "with open(serie+\"MorphoSyntax.yaml\", 'r') as stream:\n",
    "    morphosyntax=yaml.load(stream)\n",
    "with open(serie+\"Clozes.txt\", 'r') as stream:\n",
    "    clozeLines=stream.readlines()\n",
    "\n",
    "discrimineur=[]\n",
    "discriminant={}\n",
    "for line in clozeLines:\n",
    "    line=line.strip()\n",
    "    if not line.startswith(\"#\"):\n",
    "        elementsCloze=line.split(\";\")\n",
    "        discriminant[elementsCloze[0]]=\";\".join([element for element in elementsCloze[1:] if element!=elementsCloze[5]])"
   ]
  },
  {
   "cell_type": "code",
   "execution_count": 1900,
   "metadata": {
    "collapsed": false,
    "scrolled": true
   },
   "outputs": [],
   "source": [
    "#discriminant"
   ]
  },
  {
   "cell_type": "code",
   "execution_count": 1901,
   "metadata": {
    "collapsed": false
   },
   "outputs": [
    {
     "name": "stdout",
     "output_type": "stream",
     "text": [
      "55\n",
      "55\n",
      "55\n",
      "55\n",
      "55\n"
     ]
    }
   ],
   "source": [
    "defaultCols=2\n",
    "defaultLong=0\n",
    "maxChunk=48\n",
    "dimensionsTableaux={i:{} for i in gloses}\n",
    "for categorie in gloses:\n",
    "    if \"Dimensions\" in morphosyntax:\n",
    "        if \"maxChunk\" in morphosyntax[\"Dimensions\"]:\n",
    "            maxChunk=morphosyntax[\"Dimensions\"][\"maxChunk\"]\n",
    "        print maxChunk\n",
    "        if categorie in morphosyntax[\"Dimensions\"] and morphosyntax[\"Dimensions\"][categorie]:\n",
    "#            print categorie\n",
    "            if \"cols\" in morphosyntax[\"Dimensions\"][categorie]:\n",
    "                dimensionsTableaux[categorie][\"cols\"]=morphosyntax[\"Dimensions\"][categorie][\"cols\"]\n",
    "            else:\n",
    "                dimensionsTableaux[categorie][\"cols\"]=defaultCols\n",
    "            if \"long\" in morphosyntax[\"Dimensions\"][categorie]:\n",
    "                dimensionsTableaux[categorie][\"long\"]=morphosyntax[\"Dimensions\"][categorie][\"long\"]\n",
    "            else:\n",
    "                dimensionsTableaux[categorie][\"long\"]=defaultLong\n",
    "        else:\n",
    "            dimensionsTableaux[categorie][\"cols\"]=defaultCols\n",
    "            dimensionsTableaux[categorie][\"long\"]=defaultLong\n",
    "    else:\n",
    "        dimensionsTableaux[categorie][\"cols\"]=defaultCols\n",
    "        dimensionsTableaux[categorie][\"long\"]=defaultLong\n",
    "if print_radicaux:\n",
    "    nomTableaux=\"Tableaux-Radicaux.yaml\"\n",
    "else:\n",
    "    nomTableaux=\"Tableaux.yaml\"    \n",
    "with open(serie+nomTableaux, 'r') as stream:\n",
    "    tableaux=yaml.load(stream)\n",
    "with open(serie+\"Hierarchie-S2.pkl\", 'rb') as input:\n",
    "   PFM.hierarchieCF = pickle.load(input)\n",
    "with open(serie+\"Lexique-S2.pkl\", 'rb') as input:\n",
    "   PFM.lexique = pickle.load(input)\n",
    "with open(serie+\"Regles-S2.pkl\", 'rb') as input:\n",
    "   PFM.regles = pickle.load(input)"
   ]
  },
  {
   "cell_type": "code",
   "execution_count": 1902,
   "metadata": {
    "collapsed": false
   },
   "outputs": [
    {
     "data": {
      "text/plain": [
       "[[u'\\xe0', 'les'], ['de', 'le'], ['de', 'les'], [u'\\xe0', 'le'], ['de']]"
      ]
     },
     "execution_count": 1902,
     "metadata": {},
     "output_type": "execute_result"
    }
   ],
   "source": [
    "[morphosyntax[\"Contractions\"][x] for x in morphosyntax[\"Contractions\"]]"
   ]
  },
  {
   "cell_type": "markdown",
   "metadata": {},
   "source": [
    "#### Définition des entêtes"
   ]
  },
  {
   "cell_type": "code",
   "execution_count": 1903,
   "metadata": {
    "collapsed": false
   },
   "outputs": [],
   "source": [
    "#########################CONSTANTS##########################################\n",
    "head = [\n",
    "\"\\\\begin{tabular}[t]{|l|l|l|}\",\n",
    "\"\\\\addlinespace[-1.0em]\\\\hline\",\n",
    "\"Mot & Roman & Glose  \\\\\\\\\",\n",
    "\"\\\\hline\\\\strutgh{14pt}%\"\n",
    "]\n",
    "head_n = [\n",
    "\"\\\\begin{tabular}[t]{|l|c|c|c|}\",\n",
    "\"\\\\addlinespace[-1.0em]\\\\hline\",\n",
    "\"Nom & Genre & C\\\\indice{1}C\\\\indice{2}C\\\\indice{3} & V\\\\indice{L}  \\\\\\\\\",\n",
    "\"\\\\hline\\\\strutgh{14pt}%\"\n",
    "]\n",
    "head_v = [\n",
    "\"\\\\begin{tabular}[t]{|l|c|c|}\",\n",
    "\"\\\\addlinespace[-1.0em]\\\\hline\",\n",
    "\"Verbe & Type & C\\\\indice{1}C\\\\indice{2}C\\\\indice{3} \\\\\\\\\",\n",
    "\"\\\\hline\\\\strutgh{14pt}%\"\n",
    "]"
   ]
  },
  {
   "cell_type": "code",
   "execution_count": 1904,
   "metadata": {
    "collapsed": false
   },
   "outputs": [],
   "source": [
    "tail = [\n",
    "\"\\\\hline\"\n",
    "\"\\\\end{tabular}\\\\\\\\\"\n",
    "]"
   ]
  },
  {
   "cell_type": "markdown",
   "metadata": {},
   "source": [
    "#### Définition des structures pour impression"
   ]
  },
  {
   "cell_type": "code",
   "execution_count": 1905,
   "metadata": {
    "collapsed": false
   },
   "outputs": [],
   "source": [
    "def accumulerMots(mot):\n",
    "    accumulateur.append(mot)\n",
    "    return\n",
    "def ajouterExemple(exemple,printBool=False):\n",
    "    if printBool:\n",
    "        print exemple\n",
    "    exemples.append(exemple.strip())\n",
    "    del accumulateur[:]\n",
    "    return\n",
    "def ajouterVocabulaire(terme,printBool=False):\n",
    "    if printBool:\n",
    "        print terme\n",
    "    vocabulaire.append(terme.strip())\n",
    "    return"
   ]
  },
  {
   "cell_type": "markdown",
   "metadata": {},
   "source": [
    "#### Définition des segments"
   ]
  },
  {
   "cell_type": "code",
   "execution_count": 1906,
   "metadata": {
    "collapsed": false
   },
   "outputs": [],
   "source": [
    "consonnes=phonology[\"consonnes\"]\n",
    "voyelles=phonology[\"voyelles\"]\n",
    "gabarits=phonology[\"gabarits\"]\n",
    "derives=phonology[\"derives\"]\n",
    "nom_classe=phonology[\"nom_classe\"]\n",
    "nom_apo=phonology[\"apophonies\"]\n",
    "\n",
    "nom_mut=phonology[\"mutations\"]"
   ]
  },
  {
   "cell_type": "markdown",
   "metadata": {},
   "source": [
    "#### Définition des catégories"
   ]
  },
  {
   "cell_type": "code",
   "execution_count": 1907,
   "metadata": {
    "collapsed": false
   },
   "outputs": [],
   "source": [
    "sujetVerbe=[]\n",
    "if \"Cas\" in gloses[\"NOM\"]:\n",
    "    if \"Acc\" in gloses[\"NOM\"][\"Cas\"]:\n",
    "        sujetVerbe.append(\"Nom\")\n",
    "    if \"Erg\" in gloses[\"NOM\"][\"Cas\"]:\n",
    "        sujetVerbe.append(\"Abs\")"
   ]
  },
  {
   "cell_type": "code",
   "execution_count": 1908,
   "metadata": {
    "collapsed": false
   },
   "outputs": [],
   "source": [
    "#sujetVerbe"
   ]
  },
  {
   "cell_type": "code",
   "execution_count": 1909,
   "metadata": {
    "collapsed": true
   },
   "outputs": [],
   "source": [
    "attributsMots=set()\n",
    "valAttributs={}\n",
    "for categorie in gloses:\n",
    "    if gloses[categorie]:\n",
    "        for element in gloses[categorie]:\n",
    "            attributsMots.add(element)\n",
    "            if gloses[categorie][element]:\n",
    "                if not element in valAttributs:\n",
    "                    valAttributs[element]=[]\n",
    "                for attribut in gloses[categorie][element]:\n",
    "                    if not attribut in valAttributs[element]:\n",
    "                        valAttributs[element].append(attribut)"
   ]
  },
  {
   "cell_type": "code",
   "execution_count": 1910,
   "metadata": {
    "collapsed": false
   },
   "outputs": [
    {
     "data": {
      "text/plain": [
       "{'Cas', 'Genre', 'Nombre', 'Pers', 'Temps', 'Trans'}"
      ]
     },
     "execution_count": 1910,
     "metadata": {},
     "output_type": "execute_result"
    }
   ],
   "source": [
    "attributsMots"
   ]
  },
  {
   "cell_type": "code",
   "execution_count": 1911,
   "metadata": {
    "collapsed": false
   },
   "outputs": [
    {
     "data": {
      "text/plain": [
       "['VER', 'NOM', 'DET', 'ADJ']"
      ]
     },
     "execution_count": 1911,
     "metadata": {},
     "output_type": "execute_result"
    }
   ],
   "source": [
    "boolAttribut={}\n",
    "flexCategories=[element for element in gloses if gloses[element]]\n",
    "for element in flexCategories:\n",
    "    boolAttribut[element]={key:key in gloses[element] for key in attributsMots}\n",
    "flexCategories"
   ]
  },
  {
   "cell_type": "code",
   "execution_count": 1912,
   "metadata": {
    "collapsed": false
   },
   "outputs": [
    {
     "data": {
      "text/plain": [
       "{'ADJ': {'Cas': False,\n",
       "  'Genre': True,\n",
       "  'Nombre': True,\n",
       "  'Pers': False,\n",
       "  'Temps': False,\n",
       "  'Trans': False},\n",
       " 'DET': {'Cas': True,\n",
       "  'Genre': False,\n",
       "  'Nombre': True,\n",
       "  'Pers': False,\n",
       "  'Temps': False,\n",
       "  'Trans': False},\n",
       " 'NOM': {'Cas': True,\n",
       "  'Genre': True,\n",
       "  'Nombre': True,\n",
       "  'Pers': False,\n",
       "  'Temps': False,\n",
       "  'Trans': False},\n",
       " 'VER': {'Cas': False,\n",
       "  'Genre': True,\n",
       "  'Nombre': True,\n",
       "  'Pers': True,\n",
       "  'Temps': True,\n",
       "  'Trans': True}}"
      ]
     },
     "execution_count": 1912,
     "metadata": {},
     "output_type": "execute_result"
    }
   ],
   "source": [
    "boolAttribut"
   ]
  },
  {
   "cell_type": "markdown",
   "metadata": {},
   "source": [
    "attributsDetAdjNom=[\"Genre\",\"Nombre\",\"Cas\"]\n",
    "valAttribut={}\n",
    "for attribut in attributsDetAdjNom:\n",
    "    if attribut in gloses[\"N\"]:\n",
    "        valAttribut[attribut]=gloses[\"N\"][attribut]\n",
    "    elif attribut in gloses[\"ADJ\"]:\n",
    "        valAttribut[attribut]=gloses[\"ADJ\"][attribut]\n",
    "    elif attribut in gloses[\"DET\"]:\n",
    "        valAttribut[attribut]=gloses[\"DET\"][attribut]\n",
    "    else:\n",
    "        valAttribut[attribut]=[]\n",
    "boolAttribut={}\n",
    "for element in [\"DET\",\"ADJ\",\"N\"]:\n",
    "    boolAttribut[element]={key:key in gloses[element] for key in attributsDetAdjNom}"
   ]
  },
  {
   "cell_type": "code",
   "execution_count": 1913,
   "metadata": {
    "collapsed": false
   },
   "outputs": [],
   "source": [
    "#types=gloses[\"V\"][\"CF\"]\n",
    "if \"Cas\" in morphosyntax:\n",
    "    casSyntagmes=morphosyntax[\"Cas\"]\n",
    "else:\n",
    "    casSyntagmes=\"\"\n",
    "lexiquePrepositions=[stems[\"PREP\"][x][0] for x in stems[\"PREP\"]]\n",
    "casPreposition={}\n",
    "for preposition in lexiquePrepositions:\n",
    "    prep=preposition.upper()\n",
    "    if casSyntagmes and prep in casSyntagmes:\n",
    "        casPreposition[preposition]=casSyntagmes[prep].capitalize()\n",
    "    elif casSyntagmes and \"PREP\" in casSyntagmes:\n",
    "        casPreposition[preposition]=casSyntagmes[\"PREP\"].capitalize()\n",
    "    else:\n",
    "        casPreposition[preposition]=\"\"\n",
    "        \n",
    "i=2\n",
    "verbe_forme={}\n",
    "for forme in morphosyntax[\"VER\"][\"FormesBase\"]:\n",
    "    verbe_forme[i]=forme\n",
    "    i+=1"
   ]
  },
  {
   "cell_type": "code",
   "execution_count": 1914,
   "metadata": {
    "collapsed": false
   },
   "outputs": [],
   "source": [
    "#valAttribut"
   ]
  },
  {
   "cell_type": "markdown",
   "metadata": {},
   "source": [
    "#### Remplacement des numéros de personnes pour les noms de macro LaTeX"
   ]
  },
  {
   "cell_type": "code",
   "execution_count": 1915,
   "metadata": {
    "collapsed": true
   },
   "outputs": [],
   "source": [
    "def remplacerPersonnes(chaine):\n",
    "    chaine.replace(\"1\",\"Un\")\n",
    "    return chaine"
   ]
  },
  {
   "cell_type": "code",
   "execution_count": 1916,
   "metadata": {
    "collapsed": false
   },
   "outputs": [
    {
     "data": {
      "text/plain": [
       "'1'"
      ]
     },
     "execution_count": 1916,
     "metadata": {},
     "output_type": "execute_result"
    }
   ],
   "source": [
    "remplacerPersonnes(\"1\")"
   ]
  },
  {
   "cell_type": "code",
   "execution_count": 1917,
   "metadata": {
    "collapsed": false
   },
   "outputs": [],
   "source": [
    "def recoder(chaine,table):\n",
    "    if type(chaine)==str:\n",
    "        temp=unicode(chaine.decode('utf8')).translate(table)\n",
    "        result=temp.encode('utf8')\n",
    "    elif type(chaine)==unicode:\n",
    "        result=chaine.translate(table)\n",
    "    return result\n",
    "\n",
    "accentedIn = unicode(phonology[\"translations\"][\"deaccent\"][\"in\"])\n",
    "deaccentIn = [ord(char) for char in accentedIn]\n",
    "deaccentOut = unicode(phonology[\"translations\"][\"deaccent\"][\"out\"])\n",
    "deaccent = dict(zip(deaccentIn, deaccentOut))\n",
    "\n",
    "deligatures=phonology[\"translations\"][\"deligatures\"]"
   ]
  },
  {
   "cell_type": "code",
   "execution_count": 1918,
   "metadata": {
    "collapsed": false
   },
   "outputs": [],
   "source": [
    "syntagmes=morphosyntax[\"Syntagmes\"]"
   ]
  },
  {
   "cell_type": "code",
   "execution_count": 1919,
   "metadata": {
    "collapsed": false
   },
   "outputs": [],
   "source": [
    "contractions=morphosyntax[\"Contractions\"]\n",
    "for contraction in contractions:\n",
    "    temp=[]\n",
    "    for element in contractions[contraction]:\n",
    "        if isinstance(element,unicode):\n",
    "            temp.append(element)\n",
    "        else:\n",
    "            temp.append(element.decode(\"utf8\"))\n",
    "    contractions[contraction]=temp"
   ]
  },
  {
   "cell_type": "code",
   "execution_count": 1920,
   "metadata": {
    "collapsed": false
   },
   "outputs": [],
   "source": [
    "syllabes=phonology[\"syllabes\"]"
   ]
  },
  {
   "cell_type": "code",
   "execution_count": 1921,
   "metadata": {
    "collapsed": false
   },
   "outputs": [
    {
     "data": {
      "text/plain": [
       "['PRS',\n",
       " 'PST',\n",
       " '3Sg',\n",
       " '3Du',\n",
       " '3Pl',\n",
       " 'VI',\n",
       " 'VT',\n",
       " 'VD',\n",
       " 'A',\n",
       " 'B',\n",
       " 'C',\n",
       " 'D',\n",
       " 'Sg',\n",
       " 'Du',\n",
       " 'Pl']"
      ]
     },
     "execution_count": 1921,
     "metadata": {},
     "output_type": "execute_result"
    }
   ],
   "source": [
    "attributsFlexVerbe=[glosesVerbe for attributFlex in gloses[\"VER\"] for glosesVerbe in gloses[\"VER\"][attributFlex]]\n",
    "attributsFlexVerbe"
   ]
  },
  {
   "cell_type": "code",
   "execution_count": 1922,
   "metadata": {
    "collapsed": false
   },
   "outputs": [],
   "source": [
    "def taches():\n",
    "    '''\n",
    "    seuil1 pour avoir une tâche\n",
    "    seuil2 pour avoir plusieurs tâches\n",
    "    '''\n",
    "    seuil1=8\n",
    "    seuil2=14\n",
    "    def makeStain():\n",
    "        seed=random.randint(1,1000)\n",
    "        x=random.gauss(10,5)-1\n",
    "        y=random.gauss(2,1)\n",
    "        minimum=random.gauss(.2,.1)+.1\n",
    "        maximum=random.gauss(.1,.05)+.5\n",
    "        return \"\\\\taches{%s}{%s}{%s}{%s}{%s}\"%(seed,x,y,minimum,maximum)\n",
    "\n",
    "    if print_taches:\n",
    "        n=random.gauss(10,2.5)\n",
    "        if n<seuil1:\n",
    "            return \"\"\n",
    "        elif n<=seuil2:\n",
    "            return makeStain()\n",
    "        else:\n",
    "            nTaches=int(n-seuil1)\n",
    "            stains=\"\"\n",
    "            for i in range(nTaches):\n",
    "                stains+=makeStain()\n",
    "            return stains\n",
    "    else:\n",
    "        return \"\""
   ]
  },
  {
   "cell_type": "code",
   "execution_count": 1923,
   "metadata": {
    "collapsed": false
   },
   "outputs": [],
   "source": [
    "def faire_tableau(tableau,tab=(head,tail,\"\")):\n",
    "    if len(tableau)==0: return\n",
    "    comment=tab[2]\n",
    "    for element in tab[0]:\n",
    "        ajouterVocabulaire(comment+element)\n",
    "    for element in tableau:\n",
    "        ajouterVocabulaire(comment+element)\n",
    "    for element in tab[1]:\n",
    "        ajouterVocabulaire(comment+element)"
   ]
  },
  {
   "cell_type": "code",
   "execution_count": 1924,
   "metadata": {
    "collapsed": false
   },
   "outputs": [],
   "source": [
    "def print_tableaux(cols,recuTableau,texte=\"\",debut=0,tab=(head,tail,\"\"),boolEchantillon=True):\n",
    "    tableau=sorted(list(set(recuTableau)))\n",
    "    if debug_now: print \"recuTableau\",(recuTableau)\n",
    "#    print (tableau)\n",
    "    ajouterVocabulaire(tab[2]+\"\\\\begin{multicols}{\"+str(cols)+\"}\")\n",
    "#    if texte!=\"\":\n",
    "    (table,reste)=filtrer_tableau(tableau,texte)\n",
    "#    print reste\n",
    "#    else:\n",
    "#        (table,reste)=tableau\n",
    "#        reste=[]\n",
    "    chunk=(len(table)-debut*cols)/cols+1\n",
    "    faire_tableaux(table,debut,cols,tab)\n",
    "    ajouterVocabulaire(tab[2]+\"\\\\end{multicols}\")\n",
    "    echantillon=min(len(reste),3)\n",
    "    if echantillon>0 and boolEchantillon:\n",
    "        for element in random.sample(reste,echantillon):\n",
    "#            print element\n",
    "            colonnes=element.split(\"&\")\n",
    "            graphie=colonnes[0].strip()\n",
    "            phonologie=colonnes[1].strip()\n",
    "            glose=colonnes[2].strip().strip(\"\\\\\")\n",
    "            prononciationExtrait.append(graphie+\"&\")\n",
    "            prononciationExtrait.append(\"\\\\blanc{%s}\"%phonologie+\"&\")\n",
    "            prononciationExtrait.append(\"\\\\blanc{%s}\\\\\\\\\"%glose)\n",
    "            if debug: print \"\".join(prononciationExtrait)"
   ]
  },
  {
   "cell_type": "code",
   "execution_count": 1925,
   "metadata": {
    "collapsed": false
   },
   "outputs": [],
   "source": [
    "def faire_tableaux(tableau,debut=16,nombre=1,tab=(head,tail,\"\")):\n",
    "    reste=[]\n",
    "    if debug: print nombre,debut,tableau\n",
    "    if debut!=0:\n",
    "        for i in range(nombre):\n",
    "            faire_tableau(tableau[debut*i:debut*(i+1)],tab)\n",
    "        table=tableau[debut*nombre:]\n",
    "    else:\n",
    "        table=tableau\n",
    "    longueur=len(table)\n",
    "    chunk=longueur/nombre+1\n",
    "    if debug: print \"CHUNKING : \",longueur, nombre, chunk, table\n",
    "    if chunk<maxChunk:\n",
    "        chunks=chunk\n",
    "    else:\n",
    "        chunks=48\n",
    "        reste=table[48*nombre:]\n",
    "    if debug: print \"RESTE : \", chunk, reste\n",
    "    for i in range(nombre):\n",
    "        faire_tableau(table[chunks*i:chunks*(i+1)],tab)\n",
    "    if reste:\n",
    "        faire_tableaux(reste,0,nombre,tab)"
   ]
  },
  {
   "cell_type": "code",
   "execution_count": 1926,
   "metadata": {
    "collapsed": false
   },
   "outputs": [],
   "source": [
    "def filtrer_tableau(tableau,filtre):\n",
    "    presents=[]\n",
    "    absents=[]\n",
    "    for line in tableau:\n",
    "        elements=line.split(\" \")\n",
    "        cleElement=elements[0].replace(\"\\\\\",\"\")\n",
    "        if elements[0] in filtre:\n",
    "            if not discriminant[cleElement] in discrimineur:\n",
    "                discrimineur.append(discriminant[cleElement])\n",
    "    #                print \"présent\",elements[0]\n",
    "            presents.append(line)\n",
    "        else:\n",
    "#                print \"absent\",elements[0]\n",
    "            absents.append(line)\n",
    "    return (presents,absents)"
   ]
  },
  {
   "cell_type": "code",
   "execution_count": 1927,
   "metadata": {
    "collapsed": false
   },
   "outputs": [],
   "source": [
    "def faire_gn(depart,cas):\n",
    "    global erg_genre, erg_nombre, abs_genre, abs_nombre\n",
    "    if debug: print \"groupe depart :\", depart\n",
    "    groupe_nom=[]\n",
    "    groupe_nom.append(depart[0])\n",
    "    if debug: print depart[0]\n",
    "    for mot in depart[1:]:\n",
    "        if debug: print mot\n",
    "        groupe_nom.extend(etendre_contraction([mot]))\n",
    "    if debug: print \"groupe nom :\", groupe_nom\n",
    "    mots=[]\n",
    "    det=[]\n",
    "    adj=[]\n",
    "    nom=[]\n",
    "    gp=[]\n",
    "    structureSyntagme={key:[] for key in syntagmes['GN']}\n",
    "    tete=\"\"\n",
    "    nombre=\"\"\n",
    "    classe=\"\"\n",
    "    classesNom=[]\n",
    "    reste=0\n",
    "    groupe_nom=[element for element in groupe_nom if element!=\"\"]\n",
    "    for mot in groupe_nom:\n",
    "        if reste==0:\n",
    "#            if mot==\"deux\" and \"Du\" in nombresNom:\n",
    "            if mot==\"deux\" and \"Du\" in valAttributs[\"Nombre\"]:\n",
    "                nombre=\"DU\"\n",
    "                if det==[]: det.append(PFM.lexique.formeLexeme[\"des\"][0])\n",
    "            else:\n",
    "                nomLexeme=PFM.lexique.formeLexeme[mot][0]\n",
    "                categorie=PFM.lexique.lexemes[nomLexeme].classe.split(\".\")[-1]\n",
    "                if debug or 0: \n",
    "                    print \"mot\",[mot]\n",
    "                    print \"vedette\",PFM.lexique.formeLexeme[mot][0],categorie\n",
    "                    print \"categories\",PFM.hierarchieCF.classes[\"NOM\"],PFM.hierarchieCF.getCategory(categorie)\n",
    "                if PFM.hierarchieCF.getCategory(categorie)==\"NOM\":\n",
    "                    tete=categorie\n",
    "                    if debug or 0: print \"tête :\", tete\n",
    "                    tampon=tete.split('.')\n",
    "#                    classe=tampon[0]\n",
    "                    classesNom=PFM.lexique.formeLexeme[mot][0].split('.')[1:]\n",
    "                    if debug or 0: print \"classesNom\",classesNom \n",
    "                    classe=[classeElement for classeElement in classesNom if classeElement in gloses[\"NOM\"][\"Genre\"]][0]\n",
    "                    if debug or 0: print \"classes\",mot,classe,classesNom\n",
    "                    try:\n",
    "                        typeMot=tampon[1]\n",
    "                    except IndexError:\n",
    "                        typeMot=''\n",
    "                    if mot[len(mot)-1]=='s':\n",
    "                        if nombre==\"\": nombre=\"PL\"\n",
    "                    else:\n",
    "                        if nombre==\"\": nombre=\"SG\"\n",
    "                    nom.append(PFM.lexique.formeLexeme[mot][0])\n",
    "#                    if typeCas==\"NoCas\":\n",
    "#                        cas=\"\"\n",
    "                    if not \"Cas\" in boolAttribut[\"NOM\"] or not boolAttribut[\"NOM\"][\"Cas\"]:\n",
    "                        cas=\"\"\n",
    "#                    else:\n",
    "                    cellule=classe.capitalize()+nombre.capitalize()+cas.capitalize()\n",
    "                    if cas==\"ERG\":\n",
    "                        erg_genre=classe\n",
    "                        erg_nombre=nombre\n",
    "                        if debug: print \"ERG\",erg_genre, erg_nombre\n",
    "                    elif cas==\"ABS\":\n",
    "                        abs_genre=classe\n",
    "                        abs_nombre=nombre\n",
    "                        if debug: print \"ABS\",abs_genre, abs_nombre\n",
    "                elif categorie in [\"DET\"]:\n",
    "                    det.append(PFM.lexique.formeLexeme[mot][0])\n",
    "                elif categorie in [\"ADJ\"] or (\"ADJ\" in PFM.hierarchieCF.classes and categorie in PFM.hierarchieCF.classes[\"ADJ\"]):\n",
    "                    adj.append(PFM.lexique.formeLexeme[mot][0])\n",
    "                elif categorie==\"PREP\":\t\t\t#Si on trouve une PREP, elle et le reste forment un GP\n",
    "                    gp.append(mot)\n",
    "                    reste=1\n",
    "        else:\t\t\t\t\t\t\t#On a trouvé une PREP, toute la suite va dans GP\n",
    "            gp.append(mot)\n",
    "    if debug: print \"accord :\", tete\n",
    "    if reste==1: gp=faire_gp(gp)\n",
    "    if debug: print \"GP dans le GN : \", gp\n",
    "    if debug: print \"GN sans det ? \", det\n",
    "    if not det: det.append(\"IND\")\n",
    "    tempSyntagme=[]\n",
    "    for mot in det:\n",
    "        (casDet,nombreDet)=(cas,nombre)\n",
    "        if not \"Cas\" in boolAttribut[\"DET\"] or not boolAttribut[\"DET\"][\"Cas\"]:\n",
    "            casDet=\"\"\n",
    "        if not \"Nombre\" in boolAttribut[\"DET\"] or not boolAttribut[\"DET\"][\"Nombre\"]:\n",
    "            nombreDet=\"\"\n",
    "        if not \"Genre\" in boolAttribut[\"DET\"] or not boolAttribut[\"DET\"][\"Genre\"]:\n",
    "            classeDet=\"\"\n",
    "        else:\n",
    "            classeDet=[classeElement for classeElement in classesNom if classeElement in gloses[\"DET\"][\"Genre\"]][0]\n",
    "#\t\tglose=faire_glose(mot,classe,type,nombre)\n",
    "\n",
    "        noligMot=mot.split(\".\")[0]\n",
    "        for ligature in deligatures:\n",
    "            noligMot=noligMot.replace(ligature,deligatures[ligature])\n",
    "        ref=\"\\\\\"+recoder(noligMot,deaccent).upper()\n",
    "        for attributDet in morphosyntax[\"Attributs\"][\"DET\"]:\n",
    "            if attributDet==\"Cas\":\n",
    "                ref+=casDet.capitalize()\n",
    "            elif attributDet==\"Nombre\":\n",
    "                ref+=nombreDet.capitalize()\n",
    "            elif attributDet==\"Genre\":\n",
    "                ref+=classeDet.capitalize()\n",
    "        tempSyntagme.append(ref)\n",
    "        texte.append(ref)\n",
    "    structureSyntagme[\"DET\"]=tempSyntagme\n",
    "    mots.insert(syntagmes['GN'].index(\"DET\"),separateurMots.join(structureSyntagme[\"DET\"]))\n",
    "    tempSyntagme=[]\n",
    "    for mot in gp: \n",
    "#        mots.append(mot)\n",
    "        tempSyntagme.append(mot)\n",
    "    structureSyntagme[\"GP\"]=tempSyntagme\n",
    "    mots.insert(syntagmes['GN'].index(\"GP\"),structureSyntagme[\"GP\"])\n",
    "    tempSyntagme=[]\n",
    "    for mot in adj:\n",
    "#\t\tglose=faire_glose(mot,classe,type,nombre)\n",
    "        (casAdj,nombreAdj)=(cas,nombre)\n",
    "        if not \"Cas\" in boolAttribut[\"ADJ\"] or not boolAttribut[\"ADJ\"][\"Cas\"]:\n",
    "            casAdj=\"\"\n",
    "        if not \"Nombre\" in boolAttribut[\"ADJ\"] or not boolAttribut[\"ADJ\"][\"Nombre\"]:\n",
    "            nombreAdj=\"\"\n",
    "        if not \"Genre\" in boolAttribut[\"ADJ\"] or not boolAttribut[\"ADJ\"][\"Genre\"]:\n",
    "            classeAdj=\"\"\n",
    "        else:\n",
    "            classeAdj=[classeElement for classeElement in classesNom if classeElement in gloses[\"ADJ\"][\"Genre\"]][0]\n",
    "\n",
    "        noligMot=mot.split(\".\")[0]\n",
    "        for ligature in deligatures:\n",
    "            noligMot=noligMot.replace(ligature,deligatures[ligature])\n",
    "            \n",
    "        ref=\"\\\\\"+recoder(noligMot,deaccent).lower()+classeAdj.capitalize()+nombreAdj.capitalize()+casAdj.capitalize()\n",
    "#        mots.append(ref)\n",
    "        texte.append(ref)\n",
    "        tempSyntagme.append(ref)\n",
    "    structureSyntagme[\"GADJ\"]=tempSyntagme\n",
    "    mots.insert(syntagmes['GN'].index(\"GADJ\"),structureSyntagme[\"GADJ\"])\n",
    "    tempSyntagme=[]\n",
    "#    print \"classe,nombre,cas\", classe, nombre, cas\n",
    "    for mot in nom:\n",
    "#\t\tglose=faire_glose(mot,classe,type,nombre)\n",
    "\n",
    "        noligMot=mot.split(\".\")[0]\n",
    "        for ligature in deligatures:\n",
    "            noligMot=noligMot.replace(ligature,deligatures[ligature])\n",
    "            \n",
    "        if mot.istitle():\n",
    "            ref=\"\\\\\"+recoder(noligMot,deaccent)+cellule\n",
    "        else:\n",
    "            ref=\"\\\\\"+recoder(noligMot,deaccent).lower()+cellule\n",
    "#        mots.append(ref)\n",
    "        texte.append(ref)\n",
    "        tempSyntagme.append(ref)\n",
    "    structureSyntagme[\"NOM\"]=tempSyntagme\n",
    "    mots.insert(syntagmes['GN'].index(\"NOM\"),structureSyntagme[\"NOM\"])\n",
    "    listeMots=[]\n",
    "    for element in syntagmes['GN']:\n",
    "        listeMots+=structureSyntagme[element]\n",
    "    return (listeMots,(classesNom,nombre,cas))"
   ]
  },
  {
   "cell_type": "code",
   "execution_count": 1928,
   "metadata": {
    "collapsed": false
   },
   "outputs": [],
   "source": [
    "def faire_gp(groupe_prep,fonction=\"\"):\n",
    "    mots=[]\n",
    "    groupe_prep=etendre_contraction(groupe_prep)\n",
    "    if debug: print \"faire_gp\", groupe_prep\n",
    "    formePreposition=groupe_prep[0]\n",
    "    if debug: print [formePreposition], formePreposition\n",
    "    preposition=PFM.lexique.formeLexeme[formePreposition][0]\n",
    "#    if preposition!=\"à\" or typeCas==\"NoCas\":\n",
    "    if not \"Cas\" in boolAttribut[\"NOM\"] or not boolAttribut[\"NOM\"][\"Cas\"] or fonction!=\"IND\":\n",
    "        if debug: print u\"fonction!=IND\",[groupe_prep[0],u\"à\"]\n",
    "\n",
    "        noligMot=groupe_prep[0]\n",
    "        for ligature in deligatures:\n",
    "            noligMot=noligMot.replace(ligature,deligatures[ligature])\n",
    "\n",
    "        ref=\"\\\\\"+recoder(noligMot,deaccent).upper()\n",
    "        if debug: print ref\n",
    "        if casSyntagmes and preposition in casPreposition:\n",
    "            if debug: \n",
    "                print casPreposition, casPreposition[preposition]\n",
    "            cas=casPreposition[preposition]            \n",
    "            if \"+\" in casPreposition[preposition]:\n",
    "                cas=cas.strip(\"+\")\n",
    "                mots.append(ref)\n",
    "                texte.append(ref)\n",
    "        else:\n",
    "            if debug: print \"pas de Cas\"\n",
    "            cas=\"\"\n",
    "            mots.append(ref)\n",
    "            texte.append(ref)\n",
    "        if debug:\n",
    "            print \"groupe prep :\", groupe_prep\n",
    "            print ref\n",
    "        if len(groupe_prep)>1:\n",
    "            groupe_nom=groupe_prep[1:]\n",
    "            if debug: print groupe_nom[0]\n",
    "            #\n",
    "            # Choisir le cas en fonction de la préposition\n",
    "            #\n",
    "            (localMots,(localClasses,localNombre,localCas))=faire_gn(groupe_nom,cas)\n",
    "            mots.insert(syntagmes['GP'].index(\"GN\"),localMots)\n",
    "        if debug: \n",
    "            print groupe_prep, cas, mots\n",
    "        return mots\n",
    "    elif fonction==\"IND\":\n",
    "        groupe_nom=groupe_prep[1:]\n",
    "        cas=casSyntagmes[\"IND\"]\n",
    "        if \"+\" in casSyntagmes[\"IND\"]:\n",
    "            \n",
    "            noligMot=groupe_prep[0]\n",
    "            for ligature in deligatures:\n",
    "                noligMot=noligMot.replace(ligature,deligatures[ligature])\n",
    "            \n",
    "            ref=\"\\\\\"+recoder(noligMot,deaccent).upper()\n",
    "            cas=cas.strip(\"+\")\n",
    "            mots.append(ref)\n",
    "            texte.append(ref)\n",
    "        if debug: print \"faire_gn\", groupe_nom, faire_gn(groupe_nom,cas)\n",
    "        (localMots,(localClasses,localNombre,localCas))=faire_gn(groupe_nom,cas)\n",
    "        mots.append(localMots)\n",
    "        return mots"
   ]
  },
  {
   "cell_type": "code",
   "execution_count": 1929,
   "metadata": {
    "collapsed": false
   },
   "outputs": [],
   "source": [
    "def etendre_contraction(liste):\n",
    "    result=[]\n",
    "    if liste[0] in contractions.keys():\n",
    "        if debug: print \"EXT : \", liste, contractions[liste[0]],liste[1:] \n",
    "        result.extend(contractions[liste[0]])\n",
    "        result.extend(liste[1:])\n",
    "    else:\n",
    "        result=liste\n",
    "    return result"
   ]
  },
  {
   "cell_type": "code",
   "execution_count": 1930,
   "metadata": {
    "collapsed": false
   },
   "outputs": [],
   "source": [
    "def printflat(liste,suffixe=\"\",prefixe=\"\"):\n",
    "    if debug: print \"printflat\", liste\n",
    "    if not isinstance(liste, basestring):\n",
    "        for element in liste:\n",
    "            accumulerMots(prefixe)\n",
    "            printflat(element,suffixe)\n",
    "    else: \n",
    "        accumulerMots(prefixe)\n",
    "        accumulerMots(liste+suffixe)"
   ]
  },
  {
   "cell_type": "code",
   "execution_count": 1931,
   "metadata": {
    "collapsed": false
   },
   "outputs": [],
   "source": [
    "#######################\n",
    "#\n",
    "#\tINITIALISATION DES VARIABLES\n",
    "#\n",
    "#######################\n",
    "\n",
    "try:\n",
    "    __IPYTHON__ \n",
    "    ipython=True\n",
    "except: \n",
    "    ipython=False"
   ]
  },
  {
   "cell_type": "code",
   "execution_count": 1932,
   "metadata": {
    "collapsed": false
   },
   "outputs": [
    {
     "name": "stdout",
     "output_type": "stream",
     "text": [
      "%% version : __file__\n",
      "%% traitement : 160708-1846\n"
     ]
    }
   ],
   "source": [
    "################\n",
    "#\n",
    "# LECTURE DU FICHIER DE LEXEMES\n",
    "#\n",
    "#\t\tLES LIGNES QUI COMMENCENT PAR # SONT IGNOREES\n",
    "#\n",
    "################\n",
    "print \"%% version : \"+version\n",
    "print \"%% traitement : \"+time_stamp\n",
    "\n",
    "if ipython or True:\n",
    "#    lexeme_nom=serie+\"Lexemes.txt\"\n",
    "#    phrase_nom=serie+\"Phrases.txt\"\n",
    "    phrase_nom=serie+complementPhrases+\"Phrases.csv\"\n",
    "    traduction_nom=serie+complementPhrases+\"Traductions.csv\"\n",
    "    cloze_nom=serie+complementPhrases+\"Clozes.txt\"\n",
    "else:\n",
    "    parser=optparse.OptionParser()\n",
    "    parser.add_option(\"-o\", \"--out\", dest=\"outfile\", action=\"store_true\", help=\"write to FILE\")\n",
    "    parser.add_option(\"-c\", \"--cloze\", dest=\"print_cloze\", action=\"store_true\", help=\"write a CLOZE FILE\")\n",
    "    parser.add_option(\"-l\", \"--lexicon\", dest=\"print_lexique\", action=\"store_true\", help=\"append a lexicon\")\n",
    "    parser.add_option(\"-r\", \"--roots\", dest=\"print_racines\", action=\"store_true\", help=\"append a root list\")\n",
    "\n",
    "    (options, args) = parser.parse_args()\n",
    "    lexeme_nom=args[0]\n",
    "    phrase_nom=args[1]\n",
    "    if len(args)>=3:\n",
    "        traduction_nom=args[2]\n",
    "    else:\n",
    "        traduction_nom=\"\""
   ]
  },
  {
   "cell_type": "markdown",
   "metadata": {},
   "source": [
    "#### Ouverture du fichier lexique"
   ]
  },
  {
   "cell_type": "code",
   "execution_count": 1933,
   "metadata": {
    "collapsed": false
   },
   "outputs": [],
   "source": [
    "def recoder(chaine,table):\n",
    "    if type(chaine)==str:\n",
    "        temp=unicode(chaine.decode('utf8')).translate(table)\n",
    "        result=temp.encode('utf8')\n",
    "    elif type(chaine)==unicode:\n",
    "        result=chaine.translate(table)\n",
    "    return result"
   ]
  },
  {
   "cell_type": "code",
   "execution_count": 1934,
   "metadata": {
    "collapsed": false
   },
   "outputs": [],
   "source": [
    "accentedIn = unicode(phonology[\"translations\"][\"deaccent\"][\"in\"])\n",
    "deaccentIn = [ord(char) for char in accentedIn]\n",
    "deaccentOut = unicode(phonology[\"translations\"][\"deaccent\"][\"out\"])\n",
    "deaccent = dict(zip(deaccentIn, deaccentOut))"
   ]
  },
  {
   "cell_type": "code",
   "execution_count": 1935,
   "metadata": {
    "collapsed": false
   },
   "outputs": [],
   "source": [
    "tipaIn = unicode(phonology[\"translations\"][\"ipa\"][\"in\"])\n",
    "ipaIn = [ord(char) for char in tipaIn]\n",
    "ipaOut = unicode(phonology[\"translations\"][\"ipa\"][\"out\"])\n",
    "toipa = dict(zip(ipaIn, ipaOut))"
   ]
  },
  {
   "cell_type": "code",
   "execution_count": 1936,
   "metadata": {
    "collapsed": false
   },
   "outputs": [],
   "source": [
    "#################################################\n",
    "#################################################\n",
    "#################################################\n",
    "##\n",
    "##\n",
    "##\tFAIRE LE TRI DES FORMES UTILISEES DANS LES PHRASES\n",
    "##\tAFFICHER DANS LES TABLEAUX SEULEMENT CES FORMES\n",
    "##\n",
    "##\n",
    "#################################################\n",
    "################################################\n",
    "#\n",
    "#\n",
    "#\tFAIRE LA LISTE DES PHRASES AVEC LES 4 LIGNES\n",
    "#\t\tGRAPHO, PHONO, GLOSE, TRAD\n",
    "#\n",
    "#\n",
    "################################################\n",
    "texte=[]\n",
    "#graphies={}\n",
    "#abs_genre=\"\"\n",
    "#abs_nombre=\"\"\n",
    "#PFM.lexique.formeLexeme"
   ]
  },
  {
   "cell_type": "code",
   "execution_count": 1937,
   "metadata": {
    "collapsed": false
   },
   "outputs": [],
   "source": [
    "def faire_phrases(phrase_file,sortieLatex=True):\n",
    "    if sortieLatex:\n",
    "        finLigne=\"\\\\\\\\\"\n",
    "    else:\n",
    "        finLigne=\"\\n\"\n",
    "    if print_phrases:\n",
    "        comment=\"\"\n",
    "    else:\n",
    "        comment=\"%\"\n",
    "    if sortieLatex: ajouterExemple(\"\\\\begin{phrases}\")\n",
    "    for nPhrase,line in enumerate(phrase_file):\n",
    "        phrase=[0 for i in range(len(syntagmes['Phrase']))]\n",
    "        tampon=(line.strip().rstrip('.')).replace(\"'\",\" \").split(\"\\t\")\n",
    "    #    print tampon[0],type(tampon[0])\n",
    "        if debug: print line\n",
    "        if not tampon[0].startswith(\"#\"):\n",
    "            verbe=tampon[1].split(\" \")\n",
    "            verbeForme=verbe[0]\n",
    "            if len(PFM.lexique.formeLexeme[verbeForme])!=1:\n",
    "                print \"FORME AMBIGUË\", PFM.lexique.formeLexeme[verbeForme]\n",
    "            verbeLexeme=PFM.lexique.formeLexeme[verbeForme][0]\n",
    "            temp=verbeLexeme.split(\".\")\n",
    "            if debug or 0: print temp\n",
    "            formeCitation=temp[0]\n",
    "            for element in temp[1:]:\n",
    "                if element in attributsFlexVerbe:\n",
    "                    formeCitation+=element.capitalize()\n",
    "            typeVerbe=temp[1]\n",
    "            classeVerbe=\"\"\n",
    "            nombreVerbe=\"\"\n",
    "            nombrePersonne=\"\"\n",
    "    #        print verbeLexeme, formeCitation,typeVerbe\n",
    "            verbeLemme=\"%s%s\"%(formeCitation,typeVerbe.capitalize())\n",
    "            verbeFormeIndex=PFM.lexique.lexemes[verbeLexeme].formes.index(verbeForme)\n",
    "            if debug: print \"verbe :\", verbe\n",
    "    #        if verbeLexeme.endswith(\"VI\"):\n",
    "            if casSyntagmes and \"SUJ\" in casSyntagmes and \"Erg\" in casSyntagmes[\"SUJ\"]:\n",
    "                if \".VI\" in verbeLexeme:            \n",
    "    #                suj_cas=\"Abs\"\n",
    "                    frSujetCas=\"Abs\"\n",
    "                    klbSujet=\"SUJ\"\n",
    "                else:\n",
    "    #                suj_cas=\"Erg\"\n",
    "    #                obj_cas=\"Abs\"\n",
    "                    frSujetCas=\"Erg\"\n",
    "                    frObjetCas=\"Abs\"\n",
    "                    klbSujet=\"OBJ\"\n",
    "            elif casSyntagmes and \"SUJ\" in casSyntagmes and \"Nom\" in casSyntagmes[\"SUJ\"]:\n",
    "                frSujetCas=casSyntagmes[\"SUJ\"]\n",
    "                frObjetCas=casSyntagmes[\"OBJ\"]\n",
    "                klbSujet=\"SUJ\"\n",
    "            else:\n",
    "                frSujetCas=\"\"\n",
    "                frObjetCas=\"\"\n",
    "                klbSujet=\"SUJ\"\n",
    "            suj_genre=valAttributs[\"Genre\"][0]\n",
    "            suj_nombre=valAttributs[\"Nombre\"][0]\n",
    "            obj_genre=valAttributs[\"Genre\"][0]\n",
    "            obj_nombre=valAttributs[\"Nombre\"][0]\n",
    "            abs_genre=valAttributs[\"Genre\"][0]\n",
    "            abs_nombre=valAttributs[\"Nombre\"][0]\n",
    "            sujet=tampon[0].strip().split(\" \")\n",
    "            (localMots,(localClasses,localNombre,localCas))=faire_gn(sujet,frSujetCas)\n",
    "            if (debug or 0) and nPhrase==0: print (localMots,(localClasses,localNombre,localCas))\n",
    "            phrase[syntagmes['Phrase'].index('SUJ')]=localMots\n",
    "            if debug: print localCas\n",
    "            if not localCas or localCas in sujetVerbe:\n",
    "                if localClasses and \"Genre\" in gloses[\"VER\"]:\n",
    "                    localClasse=[classeElement for classeElement in localClasses if classeElement in gloses[\"VER\"][\"Genre\"]][0]\n",
    "                else:\n",
    "                    localClasse=\"\"\n",
    "                classeVerbe=localClasse\n",
    "                nombreVerbe=localNombre\n",
    "                nombrePersonne=localNombre\n",
    "                casVerbe=localCas\n",
    "                if (debug or 0) and nPhrase==0: print \"frSuj\",nombrePersonne\n",
    "            if debug: print \"sujet :\",phrase[1]\n",
    "            if len(tampon)>=3:\n",
    "                objet=tampon[2].split(\" \")\n",
    "                if debug: print \"objet : \",objet\n",
    "                if objet!=['']: \n",
    "                    (localMots,(localClasses,localNombre,localCas))=faire_gn(objet,frObjetCas)\n",
    "                    if (debug or 0) and nPhrase==0: print (\"frObj\",(localClasses,localNombre,localCas),line)\n",
    "                    phrase[syntagmes['Phrase'].index('OBJ')]=localMots\n",
    "                    if debug or 0: print (\"obj :\",localCas, sujetVerbe)\n",
    "                    if localCas in sujetVerbe:\n",
    "                        if localClasses:\n",
    "                            localClasse=[classeElement for classeElement in localClasses if classeElement in gloses[\"VER\"][\"Genre\"]][0]\n",
    "                        else:\n",
    "                            localClasse=\"\"\n",
    "                        classeVerbe=localClasse\n",
    "                        nombreVerbe=localNombre\n",
    "                        nombrePersonne=localNombre\n",
    "                        casVerbe=localCas\n",
    "                        if (debug or 0) and nPhrase==0: print (\"cas\",nombrePersonne, line)\n",
    "                elif klbSujet==\"OBJ\":\n",
    "                    if boolAttribut[\"VER\"][\"Genre\"]:\n",
    "                        classeVerbe=morphosyntax[\"Defauts\"][\"Genre\"]\n",
    "                    if boolAttribut[\"VER\"][\"Nombre\"]:\n",
    "                        nombreVerbe=morphosyntax[\"Defauts\"][\"Nombre\"]\n",
    "                    if boolAttribut[\"VER\"][\"Pers\"]:\n",
    "                        nombrePersonne=morphosyntax[\"Defauts\"][\"NbPers\"]\n",
    "                    \n",
    "            if len(tampon)>=4:\n",
    "                indirect=tampon[3].split(\" \")\n",
    "                if debug: print \"indirect : \",indirect\n",
    "                if indirect!=['']: phrase[syntagmes['Phrase'].index('IND')]=faire_gp(indirect,\"IND\")\n",
    "            if len(tampon)>=5:\n",
    "                comp=tampon[4].split(\" \")\n",
    "                if comp!=['']:\n",
    "                    phrase[syntagmes['Phrase'].index('COMP')]=faire_gp(comp)\n",
    "            if len(tampon)>=6:\n",
    "                ajout=tampon[5].split(\" \")\n",
    "                phrase[syntagmes['Phrase'].index('AJOUT')]=faire_gp(ajout)\n",
    "            if not boolAttribut[\"VER\"][\"Genre\"]:\n",
    "                classeVerbe=\"\"\n",
    "            if not boolAttribut[\"VER\"][\"Nombre\"]:\n",
    "                nombreVerbe=\"\"\n",
    "            if not boolAttribut[\"VER\"][\"Pers\"]:\n",
    "                nombrePersonne=\"\"\n",
    "            else:\n",
    "                nombrePersonne=\"Trois\"+nombrePersonne.capitalize()\n",
    "            if (debug or 0) and nPhrase==0: print \"accord Verbe\",nombreVerbe, classeVerbe, sujetVerbe, line\n",
    "\n",
    "            noligFormeCitation=formeCitation\n",
    "            for ligature in deligatures:\n",
    "                noligFormeCitation=noligFormeCitation.replace(ligature,deligatures[ligature])\n",
    "\n",
    "            glose=\"\\\\\"+recoder(noligFormeCitation,deaccent)\\\n",
    "                +morphosyntax[\"VER\"][\"FormesBase\"][verbeFormeIndex].capitalize()\\\n",
    "                +nombrePersonne\\\n",
    "                +classeVerbe.capitalize()\\\n",
    "                +nombreVerbe.capitalize()\n",
    "            if (debug or 0) and nPhrase<200: print \"glose Verbe\",glose\n",
    "            phrase[syntagmes['Phrase'].index('VER')]=glose\n",
    "            texte.append(glose)\n",
    "            if sortieLatex: \n",
    "                ajouterExemple(\"\\\\ex\")\n",
    "                if print_glose and print_phono and print_ortho:\n",
    "                    ajouterExemple(comment+\"\\\\gloses\")\n",
    "                elif print_glose+print_ortho+print_phono==2:\n",
    "                    ajouterExemple(comment+\"\\\\gloses\")\n",
    "            for mot in phrase:\n",
    "                if mot!=0:\n",
    "                    printflat(mot,\"{}\")\n",
    "            if print_ortho:\n",
    "                prefixe=\"\"\n",
    "            else:\n",
    "                prefixe=marqueurCommentaire\n",
    "            ajouterExemple(prefixe+separateurMots.join(accumulateur)+finLigne)\n",
    "            for mot in phrase:\n",
    "                if mot!=0:\n",
    "                    printflat(mot,\"P{}\")\n",
    "            if print_phono:\n",
    "                prefixe=\"\"\n",
    "            else:\n",
    "                prefixe=marqueurCommentaire\n",
    "            ajouterExemple(prefixe+separateurMots.join(accumulateur)+finLigne)\n",
    "            for mot in phrase:\n",
    "                if mot!=0 and sortieLatex:\n",
    "                    printflat(mot,\"G{}\")\n",
    "            if print_glose:\n",
    "                prefixe=\"\"\n",
    "            else:\n",
    "                prefixe=marqueurCommentaire\n",
    "            if sortieLatex: ajouterExemple(prefixe+separateurMots.join(accumulateur)+finLigne)\n",
    "            traduction=(line.strip().rstrip('.')).split()\n",
    "            start=1\n",
    "            for element in traduction:\t\t\t# convertir les S majuscules à la finale des mots en minuscules\n",
    "                if element!=\"\":\n",
    "                    if start:\n",
    "                        start=0\n",
    "                        element=element.capitalize()\n",
    "                    caracteres=list(element)\n",
    "                    if caracteres[len(caracteres)-1]=='S':\n",
    "                        caracteres[len(caracteres)-1]='s'\n",
    "#                    accumulerMots(\"\".join(caracteres).encode('utf8'))\n",
    "                    accumulerMots(\"\".join(caracteres))\n",
    "            if sortieLatex: \n",
    "                ajouterExemple(taches()+\" \".join(accumulateur)+\".\")\n",
    "            else:\n",
    "                if debug: print accumulateur\n",
    "                ajouterExemple(\" \".join(accumulateur)+\".\")\n",
    "            del accumulateur[:]\n",
    "            if sortieLatex and print_coffee and random.randint(1,4)==1:\n",
    "                stain=random.choice([\"A\",\"B\",\"C\",\"D\"])\n",
    "                stain=random.choice([\"A\",\"B\",\"C\"])\n",
    "                alpha=random.random()/1.5\n",
    "                angle=random.randint(0,360)\n",
    "                xoff=random.randint(-200,0)\n",
    "#                ajouterExemple('\\\\\\\\\\\\cofe%sm{%.3f}{1}{%d}{%d}{0}' % (stain,alpha,angle,xoff))\n",
    "                ajouterExemple('\\\\hspace{-.35\\\\textwidth}\\\\cofe%sm{%.3f}{1}{%d}{%d}{0}' % (stain,alpha,angle,xoff))\n",
    "\n",
    "    if sortieLatex: ajouterExemple(\"\\\\end{phrases}\")\n",
    "    if sortieLatex:\n",
    "        if ('options' in globals() and options.print_cloze) or print_lexique:\n",
    "            tab=(head,tail,\"\")\n",
    "        else:\n",
    "            tab=(head,tail,\"%\")\n",
    "#        prononciationExtrait=[]\n",
    "        ajouterVocabulaire(tab[2]+\"\\\\begin{itemize}\")\n",
    "        ajouterVocabulaire(tab[2]+\"\\\\Needspace{8\\\\baselineskip}%\")\n",
    "        ajouterVocabulaire(tab[2]+\"\\\\item NOMS\\\\\\\\[-3ex]\")\n",
    "        print_tableaux(dimensionsTableaux[\"NOM\"][\"cols\"],tableaux[\"NOM\"],texte,dimensionsTableaux[\"NOM\"][\"long\"],tab,False)\n",
    "        ajouterVocabulaire(tab[2]+\"\\\\Needspace{8\\\\baselineskip}%\")\n",
    "        ajouterVocabulaire(tab[2]+\"\\\\item ADJECTIFS\\\\\\\\[-3ex]\")\n",
    "        print_tableaux(dimensionsTableaux[\"ADJ\"][\"cols\"],tableaux[\"ADJ\"],texte,dimensionsTableaux[\"ADJ\"][\"long\"],tab,False)\n",
    "        ajouterVocabulaire(tab[2]+\"\\\\Needspace{8\\\\baselineskip}%\")\n",
    "        ajouterVocabulaire(tab[2]+\"\\\\item VERBES\\\\\\\\[-3ex]\")\n",
    "        print_tableaux(dimensionsTableaux[\"VER\"][\"cols\"],tableaux[\"VER\"],texte,dimensionsTableaux[\"VER\"][\"long\"],tab,False)\n",
    "#        print_tableaux(2,tableaux[\"VER\"],texte,20,tab)\n",
    "        ajouterVocabulaire(tab[2]+\"\\\\Needspace{8\\\\baselineskip}%\")\n",
    "        ajouterVocabulaire(tab[2]+u\"\\\\item DÉTERMINANTS\\\\\\\\[-3ex]\")\n",
    "        print_tableaux(dimensionsTableaux[\"DET\"][\"cols\"],tableaux[\"DET\"],texte,dimensionsTableaux[\"DET\"][\"long\"],tab,False)\n",
    "#        print_tableaux(3,tableaux[\"DET\"],texte,0,tab)\n",
    "        ajouterVocabulaire(tab[2]+\"\\\\Needspace{8\\\\baselineskip}%\")\n",
    "        ajouterVocabulaire(tab[2]+u\"\\\\item PRÉPOSITIONS\\\\\\\\[-3ex]\")\n",
    "        print_tableaux(dimensionsTableaux[\"PREP\"][\"cols\"],tableaux[\"PREP\"],texte,dimensionsTableaux[\"PREP\"][\"long\"],tab,False)\n",
    "#        print_tableaux(2,tableaux[\"PREP\"],texte,0,tab)\n",
    "        ajouterVocabulaire(tab[2]+\"\\\\end{itemize}\")\n",
    "\n",
    "        if 1:\n",
    "            with codecs.open(serie+complementPhrases+\"Exemples\"+variante+\".tex\", 'wb',encoding=\"utf8\") as output:\n",
    "                for exemple in exemples:\n",
    "                    output.write(exemple+\"\\n\")\n",
    "\n",
    "            with codecs.open(serie+complementPhrases+\"Vocabulaire\"+variante+\".tex\", 'wb',encoding=\"utf8\") as output:\n",
    "                for vocable in vocabulaire:\n",
    "    #                print [vocable]\n",
    "                    output.write(vocable+\"\\n\")\n",
    "\n",
    "            with codecs.open(serie+complementPhrases+\"Prononciation\"+variante+\".tex\", 'wb',encoding=\"utf8\") as output:\n",
    "                for ligne in prononciationBegin+prononciationExtrait+prononciationEnd:\n",
    "                    output.write(ligne+\"\\n\")\n",
    "    else:\n",
    "        clozeTraductions=[]\n",
    "        for orthoLigne,phonoLigne,tradLigne in zip(*[iter(exemples)]*3):\n",
    "            phonoMots=phonoLigne.strip().split(\"{}\")\n",
    "            phonoPhrase=[]\n",
    "            for element in phonoMots:\n",
    "                cleElement=element.strip().strip(\"\\\\{}\")[:-1]\n",
    "#                print element,cleElement\n",
    "                if cleElement:\n",
    "                    if not cleElement in traductions: print cleElement,traductions[cleElement]\n",
    "                    phonoPhrase.append(traductions[cleElement])\n",
    "            if separateurPhonoCloze==\"\" : suppLigne=\";\"+\" \".join(phonoPhrase)\n",
    "            else: suppLigne=\"\"\n",
    "            result=separateurPhonoCloze.join(phonoPhrase)+\";\"+tradLigne+suppLigne\n",
    "            clozeTraductions.append(result)\n",
    "        with codecs.open(serie+complementPhrases+\"Traductions\"+\".txt\", 'wb',encoding=\"utf8\") as output:\n",
    "            for ligne in clozeTraductions:\n",
    "                output.write(ligne+\"\\n\")\n"
   ]
  },
  {
   "cell_type": "markdown",
   "metadata": {},
   "source": [
    "#### Traitement du fichier phrases"
   ]
  },
  {
   "cell_type": "code",
   "execution_count": 1938,
   "metadata": {
    "collapsed": false
   },
   "outputs": [
    {
     "name": "stdout",
     "output_type": "stream",
     "text": [
      "recuTableau set(['\\\\mainBDuDat & \\\\mainBDuDatP & \\\\blanc{\\\\mainBDuDatG} \\\\\\\\', '\\\\VioletteBPlDat & \\\\VioletteBPlDatP & \\\\blanc{\\\\VioletteBPlDatG} \\\\\\\\', '\\\\combatBSgErg & \\\\combatBSgErgP & \\\\blanc{\\\\combatBSgErgG} \\\\\\\\', '\\\\maisonCPlObl & \\\\maisonCPlOblP & \\\\blanc{\\\\maisonCPlOblG} \\\\\\\\', '\\\\soeurDDuErg & \\\\soeurDDuErgP & \\\\blanc{\\\\soeurDDuErgG} \\\\\\\\', '\\\\chefDSgDat & \\\\chefDSgDatP & \\\\blanc{\\\\chefDSgDatG} \\\\\\\\', '\\\\colereBDuObl & \\\\colereBDuOblP & \\\\blanc{\\\\colereBDuOblG} \\\\\\\\', '\\\\demonDSgDat & \\\\demonDSgDatP & \\\\blanc{\\\\demonDSgDatG} \\\\\\\\', '\\\\mainBPlErg & \\\\mainBPlErgP & \\\\blanc{\\\\mainBPlErgG} \\\\\\\\', '\\\\combatBPlObl & \\\\combatBPlOblP & \\\\blanc{\\\\combatBPlOblG} \\\\\\\\', '\\\\nuitDSgObl & \\\\nuitDSgOblP & \\\\blanc{\\\\nuitDSgOblG} \\\\\\\\', '\\\\couteauDDuDat & \\\\couteauDDuDatP & \\\\blanc{\\\\couteauDDuDatG} \\\\\\\\', '\\\\colereBPlObl & \\\\colereBPlOblP & \\\\blanc{\\\\colereBPlOblG} \\\\\\\\', '\\\\lueurCPlObl & \\\\lueurCPlOblP & \\\\blanc{\\\\lueurCPlOblG} \\\\\\\\', '\\\\lueurCSgErg & \\\\lueurCSgErgP & \\\\blanc{\\\\lueurCSgErgG} \\\\\\\\', '\\\\visageDSgAbs & \\\\visageDSgAbsP & \\\\blanc{\\\\visageDSgAbsG} \\\\\\\\', '\\\\MahiraCDuObl & \\\\MahiraCDuOblP & \\\\blanc{\\\\MahiraCDuOblG} \\\\\\\\', '\\\\lueurCDuErg & \\\\lueurCDuErgP & \\\\blanc{\\\\lueurCDuErgG} \\\\\\\\', '\\\\VioletteBDuDat & \\\\VioletteBDuDatP & \\\\blanc{\\\\VioletteBDuDatG} \\\\\\\\', '\\\\nuitDPlDat & \\\\nuitDPlDatP & \\\\blanc{\\\\nuitDPlDatG} \\\\\\\\', '\\\\lanceCDuObl & \\\\lanceCDuOblP & \\\\blanc{\\\\lanceCDuOblG} \\\\\\\\', '\\\\combattantBSgDat & \\\\combattantBSgDatP & \\\\blanc{\\\\combattantBSgDatG} \\\\\\\\', '\\\\ombreAPlObl & \\\\ombreAPlOblP & \\\\blanc{\\\\ombreAPlOblG} \\\\\\\\', '\\\\couteauDSgErg & \\\\couteauDSgErgP & \\\\blanc{\\\\couteauDSgErgG} \\\\\\\\', '\\\\foretASgAbs & \\\\foretASgAbsP & \\\\blanc{\\\\foretASgAbsG} \\\\\\\\', '\\\\coupADuAbs & \\\\coupADuAbsP & \\\\blanc{\\\\coupADuAbsG} \\\\\\\\', '\\\\filleAPlDat & \\\\filleAPlDatP & \\\\blanc{\\\\filleAPlDatG} \\\\\\\\', '\\\\hommeDDuObl & \\\\hommeDDuOblP & \\\\blanc{\\\\hommeDDuOblG} \\\\\\\\', '\\\\serpentCDuAbs & \\\\serpentCDuAbsP & \\\\blanc{\\\\serpentCDuAbsG} \\\\\\\\', '\\\\VioletteBDuErg & \\\\VioletteBDuErgP & \\\\blanc{\\\\VioletteBDuErgG} \\\\\\\\', '\\\\MahiraCPlDat & \\\\MahiraCPlDatP & \\\\blanc{\\\\MahiraCPlDatG} \\\\\\\\', '\\\\corpsDSgObl & \\\\corpsDSgOblP & \\\\blanc{\\\\corpsDSgOblG} \\\\\\\\', '\\\\villageoisCSgDat & \\\\villageoisCSgDatP & \\\\blanc{\\\\villageoisCSgDatG} \\\\\\\\', '\\\\gorgeCSgErg & \\\\gorgeCSgErgP & \\\\blanc{\\\\gorgeCSgErgG} \\\\\\\\', '\\\\corpsDSgAbs & \\\\corpsDSgAbsP & \\\\blanc{\\\\corpsDSgAbsG} \\\\\\\\', '\\\\mortBSgDat & \\\\mortBSgDatP & \\\\blanc{\\\\mortBSgDatG} \\\\\\\\', '\\\\chefDPlDat & \\\\chefDPlDatP & \\\\blanc{\\\\chefDPlDatG} \\\\\\\\', '\\\\ombreADuDat & \\\\ombreADuDatP & \\\\blanc{\\\\ombreADuDatG} \\\\\\\\', '\\\\criCDuDat & \\\\criCDuDatP & \\\\blanc{\\\\criCDuDatG} \\\\\\\\', '\\\\foretASgDat & \\\\foretASgDatP & \\\\blanc{\\\\foretASgDatG} \\\\\\\\', '\\\\blessureAPlObl & \\\\blessureAPlOblP & \\\\blanc{\\\\blessureAPlOblG} \\\\\\\\', '\\\\MahiraCSgErg & \\\\MahiraCSgErgP & \\\\blanc{\\\\MahiraCSgErgG} \\\\\\\\', '\\\\loupAPlDat & \\\\loupAPlDatP & \\\\blanc{\\\\loupAPlDatG} \\\\\\\\', '\\\\louveBSgDat & \\\\louveBSgDatP & \\\\blanc{\\\\louveBSgDatG} \\\\\\\\', '\\\\criCSgAbs & \\\\criCSgAbsP & \\\\blanc{\\\\criCSgAbsG} \\\\\\\\', '\\\\chefDPlAbs & \\\\chefDPlAbsP & \\\\blanc{\\\\chefDPlAbsG} \\\\\\\\', '\\\\hommeDDuAbs & \\\\hommeDDuAbsP & \\\\blanc{\\\\hommeDDuAbsG} \\\\\\\\', '\\\\filleAPlObl & \\\\filleAPlOblP & \\\\blanc{\\\\filleAPlOblG} \\\\\\\\', '\\\\luneADuDat & \\\\luneADuDatP & \\\\blanc{\\\\luneADuDatG} \\\\\\\\', '\\\\demonDDuErg & \\\\demonDDuErgP & \\\\blanc{\\\\demonDDuErgG} \\\\\\\\', '\\\\louveBSgErg & \\\\louveBSgErgP & \\\\blanc{\\\\louveBSgErgG} \\\\\\\\', '\\\\corpsDDuErg & \\\\corpsDDuErgP & \\\\blanc{\\\\corpsDDuErgG} \\\\\\\\', '\\\\combattantBSgAbs & \\\\combattantBSgAbsP & \\\\blanc{\\\\combattantBSgAbsG} \\\\\\\\', '\\\\hommeDSgDat & \\\\hommeDSgDatP & \\\\blanc{\\\\hommeDSgDatG} \\\\\\\\', '\\\\corpsDDuAbs & \\\\corpsDDuAbsP & \\\\blanc{\\\\corpsDDuAbsG} \\\\\\\\', '\\\\couteauDDuErg & \\\\couteauDDuErgP & \\\\blanc{\\\\couteauDDuErgG} \\\\\\\\', '\\\\combattantBDuAbs & \\\\combattantBDuAbsP & \\\\blanc{\\\\combattantBDuAbsG} \\\\\\\\', '\\\\couteauDSgAbs & \\\\couteauDSgAbsP & \\\\blanc{\\\\couteauDSgAbsG} \\\\\\\\', '\\\\serpentCSgErg & \\\\serpentCSgErgP & \\\\blanc{\\\\serpentCSgErgG} \\\\\\\\', '\\\\crocsBPlDat & \\\\crocsBPlDatP & \\\\blanc{\\\\crocsBPlDatG} \\\\\\\\', '\\\\lanceCPlErg & \\\\lanceCPlErgP & \\\\blanc{\\\\lanceCPlErgG} \\\\\\\\', '\\\\corpsDDuObl & \\\\corpsDDuOblP & \\\\blanc{\\\\corpsDDuOblG} \\\\\\\\', '\\\\arbreBDuObl & \\\\arbreBDuOblP & \\\\blanc{\\\\arbreBDuOblG} \\\\\\\\', '\\\\maisonCPlAbs & \\\\maisonCPlAbsP & \\\\blanc{\\\\maisonCPlAbsG} \\\\\\\\', '\\\\hommeDSgAbs & \\\\hommeDSgAbsP & \\\\blanc{\\\\hommeDSgAbsG} \\\\\\\\', '\\\\visageDPlAbs & \\\\visageDPlAbsP & \\\\blanc{\\\\visageDPlAbsG} \\\\\\\\', '\\\\KalebASgErg & \\\\KalebASgErgP & \\\\blanc{\\\\KalebASgErgG} \\\\\\\\', '\\\\ombreAPlAbs & \\\\ombreAPlAbsP & \\\\blanc{\\\\ombreAPlAbsG} \\\\\\\\', '\\\\gorgeCDuObl & \\\\gorgeCDuOblP & \\\\blanc{\\\\gorgeCDuOblG} \\\\\\\\', '\\\\blessureAPlAbs & \\\\blessureAPlAbsP & \\\\blanc{\\\\blessureAPlAbsG} \\\\\\\\', '\\\\colereBPlDat & \\\\colereBPlDatP & \\\\blanc{\\\\colereBPlDatG} \\\\\\\\', '\\\\demonDDuAbs & \\\\demonDDuAbsP & \\\\blanc{\\\\demonDDuAbsG} \\\\\\\\', '\\\\corpsDPlErg & \\\\corpsDPlErgP & \\\\blanc{\\\\corpsDPlErgG} \\\\\\\\', '\\\\maisonCDuDat & \\\\maisonCDuDatP & \\\\blanc{\\\\maisonCDuDatG} \\\\\\\\', '\\\\combatBDuDat & \\\\combatBDuDatP & \\\\blanc{\\\\combatBDuDatG} \\\\\\\\', '\\\\villageoiseDDuErg & \\\\villageoiseDDuErgP & \\\\blanc{\\\\villageoiseDDuErgG} \\\\\\\\', '\\\\enfantAPlAbs & \\\\enfantAPlAbsP & \\\\blanc{\\\\enfantAPlAbsG} \\\\\\\\', '\\\\criCPlDat & \\\\criCPlDatP & \\\\blanc{\\\\criCPlDatG} \\\\\\\\', '\\\\villageCSgAbs & \\\\villageCSgAbsP & \\\\blanc{\\\\villageCSgAbsG} \\\\\\\\', '\\\\villageoisCSgErg & \\\\villageoisCSgErgP & \\\\blanc{\\\\villageoisCSgErgG} \\\\\\\\', '\\\\lanceCPlObl & \\\\lanceCPlOblP & \\\\blanc{\\\\lanceCPlOblG} \\\\\\\\', '\\\\mainBDuObl & \\\\mainBDuOblP & \\\\blanc{\\\\mainBDuOblG} \\\\\\\\', '\\\\luneAPlObl & \\\\luneAPlOblP & \\\\blanc{\\\\luneAPlOblG} \\\\\\\\', '\\\\nuitDDuDat & \\\\nuitDDuDatP & \\\\blanc{\\\\nuitDDuDatG} \\\\\\\\', '\\\\villageCDuAbs & \\\\villageCDuAbsP & \\\\blanc{\\\\villageCDuAbsG} \\\\\\\\', '\\\\ombreADuAbs & \\\\ombreADuAbsP & \\\\blanc{\\\\ombreADuAbsG} \\\\\\\\', '\\\\sortASgAbs & \\\\sortASgAbsP & \\\\blanc{\\\\sortASgAbsG} \\\\\\\\', '\\\\mortBDuErg & \\\\mortBDuErgP & \\\\blanc{\\\\mortBDuErgG} \\\\\\\\', '\\\\ombreASgObl & \\\\ombreASgOblP & \\\\blanc{\\\\ombreASgOblG} \\\\\\\\', '\\\\VioletteBPlObl & \\\\VioletteBPlOblP & \\\\blanc{\\\\VioletteBPlOblG} \\\\\\\\', '\\\\coupASgAbs & \\\\coupASgAbsP & \\\\blanc{\\\\coupASgAbsG} \\\\\\\\', '\\\\luneASgObl & \\\\luneASgOblP & \\\\blanc{\\\\luneASgOblG} \\\\\\\\', '\\\\nuitDPlErg & \\\\nuitDPlErgP & \\\\blanc{\\\\nuitDPlErgG} \\\\\\\\', '\\\\couteauDPlObl & \\\\couteauDPlOblP & \\\\blanc{\\\\couteauDPlOblG} \\\\\\\\', '\\\\corpsDDuDat & \\\\corpsDDuDatP & \\\\blanc{\\\\corpsDDuDatG} \\\\\\\\', '\\\\souffranceCDuObl & \\\\souffranceCDuOblP & \\\\blanc{\\\\souffranceCDuOblG} \\\\\\\\', '\\\\coupADuDat & \\\\coupADuDatP & \\\\blanc{\\\\coupADuDatG} \\\\\\\\', '\\\\loupADuErg & \\\\loupADuErgP & \\\\blanc{\\\\loupADuErgG} \\\\\\\\', '\\\\mainBDuAbs & \\\\mainBDuAbsP & \\\\blanc{\\\\mainBDuAbsG} \\\\\\\\', '\\\\combattantBPlErg & \\\\combattantBPlErgP & \\\\blanc{\\\\combattantBPlErgG} \\\\\\\\', '\\\\enfantASgAbs & \\\\enfantASgAbsP & \\\\blanc{\\\\enfantASgAbsG} \\\\\\\\', '\\\\villageoiseDDuAbs & \\\\villageoiseDDuAbsP & \\\\blanc{\\\\villageoiseDDuAbsG} \\\\\\\\', '\\\\chefDSgAbs & \\\\chefDSgAbsP & \\\\blanc{\\\\chefDSgAbsG} \\\\\\\\', '\\\\villageoiseDPlErg & \\\\villageoiseDPlErgP & \\\\blanc{\\\\villageoiseDPlErgG} \\\\\\\\', '\\\\maisonCPlErg & \\\\maisonCPlErgP & \\\\blanc{\\\\maisonCPlErgG} \\\\\\\\', '\\\\lanceCSgDat & \\\\lanceCSgDatP & \\\\blanc{\\\\lanceCSgDatG} \\\\\\\\', '\\\\corpsDPlAbs & \\\\corpsDPlAbsP & \\\\blanc{\\\\corpsDPlAbsG} \\\\\\\\', '\\\\maisonCSgDat & \\\\maisonCSgDatP & \\\\blanc{\\\\maisonCSgDatG} \\\\\\\\', '\\\\blessureASgAbs & \\\\blessureASgAbsP & \\\\blanc{\\\\blessureASgAbsG} \\\\\\\\', '\\\\enfantADuDat & \\\\enfantADuDatP & \\\\blanc{\\\\enfantADuDatG} \\\\\\\\', '\\\\colereBDuErg & \\\\colereBDuErgP & \\\\blanc{\\\\colereBDuErgG} \\\\\\\\', '\\\\villageCSgDat & \\\\villageCSgDatP & \\\\blanc{\\\\villageCSgDatG} \\\\\\\\', '\\\\lueurCDuObl & \\\\lueurCDuOblP & \\\\blanc{\\\\lueurCDuOblG} \\\\\\\\', '\\\\KalebAPlAbs & \\\\KalebAPlAbsP & \\\\blanc{\\\\KalebAPlAbsG} \\\\\\\\', '\\\\combatBDuErg & \\\\combatBDuErgP & \\\\blanc{\\\\combatBDuErgG} \\\\\\\\', '\\\\souffranceCPlObl & \\\\souffranceCPlOblP & \\\\blanc{\\\\souffranceCPlOblG} \\\\\\\\', '\\\\combatBSgDat & \\\\combatBSgDatP & \\\\blanc{\\\\combatBSgDatG} \\\\\\\\', '\\\\filleAPlAbs & \\\\filleAPlAbsP & \\\\blanc{\\\\filleAPlAbsG} \\\\\\\\', '\\\\loupAPlAbs & \\\\loupAPlAbsP & \\\\blanc{\\\\loupAPlAbsG} \\\\\\\\', '\\\\filleASgObl & \\\\filleASgOblP & \\\\blanc{\\\\filleASgOblG} \\\\\\\\', '\\\\sortADuAbs & \\\\sortADuAbsP & \\\\blanc{\\\\sortADuAbsG} \\\\\\\\', '\\\\criCSgErg & \\\\criCSgErgP & \\\\blanc{\\\\criCSgErgG} \\\\\\\\', '\\\\villageoisCDuDat & \\\\villageoisCDuDatP & \\\\blanc{\\\\villageoisCDuDatG} \\\\\\\\', '\\\\luneAPlAbs & \\\\luneAPlAbsP & \\\\blanc{\\\\luneAPlAbsG} \\\\\\\\', '\\\\foretAPlAbs & \\\\foretAPlAbsP & \\\\blanc{\\\\foretAPlAbsG} \\\\\\\\', '\\\\KalebAPlObl & \\\\KalebAPlOblP & \\\\blanc{\\\\KalebAPlOblG} \\\\\\\\', '\\\\loupAPlErg & \\\\loupAPlErgP & \\\\blanc{\\\\loupAPlErgG} \\\\\\\\', '\\\\blessureASgErg & \\\\blessureASgErgP & \\\\blanc{\\\\blessureASgErgG} \\\\\\\\', '\\\\soeurDSgDat & \\\\soeurDSgDatP & \\\\blanc{\\\\soeurDSgDatG} \\\\\\\\', '\\\\lanceCDuDat & \\\\lanceCDuDatP & \\\\blanc{\\\\lanceCDuDatG} \\\\\\\\', '\\\\mainBPlObl & \\\\mainBPlOblP & \\\\blanc{\\\\mainBPlOblG} \\\\\\\\', '\\\\couteauDPlAbs & \\\\couteauDPlAbsP & \\\\blanc{\\\\couteauDPlAbsG} \\\\\\\\', '\\\\combattantBPlDat & \\\\combattantBPlDatP & \\\\blanc{\\\\combattantBPlDatG} \\\\\\\\', '\\\\foretAPlDat & \\\\foretAPlDatP & \\\\blanc{\\\\foretAPlDatG} \\\\\\\\', '\\\\crocsBDuDat & \\\\crocsBDuDatP & \\\\blanc{\\\\crocsBDuDatG} \\\\\\\\', '\\\\villageoiseDDuObl & \\\\villageoiseDDuOblP & \\\\blanc{\\\\villageoiseDDuOblG} \\\\\\\\', '\\\\loupADuObl & \\\\loupADuOblP & \\\\blanc{\\\\loupADuOblG} \\\\\\\\', '\\\\visageDPlObl & \\\\visageDPlOblP & \\\\blanc{\\\\visageDPlOblG} \\\\\\\\', '\\\\nuitDSgAbs & \\\\nuitDSgAbsP & \\\\blanc{\\\\nuitDSgAbsG} \\\\\\\\', '\\\\foretAPlErg & \\\\foretAPlErgP & \\\\blanc{\\\\foretAPlErgG} \\\\\\\\', '\\\\corpsDPlDat & \\\\corpsDPlDatP & \\\\blanc{\\\\corpsDPlDatG} \\\\\\\\', '\\\\gorgeCSgDat & \\\\gorgeCSgDatP & \\\\blanc{\\\\gorgeCSgDatG} \\\\\\\\', '\\\\sortASgErg & \\\\sortASgErgP & \\\\blanc{\\\\sortASgErgG} \\\\\\\\', '\\\\visageDPlErg & \\\\visageDPlErgP & \\\\blanc{\\\\visageDPlErgG} \\\\\\\\', '\\\\souffranceCSgObl & \\\\souffranceCSgOblP & \\\\blanc{\\\\souffranceCSgOblG} \\\\\\\\', '\\\\villageoiseDSgAbs & \\\\villageoiseDSgAbsP & \\\\blanc{\\\\villageoiseDSgAbsG} \\\\\\\\', '\\\\villageoiseDSgObl & \\\\villageoiseDSgOblP & \\\\blanc{\\\\villageoiseDSgOblG} \\\\\\\\', '\\\\serpentCPlErg & \\\\serpentCPlErgP & \\\\blanc{\\\\serpentCPlErgG} \\\\\\\\', '\\\\villageoisCSgAbs & \\\\villageoisCSgAbsP & \\\\blanc{\\\\villageoisCSgAbsG} \\\\\\\\', '\\\\soeurDSgObl & \\\\soeurDSgOblP & \\\\blanc{\\\\soeurDSgOblG} \\\\\\\\', '\\\\nuitDSgErg & \\\\nuitDSgErgP & \\\\blanc{\\\\nuitDSgErgG} \\\\\\\\', '\\\\lanceCSgObl & \\\\lanceCSgOblP & \\\\blanc{\\\\lanceCSgOblG} \\\\\\\\', '\\\\combatBPlAbs & \\\\combatBPlAbsP & \\\\blanc{\\\\combatBPlAbsG} \\\\\\\\', '\\\\mainBPlDat & \\\\mainBPlDatP & \\\\blanc{\\\\mainBPlDatG} \\\\\\\\', '\\\\KalebAPlErg & \\\\KalebAPlErgP & \\\\blanc{\\\\KalebAPlErgG} \\\\\\\\', '\\\\arbreBPlErg & \\\\arbreBPlErgP & \\\\blanc{\\\\arbreBPlErgG} \\\\\\\\', '\\\\ombreASgAbs & \\\\ombreASgAbsP & \\\\blanc{\\\\ombreASgAbsG} \\\\\\\\', '\\\\villageCSgErg & \\\\villageCSgErgP & \\\\blanc{\\\\villageCSgErgG} \\\\\\\\', '\\\\souffranceCSgErg & \\\\souffranceCSgErgP & \\\\blanc{\\\\souffranceCSgErgG} \\\\\\\\', '\\\\hommeDPlObl & \\\\hommeDPlOblP & \\\\blanc{\\\\hommeDPlOblG} \\\\\\\\', '\\\\mortBPlAbs & \\\\mortBPlAbsP & \\\\blanc{\\\\mortBPlAbsG} \\\\\\\\', '\\\\gorgeCSgObl & \\\\gorgeCSgOblP & \\\\blanc{\\\\gorgeCSgOblG} \\\\\\\\', '\\\\loupASgErg & \\\\loupASgErgP & \\\\blanc{\\\\loupASgErgG} \\\\\\\\', '\\\\corpsDPlObl & \\\\corpsDPlOblP & \\\\blanc{\\\\corpsDPlOblG} \\\\\\\\', '\\\\soeurDSgAbs & \\\\soeurDSgAbsP & \\\\blanc{\\\\soeurDSgAbsG} \\\\\\\\', '\\\\louveBDuErg & \\\\louveBDuErgP & \\\\blanc{\\\\louveBDuErgG} \\\\\\\\', '\\\\loupASgDat & \\\\loupASgDatP & \\\\blanc{\\\\loupASgDatG} \\\\\\\\', '\\\\filleASgDat & \\\\filleASgDatP & \\\\blanc{\\\\filleASgDatG} \\\\\\\\', '\\\\mainBDuErg & \\\\mainBDuErgP & \\\\blanc{\\\\mainBDuErgG} \\\\\\\\', '\\\\villageCDuDat & \\\\villageCDuDatP & \\\\blanc{\\\\villageCDuDatG} \\\\\\\\', '\\\\ombreADuObl & \\\\ombreADuOblP & \\\\blanc{\\\\ombreADuOblG} \\\\\\\\', '\\\\VioletteBSgAbs & \\\\VioletteBSgAbsP & \\\\blanc{\\\\VioletteBSgAbsG} \\\\\\\\', '\\\\MahiraCSgAbs & \\\\MahiraCSgAbsP & \\\\blanc{\\\\MahiraCSgAbsG} \\\\\\\\', '\\\\criCSgObl & \\\\criCSgOblP & \\\\blanc{\\\\criCSgOblG} \\\\\\\\', '\\\\gorgeCPlAbs & \\\\gorgeCPlAbsP & \\\\blanc{\\\\gorgeCPlAbsG} \\\\\\\\', '\\\\gorgeCDuErg & \\\\gorgeCDuErgP & \\\\blanc{\\\\gorgeCDuErgG} \\\\\\\\', '\\\\louveBDuObl & \\\\louveBDuOblP & \\\\blanc{\\\\louveBDuOblG} \\\\\\\\', '\\\\MahiraCPlAbs & \\\\MahiraCPlAbsP & \\\\blanc{\\\\MahiraCPlAbsG} \\\\\\\\', '\\\\combatBPlErg & \\\\combatBPlErgP & \\\\blanc{\\\\combatBPlErgG} \\\\\\\\', '\\\\enfantASgObl & \\\\enfantASgOblP & \\\\blanc{\\\\enfantASgOblG} \\\\\\\\', '\\\\serpentCPlDat & \\\\serpentCPlDatP & \\\\blanc{\\\\serpentCPlDatG} \\\\\\\\', '\\\\louveBDuDat & \\\\louveBDuDatP & \\\\blanc{\\\\louveBDuDatG} \\\\\\\\', '\\\\mainBSgErg & \\\\mainBSgErgP & \\\\blanc{\\\\mainBSgErgG} \\\\\\\\', '\\\\colereBPlErg & \\\\colereBPlErgP & \\\\blanc{\\\\colereBPlErgG} \\\\\\\\', '\\\\mortBDuAbs & \\\\mortBDuAbsP & \\\\blanc{\\\\mortBDuAbsG} \\\\\\\\', '\\\\combattantBDuErg & \\\\combattantBDuErgP & \\\\blanc{\\\\combattantBDuErgG} \\\\\\\\', '\\\\souffranceCPlErg & \\\\souffranceCPlErgP & \\\\blanc{\\\\souffranceCPlErgG} \\\\\\\\', '\\\\visageDDuAbs & \\\\visageDDuAbsP & \\\\blanc{\\\\visageDDuAbsG} \\\\\\\\', '\\\\combattantBPlAbs & \\\\combattantBPlAbsP & \\\\blanc{\\\\combattantBPlAbsG} \\\\\\\\', '\\\\colereBDuDat & \\\\colereBDuDatP & \\\\blanc{\\\\colereBDuDatG} \\\\\\\\', '\\\\enfantAPlErg & \\\\enfantAPlErgP & \\\\blanc{\\\\enfantAPlErgG} \\\\\\\\', '\\\\luneASgErg & \\\\luneASgErgP & \\\\blanc{\\\\luneASgErgG} \\\\\\\\', '\\\\luneAPlErg & \\\\luneAPlErgP & \\\\blanc{\\\\luneAPlErgG} \\\\\\\\', '\\\\villageCPlAbs & \\\\villageCPlAbsP & \\\\blanc{\\\\villageCPlAbsG} \\\\\\\\', '\\\\combattantBDuDat & \\\\combattantBDuDatP & \\\\blanc{\\\\combattantBDuDatG} \\\\\\\\', '\\\\lueurCPlDat & \\\\lueurCPlDatP & \\\\blanc{\\\\lueurCPlDatG} \\\\\\\\', '\\\\villageoisCPlObl & \\\\villageoisCPlOblP & \\\\blanc{\\\\villageoisCPlOblG} \\\\\\\\', '\\\\MahiraCPlErg & \\\\MahiraCPlErgP & \\\\blanc{\\\\MahiraCPlErgG} \\\\\\\\', '\\\\maisonCSgErg & \\\\maisonCSgErgP & \\\\blanc{\\\\maisonCSgErgG} \\\\\\\\', '\\\\colereBSgDat & \\\\colereBSgDatP & \\\\blanc{\\\\colereBSgDatG} \\\\\\\\', '\\\\nuitDDuAbs & \\\\nuitDDuAbsP & \\\\blanc{\\\\nuitDDuAbsG} \\\\\\\\', '\\\\crocsBPlAbs & \\\\crocsBPlAbsP & \\\\blanc{\\\\crocsBPlAbsG} \\\\\\\\', '\\\\chefDPlErg & \\\\chefDPlErgP & \\\\blanc{\\\\chefDPlErgG} \\\\\\\\', '\\\\hommeDDuErg & \\\\hommeDDuErgP & \\\\blanc{\\\\hommeDDuErgG} \\\\\\\\', '\\\\mortBPlObl & \\\\mortBPlOblP & \\\\blanc{\\\\mortBPlOblG} \\\\\\\\', '\\\\demonDPlErg & \\\\demonDPlErgP & \\\\blanc{\\\\demonDPlErgG} \\\\\\\\', '\\\\villageoiseDPlAbs & \\\\villageoiseDPlAbsP & \\\\blanc{\\\\villageoiseDPlAbsG} \\\\\\\\', '\\\\villageCDuErg & \\\\villageCDuErgP & \\\\blanc{\\\\villageCDuErgG} \\\\\\\\', '\\\\hommeDPlAbs & \\\\hommeDPlAbsP & \\\\blanc{\\\\hommeDPlAbsG} \\\\\\\\', '\\\\crocsBSgDat & \\\\crocsBSgDatP & \\\\blanc{\\\\crocsBSgDatG} \\\\\\\\', '\\\\arbreBDuDat & \\\\arbreBDuDatP & \\\\blanc{\\\\arbreBDuDatG} \\\\\\\\', '\\\\demonDDuDat & \\\\demonDDuDatP & \\\\blanc{\\\\demonDDuDatG} \\\\\\\\', '\\\\nuitDDuErg & \\\\nuitDDuErgP & \\\\blanc{\\\\nuitDDuErgG} \\\\\\\\', '\\\\chefDPlObl & \\\\chefDPlOblP & \\\\blanc{\\\\chefDPlOblG} \\\\\\\\', '\\\\luneADuObl & \\\\luneADuOblP & \\\\blanc{\\\\luneADuOblG} \\\\\\\\', '\\\\enfantASgDat & \\\\enfantASgDatP & \\\\blanc{\\\\enfantASgDatG} \\\\\\\\', '\\\\villageoiseDDuDat & \\\\villageoiseDDuDatP & \\\\blanc{\\\\villageoiseDDuDatG} \\\\\\\\', '\\\\colereBSgErg & \\\\colereBSgErgP & \\\\blanc{\\\\colereBSgErgG} \\\\\\\\', '\\\\mortBPlDat & \\\\mortBPlDatP & \\\\blanc{\\\\mortBPlDatG} \\\\\\\\', '\\\\crocsBDuAbs & \\\\crocsBDuAbsP & \\\\blanc{\\\\crocsBDuAbsG} \\\\\\\\', '\\\\nuitDSgDat & \\\\nuitDSgDatP & \\\\blanc{\\\\nuitDSgDatG} \\\\\\\\', '\\\\filleADuErg & \\\\filleADuErgP & \\\\blanc{\\\\filleADuErgG} \\\\\\\\', '\\\\mortBPlErg & \\\\mortBPlErgP & \\\\blanc{\\\\mortBPlErgG} \\\\\\\\', '\\\\souffranceCPlDat & \\\\souffranceCPlDatP & \\\\blanc{\\\\souffranceCPlDatG} \\\\\\\\', '\\\\serpentCDuObl & \\\\serpentCDuOblP & \\\\blanc{\\\\serpentCDuOblG} \\\\\\\\', '\\\\KalebAPlDat & \\\\KalebAPlDatP & \\\\blanc{\\\\KalebAPlDatG} \\\\\\\\', '\\\\coupADuErg & \\\\coupADuErgP & \\\\blanc{\\\\coupADuErgG} \\\\\\\\', '\\\\luneADuAbs & \\\\luneADuAbsP & \\\\blanc{\\\\luneADuAbsG} \\\\\\\\', '\\\\chefDDuErg & \\\\chefDDuErgP & \\\\blanc{\\\\chefDDuErgG} \\\\\\\\', '\\\\VioletteBPlAbs & \\\\VioletteBPlAbsP & \\\\blanc{\\\\VioletteBPlAbsG} \\\\\\\\', '\\\\chefDSgObl & \\\\chefDSgOblP & \\\\blanc{\\\\chefDSgOblG} \\\\\\\\', '\\\\arbreBPlObl & \\\\arbreBPlOblP & \\\\blanc{\\\\arbreBPlOblG} \\\\\\\\', '\\\\nuitDPlObl & \\\\nuitDPlOblP & \\\\blanc{\\\\nuitDPlOblG} \\\\\\\\', '\\\\gorgeCPlErg & \\\\gorgeCPlErgP & \\\\blanc{\\\\gorgeCPlErgG} \\\\\\\\', '\\\\MahiraCSgObl & \\\\MahiraCSgOblP & \\\\blanc{\\\\MahiraCSgOblG} \\\\\\\\', '\\\\mortBSgAbs & \\\\mortBSgAbsP & \\\\blanc{\\\\mortBSgAbsG} \\\\\\\\', '\\\\lueurCSgObl & \\\\lueurCSgOblP & \\\\blanc{\\\\lueurCSgOblG} \\\\\\\\', '\\\\MahiraCDuDat & \\\\MahiraCDuDatP & \\\\blanc{\\\\MahiraCDuDatG} \\\\\\\\', '\\\\soeurDPlAbs & \\\\soeurDPlAbsP & \\\\blanc{\\\\soeurDPlAbsG} \\\\\\\\', '\\\\coupAPlAbs & \\\\coupAPlAbsP & \\\\blanc{\\\\coupAPlAbsG} \\\\\\\\', '\\\\MahiraCDuAbs & \\\\MahiraCDuAbsP & \\\\blanc{\\\\MahiraCDuAbsG} \\\\\\\\', '\\\\KalebASgAbs & \\\\KalebASgAbsP & \\\\blanc{\\\\KalebASgAbsG} \\\\\\\\', '\\\\combatBDuAbs & \\\\combatBDuAbsP & \\\\blanc{\\\\combatBDuAbsG} \\\\\\\\', '\\\\couteauDDuObl & \\\\couteauDDuOblP & \\\\blanc{\\\\couteauDDuOblG} \\\\\\\\', '\\\\soeurDPlDat & \\\\soeurDPlDatP & \\\\blanc{\\\\soeurDPlDatG} \\\\\\\\', '\\\\lanceCPlDat & \\\\lanceCPlDatP & \\\\blanc{\\\\lanceCPlDatG} \\\\\\\\', '\\\\gorgeCPlObl & \\\\gorgeCPlOblP & \\\\blanc{\\\\gorgeCPlOblG} \\\\\\\\', '\\\\MahiraCSgDat & \\\\MahiraCSgDatP & \\\\blanc{\\\\MahiraCSgDatG} \\\\\\\\', '\\\\combatBSgObl & \\\\combatBSgOblP & \\\\blanc{\\\\combatBSgOblG} \\\\\\\\', '\\\\foretASgObl & \\\\foretASgOblP & \\\\blanc{\\\\foretASgOblG} \\\\\\\\', '\\\\sortASgDat & \\\\sortASgDatP & \\\\blanc{\\\\sortASgDatG} \\\\\\\\', '\\\\coupASgErg & \\\\coupASgErgP & \\\\blanc{\\\\coupASgErgG} \\\\\\\\', '\\\\louveBPlErg & \\\\louveBPlErgP & \\\\blanc{\\\\louveBPlErgG} \\\\\\\\', '\\\\colereBSgObl & \\\\colereBSgOblP & \\\\blanc{\\\\colereBSgOblG} \\\\\\\\', '\\\\mainBPlAbs & \\\\mainBPlAbsP & \\\\blanc{\\\\mainBPlAbsG} \\\\\\\\', '\\\\villageoisCSgObl & \\\\villageoisCSgOblP & \\\\blanc{\\\\villageoisCSgOblG} \\\\\\\\', '\\\\criCDuObl & \\\\criCDuOblP & \\\\blanc{\\\\criCDuOblG} \\\\\\\\', '\\\\soeurDPlErg & \\\\soeurDPlErgP & \\\\blanc{\\\\soeurDPlErgG} \\\\\\\\', '\\\\soeurDPlObl & \\\\soeurDPlOblP & \\\\blanc{\\\\soeurDPlOblG} \\\\\\\\', '\\\\villageCSgObl & \\\\villageCSgOblP & \\\\blanc{\\\\villageCSgOblG} \\\\\\\\', '\\\\visageDSgDat & \\\\visageDSgDatP & \\\\blanc{\\\\visageDSgDatG} \\\\\\\\', '\\\\enfantASgErg & \\\\enfantASgErgP & \\\\blanc{\\\\enfantASgErgG} \\\\\\\\', '\\\\gorgeCPlDat & \\\\gorgeCPlDatP & \\\\blanc{\\\\gorgeCPlDatG} \\\\\\\\', '\\\\foretADuObl & \\\\foretADuOblP & \\\\blanc{\\\\foretADuOblG} \\\\\\\\', '\\\\gorgeCSgAbs & \\\\gorgeCSgAbsP & \\\\blanc{\\\\gorgeCSgAbsG} \\\\\\\\', '\\\\lueurCPlErg & \\\\lueurCPlErgP & \\\\blanc{\\\\lueurCPlErgG} \\\\\\\\', '\\\\filleADuDat & \\\\filleADuDatP & \\\\blanc{\\\\filleADuDatG} \\\\\\\\', '\\\\arbreBPlDat & \\\\arbreBPlDatP & \\\\blanc{\\\\arbreBPlDatG} \\\\\\\\', '\\\\villageoisCDuAbs & \\\\villageoisCDuAbsP & \\\\blanc{\\\\villageoisCDuAbsG} \\\\\\\\', '\\\\loupASgObl & \\\\loupASgOblP & \\\\blanc{\\\\loupASgOblG} \\\\\\\\', '\\\\VioletteBSgObl & \\\\VioletteBSgOblP & \\\\blanc{\\\\VioletteBSgOblG} \\\\\\\\', '\\\\visageDSgObl & \\\\visageDSgOblP & \\\\blanc{\\\\visageDSgOblG} \\\\\\\\', '\\\\villageoisCDuErg & \\\\villageoisCDuErgP & \\\\blanc{\\\\villageoisCDuErgG} \\\\\\\\', '\\\\coupAPlDat & \\\\coupAPlDatP & \\\\blanc{\\\\coupAPlDatG} \\\\\\\\', '\\\\couteauDSgDat & \\\\couteauDSgDatP & \\\\blanc{\\\\couteauDSgDatG} \\\\\\\\', '\\\\couteauDSgObl & \\\\couteauDSgOblP & \\\\blanc{\\\\couteauDSgOblG} \\\\\\\\', '\\\\luneASgAbs & \\\\luneASgAbsP & \\\\blanc{\\\\luneASgAbsG} \\\\\\\\', '\\\\KalebADuErg & \\\\KalebADuErgP & \\\\blanc{\\\\KalebADuErgG} \\\\\\\\', '\\\\MahiraCPlObl & \\\\MahiraCPlOblP & \\\\blanc{\\\\MahiraCPlOblG} \\\\\\\\', '\\\\corpsDSgErg & \\\\corpsDSgErgP & \\\\blanc{\\\\corpsDSgErgG} \\\\\\\\', '\\\\souffranceCPlAbs & \\\\souffranceCPlAbsP & \\\\blanc{\\\\souffranceCPlAbsG} \\\\\\\\', '\\\\foretADuDat & \\\\foretADuDatP & \\\\blanc{\\\\foretADuDatG} \\\\\\\\', '\\\\lueurCPlAbs & \\\\lueurCPlAbsP & \\\\blanc{\\\\lueurCPlAbsG} \\\\\\\\', '\\\\demonDSgErg & \\\\demonDSgErgP & \\\\blanc{\\\\demonDSgErgG} \\\\\\\\', '\\\\arbreBPlAbs & \\\\arbreBPlAbsP & \\\\blanc{\\\\arbreBPlAbsG} \\\\\\\\', '\\\\MahiraCDuErg & \\\\MahiraCDuErgP & \\\\blanc{\\\\MahiraCDuErgG} \\\\\\\\', '\\\\criCPlAbs & \\\\criCPlAbsP & \\\\blanc{\\\\criCPlAbsG} \\\\\\\\', '\\\\combattantBSgErg & \\\\combattantBSgErgP & \\\\blanc{\\\\combattantBSgErgG} \\\\\\\\', '\\\\gorgeCDuDat & \\\\gorgeCDuDatP & \\\\blanc{\\\\gorgeCDuDatG} \\\\\\\\', '\\\\combatBSgAbs & \\\\combatBSgAbsP & \\\\blanc{\\\\combatBSgAbsG} \\\\\\\\', '\\\\serpentCSgDat & \\\\serpentCSgDatP & \\\\blanc{\\\\serpentCSgDatG} \\\\\\\\', '\\\\sortAPlAbs & \\\\sortAPlAbsP & \\\\blanc{\\\\sortAPlAbsG} \\\\\\\\', '\\\\hommeDDuDat & \\\\hommeDDuDatP & \\\\blanc{\\\\hommeDDuDatG} \\\\\\\\', '\\\\demonDSgAbs & \\\\demonDSgAbsP & \\\\blanc{\\\\demonDSgAbsG} \\\\\\\\', '\\\\blessureASgDat & \\\\blessureASgDatP & \\\\blanc{\\\\blessureASgDatG} \\\\\\\\', '\\\\VioletteBDuAbs & \\\\VioletteBDuAbsP & \\\\blanc{\\\\VioletteBDuAbsG} \\\\\\\\', '\\\\arbreBDuErg & \\\\arbreBDuErgP & \\\\blanc{\\\\arbreBDuErgG} \\\\\\\\', '\\\\combatBPlDat & \\\\combatBPlDatP & \\\\blanc{\\\\combatBPlDatG} \\\\\\\\', '\\\\KalebADuDat & \\\\KalebADuDatP & \\\\blanc{\\\\KalebADuDatG} \\\\\\\\', '\\\\coupASgObl & \\\\coupASgOblP & \\\\blanc{\\\\coupASgOblG} \\\\\\\\', '\\\\chefDDuDat & \\\\chefDDuDatP & \\\\blanc{\\\\chefDDuDatG} \\\\\\\\', '\\\\blessureAPlDat & \\\\blessureAPlDatP & \\\\blanc{\\\\blessureAPlDatG} \\\\\\\\', '\\\\sortAPlErg & \\\\sortAPlErgP & \\\\blanc{\\\\sortAPlErgG} \\\\\\\\', '\\\\lueurCDuAbs & \\\\lueurCDuAbsP & \\\\blanc{\\\\lueurCDuAbsG} \\\\\\\\', '\\\\nuitDPlAbs & \\\\nuitDPlAbsP & \\\\blanc{\\\\nuitDPlAbsG} \\\\\\\\', '\\\\KalebADuObl & \\\\KalebADuOblP & \\\\blanc{\\\\KalebADuOblG} \\\\\\\\', '\\\\chefDDuObl & \\\\chefDDuOblP & \\\\blanc{\\\\chefDDuOblG} \\\\\\\\', '\\\\serpentCDuErg & \\\\serpentCDuErgP & \\\\blanc{\\\\serpentCDuErgG} \\\\\\\\', '\\\\visageDDuDat & \\\\visageDDuDatP & \\\\blanc{\\\\visageDDuDatG} \\\\\\\\', '\\\\louveBSgAbs & \\\\louveBSgAbsP & \\\\blanc{\\\\louveBSgAbsG} \\\\\\\\', '\\\\mainBSgAbs & \\\\mainBSgAbsP & \\\\blanc{\\\\mainBSgAbsG} \\\\\\\\', '\\\\mortBDuDat & \\\\mortBDuDatP & \\\\blanc{\\\\mortBDuDatG} \\\\\\\\', '\\\\loupASgAbs & \\\\loupASgAbsP & \\\\blanc{\\\\loupASgAbsG} \\\\\\\\', '\\\\corpsDSgDat & \\\\corpsDSgDatP & \\\\blanc{\\\\corpsDSgDatG} \\\\\\\\', '\\\\serpentCDuDat & \\\\serpentCDuDatP & \\\\blanc{\\\\serpentCDuDatG} \\\\\\\\', '\\\\mainBSgObl & \\\\mainBSgOblP & \\\\blanc{\\\\mainBSgOblG} \\\\\\\\', '\\\\luneADuErg & \\\\luneADuErgP & \\\\blanc{\\\\luneADuErgG} \\\\\\\\', '\\\\serpentCSgAbs & \\\\serpentCSgAbsP & \\\\blanc{\\\\serpentCSgAbsG} \\\\\\\\', '\\\\KalebADuAbs & \\\\KalebADuAbsP & \\\\blanc{\\\\KalebADuAbsG} \\\\\\\\', '\\\\demonDPlDat & \\\\demonDPlDatP & \\\\blanc{\\\\demonDPlDatG} \\\\\\\\', '\\\\coupADuObl & \\\\coupADuOblP & \\\\blanc{\\\\coupADuOblG} \\\\\\\\', '\\\\visageDSgErg & \\\\visageDSgErgP & \\\\blanc{\\\\visageDSgErgG} \\\\\\\\', '\\\\combattantBSgObl & \\\\combattantBSgOblP & \\\\blanc{\\\\combattantBSgOblG} \\\\\\\\', '\\\\filleASgErg & \\\\filleASgErgP & \\\\blanc{\\\\filleASgErgG} \\\\\\\\', '\\\\villageoisCDuObl & \\\\villageoisCDuOblP & \\\\blanc{\\\\villageoisCDuOblG} \\\\\\\\', '\\\\criCSgDat & \\\\criCSgDatP & \\\\blanc{\\\\criCSgDatG} \\\\\\\\', '\\\\mortBSgErg & \\\\mortBSgErgP & \\\\blanc{\\\\mortBSgErgG} \\\\\\\\', '\\\\coupAPlObl & \\\\coupAPlOblP & \\\\blanc{\\\\coupAPlOblG} \\\\\\\\', '\\\\couteauDPlDat & \\\\couteauDPlDatP & \\\\blanc{\\\\couteauDPlDatG} \\\\\\\\', '\\\\ombreAPlDat & \\\\ombreAPlDatP & \\\\blanc{\\\\ombreAPlDatG} \\\\\\\\', '\\\\foretADuErg & \\\\foretADuErgP & \\\\blanc{\\\\foretADuErgG} \\\\\\\\', '\\\\arbreBDuAbs & \\\\arbreBDuAbsP & \\\\blanc{\\\\arbreBDuAbsG} \\\\\\\\', '\\\\enfantAPlObl & \\\\enfantAPlOblP & \\\\blanc{\\\\enfantAPlOblG} \\\\\\\\', '\\\\visageDPlDat & \\\\visageDPlDatP & \\\\blanc{\\\\visageDPlDatG} \\\\\\\\', '\\\\criCPlObl & \\\\criCPlOblP & \\\\blanc{\\\\criCPlOblG} \\\\\\\\', '\\\\sortAPlDat & \\\\sortAPlDatP & \\\\blanc{\\\\sortAPlDatG} \\\\\\\\', '\\\\maisonCPlDat & \\\\maisonCPlDatP & \\\\blanc{\\\\maisonCPlDatG} \\\\\\\\', '\\\\loupAPlObl & \\\\loupAPlOblP & \\\\blanc{\\\\loupAPlOblG} \\\\\\\\', '\\\\hommeDSgErg & \\\\hommeDSgErgP & \\\\blanc{\\\\hommeDSgErgG} \\\\\\\\', '\\\\chefDDuAbs & \\\\chefDDuAbsP & \\\\blanc{\\\\chefDDuAbsG} \\\\\\\\', '\\\\hommeDSgObl & \\\\hommeDSgOblP & \\\\blanc{\\\\hommeDSgOblG} \\\\\\\\', '\\\\loupADuDat & \\\\loupADuDatP & \\\\blanc{\\\\loupADuDatG} \\\\\\\\', '\\\\coupASgDat & \\\\coupASgDatP & \\\\blanc{\\\\coupASgDatG} \\\\\\\\', '\\\\VioletteBPlErg & \\\\VioletteBPlErgP & \\\\blanc{\\\\VioletteBPlErgG} \\\\\\\\', '\\\\crocsBSgAbs & \\\\crocsBSgAbsP & \\\\blanc{\\\\crocsBSgAbsG} \\\\\\\\', '\\\\visageDDuErg & \\\\visageDDuErgP & \\\\blanc{\\\\visageDDuErgG} \\\\\\\\', '\\\\souffranceCSgAbs & \\\\souffranceCSgAbsP & \\\\blanc{\\\\souffranceCSgAbsG} \\\\\\\\', '\\\\souffranceCDuErg & \\\\souffranceCDuErgP & \\\\blanc{\\\\souffranceCDuErgG} \\\\\\\\', '\\\\criCDuErg & \\\\criCDuErgP & \\\\blanc{\\\\criCDuErgG} \\\\\\\\', '\\\\villageCDuObl & \\\\villageCDuOblP & \\\\blanc{\\\\villageCDuOblG} \\\\\\\\', '\\\\combattantBDuObl & \\\\combattantBDuOblP & \\\\blanc{\\\\combattantBDuOblG} \\\\\\\\', '\\\\villageoiseDSgDat & \\\\villageoiseDSgDatP & \\\\blanc{\\\\villageoiseDSgDatG} \\\\\\\\', '\\\\maisonCSgObl & \\\\maisonCSgOblP & \\\\blanc{\\\\maisonCSgOblG} \\\\\\\\', '\\\\loupADuAbs & \\\\loupADuAbsP & \\\\blanc{\\\\loupADuAbsG} \\\\\\\\', '\\\\villageoisCPlErg & \\\\villageoisCPlErgP & \\\\blanc{\\\\villageoisCPlErgG} \\\\\\\\', '\\\\maisonCSgAbs & \\\\maisonCSgAbsP & \\\\blanc{\\\\maisonCSgAbsG} \\\\\\\\', '\\\\ombreADuErg & \\\\ombreADuErgP & \\\\blanc{\\\\ombreADuErgG} \\\\\\\\', '\\\\blessureASgObl & \\\\blessureASgOblP & \\\\blanc{\\\\blessureASgOblG} \\\\\\\\', '\\\\coupAPlErg & \\\\coupAPlErgP & \\\\blanc{\\\\coupAPlErgG} \\\\\\\\', '\\\\louveBPlAbs & \\\\louveBPlAbsP & \\\\blanc{\\\\louveBPlAbsG} \\\\\\\\', '\\\\villageoiseDPlObl & \\\\villageoiseDPlOblP & \\\\blanc{\\\\villageoiseDPlOblG} \\\\\\\\', '\\\\lanceCPlAbs & \\\\lanceCPlAbsP & \\\\blanc{\\\\lanceCPlAbsG} \\\\\\\\', '\\\\hommeDPlErg & \\\\hommeDPlErgP & \\\\blanc{\\\\hommeDPlErgG} \\\\\\\\', '\\\\lanceCSgErg & \\\\lanceCSgErgP & \\\\blanc{\\\\lanceCSgErgG} \\\\\\\\', '\\\\blessureADuObl & \\\\blessureADuOblP & \\\\blanc{\\\\blessureADuOblG} \\\\\\\\', '\\\\gorgeCDuAbs & \\\\gorgeCDuAbsP & \\\\blanc{\\\\gorgeCDuAbsG} \\\\\\\\', '\\\\colereBSgAbs & \\\\colereBSgAbsP & \\\\blanc{\\\\colereBSgAbsG} \\\\\\\\', '\\\\ombreASgErg & \\\\ombreASgErgP & \\\\blanc{\\\\ombreASgErgG} \\\\\\\\', '\\\\couteauDDuAbs & \\\\couteauDDuAbsP & \\\\blanc{\\\\couteauDDuAbsG} \\\\\\\\', '\\\\colereBPlAbs & \\\\colereBPlAbsP & \\\\blanc{\\\\colereBPlAbsG} \\\\\\\\', '\\\\soeurDDuDat & \\\\soeurDDuDatP & \\\\blanc{\\\\soeurDDuDatG} \\\\\\\\', '\\\\combattantBPlObl & \\\\combattantBPlOblP & \\\\blanc{\\\\combattantBPlOblG} \\\\\\\\', '\\\\mortBSgObl & \\\\mortBSgOblP & \\\\blanc{\\\\mortBSgOblG} \\\\\\\\', '\\\\sortADuDat & \\\\sortADuDatP & \\\\blanc{\\\\sortADuDatG} \\\\\\\\', '\\\\blessureADuErg & \\\\blessureADuErgP & \\\\blanc{\\\\blessureADuErgG} \\\\\\\\', '\\\\enfantADuObl & \\\\enfantADuOblP & \\\\blanc{\\\\enfantADuOblG} \\\\\\\\', '\\\\hommeDPlDat & \\\\hommeDPlDatP & \\\\blanc{\\\\hommeDPlDatG} \\\\\\\\', '\\\\lanceCDuAbs & \\\\lanceCDuAbsP & \\\\blanc{\\\\lanceCDuAbsG} \\\\\\\\', '\\\\colereBDuAbs & \\\\colereBDuAbsP & \\\\blanc{\\\\colereBDuAbsG} \\\\\\\\', '\\\\arbreBSgErg & \\\\arbreBSgErgP & \\\\blanc{\\\\arbreBSgErgG} \\\\\\\\', '\\\\sortADuObl & \\\\sortADuOblP & \\\\blanc{\\\\sortADuOblG} \\\\\\\\', '\\\\arbreBSgDat & \\\\arbreBSgDatP & \\\\blanc{\\\\arbreBSgDatG} \\\\\\\\', '\\\\lanceCSgAbs & \\\\lanceCSgAbsP & \\\\blanc{\\\\lanceCSgAbsG} \\\\\\\\', '\\\\filleASgAbs & \\\\filleASgAbsP & \\\\blanc{\\\\filleASgAbsG} \\\\\\\\', '\\\\KalebASgDat & \\\\KalebASgDatP & \\\\blanc{\\\\KalebASgDatG} \\\\\\\\', '\\\\crocsBDuObl & \\\\crocsBDuOblP & \\\\blanc{\\\\crocsBDuOblG} \\\\\\\\', '\\\\crocsBSgErg & \\\\crocsBSgErgP & \\\\blanc{\\\\crocsBSgErgG} \\\\\\\\', '\\\\lueurCSgAbs & \\\\lueurCSgAbsP & \\\\blanc{\\\\lueurCSgAbsG} \\\\\\\\', '\\\\arbreBSgAbs & \\\\arbreBSgAbsP & \\\\blanc{\\\\arbreBSgAbsG} \\\\\\\\', '\\\\couteauDPlErg & \\\\couteauDPlErgP & \\\\blanc{\\\\couteauDPlErgG} \\\\\\\\', '\\\\criCPlErg & \\\\criCPlErgP & \\\\blanc{\\\\criCPlErgG} \\\\\\\\', '\\\\soeurDSgErg & \\\\soeurDSgErgP & \\\\blanc{\\\\soeurDSgErgG} \\\\\\\\', '\\\\mainBSgDat & \\\\mainBSgDatP & \\\\blanc{\\\\mainBSgDatG} \\\\\\\\', '\\\\louveBDuAbs & \\\\louveBDuAbsP & \\\\blanc{\\\\louveBDuAbsG} \\\\\\\\', '\\\\ombreAPlErg & \\\\ombreAPlErgP & \\\\blanc{\\\\ombreAPlErgG} \\\\\\\\', '\\\\foretASgErg & \\\\foretASgErgP & \\\\blanc{\\\\foretASgErgG} \\\\\\\\', '\\\\blessureAPlErg & \\\\blessureAPlErgP & \\\\blanc{\\\\blessureAPlErgG} \\\\\\\\', '\\\\visageDDuObl & \\\\visageDDuOblP & \\\\blanc{\\\\visageDDuOblG} \\\\\\\\', '\\\\crocsBDuErg & \\\\crocsBDuErgP & \\\\blanc{\\\\crocsBDuErgG} \\\\\\\\', '\\\\soeurDDuAbs & \\\\soeurDDuAbsP & \\\\blanc{\\\\soeurDDuAbsG} \\\\\\\\', '\\\\VioletteBDuObl & \\\\VioletteBDuOblP & \\\\blanc{\\\\VioletteBDuOblG} \\\\\\\\', '\\\\maisonCDuAbs & \\\\maisonCDuAbsP & \\\\blanc{\\\\maisonCDuAbsG} \\\\\\\\', '\\\\sortAPlObl & \\\\sortAPlOblP & \\\\blanc{\\\\sortAPlOblG} \\\\\\\\', '\\\\blessureADuDat & \\\\blessureADuDatP & \\\\blanc{\\\\blessureADuDatG} \\\\\\\\', '\\\\arbreBSgObl & \\\\arbreBSgOblP & \\\\blanc{\\\\arbreBSgOblG} \\\\\\\\', '\\\\blessureADuAbs & \\\\blessureADuAbsP & \\\\blanc{\\\\blessureADuAbsG} \\\\\\\\', '\\\\louveBPlObl & \\\\louveBPlOblP & \\\\blanc{\\\\louveBPlOblG} \\\\\\\\', '\\\\demonDDuObl & \\\\demonDDuOblP & \\\\blanc{\\\\demonDDuOblG} \\\\\\\\', '\\\\louveBPlDat & \\\\louveBPlDatP & \\\\blanc{\\\\louveBPlDatG} \\\\\\\\', '\\\\nuitDDuObl & \\\\nuitDDuOblP & \\\\blanc{\\\\nuitDDuOblG} \\\\\\\\', '\\\\enfantADuAbs & \\\\enfantADuAbsP & \\\\blanc{\\\\enfantADuAbsG} \\\\\\\\', '\\\\VioletteBSgDat & \\\\VioletteBSgDatP & \\\\blanc{\\\\VioletteBSgDatG} \\\\\\\\', '\\\\maisonCDuObl & \\\\maisonCDuOblP & \\\\blanc{\\\\maisonCDuOblG} \\\\\\\\', '\\\\crocsBPlErg & \\\\crocsBPlErgP & \\\\blanc{\\\\crocsBPlErgG} \\\\\\\\', '\\\\crocsBSgObl & \\\\crocsBSgOblP & \\\\blanc{\\\\crocsBSgOblG} \\\\\\\\', '\\\\KalebASgObl & \\\\KalebASgOblP & \\\\blanc{\\\\KalebASgOblG} \\\\\\\\', '\\\\souffranceCSgDat & \\\\souffranceCSgDatP & \\\\blanc{\\\\souffranceCSgDatG} \\\\\\\\', '\\\\demonDPlAbs & \\\\demonDPlAbsP & \\\\blanc{\\\\demonDPlAbsG} \\\\\\\\', '\\\\luneASgDat & \\\\luneASgDatP & \\\\blanc{\\\\luneASgDatG} \\\\\\\\', '\\\\villageoiseDSgErg & \\\\villageoiseDSgErgP & \\\\blanc{\\\\villageoiseDSgErgG} \\\\\\\\', '\\\\sortASgObl & \\\\sortASgOblP & \\\\blanc{\\\\sortASgOblG} \\\\\\\\', '\\\\souffranceCDuAbs & \\\\souffranceCDuAbsP & \\\\blanc{\\\\souffranceCDuAbsG} \\\\\\\\', '\\\\filleADuAbs & \\\\filleADuAbsP & \\\\blanc{\\\\filleADuAbsG} \\\\\\\\', '\\\\luneAPlDat & \\\\luneAPlDatP & \\\\blanc{\\\\luneAPlDatG} \\\\\\\\', '\\\\serpentCPlObl & \\\\serpentCPlOblP & \\\\blanc{\\\\serpentCPlOblG} \\\\\\\\', '\\\\mortBDuObl & \\\\mortBDuOblP & \\\\blanc{\\\\mortBDuOblG} \\\\\\\\', '\\\\villageoisCPlAbs & \\\\villageoisCPlAbsP & \\\\blanc{\\\\villageoisCPlAbsG} \\\\\\\\', '\\\\filleADuObl & \\\\filleADuOblP & \\\\blanc{\\\\filleADuOblG} \\\\\\\\', '\\\\serpentCPlAbs & \\\\serpentCPlAbsP & \\\\blanc{\\\\serpentCPlAbsG} \\\\\\\\', '\\\\chefDSgErg & \\\\chefDSgErgP & \\\\blanc{\\\\chefDSgErgG} \\\\\\\\', '\\\\sortADuErg & \\\\sortADuErgP & \\\\blanc{\\\\sortADuErgG} \\\\\\\\', '\\\\enfantADuErg & \\\\enfantADuErgP & \\\\blanc{\\\\enfantADuErgG} \\\\\\\\', '\\\\foretADuAbs & \\\\foretADuAbsP & \\\\blanc{\\\\foretADuAbsG} \\\\\\\\', '\\\\villageCPlObl & \\\\villageCPlOblP & \\\\blanc{\\\\villageCPlOblG} \\\\\\\\', '\\\\demonDSgObl & \\\\demonDSgOblP & \\\\blanc{\\\\demonDSgOblG} \\\\\\\\', '\\\\ombreASgDat & \\\\ombreASgDatP & \\\\blanc{\\\\ombreASgDatG} \\\\\\\\', '\\\\criCDuAbs & \\\\criCDuAbsP & \\\\blanc{\\\\criCDuAbsG} \\\\\\\\', '\\\\VioletteBSgErg & \\\\VioletteBSgErgP & \\\\blanc{\\\\VioletteBSgErgG} \\\\\\\\', '\\\\enfantAPlDat & \\\\enfantAPlDatP & \\\\blanc{\\\\enfantAPlDatG} \\\\\\\\', '\\\\serpentCSgObl & \\\\serpentCSgOblP & \\\\blanc{\\\\serpentCSgOblG} \\\\\\\\', '\\\\villageCPlErg & \\\\villageCPlErgP & \\\\blanc{\\\\villageCPlErgG} \\\\\\\\', '\\\\louveBSgObl & \\\\louveBSgOblP & \\\\blanc{\\\\louveBSgOblG} \\\\\\\\', '\\\\foretAPlObl & \\\\foretAPlOblP & \\\\blanc{\\\\foretAPlOblG} \\\\\\\\', '\\\\combatBDuObl & \\\\combatBDuOblP & \\\\blanc{\\\\combatBDuOblG} \\\\\\\\', '\\\\lueurCDuDat & \\\\lueurCDuDatP & \\\\blanc{\\\\lueurCDuDatG} \\\\\\\\', '\\\\lanceCDuErg & \\\\lanceCDuErgP & \\\\blanc{\\\\lanceCDuErgG} \\\\\\\\', '\\\\villageoisCPlDat & \\\\villageoisCPlDatP & \\\\blanc{\\\\villageoisCPlDatG} \\\\\\\\', '\\\\souffranceCDuDat & \\\\souffranceCDuDatP & \\\\blanc{\\\\souffranceCDuDatG} \\\\\\\\', '\\\\filleAPlErg & \\\\filleAPlErgP & \\\\blanc{\\\\filleAPlErgG} \\\\\\\\', '\\\\villageCPlDat & \\\\villageCPlDatP & \\\\blanc{\\\\villageCPlDatG} \\\\\\\\', '\\\\crocsBPlObl & \\\\crocsBPlOblP & \\\\blanc{\\\\crocsBPlOblG} \\\\\\\\', '\\\\demonDPlObl & \\\\demonDPlOblP & \\\\blanc{\\\\demonDPlOblG} \\\\\\\\', '\\\\maisonCDuErg & \\\\maisonCDuErgP & \\\\blanc{\\\\maisonCDuErgG} \\\\\\\\', '\\\\soeurDDuObl & \\\\soeurDDuOblP & \\\\blanc{\\\\soeurDDuOblG} \\\\\\\\', '\\\\lueurCSgDat & \\\\lueurCSgDatP & \\\\blanc{\\\\lueurCSgDatG} \\\\\\\\', '\\\\villageoiseDPlDat & \\\\villageoiseDPlDatP & \\\\blanc{\\\\villageoiseDPlDatG} \\\\\\\\'])\n",
      "recuTableau set(['\\\\noirCSg & \\\\noirCSgP & \\\\blanc{\\\\noirCSgG} \\\\\\\\', '\\\\profondDDu & \\\\profondDDuP & \\\\blanc{\\\\profondDDuG} \\\\\\\\', '\\\\grandBSg & \\\\grandBSgP & \\\\blanc{\\\\grandBSgG} \\\\\\\\', '\\\\noirBSg & \\\\noirBSgP & \\\\blanc{\\\\noirBSgG} \\\\\\\\', '\\\\petitBDu & \\\\petitBDuP & \\\\blanc{\\\\petitBDuG} \\\\\\\\', '\\\\noirADu & \\\\noirADuP & \\\\blanc{\\\\noirADuG} \\\\\\\\', '\\\\rougeDDu & \\\\rougeDDuP & \\\\blanc{\\\\rougeDDuG} \\\\\\\\', '\\\\differentCSg & \\\\differentCSgP & \\\\blanc{\\\\differentCSgG} \\\\\\\\', '\\\\blesseCSg & \\\\blesseCSgP & \\\\blanc{\\\\blesseCSgG} \\\\\\\\', '\\\\terribleDDu & \\\\terribleDDuP & \\\\blanc{\\\\terribleDDuG} \\\\\\\\', '\\\\effrayeASg & \\\\effrayeASgP & \\\\blanc{\\\\effrayeASgG} \\\\\\\\', '\\\\effrayeAPl & \\\\effrayeAPlP & \\\\blanc{\\\\effrayeAPlG} \\\\\\\\', '\\\\courageuxDDu & \\\\courageuxDDuP & \\\\blanc{\\\\courageuxDDuG} \\\\\\\\', '\\\\suivantBDu & \\\\suivantBDuP & \\\\blanc{\\\\suivantBDuG} \\\\\\\\', '\\\\noirAPl & \\\\noirAPlP & \\\\blanc{\\\\noirAPlG} \\\\\\\\', '\\\\courageuxBSg & \\\\courageuxBSgP & \\\\blanc{\\\\courageuxBSgG} \\\\\\\\', '\\\\profondDPl & \\\\profondDPlP & \\\\blanc{\\\\profondDPlG} \\\\\\\\', '\\\\blesseCPl & \\\\blesseCPlP & \\\\blanc{\\\\blesseCPlG} \\\\\\\\', '\\\\courageuxASg & \\\\courageuxASgP & \\\\blanc{\\\\courageuxASgG} \\\\\\\\', '\\\\grandDSg & \\\\grandDSgP & \\\\blanc{\\\\grandDSgG} \\\\\\\\', '\\\\blancCSg & \\\\blancCSgP & \\\\blanc{\\\\blancCSgG} \\\\\\\\', '\\\\grandCPl & \\\\grandCPlP & \\\\blanc{\\\\grandCPlG} \\\\\\\\', '\\\\rougeDPl & \\\\rougeDPlP & \\\\blanc{\\\\rougeDPlG} \\\\\\\\', '\\\\furieuxADu & \\\\furieuxADuP & \\\\blanc{\\\\furieuxADuG} \\\\\\\\', '\\\\differentASg & \\\\differentASgP & \\\\blanc{\\\\differentASgG} \\\\\\\\', '\\\\rougeCDu & \\\\rougeCDuP & \\\\blanc{\\\\rougeCDuG} \\\\\\\\', '\\\\differentDDu & \\\\differentDDuP & \\\\blanc{\\\\differentDDuG} \\\\\\\\', '\\\\differentBDu & \\\\differentBDuP & \\\\blanc{\\\\differentBDuG} \\\\\\\\', '\\\\blesseBPl & \\\\blesseBPlP & \\\\blanc{\\\\blesseBPlG} \\\\\\\\', '\\\\terribleBDu & \\\\terribleBDuP & \\\\blanc{\\\\terribleBDuG} \\\\\\\\', '\\\\suivantAPl & \\\\suivantAPlP & \\\\blanc{\\\\suivantAPlG} \\\\\\\\', '\\\\blesseDDu & \\\\blesseDDuP & \\\\blanc{\\\\blesseDDuG} \\\\\\\\', '\\\\courageuxCPl & \\\\courageuxCPlP & \\\\blanc{\\\\courageuxCPlG} \\\\\\\\', '\\\\courageuxAPl & \\\\courageuxAPlP & \\\\blanc{\\\\courageuxAPlG} \\\\\\\\', '\\\\grandBDu & \\\\grandBDuP & \\\\blanc{\\\\grandBDuG} \\\\\\\\', '\\\\furieuxCDu & \\\\furieuxCDuP & \\\\blanc{\\\\furieuxCDuG} \\\\\\\\', '\\\\furieuxBDu & \\\\furieuxBDuP & \\\\blanc{\\\\furieuxBDuG} \\\\\\\\', '\\\\suivantCDu & \\\\suivantCDuP & \\\\blanc{\\\\suivantCDuG} \\\\\\\\', '\\\\blesseBSg & \\\\blesseBSgP & \\\\blanc{\\\\blesseBSgG} \\\\\\\\', '\\\\differentCPl & \\\\differentCPlP & \\\\blanc{\\\\differentCPlG} \\\\\\\\', '\\\\terribleAPl & \\\\terribleAPlP & \\\\blanc{\\\\terribleAPlG} \\\\\\\\', '\\\\grandADu & \\\\grandADuP & \\\\blanc{\\\\grandADuG} \\\\\\\\', '\\\\effrayeDDu & \\\\effrayeDDuP & \\\\blanc{\\\\effrayeDDuG} \\\\\\\\', '\\\\differentADu & \\\\differentADuP & \\\\blanc{\\\\differentADuG} \\\\\\\\', '\\\\furieuxDPl & \\\\furieuxDPlP & \\\\blanc{\\\\furieuxDPlG} \\\\\\\\', '\\\\effrayeCSg & \\\\effrayeCSgP & \\\\blanc{\\\\effrayeCSgG} \\\\\\\\', '\\\\profondASg & \\\\profondASgP & \\\\blanc{\\\\profondASgG} \\\\\\\\', '\\\\grandDPl & \\\\grandDPlP & \\\\blanc{\\\\grandDPlG} \\\\\\\\', '\\\\terribleCPl & \\\\terribleCPlP & \\\\blanc{\\\\terribleCPlG} \\\\\\\\', '\\\\blancBPl & \\\\blancBPlP & \\\\blanc{\\\\blancBPlG} \\\\\\\\', '\\\\blancCPl & \\\\blancCPlP & \\\\blanc{\\\\blancCPlG} \\\\\\\\', '\\\\blesseASg & \\\\blesseASgP & \\\\blanc{\\\\blesseASgG} \\\\\\\\', '\\\\grandASg & \\\\grandASgP & \\\\blanc{\\\\grandASgG} \\\\\\\\', '\\\\profondCPl & \\\\profondCPlP & \\\\blanc{\\\\profondCPlG} \\\\\\\\', '\\\\furieuxCSg & \\\\furieuxCSgP & \\\\blanc{\\\\furieuxCSgG} \\\\\\\\', '\\\\profondDSg & \\\\profondDSgP & \\\\blanc{\\\\profondDSgG} \\\\\\\\', '\\\\differentDSg & \\\\differentDSgP & \\\\blanc{\\\\differentDSgG} \\\\\\\\', '\\\\effrayeCDu & \\\\effrayeCDuP & \\\\blanc{\\\\effrayeCDuG} \\\\\\\\', '\\\\differentCDu & \\\\differentCDuP & \\\\blanc{\\\\differentCDuG} \\\\\\\\', '\\\\petitAPl & \\\\petitAPlP & \\\\blanc{\\\\petitAPlG} \\\\\\\\', '\\\\noirCDu & \\\\noirCDuP & \\\\blanc{\\\\noirCDuG} \\\\\\\\', '\\\\profondAPl & \\\\profondAPlP & \\\\blanc{\\\\profondAPlG} \\\\\\\\', '\\\\suivantBPl & \\\\suivantBPlP & \\\\blanc{\\\\suivantBPlG} \\\\\\\\', '\\\\blancAPl & \\\\blancAPlP & \\\\blanc{\\\\blancAPlG} \\\\\\\\', '\\\\effrayeADu & \\\\effrayeADuP & \\\\blanc{\\\\effrayeADuG} \\\\\\\\', '\\\\courageuxADu & \\\\courageuxADuP & \\\\blanc{\\\\courageuxADuG} \\\\\\\\', '\\\\differentBPl & \\\\differentBPlP & \\\\blanc{\\\\differentBPlG} \\\\\\\\', '\\\\noirDPl & \\\\noirDPlP & \\\\blanc{\\\\noirDPlG} \\\\\\\\', '\\\\profondBDu & \\\\profondBDuP & \\\\blanc{\\\\profondBDuG} \\\\\\\\', '\\\\suivantCPl & \\\\suivantCPlP & \\\\blanc{\\\\suivantCPlG} \\\\\\\\', '\\\\profondCSg & \\\\profondCSgP & \\\\blanc{\\\\profondCSgG} \\\\\\\\', '\\\\courageuxBDu & \\\\courageuxBDuP & \\\\blanc{\\\\courageuxBDuG} \\\\\\\\', '\\\\blancDSg & \\\\blancDSgP & \\\\blanc{\\\\blancDSgG} \\\\\\\\', '\\\\differentAPl & \\\\differentAPlP & \\\\blanc{\\\\differentAPlG} \\\\\\\\', '\\\\furieuxAPl & \\\\furieuxAPlP & \\\\blanc{\\\\furieuxAPlG} \\\\\\\\', '\\\\noirBDu & \\\\noirBDuP & \\\\blanc{\\\\noirBDuG} \\\\\\\\', '\\\\blesseAPl & \\\\blesseAPlP & \\\\blanc{\\\\blesseAPlG} \\\\\\\\', '\\\\terribleASg & \\\\terribleASgP & \\\\blanc{\\\\terribleASgG} \\\\\\\\', '\\\\rougeCSg & \\\\rougeCSgP & \\\\blanc{\\\\rougeCSgG} \\\\\\\\', '\\\\furieuxBSg & \\\\furieuxBSgP & \\\\blanc{\\\\furieuxBSgG} \\\\\\\\', '\\\\rougeAPl & \\\\rougeAPlP & \\\\blanc{\\\\rougeAPlG} \\\\\\\\', '\\\\rougeBPl & \\\\rougeBPlP & \\\\blanc{\\\\rougeBPlG} \\\\\\\\', '\\\\furieuxASg & \\\\furieuxASgP & \\\\blanc{\\\\furieuxASgG} \\\\\\\\', '\\\\grandDDu & \\\\grandDDuP & \\\\blanc{\\\\grandDDuG} \\\\\\\\', '\\\\rougeDSg & \\\\rougeDSgP & \\\\blanc{\\\\rougeDSgG} \\\\\\\\', '\\\\rougeBDu & \\\\rougeBDuP & \\\\blanc{\\\\rougeBDuG} \\\\\\\\', '\\\\petitCDu & \\\\petitCDuP & \\\\blanc{\\\\petitCDuG} \\\\\\\\', '\\\\noirDSg & \\\\noirDSgP & \\\\blanc{\\\\noirDSgG} \\\\\\\\', '\\\\profondBPl & \\\\profondBPlP & \\\\blanc{\\\\profondBPlG} \\\\\\\\', '\\\\suivantASg & \\\\suivantASgP & \\\\blanc{\\\\suivantASgG} \\\\\\\\', '\\\\suivantDPl & \\\\suivantDPlP & \\\\blanc{\\\\suivantDPlG} \\\\\\\\', '\\\\noirASg & \\\\noirASgP & \\\\blanc{\\\\noirASgG} \\\\\\\\', '\\\\courageuxBPl & \\\\courageuxBPlP & \\\\blanc{\\\\courageuxBPlG} \\\\\\\\', '\\\\profondCDu & \\\\profondCDuP & \\\\blanc{\\\\profondCDuG} \\\\\\\\', '\\\\blancADu & \\\\blancADuP & \\\\blanc{\\\\blancADuG} \\\\\\\\', '\\\\effrayeDPl & \\\\effrayeDPlP & \\\\blanc{\\\\effrayeDPlG} \\\\\\\\', '\\\\courageuxDPl & \\\\courageuxDPlP & \\\\blanc{\\\\courageuxDPlG} \\\\\\\\', '\\\\blancBSg & \\\\blancBSgP & \\\\blanc{\\\\blancBSgG} \\\\\\\\', '\\\\blancDDu & \\\\blancDDuP & \\\\blanc{\\\\blancDDuG} \\\\\\\\', '\\\\suivantADu & \\\\suivantADuP & \\\\blanc{\\\\suivantADuG} \\\\\\\\', '\\\\differentDPl & \\\\differentDPlP & \\\\blanc{\\\\differentDPlG} \\\\\\\\', '\\\\suivantDDu & \\\\suivantDDuP & \\\\blanc{\\\\suivantDDuG} \\\\\\\\', '\\\\blancCDu & \\\\blancCDuP & \\\\blanc{\\\\blancCDuG} \\\\\\\\', '\\\\petitDPl & \\\\petitDPlP & \\\\blanc{\\\\petitDPlG} \\\\\\\\', '\\\\rougeASg & \\\\rougeASgP & \\\\blanc{\\\\rougeASgG} \\\\\\\\', '\\\\effrayeBPl & \\\\effrayeBPlP & \\\\blanc{\\\\effrayeBPlG} \\\\\\\\', '\\\\petitBPl & \\\\petitBPlP & \\\\blanc{\\\\petitBPlG} \\\\\\\\', '\\\\terribleADu & \\\\terribleADuP & \\\\blanc{\\\\terribleADuG} \\\\\\\\', '\\\\suivantCSg & \\\\suivantCSgP & \\\\blanc{\\\\suivantCSgG} \\\\\\\\', '\\\\blesseCDu & \\\\blesseCDuP & \\\\blanc{\\\\blesseCDuG} \\\\\\\\', '\\\\profondADu & \\\\profondADuP & \\\\blanc{\\\\profondADuG} \\\\\\\\', '\\\\furieuxDSg & \\\\furieuxDSgP & \\\\blanc{\\\\furieuxDSgG} \\\\\\\\', '\\\\grandCSg & \\\\grandCSgP & \\\\blanc{\\\\grandCSgG} \\\\\\\\', '\\\\courageuxCSg & \\\\courageuxCSgP & \\\\blanc{\\\\courageuxCSgG} \\\\\\\\', '\\\\courageuxCDu & \\\\courageuxCDuP & \\\\blanc{\\\\courageuxCDuG} \\\\\\\\', '\\\\petitCPl & \\\\petitCPlP & \\\\blanc{\\\\petitCPlG} \\\\\\\\', '\\\\suivantDSg & \\\\suivantDSgP & \\\\blanc{\\\\suivantDSgG} \\\\\\\\', '\\\\grandAPl & \\\\grandAPlP & \\\\blanc{\\\\grandAPlG} \\\\\\\\', '\\\\petitCSg & \\\\petitCSgP & \\\\blanc{\\\\petitCSgG} \\\\\\\\', '\\\\noirBPl & \\\\noirBPlP & \\\\blanc{\\\\noirBPlG} \\\\\\\\', '\\\\petitBSg & \\\\petitBSgP & \\\\blanc{\\\\petitBSgG} \\\\\\\\', '\\\\blancASg & \\\\blancASgP & \\\\blanc{\\\\blancASgG} \\\\\\\\', '\\\\noirCPl & \\\\noirCPlP & \\\\blanc{\\\\noirCPlG} \\\\\\\\', '\\\\blancBDu & \\\\blancBDuP & \\\\blanc{\\\\blancBDuG} \\\\\\\\', '\\\\terribleCSg & \\\\terribleCSgP & \\\\blanc{\\\\terribleCSgG} \\\\\\\\', '\\\\blesseDPl & \\\\blesseDPlP & \\\\blanc{\\\\blesseDPlG} \\\\\\\\', '\\\\terribleBSg & \\\\terribleBSgP & \\\\blanc{\\\\terribleBSgG} \\\\\\\\', '\\\\furieuxCPl & \\\\furieuxCPlP & \\\\blanc{\\\\furieuxCPlG} \\\\\\\\', '\\\\blancDPl & \\\\blancDPlP & \\\\blanc{\\\\blancDPlG} \\\\\\\\', '\\\\furieuxBPl & \\\\furieuxBPlP & \\\\blanc{\\\\furieuxBPlG} \\\\\\\\', '\\\\terribleBPl & \\\\terribleBPlP & \\\\blanc{\\\\terribleBPlG} \\\\\\\\', '\\\\effrayeBDu & \\\\effrayeBDuP & \\\\blanc{\\\\effrayeBDuG} \\\\\\\\', '\\\\blesseBDu & \\\\blesseBDuP & \\\\blanc{\\\\blesseBDuG} \\\\\\\\', '\\\\suivantBSg & \\\\suivantBSgP & \\\\blanc{\\\\suivantBSgG} \\\\\\\\', '\\\\courageuxDSg & \\\\courageuxDSgP & \\\\blanc{\\\\courageuxDSgG} \\\\\\\\', '\\\\effrayeCPl & \\\\effrayeCPlP & \\\\blanc{\\\\effrayeCPlG} \\\\\\\\', '\\\\rougeADu & \\\\rougeADuP & \\\\blanc{\\\\rougeADuG} \\\\\\\\', '\\\\terribleDPl & \\\\terribleDPlP & \\\\blanc{\\\\terribleDPlG} \\\\\\\\', '\\\\effrayeDSg & \\\\effrayeDSgP & \\\\blanc{\\\\effrayeDSgG} \\\\\\\\', '\\\\terribleCDu & \\\\terribleCDuP & \\\\blanc{\\\\terribleCDuG} \\\\\\\\', '\\\\rougeCPl & \\\\rougeCPlP & \\\\blanc{\\\\rougeCPlG} \\\\\\\\', '\\\\effrayeBSg & \\\\effrayeBSgP & \\\\blanc{\\\\effrayeBSgG} \\\\\\\\', '\\\\profondBSg & \\\\profondBSgP & \\\\blanc{\\\\profondBSgG} \\\\\\\\', '\\\\petitDDu & \\\\petitDDuP & \\\\blanc{\\\\petitDDuG} \\\\\\\\', '\\\\differentBSg & \\\\differentBSgP & \\\\blanc{\\\\differentBSgG} \\\\\\\\', '\\\\grandCDu & \\\\grandCDuP & \\\\blanc{\\\\grandCDuG} \\\\\\\\', '\\\\furieuxDDu & \\\\furieuxDDuP & \\\\blanc{\\\\furieuxDDuG} \\\\\\\\', '\\\\petitASg & \\\\petitASgP & \\\\blanc{\\\\petitASgG} \\\\\\\\', '\\\\noirDDu & \\\\noirDDuP & \\\\blanc{\\\\noirDDuG} \\\\\\\\', '\\\\blesseDSg & \\\\blesseDSgP & \\\\blanc{\\\\blesseDSgG} \\\\\\\\', '\\\\petitDSg & \\\\petitDSgP & \\\\blanc{\\\\petitDSgG} \\\\\\\\', '\\\\blesseADu & \\\\blesseADuP & \\\\blanc{\\\\blesseADuG} \\\\\\\\', '\\\\terribleDSg & \\\\terribleDSgP & \\\\blanc{\\\\terribleDSgG} \\\\\\\\', '\\\\grandBPl & \\\\grandBPlP & \\\\blanc{\\\\grandBPlG} \\\\\\\\', '\\\\rougeBSg & \\\\rougeBSgP & \\\\blanc{\\\\rougeBSgG} \\\\\\\\', '\\\\petitADu & \\\\petitADuP & \\\\blanc{\\\\petitADuG} \\\\\\\\'])\n",
      "recuTableau set(['\\\\parlerViPrsTroisPlASg & \\\\parlerViPrsTroisPlASgP & \\\\blanc{\\\\parlerViPrsTroisPlASgG} \\\\\\\\', '\\\\pousserVtPstTroisDuDSg & \\\\pousserVtPstTroisDuDSgP & \\\\blanc{\\\\pousserVtPstTroisDuDSgG} \\\\\\\\', '\\\\etreVtPrsTroisSgCPl & \\\\etreVtPrsTroisSgCPlP & \\\\blanc{\\\\etreVtPrsTroisSgCPlG} \\\\\\\\', '\\\\planterVtPrsTroisDuCSg & \\\\planterVtPrsTroisDuCSgP & \\\\blanc{\\\\planterVtPrsTroisDuCSgG} \\\\\\\\', '\\\\devorerVtPstTroisDuDDu & \\\\devorerVtPstTroisDuDDuP & \\\\blanc{\\\\devorerVtPstTroisDuDDuG} \\\\\\\\', '\\\\envahirVtPrsTroisPlAPl & \\\\envahirVtPrsTroisPlAPlP & \\\\blanc{\\\\envahirVtPrsTroisPlAPlG} \\\\\\\\', '\\\\recouvrirVtPrsTroisSgCPl & \\\\recouvrirVtPrsTroisSgCPlP & \\\\blanc{\\\\recouvrirVtPrsTroisSgCPlG} \\\\\\\\', '\\\\planterVtPrsTroisPlAPl & \\\\planterVtPrsTroisPlAPlP & \\\\blanc{\\\\planterVtPrsTroisPlAPlG} \\\\\\\\', '\\\\parlerViPrsTroisPlCPl & \\\\parlerViPrsTroisPlCPlP & \\\\blanc{\\\\parlerViPrsTroisPlCPlG} \\\\\\\\', '\\\\allerViPstTroisDuBPl & \\\\allerViPstTroisDuBPlP & \\\\blanc{\\\\allerViPstTroisDuBPlG} \\\\\\\\', '\\\\transformerVtPrsTroisDuCDu & \\\\transformerVtPrsTroisDuCDuP & \\\\blanc{\\\\transformerVtPrsTroisDuCDuG} \\\\\\\\', '\\\\pousserVtPstTroisPlCDu & \\\\pousserVtPstTroisPlCDuP & \\\\blanc{\\\\pousserVtPstTroisPlCDuG} \\\\\\\\', '\\\\recouvrirVtPrsTroisDuBPl & \\\\recouvrirVtPrsTroisDuBPlP & \\\\blanc{\\\\recouvrirVtPrsTroisDuBPlG} \\\\\\\\', '\\\\chasserVtPrsTroisPlDSg & \\\\chasserVtPrsTroisPlDSgP & \\\\blanc{\\\\chasserVtPrsTroisPlDSgG} \\\\\\\\', '\\\\apporterVdPrsTroisPlDPl & \\\\apporterVdPrsTroisPlDPlP & \\\\blanc{\\\\apporterVdPrsTroisPlDPlG} \\\\\\\\', '\\\\approcherViPrsTroisSgBSg & \\\\approcherViPrsTroisSgBSgP & \\\\blanc{\\\\approcherViPrsTroisSgBSgG} \\\\\\\\', '\\\\fuirViPrsTroisDuBDu & \\\\fuirViPrsTroisDuBDuP & \\\\blanc{\\\\fuirViPrsTroisDuBDuG} \\\\\\\\', '\\\\transpercerVtPrsTroisSgASg & \\\\transpercerVtPrsTroisSgASgP & \\\\blanc{\\\\transpercerVtPrsTroisSgASgG} \\\\\\\\', '\\\\donnerVdPstTroisPlDSg & \\\\donnerVdPstTroisPlDSgP & \\\\blanc{\\\\donnerVdPstTroisPlDSgG} \\\\\\\\', '\\\\donnerVdPstTroisDuBDu & \\\\donnerVdPstTroisDuBDuP & \\\\blanc{\\\\donnerVdPstTroisDuBDuG} \\\\\\\\', '\\\\voirVtPstTroisSgADu & \\\\voirVtPstTroisSgADuP & \\\\blanc{\\\\voirVtPstTroisSgADuG} \\\\\\\\', '\\\\fuirViPstTroisSgDPl & \\\\fuirViPstTroisSgDPlP & \\\\blanc{\\\\fuirViPstTroisSgDPlG} \\\\\\\\', '\\\\etreVtPrsTroisSgADu & \\\\etreVtPrsTroisSgADuP & \\\\blanc{\\\\etreVtPrsTroisSgADuG} \\\\\\\\', '\\\\jeterVtPrsTroisPlBDu & \\\\jeterVtPrsTroisPlBDuP & \\\\blanc{\\\\jeterVtPrsTroisPlBDuG} \\\\\\\\', '\\\\devorerVtPstTroisDuADu & \\\\devorerVtPstTroisDuADuP & \\\\blanc{\\\\devorerVtPstTroisDuADuG} \\\\\\\\', '\\\\tomberViPrsTroisSgDDu & \\\\tomberViPrsTroisSgDDuP & \\\\blanc{\\\\tomberViPrsTroisSgDDuG} \\\\\\\\', '\\\\envahirVtPstTroisDuDPl & \\\\envahirVtPstTroisDuDPlP & \\\\blanc{\\\\envahirVtPstTroisDuDPlG} \\\\\\\\', '\\\\parlerViPstTroisSgAPl & \\\\parlerViPstTroisSgAPlP & \\\\blanc{\\\\parlerViPstTroisSgAPlG} \\\\\\\\', '\\\\envahirVtPstTroisPlCDu & \\\\envahirVtPstTroisPlCDuP & \\\\blanc{\\\\envahirVtPstTroisPlCDuG} \\\\\\\\', '\\\\planterVtPstTroisDuDPl & \\\\planterVtPstTroisDuDPlP & \\\\blanc{\\\\planterVtPstTroisDuDPlG} \\\\\\\\', '\\\\voirVtPstTroisSgCSg & \\\\voirVtPstTroisSgCSgP & \\\\blanc{\\\\voirVtPstTroisSgCSgG} \\\\\\\\', '\\\\apporterVdPrsTroisPlBPl & \\\\apporterVdPrsTroisPlBPlP & \\\\blanc{\\\\apporterVdPrsTroisPlBPlG} \\\\\\\\', '\\\\chasserVtPstTroisSgCSg & \\\\chasserVtPstTroisSgCSgP & \\\\blanc{\\\\chasserVtPstTroisSgCSgG} \\\\\\\\', '\\\\disparaitreViPstTroisSgBSg & \\\\disparaitreViPstTroisSgBSgP & \\\\blanc{\\\\disparaitreViPstTroisSgBSgG} \\\\\\\\', '\\\\etreVtPstTroisPlBDu & \\\\etreVtPstTroisPlBDuP & \\\\blanc{\\\\etreVtPstTroisPlBDuG} \\\\\\\\', '\\\\chercherVtPrsTroisDuBSg & \\\\chercherVtPrsTroisDuBSgP & \\\\blanc{\\\\chercherVtPrsTroisDuBSgG} \\\\\\\\', '\\\\disparaitreViPrsTroisPlDPl & \\\\disparaitreViPrsTroisPlDPlP & \\\\blanc{\\\\disparaitreViPrsTroisPlDPlG} \\\\\\\\', '\\\\courirViPstTroisPlADu & \\\\courirViPstTroisPlADuP & \\\\blanc{\\\\courirViPstTroisPlADuG} \\\\\\\\', '\\\\transformerVtPstTroisSgAPl & \\\\transformerVtPstTroisSgAPlP & \\\\blanc{\\\\transformerVtPstTroisSgAPlG} \\\\\\\\', '\\\\disparaitreViPstTroisDuDPl & \\\\disparaitreViPstTroisDuDPlP & \\\\blanc{\\\\disparaitreViPstTroisDuDPlG} \\\\\\\\', '\\\\allerViPrsTroisSgBSg & \\\\allerViPrsTroisSgBSgP & \\\\blanc{\\\\allerViPrsTroisSgBSgG} \\\\\\\\', '\\\\chercherVtPstTroisSgBDu & \\\\chercherVtPstTroisSgBDuP & \\\\blanc{\\\\chercherVtPstTroisSgBDuG} \\\\\\\\', '\\\\voirVtPrsTroisDuDDu & \\\\voirVtPrsTroisDuDDuP & \\\\blanc{\\\\voirVtPrsTroisDuDDuG} \\\\\\\\', '\\\\apporterVdPstTroisSgBSg & \\\\apporterVdPstTroisSgBSgP & \\\\blanc{\\\\apporterVdPstTroisSgBSgG} \\\\\\\\', '\\\\sauterViPrsTroisSgCDu & \\\\sauterViPrsTroisSgCDuP & \\\\blanc{\\\\sauterViPrsTroisSgCDuG} \\\\\\\\', '\\\\planterVtPrsTroisSgASg & \\\\planterVtPrsTroisSgASgP & \\\\blanc{\\\\planterVtPrsTroisSgASgG} \\\\\\\\', '\\\\envahirVtPstTroisPlAPl & \\\\envahirVtPstTroisPlAPlP & \\\\blanc{\\\\envahirVtPstTroisPlAPlG} \\\\\\\\', '\\\\transformerVtPstTroisDuASg & \\\\transformerVtPstTroisDuASgP & \\\\blanc{\\\\transformerVtPstTroisDuASgG} \\\\\\\\', '\\\\rejoindreVtPstTroisSgBSg & \\\\rejoindreVtPstTroisSgBSgP & \\\\blanc{\\\\rejoindreVtPstTroisSgBSgG} \\\\\\\\', '\\\\protegerVtPstTroisDuDDu & \\\\protegerVtPstTroisDuDDuP & \\\\blanc{\\\\protegerVtPstTroisDuDDuG} \\\\\\\\', '\\\\fuirViPstTroisPlDPl & \\\\fuirViPstTroisPlDPlP & \\\\blanc{\\\\fuirViPstTroisPlDPlG} \\\\\\\\', '\\\\chasserVtPstTroisSgADu & \\\\chasserVtPstTroisSgADuP & \\\\blanc{\\\\chasserVtPstTroisSgADuG} \\\\\\\\', '\\\\prendreVtPrsTroisPlASg & \\\\prendreVtPrsTroisPlASgP & \\\\blanc{\\\\prendreVtPrsTroisPlASgG} \\\\\\\\', '\\\\voirVtPrsTroisSgCDu & \\\\voirVtPrsTroisSgCDuP & \\\\blanc{\\\\voirVtPrsTroisSgCDuG} \\\\\\\\', '\\\\sauterViPrsTroisSgASg & \\\\sauterViPrsTroisSgASgP & \\\\blanc{\\\\sauterViPrsTroisSgASgG} \\\\\\\\', '\\\\parlerViPrsTroisSgCDu & \\\\parlerViPrsTroisSgCDuP & \\\\blanc{\\\\parlerViPrsTroisSgCDuG} \\\\\\\\', '\\\\chercherVtPstTroisDuBPl & \\\\chercherVtPstTroisDuBPlP & \\\\blanc{\\\\chercherVtPstTroisDuBPlG} \\\\\\\\', '\\\\fuirViPrsTroisDuCPl & \\\\fuirViPrsTroisDuCPlP & \\\\blanc{\\\\fuirViPrsTroisDuCPlG} \\\\\\\\', '\\\\jeterVtPrsTroisSgBSg & \\\\jeterVtPrsTroisSgBSgP & \\\\blanc{\\\\jeterVtPrsTroisSgBSgG} \\\\\\\\', '\\\\disparaitreViPstTroisDuADu & \\\\disparaitreViPstTroisDuADuP & \\\\blanc{\\\\disparaitreViPstTroisDuADuG} \\\\\\\\', '\\\\etreVtPstTroisDuCSg & \\\\etreVtPstTroisDuCSgP & \\\\blanc{\\\\etreVtPstTroisDuCSgG} \\\\\\\\', '\\\\allerViPstTroisPlBDu & \\\\allerViPstTroisPlBDuP & \\\\blanc{\\\\allerViPstTroisPlBDuG} \\\\\\\\', '\\\\planterVtPrsTroisDuDDu & \\\\planterVtPrsTroisDuDDuP & \\\\blanc{\\\\planterVtPrsTroisDuDDuG} \\\\\\\\', '\\\\parlerViPstTroisPlBDu & \\\\parlerViPstTroisPlBDuP & \\\\blanc{\\\\parlerViPstTroisPlBDuG} \\\\\\\\', '\\\\parlerViPrsTroisSgADu & \\\\parlerViPrsTroisSgADuP & \\\\blanc{\\\\parlerViPrsTroisSgADuG} \\\\\\\\', '\\\\approcherViPstTroisPlBSg & \\\\approcherViPstTroisPlBSgP & \\\\blanc{\\\\approcherViPstTroisPlBSgG} \\\\\\\\', '\\\\pousserVtPstTroisPlASg & \\\\pousserVtPstTroisPlASgP & \\\\blanc{\\\\pousserVtPstTroisPlASgG} \\\\\\\\', '\\\\devorerVtPstTroisPlBPl & \\\\devorerVtPstTroisPlBPlP & \\\\blanc{\\\\devorerVtPstTroisPlBPlG} \\\\\\\\', '\\\\planterVtPstTroisSgASg & \\\\planterVtPstTroisSgASgP & \\\\blanc{\\\\planterVtPstTroisSgASgG} \\\\\\\\', '\\\\chasserVtPrsTroisSgDDu & \\\\chasserVtPrsTroisSgDDuP & \\\\blanc{\\\\chasserVtPrsTroisSgDDuG} \\\\\\\\', '\\\\transpercerVtPstTroisPlDPl & \\\\transpercerVtPstTroisPlDPlP & \\\\blanc{\\\\transpercerVtPstTroisPlDPlG} \\\\\\\\', '\\\\devorerVtPstTroisPlCPl & \\\\devorerVtPstTroisPlCPlP & \\\\blanc{\\\\devorerVtPstTroisPlCPlG} \\\\\\\\', '\\\\prendreVtPrsTroisPlAPl & \\\\prendreVtPrsTroisPlAPlP & \\\\blanc{\\\\prendreVtPrsTroisPlAPlG} \\\\\\\\', '\\\\allerViPrsTroisSgDSg & \\\\allerViPrsTroisSgDSgP & \\\\blanc{\\\\allerViPrsTroisSgDSgG} \\\\\\\\', '\\\\devorerVtPstTroisDuBSg & \\\\devorerVtPstTroisDuBSgP & \\\\blanc{\\\\devorerVtPstTroisDuBSgG} \\\\\\\\', '\\\\protegerVtPrsTroisDuAPl & \\\\protegerVtPrsTroisDuAPlP & \\\\blanc{\\\\protegerVtPrsTroisDuAPlG} \\\\\\\\', '\\\\devorerVtPrsTroisSgASg & \\\\devorerVtPrsTroisSgASgP & \\\\blanc{\\\\devorerVtPrsTroisSgASgG} \\\\\\\\', '\\\\transformerVtPstTroisPlCSg & \\\\transformerVtPstTroisPlCSgP & \\\\blanc{\\\\transformerVtPstTroisPlCSgG} \\\\\\\\', '\\\\envahirVtPstTroisPlADu & \\\\envahirVtPstTroisPlADuP & \\\\blanc{\\\\envahirVtPstTroisPlADuG} \\\\\\\\', '\\\\devorerVtPstTroisSgDDu & \\\\devorerVtPstTroisSgDDuP & \\\\blanc{\\\\devorerVtPstTroisSgDDuG} \\\\\\\\', '\\\\donnerVdPrsTroisDuCSg & \\\\donnerVdPrsTroisDuCSgP & \\\\blanc{\\\\donnerVdPrsTroisDuCSgG} \\\\\\\\', '\\\\tomberViPrsTroisSgCDu & \\\\tomberViPrsTroisSgCDuP & \\\\blanc{\\\\tomberViPrsTroisSgCDuG} \\\\\\\\', '\\\\approcherViPstTroisPlDDu & \\\\approcherViPstTroisPlDDuP & \\\\blanc{\\\\approcherViPstTroisPlDDuG} \\\\\\\\', '\\\\protegerVtPstTroisSgCDu & \\\\protegerVtPstTroisSgCDuP & \\\\blanc{\\\\protegerVtPstTroisSgCDuG} \\\\\\\\', '\\\\pousserVtPstTroisDuADu & \\\\pousserVtPstTroisDuADuP & \\\\blanc{\\\\pousserVtPstTroisDuADuG} \\\\\\\\', '\\\\prendreVtPrsTroisSgBDu & \\\\prendreVtPrsTroisSgBDuP & \\\\blanc{\\\\prendreVtPrsTroisSgBDuG} \\\\\\\\', '\\\\rejoindreVtPstTroisDuASg & \\\\rejoindreVtPstTroisDuASgP & \\\\blanc{\\\\rejoindreVtPstTroisDuASgG} \\\\\\\\', '\\\\tomberViPstTroisDuDPl & \\\\tomberViPstTroisDuDPlP & \\\\blanc{\\\\tomberViPstTroisDuDPlG} \\\\\\\\', '\\\\protegerVtPstTroisSgDPl & \\\\protegerVtPstTroisSgDPlP & \\\\blanc{\\\\protegerVtPstTroisSgDPlG} \\\\\\\\', '\\\\donnerVdPrsTroisSgASg & \\\\donnerVdPrsTroisSgASgP & \\\\blanc{\\\\donnerVdPrsTroisSgASgG} \\\\\\\\', '\\\\prendreVtPstTroisPlDPl & \\\\prendreVtPstTroisPlDPlP & \\\\blanc{\\\\prendreVtPstTroisPlDPlG} \\\\\\\\', '\\\\pousserVtPstTroisDuAPl & \\\\pousserVtPstTroisDuAPlP & \\\\blanc{\\\\pousserVtPstTroisDuAPlG} \\\\\\\\', '\\\\tomberViPrsTroisDuDDu & \\\\tomberViPrsTroisDuDDuP & \\\\blanc{\\\\tomberViPrsTroisDuDDuG} \\\\\\\\', '\\\\transformerVtPstTroisPlASg & \\\\transformerVtPstTroisPlASgP & \\\\blanc{\\\\transformerVtPstTroisPlASgG} \\\\\\\\', '\\\\disparaitreViPrsTroisDuASg & \\\\disparaitreViPrsTroisDuASgP & \\\\blanc{\\\\disparaitreViPrsTroisDuASgG} \\\\\\\\', '\\\\chercherVtPstTroisDuAPl & \\\\chercherVtPstTroisDuAPlP & \\\\blanc{\\\\chercherVtPstTroisDuAPlG} \\\\\\\\', '\\\\devorerVtPstTroisSgADu & \\\\devorerVtPstTroisSgADuP & \\\\blanc{\\\\devorerVtPstTroisSgADuG} \\\\\\\\', '\\\\transpercerVtPstTroisDuAPl & \\\\transpercerVtPstTroisDuAPlP & \\\\blanc{\\\\transpercerVtPstTroisDuAPlG} \\\\\\\\', '\\\\fuirViPrsTroisSgAPl & \\\\fuirViPrsTroisSgAPlP & \\\\blanc{\\\\fuirViPrsTroisSgAPlG} \\\\\\\\', '\\\\sortirViPstTroisDuCDu & \\\\sortirViPstTroisDuCDuP & \\\\blanc{\\\\sortirViPstTroisDuCDuG} \\\\\\\\', '\\\\fuirViPrsTroisSgDPl & \\\\fuirViPrsTroisSgDPlP & \\\\blanc{\\\\fuirViPrsTroisSgDPlG} \\\\\\\\', '\\\\pousserVtPrsTroisSgBSg & \\\\pousserVtPrsTroisSgBSgP & \\\\blanc{\\\\pousserVtPrsTroisSgBSgG} \\\\\\\\', '\\\\disparaitreViPrsTroisSgDDu & \\\\disparaitreViPrsTroisSgDDuP & \\\\blanc{\\\\disparaitreViPrsTroisSgDDuG} \\\\\\\\', '\\\\jeterVtPrsTroisSgBDu & \\\\jeterVtPrsTroisSgBDuP & \\\\blanc{\\\\jeterVtPrsTroisSgBDuG} \\\\\\\\', '\\\\prendreVtPrsTroisSgAPl & \\\\prendreVtPrsTroisSgAPlP & \\\\blanc{\\\\prendreVtPrsTroisSgAPlG} \\\\\\\\', '\\\\approcherViPstTroisSgCDu & \\\\approcherViPstTroisSgCDuP & \\\\blanc{\\\\approcherViPstTroisSgCDuG} \\\\\\\\', '\\\\jeterVtPrsTroisPlDDu & \\\\jeterVtPrsTroisPlDDuP & \\\\blanc{\\\\jeterVtPrsTroisPlDDuG} \\\\\\\\', '\\\\envahirVtPstTroisPlBPl & \\\\envahirVtPstTroisPlBPlP & \\\\blanc{\\\\envahirVtPstTroisPlBPlG} \\\\\\\\', '\\\\approcherViPstTroisDuCPl & \\\\approcherViPstTroisDuCPlP & \\\\blanc{\\\\approcherViPstTroisDuCPlG} \\\\\\\\', '\\\\fuirViPrsTroisPlBPl & \\\\fuirViPrsTroisPlBPlP & \\\\blanc{\\\\fuirViPrsTroisPlBPlG} \\\\\\\\', '\\\\pousserVtPrsTroisPlBPl & \\\\pousserVtPrsTroisPlBPlP & \\\\blanc{\\\\pousserVtPrsTroisPlBPlG} \\\\\\\\', '\\\\apporterVdPstTroisPlBPl & \\\\apporterVdPstTroisPlBPlP & \\\\blanc{\\\\apporterVdPstTroisPlBPlG} \\\\\\\\', '\\\\apporterVdPrsTroisSgCPl & \\\\apporterVdPrsTroisSgCPlP & \\\\blanc{\\\\apporterVdPrsTroisSgCPlG} \\\\\\\\', '\\\\etreVtPstTroisDuBPl & \\\\etreVtPstTroisDuBPlP & \\\\blanc{\\\\etreVtPstTroisDuBPlG} \\\\\\\\', '\\\\etreVtPrsTroisDuBSg & \\\\etreVtPrsTroisDuBSgP & \\\\blanc{\\\\etreVtPrsTroisDuBSgG} \\\\\\\\', '\\\\jeterVtPstTroisSgDSg & \\\\jeterVtPstTroisSgDSgP & \\\\blanc{\\\\jeterVtPstTroisSgDSgG} \\\\\\\\', '\\\\prendreVtPstTroisSgBPl & \\\\prendreVtPstTroisSgBPlP & \\\\blanc{\\\\prendreVtPstTroisSgBPlG} \\\\\\\\', '\\\\donnerVdPstTroisPlAPl & \\\\donnerVdPstTroisPlAPlP & \\\\blanc{\\\\donnerVdPstTroisPlAPlG} \\\\\\\\', '\\\\sortirViPstTroisPlDPl & \\\\sortirViPstTroisPlDPlP & \\\\blanc{\\\\sortirViPstTroisPlDPlG} \\\\\\\\', '\\\\voirVtPrsTroisDuBDu & \\\\voirVtPrsTroisDuBDuP & \\\\blanc{\\\\voirVtPrsTroisDuBDuG} \\\\\\\\', '\\\\approcherViPrsTroisDuCPl & \\\\approcherViPrsTroisDuCPlP & \\\\blanc{\\\\approcherViPrsTroisDuCPlG} \\\\\\\\', '\\\\tomberViPstTroisDuBSg & \\\\tomberViPstTroisDuBSgP & \\\\blanc{\\\\tomberViPstTroisDuBSgG} \\\\\\\\', '\\\\apporterVdPstTroisDuDSg & \\\\apporterVdPstTroisDuDSgP & \\\\blanc{\\\\apporterVdPstTroisDuDSgG} \\\\\\\\', '\\\\devorerVtPstTroisDuCSg & \\\\devorerVtPstTroisDuCSgP & \\\\blanc{\\\\devorerVtPstTroisDuCSgG} \\\\\\\\', '\\\\planterVtPstTroisDuCPl & \\\\planterVtPstTroisDuCPlP & \\\\blanc{\\\\planterVtPstTroisDuCPlG} \\\\\\\\', '\\\\fuirViPrsTroisPlBDu & \\\\fuirViPrsTroisPlBDuP & \\\\blanc{\\\\fuirViPrsTroisPlBDuG} \\\\\\\\', '\\\\devorerVtPstTroisDuASg & \\\\devorerVtPstTroisDuASgP & \\\\blanc{\\\\devorerVtPstTroisDuASgG} \\\\\\\\', '\\\\devorerVtPstTroisSgBDu & \\\\devorerVtPstTroisSgBDuP & \\\\blanc{\\\\devorerVtPstTroisSgBDuG} \\\\\\\\', '\\\\parlerViPstTroisSgCPl & \\\\parlerViPstTroisSgCPlP & \\\\blanc{\\\\parlerViPstTroisSgCPlG} \\\\\\\\', '\\\\chasserVtPrsTroisDuCDu & \\\\chasserVtPrsTroisDuCDuP & \\\\blanc{\\\\chasserVtPrsTroisDuCDuG} \\\\\\\\', '\\\\donnerVdPrsTroisPlBPl & \\\\donnerVdPrsTroisPlBPlP & \\\\blanc{\\\\donnerVdPrsTroisPlBPlG} \\\\\\\\', '\\\\jeterVtPstTroisDuBDu & \\\\jeterVtPstTroisDuBDuP & \\\\blanc{\\\\jeterVtPstTroisDuBDuG} \\\\\\\\', '\\\\passerViPstTroisPlCPl & \\\\passerViPstTroisPlCPlP & \\\\blanc{\\\\passerViPstTroisPlCPlG} \\\\\\\\', '\\\\sauterViPstTroisPlAPl & \\\\sauterViPstTroisPlAPlP & \\\\blanc{\\\\sauterViPstTroisPlAPlG} \\\\\\\\', '\\\\chercherVtPstTroisDuBDu & \\\\chercherVtPstTroisDuBDuP & \\\\blanc{\\\\chercherVtPstTroisDuBDuG} \\\\\\\\', '\\\\rejoindreVtPrsTroisDuCDu & \\\\rejoindreVtPrsTroisDuCDuP & \\\\blanc{\\\\rejoindreVtPrsTroisDuCDuG} \\\\\\\\', '\\\\chercherVtPrsTroisDuDPl & \\\\chercherVtPrsTroisDuDPlP & \\\\blanc{\\\\chercherVtPrsTroisDuDPlG} \\\\\\\\', '\\\\chasserVtPrsTroisDuCPl & \\\\chasserVtPrsTroisDuCPlP & \\\\blanc{\\\\chasserVtPrsTroisDuCPlG} \\\\\\\\', '\\\\fuirViPrsTroisSgDSg & \\\\fuirViPrsTroisSgDSgP & \\\\blanc{\\\\fuirViPrsTroisSgDSgG} \\\\\\\\', '\\\\disparaitreViPrsTroisSgADu & \\\\disparaitreViPrsTroisSgADuP & \\\\blanc{\\\\disparaitreViPrsTroisSgADuG} \\\\\\\\', '\\\\tomberViPrsTroisPlBSg & \\\\tomberViPrsTroisPlBSgP & \\\\blanc{\\\\tomberViPrsTroisPlBSgG} \\\\\\\\', '\\\\envahirVtPstTroisDuCDu & \\\\envahirVtPstTroisDuCDuP & \\\\blanc{\\\\envahirVtPstTroisDuCDuG} \\\\\\\\', '\\\\apporterVdPstTroisPlCSg & \\\\apporterVdPstTroisPlCSgP & \\\\blanc{\\\\apporterVdPstTroisPlCSgG} \\\\\\\\', '\\\\donnerVdPrsTroisSgBSg & \\\\donnerVdPrsTroisSgBSgP & \\\\blanc{\\\\donnerVdPrsTroisSgBSgG} \\\\\\\\', '\\\\etreVtPstTroisDuDPl & \\\\etreVtPstTroisDuDPlP & \\\\blanc{\\\\etreVtPstTroisDuDPlG} \\\\\\\\', '\\\\devorerVtPstTroisPlDDu & \\\\devorerVtPstTroisPlDDuP & \\\\blanc{\\\\devorerVtPstTroisPlDDuG} \\\\\\\\', '\\\\passerViPrsTroisDuBDu & \\\\passerViPrsTroisDuBDuP & \\\\blanc{\\\\passerViPrsTroisDuBDuG} \\\\\\\\', '\\\\planterVtPstTroisPlAPl & \\\\planterVtPstTroisPlAPlP & \\\\blanc{\\\\planterVtPstTroisPlAPlG} \\\\\\\\', '\\\\etreVtPrsTroisSgCDu & \\\\etreVtPrsTroisSgCDuP & \\\\blanc{\\\\etreVtPrsTroisSgCDuG} \\\\\\\\', '\\\\passerViPstTroisSgASg & \\\\passerViPstTroisSgASgP & \\\\blanc{\\\\passerViPstTroisSgASgG} \\\\\\\\', '\\\\prendreVtPstTroisDuCSg & \\\\prendreVtPstTroisDuCSgP & \\\\blanc{\\\\prendreVtPstTroisDuCSgG} \\\\\\\\', '\\\\sauterViPrsTroisPlCDu & \\\\sauterViPrsTroisPlCDuP & \\\\blanc{\\\\sauterViPrsTroisPlCDuG} \\\\\\\\', '\\\\courirViPstTroisDuBDu & \\\\courirViPstTroisDuBDuP & \\\\blanc{\\\\courirViPstTroisDuBDuG} \\\\\\\\', '\\\\sauterViPstTroisDuAPl & \\\\sauterViPstTroisDuAPlP & \\\\blanc{\\\\sauterViPstTroisDuAPlG} \\\\\\\\', '\\\\recouvrirVtPstTroisSgDDu & \\\\recouvrirVtPstTroisSgDDuP & \\\\blanc{\\\\recouvrirVtPstTroisSgDDuG} \\\\\\\\', '\\\\planterVtPrsTroisDuASg & \\\\planterVtPrsTroisDuASgP & \\\\blanc{\\\\planterVtPrsTroisDuASgG} \\\\\\\\', '\\\\prendreVtPrsTroisPlDDu & \\\\prendreVtPrsTroisPlDDuP & \\\\blanc{\\\\prendreVtPrsTroisPlDDuG} \\\\\\\\', '\\\\chasserVtPrsTroisPlADu & \\\\chasserVtPrsTroisPlADuP & \\\\blanc{\\\\chasserVtPrsTroisPlADuG} \\\\\\\\', '\\\\apporterVdPstTroisDuBSg & \\\\apporterVdPstTroisDuBSgP & \\\\blanc{\\\\apporterVdPstTroisDuBSgG} \\\\\\\\', '\\\\passerViPrsTroisSgBPl & \\\\passerViPrsTroisSgBPlP & \\\\blanc{\\\\passerViPrsTroisSgBPlG} \\\\\\\\', '\\\\sauterViPrsTroisDuADu & \\\\sauterViPrsTroisDuADuP & \\\\blanc{\\\\sauterViPrsTroisDuADuG} \\\\\\\\', '\\\\sauterViPstTroisSgCPl & \\\\sauterViPstTroisSgCPlP & \\\\blanc{\\\\sauterViPstTroisSgCPlG} \\\\\\\\', '\\\\transpercerVtPrsTroisDuDDu & \\\\transpercerVtPrsTroisDuDDuP & \\\\blanc{\\\\transpercerVtPrsTroisDuDDuG} \\\\\\\\', '\\\\parlerViPrsTroisDuDDu & \\\\parlerViPrsTroisDuDDuP & \\\\blanc{\\\\parlerViPrsTroisDuDDuG} \\\\\\\\', '\\\\chercherVtPstTroisPlBSg & \\\\chercherVtPstTroisPlBSgP & \\\\blanc{\\\\chercherVtPstTroisPlBSgG} \\\\\\\\', '\\\\courirViPrsTroisSgCDu & \\\\courirViPrsTroisSgCDuP & \\\\blanc{\\\\courirViPrsTroisSgCDuG} \\\\\\\\', '\\\\transpercerVtPstTroisSgADu & \\\\transpercerVtPstTroisSgADuP & \\\\blanc{\\\\transpercerVtPstTroisSgADuG} \\\\\\\\', '\\\\parlerViPstTroisPlDSg & \\\\parlerViPstTroisPlDSgP & \\\\blanc{\\\\parlerViPstTroisPlDSgG} \\\\\\\\', '\\\\courirViPstTroisPlCDu & \\\\courirViPstTroisPlCDuP & \\\\blanc{\\\\courirViPstTroisPlCDuG} \\\\\\\\', '\\\\donnerVdPrsTroisSgBDu & \\\\donnerVdPrsTroisSgBDuP & \\\\blanc{\\\\donnerVdPrsTroisSgBDuG} \\\\\\\\', '\\\\tomberViPrsTroisDuBPl & \\\\tomberViPrsTroisDuBPlP & \\\\blanc{\\\\tomberViPrsTroisDuBPlG} \\\\\\\\', '\\\\envahirVtPrsTroisPlCPl & \\\\envahirVtPrsTroisPlCPlP & \\\\blanc{\\\\envahirVtPrsTroisPlCPlG} \\\\\\\\', '\\\\allerViPstTroisSgASg & \\\\allerViPstTroisSgASgP & \\\\blanc{\\\\allerViPstTroisSgASgG} \\\\\\\\', '\\\\envahirVtPstTroisDuADu & \\\\envahirVtPstTroisDuADuP & \\\\blanc{\\\\envahirVtPstTroisDuADuG} \\\\\\\\', '\\\\recouvrirVtPstTroisPlDSg & \\\\recouvrirVtPstTroisPlDSgP & \\\\blanc{\\\\recouvrirVtPstTroisPlDSgG} \\\\\\\\', '\\\\courirViPrsTroisPlBDu & \\\\courirViPrsTroisPlBDuP & \\\\blanc{\\\\courirViPrsTroisPlBDuG} \\\\\\\\', '\\\\rejoindreVtPstTroisSgCSg & \\\\rejoindreVtPstTroisSgCSgP & \\\\blanc{\\\\rejoindreVtPstTroisSgCSgG} \\\\\\\\', '\\\\passerViPrsTroisSgDPl & \\\\passerViPrsTroisSgDPlP & \\\\blanc{\\\\passerViPrsTroisSgDPlG} \\\\\\\\', '\\\\apporterVdPrsTroisSgAPl & \\\\apporterVdPrsTroisSgAPlP & \\\\blanc{\\\\apporterVdPrsTroisSgAPlG} \\\\\\\\', '\\\\protegerVtPrsTroisPlCPl & \\\\protegerVtPrsTroisPlCPlP & \\\\blanc{\\\\protegerVtPrsTroisPlCPlG} \\\\\\\\', '\\\\pousserVtPrsTroisDuCPl & \\\\pousserVtPrsTroisDuCPlP & \\\\blanc{\\\\pousserVtPrsTroisDuCPlG} \\\\\\\\', '\\\\planterVtPrsTroisSgDPl & \\\\planterVtPrsTroisSgDPlP & \\\\blanc{\\\\planterVtPrsTroisSgDPlG} \\\\\\\\', '\\\\sortirViPrsTroisDuCDu & \\\\sortirViPrsTroisDuCDuP & \\\\blanc{\\\\sortirViPrsTroisDuCDuG} \\\\\\\\', '\\\\rejoindreVtPrsTroisSgASg & \\\\rejoindreVtPrsTroisSgASgP & \\\\blanc{\\\\rejoindreVtPrsTroisSgASgG} \\\\\\\\', '\\\\chercherVtPstTroisDuASg & \\\\chercherVtPstTroisDuASgP & \\\\blanc{\\\\chercherVtPstTroisDuASgG} \\\\\\\\', '\\\\pousserVtPstTroisPlDDu & \\\\pousserVtPstTroisPlDDuP & \\\\blanc{\\\\pousserVtPstTroisPlDDuG} \\\\\\\\', '\\\\tomberViPrsTroisPlBPl & \\\\tomberViPrsTroisPlBPlP & \\\\blanc{\\\\tomberViPrsTroisPlBPlG} \\\\\\\\', '\\\\chasserVtPstTroisDuAPl & \\\\chasserVtPstTroisDuAPlP & \\\\blanc{\\\\chasserVtPstTroisDuAPlG} \\\\\\\\', '\\\\sauterViPrsTroisSgCPl & \\\\sauterViPrsTroisSgCPlP & \\\\blanc{\\\\sauterViPrsTroisSgCPlG} \\\\\\\\', '\\\\chasserVtPrsTroisDuBPl & \\\\chasserVtPrsTroisDuBPlP & \\\\blanc{\\\\chasserVtPrsTroisDuBPlG} \\\\\\\\', '\\\\donnerVdPrsTroisPlASg & \\\\donnerVdPrsTroisPlASgP & \\\\blanc{\\\\donnerVdPrsTroisPlASgG} \\\\\\\\', '\\\\planterVtPstTroisDuBPl & \\\\planterVtPstTroisDuBPlP & \\\\blanc{\\\\planterVtPstTroisDuBPlG} \\\\\\\\', '\\\\passerViPstTroisPlCDu & \\\\passerViPstTroisPlCDuP & \\\\blanc{\\\\passerViPstTroisPlCDuG} \\\\\\\\', '\\\\apporterVdPstTroisSgBDu & \\\\apporterVdPstTroisSgBDuP & \\\\blanc{\\\\apporterVdPstTroisSgBDuG} \\\\\\\\', '\\\\donnerVdPrsTroisPlDSg & \\\\donnerVdPrsTroisPlDSgP & \\\\blanc{\\\\donnerVdPrsTroisPlDSgG} \\\\\\\\', '\\\\etreVtPstTroisSgAPl & \\\\etreVtPstTroisSgAPlP & \\\\blanc{\\\\etreVtPstTroisSgAPlG} \\\\\\\\', '\\\\transformerVtPstTroisPlBDu & \\\\transformerVtPstTroisPlBDuP & \\\\blanc{\\\\transformerVtPstTroisPlBDuG} \\\\\\\\', '\\\\tomberViPrsTroisDuCDu & \\\\tomberViPrsTroisDuCDuP & \\\\blanc{\\\\tomberViPrsTroisDuCDuG} \\\\\\\\', '\\\\planterVtPstTroisPlCPl & \\\\planterVtPstTroisPlCPlP & \\\\blanc{\\\\planterVtPstTroisPlCPlG} \\\\\\\\', '\\\\parlerViPrsTroisSgCSg & \\\\parlerViPrsTroisSgCSgP & \\\\blanc{\\\\parlerViPrsTroisSgCSgG} \\\\\\\\', '\\\\transpercerVtPstTroisPlCDu & \\\\transpercerVtPstTroisPlCDuP & \\\\blanc{\\\\transpercerVtPstTroisPlCDuG} \\\\\\\\', '\\\\prendreVtPrsTroisPlCPl & \\\\prendreVtPrsTroisPlCPlP & \\\\blanc{\\\\prendreVtPrsTroisPlCPlG} \\\\\\\\', '\\\\jeterVtPrsTroisSgADu & \\\\jeterVtPrsTroisSgADuP & \\\\blanc{\\\\jeterVtPrsTroisSgADuG} \\\\\\\\', '\\\\prendreVtPstTroisDuAPl & \\\\prendreVtPstTroisDuAPlP & \\\\blanc{\\\\prendreVtPstTroisDuAPlG} \\\\\\\\', '\\\\planterVtPrsTroisPlCDu & \\\\planterVtPrsTroisPlCDuP & \\\\blanc{\\\\planterVtPrsTroisPlCDuG} \\\\\\\\', '\\\\voirVtPstTroisSgDSg & \\\\voirVtPstTroisSgDSgP & \\\\blanc{\\\\voirVtPstTroisSgDSgG} \\\\\\\\', '\\\\passerViPrsTroisPlCDu & \\\\passerViPrsTroisPlCDuP & \\\\blanc{\\\\passerViPrsTroisPlCDuG} \\\\\\\\', '\\\\envahirVtPrsTroisSgADu & \\\\envahirVtPrsTroisSgADuP & \\\\blanc{\\\\envahirVtPrsTroisSgADuG} \\\\\\\\', '\\\\sortirViPstTroisSgCSg & \\\\sortirViPstTroisSgCSgP & \\\\blanc{\\\\sortirViPstTroisSgCSgG} \\\\\\\\', '\\\\tomberViPrsTroisSgBPl & \\\\tomberViPrsTroisSgBPlP & \\\\blanc{\\\\tomberViPrsTroisSgBPlG} \\\\\\\\', '\\\\chercherVtPrsTroisDuASg & \\\\chercherVtPrsTroisDuASgP & \\\\blanc{\\\\chercherVtPrsTroisDuASgG} \\\\\\\\', '\\\\passerViPstTroisSgCPl & \\\\passerViPstTroisSgCPlP & \\\\blanc{\\\\passerViPstTroisSgCPlG} \\\\\\\\', '\\\\rejoindreVtPstTroisDuDDu & \\\\rejoindreVtPstTroisDuDDuP & \\\\blanc{\\\\rejoindreVtPstTroisDuDDuG} \\\\\\\\', '\\\\recouvrirVtPrsTroisDuDDu & \\\\recouvrirVtPrsTroisDuDDuP & \\\\blanc{\\\\recouvrirVtPrsTroisDuDDuG} \\\\\\\\', '\\\\jeterVtPrsTroisDuASg & \\\\jeterVtPrsTroisDuASgP & \\\\blanc{\\\\jeterVtPrsTroisDuASgG} \\\\\\\\', '\\\\recouvrirVtPrsTroisSgBPl & \\\\recouvrirVtPrsTroisSgBPlP & \\\\blanc{\\\\recouvrirVtPrsTroisSgBPlG} \\\\\\\\', '\\\\approcherViPrsTroisPlDSg & \\\\approcherViPrsTroisPlDSgP & \\\\blanc{\\\\approcherViPrsTroisPlDSgG} \\\\\\\\', '\\\\protegerVtPstTroisPlDPl & \\\\protegerVtPstTroisPlDPlP & \\\\blanc{\\\\protegerVtPstTroisPlDPlG} \\\\\\\\', '\\\\etreVtPstTroisSgCDu & \\\\etreVtPstTroisSgCDuP & \\\\blanc{\\\\etreVtPstTroisSgCDuG} \\\\\\\\', '\\\\rejoindreVtPrsTroisSgDPl & \\\\rejoindreVtPrsTroisSgDPlP & \\\\blanc{\\\\rejoindreVtPrsTroisSgDPlG} \\\\\\\\', '\\\\passerViPstTroisPlDDu & \\\\passerViPstTroisPlDDuP & \\\\blanc{\\\\passerViPstTroisPlDDuG} \\\\\\\\', '\\\\pousserVtPrsTroisDuDPl & \\\\pousserVtPrsTroisDuDPlP & \\\\blanc{\\\\pousserVtPrsTroisDuDPlG} \\\\\\\\', '\\\\chercherVtPrsTroisPlBDu & \\\\chercherVtPrsTroisPlBDuP & \\\\blanc{\\\\chercherVtPrsTroisPlBDuG} \\\\\\\\', '\\\\voirVtPrsTroisPlCSg & \\\\voirVtPrsTroisPlCSgP & \\\\blanc{\\\\voirVtPrsTroisPlCSgG} \\\\\\\\', '\\\\sauterViPrsTroisDuCDu & \\\\sauterViPrsTroisDuCDuP & \\\\blanc{\\\\sauterViPrsTroisDuCDuG} \\\\\\\\', '\\\\sortirViPstTroisPlAPl & \\\\sortirViPstTroisPlAPlP & \\\\blanc{\\\\sortirViPstTroisPlAPlG} \\\\\\\\', '\\\\parlerViPstTroisSgDDu & \\\\parlerViPstTroisSgDDuP & \\\\blanc{\\\\parlerViPstTroisSgDDuG} \\\\\\\\', '\\\\chasserVtPrsTroisPlBDu & \\\\chasserVtPrsTroisPlBDuP & \\\\blanc{\\\\chasserVtPrsTroisPlBDuG} \\\\\\\\', '\\\\recouvrirVtPstTroisSgDPl & \\\\recouvrirVtPstTroisSgDPlP & \\\\blanc{\\\\recouvrirVtPstTroisSgDPlG} \\\\\\\\', '\\\\transpercerVtPstTroisSgDSg & \\\\transpercerVtPstTroisSgDSgP & \\\\blanc{\\\\transpercerVtPstTroisSgDSgG} \\\\\\\\', '\\\\transpercerVtPrsTroisPlBDu & \\\\transpercerVtPrsTroisPlBDuP & \\\\blanc{\\\\transpercerVtPrsTroisPlBDuG} \\\\\\\\', '\\\\passerViPrsTroisPlDDu & \\\\passerViPrsTroisPlDDuP & \\\\blanc{\\\\passerViPrsTroisPlDDuG} \\\\\\\\', '\\\\transpercerVtPrsTroisPlCPl & \\\\transpercerVtPrsTroisPlCPlP & \\\\blanc{\\\\transpercerVtPrsTroisPlCPlG} \\\\\\\\', '\\\\jeterVtPstTroisDuCSg & \\\\jeterVtPstTroisDuCSgP & \\\\blanc{\\\\jeterVtPstTroisDuCSgG} \\\\\\\\', '\\\\approcherViPrsTroisPlCDu & \\\\approcherViPrsTroisPlCDuP & \\\\blanc{\\\\approcherViPrsTroisPlCDuG} \\\\\\\\', '\\\\allerViPrsTroisSgAPl & \\\\allerViPrsTroisSgAPlP & \\\\blanc{\\\\allerViPrsTroisSgAPlG} \\\\\\\\', '\\\\chercherVtPrsTroisPlADu & \\\\chercherVtPrsTroisPlADuP & \\\\blanc{\\\\chercherVtPrsTroisPlADuG} \\\\\\\\', '\\\\approcherViPrsTroisPlADu & \\\\approcherViPrsTroisPlADuP & \\\\blanc{\\\\approcherViPrsTroisPlADuG} \\\\\\\\', '\\\\allerViPstTroisDuASg & \\\\allerViPstTroisDuASgP & \\\\blanc{\\\\allerViPstTroisDuASgG} \\\\\\\\', '\\\\tomberViPstTroisPlBSg & \\\\tomberViPstTroisPlBSgP & \\\\blanc{\\\\tomberViPstTroisPlBSgG} \\\\\\\\', '\\\\disparaitreViPstTroisPlADu & \\\\disparaitreViPstTroisPlADuP & \\\\blanc{\\\\disparaitreViPstTroisPlADuG} \\\\\\\\', '\\\\transpercerVtPrsTroisPlASg & \\\\transpercerVtPrsTroisPlASgP & \\\\blanc{\\\\transpercerVtPrsTroisPlASgG} \\\\\\\\', '\\\\voirVtPrsTroisDuCDu & \\\\voirVtPrsTroisDuCDuP & \\\\blanc{\\\\voirVtPrsTroisDuCDuG} \\\\\\\\', '\\\\passerViPrsTroisSgBDu & \\\\passerViPrsTroisSgBDuP & \\\\blanc{\\\\passerViPrsTroisSgBDuG} \\\\\\\\', '\\\\rejoindreVtPrsTroisDuAPl & \\\\rejoindreVtPrsTroisDuAPlP & \\\\blanc{\\\\rejoindreVtPrsTroisDuAPlG} \\\\\\\\', '\\\\sortirViPstTroisDuBSg & \\\\sortirViPstTroisDuBSgP & \\\\blanc{\\\\sortirViPstTroisDuBSgG} \\\\\\\\', '\\\\parlerViPstTroisDuASg & \\\\parlerViPstTroisDuASgP & \\\\blanc{\\\\parlerViPstTroisDuASgG} \\\\\\\\', '\\\\fuirViPstTroisPlCSg & \\\\fuirViPstTroisPlCSgP & \\\\blanc{\\\\fuirViPstTroisPlCSgG} \\\\\\\\', '\\\\sauterViPrsTroisSgBPl & \\\\sauterViPrsTroisSgBPlP & \\\\blanc{\\\\sauterViPrsTroisSgBPlG} \\\\\\\\', '\\\\pousserVtPrsTroisSgBPl & \\\\pousserVtPrsTroisSgBPlP & \\\\blanc{\\\\pousserVtPrsTroisSgBPlG} \\\\\\\\', '\\\\chercherVtPrsTroisPlAPl & \\\\chercherVtPrsTroisPlAPlP & \\\\blanc{\\\\chercherVtPrsTroisPlAPlG} \\\\\\\\', '\\\\courirViPrsTroisDuCDu & \\\\courirViPrsTroisDuCDuP & \\\\blanc{\\\\courirViPrsTroisDuCDuG} \\\\\\\\', '\\\\disparaitreViPrsTroisDuBSg & \\\\disparaitreViPrsTroisDuBSgP & \\\\blanc{\\\\disparaitreViPrsTroisDuBSgG} \\\\\\\\', '\\\\prendreVtPstTroisDuDSg & \\\\prendreVtPstTroisDuDSgP & \\\\blanc{\\\\prendreVtPstTroisDuDSgG} \\\\\\\\', '\\\\fuirViPstTroisDuCSg & \\\\fuirViPstTroisDuCSgP & \\\\blanc{\\\\fuirViPstTroisDuCSgG} \\\\\\\\', '\\\\fuirViPstTroisSgDSg & \\\\fuirViPstTroisSgDSgP & \\\\blanc{\\\\fuirViPstTroisSgDSgG} \\\\\\\\', '\\\\chercherVtPstTroisDuCDu & \\\\chercherVtPstTroisDuCDuP & \\\\blanc{\\\\chercherVtPstTroisDuCDuG} \\\\\\\\', '\\\\sauterViPrsTroisPlADu & \\\\sauterViPrsTroisPlADuP & \\\\blanc{\\\\sauterViPrsTroisPlADuG} \\\\\\\\', '\\\\pousserVtPrsTroisSgADu & \\\\pousserVtPrsTroisSgADuP & \\\\blanc{\\\\pousserVtPrsTroisSgADuG} \\\\\\\\', '\\\\etreVtPrsTroisPlCSg & \\\\etreVtPrsTroisPlCSgP & \\\\blanc{\\\\etreVtPrsTroisPlCSgG} \\\\\\\\', '\\\\pousserVtPrsTroisPlADu & \\\\pousserVtPrsTroisPlADuP & \\\\blanc{\\\\pousserVtPrsTroisPlADuG} \\\\\\\\', '\\\\chercherVtPstTroisDuDPl & \\\\chercherVtPstTroisDuDPlP & \\\\blanc{\\\\chercherVtPstTroisDuDPlG} \\\\\\\\', '\\\\courirViPstTroisSgCSg & \\\\courirViPstTroisSgCSgP & \\\\blanc{\\\\courirViPstTroisSgCSgG} \\\\\\\\', '\\\\sauterViPstTroisSgBDu & \\\\sauterViPstTroisSgBDuP & \\\\blanc{\\\\sauterViPstTroisSgBDuG} \\\\\\\\', '\\\\allerViPrsTroisPlASg & \\\\allerViPrsTroisPlASgP & \\\\blanc{\\\\allerViPrsTroisPlASgG} \\\\\\\\', '\\\\sauterViPrsTroisPlCPl & \\\\sauterViPrsTroisPlCPlP & \\\\blanc{\\\\sauterViPrsTroisPlCPlG} \\\\\\\\', '\\\\courirViPrsTroisSgASg & \\\\courirViPrsTroisSgASgP & \\\\blanc{\\\\courirViPrsTroisSgASgG} \\\\\\\\', '\\\\chercherVtPstTroisPlASg & \\\\chercherVtPstTroisPlASgP & \\\\blanc{\\\\chercherVtPstTroisPlASgG} \\\\\\\\', '\\\\recouvrirVtPrsTroisPlCDu & \\\\recouvrirVtPrsTroisPlCDuP & \\\\blanc{\\\\recouvrirVtPrsTroisPlCDuG} \\\\\\\\', '\\\\allerViPrsTroisSgCSg & \\\\allerViPrsTroisSgCSgP & \\\\blanc{\\\\allerViPrsTroisSgCSgG} \\\\\\\\', '\\\\devorerVtPrsTroisPlCDu & \\\\devorerVtPrsTroisPlCDuP & \\\\blanc{\\\\devorerVtPrsTroisPlCDuG} \\\\\\\\', '\\\\pousserVtPstTroisDuASg & \\\\pousserVtPstTroisDuASgP & \\\\blanc{\\\\pousserVtPstTroisDuASgG} \\\\\\\\', '\\\\courirViPstTroisPlDDu & \\\\courirViPstTroisPlDDuP & \\\\blanc{\\\\courirViPstTroisPlDDuG} \\\\\\\\', '\\\\protegerVtPstTroisSgBSg & \\\\protegerVtPstTroisSgBSgP & \\\\blanc{\\\\protegerVtPstTroisSgBSgG} \\\\\\\\', '\\\\allerViPrsTroisSgDPl & \\\\allerViPrsTroisSgDPlP & \\\\blanc{\\\\allerViPrsTroisSgDPlG} \\\\\\\\', '\\\\donnerVdPrsTroisPlCDu & \\\\donnerVdPrsTroisPlCDuP & \\\\blanc{\\\\donnerVdPrsTroisPlCDuG} \\\\\\\\', '\\\\fuirViPstTroisSgCDu & \\\\fuirViPstTroisSgCDuP & \\\\blanc{\\\\fuirViPstTroisSgCDuG} \\\\\\\\', '\\\\passerViPstTroisDuASg & \\\\passerViPstTroisDuASgP & \\\\blanc{\\\\passerViPstTroisDuASgG} \\\\\\\\', '\\\\recouvrirVtPstTroisDuCPl & \\\\recouvrirVtPstTroisDuCPlP & \\\\blanc{\\\\recouvrirVtPstTroisDuCPlG} \\\\\\\\', '\\\\chasserVtPstTroisSgBDu & \\\\chasserVtPstTroisSgBDuP & \\\\blanc{\\\\chasserVtPstTroisSgBDuG} \\\\\\\\', '\\\\sortirViPrsTroisSgASg & \\\\sortirViPrsTroisSgASgP & \\\\blanc{\\\\sortirViPrsTroisSgASgG} \\\\\\\\', '\\\\passerViPstTroisSgDDu & \\\\passerViPstTroisSgDDuP & \\\\blanc{\\\\passerViPstTroisSgDDuG} \\\\\\\\', '\\\\planterVtPrsTroisPlBSg & \\\\planterVtPrsTroisPlBSgP & \\\\blanc{\\\\planterVtPrsTroisPlBSgG} \\\\\\\\', '\\\\rejoindreVtPstTroisSgBPl & \\\\rejoindreVtPstTroisSgBPlP & \\\\blanc{\\\\rejoindreVtPstTroisSgBPlG} \\\\\\\\', '\\\\allerViPrsTroisPlDSg & \\\\allerViPrsTroisPlDSgP & \\\\blanc{\\\\allerViPrsTroisPlDSgG} \\\\\\\\', '\\\\etreVtPrsTroisSgBDu & \\\\etreVtPrsTroisSgBDuP & \\\\blanc{\\\\etreVtPrsTroisSgBDuG} \\\\\\\\', '\\\\jeterVtPstTroisPlASg & \\\\jeterVtPstTroisPlASgP & \\\\blanc{\\\\jeterVtPstTroisPlASgG} \\\\\\\\', '\\\\courirViPstTroisDuCSg & \\\\courirViPstTroisDuCSgP & \\\\blanc{\\\\courirViPstTroisDuCSgG} \\\\\\\\', '\\\\transformerVtPstTroisSgDPl & \\\\transformerVtPstTroisSgDPlP & \\\\blanc{\\\\transformerVtPstTroisSgDPlG} \\\\\\\\', '\\\\transformerVtPstTroisSgCSg & \\\\transformerVtPstTroisSgCSgP & \\\\blanc{\\\\transformerVtPstTroisSgCSgG} \\\\\\\\', '\\\\prendreVtPstTroisDuBPl & \\\\prendreVtPstTroisDuBPlP & \\\\blanc{\\\\prendreVtPstTroisDuBPlG} \\\\\\\\', '\\\\devorerVtPstTroisDuCPl & \\\\devorerVtPstTroisDuCPlP & \\\\blanc{\\\\devorerVtPstTroisDuCPlG} \\\\\\\\', '\\\\devorerVtPrsTroisDuCDu & \\\\devorerVtPrsTroisDuCDuP & \\\\blanc{\\\\devorerVtPrsTroisDuCDuG} \\\\\\\\', '\\\\jeterVtPstTroisDuDDu & \\\\jeterVtPstTroisDuDDuP & \\\\blanc{\\\\jeterVtPstTroisDuDDuG} \\\\\\\\', '\\\\fuirViPstTroisDuAPl & \\\\fuirViPstTroisDuAPlP & \\\\blanc{\\\\fuirViPstTroisDuAPlG} \\\\\\\\', '\\\\transformerVtPrsTroisPlCDu & \\\\transformerVtPrsTroisPlCDuP & \\\\blanc{\\\\transformerVtPrsTroisPlCDuG} \\\\\\\\', '\\\\prendreVtPrsTroisDuCPl & \\\\prendreVtPrsTroisDuCPlP & \\\\blanc{\\\\prendreVtPrsTroisDuCPlG} \\\\\\\\', '\\\\donnerVdPrsTroisPlADu & \\\\donnerVdPrsTroisPlADuP & \\\\blanc{\\\\donnerVdPrsTroisPlADuG} \\\\\\\\', '\\\\sortirViPrsTroisSgCSg & \\\\sortirViPrsTroisSgCSgP & \\\\blanc{\\\\sortirViPrsTroisSgCSgG} \\\\\\\\', '\\\\voirVtPrsTroisSgADu & \\\\voirVtPrsTroisSgADuP & \\\\blanc{\\\\voirVtPrsTroisSgADuG} \\\\\\\\', '\\\\disparaitreViPstTroisPlCPl & \\\\disparaitreViPstTroisPlCPlP & \\\\blanc{\\\\disparaitreViPstTroisPlCPlG} \\\\\\\\', '\\\\prendreVtPrsTroisDuDSg & \\\\prendreVtPrsTroisDuDSgP & \\\\blanc{\\\\prendreVtPrsTroisDuDSgG} \\\\\\\\', '\\\\chasserVtPstTroisDuDSg & \\\\chasserVtPstTroisDuDSgP & \\\\blanc{\\\\chasserVtPstTroisDuDSgG} \\\\\\\\', '\\\\disparaitreViPrsTroisSgBSg & \\\\disparaitreViPrsTroisSgBSgP & \\\\blanc{\\\\disparaitreViPrsTroisSgBSgG} \\\\\\\\', '\\\\devorerVtPrsTroisSgDDu & \\\\devorerVtPrsTroisSgDDuP & \\\\blanc{\\\\devorerVtPrsTroisSgDDuG} \\\\\\\\', '\\\\chasserVtPrsTroisSgAPl & \\\\chasserVtPrsTroisSgAPlP & \\\\blanc{\\\\chasserVtPrsTroisSgAPlG} \\\\\\\\', '\\\\jeterVtPstTroisPlCDu & \\\\jeterVtPstTroisPlCDuP & \\\\blanc{\\\\jeterVtPstTroisPlCDuG} \\\\\\\\', '\\\\protegerVtPrsTroisDuASg & \\\\protegerVtPrsTroisDuASgP & \\\\blanc{\\\\protegerVtPrsTroisDuASgG} \\\\\\\\', '\\\\chercherVtPrsTroisSgDDu & \\\\chercherVtPrsTroisSgDDuP & \\\\blanc{\\\\chercherVtPrsTroisSgDDuG} \\\\\\\\', '\\\\chercherVtPrsTroisSgCDu & \\\\chercherVtPrsTroisSgCDuP & \\\\blanc{\\\\chercherVtPrsTroisSgCDuG} \\\\\\\\', '\\\\jeterVtPrsTroisSgDPl & \\\\jeterVtPrsTroisSgDPlP & \\\\blanc{\\\\jeterVtPrsTroisSgDPlG} \\\\\\\\', '\\\\voirVtPstTroisPlCDu & \\\\voirVtPstTroisPlCDuP & \\\\blanc{\\\\voirVtPstTroisPlCDuG} \\\\\\\\', '\\\\disparaitreViPrsTroisPlCDu & \\\\disparaitreViPrsTroisPlCDuP & \\\\blanc{\\\\disparaitreViPrsTroisPlCDuG} \\\\\\\\', '\\\\donnerVdPrsTroisSgBPl & \\\\donnerVdPrsTroisSgBPlP & \\\\blanc{\\\\donnerVdPrsTroisSgBPlG} \\\\\\\\', '\\\\prendreVtPstTroisSgDSg & \\\\prendreVtPstTroisSgDSgP & \\\\blanc{\\\\prendreVtPstTroisSgDSgG} \\\\\\\\', '\\\\chasserVtPrsTroisDuBDu & \\\\chasserVtPrsTroisDuBDuP & \\\\blanc{\\\\chasserVtPrsTroisDuBDuG} \\\\\\\\', '\\\\apporterVdPrsTroisSgBDu & \\\\apporterVdPrsTroisSgBDuP & \\\\blanc{\\\\apporterVdPrsTroisSgBDuG} \\\\\\\\', '\\\\fuirViPrsTroisPlBSg & \\\\fuirViPrsTroisPlBSgP & \\\\blanc{\\\\fuirViPrsTroisPlBSgG} \\\\\\\\', '\\\\tomberViPstTroisDuBPl & \\\\tomberViPstTroisDuBPlP & \\\\blanc{\\\\tomberViPstTroisDuBPlG} \\\\\\\\', '\\\\prendreVtPstTroisSgASg & \\\\prendreVtPstTroisSgASgP & \\\\blanc{\\\\prendreVtPstTroisSgASgG} \\\\\\\\', '\\\\pousserVtPstTroisDuBPl & \\\\pousserVtPstTroisDuBPlP & \\\\blanc{\\\\pousserVtPstTroisDuBPlG} \\\\\\\\', '\\\\planterVtPrsTroisSgCPl & \\\\planterVtPrsTroisSgCPlP & \\\\blanc{\\\\planterVtPrsTroisSgCPlG} \\\\\\\\', '\\\\prendreVtPstTroisSgCDu & \\\\prendreVtPstTroisSgCDuP & \\\\blanc{\\\\prendreVtPstTroisSgCDuG} \\\\\\\\', '\\\\sauterViPrsTroisDuAPl & \\\\sauterViPrsTroisDuAPlP & \\\\blanc{\\\\sauterViPrsTroisDuAPlG} \\\\\\\\', '\\\\jeterVtPrsTroisPlADu & \\\\jeterVtPrsTroisPlADuP & \\\\blanc{\\\\jeterVtPrsTroisPlADuG} \\\\\\\\', '\\\\donnerVdPrsTroisPlBSg & \\\\donnerVdPrsTroisPlBSgP & \\\\blanc{\\\\donnerVdPrsTroisPlBSgG} \\\\\\\\', '\\\\apporterVdPstTroisSgBPl & \\\\apporterVdPstTroisSgBPlP & \\\\blanc{\\\\apporterVdPstTroisSgBPlG} \\\\\\\\', '\\\\transpercerVtPstTroisPlADu & \\\\transpercerVtPstTroisPlADuP & \\\\blanc{\\\\transpercerVtPstTroisPlADuG} \\\\\\\\', '\\\\courirViPstTroisPlBSg & \\\\courirViPstTroisPlBSgP & \\\\blanc{\\\\courirViPstTroisPlBSgG} \\\\\\\\', '\\\\chercherVtPrsTroisDuCSg & \\\\chercherVtPrsTroisDuCSgP & \\\\blanc{\\\\chercherVtPrsTroisDuCSgG} \\\\\\\\', '\\\\transformerVtPrsTroisPlDDu & \\\\transformerVtPrsTroisPlDDuP & \\\\blanc{\\\\transformerVtPrsTroisPlDDuG} \\\\\\\\', '\\\\disparaitreViPrsTroisPlADu & \\\\disparaitreViPrsTroisPlADuP & \\\\blanc{\\\\disparaitreViPrsTroisPlADuG} \\\\\\\\', '\\\\disparaitreViPstTroisPlCSg & \\\\disparaitreViPstTroisPlCSgP & \\\\blanc{\\\\disparaitreViPstTroisPlCSgG} \\\\\\\\', '\\\\pousserVtPstTroisPlDPl & \\\\pousserVtPstTroisPlDPlP & \\\\blanc{\\\\pousserVtPstTroisPlDPlG} \\\\\\\\', '\\\\jeterVtPrsTroisDuBDu & \\\\jeterVtPrsTroisDuBDuP & \\\\blanc{\\\\jeterVtPrsTroisDuBDuG} \\\\\\\\', '\\\\transpercerVtPstTroisSgBPl & \\\\transpercerVtPstTroisSgBPlP & \\\\blanc{\\\\transpercerVtPstTroisSgBPlG} \\\\\\\\', '\\\\protegerVtPstTroisDuCDu & \\\\protegerVtPstTroisDuCDuP & \\\\blanc{\\\\protegerVtPstTroisDuCDuG} \\\\\\\\', '\\\\planterVtPstTroisPlBDu & \\\\planterVtPstTroisPlBDuP & \\\\blanc{\\\\planterVtPstTroisPlBDuG} \\\\\\\\', '\\\\sauterViPstTroisSgDPl & \\\\sauterViPstTroisSgDPlP & \\\\blanc{\\\\sauterViPstTroisSgDPlG} \\\\\\\\', '\\\\donnerVdPstTroisPlADu & \\\\donnerVdPstTroisPlADuP & \\\\blanc{\\\\donnerVdPstTroisPlADuG} \\\\\\\\', '\\\\disparaitreViPrsTroisPlBDu & \\\\disparaitreViPrsTroisPlBDuP & \\\\blanc{\\\\disparaitreViPrsTroisPlBDuG} \\\\\\\\', '\\\\envahirVtPrsTroisSgAPl & \\\\envahirVtPrsTroisSgAPlP & \\\\blanc{\\\\envahirVtPrsTroisSgAPlG} \\\\\\\\', '\\\\approcherViPstTroisPlCSg & \\\\approcherViPstTroisPlCSgP & \\\\blanc{\\\\approcherViPstTroisPlCSgG} \\\\\\\\', '\\\\fuirViPrsTroisPlADu & \\\\fuirViPrsTroisPlADuP & \\\\blanc{\\\\fuirViPrsTroisPlADuG} \\\\\\\\', '\\\\recouvrirVtPrsTroisSgDPl & \\\\recouvrirVtPrsTroisSgDPlP & \\\\blanc{\\\\recouvrirVtPrsTroisSgDPlG} \\\\\\\\', '\\\\sortirViPstTroisDuBPl & \\\\sortirViPstTroisDuBPlP & \\\\blanc{\\\\sortirViPstTroisDuBPlG} \\\\\\\\', '\\\\allerViPrsTroisPlCPl & \\\\allerViPrsTroisPlCPlP & \\\\blanc{\\\\allerViPrsTroisPlCPlG} \\\\\\\\', '\\\\allerViPrsTroisPlCSg & \\\\allerViPrsTroisPlCSgP & \\\\blanc{\\\\allerViPrsTroisPlCSgG} \\\\\\\\', '\\\\disparaitreViPrsTroisDuDSg & \\\\disparaitreViPrsTroisDuDSgP & \\\\blanc{\\\\disparaitreViPrsTroisDuDSgG} \\\\\\\\', '\\\\prendreVtPstTroisPlBDu & \\\\prendreVtPstTroisPlBDuP & \\\\blanc{\\\\prendreVtPstTroisPlBDuG} \\\\\\\\', '\\\\transpercerVtPstTroisDuBSg & \\\\transpercerVtPstTroisDuBSgP & \\\\blanc{\\\\transpercerVtPstTroisDuBSgG} \\\\\\\\', '\\\\chasserVtPrsTroisDuADu & \\\\chasserVtPrsTroisDuADuP & \\\\blanc{\\\\chasserVtPrsTroisDuADuG} \\\\\\\\', '\\\\chasserVtPrsTroisSgCSg & \\\\chasserVtPrsTroisSgCSgP & \\\\blanc{\\\\chasserVtPrsTroisSgCSgG} \\\\\\\\', '\\\\voirVtPrsTroisPlDDu & \\\\voirVtPrsTroisPlDDuP & \\\\blanc{\\\\voirVtPrsTroisPlDDuG} \\\\\\\\', '\\\\chercherVtPrsTroisDuADu & \\\\chercherVtPrsTroisDuADuP & \\\\blanc{\\\\chercherVtPrsTroisDuADuG} \\\\\\\\', '\\\\apporterVdPrsTroisDuBPl & \\\\apporterVdPrsTroisDuBPlP & \\\\blanc{\\\\apporterVdPrsTroisDuBPlG} \\\\\\\\', '\\\\donnerVdPrsTroisSgADu & \\\\donnerVdPrsTroisSgADuP & \\\\blanc{\\\\donnerVdPrsTroisSgADuG} \\\\\\\\', '\\\\rejoindreVtPstTroisSgDSg & \\\\rejoindreVtPstTroisSgDSgP & \\\\blanc{\\\\rejoindreVtPstTroisSgDSgG} \\\\\\\\', '\\\\jeterVtPstTroisPlDDu & \\\\jeterVtPstTroisPlDDuP & \\\\blanc{\\\\jeterVtPstTroisPlDDuG} \\\\\\\\', '\\\\envahirVtPstTroisPlDPl & \\\\envahirVtPstTroisPlDPlP & \\\\blanc{\\\\envahirVtPstTroisPlDPlG} \\\\\\\\', '\\\\apporterVdPrsTroisSgASg & \\\\apporterVdPrsTroisSgASgP & \\\\blanc{\\\\apporterVdPrsTroisSgASgG} \\\\\\\\', '\\\\sortirViPrsTroisDuBDu & \\\\sortirViPrsTroisDuBDuP & \\\\blanc{\\\\sortirViPrsTroisDuBDuG} \\\\\\\\', '\\\\protegerVtPrsTroisPlBDu & \\\\protegerVtPrsTroisPlBDuP & \\\\blanc{\\\\protegerVtPrsTroisPlBDuG} \\\\\\\\', '\\\\passerViPrsTroisSgDDu & \\\\passerViPrsTroisSgDDuP & \\\\blanc{\\\\passerViPrsTroisSgDDuG} \\\\\\\\', '\\\\sauterViPrsTroisPlBDu & \\\\sauterViPrsTroisPlBDuP & \\\\blanc{\\\\sauterViPrsTroisPlBDuG} \\\\\\\\', '\\\\jeterVtPstTroisDuASg & \\\\jeterVtPstTroisDuASgP & \\\\blanc{\\\\jeterVtPstTroisDuASgG} \\\\\\\\', '\\\\rejoindreVtPrsTroisSgBSg & \\\\rejoindreVtPrsTroisSgBSgP & \\\\blanc{\\\\rejoindreVtPrsTroisSgBSgG} \\\\\\\\', '\\\\donnerVdPstTroisPlDPl & \\\\donnerVdPstTroisPlDPlP & \\\\blanc{\\\\donnerVdPstTroisPlDPlG} \\\\\\\\', '\\\\tomberViPrsTroisDuDSg & \\\\tomberViPrsTroisDuDSgP & \\\\blanc{\\\\tomberViPrsTroisDuDSgG} \\\\\\\\', '\\\\tomberViPstTroisSgBDu & \\\\tomberViPstTroisSgBDuP & \\\\blanc{\\\\tomberViPstTroisSgBDuG} \\\\\\\\', '\\\\transformerVtPstTroisDuCSg & \\\\transformerVtPstTroisDuCSgP & \\\\blanc{\\\\transformerVtPstTroisDuCSgG} \\\\\\\\', '\\\\prendreVtPstTroisSgBSg & \\\\prendreVtPstTroisSgBSgP & \\\\blanc{\\\\prendreVtPstTroisSgBSgG} \\\\\\\\', '\\\\recouvrirVtPrsTroisPlDSg & \\\\recouvrirVtPrsTroisPlDSgP & \\\\blanc{\\\\recouvrirVtPrsTroisPlDSgG} \\\\\\\\', '\\\\tomberViPstTroisSgCSg & \\\\tomberViPstTroisSgCSgP & \\\\blanc{\\\\tomberViPstTroisSgCSgG} \\\\\\\\', '\\\\parlerViPstTroisPlADu & \\\\parlerViPstTroisPlADuP & \\\\blanc{\\\\parlerViPstTroisPlADuG} \\\\\\\\', '\\\\donnerVdPrsTroisDuBPl & \\\\donnerVdPrsTroisDuBPlP & \\\\blanc{\\\\donnerVdPrsTroisDuBPlG} \\\\\\\\', '\\\\transformerVtPrsTroisSgAPl & \\\\transformerVtPrsTroisSgAPlP & \\\\blanc{\\\\transformerVtPrsTroisSgAPlG} \\\\\\\\', '\\\\recouvrirVtPrsTroisPlDPl & \\\\recouvrirVtPrsTroisPlDPlP & \\\\blanc{\\\\recouvrirVtPrsTroisPlDPlG} \\\\\\\\', '\\\\envahirVtPstTroisDuDSg & \\\\envahirVtPstTroisDuDSgP & \\\\blanc{\\\\envahirVtPstTroisDuDSgG} \\\\\\\\', '\\\\apporterVdPstTroisSgAPl & \\\\apporterVdPstTroisSgAPlP & \\\\blanc{\\\\apporterVdPstTroisSgAPlG} \\\\\\\\', '\\\\pousserVtPstTroisDuCSg & \\\\pousserVtPstTroisDuCSgP & \\\\blanc{\\\\pousserVtPstTroisDuCSgG} \\\\\\\\', '\\\\jeterVtPstTroisSgCSg & \\\\jeterVtPstTroisSgCSgP & \\\\blanc{\\\\jeterVtPstTroisSgCSgG} \\\\\\\\', '\\\\disparaitreViPstTroisSgASg & \\\\disparaitreViPstTroisSgASgP & \\\\blanc{\\\\disparaitreViPstTroisSgASgG} \\\\\\\\', '\\\\jeterVtPrsTroisSgAPl & \\\\jeterVtPrsTroisSgAPlP & \\\\blanc{\\\\jeterVtPrsTroisSgAPlG} \\\\\\\\', '\\\\donnerVdPstTroisSgDDu & \\\\donnerVdPstTroisSgDDuP & \\\\blanc{\\\\donnerVdPstTroisSgDDuG} \\\\\\\\', '\\\\devorerVtPrsTroisPlDPl & \\\\devorerVtPrsTroisPlDPlP & \\\\blanc{\\\\devorerVtPrsTroisPlDPlG} \\\\\\\\', '\\\\envahirVtPstTroisSgCSg & \\\\envahirVtPstTroisSgCSgP & \\\\blanc{\\\\envahirVtPstTroisSgCSgG} \\\\\\\\', '\\\\allerViPstTroisSgCDu & \\\\allerViPstTroisSgCDuP & \\\\blanc{\\\\allerViPstTroisSgCDuG} \\\\\\\\', '\\\\chercherVtPstTroisSgDDu & \\\\chercherVtPstTroisSgDDuP & \\\\blanc{\\\\chercherVtPstTroisSgDDuG} \\\\\\\\', '\\\\chercherVtPstTroisSgDSg & \\\\chercherVtPstTroisSgDSgP & \\\\blanc{\\\\chercherVtPstTroisSgDSgG} \\\\\\\\', '\\\\voirVtPrsTroisPlBPl & \\\\voirVtPrsTroisPlBPlP & \\\\blanc{\\\\voirVtPrsTroisPlBPlG} \\\\\\\\', '\\\\approcherViPrsTroisPlCPl & \\\\approcherViPrsTroisPlCPlP & \\\\blanc{\\\\approcherViPrsTroisPlCPlG} \\\\\\\\', '\\\\tomberViPstTroisPlADu & \\\\tomberViPstTroisPlADuP & \\\\blanc{\\\\tomberViPstTroisPlADuG} \\\\\\\\', '\\\\apporterVdPstTroisSgDSg & \\\\apporterVdPstTroisSgDSgP & \\\\blanc{\\\\apporterVdPstTroisSgDSgG} \\\\\\\\', '\\\\planterVtPstTroisPlBPl & \\\\planterVtPstTroisPlBPlP & \\\\blanc{\\\\planterVtPstTroisPlBPlG} \\\\\\\\', '\\\\passerViPrsTroisDuBSg & \\\\passerViPrsTroisDuBSgP & \\\\blanc{\\\\passerViPrsTroisDuBSgG} \\\\\\\\', '\\\\envahirVtPstTroisPlDSg & \\\\envahirVtPstTroisPlDSgP & \\\\blanc{\\\\envahirVtPstTroisPlDSgG} \\\\\\\\', '\\\\etreVtPstTroisPlBPl & \\\\etreVtPstTroisPlBPlP & \\\\blanc{\\\\etreVtPstTroisPlBPlG} \\\\\\\\', '\\\\apporterVdPrsTroisPlDDu & \\\\apporterVdPrsTroisPlDDuP & \\\\blanc{\\\\apporterVdPrsTroisPlDDuG} \\\\\\\\', '\\\\pousserVtPrsTroisPlBSg & \\\\pousserVtPrsTroisPlBSgP & \\\\blanc{\\\\pousserVtPrsTroisPlBSgG} \\\\\\\\', '\\\\fuirViPrsTroisSgADu & \\\\fuirViPrsTroisSgADuP & \\\\blanc{\\\\fuirViPrsTroisSgADuG} \\\\\\\\', '\\\\sortirViPrsTroisSgADu & \\\\sortirViPrsTroisSgADuP & \\\\blanc{\\\\sortirViPrsTroisSgADuG} \\\\\\\\', '\\\\donnerVdPstTroisPlCPl & \\\\donnerVdPstTroisPlCPlP & \\\\blanc{\\\\donnerVdPstTroisPlCPlG} \\\\\\\\', '\\\\recouvrirVtPstTroisDuDDu & \\\\recouvrirVtPstTroisDuDDuP & \\\\blanc{\\\\recouvrirVtPstTroisDuDDuG} \\\\\\\\', '\\\\allerViPstTroisSgDPl & \\\\allerViPstTroisSgDPlP & \\\\blanc{\\\\allerViPstTroisSgDPlG} \\\\\\\\', '\\\\passerViPrsTroisDuDPl & \\\\passerViPrsTroisDuDPlP & \\\\blanc{\\\\passerViPrsTroisDuDPlG} \\\\\\\\', '\\\\parlerViPrsTroisPlCSg & \\\\parlerViPrsTroisPlCSgP & \\\\blanc{\\\\parlerViPrsTroisPlCSgG} \\\\\\\\', '\\\\allerViPrsTroisDuADu & \\\\allerViPrsTroisDuADuP & \\\\blanc{\\\\allerViPrsTroisDuADuG} \\\\\\\\', '\\\\transpercerVtPstTroisSgASg & \\\\transpercerVtPstTroisSgASgP & \\\\blanc{\\\\transpercerVtPstTroisSgASgG} \\\\\\\\', '\\\\parlerViPrsTroisDuASg & \\\\parlerViPrsTroisDuASgP & \\\\blanc{\\\\parlerViPrsTroisDuASgG} \\\\\\\\', '\\\\rejoindreVtPrsTroisPlDPl & \\\\rejoindreVtPrsTroisPlDPlP & \\\\blanc{\\\\rejoindreVtPrsTroisPlDPlG} \\\\\\\\', '\\\\disparaitreViPrsTroisSgDPl & \\\\disparaitreViPrsTroisSgDPlP & \\\\blanc{\\\\disparaitreViPrsTroisSgDPlG} \\\\\\\\', '\\\\courirViPrsTroisSgAPl & \\\\courirViPrsTroisSgAPlP & \\\\blanc{\\\\courirViPrsTroisSgAPlG} \\\\\\\\', '\\\\pousserVtPstTroisSgDPl & \\\\pousserVtPstTroisSgDPlP & \\\\blanc{\\\\pousserVtPstTroisSgDPlG} \\\\\\\\', '\\\\sauterViPstTroisPlBSg & \\\\sauterViPstTroisPlBSgP & \\\\blanc{\\\\sauterViPstTroisPlBSgG} \\\\\\\\', '\\\\rejoindreVtPrsTroisDuBPl & \\\\rejoindreVtPrsTroisDuBPlP & \\\\blanc{\\\\rejoindreVtPrsTroisDuBPlG} \\\\\\\\', '\\\\rejoindreVtPrsTroisPlCDu & \\\\rejoindreVtPrsTroisPlCDuP & \\\\blanc{\\\\rejoindreVtPrsTroisPlCDuG} \\\\\\\\', '\\\\pousserVtPstTroisSgADu & \\\\pousserVtPstTroisSgADuP & \\\\blanc{\\\\pousserVtPstTroisSgADuG} \\\\\\\\', '\\\\planterVtPstTroisPlBSg & \\\\planterVtPstTroisPlBSgP & \\\\blanc{\\\\planterVtPstTroisPlBSgG} \\\\\\\\', '\\\\sortirViPstTroisPlCSg & \\\\sortirViPstTroisPlCSgP & \\\\blanc{\\\\sortirViPstTroisPlCSgG} \\\\\\\\', '\\\\donnerVdPrsTroisSgDSg & \\\\donnerVdPrsTroisSgDSgP & \\\\blanc{\\\\donnerVdPrsTroisSgDSgG} \\\\\\\\', '\\\\passerViPrsTroisDuAPl & \\\\passerViPrsTroisDuAPlP & \\\\blanc{\\\\passerViPrsTroisDuAPlG} \\\\\\\\', '\\\\disparaitreViPstTroisDuCPl & \\\\disparaitreViPstTroisDuCPlP & \\\\blanc{\\\\disparaitreViPstTroisDuCPlG} \\\\\\\\', '\\\\disparaitreViPstTroisDuDSg & \\\\disparaitreViPstTroisDuDSgP & \\\\blanc{\\\\disparaitreViPstTroisDuDSgG} \\\\\\\\', '\\\\passerViPstTroisPlAPl & \\\\passerViPstTroisPlAPlP & \\\\blanc{\\\\passerViPstTroisPlAPlG} \\\\\\\\', '\\\\planterVtPstTroisSgDPl & \\\\planterVtPstTroisSgDPlP & \\\\blanc{\\\\planterVtPstTroisSgDPlG} \\\\\\\\', '\\\\etreVtPstTroisDuASg & \\\\etreVtPstTroisDuASgP & \\\\blanc{\\\\etreVtPstTroisDuASgG} \\\\\\\\', '\\\\approcherViPstTroisSgBDu & \\\\approcherViPstTroisSgBDuP & \\\\blanc{\\\\approcherViPstTroisSgBDuG} \\\\\\\\', '\\\\protegerVtPstTroisDuADu & \\\\protegerVtPstTroisDuADuP & \\\\blanc{\\\\protegerVtPstTroisDuADuG} \\\\\\\\', '\\\\parlerViPstTroisDuDSg & \\\\parlerViPstTroisDuDSgP & \\\\blanc{\\\\parlerViPstTroisDuDSgG} \\\\\\\\', '\\\\pousserVtPstTroisPlCPl & \\\\pousserVtPstTroisPlCPlP & \\\\blanc{\\\\pousserVtPstTroisPlCPlG} \\\\\\\\', '\\\\chercherVtPstTroisSgBSg & \\\\chercherVtPstTroisSgBSgP & \\\\blanc{\\\\chercherVtPstTroisSgBSgG} \\\\\\\\', '\\\\transformerVtPrsTroisDuDSg & \\\\transformerVtPrsTroisDuDSgP & \\\\blanc{\\\\transformerVtPrsTroisDuDSgG} \\\\\\\\', '\\\\transpercerVtPrsTroisPlDSg & \\\\transpercerVtPrsTroisPlDSgP & \\\\blanc{\\\\transpercerVtPrsTroisPlDSgG} \\\\\\\\', '\\\\pousserVtPrsTroisDuASg & \\\\pousserVtPrsTroisDuASgP & \\\\blanc{\\\\pousserVtPrsTroisDuASgG} \\\\\\\\', '\\\\courirViPstTroisSgCDu & \\\\courirViPstTroisSgCDuP & \\\\blanc{\\\\courirViPstTroisSgCDuG} \\\\\\\\', '\\\\protegerVtPstTroisSgDSg & \\\\protegerVtPstTroisSgDSgP & \\\\blanc{\\\\protegerVtPstTroisSgDSgG} \\\\\\\\', '\\\\voirVtPrsTroisDuBSg & \\\\voirVtPrsTroisDuBSgP & \\\\blanc{\\\\voirVtPrsTroisDuBSgG} \\\\\\\\', '\\\\transpercerVtPrsTroisDuDSg & \\\\transpercerVtPrsTroisDuDSgP & \\\\blanc{\\\\transpercerVtPrsTroisDuDSgG} \\\\\\\\', '\\\\etreVtPrsTroisDuCPl & \\\\etreVtPrsTroisDuCPlP & \\\\blanc{\\\\etreVtPrsTroisDuCPlG} \\\\\\\\', '\\\\chasserVtPstTroisSgAPl & \\\\chasserVtPstTroisSgAPlP & \\\\blanc{\\\\chasserVtPstTroisSgAPlG} \\\\\\\\', '\\\\chercherVtPrsTroisDuBDu & \\\\chercherVtPrsTroisDuBDuP & \\\\blanc{\\\\chercherVtPrsTroisDuBDuG} \\\\\\\\', '\\\\sortirViPrsTroisPlBDu & \\\\sortirViPrsTroisPlBDuP & \\\\blanc{\\\\sortirViPrsTroisPlBDuG} \\\\\\\\', '\\\\tomberViPrsTroisDuADu & \\\\tomberViPrsTroisDuADuP & \\\\blanc{\\\\tomberViPrsTroisDuADuG} \\\\\\\\', '\\\\etreVtPstTroisDuDDu & \\\\etreVtPstTroisDuDDuP & \\\\blanc{\\\\etreVtPstTroisDuDDuG} \\\\\\\\', '\\\\fuirViPrsTroisPlDDu & \\\\fuirViPrsTroisPlDDuP & \\\\blanc{\\\\fuirViPrsTroisPlDDuG} \\\\\\\\', '\\\\transpercerVtPstTroisDuCDu & \\\\transpercerVtPstTroisDuCDuP & \\\\blanc{\\\\transpercerVtPstTroisDuCDuG} \\\\\\\\', '\\\\transpercerVtPstTroisPlCPl & \\\\transpercerVtPstTroisPlCPlP & \\\\blanc{\\\\transpercerVtPstTroisPlCPlG} \\\\\\\\', '\\\\planterVtPstTroisDuDDu & \\\\planterVtPstTroisDuDDuP & \\\\blanc{\\\\planterVtPstTroisDuDDuG} \\\\\\\\', '\\\\courirViPrsTroisPlCSg & \\\\courirViPrsTroisPlCSgP & \\\\blanc{\\\\courirViPrsTroisPlCSgG} \\\\\\\\', '\\\\parlerViPrsTroisSgDPl & \\\\parlerViPrsTroisSgDPlP & \\\\blanc{\\\\parlerViPrsTroisSgDPlG} \\\\\\\\', '\\\\chercherVtPstTroisSgADu & \\\\chercherVtPstTroisSgADuP & \\\\blanc{\\\\chercherVtPstTroisSgADuG} \\\\\\\\', '\\\\passerViPstTroisPlBPl & \\\\passerViPstTroisPlBPlP & \\\\blanc{\\\\passerViPstTroisPlBPlG} \\\\\\\\', '\\\\chercherVtPstTroisPlDDu & \\\\chercherVtPstTroisPlDDuP & \\\\blanc{\\\\chercherVtPstTroisPlDDuG} \\\\\\\\', '\\\\devorerVtPstTroisPlCDu & \\\\devorerVtPstTroisPlCDuP & \\\\blanc{\\\\devorerVtPstTroisPlCDuG} \\\\\\\\', '\\\\prendreVtPstTroisPlCSg & \\\\prendreVtPstTroisPlCSgP & \\\\blanc{\\\\prendreVtPstTroisPlCSgG} \\\\\\\\', '\\\\tomberViPrsTroisSgDPl & \\\\tomberViPrsTroisSgDPlP & \\\\blanc{\\\\tomberViPrsTroisSgDPlG} \\\\\\\\', '\\\\etreVtPstTroisPlDPl & \\\\etreVtPstTroisPlDPlP & \\\\blanc{\\\\etreVtPstTroisPlDPlG} \\\\\\\\', '\\\\transformerVtPrsTroisPlBDu & \\\\transformerVtPrsTroisPlBDuP & \\\\blanc{\\\\transformerVtPrsTroisPlBDuG} \\\\\\\\', '\\\\pousserVtPstTroisDuDPl & \\\\pousserVtPstTroisDuDPlP & \\\\blanc{\\\\pousserVtPstTroisDuDPlG} \\\\\\\\', '\\\\rejoindreVtPstTroisPlDDu & \\\\rejoindreVtPstTroisPlDDuP & \\\\blanc{\\\\rejoindreVtPstTroisPlDDuG} \\\\\\\\', '\\\\tomberViPrsTroisSgCPl & \\\\tomberViPrsTroisSgCPlP & \\\\blanc{\\\\tomberViPrsTroisSgCPlG} \\\\\\\\', '\\\\courirViPrsTroisSgCSg & \\\\courirViPrsTroisSgCSgP & \\\\blanc{\\\\courirViPrsTroisSgCSgG} \\\\\\\\', '\\\\voirVtPrsTroisSgCSg & \\\\voirVtPrsTroisSgCSgP & \\\\blanc{\\\\voirVtPrsTroisSgCSgG} \\\\\\\\', '\\\\transformerVtPrsTroisDuDPl & \\\\transformerVtPrsTroisDuDPlP & \\\\blanc{\\\\transformerVtPrsTroisDuDPlG} \\\\\\\\', '\\\\rejoindreVtPstTroisPlBSg & \\\\rejoindreVtPstTroisPlBSgP & \\\\blanc{\\\\rejoindreVtPstTroisPlBSgG} \\\\\\\\', '\\\\allerViPrsTroisPlADu & \\\\allerViPrsTroisPlADuP & \\\\blanc{\\\\allerViPrsTroisPlADuG} \\\\\\\\', '\\\\tomberViPrsTroisPlDDu & \\\\tomberViPrsTroisPlDDuP & \\\\blanc{\\\\tomberViPrsTroisPlDDuG} \\\\\\\\', '\\\\planterVtPrsTroisDuBDu & \\\\planterVtPrsTroisDuBDuP & \\\\blanc{\\\\planterVtPrsTroisDuBDuG} \\\\\\\\', '\\\\tomberViPstTroisDuCDu & \\\\tomberViPstTroisDuCDuP & \\\\blanc{\\\\tomberViPstTroisDuCDuG} \\\\\\\\', '\\\\allerViPrsTroisPlBDu & \\\\allerViPrsTroisPlBDuP & \\\\blanc{\\\\allerViPrsTroisPlBDuG} \\\\\\\\', '\\\\envahirVtPrsTroisPlCDu & \\\\envahirVtPrsTroisPlCDuP & \\\\blanc{\\\\envahirVtPrsTroisPlCDuG} \\\\\\\\', '\\\\allerViPstTroisDuBDu & \\\\allerViPstTroisDuBDuP & \\\\blanc{\\\\allerViPstTroisDuBDuG} \\\\\\\\', '\\\\tomberViPstTroisSgAPl & \\\\tomberViPstTroisSgAPlP & \\\\blanc{\\\\tomberViPstTroisSgAPlG} \\\\\\\\', '\\\\transformerVtPrsTroisPlCSg & \\\\transformerVtPrsTroisPlCSgP & \\\\blanc{\\\\transformerVtPrsTroisPlCSgG} \\\\\\\\', '\\\\protegerVtPstTroisSgCPl & \\\\protegerVtPstTroisSgCPlP & \\\\blanc{\\\\protegerVtPstTroisSgCPlG} \\\\\\\\', '\\\\transformerVtPrsTroisDuBDu & \\\\transformerVtPrsTroisDuBDuP & \\\\blanc{\\\\transformerVtPrsTroisDuBDuG} \\\\\\\\', '\\\\donnerVdPrsTroisDuDPl & \\\\donnerVdPrsTroisDuDPlP & \\\\blanc{\\\\donnerVdPrsTroisDuDPlG} \\\\\\\\', '\\\\pousserVtPrsTroisSgCPl & \\\\pousserVtPrsTroisSgCPlP & \\\\blanc{\\\\pousserVtPrsTroisSgCPlG} \\\\\\\\', '\\\\parlerViPstTroisSgBPl & \\\\parlerViPstTroisSgBPlP & \\\\blanc{\\\\parlerViPstTroisSgBPlG} \\\\\\\\', '\\\\approcherViPstTroisSgDPl & \\\\approcherViPstTroisSgDPlP & \\\\blanc{\\\\approcherViPstTroisSgDPlG} \\\\\\\\', '\\\\recouvrirVtPrsTroisDuCDu & \\\\recouvrirVtPrsTroisDuCDuP & \\\\blanc{\\\\recouvrirVtPrsTroisDuCDuG} \\\\\\\\', '\\\\chasserVtPrsTroisPlBSg & \\\\chasserVtPrsTroisPlBSgP & \\\\blanc{\\\\chasserVtPrsTroisPlBSgG} \\\\\\\\', '\\\\voirVtPrsTroisDuADu & \\\\voirVtPrsTroisDuADuP & \\\\blanc{\\\\voirVtPrsTroisDuADuG} \\\\\\\\', '\\\\courirViPrsTroisPlDPl & \\\\courirViPrsTroisPlDPlP & \\\\blanc{\\\\courirViPrsTroisPlDPlG} \\\\\\\\', '\\\\passerViPstTroisDuDSg & \\\\passerViPstTroisDuDSgP & \\\\blanc{\\\\passerViPstTroisDuDSgG} \\\\\\\\', '\\\\sortirViPstTroisSgCDu & \\\\sortirViPstTroisSgCDuP & \\\\blanc{\\\\sortirViPstTroisSgCDuG} \\\\\\\\', '\\\\allerViPstTroisSgAPl & \\\\allerViPstTroisSgAPlP & \\\\blanc{\\\\allerViPstTroisSgAPlG} \\\\\\\\', '\\\\approcherViPstTroisSgDDu & \\\\approcherViPstTroisSgDDuP & \\\\blanc{\\\\approcherViPstTroisSgDDuG} \\\\\\\\', '\\\\jeterVtPstTroisDuADu & \\\\jeterVtPstTroisDuADuP & \\\\blanc{\\\\jeterVtPstTroisDuADuG} \\\\\\\\', '\\\\devorerVtPrsTroisSgCPl & \\\\devorerVtPrsTroisSgCPlP & \\\\blanc{\\\\devorerVtPrsTroisSgCPlG} \\\\\\\\', '\\\\parlerViPrsTroisSgCPl & \\\\parlerViPrsTroisSgCPlP & \\\\blanc{\\\\parlerViPrsTroisSgCPlG} \\\\\\\\', '\\\\devorerVtPstTroisDuDSg & \\\\devorerVtPstTroisDuDSgP & \\\\blanc{\\\\devorerVtPstTroisDuDSgG} \\\\\\\\', '\\\\fuirViPstTroisDuBSg & \\\\fuirViPstTroisDuBSgP & \\\\blanc{\\\\fuirViPstTroisDuBSgG} \\\\\\\\', '\\\\chasserVtPrsTroisSgBPl & \\\\chasserVtPrsTroisSgBPlP & \\\\blanc{\\\\chasserVtPrsTroisSgBPlG} \\\\\\\\', '\\\\transpercerVtPrsTroisSgDDu & \\\\transpercerVtPrsTroisSgDDuP & \\\\blanc{\\\\transpercerVtPrsTroisSgDDuG} \\\\\\\\', '\\\\courirViPstTroisSgBSg & \\\\courirViPstTroisSgBSgP & \\\\blanc{\\\\courirViPstTroisSgBSgG} \\\\\\\\', '\\\\etreVtPstTroisSgADu & \\\\etreVtPstTroisSgADuP & \\\\blanc{\\\\etreVtPstTroisSgADuG} \\\\\\\\', '\\\\tomberViPstTroisSgBPl & \\\\tomberViPstTroisSgBPlP & \\\\blanc{\\\\tomberViPstTroisSgBPlG} \\\\\\\\', '\\\\rejoindreVtPrsTroisPlDSg & \\\\rejoindreVtPrsTroisPlDSgP & \\\\blanc{\\\\rejoindreVtPrsTroisPlDSgG} \\\\\\\\', '\\\\approcherViPrsTroisSgADu & \\\\approcherViPrsTroisSgADuP & \\\\blanc{\\\\approcherViPrsTroisSgADuG} \\\\\\\\', '\\\\allerViPstTroisPlDDu & \\\\allerViPstTroisPlDDuP & \\\\blanc{\\\\allerViPstTroisPlDDuG} \\\\\\\\', '\\\\voirVtPstTroisDuBPl & \\\\voirVtPstTroisDuBPlP & \\\\blanc{\\\\voirVtPstTroisDuBPlG} \\\\\\\\', '\\\\fuirViPrsTroisPlAPl & \\\\fuirViPrsTroisPlAPlP & \\\\blanc{\\\\fuirViPrsTroisPlAPlG} \\\\\\\\', '\\\\etreVtPrsTroisDuDDu & \\\\etreVtPrsTroisDuDDuP & \\\\blanc{\\\\etreVtPrsTroisDuDDuG} \\\\\\\\', '\\\\envahirVtPrsTroisDuDPl & \\\\envahirVtPrsTroisDuDPlP & \\\\blanc{\\\\envahirVtPrsTroisDuDPlG} \\\\\\\\', '\\\\etreVtPstTroisSgASg & \\\\etreVtPstTroisSgASgP & \\\\blanc{\\\\etreVtPstTroisSgASgG} \\\\\\\\', '\\\\pousserVtPstTroisSgASg & \\\\pousserVtPstTroisSgASgP & \\\\blanc{\\\\pousserVtPstTroisSgASgG} \\\\\\\\', '\\\\planterVtPstTroisDuCDu & \\\\planterVtPstTroisDuCDuP & \\\\blanc{\\\\planterVtPstTroisDuCDuG} \\\\\\\\', '\\\\chasserVtPrsTroisDuCSg & \\\\chasserVtPrsTroisDuCSgP & \\\\blanc{\\\\chasserVtPrsTroisDuCSgG} \\\\\\\\', '\\\\allerViPstTroisDuBSg & \\\\allerViPstTroisDuBSgP & \\\\blanc{\\\\allerViPstTroisDuBSgG} \\\\\\\\', '\\\\protegerVtPstTroisPlDDu & \\\\protegerVtPstTroisPlDDuP & \\\\blanc{\\\\protegerVtPstTroisPlDDuG} \\\\\\\\', '\\\\transformerVtPstTroisDuDDu & \\\\transformerVtPstTroisDuDDuP & \\\\blanc{\\\\transformerVtPstTroisDuDDuG} \\\\\\\\', '\\\\pousserVtPstTroisDuDDu & \\\\pousserVtPstTroisDuDDuP & \\\\blanc{\\\\pousserVtPstTroisDuDDuG} \\\\\\\\', '\\\\protegerVtPstTroisSgADu & \\\\protegerVtPstTroisSgADuP & \\\\blanc{\\\\protegerVtPstTroisSgADuG} \\\\\\\\', '\\\\sortirViPstTroisSgADu & \\\\sortirViPstTroisSgADuP & \\\\blanc{\\\\sortirViPstTroisSgADuG} \\\\\\\\', '\\\\parlerViPrsTroisDuBPl & \\\\parlerViPrsTroisDuBPlP & \\\\blanc{\\\\parlerViPrsTroisDuBPlG} \\\\\\\\', '\\\\rejoindreVtPstTroisSgASg & \\\\rejoindreVtPstTroisSgASgP & \\\\blanc{\\\\rejoindreVtPstTroisSgASgG} \\\\\\\\', '\\\\apporterVdPstTroisPlBSg & \\\\apporterVdPstTroisPlBSgP & \\\\blanc{\\\\apporterVdPstTroisPlBSgG} \\\\\\\\', '\\\\fuirViPstTroisPlCPl & \\\\fuirViPstTroisPlCPlP & \\\\blanc{\\\\fuirViPstTroisPlCPlG} \\\\\\\\', '\\\\protegerVtPstTroisSgBDu & \\\\protegerVtPstTroisSgBDuP & \\\\blanc{\\\\protegerVtPstTroisSgBDuG} \\\\\\\\', '\\\\courirViPstTroisSgDPl & \\\\courirViPstTroisSgDPlP & \\\\blanc{\\\\courirViPstTroisSgDPlG} \\\\\\\\', '\\\\parlerViPrsTroisSgBSg & \\\\parlerViPrsTroisSgBSgP & \\\\blanc{\\\\parlerViPrsTroisSgBSgG} \\\\\\\\', '\\\\disparaitreViPstTroisDuBDu & \\\\disparaitreViPstTroisDuBDuP & \\\\blanc{\\\\disparaitreViPstTroisDuBDuG} \\\\\\\\', '\\\\pousserVtPstTroisPlBDu & \\\\pousserVtPstTroisPlBDuP & \\\\blanc{\\\\pousserVtPstTroisPlBDuG} \\\\\\\\', '\\\\jeterVtPstTroisDuDPl & \\\\jeterVtPstTroisDuDPlP & \\\\blanc{\\\\jeterVtPstTroisDuDPlG} \\\\\\\\', '\\\\prendreVtPstTroisDuBDu & \\\\prendreVtPstTroisDuBDuP & \\\\blanc{\\\\prendreVtPstTroisDuBDuG} \\\\\\\\', '\\\\rejoindreVtPrsTroisDuASg & \\\\rejoindreVtPrsTroisDuASgP & \\\\blanc{\\\\rejoindreVtPrsTroisDuASgG} \\\\\\\\', '\\\\recouvrirVtPrsTroisDuDSg & \\\\recouvrirVtPrsTroisDuDSgP & \\\\blanc{\\\\recouvrirVtPrsTroisDuDSgG} \\\\\\\\', '\\\\protegerVtPrsTroisDuDPl & \\\\protegerVtPrsTroisDuDPlP & \\\\blanc{\\\\protegerVtPrsTroisDuDPlG} \\\\\\\\', '\\\\sortirViPrsTroisSgCDu & \\\\sortirViPrsTroisSgCDuP & \\\\blanc{\\\\sortirViPrsTroisSgCDuG} \\\\\\\\', '\\\\chercherVtPstTroisDuCPl & \\\\chercherVtPstTroisDuCPlP & \\\\blanc{\\\\chercherVtPstTroisDuCPlG} \\\\\\\\', '\\\\planterVtPrsTroisSgAPl & \\\\planterVtPrsTroisSgAPlP & \\\\blanc{\\\\planterVtPrsTroisSgAPlG} \\\\\\\\', '\\\\pousserVtPrsTroisDuDSg & \\\\pousserVtPrsTroisDuDSgP & \\\\blanc{\\\\pousserVtPrsTroisDuDSgG} \\\\\\\\', '\\\\chasserVtPstTroisSgDPl & \\\\chasserVtPstTroisSgDPlP & \\\\blanc{\\\\chasserVtPstTroisSgDPlG} \\\\\\\\', '\\\\chasserVtPstTroisDuCPl & \\\\chasserVtPstTroisDuCPlP & \\\\blanc{\\\\chasserVtPstTroisDuCPlG} \\\\\\\\', '\\\\tomberViPstTroisDuDSg & \\\\tomberViPstTroisDuDSgP & \\\\blanc{\\\\tomberViPstTroisDuDSgG} \\\\\\\\', '\\\\planterVtPrsTroisDuBPl & \\\\planterVtPrsTroisDuBPlP & \\\\blanc{\\\\planterVtPrsTroisDuBPlG} \\\\\\\\', '\\\\tomberViPstTroisPlDSg & \\\\tomberViPstTroisPlDSgP & \\\\blanc{\\\\tomberViPstTroisPlDSgG} \\\\\\\\', '\\\\chasserVtPstTroisDuBPl & \\\\chasserVtPstTroisDuBPlP & \\\\blanc{\\\\chasserVtPstTroisDuBPlG} \\\\\\\\', '\\\\devorerVtPrsTroisSgBPl & \\\\devorerVtPrsTroisSgBPlP & \\\\blanc{\\\\devorerVtPrsTroisSgBPlG} \\\\\\\\', '\\\\rejoindreVtPrsTroisPlCPl & \\\\rejoindreVtPrsTroisPlCPlP & \\\\blanc{\\\\rejoindreVtPrsTroisPlCPlG} \\\\\\\\', '\\\\chasserVtPstTroisSgBSg & \\\\chasserVtPstTroisSgBSgP & \\\\blanc{\\\\chasserVtPstTroisSgBSgG} \\\\\\\\', '\\\\rejoindreVtPstTroisPlASg & \\\\rejoindreVtPstTroisPlASgP & \\\\blanc{\\\\rejoindreVtPstTroisPlASgG} \\\\\\\\', '\\\\sauterViPrsTroisDuBPl & \\\\sauterViPrsTroisDuBPlP & \\\\blanc{\\\\sauterViPrsTroisDuBPlG} \\\\\\\\', '\\\\protegerVtPstTroisSgBPl & \\\\protegerVtPstTroisSgBPlP & \\\\blanc{\\\\protegerVtPstTroisSgBPlG} \\\\\\\\', '\\\\sauterViPrsTroisSgCSg & \\\\sauterViPrsTroisSgCSgP & \\\\blanc{\\\\sauterViPrsTroisSgCSgG} \\\\\\\\', '\\\\envahirVtPrsTroisSgBSg & \\\\envahirVtPrsTroisSgBSgP & \\\\blanc{\\\\envahirVtPrsTroisSgBSgG} \\\\\\\\', '\\\\transpercerVtPrsTroisSgCSg & \\\\transpercerVtPrsTroisSgCSgP & \\\\blanc{\\\\transpercerVtPrsTroisSgCSgG} \\\\\\\\', '\\\\approcherViPstTroisDuCSg & \\\\approcherViPstTroisDuCSgP & \\\\blanc{\\\\approcherViPstTroisDuCSgG} \\\\\\\\', '\\\\planterVtPstTroisPlDSg & \\\\planterVtPstTroisPlDSgP & \\\\blanc{\\\\planterVtPstTroisPlDSgG} \\\\\\\\', '\\\\rejoindreVtPstTroisPlAPl & \\\\rejoindreVtPstTroisPlAPlP & \\\\blanc{\\\\rejoindreVtPstTroisPlAPlG} \\\\\\\\', '\\\\parlerViPrsTroisDuDPl & \\\\parlerViPrsTroisDuDPlP & \\\\blanc{\\\\parlerViPrsTroisDuDPlG} \\\\\\\\', '\\\\transpercerVtPrsTroisSgBPl & \\\\transpercerVtPrsTroisSgBPlP & \\\\blanc{\\\\transpercerVtPrsTroisSgBPlG} \\\\\\\\', '\\\\apporterVdPstTroisDuDDu & \\\\apporterVdPstTroisDuDDuP & \\\\blanc{\\\\apporterVdPstTroisDuDDuG} \\\\\\\\', '\\\\protegerVtPrsTroisDuBSg & \\\\protegerVtPrsTroisDuBSgP & \\\\blanc{\\\\protegerVtPrsTroisDuBSgG} \\\\\\\\', '\\\\devorerVtPstTroisSgDPl & \\\\devorerVtPstTroisSgDPlP & \\\\blanc{\\\\devorerVtPstTroisSgDPlG} \\\\\\\\', '\\\\transpercerVtPrsTroisDuBSg & \\\\transpercerVtPrsTroisDuBSgP & \\\\blanc{\\\\transpercerVtPrsTroisDuBSgG} \\\\\\\\', '\\\\approcherViPrsTroisDuCDu & \\\\approcherViPrsTroisDuCDuP & \\\\blanc{\\\\approcherViPrsTroisDuCDuG} \\\\\\\\', '\\\\transformerVtPstTroisDuBPl & \\\\transformerVtPstTroisDuBPlP & \\\\blanc{\\\\transformerVtPstTroisDuBPlG} \\\\\\\\', '\\\\courirViPrsTroisPlADu & \\\\courirViPrsTroisPlADuP & \\\\blanc{\\\\courirViPrsTroisPlADuG} \\\\\\\\', '\\\\chercherVtPstTroisPlBPl & \\\\chercherVtPstTroisPlBPlP & \\\\blanc{\\\\chercherVtPstTroisPlBPlG} \\\\\\\\', '\\\\passerViPstTroisPlASg & \\\\passerViPstTroisPlASgP & \\\\blanc{\\\\passerViPstTroisPlASgG} \\\\\\\\', '\\\\sauterViPrsTroisPlASg & \\\\sauterViPrsTroisPlASgP & \\\\blanc{\\\\sauterViPrsTroisPlASgG} \\\\\\\\', '\\\\passerViPrsTroisPlAPl & \\\\passerViPrsTroisPlAPlP & \\\\blanc{\\\\passerViPrsTroisPlAPlG} \\\\\\\\', '\\\\planterVtPstTroisSgDDu & \\\\planterVtPstTroisSgDDuP & \\\\blanc{\\\\planterVtPstTroisSgDDuG} \\\\\\\\', '\\\\planterVtPstTroisPlDPl & \\\\planterVtPstTroisPlDPlP & \\\\blanc{\\\\planterVtPstTroisPlDPlG} \\\\\\\\', '\\\\fuirViPrsTroisDuASg & \\\\fuirViPrsTroisDuASgP & \\\\blanc{\\\\fuirViPrsTroisDuASgG} \\\\\\\\', '\\\\transpercerVtPstTroisDuBDu & \\\\transpercerVtPstTroisDuBDuP & \\\\blanc{\\\\transpercerVtPstTroisDuBDuG} \\\\\\\\', '\\\\pousserVtPrsTroisDuBDu & \\\\pousserVtPrsTroisDuBDuP & \\\\blanc{\\\\pousserVtPrsTroisDuBDuG} \\\\\\\\', '\\\\voirVtPrsTroisPlAPl & \\\\voirVtPrsTroisPlAPlP & \\\\blanc{\\\\voirVtPrsTroisPlAPlG} \\\\\\\\', '\\\\chercherVtPrsTroisSgBPl & \\\\chercherVtPrsTroisSgBPlP & \\\\blanc{\\\\chercherVtPrsTroisSgBPlG} \\\\\\\\', '\\\\parlerViPstTroisSgASg & \\\\parlerViPstTroisSgASgP & \\\\blanc{\\\\parlerViPstTroisSgASgG} \\\\\\\\', '\\\\allerViPstTroisPlCDu & \\\\allerViPstTroisPlCDuP & \\\\blanc{\\\\allerViPstTroisPlCDuG} \\\\\\\\', '\\\\transpercerVtPstTroisPlASg & \\\\transpercerVtPstTroisPlASgP & \\\\blanc{\\\\transpercerVtPstTroisPlASgG} \\\\\\\\', '\\\\parlerViPrsTroisSgBPl & \\\\parlerViPrsTroisSgBPlP & \\\\blanc{\\\\parlerViPrsTroisSgBPlG} \\\\\\\\', '\\\\courirViPrsTroisDuAPl & \\\\courirViPrsTroisDuAPlP & \\\\blanc{\\\\courirViPrsTroisDuAPlG} \\\\\\\\', '\\\\devorerVtPstTroisPlBSg & \\\\devorerVtPstTroisPlBSgP & \\\\blanc{\\\\devorerVtPstTroisPlBSgG} \\\\\\\\', '\\\\devorerVtPrsTroisSgCSg & \\\\devorerVtPrsTroisSgCSgP & \\\\blanc{\\\\devorerVtPrsTroisSgCSgG} \\\\\\\\', '\\\\voirVtPstTroisDuCPl & \\\\voirVtPstTroisDuCPlP & \\\\blanc{\\\\voirVtPstTroisDuCPlG} \\\\\\\\', '\\\\courirViPstTroisSgBDu & \\\\courirViPstTroisSgBDuP & \\\\blanc{\\\\courirViPstTroisSgBDuG} \\\\\\\\', '\\\\allerViPrsTroisDuDPl & \\\\allerViPrsTroisDuDPlP & \\\\blanc{\\\\allerViPrsTroisDuDPlG} \\\\\\\\', '\\\\sauterViPstTroisSgCSg & \\\\sauterViPstTroisSgCSgP & \\\\blanc{\\\\sauterViPstTroisSgCSgG} \\\\\\\\', '\\\\transformerVtPrsTroisSgCSg & \\\\transformerVtPrsTroisSgCSgP & \\\\blanc{\\\\transformerVtPrsTroisSgCSgG} \\\\\\\\', '\\\\transformerVtPstTroisSgCDu & \\\\transformerVtPstTroisSgCDuP & \\\\blanc{\\\\transformerVtPstTroisSgCDuG} \\\\\\\\', '\\\\allerViPrsTroisSgBPl & \\\\allerViPrsTroisSgBPlP & \\\\blanc{\\\\allerViPrsTroisSgBPlG} \\\\\\\\', '\\\\prendreVtPstTroisDuCPl & \\\\prendreVtPstTroisDuCPlP & \\\\blanc{\\\\prendreVtPstTroisDuCPlG} \\\\\\\\', '\\\\rejoindreVtPrsTroisDuADu & \\\\rejoindreVtPrsTroisDuADuP & \\\\blanc{\\\\rejoindreVtPrsTroisDuADuG} \\\\\\\\', '\\\\tomberViPstTroisPlCDu & \\\\tomberViPstTroisPlCDuP & \\\\blanc{\\\\tomberViPstTroisPlCDuG} \\\\\\\\', '\\\\donnerVdPstTroisSgASg & \\\\donnerVdPstTroisSgASgP & \\\\blanc{\\\\donnerVdPstTroisSgASgG} \\\\\\\\', '\\\\apporterVdPrsTroisDuDSg & \\\\apporterVdPrsTroisDuDSgP & \\\\blanc{\\\\apporterVdPrsTroisDuDSgG} \\\\\\\\', '\\\\courirViPrsTroisDuDSg & \\\\courirViPrsTroisDuDSgP & \\\\blanc{\\\\courirViPrsTroisDuDSgG} \\\\\\\\', '\\\\apporterVdPstTroisPlCDu & \\\\apporterVdPstTroisPlCDuP & \\\\blanc{\\\\apporterVdPstTroisPlCDuG} \\\\\\\\', '\\\\apporterVdPstTroisPlDDu & \\\\apporterVdPstTroisPlDDuP & \\\\blanc{\\\\apporterVdPstTroisPlDDuG} \\\\\\\\', '\\\\planterVtPstTroisDuBDu & \\\\planterVtPstTroisDuBDuP & \\\\blanc{\\\\planterVtPstTroisDuBDuG} \\\\\\\\', '\\\\envahirVtPrsTroisSgDPl & \\\\envahirVtPrsTroisSgDPlP & \\\\blanc{\\\\envahirVtPrsTroisSgDPlG} \\\\\\\\', '\\\\chasserVtPrsTroisDuDPl & \\\\chasserVtPrsTroisDuDPlP & \\\\blanc{\\\\chasserVtPrsTroisDuDPlG} \\\\\\\\', '\\\\protegerVtPrsTroisPlDPl & \\\\protegerVtPrsTroisPlDPlP & \\\\blanc{\\\\protegerVtPrsTroisPlDPlG} \\\\\\\\', '\\\\jeterVtPstTroisDuAPl & \\\\jeterVtPstTroisDuAPlP & \\\\blanc{\\\\jeterVtPstTroisDuAPlG} \\\\\\\\', '\\\\approcherViPrsTroisSgCDu & \\\\approcherViPrsTroisSgCDuP & \\\\blanc{\\\\approcherViPrsTroisSgCDuG} \\\\\\\\', '\\\\allerViPstTroisSgADu & \\\\allerViPstTroisSgADuP & \\\\blanc{\\\\allerViPstTroisSgADuG} \\\\\\\\', '\\\\sortirViPstTroisSgCPl & \\\\sortirViPstTroisSgCPlP & \\\\blanc{\\\\sortirViPstTroisSgCPlG} \\\\\\\\', '\\\\rejoindreVtPrsTroisDuDSg & \\\\rejoindreVtPrsTroisDuDSgP & \\\\blanc{\\\\rejoindreVtPrsTroisDuDSgG} \\\\\\\\', '\\\\fuirViPstTroisSgADu & \\\\fuirViPstTroisSgADuP & \\\\blanc{\\\\fuirViPstTroisSgADuG} \\\\\\\\', '\\\\planterVtPrsTroisPlDSg & \\\\planterVtPrsTroisPlDSgP & \\\\blanc{\\\\planterVtPrsTroisPlDSgG} \\\\\\\\', '\\\\recouvrirVtPrsTroisSgADu & \\\\recouvrirVtPrsTroisSgADuP & \\\\blanc{\\\\recouvrirVtPrsTroisSgADuG} \\\\\\\\', '\\\\chasserVtPstTroisPlBPl & \\\\chasserVtPstTroisPlBPlP & \\\\blanc{\\\\chasserVtPstTroisPlBPlG} \\\\\\\\', '\\\\donnerVdPstTroisDuDPl & \\\\donnerVdPstTroisDuDPlP & \\\\blanc{\\\\donnerVdPstTroisDuDPlG} \\\\\\\\', '\\\\disparaitreViPrsTroisDuBPl & \\\\disparaitreViPrsTroisDuBPlP & \\\\blanc{\\\\disparaitreViPrsTroisDuBPlG} \\\\\\\\', '\\\\chercherVtPstTroisPlAPl & \\\\chercherVtPstTroisPlAPlP & \\\\blanc{\\\\chercherVtPstTroisPlAPlG} \\\\\\\\', '\\\\donnerVdPstTroisSgAPl & \\\\donnerVdPstTroisSgAPlP & \\\\blanc{\\\\donnerVdPstTroisSgAPlG} \\\\\\\\', '\\\\allerViPstTroisPlDSg & \\\\allerViPstTroisPlDSgP & \\\\blanc{\\\\allerViPstTroisPlDSgG} \\\\\\\\', '\\\\envahirVtPstTroisPlBSg & \\\\envahirVtPstTroisPlBSgP & \\\\blanc{\\\\envahirVtPstTroisPlBSgG} \\\\\\\\', '\\\\approcherViPrsTroisSgDDu & \\\\approcherViPrsTroisSgDDuP & \\\\blanc{\\\\approcherViPrsTroisSgDDuG} \\\\\\\\', '\\\\sortirViPrsTroisPlDSg & \\\\sortirViPrsTroisPlDSgP & \\\\blanc{\\\\sortirViPrsTroisPlDSgG} \\\\\\\\', '\\\\passerViPrsTroisSgAPl & \\\\passerViPrsTroisSgAPlP & \\\\blanc{\\\\passerViPrsTroisSgAPlG} \\\\\\\\', '\\\\parlerViPstTroisDuBPl & \\\\parlerViPstTroisDuBPlP & \\\\blanc{\\\\parlerViPstTroisDuBPlG} \\\\\\\\', '\\\\envahirVtPrsTroisSgDDu & \\\\envahirVtPrsTroisSgDDuP & \\\\blanc{\\\\envahirVtPrsTroisSgDDuG} \\\\\\\\', '\\\\chasserVtPstTroisDuCDu & \\\\chasserVtPstTroisDuCDuP & \\\\blanc{\\\\chasserVtPstTroisDuCDuG} \\\\\\\\', '\\\\envahirVtPstTroisSgBSg & \\\\envahirVtPstTroisSgBSgP & \\\\blanc{\\\\envahirVtPstTroisSgBSgG} \\\\\\\\', '\\\\devorerVtPrsTroisSgDPl & \\\\devorerVtPrsTroisSgDPlP & \\\\blanc{\\\\devorerVtPrsTroisSgDPlG} \\\\\\\\', '\\\\jeterVtPstTroisPlCPl & \\\\jeterVtPstTroisPlCPlP & \\\\blanc{\\\\jeterVtPstTroisPlCPlG} \\\\\\\\', '\\\\passerViPstTroisSgCSg & \\\\passerViPstTroisSgCSgP & \\\\blanc{\\\\passerViPstTroisSgCSgG} \\\\\\\\', '\\\\planterVtPrsTroisPlASg & \\\\planterVtPrsTroisPlASgP & \\\\blanc{\\\\planterVtPrsTroisPlASgG} \\\\\\\\', '\\\\planterVtPstTroisDuCSg & \\\\planterVtPstTroisDuCSgP & \\\\blanc{\\\\planterVtPstTroisDuCSgG} \\\\\\\\', '\\\\prendreVtPstTroisPlADu & \\\\prendreVtPstTroisPlADuP & \\\\blanc{\\\\prendreVtPstTroisPlADuG} \\\\\\\\', '\\\\etreVtPrsTroisDuDSg & \\\\etreVtPrsTroisDuDSgP & \\\\blanc{\\\\etreVtPrsTroisDuDSgG} \\\\\\\\', '\\\\rejoindreVtPrsTroisPlAPl & \\\\rejoindreVtPrsTroisPlAPlP & \\\\blanc{\\\\rejoindreVtPrsTroisPlAPlG} \\\\\\\\', '\\\\donnerVdPrsTroisPlDPl & \\\\donnerVdPrsTroisPlDPlP & \\\\blanc{\\\\donnerVdPrsTroisPlDPlG} \\\\\\\\', '\\\\transpercerVtPrsTroisPlAPl & \\\\transpercerVtPrsTroisPlAPlP & \\\\blanc{\\\\transpercerVtPrsTroisPlAPlG} \\\\\\\\', '\\\\apporterVdPrsTroisDuDPl & \\\\apporterVdPrsTroisDuDPlP & \\\\blanc{\\\\apporterVdPrsTroisDuDPlG} \\\\\\\\', '\\\\transformerVtPrsTroisDuBPl & \\\\transformerVtPrsTroisDuBPlP & \\\\blanc{\\\\transformerVtPrsTroisDuBPlG} \\\\\\\\', '\\\\allerViPrsTroisPlDPl & \\\\allerViPrsTroisPlDPlP & \\\\blanc{\\\\allerViPrsTroisPlDPlG} \\\\\\\\', '\\\\etreVtPstTroisDuADu & \\\\etreVtPstTroisDuADuP & \\\\blanc{\\\\etreVtPstTroisDuADuG} \\\\\\\\', '\\\\passerViPrsTroisSgCSg & \\\\passerViPrsTroisSgCSgP & \\\\blanc{\\\\passerViPrsTroisSgCSgG} \\\\\\\\', '\\\\transpercerVtPstTroisSgCPl & \\\\transpercerVtPstTroisSgCPlP & \\\\blanc{\\\\transpercerVtPstTroisSgCPlG} \\\\\\\\', '\\\\approcherViPrsTroisSgDSg & \\\\approcherViPrsTroisSgDSgP & \\\\blanc{\\\\approcherViPrsTroisSgDSgG} \\\\\\\\', '\\\\apporterVdPrsTroisDuCSg & \\\\apporterVdPrsTroisDuCSgP & \\\\blanc{\\\\apporterVdPrsTroisDuCSgG} \\\\\\\\', '\\\\devorerVtPstTroisSgBPl & \\\\devorerVtPstTroisSgBPlP & \\\\blanc{\\\\devorerVtPstTroisSgBPlG} \\\\\\\\', '\\\\sortirViPstTroisSgBDu & \\\\sortirViPstTroisSgBDuP & \\\\blanc{\\\\sortirViPstTroisSgBDuG} \\\\\\\\', '\\\\courirViPstTroisDuADu & \\\\courirViPstTroisDuADuP & \\\\blanc{\\\\courirViPstTroisDuADuG} \\\\\\\\', '\\\\rejoindreVtPstTroisDuDSg & \\\\rejoindreVtPstTroisDuDSgP & \\\\blanc{\\\\rejoindreVtPstTroisDuDSgG} \\\\\\\\', '\\\\sauterViPstTroisSgDSg & \\\\sauterViPstTroisSgDSgP & \\\\blanc{\\\\sauterViPstTroisSgDSgG} \\\\\\\\', '\\\\sortirViPstTroisDuADu & \\\\sortirViPstTroisDuADuP & \\\\blanc{\\\\sortirViPstTroisDuADuG} \\\\\\\\', '\\\\recouvrirVtPstTroisPlASg & \\\\recouvrirVtPstTroisPlASgP & \\\\blanc{\\\\recouvrirVtPstTroisPlASgG} \\\\\\\\', '\\\\prendreVtPstTroisDuCDu & \\\\prendreVtPstTroisDuCDuP & \\\\blanc{\\\\prendreVtPstTroisDuCDuG} \\\\\\\\', '\\\\jeterVtPrsTroisPlCDu & \\\\jeterVtPrsTroisPlCDuP & \\\\blanc{\\\\jeterVtPrsTroisPlCDuG} \\\\\\\\', '\\\\donnerVdPrsTroisPlCPl & \\\\donnerVdPrsTroisPlCPlP & \\\\blanc{\\\\donnerVdPrsTroisPlCPlG} \\\\\\\\', '\\\\etreVtPstTroisPlDDu & \\\\etreVtPstTroisPlDDuP & \\\\blanc{\\\\etreVtPstTroisPlDDuG} \\\\\\\\', '\\\\sortirViPstTroisDuDSg & \\\\sortirViPstTroisDuDSgP & \\\\blanc{\\\\sortirViPstTroisDuDSgG} \\\\\\\\', '\\\\disparaitreViPrsTroisSgCPl & \\\\disparaitreViPrsTroisSgCPlP & \\\\blanc{\\\\disparaitreViPrsTroisSgCPlG} \\\\\\\\', '\\\\pousserVtPrsTroisDuBPl & \\\\pousserVtPrsTroisDuBPlP & \\\\blanc{\\\\pousserVtPrsTroisDuBPlG} \\\\\\\\', '\\\\envahirVtPstTroisDuCPl & \\\\envahirVtPstTroisDuCPlP & \\\\blanc{\\\\envahirVtPstTroisDuCPlG} \\\\\\\\', '\\\\approcherViPrsTroisPlAPl & \\\\approcherViPrsTroisPlAPlP & \\\\blanc{\\\\approcherViPrsTroisPlAPlG} \\\\\\\\', '\\\\fuirViPrsTroisSgCDu & \\\\fuirViPrsTroisSgCDuP & \\\\blanc{\\\\fuirViPrsTroisSgCDuG} \\\\\\\\', '\\\\allerViPstTroisDuADu & \\\\allerViPstTroisDuADuP & \\\\blanc{\\\\allerViPstTroisDuADuG} \\\\\\\\', '\\\\chercherVtPstTroisSgDPl & \\\\chercherVtPstTroisSgDPlP & \\\\blanc{\\\\chercherVtPstTroisSgDPlG} \\\\\\\\', '\\\\chercherVtPrsTroisSgDSg & \\\\chercherVtPrsTroisSgDSgP & \\\\blanc{\\\\chercherVtPrsTroisSgDSgG} \\\\\\\\', '\\\\rejoindreVtPstTroisPlCSg & \\\\rejoindreVtPstTroisPlCSgP & \\\\blanc{\\\\rejoindreVtPstTroisPlCSgG} \\\\\\\\', '\\\\jeterVtPrsTroisSgCDu & \\\\jeterVtPrsTroisSgCDuP & \\\\blanc{\\\\jeterVtPrsTroisSgCDuG} \\\\\\\\', '\\\\sortirViPstTroisDuDDu & \\\\sortirViPstTroisDuDDuP & \\\\blanc{\\\\sortirViPstTroisDuDDuG} \\\\\\\\', '\\\\apporterVdPstTroisDuCPl & \\\\apporterVdPstTroisDuCPlP & \\\\blanc{\\\\apporterVdPstTroisDuCPlG} \\\\\\\\', '\\\\etreVtPrsTroisSgBSg & \\\\etreVtPrsTroisSgBSgP & \\\\blanc{\\\\etreVtPrsTroisSgBSgG} \\\\\\\\', '\\\\passerViPstTroisDuBPl & \\\\passerViPstTroisDuBPlP & \\\\blanc{\\\\passerViPstTroisDuBPlG} \\\\\\\\', '\\\\protegerVtPrsTroisDuADu & \\\\protegerVtPrsTroisDuADuP & \\\\blanc{\\\\protegerVtPrsTroisDuADuG} \\\\\\\\', '\\\\apporterVdPstTroisPlAPl & \\\\apporterVdPstTroisPlAPlP & \\\\blanc{\\\\apporterVdPstTroisPlAPlG} \\\\\\\\', '\\\\transformerVtPstTroisPlDSg & \\\\transformerVtPstTroisPlDSgP & \\\\blanc{\\\\transformerVtPstTroisPlDSgG} \\\\\\\\', '\\\\donnerVdPstTroisDuAPl & \\\\donnerVdPstTroisDuAPlP & \\\\blanc{\\\\donnerVdPstTroisDuAPlG} \\\\\\\\', '\\\\recouvrirVtPrsTroisPlBSg & \\\\recouvrirVtPrsTroisPlBSgP & \\\\blanc{\\\\recouvrirVtPrsTroisPlBSgG} \\\\\\\\', '\\\\etreVtPrsTroisPlCPl & \\\\etreVtPrsTroisPlCPlP & \\\\blanc{\\\\etreVtPrsTroisPlCPlG} \\\\\\\\', '\\\\donnerVdPstTroisPlCSg & \\\\donnerVdPstTroisPlCSgP & \\\\blanc{\\\\donnerVdPstTroisPlCSgG} \\\\\\\\', '\\\\disparaitreViPrsTroisPlAPl & \\\\disparaitreViPrsTroisPlAPlP & \\\\blanc{\\\\disparaitreViPrsTroisPlAPlG} \\\\\\\\', '\\\\etreVtPstTroisPlCDu & \\\\etreVtPstTroisPlCDuP & \\\\blanc{\\\\etreVtPstTroisPlCDuG} \\\\\\\\', '\\\\pousserVtPrsTroisPlCPl & \\\\pousserVtPrsTroisPlCPlP & \\\\blanc{\\\\pousserVtPrsTroisPlCPlG} \\\\\\\\', '\\\\transformerVtPrsTroisSgDSg & \\\\transformerVtPrsTroisSgDSgP & \\\\blanc{\\\\transformerVtPrsTroisSgDSgG} \\\\\\\\', '\\\\sortirViPstTroisSgDDu & \\\\sortirViPstTroisSgDDuP & \\\\blanc{\\\\sortirViPstTroisSgDDuG} \\\\\\\\', '\\\\sortirViPstTroisPlASg & \\\\sortirViPstTroisPlASgP & \\\\blanc{\\\\sortirViPstTroisPlASgG} \\\\\\\\', '\\\\pousserVtPstTroisPlADu & \\\\pousserVtPstTroisPlADuP & \\\\blanc{\\\\pousserVtPstTroisPlADuG} \\\\\\\\', '\\\\parlerViPstTroisSgDPl & \\\\parlerViPstTroisSgDPlP & \\\\blanc{\\\\parlerViPstTroisSgDPlG} \\\\\\\\', '\\\\planterVtPstTroisPlCSg & \\\\planterVtPstTroisPlCSgP & \\\\blanc{\\\\planterVtPstTroisPlCSgG} \\\\\\\\', '\\\\jeterVtPrsTroisSgCSg & \\\\jeterVtPrsTroisSgCSgP & \\\\blanc{\\\\jeterVtPrsTroisSgCSgG} \\\\\\\\', '\\\\jeterVtPstTroisSgCPl & \\\\jeterVtPstTroisSgCPlP & \\\\blanc{\\\\jeterVtPstTroisSgCPlG} \\\\\\\\', '\\\\sortirViPstTroisDuAPl & \\\\sortirViPstTroisDuAPlP & \\\\blanc{\\\\sortirViPstTroisDuAPlG} \\\\\\\\', '\\\\jeterVtPrsTroisPlBPl & \\\\jeterVtPrsTroisPlBPlP & \\\\blanc{\\\\jeterVtPrsTroisPlBPlG} \\\\\\\\', '\\\\allerViPrsTroisDuBPl & \\\\allerViPrsTroisDuBPlP & \\\\blanc{\\\\allerViPrsTroisDuBPlG} \\\\\\\\', '\\\\protegerVtPrsTroisPlCDu & \\\\protegerVtPrsTroisPlCDuP & \\\\blanc{\\\\protegerVtPrsTroisPlCDuG} \\\\\\\\', '\\\\passerViPrsTroisPlASg & \\\\passerViPrsTroisPlASgP & \\\\blanc{\\\\passerViPrsTroisPlASgG} \\\\\\\\', '\\\\passerViPstTroisSgADu & \\\\passerViPstTroisSgADuP & \\\\blanc{\\\\passerViPstTroisSgADuG} \\\\\\\\', '\\\\sauterViPstTroisSgCDu & \\\\sauterViPstTroisSgCDuP & \\\\blanc{\\\\sauterViPstTroisSgCDuG} \\\\\\\\', '\\\\planterVtPstTroisDuDSg & \\\\planterVtPstTroisDuDSgP & \\\\blanc{\\\\planterVtPstTroisDuDSgG} \\\\\\\\', '\\\\fuirViPrsTroisPlDSg & \\\\fuirViPrsTroisPlDSgP & \\\\blanc{\\\\fuirViPrsTroisPlDSgG} \\\\\\\\', '\\\\chasserVtPstTroisPlASg & \\\\chasserVtPstTroisPlASgP & \\\\blanc{\\\\chasserVtPstTroisPlASgG} \\\\\\\\', '\\\\passerViPstTroisDuCDu & \\\\passerViPstTroisDuCDuP & \\\\blanc{\\\\passerViPstTroisDuCDuG} \\\\\\\\', '\\\\donnerVdPstTroisSgDSg & \\\\donnerVdPstTroisSgDSgP & \\\\blanc{\\\\donnerVdPstTroisSgDSgG} \\\\\\\\', '\\\\fuirViPstTroisDuDPl & \\\\fuirViPstTroisDuDPlP & \\\\blanc{\\\\fuirViPstTroisDuDPlG} \\\\\\\\', '\\\\etreVtPrsTroisSgDSg & \\\\etreVtPrsTroisSgDSgP & \\\\blanc{\\\\etreVtPrsTroisSgDSgG} \\\\\\\\', '\\\\apporterVdPrsTroisDuDDu & \\\\apporterVdPrsTroisDuDDuP & \\\\blanc{\\\\apporterVdPrsTroisDuDDuG} \\\\\\\\', '\\\\disparaitreViPrsTroisPlDDu & \\\\disparaitreViPrsTroisPlDDuP & \\\\blanc{\\\\disparaitreViPrsTroisPlDDuG} \\\\\\\\', '\\\\voirVtPrsTroisDuCSg & \\\\voirVtPrsTroisDuCSgP & \\\\blanc{\\\\voirVtPrsTroisDuCSgG} \\\\\\\\', '\\\\courirViPstTroisPlDPl & \\\\courirViPstTroisPlDPlP & \\\\blanc{\\\\courirViPstTroisPlDPlG} \\\\\\\\', '\\\\planterVtPrsTroisPlBPl & \\\\planterVtPrsTroisPlBPlP & \\\\blanc{\\\\planterVtPrsTroisPlBPlG} \\\\\\\\', '\\\\rejoindreVtPstTroisDuDPl & \\\\rejoindreVtPstTroisDuDPlP & \\\\blanc{\\\\rejoindreVtPstTroisDuDPlG} \\\\\\\\', '\\\\pousserVtPrsTroisPlCDu & \\\\pousserVtPrsTroisPlCDuP & \\\\blanc{\\\\pousserVtPrsTroisPlCDuG} \\\\\\\\', '\\\\voirVtPstTroisDuCDu & \\\\voirVtPstTroisDuCDuP & \\\\blanc{\\\\voirVtPstTroisDuCDuG} \\\\\\\\', '\\\\tomberViPrsTroisPlDPl & \\\\tomberViPrsTroisPlDPlP & \\\\blanc{\\\\tomberViPrsTroisPlDPlG} \\\\\\\\', '\\\\parlerViPstTroisPlDDu & \\\\parlerViPstTroisPlDDuP & \\\\blanc{\\\\parlerViPstTroisPlDDuG} \\\\\\\\', '\\\\chasserVtPrsTroisSgASg & \\\\chasserVtPrsTroisSgASgP & \\\\blanc{\\\\chasserVtPrsTroisSgASgG} \\\\\\\\', '\\\\apporterVdPstTroisPlASg & \\\\apporterVdPstTroisPlASgP & \\\\blanc{\\\\apporterVdPstTroisPlASgG} \\\\\\\\', '\\\\voirVtPrsTroisSgDDu & \\\\voirVtPrsTroisSgDDuP & \\\\blanc{\\\\voirVtPrsTroisSgDDuG} \\\\\\\\', '\\\\allerViPrsTroisDuAPl & \\\\allerViPrsTroisDuAPlP & \\\\blanc{\\\\allerViPrsTroisDuAPlG} \\\\\\\\', '\\\\apporterVdPstTroisDuADu & \\\\apporterVdPstTroisDuADuP & \\\\blanc{\\\\apporterVdPstTroisDuADuG} \\\\\\\\', '\\\\approcherViPstTroisPlCPl & \\\\approcherViPstTroisPlCPlP & \\\\blanc{\\\\approcherViPstTroisPlCPlG} \\\\\\\\', '\\\\transformerVtPstTroisSgBPl & \\\\transformerVtPstTroisSgBPlP & \\\\blanc{\\\\transformerVtPstTroisSgBPlG} \\\\\\\\', '\\\\parlerViPstTroisDuBSg & \\\\parlerViPstTroisDuBSgP & \\\\blanc{\\\\parlerViPstTroisDuBSgG} \\\\\\\\', '\\\\transformerVtPrsTroisDuCPl & \\\\transformerVtPrsTroisDuCPlP & \\\\blanc{\\\\transformerVtPrsTroisDuCPlG} \\\\\\\\', '\\\\planterVtPrsTroisDuAPl & \\\\planterVtPrsTroisDuAPlP & \\\\blanc{\\\\planterVtPrsTroisDuAPlG} \\\\\\\\', '\\\\recouvrirVtPstTroisPlCSg & \\\\recouvrirVtPstTroisPlCSgP & \\\\blanc{\\\\recouvrirVtPstTroisPlCSgG} \\\\\\\\', '\\\\allerViPstTroisSgBSg & \\\\allerViPstTroisSgBSgP & \\\\blanc{\\\\allerViPstTroisSgBSgG} \\\\\\\\', '\\\\courirViPstTroisSgAPl & \\\\courirViPstTroisSgAPlP & \\\\blanc{\\\\courirViPstTroisSgAPlG} \\\\\\\\', '\\\\devorerVtPstTroisPlADu & \\\\devorerVtPstTroisPlADuP & \\\\blanc{\\\\devorerVtPstTroisPlADuG} \\\\\\\\', '\\\\transformerVtPrsTroisPlDPl & \\\\transformerVtPrsTroisPlDPlP & \\\\blanc{\\\\transformerVtPrsTroisPlDPlG} \\\\\\\\', '\\\\donnerVdPstTroisSgBDu & \\\\donnerVdPstTroisSgBDuP & \\\\blanc{\\\\donnerVdPstTroisSgBDuG} \\\\\\\\', '\\\\recouvrirVtPrsTroisDuCPl & \\\\recouvrirVtPrsTroisDuCPlP & \\\\blanc{\\\\recouvrirVtPrsTroisDuCPlG} \\\\\\\\', '\\\\voirVtPstTroisPlAPl & \\\\voirVtPstTroisPlAPlP & \\\\blanc{\\\\voirVtPstTroisPlAPlG} \\\\\\\\', '\\\\sortirViPrsTroisSgBSg & \\\\sortirViPrsTroisSgBSgP & \\\\blanc{\\\\sortirViPrsTroisSgBSgG} \\\\\\\\', '\\\\approcherViPrsTroisDuDDu & \\\\approcherViPrsTroisDuDDuP & \\\\blanc{\\\\approcherViPrsTroisDuDDuG} \\\\\\\\', '\\\\transformerVtPrsTroisPlAPl & \\\\transformerVtPrsTroisPlAPlP & \\\\blanc{\\\\transformerVtPrsTroisPlAPlG} \\\\\\\\', '\\\\planterVtPstTroisSgCPl & \\\\planterVtPstTroisSgCPlP & \\\\blanc{\\\\planterVtPstTroisSgCPlG} \\\\\\\\', '\\\\apporterVdPstTroisDuASg & \\\\apporterVdPstTroisDuASgP & \\\\blanc{\\\\apporterVdPstTroisDuASgG} \\\\\\\\', '\\\\fuirViPrsTroisDuADu & \\\\fuirViPrsTroisDuADuP & \\\\blanc{\\\\fuirViPrsTroisDuADuG} \\\\\\\\', '\\\\voirVtPstTroisPlCSg & \\\\voirVtPstTroisPlCSgP & \\\\blanc{\\\\voirVtPstTroisPlCSgG} \\\\\\\\', '\\\\devorerVtPrsTroisDuBSg & \\\\devorerVtPrsTroisDuBSgP & \\\\blanc{\\\\devorerVtPrsTroisDuBSgG} \\\\\\\\', '\\\\fuirViPstTroisSgASg & \\\\fuirViPstTroisSgASgP & \\\\blanc{\\\\fuirViPstTroisSgASgG} \\\\\\\\', '\\\\etreVtPrsTroisPlDSg & \\\\etreVtPrsTroisPlDSgP & \\\\blanc{\\\\etreVtPrsTroisPlDSgG} \\\\\\\\', '\\\\voirVtPstTroisPlBDu & \\\\voirVtPstTroisPlBDuP & \\\\blanc{\\\\voirVtPstTroisPlBDuG} \\\\\\\\', '\\\\disparaitreViPrsTroisDuBDu & \\\\disparaitreViPrsTroisDuBDuP & \\\\blanc{\\\\disparaitreViPrsTroisDuBDuG} \\\\\\\\', '\\\\protegerVtPrsTroisSgCPl & \\\\protegerVtPrsTroisSgCPlP & \\\\blanc{\\\\protegerVtPrsTroisSgCPlG} \\\\\\\\', '\\\\chasserVtPrsTroisPlASg & \\\\chasserVtPrsTroisPlASgP & \\\\blanc{\\\\chasserVtPrsTroisPlASgG} \\\\\\\\', '\\\\pousserVtPrsTroisDuBSg & \\\\pousserVtPrsTroisDuBSgP & \\\\blanc{\\\\pousserVtPrsTroisDuBSgG} \\\\\\\\', '\\\\devorerVtPrsTroisPlBDu & \\\\devorerVtPrsTroisPlBDuP & \\\\blanc{\\\\devorerVtPrsTroisPlBDuG} \\\\\\\\', '\\\\approcherViPstTroisSgADu & \\\\approcherViPstTroisSgADuP & \\\\blanc{\\\\approcherViPstTroisSgADuG} \\\\\\\\', '\\\\disparaitreViPstTroisSgAPl & \\\\disparaitreViPstTroisSgAPlP & \\\\blanc{\\\\disparaitreViPstTroisSgAPlG} \\\\\\\\', '\\\\voirVtPstTroisSgCPl & \\\\voirVtPstTroisSgCPlP & \\\\blanc{\\\\voirVtPstTroisSgCPlG} \\\\\\\\', '\\\\recouvrirVtPstTroisDuCSg & \\\\recouvrirVtPstTroisDuCSgP & \\\\blanc{\\\\recouvrirVtPstTroisDuCSgG} \\\\\\\\', '\\\\sauterViPrsTroisDuCSg & \\\\sauterViPrsTroisDuCSgP & \\\\blanc{\\\\sauterViPrsTroisDuCSgG} \\\\\\\\', '\\\\parlerViPstTroisPlBSg & \\\\parlerViPstTroisPlBSgP & \\\\blanc{\\\\parlerViPstTroisPlBSgG} \\\\\\\\', '\\\\planterVtPstTroisDuAPl & \\\\planterVtPstTroisDuAPlP & \\\\blanc{\\\\planterVtPstTroisDuAPlG} \\\\\\\\', '\\\\transformerVtPrsTroisDuASg & \\\\transformerVtPrsTroisDuASgP & \\\\blanc{\\\\transformerVtPrsTroisDuASgG} \\\\\\\\', '\\\\chercherVtPrsTroisPlASg & \\\\chercherVtPrsTroisPlASgP & \\\\blanc{\\\\chercherVtPrsTroisPlASgG} \\\\\\\\', '\\\\recouvrirVtPstTroisSgCPl & \\\\recouvrirVtPstTroisSgCPlP & \\\\blanc{\\\\recouvrirVtPstTroisSgCPlG} \\\\\\\\', '\\\\rejoindreVtPrsTroisSgCDu & \\\\rejoindreVtPrsTroisSgCDuP & \\\\blanc{\\\\rejoindreVtPrsTroisSgCDuG} \\\\\\\\', '\\\\transpercerVtPstTroisSgCDu & \\\\transpercerVtPstTroisSgCDuP & \\\\blanc{\\\\transpercerVtPstTroisSgCDuG} \\\\\\\\', '\\\\chercherVtPrsTroisPlCPl & \\\\chercherVtPrsTroisPlCPlP & \\\\blanc{\\\\chercherVtPrsTroisPlCPlG} \\\\\\\\', '\\\\courirViPrsTroisPlCPl & \\\\courirViPrsTroisPlCPlP & \\\\blanc{\\\\courirViPrsTroisPlCPlG} \\\\\\\\', '\\\\chercherVtPrsTroisPlBPl & \\\\chercherVtPrsTroisPlBPlP & \\\\blanc{\\\\chercherVtPrsTroisPlBPlG} \\\\\\\\', '\\\\parlerViPrsTroisSgDDu & \\\\parlerViPrsTroisSgDDuP & \\\\blanc{\\\\parlerViPrsTroisSgDDuG} \\\\\\\\', '\\\\donnerVdPstTroisPlBPl & \\\\donnerVdPstTroisPlBPlP & \\\\blanc{\\\\donnerVdPstTroisPlBPlG} \\\\\\\\', '\\\\voirVtPrsTroisSgASg & \\\\voirVtPrsTroisSgASgP & \\\\blanc{\\\\voirVtPrsTroisSgASgG} \\\\\\\\', '\\\\sortirViPstTroisPlDDu & \\\\sortirViPstTroisPlDDuP & \\\\blanc{\\\\sortirViPstTroisPlDDuG} \\\\\\\\', '\\\\devorerVtPrsTroisDuADu & \\\\devorerVtPrsTroisDuADuP & \\\\blanc{\\\\devorerVtPrsTroisDuADuG} \\\\\\\\', '\\\\transpercerVtPstTroisDuASg & \\\\transpercerVtPstTroisDuASgP & \\\\blanc{\\\\transpercerVtPstTroisDuASgG} \\\\\\\\', '\\\\tomberViPrsTroisDuBSg & \\\\tomberViPrsTroisDuBSgP & \\\\blanc{\\\\tomberViPrsTroisDuBSgG} \\\\\\\\', '\\\\pousserVtPstTroisSgBDu & \\\\pousserVtPstTroisSgBDuP & \\\\blanc{\\\\pousserVtPstTroisSgBDuG} \\\\\\\\', '\\\\apporterVdPrsTroisPlBDu & \\\\apporterVdPrsTroisPlBDuP & \\\\blanc{\\\\apporterVdPrsTroisPlBDuG} \\\\\\\\', '\\\\prendreVtPrsTroisSgDPl & \\\\prendreVtPrsTroisSgDPlP & \\\\blanc{\\\\prendreVtPrsTroisSgDPlG} \\\\\\\\', '\\\\chercherVtPrsTroisPlDDu & \\\\chercherVtPrsTroisPlDDuP & \\\\blanc{\\\\chercherVtPrsTroisPlDDuG} \\\\\\\\', '\\\\planterVtPrsTroisSgDDu & \\\\planterVtPrsTroisSgDDuP & \\\\blanc{\\\\planterVtPrsTroisSgDDuG} \\\\\\\\', '\\\\sauterViPrsTroisDuBDu & \\\\sauterViPrsTroisDuBDuP & \\\\blanc{\\\\sauterViPrsTroisDuBDuG} \\\\\\\\', '\\\\sauterViPrsTroisPlCSg & \\\\sauterViPrsTroisPlCSgP & \\\\blanc{\\\\sauterViPrsTroisPlCSgG} \\\\\\\\', '\\\\parlerViPrsTroisDuADu & \\\\parlerViPrsTroisDuADuP & \\\\blanc{\\\\parlerViPrsTroisDuADuG} \\\\\\\\', '\\\\transformerVtPrsTroisDuAPl & \\\\transformerVtPrsTroisDuAPlP & \\\\blanc{\\\\transformerVtPrsTroisDuAPlG} \\\\\\\\', '\\\\transpercerVtPstTroisDuADu & \\\\transpercerVtPstTroisDuADuP & \\\\blanc{\\\\transpercerVtPstTroisDuADuG} \\\\\\\\', '\\\\sauterViPstTroisDuCSg & \\\\sauterViPstTroisDuCSgP & \\\\blanc{\\\\sauterViPstTroisDuCSgG} \\\\\\\\', '\\\\allerViPrsTroisPlBSg & \\\\allerViPrsTroisPlBSgP & \\\\blanc{\\\\allerViPrsTroisPlBSgG} \\\\\\\\', '\\\\donnerVdPstTroisDuDSg & \\\\donnerVdPstTroisDuDSgP & \\\\blanc{\\\\donnerVdPstTroisDuDSgG} \\\\\\\\', '\\\\devorerVtPrsTroisPlDDu & \\\\devorerVtPrsTroisPlDDuP & \\\\blanc{\\\\devorerVtPrsTroisPlDDuG} \\\\\\\\', '\\\\courirViPstTroisSgDSg & \\\\courirViPstTroisSgDSgP & \\\\blanc{\\\\courirViPstTroisSgDSgG} \\\\\\\\', '\\\\parlerViPstTroisSgCSg & \\\\parlerViPstTroisSgCSgP & \\\\blanc{\\\\parlerViPstTroisSgCSgG} \\\\\\\\', '\\\\disparaitreViPrsTroisSgDSg & \\\\disparaitreViPrsTroisSgDSgP & \\\\blanc{\\\\disparaitreViPrsTroisSgDSgG} \\\\\\\\', '\\\\recouvrirVtPstTroisPlDDu & \\\\recouvrirVtPstTroisPlDDuP & \\\\blanc{\\\\recouvrirVtPstTroisPlDDuG} \\\\\\\\', '\\\\disparaitreViPrsTroisDuCDu & \\\\disparaitreViPrsTroisDuCDuP & \\\\blanc{\\\\disparaitreViPrsTroisDuCDuG} \\\\\\\\', '\\\\prendreVtPstTroisSgDDu & \\\\prendreVtPstTroisSgDDuP & \\\\blanc{\\\\prendreVtPstTroisSgDDuG} \\\\\\\\', '\\\\recouvrirVtPstTroisDuBPl & \\\\recouvrirVtPstTroisDuBPlP & \\\\blanc{\\\\recouvrirVtPstTroisDuBPlG} \\\\\\\\', '\\\\rejoindreVtPstTroisSgAPl & \\\\rejoindreVtPstTroisSgAPlP & \\\\blanc{\\\\rejoindreVtPstTroisSgAPlG} \\\\\\\\', '\\\\devorerVtPrsTroisDuDDu & \\\\devorerVtPrsTroisDuDDuP & \\\\blanc{\\\\devorerVtPrsTroisDuDDuG} \\\\\\\\', '\\\\donnerVdPstTroisDuBSg & \\\\donnerVdPstTroisDuBSgP & \\\\blanc{\\\\donnerVdPstTroisDuBSgG} \\\\\\\\', '\\\\protegerVtPrsTroisSgCSg & \\\\protegerVtPrsTroisSgCSgP & \\\\blanc{\\\\protegerVtPrsTroisSgCSgG} \\\\\\\\', '\\\\recouvrirVtPstTroisDuASg & \\\\recouvrirVtPstTroisDuASgP & \\\\blanc{\\\\recouvrirVtPstTroisDuASgG} \\\\\\\\', '\\\\pousserVtPstTroisSgCSg & \\\\pousserVtPstTroisSgCSgP & \\\\blanc{\\\\pousserVtPstTroisSgCSgG} \\\\\\\\', '\\\\sauterViPstTroisPlCSg & \\\\sauterViPstTroisPlCSgP & \\\\blanc{\\\\sauterViPstTroisPlCSgG} \\\\\\\\', '\\\\voirVtPstTroisPlDDu & \\\\voirVtPstTroisPlDDuP & \\\\blanc{\\\\voirVtPstTroisPlDDuG} \\\\\\\\', '\\\\devorerVtPrsTroisPlAPl & \\\\devorerVtPrsTroisPlAPlP & \\\\blanc{\\\\devorerVtPrsTroisPlAPlG} \\\\\\\\', '\\\\allerViPstTroisSgCSg & \\\\allerViPstTroisSgCSgP & \\\\blanc{\\\\allerViPstTroisSgCSgG} \\\\\\\\', '\\\\rejoindreVtPstTroisDuCSg & \\\\rejoindreVtPstTroisDuCSgP & \\\\blanc{\\\\rejoindreVtPstTroisDuCSgG} \\\\\\\\', '\\\\passerViPstTroisPlADu & \\\\passerViPstTroisPlADuP & \\\\blanc{\\\\passerViPstTroisPlADuG} \\\\\\\\', '\\\\pousserVtPstTroisPlBPl & \\\\pousserVtPstTroisPlBPlP & \\\\blanc{\\\\pousserVtPstTroisPlBPlG} \\\\\\\\', '\\\\chercherVtPrsTroisDuDDu & \\\\chercherVtPrsTroisDuDDuP & \\\\blanc{\\\\chercherVtPrsTroisDuDDuG} \\\\\\\\', '\\\\transformerVtPrsTroisPlBSg & \\\\transformerVtPrsTroisPlBSgP & \\\\blanc{\\\\transformerVtPrsTroisPlBSgG} \\\\\\\\', '\\\\envahirVtPrsTroisSgDSg & \\\\envahirVtPrsTroisSgDSgP & \\\\blanc{\\\\envahirVtPrsTroisSgDSgG} \\\\\\\\', '\\\\chercherVtPstTroisSgCSg & \\\\chercherVtPstTroisSgCSgP & \\\\blanc{\\\\chercherVtPstTroisSgCSgG} \\\\\\\\', '\\\\rejoindreVtPrsTroisPlBDu & \\\\rejoindreVtPrsTroisPlBDuP & \\\\blanc{\\\\rejoindreVtPrsTroisPlBDuG} \\\\\\\\', '\\\\voirVtPstTroisSgDPl & \\\\voirVtPstTroisSgDPlP & \\\\blanc{\\\\voirVtPstTroisSgDPlG} \\\\\\\\', '\\\\protegerVtPstTroisPlCSg & \\\\protegerVtPstTroisPlCSgP & \\\\blanc{\\\\protegerVtPstTroisPlCSgG} \\\\\\\\', '\\\\protegerVtPrsTroisSgBDu & \\\\protegerVtPrsTroisSgBDuP & \\\\blanc{\\\\protegerVtPrsTroisSgBDuG} \\\\\\\\', '\\\\protegerVtPrsTroisDuCSg & \\\\protegerVtPrsTroisDuCSgP & \\\\blanc{\\\\protegerVtPrsTroisDuCSgG} \\\\\\\\', '\\\\apporterVdPstTroisDuBDu & \\\\apporterVdPstTroisDuBDuP & \\\\blanc{\\\\apporterVdPstTroisDuBDuG} \\\\\\\\', '\\\\transpercerVtPrsTroisDuASg & \\\\transpercerVtPrsTroisDuASgP & \\\\blanc{\\\\transpercerVtPrsTroisDuASgG} \\\\\\\\', '\\\\prendreVtPrsTroisSgDDu & \\\\prendreVtPrsTroisSgDDuP & \\\\blanc{\\\\prendreVtPrsTroisSgDDuG} \\\\\\\\', '\\\\voirVtPrsTroisPlADu & \\\\voirVtPrsTroisPlADuP & \\\\blanc{\\\\voirVtPrsTroisPlADuG} \\\\\\\\', '\\\\fuirViPstTroisPlBPl & \\\\fuirViPstTroisPlBPlP & \\\\blanc{\\\\fuirViPstTroisPlBPlG} \\\\\\\\', '\\\\transpercerVtPstTroisPlDSg & \\\\transpercerVtPstTroisPlDSgP & \\\\blanc{\\\\transpercerVtPstTroisPlDSgG} \\\\\\\\', '\\\\protegerVtPstTroisDuCPl & \\\\protegerVtPstTroisDuCPlP & \\\\blanc{\\\\protegerVtPstTroisDuCPlG} \\\\\\\\', '\\\\devorerVtPstTroisDuBPl & \\\\devorerVtPstTroisDuBPlP & \\\\blanc{\\\\devorerVtPstTroisDuBPlG} \\\\\\\\', '\\\\planterVtPstTroisPlASg & \\\\planterVtPstTroisPlASgP & \\\\blanc{\\\\planterVtPstTroisPlASgG} \\\\\\\\', '\\\\sauterViPrsTroisPlDSg & \\\\sauterViPrsTroisPlDSgP & \\\\blanc{\\\\sauterViPrsTroisPlDSgG} \\\\\\\\', '\\\\parlerViPstTroisPlASg & \\\\parlerViPstTroisPlASgP & \\\\blanc{\\\\parlerViPstTroisPlASgG} \\\\\\\\', '\\\\planterVtPstTroisDuADu & \\\\planterVtPstTroisDuADuP & \\\\blanc{\\\\planterVtPstTroisDuADuG} \\\\\\\\', '\\\\sauterViPstTroisPlDPl & \\\\sauterViPstTroisPlDPlP & \\\\blanc{\\\\sauterViPstTroisPlDPlG} \\\\\\\\', '\\\\disparaitreViPstTroisPlASg & \\\\disparaitreViPstTroisPlASgP & \\\\blanc{\\\\disparaitreViPstTroisPlASgG} \\\\\\\\', '\\\\allerViPrsTroisDuDDu & \\\\allerViPrsTroisDuDDuP & \\\\blanc{\\\\allerViPrsTroisDuDDuG} \\\\\\\\', '\\\\donnerVdPstTroisSgCPl & \\\\donnerVdPstTroisSgCPlP & \\\\blanc{\\\\donnerVdPstTroisSgCPlG} \\\\\\\\', '\\\\apporterVdPrsTroisSgDDu & \\\\apporterVdPrsTroisSgDDuP & \\\\blanc{\\\\apporterVdPrsTroisSgDDuG} \\\\\\\\', '\\\\chercherVtPstTroisPlCSg & \\\\chercherVtPstTroisPlCSgP & \\\\blanc{\\\\chercherVtPstTroisPlCSgG} \\\\\\\\', '\\\\disparaitreViPrsTroisDuAPl & \\\\disparaitreViPrsTroisDuAPlP & \\\\blanc{\\\\disparaitreViPrsTroisDuAPlG} \\\\\\\\', '\\\\chasserVtPstTroisSgCPl & \\\\chasserVtPstTroisSgCPlP & \\\\blanc{\\\\chasserVtPstTroisSgCPlG} \\\\\\\\', '\\\\pousserVtPrsTroisPlCSg & \\\\pousserVtPrsTroisPlCSgP & \\\\blanc{\\\\pousserVtPrsTroisPlCSgG} \\\\\\\\', '\\\\sauterViPstTroisSgADu & \\\\sauterViPstTroisSgADuP & \\\\blanc{\\\\sauterViPstTroisSgADuG} \\\\\\\\', '\\\\rejoindreVtPstTroisSgCPl & \\\\rejoindreVtPstTroisSgCPlP & \\\\blanc{\\\\rejoindreVtPstTroisSgCPlG} \\\\\\\\', '\\\\prendreVtPrsTroisDuAPl & \\\\prendreVtPrsTroisDuAPlP & \\\\blanc{\\\\prendreVtPrsTroisDuAPlG} \\\\\\\\', '\\\\chercherVtPstTroisPlCDu & \\\\chercherVtPstTroisPlCDuP & \\\\blanc{\\\\chercherVtPstTroisPlCDuG} \\\\\\\\', '\\\\tomberViPrsTroisDuCSg & \\\\tomberViPrsTroisDuCSgP & \\\\blanc{\\\\tomberViPrsTroisDuCSgG} \\\\\\\\', '\\\\transformerVtPrsTroisPlDSg & \\\\transformerVtPrsTroisPlDSgP & \\\\blanc{\\\\transformerVtPrsTroisPlDSgG} \\\\\\\\', '\\\\allerViPstTroisPlCPl & \\\\allerViPstTroisPlCPlP & \\\\blanc{\\\\allerViPstTroisPlCPlG} \\\\\\\\', '\\\\devorerVtPstTroisSgCSg & \\\\devorerVtPstTroisSgCSgP & \\\\blanc{\\\\devorerVtPstTroisSgCSgG} \\\\\\\\', '\\\\planterVtPrsTroisPlDDu & \\\\planterVtPrsTroisPlDDuP & \\\\blanc{\\\\planterVtPrsTroisPlDDuG} \\\\\\\\', '\\\\disparaitreViPstTroisSgCDu & \\\\disparaitreViPstTroisSgCDuP & \\\\blanc{\\\\disparaitreViPstTroisSgCDuG} \\\\\\\\', '\\\\chercherVtPrsTroisPlDPl & \\\\chercherVtPrsTroisPlDPlP & \\\\blanc{\\\\chercherVtPrsTroisPlDPlG} \\\\\\\\', '\\\\tomberViPstTroisSgASg & \\\\tomberViPstTroisSgASgP & \\\\blanc{\\\\tomberViPstTroisSgASgG} \\\\\\\\', '\\\\tomberViPstTroisDuCSg & \\\\tomberViPstTroisDuCSgP & \\\\blanc{\\\\tomberViPstTroisDuCSgG} \\\\\\\\', '\\\\etreVtPrsTroisSgAPl & \\\\etreVtPrsTroisSgAPlP & \\\\blanc{\\\\etreVtPrsTroisSgAPlG} \\\\\\\\', '\\\\pousserVtPstTroisSgCPl & \\\\pousserVtPstTroisSgCPlP & \\\\blanc{\\\\pousserVtPstTroisSgCPlG} \\\\\\\\', '\\\\sortirViPrsTroisDuBPl & \\\\sortirViPrsTroisDuBPlP & \\\\blanc{\\\\sortirViPrsTroisDuBPlG} \\\\\\\\', '\\\\devorerVtPrsTroisDuCPl & \\\\devorerVtPrsTroisDuCPlP & \\\\blanc{\\\\devorerVtPrsTroisDuCPlG} \\\\\\\\', '\\\\tomberViPrsTroisSgADu & \\\\tomberViPrsTroisSgADuP & \\\\blanc{\\\\tomberViPrsTroisSgADuG} \\\\\\\\', '\\\\donnerVdPrsTroisSgDPl & \\\\donnerVdPrsTroisSgDPlP & \\\\blanc{\\\\donnerVdPrsTroisSgDPlG} \\\\\\\\', '\\\\prendreVtPstTroisPlDSg & \\\\prendreVtPstTroisPlDSgP & \\\\blanc{\\\\prendreVtPstTroisPlDSgG} \\\\\\\\', '\\\\rejoindreVtPrsTroisSgBPl & \\\\rejoindreVtPrsTroisSgBPlP & \\\\blanc{\\\\rejoindreVtPrsTroisSgBPlG} \\\\\\\\', '\\\\apporterVdPstTroisPlBDu & \\\\apporterVdPstTroisPlBDuP & \\\\blanc{\\\\apporterVdPstTroisPlBDuG} \\\\\\\\', '\\\\tomberViPstTroisDuDDu & \\\\tomberViPstTroisDuDDuP & \\\\blanc{\\\\tomberViPstTroisDuDDuG} \\\\\\\\', '\\\\sauterViPstTroisPlDSg & \\\\sauterViPstTroisPlDSgP & \\\\blanc{\\\\sauterViPstTroisPlDSgG} \\\\\\\\', '\\\\recouvrirVtPstTroisPlBPl & \\\\recouvrirVtPstTroisPlBPlP & \\\\blanc{\\\\recouvrirVtPstTroisPlBPlG} \\\\\\\\', '\\\\voirVtPrsTroisPlDPl & \\\\voirVtPrsTroisPlDPlP & \\\\blanc{\\\\voirVtPrsTroisPlDPlG} \\\\\\\\', '\\\\envahirVtPstTroisSgADu & \\\\envahirVtPstTroisSgADuP & \\\\blanc{\\\\envahirVtPstTroisSgADuG} \\\\\\\\', '\\\\prendreVtPstTroisPlDDu & \\\\prendreVtPstTroisPlDDuP & \\\\blanc{\\\\prendreVtPstTroisPlDDuG} \\\\\\\\', '\\\\transpercerVtPrsTroisDuCSg & \\\\transpercerVtPrsTroisDuCSgP & \\\\blanc{\\\\transpercerVtPrsTroisDuCSgG} \\\\\\\\', '\\\\jeterVtPstTroisSgDPl & \\\\jeterVtPstTroisSgDPlP & \\\\blanc{\\\\jeterVtPstTroisSgDPlG} \\\\\\\\', '\\\\sortirViPrsTroisDuDSg & \\\\sortirViPrsTroisDuDSgP & \\\\blanc{\\\\sortirViPrsTroisDuDSgG} \\\\\\\\', '\\\\apporterVdPstTroisPlDSg & \\\\apporterVdPstTroisPlDSgP & \\\\blanc{\\\\apporterVdPstTroisPlDSgG} \\\\\\\\', '\\\\chasserVtPrsTroisSgDSg & \\\\chasserVtPrsTroisSgDSgP & \\\\blanc{\\\\chasserVtPrsTroisSgDSgG} \\\\\\\\', '\\\\protegerVtPrsTroisPlBSg & \\\\protegerVtPrsTroisPlBSgP & \\\\blanc{\\\\protegerVtPrsTroisPlBSgG} \\\\\\\\', '\\\\rejoindreVtPstTroisDuAPl & \\\\rejoindreVtPstTroisDuAPlP & \\\\blanc{\\\\rejoindreVtPstTroisDuAPlG} \\\\\\\\', '\\\\parlerViPstTroisSgBDu & \\\\parlerViPstTroisSgBDuP & \\\\blanc{\\\\parlerViPstTroisSgBDuG} \\\\\\\\', '\\\\envahirVtPstTroisPlBDu & \\\\envahirVtPstTroisPlBDuP & \\\\blanc{\\\\envahirVtPstTroisPlBDuG} \\\\\\\\', '\\\\parlerViPstTroisPlCSg & \\\\parlerViPstTroisPlCSgP & \\\\blanc{\\\\parlerViPstTroisPlCSgG} \\\\\\\\', '\\\\sortirViPrsTroisPlBPl & \\\\sortirViPrsTroisPlBPlP & \\\\blanc{\\\\sortirViPrsTroisPlBPlG} \\\\\\\\', '\\\\planterVtPstTroisSgDSg & \\\\planterVtPstTroisSgDSgP & \\\\blanc{\\\\planterVtPstTroisSgDSgG} \\\\\\\\', '\\\\protegerVtPstTroisSgDDu & \\\\protegerVtPstTroisSgDDuP & \\\\blanc{\\\\protegerVtPstTroisSgDDuG} \\\\\\\\', '\\\\fuirViPrsTroisSgBPl & \\\\fuirViPrsTroisSgBPlP & \\\\blanc{\\\\fuirViPrsTroisSgBPlG} \\\\\\\\', '\\\\donnerVdPstTroisPlBDu & \\\\donnerVdPstTroisPlBDuP & \\\\blanc{\\\\donnerVdPstTroisPlBDuG} \\\\\\\\', '\\\\transformerVtPrsTroisSgASg & \\\\transformerVtPrsTroisSgASgP & \\\\blanc{\\\\transformerVtPrsTroisSgASgG} \\\\\\\\', '\\\\disparaitreViPrsTroisPlCSg & \\\\disparaitreViPrsTroisPlCSgP & \\\\blanc{\\\\disparaitreViPrsTroisPlCSgG} \\\\\\\\', '\\\\transformerVtPstTroisPlBPl & \\\\transformerVtPstTroisPlBPlP & \\\\blanc{\\\\transformerVtPstTroisPlBPlG} \\\\\\\\', '\\\\envahirVtPstTroisSgBDu & \\\\envahirVtPstTroisSgBDuP & \\\\blanc{\\\\envahirVtPstTroisSgBDuG} \\\\\\\\', '\\\\disparaitreViPstTroisSgDDu & \\\\disparaitreViPstTroisSgDDuP & \\\\blanc{\\\\disparaitreViPstTroisSgDDuG} \\\\\\\\', '\\\\sauterViPstTroisPlASg & \\\\sauterViPstTroisPlASgP & \\\\blanc{\\\\sauterViPstTroisPlASgG} \\\\\\\\', '\\\\protegerVtPstTroisSgAPl & \\\\protegerVtPstTroisSgAPlP & \\\\blanc{\\\\protegerVtPstTroisSgAPlG} \\\\\\\\', '\\\\planterVtPrsTroisSgDSg & \\\\planterVtPrsTroisSgDSgP & \\\\blanc{\\\\planterVtPrsTroisSgDSgG} \\\\\\\\', '\\\\recouvrirVtPrsTroisSgBSg & \\\\recouvrirVtPrsTroisSgBSgP & \\\\blanc{\\\\recouvrirVtPrsTroisSgBSgG} \\\\\\\\', '\\\\approcherViPrsTroisSgASg & \\\\approcherViPrsTroisSgASgP & \\\\blanc{\\\\approcherViPrsTroisSgASgG} \\\\\\\\', '\\\\rejoindreVtPstTroisDuCDu & \\\\rejoindreVtPstTroisDuCDuP & \\\\blanc{\\\\rejoindreVtPstTroisDuCDuG} \\\\\\\\', '\\\\voirVtPrsTroisPlASg & \\\\voirVtPrsTroisPlASgP & \\\\blanc{\\\\voirVtPrsTroisPlASgG} \\\\\\\\', '\\\\courirViPstTroisPlCPl & \\\\courirViPstTroisPlCPlP & \\\\blanc{\\\\courirViPstTroisPlCPlG} \\\\\\\\', '\\\\planterVtPrsTroisPlCSg & \\\\planterVtPrsTroisPlCSgP & \\\\blanc{\\\\planterVtPrsTroisPlCSgG} \\\\\\\\', '\\\\transformerVtPstTroisSgBDu & \\\\transformerVtPstTroisSgBDuP & \\\\blanc{\\\\transformerVtPstTroisSgBDuG} \\\\\\\\', '\\\\prendreVtPrsTroisDuCDu & \\\\prendreVtPrsTroisDuCDuP & \\\\blanc{\\\\prendreVtPrsTroisDuCDuG} \\\\\\\\', '\\\\protegerVtPstTroisPlCPl & \\\\protegerVtPstTroisPlCPlP & \\\\blanc{\\\\protegerVtPstTroisPlCPlG} \\\\\\\\', '\\\\pousserVtPstTroisSgAPl & \\\\pousserVtPstTroisSgAPlP & \\\\blanc{\\\\pousserVtPstTroisSgAPlG} \\\\\\\\', '\\\\recouvrirVtPstTroisSgDSg & \\\\recouvrirVtPstTroisSgDSgP & \\\\blanc{\\\\recouvrirVtPstTroisSgDSgG} \\\\\\\\', '\\\\apporterVdPrsTroisSgDSg & \\\\apporterVdPrsTroisSgDSgP & \\\\blanc{\\\\apporterVdPrsTroisSgDSgG} \\\\\\\\', '\\\\disparaitreViPrsTroisDuDDu & \\\\disparaitreViPrsTroisDuDDuP & \\\\blanc{\\\\disparaitreViPrsTroisDuDDuG} \\\\\\\\', '\\\\envahirVtPstTroisDuASg & \\\\envahirVtPstTroisDuASgP & \\\\blanc{\\\\envahirVtPstTroisDuASgG} \\\\\\\\', '\\\\fuirViPrsTroisDuDPl & \\\\fuirViPrsTroisDuDPlP & \\\\blanc{\\\\fuirViPrsTroisDuDPlG} \\\\\\\\', '\\\\sortirViPrsTroisSgDPl & \\\\sortirViPrsTroisSgDPlP & \\\\blanc{\\\\sortirViPrsTroisSgDPlG} \\\\\\\\', '\\\\voirVtPstTroisDuDDu & \\\\voirVtPstTroisDuDDuP & \\\\blanc{\\\\voirVtPstTroisDuDDuG} \\\\\\\\', '\\\\courirViPstTroisPlDSg & \\\\courirViPstTroisPlDSgP & \\\\blanc{\\\\courirViPstTroisPlDSgG} \\\\\\\\', '\\\\fuirViPstTroisPlDDu & \\\\fuirViPstTroisPlDDuP & \\\\blanc{\\\\fuirViPstTroisPlDDuG} \\\\\\\\', '\\\\approcherViPrsTroisSgBDu & \\\\approcherViPrsTroisSgBDuP & \\\\blanc{\\\\approcherViPrsTroisSgBDuG} \\\\\\\\', '\\\\sortirViPstTroisSgBSg & \\\\sortirViPstTroisSgBSgP & \\\\blanc{\\\\sortirViPstTroisSgBSgG} \\\\\\\\', '\\\\passerViPrsTroisSgCPl & \\\\passerViPrsTroisSgCPlP & \\\\blanc{\\\\passerViPrsTroisSgCPlG} \\\\\\\\', '\\\\parlerViPstTroisDuAPl & \\\\parlerViPstTroisDuAPlP & \\\\blanc{\\\\parlerViPstTroisDuAPlG} \\\\\\\\', '\\\\disparaitreViPrsTroisDuDPl & \\\\disparaitreViPrsTroisDuDPlP & \\\\blanc{\\\\disparaitreViPrsTroisDuDPlG} \\\\\\\\', '\\\\donnerVdPstTroisPlDDu & \\\\donnerVdPstTroisPlDDuP & \\\\blanc{\\\\donnerVdPstTroisPlDDuG} \\\\\\\\', '\\\\recouvrirVtPstTroisPlDPl & \\\\recouvrirVtPstTroisPlDPlP & \\\\blanc{\\\\recouvrirVtPstTroisPlDPlG} \\\\\\\\', '\\\\approcherViPrsTroisPlBDu & \\\\approcherViPrsTroisPlBDuP & \\\\blanc{\\\\approcherViPrsTroisPlBDuG} \\\\\\\\', '\\\\transpercerVtPstTroisPlAPl & \\\\transpercerVtPstTroisPlAPlP & \\\\blanc{\\\\transpercerVtPstTroisPlAPlG} \\\\\\\\', '\\\\recouvrirVtPstTroisSgADu & \\\\recouvrirVtPstTroisSgADuP & \\\\blanc{\\\\recouvrirVtPstTroisSgADuG} \\\\\\\\', '\\\\donnerVdPrsTroisSgAPl & \\\\donnerVdPrsTroisSgAPlP & \\\\blanc{\\\\donnerVdPrsTroisSgAPlG} \\\\\\\\', '\\\\rejoindreVtPstTroisPlCPl & \\\\rejoindreVtPstTroisPlCPlP & \\\\blanc{\\\\rejoindreVtPstTroisPlCPlG} \\\\\\\\', '\\\\transpercerVtPrsTroisPlADu & \\\\transpercerVtPrsTroisPlADuP & \\\\blanc{\\\\transpercerVtPrsTroisPlADuG} \\\\\\\\', '\\\\allerViPrsTroisPlCDu & \\\\allerViPrsTroisPlCDuP & \\\\blanc{\\\\allerViPrsTroisPlCDuG} \\\\\\\\', '\\\\tomberViPstTroisPlCSg & \\\\tomberViPstTroisPlCSgP & \\\\blanc{\\\\tomberViPstTroisPlCSgG} \\\\\\\\', '\\\\disparaitreViPstTroisPlDDu & \\\\disparaitreViPstTroisPlDDuP & \\\\blanc{\\\\disparaitreViPstTroisPlDDuG} \\\\\\\\', '\\\\chercherVtPstTroisPlDPl & \\\\chercherVtPstTroisPlDPlP & \\\\blanc{\\\\chercherVtPstTroisPlDPlG} \\\\\\\\', '\\\\transformerVtPstTroisSgBSg & \\\\transformerVtPstTroisSgBSgP & \\\\blanc{\\\\transformerVtPstTroisSgBSgG} \\\\\\\\', '\\\\courirViPstTroisDuCPl & \\\\courirViPstTroisDuCPlP & \\\\blanc{\\\\courirViPstTroisDuCPlG} \\\\\\\\', '\\\\etreVtPstTroisSgBPl & \\\\etreVtPstTroisSgBPlP & \\\\blanc{\\\\etreVtPstTroisSgBPlG} \\\\\\\\', '\\\\protegerVtPrsTroisDuBDu & \\\\protegerVtPrsTroisDuBDuP & \\\\blanc{\\\\protegerVtPrsTroisDuBDuG} \\\\\\\\', '\\\\prendreVtPstTroisDuASg & \\\\prendreVtPstTroisDuASgP & \\\\blanc{\\\\prendreVtPstTroisDuASgG} \\\\\\\\', '\\\\disparaitreViPstTroisPlCDu & \\\\disparaitreViPstTroisPlCDuP & \\\\blanc{\\\\disparaitreViPstTroisPlCDuG} \\\\\\\\', '\\\\envahirVtPstTroisSgBPl & \\\\envahirVtPstTroisSgBPlP & \\\\blanc{\\\\envahirVtPstTroisSgBPlG} \\\\\\\\', '\\\\sortirViPrsTroisPlADu & \\\\sortirViPrsTroisPlADuP & \\\\blanc{\\\\sortirViPrsTroisPlADuG} \\\\\\\\', '\\\\envahirVtPstTroisPlCSg & \\\\envahirVtPstTroisPlCSgP & \\\\blanc{\\\\envahirVtPstTroisPlCSgG} \\\\\\\\', '\\\\sauterViPstTroisPlDDu & \\\\sauterViPstTroisPlDDuP & \\\\blanc{\\\\sauterViPstTroisPlDDuG} \\\\\\\\', '\\\\sortirViPstTroisSgAPl & \\\\sortirViPstTroisSgAPlP & \\\\blanc{\\\\sortirViPstTroisSgAPlG} \\\\\\\\', '\\\\transformerVtPstTroisPlBSg & \\\\transformerVtPstTroisPlBSgP & \\\\blanc{\\\\transformerVtPstTroisPlBSgG} \\\\\\\\', '\\\\prendreVtPstTroisDuDPl & \\\\prendreVtPstTroisDuDPlP & \\\\blanc{\\\\prendreVtPstTroisDuDPlG} \\\\\\\\', '\\\\transpercerVtPstTroisDuDDu & \\\\transpercerVtPstTroisDuDDuP & \\\\blanc{\\\\transpercerVtPstTroisDuDDuG} \\\\\\\\', '\\\\apporterVdPstTroisDuCSg & \\\\apporterVdPstTroisDuCSgP & \\\\blanc{\\\\apporterVdPstTroisDuCSgG} \\\\\\\\', '\\\\fuirViPstTroisSgDDu & \\\\fuirViPstTroisSgDDuP & \\\\blanc{\\\\fuirViPstTroisSgDDuG} \\\\\\\\', '\\\\devorerVtPstTroisDuCDu & \\\\devorerVtPstTroisDuCDuP & \\\\blanc{\\\\devorerVtPstTroisDuCDuG} \\\\\\\\', '\\\\parlerViPstTroisPlDPl & \\\\parlerViPstTroisPlDPlP & \\\\blanc{\\\\parlerViPstTroisPlDPlG} \\\\\\\\', '\\\\protegerVtPstTroisDuAPl & \\\\protegerVtPstTroisDuAPlP & \\\\blanc{\\\\protegerVtPstTroisDuAPlG} \\\\\\\\', '\\\\rejoindreVtPrsTroisSgCSg & \\\\rejoindreVtPrsTroisSgCSgP & \\\\blanc{\\\\rejoindreVtPrsTroisSgCSgG} \\\\\\\\', '\\\\parlerViPstTroisDuDDu & \\\\parlerViPstTroisDuDDuP & \\\\blanc{\\\\parlerViPstTroisDuDDuG} \\\\\\\\', '\\\\apporterVdPrsTroisPlASg & \\\\apporterVdPrsTroisPlASgP & \\\\blanc{\\\\apporterVdPrsTroisPlASgG} \\\\\\\\', '\\\\fuirViPrsTroisDuBPl & \\\\fuirViPrsTroisDuBPlP & \\\\blanc{\\\\fuirViPrsTroisDuBPlG} \\\\\\\\', '\\\\passerViPrsTroisPlBPl & \\\\passerViPrsTroisPlBPlP & \\\\blanc{\\\\passerViPrsTroisPlBPlG} \\\\\\\\', '\\\\transpercerVtPrsTroisPlDPl & \\\\transpercerVtPrsTroisPlDPlP & \\\\blanc{\\\\transpercerVtPrsTroisPlDPlG} \\\\\\\\', '\\\\tomberViPstTroisSgDDu & \\\\tomberViPstTroisSgDDuP & \\\\blanc{\\\\tomberViPstTroisSgDDuG} \\\\\\\\', '\\\\sortirViPstTroisPlDSg & \\\\sortirViPstTroisPlDSgP & \\\\blanc{\\\\sortirViPstTroisPlDSgG} \\\\\\\\', '\\\\jeterVtPrsTroisSgDDu & \\\\jeterVtPrsTroisSgDDuP & \\\\blanc{\\\\jeterVtPrsTroisSgDDuG} \\\\\\\\', '\\\\jeterVtPrsTroisSgBPl & \\\\jeterVtPrsTroisSgBPlP & \\\\blanc{\\\\jeterVtPrsTroisSgBPlG} \\\\\\\\', '\\\\etreVtPstTroisDuDSg & \\\\etreVtPstTroisDuDSgP & \\\\blanc{\\\\etreVtPstTroisDuDSgG} \\\\\\\\', '\\\\courirViPstTroisDuCDu & \\\\courirViPstTroisDuCDuP & \\\\blanc{\\\\courirViPstTroisDuCDuG} \\\\\\\\', '\\\\chercherVtPrsTroisSgCSg & \\\\chercherVtPrsTroisSgCSgP & \\\\blanc{\\\\chercherVtPrsTroisSgCSgG} \\\\\\\\', '\\\\devorerVtPrsTroisPlBPl & \\\\devorerVtPrsTroisPlBPlP & \\\\blanc{\\\\devorerVtPrsTroisPlBPlG} \\\\\\\\', '\\\\recouvrirVtPrsTroisPlCSg & \\\\recouvrirVtPrsTroisPlCSgP & \\\\blanc{\\\\recouvrirVtPrsTroisPlCSgG} \\\\\\\\', '\\\\chasserVtPstTroisSgASg & \\\\chasserVtPstTroisSgASgP & \\\\blanc{\\\\chasserVtPstTroisSgASgG} \\\\\\\\', '\\\\approcherViPrsTroisSgAPl & \\\\approcherViPrsTroisSgAPlP & \\\\blanc{\\\\approcherViPrsTroisSgAPlG} \\\\\\\\', '\\\\jeterVtPrsTroisPlDPl & \\\\jeterVtPrsTroisPlDPlP & \\\\blanc{\\\\jeterVtPrsTroisPlDPlG} \\\\\\\\', '\\\\devorerVtPstTroisSgCDu & \\\\devorerVtPstTroisSgCDuP & \\\\blanc{\\\\devorerVtPstTroisSgCDuG} \\\\\\\\', '\\\\rejoindreVtPstTroisSgADu & \\\\rejoindreVtPstTroisSgADuP & \\\\blanc{\\\\rejoindreVtPstTroisSgADuG} \\\\\\\\', '\\\\sortirViPrsTroisDuBSg & \\\\sortirViPrsTroisDuBSgP & \\\\blanc{\\\\sortirViPrsTroisDuBSgG} \\\\\\\\', '\\\\recouvrirVtPstTroisSgBDu & \\\\recouvrirVtPstTroisSgBDuP & \\\\blanc{\\\\recouvrirVtPstTroisSgBDuG} \\\\\\\\', '\\\\chasserVtPrsTroisDuASg & \\\\chasserVtPrsTroisDuASgP & \\\\blanc{\\\\chasserVtPrsTroisDuASgG} \\\\\\\\', '\\\\jeterVtPrsTroisDuDDu & \\\\jeterVtPrsTroisDuDDuP & \\\\blanc{\\\\jeterVtPrsTroisDuDDuG} \\\\\\\\', '\\\\courirViPrsTroisSgBPl & \\\\courirViPrsTroisSgBPlP & \\\\blanc{\\\\courirViPrsTroisSgBPlG} \\\\\\\\', '\\\\approcherViPrsTroisDuBDu & \\\\approcherViPrsTroisDuBDuP & \\\\blanc{\\\\approcherViPrsTroisDuBDuG} \\\\\\\\', '\\\\sauterViPrsTroisPlBSg & \\\\sauterViPrsTroisPlBSgP & \\\\blanc{\\\\sauterViPrsTroisPlBSgG} \\\\\\\\', '\\\\envahirVtPstTroisSgCPl & \\\\envahirVtPstTroisSgCPlP & \\\\blanc{\\\\envahirVtPstTroisSgCPlG} \\\\\\\\', '\\\\allerViPstTroisPlASg & \\\\allerViPstTroisPlASgP & \\\\blanc{\\\\allerViPstTroisPlASgG} \\\\\\\\', '\\\\voirVtPstTroisPlADu & \\\\voirVtPstTroisPlADuP & \\\\blanc{\\\\voirVtPstTroisPlADuG} \\\\\\\\', '\\\\transpercerVtPrsTroisSgBDu & \\\\transpercerVtPrsTroisSgBDuP & \\\\blanc{\\\\transpercerVtPrsTroisSgBDuG} \\\\\\\\', '\\\\chasserVtPstTroisPlBSg & \\\\chasserVtPstTroisPlBSgP & \\\\blanc{\\\\chasserVtPstTroisPlBSgG} \\\\\\\\', '\\\\fuirViPrsTroisSgASg & \\\\fuirViPrsTroisSgASgP & \\\\blanc{\\\\fuirViPrsTroisSgASgG} \\\\\\\\', '\\\\recouvrirVtPstTroisPlBSg & \\\\recouvrirVtPstTroisPlBSgP & \\\\blanc{\\\\recouvrirVtPstTroisPlBSgG} \\\\\\\\', '\\\\allerViPrsTroisSgADu & \\\\allerViPrsTroisSgADuP & \\\\blanc{\\\\allerViPrsTroisSgADuG} \\\\\\\\', '\\\\protegerVtPstTroisSgASg & \\\\protegerVtPstTroisSgASgP & \\\\blanc{\\\\protegerVtPstTroisSgASgG} \\\\\\\\', '\\\\transformerVtPrsTroisDuCSg & \\\\transformerVtPrsTroisDuCSgP & \\\\blanc{\\\\transformerVtPrsTroisDuCSgG} \\\\\\\\', '\\\\tomberViPrsTroisPlCPl & \\\\tomberViPrsTroisPlCPlP & \\\\blanc{\\\\tomberViPrsTroisPlCPlG} \\\\\\\\', '\\\\approcherViPstTroisPlDSg & \\\\approcherViPstTroisPlDSgP & \\\\blanc{\\\\approcherViPstTroisPlDSgG} \\\\\\\\', '\\\\courirViPstTroisDuDPl & \\\\courirViPstTroisDuDPlP & \\\\blanc{\\\\courirViPstTroisDuDPlG} \\\\\\\\', '\\\\passerViPrsTroisPlBSg & \\\\passerViPrsTroisPlBSgP & \\\\blanc{\\\\passerViPrsTroisPlBSgG} \\\\\\\\', '\\\\sortirViPstTroisDuCSg & \\\\sortirViPstTroisDuCSgP & \\\\blanc{\\\\sortirViPstTroisDuCSgG} \\\\\\\\', '\\\\chasserVtPstTroisPlBDu & \\\\chasserVtPstTroisPlBDuP & \\\\blanc{\\\\chasserVtPstTroisPlBDuG} \\\\\\\\', '\\\\protegerVtPstTroisDuBPl & \\\\protegerVtPstTroisDuBPlP & \\\\blanc{\\\\protegerVtPstTroisDuBPlG} \\\\\\\\', '\\\\parlerViPrsTroisPlBSg & \\\\parlerViPrsTroisPlBSgP & \\\\blanc{\\\\parlerViPrsTroisPlBSgG} \\\\\\\\', '\\\\transpercerVtPrsTroisDuCPl & \\\\transpercerVtPrsTroisDuCPlP & \\\\blanc{\\\\transpercerVtPrsTroisDuCPlG} \\\\\\\\', '\\\\envahirVtPrsTroisPlASg & \\\\envahirVtPrsTroisPlASgP & \\\\blanc{\\\\envahirVtPrsTroisPlASgG} \\\\\\\\', '\\\\apporterVdPrsTroisPlDSg & \\\\apporterVdPrsTroisPlDSgP & \\\\blanc{\\\\apporterVdPrsTroisPlDSgG} \\\\\\\\', '\\\\fuirViPrsTroisSgCPl & \\\\fuirViPrsTroisSgCPlP & \\\\blanc{\\\\fuirViPrsTroisSgCPlG} \\\\\\\\', '\\\\prendreVtPrsTroisDuBPl & \\\\prendreVtPrsTroisDuBPlP & \\\\blanc{\\\\prendreVtPrsTroisDuBPlG} \\\\\\\\', '\\\\approcherViPstTroisSgBSg & \\\\approcherViPstTroisSgBSgP & \\\\blanc{\\\\approcherViPstTroisSgBSgG} \\\\\\\\', '\\\\envahirVtPstTroisDuAPl & \\\\envahirVtPstTroisDuAPlP & \\\\blanc{\\\\envahirVtPstTroisDuAPlG} \\\\\\\\', '\\\\prendreVtPstTroisSgCSg & \\\\prendreVtPstTroisSgCSgP & \\\\blanc{\\\\prendreVtPstTroisSgCSgG} \\\\\\\\', '\\\\passerViPstTroisSgCDu & \\\\passerViPstTroisSgCDuP & \\\\blanc{\\\\passerViPstTroisSgCDuG} \\\\\\\\', '\\\\donnerVdPrsTroisPlAPl & \\\\donnerVdPrsTroisPlAPlP & \\\\blanc{\\\\donnerVdPrsTroisPlAPlG} \\\\\\\\', '\\\\fuirViPstTroisDuDSg & \\\\fuirViPstTroisDuDSgP & \\\\blanc{\\\\fuirViPstTroisDuDSgG} \\\\\\\\', '\\\\approcherViPrsTroisSgBPl & \\\\approcherViPrsTroisSgBPlP & \\\\blanc{\\\\approcherViPrsTroisSgBPlG} \\\\\\\\', '\\\\voirVtPstTroisDuADu & \\\\voirVtPstTroisDuADuP & \\\\blanc{\\\\voirVtPstTroisDuADuG} \\\\\\\\', '\\\\courirViPstTroisDuAPl & \\\\courirViPstTroisDuAPlP & \\\\blanc{\\\\courirViPstTroisDuAPlG} \\\\\\\\', '\\\\recouvrirVtPrsTroisDuCSg & \\\\recouvrirVtPrsTroisDuCSgP & \\\\blanc{\\\\recouvrirVtPrsTroisDuCSgG} \\\\\\\\', '\\\\tomberViPstTroisSgCPl & \\\\tomberViPstTroisSgCPlP & \\\\blanc{\\\\tomberViPstTroisSgCPlG} \\\\\\\\', '\\\\prendreVtPrsTroisPlCDu & \\\\prendreVtPrsTroisPlCDuP & \\\\blanc{\\\\prendreVtPrsTroisPlCDuG} \\\\\\\\', '\\\\chasserVtPstTroisPlCSg & \\\\chasserVtPstTroisPlCSgP & \\\\blanc{\\\\chasserVtPstTroisPlCSgG} \\\\\\\\', '\\\\envahirVtPstTroisSgAPl & \\\\envahirVtPstTroisSgAPlP & \\\\blanc{\\\\envahirVtPstTroisSgAPlG} \\\\\\\\', '\\\\sauterViPstTroisDuBDu & \\\\sauterViPstTroisDuBDuP & \\\\blanc{\\\\sauterViPstTroisDuBDuG} \\\\\\\\', '\\\\planterVtPrsTroisDuCDu & \\\\planterVtPrsTroisDuCDuP & \\\\blanc{\\\\planterVtPrsTroisDuCDuG} \\\\\\\\', '\\\\recouvrirVtPstTroisPlCDu & \\\\recouvrirVtPstTroisPlCDuP & \\\\blanc{\\\\recouvrirVtPstTroisPlCDuG} \\\\\\\\', '\\\\etreVtPstTroisPlBSg & \\\\etreVtPstTroisPlBSgP & \\\\blanc{\\\\etreVtPstTroisPlBSgG} \\\\\\\\', '\\\\voirVtPrsTroisSgAPl & \\\\voirVtPrsTroisSgAPlP & \\\\blanc{\\\\voirVtPrsTroisSgAPlG} \\\\\\\\', '\\\\transformerVtPstTroisDuDPl & \\\\transformerVtPstTroisDuDPlP & \\\\blanc{\\\\transformerVtPstTroisDuDPlG} \\\\\\\\', '\\\\jeterVtPrsTroisDuADu & \\\\jeterVtPrsTroisDuADuP & \\\\blanc{\\\\jeterVtPrsTroisDuADuG} \\\\\\\\', '\\\\transpercerVtPrsTroisDuAPl & \\\\transpercerVtPrsTroisDuAPlP & \\\\blanc{\\\\transpercerVtPrsTroisDuAPlG} \\\\\\\\', '\\\\envahirVtPrsTroisDuCDu & \\\\envahirVtPrsTroisDuCDuP & \\\\blanc{\\\\envahirVtPrsTroisDuCDuG} \\\\\\\\', '\\\\voirVtPrsTroisPlDSg & \\\\voirVtPrsTroisPlDSgP & \\\\blanc{\\\\voirVtPrsTroisPlDSgG} \\\\\\\\', '\\\\devorerVtPstTroisPlDSg & \\\\devorerVtPstTroisPlDSgP & \\\\blanc{\\\\devorerVtPstTroisPlDSgG} \\\\\\\\', '\\\\recouvrirVtPstTroisSgCSg & \\\\recouvrirVtPstTroisSgCSgP & \\\\blanc{\\\\recouvrirVtPstTroisSgCSgG} \\\\\\\\', '\\\\voirVtPstTroisPlBPl & \\\\voirVtPstTroisPlBPlP & \\\\blanc{\\\\voirVtPstTroisPlBPlG} \\\\\\\\', '\\\\prendreVtPrsTroisDuASg & \\\\prendreVtPrsTroisDuASgP & \\\\blanc{\\\\prendreVtPrsTroisDuASgG} \\\\\\\\', '\\\\rejoindreVtPrsTroisPlBPl & \\\\rejoindreVtPrsTroisPlBPlP & \\\\blanc{\\\\rejoindreVtPrsTroisPlBPlG} \\\\\\\\', '\\\\recouvrirVtPrsTroisDuDPl & \\\\recouvrirVtPrsTroisDuDPlP & \\\\blanc{\\\\recouvrirVtPrsTroisDuDPlG} \\\\\\\\', '\\\\devorerVtPstTroisPlDPl & \\\\devorerVtPstTroisPlDPlP & \\\\blanc{\\\\devorerVtPstTroisPlDPlG} \\\\\\\\', '\\\\voirVtPstTroisSgAPl & \\\\voirVtPstTroisSgAPlP & \\\\blanc{\\\\voirVtPstTroisSgAPlG} \\\\\\\\', '\\\\etreVtPrsTroisPlDPl & \\\\etreVtPrsTroisPlDPlP & \\\\blanc{\\\\etreVtPrsTroisPlDPlG} \\\\\\\\', '\\\\transpercerVtPstTroisPlCSg & \\\\transpercerVtPstTroisPlCSgP & \\\\blanc{\\\\transpercerVtPstTroisPlCSgG} \\\\\\\\', '\\\\transformerVtPrsTroisDuDDu & \\\\transformerVtPrsTroisDuDDuP & \\\\blanc{\\\\transformerVtPrsTroisDuDDuG} \\\\\\\\', '\\\\jeterVtPstTroisSgBPl & \\\\jeterVtPstTroisSgBPlP & \\\\blanc{\\\\jeterVtPstTroisSgBPlG} \\\\\\\\', '\\\\pousserVtPrsTroisDuDDu & \\\\pousserVtPrsTroisDuDDuP & \\\\blanc{\\\\pousserVtPrsTroisDuDDuG} \\\\\\\\', '\\\\rejoindreVtPstTroisSgCDu & \\\\rejoindreVtPstTroisSgCDuP & \\\\blanc{\\\\rejoindreVtPstTroisSgCDuG} \\\\\\\\', '\\\\passerViPrsTroisDuASg & \\\\passerViPrsTroisDuASgP & \\\\blanc{\\\\passerViPrsTroisDuASgG} \\\\\\\\', '\\\\prendreVtPrsTroisSgCSg & \\\\prendreVtPrsTroisSgCSgP & \\\\blanc{\\\\prendreVtPrsTroisSgCSgG} \\\\\\\\', '\\\\chasserVtPrsTroisPlAPl & \\\\chasserVtPrsTroisPlAPlP & \\\\blanc{\\\\chasserVtPrsTroisPlAPlG} \\\\\\\\', '\\\\jeterVtPstTroisPlBSg & \\\\jeterVtPstTroisPlBSgP & \\\\blanc{\\\\jeterVtPstTroisPlBSgG} \\\\\\\\', '\\\\devorerVtPrsTroisSgADu & \\\\devorerVtPrsTroisSgADuP & \\\\blanc{\\\\devorerVtPrsTroisSgADuG} \\\\\\\\', '\\\\apporterVdPrsTroisSgBPl & \\\\apporterVdPrsTroisSgBPlP & \\\\blanc{\\\\apporterVdPrsTroisSgBPlG} \\\\\\\\', '\\\\protegerVtPstTroisDuDSg & \\\\protegerVtPstTroisDuDSgP & \\\\blanc{\\\\protegerVtPstTroisDuDSgG} \\\\\\\\', '\\\\transformerVtPstTroisSgADu & \\\\transformerVtPstTroisSgADuP & \\\\blanc{\\\\transformerVtPstTroisSgADuG} \\\\\\\\', '\\\\chercherVtPrsTroisDuDSg & \\\\chercherVtPrsTroisDuDSgP & \\\\blanc{\\\\chercherVtPrsTroisDuDSgG} \\\\\\\\', '\\\\protegerVtPstTroisDuBDu & \\\\protegerVtPstTroisDuBDuP & \\\\blanc{\\\\protegerVtPstTroisDuBDuG} \\\\\\\\', '\\\\fuirViPstTroisPlCDu & \\\\fuirViPstTroisPlCDuP & \\\\blanc{\\\\fuirViPstTroisPlCDuG} \\\\\\\\', '\\\\envahirVtPrsTroisDuDDu & \\\\envahirVtPrsTroisDuDDuP & \\\\blanc{\\\\envahirVtPrsTroisDuDDuG} \\\\\\\\', '\\\\envahirVtPrsTroisSgCPl & \\\\envahirVtPrsTroisSgCPlP & \\\\blanc{\\\\envahirVtPrsTroisSgCPlG} \\\\\\\\', '\\\\passerViPrsTroisDuDSg & \\\\passerViPrsTroisDuDSgP & \\\\blanc{\\\\passerViPrsTroisDuDSgG} \\\\\\\\', '\\\\allerViPstTroisSgCPl & \\\\allerViPstTroisSgCPlP & \\\\blanc{\\\\allerViPstTroisSgCPlG} \\\\\\\\', '\\\\donnerVdPstTroisDuASg & \\\\donnerVdPstTroisDuASgP & \\\\blanc{\\\\donnerVdPstTroisDuASgG} \\\\\\\\', '\\\\jeterVtPrsTroisDuAPl & \\\\jeterVtPrsTroisDuAPlP & \\\\blanc{\\\\jeterVtPrsTroisDuAPlG} \\\\\\\\', '\\\\tomberViPrsTroisPlCDu & \\\\tomberViPrsTroisPlCDuP & \\\\blanc{\\\\tomberViPrsTroisPlCDuG} \\\\\\\\', '\\\\passerViPstTroisPlDPl & \\\\passerViPstTroisPlDPlP & \\\\blanc{\\\\passerViPstTroisPlDPlG} \\\\\\\\', '\\\\etreVtPstTroisPlCSg & \\\\etreVtPstTroisPlCSgP & \\\\blanc{\\\\etreVtPstTroisPlCSgG} \\\\\\\\', '\\\\donnerVdPstTroisDuCSg & \\\\donnerVdPstTroisDuCSgP & \\\\blanc{\\\\donnerVdPstTroisDuCSgG} \\\\\\\\', '\\\\fuirViPrsTroisPlCPl & \\\\fuirViPrsTroisPlCPlP & \\\\blanc{\\\\fuirViPrsTroisPlCPlG} \\\\\\\\', '\\\\envahirVtPrsTroisPlBSg & \\\\envahirVtPrsTroisPlBSgP & \\\\blanc{\\\\envahirVtPrsTroisPlBSgG} \\\\\\\\', '\\\\disparaitreViPstTroisDuDDu & \\\\disparaitreViPstTroisDuDDuP & \\\\blanc{\\\\disparaitreViPstTroisDuDDuG} \\\\\\\\', '\\\\parlerViPrsTroisPlBPl & \\\\parlerViPrsTroisPlBPlP & \\\\blanc{\\\\parlerViPrsTroisPlBPlG} \\\\\\\\', '\\\\prendreVtPrsTroisDuBSg & \\\\prendreVtPrsTroisDuBSgP & \\\\blanc{\\\\prendreVtPrsTroisDuBSgG} \\\\\\\\', '\\\\etreVtPrsTroisPlASg & \\\\etreVtPrsTroisPlASgP & \\\\blanc{\\\\etreVtPrsTroisPlASgG} \\\\\\\\', '\\\\fuirViPstTroisPlAPl & \\\\fuirViPstTroisPlAPlP & \\\\blanc{\\\\fuirViPstTroisPlAPlG} \\\\\\\\', '\\\\recouvrirVtPstTroisPlBDu & \\\\recouvrirVtPstTroisPlBDuP & \\\\blanc{\\\\recouvrirVtPstTroisPlBDuG} \\\\\\\\', '\\\\passerViPstTroisPlCSg & \\\\passerViPstTroisPlCSgP & \\\\blanc{\\\\passerViPstTroisPlCSgG} \\\\\\\\', '\\\\transformerVtPstTroisDuCDu & \\\\transformerVtPstTroisDuCDuP & \\\\blanc{\\\\transformerVtPstTroisDuCDuG} \\\\\\\\', '\\\\voirVtPstTroisDuDSg & \\\\voirVtPstTroisDuDSgP & \\\\blanc{\\\\voirVtPstTroisDuDSgG} \\\\\\\\', '\\\\envahirVtPrsTroisSgCDu & \\\\envahirVtPrsTroisSgCDuP & \\\\blanc{\\\\envahirVtPrsTroisSgCDuG} \\\\\\\\', '\\\\sauterViPstTroisDuCPl & \\\\sauterViPstTroisDuCPlP & \\\\blanc{\\\\sauterViPstTroisDuCPlG} \\\\\\\\', '\\\\courirViPstTroisPlASg & \\\\courirViPstTroisPlASgP & \\\\blanc{\\\\courirViPstTroisPlASgG} \\\\\\\\', '\\\\sauterViPrsTroisDuDPl & \\\\sauterViPrsTroisDuDPlP & \\\\blanc{\\\\sauterViPrsTroisDuDPlG} \\\\\\\\', '\\\\recouvrirVtPrsTroisDuBSg & \\\\recouvrirVtPrsTroisDuBSgP & \\\\blanc{\\\\recouvrirVtPrsTroisDuBSgG} \\\\\\\\', '\\\\approcherViPrsTroisPlBSg & \\\\approcherViPrsTroisPlBSgP & \\\\blanc{\\\\approcherViPrsTroisPlBSgG} \\\\\\\\', '\\\\voirVtPstTroisPlCPl & \\\\voirVtPstTroisPlCPlP & \\\\blanc{\\\\voirVtPstTroisPlCPlG} \\\\\\\\', '\\\\recouvrirVtPrsTroisPlBDu & \\\\recouvrirVtPrsTroisPlBDuP & \\\\blanc{\\\\recouvrirVtPrsTroisPlBDuG} \\\\\\\\', '\\\\sortirViPstTroisSgDSg & \\\\sortirViPstTroisSgDSgP & \\\\blanc{\\\\sortirViPstTroisSgDSgG} \\\\\\\\', '\\\\rejoindreVtPstTroisPlADu & \\\\rejoindreVtPstTroisPlADuP & \\\\blanc{\\\\rejoindreVtPstTroisPlADuG} \\\\\\\\', '\\\\protegerVtPrsTroisPlDSg & \\\\protegerVtPrsTroisPlDSgP & \\\\blanc{\\\\protegerVtPrsTroisPlDSgG} \\\\\\\\', '\\\\disparaitreViPstTroisDuCDu & \\\\disparaitreViPstTroisDuCDuP & \\\\blanc{\\\\disparaitreViPstTroisDuCDuG} \\\\\\\\', '\\\\envahirVtPrsTroisSgBPl & \\\\envahirVtPrsTroisSgBPlP & \\\\blanc{\\\\envahirVtPrsTroisSgBPlG} \\\\\\\\', '\\\\envahirVtPstTroisPlCPl & \\\\envahirVtPstTroisPlCPlP & \\\\blanc{\\\\envahirVtPstTroisPlCPlG} \\\\\\\\', '\\\\courirViPstTroisPlBPl & \\\\courirViPstTroisPlBPlP & \\\\blanc{\\\\courirViPstTroisPlBPlG} \\\\\\\\', '\\\\chercherVtPstTroisDuADu & \\\\chercherVtPstTroisDuADuP & \\\\blanc{\\\\chercherVtPstTroisDuADuG} \\\\\\\\', '\\\\courirViPrsTroisDuADu & \\\\courirViPrsTroisDuADuP & \\\\blanc{\\\\courirViPrsTroisDuADuG} \\\\\\\\', '\\\\envahirVtPstTroisPlDDu & \\\\envahirVtPstTroisPlDDuP & \\\\blanc{\\\\envahirVtPstTroisPlDDuG} \\\\\\\\', '\\\\jeterVtPstTroisPlBDu & \\\\jeterVtPstTroisPlBDuP & \\\\blanc{\\\\jeterVtPstTroisPlBDuG} \\\\\\\\', '\\\\devorerVtPrsTroisPlASg & \\\\devorerVtPrsTroisPlASgP & \\\\blanc{\\\\devorerVtPrsTroisPlASgG} \\\\\\\\', '\\\\parlerViPstTroisSgADu & \\\\parlerViPstTroisSgADuP & \\\\blanc{\\\\parlerViPstTroisSgADuG} \\\\\\\\', '\\\\devorerVtPrsTroisSgCDu & \\\\devorerVtPrsTroisSgCDuP & \\\\blanc{\\\\devorerVtPrsTroisSgCDuG} \\\\\\\\', '\\\\etreVtPrsTroisPlAPl & \\\\etreVtPrsTroisPlAPlP & \\\\blanc{\\\\etreVtPrsTroisPlAPlG} \\\\\\\\', '\\\\passerViPrsTroisDuCDu & \\\\passerViPrsTroisDuCDuP & \\\\blanc{\\\\passerViPrsTroisDuCDuG} \\\\\\\\', '\\\\planterVtPstTroisDuASg & \\\\planterVtPstTroisDuASgP & \\\\blanc{\\\\planterVtPstTroisDuASgG} \\\\\\\\', '\\\\envahirVtPrsTroisSgASg & \\\\envahirVtPrsTroisSgASgP & \\\\blanc{\\\\envahirVtPrsTroisSgASgG} \\\\\\\\', '\\\\apporterVdPstTroisSgCSg & \\\\apporterVdPstTroisSgCSgP & \\\\blanc{\\\\apporterVdPstTroisSgCSgG} \\\\\\\\', '\\\\recouvrirVtPrsTroisSgBDu & \\\\recouvrirVtPrsTroisSgBDuP & \\\\blanc{\\\\recouvrirVtPrsTroisSgBDuG} \\\\\\\\', '\\\\passerViPstTroisPlDSg & \\\\passerViPstTroisPlDSgP & \\\\blanc{\\\\passerViPstTroisPlDSgG} \\\\\\\\', '\\\\fuirViPrsTroisSgCSg & \\\\fuirViPrsTroisSgCSgP & \\\\blanc{\\\\fuirViPrsTroisSgCSgG} \\\\\\\\', '\\\\protegerVtPrsTroisPlBPl & \\\\protegerVtPrsTroisPlBPlP & \\\\blanc{\\\\protegerVtPrsTroisPlBPlG} \\\\\\\\', '\\\\voirVtPrsTroisSgDPl & \\\\voirVtPrsTroisSgDPlP & \\\\blanc{\\\\voirVtPrsTroisSgDPlG} \\\\\\\\', '\\\\disparaitreViPstTroisDuBPl & \\\\disparaitreViPstTroisDuBPlP & \\\\blanc{\\\\disparaitreViPstTroisDuBPlG} \\\\\\\\', '\\\\prendreVtPrsTroisDuBDu & \\\\prendreVtPrsTroisDuBDuP & \\\\blanc{\\\\prendreVtPrsTroisDuBDuG} \\\\\\\\', '\\\\etreVtPrsTroisPlBSg & \\\\etreVtPrsTroisPlBSgP & \\\\blanc{\\\\etreVtPrsTroisPlBSgG} \\\\\\\\', '\\\\transformerVtPstTroisDuAPl & \\\\transformerVtPstTroisDuAPlP & \\\\blanc{\\\\transformerVtPstTroisDuAPlG} \\\\\\\\', '\\\\transpercerVtPstTroisPlBSg & \\\\transpercerVtPstTroisPlBSgP & \\\\blanc{\\\\transpercerVtPstTroisPlBSgG} \\\\\\\\', '\\\\envahirVtPrsTroisPlDDu & \\\\envahirVtPrsTroisPlDDuP & \\\\blanc{\\\\envahirVtPrsTroisPlDDuG} \\\\\\\\', '\\\\allerViPrsTroisDuBSg & \\\\allerViPrsTroisDuBSgP & \\\\blanc{\\\\allerViPrsTroisDuBSgG} \\\\\\\\', '\\\\sortirViPrsTroisDuDDu & \\\\sortirViPrsTroisDuDDuP & \\\\blanc{\\\\sortirViPrsTroisDuDDuG} \\\\\\\\', '\\\\recouvrirVtPrsTroisPlDDu & \\\\recouvrirVtPrsTroisPlDDuP & \\\\blanc{\\\\recouvrirVtPrsTroisPlDDuG} \\\\\\\\', '\\\\transformerVtPrsTroisPlADu & \\\\transformerVtPrsTroisPlADuP & \\\\blanc{\\\\transformerVtPrsTroisPlADuG} \\\\\\\\', '\\\\apporterVdPrsTroisSgADu & \\\\apporterVdPrsTroisSgADuP & \\\\blanc{\\\\apporterVdPrsTroisSgADuG} \\\\\\\\', '\\\\sauterViPrsTroisPlAPl & \\\\sauterViPrsTroisPlAPlP & \\\\blanc{\\\\sauterViPrsTroisPlAPlG} \\\\\\\\', '\\\\transpercerVtPrsTroisPlDDu & \\\\transpercerVtPrsTroisPlDDuP & \\\\blanc{\\\\transpercerVtPrsTroisPlDDuG} \\\\\\\\', '\\\\protegerVtPrsTroisDuDSg & \\\\protegerVtPrsTroisDuDSgP & \\\\blanc{\\\\protegerVtPrsTroisDuDSgG} \\\\\\\\', '\\\\prendreVtPrsTroisPlBDu & \\\\prendreVtPrsTroisPlBDuP & \\\\blanc{\\\\prendreVtPrsTroisPlBDuG} \\\\\\\\', '\\\\sortirViPstTroisDuCPl & \\\\sortirViPstTroisDuCPlP & \\\\blanc{\\\\sortirViPstTroisDuCPlG} \\\\\\\\', '\\\\jeterVtPrsTroisPlBSg & \\\\jeterVtPrsTroisPlBSgP & \\\\blanc{\\\\jeterVtPrsTroisPlBSgG} \\\\\\\\', '\\\\rejoindreVtPrsTroisSgDDu & \\\\rejoindreVtPrsTroisSgDDuP & \\\\blanc{\\\\rejoindreVtPrsTroisSgDDuG} \\\\\\\\', '\\\\chercherVtPrsTroisSgBSg & \\\\chercherVtPrsTroisSgBSgP & \\\\blanc{\\\\chercherVtPrsTroisSgBSgG} \\\\\\\\', '\\\\fuirViPrsTroisSgBSg & \\\\fuirViPrsTroisSgBSgP & \\\\blanc{\\\\fuirViPrsTroisSgBSgG} \\\\\\\\', '\\\\sauterViPstTroisSgDDu & \\\\sauterViPstTroisSgDDuP & \\\\blanc{\\\\sauterViPstTroisSgDDuG} \\\\\\\\', '\\\\pousserVtPrsTroisSgAPl & \\\\pousserVtPrsTroisSgAPlP & \\\\blanc{\\\\pousserVtPrsTroisSgAPlG} \\\\\\\\', '\\\\planterVtPrsTroisSgBPl & \\\\planterVtPrsTroisSgBPlP & \\\\blanc{\\\\planterVtPrsTroisSgBPlG} \\\\\\\\', '\\\\tomberViPstTroisSgBSg & \\\\tomberViPstTroisSgBSgP & \\\\blanc{\\\\tomberViPstTroisSgBSgG} \\\\\\\\', '\\\\apporterVdPrsTroisSgDPl & \\\\apporterVdPrsTroisSgDPlP & \\\\blanc{\\\\apporterVdPrsTroisSgDPlG} \\\\\\\\', '\\\\voirVtPrsTroisSgBDu & \\\\voirVtPrsTroisSgBDuP & \\\\blanc{\\\\voirVtPrsTroisSgBDuG} \\\\\\\\', '\\\\etreVtPrsTroisPlCDu & \\\\etreVtPrsTroisPlCDuP & \\\\blanc{\\\\etreVtPrsTroisPlCDuG} \\\\\\\\', '\\\\chasserVtPstTroisSgDSg & \\\\chasserVtPstTroisSgDSgP & \\\\blanc{\\\\chasserVtPstTroisSgDSgG} \\\\\\\\', '\\\\envahirVtPrsTroisDuASg & \\\\envahirVtPrsTroisDuASgP & \\\\blanc{\\\\envahirVtPrsTroisDuASgG} \\\\\\\\', '\\\\courirViPstTroisDuASg & \\\\courirViPstTroisDuASgP & \\\\blanc{\\\\courirViPstTroisDuASgG} \\\\\\\\', '\\\\sauterViPrsTroisDuASg & \\\\sauterViPrsTroisDuASgP & \\\\blanc{\\\\sauterViPrsTroisDuASgG} \\\\\\\\', '\\\\protegerVtPrsTroisSgDDu & \\\\protegerVtPrsTroisSgDDuP & \\\\blanc{\\\\protegerVtPrsTroisSgDDuG} \\\\\\\\', '\\\\jeterVtPstTroisSgADu & \\\\jeterVtPstTroisSgADuP & \\\\blanc{\\\\jeterVtPstTroisSgADuG} \\\\\\\\', '\\\\chasserVtPrsTroisPlDPl & \\\\chasserVtPrsTroisPlDPlP & \\\\blanc{\\\\chasserVtPrsTroisPlDPlG} \\\\\\\\', '\\\\courirViPrsTroisSgBDu & \\\\courirViPrsTroisSgBDuP & \\\\blanc{\\\\courirViPrsTroisSgBDuG} \\\\\\\\', '\\\\transpercerVtPrsTroisDuDPl & \\\\transpercerVtPrsTroisDuDPlP & \\\\blanc{\\\\transpercerVtPrsTroisDuDPlG} \\\\\\\\', '\\\\sortirViPrsTroisSgBPl & \\\\sortirViPrsTroisSgBPlP & \\\\blanc{\\\\sortirViPrsTroisSgBPlG} \\\\\\\\', '\\\\rejoindreVtPstTroisDuBPl & \\\\rejoindreVtPstTroisDuBPlP & \\\\blanc{\\\\rejoindreVtPstTroisDuBPlG} \\\\\\\\', '\\\\passerViPrsTroisPlDPl & \\\\passerViPrsTroisPlDPlP & \\\\blanc{\\\\passerViPrsTroisPlDPlG} \\\\\\\\', '\\\\parlerViPstTroisDuBDu & \\\\parlerViPstTroisDuBDuP & \\\\blanc{\\\\parlerViPstTroisDuBDuG} \\\\\\\\', '\\\\recouvrirVtPrsTroisDuASg & \\\\recouvrirVtPrsTroisDuASgP & \\\\blanc{\\\\recouvrirVtPrsTroisDuASgG} \\\\\\\\', '\\\\parlerViPrsTroisSgAPl & \\\\parlerViPrsTroisSgAPlP & \\\\blanc{\\\\parlerViPrsTroisSgAPlG} \\\\\\\\', '\\\\jeterVtPrsTroisDuDPl & \\\\jeterVtPrsTroisDuDPlP & \\\\blanc{\\\\jeterVtPrsTroisDuDPlG} \\\\\\\\', '\\\\allerViPstTroisPlDPl & \\\\allerViPstTroisPlDPlP & \\\\blanc{\\\\allerViPstTroisPlDPlG} \\\\\\\\', '\\\\apporterVdPrsTroisDuASg & \\\\apporterVdPrsTroisDuASgP & \\\\blanc{\\\\apporterVdPrsTroisDuASgG} \\\\\\\\', '\\\\fuirViPrsTroisDuBSg & \\\\fuirViPrsTroisDuBSgP & \\\\blanc{\\\\fuirViPrsTroisDuBSgG} \\\\\\\\', '\\\\tomberViPrsTroisPlDSg & \\\\tomberViPrsTroisPlDSgP & \\\\blanc{\\\\tomberViPrsTroisPlDSgG} \\\\\\\\', '\\\\planterVtPrsTroisPlDPl & \\\\planterVtPrsTroisPlDPlP & \\\\blanc{\\\\planterVtPrsTroisPlDPlG} \\\\\\\\', '\\\\jeterVtPrsTroisDuCDu & \\\\jeterVtPrsTroisDuCDuP & \\\\blanc{\\\\jeterVtPrsTroisDuCDuG} \\\\\\\\', '\\\\transpercerVtPrsTroisPlBPl & \\\\transpercerVtPrsTroisPlBPlP & \\\\blanc{\\\\transpercerVtPrsTroisPlBPlG} \\\\\\\\', '\\\\transpercerVtPrsTroisPlBSg & \\\\transpercerVtPrsTroisPlBSgP & \\\\blanc{\\\\transpercerVtPrsTroisPlBSgG} \\\\\\\\', '\\\\chercherVtPstTroisSgCPl & \\\\chercherVtPstTroisSgCPlP & \\\\blanc{\\\\chercherVtPstTroisSgCPlG} \\\\\\\\', '\\\\jeterVtPstTroisDuCPl & \\\\jeterVtPstTroisDuCPlP & \\\\blanc{\\\\jeterVtPstTroisDuCPlG} \\\\\\\\', '\\\\devorerVtPrsTroisSgDSg & \\\\devorerVtPrsTroisSgDSgP & \\\\blanc{\\\\devorerVtPrsTroisSgDSgG} \\\\\\\\', '\\\\sauterViPrsTroisSgDPl & \\\\sauterViPrsTroisSgDPlP & \\\\blanc{\\\\sauterViPrsTroisSgDPlG} \\\\\\\\', '\\\\recouvrirVtPrsTroisDuBDu & \\\\recouvrirVtPrsTroisDuBDuP & \\\\blanc{\\\\recouvrirVtPrsTroisDuBDuG} \\\\\\\\', '\\\\etreVtPrsTroisSgBPl & \\\\etreVtPrsTroisSgBPlP & \\\\blanc{\\\\etreVtPrsTroisSgBPlG} \\\\\\\\', '\\\\donnerVdPrsTroisDuDSg & \\\\donnerVdPrsTroisDuDSgP & \\\\blanc{\\\\donnerVdPrsTroisDuDSgG} \\\\\\\\', '\\\\pousserVtPrsTroisSgDSg & \\\\pousserVtPrsTroisSgDSgP & \\\\blanc{\\\\pousserVtPrsTroisSgDSgG} \\\\\\\\', '\\\\voirVtPstTroisSgASg & \\\\voirVtPstTroisSgASgP & \\\\blanc{\\\\voirVtPstTroisSgASgG} \\\\\\\\', '\\\\courirViPrsTroisDuDPl & \\\\courirViPrsTroisDuDPlP & \\\\blanc{\\\\courirViPrsTroisDuDPlG} \\\\\\\\', '\\\\donnerVdPrsTroisDuADu & \\\\donnerVdPrsTroisDuADuP & \\\\blanc{\\\\donnerVdPrsTroisDuADuG} \\\\\\\\', '\\\\chasserVtPstTroisDuCSg & \\\\chasserVtPstTroisDuCSgP & \\\\blanc{\\\\chasserVtPstTroisDuCSgG} \\\\\\\\', '\\\\planterVtPstTroisPlDDu & \\\\planterVtPstTroisPlDDuP & \\\\blanc{\\\\planterVtPstTroisPlDDuG} \\\\\\\\', '\\\\transformerVtPrsTroisSgDDu & \\\\transformerVtPrsTroisSgDDuP & \\\\blanc{\\\\transformerVtPrsTroisSgDDuG} \\\\\\\\', '\\\\tomberViPstTroisPlCPl & \\\\tomberViPstTroisPlCPlP & \\\\blanc{\\\\tomberViPstTroisPlCPlG} \\\\\\\\', '\\\\voirVtPrsTroisDuAPl & \\\\voirVtPrsTroisDuAPlP & \\\\blanc{\\\\voirVtPrsTroisDuAPlG} \\\\\\\\', '\\\\disparaitreViPrsTroisDuCSg & \\\\disparaitreViPrsTroisDuCSgP & \\\\blanc{\\\\disparaitreViPrsTroisDuCSgG} \\\\\\\\', '\\\\apporterVdPstTroisDuBPl & \\\\apporterVdPstTroisDuBPlP & \\\\blanc{\\\\apporterVdPstTroisDuBPlG} \\\\\\\\', '\\\\rejoindreVtPrsTroisPlCSg & \\\\rejoindreVtPrsTroisPlCSgP & \\\\blanc{\\\\rejoindreVtPrsTroisPlCSgG} \\\\\\\\', '\\\\approcherViPrsTroisDuAPl & \\\\approcherViPrsTroisDuAPlP & \\\\blanc{\\\\approcherViPrsTroisDuAPlG} \\\\\\\\', '\\\\chasserVtPstTroisPlDSg & \\\\chasserVtPstTroisPlDSgP & \\\\blanc{\\\\chasserVtPstTroisPlDSgG} \\\\\\\\', '\\\\allerViPstTroisPlBSg & \\\\allerViPstTroisPlBSgP & \\\\blanc{\\\\allerViPstTroisPlBSgG} \\\\\\\\', '\\\\transformerVtPrsTroisSgBDu & \\\\transformerVtPrsTroisSgBDuP & \\\\blanc{\\\\transformerVtPrsTroisSgBDuG} \\\\\\\\', '\\\\disparaitreViPstTroisSgDPl & \\\\disparaitreViPstTroisSgDPlP & \\\\blanc{\\\\disparaitreViPstTroisSgDPlG} \\\\\\\\', '\\\\transformerVtPrsTroisPlCPl & \\\\transformerVtPrsTroisPlCPlP & \\\\blanc{\\\\transformerVtPrsTroisPlCPlG} \\\\\\\\', '\\\\allerViPrsTroisDuDSg & \\\\allerViPrsTroisDuDSgP & \\\\blanc{\\\\allerViPrsTroisDuDSgG} \\\\\\\\', '\\\\devorerVtPstTroisPlASg & \\\\devorerVtPstTroisPlASgP & \\\\blanc{\\\\devorerVtPstTroisPlASgG} \\\\\\\\', '\\\\pousserVtPrsTroisDuCSg & \\\\pousserVtPrsTroisDuCSgP & \\\\blanc{\\\\pousserVtPrsTroisDuCSgG} \\\\\\\\', '\\\\tomberViPrsTroisSgBDu & \\\\tomberViPrsTroisSgBDuP & \\\\blanc{\\\\tomberViPrsTroisSgBDuG} \\\\\\\\', '\\\\apporterVdPrsTroisPlBSg & \\\\apporterVdPrsTroisPlBSgP & \\\\blanc{\\\\apporterVdPrsTroisPlBSgG} \\\\\\\\', '\\\\apporterVdPstTroisPlCPl & \\\\apporterVdPstTroisPlCPlP & \\\\blanc{\\\\apporterVdPstTroisPlCPlG} \\\\\\\\', '\\\\allerViPstTroisDuDDu & \\\\allerViPstTroisDuDDuP & \\\\blanc{\\\\allerViPstTroisDuDDuG} \\\\\\\\', '\\\\devorerVtPstTroisSgAPl & \\\\devorerVtPstTroisSgAPlP & \\\\blanc{\\\\devorerVtPstTroisSgAPlG} \\\\\\\\', '\\\\apporterVdPrsTroisPlAPl & \\\\apporterVdPrsTroisPlAPlP & \\\\blanc{\\\\apporterVdPrsTroisPlAPlG} \\\\\\\\', '\\\\chercherVtPrsTroisSgBDu & \\\\chercherVtPrsTroisSgBDuP & \\\\blanc{\\\\chercherVtPrsTroisSgBDuG} \\\\\\\\', '\\\\devorerVtPrsTroisPlADu & \\\\devorerVtPrsTroisPlADuP & \\\\blanc{\\\\devorerVtPrsTroisPlADuG} \\\\\\\\', '\\\\pousserVtPstTroisPlCSg & \\\\pousserVtPstTroisPlCSgP & \\\\blanc{\\\\pousserVtPstTroisPlCSgG} \\\\\\\\', '\\\\voirVtPstTroisDuAPl & \\\\voirVtPstTroisDuAPlP & \\\\blanc{\\\\voirVtPstTroisDuAPlG} \\\\\\\\', '\\\\chasserVtPrsTroisSgBSg & \\\\chasserVtPrsTroisSgBSgP & \\\\blanc{\\\\chasserVtPrsTroisSgBSgG} \\\\\\\\', '\\\\transpercerVtPstTroisDuBPl & \\\\transpercerVtPstTroisDuBPlP & \\\\blanc{\\\\transpercerVtPstTroisDuBPlG} \\\\\\\\', '\\\\sortirViPrsTroisDuDPl & \\\\sortirViPrsTroisDuDPlP & \\\\blanc{\\\\sortirViPrsTroisDuDPlG} \\\\\\\\', '\\\\voirVtPstTroisDuDPl & \\\\voirVtPstTroisDuDPlP & \\\\blanc{\\\\voirVtPstTroisDuDPlG} \\\\\\\\', '\\\\voirVtPstTroisPlBSg & \\\\voirVtPstTroisPlBSgP & \\\\blanc{\\\\voirVtPstTroisPlBSgG} \\\\\\\\', '\\\\sortirViPstTroisDuDPl & \\\\sortirViPstTroisDuDPlP & \\\\blanc{\\\\sortirViPstTroisDuDPlG} \\\\\\\\', '\\\\courirViPrsTroisPlBSg & \\\\courirViPrsTroisPlBSgP & \\\\blanc{\\\\courirViPrsTroisPlBSgG} \\\\\\\\', '\\\\disparaitreViPstTroisDuBSg & \\\\disparaitreViPstTroisDuBSgP & \\\\blanc{\\\\disparaitreViPstTroisDuBSgG} \\\\\\\\', '\\\\tomberViPrsTroisDuASg & \\\\tomberViPrsTroisDuASgP & \\\\blanc{\\\\tomberViPrsTroisDuASgG} \\\\\\\\', '\\\\etreVtPrsTroisSgASg & \\\\etreVtPrsTroisSgASgP & \\\\blanc{\\\\etreVtPrsTroisSgASgG} \\\\\\\\', '\\\\donnerVdPstTroisDuCDu & \\\\donnerVdPstTroisDuCDuP & \\\\blanc{\\\\donnerVdPstTroisDuCDuG} \\\\\\\\', '\\\\prendreVtPstTroisPlASg & \\\\prendreVtPstTroisPlASgP & \\\\blanc{\\\\prendreVtPstTroisPlASgG} \\\\\\\\', '\\\\recouvrirVtPstTroisDuBSg & \\\\recouvrirVtPstTroisDuBSgP & \\\\blanc{\\\\recouvrirVtPstTroisDuBSgG} \\\\\\\\', '\\\\prendreVtPstTroisSgBDu & \\\\prendreVtPstTroisSgBDuP & \\\\blanc{\\\\prendreVtPstTroisSgBDuG} \\\\\\\\', '\\\\sortirViPstTroisSgBPl & \\\\sortirViPstTroisSgBPlP & \\\\blanc{\\\\sortirViPstTroisSgBPlG} \\\\\\\\', '\\\\chasserVtPrsTroisSgBDu & \\\\chasserVtPrsTroisSgBDuP & \\\\blanc{\\\\chasserVtPrsTroisSgBDuG} \\\\\\\\', '\\\\chercherVtPrsTroisDuCDu & \\\\chercherVtPrsTroisDuCDuP & \\\\blanc{\\\\chercherVtPrsTroisDuCDuG} \\\\\\\\', '\\\\sauterViPstTroisDuASg & \\\\sauterViPstTroisDuASgP & \\\\blanc{\\\\sauterViPstTroisDuASgG} \\\\\\\\', '\\\\allerViPrsTroisDuCDu & \\\\allerViPrsTroisDuCDuP & \\\\blanc{\\\\allerViPrsTroisDuCDuG} \\\\\\\\', '\\\\voirVtPrsTroisPlCDu & \\\\voirVtPrsTroisPlCDuP & \\\\blanc{\\\\voirVtPrsTroisPlCDuG} \\\\\\\\', '\\\\sauterViPrsTroisDuDDu & \\\\sauterViPrsTroisDuDDuP & \\\\blanc{\\\\sauterViPrsTroisDuDDuG} \\\\\\\\', '\\\\protegerVtPrsTroisDuBPl & \\\\protegerVtPrsTroisDuBPlP & \\\\blanc{\\\\protegerVtPrsTroisDuBPlG} \\\\\\\\', '\\\\etreVtPrsTroisPlBPl & \\\\etreVtPrsTroisPlBPlP & \\\\blanc{\\\\etreVtPrsTroisPlBPlG} \\\\\\\\', '\\\\donnerVdPrsTroisDuBDu & \\\\donnerVdPrsTroisDuBDuP & \\\\blanc{\\\\donnerVdPrsTroisDuBDuG} \\\\\\\\', '\\\\planterVtPrsTroisSgBDu & \\\\planterVtPrsTroisSgBDuP & \\\\blanc{\\\\planterVtPrsTroisSgBDuG} \\\\\\\\', '\\\\passerViPrsTroisDuCSg & \\\\passerViPrsTroisDuCSgP & \\\\blanc{\\\\passerViPrsTroisDuCSgG} \\\\\\\\', '\\\\chercherVtPstTroisPlCPl & \\\\chercherVtPstTroisPlCPlP & \\\\blanc{\\\\chercherVtPstTroisPlCPlG} \\\\\\\\', '\\\\sortirViPstTroisPlCDu & \\\\sortirViPstTroisPlCDuP & \\\\blanc{\\\\sortirViPstTroisPlCDuG} \\\\\\\\', '\\\\protegerVtPrsTroisSgBPl & \\\\protegerVtPrsTroisSgBPlP & \\\\blanc{\\\\protegerVtPrsTroisSgBPlG} \\\\\\\\', '\\\\transformerVtPrsTroisSgCPl & \\\\transformerVtPrsTroisSgCPlP & \\\\blanc{\\\\transformerVtPrsTroisSgCPlG} \\\\\\\\', '\\\\devorerVtPrsTroisDuASg & \\\\devorerVtPrsTroisDuASgP & \\\\blanc{\\\\devorerVtPrsTroisDuASgG} \\\\\\\\', '\\\\allerViPrsTroisPlAPl & \\\\allerViPrsTroisPlAPlP & \\\\blanc{\\\\allerViPrsTroisPlAPlG} \\\\\\\\', '\\\\parlerViPstTroisPlAPl & \\\\parlerViPstTroisPlAPlP & \\\\blanc{\\\\parlerViPstTroisPlAPlG} \\\\\\\\', '\\\\pousserVtPrsTroisPlBDu & \\\\pousserVtPrsTroisPlBDuP & \\\\blanc{\\\\pousserVtPrsTroisPlBDuG} \\\\\\\\', '\\\\rejoindreVtPrsTroisPlASg & \\\\rejoindreVtPrsTroisPlASgP & \\\\blanc{\\\\rejoindreVtPrsTroisPlASgG} \\\\\\\\', '\\\\chasserVtPrsTroisSgDPl & \\\\chasserVtPrsTroisSgDPlP & \\\\blanc{\\\\chasserVtPrsTroisSgDPlG} \\\\\\\\', '\\\\rejoindreVtPstTroisSgDPl & \\\\rejoindreVtPstTroisSgDPlP & \\\\blanc{\\\\rejoindreVtPstTroisSgDPlG} \\\\\\\\', '\\\\donnerVdPrsTroisPlCSg & \\\\donnerVdPrsTroisPlCSgP & \\\\blanc{\\\\donnerVdPrsTroisPlCSgG} \\\\\\\\', '\\\\prendreVtPstTroisPlCPl & \\\\prendreVtPstTroisPlCPlP & \\\\blanc{\\\\prendreVtPstTroisPlCPlG} \\\\\\\\', '\\\\courirViPrsTroisDuBSg & \\\\courirViPrsTroisDuBSgP & \\\\blanc{\\\\courirViPrsTroisDuBSgG} \\\\\\\\', '\\\\planterVtPstTroisSgAPl & \\\\planterVtPstTroisSgAPlP & \\\\blanc{\\\\planterVtPstTroisSgAPlG} \\\\\\\\', '\\\\courirViPrsTroisPlCDu & \\\\courirViPrsTroisPlCDuP & \\\\blanc{\\\\courirViPrsTroisPlCDuG} \\\\\\\\', '\\\\passerViPrsTroisPlCSg & \\\\passerViPrsTroisPlCSgP & \\\\blanc{\\\\passerViPrsTroisPlCSgG} \\\\\\\\', '\\\\apporterVdPstTroisSgADu & \\\\apporterVdPstTroisSgADuP & \\\\blanc{\\\\apporterVdPstTroisSgADuG} \\\\\\\\', '\\\\protegerVtPstTroisDuCSg & \\\\protegerVtPstTroisDuCSgP & \\\\blanc{\\\\protegerVtPstTroisDuCSgG} \\\\\\\\', '\\\\voirVtPstTroisSgBDu & \\\\voirVtPstTroisSgBDuP & \\\\blanc{\\\\voirVtPstTroisSgBDuG} \\\\\\\\', '\\\\chasserVtPrsTroisDuDDu & \\\\chasserVtPrsTroisDuDDuP & \\\\blanc{\\\\chasserVtPrsTroisDuDDuG} \\\\\\\\', '\\\\transformerVtPstTroisPlADu & \\\\transformerVtPstTroisPlADuP & \\\\blanc{\\\\transformerVtPstTroisPlADuG} \\\\\\\\', '\\\\allerViPstTroisSgDDu & \\\\allerViPstTroisSgDDuP & \\\\blanc{\\\\allerViPstTroisSgDDuG} \\\\\\\\', '\\\\chercherVtPstTroisDuCSg & \\\\chercherVtPstTroisDuCSgP & \\\\blanc{\\\\chercherVtPstTroisDuCSgG} \\\\\\\\', '\\\\tomberViPrsTroisSgASg & \\\\tomberViPrsTroisSgASgP & \\\\blanc{\\\\tomberViPrsTroisSgASgG} \\\\\\\\', '\\\\apporterVdPstTroisDuCDu & \\\\apporterVdPstTroisDuCDuP & \\\\blanc{\\\\apporterVdPstTroisDuCDuG} \\\\\\\\', '\\\\sortirViPrsTroisPlDDu & \\\\sortirViPrsTroisPlDDuP & \\\\blanc{\\\\sortirViPrsTroisPlDDuG} \\\\\\\\', '\\\\envahirVtPrsTroisPlCSg & \\\\envahirVtPrsTroisPlCSgP & \\\\blanc{\\\\envahirVtPrsTroisPlCSgG} \\\\\\\\', '\\\\passerViPstTroisDuBDu & \\\\passerViPstTroisDuBDuP & \\\\blanc{\\\\passerViPstTroisDuBDuG} \\\\\\\\', '\\\\pousserVtPstTroisPlDSg & \\\\pousserVtPstTroisPlDSgP & \\\\blanc{\\\\pousserVtPstTroisPlDSgG} \\\\\\\\', '\\\\protegerVtPrsTroisPlCSg & \\\\protegerVtPrsTroisPlCSgP & \\\\blanc{\\\\protegerVtPrsTroisPlCSgG} \\\\\\\\', '\\\\voirVtPrsTroisSgBPl & \\\\voirVtPrsTroisSgBPlP & \\\\blanc{\\\\voirVtPrsTroisSgBPlG} \\\\\\\\', '\\\\prendreVtPstTroisSgADu & \\\\prendreVtPstTroisSgADuP & \\\\blanc{\\\\prendreVtPstTroisSgADuG} \\\\\\\\', '\\\\prendreVtPrsTroisSgADu & \\\\prendreVtPrsTroisSgADuP & \\\\blanc{\\\\prendreVtPrsTroisSgADuG} \\\\\\\\', '\\\\chercherVtPrsTroisPlDSg & \\\\chercherVtPrsTroisPlDSgP & \\\\blanc{\\\\chercherVtPrsTroisPlDSgG} \\\\\\\\', '\\\\transpercerVtPstTroisSgDDu & \\\\transpercerVtPstTroisSgDDuP & \\\\blanc{\\\\transpercerVtPstTroisSgDDuG} \\\\\\\\', '\\\\sauterViPstTroisDuBPl & \\\\sauterViPstTroisDuBPlP & \\\\blanc{\\\\sauterViPstTroisDuBPlG} \\\\\\\\', '\\\\tomberViPstTroisPlBDu & \\\\tomberViPstTroisPlBDuP & \\\\blanc{\\\\tomberViPstTroisPlBDuG} \\\\\\\\', '\\\\etreVtPrsTroisPlBDu & \\\\etreVtPrsTroisPlBDuP & \\\\blanc{\\\\etreVtPrsTroisPlBDuG} \\\\\\\\', '\\\\voirVtPstTroisDuCSg & \\\\voirVtPstTroisDuCSgP & \\\\blanc{\\\\voirVtPstTroisDuCSgG} \\\\\\\\', '\\\\etreVtPrsTroisDuASg & \\\\etreVtPrsTroisDuASgP & \\\\blanc{\\\\etreVtPrsTroisDuASgG} \\\\\\\\', '\\\\protegerVtPrsTroisPlASg & \\\\protegerVtPrsTroisPlASgP & \\\\blanc{\\\\protegerVtPrsTroisPlASgG} \\\\\\\\', '\\\\transformerVtPrsTroisSgBSg & \\\\transformerVtPrsTroisSgBSgP & \\\\blanc{\\\\transformerVtPrsTroisSgBSgG} \\\\\\\\', '\\\\recouvrirVtPrsTroisSgASg & \\\\recouvrirVtPrsTroisSgASgP & \\\\blanc{\\\\recouvrirVtPrsTroisSgASgG} \\\\\\\\', '\\\\parlerViPrsTroisDuCPl & \\\\parlerViPrsTroisDuCPlP & \\\\blanc{\\\\parlerViPrsTroisDuCPlG} \\\\\\\\', '\\\\protegerVtPstTroisPlDSg & \\\\protegerVtPstTroisPlDSgP & \\\\blanc{\\\\protegerVtPstTroisPlDSgG} \\\\\\\\', '\\\\chercherVtPstTroisPlDSg & \\\\chercherVtPstTroisPlDSgP & \\\\blanc{\\\\chercherVtPstTroisPlDSgG} \\\\\\\\', '\\\\courirViPrsTroisDuASg & \\\\courirViPrsTroisDuASgP & \\\\blanc{\\\\courirViPrsTroisDuASgG} \\\\\\\\', '\\\\sauterViPstTroisDuBSg & \\\\sauterViPstTroisDuBSgP & \\\\blanc{\\\\sauterViPstTroisDuBSgG} \\\\\\\\', '\\\\sortirViPrsTroisSgDDu & \\\\sortirViPrsTroisSgDDuP & \\\\blanc{\\\\sortirViPrsTroisSgDDuG} \\\\\\\\', '\\\\protegerVtPrsTroisDuCPl & \\\\protegerVtPrsTroisDuCPlP & \\\\blanc{\\\\protegerVtPrsTroisDuCPlG} \\\\\\\\', '\\\\planterVtPstTroisSgBSg & \\\\planterVtPstTroisSgBSgP & \\\\blanc{\\\\planterVtPstTroisSgBSgG} \\\\\\\\', '\\\\devorerVtPstTroisPlAPl & \\\\devorerVtPstTroisPlAPlP & \\\\blanc{\\\\devorerVtPstTroisPlAPlG} \\\\\\\\', '\\\\transformerVtPrsTroisPlBPl & \\\\transformerVtPrsTroisPlBPlP & \\\\blanc{\\\\transformerVtPrsTroisPlBPlG} \\\\\\\\', '\\\\etreVtPstTroisSgDDu & \\\\etreVtPstTroisSgDDuP & \\\\blanc{\\\\etreVtPstTroisSgDDuG} \\\\\\\\', '\\\\courirViPrsTroisPlASg & \\\\courirViPrsTroisPlASgP & \\\\blanc{\\\\courirViPrsTroisPlASgG} \\\\\\\\', '\\\\disparaitreViPstTroisSgCPl & \\\\disparaitreViPstTroisSgCPlP & \\\\blanc{\\\\disparaitreViPstTroisSgCPlG} \\\\\\\\', '\\\\rejoindreVtPrsTroisDuBDu & \\\\rejoindreVtPrsTroisDuBDuP & \\\\blanc{\\\\rejoindreVtPrsTroisDuBDuG} \\\\\\\\', '\\\\tomberViPrsTroisSgCSg & \\\\tomberViPrsTroisSgCSgP & \\\\blanc{\\\\tomberViPrsTroisSgCSgG} \\\\\\\\', '\\\\protegerVtPstTroisDuBSg & \\\\protegerVtPstTroisDuBSgP & \\\\blanc{\\\\protegerVtPstTroisDuBSgG} \\\\\\\\', '\\\\tomberViPrsTroisDuCPl & \\\\tomberViPrsTroisDuCPlP & \\\\blanc{\\\\tomberViPrsTroisDuCPlG} \\\\\\\\', '\\\\etreVtPrsTroisDuCSg & \\\\etreVtPrsTroisDuCSgP & \\\\blanc{\\\\etreVtPrsTroisDuCSgG} \\\\\\\\', '\\\\protegerVtPrsTroisPlDDu & \\\\protegerVtPrsTroisPlDDuP & \\\\blanc{\\\\protegerVtPrsTroisPlDDuG} \\\\\\\\', '\\\\recouvrirVtPrsTroisDuAPl & \\\\recouvrirVtPrsTroisDuAPlP & \\\\blanc{\\\\recouvrirVtPrsTroisDuAPlG} \\\\\\\\', '\\\\etreVtPstTroisPlADu & \\\\etreVtPstTroisPlADuP & \\\\blanc{\\\\etreVtPstTroisPlADuG} \\\\\\\\', '\\\\devorerVtPrsTroisPlBSg & \\\\devorerVtPrsTroisPlBSgP & \\\\blanc{\\\\devorerVtPrsTroisPlBSgG} \\\\\\\\', '\\\\parlerViPrsTroisPlADu & \\\\parlerViPrsTroisPlADuP & \\\\blanc{\\\\parlerViPrsTroisPlADuG} \\\\\\\\', '\\\\tomberViPrsTroisSgBSg & \\\\tomberViPrsTroisSgBSgP & \\\\blanc{\\\\tomberViPrsTroisSgBSgG} \\\\\\\\', '\\\\rejoindreVtPstTroisPlCDu & \\\\rejoindreVtPstTroisPlCDuP & \\\\blanc{\\\\rejoindreVtPstTroisPlCDuG} \\\\\\\\', '\\\\chasserVtPstTroisSgCDu & \\\\chasserVtPstTroisSgCDuP & \\\\blanc{\\\\chasserVtPstTroisSgCDuG} \\\\\\\\', '\\\\rejoindreVtPstTroisSgDDu & \\\\rejoindreVtPstTroisSgDDuP & \\\\blanc{\\\\rejoindreVtPstTroisSgDDuG} \\\\\\\\', '\\\\chasserVtPrsTroisPlCPl & \\\\chasserVtPrsTroisPlCPlP & \\\\blanc{\\\\chasserVtPrsTroisPlCPlG} \\\\\\\\', '\\\\approcherViPrsTroisDuASg & \\\\approcherViPrsTroisDuASgP & \\\\blanc{\\\\approcherViPrsTroisDuASgG} \\\\\\\\', '\\\\pousserVtPrsTroisPlAPl & \\\\pousserVtPrsTroisPlAPlP & \\\\blanc{\\\\pousserVtPrsTroisPlAPlG} \\\\\\\\', '\\\\transpercerVtPrsTroisSgBSg & \\\\transpercerVtPrsTroisSgBSgP & \\\\blanc{\\\\transpercerVtPrsTroisSgBSgG} \\\\\\\\', '\\\\chercherVtPstTroisDuBSg & \\\\chercherVtPstTroisDuBSgP & \\\\blanc{\\\\chercherVtPstTroisDuBSgG} \\\\\\\\', '\\\\recouvrirVtPrsTroisSgCSg & \\\\recouvrirVtPrsTroisSgCSgP & \\\\blanc{\\\\recouvrirVtPrsTroisSgCSgG} \\\\\\\\', '\\\\jeterVtPrsTroisPlASg & \\\\jeterVtPrsTroisPlASgP & \\\\blanc{\\\\jeterVtPrsTroisPlASgG} \\\\\\\\', '\\\\disparaitreViPrsTroisSgASg & \\\\disparaitreViPrsTroisSgASgP & \\\\blanc{\\\\disparaitreViPrsTroisSgASgG} \\\\\\\\', '\\\\devorerVtPrsTroisPlDSg & \\\\devorerVtPrsTroisPlDSgP & \\\\blanc{\\\\devorerVtPrsTroisPlDSgG} \\\\\\\\', '\\\\approcherViPrsTroisPlCSg & \\\\approcherViPrsTroisPlCSgP & \\\\blanc{\\\\approcherViPrsTroisPlCSgG} \\\\\\\\', '\\\\allerViPrsTroisSgCDu & \\\\allerViPrsTroisSgCDuP & \\\\blanc{\\\\allerViPrsTroisSgCDuG} \\\\\\\\', '\\\\rejoindreVtPstTroisDuADu & \\\\rejoindreVtPstTroisDuADuP & \\\\blanc{\\\\rejoindreVtPstTroisDuADuG} \\\\\\\\', '\\\\recouvrirVtPrsTroisPlBPl & \\\\recouvrirVtPrsTroisPlBPlP & \\\\blanc{\\\\recouvrirVtPrsTroisPlBPlG} \\\\\\\\', '\\\\transformerVtPstTroisSgCPl & \\\\transformerVtPstTroisSgCPlP & \\\\blanc{\\\\transformerVtPstTroisSgCPlG} \\\\\\\\', '\\\\prendreVtPrsTroisPlCSg & \\\\prendreVtPrsTroisPlCSgP & \\\\blanc{\\\\prendreVtPrsTroisPlCSgG} \\\\\\\\', '\\\\apporterVdPstTroisSgASg & \\\\apporterVdPstTroisSgASgP & \\\\blanc{\\\\apporterVdPstTroisSgASgG} \\\\\\\\', '\\\\approcherViPstTroisDuADu & \\\\approcherViPstTroisDuADuP & \\\\blanc{\\\\approcherViPstTroisDuADuG} \\\\\\\\', '\\\\courirViPrsTroisSgDPl & \\\\courirViPrsTroisSgDPlP & \\\\blanc{\\\\courirViPrsTroisSgDPlG} \\\\\\\\', '\\\\recouvrirVtPrsTroisSgDDu & \\\\recouvrirVtPrsTroisSgDDuP & \\\\blanc{\\\\recouvrirVtPrsTroisSgDDuG} \\\\\\\\', '\\\\parlerViPrsTroisDuCSg & \\\\parlerViPrsTroisDuCSgP & \\\\blanc{\\\\parlerViPrsTroisDuCSgG} \\\\\\\\', '\\\\recouvrirVtPstTroisDuCDu & \\\\recouvrirVtPstTroisDuCDuP & \\\\blanc{\\\\recouvrirVtPstTroisDuCDuG} \\\\\\\\', '\\\\protegerVtPrsTroisDuDDu & \\\\protegerVtPrsTroisDuDDuP & \\\\blanc{\\\\protegerVtPrsTroisDuDDuG} \\\\\\\\', '\\\\sauterViPrsTroisPlBPl & \\\\sauterViPrsTroisPlBPlP & \\\\blanc{\\\\sauterViPrsTroisPlBPlG} \\\\\\\\', '\\\\sauterViPstTroisSgBSg & \\\\sauterViPstTroisSgBSgP & \\\\blanc{\\\\sauterViPstTroisSgBSgG} \\\\\\\\', '\\\\passerViPstTroisDuDPl & \\\\passerViPstTroisDuDPlP & \\\\blanc{\\\\passerViPstTroisDuDPlG} \\\\\\\\', '\\\\approcherViPrsTroisSgCPl & \\\\approcherViPrsTroisSgCPlP & \\\\blanc{\\\\approcherViPrsTroisSgCPlG} \\\\\\\\', '\\\\voirVtPstTroisPlDSg & \\\\voirVtPstTroisPlDSgP & \\\\blanc{\\\\voirVtPstTroisPlDSgG} \\\\\\\\', '\\\\recouvrirVtPrsTroisSgCDu & \\\\recouvrirVtPrsTroisSgCDuP & \\\\blanc{\\\\recouvrirVtPrsTroisSgCDuG} \\\\\\\\', '\\\\envahirVtPstTroisDuBPl & \\\\envahirVtPstTroisDuBPlP & \\\\blanc{\\\\envahirVtPstTroisDuBPlG} \\\\\\\\', '\\\\parlerViPstTroisSgDSg & \\\\parlerViPstTroisSgDSgP & \\\\blanc{\\\\parlerViPstTroisSgDSgG} \\\\\\\\', '\\\\planterVtPrsTroisSgCSg & \\\\planterVtPrsTroisSgCSgP & \\\\blanc{\\\\planterVtPrsTroisSgCSgG} \\\\\\\\', '\\\\chasserVtPstTroisDuBDu & \\\\chasserVtPstTroisDuBDuP & \\\\blanc{\\\\chasserVtPstTroisDuBDuG} \\\\\\\\', '\\\\courirViPrsTroisSgBSg & \\\\courirViPrsTroisSgBSgP & \\\\blanc{\\\\courirViPrsTroisSgBSgG} \\\\\\\\', '\\\\envahirVtPrsTroisDuBSg & \\\\envahirVtPrsTroisDuBSgP & \\\\blanc{\\\\envahirVtPrsTroisDuBSgG} \\\\\\\\', '\\\\passerViPstTroisDuCSg & \\\\passerViPstTroisDuCSgP & \\\\blanc{\\\\passerViPstTroisDuCSgG} \\\\\\\\', '\\\\pousserVtPstTroisSgCDu & \\\\pousserVtPstTroisSgCDuP & \\\\blanc{\\\\pousserVtPstTroisSgCDuG} \\\\\\\\', '\\\\voirVtPrsTroisDuDPl & \\\\voirVtPrsTroisDuDPlP & \\\\blanc{\\\\voirVtPrsTroisDuDPlG} \\\\\\\\', '\\\\devorerVtPrsTroisDuCSg & \\\\devorerVtPrsTroisDuCSgP & \\\\blanc{\\\\devorerVtPrsTroisDuCSgG} \\\\\\\\', '\\\\planterVtPrsTroisDuCPl & \\\\planterVtPrsTroisDuCPlP & \\\\blanc{\\\\planterVtPrsTroisDuCPlG} \\\\\\\\', '\\\\sortirViPstTroisPlBPl & \\\\sortirViPstTroisPlBPlP & \\\\blanc{\\\\sortirViPstTroisPlBPlG} \\\\\\\\', '\\\\courirViPrsTroisPlBPl & \\\\courirViPrsTroisPlBPlP & \\\\blanc{\\\\courirViPrsTroisPlBPlG} \\\\\\\\', '\\\\devorerVtPrsTroisPlCSg & \\\\devorerVtPrsTroisPlCSgP & \\\\blanc{\\\\devorerVtPrsTroisPlCSgG} \\\\\\\\', '\\\\chasserVtPstTroisPlADu & \\\\chasserVtPstTroisPlADuP & \\\\blanc{\\\\chasserVtPstTroisPlADuG} \\\\\\\\', '\\\\pousserVtPrsTroisSgCDu & \\\\pousserVtPrsTroisSgCDuP & \\\\blanc{\\\\pousserVtPrsTroisSgCDuG} \\\\\\\\', '\\\\transpercerVtPstTroisSgBSg & \\\\transpercerVtPstTroisSgBSgP & \\\\blanc{\\\\transpercerVtPstTroisSgBSgG} \\\\\\\\', '\\\\apporterVdPstTroisSgCDu & \\\\apporterVdPstTroisSgCDuP & \\\\blanc{\\\\apporterVdPstTroisSgCDuG} \\\\\\\\', '\\\\sauterViPrsTroisPlDDu & \\\\sauterViPrsTroisPlDDuP & \\\\blanc{\\\\sauterViPrsTroisPlDDuG} \\\\\\\\', '\\\\chasserVtPstTroisDuDDu & \\\\chasserVtPstTroisDuDDuP & \\\\blanc{\\\\chasserVtPstTroisDuDDuG} \\\\\\\\', '\\\\etreVtPrsTroisDuADu & \\\\etreVtPrsTroisDuADuP & \\\\blanc{\\\\etreVtPrsTroisDuADuG} \\\\\\\\', '\\\\sortirViPstTroisPlCPl & \\\\sortirViPstTroisPlCPlP & \\\\blanc{\\\\sortirViPstTroisPlCPlG} \\\\\\\\', '\\\\transformerVtPstTroisDuDSg & \\\\transformerVtPstTroisDuDSgP & \\\\blanc{\\\\transformerVtPstTroisDuDSgG} \\\\\\\\', '\\\\chercherVtPstTroisSgBPl & \\\\chercherVtPstTroisSgBPlP & \\\\blanc{\\\\chercherVtPstTroisSgBPlG} \\\\\\\\', '\\\\planterVtPrsTroisSgADu & \\\\planterVtPrsTroisSgADuP & \\\\blanc{\\\\planterVtPrsTroisSgADuG} \\\\\\\\', '\\\\chasserVtPrsTroisDuAPl & \\\\chasserVtPrsTroisDuAPlP & \\\\blanc{\\\\chasserVtPrsTroisDuAPlG} \\\\\\\\', '\\\\pousserVtPrsTroisSgDDu & \\\\pousserVtPrsTroisSgDDuP & \\\\blanc{\\\\pousserVtPrsTroisSgDDuG} \\\\\\\\', '\\\\protegerVtPstTroisPlCDu & \\\\protegerVtPstTroisPlCDuP & \\\\blanc{\\\\protegerVtPstTroisPlCDuG} \\\\\\\\', '\\\\envahirVtPstTroisDuBDu & \\\\envahirVtPstTroisDuBDuP & \\\\blanc{\\\\envahirVtPstTroisDuBDuG} \\\\\\\\', '\\\\envahirVtPstTroisDuCSg & \\\\envahirVtPstTroisDuCSgP & \\\\blanc{\\\\envahirVtPstTroisDuCSgG} \\\\\\\\', '\\\\passerViPstTroisSgDPl & \\\\passerViPstTroisSgDPlP & \\\\blanc{\\\\passerViPstTroisSgDPlG} \\\\\\\\', '\\\\jeterVtPstTroisPlDSg & \\\\jeterVtPstTroisPlDSgP & \\\\blanc{\\\\jeterVtPstTroisPlDSgG} \\\\\\\\', '\\\\transpercerVtPrsTroisDuCDu & \\\\transpercerVtPrsTroisDuCDuP & \\\\blanc{\\\\transpercerVtPrsTroisDuCDuG} \\\\\\\\', '\\\\parlerViPrsTroisPlAPl & \\\\parlerViPrsTroisPlAPlP & \\\\blanc{\\\\parlerViPrsTroisPlAPlG} \\\\\\\\', '\\\\transformerVtPrsTroisSgADu & \\\\transformerVtPrsTroisSgADuP & \\\\blanc{\\\\transformerVtPrsTroisSgADuG} \\\\\\\\', '\\\\jeterVtPrsTroisPlDSg & \\\\jeterVtPrsTroisPlDSgP & \\\\blanc{\\\\jeterVtPrsTroisPlDSgG} \\\\\\\\', '\\\\etreVtPstTroisSgDSg & \\\\etreVtPstTroisSgDSgP & \\\\blanc{\\\\etreVtPstTroisSgDSgG} \\\\\\\\', '\\\\donnerVdPrsTroisSgCPl & \\\\donnerVdPrsTroisSgCPlP & \\\\blanc{\\\\donnerVdPrsTroisSgCPlG} \\\\\\\\', '\\\\fuirViPstTroisPlBDu & \\\\fuirViPstTroisPlBDuP & \\\\blanc{\\\\fuirViPstTroisPlBDuG} \\\\\\\\', '\\\\courirViPstTroisSgCPl & \\\\courirViPstTroisSgCPlP & \\\\blanc{\\\\courirViPstTroisSgCPlG} \\\\\\\\', '\\\\approcherViPrsTroisDuDSg & \\\\approcherViPrsTroisDuDSgP & \\\\blanc{\\\\approcherViPrsTroisDuDSgG} \\\\\\\\', '\\\\envahirVtPrsTroisPlADu & \\\\envahirVtPrsTroisPlADuP & \\\\blanc{\\\\envahirVtPrsTroisPlADuG} \\\\\\\\', '\\\\parlerViPstTroisDuCPl & \\\\parlerViPstTroisDuCPlP & \\\\blanc{\\\\parlerViPstTroisDuCPlG} \\\\\\\\', '\\\\sauterViPstTroisSgASg & \\\\sauterViPstTroisSgASgP & \\\\blanc{\\\\sauterViPstTroisSgASgG} \\\\\\\\', '\\\\jeterVtPrsTroisSgASg & \\\\jeterVtPrsTroisSgASgP & \\\\blanc{\\\\jeterVtPrsTroisSgASgG} \\\\\\\\', '\\\\devorerVtPrsTroisSgAPl & \\\\devorerVtPrsTroisSgAPlP & \\\\blanc{\\\\devorerVtPrsTroisSgAPlG} \\\\\\\\', '\\\\courirViPstTroisPlBDu & \\\\courirViPstTroisPlBDuP & \\\\blanc{\\\\courirViPstTroisPlBDuG} \\\\\\\\', '\\\\parlerViPstTroisPlCDu & \\\\parlerViPstTroisPlCDuP & \\\\blanc{\\\\parlerViPstTroisPlCDuG} \\\\\\\\', '\\\\recouvrirVtPstTroisPlCPl & \\\\recouvrirVtPstTroisPlCPlP & \\\\blanc{\\\\recouvrirVtPstTroisPlCPlG} \\\\\\\\', '\\\\chasserVtPrsTroisSgCDu & \\\\chasserVtPrsTroisSgCDuP & \\\\blanc{\\\\chasserVtPrsTroisSgCDuG} \\\\\\\\', '\\\\allerViPrsTroisDuCPl & \\\\allerViPrsTroisDuCPlP & \\\\blanc{\\\\allerViPrsTroisDuCPlG} \\\\\\\\', '\\\\parlerViPrsTroisPlCDu & \\\\parlerViPrsTroisPlCDuP & \\\\blanc{\\\\parlerViPrsTroisPlCDuG} \\\\\\\\', '\\\\apporterVdPrsTroisDuBSg & \\\\apporterVdPrsTroisDuBSgP & \\\\blanc{\\\\apporterVdPrsTroisDuBSgG} \\\\\\\\', '\\\\approcherViPstTroisDuCDu & \\\\approcherViPstTroisDuCDuP & \\\\blanc{\\\\approcherViPstTroisDuCDuG} \\\\\\\\', '\\\\courirViPrsTroisDuCSg & \\\\courirViPrsTroisDuCSgP & \\\\blanc{\\\\courirViPrsTroisDuCSgG} \\\\\\\\', '\\\\passerViPstTroisSgAPl & \\\\passerViPstTroisSgAPlP & \\\\blanc{\\\\passerViPstTroisSgAPlG} \\\\\\\\', '\\\\passerViPrsTroisSgASg & \\\\passerViPrsTroisSgASgP & \\\\blanc{\\\\passerViPrsTroisSgASgG} \\\\\\\\', '\\\\chercherVtPstTroisPlBDu & \\\\chercherVtPstTroisPlBDuP & \\\\blanc{\\\\chercherVtPstTroisPlBDuG} \\\\\\\\', '\\\\donnerVdPstTroisDuBPl & \\\\donnerVdPstTroisDuBPlP & \\\\blanc{\\\\donnerVdPstTroisDuBPlG} \\\\\\\\', '\\\\donnerVdPstTroisPlASg & \\\\donnerVdPstTroisPlASgP & \\\\blanc{\\\\donnerVdPstTroisPlASgG} \\\\\\\\', '\\\\prendreVtPstTroisPlAPl & \\\\prendreVtPstTroisPlAPlP & \\\\blanc{\\\\prendreVtPstTroisPlAPlG} \\\\\\\\', '\\\\courirViPstTroisDuDSg & \\\\courirViPstTroisDuDSgP & \\\\blanc{\\\\courirViPstTroisDuDSgG} \\\\\\\\', '\\\\recouvrirVtPstTroisSgCDu & \\\\recouvrirVtPstTroisSgCDuP & \\\\blanc{\\\\recouvrirVtPstTroisSgCDuG} \\\\\\\\', '\\\\planterVtPstTroisSgBDu & \\\\planterVtPstTroisSgBDuP & \\\\blanc{\\\\planterVtPstTroisSgBDuG} \\\\\\\\', '\\\\sortirViPrsTroisDuADu & \\\\sortirViPrsTroisDuADuP & \\\\blanc{\\\\sortirViPrsTroisDuADuG} \\\\\\\\', '\\\\envahirVtPrsTroisDuBDu & \\\\envahirVtPrsTroisDuBDuP & \\\\blanc{\\\\envahirVtPrsTroisDuBDuG} \\\\\\\\', '\\\\approcherViPstTroisDuBSg & \\\\approcherViPstTroisDuBSgP & \\\\blanc{\\\\approcherViPstTroisDuBSgG} \\\\\\\\', '\\\\tomberViPstTroisSgDSg & \\\\tomberViPstTroisSgDSgP & \\\\blanc{\\\\tomberViPstTroisSgDSgG} \\\\\\\\', '\\\\apporterVdPrsTroisDuCDu & \\\\apporterVdPrsTroisDuCDuP & \\\\blanc{\\\\apporterVdPrsTroisDuCDuG} \\\\\\\\', '\\\\protegerVtPrsTroisSgBSg & \\\\protegerVtPrsTroisSgBSgP & \\\\blanc{\\\\protegerVtPrsTroisSgBSgG} \\\\\\\\', '\\\\approcherViPstTroisPlAPl & \\\\approcherViPstTroisPlAPlP & \\\\blanc{\\\\approcherViPstTroisPlAPlG} \\\\\\\\', '\\\\donnerVdPstTroisSgBSg & \\\\donnerVdPstTroisSgBSgP & \\\\blanc{\\\\donnerVdPstTroisSgBSgG} \\\\\\\\', '\\\\apporterVdPrsTroisDuCPl & \\\\apporterVdPrsTroisDuCPlP & \\\\blanc{\\\\apporterVdPrsTroisDuCPlG} \\\\\\\\', '\\\\fuirViPstTroisSgBDu & \\\\fuirViPstTroisSgBDuP & \\\\blanc{\\\\fuirViPstTroisSgBDuG} \\\\\\\\', '\\\\parlerViPstTroisDuDPl & \\\\parlerViPstTroisDuDPlP & \\\\blanc{\\\\parlerViPstTroisDuDPlG} \\\\\\\\', '\\\\transformerVtPrsTroisDuBSg & \\\\transformerVtPrsTroisDuBSgP & \\\\blanc{\\\\transformerVtPrsTroisDuBSgG} \\\\\\\\', '\\\\pousserVtPrsTroisPlDPl & \\\\pousserVtPrsTroisPlDPlP & \\\\blanc{\\\\pousserVtPrsTroisPlDPlG} \\\\\\\\', '\\\\jeterVtPstTroisPlADu & \\\\jeterVtPstTroisPlADuP & \\\\blanc{\\\\jeterVtPstTroisPlADuG} \\\\\\\\', '\\\\sauterViPstTroisSgAPl & \\\\sauterViPstTroisSgAPlP & \\\\blanc{\\\\sauterViPstTroisSgAPlG} \\\\\\\\', '\\\\tomberViPstTroisPlAPl & \\\\tomberViPstTroisPlAPlP & \\\\blanc{\\\\tomberViPstTroisPlAPlG} \\\\\\\\', '\\\\recouvrirVtPstTroisDuDSg & \\\\recouvrirVtPstTroisDuDSgP & \\\\blanc{\\\\recouvrirVtPstTroisDuDSgG} \\\\\\\\', '\\\\jeterVtPstTroisDuDSg & \\\\jeterVtPstTroisDuDSgP & \\\\blanc{\\\\jeterVtPstTroisDuDSgG} \\\\\\\\', '\\\\donnerVdPrsTroisDuCDu & \\\\donnerVdPrsTroisDuCDuP & \\\\blanc{\\\\donnerVdPrsTroisDuCDuG} \\\\\\\\', '\\\\etreVtPstTroisDuBSg & \\\\etreVtPstTroisDuBSgP & \\\\blanc{\\\\etreVtPstTroisDuBSgG} \\\\\\\\', '\\\\chasserVtPstTroisDuDPl & \\\\chasserVtPstTroisDuDPlP & \\\\blanc{\\\\chasserVtPstTroisDuDPlG} \\\\\\\\', '\\\\planterVtPstTroisSgCSg & \\\\planterVtPstTroisSgCSgP & \\\\blanc{\\\\planterVtPstTroisSgCSgG} \\\\\\\\', '\\\\prendreVtPrsTroisSgBPl & \\\\prendreVtPrsTroisSgBPlP & \\\\blanc{\\\\prendreVtPrsTroisSgBPlG} \\\\\\\\', '\\\\transformerVtPrsTroisSgCDu & \\\\transformerVtPrsTroisSgCDuP & \\\\blanc{\\\\transformerVtPrsTroisSgCDuG} \\\\\\\\', '\\\\disparaitreViPstTroisSgBPl & \\\\disparaitreViPstTroisSgBPlP & \\\\blanc{\\\\disparaitreViPstTroisSgBPlG} \\\\\\\\', '\\\\allerViPstTroisDuDPl & \\\\allerViPstTroisDuDPlP & \\\\blanc{\\\\allerViPstTroisDuDPlG} \\\\\\\\', '\\\\apporterVdPstTroisPlADu & \\\\apporterVdPstTroisPlADuP & \\\\blanc{\\\\apporterVdPstTroisPlADuG} \\\\\\\\', '\\\\chercherVtPstTroisSgAPl & \\\\chercherVtPstTroisSgAPlP & \\\\blanc{\\\\chercherVtPstTroisSgAPlG} \\\\\\\\', '\\\\chasserVtPrsTroisDuBSg & \\\\chasserVtPrsTroisDuBSgP & \\\\blanc{\\\\chasserVtPrsTroisDuBSgG} \\\\\\\\', '\\\\rejoindreVtPstTroisPlDPl & \\\\rejoindreVtPstTroisPlDPlP & \\\\blanc{\\\\rejoindreVtPstTroisPlDPlG} \\\\\\\\', '\\\\sauterViPstTroisDuDSg & \\\\sauterViPstTroisDuDSgP & \\\\blanc{\\\\sauterViPstTroisDuDSgG} \\\\\\\\', '\\\\transpercerVtPrsTroisSgAPl & \\\\transpercerVtPrsTroisSgAPlP & \\\\blanc{\\\\transpercerVtPrsTroisSgAPlG} \\\\\\\\', '\\\\tomberViPrsTroisPlASg & \\\\tomberViPrsTroisPlASgP & \\\\blanc{\\\\tomberViPrsTroisPlASgG} \\\\\\\\', '\\\\tomberViPrsTroisDuDPl & \\\\tomberViPrsTroisDuDPlP & \\\\blanc{\\\\tomberViPrsTroisDuDPlG} \\\\\\\\', '\\\\recouvrirVtPrsTroisPlCPl & \\\\recouvrirVtPrsTroisPlCPlP & \\\\blanc{\\\\recouvrirVtPrsTroisPlCPlG} \\\\\\\\', '\\\\transpercerVtPrsTroisDuADu & \\\\transpercerVtPrsTroisDuADuP & \\\\blanc{\\\\transpercerVtPrsTroisDuADuG} \\\\\\\\', '\\\\sortirViPrsTroisPlASg & \\\\sortirViPrsTroisPlASgP & \\\\blanc{\\\\sortirViPrsTroisPlASgG} \\\\\\\\', '\\\\allerViPrsTroisPlBPl & \\\\allerViPrsTroisPlBPlP & \\\\blanc{\\\\allerViPrsTroisPlBPlG} \\\\\\\\', '\\\\chercherVtPrsTroisPlCDu & \\\\chercherVtPrsTroisPlCDuP & \\\\blanc{\\\\chercherVtPrsTroisPlCDuG} \\\\\\\\', '\\\\recouvrirVtPstTroisDuDPl & \\\\recouvrirVtPstTroisDuDPlP & \\\\blanc{\\\\recouvrirVtPstTroisDuDPlG} \\\\\\\\', '\\\\fuirViPstTroisSgCSg & \\\\fuirViPstTroisSgCSgP & \\\\blanc{\\\\fuirViPstTroisSgCSgG} \\\\\\\\', '\\\\disparaitreViPrsTroisSgBDu & \\\\disparaitreViPrsTroisSgBDuP & \\\\blanc{\\\\disparaitreViPrsTroisSgBDuG} \\\\\\\\', '\\\\allerViPrsTroisPlDDu & \\\\allerViPrsTroisPlDDuP & \\\\blanc{\\\\allerViPrsTroisPlDDuG} \\\\\\\\', '\\\\sortirViPstTroisPlADu & \\\\sortirViPstTroisPlADuP & \\\\blanc{\\\\sortirViPstTroisPlADuG} \\\\\\\\', '\\\\transpercerVtPstTroisPlBDu & \\\\transpercerVtPstTroisPlBDuP & \\\\blanc{\\\\transpercerVtPstTroisPlBDuG} \\\\\\\\', '\\\\transformerVtPrsTroisSgDPl & \\\\transformerVtPrsTroisSgDPlP & \\\\blanc{\\\\transformerVtPrsTroisSgDPlG} \\\\\\\\', '\\\\pousserVtPstTroisDuBSg & \\\\pousserVtPstTroisDuBSgP & \\\\blanc{\\\\pousserVtPstTroisDuBSgG} \\\\\\\\', '\\\\etreVtPrsTroisPlDDu & \\\\etreVtPrsTroisPlDDuP & \\\\blanc{\\\\etreVtPrsTroisPlDDuG} \\\\\\\\', '\\\\voirVtPstTroisDuASg & \\\\voirVtPstTroisDuASgP & \\\\blanc{\\\\voirVtPstTroisDuASgG} \\\\\\\\', '\\\\disparaitreViPstTroisPlBDu & \\\\disparaitreViPstTroisPlBDuP & \\\\blanc{\\\\disparaitreViPstTroisPlBDuG} \\\\\\\\', '\\\\devorerVtPrsTroisSgBSg & \\\\devorerVtPrsTroisSgBSgP & \\\\blanc{\\\\devorerVtPrsTroisSgBSgG} \\\\\\\\', '\\\\transpercerVtPstTroisDuCPl & \\\\transpercerVtPstTroisDuCPlP & \\\\blanc{\\\\transpercerVtPstTroisDuCPlG} \\\\\\\\', '\\\\fuirViPstTroisDuDDu & \\\\fuirViPstTroisDuDDuP & \\\\blanc{\\\\fuirViPstTroisDuDDuG} \\\\\\\\', '\\\\recouvrirVtPstTroisDuBDu & \\\\recouvrirVtPstTroisDuBDuP & \\\\blanc{\\\\recouvrirVtPstTroisDuBDuG} \\\\\\\\', '\\\\prendreVtPrsTroisSgBSg & \\\\prendreVtPrsTroisSgBSgP & \\\\blanc{\\\\prendreVtPrsTroisSgBSgG} \\\\\\\\', '\\\\sortirViPstTroisPlBSg & \\\\sortirViPstTroisPlBSgP & \\\\blanc{\\\\sortirViPstTroisPlBSgG} \\\\\\\\', '\\\\approcherViPstTroisDuBDu & \\\\approcherViPstTroisDuBDuP & \\\\blanc{\\\\approcherViPstTroisDuBDuG} \\\\\\\\', '\\\\sortirViPrsTroisSgBDu & \\\\sortirViPrsTroisSgBDuP & \\\\blanc{\\\\sortirViPrsTroisSgBDuG} \\\\\\\\', '\\\\recouvrirVtPrsTroisPlADu & \\\\recouvrirVtPrsTroisPlADuP & \\\\blanc{\\\\recouvrirVtPrsTroisPlADuG} \\\\\\\\', '\\\\voirVtPrsTroisDuCPl & \\\\voirVtPrsTroisDuCPlP & \\\\blanc{\\\\voirVtPrsTroisDuCPlG} \\\\\\\\', '\\\\pousserVtPstTroisPlBSg & \\\\pousserVtPstTroisPlBSgP & \\\\blanc{\\\\pousserVtPstTroisPlBSgG} \\\\\\\\', '\\\\fuirViPrsTroisSgBDu & \\\\fuirViPrsTroisSgBDuP & \\\\blanc{\\\\fuirViPrsTroisSgBDuG} \\\\\\\\', '\\\\fuirViPstTroisDuBDu & \\\\fuirViPstTroisDuBDuP & \\\\blanc{\\\\fuirViPstTroisDuBDuG} \\\\\\\\', '\\\\envahirVtPrsTroisSgCSg & \\\\envahirVtPrsTroisSgCSgP & \\\\blanc{\\\\envahirVtPrsTroisSgCSgG} \\\\\\\\', '\\\\chercherVtPstTroisSgCDu & \\\\chercherVtPstTroisSgCDuP & \\\\blanc{\\\\chercherVtPstTroisSgCDuG} \\\\\\\\', '\\\\devorerVtPstTroisSgDSg & \\\\devorerVtPstTroisSgDSgP & \\\\blanc{\\\\devorerVtPstTroisSgDSgG} \\\\\\\\', '\\\\passerViPrsTroisSgADu & \\\\passerViPrsTroisSgADuP & \\\\blanc{\\\\passerViPrsTroisSgADuG} \\\\\\\\', '\\\\chasserVtPstTroisSgDDu & \\\\chasserVtPstTroisSgDDuP & \\\\blanc{\\\\chasserVtPstTroisSgDDuG} \\\\\\\\', '\\\\recouvrirVtPstTroisSgASg & \\\\recouvrirVtPstTroisSgASgP & \\\\blanc{\\\\recouvrirVtPstTroisSgASgG} \\\\\\\\', '\\\\tomberViPstTroisDuASg & \\\\tomberViPstTroisDuASgP & \\\\blanc{\\\\tomberViPstTroisDuASgG} \\\\\\\\', '\\\\jeterVtPrsTroisDuBSg & \\\\jeterVtPrsTroisDuBSgP & \\\\blanc{\\\\jeterVtPrsTroisDuBSgG} \\\\\\\\', '\\\\etreVtPstTroisPlCPl & \\\\etreVtPstTroisPlCPlP & \\\\blanc{\\\\etreVtPstTroisPlCPlG} \\\\\\\\', '\\\\rejoindreVtPrsTroisDuDPl & \\\\rejoindreVtPrsTroisDuDPlP & \\\\blanc{\\\\rejoindreVtPrsTroisDuDPlG} \\\\\\\\', '\\\\passerViPrsTroisDuDDu & \\\\passerViPrsTroisDuDDuP & \\\\blanc{\\\\passerViPrsTroisDuDDuG} \\\\\\\\', '\\\\sauterViPstTroisDuDPl & \\\\sauterViPstTroisDuDPlP & \\\\blanc{\\\\sauterViPstTroisDuDPlG} \\\\\\\\', '\\\\envahirVtPrsTroisSgBDu & \\\\envahirVtPrsTroisSgBDuP & \\\\blanc{\\\\envahirVtPrsTroisSgBDuG} \\\\\\\\', '\\\\passerViPstTroisPlBDu & \\\\passerViPstTroisPlBDuP & \\\\blanc{\\\\passerViPstTroisPlBDuG} \\\\\\\\', '\\\\protegerVtPstTroisPlAPl & \\\\protegerVtPstTroisPlAPlP & \\\\blanc{\\\\protegerVtPstTroisPlAPlG} \\\\\\\\', '\\\\jeterVtPrsTroisPlCPl & \\\\jeterVtPrsTroisPlCPlP & \\\\blanc{\\\\jeterVtPrsTroisPlCPlG} \\\\\\\\', '\\\\etreVtPrsTroisDuBDu & \\\\etreVtPrsTroisDuBDuP & \\\\blanc{\\\\etreVtPrsTroisDuBDuG} \\\\\\\\', '\\\\devorerVtPrsTroisDuDPl & \\\\devorerVtPrsTroisDuDPlP & \\\\blanc{\\\\devorerVtPrsTroisDuDPlG} \\\\\\\\', '\\\\courirViPstTroisPlAPl & \\\\courirViPstTroisPlAPlP & \\\\blanc{\\\\courirViPstTroisPlAPlG} \\\\\\\\', '\\\\approcherViPstTroisDuBPl & \\\\approcherViPstTroisDuBPlP & \\\\blanc{\\\\approcherViPstTroisDuBPlG} \\\\\\\\', '\\\\apporterVdPstTroisPlDPl & \\\\apporterVdPstTroisPlDPlP & \\\\blanc{\\\\apporterVdPstTroisPlDPlG} \\\\\\\\', '\\\\pousserVtPrsTroisSgDPl & \\\\pousserVtPrsTroisSgDPlP & \\\\blanc{\\\\pousserVtPrsTroisSgDPlG} \\\\\\\\', '\\\\pousserVtPstTroisSgDDu & \\\\pousserVtPstTroisSgDDuP & \\\\blanc{\\\\pousserVtPstTroisSgDDuG} \\\\\\\\', '\\\\rejoindreVtPrsTroisDuDDu & \\\\rejoindreVtPrsTroisDuDDuP & \\\\blanc{\\\\rejoindreVtPrsTroisDuDDuG} \\\\\\\\', '\\\\transpercerVtPrsTroisDuBDu & \\\\transpercerVtPrsTroisDuBDuP & \\\\blanc{\\\\transpercerVtPrsTroisDuBDuG} \\\\\\\\', '\\\\tomberViPstTroisDuAPl & \\\\tomberViPstTroisDuAPlP & \\\\blanc{\\\\tomberViPstTroisDuAPlG} \\\\\\\\', '\\\\donnerVdPstTroisDuCPl & \\\\donnerVdPstTroisDuCPlP & \\\\blanc{\\\\donnerVdPstTroisDuCPlG} \\\\\\\\', '\\\\sauterViPrsTroisSgBSg & \\\\sauterViPrsTroisSgBSgP & \\\\blanc{\\\\sauterViPrsTroisSgBSgG} \\\\\\\\', '\\\\courirViPrsTroisDuBPl & \\\\courirViPrsTroisDuBPlP & \\\\blanc{\\\\courirViPrsTroisDuBPlG} \\\\\\\\', '\\\\donnerVdPrsTroisDuBSg & \\\\donnerVdPrsTroisDuBSgP & \\\\blanc{\\\\donnerVdPrsTroisDuBSgG} \\\\\\\\', '\\\\voirVtPrsTroisPlBSg & \\\\voirVtPrsTroisPlBSgP & \\\\blanc{\\\\voirVtPrsTroisPlBSgG} \\\\\\\\', '\\\\recouvrirVtPrsTroisSgAPl & \\\\recouvrirVtPrsTroisSgAPlP & \\\\blanc{\\\\recouvrirVtPrsTroisSgAPlG} \\\\\\\\', '\\\\parlerViPstTroisSgCDu & \\\\parlerViPstTroisSgCDuP & \\\\blanc{\\\\parlerViPstTroisSgCDuG} \\\\\\\\', '\\\\rejoindreVtPrsTroisPlDDu & \\\\rejoindreVtPrsTroisPlDDuP & \\\\blanc{\\\\rejoindreVtPrsTroisPlDDuG} \\\\\\\\', '\\\\sortirViPrsTroisSgCPl & \\\\sortirViPrsTroisSgCPlP & \\\\blanc{\\\\sortirViPrsTroisSgCPlG} \\\\\\\\', '\\\\transformerVtPstTroisSgDSg & \\\\transformerVtPstTroisSgDSgP & \\\\blanc{\\\\transformerVtPstTroisSgDSgG} \\\\\\\\', '\\\\disparaitreViPrsTroisDuADu & \\\\disparaitreViPrsTroisDuADuP & \\\\blanc{\\\\disparaitreViPrsTroisDuADuG} \\\\\\\\', '\\\\courirViPrsTroisDuBDu & \\\\courirViPrsTroisDuBDuP & \\\\blanc{\\\\courirViPrsTroisDuBDuG} \\\\\\\\', '\\\\chasserVtPstTroisDuASg & \\\\chasserVtPstTroisDuASgP & \\\\blanc{\\\\chasserVtPstTroisDuASgG} \\\\\\\\', '\\\\protegerVtPstTroisPlBDu & \\\\protegerVtPstTroisPlBDuP & \\\\blanc{\\\\protegerVtPstTroisPlBDuG} \\\\\\\\', '\\\\transformerVtPstTroisSgASg & \\\\transformerVtPstTroisSgASgP & \\\\blanc{\\\\transformerVtPstTroisSgASgG} \\\\\\\\', '\\\\tomberViPrsTroisDuBDu & \\\\tomberViPrsTroisDuBDuP & \\\\blanc{\\\\tomberViPrsTroisDuBDuG} \\\\\\\\', '\\\\apporterVdPrsTroisDuBDu & \\\\apporterVdPrsTroisDuBDuP & \\\\blanc{\\\\apporterVdPrsTroisDuBDuG} \\\\\\\\', '\\\\donnerVdPstTroisPlBSg & \\\\donnerVdPstTroisPlBSgP & \\\\blanc{\\\\donnerVdPstTroisPlBSgG} \\\\\\\\', '\\\\protegerVtPstTroisDuASg & \\\\protegerVtPstTroisDuASgP & \\\\blanc{\\\\protegerVtPstTroisDuASgG} \\\\\\\\', '\\\\donnerVdPstTroisSgCSg & \\\\donnerVdPstTroisSgCSgP & \\\\blanc{\\\\donnerVdPstTroisSgCSgG} \\\\\\\\', '\\\\courirViPstTroisDuBSg & \\\\courirViPstTroisDuBSgP & \\\\blanc{\\\\courirViPstTroisDuBSgG} \\\\\\\\', '\\\\donnerVdPrsTroisDuDDu & \\\\donnerVdPrsTroisDuDDuP & \\\\blanc{\\\\donnerVdPrsTroisDuDDuG} \\\\\\\\', '\\\\chercherVtPrsTroisSgAPl & \\\\chercherVtPrsTroisSgAPlP & \\\\blanc{\\\\chercherVtPrsTroisSgAPlG} \\\\\\\\', '\\\\disparaitreViPrsTroisSgAPl & \\\\disparaitreViPrsTroisSgAPlP & \\\\blanc{\\\\disparaitreViPrsTroisSgAPlG} \\\\\\\\', '\\\\recouvrirVtPstTroisDuADu & \\\\recouvrirVtPstTroisDuADuP & \\\\blanc{\\\\recouvrirVtPstTroisDuADuG} \\\\\\\\', '\\\\recouvrirVtPstTroisDuAPl & \\\\recouvrirVtPstTroisDuAPlP & \\\\blanc{\\\\recouvrirVtPstTroisDuAPlG} \\\\\\\\', '\\\\tomberViPrsTroisPlADu & \\\\tomberViPrsTroisPlADuP & \\\\blanc{\\\\tomberViPrsTroisPlADuG} \\\\\\\\', '\\\\parlerViPstTroisPlBPl & \\\\parlerViPstTroisPlBPlP & \\\\blanc{\\\\parlerViPstTroisPlBPlG} \\\\\\\\', '\\\\transformerVtPstTroisPlDDu & \\\\transformerVtPstTroisPlDDuP & \\\\blanc{\\\\transformerVtPstTroisPlDDuG} \\\\\\\\', '\\\\rejoindreVtPrsTroisSgADu & \\\\rejoindreVtPrsTroisSgADuP & \\\\blanc{\\\\rejoindreVtPrsTroisSgADuG} \\\\\\\\', '\\\\sortirViPrsTroisSgDSg & \\\\sortirViPrsTroisSgDSgP & \\\\blanc{\\\\sortirViPrsTroisSgDSgG} \\\\\\\\', '\\\\sauterViPstTroisSgBPl & \\\\sauterViPstTroisSgBPlP & \\\\blanc{\\\\sauterViPstTroisSgBPlG} \\\\\\\\', '\\\\approcherViPstTroisDuDSg & \\\\approcherViPstTroisDuDSgP & \\\\blanc{\\\\approcherViPstTroisDuDSgG} \\\\\\\\', '\\\\disparaitreViPrsTroisSgCDu & \\\\disparaitreViPrsTroisSgCDuP & \\\\blanc{\\\\disparaitreViPrsTroisSgCDuG} \\\\\\\\', '\\\\chasserVtPstTroisPlDPl & \\\\chasserVtPstTroisPlDPlP & \\\\blanc{\\\\chasserVtPstTroisPlDPlG} \\\\\\\\', '\\\\sauterViPrsTroisSgBDu & \\\\sauterViPrsTroisSgBDuP & \\\\blanc{\\\\sauterViPrsTroisSgBDuG} \\\\\\\\', '\\\\protegerVtPrsTroisSgADu & \\\\protegerVtPrsTroisSgADuP & \\\\blanc{\\\\protegerVtPrsTroisSgADuG} \\\\\\\\', '\\\\passerViPrsTroisDuBPl & \\\\passerViPrsTroisDuBPlP & \\\\blanc{\\\\passerViPrsTroisDuBPlG} \\\\\\\\', '\\\\apporterVdPrsTroisDuAPl & \\\\apporterVdPrsTroisDuAPlP & \\\\blanc{\\\\apporterVdPrsTroisDuAPlG} \\\\\\\\', '\\\\sortirViPrsTroisDuAPl & \\\\sortirViPrsTroisDuAPlP & \\\\blanc{\\\\sortirViPrsTroisDuAPlG} \\\\\\\\', '\\\\protegerVtPstTroisPlASg & \\\\protegerVtPstTroisPlASgP & \\\\blanc{\\\\protegerVtPstTroisPlASgG} \\\\\\\\', '\\\\recouvrirVtPstTroisPlAPl & \\\\recouvrirVtPstTroisPlAPlP & \\\\blanc{\\\\recouvrirVtPstTroisPlAPlG} \\\\\\\\', '\\\\sortirViPrsTroisPlCDu & \\\\sortirViPrsTroisPlCDuP & \\\\blanc{\\\\sortirViPrsTroisPlCDuG} \\\\\\\\', '\\\\rejoindreVtPrsTroisSgDSg & \\\\rejoindreVtPrsTroisSgDSgP & \\\\blanc{\\\\rejoindreVtPrsTroisSgDSgG} \\\\\\\\', '\\\\approcherViPrsTroisDuDPl & \\\\approcherViPrsTroisDuDPlP & \\\\blanc{\\\\approcherViPrsTroisDuDPlG} \\\\\\\\', '\\\\etreVtPrsTroisSgCSg & \\\\etreVtPrsTroisSgCSgP & \\\\blanc{\\\\etreVtPrsTroisSgCSgG} \\\\\\\\', '\\\\disparaitreViPrsTroisPlBPl & \\\\disparaitreViPrsTroisPlBPlP & \\\\blanc{\\\\disparaitreViPrsTroisPlBPlG} \\\\\\\\', '\\\\fuirViPrsTroisPlDPl & \\\\fuirViPrsTroisPlDPlP & \\\\blanc{\\\\fuirViPrsTroisPlDPlG} \\\\\\\\', '\\\\donnerVdPrsTroisDuASg & \\\\donnerVdPrsTroisDuASgP & \\\\blanc{\\\\donnerVdPrsTroisDuASgG} \\\\\\\\', '\\\\disparaitreViPstTroisDuCSg & \\\\disparaitreViPstTroisDuCSgP & \\\\blanc{\\\\disparaitreViPstTroisDuCSgG} \\\\\\\\', '\\\\approcherViPstTroisSgBPl & \\\\approcherViPstTroisSgBPlP & \\\\blanc{\\\\approcherViPstTroisSgBPlG} \\\\\\\\', '\\\\envahirVtPstTroisSgDSg & \\\\envahirVtPstTroisSgDSgP & \\\\blanc{\\\\envahirVtPstTroisSgDSgG} \\\\\\\\', '\\\\apporterVdPrsTroisPlCSg & \\\\apporterVdPrsTroisPlCSgP & \\\\blanc{\\\\apporterVdPrsTroisPlCSgG} \\\\\\\\', '\\\\jeterVtPstTroisSgBDu & \\\\jeterVtPstTroisSgBDuP & \\\\blanc{\\\\jeterVtPstTroisSgBDuG} \\\\\\\\', '\\\\tomberViPstTroisSgDPl & \\\\tomberViPstTroisSgDPlP & \\\\blanc{\\\\tomberViPstTroisSgDPlG} \\\\\\\\', '\\\\pousserVtPrsTroisDuCDu & \\\\pousserVtPrsTroisDuCDuP & \\\\blanc{\\\\pousserVtPrsTroisDuCDuG} \\\\\\\\', '\\\\apporterVdPstTroisSgDPl & \\\\apporterVdPstTroisSgDPlP & \\\\blanc{\\\\apporterVdPstTroisSgDPlG} \\\\\\\\', '\\\\prendreVtPrsTroisDuDPl & \\\\prendreVtPrsTroisDuDPlP & \\\\blanc{\\\\prendreVtPrsTroisDuDPlG} \\\\\\\\', '\\\\jeterVtPstTroisPlCSg & \\\\jeterVtPstTroisPlCSgP & \\\\blanc{\\\\jeterVtPstTroisPlCSgG} \\\\\\\\', '\\\\envahirVtPstTroisSgDPl & \\\\envahirVtPstTroisSgDPlP & \\\\blanc{\\\\envahirVtPstTroisSgDPlG} \\\\\\\\', '\\\\transpercerVtPstTroisPlDDu & \\\\transpercerVtPstTroisPlDDuP & \\\\blanc{\\\\transpercerVtPstTroisPlDDuG} \\\\\\\\', '\\\\parlerViPrsTroisSgDSg & \\\\parlerViPrsTroisSgDSgP & \\\\blanc{\\\\parlerViPrsTroisSgDSgG} \\\\\\\\', '\\\\disparaitreViPstTroisSgADu & \\\\disparaitreViPstTroisSgADuP & \\\\blanc{\\\\disparaitreViPstTroisSgADuG} \\\\\\\\', '\\\\voirVtPstTroisSgDDu & \\\\voirVtPstTroisSgDDuP & \\\\blanc{\\\\voirVtPstTroisSgDDuG} \\\\\\\\', '\\\\passerViPstTroisSgBSg & \\\\passerViPstTroisSgBSgP & \\\\blanc{\\\\passerViPstTroisSgBSgG} \\\\\\\\', '\\\\jeterVtPstTroisPlDPl & \\\\jeterVtPstTroisPlDPlP & \\\\blanc{\\\\jeterVtPstTroisPlDPlG} \\\\\\\\', '\\\\etreVtPstTroisSgBDu & \\\\etreVtPstTroisSgBDuP & \\\\blanc{\\\\etreVtPstTroisSgBDuG} \\\\\\\\', '\\\\planterVtPrsTroisSgCDu & \\\\planterVtPrsTroisSgCDuP & \\\\blanc{\\\\planterVtPrsTroisSgCDuG} \\\\\\\\', '\\\\apporterVdPrsTroisPlCDu & \\\\apporterVdPrsTroisPlCDuP & \\\\blanc{\\\\apporterVdPrsTroisPlCDuG} \\\\\\\\', '\\\\pousserVtPrsTroisSgBDu & \\\\pousserVtPrsTroisSgBDuP & \\\\blanc{\\\\pousserVtPrsTroisSgBDuG} \\\\\\\\', '\\\\transformerVtPstTroisPlAPl & \\\\transformerVtPstTroisPlAPlP & \\\\blanc{\\\\transformerVtPstTroisPlAPlG} \\\\\\\\', '\\\\fuirViPstTroisDuASg & \\\\fuirViPstTroisDuASgP & \\\\blanc{\\\\fuirViPstTroisDuASgG} \\\\\\\\', '\\\\disparaitreViPstTroisSgBDu & \\\\disparaitreViPstTroisSgBDuP & \\\\blanc{\\\\disparaitreViPstTroisSgBDuG} \\\\\\\\', '\\\\sortirViPstTroisDuBDu & \\\\sortirViPstTroisDuBDuP & \\\\blanc{\\\\sortirViPstTroisDuBDuG} \\\\\\\\', '\\\\transpercerVtPstTroisSgDPl & \\\\transpercerVtPstTroisSgDPlP & \\\\blanc{\\\\transpercerVtPstTroisSgDPlG} \\\\\\\\', '\\\\prendreVtPrsTroisSgDSg & \\\\prendreVtPrsTroisSgDSgP & \\\\blanc{\\\\prendreVtPrsTroisSgDSgG} \\\\\\\\', '\\\\envahirVtPrsTroisPlDSg & \\\\envahirVtPrsTroisPlDSgP & \\\\blanc{\\\\envahirVtPrsTroisPlDSgG} \\\\\\\\', '\\\\approcherViPstTroisPlDPl & \\\\approcherViPstTroisPlDPlP & \\\\blanc{\\\\approcherViPstTroisPlDPlG} \\\\\\\\', '\\\\apporterVdPrsTroisSgBSg & \\\\apporterVdPrsTroisSgBSgP & \\\\blanc{\\\\apporterVdPrsTroisSgBSgG} \\\\\\\\', '\\\\courirViPstTroisDuBPl & \\\\courirViPstTroisDuBPlP & \\\\blanc{\\\\courirViPstTroisDuBPlG} \\\\\\\\', '\\\\prendreVtPrsTroisDuADu & \\\\prendreVtPrsTroisDuADuP & \\\\blanc{\\\\prendreVtPrsTroisDuADuG} \\\\\\\\', '\\\\passerViPrsTroisPlCPl & \\\\passerViPrsTroisPlCPlP & \\\\blanc{\\\\passerViPrsTroisPlCPlG} \\\\\\\\', '\\\\allerViPstTroisDuCDu & \\\\allerViPstTroisDuCDuP & \\\\blanc{\\\\allerViPstTroisDuCDuG} \\\\\\\\', '\\\\donnerVdPstTroisSgDPl & \\\\donnerVdPstTroisSgDPlP & \\\\blanc{\\\\donnerVdPstTroisSgDPlG} \\\\\\\\', '\\\\chasserVtPstTroisPlCPl & \\\\chasserVtPstTroisPlCPlP & \\\\blanc{\\\\chasserVtPstTroisPlCPlG} \\\\\\\\', '\\\\transpercerVtPrsTroisPlCDu & \\\\transpercerVtPrsTroisPlCDuP & \\\\blanc{\\\\transpercerVtPrsTroisPlCDuG} \\\\\\\\', '\\\\jeterVtPstTroisSgASg & \\\\jeterVtPstTroisSgASgP & \\\\blanc{\\\\jeterVtPstTroisSgASgG} \\\\\\\\', '\\\\courirViPstTroisSgDDu & \\\\courirViPstTroisSgDDuP & \\\\blanc{\\\\courirViPstTroisSgDDuG} \\\\\\\\', '\\\\envahirVtPstTroisDuBSg & \\\\envahirVtPstTroisDuBSgP & \\\\blanc{\\\\envahirVtPstTroisDuBSgG} \\\\\\\\', '\\\\passerViPstTroisSgDSg & \\\\passerViPstTroisSgDSgP & \\\\blanc{\\\\passerViPstTroisSgDSgG} \\\\\\\\', '\\\\devorerVtPstTroisPlCSg & \\\\devorerVtPstTroisPlCSgP & \\\\blanc{\\\\devorerVtPstTroisPlCSgG} \\\\\\\\', '\\\\allerViPstTroisPlADu & \\\\allerViPstTroisPlADuP & \\\\blanc{\\\\allerViPstTroisPlADuG} \\\\\\\\', '\\\\devorerVtPrsTroisDuDSg & \\\\devorerVtPrsTroisDuDSgP & \\\\blanc{\\\\devorerVtPrsTroisDuDSgG} \\\\\\\\', '\\\\jeterVtPstTroisSgAPl & \\\\jeterVtPstTroisSgAPlP & \\\\blanc{\\\\jeterVtPstTroisSgAPlG} \\\\\\\\', '\\\\prendreVtPrsTroisPlBSg & \\\\prendreVtPrsTroisPlBSgP & \\\\blanc{\\\\prendreVtPrsTroisPlBSgG} \\\\\\\\', '\\\\prendreVtPstTroisSgCPl & \\\\prendreVtPstTroisSgCPlP & \\\\blanc{\\\\prendreVtPstTroisSgCPlG} \\\\\\\\', '\\\\courirViPrsTroisSgADu & \\\\courirViPrsTroisSgADuP & \\\\blanc{\\\\courirViPrsTroisSgADuG} \\\\\\\\', '\\\\donnerVdPrsTroisDuAPl & \\\\donnerVdPrsTroisDuAPlP & \\\\blanc{\\\\donnerVdPrsTroisDuAPlG} \\\\\\\\', '\\\\fuirViPrsTroisDuCSg & \\\\fuirViPrsTroisDuCSgP & \\\\blanc{\\\\fuirViPrsTroisDuCSgG} \\\\\\\\', '\\\\transformerVtPstTroisDuBSg & \\\\transformerVtPstTroisDuBSgP & \\\\blanc{\\\\transformerVtPstTroisDuBSgG} \\\\\\\\', '\\\\voirVtPstTroisDuBSg & \\\\voirVtPstTroisDuBSgP & \\\\blanc{\\\\voirVtPstTroisDuBSgG} \\\\\\\\', '\\\\tomberViPrsTroisSgAPl & \\\\tomberViPrsTroisSgAPlP & \\\\blanc{\\\\tomberViPrsTroisSgAPlG} \\\\\\\\', '\\\\transformerVtPstTroisDuCPl & \\\\transformerVtPstTroisDuCPlP & \\\\blanc{\\\\transformerVtPstTroisDuCPlG} \\\\\\\\', '\\\\sauterViPrsTroisSgADu & \\\\sauterViPrsTroisSgADuP & \\\\blanc{\\\\sauterViPrsTroisSgADuG} \\\\\\\\', '\\\\disparaitreViPrsTroisPlCPl & \\\\disparaitreViPrsTroisPlCPlP & \\\\blanc{\\\\disparaitreViPrsTroisPlCPlG} \\\\\\\\', '\\\\voirVtPrsTroisDuBPl & \\\\voirVtPrsTroisDuBPlP & \\\\blanc{\\\\voirVtPrsTroisDuBPlG} \\\\\\\\', '\\\\pousserVtPstTroisDuCPl & \\\\pousserVtPstTroisDuCPlP & \\\\blanc{\\\\pousserVtPstTroisDuCPlG} \\\\\\\\', '\\\\protegerVtPrsTroisSgASg & \\\\protegerVtPrsTroisSgASgP & \\\\blanc{\\\\protegerVtPrsTroisSgASgG} \\\\\\\\', '\\\\fuirViPrsTroisPlCSg & \\\\fuirViPrsTroisPlCSgP & \\\\blanc{\\\\fuirViPrsTroisPlCSgG} \\\\\\\\', '\\\\transpercerVtPrsTroisDuBPl & \\\\transpercerVtPrsTroisDuBPlP & \\\\blanc{\\\\transpercerVtPrsTroisDuBPlG} \\\\\\\\', '\\\\pousserVtPrsTroisPlDDu & \\\\pousserVtPrsTroisPlDDuP & \\\\blanc{\\\\pousserVtPrsTroisPlDDuG} \\\\\\\\', '\\\\planterVtPrsTroisPlCPl & \\\\planterVtPrsTroisPlCPlP & \\\\blanc{\\\\planterVtPrsTroisPlCPlG} \\\\\\\\', '\\\\pousserVtPrsTroisSgCSg & \\\\pousserVtPrsTroisSgCSgP & \\\\blanc{\\\\pousserVtPrsTroisSgCSgG} \\\\\\\\', '\\\\apporterVdPrsTroisDuADu & \\\\apporterVdPrsTroisDuADuP & \\\\blanc{\\\\apporterVdPrsTroisDuADuG} \\\\\\\\', '\\\\planterVtPrsTroisDuDPl & \\\\planterVtPrsTroisDuDPlP & \\\\blanc{\\\\planterVtPrsTroisDuDPlG} \\\\\\\\', '\\\\voirVtPstTroisPlDPl & \\\\voirVtPstTroisPlDPlP & \\\\blanc{\\\\voirVtPstTroisPlDPlG} \\\\\\\\', '\\\\apporterVdPstTroisDuAPl & \\\\apporterVdPstTroisDuAPlP & \\\\blanc{\\\\apporterVdPstTroisDuAPlG} \\\\\\\\', '\\\\rejoindreVtPrsTroisPlBSg & \\\\rejoindreVtPrsTroisPlBSgP & \\\\blanc{\\\\rejoindreVtPrsTroisPlBSgG} \\\\\\\\', '\\\\voirVtPstTroisDuBDu & \\\\voirVtPstTroisDuBDuP & \\\\blanc{\\\\voirVtPstTroisDuBDuG} \\\\\\\\', '\\\\sortirViPrsTroisPlBSg & \\\\sortirViPrsTroisPlBSgP & \\\\blanc{\\\\sortirViPrsTroisPlBSgG} \\\\\\\\', '\\\\prendreVtPstTroisSgDPl & \\\\prendreVtPstTroisSgDPlP & \\\\blanc{\\\\prendreVtPstTroisSgDPlG} \\\\\\\\', '\\\\disparaitreViPstTroisPlBPl & \\\\disparaitreViPstTroisPlBPlP & \\\\blanc{\\\\disparaitreViPstTroisPlBPlG} \\\\\\\\', '\\\\passerViPstTroisDuCPl & \\\\passerViPstTroisDuCPlP & \\\\blanc{\\\\passerViPstTroisDuCPlG} \\\\\\\\', '\\\\protegerVtPrsTroisSgDPl & \\\\protegerVtPrsTroisSgDPlP & \\\\blanc{\\\\protegerVtPrsTroisSgDPlG} \\\\\\\\', '\\\\donnerVdPrsTroisPlBDu & \\\\donnerVdPrsTroisPlBDuP & \\\\blanc{\\\\donnerVdPrsTroisPlBDuG} \\\\\\\\', '\\\\chercherVtPrsTroisSgADu & \\\\chercherVtPrsTroisSgADuP & \\\\blanc{\\\\chercherVtPrsTroisSgADuG} \\\\\\\\', '\\\\donnerVdPrsTroisSgDDu & \\\\donnerVdPrsTroisSgDDuP & \\\\blanc{\\\\donnerVdPrsTroisSgDDuG} \\\\\\\\', '\\\\pousserVtPrsTroisPlDSg & \\\\pousserVtPrsTroisPlDSgP & \\\\blanc{\\\\pousserVtPrsTroisPlDSgG} \\\\\\\\', '\\\\planterVtPstTroisPlADu & \\\\planterVtPstTroisPlADuP & \\\\blanc{\\\\planterVtPstTroisPlADuG} \\\\\\\\', '\\\\transpercerVtPrsTroisSgDPl & \\\\transpercerVtPrsTroisSgDPlP & \\\\blanc{\\\\transpercerVtPrsTroisSgDPlG} \\\\\\\\', '\\\\allerViPrsTroisDuASg & \\\\allerViPrsTroisDuASgP & \\\\blanc{\\\\allerViPrsTroisDuASgG} \\\\\\\\', '\\\\planterVtPstTroisSgADu & \\\\planterVtPstTroisSgADuP & \\\\blanc{\\\\planterVtPstTroisSgADuG} \\\\\\\\', '\\\\prendreVtPrsTroisPlADu & \\\\prendreVtPrsTroisPlADuP & \\\\blanc{\\\\prendreVtPrsTroisPlADuG} \\\\\\\\', '\\\\sauterViPrsTroisDuBSg & \\\\sauterViPrsTroisDuBSgP & \\\\blanc{\\\\sauterViPrsTroisDuBSgG} \\\\\\\\', '\\\\passerViPstTroisDuBSg & \\\\passerViPstTroisDuBSgP & \\\\blanc{\\\\passerViPstTroisDuBSgG} \\\\\\\\', '\\\\parlerViPrsTroisDuAPl & \\\\parlerViPrsTroisDuAPlP & \\\\blanc{\\\\parlerViPrsTroisDuAPlG} \\\\\\\\', '\\\\rejoindreVtPstTroisDuCPl & \\\\rejoindreVtPstTroisDuCPlP & \\\\blanc{\\\\rejoindreVtPstTroisDuCPlG} \\\\\\\\', '\\\\fuirViPstTroisSgAPl & \\\\fuirViPstTroisSgAPlP & \\\\blanc{\\\\fuirViPstTroisSgAPlG} \\\\\\\\', '\\\\etreVtPstTroisPlAPl & \\\\etreVtPstTroisPlAPlP & \\\\blanc{\\\\etreVtPstTroisPlAPlG} \\\\\\\\', '\\\\transpercerVtPstTroisSgCSg & \\\\transpercerVtPstTroisSgCSgP & \\\\blanc{\\\\transpercerVtPstTroisSgCSgG} \\\\\\\\', '\\\\voirVtPrsTroisDuDSg & \\\\voirVtPrsTroisDuDSgP & \\\\blanc{\\\\voirVtPrsTroisDuDSgG} \\\\\\\\', '\\\\recouvrirVtPstTroisPlADu & \\\\recouvrirVtPstTroisPlADuP & \\\\blanc{\\\\recouvrirVtPstTroisPlADuG} \\\\\\\\', '\\\\donnerVdPstTroisPlCDu & \\\\donnerVdPstTroisPlCDuP & \\\\blanc{\\\\donnerVdPstTroisPlCDuG} \\\\\\\\', '\\\\etreVtPrsTroisDuDPl & \\\\etreVtPrsTroisDuDPlP & \\\\blanc{\\\\etreVtPrsTroisDuDPlG} \\\\\\\\', '\\\\jeterVtPrsTroisSgCPl & \\\\jeterVtPrsTroisSgCPlP & \\\\blanc{\\\\jeterVtPrsTroisSgCPlG} \\\\\\\\', '\\\\devorerVtPstTroisSgCPl & \\\\devorerVtPstTroisSgCPlP & \\\\blanc{\\\\devorerVtPstTroisSgCPlG} \\\\\\\\', '\\\\parlerViPrsTroisSgBDu & \\\\parlerViPrsTroisSgBDuP & \\\\blanc{\\\\parlerViPrsTroisSgBDuG} \\\\\\\\', '\\\\prendreVtPstTroisDuDDu & \\\\prendreVtPstTroisDuDDuP & \\\\blanc{\\\\prendreVtPstTroisDuDDuG} \\\\\\\\', '\\\\chercherVtPrsTroisDuCPl & \\\\chercherVtPrsTroisDuCPlP & \\\\blanc{\\\\chercherVtPrsTroisDuCPlG} \\\\\\\\', '\\\\approcherViPstTroisPlASg & \\\\approcherViPstTroisPlASgP & \\\\blanc{\\\\approcherViPstTroisPlASgG} \\\\\\\\', '\\\\donnerVdPstTroisDuDDu & \\\\donnerVdPstTroisDuDDuP & \\\\blanc{\\\\donnerVdPstTroisDuDDuG} \\\\\\\\', '\\\\planterVtPrsTroisDuADu & \\\\planterVtPrsTroisDuADuP & \\\\blanc{\\\\planterVtPrsTroisDuADuG} \\\\\\\\', '\\\\recouvrirVtPrsTroisDuADu & \\\\recouvrirVtPrsTroisDuADuP & \\\\blanc{\\\\recouvrirVtPrsTroisDuADuG} \\\\\\\\', '\\\\disparaitreViPrsTroisPlASg & \\\\disparaitreViPrsTroisPlASgP & \\\\blanc{\\\\disparaitreViPrsTroisPlASgG} \\\\\\\\', '\\\\fuirViPstTroisPlADu & \\\\fuirViPstTroisPlADuP & \\\\blanc{\\\\fuirViPstTroisPlADuG} \\\\\\\\', '\\\\passerViPstTroisSgBDu & \\\\passerViPstTroisSgBDuP & \\\\blanc{\\\\passerViPstTroisSgBDuG} \\\\\\\\', '\\\\devorerVtPstTroisDuAPl & \\\\devorerVtPstTroisDuAPlP & \\\\blanc{\\\\devorerVtPstTroisDuAPlG} \\\\\\\\', '\\\\pousserVtPrsTroisDuADu & \\\\pousserVtPrsTroisDuADuP & \\\\blanc{\\\\pousserVtPrsTroisDuADuG} \\\\\\\\', '\\\\protegerVtPrsTroisSgAPl & \\\\protegerVtPrsTroisSgAPlP & \\\\blanc{\\\\protegerVtPrsTroisSgAPlG} \\\\\\\\', '\\\\planterVtPrsTroisPlBDu & \\\\planterVtPrsTroisPlBDuP & \\\\blanc{\\\\planterVtPrsTroisPlBDuG} \\\\\\\\', '\\\\approcherViPstTroisSgAPl & \\\\approcherViPstTroisSgAPlP & \\\\blanc{\\\\approcherViPstTroisSgAPlG} \\\\\\\\', '\\\\approcherViPrsTroisPlBPl & \\\\approcherViPrsTroisPlBPlP & \\\\blanc{\\\\approcherViPrsTroisPlBPlG} \\\\\\\\', '\\\\fuirViPstTroisSgCPl & \\\\fuirViPstTroisSgCPlP & \\\\blanc{\\\\fuirViPstTroisSgCPlG} \\\\\\\\', '\\\\transpercerVtPrsTroisSgDSg & \\\\transpercerVtPrsTroisSgDSgP & \\\\blanc{\\\\transpercerVtPrsTroisSgDSgG} \\\\\\\\', '\\\\etreVtPrsTroisPlADu & \\\\etreVtPrsTroisPlADuP & \\\\blanc{\\\\etreVtPrsTroisPlADuG} \\\\\\\\', '\\\\pousserVtPrsTroisSgASg & \\\\pousserVtPrsTroisSgASgP & \\\\blanc{\\\\pousserVtPrsTroisSgASgG} \\\\\\\\', '\\\\pousserVtPrsTroisPlASg & \\\\pousserVtPrsTroisPlASgP & \\\\blanc{\\\\pousserVtPrsTroisPlASgG} \\\\\\\\', '\\\\tomberViPrsTroisDuAPl & \\\\tomberViPrsTroisDuAPlP & \\\\blanc{\\\\tomberViPrsTroisDuAPlG} \\\\\\\\', '\\\\voirVtPrsTroisPlCPl & \\\\voirVtPrsTroisPlCPlP & \\\\blanc{\\\\voirVtPrsTroisPlCPlG} \\\\\\\\', '\\\\envahirVtPrsTroisPlBPl & \\\\envahirVtPrsTroisPlBPlP & \\\\blanc{\\\\envahirVtPrsTroisPlBPlG} \\\\\\\\', '\\\\chercherVtPrsTroisSgCPl & \\\\chercherVtPrsTroisSgCPlP & \\\\blanc{\\\\chercherVtPrsTroisSgCPlG} \\\\\\\\', '\\\\donnerVdPrsTroisDuCPl & \\\\donnerVdPrsTroisDuCPlP & \\\\blanc{\\\\donnerVdPrsTroisDuCPlG} \\\\\\\\', '\\\\devorerVtPrsTroisSgBDu & \\\\devorerVtPrsTroisSgBDuP & \\\\blanc{\\\\devorerVtPrsTroisSgBDuG} \\\\\\\\', '\\\\allerViPrsTroisDuCSg & \\\\allerViPrsTroisDuCSgP & \\\\blanc{\\\\allerViPrsTroisDuCSgG} \\\\\\\\', '\\\\sauterViPstTroisPlCDu & \\\\sauterViPstTroisPlCDuP & \\\\blanc{\\\\sauterViPstTroisPlCDuG} \\\\\\\\', '\\\\fuirViPrsTroisSgDDu & \\\\fuirViPrsTroisSgDDuP & \\\\blanc{\\\\fuirViPrsTroisSgDDuG} \\\\\\\\', '\\\\sortirViPstTroisSgASg & \\\\sortirViPstTroisSgASgP & \\\\blanc{\\\\sortirViPstTroisSgASgG} \\\\\\\\', '\\\\protegerVtPstTroisPlBPl & \\\\protegerVtPstTroisPlBPlP & \\\\blanc{\\\\protegerVtPstTroisPlBPlG} \\\\\\\\', '\\\\apporterVdPstTroisDuDPl & \\\\apporterVdPstTroisDuDPlP & \\\\blanc{\\\\apporterVdPstTroisDuDPlG} \\\\\\\\', '\\\\chercherVtPstTroisSgASg & \\\\chercherVtPstTroisSgASgP & \\\\blanc{\\\\chercherVtPstTroisSgASgG} \\\\\\\\', '\\\\prendreVtPstTroisPlBPl & \\\\prendreVtPstTroisPlBPlP & \\\\blanc{\\\\prendreVtPstTroisPlBPlG} \\\\\\\\', '\\\\apporterVdPstTroisSgDDu & \\\\apporterVdPstTroisSgDDuP & \\\\blanc{\\\\apporterVdPstTroisSgDDuG} \\\\\\\\', '\\\\passerViPrsTroisDuCPl & \\\\passerViPrsTroisDuCPlP & \\\\blanc{\\\\passerViPrsTroisDuCPlG} \\\\\\\\', '\\\\passerViPrsTroisDuADu & \\\\passerViPrsTroisDuADuP & \\\\blanc{\\\\passerViPrsTroisDuADuG} \\\\\\\\', '\\\\envahirVtPstTroisSgASg & \\\\envahirVtPstTroisSgASgP & \\\\blanc{\\\\envahirVtPstTroisSgASgG} \\\\\\\\', '\\\\allerViPstTroisSgBPl & \\\\allerViPstTroisSgBPlP & \\\\blanc{\\\\allerViPstTroisSgBPlG} \\\\\\\\', '\\\\protegerVtPrsTroisPlAPl & \\\\protegerVtPrsTroisPlAPlP & \\\\blanc{\\\\protegerVtPrsTroisPlAPlG} \\\\\\\\', '\\\\approcherViPstTroisDuAPl & \\\\approcherViPstTroisDuAPlP & \\\\blanc{\\\\approcherViPstTroisDuAPlG} \\\\\\\\', '\\\\approcherViPrsTroisSgCSg & \\\\approcherViPrsTroisSgCSgP & \\\\blanc{\\\\approcherViPrsTroisSgCSgG} \\\\\\\\', '\\\\chasserVtPstTroisPlAPl & \\\\chasserVtPstTroisPlAPlP & \\\\blanc{\\\\chasserVtPstTroisPlAPlG} \\\\\\\\', '\\\\etreVtPrsTroisDuCDu & \\\\etreVtPrsTroisDuCDuP & \\\\blanc{\\\\etreVtPrsTroisDuCDuG} \\\\\\\\', '\\\\envahirVtPstTroisDuDDu & \\\\envahirVtPstTroisDuDDuP & \\\\blanc{\\\\envahirVtPstTroisDuDDuG} \\\\\\\\', '\\\\disparaitreViPstTroisSgDSg & \\\\disparaitreViPstTroisSgDSgP & \\\\blanc{\\\\disparaitreViPstTroisSgDSgG} \\\\\\\\', '\\\\tomberViPstTroisPlBPl & \\\\tomberViPstTroisPlBPlP & \\\\blanc{\\\\tomberViPstTroisPlBPlG} \\\\\\\\', '\\\\etreVtPstTroisPlASg & \\\\etreVtPstTroisPlASgP & \\\\blanc{\\\\etreVtPstTroisPlASgG} \\\\\\\\', '\\\\prendreVtPrsTroisSgCPl & \\\\prendreVtPrsTroisSgCPlP & \\\\blanc{\\\\prendreVtPrsTroisSgCPlG} \\\\\\\\', '\\\\sauterViPstTroisDuCDu & \\\\sauterViPstTroisDuCDuP & \\\\blanc{\\\\sauterViPstTroisDuCDuG} \\\\\\\\', '\\\\approcherViPrsTroisDuADu & \\\\approcherViPrsTroisDuADuP & \\\\blanc{\\\\approcherViPrsTroisDuADuG} \\\\\\\\', '\\\\protegerVtPstTroisDuDPl & \\\\protegerVtPstTroisDuDPlP & \\\\blanc{\\\\protegerVtPstTroisDuDPlG} \\\\\\\\', '\\\\allerViPrsTroisSgDDu & \\\\allerViPrsTroisSgDDuP & \\\\blanc{\\\\allerViPrsTroisSgDDuG} \\\\\\\\', '\\\\chasserVtPstTroisPlCDu & \\\\chasserVtPstTroisPlCDuP & \\\\blanc{\\\\chasserVtPstTroisPlCDuG} \\\\\\\\', '\\\\sortirViPrsTroisPlCSg & \\\\sortirViPrsTroisPlCSgP & \\\\blanc{\\\\sortirViPrsTroisPlCSgG} \\\\\\\\', '\\\\tomberViPstTroisSgCDu & \\\\tomberViPstTroisSgCDuP & \\\\blanc{\\\\tomberViPstTroisSgCDuG} \\\\\\\\', '\\\\chasserVtPrsTroisPlCDu & \\\\chasserVtPrsTroisPlCDuP & \\\\blanc{\\\\chasserVtPrsTroisPlCDuG} \\\\\\\\', '\\\\planterVtPrsTroisDuDSg & \\\\planterVtPrsTroisDuDSgP & \\\\blanc{\\\\planterVtPrsTroisDuDSgG} \\\\\\\\', '\\\\jeterVtPrsTroisPlCSg & \\\\jeterVtPrsTroisPlCSgP & \\\\blanc{\\\\jeterVtPrsTroisPlCSgG} \\\\\\\\', '\\\\passerViPstTroisDuAPl & \\\\passerViPstTroisDuAPlP & \\\\blanc{\\\\passerViPstTroisDuAPlG} \\\\\\\\', '\\\\planterVtPstTroisSgCDu & \\\\planterVtPstTroisSgCDuP & \\\\blanc{\\\\planterVtPstTroisSgCDuG} \\\\\\\\', '\\\\rejoindreVtPrsTroisSgBDu & \\\\rejoindreVtPrsTroisSgBDuP & \\\\blanc{\\\\rejoindreVtPrsTroisSgBDuG} \\\\\\\\', '\\\\donnerVdPstTroisSgADu & \\\\donnerVdPstTroisSgADuP & \\\\blanc{\\\\donnerVdPstTroisSgADuG} \\\\\\\\', '\\\\rejoindreVtPstTroisSgBDu & \\\\rejoindreVtPstTroisSgBDuP & \\\\blanc{\\\\rejoindreVtPstTroisSgBDuG} \\\\\\\\', '\\\\transpercerVtPrsTroisSgADu & \\\\transpercerVtPrsTroisSgADuP & \\\\blanc{\\\\transpercerVtPrsTroisSgADuG} \\\\\\\\', '\\\\parlerViPrsTroisSgASg & \\\\parlerViPrsTroisSgASgP & \\\\blanc{\\\\parlerViPrsTroisSgASgG} \\\\\\\\', '\\\\donnerVdPrsTroisSgCDu & \\\\donnerVdPrsTroisSgCDuP & \\\\blanc{\\\\donnerVdPrsTroisSgCDuG} \\\\\\\\', '\\\\prendreVtPstTroisDuBSg & \\\\prendreVtPstTroisDuBSgP & \\\\blanc{\\\\prendreVtPstTroisDuBSgG} \\\\\\\\', '\\\\parlerViPrsTroisDuCDu & \\\\parlerViPrsTroisDuCDuP & \\\\blanc{\\\\parlerViPrsTroisDuCDuG} \\\\\\\\', '\\\\passerViPstTroisSgBPl & \\\\passerViPstTroisSgBPlP & \\\\blanc{\\\\passerViPstTroisSgBPlG} \\\\\\\\', '\\\\recouvrirVtPrsTroisSgDSg & \\\\recouvrirVtPrsTroisSgDSgP & \\\\blanc{\\\\recouvrirVtPrsTroisSgDSgG} \\\\\\\\', '\\\\prendreVtPstTroisPlBSg & \\\\prendreVtPstTroisPlBSgP & \\\\blanc{\\\\prendreVtPstTroisPlBSgG} \\\\\\\\', '\\\\pousserVtPstTroisDuCDu & \\\\pousserVtPstTroisDuCDuP & \\\\blanc{\\\\pousserVtPstTroisDuCDuG} \\\\\\\\', '\\\\rejoindreVtPrsTroisDuCSg & \\\\rejoindreVtPrsTroisDuCSgP & \\\\blanc{\\\\rejoindreVtPrsTroisDuCSgG} \\\\\\\\', '\\\\chercherVtPstTroisDuDSg & \\\\chercherVtPstTroisDuDSgP & \\\\blanc{\\\\chercherVtPstTroisDuDSgG} \\\\\\\\', '\\\\courirViPrsTroisPlAPl & \\\\courirViPrsTroisPlAPlP & \\\\blanc{\\\\courirViPrsTroisPlAPlG} \\\\\\\\', '\\\\sortirViPrsTroisDuCPl & \\\\sortirViPrsTroisDuCPlP & \\\\blanc{\\\\sortirViPrsTroisDuCPlG} \\\\\\\\', '\\\\voirVtPstTroisSgBSg & \\\\voirVtPstTroisSgBSgP & \\\\blanc{\\\\voirVtPstTroisSgBSgG} \\\\\\\\', '\\\\envahirVtPrsTroisDuBPl & \\\\envahirVtPrsTroisDuBPlP & \\\\blanc{\\\\envahirVtPrsTroisDuBPlG} \\\\\\\\', '\\\\courirViPstTroisPlCSg & \\\\courirViPstTroisPlCSgP & \\\\blanc{\\\\courirViPstTroisPlCSgG} \\\\\\\\', '\\\\apporterVdPrsTroisPlADu & \\\\apporterVdPrsTroisPlADuP & \\\\blanc{\\\\apporterVdPrsTroisPlADuG} \\\\\\\\', '\\\\allerViPstTroisDuCPl & \\\\allerViPstTroisDuCPlP & \\\\blanc{\\\\allerViPstTroisDuCPlG} \\\\\\\\', '\\\\jeterVtPstTroisDuCDu & \\\\jeterVtPstTroisDuCDuP & \\\\blanc{\\\\jeterVtPstTroisDuCDuG} \\\\\\\\', '\\\\transformerVtPrsTroisPlASg & \\\\transformerVtPrsTroisPlASgP & \\\\blanc{\\\\transformerVtPrsTroisPlASgG} \\\\\\\\', '\\\\sauterViPstTroisDuADu & \\\\sauterViPstTroisDuADuP & \\\\blanc{\\\\sauterViPstTroisDuADuG} \\\\\\\\', '\\\\etreVtPstTroisDuAPl & \\\\etreVtPstTroisDuAPlP & \\\\blanc{\\\\etreVtPstTroisDuAPlG} \\\\\\\\', '\\\\transpercerVtPstTroisDuDSg & \\\\transpercerVtPstTroisDuDSgP & \\\\blanc{\\\\transpercerVtPstTroisDuDSgG} \\\\\\\\', '\\\\sauterViPrsTroisPlDPl & \\\\sauterViPrsTroisPlDPlP & \\\\blanc{\\\\sauterViPrsTroisPlDPlG} \\\\\\\\', '\\\\sortirViPrsTroisDuCSg & \\\\sortirViPrsTroisDuCSgP & \\\\blanc{\\\\sortirViPrsTroisDuCSgG} \\\\\\\\', '\\\\rejoindreVtPrsTroisDuCPl & \\\\rejoindreVtPrsTroisDuCPlP & \\\\blanc{\\\\rejoindreVtPrsTroisDuCPlG} \\\\\\\\', '\\\\chasserVtPstTroisPlDDu & \\\\chasserVtPstTroisPlDDuP & \\\\blanc{\\\\chasserVtPstTroisPlDDuG} \\\\\\\\', '\\\\courirViPrsTroisSgDDu & \\\\courirViPrsTroisSgDDuP & \\\\blanc{\\\\courirViPrsTroisSgDDuG} \\\\\\\\', '\\\\allerViPstTroisPlBPl & \\\\allerViPstTroisPlBPlP & \\\\blanc{\\\\allerViPstTroisPlBPlG} \\\\\\\\', '\\\\courirViPstTroisSgASg & \\\\courirViPstTroisSgASgP & \\\\blanc{\\\\courirViPstTroisSgASgG} \\\\\\\\', '\\\\rejoindreVtPstTroisDuBDu & \\\\rejoindreVtPstTroisDuBDuP & \\\\blanc{\\\\rejoindreVtPstTroisDuBDuG} \\\\\\\\', '\\\\courirViPstTroisDuDDu & \\\\courirViPstTroisDuDDuP & \\\\blanc{\\\\courirViPstTroisDuDDuG} \\\\\\\\', '\\\\parlerViPrsTroisPlDDu & \\\\parlerViPrsTroisPlDDuP & \\\\blanc{\\\\parlerViPrsTroisPlDDuG} \\\\\\\\', '\\\\parlerViPrsTroisPlBDu & \\\\parlerViPrsTroisPlBDuP & \\\\blanc{\\\\parlerViPrsTroisPlBDuG} \\\\\\\\', '\\\\tomberViPstTroisPlDDu & \\\\tomberViPstTroisPlDDuP & \\\\blanc{\\\\tomberViPstTroisPlDDuG} \\\\\\\\', '\\\\parlerViPstTroisDuADu & \\\\parlerViPstTroisDuADuP & \\\\blanc{\\\\parlerViPstTroisDuADuG} \\\\\\\\', '\\\\jeterVtPrsTroisSgDSg & \\\\jeterVtPrsTroisSgDSgP & \\\\blanc{\\\\jeterVtPrsTroisSgDSgG} \\\\\\\\', '\\\\approcherViPstTroisDuDDu & \\\\approcherViPstTroisDuDDuP & \\\\blanc{\\\\approcherViPstTroisDuDDuG} \\\\\\\\', '\\\\apporterVdPrsTroisSgCDu & \\\\apporterVdPrsTroisSgCDuP & \\\\blanc{\\\\apporterVdPrsTroisSgCDuG} \\\\\\\\', '\\\\transpercerVtPrsTroisPlCSg & \\\\transpercerVtPrsTroisPlCSgP & \\\\blanc{\\\\transpercerVtPrsTroisPlCSgG} \\\\\\\\', '\\\\rejoindreVtPstTroisPlBPl & \\\\rejoindreVtPstTroisPlBPlP & \\\\blanc{\\\\rejoindreVtPstTroisPlBPlG} \\\\\\\\', '\\\\etreVtPrsTroisSgDPl & \\\\etreVtPrsTroisSgDPlP & \\\\blanc{\\\\etreVtPrsTroisSgDPlG} \\\\\\\\', '\\\\voirVtPstTroisSgBPl & \\\\voirVtPstTroisSgBPlP & \\\\blanc{\\\\voirVtPstTroisSgBPlG} \\\\\\\\', '\\\\jeterVtPstTroisSgBSg & \\\\jeterVtPstTroisSgBSgP & \\\\blanc{\\\\jeterVtPstTroisSgBSgG} \\\\\\\\', '\\\\etreVtPstTroisPlDSg & \\\\etreVtPstTroisPlDSgP & \\\\blanc{\\\\etreVtPstTroisPlDSgG} \\\\\\\\', '\\\\chasserVtPrsTroisSgCPl & \\\\chasserVtPrsTroisSgCPlP & \\\\blanc{\\\\chasserVtPrsTroisSgCPlG} \\\\\\\\', '\\\\prendreVtPstTroisPlCDu & \\\\prendreVtPstTroisPlCDuP & \\\\blanc{\\\\prendreVtPstTroisPlCDuG} \\\\\\\\', '\\\\approcherViPstTroisPlADu & \\\\approcherViPstTroisPlADuP & \\\\blanc{\\\\approcherViPstTroisPlADuG} \\\\\\\\', '\\\\sortirViPstTroisSgDPl & \\\\sortirViPstTroisSgDPlP & \\\\blanc{\\\\sortirViPstTroisSgDPlG} \\\\\\\\', '\\\\chasserVtPstTroisDuADu & \\\\chasserVtPstTroisDuADuP & \\\\blanc{\\\\chasserVtPstTroisDuADuG} \\\\\\\\', '\\\\transpercerVtPstTroisSgBDu & \\\\transpercerVtPstTroisSgBDuP & \\\\blanc{\\\\transpercerVtPstTroisSgBDuG} \\\\\\\\', '\\\\sortirViPrsTroisPlCPl & \\\\sortirViPrsTroisPlCPlP & \\\\blanc{\\\\sortirViPrsTroisPlCPlG} \\\\\\\\', '\\\\envahirVtPrsTroisPlDPl & \\\\envahirVtPrsTroisPlDPlP & \\\\blanc{\\\\envahirVtPrsTroisPlDPlG} \\\\\\\\', '\\\\disparaitreViPrsTroisSgCSg & \\\\disparaitreViPrsTroisSgCSgP & \\\\blanc{\\\\disparaitreViPrsTroisSgCSgG} \\\\\\\\', '\\\\parlerViPstTroisPlCPl & \\\\parlerViPstTroisPlCPlP & \\\\blanc{\\\\parlerViPstTroisPlCPlG} \\\\\\\\', '\\\\envahirVtPstTroisSgCDu & \\\\envahirVtPstTroisSgCDuP & \\\\blanc{\\\\envahirVtPstTroisSgCDuG} \\\\\\\\', '\\\\passerViPrsTroisSgDSg & \\\\passerViPrsTroisSgDSgP & \\\\blanc{\\\\passerViPrsTroisSgDSgG} \\\\\\\\', '\\\\etreVtPrsTroisSgDDu & \\\\etreVtPrsTroisSgDDuP & \\\\blanc{\\\\etreVtPrsTroisSgDDuG} \\\\\\\\', '\\\\rejoindreVtPrsTroisDuBSg & \\\\rejoindreVtPrsTroisDuBSgP & \\\\blanc{\\\\rejoindreVtPrsTroisDuBSgG} \\\\\\\\', '\\\\parlerViPrsTroisDuDSg & \\\\parlerViPrsTroisDuDSgP & \\\\blanc{\\\\parlerViPrsTroisDuDSgG} \\\\\\\\', '\\\\approcherViPrsTroisDuCSg & \\\\approcherViPrsTroisDuCSgP & \\\\blanc{\\\\approcherViPrsTroisDuCSgG} \\\\\\\\', '\\\\voirVtPrsTroisSgCPl & \\\\voirVtPrsTroisSgCPlP & \\\\blanc{\\\\voirVtPrsTroisSgCPlG} \\\\\\\\', '\\\\rejoindreVtPstTroisDuBSg & \\\\rejoindreVtPstTroisDuBSgP & \\\\blanc{\\\\rejoindreVtPstTroisDuBSgG} \\\\\\\\', '\\\\chasserVtPrsTroisDuDSg & \\\\chasserVtPrsTroisDuDSgP & \\\\blanc{\\\\chasserVtPrsTroisDuDSgG} \\\\\\\\', '\\\\tomberViPstTroisDuBDu & \\\\tomberViPstTroisDuBDuP & \\\\blanc{\\\\tomberViPstTroisDuBDuG} \\\\\\\\', '\\\\approcherViPrsTroisSgDPl & \\\\approcherViPrsTroisSgDPlP & \\\\blanc{\\\\approcherViPrsTroisSgDPlG} \\\\\\\\', '\\\\fuirViPstTroisDuADu & \\\\fuirViPstTroisDuADuP & \\\\blanc{\\\\fuirViPstTroisDuADuG} \\\\\\\\', '\\\\tomberViPstTroisPlASg & \\\\tomberViPstTroisPlASgP & \\\\blanc{\\\\tomberViPstTroisPlASgG} \\\\\\\\', '\\\\etreVtPstTroisDuCPl & \\\\etreVtPstTroisDuCPlP & \\\\blanc{\\\\etreVtPstTroisDuCPlG} \\\\\\\\', '\\\\fuirViPrsTroisPlASg & \\\\fuirViPrsTroisPlASgP & \\\\blanc{\\\\fuirViPrsTroisPlASgG} \\\\\\\\', '\\\\chasserVtPstTroisDuBSg & \\\\chasserVtPstTroisDuBSgP & \\\\blanc{\\\\chasserVtPstTroisDuBSgG} \\\\\\\\', '\\\\recouvrirVtPstTroisSgBPl & \\\\recouvrirVtPstTroisSgBPlP & \\\\blanc{\\\\recouvrirVtPstTroisSgBPlG} \\\\\\\\', '\\\\fuirViPstTroisSgBPl & \\\\fuirViPstTroisSgBPlP & \\\\blanc{\\\\fuirViPstTroisSgBPlG} \\\\\\\\', '\\\\donnerVdPrsTroisPlDDu & \\\\donnerVdPrsTroisPlDDuP & \\\\blanc{\\\\donnerVdPrsTroisPlDDuG} \\\\\\\\', '\\\\transpercerVtPstTroisDuCSg & \\\\transpercerVtPstTroisDuCSgP & \\\\blanc{\\\\transpercerVtPstTroisDuCSgG} \\\\\\\\', '\\\\disparaitreViPstTroisDuASg & \\\\disparaitreViPstTroisDuASgP & \\\\blanc{\\\\disparaitreViPstTroisDuASgG} \\\\\\\\', '\\\\sauterViPstTroisPlBDu & \\\\sauterViPstTroisPlBDuP & \\\\blanc{\\\\sauterViPstTroisPlBDuG} \\\\\\\\', '\\\\pousserVtPstTroisDuBDu & \\\\pousserVtPstTroisDuBDuP & \\\\blanc{\\\\pousserVtPstTroisDuBDuG} \\\\\\\\', '\\\\envahirVtPstTroisPlASg & \\\\envahirVtPstTroisPlASgP & \\\\blanc{\\\\envahirVtPstTroisPlASgG} \\\\\\\\', '\\\\donnerVdPstTroisSgCDu & \\\\donnerVdPstTroisSgCDuP & \\\\blanc{\\\\donnerVdPstTroisSgCDuG} \\\\\\\\', '\\\\courirViPrsTroisSgDSg & \\\\courirViPrsTroisSgDSgP & \\\\blanc{\\\\courirViPrsTroisSgDSgG} \\\\\\\\', '\\\\devorerVtPrsTroisDuAPl & \\\\devorerVtPrsTroisDuAPlP & \\\\blanc{\\\\devorerVtPrsTroisDuAPlG} \\\\\\\\', '\\\\transpercerVtPrsTroisSgCPl & \\\\transpercerVtPrsTroisSgCPlP & \\\\blanc{\\\\transpercerVtPrsTroisSgCPlG} \\\\\\\\', '\\\\voirVtPstTroisSgCDu & \\\\voirVtPstTroisSgCDuP & \\\\blanc{\\\\voirVtPstTroisSgCDuG} \\\\\\\\', '\\\\sauterViPrsTroisSgAPl & \\\\sauterViPrsTroisSgAPlP & \\\\blanc{\\\\sauterViPrsTroisSgAPlG} \\\\\\\\', '\\\\allerViPstTroisSgBDu & \\\\allerViPstTroisSgBDuP & \\\\blanc{\\\\allerViPstTroisSgBDuG} \\\\\\\\', '\\\\etreVtPrsTroisDuBPl & \\\\etreVtPrsTroisDuBPlP & \\\\blanc{\\\\etreVtPrsTroisDuBPlG} \\\\\\\\', '\\\\pousserVtPstTroisSgBSg & \\\\pousserVtPstTroisSgBSgP & \\\\blanc{\\\\pousserVtPstTroisSgBSgG} \\\\\\\\', '\\\\approcherViPstTroisSgASg & \\\\approcherViPstTroisSgASgP & \\\\blanc{\\\\approcherViPstTroisSgASgG} \\\\\\\\', '\\\\sauterViPrsTroisDuCPl & \\\\sauterViPrsTroisDuCPlP & \\\\blanc{\\\\sauterViPrsTroisDuCPlG} \\\\\\\\', '\\\\allerViPstTroisPlCSg & \\\\allerViPstTroisPlCSgP & \\\\blanc{\\\\allerViPstTroisPlCSgG} \\\\\\\\', '\\\\disparaitreViPrsTroisSgBPl & \\\\disparaitreViPrsTroisSgBPlP & \\\\blanc{\\\\disparaitreViPrsTroisSgBPlG} \\\\\\\\', '\\\\parlerViPrsTroisDuBDu & \\\\parlerViPrsTroisDuBDuP & \\\\blanc{\\\\parlerViPrsTroisDuBDuG} \\\\\\\\', '\\\\parlerViPrsTroisDuBSg & \\\\parlerViPrsTroisDuBSgP & \\\\blanc{\\\\parlerViPrsTroisDuBSgG} \\\\\\\\', '\\\\allerViPrsTroisDuBDu & \\\\allerViPrsTroisDuBDuP & \\\\blanc{\\\\allerViPrsTroisDuBDuG} \\\\\\\\', '\\\\voirVtPrsTroisSgDSg & \\\\voirVtPrsTroisSgDSgP & \\\\blanc{\\\\voirVtPrsTroisSgDSgG} \\\\\\\\', '\\\\prendreVtPstTroisDuADu & \\\\prendreVtPstTroisDuADuP & \\\\blanc{\\\\prendreVtPstTroisDuADuG} \\\\\\\\', '\\\\tomberViPrsTroisPlBDu & \\\\tomberViPrsTroisPlBDuP & \\\\blanc{\\\\tomberViPrsTroisPlBDuG} \\\\\\\\', '\\\\transformerVtPstTroisDuADu & \\\\transformerVtPstTroisDuADuP & \\\\blanc{\\\\transformerVtPstTroisDuADuG} \\\\\\\\', '\\\\chasserVtPrsTroisSgADu & \\\\chasserVtPrsTroisSgADuP & \\\\blanc{\\\\chasserVtPrsTroisSgADuG} \\\\\\\\', '\\\\envahirVtPrsTroisDuADu & \\\\envahirVtPrsTroisDuADuP & \\\\blanc{\\\\envahirVtPrsTroisDuADuG} \\\\\\\\', '\\\\fuirViPstTroisDuCDu & \\\\fuirViPstTroisDuCDuP & \\\\blanc{\\\\fuirViPstTroisDuCDuG} \\\\\\\\', '\\\\apporterVdPstTroisSgCPl & \\\\apporterVdPstTroisSgCPlP & \\\\blanc{\\\\apporterVdPstTroisSgCPlG} \\\\\\\\', '\\\\disparaitreViPstTroisPlDPl & \\\\disparaitreViPstTroisPlDPlP & \\\\blanc{\\\\disparaitreViPstTroisPlDPlG} \\\\\\\\', '\\\\rejoindreVtPstTroisPlBDu & \\\\rejoindreVtPstTroisPlBDuP & \\\\blanc{\\\\rejoindreVtPstTroisPlBDuG} \\\\\\\\', '\\\\chercherVtPrsTroisSgDPl & \\\\chercherVtPrsTroisSgDPlP & \\\\blanc{\\\\chercherVtPrsTroisSgDPlG} \\\\\\\\', '\\\\sauterViPstTroisPlBPl & \\\\sauterViPstTroisPlBPlP & \\\\blanc{\\\\sauterViPstTroisPlBPlG} \\\\\\\\', '\\\\devorerVtPrsTroisDuBPl & \\\\devorerVtPrsTroisDuBPlP & \\\\blanc{\\\\devorerVtPrsTroisDuBPlG} \\\\\\\\', '\\\\courirViPrsTroisSgCPl & \\\\courirViPrsTroisSgCPlP & \\\\blanc{\\\\courirViPrsTroisSgCPlG} \\\\\\\\', '\\\\transpercerVtPrsTroisSgCDu & \\\\transpercerVtPrsTroisSgCDuP & \\\\blanc{\\\\transpercerVtPrsTroisSgCDuG} \\\\\\\\', '\\\\protegerVtPstTroisSgCSg & \\\\protegerVtPstTroisSgCSgP & \\\\blanc{\\\\protegerVtPstTroisSgCSgG} \\\\\\\\', '\\\\planterVtPstTroisDuBSg & \\\\planterVtPstTroisDuBSgP & \\\\blanc{\\\\planterVtPstTroisDuBSgG} \\\\\\\\', '\\\\transpercerVtPstTroisSgAPl & \\\\transpercerVtPstTroisSgAPlP & \\\\blanc{\\\\transpercerVtPstTroisSgAPlG} \\\\\\\\', '\\\\sauterViPstTroisPlCPl & \\\\sauterViPstTroisPlCPlP & \\\\blanc{\\\\sauterViPstTroisPlCPlG} \\\\\\\\', '\\\\protegerVtPstTroisPlADu & \\\\protegerVtPstTroisPlADuP & \\\\blanc{\\\\protegerVtPstTroisPlADuG} \\\\\\\\', '\\\\approcherViPrsTroisPlASg & \\\\approcherViPrsTroisPlASgP & \\\\blanc{\\\\approcherViPrsTroisPlASgG} \\\\\\\\', '\\\\devorerVtPrsTroisDuBDu & \\\\devorerVtPrsTroisDuBDuP & \\\\blanc{\\\\devorerVtPrsTroisDuBDuG} \\\\\\\\', '\\\\jeterVtPstTroisPlBPl & \\\\jeterVtPstTroisPlBPlP & \\\\blanc{\\\\jeterVtPstTroisPlBPlG} \\\\\\\\', '\\\\protegerVtPrsTroisDuCDu & \\\\protegerVtPrsTroisDuCDuP & \\\\blanc{\\\\protegerVtPrsTroisDuCDuG} \\\\\\\\', '\\\\jeterVtPrsTroisDuDSg & \\\\jeterVtPrsTroisDuDSgP & \\\\blanc{\\\\jeterVtPrsTroisDuDSgG} \\\\\\\\', '\\\\allerViPrsTroisSgCPl & \\\\allerViPrsTroisSgCPlP & \\\\blanc{\\\\allerViPrsTroisSgCPlG} \\\\\\\\', '\\\\sortirViPrsTroisSgAPl & \\\\sortirViPrsTroisSgAPlP & \\\\blanc{\\\\sortirViPrsTroisSgAPlG} \\\\\\\\', '\\\\allerViPstTroisDuAPl & \\\\allerViPstTroisDuAPlP & \\\\blanc{\\\\allerViPstTroisDuAPlG} \\\\\\\\', '\\\\transformerVtPstTroisSgDDu & \\\\transformerVtPstTroisSgDDuP & \\\\blanc{\\\\transformerVtPstTroisSgDDuG} \\\\\\\\', '\\\\courirViPstTroisSgADu & \\\\courirViPstTroisSgADuP & \\\\blanc{\\\\courirViPstTroisSgADuG} \\\\\\\\', '\\\\devorerVtPstTroisPlBDu & \\\\devorerVtPstTroisPlBDuP & \\\\blanc{\\\\devorerVtPstTroisPlBDuG} \\\\\\\\', '\\\\transpercerVtPstTroisPlBPl & \\\\transpercerVtPstTroisPlBPlP & \\\\blanc{\\\\transpercerVtPstTroisPlBPlG} \\\\\\\\', '\\\\fuirViPstTroisPlDSg & \\\\fuirViPstTroisPlDSgP & \\\\blanc{\\\\fuirViPstTroisPlDSgG} \\\\\\\\', '\\\\tomberViPstTroisPlDPl & \\\\tomberViPstTroisPlDPlP & \\\\blanc{\\\\tomberViPstTroisPlDPlG} \\\\\\\\', '\\\\pousserVtPstTroisPlAPl & \\\\pousserVtPstTroisPlAPlP & \\\\blanc{\\\\pousserVtPstTroisPlAPlG} \\\\\\\\', '\\\\chasserVtPrsTroisPlCSg & \\\\chasserVtPrsTroisPlCSgP & \\\\blanc{\\\\chasserVtPrsTroisPlCSgG} \\\\\\\\', '\\\\voirVtPrsTroisDuASg & \\\\voirVtPrsTroisDuASgP & \\\\blanc{\\\\voirVtPrsTroisDuASgG} \\\\\\\\', '\\\\chercherVtPrsTroisPlBSg & \\\\chercherVtPrsTroisPlBSgP & \\\\blanc{\\\\chercherVtPrsTroisPlBSgG} \\\\\\\\', '\\\\parlerViPrsTroisPlDPl & \\\\parlerViPrsTroisPlDPlP & \\\\blanc{\\\\parlerViPrsTroisPlDPlG} \\\\\\\\', '\\\\approcherViPstTroisPlCDu & \\\\approcherViPstTroisPlCDuP & \\\\blanc{\\\\approcherViPstTroisPlCDuG} \\\\\\\\', '\\\\tomberViPstTroisDuCPl & \\\\tomberViPstTroisDuCPlP & \\\\blanc{\\\\tomberViPstTroisDuCPlG} \\\\\\\\', '\\\\protegerVtPrsTroisSgCDu & \\\\protegerVtPrsTroisSgCDuP & \\\\blanc{\\\\protegerVtPrsTroisSgCDuG} \\\\\\\\', '\\\\transformerVtPstTroisPlDPl & \\\\transformerVtPstTroisPlDPlP & \\\\blanc{\\\\transformerVtPstTroisPlDPlG} \\\\\\\\', '\\\\passerViPrsTroisPlDSg & \\\\passerViPrsTroisPlDSgP & \\\\blanc{\\\\passerViPrsTroisPlDSgG} \\\\\\\\', '\\\\sauterViPrsTroisDuDSg & \\\\sauterViPrsTroisDuDSgP & \\\\blanc{\\\\sauterViPrsTroisDuDSgG} \\\\\\\\', '\\\\courirViPrsTroisDuDDu & \\\\courirViPrsTroisDuDDuP & \\\\blanc{\\\\courirViPrsTroisDuDDuG} \\\\\\\\', '\\\\approcherViPstTroisPlBPl & \\\\approcherViPstTroisPlBPlP & \\\\blanc{\\\\approcherViPstTroisPlBPlG} \\\\\\\\', '\\\\sauterViPrsTroisSgDDu & \\\\sauterViPrsTroisSgDDuP & \\\\blanc{\\\\sauterViPrsTroisSgDDuG} \\\\\\\\', '\\\\sortirViPrsTroisDuASg & \\\\sortirViPrsTroisDuASgP & \\\\blanc{\\\\sortirViPrsTroisDuASgG} \\\\\\\\', '\\\\allerViPstTroisDuCSg & \\\\allerViPstTroisDuCSgP & \\\\blanc{\\\\allerViPstTroisDuCSgG} \\\\\\\\', '\\\\devorerVtPstTroisDuBDu & \\\\devorerVtPstTroisDuBDuP & \\\\blanc{\\\\devorerVtPstTroisDuBDuG} \\\\\\\\', '\\\\donnerVdPrsTroisSgCSg & \\\\donnerVdPrsTroisSgCSgP & \\\\blanc{\\\\donnerVdPrsTroisSgCSgG} \\\\\\\\', '\\\\courirViPrsTroisPlDSg & \\\\courirViPrsTroisPlDSgP & \\\\blanc{\\\\courirViPrsTroisPlDSgG} \\\\\\\\', '\\\\jeterVtPstTroisSgDDu & \\\\jeterVtPstTroisSgDDuP & \\\\blanc{\\\\jeterVtPstTroisSgDDuG} \\\\\\\\', '\\\\pousserVtPstTroisSgDSg & \\\\pousserVtPstTroisSgDSgP & \\\\blanc{\\\\pousserVtPstTroisSgDSgG} \\\\\\\\', '\\\\planterVtPrsTroisSgBSg & \\\\planterVtPrsTroisSgBSgP & \\\\blanc{\\\\planterVtPrsTroisSgBSgG} \\\\\\\\', '\\\\chercherVtPrsTroisDuBPl & \\\\chercherVtPrsTroisDuBPlP & \\\\blanc{\\\\chercherVtPrsTroisDuBPlG} \\\\\\\\', '\\\\courirViPstTroisSgBPl & \\\\courirViPstTroisSgBPlP & \\\\blanc{\\\\courirViPstTroisSgBPlG} \\\\\\\\', '\\\\approcherViPrsTroisPlDDu & \\\\approcherViPrsTroisPlDDuP & \\\\blanc{\\\\approcherViPrsTroisPlDDuG} \\\\\\\\', '\\\\jeterVtPstTroisDuBPl & \\\\jeterVtPstTroisDuBPlP & \\\\blanc{\\\\jeterVtPstTroisDuBPlG} \\\\\\\\', '\\\\disparaitreViPstTroisPlBSg & \\\\disparaitreViPstTroisPlBSgP & \\\\blanc{\\\\disparaitreViPstTroisPlBSgG} \\\\\\\\', '\\\\approcherViPstTroisSgCPl & \\\\approcherViPstTroisSgCPlP & \\\\blanc{\\\\approcherViPstTroisSgCPlG} \\\\\\\\', '\\\\pousserVtPstTroisSgBPl & \\\\pousserVtPstTroisSgBPlP & \\\\blanc{\\\\pousserVtPstTroisSgBPlG} \\\\\\\\', '\\\\prendreVtPrsTroisPlBPl & \\\\prendreVtPrsTroisPlBPlP & \\\\blanc{\\\\prendreVtPrsTroisPlBPlG} \\\\\\\\', '\\\\passerViPrsTroisPlBDu & \\\\passerViPrsTroisPlBDuP & \\\\blanc{\\\\passerViPrsTroisPlBDuG} \\\\\\\\', '\\\\sortirViPstTroisPlBDu & \\\\sortirViPstTroisPlBDuP & \\\\blanc{\\\\sortirViPstTroisPlBDuG} \\\\\\\\', '\\\\disparaitreViPstTroisSgCSg & \\\\disparaitreViPstTroisSgCSgP & \\\\blanc{\\\\disparaitreViPstTroisSgCSgG} \\\\\\\\', '\\\\envahirVtPrsTroisDuCPl & \\\\envahirVtPrsTroisDuCPlP & \\\\blanc{\\\\envahirVtPrsTroisDuCPlG} \\\\\\\\', '\\\\passerViPrsTroisPlADu & \\\\passerViPrsTroisPlADuP & \\\\blanc{\\\\passerViPrsTroisPlADuG} \\\\\\\\', '\\\\fuirViPrsTroisPlCDu & \\\\fuirViPrsTroisPlCDuP & \\\\blanc{\\\\fuirViPrsTroisPlCDuG} \\\\\\\\', '\\\\chercherVtPrsTroisDuAPl & \\\\chercherVtPrsTroisDuAPlP & \\\\blanc{\\\\chercherVtPrsTroisDuAPlG} \\\\\\\\', '\\\\passerViPrsTroisSgCDu & \\\\passerViPrsTroisSgCDuP & \\\\blanc{\\\\passerViPrsTroisSgCDuG} \\\\\\\\', '\\\\disparaitreViPstTroisDuAPl & \\\\disparaitreViPstTroisDuAPlP & \\\\blanc{\\\\disparaitreViPstTroisDuAPlG} \\\\\\\\', '\\\\voirVtPstTroisPlASg & \\\\voirVtPstTroisPlASgP & \\\\blanc{\\\\voirVtPstTroisPlASgG} \\\\\\\\', '\\\\fuirViPstTroisDuCPl & \\\\fuirViPstTroisDuCPlP & \\\\blanc{\\\\fuirViPstTroisDuCPlG} \\\\\\\\', '\\\\sauterViPstTroisPlADu & \\\\sauterViPstTroisPlADuP & \\\\blanc{\\\\sauterViPstTroisPlADuG} \\\\\\\\', '\\\\rejoindreVtPrsTroisSgAPl & \\\\rejoindreVtPrsTroisSgAPlP & \\\\blanc{\\\\rejoindreVtPrsTroisSgAPlG} \\\\\\\\', '\\\\fuirViPstTroisPlBSg & \\\\fuirViPstTroisPlBSgP & \\\\blanc{\\\\fuirViPstTroisPlBSgG} \\\\\\\\', '\\\\voirVtPrsTroisSgBSg & \\\\voirVtPrsTroisSgBSgP & \\\\blanc{\\\\voirVtPrsTroisSgBSgG} \\\\\\\\', '\\\\transpercerVtPstTroisDuDPl & \\\\transpercerVtPstTroisDuDPlP & \\\\blanc{\\\\transpercerVtPstTroisDuDPlG} \\\\\\\\', '\\\\fuirViPstTroisPlASg & \\\\fuirViPstTroisPlASgP & \\\\blanc{\\\\fuirViPstTroisPlASgG} \\\\\\\\', '\\\\jeterVtPrsTroisDuCSg & \\\\jeterVtPrsTroisDuCSgP & \\\\blanc{\\\\jeterVtPrsTroisDuCSgG} \\\\\\\\', '\\\\planterVtPstTroisPlCDu & \\\\planterVtPstTroisPlCDuP & \\\\blanc{\\\\planterVtPstTroisPlCDuG} \\\\\\\\', '\\\\sortirViPrsTroisPlDPl & \\\\sortirViPrsTroisPlDPlP & \\\\blanc{\\\\sortirViPrsTroisPlDPlG} \\\\\\\\', '\\\\jeterVtPrsTroisDuBPl & \\\\jeterVtPrsTroisDuBPlP & \\\\blanc{\\\\jeterVtPrsTroisDuBPlG} \\\\\\\\', '\\\\allerViPstTroisPlAPl & \\\\allerViPstTroisPlAPlP & \\\\blanc{\\\\allerViPstTroisPlAPlG} \\\\\\\\', '\\\\rejoindreVtPrsTroisSgCPl & \\\\rejoindreVtPrsTroisSgCPlP & \\\\blanc{\\\\rejoindreVtPrsTroisSgCPlG} \\\\\\\\', '\\\\fuirViPrsTroisDuAPl & \\\\fuirViPrsTroisDuAPlP & \\\\blanc{\\\\fuirViPrsTroisDuAPlG} \\\\\\\\', '\\\\tomberViPstTroisSgADu & \\\\tomberViPstTroisSgADuP & \\\\blanc{\\\\tomberViPstTroisSgADuG} \\\\\\\\', '\\\\chercherVtPrsTroisSgASg & \\\\chercherVtPrsTroisSgASgP & \\\\blanc{\\\\chercherVtPrsTroisSgASgG} \\\\\\\\', '\\\\jeterVtPrsTroisDuCPl & \\\\jeterVtPrsTroisDuCPlP & \\\\blanc{\\\\jeterVtPrsTroisDuCPlG} \\\\\\\\', '\\\\transformerVtPrsTroisDuADu & \\\\transformerVtPrsTroisDuADuP & \\\\blanc{\\\\transformerVtPrsTroisDuADuG} \\\\\\\\', '\\\\approcherViPrsTroisPlDPl & \\\\approcherViPrsTroisPlDPlP & \\\\blanc{\\\\approcherViPrsTroisPlDPlG} \\\\\\\\', '\\\\jeterVtPstTroisSgCDu & \\\\jeterVtPstTroisSgCDuP & \\\\blanc{\\\\jeterVtPstTroisSgCDuG} \\\\\\\\', '\\\\prendreVtPrsTroisPlDSg & \\\\prendreVtPrsTroisPlDSgP & \\\\blanc{\\\\prendreVtPrsTroisPlDSgG} \\\\\\\\', '\\\\prendreVtPrsTroisSgASg & \\\\prendreVtPrsTroisSgASgP & \\\\blanc{\\\\prendreVtPrsTroisSgASgG} \\\\\\\\', '\\\\parlerViPrsTroisPlDSg & \\\\parlerViPrsTroisPlDSgP & \\\\blanc{\\\\parlerViPrsTroisPlDSgG} \\\\\\\\', '\\\\courirViPrsTroisDuCPl & \\\\courirViPrsTroisDuCPlP & \\\\blanc{\\\\courirViPrsTroisDuCPlG} \\\\\\\\', '\\\\tomberViPrsTroisPlAPl & \\\\tomberViPrsTroisPlAPlP & \\\\blanc{\\\\tomberViPrsTroisPlAPlG} \\\\\\\\', '\\\\recouvrirVtPrsTroisPlAPl & \\\\recouvrirVtPrsTroisPlAPlP & \\\\blanc{\\\\recouvrirVtPrsTroisPlAPlG} \\\\\\\\', '\\\\transformerVtPstTroisDuBDu & \\\\transformerVtPstTroisDuBDuP & \\\\blanc{\\\\transformerVtPstTroisDuBDuG} \\\\\\\\', '\\\\jeterVtPstTroisDuBSg & \\\\jeterVtPstTroisDuBSgP & \\\\blanc{\\\\jeterVtPstTroisDuBSgG} \\\\\\\\', '\\\\sortirViPrsTroisPlAPl & \\\\sortirViPrsTroisPlAPlP & \\\\blanc{\\\\sortirViPrsTroisPlAPlG} \\\\\\\\', '\\\\jeterVtPstTroisPlAPl & \\\\jeterVtPstTroisPlAPlP & \\\\blanc{\\\\jeterVtPstTroisPlAPlG} \\\\\\\\', '\\\\approcherViPstTroisDuASg & \\\\approcherViPstTroisDuASgP & \\\\blanc{\\\\approcherViPstTroisDuASgG} \\\\\\\\', '\\\\chercherVtPstTroisPlADu & \\\\chercherVtPstTroisPlADuP & \\\\blanc{\\\\chercherVtPstTroisPlADuG} \\\\\\\\', '\\\\sauterViPstTroisDuDDu & \\\\sauterViPstTroisDuDDuP & \\\\blanc{\\\\sauterViPstTroisDuDDuG} \\\\\\\\', '\\\\allerViPstTroisSgDSg & \\\\allerViPstTroisSgDSgP & \\\\blanc{\\\\allerViPstTroisSgDSgG} \\\\\\\\', '\\\\fuirViPrsTroisDuCDu & \\\\fuirViPrsTroisDuCDuP & \\\\blanc{\\\\fuirViPrsTroisDuCDuG} \\\\\\\\', '\\\\chasserVtPrsTroisPlBPl & \\\\chasserVtPrsTroisPlBPlP & \\\\blanc{\\\\chasserVtPrsTroisPlBPlG} \\\\\\\\', '\\\\sauterViPrsTroisSgDSg & \\\\sauterViPrsTroisSgDSgP & \\\\blanc{\\\\sauterViPrsTroisSgDSgG} \\\\\\\\', '\\\\envahirVtPrsTroisDuAPl & \\\\envahirVtPrsTroisDuAPlP & \\\\blanc{\\\\envahirVtPrsTroisDuAPlG} \\\\\\\\', '\\\\planterVtPrsTroisDuBSg & \\\\planterVtPrsTroisDuBSgP & \\\\blanc{\\\\planterVtPrsTroisDuBSgG} \\\\\\\\', '\\\\sortirViPstTroisDuASg & \\\\sortirViPstTroisDuASgP & \\\\blanc{\\\\sortirViPstTroisDuASgG} \\\\\\\\', '\\\\planterVtPrsTroisPlADu & \\\\planterVtPrsTroisPlADuP & \\\\blanc{\\\\planterVtPrsTroisPlADuG} \\\\\\\\', '\\\\allerViPrsTroisSgASg & \\\\allerViPrsTroisSgASgP & \\\\blanc{\\\\allerViPrsTroisSgASgG} \\\\\\\\', '\\\\chasserVtPrsTroisPlDDu & \\\\chasserVtPrsTroisPlDDuP & \\\\blanc{\\\\chasserVtPrsTroisPlDDuG} \\\\\\\\', '\\\\tomberViPstTroisDuADu & \\\\tomberViPstTroisDuADuP & \\\\blanc{\\\\tomberViPstTroisDuADuG} \\\\\\\\', '\\\\fuirViPstTroisDuBPl & \\\\fuirViPstTroisDuBPlP & \\\\blanc{\\\\fuirViPstTroisDuBPlG} \\\\\\\\', '\\\\etreVtPstTroisSgCSg & \\\\etreVtPstTroisSgCSgP & \\\\blanc{\\\\etreVtPstTroisSgCSgG} \\\\\\\\', '\\\\transformerVtPstTroisPlCDu & \\\\transformerVtPstTroisPlCDuP & \\\\blanc{\\\\transformerVtPstTroisPlCDuG} \\\\\\\\', '\\\\approcherViPstTroisSgDSg & \\\\approcherViPstTroisSgDSgP & \\\\blanc{\\\\approcherViPstTroisSgDSgG} \\\\\\\\', '\\\\voirVtPrsTroisPlBDu & \\\\voirVtPrsTroisPlBDuP & \\\\blanc{\\\\voirVtPrsTroisPlBDuG} \\\\\\\\', '\\\\courirViPrsTroisPlDDu & \\\\courirViPrsTroisPlDDuP & \\\\blanc{\\\\courirViPrsTroisPlDDuG} \\\\\\\\', '\\\\transformerVtPstTroisPlCPl & \\\\transformerVtPstTroisPlCPlP & \\\\blanc{\\\\transformerVtPstTroisPlCPlG} \\\\\\\\', '\\\\approcherViPstTroisPlBDu & \\\\approcherViPstTroisPlBDuP & \\\\blanc{\\\\approcherViPstTroisPlBDuG} \\\\\\\\', '\\\\disparaitreViPstTroisPlDSg & \\\\disparaitreViPstTroisPlDSgP & \\\\blanc{\\\\disparaitreViPstTroisPlDSgG} \\\\\\\\', '\\\\prendreVtPrsTroisDuCSg & \\\\prendreVtPrsTroisDuCSgP & \\\\blanc{\\\\prendreVtPrsTroisDuCSgG} \\\\\\\\', '\\\\tomberViPrsTroisSgDSg & \\\\tomberViPrsTroisSgDSgP & \\\\blanc{\\\\tomberViPrsTroisSgDSgG} \\\\\\\\', '\\\\prendreVtPrsTroisDuDDu & \\\\prendreVtPrsTroisDuDDuP & \\\\blanc{\\\\prendreVtPrsTroisDuDDuG} \\\\\\\\', '\\\\recouvrirVtPstTroisSgBSg & \\\\recouvrirVtPstTroisSgBSgP & \\\\blanc{\\\\recouvrirVtPstTroisSgBSgG} \\\\\\\\', '\\\\allerViPrsTroisSgBDu & \\\\allerViPrsTroisSgBDuP & \\\\blanc{\\\\allerViPrsTroisSgBDuG} \\\\\\\\', '\\\\disparaitreViPrsTroisPlDSg & \\\\disparaitreViPrsTroisPlDSgP & \\\\blanc{\\\\disparaitreViPrsTroisPlDSgG} \\\\\\\\', '\\\\allerViPstTroisDuDSg & \\\\allerViPstTroisDuDSgP & \\\\blanc{\\\\allerViPstTroisDuDSgG} \\\\\\\\', '\\\\fuirViPstTroisSgBSg & \\\\fuirViPstTroisSgBSgP & \\\\blanc{\\\\fuirViPstTroisSgBSgG} \\\\\\\\', '\\\\approcherViPrsTroisDuBSg & \\\\approcherViPrsTroisDuBSgP & \\\\blanc{\\\\approcherViPrsTroisDuBSgG} \\\\\\\\', '\\\\planterVtPstTroisSgBPl & \\\\planterVtPstTroisSgBPlP & \\\\blanc{\\\\planterVtPstTroisSgBPlG} \\\\\\\\', '\\\\rejoindreVtPrsTroisPlADu & \\\\rejoindreVtPrsTroisPlADuP & \\\\blanc{\\\\rejoindreVtPrsTroisPlADuG} \\\\\\\\', '\\\\passerViPstTroisPlBSg & \\\\passerViPstTroisPlBSgP & \\\\blanc{\\\\passerViPstTroisPlBSgG} \\\\\\\\', '\\\\envahirVtPrsTroisDuCSg & \\\\envahirVtPrsTroisDuCSgP & \\\\blanc{\\\\envahirVtPrsTroisDuCSgG} \\\\\\\\', '\\\\approcherViPrsTroisDuBPl & \\\\approcherViPrsTroisDuBPlP & \\\\blanc{\\\\approcherViPrsTroisDuBPlG} \\\\\\\\', '\\\\etreVtPrsTroisDuAPl & \\\\etreVtPrsTroisDuAPlP & \\\\blanc{\\\\etreVtPrsTroisDuAPlG} \\\\\\\\', '\\\\protegerVtPrsTroisPlADu & \\\\protegerVtPrsTroisPlADuP & \\\\blanc{\\\\protegerVtPrsTroisPlADuG} \\\\\\\\', '\\\\envahirVtPrsTroisPlBDu & \\\\envahirVtPrsTroisPlBDuP & \\\\blanc{\\\\envahirVtPrsTroisPlBDuG} \\\\\\\\', '\\\\transformerVtPrsTroisSgBPl & \\\\transformerVtPrsTroisSgBPlP & \\\\blanc{\\\\transformerVtPrsTroisSgBPlG} \\\\\\\\', '\\\\disparaitreViPrsTroisPlBSg & \\\\disparaitreViPrsTroisPlBSgP & \\\\blanc{\\\\disparaitreViPrsTroisPlBSgG} \\\\\\\\', '\\\\envahirVtPstTroisSgDDu & \\\\envahirVtPstTroisSgDDuP & \\\\blanc{\\\\envahirVtPstTroisSgDDuG} \\\\\\\\', '\\\\envahirVtPrsTroisDuDSg & \\\\envahirVtPrsTroisDuDSgP & \\\\blanc{\\\\envahirVtPrsTroisDuDSgG} \\\\\\\\', '\\\\passerViPstTroisDuDDu & \\\\passerViPstTroisDuDDuP & \\\\blanc{\\\\passerViPstTroisDuDDuG} \\\\\\\\', '\\\\fuirViPrsTroisDuDSg & \\\\fuirViPrsTroisDuDSgP & \\\\blanc{\\\\fuirViPrsTroisDuDSgG} \\\\\\\\', '\\\\parlerViPstTroisDuCSg & \\\\parlerViPstTroisDuCSgP & \\\\blanc{\\\\parlerViPstTroisDuCSgG} \\\\\\\\', '\\\\apporterVdPrsTroisPlCPl & \\\\apporterVdPrsTroisPlCPlP & \\\\blanc{\\\\apporterVdPrsTroisPlCPlG} \\\\\\\\', '\\\\donnerVdPstTroisSgBPl & \\\\donnerVdPstTroisSgBPlP & \\\\blanc{\\\\donnerVdPstTroisSgBPlG} \\\\\\\\', '\\\\parlerViPstTroisSgBSg & \\\\parlerViPstTroisSgBSgP & \\\\blanc{\\\\parlerViPstTroisSgBSgG} \\\\\\\\', '\\\\rejoindreVtPstTroisPlDSg & \\\\rejoindreVtPstTroisPlDSgP & \\\\blanc{\\\\rejoindreVtPstTroisPlDSgG} \\\\\\\\', '\\\\approcherViPstTroisDuDPl & \\\\approcherViPstTroisDuDPlP & \\\\blanc{\\\\approcherViPstTroisDuDPlG} \\\\\\\\', '\\\\recouvrirVtPrsTroisPlASg & \\\\recouvrirVtPrsTroisPlASgP & \\\\blanc{\\\\recouvrirVtPrsTroisPlASgG} \\\\\\\\', '\\\\apporterVdPrsTroisSgCSg & \\\\apporterVdPrsTroisSgCSgP & \\\\blanc{\\\\apporterVdPrsTroisSgCSgG} \\\\\\\\', '\\\\fuirViPrsTroisDuDDu & \\\\fuirViPrsTroisDuDDuP & \\\\blanc{\\\\fuirViPrsTroisDuDDuG} \\\\\\\\', '\\\\chercherVtPstTroisDuDDu & \\\\chercherVtPstTroisDuDDuP & \\\\blanc{\\\\chercherVtPstTroisDuDDuG} \\\\\\\\', '\\\\approcherViPstTroisSgCSg & \\\\approcherViPstTroisSgCSgP & \\\\blanc{\\\\approcherViPstTroisSgCSgG} \\\\\\\\', '\\\\parlerViPstTroisDuCDu & \\\\parlerViPstTroisDuCDuP & \\\\blanc{\\\\parlerViPstTroisDuCDuG} \\\\\\\\', '\\\\passerViPstTroisDuADu & \\\\passerViPstTroisDuADuP & \\\\blanc{\\\\passerViPstTroisDuADuG} \\\\\\\\', '\\\\etreVtPstTroisSgDPl & \\\\etreVtPstTroisSgDPlP & \\\\blanc{\\\\etreVtPstTroisSgDPlG} \\\\\\\\', '\\\\etreVtPstTroisDuCDu & \\\\etreVtPstTroisDuCDuP & \\\\blanc{\\\\etreVtPstTroisDuCDuG} \\\\\\\\', '\\\\etreVtPstTroisSgCPl & \\\\etreVtPstTroisSgCPlP & \\\\blanc{\\\\etreVtPstTroisSgCPlG} \\\\\\\\', '\\\\protegerVtPrsTroisSgDSg & \\\\protegerVtPrsTroisSgDSgP & \\\\blanc{\\\\protegerVtPrsTroisSgDSgG} \\\\\\\\', '\\\\devorerVtPstTroisSgASg & \\\\devorerVtPstTroisSgASgP & \\\\blanc{\\\\devorerVtPstTroisSgASgG} \\\\\\\\', '\\\\devorerVtPstTroisSgBSg & \\\\devorerVtPstTroisSgBSgP & \\\\blanc{\\\\devorerVtPstTroisSgBSgG} \\\\\\\\', '\\\\chercherVtPrsTroisPlCSg & \\\\chercherVtPrsTroisPlCSgP & \\\\blanc{\\\\chercherVtPrsTroisPlCSgG} \\\\\\\\', '\\\\prendreVtPrsTroisPlDPl & \\\\prendreVtPrsTroisPlDPlP & \\\\blanc{\\\\prendreVtPrsTroisPlDPlG} \\\\\\\\', '\\\\prendreVtPstTroisSgAPl & \\\\prendreVtPstTroisSgAPlP & \\\\blanc{\\\\prendreVtPstTroisSgAPlG} \\\\\\\\', '\\\\protegerVtPstTroisPlBSg & \\\\protegerVtPstTroisPlBSgP & \\\\blanc{\\\\protegerVtPstTroisPlBSgG} \\\\\\\\', '\\\\donnerVdPstTroisDuADu & \\\\donnerVdPstTroisDuADuP & \\\\blanc{\\\\donnerVdPstTroisDuADuG} \\\\\\\\', '\\\\prendreVtPrsTroisSgCDu & \\\\prendreVtPrsTroisSgCDuP & \\\\blanc{\\\\prendreVtPrsTroisSgCDuG} \\\\\\\\', '\\\\disparaitreViPstTroisPlAPl & \\\\disparaitreViPstTroisPlAPlP & \\\\blanc{\\\\disparaitreViPstTroisPlAPlG} \\\\\\\\', '\\\\etreVtPstTroisDuBDu & \\\\etreVtPstTroisDuBDuP & \\\\blanc{\\\\etreVtPstTroisDuBDuG} \\\\\\\\', '\\\\jeterVtPrsTroisPlAPl & \\\\jeterVtPrsTroisPlAPlP & \\\\blanc{\\\\jeterVtPrsTroisPlAPlG} \\\\\\\\', '\\\\devorerVtPrsTroisPlCPl & \\\\devorerVtPrsTroisPlCPlP & \\\\blanc{\\\\devorerVtPrsTroisPlCPlG} \\\\\\\\', '\\\\etreVtPstTroisSgBSg & \\\\etreVtPstTroisSgBSgP & \\\\blanc{\\\\etreVtPstTroisSgBSgG} \\\\\\\\', '\\\\disparaitreViPrsTroisDuCPl & \\\\disparaitreViPrsTroisDuCPlP & \\\\blanc{\\\\disparaitreViPrsTroisDuCPlG} \\\\\\\\', '\\\\passerViPrsTroisSgBSg & \\\\passerViPrsTroisSgBSgP & \\\\blanc{\\\\passerViPrsTroisSgBSgG} \\\\\\\\', '\\\\chasserVtPstTroisSgBPl & \\\\chasserVtPstTroisSgBPlP & \\\\blanc{\\\\chasserVtPstTroisSgBPlG} \\\\\\\\', '\\\\recouvrirVtPstTroisSgAPl & \\\\recouvrirVtPstTroisSgAPlP & \\\\blanc{\\\\recouvrirVtPstTroisSgAPlG} \\\\\\\\', '\\\\devorerVtPstTroisDuDPl & \\\\devorerVtPstTroisDuDPlP & \\\\blanc{\\\\devorerVtPstTroisDuDPlG} \\\\\\\\', '\\\\pousserVtPrsTroisDuAPl & \\\\pousserVtPrsTroisDuAPlP & \\\\blanc{\\\\pousserVtPrsTroisDuAPlG} \\\\\\\\', '\\\\tomberViPrsTroisPlCSg & \\\\tomberViPrsTroisPlCSgP & \\\\blanc{\\\\tomberViPrsTroisPlCSgG} \\\\\\\\'])\n",
      "recuTableau set(['\\\\DEFSgErg & \\\\DEFSgErgP & \\\\blanc{\\\\DEFSgErgG} \\\\\\\\', '\\\\DEMDuObl & \\\\DEMDuOblP & \\\\blanc{\\\\DEMDuOblG} \\\\\\\\', '\\\\DEFDuDat & \\\\DEFDuDatP & \\\\blanc{\\\\DEFDuDatG} \\\\\\\\', '\\\\DEFDuErg & \\\\DEFDuErgP & \\\\blanc{\\\\DEFDuErgG} \\\\\\\\', '\\\\INDDuErg & \\\\INDDuErgP & \\\\blanc{\\\\INDDuErgG} \\\\\\\\', '\\\\DEFPlDat & \\\\DEFPlDatP & \\\\blanc{\\\\DEFPlDatG} \\\\\\\\', '\\\\DEMDuAbs & \\\\DEMDuAbsP & \\\\blanc{\\\\DEMDuAbsG} \\\\\\\\', '\\\\DEMDuDat & \\\\DEMDuDatP & \\\\blanc{\\\\DEMDuDatG} \\\\\\\\', '\\\\DEMSgErg & \\\\DEMSgErgP & \\\\blanc{\\\\DEMSgErgG} \\\\\\\\', '\\\\INDSgErg & \\\\INDSgErgP & \\\\blanc{\\\\INDSgErgG} \\\\\\\\', '\\\\INDPlAbs & \\\\INDPlAbsP & \\\\blanc{\\\\INDPlAbsG} \\\\\\\\', '\\\\DEMSgDat & \\\\DEMSgDatP & \\\\blanc{\\\\DEMSgDatG} \\\\\\\\', '\\\\DEMSgAbs & \\\\DEMSgAbsP & \\\\blanc{\\\\DEMSgAbsG} \\\\\\\\', '\\\\DEMPlAbs & \\\\DEMPlAbsP & \\\\blanc{\\\\DEMPlAbsG} \\\\\\\\', '\\\\DEMPlErg & \\\\DEMPlErgP & \\\\blanc{\\\\DEMPlErgG} \\\\\\\\', '\\\\INDPlObl & \\\\INDPlOblP & \\\\blanc{\\\\INDPlOblG} \\\\\\\\', '\\\\INDPlErg & \\\\INDPlErgP & \\\\blanc{\\\\INDPlErgG} \\\\\\\\', '\\\\INDPlDat & \\\\INDPlDatP & \\\\blanc{\\\\INDPlDatG} \\\\\\\\', '\\\\DEMSgObl & \\\\DEMSgOblP & \\\\blanc{\\\\DEMSgOblG} \\\\\\\\', '\\\\DEFPlErg & \\\\DEFPlErgP & \\\\blanc{\\\\DEFPlErgG} \\\\\\\\', '\\\\DEMPlDat & \\\\DEMPlDatP & \\\\blanc{\\\\DEMPlDatG} \\\\\\\\', '\\\\INDDuObl & \\\\INDDuOblP & \\\\blanc{\\\\INDDuOblG} \\\\\\\\', '\\\\INDDuAbs & \\\\INDDuAbsP & \\\\blanc{\\\\INDDuAbsG} \\\\\\\\', '\\\\DEFDuObl & \\\\DEFDuOblP & \\\\blanc{\\\\DEFDuOblG} \\\\\\\\', '\\\\DEFSgDat & \\\\DEFSgDatP & \\\\blanc{\\\\DEFSgDatG} \\\\\\\\', '\\\\DEMDuErg & \\\\DEMDuErgP & \\\\blanc{\\\\DEMDuErgG} \\\\\\\\', '\\\\DEFSgObl & \\\\DEFSgOblP & \\\\blanc{\\\\DEFSgOblG} \\\\\\\\', '\\\\DEFSgAbs & \\\\DEFSgAbsP & \\\\blanc{\\\\DEFSgAbsG} \\\\\\\\', '\\\\INDSgObl & \\\\INDSgOblP & \\\\blanc{\\\\INDSgOblG} \\\\\\\\', '\\\\DEFPlAbs & \\\\DEFPlAbsP & \\\\blanc{\\\\DEFPlAbsG} \\\\\\\\', '\\\\DEFPlObl & \\\\DEFPlOblP & \\\\blanc{\\\\DEFPlOblG} \\\\\\\\', '\\\\INDSgDat & \\\\INDSgDatP & \\\\blanc{\\\\INDSgDatG} \\\\\\\\', '\\\\DEMPlObl & \\\\DEMPlOblP & \\\\blanc{\\\\DEMPlOblG} \\\\\\\\', '\\\\DEFDuAbs & \\\\DEFDuAbsP & \\\\blanc{\\\\DEFDuAbsG} \\\\\\\\', '\\\\INDDuDat & \\\\INDDuDatP & \\\\blanc{\\\\INDDuDatG} \\\\\\\\', '\\\\INDSgAbs & \\\\INDSgAbsP & \\\\blanc{\\\\INDSgAbsG} \\\\\\\\'])\n",
      "recuTableau set(['\\\\ENTRE & \\\\ENTREP & \\\\blanc{\\\\ENTREG} \\\\\\\\', '\\\\DERRIERE & \\\\DERRIEREP & \\\\blanc{\\\\DERRIEREG} \\\\\\\\', '\\\\APRES & \\\\APRESP & \\\\blanc{\\\\APRESG} \\\\\\\\', '\\\\A & \\\\AP & \\\\blanc{\\\\AG} \\\\\\\\', '\\\\AVEC & \\\\AVECP & \\\\blanc{\\\\AVECG} \\\\\\\\', '\\\\DEVANT & \\\\DEVANTP & \\\\blanc{\\\\DEVANTG} \\\\\\\\', '\\\\DANS & \\\\DANSP & \\\\blanc{\\\\DANSG} \\\\\\\\', '\\\\VERS & \\\\VERSP & \\\\blanc{\\\\VERSG} \\\\\\\\', '\\\\DE & \\\\DEP & \\\\blanc{\\\\DEG} \\\\\\\\', '\\\\SUR & \\\\SURP & \\\\blanc{\\\\SURG} \\\\\\\\'])\n"
     ]
    }
   ],
   "source": [
    "#print os.path.realpath(phrase_nom)\n",
    "try:\n",
    "    phrase_file = codecs.open((phrase_nom),\"r\",\"utf8\")\n",
    "except IOError:\n",
    "    print 'I could not open the sentence file', phrase_nom\n",
    "    sys.exit()\n",
    "exemples=[]\n",
    "accumulateur=[]\n",
    "vocabulaire=[]\n",
    "prononciationExtrait=[]\n",
    "faire_phrases(phrase_file)\n",
    "phrase_file.close()"
   ]
  },
  {
   "cell_type": "code",
   "execution_count": 1939,
   "metadata": {
    "collapsed": false,
    "scrolled": true
   },
   "outputs": [
    {
     "name": "stdout",
     "output_type": "stream",
     "text": [
      "I could not open the sentence file /Users/gilles/ownCloud/Cours/Bordeaux/L1-LinguistiqueGenerale/Kalaba-Project/16-K5/Traductions.csv\n"
     ]
    },
    {
     "ename": "SystemExit",
     "evalue": "",
     "output_type": "error",
     "traceback": [
      "An exception has occurred, use %tb to see the full traceback.\n",
      "\u001b[0;31mSystemExit\u001b[0m\n"
     ]
    },
    {
     "name": "stderr",
     "output_type": "stream",
     "text": [
      "To exit: use 'exit', 'quit', or Ctrl-D.\n"
     ]
    }
   ],
   "source": [
    "nomTableaux=\"Tableaux.yaml\"\n",
    "with open(serie+nomTableaux, 'r') as stream:\n",
    "    tableaux=yaml.load(stream)\n",
    "if traduction_nom.endswith(\"csv\"):\n",
    "    try:\n",
    "        traduction_file = codecs.open(traduction_nom,\"r\",\"utf8\")\n",
    "    except IOError:\n",
    "        print 'I could not open the sentence file', traduction_nom\n",
    "        sys.exit()      \n",
    "    else:\n",
    "        try:\n",
    "            cloze_file = codecs.open(cloze_nom,\"r\",\"utf8\")\n",
    "        except IOError:\n",
    "            print 'I could not open the sentence file', cloze_nom\n",
    "            sys.exit()\n",
    "        else:\n",
    "            traductions={}\n",
    "            for line in cloze_file.readlines():\n",
    "                line=line.strip()\n",
    "                if not line.startswith(\"#\"):\n",
    "                    elementsCloze=line.split(\";\")\n",
    "                    traductions[elementsCloze[0]]=elementsCloze[3]\n",
    "            cloze_file.close()\n",
    "            exemples=[]\n",
    "            accumulateur=[]\n",
    "            vocabulaire=[]\n",
    "#            prononciationExtrait=[]\n",
    "            faire_phrases(traduction_file,False)\n",
    "            traduction_file.close()"
   ]
  },
  {
   "cell_type": "code",
   "execution_count": null,
   "metadata": {
    "collapsed": false
   },
   "outputs": [],
   "source": [
    "#PFM.hierarchieCF.classes\n",
    "#discrimineur\n",
    "tableaux[\"NOM\"]"
   ]
  },
  {
   "cell_type": "code",
   "execution_count": null,
   "metadata": {
    "collapsed": true
   },
   "outputs": [],
   "source": []
  }
 ],
 "metadata": {
  "kernelspec": {
   "display_name": "Python 2",
   "language": "python",
   "name": "python2"
  },
  "language_info": {
   "codemirror_mode": {
    "name": "ipython",
    "version": 2
   },
   "file_extension": ".py",
   "mimetype": "text/x-python",
   "name": "python",
   "nbconvert_exporter": "python",
   "pygments_lexer": "ipython2",
   "version": "2.7.11"
  }
 },
 "nbformat": 4,
 "nbformat_minor": 0
}

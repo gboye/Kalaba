{
 "cells": [
  {
   "cell_type": "code",
   "execution_count": 1791,
   "metadata": {
    "collapsed": false
   },
   "outputs": [],
   "source": [
    "# -*- coding: utf8 -*-\n",
    "from os.path import expanduser\n",
    "home = expanduser(\"~\")\n",
    "repertoire=home+\"/ownCloud/Cours/Bordeaux/L1-LinguistiqueGenerale/Kalaba-Project/16-K1\"\n",
    "serie=repertoire+\"/\"\n",
    "variante=\"-Corr\"\n",
    "variante=\"\"\n",
    "complementPhrases=\"\"\n",
    "#########################IMPORTS############################################\n",
    "import codecs, optparse\n",
    "import re, random\n",
    "import sys,os,time\n",
    "import string\n",
    "import yaml\n",
    "import ParFuMor as PFM\n",
    "from ParFuMor import *\n",
    "import pickle"
   ]
  },
  {
   "cell_type": "code",
   "execution_count": 1792,
   "metadata": {
    "collapsed": false
   },
   "outputs": [],
   "source": [
    "#########################VARIABLES##########################################\n",
    "version=os.path.basename(\"__file__\")\n",
    "time_stamp='%s' % time.strftime(\"%y%m%d-%H%M\")\n",
    "debug=0\n",
    "debug_now=1\n",
    "#casNombreDet=True\n",
    "separateurPhonoCloze=\" \"\n",
    "separateurMots=separateurPhonoCloze\n",
    "marqueurCommentaire=\"%\"\n",
    "print_no=True\n",
    "print_taches=False\n",
    "print_coffee=False\n",
    "print_commands=True\n",
    "print_ortho=True\n",
    "print_phono=True\n",
    "print_glose=False\n",
    "print_radicaux=False\n",
    "#if separateurMots==\"\":\n",
    "#    print_glose=False\n",
    "if variante==\"-Corr\":\n",
    "    print_taches=False\n",
    "    print_coffee=False\n",
    "    print_commands=True\n",
    "    print_ortho=True\n",
    "    print_phono=True\n",
    "    print_glose=True    \n",
    "if print_glose:\n",
    "    separateurMots=\" \"\n",
    "if print_glose+print_ortho+print_phono>1:\n",
    "    print_phrases=True\n",
    "else:\n",
    "    print_phrases=False\n",
    "print_lexique=True\n",
    "print_cloze=True\n",
    "print_racines=True\n",
    "no_form=\"***\"\n",
    "# no_grapho=['dormir', 'lit']\n",
    "# no_phono=['gros', 'coussin']\n",
    "no_grapho=['petit','Nabil',\"sur\"]\n",
    "no_phono=[\"grand\",\"autruche\",'dans']\n",
    "phono_no=u\"XXXXX\"\n",
    "grapho_no=u\"XXXXX\""
   ]
  },
  {
   "cell_type": "code",
   "execution_count": 1793,
   "metadata": {
    "collapsed": false
   },
   "outputs": [
    {
     "data": {
      "text/plain": [
       "2"
      ]
     },
     "execution_count": 1793,
     "metadata": {},
     "output_type": "execute_result"
    }
   ],
   "source": [
    "print_glose+print_ortho+print_phono"
   ]
  },
  {
   "cell_type": "code",
   "execution_count": 1794,
   "metadata": {
    "collapsed": false
   },
   "outputs": [],
   "source": [
    "prononciationBegin=[\n",
    "    \"\\\\begin{center}\",\n",
    "        \"\\\\begin{tabular}{lcc}\",\n",
    "        \"\\\\toprule\",\n",
    "        u\"Graphie & Prononciation & Mot français \\\\\\\\\",\n",
    "        \"\\\\midrule\"\n",
    "        ]\n",
    "prononciationEnd=[\n",
    "        \"\\\\bottomrule\",\n",
    "        \"\\\\end{tabular}\",\n",
    "    \"\\\\end{center}\"\n",
    "]"
   ]
  },
  {
   "cell_type": "code",
   "execution_count": 1795,
   "metadata": {
    "collapsed": false
   },
   "outputs": [],
   "source": [
    "with open(serie+\"Gloses.yaml\", 'r') as stream:\n",
    "    gloses=yaml.load(stream)\n",
    "with open(serie+\"Stems.yaml\", 'r') as stream:\n",
    "    stems=yaml.load(stream)\n",
    "with open(serie+\"Phonology.yaml\", 'r') as stream:\n",
    "    phonology=yaml.load(stream)\n",
    "with open(serie+\"MorphoSyntax.yaml\", 'r') as stream:\n",
    "    morphosyntax=yaml.load(stream)\n",
    "with open(serie+\"Clozes.txt\", 'r') as stream:\n",
    "    clozeLines=stream.readlines()\n",
    "\n",
    "discrimineur=[]\n",
    "discriminant={}\n",
    "for line in clozeLines:\n",
    "    line=line.strip()\n",
    "    if not line.startswith(\"#\"):\n",
    "        elementsCloze=line.split(\";\")\n",
    "        discriminant[elementsCloze[0]]=\";\".join([element for element in elementsCloze[1:] if element!=elementsCloze[5]])"
   ]
  },
  {
   "cell_type": "code",
   "execution_count": 1796,
   "metadata": {
    "collapsed": false,
    "scrolled": true
   },
   "outputs": [],
   "source": [
    "#discriminant"
   ]
  },
  {
   "cell_type": "code",
   "execution_count": 1797,
   "metadata": {
    "collapsed": false
   },
   "outputs": [
    {
     "name": "stdout",
     "output_type": "stream",
     "text": [
      "29\n",
      "29\n",
      "29\n",
      "29\n",
      "29\n"
     ]
    }
   ],
   "source": [
    "defaultCols=2\n",
    "defaultLong=0\n",
    "maxChunk=48\n",
    "dimensionsTableaux={i:{} for i in gloses}\n",
    "for categorie in gloses:\n",
    "    if \"Dimensions\" in morphosyntax:\n",
    "        if \"maxChunk\" in morphosyntax[\"Dimensions\"]:\n",
    "            maxChunk=morphosyntax[\"Dimensions\"][\"maxChunk\"]\n",
    "        print maxChunk\n",
    "        if categorie in morphosyntax[\"Dimensions\"] and morphosyntax[\"Dimensions\"][categorie]:\n",
    "#            print categorie\n",
    "            if \"cols\" in morphosyntax[\"Dimensions\"][categorie]:\n",
    "                dimensionsTableaux[categorie][\"cols\"]=morphosyntax[\"Dimensions\"][categorie][\"cols\"]\n",
    "            else:\n",
    "                dimensionsTableaux[categorie][\"cols\"]=defaultCols\n",
    "            if \"long\" in morphosyntax[\"Dimensions\"][categorie]:\n",
    "                dimensionsTableaux[categorie][\"long\"]=morphosyntax[\"Dimensions\"][categorie][\"long\"]\n",
    "            else:\n",
    "                dimensionsTableaux[categorie][\"long\"]=defaultLong\n",
    "        else:\n",
    "            dimensionsTableaux[categorie][\"cols\"]=defaultCols\n",
    "            dimensionsTableaux[categorie][\"long\"]=defaultLong\n",
    "    else:\n",
    "        dimensionsTableaux[categorie][\"cols\"]=defaultCols\n",
    "        dimensionsTableaux[categorie][\"long\"]=defaultLong\n",
    "if print_radicaux:\n",
    "    nomTableaux=\"Tableaux-Radicaux.yaml\"\n",
    "else:\n",
    "    nomTableaux=\"Tableaux.yaml\"    \n",
    "with open(serie+nomTableaux, 'r') as stream:\n",
    "    tableaux=yaml.load(stream)\n",
    "with open(serie+\"Hierarchie-S2.pkl\", 'rb') as input:\n",
    "   PFM.hierarchieCF = pickle.load(input)\n",
    "with open(serie+\"Lexique-S2.pkl\", 'rb') as input:\n",
    "   PFM.lexique = pickle.load(input)\n",
    "with open(serie+\"Regles-S2.pkl\", 'rb') as input:\n",
    "   PFM.regles = pickle.load(input)"
   ]
  },
  {
   "cell_type": "code",
   "execution_count": 1798,
   "metadata": {
    "collapsed": false
   },
   "outputs": [
    {
     "data": {
      "text/plain": [
       "[[u'\\xe0', 'les'], ['de', 'le'], ['de', 'les'], [u'\\xe0', 'le'], ['de']]"
      ]
     },
     "execution_count": 1798,
     "metadata": {},
     "output_type": "execute_result"
    }
   ],
   "source": [
    "[morphosyntax[\"Contractions\"][x] for x in morphosyntax[\"Contractions\"]]"
   ]
  },
  {
   "cell_type": "markdown",
   "metadata": {},
   "source": [
    "#### Définition des entêtes"
   ]
  },
  {
   "cell_type": "code",
   "execution_count": 1799,
   "metadata": {
    "collapsed": false
   },
   "outputs": [],
   "source": [
    "#########################CONSTANTS##########################################\n",
    "head = [\n",
    "\"\\\\begin{tabular}[t]{|l|l|l|}\",\n",
    "\"\\\\addlinespace[-1.0em]\\\\hline\",\n",
    "\"Mot & Roman & Glose  \\\\\\\\\",\n",
    "\"\\\\hline\\\\strutgh{14pt}%\"\n",
    "]\n",
    "head_n = [\n",
    "\"\\\\begin{tabular}[t]{|l|c|c|c|}\",\n",
    "\"\\\\addlinespace[-1.0em]\\\\hline\",\n",
    "\"Nom & Genre & C\\\\indice{1}C\\\\indice{2}C\\\\indice{3} & V\\\\indice{L}  \\\\\\\\\",\n",
    "\"\\\\hline\\\\strutgh{14pt}%\"\n",
    "]\n",
    "head_v = [\n",
    "\"\\\\begin{tabular}[t]{|l|c|c|}\",\n",
    "\"\\\\addlinespace[-1.0em]\\\\hline\",\n",
    "\"Verbe & Type & C\\\\indice{1}C\\\\indice{2}C\\\\indice{3} \\\\\\\\\",\n",
    "\"\\\\hline\\\\strutgh{14pt}%\"\n",
    "]"
   ]
  },
  {
   "cell_type": "code",
   "execution_count": 1800,
   "metadata": {
    "collapsed": false
   },
   "outputs": [],
   "source": [
    "tail = [\n",
    "\"\\\\hline\"\n",
    "\"\\\\end{tabular}\\\\\\\\\"\n",
    "]"
   ]
  },
  {
   "cell_type": "markdown",
   "metadata": {},
   "source": [
    "#### Définition des structures pour impression"
   ]
  },
  {
   "cell_type": "code",
   "execution_count": 1801,
   "metadata": {
    "collapsed": false
   },
   "outputs": [],
   "source": [
    "def accumulerMots(mot):\n",
    "    accumulateur.append(mot)\n",
    "    return\n",
    "def ajouterExemple(exemple,printBool=False):\n",
    "    if printBool:\n",
    "        print exemple\n",
    "    exemples.append(exemple.strip())\n",
    "    del accumulateur[:]\n",
    "    return\n",
    "def ajouterVocabulaire(terme,printBool=False):\n",
    "    if printBool:\n",
    "        print terme\n",
    "    vocabulaire.append(terme.strip())\n",
    "    return"
   ]
  },
  {
   "cell_type": "markdown",
   "metadata": {},
   "source": [
    "#### Définition des segments"
   ]
  },
  {
   "cell_type": "code",
   "execution_count": 1802,
   "metadata": {
    "collapsed": false
   },
   "outputs": [],
   "source": [
    "consonnes=phonology[\"consonnes\"]\n",
    "voyelles=phonology[\"voyelles\"]\n",
    "gabarits=phonology[\"gabarits\"]\n",
    "derives=phonology[\"derives\"]\n",
    "nom_classe=phonology[\"nom_classe\"]\n",
    "nom_apo=phonology[\"apophonies\"]\n",
    "\n",
    "nom_mut=phonology[\"mutations\"]"
   ]
  },
  {
   "cell_type": "markdown",
   "metadata": {},
   "source": [
    "#### Définition des catégories"
   ]
  },
  {
   "cell_type": "code",
   "execution_count": 1803,
   "metadata": {
    "collapsed": false
   },
   "outputs": [],
   "source": [
    "sujetVerbe=[]\n",
    "if \"Cas\" in gloses[\"NOM\"]:\n",
    "    if \"Acc\" in gloses[\"NOM\"][\"Cas\"]:\n",
    "        sujetVerbe.append(\"Nom\")\n",
    "    if \"Erg\" in gloses[\"NOM\"][\"Cas\"]:\n",
    "        sujetVerbe.append(\"Abs\")"
   ]
  },
  {
   "cell_type": "code",
   "execution_count": 1804,
   "metadata": {
    "collapsed": false
   },
   "outputs": [],
   "source": [
    "#sujetVerbe"
   ]
  },
  {
   "cell_type": "code",
   "execution_count": 1805,
   "metadata": {
    "collapsed": true
   },
   "outputs": [],
   "source": [
    "attributsMots=set()\n",
    "valAttributs={}\n",
    "for categorie in gloses:\n",
    "    if gloses[categorie]:\n",
    "        for element in gloses[categorie]:\n",
    "            attributsMots.add(element)\n",
    "            if gloses[categorie][element]:\n",
    "                if not element in valAttributs:\n",
    "                    valAttributs[element]=[]\n",
    "                for attribut in gloses[categorie][element]:\n",
    "                    if not attribut in valAttributs[element]:\n",
    "                        valAttributs[element].append(attribut)"
   ]
  },
  {
   "cell_type": "code",
   "execution_count": 1806,
   "metadata": {
    "collapsed": false
   },
   "outputs": [
    {
     "data": {
      "text/plain": [
       "{'Genre', 'Nombre', 'Pers', 'Temps'}"
      ]
     },
     "execution_count": 1806,
     "metadata": {},
     "output_type": "execute_result"
    }
   ],
   "source": [
    "attributsMots"
   ]
  },
  {
   "cell_type": "code",
   "execution_count": 1807,
   "metadata": {
    "collapsed": false
   },
   "outputs": [
    {
     "data": {
      "text/plain": [
       "['VER', 'NOM', 'DET', 'ADJ']"
      ]
     },
     "execution_count": 1807,
     "metadata": {},
     "output_type": "execute_result"
    }
   ],
   "source": [
    "boolAttribut={}\n",
    "flexCategories=[element for element in gloses if gloses[element]]\n",
    "for element in flexCategories:\n",
    "    boolAttribut[element]={key:key in gloses[element] for key in attributsMots}\n",
    "flexCategories"
   ]
  },
  {
   "cell_type": "code",
   "execution_count": 1808,
   "metadata": {
    "collapsed": false
   },
   "outputs": [
    {
     "data": {
      "text/plain": [
       "{'ADJ': {'Genre': True, 'Nombre': True, 'Pers': False, 'Temps': False},\n",
       " 'DET': {'Genre': True, 'Nombre': True, 'Pers': False, 'Temps': False},\n",
       " 'NOM': {'Genre': True, 'Nombre': True, 'Pers': False, 'Temps': False},\n",
       " 'VER': {'Genre': False, 'Nombre': True, 'Pers': True, 'Temps': True}}"
      ]
     },
     "execution_count": 1808,
     "metadata": {},
     "output_type": "execute_result"
    }
   ],
   "source": [
    "boolAttribut"
   ]
  },
  {
   "cell_type": "markdown",
   "metadata": {},
   "source": [
    "attributsDetAdjNom=[\"Genre\",\"Nombre\",\"Cas\"]\n",
    "valAttribut={}\n",
    "for attribut in attributsDetAdjNom:\n",
    "    if attribut in gloses[\"N\"]:\n",
    "        valAttribut[attribut]=gloses[\"N\"][attribut]\n",
    "    elif attribut in gloses[\"ADJ\"]:\n",
    "        valAttribut[attribut]=gloses[\"ADJ\"][attribut]\n",
    "    elif attribut in gloses[\"DET\"]:\n",
    "        valAttribut[attribut]=gloses[\"DET\"][attribut]\n",
    "    else:\n",
    "        valAttribut[attribut]=[]\n",
    "boolAttribut={}\n",
    "for element in [\"DET\",\"ADJ\",\"N\"]:\n",
    "    boolAttribut[element]={key:key in gloses[element] for key in attributsDetAdjNom}"
   ]
  },
  {
   "cell_type": "code",
   "execution_count": 1809,
   "metadata": {
    "collapsed": false
   },
   "outputs": [],
   "source": [
    "#types=gloses[\"V\"][\"CF\"]\n",
    "if \"Cas\" in morphosyntax:\n",
    "    casSyntagmes=morphosyntax[\"Cas\"]\n",
    "else:\n",
    "    casSyntagmes=\"\"\n",
    "lexiquePrepositions=[stems[\"PREP\"][x][0] for x in stems[\"PREP\"]]\n",
    "casPreposition={}\n",
    "for preposition in lexiquePrepositions:\n",
    "    prep=preposition.upper()\n",
    "    if casSyntagmes and prep in casSyntagmes:\n",
    "        casPreposition[preposition]=casSyntagmes[prep].capitalize()\n",
    "    elif casSyntagmes and \"PREP\" in casSyntagmes:\n",
    "        casPreposition[preposition]=casSyntagmes[\"PREP\"].capitalize()\n",
    "    else:\n",
    "        casPreposition[preposition]=\"\"\n",
    "        \n",
    "i=2\n",
    "verbe_forme={}\n",
    "for forme in morphosyntax[\"VER\"][\"FormesBase\"]:\n",
    "    verbe_forme[i]=forme\n",
    "    i+=1"
   ]
  },
  {
   "cell_type": "code",
   "execution_count": 1810,
   "metadata": {
    "collapsed": false
   },
   "outputs": [],
   "source": [
    "#valAttribut"
   ]
  },
  {
   "cell_type": "markdown",
   "metadata": {},
   "source": [
    "#### Remplacement des numéros de personnes pour les noms de macro LaTeX"
   ]
  },
  {
   "cell_type": "code",
   "execution_count": 1811,
   "metadata": {
    "collapsed": true
   },
   "outputs": [],
   "source": [
    "def remplacerPersonnes(chaine):\n",
    "    chaine.replace(\"1\",\"Un\")\n",
    "    return chaine"
   ]
  },
  {
   "cell_type": "code",
   "execution_count": 1812,
   "metadata": {
    "collapsed": false
   },
   "outputs": [
    {
     "data": {
      "text/plain": [
       "'1'"
      ]
     },
     "execution_count": 1812,
     "metadata": {},
     "output_type": "execute_result"
    }
   ],
   "source": [
    "remplacerPersonnes(\"1\")"
   ]
  },
  {
   "cell_type": "code",
   "execution_count": 1813,
   "metadata": {
    "collapsed": false
   },
   "outputs": [],
   "source": [
    "def recoder(chaine,table):\n",
    "    if type(chaine)==str:\n",
    "        temp=unicode(chaine.decode('utf8')).translate(table)\n",
    "        result=temp.encode('utf8')\n",
    "    elif type(chaine)==unicode:\n",
    "        result=chaine.translate(table)\n",
    "    return result\n",
    "\n",
    "accentedIn = unicode(phonology[\"translations\"][\"deaccent\"][\"in\"])\n",
    "deaccentIn = [ord(char) for char in accentedIn]\n",
    "deaccentOut = unicode(phonology[\"translations\"][\"deaccent\"][\"out\"])\n",
    "deaccent = dict(zip(deaccentIn, deaccentOut))\n",
    "\n",
    "deligatures=phonology[\"translations\"][\"deligatures\"]"
   ]
  },
  {
   "cell_type": "code",
   "execution_count": 1814,
   "metadata": {
    "collapsed": false
   },
   "outputs": [],
   "source": [
    "syntagmes=morphosyntax[\"Syntagmes\"]"
   ]
  },
  {
   "cell_type": "code",
   "execution_count": 1815,
   "metadata": {
    "collapsed": false
   },
   "outputs": [],
   "source": [
    "contractions=morphosyntax[\"Contractions\"]\n",
    "for contraction in contractions:\n",
    "    temp=[]\n",
    "    for element in contractions[contraction]:\n",
    "        if isinstance(element,unicode):\n",
    "            temp.append(element)\n",
    "        else:\n",
    "            temp.append(element.decode(\"utf8\"))\n",
    "    contractions[contraction]=temp"
   ]
  },
  {
   "cell_type": "code",
   "execution_count": 1816,
   "metadata": {
    "collapsed": false
   },
   "outputs": [],
   "source": [
    "syllabes=phonology[\"syllabes\"]"
   ]
  },
  {
   "cell_type": "code",
   "execution_count": 1817,
   "metadata": {
    "collapsed": false
   },
   "outputs": [
    {
     "data": {
      "text/plain": [
       "['PRS', 'PST', '3Sg', '3Du', '3Pl', 'Sg', 'Du', 'Pl']"
      ]
     },
     "execution_count": 1817,
     "metadata": {},
     "output_type": "execute_result"
    }
   ],
   "source": [
    "attributsFlexVerbe=[glosesVerbe for attributFlex in gloses[\"VER\"] for glosesVerbe in gloses[\"VER\"][attributFlex]]\n",
    "attributsFlexVerbe"
   ]
  },
  {
   "cell_type": "code",
   "execution_count": 1818,
   "metadata": {
    "collapsed": false
   },
   "outputs": [],
   "source": [
    "def taches():\n",
    "    '''\n",
    "    seuil1 pour avoir une tâche\n",
    "    seuil2 pour avoir plusieurs tâches\n",
    "    '''\n",
    "    seuil1=8\n",
    "    seuil2=14\n",
    "    def makeStain():\n",
    "        seed=random.randint(1,1000)\n",
    "        x=random.gauss(10,5)-1\n",
    "        y=random.gauss(2,1)\n",
    "        minimum=random.gauss(.2,.1)+.1\n",
    "        maximum=random.gauss(.1,.05)+.5\n",
    "        return \"\\\\taches{%s}{%s}{%s}{%s}{%s}\"%(seed,x,y,minimum,maximum)\n",
    "\n",
    "    if print_taches:\n",
    "        n=random.gauss(10,2.5)\n",
    "        if n<seuil1:\n",
    "            return \"\"\n",
    "        elif n<=seuil2:\n",
    "            return makeStain()\n",
    "        else:\n",
    "            nTaches=int(n-seuil1)\n",
    "            stains=\"\"\n",
    "            for i in range(nTaches):\n",
    "                stains+=makeStain()\n",
    "            return stains\n",
    "    else:\n",
    "        return \"\""
   ]
  },
  {
   "cell_type": "code",
   "execution_count": 1819,
   "metadata": {
    "collapsed": false
   },
   "outputs": [],
   "source": [
    "def faire_tableau(tableau,tab=(head,tail,\"\")):\n",
    "    if len(tableau)==0: return\n",
    "    comment=tab[2]\n",
    "    for element in tab[0]:\n",
    "        ajouterVocabulaire(comment+element)\n",
    "    for element in tableau:\n",
    "        ajouterVocabulaire(comment+element)\n",
    "    for element in tab[1]:\n",
    "        ajouterVocabulaire(comment+element)"
   ]
  },
  {
   "cell_type": "code",
   "execution_count": 1820,
   "metadata": {
    "collapsed": false
   },
   "outputs": [],
   "source": [
    "def print_tableaux(cols,recuTableau,texte=\"\",debut=0,tab=(head,tail,\"\"),boolEchantillon=True):\n",
    "    tableau=sorted(list(set(recuTableau)))\n",
    "    if debug: print \"recuTableau\",(recuTableau)\n",
    "#    print (tableau)\n",
    "    ajouterVocabulaire(tab[2]+\"\\\\begin{multicols}{\"+str(cols)+\"}\")\n",
    "#    if texte!=\"\":\n",
    "    (table,reste)=filtrer_tableau(tableau,texte)\n",
    "#    print reste\n",
    "#    else:\n",
    "#        (table,reste)=tableau\n",
    "#        reste=[]\n",
    "    chunk=(len(table)-debut*cols)/cols+1\n",
    "    faire_tableaux(table,debut,cols,tab)\n",
    "    ajouterVocabulaire(tab[2]+\"\\\\end{multicols}\")\n",
    "    echantillon=min(len(reste),3)\n",
    "    if echantillon>0 and boolEchantillon:\n",
    "        for element in random.sample(reste,echantillon):\n",
    "#            print element\n",
    "            colonnes=element.split(\"&\")\n",
    "            graphie=colonnes[0].strip()\n",
    "            phonologie=colonnes[1].strip()\n",
    "            glose=colonnes[2].strip().strip(\"\\\\\")\n",
    "            prononciationExtrait.append(graphie+\"&\")\n",
    "            prononciationExtrait.append(\"\\\\blanc{%s}\"%phonologie+\"&\")\n",
    "            prononciationExtrait.append(\"\\\\blanc{%s}\\\\\\\\\"%glose)\n",
    "            if debug: print \"\".join(prononciationExtrait)"
   ]
  },
  {
   "cell_type": "code",
   "execution_count": 1821,
   "metadata": {
    "collapsed": false
   },
   "outputs": [],
   "source": [
    "def faire_tableaux(tableau,debut=16,nombre=1,tab=(head,tail,\"\")):\n",
    "    reste=[]\n",
    "    if debug: print nombre,debut,tableau\n",
    "    if debut!=0:\n",
    "        for i in range(nombre):\n",
    "            faire_tableau(tableau[debut*i:debut*(i+1)],tab)\n",
    "        table=tableau[debut*nombre:]\n",
    "    else:\n",
    "        table=tableau\n",
    "    longueur=len(table)\n",
    "    chunk=longueur/nombre+1\n",
    "    if debug: print \"CHUNKING : \",longueur, nombre, chunk, table\n",
    "    if chunk<maxChunk:\n",
    "        chunks=chunk\n",
    "    else:\n",
    "        chunks=maxChunk\n",
    "        reste=table[maxChunk*nombre:]\n",
    "    if debug: print \"RESTE : \", chunk, reste\n",
    "    for i in range(nombre):\n",
    "        faire_tableau(table[chunks*i:chunks*(i+1)],tab)\n",
    "    if reste:\n",
    "        faire_tableaux(reste,0,nombre,tab)"
   ]
  },
  {
   "cell_type": "code",
   "execution_count": 1822,
   "metadata": {
    "collapsed": false
   },
   "outputs": [],
   "source": [
    "def filtrer_tableau(tableau,filtre):\n",
    "    presents=[]\n",
    "    absents=[]\n",
    "    for line in tableau:\n",
    "        elements=line.split(\" \")\n",
    "        cleElement=elements[0].replace(\"\\\\\",\"\")\n",
    "        if elements[0] in filtre:\n",
    "            if not discriminant[cleElement] in discrimineur:\n",
    "                discrimineur.append(discriminant[cleElement])\n",
    "    #                print \"présent\",elements[0]\n",
    "            presents.append(line)\n",
    "        else:\n",
    "#                print \"absent\",elements[0]\n",
    "            absents.append(line)\n",
    "    return (presents,absents)"
   ]
  },
  {
   "cell_type": "code",
   "execution_count": 1823,
   "metadata": {
    "collapsed": false
   },
   "outputs": [],
   "source": [
    "def faire_gn(depart,cas):\n",
    "    global erg_genre, erg_nombre, abs_genre, abs_nombre\n",
    "    if debug: print \"groupe depart :\", depart\n",
    "    groupe_nom=[]\n",
    "    groupe_nom.append(depart[0])\n",
    "    if debug: print depart[0]\n",
    "    for mot in depart[1:]:\n",
    "        if debug: print mot\n",
    "        if not \"#\" in mot:\n",
    "            groupe_nom.extend(etendre_contraction([mot]))\n",
    "    if debug: print \"groupe nom :\", groupe_nom\n",
    "    mots=[]\n",
    "    det=[]\n",
    "    adj=[]\n",
    "    nom=[]\n",
    "    gp=[]\n",
    "    structureSyntagme={key:[] for key in syntagmes['GN']}\n",
    "    tete=\"\"\n",
    "    nombre=\"\"\n",
    "    classe=\"\"\n",
    "    classesNom=[]\n",
    "    reste=0\n",
    "    groupe_nom=[element for element in groupe_nom if element!=\"\"]\n",
    "    for mot in groupe_nom:\n",
    "        if reste==0:\n",
    "#            if mot==\"deux\" and \"Du\" in nombresNom:\n",
    "            if mot==\"deux\" and \"Du\" in valAttributs[\"Nombre\"]:\n",
    "                nombre=\"DU\"\n",
    "                if det==[]: det.append(PFM.lexique.formeLexeme[\"des\"][0])\n",
    "            else:\n",
    "                nomLexeme=PFM.lexique.formeLexeme[mot][0]\n",
    "                categorie=PFM.lexique.lexemes[nomLexeme].classe.split(\".\")[-1]\n",
    "                if debug or 0: \n",
    "                    print \"mot\",[mot]\n",
    "                    print \"vedette\",PFM.lexique.formeLexeme[mot][0],categorie\n",
    "                    print \"categories\",PFM.hierarchieCF.classes[\"NOM\"],PFM.hierarchieCF.getCategory(categorie)\n",
    "                if PFM.hierarchieCF.getCategory(categorie)==\"NOM\":\n",
    "                    tete=categorie\n",
    "                    if debug or 0: print \"tête :\", tete\n",
    "                    tampon=tete.split('.')\n",
    "#                    classe=tampon[0]\n",
    "                    classesNom=PFM.lexique.formeLexeme[mot][0].split('.')[1:]\n",
    "                    if debug or 0: print \"classesNom\",classesNom \n",
    "                    classe=[classeElement for classeElement in classesNom if classeElement in gloses[\"NOM\"][\"Genre\"]][0]\n",
    "                    if debug or 0: print \"classes\",mot,classe,classesNom\n",
    "                    try:\n",
    "                        typeMot=tampon[1]\n",
    "                    except IndexError:\n",
    "                        typeMot=''\n",
    "                    if mot[len(mot)-1]=='s':\n",
    "                        if nombre==\"\": nombre=\"PL\"\n",
    "                    else:\n",
    "                        if nombre==\"\": nombre=\"SG\"\n",
    "                    nom.append(PFM.lexique.formeLexeme[mot][0])\n",
    "#                    if typeCas==\"NoCas\":\n",
    "#                        cas=\"\"\n",
    "                    if not \"Cas\" in boolAttribut[\"NOM\"] or not boolAttribut[\"NOM\"][\"Cas\"]:\n",
    "                        cas=\"\"\n",
    "#                    else:\n",
    "                    cellule=classe.capitalize()+nombre.capitalize()+cas.capitalize()\n",
    "                    if cas==\"ERG\":\n",
    "                        erg_genre=classe\n",
    "                        erg_nombre=nombre\n",
    "                        if debug: print \"ERG\",erg_genre, erg_nombre\n",
    "                    elif cas==\"ABS\":\n",
    "                        abs_genre=classe\n",
    "                        abs_nombre=nombre\n",
    "                        if debug: print \"ABS\",abs_genre, abs_nombre\n",
    "                elif categorie in [\"DET\"]:\n",
    "                    det.append(PFM.lexique.formeLexeme[mot][0])\n",
    "                elif categorie in [\"ADJ\"] or (\"ADJ\" in PFM.hierarchieCF.classes and categorie in PFM.hierarchieCF.classes[\"ADJ\"]):\n",
    "                    adj.append(PFM.lexique.formeLexeme[mot][0])\n",
    "                elif categorie==\"PREP\":\t\t\t#Si on trouve une PREP, elle et le reste forment un GP\n",
    "                    gp.append(mot)\n",
    "                    reste=1\n",
    "        else:\t\t\t\t\t\t\t#On a trouvé une PREP, toute la suite va dans GP\n",
    "            gp.append(mot)\n",
    "    if debug: print \"accord :\", tete\n",
    "    if reste==1: gp=faire_gp(gp)\n",
    "    if debug: print \"GP dans le GN : \", gp\n",
    "    if debug: print \"GN sans det ? \", det\n",
    "    if not det: det.append(\"DEF\")\n",
    "    tempSyntagme=[]\n",
    "    for mot in det:\n",
    "        (casDet,nombreDet)=(cas,nombre)\n",
    "        if not \"Cas\" in boolAttribut[\"DET\"] or not boolAttribut[\"DET\"][\"Cas\"]:\n",
    "            casDet=\"\"\n",
    "        if not \"Nombre\" in boolAttribut[\"DET\"] or not boolAttribut[\"DET\"][\"Nombre\"]:\n",
    "            nombreDet=\"\"\n",
    "        if not \"Genre\" in boolAttribut[\"DET\"] or not boolAttribut[\"DET\"][\"Genre\"]:\n",
    "            classeDet=\"\"\n",
    "        else:\n",
    "            classeDet=[classeElement for classeElement in classesNom if classeElement in gloses[\"DET\"][\"Genre\"]][0]\n",
    "#\t\tglose=faire_glose(mot,classe,type,nombre)\n",
    "\n",
    "        noligMot=mot.split(\".\")[0]\n",
    "        for ligature in deligatures:\n",
    "            noligMot=noligMot.replace(ligature,deligatures[ligature])\n",
    "        ref=\"\\\\\"+recoder(noligMot,deaccent).upper()\n",
    "        for attributDet in morphosyntax[\"Attributs\"][\"DET\"]:\n",
    "            if attributDet==\"Cas\":\n",
    "                ref+=casDet.capitalize()\n",
    "            elif attributDet==\"Nombre\":\n",
    "                ref+=nombreDet.capitalize()\n",
    "            elif attributDet==\"Genre\":\n",
    "                ref+=classeDet.capitalize()\n",
    "        tempSyntagme.append(ref)\n",
    "        texte.append(ref)\n",
    "    structureSyntagme[\"DET\"]=tempSyntagme\n",
    "    mots.insert(syntagmes['GN'].index(\"DET\"),separateurMots.join(structureSyntagme[\"DET\"]))\n",
    "    tempSyntagme=[]\n",
    "    for mot in gp: \n",
    "#        mots.append(mot)\n",
    "        tempSyntagme.append(mot)\n",
    "    structureSyntagme[\"GP\"]=tempSyntagme\n",
    "    mots.insert(syntagmes['GN'].index(\"GP\"),structureSyntagme[\"GP\"])\n",
    "    tempSyntagme=[]\n",
    "    for mot in adj:\n",
    "#\t\tglose=faire_glose(mot,classe,type,nombre)\n",
    "        (casAdj,nombreAdj)=(cas,nombre)\n",
    "        if not \"Cas\" in boolAttribut[\"ADJ\"] or not boolAttribut[\"ADJ\"][\"Cas\"]:\n",
    "            casAdj=\"\"\n",
    "        if not \"Nombre\" in boolAttribut[\"ADJ\"] or not boolAttribut[\"ADJ\"][\"Nombre\"]:\n",
    "            nombreAdj=\"\"\n",
    "        if not \"Genre\" in boolAttribut[\"ADJ\"] or not boolAttribut[\"ADJ\"][\"Genre\"]:\n",
    "            classeAdj=\"\"\n",
    "        else:\n",
    "            classeAdj=[classeElement for classeElement in classesNom if classeElement in gloses[\"ADJ\"][\"Genre\"]][0]\n",
    "\n",
    "        noligMot=mot.split(\".\")[0]\n",
    "        for ligature in deligatures:\n",
    "            noligMot=noligMot.replace(ligature,deligatures[ligature])\n",
    "            \n",
    "        ref=\"\\\\\"+recoder(noligMot,deaccent).lower()+classeAdj.capitalize()+nombreAdj.capitalize()+casAdj.capitalize()\n",
    "#        mots.append(ref)\n",
    "        texte.append(ref)\n",
    "        tempSyntagme.append(ref)\n",
    "    structureSyntagme[\"GADJ\"]=tempSyntagme\n",
    "    mots.insert(syntagmes['GN'].index(\"GADJ\"),structureSyntagme[\"GADJ\"])\n",
    "    tempSyntagme=[]\n",
    "#    print \"classe,nombre,cas\", classe, nombre, cas\n",
    "    for mot in nom:\n",
    "#\t\tglose=faire_glose(mot,classe,type,nombre)\n",
    "\n",
    "        noligMot=mot.split(\".\")[0]\n",
    "        for ligature in deligatures:\n",
    "            noligMot=noligMot.replace(ligature,deligatures[ligature])\n",
    "            \n",
    "        if mot.istitle():\n",
    "            ref=\"\\\\\"+recoder(noligMot,deaccent)+cellule\n",
    "        else:\n",
    "            ref=\"\\\\\"+recoder(noligMot,deaccent).lower()+cellule\n",
    "#        mots.append(ref)\n",
    "        texte.append(ref)\n",
    "        tempSyntagme.append(ref)\n",
    "    structureSyntagme[\"NOM\"]=tempSyntagme\n",
    "    mots.insert(syntagmes['GN'].index(\"NOM\"),structureSyntagme[\"NOM\"])\n",
    "    listeMots=[]\n",
    "    for element in syntagmes['GN']:\n",
    "        listeMots+=structureSyntagme[element]\n",
    "    return (listeMots,(classesNom,nombre,cas))"
   ]
  },
  {
   "cell_type": "code",
   "execution_count": 1824,
   "metadata": {
    "collapsed": false
   },
   "outputs": [],
   "source": [
    "def faire_gp(groupe_prep,fonction=\"\"):\n",
    "    mots=[]\n",
    "    groupe_prep=etendre_contraction(groupe_prep)\n",
    "    if debug: print \"faire_gp\", groupe_prep\n",
    "    formePreposition=groupe_prep[0]\n",
    "    if debug: print [formePreposition], formePreposition\n",
    "    preposition=PFM.lexique.formeLexeme[formePreposition][0]\n",
    "#    if preposition!=\"à\" or typeCas==\"NoCas\":\n",
    "    if not \"Cas\" in boolAttribut[\"NOM\"] or not boolAttribut[\"NOM\"][\"Cas\"] or fonction!=\"IND\":\n",
    "        if debug: print u\"fonction!=IND\",[groupe_prep[0],u\"à\"]\n",
    "\n",
    "        noligMot=groupe_prep[0]\n",
    "        for ligature in deligatures:\n",
    "            noligMot=noligMot.replace(ligature,deligatures[ligature])\n",
    "\n",
    "        ref=\"\\\\\"+recoder(noligMot,deaccent).upper()\n",
    "        if debug: print ref\n",
    "        if casSyntagmes and preposition in casPreposition:\n",
    "            if debug: \n",
    "                print casPreposition, casPreposition[preposition]\n",
    "            cas=casPreposition[preposition]            \n",
    "            if \"+\" in casPreposition[preposition]:\n",
    "                cas=cas.strip(\"+\")\n",
    "                mots.append(ref)\n",
    "                texte.append(ref)\n",
    "        else:\n",
    "            if debug: print \"pas de Cas\"\n",
    "            cas=\"\"\n",
    "            mots.append(ref)\n",
    "            texte.append(ref)\n",
    "        if debug:\n",
    "            print \"groupe prep :\", groupe_prep\n",
    "            print ref\n",
    "        if len(groupe_prep)>1:\n",
    "            groupe_nom=groupe_prep[1:]\n",
    "            if debug: print groupe_nom[0]\n",
    "            #\n",
    "            # Choisir le cas en fonction de la préposition\n",
    "            #\n",
    "            (localMots,(localClasses,localNombre,localCas))=faire_gn(groupe_nom,cas)\n",
    "            mots.insert(syntagmes['GP'].index(\"GN\"),localMots)\n",
    "        if debug: \n",
    "            print groupe_prep, cas, mots\n",
    "        return mots\n",
    "    elif fonction==\"IND\":\n",
    "        groupe_nom=groupe_prep[1:]\n",
    "        cas=casSyntagmes[\"IND\"]\n",
    "        if \"+\" in casSyntagmes[\"IND\"]:\n",
    "            \n",
    "            noligMot=groupe_prep[0]\n",
    "            for ligature in deligatures:\n",
    "                noligMot=noligMot.replace(ligature,deligatures[ligature])\n",
    "            \n",
    "            ref=\"\\\\\"+recoder(noligMot,deaccent).upper()\n",
    "            cas=cas.strip(\"+\")\n",
    "            mots.append(ref)\n",
    "            texte.append(ref)\n",
    "        if debug: print \"faire_gn\", groupe_nom, faire_gn(groupe_nom,cas)\n",
    "        (localMots,(localClasses,localNombre,localCas))=faire_gn(groupe_nom,cas)\n",
    "        mots.append(localMots)\n",
    "        return mots"
   ]
  },
  {
   "cell_type": "code",
   "execution_count": 1825,
   "metadata": {
    "collapsed": false
   },
   "outputs": [],
   "source": [
    "def etendre_contraction(liste):\n",
    "    result=[]\n",
    "    if liste[0] in contractions.keys():\n",
    "        if debug: print \"EXT : \", liste, contractions[liste[0]],liste[1:] \n",
    "        result.extend(contractions[liste[0]])\n",
    "        result.extend(liste[1:])\n",
    "    else:\n",
    "        result=liste\n",
    "    return result"
   ]
  },
  {
   "cell_type": "code",
   "execution_count": 1826,
   "metadata": {
    "collapsed": false
   },
   "outputs": [],
   "source": [
    "def printflat(liste,suffixe=\"\",prefixe=\"\"):\n",
    "    if debug: print \"printflat\", liste\n",
    "    if not isinstance(liste, basestring):\n",
    "        for element in liste:\n",
    "            accumulerMots(prefixe)\n",
    "            printflat(element,suffixe)\n",
    "    else:\n",
    "#        if \"{preview}\" in liste:\n",
    "#            print \"preview\",prefixe,liste,suffixe\n",
    "        accumulerMots(prefixe)\n",
    "        accumulerMots(liste+suffixe)"
   ]
  },
  {
   "cell_type": "code",
   "execution_count": 1827,
   "metadata": {
    "collapsed": false
   },
   "outputs": [],
   "source": [
    "#######################\n",
    "#\n",
    "#\tINITIALISATION DES VARIABLES\n",
    "#\n",
    "#######################\n",
    "\n",
    "try:\n",
    "    __IPYTHON__ \n",
    "    ipython=True\n",
    "except: \n",
    "    ipython=False"
   ]
  },
  {
   "cell_type": "code",
   "execution_count": 1828,
   "metadata": {
    "collapsed": false
   },
   "outputs": [
    {
     "name": "stdout",
     "output_type": "stream",
     "text": [
      "%% version : __file__\n",
      "%% traitement : 160910-1007\n"
     ]
    }
   ],
   "source": [
    "################\n",
    "#\n",
    "# LECTURE DU FICHIER DE LEXEMES\n",
    "#\n",
    "#\t\tLES LIGNES QUI COMMENCENT PAR # SONT IGNOREES\n",
    "#\n",
    "################\n",
    "print \"%% version : \"+version\n",
    "print \"%% traitement : \"+time_stamp\n",
    "\n",
    "if ipython or True:\n",
    "#    lexeme_nom=serie+\"Lexemes.txt\"\n",
    "#    phrase_nom=serie+\"Phrases.txt\"\n",
    "    phrase_nom=serie+complementPhrases+\"Phrases.csv\"\n",
    "    traduction_nom=serie+complementPhrases+\"Traductions.csv\"\n",
    "    ecriture_nom=serie+complementPhrases+\"Ecriture.csv\"\n",
    "    ordre_nom=serie+complementPhrases+\"Ordre.csv\"\n",
    "    mots_nom=serie+complementPhrases+\"Mots.csv\"\n",
    "    cloze_nom=serie+complementPhrases+\"Clozes.txt\"\n",
    "else:\n",
    "    parser=optparse.OptionParser()\n",
    "    parser.add_option(\"-o\", \"--out\", dest=\"outfile\", action=\"store_true\", help=\"write to FILE\")\n",
    "    parser.add_option(\"-c\", \"--cloze\", dest=\"print_cloze\", action=\"store_true\", help=\"write a CLOZE FILE\")\n",
    "    parser.add_option(\"-l\", \"--lexicon\", dest=\"print_lexique\", action=\"store_true\", help=\"append a lexicon\")\n",
    "    parser.add_option(\"-r\", \"--roots\", dest=\"print_racines\", action=\"store_true\", help=\"append a root list\")\n",
    "\n",
    "    (options, args) = parser.parse_args()\n",
    "    lexeme_nom=args[0]\n",
    "    phrase_nom=args[1]\n",
    "    if len(args)>=3:\n",
    "        traduction_nom=args[2]\n",
    "    else:\n",
    "        traduction_nom=\"\"\n",
    "    if len(args)>=4:\n",
    "        ecriture_nom=args[3]\n",
    "    else:\n",
    "        ecriture_nom=\"\"\n",
    "    if len(args)>=5:\n",
    "        ordre_nom=args[4]\n",
    "    else:\n",
    "        ordre_nom=\"\"\n",
    "    if len(args)>=6:\n",
    "        mots_nom=args[5]\n",
    "    else:\n",
    "        mots_nom=\"\"\n"
   ]
  },
  {
   "cell_type": "markdown",
   "metadata": {},
   "source": [
    "#### Ouverture du fichier lexique"
   ]
  },
  {
   "cell_type": "code",
   "execution_count": 1829,
   "metadata": {
    "collapsed": true
   },
   "outputs": [],
   "source": [
    "def flatten(lis):\n",
    "     for item in lis:\n",
    "         if not isinstance(item, basestring):\n",
    "             for x in flatten(item):\n",
    "                 yield x\n",
    "         else:        \n",
    "             yield item"
   ]
  },
  {
   "cell_type": "code",
   "execution_count": 1830,
   "metadata": {
    "collapsed": true
   },
   "outputs": [],
   "source": [
    "def previewer(chaine,numLignesVides=0):\n",
    "    flatChaine=list(flatten(chaine))\n",
    "#    print list(flatten(chaine))\n",
    "    return [\"\\\\begin{preview}\"+separateurMots.join(flatChaine)+\"\\\\\\\\\"*numLignesVides+\"\\\\end{preview}\"]"
   ]
  },
  {
   "cell_type": "code",
   "execution_count": 1831,
   "metadata": {
    "collapsed": false
   },
   "outputs": [],
   "source": [
    "def recoder(chaine,table):\n",
    "    if type(chaine)==str:\n",
    "        temp=unicode(chaine.decode('utf8')).translate(table)\n",
    "        result=temp.encode('utf8')\n",
    "    elif type(chaine)==unicode:\n",
    "        result=chaine.translate(table)\n",
    "    return result"
   ]
  },
  {
   "cell_type": "code",
   "execution_count": 1832,
   "metadata": {
    "collapsed": false
   },
   "outputs": [],
   "source": [
    "accentedIn = unicode(phonology[\"translations\"][\"deaccent\"][\"in\"])\n",
    "deaccentIn = [ord(char) for char in accentedIn]\n",
    "deaccentOut = unicode(phonology[\"translations\"][\"deaccent\"][\"out\"])\n",
    "deaccent = dict(zip(deaccentIn, deaccentOut))"
   ]
  },
  {
   "cell_type": "code",
   "execution_count": 1833,
   "metadata": {
    "collapsed": false
   },
   "outputs": [],
   "source": [
    "tipaIn = unicode(phonology[\"translations\"][\"ipa\"][\"in\"])\n",
    "ipaIn = [ord(char) for char in tipaIn]\n",
    "ipaOut = unicode(phonology[\"translations\"][\"ipa\"][\"out\"])\n",
    "toipa = dict(zip(ipaIn, ipaOut))"
   ]
  },
  {
   "cell_type": "code",
   "execution_count": 1834,
   "metadata": {
    "collapsed": false
   },
   "outputs": [],
   "source": [
    "#################################################\n",
    "#################################################\n",
    "#################################################\n",
    "##\n",
    "##\n",
    "##\tFAIRE LE TRI DES FORMES UTILISEES DANS LES PHRASES\n",
    "##\tAFFICHER DANS LES TABLEAUX SEULEMENT CES FORMES\n",
    "##\n",
    "##\n",
    "#################################################\n",
    "################################################\n",
    "#\n",
    "#\n",
    "#\tFAIRE LA LISTE DES PHRASES AVEC LES 4 LIGNES\n",
    "#\t\tGRAPHO, PHONO, GLOSE, TRAD\n",
    "#\n",
    "#\n",
    "################################################\n",
    "texte=[]\n",
    "#graphies={}\n",
    "#abs_genre=\"\"\n",
    "#abs_nombre=\"\"\n",
    "#PFM.lexique.formeLexeme"
   ]
  },
  {
   "cell_type": "code",
   "execution_count": 1835,
   "metadata": {
    "collapsed": false
   },
   "outputs": [],
   "source": [
    "def faire_phrases(phrase_file,sortie=\"latex\"):\n",
    "    phrasesLocales=phrase_file.readlines()\n",
    "    numLignes=len(phrasesLocales)\n",
    "    if sortie==\"latex\":\n",
    "        finLigne=\"\\\\\\\\\"\n",
    "    elif sortie==\"images\":\n",
    "        numImages=1\n",
    "        numLignesVides=0\n",
    "        debutLignePreview=\"\\\\begin{preview}\"\n",
    "        finLigneNoPreview=\"\\\\\\\\\"*numLignesVides\n",
    "        finLignePreview=\"\\\\\\\\\"*numLignesVides+\"\\\\end{preview}\"\n",
    "        numLignes=(len(phrasesLocales)//numImages)*numImages\n",
    "    else:\n",
    "        finLigne=\"\\n\"\n",
    "        numLignesVides=0\n",
    "        debutLignePreview=\"\\\\begin{preview}\"\n",
    "        finLigneNoPreview=\"\\\\\\\\\"*numLignesVides\n",
    "        finLignePreview=\"\\\\\\\\\"*numLignesVides+\"\\\\end{preview}\"\n",
    "    if print_phrases:\n",
    "        comment=\"\"\n",
    "    else:\n",
    "        comment=\"%\"\n",
    "    if sortie==\"latex\": ajouterExemple(\"\\\\begin{phrases}\")\n",
    "    for nPhrase,line in enumerate(phrasesLocales[:numLignes]):\n",
    "        #phrase contient une position par fonction\n",
    "        #pour accueillir les équivalents kalabas des chunks français\n",
    "        phrase=[0 for i in range(len(syntagmes['Phrase']))]\n",
    "        tampon=(line.strip().rstrip('.')).replace(\"'\",\" \").split(\"\\t\")\n",
    "    #    print tampon[0],type(tampon[0])\n",
    "        if debug: print line\n",
    "        if not tampon[0].startswith(\"#\"):\n",
    "            verbe=tampon[1].split(\" \")\n",
    "            verbeForme=verbe[0]\n",
    "            if len(PFM.lexique.formeLexeme[verbeForme])!=1:\n",
    "                print \"FORME AMBIGUË\", PFM.lexique.formeLexeme[verbeForme]\n",
    "            verbeLexeme=PFM.lexique.formeLexeme[verbeForme][0]\n",
    "            temp=verbeLexeme.split(\".\")\n",
    "            if debug or 0: print temp\n",
    "            formeCitation=temp[0]\n",
    "            for element in temp[1:]:\n",
    "                if element in attributsFlexVerbe:\n",
    "                    formeCitation+=element.capitalize()\n",
    "            typeVerbe=temp[1]\n",
    "            classeVerbe=\"\"\n",
    "            nombreVerbe=\"\"\n",
    "            nombrePersonne=\"\"\n",
    "    #        print verbeLexeme, formeCitation,typeVerbe\n",
    "            verbeLemme=\"%s%s\"%(formeCitation,typeVerbe.capitalize())\n",
    "            verbeFormeIndex=PFM.lexique.lexemes[verbeLexeme].formes.index(verbeForme)\n",
    "            if debug: print \"verbe :\", verbe\n",
    "    #        if verbeLexeme.endswith(\"VI\"):\n",
    "            if casSyntagmes and \"SUJ\" in casSyntagmes and \"Erg\" in casSyntagmes[\"SUJ\"]:\n",
    "                if \".VI\" in verbeLexeme:            \n",
    "    #                suj_cas=\"Abs\"\n",
    "                    frSujetCas=\"Abs\"\n",
    "                    klbSujet=\"SUJ\"\n",
    "                else:\n",
    "    #                suj_cas=\"Erg\"\n",
    "    #                obj_cas=\"Abs\"\n",
    "                    frSujetCas=\"Erg\"\n",
    "                    frObjetCas=\"Abs\"\n",
    "                    klbSujet=\"OBJ\"\n",
    "            elif casSyntagmes and \"SUJ\" in casSyntagmes and \"Nom\" in casSyntagmes[\"SUJ\"]:\n",
    "                frSujetCas=casSyntagmes[\"SUJ\"]\n",
    "                frObjetCas=casSyntagmes[\"OBJ\"]\n",
    "                klbSujet=\"SUJ\"\n",
    "            else:\n",
    "                frSujetCas=\"\"\n",
    "                frObjetCas=\"\"\n",
    "                klbSujet=\"SUJ\"\n",
    "            suj_genre=valAttributs[\"Genre\"][0]\n",
    "            suj_nombre=valAttributs[\"Nombre\"][0]\n",
    "            obj_genre=valAttributs[\"Genre\"][0]\n",
    "            obj_nombre=valAttributs[\"Nombre\"][0]\n",
    "            abs_genre=valAttributs[\"Genre\"][0]\n",
    "            abs_nombre=valAttributs[\"Nombre\"][0]\n",
    "            sujet=tampon[0].strip().split(\" \")\n",
    "            (localMots,(localClasses,localNombre,localCas))=faire_gn(sujet,frSujetCas)\n",
    "            if (debug or 0) and nPhrase==0: print (localMots,(localClasses,localNombre,localCas))\n",
    "            if sortie==\"ordre\":\n",
    "                phrase[syntagmes['Phrase'].index('SUJ')]=previewer(localMots)\n",
    "            else:\n",
    "                phrase[syntagmes['Phrase'].index('SUJ')]=localMots\n",
    "            if debug: print localCas\n",
    "            if not localCas or localCas in sujetVerbe:\n",
    "                if localClasses and \"Genre\" in gloses[\"VER\"]:\n",
    "                    localClasse=[classeElement for classeElement in localClasses if classeElement in gloses[\"VER\"][\"Genre\"]][0]\n",
    "                else:\n",
    "                    localClasse=\"\"\n",
    "                classeVerbe=localClasse\n",
    "                nombreVerbe=localNombre\n",
    "                nombrePersonne=localNombre\n",
    "                casVerbe=localCas\n",
    "                if (debug or 0) and nPhrase==0: print \"frSuj\",nombrePersonne\n",
    "            if debug: print \"sujet :\",phrase[1]\n",
    "            if len(tampon)>=3:\n",
    "                if tampon[2] and tampon[2].startswith(\",\"):\n",
    "                    tampon[2]=tampon[2][1:]\n",
    "                objet=tampon[2].split(\" \")\n",
    "                if debug: print \"objet : \",objet\n",
    "                if objet!=['']: \n",
    "                    (localMots,(localClasses,localNombre,localCas))=faire_gn(objet,frObjetCas)\n",
    "                    if (debug or 0) and nPhrase==0: print (\"frObj\",(localClasses,localNombre,localCas),line)\n",
    "                    if sortie==\"ordre\":\n",
    "                        phrase[syntagmes['Phrase'].index('OBJ')]=previewer(localMots)\n",
    "                    else:\n",
    "                        phrase[syntagmes['Phrase'].index('OBJ')]=localMots\n",
    "                    if debug or 0: print (\"obj :\",localCas, sujetVerbe)\n",
    "                    if localCas in sujetVerbe:\n",
    "                        if localClasses:\n",
    "                            localClasse=[classeElement for classeElement in localClasses if classeElement in gloses[\"VER\"][\"Genre\"]][0]\n",
    "                        else:\n",
    "                            localClasse=\"\"\n",
    "                        classeVerbe=localClasse\n",
    "                        nombreVerbe=localNombre\n",
    "                        nombrePersonne=localNombre\n",
    "                        casVerbe=localCas\n",
    "                        if (debug or 0) and nPhrase==0: print (\"cas\",nombrePersonne, line)\n",
    "                elif klbSujet==\"OBJ\":\n",
    "                    if boolAttribut[\"VER\"][\"Genre\"]:\n",
    "                        classeVerbe=morphosyntax[\"Defauts\"][\"Genre\"]\n",
    "                    if boolAttribut[\"VER\"][\"Nombre\"]:\n",
    "                        nombreVerbe=morphosyntax[\"Defauts\"][\"Nombre\"]\n",
    "                    if boolAttribut[\"VER\"][\"Pers\"]:\n",
    "                        nombrePersonne=morphosyntax[\"Defauts\"][\"NbPers\"]\n",
    "                    \n",
    "            if len(tampon)>=4:\n",
    "                if tampon[3] and tampon[3].startswith(\",\"):\n",
    "                    tampon[3]=tampon[3][1:]\n",
    "                indirect=tampon[3].split(\" \")\n",
    "                if debug: print \"indirect : \",indirect\n",
    "                if indirect!=['']:\n",
    "                    if sortie==\"ordre\":\n",
    "                        phrase[syntagmes['Phrase'].index('IND')]=previewer(faire_gp(indirect,\"IND\"))\n",
    "                    else:\n",
    "                        phrase[syntagmes['Phrase'].index('IND')]=faire_gp(indirect,\"IND\")\n",
    "            if len(tampon)>=5:\n",
    "                if tampon[4] and tampon[4].startswith(\",\"):\n",
    "                    tampon[4]=tampon[4][1:]\n",
    "                comp=tampon[4].split(\" \")\n",
    "                if comp!=['']:\n",
    "                    if sortie==\"ordre\":\n",
    "                        phrase[syntagmes['Phrase'].index('COMP')]=previewer(faire_gp(comp))\n",
    "                    else:\n",
    "                        phrase[syntagmes['Phrase'].index('COMP')]=faire_gp(comp)\n",
    "            if len(tampon)>=6:\n",
    "                if tampon[5] and tampon[5].startswith(\",\"):\n",
    "                    tampon[5]=tampon[5][1:]\n",
    "                ajout=tampon[5].split(\" \")\n",
    "                if sortie==\"ordre\":\n",
    "                    phrase[syntagmes['Phrase'].index('AJOUT')]=previewer(faire_gp(ajout))\n",
    "                else:\n",
    "                    phrase[syntagmes['Phrase'].index('AJOUT')]=faire_gp(ajout)\n",
    "            if not boolAttribut[\"VER\"][\"Genre\"]:\n",
    "                classeVerbe=\"\"\n",
    "            if not boolAttribut[\"VER\"][\"Nombre\"]:\n",
    "                nombreVerbe=\"\"\n",
    "            if not boolAttribut[\"VER\"][\"Pers\"]:\n",
    "                nombrePersonne=\"\"\n",
    "            else:\n",
    "                nombrePersonne=\"Trois\"+nombrePersonne.capitalize()\n",
    "            if (debug or 0) and nPhrase==0: print \"accord Verbe\",nombreVerbe, classeVerbe, sujetVerbe, line\n",
    "\n",
    "            noligFormeCitation=formeCitation\n",
    "            for ligature in deligatures:\n",
    "                noligFormeCitation=noligFormeCitation.replace(ligature,deligatures[ligature])\n",
    "\n",
    "            glose=\"\\\\\"+recoder(noligFormeCitation,deaccent)\\\n",
    "                +morphosyntax[\"VER\"][\"FormesBase\"][verbeFormeIndex].capitalize()\\\n",
    "                +nombrePersonne\\\n",
    "                +classeVerbe.capitalize()\\\n",
    "                +nombreVerbe.capitalize()\n",
    "            if (debug or 0) and nPhrase<200: print \"glose Verbe\",glose\n",
    "            if sortie==\"ordre\":\n",
    "                phrase[syntagmes['Phrase'].index('VER')]=previewer([glose])\n",
    "            else:\n",
    "                phrase[syntagmes['Phrase'].index('VER')]=glose\n",
    "            texte.append(glose)\n",
    "            if sortie==\"latex\": \n",
    "                ajouterExemple(\"\\\\ex\")\n",
    "                if print_glose and print_phono and print_ortho:\n",
    "                    ajouterExemple(comment+\"\\\\gloses\")\n",
    "                elif print_glose+print_ortho+print_phono==2:\n",
    "                    ajouterExemple(comment+\"\\\\gloses\")\n",
    "            for mot in phrase:\n",
    "                if mot!=0:\n",
    "                    printflat(mot,\"{}\")\n",
    "            localAccumulateur=accumulateur\n",
    "            if print_ortho:\n",
    "                prefixe=\"\"\n",
    "                if sortie==\"images\":\n",
    "                    if nPhrase%numImages==0:\n",
    "                        prefixe=\"\\\\begin{preview}\"\n",
    "                    else:\n",
    "                        prefixe=\"\"\n",
    "                    if nPhrase%numImages==numImages-1:\n",
    "                        finLigne=finLignePreview\n",
    "                    else:\n",
    "                        finLigne=finLigneNoPreview\n",
    "                elif sortie==\"mots\":\n",
    "                    localAccumulateur=[debutLignePreview+accu+finLignePreview for accu in accumulateur if accu!=\"\"]\n",
    "            else:\n",
    "                prefixe=marqueurCommentaire\n",
    "            ajouterExemple(prefixe+separateurMots.join(localAccumulateur)+finLigne)\n",
    "            for mot in phrase:\n",
    "                if mot!=0:\n",
    "                    printflat(mot,\"P{}\")\n",
    "            if print_phono:\n",
    "                prefixe=\"\"\n",
    "                if sortie in [\"images\",\"ordre\"]:\n",
    "                    prefixe=marqueurCommentaire\n",
    "            else:\n",
    "                prefixe=marqueurCommentaire\n",
    "            ajouterExemple(prefixe+separateurMots.join(accumulateur)+finLigne)\n",
    "            for mot in phrase:\n",
    "                if mot!=0 and sortie==\"latex\":\n",
    "                    printflat(mot,\"G{}\")\n",
    "            if print_glose:\n",
    "                prefixe=\"\"\n",
    "                if sortie in [\"images\",\"ordre\"]:\n",
    "                    prefixe=marqueurCommentaire\n",
    "            else:\n",
    "                prefixe=marqueurCommentaire\n",
    "            if sortie==\"latex\": ajouterExemple(prefixe+separateurMots.join(accumulateur)+finLigne)\n",
    "            if \",\" in line:\n",
    "                consts=line.split(\"\\t\")\n",
    "                disloc=[]\n",
    "                canon=[]\n",
    "                for const in consts:\n",
    "                    if const.startswith(\",\"):\n",
    "                        disloc.append(const[1:])\n",
    "                    else:\n",
    "                        canon.append(const)\n",
    "                line=\",\\t\".join(disloc).strip()+\", \"+\"\\t\".join(canon)\n",
    "                        \n",
    "            traduction=(line.strip().rstrip('.')).split()\n",
    "            start=1\n",
    "            for element in traduction:\t\t\t# convertir les S majuscules à la finale des mots en minuscules\n",
    "                element=element.strip(\"#\")\n",
    "                if element!=\"\":\n",
    "                    if start:\n",
    "                        start=0\n",
    "                        element=element.capitalize()\n",
    "                    caracteres=element\n",
    "                    if len(caracteres)>1 and caracteres!=caracteres.lower() and caracteres!=caracteres.capitalize():\n",
    "                        caracteres=list(caracteres[0]+caracteres[1:].lower())\n",
    "#                    accumulerMots(\"\".join(caracteres).encode('utf8'))\n",
    "                    accumulerMots(\"\".join(caracteres))\n",
    "            if sortie==\"latex\": \n",
    "                ajouterExemple(taches()+\" \".join(accumulateur)+\".\")\n",
    "            elif sortie==\"images\":\n",
    "                ajouterExemple(marqueurCommentaire+\"\\\\begin{preview}\"+\" \".join(accumulateur)+\".\"+\"\\\\end{preview}\")\n",
    "            elif sortie in [\"ordre\",\"mots\"]:\n",
    "                ajouterExemple(\"\\\\begin{preview}\"+\" \".join(accumulateur)+\".\"+\"\\\\end{preview}\")\n",
    "                if sortie==\"mots\": ajouterExemple(\"\\\\begin{preview}\"+\".\"+\"\\\\end{preview}\")\n",
    "            else:\n",
    "                if debug: print accumulateur\n",
    "                ajouterExemple(\" \".join(accumulateur)+\".\")\n",
    "            del accumulateur[:]\n",
    "            if sortie==\"latex\" and print_coffee and random.randint(1,4)==1:\n",
    "                stain=random.choice([\"A\",\"B\",\"C\",\"D\"])\n",
    "                stain=random.choice([\"A\",\"B\",\"C\"])\n",
    "                alpha=random.random()/1.5\n",
    "                angle=random.randint(0,360)\n",
    "                xoff=random.randint(-200,0)\n",
    "#                ajouterExemple('\\\\\\\\\\\\cofe%sm{%.3f}{1}{%d}{%d}{0}' % (stain,alpha,angle,xoff))\n",
    "                ajouterExemple('\\\\hspace{-.35\\\\textwidth}\\\\cofe%sm{%.3f}{1}{%d}{%d}{0}' % (stain,alpha,angle,xoff))\n",
    "\n",
    "    if sortie==\"latex\": ajouterExemple(\"\\\\end{phrases}\")\n",
    "    if sortie==\"latex\":\n",
    "        if ('options' in globals() and options.print_cloze) or print_lexique:\n",
    "            tab=(head,tail,\"\")\n",
    "        else:\n",
    "            tab=(head,tail,\"%\")\n",
    "#        prononciationExtrait=[]\n",
    "        ajouterVocabulaire(tab[2]+\"\\\\begin{itemize}\")\n",
    "        ajouterVocabulaire(tab[2]+\"\\\\Needspace{8\\\\baselineskip}%\")\n",
    "        ajouterVocabulaire(tab[2]+\"\\\\item NOMS\\\\\\\\[-3ex]\")\n",
    "        print_tableaux(dimensionsTableaux[\"NOM\"][\"cols\"],tableaux[\"NOM\"],texte,dimensionsTableaux[\"NOM\"][\"long\"],tab,False)\n",
    "        ajouterVocabulaire(tab[2]+\"\\\\Needspace{8\\\\baselineskip}%\")\n",
    "        ajouterVocabulaire(tab[2]+\"\\\\item ADJECTIFS\\\\\\\\[-3ex]\")\n",
    "        print_tableaux(dimensionsTableaux[\"ADJ\"][\"cols\"],tableaux[\"ADJ\"],texte,dimensionsTableaux[\"ADJ\"][\"long\"],tab,False)\n",
    "        ajouterVocabulaire(tab[2]+\"\\\\Needspace{8\\\\baselineskip}%\")\n",
    "        ajouterVocabulaire(tab[2]+\"\\\\item VERBES\\\\\\\\[-3ex]\")\n",
    "        print_tableaux(dimensionsTableaux[\"VER\"][\"cols\"],tableaux[\"VER\"],texte,dimensionsTableaux[\"VER\"][\"long\"],tab,False)\n",
    "#        print_tableaux(2,tableaux[\"VER\"],texte,20,tab)\n",
    "        ajouterVocabulaire(tab[2]+\"\\\\Needspace{8\\\\baselineskip}%\")\n",
    "        ajouterVocabulaire(tab[2]+u\"\\\\item DÉTERMINANTS\\\\\\\\[-3ex]\")\n",
    "        print_tableaux(dimensionsTableaux[\"DET\"][\"cols\"],tableaux[\"DET\"],texte,dimensionsTableaux[\"DET\"][\"long\"],tab,False)\n",
    "#        print_tableaux(3,tableaux[\"DET\"],texte,0,tab)\n",
    "        ajouterVocabulaire(tab[2]+\"\\\\Needspace{8\\\\baselineskip}%\")\n",
    "        ajouterVocabulaire(tab[2]+u\"\\\\item PRÉPOSITIONS\\\\\\\\[-3ex]\")\n",
    "        print_tableaux(dimensionsTableaux[\"PREP\"][\"cols\"],tableaux[\"PREP\"],texte,dimensionsTableaux[\"PREP\"][\"long\"],tab,False)\n",
    "#        print_tableaux(2,tableaux[\"PREP\"],texte,0,tab)\n",
    "        ajouterVocabulaire(tab[2]+\"\\\\end{itemize}\")\n",
    "\n",
    "        if 1:\n",
    "            with codecs.open(serie+complementPhrases+\"Exemples\"+variante+\".tex\", 'wb',encoding=\"utf8\") as output:\n",
    "                for exemple in exemples:\n",
    "                    output.write(exemple+\"\\n\")\n",
    "\n",
    "            with codecs.open(serie+complementPhrases+\"Vocabulaire\"+variante+\".tex\", 'wb',encoding=\"utf8\") as output:\n",
    "                for vocable in vocabulaire:\n",
    "    #                print [vocable]\n",
    "                    output.write(vocable+\"\\n\")\n",
    "\n",
    "            with codecs.open(serie+complementPhrases+\"Prononciation\"+variante+\".tex\", 'wb',encoding=\"utf8\") as output:\n",
    "                for ligne in prononciationBegin+prononciationExtrait+prononciationEnd:\n",
    "                    output.write(ligne+\"\\n\")\n",
    "#    elif sortie==\"images\":\n",
    "#        with codecs.open(serie+complementPhrases+\"Images\"+variante+\".tex\", 'wb',encoding=\"utf8\") as output:\n",
    "#            for exemple in exemples:\n",
    "#                output.write(exemple+\"\\n\")\n",
    "    elif sortie in [\"images\",\"ordre\",\"mots\"]:\n",
    "        print sortie\n",
    "        print exemples\n",
    "        with codecs.open(serie+complementPhrases+sortie.capitalize()+variante+\".tex\", 'wb',encoding=\"utf8\") as output:\n",
    "            for exemple in exemples:\n",
    "                output.write(exemple+\"\\n\")\n",
    "    if sortie in [\"images\",\"traductions\",\"ordre\",\"mots\"]:\n",
    "        clozeTraductions=[]\n",
    "        for orthoLigne,phonoLigne,tradLigne in zip(*[iter(exemples)]*3):\n",
    "            phonoLigne=phonoLigne.replace(debutLignePreview,\"\").replace(finLignePreview,\"\")\n",
    "#            phonoMots=phonoLigne.strip(marqueurCommentaire).strip(finLignePreview).strip().split(\"{}\")\n",
    "            phonoMots=phonoLigne.strip(marqueurCommentaire).replace(finLignePreview,\"\").strip().split()\n",
    "            tradLigne=tradLigne.strip(marqueurCommentaire).replace(debutLignePreview,\"\").replace(finLignePreview,\"\")\n",
    "            if sortie==\"ordre\": print phonoMots\n",
    "            phonoPhrase=[]\n",
    "            for element in phonoMots:\n",
    "                if sortie in [\"ordre\",\"mots\"]:\n",
    "                    cleElement=element.strip().replace(\"P{}\",\"\").strip(\"\\\\{}\")\n",
    "                else:\n",
    "                    cleElement=element.strip().strip(\"\\\\{}\")[:-1]\n",
    "                if cleElement:\n",
    "                    if not cleElement in traductions: print cleElement,phonoMots\n",
    "                    phonoPhrase.append(traductions[cleElement])\n",
    "            if separateurPhonoCloze==\"\" : suppLigne=\";\"+\" \".join(phonoPhrase)\n",
    "            else: suppLigne=\"\"\n",
    "            result=separateurPhonoCloze.join(phonoPhrase)+\";\"+tradLigne+suppLigne\n",
    "            clozeTraductions.append(result)\n",
    "        with codecs.open(serie+complementPhrases+sortie.capitalize()+\".txt\", 'wb',encoding=\"utf8\") as output:\n",
    "            for ligne in clozeTraductions:\n",
    "                output.write(ligne+\"\\n\")\n"
   ]
  },
  {
   "cell_type": "markdown",
   "metadata": {},
   "source": [
    "#### Traitement du fichier phrases"
   ]
  },
  {
   "cell_type": "code",
   "execution_count": 1836,
   "metadata": {
    "collapsed": false
   },
   "outputs": [],
   "source": [
    "#print os.path.realpath(phrase_nom)\n",
    "try:\n",
    "    phrase_file = codecs.open((phrase_nom),\"r\",\"utf8\")\n",
    "except IOError:\n",
    "    print 'I could not open the sentence file', phrase_nom\n",
    "    sys.exit()\n",
    "exemples=[]\n",
    "accumulateur=[]\n",
    "vocabulaire=[]\n",
    "prononciationExtrait=[]\n",
    "faire_phrases(phrase_file)\n",
    "phrase_file.close()"
   ]
  },
  {
   "cell_type": "code",
   "execution_count": 1837,
   "metadata": {
    "collapsed": true
   },
   "outputs": [],
   "source": [
    "nomTableaux=\"Tableaux.yaml\"\n",
    "with open(serie+nomTableaux, 'r') as stream:\n",
    "    tableaux=yaml.load(stream)"
   ]
  },
  {
   "cell_type": "code",
   "execution_count": 1838,
   "metadata": {
    "collapsed": false,
    "scrolled": false
   },
   "outputs": [],
   "source": [
    "if traduction_nom.endswith(\"csv\"):\n",
    "    try:\n",
    "        traduction_file = codecs.open(traduction_nom,\"r\",\"utf8\")\n",
    "    except IOError:\n",
    "        print 'I could not open the translation file', traduction_nom\n",
    "        sys.exit()      \n",
    "    else:\n",
    "        try:\n",
    "            cloze_file = codecs.open(cloze_nom,\"r\",\"utf8\")\n",
    "        except IOError:\n",
    "            print 'I could not open the cloze file', cloze_nom\n",
    "            sys.exit()\n",
    "        else:\n",
    "            traductions={}\n",
    "            for line in cloze_file.readlines():\n",
    "                line=line.strip()\n",
    "                if not line.startswith(\"#\"):\n",
    "                    elementsCloze=line.split(\";\")\n",
    "                    traductions[elementsCloze[0]]=elementsCloze[5]\n",
    "            cloze_file.close()\n",
    "            exemples=[]\n",
    "            accumulateur=[]\n",
    "            vocabulaire=[]\n",
    "#            prononciationExtrait=[]\n",
    "            faire_phrases(traduction_file,sortie=\"traductions\")\n",
    "            traduction_file.close()"
   ]
  },
  {
   "cell_type": "code",
   "execution_count": 1839,
   "metadata": {
    "collapsed": false,
    "scrolled": true
   },
   "outputs": [
    {
     "name": "stdout",
     "output_type": "stream",
     "text": [
      "images\n",
      "[u'\\\\begin{preview}  \\\\DEFFSg{}   \\\\louveFSg{}  \\\\etrePrsTroisSgSg{}   \\\\AVEC{}    \\\\DEFMSg{}   \\\\villageMSg{}\\\\end{preview}', u'%  \\\\DEFFSgP{}   \\\\louveFSgP{}  \\\\etrePrsTroisSgSgP{}   \\\\AVECP{}    \\\\DEFMSgP{}   \\\\villageMSgP{}\\\\end{preview}', u'%\\\\begin{preview}La louve est avec le village.\\\\end{preview}', u'\\\\begin{preview}  \\\\DEFMSg{}   \\\\KalebMSg{}  \\\\etrePstTroisSgSg{}   \\\\DEFMSg{}   \\\\chefMSg{}   \\\\DE{}    \\\\INDMSg{}   \\\\villageMSg{}   \\\\petitMSg{}   \\\\DE{}    \\\\DEFFSg{}   \\\\foretFSg{}\\\\end{preview}', u'%  \\\\DEFMSgP{}   \\\\KalebMSgP{}  \\\\etrePstTroisSgSgP{}   \\\\DEFMSgP{}   \\\\chefMSgP{}   \\\\DEP{}    \\\\INDMSgP{}   \\\\villageMSgP{}   \\\\petitMSgP{}   \\\\DEP{}    \\\\DEFFSgP{}   \\\\foretFSgP{}\\\\end{preview}', u\"%\\\\begin{preview}Kaleb \\xe9tait le chef d'un petit village de for\\xeat.\\\\end{preview}\", u'\\\\begin{preview}  \\\\DEFFSg{}   \\\\MahiraFSg{}  \\\\etrePstTroisSgSg{}   \\\\DEFFSg{}   \\\\soeurFSg{}   \\\\grandFSg{}   \\\\DE{}    \\\\DEFMSg{}   \\\\KalebMSg{}\\\\end{preview}', u'%  \\\\DEFFSgP{}   \\\\MahiraFSgP{}  \\\\etrePstTroisSgSgP{}   \\\\DEFFSgP{}   \\\\soeurFSgP{}   \\\\grandFSgP{}   \\\\DEP{}    \\\\DEFMSgP{}   \\\\KalebMSgP{}\\\\end{preview}', u'%\\\\begin{preview}Mahira \\xe9tait la grande s\\u0153ur de Kaleb.\\\\end{preview}', u'\\\\begin{preview}  \\\\DEFFSg{}   \\\\VioletteFSg{}  \\\\etrePstTroisSgSg{}   \\\\DEFFSg{}   \\\\filleFSg{}   \\\\DE{}    \\\\DEFMSg{}   \\\\KalebMSg{}\\\\end{preview}', u'%  \\\\DEFFSgP{}   \\\\VioletteFSgP{}  \\\\etrePstTroisSgSgP{}   \\\\DEFFSgP{}   \\\\filleFSgP{}   \\\\DEP{}    \\\\DEFMSgP{}   \\\\KalebMSgP{}\\\\end{preview}', u'%\\\\begin{preview}Violette \\xe9tait la fille de Kaleb.\\\\end{preview}', u'\\\\begin{preview}  \\\\DEFFSg{}   \\\\MahiraFSg{}  \\\\chasserPstTroisSgSg{}   \\\\DANS{}    \\\\DEFFSg{}   \\\\foretFSg{}   \\\\AVEC{}    \\\\DEFFSg{}   \\\\filleFSg{}   \\\\DE{}    \\\\DEFMSg{}   \\\\KalebMSg{}\\\\end{preview}', u'%  \\\\DEFFSgP{}   \\\\MahiraFSgP{}  \\\\chasserPstTroisSgSgP{}   \\\\DANSP{}    \\\\DEFFSgP{}   \\\\foretFSgP{}   \\\\AVECP{}    \\\\DEFFSgP{}   \\\\filleFSgP{}   \\\\DEP{}    \\\\DEFMSgP{}   \\\\KalebMSgP{}\\\\end{preview}', u'%\\\\begin{preview}Mahira chassait dans la for\\xeat avec la fille de Kaleb.\\\\end{preview}', u'\\\\begin{preview}  \\\\DEFFDu{}   \\\\filleFDu{}  \\\\voirPstTroisDuDu{}   \\\\INDFSg{}   \\\\ombreFSg{}   \\\\grandFSg{}\\\\end{preview}', u'%  \\\\DEFFDuP{}   \\\\filleFDuP{}  \\\\voirPstTroisDuDuP{}   \\\\INDFSgP{}   \\\\ombreFSgP{}   \\\\grandFSgP{}\\\\end{preview}', u'%\\\\begin{preview}Les deux filles virent une grande ombre.\\\\end{preview}', u'\\\\begin{preview}  \\\\DEMFSg{}   \\\\ombreFSg{}   \\\\rougeFSg{}   \\\\noirFSg{}  \\\\etrePstTroisSgSg{}   \\\\INDMSg{}   \\\\demonMSg{}\\\\end{preview}', u'%  \\\\DEMFSgP{}   \\\\ombreFSgP{}   \\\\rougeFSgP{}   \\\\noirFSgP{}  \\\\etrePstTroisSgSgP{}   \\\\INDMSgP{}   \\\\demonMSgP{}\\\\end{preview}', u'%\\\\begin{preview}Cette ombre rouge et noire \\xe9tait un d\\xe9mon.\\\\end{preview}', u'\\\\begin{preview}  \\\\DEFMSg{}   \\\\demonMSg{}   \\\\terribleMSg{}  \\\\devorerPstTroisSgSg{}   \\\\INDMSg{}   \\\\villageoisMSg{}   \\\\DERRIERE{}    \\\\INDMSg{}   \\\\arbreMSg{}\\\\end{preview}', u'%  \\\\DEFMSgP{}   \\\\demonMSgP{}   \\\\terribleMSgP{}  \\\\devorerPstTroisSgSgP{}   \\\\INDMSgP{}   \\\\villageoisMSgP{}   \\\\DERRIEREP{}    \\\\INDMSgP{}   \\\\arbreMSgP{}\\\\end{preview}', u'%\\\\begin{preview}Derri\\xe8re un arbre, le terrible d\\xe9mon d\\xe9vorait un villageois.\\\\end{preview}', u'\\\\begin{preview}  \\\\DEFFDu{}   \\\\filleFDu{}   \\\\effrayeFDu{}  \\\\fuirPrsTroisDuDu{}   \\\\DEVANT{}    \\\\DEFMSg{}   \\\\corpsMSg{}   \\\\DE{}    \\\\DEMMSg{}   \\\\villageoisMSg{}\\\\end{preview}', u'%  \\\\DEFFDuP{}   \\\\filleFDuP{}   \\\\effrayeFDuP{}  \\\\fuirPrsTroisDuDuP{}   \\\\DEVANTP{}    \\\\DEFMSgP{}   \\\\corpsMSgP{}   \\\\DEP{}    \\\\DEMMSgP{}   \\\\villageoisMSgP{}\\\\end{preview}', u'%\\\\begin{preview}Les deux filles effray\\xe9es fuient devant le corps de ce villageois.\\\\end{preview}', u'\\\\begin{preview}  \\\\DEMFDu{}   \\\\filleFDu{}  \\\\courirPrsTroisDuDu{}   \\\\VERS{}    \\\\DEFMSg{}   \\\\villageMSg{}\\\\end{preview}', u'%  \\\\DEMFDuP{}   \\\\filleFDuP{}  \\\\courirPrsTroisDuDuP{}   \\\\VERSP{}    \\\\DEFMSgP{}   \\\\villageMSgP{}\\\\end{preview}', u'%\\\\begin{preview}Ces deux filles courent vers le village.\\\\end{preview}', u'\\\\begin{preview}  \\\\DEFMSg{}   \\\\demonMSg{}   \\\\furieuxMSg{}  \\\\voirPrsTroisSgSg{}   \\\\DEFFDu{}   \\\\filleFDu{}\\\\end{preview}', u'%  \\\\DEFMSgP{}   \\\\demonMSgP{}   \\\\furieuxMSgP{}  \\\\voirPrsTroisSgSgP{}   \\\\DEFFDuP{}   \\\\filleFDuP{}\\\\end{preview}', u'%\\\\begin{preview}Le d\\xe9mon furieux voit les deux filles.\\\\end{preview}', u'\\\\begin{preview}  \\\\DEFMSg{}   \\\\loupMSg{}   \\\\grandMSg{}   \\\\blancMSg{}   \\\\DE{}    \\\\DEFMSg{}   \\\\demonMSg{}  \\\\chasserPrsTroisSgSg{}   \\\\DEFFDu{}   \\\\villageoiseFDu{}\\\\end{preview}', u'%  \\\\DEFMSgP{}   \\\\loupMSgP{}   \\\\grandMSgP{}   \\\\blancMSgP{}   \\\\DEP{}    \\\\DEFMSgP{}   \\\\demonMSgP{}  \\\\chasserPrsTroisSgSgP{}   \\\\DEFFDuP{}   \\\\villageoiseFDuP{}\\\\end{preview}', u'%\\\\begin{preview}Le grand loup blanc du d\\xe9mon chasse les deux villageoises.\\\\end{preview}', u'\\\\begin{preview}  \\\\DEFFSg{}   \\\\filleFSg{}   \\\\petitFSg{}  \\\\tomberPrsTroisSgSg{}\\\\end{preview}', u'%  \\\\DEFFSgP{}   \\\\filleFSgP{}   \\\\petitFSgP{}  \\\\tomberPrsTroisSgSgP{}\\\\end{preview}', u'%\\\\begin{preview}La petite fille tombe.\\\\end{preview}', u'\\\\begin{preview}  \\\\DEFMSg{}   \\\\loupMSg{}   \\\\blancMSg{}  \\\\courirPrsTroisSgSg{}   \\\\VERS{}    \\\\DEMFSg{}   \\\\filleFSg{}   \\\\petitFSg{}\\\\end{preview}', u'%  \\\\DEFMSgP{}   \\\\loupMSgP{}   \\\\blancMSgP{}  \\\\courirPrsTroisSgSgP{}   \\\\VERSP{}    \\\\DEMFSgP{}   \\\\filleFSgP{}   \\\\petitFSgP{}\\\\end{preview}', u'%\\\\begin{preview}Le loup blanc court vers cette petite fille.\\\\end{preview}', u'\\\\begin{preview}  \\\\DEFFSg{}   \\\\MahiraFSg{}   \\\\courageuxFSg{}  \\\\protegerPrsTroisSgSg{}   \\\\DEFFSg{}   \\\\VioletteFSg{}   \\\\AVEC{}    \\\\INDMSg{}   \\\\couteauMSg{}\\\\end{preview}', u'%  \\\\DEFFSgP{}   \\\\MahiraFSgP{}   \\\\courageuxFSgP{}  \\\\protegerPrsTroisSgSgP{}   \\\\DEFFSgP{}   \\\\VioletteFSgP{}   \\\\AVECP{}    \\\\INDMSgP{}   \\\\couteauMSgP{}\\\\end{preview}', u'%\\\\begin{preview}La courageuse Mahira prot\\xe8ge Violette avec un couteau.\\\\end{preview}', u'\\\\begin{preview}  \\\\DEMMSg{}   \\\\couteauMSg{}  \\\\protegerPrsTroisSgSg{}   \\\\DEFMSg{}   \\\\visageMSg{}   \\\\DE{}    \\\\DEFFSg{}   \\\\MahiraFSg{}\\\\end{preview}', u'%  \\\\DEMMSgP{}   \\\\couteauMSgP{}  \\\\protegerPrsTroisSgSgP{}   \\\\DEFMSgP{}   \\\\visageMSgP{}   \\\\DEP{}    \\\\DEFFSgP{}   \\\\MahiraFSgP{}\\\\end{preview}', u'%\\\\begin{preview}Ce couteau prot\\xe8ge le visage de Mahira.\\\\end{preview}', u'\\\\begin{preview}  \\\\DEFMSg{}   \\\\loupMSg{}   \\\\grandMSg{}  \\\\planterPrsTroisSgSg{}   \\\\DEFFPl{}   \\\\crocFPl{}   \\\\DANS{}    \\\\DEFFSg{}   \\\\mainFSg{}   \\\\DE{}    \\\\DEFFSg{}   \\\\MahiraFSg{}\\\\end{preview}', u'%  \\\\DEFMSgP{}   \\\\loupMSgP{}   \\\\grandMSgP{}  \\\\planterPrsTroisSgSgP{}   \\\\DEFFPlP{}   \\\\crocFPlP{}   \\\\DANSP{}    \\\\DEFFSgP{}   \\\\mainFSgP{}   \\\\DEP{}    \\\\DEFFSgP{}   \\\\MahiraFSgP{}\\\\end{preview}', u'%\\\\begin{preview}Le grand loup plante les crocs dans la main de Mahira.\\\\end{preview}', u'\\\\begin{preview}  \\\\DEFMSg{}   \\\\loupMSg{}  \\\\prendrePrsTroisSgSg{}   \\\\INDMSg{}   \\\\coupMSg{}   \\\\profondMSg{}   \\\\DE{}    \\\\DEFMSg{}   \\\\couteauMSg{}   \\\\DANS{}    \\\\DEFMSg{}   \\\\gorgeMSg{}\\\\end{preview}', u'%  \\\\DEFMSgP{}   \\\\loupMSgP{}  \\\\prendrePrsTroisSgSgP{}   \\\\INDMSgP{}   \\\\coupMSgP{}   \\\\profondMSgP{}   \\\\DEP{}    \\\\DEFMSgP{}   \\\\couteauMSgP{}   \\\\DANSP{}    \\\\DEFMSgP{}   \\\\gorgeMSgP{}\\\\end{preview}', u'%\\\\begin{preview}Le loup prend un profond coup de couteau dans la gorge.\\\\end{preview}', u'\\\\begin{preview}  \\\\DEMFSg{}   \\\\blessureFSg{}   \\\\profondFSg{}  \\\\donnerPrsTroisSgSg{}   \\\\DEFFSg{}   \\\\mortFSg{}   \\\\A{}    \\\\DEMMSg{}   \\\\loupMSg{}   \\\\grandMSg{}   \\\\blancMSg{}\\\\end{preview}', u'%  \\\\DEMFSgP{}   \\\\blessureFSgP{}   \\\\profondFSgP{}  \\\\donnerPrsTroisSgSgP{}   \\\\DEFFSgP{}   \\\\mortFSgP{}   \\\\AP{}    \\\\DEMMSgP{}   \\\\loupMSgP{}   \\\\grandMSgP{}   \\\\blancMSgP{}\\\\end{preview}', u'%\\\\begin{preview}Cette profonde blessure donne la mort \\xe0 ce grand loup blanc.\\\\end{preview}', u'\\\\begin{preview}  \\\\INDFSg{}   \\\\colereFSg{}   \\\\profondFSg{}  \\\\envahirPrsTroisSgSg{}   \\\\DEFMSg{}   \\\\visageMSg{}   \\\\rougeMSg{}   \\\\DE{}    \\\\DEFMSg{}   \\\\demonMSg{}\\\\end{preview}', u'%  \\\\INDFSgP{}   \\\\colereFSgP{}   \\\\profondFSgP{}  \\\\envahirPrsTroisSgSgP{}   \\\\DEFMSgP{}   \\\\visageMSgP{}   \\\\rougeMSgP{}   \\\\DEP{}    \\\\DEFMSgP{}   \\\\demonMSgP{}\\\\end{preview}', u'%\\\\begin{preview}Une profonde col\\xe8re envahit le visage rouge du d\\xe9mon.\\\\end{preview}', u'\\\\begin{preview}  \\\\DEFMSg{}   \\\\demonMSg{}  \\\\jeterPrsTroisSgSg{}   \\\\INDMSg{}   \\\\sortMSg{}   \\\\A{}    \\\\DEFFDu{}   \\\\filleFDu{}\\\\end{preview}', u'%  \\\\DEFMSgP{}   \\\\demonMSgP{}  \\\\jeterPrsTroisSgSgP{}   \\\\INDMSgP{}   \\\\sortMSgP{}   \\\\AP{}    \\\\DEFFDuP{}   \\\\filleFDuP{}\\\\end{preview}', u'%\\\\begin{preview}Le d\\xe9mon jette un sort aux deux filles.\\\\end{preview}', u'\\\\begin{preview}  \\\\INDFSg{}   \\\\lueurFSg{}   \\\\rougeFSg{}  \\\\recouvrirPrsTroisSgSg{}   \\\\DEFFDu{}   \\\\filleFDu{}\\\\end{preview}', u'%  \\\\INDFSgP{}   \\\\lueurFSgP{}   \\\\rougeFSgP{}  \\\\recouvrirPrsTroisSgSgP{}   \\\\DEFFDuP{}   \\\\filleFDuP{}\\\\end{preview}', u'%\\\\begin{preview}Une lueur rouge recouvre les deux filles.\\\\end{preview}', u'\\\\begin{preview}  \\\\DEFFSg{}   \\\\nuitFSg{}  \\\\tomberPrsTroisSgSg{}   \\\\SUR{}    \\\\DEFMSg{}   \\\\villageMSg{}   \\\\DE{}    \\\\DEFMSg{}   \\\\KalebMSg{}\\\\end{preview}', u'%  \\\\DEFFSgP{}   \\\\nuitFSgP{}  \\\\tomberPrsTroisSgSgP{}   \\\\SURP{}    \\\\DEFMSgP{}   \\\\villageMSgP{}   \\\\DEP{}    \\\\DEFMSgP{}   \\\\KalebMSgP{}\\\\end{preview}', u'%\\\\begin{preview}La nuit tombe sur le village de Kaleb.\\\\end{preview}', u'\\\\begin{preview}  \\\\DEFFSg{}   \\\\lueurFSg{}   \\\\DE{}    \\\\DEFFSg{}   \\\\luneFSg{}  \\\\envahirPstTroisSgSg{}   \\\\DEFFSg{}   \\\\maisonFSg{}   \\\\DE{}    \\\\DEFFSg{}   \\\\MahiraFSg{}\\\\end{preview}', u'%  \\\\DEFFSgP{}   \\\\lueurFSgP{}   \\\\DEP{}    \\\\DEFFSgP{}   \\\\luneFSgP{}  \\\\envahirPstTroisSgSgP{}   \\\\DEFFSgP{}   \\\\maisonFSgP{}   \\\\DEP{}    \\\\DEFFSgP{}   \\\\MahiraFSgP{}\\\\end{preview}', u'%\\\\begin{preview}La lueur de la lune envahissait la maison de Mahira.\\\\end{preview}', u'\\\\begin{preview}  \\\\DEMFSg{}   \\\\lueurFSg{}  \\\\donnerPstTroisSgSg{}   \\\\INDMSg{}   \\\\souffranceMSg{}   \\\\grandMSg{}   \\\\A{}    \\\\DEFFSg{}   \\\\blessureFSg{}   \\\\DE{}    \\\\DEFFSg{}   \\\\MahiraFSg{}\\\\end{preview}', u'%  \\\\DEMFSgP{}   \\\\lueurFSgP{}  \\\\donnerPstTroisSgSgP{}   \\\\INDMSgP{}   \\\\souffranceMSgP{}   \\\\grandMSgP{}   \\\\AP{}    \\\\DEFFSgP{}   \\\\blessureFSgP{}   \\\\DEP{}    \\\\DEFFSgP{}   \\\\MahiraFSgP{}\\\\end{preview}', u'%\\\\begin{preview}Cette lueur donnait une grande souffrance \\xe0 la blessure de Mahira.\\\\end{preview}', u'\\\\begin{preview}  \\\\DEFFSg{}   \\\\MahiraFSg{}  \\\\sortirPstTroisSgSg{}   \\\\DE{}    \\\\DEFFSg{}   \\\\maisonFSg{}\\\\end{preview}', u'%  \\\\DEFFSgP{}   \\\\MahiraFSgP{}  \\\\sortirPstTroisSgSgP{}   \\\\DEP{}    \\\\DEFFSgP{}   \\\\maisonFSgP{}\\\\end{preview}', u'%\\\\begin{preview}Mahira sortit de la maison.\\\\end{preview}', u'\\\\begin{preview}  \\\\DEFFSg{}   \\\\lueurFSg{}   \\\\DE{}    \\\\DEFFSg{}   \\\\luneFSg{}  \\\\recouvrirPrsTroisSgSg{}   \\\\DEFMSg{}   \\\\corpsMSg{}   \\\\DE{}    \\\\DEFFSg{}   \\\\MahiraFSg{}\\\\end{preview}', u'%  \\\\DEFFSgP{}   \\\\lueurFSgP{}   \\\\DEP{}    \\\\DEFFSgP{}   \\\\luneFSgP{}  \\\\recouvrirPrsTroisSgSgP{}   \\\\DEFMSgP{}   \\\\corpsMSgP{}   \\\\DEP{}    \\\\DEFFSgP{}   \\\\MahiraFSgP{}\\\\end{preview}', u'%\\\\begin{preview}La lueur de la lune recouvre le corps de Mahira.\\\\end{preview}', u'\\\\begin{preview}  \\\\DEMMSg{}   \\\\corpsMSg{}  \\\\disparaitrePrsTroisSgSg{}   \\\\DANS{}    \\\\DEFFSg{}   \\\\nuitFSg{}   \\\\noirFSg{}\\\\end{preview}', u'%  \\\\DEMMSgP{}   \\\\corpsMSgP{}  \\\\disparaitrePrsTroisSgSgP{}   \\\\DANSP{}    \\\\DEFFSgP{}   \\\\nuitFSgP{}   \\\\noirFSgP{}\\\\end{preview}', u'%\\\\begin{preview}Ce corps dispara\\xeet dans la nuit noire.\\\\end{preview}', u'\\\\begin{preview}  \\\\DEFFSg{}   \\\\nuitFSg{}  \\\\transformerPrsTroisSgSg{}   \\\\DEFMSg{}   \\\\visageMSg{}   \\\\DE{}    \\\\DEFFSg{}   \\\\soeurFSg{}   \\\\DE{}    \\\\DEFMSg{}   \\\\KalebMSg{}\\\\end{preview}', u'%  \\\\DEFFSgP{}   \\\\nuitFSgP{}  \\\\transformerPrsTroisSgSgP{}   \\\\DEFMSgP{}   \\\\visageMSgP{}   \\\\DEP{}    \\\\DEFFSgP{}   \\\\soeurFSgP{}   \\\\DEP{}    \\\\DEFMSgP{}   \\\\KalebMSgP{}\\\\end{preview}', u'%\\\\begin{preview}La nuit transforme le visage de la s\\u0153ur de Kaleb.\\\\end{preview}', u'\\\\begin{preview}  \\\\DEFFSg{}   \\\\MahiraFSg{}  \\\\etrePstTroisSgSg{}   \\\\INDFSg{}   \\\\louveFSg{}   \\\\grandFSg{}   \\\\blancFSg{}\\\\end{preview}', u'%  \\\\DEFFSgP{}   \\\\MahiraFSgP{}  \\\\etrePstTroisSgSgP{}   \\\\INDFSgP{}   \\\\louveFSgP{}   \\\\grandFSgP{}   \\\\blancFSgP{}\\\\end{preview}', u'%\\\\begin{preview}Mahira \\xe9tait une grande louve blanche.\\\\end{preview}', u'\\\\begin{preview}  \\\\DEMFSg{}   \\\\louveFSg{}   \\\\effrayeFSg{}  \\\\chercherPrsTroisSgSg{}   \\\\DEFMSg{}   \\\\demonMSg{}   \\\\DANS{}    \\\\DEFFSg{}   \\\\foretFSg{}\\\\end{preview}', u'%  \\\\DEMFSgP{}   \\\\louveFSgP{}   \\\\effrayeFSgP{}  \\\\chercherPrsTroisSgSgP{}   \\\\DEFMSgP{}   \\\\demonMSgP{}   \\\\DANSP{}    \\\\DEFFSgP{}   \\\\foretFSgP{}\\\\end{preview}', u'%\\\\begin{preview}Dans la for\\xeat, cette louve effray\\xe9e cherche le d\\xe9mon.\\\\end{preview}', u'\\\\begin{preview}  \\\\DEFFSg{}   \\\\louveFSg{}  \\\\voirPstTroisSgSg{}   \\\\INDMSg{}   \\\\serpentMSg{}   \\\\grandMSg{}   \\\\noirMSg{}\\\\end{preview}', u'%  \\\\DEFFSgP{}   \\\\louveFSgP{}  \\\\voirPstTroisSgSgP{}   \\\\INDMSgP{}   \\\\serpentMSgP{}   \\\\grandMSgP{}   \\\\noirMSgP{}\\\\end{preview}', u'%\\\\begin{preview}La louve vit un grand serpent noir.\\\\end{preview}', u'\\\\begin{preview}  \\\\DEFMSg{}   \\\\serpentMSg{}  \\\\parlerPstTroisSgSg{}   \\\\A{}    \\\\DEFFSg{}   \\\\louveFSg{}   \\\\blancFSg{}\\\\end{preview}', u'%  \\\\DEFMSgP{}   \\\\serpentMSgP{}  \\\\parlerPstTroisSgSgP{}   \\\\AP{}    \\\\DEFFSgP{}   \\\\louveFSgP{}   \\\\blancFSgP{}\\\\end{preview}', u'%\\\\begin{preview}Le serpent parla \\xe0 la louve blanche.\\\\end{preview}', u'\\\\begin{preview}  \\\\DEFMSg{}   \\\\sortMSg{}   \\\\DE{}    \\\\DEFMSg{}   \\\\demonMSg{}  \\\\transformerPrsTroisSgSg{}   \\\\DEFFSg{}   \\\\villageoiseFSg{}   \\\\DANS{}    \\\\DEFFSg{}   \\\\nuitFSg{}\\\\end{preview}', u'%  \\\\DEFMSgP{}   \\\\sortMSgP{}   \\\\DEP{}    \\\\DEFMSgP{}   \\\\demonMSgP{}  \\\\transformerPrsTroisSgSgP{}   \\\\DEFFSgP{}   \\\\villageoiseFSgP{}   \\\\DANSP{}    \\\\DEFFSgP{}   \\\\nuitFSgP{}\\\\end{preview}', u'%\\\\begin{preview}Le sort du d\\xe9mon transforme la villageoise dans la nuit.\\\\end{preview}', u'\\\\begin{preview}  \\\\DEFMSg{}   \\\\loupMSg{}   \\\\blancMSg{}  \\\\protegerPstTroisSgSg{}   \\\\DEFMPl{}   \\\\loupMPl{}   \\\\noirMPl{}\\\\end{preview}', u'%  \\\\DEFMSgP{}   \\\\loupMSgP{}   \\\\blancMSgP{}  \\\\protegerPstTroisSgSgP{}   \\\\DEFMPlP{}   \\\\loupMPlP{}   \\\\noirMPlP{}\\\\end{preview}', u'%\\\\begin{preview}Le loup blanc prot\\xe9geait les loups noirs.\\\\end{preview}', u'\\\\begin{preview}  \\\\DEFMPl{}   \\\\loupMPl{}  \\\\devorerPrsTroisPlPl{}   \\\\DEFMPl{}   \\\\villageoisMPl{}\\\\end{preview}', u'%  \\\\DEFMPlP{}   \\\\loupMPlP{}  \\\\devorerPrsTroisPlPlP{}   \\\\DEFMPlP{}   \\\\villageoisMPlP{}\\\\end{preview}', u'%\\\\begin{preview}Les loups d\\xe9vorent les villageois.\\\\end{preview}', u'\\\\begin{preview}  \\\\DEFMPl{}   \\\\villageoisMPl{}  \\\\chasserPrsTroisPlPl{}   \\\\DEFMPl{}   \\\\loupMPl{}\\\\end{preview}', u'%  \\\\DEFMPlP{}   \\\\villageoisMPlP{}  \\\\chasserPrsTroisPlPlP{}   \\\\DEFMPlP{}   \\\\loupMPlP{}\\\\end{preview}', u'%\\\\begin{preview}Les villageois chassent les loups.\\\\end{preview}', u'\\\\begin{preview}  \\\\DEFMSg{}   \\\\sortMSg{}  \\\\disparaitrePrsTroisSgSg{}   \\\\AVEC{}    \\\\DEFFSg{}   \\\\mortFSg{}   \\\\DE{}    \\\\DEFMPl{}   \\\\villageoisMPl{}\\\\end{preview}', u'%  \\\\DEFMSgP{}   \\\\sortMSgP{}  \\\\disparaitrePrsTroisSgSgP{}   \\\\AVECP{}    \\\\DEFFSgP{}   \\\\mortFSgP{}   \\\\DEP{}    \\\\DEFMPlP{}   \\\\villageoisMPlP{}\\\\end{preview}', u'%\\\\begin{preview}Le sort dispara\\xeet avec la mort des villageois.\\\\end{preview}', u'\\\\begin{preview}  \\\\DEFMSg{}   \\\\serpentMSg{}  \\\\allerPstTroisSgSg{}   \\\\VERS{}    \\\\DEFFSg{}   \\\\maisonFSg{}   \\\\DE{}    \\\\DEFMSg{}   \\\\chefMSg{}   \\\\DE{}    \\\\DEFMSg{}   \\\\villageMSg{}\\\\end{preview}', u'%  \\\\DEFMSgP{}   \\\\serpentMSgP{}  \\\\allerPstTroisSgSgP{}   \\\\VERSP{}    \\\\DEFFSgP{}   \\\\maisonFSgP{}   \\\\DEP{}    \\\\DEFMSgP{}   \\\\chefMSgP{}   \\\\DEP{}    \\\\DEFMSgP{}   \\\\villageMSgP{}\\\\end{preview}', u'%\\\\begin{preview}Le serpent allait vers la maison du chef du village.\\\\end{preview}', u'\\\\begin{preview}  \\\\DEMMSg{}   \\\\serpentMSg{}  \\\\parlerPstTroisSgSg{}   \\\\A{}    \\\\DEFMSg{}   \\\\KalebMSg{}\\\\end{preview}', u'%  \\\\DEMMSgP{}   \\\\serpentMSgP{}  \\\\parlerPstTroisSgSgP{}   \\\\AP{}    \\\\DEFMSgP{}   \\\\KalebMSgP{}\\\\end{preview}', u'%\\\\begin{preview}Ce serpent parla \\xe0 Kaleb.\\\\end{preview}', u'\\\\begin{preview}  \\\\INDFSg{}   \\\\colereFSg{}   \\\\noirFSg{}  \\\\envahirPrsTroisSgSg{}   \\\\DEFMPl{}   \\\\loupMPl{}\\\\end{preview}', u'%  \\\\INDFSgP{}   \\\\colereFSgP{}   \\\\noirFSgP{}  \\\\envahirPrsTroisSgSgP{}   \\\\DEFMPlP{}   \\\\loupMPlP{}\\\\end{preview}', u'%\\\\begin{preview}Une col\\xe8re noire envahit les loups.\\\\end{preview}', u'\\\\begin{preview}  \\\\DEFMSg{}   \\\\combatMSg{}   \\\\terribleMSg{}  \\\\approcherPrsTroisSgSg{}\\\\end{preview}', u'%  \\\\DEFMSgP{}   \\\\combatMSgP{}   \\\\terribleMSgP{}  \\\\approcherPrsTroisSgSgP{}\\\\end{preview}', u'%\\\\begin{preview}Le terrible combat approche.\\\\end{preview}', u'\\\\begin{preview}  \\\\DEFMSg{}   \\\\chefMSg{}   \\\\DE{}    \\\\DEFMSg{}   \\\\villageMSg{}  \\\\parlerPrsTroisSgSg{}   \\\\A{}    \\\\DEFMPl{}   \\\\villageoisMPl{}   \\\\DE{}    \\\\DEFMPl{}   \\\\loupMPl{}   \\\\furieuxMPl{}\\\\end{preview}', u'%  \\\\DEFMSgP{}   \\\\chefMSgP{}   \\\\DEP{}    \\\\DEFMSgP{}   \\\\villageMSgP{}  \\\\parlerPrsTroisSgSgP{}   \\\\AP{}    \\\\DEFMPlP{}   \\\\villageoisMPlP{}   \\\\DEP{}    \\\\DEFMPlP{}   \\\\loupMPlP{}   \\\\furieuxMPlP{}\\\\end{preview}', u'%\\\\begin{preview}Le chef du village parle aux villageois des loups furieux.\\\\end{preview}', u'\\\\begin{preview}  \\\\DEFFSg{}   \\\\nuitFSg{}  \\\\tomberPstTroisSgSg{}\\\\end{preview}', u'%  \\\\DEFFSgP{}   \\\\nuitFSgP{}  \\\\tomberPstTroisSgSgP{}\\\\end{preview}', u'%\\\\begin{preview}La nuit tombait.\\\\end{preview}', u'\\\\begin{preview}  \\\\DEFMPl{}   \\\\loupMPl{}  \\\\sortirPstTroisPlPl{}   \\\\DE{}    \\\\DEFFSg{}   \\\\foretFSg{}\\\\end{preview}', u'%  \\\\DEFMPlP{}   \\\\loupMPlP{}  \\\\sortirPstTroisPlPlP{}   \\\\DEP{}    \\\\DEFFSgP{}   \\\\foretFSgP{}\\\\end{preview}', u'%\\\\begin{preview}Les loups sortaient de la for\\xeat.\\\\end{preview}', u'\\\\begin{preview}  \\\\DEFMPl{}   \\\\villageoisMPl{}  \\\\prendrePstTroisPlPl{}   \\\\INDFPl{}   \\\\lanceFPl{}\\\\end{preview}', u'%  \\\\DEFMPlP{}   \\\\villageoisMPlP{}  \\\\prendrePstTroisPlPlP{}   \\\\INDFPlP{}   \\\\lanceFPlP{}\\\\end{preview}', u'%\\\\begin{preview}Les villageois prenaient des lances.\\\\end{preview}', u'\\\\begin{preview}  \\\\DEFFPl{}   \\\\villageoiseFPl{}  \\\\protegerPrsTroisPlPl{}   \\\\DEFMPl{}   \\\\enfantMPl{}   \\\\petitMPl{}   \\\\DANS{}    \\\\INDFSg{}   \\\\maisonFSg{}\\\\end{preview}', u'%  \\\\DEFFPlP{}   \\\\villageoiseFPlP{}  \\\\protegerPrsTroisPlPlP{}   \\\\DEFMPlP{}   \\\\enfantMPlP{}   \\\\petitMPlP{}   \\\\DANSP{}    \\\\INDFSgP{}   \\\\maisonFSgP{}\\\\end{preview}', u'%\\\\begin{preview}Les villageoises prot\\xe8gent les petits enfants dans une maison.\\\\end{preview}', u'\\\\begin{preview}  \\\\DEFMPl{}   \\\\loupMPl{}  \\\\envahirPrsTroisPlPl{}   \\\\DEFMSg{}   \\\\villageMSg{}   \\\\petitMSg{}\\\\end{preview}', u'%  \\\\DEFMPlP{}   \\\\loupMPlP{}  \\\\envahirPrsTroisPlPlP{}   \\\\DEFMSgP{}   \\\\villageMSgP{}   \\\\petitMSgP{}\\\\end{preview}', u'%\\\\begin{preview}Les loups envahissent le petit village.\\\\end{preview}', u'\\\\begin{preview}  \\\\INDMSg{}   \\\\loupMSg{}  \\\\planterPrsTroisSgSg{}   \\\\DEFFPl{}   \\\\crocFPl{}   \\\\DANS{}    \\\\DEFMSg{}   \\\\gorgeMSg{}   \\\\DE{}    \\\\INDMSg{}   \\\\hommeMSg{}\\\\end{preview}', u'%  \\\\INDMSgP{}   \\\\loupMSgP{}  \\\\planterPrsTroisSgSgP{}   \\\\DEFFPlP{}   \\\\crocFPlP{}   \\\\DANSP{}    \\\\DEFMSgP{}   \\\\gorgeMSgP{}   \\\\DEP{}    \\\\INDMSgP{}   \\\\hommeMSgP{}\\\\end{preview}', u\"%\\\\begin{preview}Un loup plante les crocs dans la gorge d'un homme.\\\\end{preview}\", u'\\\\begin{preview}  \\\\DEFMPl{}   \\\\hommeMPl{}  \\\\jeterPrsTroisPlPl{}   \\\\INDFPl{}   \\\\lanceFPl{}   \\\\A{}    \\\\DEFMPl{}   \\\\loupMPl{}\\\\end{preview}', u'%  \\\\DEFMPlP{}   \\\\hommeMPlP{}  \\\\jeterPrsTroisPlPlP{}   \\\\INDFPlP{}   \\\\lanceFPlP{}   \\\\AP{}    \\\\DEFMPlP{}   \\\\loupMPlP{}\\\\end{preview}', u'%\\\\begin{preview}Les hommes jettent des lances aux loups.\\\\end{preview}', u'\\\\begin{preview}  \\\\INDFDu{}   \\\\lanceFDu{}  \\\\transpercerPrsTroisDuDu{}   \\\\INDMDu{}   \\\\loupMDu{}\\\\end{preview}', u'%  \\\\INDFDuP{}   \\\\lanceFDuP{}  \\\\transpercerPrsTroisDuDuP{}   \\\\INDMDuP{}   \\\\loupMDuP{}\\\\end{preview}', u'%\\\\begin{preview}Deux lances transpercent deux loups.\\\\end{preview}', u'\\\\begin{preview}  \\\\DEFMSg{}   \\\\chefMSg{}   \\\\DE{}    \\\\DEFMPl{}   \\\\hommeMPl{}  \\\\donnerPrsTroisSgSg{}   \\\\INDMSg{}   \\\\coupMSg{}   \\\\DE{}    \\\\DEFMSg{}   \\\\couteauMSg{}   \\\\A{}    \\\\DEFFSg{}   \\\\louveFSg{}\\\\end{preview}', u'%  \\\\DEFMSgP{}   \\\\chefMSgP{}   \\\\DEP{}    \\\\DEFMPlP{}   \\\\hommeMPlP{}  \\\\donnerPrsTroisSgSgP{}   \\\\INDMSgP{}   \\\\coupMSgP{}   \\\\DEP{}    \\\\DEFMSgP{}   \\\\couteauMSgP{}   \\\\AP{}    \\\\DEFFSgP{}   \\\\louveFSgP{}\\\\end{preview}', u'%\\\\begin{preview}Le chef des hommes donne un coup de couteau \\xe0 la louve.\\\\end{preview}', u'\\\\begin{preview}  \\\\DEFFSg{}   \\\\louveFSg{}   \\\\blesseFSg{}  \\\\sortirPrsTroisSgSg{}   \\\\DE{}    \\\\DEFMSg{}   \\\\combatMSg{}\\\\end{preview}', u'%  \\\\DEFFSgP{}   \\\\louveFSgP{}   \\\\blesseFSgP{}  \\\\sortirPrsTroisSgSgP{}   \\\\DEP{}    \\\\DEFMSgP{}   \\\\combatMSgP{}\\\\end{preview}', u'%\\\\begin{preview}La louve bless\\xe9e sort du combat.\\\\end{preview}', u'\\\\begin{preview}  \\\\DEFMPl{}   \\\\loupMPl{}   \\\\noirMPl{}  \\\\rejoindrePrsTroisPlPl{}   \\\\DEFFSg{}   \\\\louveFSg{}   \\\\grandFSg{}   \\\\DANS{}    \\\\DEFFSg{}   \\\\foretFSg{}\\\\end{preview}', u'%  \\\\DEFMPlP{}   \\\\loupMPlP{}   \\\\noirMPlP{}  \\\\rejoindrePrsTroisPlPlP{}   \\\\DEFFSgP{}   \\\\louveFSgP{}   \\\\grandFSgP{}   \\\\DANSP{}    \\\\DEFFSgP{}   \\\\foretFSgP{}\\\\end{preview}', u'%\\\\begin{preview}Les loups noirs rejoignent la grande louve dans la for\\xeat.\\\\end{preview}', u'\\\\begin{preview}  \\\\DEFFDu{}   \\\\nuitFDu{}   \\\\suivantFDu{}  \\\\passerPstTroisDuDu{}\\\\end{preview}', u'%  \\\\DEFFDuP{}   \\\\nuitFDuP{}   \\\\suivantFDuP{}  \\\\passerPstTroisDuDuP{}\\\\end{preview}', u'%\\\\begin{preview}Les deux nuits suivantes pass\\xe8rent.\\\\end{preview}', u'\\\\begin{preview}  \\\\DEMFPl{}   \\\\nuitFPl{}  \\\\voirPstTroisPlPl{}   \\\\INDMPl{}   \\\\combatMPl{}   \\\\terribleMPl{}\\\\end{preview}', u'%  \\\\DEMFPlP{}   \\\\nuitFPlP{}  \\\\voirPstTroisPlPlP{}   \\\\INDMPlP{}   \\\\combatMPlP{}   \\\\terribleMPlP{}\\\\end{preview}', u'%\\\\begin{preview}Ces nuits virent de terribles combats.\\\\end{preview}', u'\\\\begin{preview}  \\\\DEFMPl{}   \\\\hommeMPl{}  \\\\prendrePrsTroisPlPl{}   \\\\DEFFPl{}   \\\\lanceFPl{}   \\\\DANS{}    \\\\DEFFSg{}   \\\\nuitFSg{}   \\\\suivantFSg{}\\\\end{preview}', u'%  \\\\DEFMPlP{}   \\\\hommeMPlP{}  \\\\prendrePrsTroisPlPlP{}   \\\\DEFFPlP{}   \\\\lanceFPlP{}   \\\\DANSP{}    \\\\DEFFSgP{}   \\\\nuitFSgP{}   \\\\suivantFSgP{}\\\\end{preview}', u'%\\\\begin{preview}Dans la nuit suivante, les hommes prennent les lances.\\\\end{preview}', u'\\\\begin{preview}  \\\\DEFMSg{}   \\\\KalebMSg{}   \\\\courageuxMSg{}  \\\\parlerPrsTroisSgSg{}   \\\\A{}    \\\\DEFMPl{}   \\\\combattantMPl{}\\\\end{preview}', u'%  \\\\DEFMSgP{}   \\\\KalebMSgP{}   \\\\courageuxMSgP{}  \\\\parlerPrsTroisSgSgP{}   \\\\AP{}    \\\\DEFMPlP{}   \\\\combattantMPlP{}\\\\end{preview}', u'%\\\\begin{preview}Le courageux Kaleb parle aux combattants.\\\\end{preview}', u'\\\\begin{preview}  \\\\DEFMPl{}   \\\\hommeMPl{}  \\\\allerPrsTroisPlPl{}   \\\\DANS{}    \\\\DEFFSg{}   \\\\foretFSg{}\\\\end{preview}', u'%  \\\\DEFMPlP{}   \\\\hommeMPlP{}  \\\\allerPrsTroisPlPlP{}   \\\\DANSP{}    \\\\DEFFSgP{}   \\\\foretFSgP{}\\\\end{preview}', u'%\\\\begin{preview}Les hommes vont dans la for\\xeat.\\\\end{preview}', u'\\\\begin{preview}  \\\\DEFFSg{}   \\\\VioletteFSg{}  \\\\chercherPrsTroisSgSg{}   \\\\DEFFSg{}   \\\\MahiraFSg{}   \\\\A{}    \\\\DEFMSg{}   \\\\villageMSg{}\\\\end{preview}', u'%  \\\\DEFFSgP{}   \\\\VioletteFSgP{}  \\\\chercherPrsTroisSgSgP{}   \\\\DEFFSgP{}   \\\\MahiraFSgP{}   \\\\AP{}    \\\\DEFMSgP{}   \\\\villageMSgP{}\\\\end{preview}', u'%\\\\begin{preview}Au village, Violette cherche Mahira.\\\\end{preview}', u'\\\\begin{preview}  \\\\INDMDu{}   \\\\criMDu{}   \\\\DE{}    \\\\DEFMPl{}   \\\\loupMPl{}  \\\\tomberPrsTroisDuDu{}   \\\\SUR{}    \\\\DEFMSg{}   \\\\villageMSg{}\\\\end{preview}', u'%  \\\\INDMDuP{}   \\\\criMDuP{}   \\\\DEP{}    \\\\DEFMPlP{}   \\\\loupMPlP{}  \\\\tomberPrsTroisDuDuP{}   \\\\SURP{}    \\\\DEFMSgP{}   \\\\villageMSgP{}\\\\end{preview}', u'%\\\\begin{preview}Deux cris de loups tombent sur le village.\\\\end{preview}', u'\\\\begin{preview}  \\\\DEFMPl{}   \\\\enfantMPl{}   \\\\effrayeMPl{}  \\\\allerPrsTroisPlPl{}   \\\\DANS{}    \\\\INDFSg{}   \\\\maisonFSg{}   \\\\DE{}    \\\\DEFMSg{}   \\\\villageMSg{}   \\\\AVEC{}    \\\\DEFFPl{}   \\\\villageoiseFPl{}   \\\\courageuxFPl{}\\\\end{preview}', u'%  \\\\DEFMPlP{}   \\\\enfantMPlP{}   \\\\effrayeMPlP{}  \\\\allerPrsTroisPlPlP{}   \\\\DANSP{}    \\\\INDFSgP{}   \\\\maisonFSgP{}   \\\\DEP{}    \\\\DEFMSgP{}   \\\\villageMSgP{}   \\\\AVECP{}    \\\\DEFFPlP{}   \\\\villageoiseFPlP{}   \\\\courageuxFPlP{}\\\\end{preview}', u'%\\\\begin{preview}Les enfants effray\\xe9s vont dans une maison du village avec les courageuses villageoises.\\\\end{preview}', u'\\\\begin{preview}  \\\\DEFMPl{}   \\\\villageoisMPl{}  \\\\fuirPstTroisPlPl{}   \\\\VERS{}    \\\\DEFMSg{}   \\\\villageMSg{}\\\\end{preview}', u'%  \\\\DEFMPlP{}   \\\\villageoisMPlP{}  \\\\fuirPstTroisPlPlP{}   \\\\VERSP{}    \\\\DEFMSgP{}   \\\\villageMSgP{}\\\\end{preview}', u'%\\\\begin{preview}Les villageois fuyaient vers le village.\\\\end{preview}', u'\\\\begin{preview}  \\\\INDFSg{}   \\\\blessureFSg{}  \\\\recouvrirPstTroisSgSg{}   \\\\DEFMSg{}   \\\\visageMSg{}   \\\\DE{}    \\\\INDMSg{}   \\\\combattantMSg{}\\\\end{preview}', u'%  \\\\INDFSgP{}   \\\\blessureFSgP{}  \\\\recouvrirPstTroisSgSgP{}   \\\\DEFMSgP{}   \\\\visageMSgP{}   \\\\DEP{}    \\\\INDMSgP{}   \\\\combattantMSgP{}\\\\end{preview}', u\"%\\\\begin{preview}Une blessure recouvrait le visage d'un combattant.\\\\end{preview}\", u'\\\\begin{preview}  \\\\INDFDu{}   \\\\villageoiseFDu{}  \\\\courirPrsTroisDuDu{}   \\\\VERS{}    \\\\DEMMSg{}   \\\\hommeMSg{}   \\\\blesseMSg{}\\\\end{preview}', u'%  \\\\INDFDuP{}   \\\\villageoiseFDuP{}  \\\\courirPrsTroisDuDuP{}   \\\\VERSP{}    \\\\DEMMSgP{}   \\\\hommeMSgP{}   \\\\blesseMSgP{}\\\\end{preview}', u'%\\\\begin{preview}Deux villageoises courent vers cet homme bless\\xe9.\\\\end{preview}', u'\\\\begin{preview}  \\\\DEFMSg{}   \\\\KalebMSg{}  \\\\rejoindrePrsTroisSgSg{}   \\\\DEFFSg{}   \\\\VioletteFSg{}\\\\end{preview}', u'%  \\\\DEFMSgP{}   \\\\KalebMSgP{}  \\\\rejoindrePrsTroisSgSgP{}   \\\\DEFFSgP{}   \\\\VioletteFSgP{}\\\\end{preview}', u'%\\\\begin{preview}Kaleb rejoint Violette.\\\\end{preview}', u'\\\\begin{preview}  \\\\DEFMPl{}   \\\\villageoisMPl{}  \\\\pousserPrsTroisPlPl{}   \\\\DEFMPl{}   \\\\enfantMPl{}   \\\\DANS{}    \\\\DEFFPl{}   \\\\maisonFPl{}\\\\end{preview}', u'%  \\\\DEFMPlP{}   \\\\villageoisMPlP{}  \\\\pousserPrsTroisPlPlP{}   \\\\DEFMPlP{}   \\\\enfantMPlP{}   \\\\DANSP{}    \\\\DEFFPlP{}   \\\\maisonFPlP{}\\\\end{preview}', u'%\\\\begin{preview}Les villageois poussent les enfants dans les maisons.\\\\end{preview}', u'\\\\begin{preview}  \\\\DEFFPl{}   \\\\nuitFPl{}  \\\\passerPstTroisPlPl{}\\\\end{preview}', u'%  \\\\DEFFPlP{}   \\\\nuitFPlP{}  \\\\passerPstTroisPlPlP{}\\\\end{preview}', u'%\\\\begin{preview}Les nuits passaient.\\\\end{preview}', u'\\\\begin{preview}  \\\\DEFMPl{}   \\\\combatMPl{}   \\\\suivantMPl{}  \\\\apporterPstTroisPlPl{}   \\\\INDFPl{}   \\\\mortFPl{}   \\\\A{}    \\\\DEFMSg{}   \\\\villageMSg{}\\\\end{preview}', u'%  \\\\DEFMPlP{}   \\\\combatMPlP{}   \\\\suivantMPlP{}  \\\\apporterPstTroisPlPlP{}   \\\\INDFPlP{}   \\\\mortFPlP{}   \\\\AP{}    \\\\DEFMSgP{}   \\\\villageMSgP{}\\\\end{preview}', u'%\\\\begin{preview}Les combats suivants apport\\xe8rent des morts au village.\\\\end{preview}', u'\\\\begin{preview}  \\\\DEFMPl{}   \\\\loupMPl{}   \\\\noirMPl{}  \\\\apporterPrsTroisPlPl{}   \\\\INDMDu{}   \\\\corpsMDu{}   \\\\DE{}    \\\\DEFMPl{}   \\\\villageoisMPl{}   \\\\A{}    \\\\DEFFSg{}   \\\\louveFSg{}   \\\\blancFSg{}   \\\\DANS{}    \\\\DEFFSg{}   \\\\foretFSg{}\\\\end{preview}', u'%  \\\\DEFMPlP{}   \\\\loupMPlP{}   \\\\noirMPlP{}  \\\\apporterPrsTroisPlPlP{}   \\\\INDMDuP{}   \\\\corpsMDuP{}   \\\\DEP{}    \\\\DEFMPlP{}   \\\\villageoisMPlP{}   \\\\AP{}    \\\\DEFFSgP{}   \\\\louveFSgP{}   \\\\blancFSgP{}   \\\\DANSP{}    \\\\DEFFSgP{}   \\\\foretFSgP{}\\\\end{preview}', u'%\\\\begin{preview}Les loups noirs apportent deux corps de villageois \\xe0 la louve blanche dans la for\\xeat.\\\\end{preview}', u'\\\\begin{preview}  \\\\DEFFSg{}   \\\\louveFSg{}   \\\\grandFSg{}  \\\\apporterPrsTroisSgSg{}   \\\\DEMMDu{}   \\\\corpsMDu{}   \\\\A{}    \\\\DEFMSg{}   \\\\demonMSg{}\\\\end{preview}', u'%  \\\\DEFFSgP{}   \\\\louveFSgP{}   \\\\grandFSgP{}  \\\\apporterPrsTroisSgSgP{}   \\\\DEMMDuP{}   \\\\corpsMDuP{}   \\\\AP{}    \\\\DEFMSgP{}   \\\\demonMSgP{}\\\\end{preview}', u'%\\\\begin{preview}La grande louve apporte ces deux corps au d\\xe9mon.\\\\end{preview}', u'\\\\begin{preview}  \\\\DEFMSg{}   \\\\demonMSg{}  \\\\jeterPrsTroisSgSg{}   \\\\INDMSg{}   \\\\sortMSg{}   \\\\A{}    \\\\DEFFPl{}   \\\\mortFPl{}\\\\end{preview}', u'%  \\\\DEFMSgP{}   \\\\demonMSgP{}  \\\\jeterPrsTroisSgSgP{}   \\\\INDMSgP{}   \\\\sortMSgP{}   \\\\AP{}    \\\\DEFFPlP{}   \\\\mortFPlP{}\\\\end{preview}', u'%\\\\begin{preview}Le d\\xe9mon jette un sort aux morts.\\\\end{preview}', u'\\\\begin{preview}  \\\\DEFMSg{}   \\\\sortMSg{}  \\\\donnerPrsTroisSgSg{}   \\\\INDFSg{}   \\\\lueurFSg{}   \\\\rougeFSg{}   \\\\A{}    \\\\DEFMDu{}   \\\\villageoisMDu{}\\\\end{preview}', u'%  \\\\DEFMSgP{}   \\\\sortMSgP{}  \\\\donnerPrsTroisSgSgP{}   \\\\INDFSgP{}   \\\\lueurFSgP{}   \\\\rougeFSgP{}   \\\\AP{}    \\\\DEFMDuP{}   \\\\villageoisMDuP{}\\\\end{preview}', u'%\\\\begin{preview}Le sort donne une lueur rouge aux deux villageois.\\\\end{preview}', u'\\\\begin{preview}  \\\\DEFMDu{}   \\\\corpsMDu{}  \\\\disparaitrePrsTroisDuDu{}\\\\end{preview}', u'%  \\\\DEFMDuP{}   \\\\corpsMDuP{}  \\\\disparaitrePrsTroisDuDuP{}\\\\end{preview}', u'%\\\\begin{preview}Les deux corps disparaissent.\\\\end{preview}', u'\\\\begin{preview}  \\\\DEFMSg{}   \\\\demonMSg{}  \\\\parlerPstTroisSgSg{}   \\\\A{}    \\\\DEFFSg{}   \\\\MahiraFSg{}\\\\end{preview}', u'%  \\\\DEFMSgP{}   \\\\demonMSgP{}  \\\\parlerPstTroisSgSgP{}   \\\\AP{}    \\\\DEFFSgP{}   \\\\MahiraFSgP{}\\\\end{preview}', u'%\\\\begin{preview}Le d\\xe9mon parla \\xe0 Mahira.\\\\end{preview}', u'\\\\begin{preview}  \\\\DEFMSg{}   \\\\sortMSg{}  \\\\chercherPrsTroisSgSg{}   \\\\INDMSg{}   \\\\corpsMSg{}   \\\\differentMSg{}\\\\end{preview}', u'%  \\\\DEFMSgP{}   \\\\sortMSgP{}  \\\\chercherPrsTroisSgSgP{}   \\\\INDMSgP{}   \\\\corpsMSgP{}   \\\\differentMSgP{}\\\\end{preview}', u'%\\\\begin{preview}Le sort cherche un corps diff\\xe9rent.\\\\end{preview}', u'\\\\begin{preview}  \\\\DEFMSg{}   \\\\demonMSg{}  \\\\donnerPrsTroisSgSg{}   \\\\INDFSg{}   \\\\colereFSg{}   \\\\grandFSg{}   \\\\A{}    \\\\DEFMSg{}   \\\\chefMSg{}   \\\\DE{}    \\\\DEFMPl{}   \\\\loupMPl{}\\\\end{preview}', u'%  \\\\DEFMSgP{}   \\\\demonMSgP{}  \\\\donnerPrsTroisSgSgP{}   \\\\INDFSgP{}   \\\\colereFSgP{}   \\\\grandFSgP{}   \\\\AP{}    \\\\DEFMSgP{}   \\\\chefMSgP{}   \\\\DEP{}    \\\\DEFMPlP{}   \\\\loupMPlP{}\\\\end{preview}', u'%\\\\begin{preview}Le d\\xe9mon donne une grande col\\xe8re \\xe0 la cheffe des loups.\\\\end{preview}', u'\\\\begin{preview}  \\\\DEFFSg{}   \\\\nuitFSg{}  \\\\approcherPstTroisSgSg{}\\\\end{preview}', u'%  \\\\DEFFSgP{}   \\\\nuitFSgP{}  \\\\approcherPstTroisSgSgP{}\\\\end{preview}', u'%\\\\begin{preview}La nuit approchait.\\\\end{preview}', u'\\\\begin{preview}  \\\\DEFMPl{}   \\\\combattantMPl{}   \\\\courageuxMPl{}  \\\\allerPstTroisPlPl{}   \\\\VERS{}    \\\\DEFFSg{}   \\\\foretFSg{}   \\\\DE{}    \\\\DEFMPl{}   \\\\loupMPl{}\\\\end{preview}', u'%  \\\\DEFMPlP{}   \\\\combattantMPlP{}   \\\\courageuxMPlP{}  \\\\allerPstTroisPlPlP{}   \\\\VERSP{}    \\\\DEFFSgP{}   \\\\foretFSgP{}   \\\\DEP{}    \\\\DEFMPlP{}   \\\\loupMPlP{}\\\\end{preview}', u'%\\\\begin{preview}Les combattants courageux allaient vers la for\\xeat des loups.\\\\end{preview}', u'\\\\begin{preview}  \\\\DEFMPl{}   \\\\enfantMPl{}  \\\\rejoindrePstTroisPlPl{}   \\\\DEFFSg{}   \\\\maisonFSg{}   \\\\grandFSg{}   \\\\AVEC{}    \\\\DEFFPl{}   \\\\villageoiseFPl{}\\\\end{preview}', u'%  \\\\DEFMPlP{}   \\\\enfantMPlP{}  \\\\rejoindrePstTroisPlPlP{}   \\\\DEFFSgP{}   \\\\maisonFSgP{}   \\\\grandFSgP{}   \\\\AVECP{}    \\\\DEFFPlP{}   \\\\villageoiseFPlP{}\\\\end{preview}', u'%\\\\begin{preview}Les enfants rejoignaient la grande maison avec les villageoises.\\\\end{preview}', u'\\\\begin{preview}  \\\\DEFFSg{}   \\\\VioletteFSg{}  \\\\parlerPstTroisSgSg{}   \\\\A{}    \\\\INDMPl{}   \\\\enfantMPl{}   \\\\petitMPl{}   \\\\DEVANT{}    \\\\DEFFSg{}   \\\\maisonFSg{}\\\\end{preview}', u'%  \\\\DEFFSgP{}   \\\\VioletteFSgP{}  \\\\parlerPstTroisSgSgP{}   \\\\AP{}    \\\\INDMPlP{}   \\\\enfantMPlP{}   \\\\petitMPlP{}   \\\\DEVANTP{}    \\\\DEFFSgP{}   \\\\maisonFSgP{}\\\\end{preview}', u'%\\\\begin{preview}Devant la maison, Violette parlait \\xe0 des petits enfants.\\\\end{preview}', u'\\\\begin{preview}  \\\\DEFFSg{}   \\\\filleFSg{}   \\\\petitFSg{}  \\\\voirPrsTroisSgSg{}   \\\\INDFSg{}   \\\\ombreFSg{}   \\\\ENTRE{}    \\\\DEFMPl{}   \\\\arbreMPl{}\\\\end{preview}', u'%  \\\\DEFFSgP{}   \\\\filleFSgP{}   \\\\petitFSgP{}  \\\\voirPrsTroisSgSgP{}   \\\\INDFSgP{}   \\\\ombreFSgP{}   \\\\ENTREP{}    \\\\DEFMPlP{}   \\\\arbreMPlP{}\\\\end{preview}', u'%\\\\begin{preview}La petite fille voit une ombre entre les arbres.\\\\end{preview}', u'\\\\begin{preview}  \\\\DEFFSg{}   \\\\MahiraFSg{}  \\\\disparaitrePstTroisSgSg{}   \\\\DANS{}    \\\\DEFFSg{}   \\\\foretFSg{}   \\\\profondFSg{}\\\\end{preview}', u'%  \\\\DEFFSgP{}   \\\\MahiraFSgP{}  \\\\disparaitrePstTroisSgSgP{}   \\\\DANSP{}    \\\\DEFFSgP{}   \\\\foretFSgP{}   \\\\profondFSgP{}\\\\end{preview}', u'%\\\\begin{preview}Mahira disparaissait dans la for\\xeat profonde.\\\\end{preview}', u'\\\\begin{preview}  \\\\DEFFSg{}   \\\\VioletteFSg{}  \\\\courirPrsTroisSgSg{}   \\\\VERS{}    \\\\DEFFSg{}   \\\\MahiraFSg{}\\\\end{preview}', u'%  \\\\DEFFSgP{}   \\\\VioletteFSgP{}  \\\\courirPrsTroisSgSgP{}   \\\\VERSP{}    \\\\DEFFSgP{}   \\\\MahiraFSgP{}\\\\end{preview}', u'%\\\\begin{preview}Violette court vers Mahira.\\\\end{preview}', u'\\\\begin{preview}  \\\\INDMDu{}   \\\\enfantMDu{}  \\\\rejoindrePrsTroisDuDu{}   \\\\DEFFSg{}   \\\\VioletteFSg{}   \\\\VERS{}    \\\\DEFFSg{}   \\\\foretFSg{}\\\\end{preview}', u'%  \\\\INDMDuP{}   \\\\enfantMDuP{}  \\\\rejoindrePrsTroisDuDuP{}   \\\\DEFFSgP{}   \\\\VioletteFSgP{}   \\\\VERSP{}    \\\\DEFFSgP{}   \\\\foretFSgP{}\\\\end{preview}', u'%\\\\begin{preview}Deux enfants rejoignent Violette vers la for\\xeat.\\\\end{preview}', u'\\\\begin{preview}  \\\\INDFSg{}   \\\\villageoiseFSg{}   \\\\effrayeFSg{}  \\\\pousserPrsTroisSgSg{}   \\\\INDMSg{}   \\\\criMSg{}\\\\end{preview}', u'%  \\\\INDFSgP{}   \\\\villageoiseFSgP{}   \\\\effrayeFSgP{}  \\\\pousserPrsTroisSgSgP{}   \\\\INDMSgP{}   \\\\criMSgP{}\\\\end{preview}', u'%\\\\begin{preview}Une villageoise effray\\xe9e pousse un cri.\\\\end{preview}', u'\\\\begin{preview}  \\\\DEFFSg{}   \\\\VioletteFSg{}  \\\\fuirPrsTroisSgSg{}\\\\end{preview}', u'%  \\\\DEFFSgP{}   \\\\VioletteFSgP{}  \\\\fuirPrsTroisSgSgP{}\\\\end{preview}', u'%\\\\begin{preview}Violette fuit.\\\\end{preview}', u'\\\\begin{preview}  \\\\DEMFSg{}   \\\\villageoiseFSg{}  \\\\prendrePrsTroisSgSg{}   \\\\DEFFSg{}   \\\\mainFSg{}   \\\\A{}    \\\\DEFFDu{}   \\\\enfantFDu{}   \\\\petitFDu{}\\\\end{preview}', u'%  \\\\DEMFSgP{}   \\\\villageoiseFSgP{}  \\\\prendrePrsTroisSgSgP{}   \\\\DEFFSgP{}   \\\\mainFSgP{}   \\\\AP{}    \\\\DEFFDuP{}   \\\\enfantFDuP{}   \\\\petitFDuP{}\\\\end{preview}', u'%\\\\begin{preview}Cette villageoise prend la main aux deux petits enfants.\\\\end{preview}', u'\\\\begin{preview}  \\\\DEFFSg{}   \\\\villageoiseFSg{}  \\\\allerPrsTroisSgSg{}   \\\\DANS{}    \\\\DEFFSg{}   \\\\maisonFSg{}   \\\\AVEC{}    \\\\DEFMSg{}   \\\\enfantMSg{}\\\\end{preview}', u'%  \\\\DEFFSgP{}   \\\\villageoiseFSgP{}  \\\\allerPrsTroisSgSgP{}   \\\\DANSP{}    \\\\DEFFSgP{}   \\\\maisonFSgP{}   \\\\AVECP{}    \\\\DEFMSgP{}   \\\\enfantMSgP{}\\\\end{preview}', u\"%\\\\begin{preview}La villageoise va dans la maison avec l'enfant.\\\\end{preview}\", u'\\\\begin{preview}  \\\\DEFFSg{}   \\\\VioletteFSg{}  \\\\chercherPstTroisSgSg{}   \\\\DEFFSg{}   \\\\MahiraFSg{}   \\\\DANS{}    \\\\DEFFSg{}   \\\\foretFSg{}\\\\end{preview}', u'%  \\\\DEFFSgP{}   \\\\VioletteFSgP{}  \\\\chercherPstTroisSgSgP{}   \\\\DEFFSgP{}   \\\\MahiraFSgP{}   \\\\DANSP{}    \\\\DEFFSgP{}   \\\\foretFSgP{}\\\\end{preview}', u'%\\\\begin{preview}Violette cherchait Mahira dans la for\\xeat.\\\\end{preview}', u'\\\\begin{preview}  \\\\INDMDu{}   \\\\loupMDu{}   \\\\noirMDu{}  \\\\approcherPstTroisDuDu{}\\\\end{preview}', u'%  \\\\INDMDuP{}   \\\\loupMDuP{}   \\\\noirMDuP{}  \\\\approcherPstTroisDuDuP{}\\\\end{preview}', u'%\\\\begin{preview}Deux loups noirs approchaient.\\\\end{preview}', u'\\\\begin{preview}  \\\\DEFFSg{}   \\\\VioletteFSg{}  \\\\voirPrsTroisSgSg{}   \\\\DEMMDu{}   \\\\loupMDu{}   \\\\DANS{}    \\\\DEFFSg{}   \\\\nuitFSg{}   \\\\noirFSg{}\\\\end{preview}', u'%  \\\\DEFFSgP{}   \\\\VioletteFSgP{}  \\\\voirPrsTroisSgSgP{}   \\\\DEMMDuP{}   \\\\loupMDuP{}   \\\\DANSP{}    \\\\DEFFSgP{}   \\\\nuitFSgP{}   \\\\noirFSgP{}\\\\end{preview}', u'%\\\\begin{preview}Violette voit ces deux loups dans la nuit noire.\\\\end{preview}', u'\\\\begin{preview}  \\\\DEFFSg{}   \\\\filleFSg{}   \\\\petitFSg{}  \\\\fuirPrsTroisSgSg{}   \\\\VERS{}    \\\\DEFFPl{}   \\\\lueurFPl{}   \\\\DE{}    \\\\DEFMSg{}   \\\\villageMSg{}\\\\end{preview}', u'%  \\\\DEFFSgP{}   \\\\filleFSgP{}   \\\\petitFSgP{}  \\\\fuirPrsTroisSgSgP{}   \\\\VERSP{}    \\\\DEFFPlP{}   \\\\lueurFPlP{}   \\\\DEP{}    \\\\DEFMSgP{}   \\\\villageMSgP{}\\\\end{preview}', u'%\\\\begin{preview}La petite fille fuit vers les lueurs du village.\\\\end{preview}', u'\\\\begin{preview}  \\\\DEFMDu{}   \\\\loupMDu{}   \\\\terribleMDu{}  \\\\chasserPrsTroisDuDu{}   \\\\DEFFSg{}   \\\\VioletteFSg{}\\\\end{preview}', u'%  \\\\DEFMDuP{}   \\\\loupMDuP{}   \\\\terribleMDuP{}  \\\\chasserPrsTroisDuDuP{}   \\\\DEFFSgP{}   \\\\VioletteFSgP{}\\\\end{preview}', u'%\\\\begin{preview}Les deux terribles loups chassent Violette.\\\\end{preview}', u'\\\\begin{preview}  \\\\DEFMSg{}   \\\\loupMSg{}   \\\\petitMSg{}  \\\\planterPrsTroisSgSg{}   \\\\INDFPl{}   \\\\crocFPl{}   \\\\DANS{}    \\\\DEFFSg{}   \\\\filleFSg{}\\\\end{preview}', u'%  \\\\DEFMSgP{}   \\\\loupMSgP{}   \\\\petitMSgP{}  \\\\planterPrsTroisSgSgP{}   \\\\INDFPlP{}   \\\\crocFPlP{}   \\\\DANSP{}    \\\\DEFFSgP{}   \\\\filleFSgP{}\\\\end{preview}', u'%\\\\begin{preview}Le petit loup plante des crocs dans la fille.\\\\end{preview}', u'\\\\begin{preview}  \\\\DEFMSg{}   \\\\loupMSg{}   \\\\suivantMSg{}  \\\\approcherPrsTroisSgSg{}\\\\end{preview}', u'%  \\\\DEFMSgP{}   \\\\loupMSgP{}   \\\\suivantMSgP{}  \\\\approcherPrsTroisSgSgP{}\\\\end{preview}', u'%\\\\begin{preview}Le loup suivant approche.\\\\end{preview}', u'\\\\begin{preview}  \\\\DEFFSg{}   \\\\louveFSg{}   \\\\blancFSg{}  \\\\sortirPrsTroisSgSg{}   \\\\DE{}    \\\\DEFMSg{}   \\\\milieuMSg{}   \\\\DE{}    \\\\DEFMDu{}   \\\\arbreMDu{}\\\\end{preview}', u'%  \\\\DEFFSgP{}   \\\\louveFSgP{}   \\\\blancFSgP{}  \\\\sortirPrsTroisSgSgP{}   \\\\DEP{}    \\\\DEFMSgP{}   \\\\milieuMSgP{}   \\\\DEP{}    \\\\DEFMDuP{}   \\\\arbreMDuP{}\\\\end{preview}', u'%\\\\begin{preview}La louve blanche sort du milieu des deux arbres.\\\\end{preview}', u'\\\\begin{preview}  \\\\DEFMSg{}   \\\\chefMSg{}   \\\\DE{}    \\\\DEFMPl{}   \\\\loupMPl{}  \\\\protegerPrsTroisSgSg{}   \\\\DEFFSg{}   \\\\filleFSg{}   \\\\petitFSg{}   \\\\blesseFSg{}\\\\end{preview}', u'%  \\\\DEFMSgP{}   \\\\chefMSgP{}   \\\\DEP{}    \\\\DEFMPlP{}   \\\\loupMPlP{}  \\\\protegerPrsTroisSgSgP{}   \\\\DEFFSgP{}   \\\\filleFSgP{}   \\\\petitFSgP{}   \\\\blesseFSgP{}\\\\end{preview}', u'%\\\\begin{preview}La cheffe des loups prot\\xe8ge la petite fille bless\\xe9e.\\\\end{preview}', u'\\\\begin{preview}  \\\\DEFMSg{}   \\\\loupMSg{}   \\\\petitMSg{}   \\\\noirMSg{}  \\\\approcherPrsTroisSgSg{}   \\\\DE{}    \\\\DEFFSg{}   \\\\louveFSg{}\\\\end{preview}', u'%  \\\\DEFMSgP{}   \\\\loupMSgP{}   \\\\petitMSgP{}   \\\\noirMSgP{}  \\\\approcherPrsTroisSgSgP{}   \\\\DEP{}    \\\\DEFFSgP{}   \\\\louveFSgP{}\\\\end{preview}', u'%\\\\begin{preview}Le petit loup noir approche de la louve.\\\\end{preview}', u'\\\\begin{preview}  \\\\DEFMSg{}   \\\\loupMSg{}   \\\\petitMSg{}  \\\\sauterPrsTroisSgSg{}   \\\\SUR{}    \\\\DEFMSg{}   \\\\chefMSg{}   \\\\DE{}    \\\\DEFMPl{}   \\\\loupMPl{}\\\\end{preview}', u'%  \\\\DEFMSgP{}   \\\\loupMSgP{}   \\\\petitMSgP{}  \\\\sauterPrsTroisSgSgP{}   \\\\SURP{}    \\\\DEFMSgP{}   \\\\chefMSgP{}   \\\\DEP{}    \\\\DEFMPlP{}   \\\\loupMPlP{}\\\\end{preview}', u'%\\\\begin{preview}Le petit loup saute sur la cheffe des loups.\\\\end{preview}', u'\\\\begin{preview}  \\\\DEFFSg{}   \\\\louveFSg{}  \\\\sauterPrsTroisSgSg{}   \\\\VERS{}    \\\\DEMMSg{}   \\\\combattantMSg{}\\\\end{preview}', u'%  \\\\DEFFSgP{}   \\\\louveFSgP{}  \\\\sauterPrsTroisSgSgP{}   \\\\VERSP{}    \\\\DEMMSgP{}   \\\\combattantMSgP{}\\\\end{preview}', u'%\\\\begin{preview}La louve saute vers ce combattant.\\\\end{preview}', u'\\\\begin{preview}  \\\\DEFFPl{}   \\\\crocFPl{}   \\\\DE{}    \\\\DEFMSg{}   \\\\chefMSg{}  \\\\transpercerPrsTroisPlPl{}   \\\\DEFMSg{}   \\\\gorgeMSg{}   \\\\DE{}    \\\\DEMMSg{}   \\\\loupMSg{}   \\\\petitMSg{}\\\\end{preview}', u'%  \\\\DEFFPlP{}   \\\\crocFPlP{}   \\\\DEP{}    \\\\DEFMSgP{}   \\\\chefMSgP{}  \\\\transpercerPrsTroisPlPlP{}   \\\\DEFMSgP{}   \\\\gorgeMSgP{}   \\\\DEP{}    \\\\DEMMSgP{}   \\\\loupMSgP{}   \\\\petitMSgP{}\\\\end{preview}', u'%\\\\begin{preview}Les crocs de la cheffe transpercent la gorge de ce petit loup.\\\\end{preview}', u'\\\\begin{preview}  \\\\DEFMSg{}   \\\\corpsMSg{}   \\\\DE{}    \\\\DEFMSg{}   \\\\loupMSg{}  \\\\tomberPrsTroisSgSg{}\\\\end{preview}', u'%  \\\\DEFMSgP{}   \\\\corpsMSgP{}   \\\\DEP{}    \\\\DEFMSgP{}   \\\\loupMSgP{}  \\\\tomberPrsTroisSgSgP{}\\\\end{preview}', u'%\\\\begin{preview}Le corps du loup tombe.\\\\end{preview}', u'\\\\begin{preview}  \\\\DEFFSg{}   \\\\louveFSg{}   \\\\grandFSg{}  \\\\prendrePrsTroisSgSg{}   \\\\DEFFSg{}   \\\\VioletteFSg{}   \\\\ENTRE{}    \\\\DEFFPl{}   \\\\crocFPl{}\\\\end{preview}', u'%  \\\\DEFFSgP{}   \\\\louveFSgP{}   \\\\grandFSgP{}  \\\\prendrePrsTroisSgSgP{}   \\\\DEFFSgP{}   \\\\VioletteFSgP{}   \\\\ENTREP{}    \\\\DEFFPlP{}   \\\\crocFPlP{}\\\\end{preview}', u'%\\\\begin{preview}La grande louve prend Violette entre les crocs.\\\\end{preview}', u'\\\\begin{preview}  \\\\DEFFSg{}   \\\\louveFSg{}  \\\\fuirPrsTroisSgSg{}   \\\\AVEC{}    \\\\DEMFSg{}   \\\\filleFSg{}   \\\\petitFSg{}   \\\\ENTRE{}    \\\\DEFFPl{}   \\\\crocFPl{}\\\\end{preview}', u'%  \\\\DEFFSgP{}   \\\\louveFSgP{}  \\\\fuirPrsTroisSgSgP{}   \\\\AVECP{}    \\\\DEMFSgP{}   \\\\filleFSgP{}   \\\\petitFSgP{}   \\\\ENTREP{}    \\\\DEFFPlP{}   \\\\crocFPlP{}\\\\end{preview}', u'%\\\\begin{preview}La louve fuit avec cette petite fille entre les crocs.\\\\end{preview}', u'\\\\begin{preview}  \\\\DEFMSg{}   \\\\loupMSg{}   \\\\noirMSg{}   \\\\suivantMSg{}  \\\\courirPrsTroisSgSg{}   \\\\APRES{}    \\\\DEFFSg{}   \\\\louveFSg{}\\\\end{preview}', u'%  \\\\DEFMSgP{}   \\\\loupMSgP{}   \\\\noirMSgP{}   \\\\suivantMSgP{}  \\\\courirPrsTroisSgSgP{}   \\\\APRESP{}    \\\\DEFFSgP{}   \\\\louveFSgP{}\\\\end{preview}', u'%\\\\begin{preview}Le loup noir suivant court apr\\xe8s la louve.\\\\end{preview}', u'\\\\begin{preview}  \\\\DEFFSg{}   \\\\VioletteFSg{}   \\\\petitFSg{}  \\\\pousserPrsTroisSgSg{}   \\\\INDMPl{}   \\\\criMPl{}   \\\\terribleMPl{}   \\\\DANS{}    \\\\DEFFSg{}   \\\\nuitFSg{}   \\\\noirFSg{}\\\\end{preview}', u'%  \\\\DEFFSgP{}   \\\\VioletteFSgP{}   \\\\petitFSgP{}  \\\\pousserPrsTroisSgSgP{}   \\\\INDMPlP{}   \\\\criMPlP{}   \\\\terribleMPlP{}   \\\\DANSP{}    \\\\DEFFSgP{}   \\\\nuitFSgP{}   \\\\noirFSgP{}\\\\end{preview}', u'%\\\\begin{preview}La petite Violette pousse de terribles cris dans la nuit noire.\\\\end{preview}', u'\\\\begin{preview}  \\\\DEFMSg{}   \\\\KalebMSg{}  \\\\courirPrsTroisSgSg{}   \\\\VERS{}    \\\\DEMMSg{}   \\\\criMSg{}   \\\\AVEC{}    \\\\INDMSg{}   \\\\combattantMSg{}   \\\\DE{}    \\\\DEFMSg{}   \\\\villageMSg{}\\\\end{preview}', u'%  \\\\DEFMSgP{}   \\\\KalebMSgP{}  \\\\courirPrsTroisSgSgP{}   \\\\VERSP{}    \\\\DEMMSgP{}   \\\\criMSgP{}   \\\\AVECP{}    \\\\INDMSgP{}   \\\\combattantMSgP{}   \\\\DEP{}    \\\\DEFMSgP{}   \\\\villageMSgP{}\\\\end{preview}', u'%\\\\begin{preview}Kaleb court vers ce cri avec un combattant du village.\\\\end{preview}', u'\\\\begin{preview}  \\\\DEFMSg{}   \\\\KalebMSg{}  \\\\voirPrsTroisSgSg{}   \\\\INDFSg{}   \\\\louveFSg{}   \\\\AVEC{}    \\\\INDFSg{}   \\\\filleFSg{}   \\\\ENTRE{}    \\\\DEFFPl{}   \\\\crocFPl{}\\\\end{preview}', u'%  \\\\DEFMSgP{}   \\\\KalebMSgP{}  \\\\voirPrsTroisSgSgP{}   \\\\INDFSgP{}   \\\\louveFSgP{}   \\\\AVECP{}    \\\\INDFSgP{}   \\\\filleFSgP{}   \\\\ENTREP{}    \\\\DEFFPlP{}   \\\\crocFPlP{}\\\\end{preview}', u'%\\\\begin{preview}Kaleb voit une louve avec une fille entre les crocs.\\\\end{preview}', u'\\\\begin{preview}  \\\\DEFMSg{}   \\\\loupMSg{}   \\\\noirMSg{}  \\\\allerPrsTroisSgSg{}   \\\\VERS{}    \\\\DEFMDu{}   \\\\combattantMDu{}   \\\\courageuxMDu{}\\\\end{preview}', u'%  \\\\DEFMSgP{}   \\\\loupMSgP{}   \\\\noirMSgP{}  \\\\allerPrsTroisSgSgP{}   \\\\VERSP{}    \\\\DEFMDuP{}   \\\\combattantMDuP{}   \\\\courageuxMDuP{}\\\\end{preview}', u'%\\\\begin{preview}Le loup noir va vers les deux courageux combattants.\\\\end{preview}', u'\\\\begin{preview}  \\\\DEFMSg{}   \\\\villageoisMSg{}  \\\\jeterPrsTroisSgSg{}   \\\\INDFSg{}   \\\\lanceFSg{}   \\\\A{}    \\\\DEFMDu{}   \\\\loupMDu{}\\\\end{preview}', u'%  \\\\DEFMSgP{}   \\\\villageoisMSgP{}  \\\\jeterPrsTroisSgSgP{}   \\\\INDFSgP{}   \\\\lanceFSgP{}   \\\\AP{}    \\\\DEFMDuP{}   \\\\loupMDuP{}\\\\end{preview}', u'%\\\\begin{preview}Le villageois jette une lance aux deux loups.\\\\end{preview}', u'\\\\begin{preview}  \\\\DEFFSg{}   \\\\lanceFSg{}  \\\\transpercerPrsTroisSgSg{}   \\\\INDMSg{}   \\\\arbreMSg{}\\\\end{preview}', u'%  \\\\DEFFSgP{}   \\\\lanceFSgP{}  \\\\transpercerPrsTroisSgSgP{}   \\\\INDMSgP{}   \\\\arbreMSgP{}\\\\end{preview}', u'%\\\\begin{preview}La lance transperce un arbre.\\\\end{preview}', u'\\\\begin{preview}  \\\\DEFFSg{}   \\\\louveFSg{}  \\\\jeterPrsTroisSgSg{}   \\\\DEFFSg{}   \\\\VioletteFSg{}\\\\end{preview}', u'%  \\\\DEFFSgP{}   \\\\louveFSgP{}  \\\\jeterPrsTroisSgSgP{}   \\\\DEFFSgP{}   \\\\VioletteFSgP{}\\\\end{preview}', u'%\\\\begin{preview}La louve jette Violette.\\\\end{preview}', u'\\\\begin{preview}  \\\\DEFFSg{}   \\\\VioletteFSg{}  \\\\tomberPrsTroisSgSg{}   \\\\SUR{}    \\\\INDMSg{}   \\\\arbreMSg{}\\\\end{preview}', u'%  \\\\DEFFSgP{}   \\\\VioletteFSgP{}  \\\\tomberPrsTroisSgSgP{}   \\\\SURP{}    \\\\INDMSgP{}   \\\\arbreMSgP{}\\\\end{preview}', u'%\\\\begin{preview}Violette tombe sur un arbre.\\\\end{preview}', u'\\\\begin{preview}  \\\\DEFMSg{}   \\\\chefMSg{}   \\\\DE{}    \\\\DEFMSg{}   \\\\villageMSg{}  \\\\prendrePrsTroisSgSg{}   \\\\INDFSg{}   \\\\lanceFSg{}\\\\end{preview}', u'%  \\\\DEFMSgP{}   \\\\chefMSgP{}   \\\\DEP{}    \\\\DEFMSgP{}   \\\\villageMSgP{}  \\\\prendrePrsTroisSgSgP{}   \\\\INDFSgP{}   \\\\lanceFSgP{}\\\\end{preview}', u'%\\\\begin{preview}Le chef du village prend une lance.\\\\end{preview}', u'\\\\begin{preview}  \\\\DEFMSg{}   \\\\KalebMSg{}  \\\\jeterPrsTroisSgSg{}   \\\\DEMFSg{}   \\\\lanceFSg{}   \\\\VERS{}    \\\\DEFFSg{}   \\\\louveFSg{}\\\\end{preview}', u'%  \\\\DEFMSgP{}   \\\\KalebMSgP{}  \\\\jeterPrsTroisSgSgP{}   \\\\DEMFSgP{}   \\\\lanceFSgP{}   \\\\VERSP{}    \\\\DEFFSgP{}   \\\\louveFSgP{}\\\\end{preview}', u'%\\\\begin{preview}Kaleb jette cette lance vers la louve.\\\\end{preview}', u'\\\\begin{preview}  \\\\DEMFSg{}   \\\\lanceFSg{}  \\\\transpercerPrsTroisSgSg{}   \\\\DEFMSg{}   \\\\corpsMSg{}   \\\\blancMSg{}   \\\\DE{}    \\\\DEFFSg{}   \\\\louveFSg{}\\\\end{preview}', u'%  \\\\DEMFSgP{}   \\\\lanceFSgP{}  \\\\transpercerPrsTroisSgSgP{}   \\\\DEFMSgP{}   \\\\corpsMSgP{}   \\\\blancMSgP{}   \\\\DEP{}    \\\\DEFFSgP{}   \\\\louveFSgP{}\\\\end{preview}', u'%\\\\begin{preview}Cette lance transperce le corps blanc de la louve.\\\\end{preview}', u'\\\\begin{preview}  \\\\DEFMSg{}   \\\\loupMSg{}   \\\\noirMSg{}  \\\\sauterPrsTroisSgSg{}   \\\\SUR{}    \\\\DEFMSg{}   \\\\combattantMSg{}\\\\end{preview}', u'%  \\\\DEFMSgP{}   \\\\loupMSgP{}   \\\\noirMSgP{}  \\\\sauterPrsTroisSgSgP{}   \\\\SURP{}    \\\\DEFMSgP{}   \\\\combattantMSgP{}\\\\end{preview}', u'%\\\\begin{preview}Le loup noir saute sur le combattant.\\\\end{preview}', u'\\\\begin{preview}  \\\\DEFMSg{}   \\\\combattantMSg{}  \\\\tomberPrsTroisSgSg{}   \\\\AVEC{}    \\\\DEFMSg{}   \\\\loupMSg{}\\\\end{preview}', u'%  \\\\DEFMSgP{}   \\\\combattantMSgP{}  \\\\tomberPrsTroisSgSgP{}   \\\\AVECP{}    \\\\DEFMSgP{}   \\\\loupMSgP{}\\\\end{preview}', u'%\\\\begin{preview}Le combattant tombe avec le loup.\\\\end{preview}', u'\\\\begin{preview}  \\\\DEFMSg{}   \\\\hommeMSg{}  \\\\planterPrsTroisSgSg{}   \\\\INDMSg{}   \\\\couteauMSg{}   \\\\DANS{}    \\\\DEFMSg{}   \\\\corpsMSg{}   \\\\DE{}    \\\\DEFMSg{}   \\\\loupMSg{}\\\\end{preview}', u'%  \\\\DEFMSgP{}   \\\\hommeMSgP{}  \\\\planterPrsTroisSgSgP{}   \\\\INDMSgP{}   \\\\couteauMSgP{}   \\\\DANSP{}    \\\\DEFMSgP{}   \\\\corpsMSgP{}   \\\\DEP{}    \\\\DEFMSgP{}   \\\\loupMSgP{}\\\\end{preview}', u\"%\\\\begin{preview}L'homme plante un couteau dans le corps du loup.\\\\end{preview}\", u'\\\\begin{preview}  \\\\DEFMSg{}   \\\\loupMSg{}   \\\\noirMSg{}  \\\\planterPrsTroisSgSg{}   \\\\DEFFPl{}   \\\\crocFPl{}   \\\\DANS{}    \\\\DEFMSg{}   \\\\gorgeMSg{}   \\\\DE{}    \\\\DEMMSg{}   \\\\hommeMSg{}\\\\end{preview}', u'%  \\\\DEFMSgP{}   \\\\loupMSgP{}   \\\\noirMSgP{}  \\\\planterPrsTroisSgSgP{}   \\\\DEFFPlP{}   \\\\crocFPlP{}   \\\\DANSP{}    \\\\DEFMSgP{}   \\\\gorgeMSgP{}   \\\\DEP{}    \\\\DEMMSgP{}   \\\\hommeMSgP{}\\\\end{preview}', u'%\\\\begin{preview}Le loup noir plante les crocs dans la gorge de cet homme.\\\\end{preview}', u'\\\\begin{preview}  \\\\DEFMDu{}   \\\\combattantMDu{}  \\\\disparaitrePrsTroisDuDu{}   \\\\DANS{}    \\\\DEFFSg{}   \\\\mortFSg{}\\\\end{preview}', u'%  \\\\DEFMDuP{}   \\\\combattantMDuP{}  \\\\disparaitrePrsTroisDuDuP{}   \\\\DANSP{}    \\\\DEFFSgP{}   \\\\mortFSgP{}\\\\end{preview}', u'%\\\\begin{preview}Les deux combattants disparaissent dans la mort.\\\\end{preview}', u'\\\\begin{preview}  \\\\DEFMSg{}   \\\\KalebMSg{}  \\\\prendrePrsTroisSgSg{}   \\\\INDMSg{}   \\\\couteauMSg{}\\\\end{preview}', u'%  \\\\DEFMSgP{}   \\\\KalebMSgP{}  \\\\prendrePrsTroisSgSgP{}   \\\\INDMSgP{}   \\\\couteauMSgP{}\\\\end{preview}', u'%\\\\begin{preview}Kaleb prend un couteau.\\\\end{preview}', u'\\\\begin{preview}  \\\\DEFMSg{}   \\\\chefMSg{}   \\\\DE{}    \\\\DEFMPl{}   \\\\combattantMPl{}  \\\\approcherPrsTroisSgSg{}   \\\\DE{}    \\\\DEFFSg{}   \\\\louveFSg{}\\\\end{preview}', u'%  \\\\DEFMSgP{}   \\\\chefMSgP{}   \\\\DEP{}    \\\\DEFMPlP{}   \\\\combattantMPlP{}  \\\\approcherPrsTroisSgSgP{}   \\\\DEP{}    \\\\DEFFSgP{}   \\\\louveFSgP{}\\\\end{preview}', u'%\\\\begin{preview}Le chef des combattants approche de la louve.\\\\end{preview}', u'\\\\begin{preview}  \\\\DEFFSg{}   \\\\louveFSg{}  \\\\planterPrsTroisSgSg{}   \\\\DEFFPl{}   \\\\crocFPl{}   \\\\DANS{}    \\\\DEFFSg{}   \\\\mainFSg{}   \\\\DE{}    \\\\DEFMSg{}   \\\\KalebMSg{}\\\\end{preview}', u'%  \\\\DEFFSgP{}   \\\\louveFSgP{}  \\\\planterPrsTroisSgSgP{}   \\\\DEFFPlP{}   \\\\crocFPlP{}   \\\\DANSP{}    \\\\DEFFSgP{}   \\\\mainFSgP{}   \\\\DEP{}    \\\\DEFMSgP{}   \\\\KalebMSgP{}\\\\end{preview}', u'%\\\\begin{preview}La louve plante les crocs dans la main de Kaleb.\\\\end{preview}', u'\\\\begin{preview}  \\\\DEFFPl{}   \\\\crocFPl{}   \\\\DE{}    \\\\DEFFSg{}   \\\\louveFSg{}  \\\\donnerPrsTroisPlPl{}   \\\\INDFSg{}   \\\\blessureFSg{}   \\\\profondFSg{}   \\\\A{}    \\\\DEFMPl{}   \\\\villageoisMPl{}\\\\end{preview}', u'%  \\\\DEFFPlP{}   \\\\crocFPlP{}   \\\\DEP{}    \\\\DEFFSgP{}   \\\\louveFSgP{}  \\\\donnerPrsTroisPlPlP{}   \\\\INDFSgP{}   \\\\blessureFSgP{}   \\\\profondFSgP{}   \\\\AP{}    \\\\DEFMPlP{}   \\\\villageoisMPlP{}\\\\end{preview}', u'%\\\\begin{preview}Les crocs de la louve donnent une blessure profonde au villageois.\\\\end{preview}', u'\\\\begin{preview}  \\\\DEFMSg{}   \\\\couteauMSg{}  \\\\tomberPrsTroisSgSg{}\\\\end{preview}', u'%  \\\\DEFMSgP{}   \\\\couteauMSgP{}  \\\\tomberPrsTroisSgSgP{}\\\\end{preview}', u'%\\\\begin{preview}Le couteau tombe.\\\\end{preview}', u'\\\\begin{preview}  \\\\DEFFSg{}   \\\\louveFSg{}  \\\\pousserPrsTroisSgSg{}   \\\\DEMMSg{}   \\\\couteauMSg{}\\\\end{preview}', u'%  \\\\DEFFSgP{}   \\\\louveFSgP{}  \\\\pousserPrsTroisSgSgP{}   \\\\DEMMSgP{}   \\\\couteauMSgP{}\\\\end{preview}', u'%\\\\begin{preview}La louve pousse ce couteau.\\\\end{preview}', u'\\\\begin{preview}  \\\\DEFMSg{}   \\\\KalebMSg{}  \\\\prendrePrsTroisSgSg{}   \\\\DEFFSg{}   \\\\lanceFSg{}   \\\\SUR{}    \\\\DEFMSg{}   \\\\arbreMSg{}\\\\end{preview}', u'%  \\\\DEFMSgP{}   \\\\KalebMSgP{}  \\\\prendrePrsTroisSgSgP{}   \\\\DEFFSgP{}   \\\\lanceFSgP{}   \\\\SURP{}    \\\\DEFMSgP{}   \\\\arbreMSgP{}\\\\end{preview}', u\"%\\\\begin{preview}Kaleb prend la lance sur l'arbre.\\\\end{preview}\", u'\\\\begin{preview}  \\\\DEFFSg{}   \\\\louveFSg{}   \\\\blesseFSg{}  \\\\disparaitrePstTroisSgSg{}   \\\\DANS{}    \\\\DEFFSg{}   \\\\ombreFSg{}   \\\\DE{}    \\\\DEFMPl{}   \\\\arbreMPl{}\\\\end{preview}', u'%  \\\\DEFFSgP{}   \\\\louveFSgP{}   \\\\blesseFSgP{}  \\\\disparaitrePstTroisSgSgP{}   \\\\DANSP{}    \\\\DEFFSgP{}   \\\\ombreFSgP{}   \\\\DEP{}    \\\\DEFMPlP{}   \\\\arbreMPlP{}\\\\end{preview}', u\"%\\\\begin{preview}La louve bless\\xe9e disparaissait dans l'ombre des arbres.\\\\end{preview}\", u'\\\\begin{preview}  \\\\DEFMSg{}   \\\\KalebMSg{}  \\\\courirPrsTroisSgSg{}   \\\\VERS{}    \\\\DEFFSg{}   \\\\louveFSg{}   \\\\AVEC{}    \\\\DEFFSg{}   \\\\lanceFSg{}   \\\\DANS{}    \\\\DEFFSg{}   \\\\mainFSg{}\\\\end{preview}', u'%  \\\\DEFMSgP{}   \\\\KalebMSgP{}  \\\\courirPrsTroisSgSgP{}   \\\\VERSP{}    \\\\DEFFSgP{}   \\\\louveFSgP{}   \\\\AVECP{}    \\\\DEFFSgP{}   \\\\lanceFSgP{}   \\\\DANSP{}    \\\\DEFFSgP{}   \\\\mainFSgP{}\\\\end{preview}', u'%\\\\begin{preview}Kaleb court vers la louve avec la lance dans la main.\\\\end{preview}', u'\\\\begin{preview}  \\\\DEFMSg{}   \\\\KalebMSg{}  \\\\rejoindrePrsTroisSgSg{}   \\\\DEMFSg{}   \\\\louveFSg{}\\\\end{preview}', u'%  \\\\DEFMSgP{}   \\\\KalebMSgP{}  \\\\rejoindrePrsTroisSgSgP{}   \\\\DEMFSgP{}   \\\\louveFSgP{}\\\\end{preview}', u'%\\\\begin{preview}Kaleb rejoint cette louve.\\\\end{preview}', u'\\\\begin{preview}  \\\\DEFMSg{}   \\\\chefMSg{}   \\\\DE{}    \\\\DEFMPl{}   \\\\villageoisMPl{}  \\\\donnerPrsTroisSgSg{}   \\\\INDMSg{}   \\\\coupMSg{}   \\\\A{}    \\\\DEFFSg{}   \\\\louveFSg{}\\\\end{preview}', u'%  \\\\DEFMSgP{}   \\\\chefMSgP{}   \\\\DEP{}    \\\\DEFMPlP{}   \\\\villageoisMPlP{}  \\\\donnerPrsTroisSgSgP{}   \\\\INDMSgP{}   \\\\coupMSgP{}   \\\\AP{}    \\\\DEFFSgP{}   \\\\louveFSgP{}\\\\end{preview}', u'%\\\\begin{preview}Le chef des villageois donne un coup \\xe0 la louve.\\\\end{preview}', u'\\\\begin{preview}  \\\\DEFFSg{}   \\\\louveFSg{}   \\\\blesseFSg{}  \\\\tomberPrsTroisSgSg{}\\\\end{preview}', u'%  \\\\DEFFSgP{}   \\\\louveFSgP{}   \\\\blesseFSgP{}  \\\\tomberPrsTroisSgSgP{}\\\\end{preview}', u'%\\\\begin{preview}La louve bless\\xe9e tombe.\\\\end{preview}', u'\\\\begin{preview}  \\\\DEFMSg{}   \\\\KalebMSg{}  \\\\prendrePrsTroisSgSg{}   \\\\DEFFSg{}   \\\\lanceFSg{}   \\\\SUR{}    \\\\DEFFSg{}   \\\\louveFSg{}   \\\\blesseFSg{}\\\\end{preview}', u'%  \\\\DEFMSgP{}   \\\\KalebMSgP{}  \\\\prendrePrsTroisSgSgP{}   \\\\DEFFSgP{}   \\\\lanceFSgP{}   \\\\SURP{}    \\\\DEFFSgP{}   \\\\louveFSgP{}   \\\\blesseFSgP{}\\\\end{preview}', u'%\\\\begin{preview}Kaleb prend la lance sur la louve bless\\xe9e.\\\\end{preview}', u'\\\\begin{preview}  \\\\DEFMSg{}   \\\\villageoisMSg{}   \\\\furieuxMSg{}  \\\\planterPrsTroisSgSg{}   \\\\DEMFDu{}   \\\\lanceFDu{}   \\\\DANS{}    \\\\DEMMSg{}   \\\\corpsMSg{}   \\\\blesseMSg{}\\\\end{preview}', u'%  \\\\DEFMSgP{}   \\\\villageoisMSgP{}   \\\\furieuxMSgP{}  \\\\planterPrsTroisSgSgP{}   \\\\DEMFDuP{}   \\\\lanceFDuP{}   \\\\DANSP{}    \\\\DEMMSgP{}   \\\\corpsMSgP{}   \\\\blesseMSgP{}\\\\end{preview}', u'%\\\\begin{preview}Le villageois furieux plante ces deux lances dans ce corps bless\\xe9.\\\\end{preview}', u'\\\\begin{preview}  \\\\INDFSg{}   \\\\lanceFSg{}  \\\\disparaitrePrsTroisSgSg{}   \\\\DANS{}    \\\\DEFMSg{}   \\\\corpsMSg{}   \\\\DE{}    \\\\DEFMSg{}   \\\\chefMSg{}   \\\\DE{}    \\\\DEFMPl{}   \\\\loupMPl{}\\\\end{preview}', u'%  \\\\INDFSgP{}   \\\\lanceFSgP{}  \\\\disparaitrePrsTroisSgSgP{}   \\\\DANSP{}    \\\\DEFMSgP{}   \\\\corpsMSgP{}   \\\\DEP{}    \\\\DEFMSgP{}   \\\\chefMSgP{}   \\\\DEP{}    \\\\DEFMPlP{}   \\\\loupMPlP{}\\\\end{preview}', u'%\\\\begin{preview}Une lance dispara\\xeet dans le corps de la cheffe des loups.\\\\end{preview}', u'\\\\begin{preview}  \\\\DEFFSg{}   \\\\lanceFSg{}   \\\\suivantFSg{}  \\\\transpercerPrsTroisSgSg{}   \\\\DEFMSg{}   \\\\gorgeMSg{}   \\\\DE{}    \\\\DEFFSg{}   \\\\louveFSg{}\\\\end{preview}', u'%  \\\\DEFFSgP{}   \\\\lanceFSgP{}   \\\\suivantFSgP{}  \\\\transpercerPrsTroisSgSgP{}   \\\\DEFMSgP{}   \\\\gorgeMSgP{}   \\\\DEP{}    \\\\DEFFSgP{}   \\\\louveFSgP{}\\\\end{preview}', u'%\\\\begin{preview}La lance suivante transperce la gorge de la louve.\\\\end{preview}', u'\\\\begin{preview}  \\\\DEMFPl{}   \\\\blessureFPl{}   \\\\profondFPl{}  \\\\donnerPrsTroisPlPl{}   \\\\DEFFSg{}   \\\\mortFSg{}   \\\\A{}    \\\\DEFFSg{}   \\\\louveFSg{}   \\\\grandFSg{}\\\\end{preview}', u'%  \\\\DEMFPlP{}   \\\\blessureFPlP{}   \\\\profondFPlP{}  \\\\donnerPrsTroisPlPlP{}   \\\\DEFFSgP{}   \\\\mortFSgP{}   \\\\AP{}    \\\\DEFFSgP{}   \\\\louveFSgP{}   \\\\grandFSgP{}\\\\end{preview}', u'%\\\\begin{preview}Ces blessures profondes donnent la mort \\xe0 la grande louve.\\\\end{preview}', u'\\\\begin{preview}  \\\\DEFMSg{}   \\\\KalebMSg{}  \\\\rejoindrePrsTroisSgSg{}   \\\\DEFFSg{}   \\\\VioletteFSg{}   \\\\DEVANT{}    \\\\DEFMSg{}   \\\\arbreMSg{}\\\\end{preview}', u'%  \\\\DEFMSgP{}   \\\\KalebMSgP{}  \\\\rejoindrePrsTroisSgSgP{}   \\\\DEFFSgP{}   \\\\VioletteFSgP{}   \\\\DEVANTP{}    \\\\DEFMSgP{}   \\\\arbreMSgP{}\\\\end{preview}', u\"%\\\\begin{preview}Kaleb rejoint Violette devant l'arbre.\\\\end{preview}\", u'\\\\begin{preview}  \\\\DEFFDu{}   \\\\mainFDu{}   \\\\DE{}    \\\\DEFMSg{}   \\\\KalebMSg{}  \\\\prendrePrsTroisDuDu{}   \\\\DEFMSg{}   \\\\corpsMSg{}   \\\\rougeMSg{}   \\\\DE{}    \\\\DEFFSg{}   \\\\filleFSg{}   \\\\petitFSg{}\\\\end{preview}', u'%  \\\\DEFFDuP{}   \\\\mainFDuP{}   \\\\DEP{}    \\\\DEFMSgP{}   \\\\KalebMSgP{}  \\\\prendrePrsTroisDuDuP{}   \\\\DEFMSgP{}   \\\\corpsMSgP{}   \\\\rougeMSgP{}   \\\\DEP{}    \\\\DEFFSgP{}   \\\\filleFSgP{}   \\\\petitFSgP{}\\\\end{preview}', u'%\\\\begin{preview}Les deux mains de Kaleb prennent le corps rouge de la petite fille.\\\\end{preview}', u'\\\\begin{preview}  \\\\DEFFSg{}   \\\\mortFSg{}  \\\\prendrePrsTroisSgSg{}   \\\\DEFFSg{}   \\\\filleFSg{}   \\\\petitFSg{}\\\\end{preview}', u'%  \\\\DEFFSgP{}   \\\\mortFSgP{}  \\\\prendrePrsTroisSgSgP{}   \\\\DEFFSgP{}   \\\\filleFSgP{}   \\\\petitFSgP{}\\\\end{preview}', u'%\\\\begin{preview}La mort prend la petite fille.\\\\end{preview}', u'\\\\begin{preview}  \\\\DEFFSg{}   \\\\VioletteFSg{}  \\\\rejoindrePrsTroisSgSg{}   \\\\DEFFSg{}   \\\\louveFSg{}   \\\\grandFSg{}   \\\\blancFSg{}   \\\\DANS{}    \\\\DEFFSg{}   \\\\mortFSg{}\\\\end{preview}', u'%  \\\\DEFFSgP{}   \\\\VioletteFSgP{}  \\\\rejoindrePrsTroisSgSgP{}   \\\\DEFFSgP{}   \\\\louveFSgP{}   \\\\grandFSgP{}   \\\\blancFSgP{}   \\\\DANSP{}    \\\\DEFFSgP{}   \\\\mortFSgP{}\\\\end{preview}', u'%\\\\begin{preview}Violette rejoint la grande louve blanche dans la mort.\\\\end{preview}', u'\\\\begin{preview}  \\\\INDFDu{}   \\\\lueurFDu{}  \\\\envahirPrsTroisDuDu{}   \\\\DEFFSg{}   \\\\foretFSg{}   \\\\noirFSg{}\\\\end{preview}', u'%  \\\\INDFDuP{}   \\\\lueurFDuP{}  \\\\envahirPrsTroisDuDuP{}   \\\\DEFFSgP{}   \\\\foretFSgP{}   \\\\noirFSgP{}\\\\end{preview}', u'%\\\\begin{preview}Deux lueurs envahissent la for\\xeat noire.\\\\end{preview}', u'\\\\begin{preview}  \\\\DEFFPl{}   \\\\lueurFPl{}   \\\\blancFPl{}  \\\\recouvrirPrsTroisPlPl{}   \\\\DEFMSg{}   \\\\corpsMSg{}   \\\\DE{}    \\\\DEFFSg{}   \\\\VioletteFSg{}\\\\end{preview}', u'%  \\\\DEFFPlP{}   \\\\lueurFPlP{}   \\\\blancFPlP{}  \\\\recouvrirPrsTroisPlPlP{}   \\\\DEFMSgP{}   \\\\corpsMSgP{}   \\\\DEP{}    \\\\DEFFSgP{}   \\\\VioletteFSgP{}\\\\end{preview}', u'%\\\\begin{preview}Les lueurs blanches recouvrent le corps de Violette.\\\\end{preview}', u'\\\\begin{preview}  \\\\DEFFSg{}   \\\\mortFSg{}   \\\\DE{}    \\\\DEFFSg{}   \\\\VioletteFSg{}  \\\\donnerPrsTroisSgSg{}   \\\\INDFSg{}   \\\\lueurFSg{}   \\\\rougeFSg{}   \\\\A{}    \\\\DEFMSg{}   \\\\corpsMSg{}   \\\\DE{}    \\\\DEFFSg{}   \\\\louveFSg{}\\\\end{preview}', u'%  \\\\DEFFSgP{}   \\\\mortFSgP{}   \\\\DEP{}    \\\\DEFFSgP{}   \\\\VioletteFSgP{}  \\\\donnerPrsTroisSgSgP{}   \\\\INDFSgP{}   \\\\lueurFSgP{}   \\\\rougeFSgP{}   \\\\AP{}    \\\\DEFMSgP{}   \\\\corpsMSgP{}   \\\\DEP{}    \\\\DEFFSgP{}   \\\\louveFSgP{}\\\\end{preview}', u'%\\\\begin{preview}La mort de Violette donne une lueur rouge au corps de la louve.\\\\end{preview}', u'\\\\begin{preview}  \\\\DEFFSg{}   \\\\lueurFSg{}  \\\\transformerPrsTroisSgSg{}   \\\\DEFFSg{}   \\\\louveFSg{}   \\\\DEVANT{}    \\\\DEFMSg{}   \\\\KalebMSg{}\\\\end{preview}', u'%  \\\\DEFFSgP{}   \\\\lueurFSgP{}  \\\\transformerPrsTroisSgSgP{}   \\\\DEFFSgP{}   \\\\louveFSgP{}   \\\\DEVANTP{}    \\\\DEFMSgP{}   \\\\KalebMSgP{}\\\\end{preview}', u'%\\\\begin{preview}La lueur transforme la louve devant Kaleb.\\\\end{preview}', u'\\\\begin{preview}  \\\\DEFMSg{}   \\\\KalebMSg{}  \\\\voirPrsTroisSgSg{}   \\\\DEFFSg{}   \\\\MahiraFSg{}   \\\\AVEC{}    \\\\INDFDu{}   \\\\lanceFDu{}   \\\\DANS{}    \\\\DEFMSg{}   \\\\corpsMSg{}\\\\end{preview}', u'%  \\\\DEFMSgP{}   \\\\KalebMSgP{}  \\\\voirPrsTroisSgSgP{}   \\\\DEFFSgP{}   \\\\MahiraFSgP{}   \\\\AVECP{}    \\\\INDFDuP{}   \\\\lanceFDuP{}   \\\\DANSP{}    \\\\DEFMSgP{}   \\\\corpsMSgP{}\\\\end{preview}', u'%\\\\begin{preview}Kaleb voit Mahira avec deux lances dans le corps.\\\\end{preview}', u'\\\\begin{preview}  \\\\DEFMSg{}   \\\\chefMSg{}   \\\\DE{}    \\\\DEFMPl{}   \\\\villageoisMPl{}  \\\\tomberPrsTroisSgSg{}\\\\end{preview}', u'%  \\\\DEFMSgP{}   \\\\chefMSgP{}   \\\\DEP{}    \\\\DEFMPlP{}   \\\\villageoisMPlP{}  \\\\tomberPrsTroisSgSgP{}\\\\end{preview}', u'%\\\\begin{preview}Le chef des villageois tombe.\\\\end{preview}', u'\\\\begin{preview}  \\\\INDMSg{}   \\\\souffranceMSg{}   \\\\profondMSg{}  \\\\envahirPrsTroisSgSg{}   \\\\DEFMSg{}   \\\\combattantMSg{}\\\\end{preview}', u'%  \\\\INDMSgP{}   \\\\souffranceMSgP{}   \\\\profondMSgP{}  \\\\envahirPrsTroisSgSgP{}   \\\\DEFMSgP{}   \\\\combattantMSgP{}\\\\end{preview}', u'%\\\\begin{preview}Une profonde souffrance envahit le combattant.\\\\end{preview}', u'\\\\begin{preview}  \\\\DEFMSg{}   \\\\KalebMSg{}  \\\\pousserPrsTroisSgSg{}   \\\\INDMSg{}   \\\\criMSg{}\\\\end{preview}', u'%  \\\\DEFMSgP{}   \\\\KalebMSgP{}  \\\\pousserPrsTroisSgSgP{}   \\\\INDMSgP{}   \\\\criMSgP{}\\\\end{preview}', u'%\\\\begin{preview}Kaleb pousse un cri.\\\\end{preview}', u'\\\\begin{preview}  \\\\DEFFSg{}   \\\\luneFSg{}   \\\\rougeFSg{}  \\\\disparaitrePstTroisSgSg{}   \\\\DERRIERE{}    \\\\DEFMPl{}   \\\\arbreMPl{}\\\\end{preview}', u'%  \\\\DEFFSgP{}   \\\\luneFSgP{}   \\\\rougeFSgP{}  \\\\disparaitrePstTroisSgSgP{}   \\\\DERRIEREP{}    \\\\DEFMPlP{}   \\\\arbreMPlP{}\\\\end{preview}', u'%\\\\begin{preview}La lune rouge disparaissait derri\\xe8re les arbres.\\\\end{preview}']\n"
     ]
    }
   ],
   "source": [
    "if ecriture_nom.endswith(\"csv\"):\n",
    "    try:\n",
    "        ecriture_file = codecs.open(ecriture_nom,\"r\",\"utf8\")\n",
    "    except IOError:\n",
    "        print 'I could not open the file', ecriture_nom\n",
    "        sys.exit()      \n",
    "    else:\n",
    "        try:\n",
    "            cloze_file = codecs.open(cloze_nom,\"r\",\"utf8\")\n",
    "        except IOError:\n",
    "            print 'I could not open the cloze file', cloze_nom\n",
    "            sys.exit()\n",
    "        else:\n",
    "            ecriture={}\n",
    "            for line in cloze_file.readlines():\n",
    "                line=line.strip()\n",
    "                if not line.startswith(\"#\"):\n",
    "                    elementsCloze=line.split(\";\")\n",
    "                    ecriture[elementsCloze[0]]=elementsCloze[5]\n",
    "            cloze_file.close()\n",
    "            exemples=[]\n",
    "            accumulateur=[]\n",
    "            vocabulaire=[]\n",
    "#            prononciationExtrait=[]\n",
    "            faire_phrases(ecriture_file,sortie=\"images\")\n",
    "            ecriture_file.close()"
   ]
  },
  {
   "cell_type": "code",
   "execution_count": 1840,
   "metadata": {
    "collapsed": false,
    "scrolled": true
   },
   "outputs": [
    {
     "name": "stdout",
     "output_type": "stream",
     "text": [
      "ordre\n",
      "[u'\\\\begin{preview}\\\\DEFFSg \\\\louveFSg\\\\end{preview}{}   \\\\begin{preview}\\\\etrePrsTroisSgSg\\\\end{preview}{}   \\\\begin{preview}\\\\AVEC \\\\DEFMSg \\\\villageMSg\\\\end{preview}{}', u'%  \\\\begin{preview}\\\\DEFFSg \\\\louveFSg\\\\end{preview}P{}   \\\\begin{preview}\\\\etrePrsTroisSgSg\\\\end{preview}P{}   \\\\begin{preview}\\\\AVEC \\\\DEFMSg \\\\villageMSg\\\\end{preview}P{}', u'\\\\begin{preview}La louve est avec le village.\\\\end{preview}', u'\\\\begin{preview}\\\\DEFMSg \\\\KalebMSg\\\\end{preview}{}   \\\\begin{preview}\\\\etrePstTroisSgSg\\\\end{preview}{}   \\\\begin{preview}\\\\DEFMSg \\\\chefMSg \\\\DE \\\\INDMSg \\\\villageMSg \\\\petitMSg \\\\DE \\\\DEFFSg \\\\foretFSg\\\\end{preview}{}', u'%  \\\\begin{preview}\\\\DEFMSg \\\\KalebMSg\\\\end{preview}P{}   \\\\begin{preview}\\\\etrePstTroisSgSg\\\\end{preview}P{}   \\\\begin{preview}\\\\DEFMSg \\\\chefMSg \\\\DE \\\\INDMSg \\\\villageMSg \\\\petitMSg \\\\DE \\\\DEFFSg \\\\foretFSg\\\\end{preview}P{}', u\"\\\\begin{preview}Kaleb \\xe9tait le chef d'un petit village de for\\xeat.\\\\end{preview}\", u'\\\\begin{preview}\\\\DEFFSg \\\\MahiraFSg\\\\end{preview}{}   \\\\begin{preview}\\\\etrePstTroisSgSg\\\\end{preview}{}   \\\\begin{preview}\\\\DEFFSg \\\\soeurFSg \\\\grandFSg \\\\DE \\\\DEFMSg \\\\KalebMSg\\\\end{preview}{}', u'%  \\\\begin{preview}\\\\DEFFSg \\\\MahiraFSg\\\\end{preview}P{}   \\\\begin{preview}\\\\etrePstTroisSgSg\\\\end{preview}P{}   \\\\begin{preview}\\\\DEFFSg \\\\soeurFSg \\\\grandFSg \\\\DE \\\\DEFMSg \\\\KalebMSg\\\\end{preview}P{}', u'\\\\begin{preview}Mahira \\xe9tait la grande s\\u0153ur de Kaleb.\\\\end{preview}', u'\\\\begin{preview}\\\\DEFFSg \\\\VioletteFSg\\\\end{preview}{}   \\\\begin{preview}\\\\etrePstTroisSgSg\\\\end{preview}{}   \\\\begin{preview}\\\\DEFFSg \\\\filleFSg \\\\DE \\\\DEFMSg \\\\KalebMSg\\\\end{preview}{}', u'%  \\\\begin{preview}\\\\DEFFSg \\\\VioletteFSg\\\\end{preview}P{}   \\\\begin{preview}\\\\etrePstTroisSgSg\\\\end{preview}P{}   \\\\begin{preview}\\\\DEFFSg \\\\filleFSg \\\\DE \\\\DEFMSg \\\\KalebMSg\\\\end{preview}P{}', u'\\\\begin{preview}Violette \\xe9tait la fille de Kaleb.\\\\end{preview}', u'\\\\begin{preview}\\\\DEFFSg \\\\MahiraFSg\\\\end{preview}{}   \\\\begin{preview}\\\\chasserPstTroisSgSg\\\\end{preview}{}   \\\\begin{preview}\\\\DANS \\\\DEFFSg \\\\foretFSg \\\\AVEC \\\\DEFFSg \\\\filleFSg \\\\DE \\\\DEFMSg \\\\KalebMSg\\\\end{preview}{}', u'%  \\\\begin{preview}\\\\DEFFSg \\\\MahiraFSg\\\\end{preview}P{}   \\\\begin{preview}\\\\chasserPstTroisSgSg\\\\end{preview}P{}   \\\\begin{preview}\\\\DANS \\\\DEFFSg \\\\foretFSg \\\\AVEC \\\\DEFFSg \\\\filleFSg \\\\DE \\\\DEFMSg \\\\KalebMSg\\\\end{preview}P{}', u'\\\\begin{preview}Mahira chassait dans la for\\xeat avec la fille de Kaleb.\\\\end{preview}', u'\\\\begin{preview}\\\\DEFFDu \\\\filleFDu\\\\end{preview}{}   \\\\begin{preview}\\\\voirPstTroisDuDu\\\\end{preview}{}   \\\\begin{preview}\\\\INDFSg \\\\ombreFSg \\\\grandFSg\\\\end{preview}{}', u'%  \\\\begin{preview}\\\\DEFFDu \\\\filleFDu\\\\end{preview}P{}   \\\\begin{preview}\\\\voirPstTroisDuDu\\\\end{preview}P{}   \\\\begin{preview}\\\\INDFSg \\\\ombreFSg \\\\grandFSg\\\\end{preview}P{}', u'\\\\begin{preview}Les deux filles virent une grande ombre.\\\\end{preview}', u'\\\\begin{preview}\\\\DEMFSg \\\\ombreFSg \\\\rougeFSg \\\\noirFSg\\\\end{preview}{}   \\\\begin{preview}\\\\etrePstTroisSgSg\\\\end{preview}{}   \\\\begin{preview}\\\\INDMSg \\\\demonMSg\\\\end{preview}{}', u'%  \\\\begin{preview}\\\\DEMFSg \\\\ombreFSg \\\\rougeFSg \\\\noirFSg\\\\end{preview}P{}   \\\\begin{preview}\\\\etrePstTroisSgSg\\\\end{preview}P{}   \\\\begin{preview}\\\\INDMSg \\\\demonMSg\\\\end{preview}P{}', u'\\\\begin{preview}Cette ombre rouge et noire \\xe9tait un d\\xe9mon.\\\\end{preview}', u'\\\\begin{preview}\\\\DEFMSg \\\\demonMSg \\\\terribleMSg\\\\end{preview}{}   \\\\begin{preview}\\\\devorerPstTroisSgSg\\\\end{preview}{}   \\\\begin{preview}\\\\INDMSg \\\\villageoisMSg\\\\end{preview}{}   \\\\begin{preview}\\\\DERRIERE \\\\INDMSg \\\\arbreMSg\\\\end{preview}{}', u'%  \\\\begin{preview}\\\\DEFMSg \\\\demonMSg \\\\terribleMSg\\\\end{preview}P{}   \\\\begin{preview}\\\\devorerPstTroisSgSg\\\\end{preview}P{}   \\\\begin{preview}\\\\INDMSg \\\\villageoisMSg\\\\end{preview}P{}   \\\\begin{preview}\\\\DERRIERE \\\\INDMSg \\\\arbreMSg\\\\end{preview}P{}', u'\\\\begin{preview}Derri\\xe8re un arbre, le terrible d\\xe9mon d\\xe9vorait un villageois.\\\\end{preview}', u'\\\\begin{preview}\\\\DEFFDu \\\\filleFDu \\\\effrayeFDu\\\\end{preview}{}   \\\\begin{preview}\\\\fuirPrsTroisDuDu\\\\end{preview}{}   \\\\begin{preview}\\\\DEVANT \\\\DEFMSg \\\\corpsMSg \\\\DE \\\\DEMMSg \\\\villageoisMSg\\\\end{preview}{}', u'%  \\\\begin{preview}\\\\DEFFDu \\\\filleFDu \\\\effrayeFDu\\\\end{preview}P{}   \\\\begin{preview}\\\\fuirPrsTroisDuDu\\\\end{preview}P{}   \\\\begin{preview}\\\\DEVANT \\\\DEFMSg \\\\corpsMSg \\\\DE \\\\DEMMSg \\\\villageoisMSg\\\\end{preview}P{}', u'\\\\begin{preview}Les deux filles effray\\xe9es fuient devant le corps de ce villageois.\\\\end{preview}', u'\\\\begin{preview}\\\\DEMFDu \\\\filleFDu\\\\end{preview}{}   \\\\begin{preview}\\\\courirPrsTroisDuDu\\\\end{preview}{}   \\\\begin{preview}\\\\VERS \\\\DEFMSg \\\\villageMSg\\\\end{preview}{}', u'%  \\\\begin{preview}\\\\DEMFDu \\\\filleFDu\\\\end{preview}P{}   \\\\begin{preview}\\\\courirPrsTroisDuDu\\\\end{preview}P{}   \\\\begin{preview}\\\\VERS \\\\DEFMSg \\\\villageMSg\\\\end{preview}P{}', u'\\\\begin{preview}Ces deux filles courent vers le village.\\\\end{preview}', u'\\\\begin{preview}\\\\DEFMSg \\\\demonMSg \\\\furieuxMSg\\\\end{preview}{}   \\\\begin{preview}\\\\voirPrsTroisSgSg\\\\end{preview}{}   \\\\begin{preview}\\\\DEFFDu \\\\filleFDu\\\\end{preview}{}', u'%  \\\\begin{preview}\\\\DEFMSg \\\\demonMSg \\\\furieuxMSg\\\\end{preview}P{}   \\\\begin{preview}\\\\voirPrsTroisSgSg\\\\end{preview}P{}   \\\\begin{preview}\\\\DEFFDu \\\\filleFDu\\\\end{preview}P{}', u'\\\\begin{preview}Le d\\xe9mon furieux voit les deux filles.\\\\end{preview}', u'\\\\begin{preview}\\\\DEFMSg \\\\loupMSg \\\\grandMSg \\\\blancMSg \\\\DE \\\\DEFMSg \\\\demonMSg\\\\end{preview}{}   \\\\begin{preview}\\\\chasserPrsTroisSgSg\\\\end{preview}{}   \\\\begin{preview}\\\\DEFFDu \\\\villageoiseFDu\\\\end{preview}{}', u'%  \\\\begin{preview}\\\\DEFMSg \\\\loupMSg \\\\grandMSg \\\\blancMSg \\\\DE \\\\DEFMSg \\\\demonMSg\\\\end{preview}P{}   \\\\begin{preview}\\\\chasserPrsTroisSgSg\\\\end{preview}P{}   \\\\begin{preview}\\\\DEFFDu \\\\villageoiseFDu\\\\end{preview}P{}', u'\\\\begin{preview}Le grand loup blanc du d\\xe9mon chasse les deux villageoises.\\\\end{preview}', u'\\\\begin{preview}\\\\DEFFSg \\\\filleFSg \\\\petitFSg\\\\end{preview}{}   \\\\begin{preview}\\\\tomberPrsTroisSgSg\\\\end{preview}{}', u'%  \\\\begin{preview}\\\\DEFFSg \\\\filleFSg \\\\petitFSg\\\\end{preview}P{}   \\\\begin{preview}\\\\tomberPrsTroisSgSg\\\\end{preview}P{}', u'\\\\begin{preview}La petite fille tombe.\\\\end{preview}', u'\\\\begin{preview}\\\\DEFMSg \\\\loupMSg \\\\blancMSg\\\\end{preview}{}   \\\\begin{preview}\\\\courirPrsTroisSgSg\\\\end{preview}{}   \\\\begin{preview}\\\\VERS \\\\DEMFSg \\\\filleFSg \\\\petitFSg\\\\end{preview}{}', u'%  \\\\begin{preview}\\\\DEFMSg \\\\loupMSg \\\\blancMSg\\\\end{preview}P{}   \\\\begin{preview}\\\\courirPrsTroisSgSg\\\\end{preview}P{}   \\\\begin{preview}\\\\VERS \\\\DEMFSg \\\\filleFSg \\\\petitFSg\\\\end{preview}P{}', u'\\\\begin{preview}Le loup blanc court vers cette petite fille.\\\\end{preview}', u'\\\\begin{preview}\\\\DEFFSg \\\\MahiraFSg \\\\courageuxFSg\\\\end{preview}{}   \\\\begin{preview}\\\\protegerPrsTroisSgSg\\\\end{preview}{}   \\\\begin{preview}\\\\DEFFSg \\\\VioletteFSg\\\\end{preview}{}   \\\\begin{preview}\\\\AVEC \\\\INDMSg \\\\couteauMSg\\\\end{preview}{}', u'%  \\\\begin{preview}\\\\DEFFSg \\\\MahiraFSg \\\\courageuxFSg\\\\end{preview}P{}   \\\\begin{preview}\\\\protegerPrsTroisSgSg\\\\end{preview}P{}   \\\\begin{preview}\\\\DEFFSg \\\\VioletteFSg\\\\end{preview}P{}   \\\\begin{preview}\\\\AVEC \\\\INDMSg \\\\couteauMSg\\\\end{preview}P{}', u'\\\\begin{preview}La courageuse Mahira prot\\xe8ge Violette avec un couteau.\\\\end{preview}', u'\\\\begin{preview}\\\\DEMMSg \\\\couteauMSg\\\\end{preview}{}   \\\\begin{preview}\\\\protegerPrsTroisSgSg\\\\end{preview}{}   \\\\begin{preview}\\\\DEFMSg \\\\visageMSg \\\\DE \\\\DEFFSg \\\\MahiraFSg\\\\end{preview}{}', u'%  \\\\begin{preview}\\\\DEMMSg \\\\couteauMSg\\\\end{preview}P{}   \\\\begin{preview}\\\\protegerPrsTroisSgSg\\\\end{preview}P{}   \\\\begin{preview}\\\\DEFMSg \\\\visageMSg \\\\DE \\\\DEFFSg \\\\MahiraFSg\\\\end{preview}P{}', u'\\\\begin{preview}Ce couteau prot\\xe8ge le visage de Mahira.\\\\end{preview}', u'\\\\begin{preview}\\\\DEFMSg \\\\loupMSg \\\\grandMSg\\\\end{preview}{}   \\\\begin{preview}\\\\planterPrsTroisSgSg\\\\end{preview}{}   \\\\begin{preview}\\\\DEFFPl \\\\crocFPl\\\\end{preview}{}   \\\\begin{preview}\\\\DANS \\\\DEFFSg \\\\mainFSg \\\\DE \\\\DEFFSg \\\\MahiraFSg\\\\end{preview}{}', u'%  \\\\begin{preview}\\\\DEFMSg \\\\loupMSg \\\\grandMSg\\\\end{preview}P{}   \\\\begin{preview}\\\\planterPrsTroisSgSg\\\\end{preview}P{}   \\\\begin{preview}\\\\DEFFPl \\\\crocFPl\\\\end{preview}P{}   \\\\begin{preview}\\\\DANS \\\\DEFFSg \\\\mainFSg \\\\DE \\\\DEFFSg \\\\MahiraFSg\\\\end{preview}P{}', u'\\\\begin{preview}Le grand loup plante les crocs dans la main de Mahira.\\\\end{preview}', u'\\\\begin{preview}\\\\DEFMSg \\\\loupMSg\\\\end{preview}{}   \\\\begin{preview}\\\\prendrePrsTroisSgSg\\\\end{preview}{}   \\\\begin{preview}\\\\INDMSg \\\\coupMSg \\\\profondMSg \\\\DE \\\\DEFMSg \\\\couteauMSg\\\\end{preview}{}   \\\\begin{preview}\\\\DANS \\\\DEFMSg \\\\gorgeMSg\\\\end{preview}{}', u'%  \\\\begin{preview}\\\\DEFMSg \\\\loupMSg\\\\end{preview}P{}   \\\\begin{preview}\\\\prendrePrsTroisSgSg\\\\end{preview}P{}   \\\\begin{preview}\\\\INDMSg \\\\coupMSg \\\\profondMSg \\\\DE \\\\DEFMSg \\\\couteauMSg\\\\end{preview}P{}   \\\\begin{preview}\\\\DANS \\\\DEFMSg \\\\gorgeMSg\\\\end{preview}P{}', u'\\\\begin{preview}Le loup prend un profond coup de couteau dans la gorge.\\\\end{preview}', u'\\\\begin{preview}\\\\DEMFSg \\\\blessureFSg \\\\profondFSg\\\\end{preview}{}   \\\\begin{preview}\\\\donnerPrsTroisSgSg\\\\end{preview}{}   \\\\begin{preview}\\\\DEFFSg \\\\mortFSg\\\\end{preview}{}   \\\\begin{preview}\\\\A \\\\DEMMSg \\\\loupMSg \\\\grandMSg \\\\blancMSg\\\\end{preview}{}', u'%  \\\\begin{preview}\\\\DEMFSg \\\\blessureFSg \\\\profondFSg\\\\end{preview}P{}   \\\\begin{preview}\\\\donnerPrsTroisSgSg\\\\end{preview}P{}   \\\\begin{preview}\\\\DEFFSg \\\\mortFSg\\\\end{preview}P{}   \\\\begin{preview}\\\\A \\\\DEMMSg \\\\loupMSg \\\\grandMSg \\\\blancMSg\\\\end{preview}P{}', u'\\\\begin{preview}Cette profonde blessure donne la mort \\xe0 ce grand loup blanc.\\\\end{preview}', u'\\\\begin{preview}\\\\INDFSg \\\\colereFSg \\\\profondFSg\\\\end{preview}{}   \\\\begin{preview}\\\\envahirPrsTroisSgSg\\\\end{preview}{}   \\\\begin{preview}\\\\DEFMSg \\\\visageMSg \\\\rougeMSg \\\\DE \\\\DEFMSg \\\\demonMSg\\\\end{preview}{}', u'%  \\\\begin{preview}\\\\INDFSg \\\\colereFSg \\\\profondFSg\\\\end{preview}P{}   \\\\begin{preview}\\\\envahirPrsTroisSgSg\\\\end{preview}P{}   \\\\begin{preview}\\\\DEFMSg \\\\visageMSg \\\\rougeMSg \\\\DE \\\\DEFMSg \\\\demonMSg\\\\end{preview}P{}', u'\\\\begin{preview}Une profonde col\\xe8re envahit le visage rouge du d\\xe9mon.\\\\end{preview}', u'\\\\begin{preview}\\\\DEFMSg \\\\demonMSg\\\\end{preview}{}   \\\\begin{preview}\\\\jeterPrsTroisSgSg\\\\end{preview}{}   \\\\begin{preview}\\\\INDMSg \\\\sortMSg\\\\end{preview}{}   \\\\begin{preview}\\\\A \\\\DEFFDu \\\\filleFDu\\\\end{preview}{}', u'%  \\\\begin{preview}\\\\DEFMSg \\\\demonMSg\\\\end{preview}P{}   \\\\begin{preview}\\\\jeterPrsTroisSgSg\\\\end{preview}P{}   \\\\begin{preview}\\\\INDMSg \\\\sortMSg\\\\end{preview}P{}   \\\\begin{preview}\\\\A \\\\DEFFDu \\\\filleFDu\\\\end{preview}P{}', u'\\\\begin{preview}Le d\\xe9mon jette un sort aux deux filles.\\\\end{preview}', u'\\\\begin{preview}\\\\INDFSg \\\\lueurFSg \\\\rougeFSg\\\\end{preview}{}   \\\\begin{preview}\\\\recouvrirPrsTroisSgSg\\\\end{preview}{}   \\\\begin{preview}\\\\DEFFDu \\\\filleFDu\\\\end{preview}{}', u'%  \\\\begin{preview}\\\\INDFSg \\\\lueurFSg \\\\rougeFSg\\\\end{preview}P{}   \\\\begin{preview}\\\\recouvrirPrsTroisSgSg\\\\end{preview}P{}   \\\\begin{preview}\\\\DEFFDu \\\\filleFDu\\\\end{preview}P{}', u'\\\\begin{preview}Une lueur rouge recouvre les deux filles.\\\\end{preview}', u'\\\\begin{preview}\\\\DEFFSg \\\\nuitFSg\\\\end{preview}{}   \\\\begin{preview}\\\\tomberPrsTroisSgSg\\\\end{preview}{}   \\\\begin{preview}\\\\SUR \\\\DEFMSg \\\\villageMSg \\\\DE \\\\DEFMSg \\\\KalebMSg\\\\end{preview}{}', u'%  \\\\begin{preview}\\\\DEFFSg \\\\nuitFSg\\\\end{preview}P{}   \\\\begin{preview}\\\\tomberPrsTroisSgSg\\\\end{preview}P{}   \\\\begin{preview}\\\\SUR \\\\DEFMSg \\\\villageMSg \\\\DE \\\\DEFMSg \\\\KalebMSg\\\\end{preview}P{}', u'\\\\begin{preview}La nuit tombe sur le village de Kaleb.\\\\end{preview}', u'\\\\begin{preview}\\\\DEFFSg \\\\lueurFSg \\\\DE \\\\DEFFSg \\\\luneFSg\\\\end{preview}{}   \\\\begin{preview}\\\\envahirPstTroisSgSg\\\\end{preview}{}   \\\\begin{preview}\\\\DEFFSg \\\\maisonFSg \\\\DE \\\\DEFFSg \\\\MahiraFSg\\\\end{preview}{}', u'%  \\\\begin{preview}\\\\DEFFSg \\\\lueurFSg \\\\DE \\\\DEFFSg \\\\luneFSg\\\\end{preview}P{}   \\\\begin{preview}\\\\envahirPstTroisSgSg\\\\end{preview}P{}   \\\\begin{preview}\\\\DEFFSg \\\\maisonFSg \\\\DE \\\\DEFFSg \\\\MahiraFSg\\\\end{preview}P{}', u'\\\\begin{preview}La lueur de la lune envahissait la maison de Mahira.\\\\end{preview}', u'\\\\begin{preview}\\\\DEMFSg \\\\lueurFSg\\\\end{preview}{}   \\\\begin{preview}\\\\donnerPstTroisSgSg\\\\end{preview}{}   \\\\begin{preview}\\\\INDMSg \\\\souffranceMSg \\\\grandMSg\\\\end{preview}{}   \\\\begin{preview}\\\\A \\\\DEFFSg \\\\blessureFSg \\\\DE \\\\DEFFSg \\\\MahiraFSg\\\\end{preview}{}', u'%  \\\\begin{preview}\\\\DEMFSg \\\\lueurFSg\\\\end{preview}P{}   \\\\begin{preview}\\\\donnerPstTroisSgSg\\\\end{preview}P{}   \\\\begin{preview}\\\\INDMSg \\\\souffranceMSg \\\\grandMSg\\\\end{preview}P{}   \\\\begin{preview}\\\\A \\\\DEFFSg \\\\blessureFSg \\\\DE \\\\DEFFSg \\\\MahiraFSg\\\\end{preview}P{}', u'\\\\begin{preview}Cette lueur donnait une grande souffrance \\xe0 la blessure de Mahira.\\\\end{preview}', u'\\\\begin{preview}\\\\DEFFSg \\\\MahiraFSg\\\\end{preview}{}   \\\\begin{preview}\\\\sortirPstTroisSgSg\\\\end{preview}{}   \\\\begin{preview}\\\\DE \\\\DEFFSg \\\\maisonFSg\\\\end{preview}{}', u'%  \\\\begin{preview}\\\\DEFFSg \\\\MahiraFSg\\\\end{preview}P{}   \\\\begin{preview}\\\\sortirPstTroisSgSg\\\\end{preview}P{}   \\\\begin{preview}\\\\DE \\\\DEFFSg \\\\maisonFSg\\\\end{preview}P{}', u'\\\\begin{preview}Mahira sortit de la maison.\\\\end{preview}', u'\\\\begin{preview}\\\\DEFFSg \\\\lueurFSg \\\\DE \\\\DEFFSg \\\\luneFSg\\\\end{preview}{}   \\\\begin{preview}\\\\recouvrirPrsTroisSgSg\\\\end{preview}{}   \\\\begin{preview}\\\\DEFMSg \\\\corpsMSg \\\\DE \\\\DEFFSg \\\\MahiraFSg\\\\end{preview}{}', u'%  \\\\begin{preview}\\\\DEFFSg \\\\lueurFSg \\\\DE \\\\DEFFSg \\\\luneFSg\\\\end{preview}P{}   \\\\begin{preview}\\\\recouvrirPrsTroisSgSg\\\\end{preview}P{}   \\\\begin{preview}\\\\DEFMSg \\\\corpsMSg \\\\DE \\\\DEFFSg \\\\MahiraFSg\\\\end{preview}P{}', u'\\\\begin{preview}La lueur de la lune recouvre le corps de Mahira.\\\\end{preview}', u'\\\\begin{preview}\\\\DEMMSg \\\\corpsMSg\\\\end{preview}{}   \\\\begin{preview}\\\\disparaitrePrsTroisSgSg\\\\end{preview}{}   \\\\begin{preview}\\\\DANS \\\\DEFFSg \\\\nuitFSg \\\\noirFSg\\\\end{preview}{}', u'%  \\\\begin{preview}\\\\DEMMSg \\\\corpsMSg\\\\end{preview}P{}   \\\\begin{preview}\\\\disparaitrePrsTroisSgSg\\\\end{preview}P{}   \\\\begin{preview}\\\\DANS \\\\DEFFSg \\\\nuitFSg \\\\noirFSg\\\\end{preview}P{}', u'\\\\begin{preview}Ce corps dispara\\xeet dans la nuit noire.\\\\end{preview}', u'\\\\begin{preview}\\\\DEFFSg \\\\nuitFSg\\\\end{preview}{}   \\\\begin{preview}\\\\transformerPrsTroisSgSg\\\\end{preview}{}   \\\\begin{preview}\\\\DEFMSg \\\\visageMSg \\\\DE \\\\DEFFSg \\\\soeurFSg \\\\DE \\\\DEFMSg \\\\KalebMSg\\\\end{preview}{}', u'%  \\\\begin{preview}\\\\DEFFSg \\\\nuitFSg\\\\end{preview}P{}   \\\\begin{preview}\\\\transformerPrsTroisSgSg\\\\end{preview}P{}   \\\\begin{preview}\\\\DEFMSg \\\\visageMSg \\\\DE \\\\DEFFSg \\\\soeurFSg \\\\DE \\\\DEFMSg \\\\KalebMSg\\\\end{preview}P{}', u'\\\\begin{preview}La nuit transforme le visage de la s\\u0153ur de Kaleb.\\\\end{preview}', u'\\\\begin{preview}\\\\DEFFSg \\\\MahiraFSg\\\\end{preview}{}   \\\\begin{preview}\\\\etrePstTroisSgSg\\\\end{preview}{}   \\\\begin{preview}\\\\INDFSg \\\\louveFSg \\\\grandFSg \\\\blancFSg\\\\end{preview}{}', u'%  \\\\begin{preview}\\\\DEFFSg \\\\MahiraFSg\\\\end{preview}P{}   \\\\begin{preview}\\\\etrePstTroisSgSg\\\\end{preview}P{}   \\\\begin{preview}\\\\INDFSg \\\\louveFSg \\\\grandFSg \\\\blancFSg\\\\end{preview}P{}', u'\\\\begin{preview}Mahira \\xe9tait une grande louve blanche.\\\\end{preview}', u'\\\\begin{preview}\\\\DEMFSg \\\\louveFSg \\\\effrayeFSg\\\\end{preview}{}   \\\\begin{preview}\\\\chercherPrsTroisSgSg\\\\end{preview}{}   \\\\begin{preview}\\\\DEFMSg \\\\demonMSg\\\\end{preview}{}   \\\\begin{preview}\\\\DANS \\\\DEFFSg \\\\foretFSg\\\\end{preview}{}', u'%  \\\\begin{preview}\\\\DEMFSg \\\\louveFSg \\\\effrayeFSg\\\\end{preview}P{}   \\\\begin{preview}\\\\chercherPrsTroisSgSg\\\\end{preview}P{}   \\\\begin{preview}\\\\DEFMSg \\\\demonMSg\\\\end{preview}P{}   \\\\begin{preview}\\\\DANS \\\\DEFFSg \\\\foretFSg\\\\end{preview}P{}', u'\\\\begin{preview}Dans la for\\xeat, cette louve effray\\xe9e cherche le d\\xe9mon.\\\\end{preview}', u'\\\\begin{preview}\\\\DEFFSg \\\\louveFSg\\\\end{preview}{}   \\\\begin{preview}\\\\voirPstTroisSgSg\\\\end{preview}{}   \\\\begin{preview}\\\\INDMSg \\\\serpentMSg \\\\grandMSg \\\\noirMSg\\\\end{preview}{}', u'%  \\\\begin{preview}\\\\DEFFSg \\\\louveFSg\\\\end{preview}P{}   \\\\begin{preview}\\\\voirPstTroisSgSg\\\\end{preview}P{}   \\\\begin{preview}\\\\INDMSg \\\\serpentMSg \\\\grandMSg \\\\noirMSg\\\\end{preview}P{}', u'\\\\begin{preview}La louve vit un grand serpent noir.\\\\end{preview}', u'\\\\begin{preview}\\\\DEFMSg \\\\serpentMSg\\\\end{preview}{}   \\\\begin{preview}\\\\parlerPstTroisSgSg\\\\end{preview}{}   \\\\begin{preview}\\\\A \\\\DEFFSg \\\\louveFSg \\\\blancFSg\\\\end{preview}{}', u'%  \\\\begin{preview}\\\\DEFMSg \\\\serpentMSg\\\\end{preview}P{}   \\\\begin{preview}\\\\parlerPstTroisSgSg\\\\end{preview}P{}   \\\\begin{preview}\\\\A \\\\DEFFSg \\\\louveFSg \\\\blancFSg\\\\end{preview}P{}', u'\\\\begin{preview}Le serpent parla \\xe0 la louve blanche.\\\\end{preview}', u'\\\\begin{preview}\\\\DEFMSg \\\\sortMSg \\\\DE \\\\DEFMSg \\\\demonMSg\\\\end{preview}{}   \\\\begin{preview}\\\\transformerPrsTroisSgSg\\\\end{preview}{}   \\\\begin{preview}\\\\DEFFSg \\\\villageoiseFSg\\\\end{preview}{}   \\\\begin{preview}\\\\DANS \\\\DEFFSg \\\\nuitFSg\\\\end{preview}{}', u'%  \\\\begin{preview}\\\\DEFMSg \\\\sortMSg \\\\DE \\\\DEFMSg \\\\demonMSg\\\\end{preview}P{}   \\\\begin{preview}\\\\transformerPrsTroisSgSg\\\\end{preview}P{}   \\\\begin{preview}\\\\DEFFSg \\\\villageoiseFSg\\\\end{preview}P{}   \\\\begin{preview}\\\\DANS \\\\DEFFSg \\\\nuitFSg\\\\end{preview}P{}', u'\\\\begin{preview}Le sort du d\\xe9mon transforme la villageoise dans la nuit.\\\\end{preview}', u'\\\\begin{preview}\\\\DEFMSg \\\\loupMSg \\\\blancMSg\\\\end{preview}{}   \\\\begin{preview}\\\\protegerPstTroisSgSg\\\\end{preview}{}   \\\\begin{preview}\\\\DEFMPl \\\\loupMPl \\\\noirMPl\\\\end{preview}{}', u'%  \\\\begin{preview}\\\\DEFMSg \\\\loupMSg \\\\blancMSg\\\\end{preview}P{}   \\\\begin{preview}\\\\protegerPstTroisSgSg\\\\end{preview}P{}   \\\\begin{preview}\\\\DEFMPl \\\\loupMPl \\\\noirMPl\\\\end{preview}P{}', u'\\\\begin{preview}Le loup blanc prot\\xe9geait les loups noirs.\\\\end{preview}', u'\\\\begin{preview}\\\\DEFMPl \\\\loupMPl\\\\end{preview}{}   \\\\begin{preview}\\\\devorerPrsTroisPlPl\\\\end{preview}{}   \\\\begin{preview}\\\\DEFMPl \\\\villageoisMPl\\\\end{preview}{}', u'%  \\\\begin{preview}\\\\DEFMPl \\\\loupMPl\\\\end{preview}P{}   \\\\begin{preview}\\\\devorerPrsTroisPlPl\\\\end{preview}P{}   \\\\begin{preview}\\\\DEFMPl \\\\villageoisMPl\\\\end{preview}P{}', u'\\\\begin{preview}Les loups d\\xe9vorent les villageois.\\\\end{preview}', u'\\\\begin{preview}\\\\DEFMPl \\\\villageoisMPl\\\\end{preview}{}   \\\\begin{preview}\\\\chasserPrsTroisPlPl\\\\end{preview}{}   \\\\begin{preview}\\\\DEFMPl \\\\loupMPl\\\\end{preview}{}', u'%  \\\\begin{preview}\\\\DEFMPl \\\\villageoisMPl\\\\end{preview}P{}   \\\\begin{preview}\\\\chasserPrsTroisPlPl\\\\end{preview}P{}   \\\\begin{preview}\\\\DEFMPl \\\\loupMPl\\\\end{preview}P{}', u'\\\\begin{preview}Les villageois chassent les loups.\\\\end{preview}', u'\\\\begin{preview}\\\\DEFMSg \\\\sortMSg\\\\end{preview}{}   \\\\begin{preview}\\\\disparaitrePrsTroisSgSg\\\\end{preview}{}   \\\\begin{preview}\\\\AVEC \\\\DEFFSg \\\\mortFSg \\\\DE \\\\DEFMPl \\\\villageoisMPl\\\\end{preview}{}', u'%  \\\\begin{preview}\\\\DEFMSg \\\\sortMSg\\\\end{preview}P{}   \\\\begin{preview}\\\\disparaitrePrsTroisSgSg\\\\end{preview}P{}   \\\\begin{preview}\\\\AVEC \\\\DEFFSg \\\\mortFSg \\\\DE \\\\DEFMPl \\\\villageoisMPl\\\\end{preview}P{}', u'\\\\begin{preview}Le sort dispara\\xeet avec la mort des villageois.\\\\end{preview}', u'\\\\begin{preview}\\\\DEFMSg \\\\serpentMSg\\\\end{preview}{}   \\\\begin{preview}\\\\allerPstTroisSgSg\\\\end{preview}{}   \\\\begin{preview}\\\\VERS \\\\DEFFSg \\\\maisonFSg \\\\DE \\\\DEFMSg \\\\chefMSg \\\\DE \\\\DEFMSg \\\\villageMSg\\\\end{preview}{}', u'%  \\\\begin{preview}\\\\DEFMSg \\\\serpentMSg\\\\end{preview}P{}   \\\\begin{preview}\\\\allerPstTroisSgSg\\\\end{preview}P{}   \\\\begin{preview}\\\\VERS \\\\DEFFSg \\\\maisonFSg \\\\DE \\\\DEFMSg \\\\chefMSg \\\\DE \\\\DEFMSg \\\\villageMSg\\\\end{preview}P{}', u'\\\\begin{preview}Le serpent allait vers la maison du chef du village.\\\\end{preview}', u'\\\\begin{preview}\\\\DEMMSg \\\\serpentMSg\\\\end{preview}{}   \\\\begin{preview}\\\\parlerPstTroisSgSg\\\\end{preview}{}   \\\\begin{preview}\\\\A \\\\DEFMSg \\\\KalebMSg\\\\end{preview}{}', u'%  \\\\begin{preview}\\\\DEMMSg \\\\serpentMSg\\\\end{preview}P{}   \\\\begin{preview}\\\\parlerPstTroisSgSg\\\\end{preview}P{}   \\\\begin{preview}\\\\A \\\\DEFMSg \\\\KalebMSg\\\\end{preview}P{}', u'\\\\begin{preview}Ce serpent parla \\xe0 Kaleb.\\\\end{preview}', u'\\\\begin{preview}\\\\INDFSg \\\\colereFSg \\\\noirFSg\\\\end{preview}{}   \\\\begin{preview}\\\\envahirPrsTroisSgSg\\\\end{preview}{}   \\\\begin{preview}\\\\DEFMPl \\\\loupMPl\\\\end{preview}{}', u'%  \\\\begin{preview}\\\\INDFSg \\\\colereFSg \\\\noirFSg\\\\end{preview}P{}   \\\\begin{preview}\\\\envahirPrsTroisSgSg\\\\end{preview}P{}   \\\\begin{preview}\\\\DEFMPl \\\\loupMPl\\\\end{preview}P{}', u'\\\\begin{preview}Une col\\xe8re noire envahit les loups.\\\\end{preview}', u'\\\\begin{preview}\\\\DEFMSg \\\\combatMSg \\\\terribleMSg\\\\end{preview}{}   \\\\begin{preview}\\\\approcherPrsTroisSgSg\\\\end{preview}{}', u'%  \\\\begin{preview}\\\\DEFMSg \\\\combatMSg \\\\terribleMSg\\\\end{preview}P{}   \\\\begin{preview}\\\\approcherPrsTroisSgSg\\\\end{preview}P{}', u'\\\\begin{preview}Le terrible combat approche.\\\\end{preview}', u'\\\\begin{preview}\\\\DEFMSg \\\\chefMSg \\\\DE \\\\DEFMSg \\\\villageMSg\\\\end{preview}{}   \\\\begin{preview}\\\\parlerPrsTroisSgSg\\\\end{preview}{}   \\\\begin{preview}\\\\A \\\\DEFMPl \\\\villageoisMPl\\\\end{preview}{}   \\\\begin{preview}\\\\DE \\\\DEFMPl \\\\loupMPl \\\\furieuxMPl\\\\end{preview}{}', u'%  \\\\begin{preview}\\\\DEFMSg \\\\chefMSg \\\\DE \\\\DEFMSg \\\\villageMSg\\\\end{preview}P{}   \\\\begin{preview}\\\\parlerPrsTroisSgSg\\\\end{preview}P{}   \\\\begin{preview}\\\\A \\\\DEFMPl \\\\villageoisMPl\\\\end{preview}P{}   \\\\begin{preview}\\\\DE \\\\DEFMPl \\\\loupMPl \\\\furieuxMPl\\\\end{preview}P{}', u'\\\\begin{preview}Le chef du village parle aux villageois des loups furieux.\\\\end{preview}', u'\\\\begin{preview}\\\\DEFFSg \\\\nuitFSg\\\\end{preview}{}   \\\\begin{preview}\\\\tomberPstTroisSgSg\\\\end{preview}{}', u'%  \\\\begin{preview}\\\\DEFFSg \\\\nuitFSg\\\\end{preview}P{}   \\\\begin{preview}\\\\tomberPstTroisSgSg\\\\end{preview}P{}', u'\\\\begin{preview}La nuit tombait.\\\\end{preview}', u'\\\\begin{preview}\\\\DEFMPl \\\\loupMPl\\\\end{preview}{}   \\\\begin{preview}\\\\sortirPstTroisPlPl\\\\end{preview}{}   \\\\begin{preview}\\\\DE \\\\DEFFSg \\\\foretFSg\\\\end{preview}{}', u'%  \\\\begin{preview}\\\\DEFMPl \\\\loupMPl\\\\end{preview}P{}   \\\\begin{preview}\\\\sortirPstTroisPlPl\\\\end{preview}P{}   \\\\begin{preview}\\\\DE \\\\DEFFSg \\\\foretFSg\\\\end{preview}P{}', u'\\\\begin{preview}Les loups sortaient de la for\\xeat.\\\\end{preview}', u'\\\\begin{preview}\\\\DEFMPl \\\\villageoisMPl\\\\end{preview}{}   \\\\begin{preview}\\\\prendrePstTroisPlPl\\\\end{preview}{}   \\\\begin{preview}\\\\INDFPl \\\\lanceFPl\\\\end{preview}{}', u'%  \\\\begin{preview}\\\\DEFMPl \\\\villageoisMPl\\\\end{preview}P{}   \\\\begin{preview}\\\\prendrePstTroisPlPl\\\\end{preview}P{}   \\\\begin{preview}\\\\INDFPl \\\\lanceFPl\\\\end{preview}P{}', u'\\\\begin{preview}Les villageois prenaient des lances.\\\\end{preview}', u'\\\\begin{preview}\\\\DEFFPl \\\\villageoiseFPl\\\\end{preview}{}   \\\\begin{preview}\\\\protegerPrsTroisPlPl\\\\end{preview}{}   \\\\begin{preview}\\\\DEFMPl \\\\enfantMPl \\\\petitMPl\\\\end{preview}{}   \\\\begin{preview}\\\\DANS \\\\INDFSg \\\\maisonFSg\\\\end{preview}{}', u'%  \\\\begin{preview}\\\\DEFFPl \\\\villageoiseFPl\\\\end{preview}P{}   \\\\begin{preview}\\\\protegerPrsTroisPlPl\\\\end{preview}P{}   \\\\begin{preview}\\\\DEFMPl \\\\enfantMPl \\\\petitMPl\\\\end{preview}P{}   \\\\begin{preview}\\\\DANS \\\\INDFSg \\\\maisonFSg\\\\end{preview}P{}', u'\\\\begin{preview}Les villageoises prot\\xe8gent les petits enfants dans une maison.\\\\end{preview}', u'\\\\begin{preview}\\\\DEFMPl \\\\loupMPl\\\\end{preview}{}   \\\\begin{preview}\\\\envahirPrsTroisPlPl\\\\end{preview}{}   \\\\begin{preview}\\\\DEFMSg \\\\villageMSg \\\\petitMSg\\\\end{preview}{}', u'%  \\\\begin{preview}\\\\DEFMPl \\\\loupMPl\\\\end{preview}P{}   \\\\begin{preview}\\\\envahirPrsTroisPlPl\\\\end{preview}P{}   \\\\begin{preview}\\\\DEFMSg \\\\villageMSg \\\\petitMSg\\\\end{preview}P{}', u'\\\\begin{preview}Les loups envahissent le petit village.\\\\end{preview}', u'\\\\begin{preview}\\\\INDMSg \\\\loupMSg\\\\end{preview}{}   \\\\begin{preview}\\\\planterPrsTroisSgSg\\\\end{preview}{}   \\\\begin{preview}\\\\DEFFPl \\\\crocFPl\\\\end{preview}{}   \\\\begin{preview}\\\\DANS \\\\DEFMSg \\\\gorgeMSg \\\\DE \\\\INDMSg \\\\hommeMSg\\\\end{preview}{}', u'%  \\\\begin{preview}\\\\INDMSg \\\\loupMSg\\\\end{preview}P{}   \\\\begin{preview}\\\\planterPrsTroisSgSg\\\\end{preview}P{}   \\\\begin{preview}\\\\DEFFPl \\\\crocFPl\\\\end{preview}P{}   \\\\begin{preview}\\\\DANS \\\\DEFMSg \\\\gorgeMSg \\\\DE \\\\INDMSg \\\\hommeMSg\\\\end{preview}P{}', u\"\\\\begin{preview}Un loup plante les crocs dans la gorge d'un homme.\\\\end{preview}\", u'\\\\begin{preview}\\\\DEFMPl \\\\hommeMPl\\\\end{preview}{}   \\\\begin{preview}\\\\jeterPrsTroisPlPl\\\\end{preview}{}   \\\\begin{preview}\\\\INDFPl \\\\lanceFPl\\\\end{preview}{}   \\\\begin{preview}\\\\A \\\\DEFMPl \\\\loupMPl\\\\end{preview}{}', u'%  \\\\begin{preview}\\\\DEFMPl \\\\hommeMPl\\\\end{preview}P{}   \\\\begin{preview}\\\\jeterPrsTroisPlPl\\\\end{preview}P{}   \\\\begin{preview}\\\\INDFPl \\\\lanceFPl\\\\end{preview}P{}   \\\\begin{preview}\\\\A \\\\DEFMPl \\\\loupMPl\\\\end{preview}P{}', u'\\\\begin{preview}Les hommes jettent des lances aux loups.\\\\end{preview}', u'\\\\begin{preview}\\\\INDFDu \\\\lanceFDu\\\\end{preview}{}   \\\\begin{preview}\\\\transpercerPrsTroisDuDu\\\\end{preview}{}   \\\\begin{preview}\\\\INDMDu \\\\loupMDu\\\\end{preview}{}', u'%  \\\\begin{preview}\\\\INDFDu \\\\lanceFDu\\\\end{preview}P{}   \\\\begin{preview}\\\\transpercerPrsTroisDuDu\\\\end{preview}P{}   \\\\begin{preview}\\\\INDMDu \\\\loupMDu\\\\end{preview}P{}', u'\\\\begin{preview}Deux lances transpercent deux loups.\\\\end{preview}', u'\\\\begin{preview}\\\\DEFMSg \\\\chefMSg \\\\DE \\\\DEFMPl \\\\hommeMPl\\\\end{preview}{}   \\\\begin{preview}\\\\donnerPrsTroisSgSg\\\\end{preview}{}   \\\\begin{preview}\\\\INDMSg \\\\coupMSg \\\\DE \\\\DEFMSg \\\\couteauMSg\\\\end{preview}{}   \\\\begin{preview}\\\\A \\\\DEFFSg \\\\louveFSg\\\\end{preview}{}', u'%  \\\\begin{preview}\\\\DEFMSg \\\\chefMSg \\\\DE \\\\DEFMPl \\\\hommeMPl\\\\end{preview}P{}   \\\\begin{preview}\\\\donnerPrsTroisSgSg\\\\end{preview}P{}   \\\\begin{preview}\\\\INDMSg \\\\coupMSg \\\\DE \\\\DEFMSg \\\\couteauMSg\\\\end{preview}P{}   \\\\begin{preview}\\\\A \\\\DEFFSg \\\\louveFSg\\\\end{preview}P{}', u'\\\\begin{preview}Le chef des hommes donne un coup de couteau \\xe0 la louve.\\\\end{preview}', u'\\\\begin{preview}\\\\DEFFSg \\\\louveFSg \\\\blesseFSg\\\\end{preview}{}   \\\\begin{preview}\\\\sortirPrsTroisSgSg\\\\end{preview}{}   \\\\begin{preview}\\\\DE \\\\DEFMSg \\\\combatMSg\\\\end{preview}{}', u'%  \\\\begin{preview}\\\\DEFFSg \\\\louveFSg \\\\blesseFSg\\\\end{preview}P{}   \\\\begin{preview}\\\\sortirPrsTroisSgSg\\\\end{preview}P{}   \\\\begin{preview}\\\\DE \\\\DEFMSg \\\\combatMSg\\\\end{preview}P{}', u'\\\\begin{preview}La louve bless\\xe9e sort du combat.\\\\end{preview}', u'\\\\begin{preview}\\\\DEFMPl \\\\loupMPl \\\\noirMPl\\\\end{preview}{}   \\\\begin{preview}\\\\rejoindrePrsTroisPlPl\\\\end{preview}{}   \\\\begin{preview}\\\\DEFFSg \\\\louveFSg \\\\grandFSg\\\\end{preview}{}   \\\\begin{preview}\\\\DANS \\\\DEFFSg \\\\foretFSg\\\\end{preview}{}', u'%  \\\\begin{preview}\\\\DEFMPl \\\\loupMPl \\\\noirMPl\\\\end{preview}P{}   \\\\begin{preview}\\\\rejoindrePrsTroisPlPl\\\\end{preview}P{}   \\\\begin{preview}\\\\DEFFSg \\\\louveFSg \\\\grandFSg\\\\end{preview}P{}   \\\\begin{preview}\\\\DANS \\\\DEFFSg \\\\foretFSg\\\\end{preview}P{}', u'\\\\begin{preview}Les loups noirs rejoignent la grande louve dans la for\\xeat.\\\\end{preview}', u'\\\\begin{preview}\\\\DEFFDu \\\\nuitFDu \\\\suivantFDu\\\\end{preview}{}   \\\\begin{preview}\\\\passerPstTroisDuDu\\\\end{preview}{}', u'%  \\\\begin{preview}\\\\DEFFDu \\\\nuitFDu \\\\suivantFDu\\\\end{preview}P{}   \\\\begin{preview}\\\\passerPstTroisDuDu\\\\end{preview}P{}', u'\\\\begin{preview}Les deux nuits suivantes pass\\xe8rent.\\\\end{preview}', u'\\\\begin{preview}\\\\DEMFPl \\\\nuitFPl\\\\end{preview}{}   \\\\begin{preview}\\\\voirPstTroisPlPl\\\\end{preview}{}   \\\\begin{preview}\\\\INDMPl \\\\combatMPl \\\\terribleMPl\\\\end{preview}{}', u'%  \\\\begin{preview}\\\\DEMFPl \\\\nuitFPl\\\\end{preview}P{}   \\\\begin{preview}\\\\voirPstTroisPlPl\\\\end{preview}P{}   \\\\begin{preview}\\\\INDMPl \\\\combatMPl \\\\terribleMPl\\\\end{preview}P{}', u'\\\\begin{preview}Ces nuits virent de terribles combats.\\\\end{preview}', u'\\\\begin{preview}\\\\DEFMPl \\\\hommeMPl\\\\end{preview}{}   \\\\begin{preview}\\\\prendrePrsTroisPlPl\\\\end{preview}{}   \\\\begin{preview}\\\\DEFFPl \\\\lanceFPl\\\\end{preview}{}   \\\\begin{preview}\\\\DANS \\\\DEFFSg \\\\nuitFSg \\\\suivantFSg\\\\end{preview}{}', u'%  \\\\begin{preview}\\\\DEFMPl \\\\hommeMPl\\\\end{preview}P{}   \\\\begin{preview}\\\\prendrePrsTroisPlPl\\\\end{preview}P{}   \\\\begin{preview}\\\\DEFFPl \\\\lanceFPl\\\\end{preview}P{}   \\\\begin{preview}\\\\DANS \\\\DEFFSg \\\\nuitFSg \\\\suivantFSg\\\\end{preview}P{}', u'\\\\begin{preview}Dans la nuit suivante, les hommes prennent les lances.\\\\end{preview}', u'\\\\begin{preview}\\\\DEFMSg \\\\KalebMSg \\\\courageuxMSg\\\\end{preview}{}   \\\\begin{preview}\\\\parlerPrsTroisSgSg\\\\end{preview}{}   \\\\begin{preview}\\\\A \\\\DEFMPl \\\\combattantMPl\\\\end{preview}{}', u'%  \\\\begin{preview}\\\\DEFMSg \\\\KalebMSg \\\\courageuxMSg\\\\end{preview}P{}   \\\\begin{preview}\\\\parlerPrsTroisSgSg\\\\end{preview}P{}   \\\\begin{preview}\\\\A \\\\DEFMPl \\\\combattantMPl\\\\end{preview}P{}', u'\\\\begin{preview}Le courageux Kaleb parle aux combattants.\\\\end{preview}', u'\\\\begin{preview}\\\\DEFMPl \\\\hommeMPl\\\\end{preview}{}   \\\\begin{preview}\\\\allerPrsTroisPlPl\\\\end{preview}{}   \\\\begin{preview}\\\\DANS \\\\DEFFSg \\\\foretFSg\\\\end{preview}{}', u'%  \\\\begin{preview}\\\\DEFMPl \\\\hommeMPl\\\\end{preview}P{}   \\\\begin{preview}\\\\allerPrsTroisPlPl\\\\end{preview}P{}   \\\\begin{preview}\\\\DANS \\\\DEFFSg \\\\foretFSg\\\\end{preview}P{}', u'\\\\begin{preview}Les hommes vont dans la for\\xeat.\\\\end{preview}', u'\\\\begin{preview}\\\\DEFFSg \\\\VioletteFSg\\\\end{preview}{}   \\\\begin{preview}\\\\chercherPrsTroisSgSg\\\\end{preview}{}   \\\\begin{preview}\\\\DEFFSg \\\\MahiraFSg\\\\end{preview}{}   \\\\begin{preview}\\\\A \\\\DEFMSg \\\\villageMSg\\\\end{preview}{}', u'%  \\\\begin{preview}\\\\DEFFSg \\\\VioletteFSg\\\\end{preview}P{}   \\\\begin{preview}\\\\chercherPrsTroisSgSg\\\\end{preview}P{}   \\\\begin{preview}\\\\DEFFSg \\\\MahiraFSg\\\\end{preview}P{}   \\\\begin{preview}\\\\A \\\\DEFMSg \\\\villageMSg\\\\end{preview}P{}', u'\\\\begin{preview}Au village, Violette cherche Mahira.\\\\end{preview}', u'\\\\begin{preview}\\\\INDMDu \\\\criMDu \\\\DE \\\\DEFMPl \\\\loupMPl\\\\end{preview}{}   \\\\begin{preview}\\\\tomberPrsTroisDuDu\\\\end{preview}{}   \\\\begin{preview}\\\\SUR \\\\DEFMSg \\\\villageMSg\\\\end{preview}{}', u'%  \\\\begin{preview}\\\\INDMDu \\\\criMDu \\\\DE \\\\DEFMPl \\\\loupMPl\\\\end{preview}P{}   \\\\begin{preview}\\\\tomberPrsTroisDuDu\\\\end{preview}P{}   \\\\begin{preview}\\\\SUR \\\\DEFMSg \\\\villageMSg\\\\end{preview}P{}', u'\\\\begin{preview}Deux cris de loups tombent sur le village.\\\\end{preview}', u'\\\\begin{preview}\\\\DEFMPl \\\\enfantMPl \\\\effrayeMPl\\\\end{preview}{}   \\\\begin{preview}\\\\allerPrsTroisPlPl\\\\end{preview}{}   \\\\begin{preview}\\\\DANS \\\\INDFSg \\\\maisonFSg \\\\DE \\\\DEFMSg \\\\villageMSg\\\\end{preview}{}   \\\\begin{preview}\\\\AVEC \\\\DEFFPl \\\\villageoiseFPl \\\\courageuxFPl\\\\end{preview}{}', u'%  \\\\begin{preview}\\\\DEFMPl \\\\enfantMPl \\\\effrayeMPl\\\\end{preview}P{}   \\\\begin{preview}\\\\allerPrsTroisPlPl\\\\end{preview}P{}   \\\\begin{preview}\\\\DANS \\\\INDFSg \\\\maisonFSg \\\\DE \\\\DEFMSg \\\\villageMSg\\\\end{preview}P{}   \\\\begin{preview}\\\\AVEC \\\\DEFFPl \\\\villageoiseFPl \\\\courageuxFPl\\\\end{preview}P{}', u'\\\\begin{preview}Les enfants effray\\xe9s vont dans une maison du village avec les courageuses villageoises.\\\\end{preview}', u'\\\\begin{preview}\\\\DEFMPl \\\\villageoisMPl\\\\end{preview}{}   \\\\begin{preview}\\\\fuirPstTroisPlPl\\\\end{preview}{}   \\\\begin{preview}\\\\VERS \\\\DEFMSg \\\\villageMSg\\\\end{preview}{}', u'%  \\\\begin{preview}\\\\DEFMPl \\\\villageoisMPl\\\\end{preview}P{}   \\\\begin{preview}\\\\fuirPstTroisPlPl\\\\end{preview}P{}   \\\\begin{preview}\\\\VERS \\\\DEFMSg \\\\villageMSg\\\\end{preview}P{}', u'\\\\begin{preview}Les villageois fuyaient vers le village.\\\\end{preview}', u'\\\\begin{preview}\\\\INDFSg \\\\blessureFSg\\\\end{preview}{}   \\\\begin{preview}\\\\recouvrirPstTroisSgSg\\\\end{preview}{}   \\\\begin{preview}\\\\DEFMSg \\\\visageMSg \\\\DE \\\\INDMSg \\\\combattantMSg\\\\end{preview}{}', u'%  \\\\begin{preview}\\\\INDFSg \\\\blessureFSg\\\\end{preview}P{}   \\\\begin{preview}\\\\recouvrirPstTroisSgSg\\\\end{preview}P{}   \\\\begin{preview}\\\\DEFMSg \\\\visageMSg \\\\DE \\\\INDMSg \\\\combattantMSg\\\\end{preview}P{}', u\"\\\\begin{preview}Une blessure recouvrait le visage d'un combattant.\\\\end{preview}\", u'\\\\begin{preview}\\\\INDFDu \\\\villageoiseFDu\\\\end{preview}{}   \\\\begin{preview}\\\\courirPrsTroisDuDu\\\\end{preview}{}   \\\\begin{preview}\\\\VERS \\\\DEMMSg \\\\hommeMSg \\\\blesseMSg\\\\end{preview}{}', u'%  \\\\begin{preview}\\\\INDFDu \\\\villageoiseFDu\\\\end{preview}P{}   \\\\begin{preview}\\\\courirPrsTroisDuDu\\\\end{preview}P{}   \\\\begin{preview}\\\\VERS \\\\DEMMSg \\\\hommeMSg \\\\blesseMSg\\\\end{preview}P{}', u'\\\\begin{preview}Deux villageoises courent vers cet homme bless\\xe9.\\\\end{preview}', u'\\\\begin{preview}\\\\DEFMSg \\\\KalebMSg\\\\end{preview}{}   \\\\begin{preview}\\\\rejoindrePrsTroisSgSg\\\\end{preview}{}   \\\\begin{preview}\\\\DEFFSg \\\\VioletteFSg\\\\end{preview}{}', u'%  \\\\begin{preview}\\\\DEFMSg \\\\KalebMSg\\\\end{preview}P{}   \\\\begin{preview}\\\\rejoindrePrsTroisSgSg\\\\end{preview}P{}   \\\\begin{preview}\\\\DEFFSg \\\\VioletteFSg\\\\end{preview}P{}', u'\\\\begin{preview}Kaleb rejoint Violette.\\\\end{preview}', u'\\\\begin{preview}\\\\DEFMPl \\\\villageoisMPl\\\\end{preview}{}   \\\\begin{preview}\\\\pousserPrsTroisPlPl\\\\end{preview}{}   \\\\begin{preview}\\\\DEFMPl \\\\enfantMPl\\\\end{preview}{}   \\\\begin{preview}\\\\DANS \\\\DEFFPl \\\\maisonFPl\\\\end{preview}{}', u'%  \\\\begin{preview}\\\\DEFMPl \\\\villageoisMPl\\\\end{preview}P{}   \\\\begin{preview}\\\\pousserPrsTroisPlPl\\\\end{preview}P{}   \\\\begin{preview}\\\\DEFMPl \\\\enfantMPl\\\\end{preview}P{}   \\\\begin{preview}\\\\DANS \\\\DEFFPl \\\\maisonFPl\\\\end{preview}P{}', u'\\\\begin{preview}Les villageois poussent les enfants dans les maisons.\\\\end{preview}', u'\\\\begin{preview}\\\\DEFFPl \\\\nuitFPl\\\\end{preview}{}   \\\\begin{preview}\\\\passerPstTroisPlPl\\\\end{preview}{}', u'%  \\\\begin{preview}\\\\DEFFPl \\\\nuitFPl\\\\end{preview}P{}   \\\\begin{preview}\\\\passerPstTroisPlPl\\\\end{preview}P{}', u'\\\\begin{preview}Les nuits passaient.\\\\end{preview}', u'\\\\begin{preview}\\\\DEFMPl \\\\combatMPl \\\\suivantMPl\\\\end{preview}{}   \\\\begin{preview}\\\\apporterPstTroisPlPl\\\\end{preview}{}   \\\\begin{preview}\\\\INDFPl \\\\mortFPl\\\\end{preview}{}   \\\\begin{preview}\\\\A \\\\DEFMSg \\\\villageMSg\\\\end{preview}{}', u'%  \\\\begin{preview}\\\\DEFMPl \\\\combatMPl \\\\suivantMPl\\\\end{preview}P{}   \\\\begin{preview}\\\\apporterPstTroisPlPl\\\\end{preview}P{}   \\\\begin{preview}\\\\INDFPl \\\\mortFPl\\\\end{preview}P{}   \\\\begin{preview}\\\\A \\\\DEFMSg \\\\villageMSg\\\\end{preview}P{}', u'\\\\begin{preview}Les combats suivants apport\\xe8rent des morts au village.\\\\end{preview}', u'\\\\begin{preview}\\\\DEFMPl \\\\loupMPl \\\\noirMPl\\\\end{preview}{}   \\\\begin{preview}\\\\apporterPrsTroisPlPl\\\\end{preview}{}   \\\\begin{preview}\\\\INDMDu \\\\corpsMDu \\\\DE \\\\DEFMPl \\\\villageoisMPl\\\\end{preview}{}   \\\\begin{preview}\\\\A \\\\DEFFSg \\\\louveFSg \\\\blancFSg\\\\end{preview}{}   \\\\begin{preview}\\\\DANS \\\\DEFFSg \\\\foretFSg\\\\end{preview}{}', u'%  \\\\begin{preview}\\\\DEFMPl \\\\loupMPl \\\\noirMPl\\\\end{preview}P{}   \\\\begin{preview}\\\\apporterPrsTroisPlPl\\\\end{preview}P{}   \\\\begin{preview}\\\\INDMDu \\\\corpsMDu \\\\DE \\\\DEFMPl \\\\villageoisMPl\\\\end{preview}P{}   \\\\begin{preview}\\\\A \\\\DEFFSg \\\\louveFSg \\\\blancFSg\\\\end{preview}P{}   \\\\begin{preview}\\\\DANS \\\\DEFFSg \\\\foretFSg\\\\end{preview}P{}', u'\\\\begin{preview}Les loups noirs apportent deux corps de villageois \\xe0 la louve blanche dans la for\\xeat.\\\\end{preview}', u'\\\\begin{preview}\\\\DEFFSg \\\\louveFSg \\\\grandFSg\\\\end{preview}{}   \\\\begin{preview}\\\\apporterPrsTroisSgSg\\\\end{preview}{}   \\\\begin{preview}\\\\DEMMDu \\\\corpsMDu\\\\end{preview}{}   \\\\begin{preview}\\\\A \\\\DEFMSg \\\\demonMSg\\\\end{preview}{}', u'%  \\\\begin{preview}\\\\DEFFSg \\\\louveFSg \\\\grandFSg\\\\end{preview}P{}   \\\\begin{preview}\\\\apporterPrsTroisSgSg\\\\end{preview}P{}   \\\\begin{preview}\\\\DEMMDu \\\\corpsMDu\\\\end{preview}P{}   \\\\begin{preview}\\\\A \\\\DEFMSg \\\\demonMSg\\\\end{preview}P{}', u'\\\\begin{preview}La grande louve apporte ces deux corps au d\\xe9mon.\\\\end{preview}', u'\\\\begin{preview}\\\\DEFMSg \\\\demonMSg\\\\end{preview}{}   \\\\begin{preview}\\\\jeterPrsTroisSgSg\\\\end{preview}{}   \\\\begin{preview}\\\\INDMSg \\\\sortMSg\\\\end{preview}{}   \\\\begin{preview}\\\\A \\\\DEFFPl \\\\mortFPl\\\\end{preview}{}', u'%  \\\\begin{preview}\\\\DEFMSg \\\\demonMSg\\\\end{preview}P{}   \\\\begin{preview}\\\\jeterPrsTroisSgSg\\\\end{preview}P{}   \\\\begin{preview}\\\\INDMSg \\\\sortMSg\\\\end{preview}P{}   \\\\begin{preview}\\\\A \\\\DEFFPl \\\\mortFPl\\\\end{preview}P{}', u'\\\\begin{preview}Le d\\xe9mon jette un sort aux morts.\\\\end{preview}', u'\\\\begin{preview}\\\\DEFMSg \\\\sortMSg\\\\end{preview}{}   \\\\begin{preview}\\\\donnerPrsTroisSgSg\\\\end{preview}{}   \\\\begin{preview}\\\\INDFSg \\\\lueurFSg \\\\rougeFSg\\\\end{preview}{}   \\\\begin{preview}\\\\A \\\\DEFMDu \\\\villageoisMDu\\\\end{preview}{}', u'%  \\\\begin{preview}\\\\DEFMSg \\\\sortMSg\\\\end{preview}P{}   \\\\begin{preview}\\\\donnerPrsTroisSgSg\\\\end{preview}P{}   \\\\begin{preview}\\\\INDFSg \\\\lueurFSg \\\\rougeFSg\\\\end{preview}P{}   \\\\begin{preview}\\\\A \\\\DEFMDu \\\\villageoisMDu\\\\end{preview}P{}', u'\\\\begin{preview}Le sort donne une lueur rouge aux deux villageois.\\\\end{preview}', u'\\\\begin{preview}\\\\DEFMDu \\\\corpsMDu\\\\end{preview}{}   \\\\begin{preview}\\\\disparaitrePrsTroisDuDu\\\\end{preview}{}', u'%  \\\\begin{preview}\\\\DEFMDu \\\\corpsMDu\\\\end{preview}P{}   \\\\begin{preview}\\\\disparaitrePrsTroisDuDu\\\\end{preview}P{}', u'\\\\begin{preview}Les deux corps disparaissent.\\\\end{preview}', u'\\\\begin{preview}\\\\DEFMSg \\\\demonMSg\\\\end{preview}{}   \\\\begin{preview}\\\\parlerPstTroisSgSg\\\\end{preview}{}   \\\\begin{preview}\\\\A \\\\DEFFSg \\\\MahiraFSg\\\\end{preview}{}', u'%  \\\\begin{preview}\\\\DEFMSg \\\\demonMSg\\\\end{preview}P{}   \\\\begin{preview}\\\\parlerPstTroisSgSg\\\\end{preview}P{}   \\\\begin{preview}\\\\A \\\\DEFFSg \\\\MahiraFSg\\\\end{preview}P{}', u'\\\\begin{preview}Le d\\xe9mon parla \\xe0 Mahira.\\\\end{preview}', u'\\\\begin{preview}\\\\DEFMSg \\\\sortMSg\\\\end{preview}{}   \\\\begin{preview}\\\\chercherPrsTroisSgSg\\\\end{preview}{}   \\\\begin{preview}\\\\INDMSg \\\\corpsMSg \\\\differentMSg\\\\end{preview}{}', u'%  \\\\begin{preview}\\\\DEFMSg \\\\sortMSg\\\\end{preview}P{}   \\\\begin{preview}\\\\chercherPrsTroisSgSg\\\\end{preview}P{}   \\\\begin{preview}\\\\INDMSg \\\\corpsMSg \\\\differentMSg\\\\end{preview}P{}', u'\\\\begin{preview}Le sort cherche un corps diff\\xe9rent.\\\\end{preview}', u'\\\\begin{preview}\\\\DEFMSg \\\\demonMSg\\\\end{preview}{}   \\\\begin{preview}\\\\donnerPrsTroisSgSg\\\\end{preview}{}   \\\\begin{preview}\\\\INDFSg \\\\colereFSg \\\\grandFSg\\\\end{preview}{}   \\\\begin{preview}\\\\A \\\\DEFMSg \\\\chefMSg \\\\DE \\\\DEFMPl \\\\loupMPl\\\\end{preview}{}', u'%  \\\\begin{preview}\\\\DEFMSg \\\\demonMSg\\\\end{preview}P{}   \\\\begin{preview}\\\\donnerPrsTroisSgSg\\\\end{preview}P{}   \\\\begin{preview}\\\\INDFSg \\\\colereFSg \\\\grandFSg\\\\end{preview}P{}   \\\\begin{preview}\\\\A \\\\DEFMSg \\\\chefMSg \\\\DE \\\\DEFMPl \\\\loupMPl\\\\end{preview}P{}', u'\\\\begin{preview}Le d\\xe9mon donne une grande col\\xe8re \\xe0 la cheffe des loups.\\\\end{preview}', u'\\\\begin{preview}\\\\DEFFSg \\\\nuitFSg\\\\end{preview}{}   \\\\begin{preview}\\\\approcherPstTroisSgSg\\\\end{preview}{}', u'%  \\\\begin{preview}\\\\DEFFSg \\\\nuitFSg\\\\end{preview}P{}   \\\\begin{preview}\\\\approcherPstTroisSgSg\\\\end{preview}P{}', u'\\\\begin{preview}La nuit approchait.\\\\end{preview}', u'\\\\begin{preview}\\\\DEFMPl \\\\combattantMPl \\\\courageuxMPl\\\\end{preview}{}   \\\\begin{preview}\\\\allerPstTroisPlPl\\\\end{preview}{}   \\\\begin{preview}\\\\VERS \\\\DEFFSg \\\\foretFSg \\\\DE \\\\DEFMPl \\\\loupMPl\\\\end{preview}{}', u'%  \\\\begin{preview}\\\\DEFMPl \\\\combattantMPl \\\\courageuxMPl\\\\end{preview}P{}   \\\\begin{preview}\\\\allerPstTroisPlPl\\\\end{preview}P{}   \\\\begin{preview}\\\\VERS \\\\DEFFSg \\\\foretFSg \\\\DE \\\\DEFMPl \\\\loupMPl\\\\end{preview}P{}', u'\\\\begin{preview}Les combattants courageux allaient vers la for\\xeat des loups.\\\\end{preview}', u'\\\\begin{preview}\\\\DEFMPl \\\\enfantMPl\\\\end{preview}{}   \\\\begin{preview}\\\\rejoindrePstTroisPlPl\\\\end{preview}{}   \\\\begin{preview}\\\\DEFFSg \\\\maisonFSg \\\\grandFSg\\\\end{preview}{}   \\\\begin{preview}\\\\AVEC \\\\DEFFPl \\\\villageoiseFPl\\\\end{preview}{}', u'%  \\\\begin{preview}\\\\DEFMPl \\\\enfantMPl\\\\end{preview}P{}   \\\\begin{preview}\\\\rejoindrePstTroisPlPl\\\\end{preview}P{}   \\\\begin{preview}\\\\DEFFSg \\\\maisonFSg \\\\grandFSg\\\\end{preview}P{}   \\\\begin{preview}\\\\AVEC \\\\DEFFPl \\\\villageoiseFPl\\\\end{preview}P{}', u'\\\\begin{preview}Les enfants rejoignaient la grande maison avec les villageoises.\\\\end{preview}', u'\\\\begin{preview}\\\\DEFFSg \\\\VioletteFSg\\\\end{preview}{}   \\\\begin{preview}\\\\parlerPstTroisSgSg\\\\end{preview}{}   \\\\begin{preview}\\\\A \\\\INDMPl \\\\enfantMPl \\\\petitMPl\\\\end{preview}{}   \\\\begin{preview}\\\\DEVANT \\\\DEFFSg \\\\maisonFSg\\\\end{preview}{}', u'%  \\\\begin{preview}\\\\DEFFSg \\\\VioletteFSg\\\\end{preview}P{}   \\\\begin{preview}\\\\parlerPstTroisSgSg\\\\end{preview}P{}   \\\\begin{preview}\\\\A \\\\INDMPl \\\\enfantMPl \\\\petitMPl\\\\end{preview}P{}   \\\\begin{preview}\\\\DEVANT \\\\DEFFSg \\\\maisonFSg\\\\end{preview}P{}', u'\\\\begin{preview}Devant la maison, Violette parlait \\xe0 des petits enfants.\\\\end{preview}', u'\\\\begin{preview}\\\\DEFFSg \\\\filleFSg \\\\petitFSg\\\\end{preview}{}   \\\\begin{preview}\\\\voirPrsTroisSgSg\\\\end{preview}{}   \\\\begin{preview}\\\\INDFSg \\\\ombreFSg \\\\ENTRE \\\\DEFMPl \\\\arbreMPl\\\\end{preview}{}', u'%  \\\\begin{preview}\\\\DEFFSg \\\\filleFSg \\\\petitFSg\\\\end{preview}P{}   \\\\begin{preview}\\\\voirPrsTroisSgSg\\\\end{preview}P{}   \\\\begin{preview}\\\\INDFSg \\\\ombreFSg \\\\ENTRE \\\\DEFMPl \\\\arbreMPl\\\\end{preview}P{}', u'\\\\begin{preview}La petite fille voit une ombre entre les arbres.\\\\end{preview}', u'\\\\begin{preview}\\\\DEFFSg \\\\MahiraFSg\\\\end{preview}{}   \\\\begin{preview}\\\\disparaitrePstTroisSgSg\\\\end{preview}{}   \\\\begin{preview}\\\\DANS \\\\DEFFSg \\\\foretFSg \\\\profondFSg\\\\end{preview}{}', u'%  \\\\begin{preview}\\\\DEFFSg \\\\MahiraFSg\\\\end{preview}P{}   \\\\begin{preview}\\\\disparaitrePstTroisSgSg\\\\end{preview}P{}   \\\\begin{preview}\\\\DANS \\\\DEFFSg \\\\foretFSg \\\\profondFSg\\\\end{preview}P{}', u'\\\\begin{preview}Mahira disparaissait dans la for\\xeat profonde.\\\\end{preview}', u'\\\\begin{preview}\\\\DEFFSg \\\\VioletteFSg\\\\end{preview}{}   \\\\begin{preview}\\\\courirPrsTroisSgSg\\\\end{preview}{}   \\\\begin{preview}\\\\VERS \\\\DEFFSg \\\\MahiraFSg\\\\end{preview}{}', u'%  \\\\begin{preview}\\\\DEFFSg \\\\VioletteFSg\\\\end{preview}P{}   \\\\begin{preview}\\\\courirPrsTroisSgSg\\\\end{preview}P{}   \\\\begin{preview}\\\\VERS \\\\DEFFSg \\\\MahiraFSg\\\\end{preview}P{}', u'\\\\begin{preview}Violette court vers Mahira.\\\\end{preview}', u'\\\\begin{preview}\\\\INDMDu \\\\enfantMDu\\\\end{preview}{}   \\\\begin{preview}\\\\rejoindrePrsTroisDuDu\\\\end{preview}{}   \\\\begin{preview}\\\\DEFFSg \\\\VioletteFSg\\\\end{preview}{}   \\\\begin{preview}\\\\VERS \\\\DEFFSg \\\\foretFSg\\\\end{preview}{}', u'%  \\\\begin{preview}\\\\INDMDu \\\\enfantMDu\\\\end{preview}P{}   \\\\begin{preview}\\\\rejoindrePrsTroisDuDu\\\\end{preview}P{}   \\\\begin{preview}\\\\DEFFSg \\\\VioletteFSg\\\\end{preview}P{}   \\\\begin{preview}\\\\VERS \\\\DEFFSg \\\\foretFSg\\\\end{preview}P{}', u'\\\\begin{preview}Deux enfants rejoignent Violette vers la for\\xeat.\\\\end{preview}', u'\\\\begin{preview}\\\\INDFSg \\\\villageoiseFSg \\\\effrayeFSg\\\\end{preview}{}   \\\\begin{preview}\\\\pousserPrsTroisSgSg\\\\end{preview}{}   \\\\begin{preview}\\\\INDMSg \\\\criMSg\\\\end{preview}{}', u'%  \\\\begin{preview}\\\\INDFSg \\\\villageoiseFSg \\\\effrayeFSg\\\\end{preview}P{}   \\\\begin{preview}\\\\pousserPrsTroisSgSg\\\\end{preview}P{}   \\\\begin{preview}\\\\INDMSg \\\\criMSg\\\\end{preview}P{}', u'\\\\begin{preview}Une villageoise effray\\xe9e pousse un cri.\\\\end{preview}', u'\\\\begin{preview}\\\\DEFFSg \\\\VioletteFSg\\\\end{preview}{}   \\\\begin{preview}\\\\fuirPrsTroisSgSg\\\\end{preview}{}', u'%  \\\\begin{preview}\\\\DEFFSg \\\\VioletteFSg\\\\end{preview}P{}   \\\\begin{preview}\\\\fuirPrsTroisSgSg\\\\end{preview}P{}', u'\\\\begin{preview}Violette fuit.\\\\end{preview}', u'\\\\begin{preview}\\\\DEMFSg \\\\villageoiseFSg\\\\end{preview}{}   \\\\begin{preview}\\\\prendrePrsTroisSgSg\\\\end{preview}{}   \\\\begin{preview}\\\\DEFFSg \\\\mainFSg\\\\end{preview}{}   \\\\begin{preview}\\\\A \\\\DEFFDu \\\\enfantFDu \\\\petitFDu\\\\end{preview}{}', u'%  \\\\begin{preview}\\\\DEMFSg \\\\villageoiseFSg\\\\end{preview}P{}   \\\\begin{preview}\\\\prendrePrsTroisSgSg\\\\end{preview}P{}   \\\\begin{preview}\\\\DEFFSg \\\\mainFSg\\\\end{preview}P{}   \\\\begin{preview}\\\\A \\\\DEFFDu \\\\enfantFDu \\\\petitFDu\\\\end{preview}P{}', u'\\\\begin{preview}Cette villageoise prend la main aux deux petits enfants.\\\\end{preview}', u'\\\\begin{preview}\\\\DEFFSg \\\\villageoiseFSg\\\\end{preview}{}   \\\\begin{preview}\\\\allerPrsTroisSgSg\\\\end{preview}{}   \\\\begin{preview}\\\\DANS \\\\DEFFSg \\\\maisonFSg\\\\end{preview}{}   \\\\begin{preview}\\\\AVEC \\\\DEFMSg \\\\enfantMSg\\\\end{preview}{}', u'%  \\\\begin{preview}\\\\DEFFSg \\\\villageoiseFSg\\\\end{preview}P{}   \\\\begin{preview}\\\\allerPrsTroisSgSg\\\\end{preview}P{}   \\\\begin{preview}\\\\DANS \\\\DEFFSg \\\\maisonFSg\\\\end{preview}P{}   \\\\begin{preview}\\\\AVEC \\\\DEFMSg \\\\enfantMSg\\\\end{preview}P{}', u\"\\\\begin{preview}La villageoise va dans la maison avec l'enfant.\\\\end{preview}\", u'\\\\begin{preview}\\\\DEFFSg \\\\VioletteFSg\\\\end{preview}{}   \\\\begin{preview}\\\\chercherPstTroisSgSg\\\\end{preview}{}   \\\\begin{preview}\\\\DEFFSg \\\\MahiraFSg\\\\end{preview}{}   \\\\begin{preview}\\\\DANS \\\\DEFFSg \\\\foretFSg\\\\end{preview}{}', u'%  \\\\begin{preview}\\\\DEFFSg \\\\VioletteFSg\\\\end{preview}P{}   \\\\begin{preview}\\\\chercherPstTroisSgSg\\\\end{preview}P{}   \\\\begin{preview}\\\\DEFFSg \\\\MahiraFSg\\\\end{preview}P{}   \\\\begin{preview}\\\\DANS \\\\DEFFSg \\\\foretFSg\\\\end{preview}P{}', u'\\\\begin{preview}Violette cherchait Mahira dans la for\\xeat.\\\\end{preview}', u'\\\\begin{preview}\\\\INDMDu \\\\loupMDu \\\\noirMDu\\\\end{preview}{}   \\\\begin{preview}\\\\approcherPstTroisDuDu\\\\end{preview}{}', u'%  \\\\begin{preview}\\\\INDMDu \\\\loupMDu \\\\noirMDu\\\\end{preview}P{}   \\\\begin{preview}\\\\approcherPstTroisDuDu\\\\end{preview}P{}', u'\\\\begin{preview}Deux loups noirs approchaient.\\\\end{preview}', u'\\\\begin{preview}\\\\DEFFSg \\\\VioletteFSg\\\\end{preview}{}   \\\\begin{preview}\\\\voirPrsTroisSgSg\\\\end{preview}{}   \\\\begin{preview}\\\\DEMMDu \\\\loupMDu\\\\end{preview}{}   \\\\begin{preview}\\\\DANS \\\\DEFFSg \\\\nuitFSg \\\\noirFSg\\\\end{preview}{}', u'%  \\\\begin{preview}\\\\DEFFSg \\\\VioletteFSg\\\\end{preview}P{}   \\\\begin{preview}\\\\voirPrsTroisSgSg\\\\end{preview}P{}   \\\\begin{preview}\\\\DEMMDu \\\\loupMDu\\\\end{preview}P{}   \\\\begin{preview}\\\\DANS \\\\DEFFSg \\\\nuitFSg \\\\noirFSg\\\\end{preview}P{}', u'\\\\begin{preview}Violette voit ces deux loups dans la nuit noire.\\\\end{preview}', u'\\\\begin{preview}\\\\DEFFSg \\\\filleFSg \\\\petitFSg\\\\end{preview}{}   \\\\begin{preview}\\\\fuirPrsTroisSgSg\\\\end{preview}{}   \\\\begin{preview}\\\\VERS \\\\DEFFPl \\\\lueurFPl \\\\DE \\\\DEFMSg \\\\villageMSg\\\\end{preview}{}', u'%  \\\\begin{preview}\\\\DEFFSg \\\\filleFSg \\\\petitFSg\\\\end{preview}P{}   \\\\begin{preview}\\\\fuirPrsTroisSgSg\\\\end{preview}P{}   \\\\begin{preview}\\\\VERS \\\\DEFFPl \\\\lueurFPl \\\\DE \\\\DEFMSg \\\\villageMSg\\\\end{preview}P{}', u'\\\\begin{preview}La petite fille fuit vers les lueurs du village.\\\\end{preview}', u'\\\\begin{preview}\\\\DEFMDu \\\\loupMDu \\\\terribleMDu\\\\end{preview}{}   \\\\begin{preview}\\\\chasserPrsTroisDuDu\\\\end{preview}{}   \\\\begin{preview}\\\\DEFFSg \\\\VioletteFSg\\\\end{preview}{}', u'%  \\\\begin{preview}\\\\DEFMDu \\\\loupMDu \\\\terribleMDu\\\\end{preview}P{}   \\\\begin{preview}\\\\chasserPrsTroisDuDu\\\\end{preview}P{}   \\\\begin{preview}\\\\DEFFSg \\\\VioletteFSg\\\\end{preview}P{}', u'\\\\begin{preview}Les deux terribles loups chassent Violette.\\\\end{preview}', u'\\\\begin{preview}\\\\DEFMSg \\\\loupMSg \\\\petitMSg\\\\end{preview}{}   \\\\begin{preview}\\\\planterPrsTroisSgSg\\\\end{preview}{}   \\\\begin{preview}\\\\INDFPl \\\\crocFPl\\\\end{preview}{}   \\\\begin{preview}\\\\DANS \\\\DEFFSg \\\\filleFSg\\\\end{preview}{}', u'%  \\\\begin{preview}\\\\DEFMSg \\\\loupMSg \\\\petitMSg\\\\end{preview}P{}   \\\\begin{preview}\\\\planterPrsTroisSgSg\\\\end{preview}P{}   \\\\begin{preview}\\\\INDFPl \\\\crocFPl\\\\end{preview}P{}   \\\\begin{preview}\\\\DANS \\\\DEFFSg \\\\filleFSg\\\\end{preview}P{}', u'\\\\begin{preview}Le petit loup plante des crocs dans la fille.\\\\end{preview}', u'\\\\begin{preview}\\\\DEFMSg \\\\loupMSg \\\\suivantMSg\\\\end{preview}{}   \\\\begin{preview}\\\\approcherPrsTroisSgSg\\\\end{preview}{}', u'%  \\\\begin{preview}\\\\DEFMSg \\\\loupMSg \\\\suivantMSg\\\\end{preview}P{}   \\\\begin{preview}\\\\approcherPrsTroisSgSg\\\\end{preview}P{}', u'\\\\begin{preview}Le loup suivant approche.\\\\end{preview}', u'\\\\begin{preview}\\\\DEFFSg \\\\louveFSg \\\\blancFSg\\\\end{preview}{}   \\\\begin{preview}\\\\sortirPrsTroisSgSg\\\\end{preview}{}   \\\\begin{preview}\\\\DE \\\\DEFMSg \\\\milieuMSg \\\\DE \\\\DEFMDu \\\\arbreMDu\\\\end{preview}{}', u'%  \\\\begin{preview}\\\\DEFFSg \\\\louveFSg \\\\blancFSg\\\\end{preview}P{}   \\\\begin{preview}\\\\sortirPrsTroisSgSg\\\\end{preview}P{}   \\\\begin{preview}\\\\DE \\\\DEFMSg \\\\milieuMSg \\\\DE \\\\DEFMDu \\\\arbreMDu\\\\end{preview}P{}', u'\\\\begin{preview}La louve blanche sort du milieu des deux arbres.\\\\end{preview}', u'\\\\begin{preview}\\\\DEFMSg \\\\chefMSg \\\\DE \\\\DEFMPl \\\\loupMPl\\\\end{preview}{}   \\\\begin{preview}\\\\protegerPrsTroisSgSg\\\\end{preview}{}   \\\\begin{preview}\\\\DEFFSg \\\\filleFSg \\\\petitFSg \\\\blesseFSg\\\\end{preview}{}', u'%  \\\\begin{preview}\\\\DEFMSg \\\\chefMSg \\\\DE \\\\DEFMPl \\\\loupMPl\\\\end{preview}P{}   \\\\begin{preview}\\\\protegerPrsTroisSgSg\\\\end{preview}P{}   \\\\begin{preview}\\\\DEFFSg \\\\filleFSg \\\\petitFSg \\\\blesseFSg\\\\end{preview}P{}', u'\\\\begin{preview}La cheffe des loups prot\\xe8ge la petite fille bless\\xe9e.\\\\end{preview}', u'\\\\begin{preview}\\\\DEFMSg \\\\loupMSg \\\\petitMSg \\\\noirMSg\\\\end{preview}{}   \\\\begin{preview}\\\\approcherPrsTroisSgSg\\\\end{preview}{}   \\\\begin{preview}\\\\DE \\\\DEFFSg \\\\louveFSg\\\\end{preview}{}', u'%  \\\\begin{preview}\\\\DEFMSg \\\\loupMSg \\\\petitMSg \\\\noirMSg\\\\end{preview}P{}   \\\\begin{preview}\\\\approcherPrsTroisSgSg\\\\end{preview}P{}   \\\\begin{preview}\\\\DE \\\\DEFFSg \\\\louveFSg\\\\end{preview}P{}', u'\\\\begin{preview}Le petit loup noir approche de la louve.\\\\end{preview}', u'\\\\begin{preview}\\\\DEFMSg \\\\loupMSg \\\\petitMSg\\\\end{preview}{}   \\\\begin{preview}\\\\sauterPrsTroisSgSg\\\\end{preview}{}   \\\\begin{preview}\\\\SUR \\\\DEFMSg \\\\chefMSg \\\\DE \\\\DEFMPl \\\\loupMPl\\\\end{preview}{}', u'%  \\\\begin{preview}\\\\DEFMSg \\\\loupMSg \\\\petitMSg\\\\end{preview}P{}   \\\\begin{preview}\\\\sauterPrsTroisSgSg\\\\end{preview}P{}   \\\\begin{preview}\\\\SUR \\\\DEFMSg \\\\chefMSg \\\\DE \\\\DEFMPl \\\\loupMPl\\\\end{preview}P{}', u'\\\\begin{preview}Le petit loup saute sur la cheffe des loups.\\\\end{preview}', u'\\\\begin{preview}\\\\DEFFSg \\\\louveFSg\\\\end{preview}{}   \\\\begin{preview}\\\\sauterPrsTroisSgSg\\\\end{preview}{}   \\\\begin{preview}\\\\VERS \\\\DEMMSg \\\\combattantMSg\\\\end{preview}{}', u'%  \\\\begin{preview}\\\\DEFFSg \\\\louveFSg\\\\end{preview}P{}   \\\\begin{preview}\\\\sauterPrsTroisSgSg\\\\end{preview}P{}   \\\\begin{preview}\\\\VERS \\\\DEMMSg \\\\combattantMSg\\\\end{preview}P{}', u'\\\\begin{preview}La louve saute vers ce combattant.\\\\end{preview}', u'\\\\begin{preview}\\\\DEFFPl \\\\crocFPl \\\\DE \\\\DEFMSg \\\\chefMSg\\\\end{preview}{}   \\\\begin{preview}\\\\transpercerPrsTroisPlPl\\\\end{preview}{}   \\\\begin{preview}\\\\DEFMSg \\\\gorgeMSg \\\\DE \\\\DEMMSg \\\\loupMSg \\\\petitMSg\\\\end{preview}{}', u'%  \\\\begin{preview}\\\\DEFFPl \\\\crocFPl \\\\DE \\\\DEFMSg \\\\chefMSg\\\\end{preview}P{}   \\\\begin{preview}\\\\transpercerPrsTroisPlPl\\\\end{preview}P{}   \\\\begin{preview}\\\\DEFMSg \\\\gorgeMSg \\\\DE \\\\DEMMSg \\\\loupMSg \\\\petitMSg\\\\end{preview}P{}', u'\\\\begin{preview}Les crocs de la cheffe transpercent la gorge de ce petit loup.\\\\end{preview}', u'\\\\begin{preview}\\\\DEFMSg \\\\corpsMSg \\\\DE \\\\DEFMSg \\\\loupMSg\\\\end{preview}{}   \\\\begin{preview}\\\\tomberPrsTroisSgSg\\\\end{preview}{}', u'%  \\\\begin{preview}\\\\DEFMSg \\\\corpsMSg \\\\DE \\\\DEFMSg \\\\loupMSg\\\\end{preview}P{}   \\\\begin{preview}\\\\tomberPrsTroisSgSg\\\\end{preview}P{}', u'\\\\begin{preview}Le corps du loup tombe.\\\\end{preview}', u'\\\\begin{preview}\\\\DEFFSg \\\\louveFSg \\\\grandFSg\\\\end{preview}{}   \\\\begin{preview}\\\\prendrePrsTroisSgSg\\\\end{preview}{}   \\\\begin{preview}\\\\DEFFSg \\\\VioletteFSg\\\\end{preview}{}   \\\\begin{preview}\\\\ENTRE \\\\DEFFPl \\\\crocFPl\\\\end{preview}{}', u'%  \\\\begin{preview}\\\\DEFFSg \\\\louveFSg \\\\grandFSg\\\\end{preview}P{}   \\\\begin{preview}\\\\prendrePrsTroisSgSg\\\\end{preview}P{}   \\\\begin{preview}\\\\DEFFSg \\\\VioletteFSg\\\\end{preview}P{}   \\\\begin{preview}\\\\ENTRE \\\\DEFFPl \\\\crocFPl\\\\end{preview}P{}', u'\\\\begin{preview}La grande louve prend Violette entre les crocs.\\\\end{preview}', u'\\\\begin{preview}\\\\DEFFSg \\\\louveFSg\\\\end{preview}{}   \\\\begin{preview}\\\\fuirPrsTroisSgSg\\\\end{preview}{}   \\\\begin{preview}\\\\AVEC \\\\DEMFSg \\\\filleFSg \\\\petitFSg \\\\ENTRE \\\\DEFFPl \\\\crocFPl\\\\end{preview}{}', u'%  \\\\begin{preview}\\\\DEFFSg \\\\louveFSg\\\\end{preview}P{}   \\\\begin{preview}\\\\fuirPrsTroisSgSg\\\\end{preview}P{}   \\\\begin{preview}\\\\AVEC \\\\DEMFSg \\\\filleFSg \\\\petitFSg \\\\ENTRE \\\\DEFFPl \\\\crocFPl\\\\end{preview}P{}', u'\\\\begin{preview}La louve fuit avec cette petite fille entre les crocs.\\\\end{preview}', u'\\\\begin{preview}\\\\DEFMSg \\\\loupMSg \\\\noirMSg \\\\suivantMSg\\\\end{preview}{}   \\\\begin{preview}\\\\courirPrsTroisSgSg\\\\end{preview}{}   \\\\begin{preview}\\\\APRES \\\\DEFFSg \\\\louveFSg\\\\end{preview}{}', u'%  \\\\begin{preview}\\\\DEFMSg \\\\loupMSg \\\\noirMSg \\\\suivantMSg\\\\end{preview}P{}   \\\\begin{preview}\\\\courirPrsTroisSgSg\\\\end{preview}P{}   \\\\begin{preview}\\\\APRES \\\\DEFFSg \\\\louveFSg\\\\end{preview}P{}', u'\\\\begin{preview}Le loup noir suivant court apr\\xe8s la louve.\\\\end{preview}', u'\\\\begin{preview}\\\\DEFFSg \\\\VioletteFSg \\\\petitFSg\\\\end{preview}{}   \\\\begin{preview}\\\\pousserPrsTroisSgSg\\\\end{preview}{}   \\\\begin{preview}\\\\INDMPl \\\\criMPl \\\\terribleMPl\\\\end{preview}{}   \\\\begin{preview}\\\\DANS \\\\DEFFSg \\\\nuitFSg \\\\noirFSg\\\\end{preview}{}', u'%  \\\\begin{preview}\\\\DEFFSg \\\\VioletteFSg \\\\petitFSg\\\\end{preview}P{}   \\\\begin{preview}\\\\pousserPrsTroisSgSg\\\\end{preview}P{}   \\\\begin{preview}\\\\INDMPl \\\\criMPl \\\\terribleMPl\\\\end{preview}P{}   \\\\begin{preview}\\\\DANS \\\\DEFFSg \\\\nuitFSg \\\\noirFSg\\\\end{preview}P{}', u'\\\\begin{preview}La petite Violette pousse de terribles cris dans la nuit noire.\\\\end{preview}', u'\\\\begin{preview}\\\\DEFMSg \\\\KalebMSg\\\\end{preview}{}   \\\\begin{preview}\\\\courirPrsTroisSgSg\\\\end{preview}{}   \\\\begin{preview}\\\\VERS \\\\DEMMSg \\\\criMSg\\\\end{preview}{}   \\\\begin{preview}\\\\AVEC \\\\INDMSg \\\\combattantMSg \\\\DE \\\\DEFMSg \\\\villageMSg\\\\end{preview}{}', u'%  \\\\begin{preview}\\\\DEFMSg \\\\KalebMSg\\\\end{preview}P{}   \\\\begin{preview}\\\\courirPrsTroisSgSg\\\\end{preview}P{}   \\\\begin{preview}\\\\VERS \\\\DEMMSg \\\\criMSg\\\\end{preview}P{}   \\\\begin{preview}\\\\AVEC \\\\INDMSg \\\\combattantMSg \\\\DE \\\\DEFMSg \\\\villageMSg\\\\end{preview}P{}', u'\\\\begin{preview}Kaleb court vers ce cri avec un combattant du village.\\\\end{preview}', u'\\\\begin{preview}\\\\DEFMSg \\\\KalebMSg\\\\end{preview}{}   \\\\begin{preview}\\\\voirPrsTroisSgSg\\\\end{preview}{}   \\\\begin{preview}\\\\INDFSg \\\\louveFSg \\\\AVEC \\\\INDFSg \\\\filleFSg \\\\ENTRE \\\\DEFFPl \\\\crocFPl\\\\end{preview}{}', u'%  \\\\begin{preview}\\\\DEFMSg \\\\KalebMSg\\\\end{preview}P{}   \\\\begin{preview}\\\\voirPrsTroisSgSg\\\\end{preview}P{}   \\\\begin{preview}\\\\INDFSg \\\\louveFSg \\\\AVEC \\\\INDFSg \\\\filleFSg \\\\ENTRE \\\\DEFFPl \\\\crocFPl\\\\end{preview}P{}', u'\\\\begin{preview}Kaleb voit une louve avec une fille entre les crocs.\\\\end{preview}', u'\\\\begin{preview}\\\\DEFMSg \\\\loupMSg \\\\noirMSg\\\\end{preview}{}   \\\\begin{preview}\\\\allerPrsTroisSgSg\\\\end{preview}{}   \\\\begin{preview}\\\\VERS \\\\DEFMDu \\\\combattantMDu \\\\courageuxMDu\\\\end{preview}{}', u'%  \\\\begin{preview}\\\\DEFMSg \\\\loupMSg \\\\noirMSg\\\\end{preview}P{}   \\\\begin{preview}\\\\allerPrsTroisSgSg\\\\end{preview}P{}   \\\\begin{preview}\\\\VERS \\\\DEFMDu \\\\combattantMDu \\\\courageuxMDu\\\\end{preview}P{}', u'\\\\begin{preview}Le loup noir va vers les deux courageux combattants.\\\\end{preview}', u'\\\\begin{preview}\\\\DEFMSg \\\\villageoisMSg\\\\end{preview}{}   \\\\begin{preview}\\\\jeterPrsTroisSgSg\\\\end{preview}{}   \\\\begin{preview}\\\\INDFSg \\\\lanceFSg\\\\end{preview}{}   \\\\begin{preview}\\\\A \\\\DEFMDu \\\\loupMDu\\\\end{preview}{}', u'%  \\\\begin{preview}\\\\DEFMSg \\\\villageoisMSg\\\\end{preview}P{}   \\\\begin{preview}\\\\jeterPrsTroisSgSg\\\\end{preview}P{}   \\\\begin{preview}\\\\INDFSg \\\\lanceFSg\\\\end{preview}P{}   \\\\begin{preview}\\\\A \\\\DEFMDu \\\\loupMDu\\\\end{preview}P{}', u'\\\\begin{preview}Le villageois jette une lance aux deux loups.\\\\end{preview}', u'\\\\begin{preview}\\\\DEFFSg \\\\lanceFSg\\\\end{preview}{}   \\\\begin{preview}\\\\transpercerPrsTroisSgSg\\\\end{preview}{}   \\\\begin{preview}\\\\INDMSg \\\\arbreMSg\\\\end{preview}{}', u'%  \\\\begin{preview}\\\\DEFFSg \\\\lanceFSg\\\\end{preview}P{}   \\\\begin{preview}\\\\transpercerPrsTroisSgSg\\\\end{preview}P{}   \\\\begin{preview}\\\\INDMSg \\\\arbreMSg\\\\end{preview}P{}', u'\\\\begin{preview}La lance transperce un arbre.\\\\end{preview}', u'\\\\begin{preview}\\\\DEFFSg \\\\louveFSg\\\\end{preview}{}   \\\\begin{preview}\\\\jeterPrsTroisSgSg\\\\end{preview}{}   \\\\begin{preview}\\\\DEFFSg \\\\VioletteFSg\\\\end{preview}{}', u'%  \\\\begin{preview}\\\\DEFFSg \\\\louveFSg\\\\end{preview}P{}   \\\\begin{preview}\\\\jeterPrsTroisSgSg\\\\end{preview}P{}   \\\\begin{preview}\\\\DEFFSg \\\\VioletteFSg\\\\end{preview}P{}', u'\\\\begin{preview}La louve jette Violette.\\\\end{preview}', u'\\\\begin{preview}\\\\DEFFSg \\\\VioletteFSg\\\\end{preview}{}   \\\\begin{preview}\\\\tomberPrsTroisSgSg\\\\end{preview}{}   \\\\begin{preview}\\\\SUR \\\\INDMSg \\\\arbreMSg\\\\end{preview}{}', u'%  \\\\begin{preview}\\\\DEFFSg \\\\VioletteFSg\\\\end{preview}P{}   \\\\begin{preview}\\\\tomberPrsTroisSgSg\\\\end{preview}P{}   \\\\begin{preview}\\\\SUR \\\\INDMSg \\\\arbreMSg\\\\end{preview}P{}', u'\\\\begin{preview}Violette tombe sur un arbre.\\\\end{preview}', u'\\\\begin{preview}\\\\DEFMSg \\\\chefMSg \\\\DE \\\\DEFMSg \\\\villageMSg\\\\end{preview}{}   \\\\begin{preview}\\\\prendrePrsTroisSgSg\\\\end{preview}{}   \\\\begin{preview}\\\\INDFSg \\\\lanceFSg\\\\end{preview}{}', u'%  \\\\begin{preview}\\\\DEFMSg \\\\chefMSg \\\\DE \\\\DEFMSg \\\\villageMSg\\\\end{preview}P{}   \\\\begin{preview}\\\\prendrePrsTroisSgSg\\\\end{preview}P{}   \\\\begin{preview}\\\\INDFSg \\\\lanceFSg\\\\end{preview}P{}', u'\\\\begin{preview}Le chef du village prend une lance.\\\\end{preview}', u'\\\\begin{preview}\\\\DEFMSg \\\\KalebMSg\\\\end{preview}{}   \\\\begin{preview}\\\\jeterPrsTroisSgSg\\\\end{preview}{}   \\\\begin{preview}\\\\DEMFSg \\\\lanceFSg\\\\end{preview}{}   \\\\begin{preview}\\\\VERS \\\\DEFFSg \\\\louveFSg\\\\end{preview}{}', u'%  \\\\begin{preview}\\\\DEFMSg \\\\KalebMSg\\\\end{preview}P{}   \\\\begin{preview}\\\\jeterPrsTroisSgSg\\\\end{preview}P{}   \\\\begin{preview}\\\\DEMFSg \\\\lanceFSg\\\\end{preview}P{}   \\\\begin{preview}\\\\VERS \\\\DEFFSg \\\\louveFSg\\\\end{preview}P{}', u'\\\\begin{preview}Kaleb jette cette lance vers la louve.\\\\end{preview}', u'\\\\begin{preview}\\\\DEMFSg \\\\lanceFSg\\\\end{preview}{}   \\\\begin{preview}\\\\transpercerPrsTroisSgSg\\\\end{preview}{}   \\\\begin{preview}\\\\DEFMSg \\\\corpsMSg \\\\blancMSg \\\\DE \\\\DEFFSg \\\\louveFSg\\\\end{preview}{}', u'%  \\\\begin{preview}\\\\DEMFSg \\\\lanceFSg\\\\end{preview}P{}   \\\\begin{preview}\\\\transpercerPrsTroisSgSg\\\\end{preview}P{}   \\\\begin{preview}\\\\DEFMSg \\\\corpsMSg \\\\blancMSg \\\\DE \\\\DEFFSg \\\\louveFSg\\\\end{preview}P{}', u'\\\\begin{preview}Cette lance transperce le corps blanc de la louve.\\\\end{preview}', u'\\\\begin{preview}\\\\DEFMSg \\\\loupMSg \\\\noirMSg\\\\end{preview}{}   \\\\begin{preview}\\\\sauterPrsTroisSgSg\\\\end{preview}{}   \\\\begin{preview}\\\\SUR \\\\DEFMSg \\\\combattantMSg\\\\end{preview}{}', u'%  \\\\begin{preview}\\\\DEFMSg \\\\loupMSg \\\\noirMSg\\\\end{preview}P{}   \\\\begin{preview}\\\\sauterPrsTroisSgSg\\\\end{preview}P{}   \\\\begin{preview}\\\\SUR \\\\DEFMSg \\\\combattantMSg\\\\end{preview}P{}', u'\\\\begin{preview}Le loup noir saute sur le combattant.\\\\end{preview}', u'\\\\begin{preview}\\\\DEFMSg \\\\combattantMSg\\\\end{preview}{}   \\\\begin{preview}\\\\tomberPrsTroisSgSg\\\\end{preview}{}   \\\\begin{preview}\\\\AVEC \\\\DEFMSg \\\\loupMSg\\\\end{preview}{}', u'%  \\\\begin{preview}\\\\DEFMSg \\\\combattantMSg\\\\end{preview}P{}   \\\\begin{preview}\\\\tomberPrsTroisSgSg\\\\end{preview}P{}   \\\\begin{preview}\\\\AVEC \\\\DEFMSg \\\\loupMSg\\\\end{preview}P{}', u'\\\\begin{preview}Le combattant tombe avec le loup.\\\\end{preview}', u'\\\\begin{preview}\\\\DEFMSg \\\\hommeMSg\\\\end{preview}{}   \\\\begin{preview}\\\\planterPrsTroisSgSg\\\\end{preview}{}   \\\\begin{preview}\\\\INDMSg \\\\couteauMSg\\\\end{preview}{}   \\\\begin{preview}\\\\DANS \\\\DEFMSg \\\\corpsMSg \\\\DE \\\\DEFMSg \\\\loupMSg\\\\end{preview}{}', u'%  \\\\begin{preview}\\\\DEFMSg \\\\hommeMSg\\\\end{preview}P{}   \\\\begin{preview}\\\\planterPrsTroisSgSg\\\\end{preview}P{}   \\\\begin{preview}\\\\INDMSg \\\\couteauMSg\\\\end{preview}P{}   \\\\begin{preview}\\\\DANS \\\\DEFMSg \\\\corpsMSg \\\\DE \\\\DEFMSg \\\\loupMSg\\\\end{preview}P{}', u\"\\\\begin{preview}L'homme plante un couteau dans le corps du loup.\\\\end{preview}\", u'\\\\begin{preview}\\\\DEFMSg \\\\loupMSg \\\\noirMSg\\\\end{preview}{}   \\\\begin{preview}\\\\planterPrsTroisSgSg\\\\end{preview}{}   \\\\begin{preview}\\\\DEFFPl \\\\crocFPl\\\\end{preview}{}   \\\\begin{preview}\\\\DANS \\\\DEFMSg \\\\gorgeMSg \\\\DE \\\\DEMMSg \\\\hommeMSg\\\\end{preview}{}', u'%  \\\\begin{preview}\\\\DEFMSg \\\\loupMSg \\\\noirMSg\\\\end{preview}P{}   \\\\begin{preview}\\\\planterPrsTroisSgSg\\\\end{preview}P{}   \\\\begin{preview}\\\\DEFFPl \\\\crocFPl\\\\end{preview}P{}   \\\\begin{preview}\\\\DANS \\\\DEFMSg \\\\gorgeMSg \\\\DE \\\\DEMMSg \\\\hommeMSg\\\\end{preview}P{}', u'\\\\begin{preview}Le loup noir plante les crocs dans la gorge de cet homme.\\\\end{preview}', u'\\\\begin{preview}\\\\DEFMDu \\\\combattantMDu\\\\end{preview}{}   \\\\begin{preview}\\\\disparaitrePrsTroisDuDu\\\\end{preview}{}   \\\\begin{preview}\\\\DANS \\\\DEFFSg \\\\mortFSg\\\\end{preview}{}', u'%  \\\\begin{preview}\\\\DEFMDu \\\\combattantMDu\\\\end{preview}P{}   \\\\begin{preview}\\\\disparaitrePrsTroisDuDu\\\\end{preview}P{}   \\\\begin{preview}\\\\DANS \\\\DEFFSg \\\\mortFSg\\\\end{preview}P{}', u'\\\\begin{preview}Les deux combattants disparaissent dans la mort.\\\\end{preview}', u'\\\\begin{preview}\\\\DEFMSg \\\\KalebMSg\\\\end{preview}{}   \\\\begin{preview}\\\\prendrePrsTroisSgSg\\\\end{preview}{}   \\\\begin{preview}\\\\INDMSg \\\\couteauMSg\\\\end{preview}{}', u'%  \\\\begin{preview}\\\\DEFMSg \\\\KalebMSg\\\\end{preview}P{}   \\\\begin{preview}\\\\prendrePrsTroisSgSg\\\\end{preview}P{}   \\\\begin{preview}\\\\INDMSg \\\\couteauMSg\\\\end{preview}P{}', u'\\\\begin{preview}Kaleb prend un couteau.\\\\end{preview}', u'\\\\begin{preview}\\\\DEFMSg \\\\chefMSg \\\\DE \\\\DEFMPl \\\\combattantMPl\\\\end{preview}{}   \\\\begin{preview}\\\\approcherPrsTroisSgSg\\\\end{preview}{}   \\\\begin{preview}\\\\DE \\\\DEFFSg \\\\louveFSg\\\\end{preview}{}', u'%  \\\\begin{preview}\\\\DEFMSg \\\\chefMSg \\\\DE \\\\DEFMPl \\\\combattantMPl\\\\end{preview}P{}   \\\\begin{preview}\\\\approcherPrsTroisSgSg\\\\end{preview}P{}   \\\\begin{preview}\\\\DE \\\\DEFFSg \\\\louveFSg\\\\end{preview}P{}', u'\\\\begin{preview}Le chef des combattants approche de la louve.\\\\end{preview}', u'\\\\begin{preview}\\\\DEFFSg \\\\louveFSg\\\\end{preview}{}   \\\\begin{preview}\\\\planterPrsTroisSgSg\\\\end{preview}{}   \\\\begin{preview}\\\\DEFFPl \\\\crocFPl\\\\end{preview}{}   \\\\begin{preview}\\\\DANS \\\\DEFFSg \\\\mainFSg \\\\DE \\\\DEFMSg \\\\KalebMSg\\\\end{preview}{}', u'%  \\\\begin{preview}\\\\DEFFSg \\\\louveFSg\\\\end{preview}P{}   \\\\begin{preview}\\\\planterPrsTroisSgSg\\\\end{preview}P{}   \\\\begin{preview}\\\\DEFFPl \\\\crocFPl\\\\end{preview}P{}   \\\\begin{preview}\\\\DANS \\\\DEFFSg \\\\mainFSg \\\\DE \\\\DEFMSg \\\\KalebMSg\\\\end{preview}P{}', u'\\\\begin{preview}La louve plante les crocs dans la main de Kaleb.\\\\end{preview}', u'\\\\begin{preview}\\\\DEFFPl \\\\crocFPl \\\\DE \\\\DEFFSg \\\\louveFSg\\\\end{preview}{}   \\\\begin{preview}\\\\donnerPrsTroisPlPl\\\\end{preview}{}   \\\\begin{preview}\\\\INDFSg \\\\blessureFSg \\\\profondFSg\\\\end{preview}{}   \\\\begin{preview}\\\\A \\\\DEFMPl \\\\villageoisMPl\\\\end{preview}{}', u'%  \\\\begin{preview}\\\\DEFFPl \\\\crocFPl \\\\DE \\\\DEFFSg \\\\louveFSg\\\\end{preview}P{}   \\\\begin{preview}\\\\donnerPrsTroisPlPl\\\\end{preview}P{}   \\\\begin{preview}\\\\INDFSg \\\\blessureFSg \\\\profondFSg\\\\end{preview}P{}   \\\\begin{preview}\\\\A \\\\DEFMPl \\\\villageoisMPl\\\\end{preview}P{}', u'\\\\begin{preview}Les crocs de la louve donnent une blessure profonde au villageois.\\\\end{preview}', u'\\\\begin{preview}\\\\DEFMSg \\\\couteauMSg\\\\end{preview}{}   \\\\begin{preview}\\\\tomberPrsTroisSgSg\\\\end{preview}{}', u'%  \\\\begin{preview}\\\\DEFMSg \\\\couteauMSg\\\\end{preview}P{}   \\\\begin{preview}\\\\tomberPrsTroisSgSg\\\\end{preview}P{}', u'\\\\begin{preview}Le couteau tombe.\\\\end{preview}', u'\\\\begin{preview}\\\\DEFFSg \\\\louveFSg\\\\end{preview}{}   \\\\begin{preview}\\\\pousserPrsTroisSgSg\\\\end{preview}{}   \\\\begin{preview}\\\\DEMMSg \\\\couteauMSg\\\\end{preview}{}', u'%  \\\\begin{preview}\\\\DEFFSg \\\\louveFSg\\\\end{preview}P{}   \\\\begin{preview}\\\\pousserPrsTroisSgSg\\\\end{preview}P{}   \\\\begin{preview}\\\\DEMMSg \\\\couteauMSg\\\\end{preview}P{}', u'\\\\begin{preview}La louve pousse ce couteau.\\\\end{preview}', u'\\\\begin{preview}\\\\DEFMSg \\\\KalebMSg\\\\end{preview}{}   \\\\begin{preview}\\\\prendrePrsTroisSgSg\\\\end{preview}{}   \\\\begin{preview}\\\\DEFFSg \\\\lanceFSg\\\\end{preview}{}   \\\\begin{preview}\\\\SUR \\\\DEFMSg \\\\arbreMSg\\\\end{preview}{}', u'%  \\\\begin{preview}\\\\DEFMSg \\\\KalebMSg\\\\end{preview}P{}   \\\\begin{preview}\\\\prendrePrsTroisSgSg\\\\end{preview}P{}   \\\\begin{preview}\\\\DEFFSg \\\\lanceFSg\\\\end{preview}P{}   \\\\begin{preview}\\\\SUR \\\\DEFMSg \\\\arbreMSg\\\\end{preview}P{}', u\"\\\\begin{preview}Kaleb prend la lance sur l'arbre.\\\\end{preview}\", u'\\\\begin{preview}\\\\DEFFSg \\\\louveFSg \\\\blesseFSg\\\\end{preview}{}   \\\\begin{preview}\\\\disparaitrePstTroisSgSg\\\\end{preview}{}   \\\\begin{preview}\\\\DANS \\\\DEFFSg \\\\ombreFSg \\\\DE \\\\DEFMPl \\\\arbreMPl\\\\end{preview}{}', u'%  \\\\begin{preview}\\\\DEFFSg \\\\louveFSg \\\\blesseFSg\\\\end{preview}P{}   \\\\begin{preview}\\\\disparaitrePstTroisSgSg\\\\end{preview}P{}   \\\\begin{preview}\\\\DANS \\\\DEFFSg \\\\ombreFSg \\\\DE \\\\DEFMPl \\\\arbreMPl\\\\end{preview}P{}', u\"\\\\begin{preview}La louve bless\\xe9e disparaissait dans l'ombre des arbres.\\\\end{preview}\", u'\\\\begin{preview}\\\\DEFMSg \\\\KalebMSg\\\\end{preview}{}   \\\\begin{preview}\\\\courirPrsTroisSgSg\\\\end{preview}{}   \\\\begin{preview}\\\\VERS \\\\DEFFSg \\\\louveFSg\\\\end{preview}{}   \\\\begin{preview}\\\\AVEC \\\\DEFFSg \\\\lanceFSg \\\\DANS \\\\DEFFSg \\\\mainFSg\\\\end{preview}{}', u'%  \\\\begin{preview}\\\\DEFMSg \\\\KalebMSg\\\\end{preview}P{}   \\\\begin{preview}\\\\courirPrsTroisSgSg\\\\end{preview}P{}   \\\\begin{preview}\\\\VERS \\\\DEFFSg \\\\louveFSg\\\\end{preview}P{}   \\\\begin{preview}\\\\AVEC \\\\DEFFSg \\\\lanceFSg \\\\DANS \\\\DEFFSg \\\\mainFSg\\\\end{preview}P{}', u'\\\\begin{preview}Kaleb court vers la louve avec la lance dans la main.\\\\end{preview}', u'\\\\begin{preview}\\\\DEFMSg \\\\KalebMSg\\\\end{preview}{}   \\\\begin{preview}\\\\rejoindrePrsTroisSgSg\\\\end{preview}{}   \\\\begin{preview}\\\\DEMFSg \\\\louveFSg\\\\end{preview}{}', u'%  \\\\begin{preview}\\\\DEFMSg \\\\KalebMSg\\\\end{preview}P{}   \\\\begin{preview}\\\\rejoindrePrsTroisSgSg\\\\end{preview}P{}   \\\\begin{preview}\\\\DEMFSg \\\\louveFSg\\\\end{preview}P{}', u'\\\\begin{preview}Kaleb rejoint cette louve.\\\\end{preview}', u'\\\\begin{preview}\\\\DEFMSg \\\\chefMSg \\\\DE \\\\DEFMPl \\\\villageoisMPl\\\\end{preview}{}   \\\\begin{preview}\\\\donnerPrsTroisSgSg\\\\end{preview}{}   \\\\begin{preview}\\\\INDMSg \\\\coupMSg\\\\end{preview}{}   \\\\begin{preview}\\\\A \\\\DEFFSg \\\\louveFSg\\\\end{preview}{}', u'%  \\\\begin{preview}\\\\DEFMSg \\\\chefMSg \\\\DE \\\\DEFMPl \\\\villageoisMPl\\\\end{preview}P{}   \\\\begin{preview}\\\\donnerPrsTroisSgSg\\\\end{preview}P{}   \\\\begin{preview}\\\\INDMSg \\\\coupMSg\\\\end{preview}P{}   \\\\begin{preview}\\\\A \\\\DEFFSg \\\\louveFSg\\\\end{preview}P{}', u'\\\\begin{preview}Le chef des villageois donne un coup \\xe0 la louve.\\\\end{preview}', u'\\\\begin{preview}\\\\DEFFSg \\\\louveFSg \\\\blesseFSg\\\\end{preview}{}   \\\\begin{preview}\\\\tomberPrsTroisSgSg\\\\end{preview}{}', u'%  \\\\begin{preview}\\\\DEFFSg \\\\louveFSg \\\\blesseFSg\\\\end{preview}P{}   \\\\begin{preview}\\\\tomberPrsTroisSgSg\\\\end{preview}P{}', u'\\\\begin{preview}La louve bless\\xe9e tombe.\\\\end{preview}', u'\\\\begin{preview}\\\\DEFMSg \\\\KalebMSg\\\\end{preview}{}   \\\\begin{preview}\\\\prendrePrsTroisSgSg\\\\end{preview}{}   \\\\begin{preview}\\\\DEFFSg \\\\lanceFSg\\\\end{preview}{}   \\\\begin{preview}\\\\SUR \\\\DEFFSg \\\\louveFSg \\\\blesseFSg\\\\end{preview}{}', u'%  \\\\begin{preview}\\\\DEFMSg \\\\KalebMSg\\\\end{preview}P{}   \\\\begin{preview}\\\\prendrePrsTroisSgSg\\\\end{preview}P{}   \\\\begin{preview}\\\\DEFFSg \\\\lanceFSg\\\\end{preview}P{}   \\\\begin{preview}\\\\SUR \\\\DEFFSg \\\\louveFSg \\\\blesseFSg\\\\end{preview}P{}', u'\\\\begin{preview}Kaleb prend la lance sur la louve bless\\xe9e.\\\\end{preview}', u'\\\\begin{preview}\\\\DEFMSg \\\\villageoisMSg \\\\furieuxMSg\\\\end{preview}{}   \\\\begin{preview}\\\\planterPrsTroisSgSg\\\\end{preview}{}   \\\\begin{preview}\\\\DEMFDu \\\\lanceFDu\\\\end{preview}{}   \\\\begin{preview}\\\\DANS \\\\DEMMSg \\\\corpsMSg \\\\blesseMSg\\\\end{preview}{}', u'%  \\\\begin{preview}\\\\DEFMSg \\\\villageoisMSg \\\\furieuxMSg\\\\end{preview}P{}   \\\\begin{preview}\\\\planterPrsTroisSgSg\\\\end{preview}P{}   \\\\begin{preview}\\\\DEMFDu \\\\lanceFDu\\\\end{preview}P{}   \\\\begin{preview}\\\\DANS \\\\DEMMSg \\\\corpsMSg \\\\blesseMSg\\\\end{preview}P{}', u'\\\\begin{preview}Le villageois furieux plante ces deux lances dans ce corps bless\\xe9.\\\\end{preview}', u'\\\\begin{preview}\\\\INDFSg \\\\lanceFSg\\\\end{preview}{}   \\\\begin{preview}\\\\disparaitrePrsTroisSgSg\\\\end{preview}{}   \\\\begin{preview}\\\\DANS \\\\DEFMSg \\\\corpsMSg \\\\DE \\\\DEFMSg \\\\chefMSg \\\\DE \\\\DEFMPl \\\\loupMPl\\\\end{preview}{}', u'%  \\\\begin{preview}\\\\INDFSg \\\\lanceFSg\\\\end{preview}P{}   \\\\begin{preview}\\\\disparaitrePrsTroisSgSg\\\\end{preview}P{}   \\\\begin{preview}\\\\DANS \\\\DEFMSg \\\\corpsMSg \\\\DE \\\\DEFMSg \\\\chefMSg \\\\DE \\\\DEFMPl \\\\loupMPl\\\\end{preview}P{}', u'\\\\begin{preview}Une lance dispara\\xeet dans le corps de la cheffe des loups.\\\\end{preview}', u'\\\\begin{preview}\\\\DEFFSg \\\\lanceFSg \\\\suivantFSg\\\\end{preview}{}   \\\\begin{preview}\\\\transpercerPrsTroisSgSg\\\\end{preview}{}   \\\\begin{preview}\\\\DEFMSg \\\\gorgeMSg \\\\DE \\\\DEFFSg \\\\louveFSg\\\\end{preview}{}', u'%  \\\\begin{preview}\\\\DEFFSg \\\\lanceFSg \\\\suivantFSg\\\\end{preview}P{}   \\\\begin{preview}\\\\transpercerPrsTroisSgSg\\\\end{preview}P{}   \\\\begin{preview}\\\\DEFMSg \\\\gorgeMSg \\\\DE \\\\DEFFSg \\\\louveFSg\\\\end{preview}P{}', u'\\\\begin{preview}La lance suivante transperce la gorge de la louve.\\\\end{preview}', u'\\\\begin{preview}\\\\DEMFPl \\\\blessureFPl \\\\profondFPl\\\\end{preview}{}   \\\\begin{preview}\\\\donnerPrsTroisPlPl\\\\end{preview}{}   \\\\begin{preview}\\\\DEFFSg \\\\mortFSg\\\\end{preview}{}   \\\\begin{preview}\\\\A \\\\DEFFSg \\\\louveFSg \\\\grandFSg\\\\end{preview}{}', u'%  \\\\begin{preview}\\\\DEMFPl \\\\blessureFPl \\\\profondFPl\\\\end{preview}P{}   \\\\begin{preview}\\\\donnerPrsTroisPlPl\\\\end{preview}P{}   \\\\begin{preview}\\\\DEFFSg \\\\mortFSg\\\\end{preview}P{}   \\\\begin{preview}\\\\A \\\\DEFFSg \\\\louveFSg \\\\grandFSg\\\\end{preview}P{}', u'\\\\begin{preview}Ces blessures profondes donnent la mort \\xe0 la grande louve.\\\\end{preview}', u'\\\\begin{preview}\\\\DEFMSg \\\\KalebMSg\\\\end{preview}{}   \\\\begin{preview}\\\\rejoindrePrsTroisSgSg\\\\end{preview}{}   \\\\begin{preview}\\\\DEFFSg \\\\VioletteFSg\\\\end{preview}{}   \\\\begin{preview}\\\\DEVANT \\\\DEFMSg \\\\arbreMSg\\\\end{preview}{}', u'%  \\\\begin{preview}\\\\DEFMSg \\\\KalebMSg\\\\end{preview}P{}   \\\\begin{preview}\\\\rejoindrePrsTroisSgSg\\\\end{preview}P{}   \\\\begin{preview}\\\\DEFFSg \\\\VioletteFSg\\\\end{preview}P{}   \\\\begin{preview}\\\\DEVANT \\\\DEFMSg \\\\arbreMSg\\\\end{preview}P{}', u\"\\\\begin{preview}Kaleb rejoint Violette devant l'arbre.\\\\end{preview}\", u'\\\\begin{preview}\\\\DEFFDu \\\\mainFDu \\\\DE \\\\DEFMSg \\\\KalebMSg\\\\end{preview}{}   \\\\begin{preview}\\\\prendrePrsTroisDuDu\\\\end{preview}{}   \\\\begin{preview}\\\\DEFMSg \\\\corpsMSg \\\\rougeMSg \\\\DE \\\\DEFFSg \\\\filleFSg \\\\petitFSg\\\\end{preview}{}', u'%  \\\\begin{preview}\\\\DEFFDu \\\\mainFDu \\\\DE \\\\DEFMSg \\\\KalebMSg\\\\end{preview}P{}   \\\\begin{preview}\\\\prendrePrsTroisDuDu\\\\end{preview}P{}   \\\\begin{preview}\\\\DEFMSg \\\\corpsMSg \\\\rougeMSg \\\\DE \\\\DEFFSg \\\\filleFSg \\\\petitFSg\\\\end{preview}P{}', u'\\\\begin{preview}Les deux mains de Kaleb prennent le corps rouge de la petite fille.\\\\end{preview}', u'\\\\begin{preview}\\\\DEFFSg \\\\mortFSg\\\\end{preview}{}   \\\\begin{preview}\\\\prendrePrsTroisSgSg\\\\end{preview}{}   \\\\begin{preview}\\\\DEFFSg \\\\filleFSg \\\\petitFSg\\\\end{preview}{}', u'%  \\\\begin{preview}\\\\DEFFSg \\\\mortFSg\\\\end{preview}P{}   \\\\begin{preview}\\\\prendrePrsTroisSgSg\\\\end{preview}P{}   \\\\begin{preview}\\\\DEFFSg \\\\filleFSg \\\\petitFSg\\\\end{preview}P{}', u'\\\\begin{preview}La mort prend la petite fille.\\\\end{preview}', u'\\\\begin{preview}\\\\DEFFSg \\\\VioletteFSg\\\\end{preview}{}   \\\\begin{preview}\\\\rejoindrePrsTroisSgSg\\\\end{preview}{}   \\\\begin{preview}\\\\DEFFSg \\\\louveFSg \\\\grandFSg \\\\blancFSg\\\\end{preview}{}   \\\\begin{preview}\\\\DANS \\\\DEFFSg \\\\mortFSg\\\\end{preview}{}', u'%  \\\\begin{preview}\\\\DEFFSg \\\\VioletteFSg\\\\end{preview}P{}   \\\\begin{preview}\\\\rejoindrePrsTroisSgSg\\\\end{preview}P{}   \\\\begin{preview}\\\\DEFFSg \\\\louveFSg \\\\grandFSg \\\\blancFSg\\\\end{preview}P{}   \\\\begin{preview}\\\\DANS \\\\DEFFSg \\\\mortFSg\\\\end{preview}P{}', u'\\\\begin{preview}Violette rejoint la grande louve blanche dans la mort.\\\\end{preview}', u'\\\\begin{preview}\\\\INDFDu \\\\lueurFDu\\\\end{preview}{}   \\\\begin{preview}\\\\envahirPrsTroisDuDu\\\\end{preview}{}   \\\\begin{preview}\\\\DEFFSg \\\\foretFSg \\\\noirFSg\\\\end{preview}{}', u'%  \\\\begin{preview}\\\\INDFDu \\\\lueurFDu\\\\end{preview}P{}   \\\\begin{preview}\\\\envahirPrsTroisDuDu\\\\end{preview}P{}   \\\\begin{preview}\\\\DEFFSg \\\\foretFSg \\\\noirFSg\\\\end{preview}P{}', u'\\\\begin{preview}Deux lueurs envahissent la for\\xeat noire.\\\\end{preview}', u'\\\\begin{preview}\\\\DEFFPl \\\\lueurFPl \\\\blancFPl\\\\end{preview}{}   \\\\begin{preview}\\\\recouvrirPrsTroisPlPl\\\\end{preview}{}   \\\\begin{preview}\\\\DEFMSg \\\\corpsMSg \\\\DE \\\\DEFFSg \\\\VioletteFSg\\\\end{preview}{}', u'%  \\\\begin{preview}\\\\DEFFPl \\\\lueurFPl \\\\blancFPl\\\\end{preview}P{}   \\\\begin{preview}\\\\recouvrirPrsTroisPlPl\\\\end{preview}P{}   \\\\begin{preview}\\\\DEFMSg \\\\corpsMSg \\\\DE \\\\DEFFSg \\\\VioletteFSg\\\\end{preview}P{}', u'\\\\begin{preview}Les lueurs blanches recouvrent le corps de Violette.\\\\end{preview}', u'\\\\begin{preview}\\\\DEFFSg \\\\mortFSg \\\\DE \\\\DEFFSg \\\\VioletteFSg\\\\end{preview}{}   \\\\begin{preview}\\\\donnerPrsTroisSgSg\\\\end{preview}{}   \\\\begin{preview}\\\\INDFSg \\\\lueurFSg \\\\rougeFSg\\\\end{preview}{}   \\\\begin{preview}\\\\A \\\\DEFMSg \\\\corpsMSg \\\\DE \\\\DEFFSg \\\\louveFSg\\\\end{preview}{}', u'%  \\\\begin{preview}\\\\DEFFSg \\\\mortFSg \\\\DE \\\\DEFFSg \\\\VioletteFSg\\\\end{preview}P{}   \\\\begin{preview}\\\\donnerPrsTroisSgSg\\\\end{preview}P{}   \\\\begin{preview}\\\\INDFSg \\\\lueurFSg \\\\rougeFSg\\\\end{preview}P{}   \\\\begin{preview}\\\\A \\\\DEFMSg \\\\corpsMSg \\\\DE \\\\DEFFSg \\\\louveFSg\\\\end{preview}P{}', u'\\\\begin{preview}La mort de Violette donne une lueur rouge au corps de la louve.\\\\end{preview}', u'\\\\begin{preview}\\\\DEFFSg \\\\lueurFSg\\\\end{preview}{}   \\\\begin{preview}\\\\transformerPrsTroisSgSg\\\\end{preview}{}   \\\\begin{preview}\\\\DEFFSg \\\\louveFSg\\\\end{preview}{}   \\\\begin{preview}\\\\DEVANT \\\\DEFMSg \\\\KalebMSg\\\\end{preview}{}', u'%  \\\\begin{preview}\\\\DEFFSg \\\\lueurFSg\\\\end{preview}P{}   \\\\begin{preview}\\\\transformerPrsTroisSgSg\\\\end{preview}P{}   \\\\begin{preview}\\\\DEFFSg \\\\louveFSg\\\\end{preview}P{}   \\\\begin{preview}\\\\DEVANT \\\\DEFMSg \\\\KalebMSg\\\\end{preview}P{}', u'\\\\begin{preview}La lueur transforme la louve devant Kaleb.\\\\end{preview}', u'\\\\begin{preview}\\\\DEFMSg \\\\KalebMSg\\\\end{preview}{}   \\\\begin{preview}\\\\voirPrsTroisSgSg\\\\end{preview}{}   \\\\begin{preview}\\\\DEFFSg \\\\MahiraFSg \\\\AVEC \\\\INDFDu \\\\lanceFDu \\\\DANS \\\\DEFMSg \\\\corpsMSg\\\\end{preview}{}', u'%  \\\\begin{preview}\\\\DEFMSg \\\\KalebMSg\\\\end{preview}P{}   \\\\begin{preview}\\\\voirPrsTroisSgSg\\\\end{preview}P{}   \\\\begin{preview}\\\\DEFFSg \\\\MahiraFSg \\\\AVEC \\\\INDFDu \\\\lanceFDu \\\\DANS \\\\DEFMSg \\\\corpsMSg\\\\end{preview}P{}', u'\\\\begin{preview}Kaleb voit Mahira avec deux lances dans le corps.\\\\end{preview}', u'\\\\begin{preview}\\\\DEFMSg \\\\chefMSg \\\\DE \\\\DEFMPl \\\\villageoisMPl\\\\end{preview}{}   \\\\begin{preview}\\\\tomberPrsTroisSgSg\\\\end{preview}{}', u'%  \\\\begin{preview}\\\\DEFMSg \\\\chefMSg \\\\DE \\\\DEFMPl \\\\villageoisMPl\\\\end{preview}P{}   \\\\begin{preview}\\\\tomberPrsTroisSgSg\\\\end{preview}P{}', u'\\\\begin{preview}Le chef des villageois tombe.\\\\end{preview}', u'\\\\begin{preview}\\\\INDMSg \\\\souffranceMSg \\\\profondMSg\\\\end{preview}{}   \\\\begin{preview}\\\\envahirPrsTroisSgSg\\\\end{preview}{}   \\\\begin{preview}\\\\DEFMSg \\\\combattantMSg\\\\end{preview}{}', u'%  \\\\begin{preview}\\\\INDMSg \\\\souffranceMSg \\\\profondMSg\\\\end{preview}P{}   \\\\begin{preview}\\\\envahirPrsTroisSgSg\\\\end{preview}P{}   \\\\begin{preview}\\\\DEFMSg \\\\combattantMSg\\\\end{preview}P{}', u'\\\\begin{preview}Une profonde souffrance envahit le combattant.\\\\end{preview}', u'\\\\begin{preview}\\\\DEFMSg \\\\KalebMSg\\\\end{preview}{}   \\\\begin{preview}\\\\pousserPrsTroisSgSg\\\\end{preview}{}   \\\\begin{preview}\\\\INDMSg \\\\criMSg\\\\end{preview}{}', u'%  \\\\begin{preview}\\\\DEFMSg \\\\KalebMSg\\\\end{preview}P{}   \\\\begin{preview}\\\\pousserPrsTroisSgSg\\\\end{preview}P{}   \\\\begin{preview}\\\\INDMSg \\\\criMSg\\\\end{preview}P{}', u'\\\\begin{preview}Kaleb pousse un cri.\\\\end{preview}', u'\\\\begin{preview}\\\\DEFFSg \\\\luneFSg \\\\rougeFSg\\\\end{preview}{}   \\\\begin{preview}\\\\disparaitrePstTroisSgSg\\\\end{preview}{}   \\\\begin{preview}\\\\DERRIERE \\\\DEFMPl \\\\arbreMPl\\\\end{preview}{}', u'%  \\\\begin{preview}\\\\DEFFSg \\\\luneFSg \\\\rougeFSg\\\\end{preview}P{}   \\\\begin{preview}\\\\disparaitrePstTroisSgSg\\\\end{preview}P{}   \\\\begin{preview}\\\\DERRIERE \\\\DEFMPl \\\\arbreMPl\\\\end{preview}P{}', u'\\\\begin{preview}La lune rouge disparaissait derri\\xe8re les arbres.\\\\end{preview}']\n",
      "[u'\\\\DEFFSg', u'\\\\louveFSgP{}', u'\\\\etrePrsTroisSgSgP{}', u'\\\\AVEC', u'\\\\DEFMSg', u'\\\\villageMSgP{}']\n",
      "[u'\\\\DEFMSg', u'\\\\KalebMSgP{}', u'\\\\etrePstTroisSgSgP{}', u'\\\\DEFMSg', u'\\\\chefMSg', u'\\\\DE', u'\\\\INDMSg', u'\\\\villageMSg', u'\\\\petitMSg', u'\\\\DE', u'\\\\DEFFSg', u'\\\\foretFSgP{}']\n",
      "[u'\\\\DEFFSg', u'\\\\MahiraFSgP{}', u'\\\\etrePstTroisSgSgP{}', u'\\\\DEFFSg', u'\\\\soeurFSg', u'\\\\grandFSg', u'\\\\DE', u'\\\\DEFMSg', u'\\\\KalebMSgP{}']\n",
      "[u'\\\\DEFFSg', u'\\\\VioletteFSgP{}', u'\\\\etrePstTroisSgSgP{}', u'\\\\DEFFSg', u'\\\\filleFSg', u'\\\\DE', u'\\\\DEFMSg', u'\\\\KalebMSgP{}']\n",
      "[u'\\\\DEFFSg', u'\\\\MahiraFSgP{}', u'\\\\chasserPstTroisSgSgP{}', u'\\\\DANS', u'\\\\DEFFSg', u'\\\\foretFSg', u'\\\\AVEC', u'\\\\DEFFSg', u'\\\\filleFSg', u'\\\\DE', u'\\\\DEFMSg', u'\\\\KalebMSgP{}']\n",
      "[u'\\\\DEFFDu', u'\\\\filleFDuP{}', u'\\\\voirPstTroisDuDuP{}', u'\\\\INDFSg', u'\\\\ombreFSg', u'\\\\grandFSgP{}']\n",
      "[u'\\\\DEMFSg', u'\\\\ombreFSg', u'\\\\rougeFSg', u'\\\\noirFSgP{}', u'\\\\etrePstTroisSgSgP{}', u'\\\\INDMSg', u'\\\\demonMSgP{}']\n",
      "[u'\\\\DEFMSg', u'\\\\demonMSg', u'\\\\terribleMSgP{}', u'\\\\devorerPstTroisSgSgP{}', u'\\\\INDMSg', u'\\\\villageoisMSgP{}', u'\\\\DERRIERE', u'\\\\INDMSg', u'\\\\arbreMSgP{}']\n",
      "[u'\\\\DEFFDu', u'\\\\filleFDu', u'\\\\effrayeFDuP{}', u'\\\\fuirPrsTroisDuDuP{}', u'\\\\DEVANT', u'\\\\DEFMSg', u'\\\\corpsMSg', u'\\\\DE', u'\\\\DEMMSg', u'\\\\villageoisMSgP{}']\n",
      "[u'\\\\DEMFDu', u'\\\\filleFDuP{}', u'\\\\courirPrsTroisDuDuP{}', u'\\\\VERS', u'\\\\DEFMSg', u'\\\\villageMSgP{}']\n",
      "[u'\\\\DEFMSg', u'\\\\demonMSg', u'\\\\furieuxMSgP{}', u'\\\\voirPrsTroisSgSgP{}', u'\\\\DEFFDu', u'\\\\filleFDuP{}']\n",
      "[u'\\\\DEFMSg', u'\\\\loupMSg', u'\\\\grandMSg', u'\\\\blancMSg', u'\\\\DE', u'\\\\DEFMSg', u'\\\\demonMSgP{}', u'\\\\chasserPrsTroisSgSgP{}', u'\\\\DEFFDu', u'\\\\villageoiseFDuP{}']\n",
      "[u'\\\\DEFFSg', u'\\\\filleFSg', u'\\\\petitFSgP{}', u'\\\\tomberPrsTroisSgSgP{}']\n",
      "[u'\\\\DEFMSg', u'\\\\loupMSg', u'\\\\blancMSgP{}', u'\\\\courirPrsTroisSgSgP{}', u'\\\\VERS', u'\\\\DEMFSg', u'\\\\filleFSg', u'\\\\petitFSgP{}']\n",
      "[u'\\\\DEFFSg', u'\\\\MahiraFSg', u'\\\\courageuxFSgP{}', u'\\\\protegerPrsTroisSgSgP{}', u'\\\\DEFFSg', u'\\\\VioletteFSgP{}', u'\\\\AVEC', u'\\\\INDMSg', u'\\\\couteauMSgP{}']\n",
      "[u'\\\\DEMMSg', u'\\\\couteauMSgP{}', u'\\\\protegerPrsTroisSgSgP{}', u'\\\\DEFMSg', u'\\\\visageMSg', u'\\\\DE', u'\\\\DEFFSg', u'\\\\MahiraFSgP{}']\n",
      "[u'\\\\DEFMSg', u'\\\\loupMSg', u'\\\\grandMSgP{}', u'\\\\planterPrsTroisSgSgP{}', u'\\\\DEFFPl', u'\\\\crocFPlP{}', u'\\\\DANS', u'\\\\DEFFSg', u'\\\\mainFSg', u'\\\\DE', u'\\\\DEFFSg', u'\\\\MahiraFSgP{}']\n",
      "[u'\\\\DEFMSg', u'\\\\loupMSgP{}', u'\\\\prendrePrsTroisSgSgP{}', u'\\\\INDMSg', u'\\\\coupMSg', u'\\\\profondMSg', u'\\\\DE', u'\\\\DEFMSg', u'\\\\couteauMSgP{}', u'\\\\DANS', u'\\\\DEFMSg', u'\\\\gorgeMSgP{}']\n",
      "[u'\\\\DEMFSg', u'\\\\blessureFSg', u'\\\\profondFSgP{}', u'\\\\donnerPrsTroisSgSgP{}', u'\\\\DEFFSg', u'\\\\mortFSgP{}', u'\\\\A', u'\\\\DEMMSg', u'\\\\loupMSg', u'\\\\grandMSg', u'\\\\blancMSgP{}']\n",
      "[u'\\\\INDFSg', u'\\\\colereFSg', u'\\\\profondFSgP{}', u'\\\\envahirPrsTroisSgSgP{}', u'\\\\DEFMSg', u'\\\\visageMSg', u'\\\\rougeMSg', u'\\\\DE', u'\\\\DEFMSg', u'\\\\demonMSgP{}']\n",
      "[u'\\\\DEFMSg', u'\\\\demonMSgP{}', u'\\\\jeterPrsTroisSgSgP{}', u'\\\\INDMSg', u'\\\\sortMSgP{}', u'\\\\A', u'\\\\DEFFDu', u'\\\\filleFDuP{}']\n",
      "[u'\\\\INDFSg', u'\\\\lueurFSg', u'\\\\rougeFSgP{}', u'\\\\recouvrirPrsTroisSgSgP{}', u'\\\\DEFFDu', u'\\\\filleFDuP{}']\n",
      "[u'\\\\DEFFSg', u'\\\\nuitFSgP{}', u'\\\\tomberPrsTroisSgSgP{}', u'\\\\SUR', u'\\\\DEFMSg', u'\\\\villageMSg', u'\\\\DE', u'\\\\DEFMSg', u'\\\\KalebMSgP{}']\n",
      "[u'\\\\DEFFSg', u'\\\\lueurFSg', u'\\\\DE', u'\\\\DEFFSg', u'\\\\luneFSgP{}', u'\\\\envahirPstTroisSgSgP{}', u'\\\\DEFFSg', u'\\\\maisonFSg', u'\\\\DE', u'\\\\DEFFSg', u'\\\\MahiraFSgP{}']\n",
      "[u'\\\\DEMFSg', u'\\\\lueurFSgP{}', u'\\\\donnerPstTroisSgSgP{}', u'\\\\INDMSg', u'\\\\souffranceMSg', u'\\\\grandMSgP{}', u'\\\\A', u'\\\\DEFFSg', u'\\\\blessureFSg', u'\\\\DE', u'\\\\DEFFSg', u'\\\\MahiraFSgP{}']\n",
      "[u'\\\\DEFFSg', u'\\\\MahiraFSgP{}', u'\\\\sortirPstTroisSgSgP{}', u'\\\\DE', u'\\\\DEFFSg', u'\\\\maisonFSgP{}']\n",
      "[u'\\\\DEFFSg', u'\\\\lueurFSg', u'\\\\DE', u'\\\\DEFFSg', u'\\\\luneFSgP{}', u'\\\\recouvrirPrsTroisSgSgP{}', u'\\\\DEFMSg', u'\\\\corpsMSg', u'\\\\DE', u'\\\\DEFFSg', u'\\\\MahiraFSgP{}']\n",
      "[u'\\\\DEMMSg', u'\\\\corpsMSgP{}', u'\\\\disparaitrePrsTroisSgSgP{}', u'\\\\DANS', u'\\\\DEFFSg', u'\\\\nuitFSg', u'\\\\noirFSgP{}']\n",
      "[u'\\\\DEFFSg', u'\\\\nuitFSgP{}', u'\\\\transformerPrsTroisSgSgP{}', u'\\\\DEFMSg', u'\\\\visageMSg', u'\\\\DE', u'\\\\DEFFSg', u'\\\\soeurFSg', u'\\\\DE', u'\\\\DEFMSg', u'\\\\KalebMSgP{}']\n",
      "[u'\\\\DEFFSg', u'\\\\MahiraFSgP{}', u'\\\\etrePstTroisSgSgP{}', u'\\\\INDFSg', u'\\\\louveFSg', u'\\\\grandFSg', u'\\\\blancFSgP{}']\n",
      "[u'\\\\DEMFSg', u'\\\\louveFSg', u'\\\\effrayeFSgP{}', u'\\\\chercherPrsTroisSgSgP{}', u'\\\\DEFMSg', u'\\\\demonMSgP{}', u'\\\\DANS', u'\\\\DEFFSg', u'\\\\foretFSgP{}']\n",
      "[u'\\\\DEFFSg', u'\\\\louveFSgP{}', u'\\\\voirPstTroisSgSgP{}', u'\\\\INDMSg', u'\\\\serpentMSg', u'\\\\grandMSg', u'\\\\noirMSgP{}']\n",
      "[u'\\\\DEFMSg', u'\\\\serpentMSgP{}', u'\\\\parlerPstTroisSgSgP{}', u'\\\\A', u'\\\\DEFFSg', u'\\\\louveFSg', u'\\\\blancFSgP{}']\n",
      "[u'\\\\DEFMSg', u'\\\\sortMSg', u'\\\\DE', u'\\\\DEFMSg', u'\\\\demonMSgP{}', u'\\\\transformerPrsTroisSgSgP{}', u'\\\\DEFFSg', u'\\\\villageoiseFSgP{}', u'\\\\DANS', u'\\\\DEFFSg', u'\\\\nuitFSgP{}']\n",
      "[u'\\\\DEFMSg', u'\\\\loupMSg', u'\\\\blancMSgP{}', u'\\\\protegerPstTroisSgSgP{}', u'\\\\DEFMPl', u'\\\\loupMPl', u'\\\\noirMPlP{}']\n",
      "[u'\\\\DEFMPl', u'\\\\loupMPlP{}', u'\\\\devorerPrsTroisPlPlP{}', u'\\\\DEFMPl', u'\\\\villageoisMPlP{}']\n",
      "[u'\\\\DEFMPl', u'\\\\villageoisMPlP{}', u'\\\\chasserPrsTroisPlPlP{}', u'\\\\DEFMPl', u'\\\\loupMPlP{}']\n",
      "[u'\\\\DEFMSg', u'\\\\sortMSgP{}', u'\\\\disparaitrePrsTroisSgSgP{}', u'\\\\AVEC', u'\\\\DEFFSg', u'\\\\mortFSg', u'\\\\DE', u'\\\\DEFMPl', u'\\\\villageoisMPlP{}']\n",
      "[u'\\\\DEFMSg', u'\\\\serpentMSgP{}', u'\\\\allerPstTroisSgSgP{}', u'\\\\VERS', u'\\\\DEFFSg', u'\\\\maisonFSg', u'\\\\DE', u'\\\\DEFMSg', u'\\\\chefMSg', u'\\\\DE', u'\\\\DEFMSg', u'\\\\villageMSgP{}']\n",
      "[u'\\\\DEMMSg', u'\\\\serpentMSgP{}', u'\\\\parlerPstTroisSgSgP{}', u'\\\\A', u'\\\\DEFMSg', u'\\\\KalebMSgP{}']\n",
      "[u'\\\\INDFSg', u'\\\\colereFSg', u'\\\\noirFSgP{}', u'\\\\envahirPrsTroisSgSgP{}', u'\\\\DEFMPl', u'\\\\loupMPlP{}']\n",
      "[u'\\\\DEFMSg', u'\\\\combatMSg', u'\\\\terribleMSgP{}', u'\\\\approcherPrsTroisSgSgP{}']\n",
      "[u'\\\\DEFMSg', u'\\\\chefMSg', u'\\\\DE', u'\\\\DEFMSg', u'\\\\villageMSgP{}', u'\\\\parlerPrsTroisSgSgP{}', u'\\\\A', u'\\\\DEFMPl', u'\\\\villageoisMPlP{}', u'\\\\DE', u'\\\\DEFMPl', u'\\\\loupMPl', u'\\\\furieuxMPlP{}']\n",
      "[u'\\\\DEFFSg', u'\\\\nuitFSgP{}', u'\\\\tomberPstTroisSgSgP{}']\n",
      "[u'\\\\DEFMPl', u'\\\\loupMPlP{}', u'\\\\sortirPstTroisPlPlP{}', u'\\\\DE', u'\\\\DEFFSg', u'\\\\foretFSgP{}']\n",
      "[u'\\\\DEFMPl', u'\\\\villageoisMPlP{}', u'\\\\prendrePstTroisPlPlP{}', u'\\\\INDFPl', u'\\\\lanceFPlP{}']\n",
      "[u'\\\\DEFFPl', u'\\\\villageoiseFPlP{}', u'\\\\protegerPrsTroisPlPlP{}', u'\\\\DEFMPl', u'\\\\enfantMPl', u'\\\\petitMPlP{}', u'\\\\DANS', u'\\\\INDFSg', u'\\\\maisonFSgP{}']\n",
      "[u'\\\\DEFMPl', u'\\\\loupMPlP{}', u'\\\\envahirPrsTroisPlPlP{}', u'\\\\DEFMSg', u'\\\\villageMSg', u'\\\\petitMSgP{}']\n",
      "[u'\\\\INDMSg', u'\\\\loupMSgP{}', u'\\\\planterPrsTroisSgSgP{}', u'\\\\DEFFPl', u'\\\\crocFPlP{}', u'\\\\DANS', u'\\\\DEFMSg', u'\\\\gorgeMSg', u'\\\\DE', u'\\\\INDMSg', u'\\\\hommeMSgP{}']\n",
      "[u'\\\\DEFMPl', u'\\\\hommeMPlP{}', u'\\\\jeterPrsTroisPlPlP{}', u'\\\\INDFPl', u'\\\\lanceFPlP{}', u'\\\\A', u'\\\\DEFMPl', u'\\\\loupMPlP{}']\n",
      "[u'\\\\INDFDu', u'\\\\lanceFDuP{}', u'\\\\transpercerPrsTroisDuDuP{}', u'\\\\INDMDu', u'\\\\loupMDuP{}']\n",
      "[u'\\\\DEFMSg', u'\\\\chefMSg', u'\\\\DE', u'\\\\DEFMPl', u'\\\\hommeMPlP{}', u'\\\\donnerPrsTroisSgSgP{}', u'\\\\INDMSg', u'\\\\coupMSg', u'\\\\DE', u'\\\\DEFMSg', u'\\\\couteauMSgP{}', u'\\\\A', u'\\\\DEFFSg', u'\\\\louveFSgP{}']\n",
      "[u'\\\\DEFFSg', u'\\\\louveFSg', u'\\\\blesseFSgP{}', u'\\\\sortirPrsTroisSgSgP{}', u'\\\\DE', u'\\\\DEFMSg', u'\\\\combatMSgP{}']\n",
      "[u'\\\\DEFMPl', u'\\\\loupMPl', u'\\\\noirMPlP{}', u'\\\\rejoindrePrsTroisPlPlP{}', u'\\\\DEFFSg', u'\\\\louveFSg', u'\\\\grandFSgP{}', u'\\\\DANS', u'\\\\DEFFSg', u'\\\\foretFSgP{}']\n",
      "[u'\\\\DEFFDu', u'\\\\nuitFDu', u'\\\\suivantFDuP{}', u'\\\\passerPstTroisDuDuP{}']\n",
      "[u'\\\\DEMFPl', u'\\\\nuitFPlP{}', u'\\\\voirPstTroisPlPlP{}', u'\\\\INDMPl', u'\\\\combatMPl', u'\\\\terribleMPlP{}']\n",
      "[u'\\\\DEFMPl', u'\\\\hommeMPlP{}', u'\\\\prendrePrsTroisPlPlP{}', u'\\\\DEFFPl', u'\\\\lanceFPlP{}', u'\\\\DANS', u'\\\\DEFFSg', u'\\\\nuitFSg', u'\\\\suivantFSgP{}']\n",
      "[u'\\\\DEFMSg', u'\\\\KalebMSg', u'\\\\courageuxMSgP{}', u'\\\\parlerPrsTroisSgSgP{}', u'\\\\A', u'\\\\DEFMPl', u'\\\\combattantMPlP{}']\n",
      "[u'\\\\DEFMPl', u'\\\\hommeMPlP{}', u'\\\\allerPrsTroisPlPlP{}', u'\\\\DANS', u'\\\\DEFFSg', u'\\\\foretFSgP{}']\n",
      "[u'\\\\DEFFSg', u'\\\\VioletteFSgP{}', u'\\\\chercherPrsTroisSgSgP{}', u'\\\\DEFFSg', u'\\\\MahiraFSgP{}', u'\\\\A', u'\\\\DEFMSg', u'\\\\villageMSgP{}']\n",
      "[u'\\\\INDMDu', u'\\\\criMDu', u'\\\\DE', u'\\\\DEFMPl', u'\\\\loupMPlP{}', u'\\\\tomberPrsTroisDuDuP{}', u'\\\\SUR', u'\\\\DEFMSg', u'\\\\villageMSgP{}']\n",
      "[u'\\\\DEFMPl', u'\\\\enfantMPl', u'\\\\effrayeMPlP{}', u'\\\\allerPrsTroisPlPlP{}', u'\\\\DANS', u'\\\\INDFSg', u'\\\\maisonFSg', u'\\\\DE', u'\\\\DEFMSg', u'\\\\villageMSgP{}', u'\\\\AVEC', u'\\\\DEFFPl', u'\\\\villageoiseFPl', u'\\\\courageuxFPlP{}']\n",
      "[u'\\\\DEFMPl', u'\\\\villageoisMPlP{}', u'\\\\fuirPstTroisPlPlP{}', u'\\\\VERS', u'\\\\DEFMSg', u'\\\\villageMSgP{}']\n",
      "[u'\\\\INDFSg', u'\\\\blessureFSgP{}', u'\\\\recouvrirPstTroisSgSgP{}', u'\\\\DEFMSg', u'\\\\visageMSg', u'\\\\DE', u'\\\\INDMSg', u'\\\\combattantMSgP{}']\n",
      "[u'\\\\INDFDu', u'\\\\villageoiseFDuP{}', u'\\\\courirPrsTroisDuDuP{}', u'\\\\VERS', u'\\\\DEMMSg', u'\\\\hommeMSg', u'\\\\blesseMSgP{}']\n",
      "[u'\\\\DEFMSg', u'\\\\KalebMSgP{}', u'\\\\rejoindrePrsTroisSgSgP{}', u'\\\\DEFFSg', u'\\\\VioletteFSgP{}']\n",
      "[u'\\\\DEFMPl', u'\\\\villageoisMPlP{}', u'\\\\pousserPrsTroisPlPlP{}', u'\\\\DEFMPl', u'\\\\enfantMPlP{}', u'\\\\DANS', u'\\\\DEFFPl', u'\\\\maisonFPlP{}']\n",
      "[u'\\\\DEFFPl', u'\\\\nuitFPlP{}', u'\\\\passerPstTroisPlPlP{}']\n",
      "[u'\\\\DEFMPl', u'\\\\combatMPl', u'\\\\suivantMPlP{}', u'\\\\apporterPstTroisPlPlP{}', u'\\\\INDFPl', u'\\\\mortFPlP{}', u'\\\\A', u'\\\\DEFMSg', u'\\\\villageMSgP{}']\n",
      "[u'\\\\DEFMPl', u'\\\\loupMPl', u'\\\\noirMPlP{}', u'\\\\apporterPrsTroisPlPlP{}', u'\\\\INDMDu', u'\\\\corpsMDu', u'\\\\DE', u'\\\\DEFMPl', u'\\\\villageoisMPlP{}', u'\\\\A', u'\\\\DEFFSg', u'\\\\louveFSg', u'\\\\blancFSgP{}', u'\\\\DANS', u'\\\\DEFFSg', u'\\\\foretFSgP{}']\n",
      "[u'\\\\DEFFSg', u'\\\\louveFSg', u'\\\\grandFSgP{}', u'\\\\apporterPrsTroisSgSgP{}', u'\\\\DEMMDu', u'\\\\corpsMDuP{}', u'\\\\A', u'\\\\DEFMSg', u'\\\\demonMSgP{}']\n",
      "[u'\\\\DEFMSg', u'\\\\demonMSgP{}', u'\\\\jeterPrsTroisSgSgP{}', u'\\\\INDMSg', u'\\\\sortMSgP{}', u'\\\\A', u'\\\\DEFFPl', u'\\\\mortFPlP{}']\n",
      "[u'\\\\DEFMSg', u'\\\\sortMSgP{}', u'\\\\donnerPrsTroisSgSgP{}', u'\\\\INDFSg', u'\\\\lueurFSg', u'\\\\rougeFSgP{}', u'\\\\A', u'\\\\DEFMDu', u'\\\\villageoisMDuP{}']\n",
      "[u'\\\\DEFMDu', u'\\\\corpsMDuP{}', u'\\\\disparaitrePrsTroisDuDuP{}']\n",
      "[u'\\\\DEFMSg', u'\\\\demonMSgP{}', u'\\\\parlerPstTroisSgSgP{}', u'\\\\A', u'\\\\DEFFSg', u'\\\\MahiraFSgP{}']\n",
      "[u'\\\\DEFMSg', u'\\\\sortMSgP{}', u'\\\\chercherPrsTroisSgSgP{}', u'\\\\INDMSg', u'\\\\corpsMSg', u'\\\\differentMSgP{}']\n",
      "[u'\\\\DEFMSg', u'\\\\demonMSgP{}', u'\\\\donnerPrsTroisSgSgP{}', u'\\\\INDFSg', u'\\\\colereFSg', u'\\\\grandFSgP{}', u'\\\\A', u'\\\\DEFMSg', u'\\\\chefMSg', u'\\\\DE', u'\\\\DEFMPl', u'\\\\loupMPlP{}']\n",
      "[u'\\\\DEFFSg', u'\\\\nuitFSgP{}', u'\\\\approcherPstTroisSgSgP{}']\n",
      "[u'\\\\DEFMPl', u'\\\\combattantMPl', u'\\\\courageuxMPlP{}', u'\\\\allerPstTroisPlPlP{}', u'\\\\VERS', u'\\\\DEFFSg', u'\\\\foretFSg', u'\\\\DE', u'\\\\DEFMPl', u'\\\\loupMPlP{}']\n",
      "[u'\\\\DEFMPl', u'\\\\enfantMPlP{}', u'\\\\rejoindrePstTroisPlPlP{}', u'\\\\DEFFSg', u'\\\\maisonFSg', u'\\\\grandFSgP{}', u'\\\\AVEC', u'\\\\DEFFPl', u'\\\\villageoiseFPlP{}']\n",
      "[u'\\\\DEFFSg', u'\\\\VioletteFSgP{}', u'\\\\parlerPstTroisSgSgP{}', u'\\\\A', u'\\\\INDMPl', u'\\\\enfantMPl', u'\\\\petitMPlP{}', u'\\\\DEVANT', u'\\\\DEFFSg', u'\\\\maisonFSgP{}']\n",
      "[u'\\\\DEFFSg', u'\\\\filleFSg', u'\\\\petitFSgP{}', u'\\\\voirPrsTroisSgSgP{}', u'\\\\INDFSg', u'\\\\ombreFSg', u'\\\\ENTRE', u'\\\\DEFMPl', u'\\\\arbreMPlP{}']\n",
      "[u'\\\\DEFFSg', u'\\\\MahiraFSgP{}', u'\\\\disparaitrePstTroisSgSgP{}', u'\\\\DANS', u'\\\\DEFFSg', u'\\\\foretFSg', u'\\\\profondFSgP{}']\n",
      "[u'\\\\DEFFSg', u'\\\\VioletteFSgP{}', u'\\\\courirPrsTroisSgSgP{}', u'\\\\VERS', u'\\\\DEFFSg', u'\\\\MahiraFSgP{}']\n",
      "[u'\\\\INDMDu', u'\\\\enfantMDuP{}', u'\\\\rejoindrePrsTroisDuDuP{}', u'\\\\DEFFSg', u'\\\\VioletteFSgP{}', u'\\\\VERS', u'\\\\DEFFSg', u'\\\\foretFSgP{}']\n",
      "[u'\\\\INDFSg', u'\\\\villageoiseFSg', u'\\\\effrayeFSgP{}', u'\\\\pousserPrsTroisSgSgP{}', u'\\\\INDMSg', u'\\\\criMSgP{}']\n",
      "[u'\\\\DEFFSg', u'\\\\VioletteFSgP{}', u'\\\\fuirPrsTroisSgSgP{}']\n",
      "[u'\\\\DEMFSg', u'\\\\villageoiseFSgP{}', u'\\\\prendrePrsTroisSgSgP{}', u'\\\\DEFFSg', u'\\\\mainFSgP{}', u'\\\\A', u'\\\\DEFFDu', u'\\\\enfantFDu', u'\\\\petitFDuP{}']\n",
      "[u'\\\\DEFFSg', u'\\\\villageoiseFSgP{}', u'\\\\allerPrsTroisSgSgP{}', u'\\\\DANS', u'\\\\DEFFSg', u'\\\\maisonFSgP{}', u'\\\\AVEC', u'\\\\DEFMSg', u'\\\\enfantMSgP{}']\n",
      "[u'\\\\DEFFSg', u'\\\\VioletteFSgP{}', u'\\\\chercherPstTroisSgSgP{}', u'\\\\DEFFSg', u'\\\\MahiraFSgP{}', u'\\\\DANS', u'\\\\DEFFSg', u'\\\\foretFSgP{}']\n",
      "[u'\\\\INDMDu', u'\\\\loupMDu', u'\\\\noirMDuP{}', u'\\\\approcherPstTroisDuDuP{}']\n",
      "[u'\\\\DEFFSg', u'\\\\VioletteFSgP{}', u'\\\\voirPrsTroisSgSgP{}', u'\\\\DEMMDu', u'\\\\loupMDuP{}', u'\\\\DANS', u'\\\\DEFFSg', u'\\\\nuitFSg', u'\\\\noirFSgP{}']\n",
      "[u'\\\\DEFFSg', u'\\\\filleFSg', u'\\\\petitFSgP{}', u'\\\\fuirPrsTroisSgSgP{}', u'\\\\VERS', u'\\\\DEFFPl', u'\\\\lueurFPl', u'\\\\DE', u'\\\\DEFMSg', u'\\\\villageMSgP{}']\n",
      "[u'\\\\DEFMDu', u'\\\\loupMDu', u'\\\\terribleMDuP{}', u'\\\\chasserPrsTroisDuDuP{}', u'\\\\DEFFSg', u'\\\\VioletteFSgP{}']\n",
      "[u'\\\\DEFMSg', u'\\\\loupMSg', u'\\\\petitMSgP{}', u'\\\\planterPrsTroisSgSgP{}', u'\\\\INDFPl', u'\\\\crocFPlP{}', u'\\\\DANS', u'\\\\DEFFSg', u'\\\\filleFSgP{}']\n",
      "[u'\\\\DEFMSg', u'\\\\loupMSg', u'\\\\suivantMSgP{}', u'\\\\approcherPrsTroisSgSgP{}']\n",
      "[u'\\\\DEFFSg', u'\\\\louveFSg', u'\\\\blancFSgP{}', u'\\\\sortirPrsTroisSgSgP{}', u'\\\\DE', u'\\\\DEFMSg', u'\\\\milieuMSg', u'\\\\DE', u'\\\\DEFMDu', u'\\\\arbreMDuP{}']\n",
      "[u'\\\\DEFMSg', u'\\\\chefMSg', u'\\\\DE', u'\\\\DEFMPl', u'\\\\loupMPlP{}', u'\\\\protegerPrsTroisSgSgP{}', u'\\\\DEFFSg', u'\\\\filleFSg', u'\\\\petitFSg', u'\\\\blesseFSgP{}']\n",
      "[u'\\\\DEFMSg', u'\\\\loupMSg', u'\\\\petitMSg', u'\\\\noirMSgP{}', u'\\\\approcherPrsTroisSgSgP{}', u'\\\\DE', u'\\\\DEFFSg', u'\\\\louveFSgP{}']\n",
      "[u'\\\\DEFMSg', u'\\\\loupMSg', u'\\\\petitMSgP{}', u'\\\\sauterPrsTroisSgSgP{}', u'\\\\SUR', u'\\\\DEFMSg', u'\\\\chefMSg', u'\\\\DE', u'\\\\DEFMPl', u'\\\\loupMPlP{}']\n",
      "[u'\\\\DEFFSg', u'\\\\louveFSgP{}', u'\\\\sauterPrsTroisSgSgP{}', u'\\\\VERS', u'\\\\DEMMSg', u'\\\\combattantMSgP{}']\n",
      "[u'\\\\DEFFPl', u'\\\\crocFPl', u'\\\\DE', u'\\\\DEFMSg', u'\\\\chefMSgP{}', u'\\\\transpercerPrsTroisPlPlP{}', u'\\\\DEFMSg', u'\\\\gorgeMSg', u'\\\\DE', u'\\\\DEMMSg', u'\\\\loupMSg', u'\\\\petitMSgP{}']\n",
      "[u'\\\\DEFMSg', u'\\\\corpsMSg', u'\\\\DE', u'\\\\DEFMSg', u'\\\\loupMSgP{}', u'\\\\tomberPrsTroisSgSgP{}']\n",
      "[u'\\\\DEFFSg', u'\\\\louveFSg', u'\\\\grandFSgP{}', u'\\\\prendrePrsTroisSgSgP{}', u'\\\\DEFFSg', u'\\\\VioletteFSgP{}', u'\\\\ENTRE', u'\\\\DEFFPl', u'\\\\crocFPlP{}']\n",
      "[u'\\\\DEFFSg', u'\\\\louveFSgP{}', u'\\\\fuirPrsTroisSgSgP{}', u'\\\\AVEC', u'\\\\DEMFSg', u'\\\\filleFSg', u'\\\\petitFSg', u'\\\\ENTRE', u'\\\\DEFFPl', u'\\\\crocFPlP{}']\n",
      "[u'\\\\DEFMSg', u'\\\\loupMSg', u'\\\\noirMSg', u'\\\\suivantMSgP{}', u'\\\\courirPrsTroisSgSgP{}', u'\\\\APRES', u'\\\\DEFFSg', u'\\\\louveFSgP{}']\n",
      "[u'\\\\DEFFSg', u'\\\\VioletteFSg', u'\\\\petitFSgP{}', u'\\\\pousserPrsTroisSgSgP{}', u'\\\\INDMPl', u'\\\\criMPl', u'\\\\terribleMPlP{}', u'\\\\DANS', u'\\\\DEFFSg', u'\\\\nuitFSg', u'\\\\noirFSgP{}']\n",
      "[u'\\\\DEFMSg', u'\\\\KalebMSgP{}', u'\\\\courirPrsTroisSgSgP{}', u'\\\\VERS', u'\\\\DEMMSg', u'\\\\criMSgP{}', u'\\\\AVEC', u'\\\\INDMSg', u'\\\\combattantMSg', u'\\\\DE', u'\\\\DEFMSg', u'\\\\villageMSgP{}']\n",
      "[u'\\\\DEFMSg', u'\\\\KalebMSgP{}', u'\\\\voirPrsTroisSgSgP{}', u'\\\\INDFSg', u'\\\\louveFSg', u'\\\\AVEC', u'\\\\INDFSg', u'\\\\filleFSg', u'\\\\ENTRE', u'\\\\DEFFPl', u'\\\\crocFPlP{}']\n",
      "[u'\\\\DEFMSg', u'\\\\loupMSg', u'\\\\noirMSgP{}', u'\\\\allerPrsTroisSgSgP{}', u'\\\\VERS', u'\\\\DEFMDu', u'\\\\combattantMDu', u'\\\\courageuxMDuP{}']\n",
      "[u'\\\\DEFMSg', u'\\\\villageoisMSgP{}', u'\\\\jeterPrsTroisSgSgP{}', u'\\\\INDFSg', u'\\\\lanceFSgP{}', u'\\\\A', u'\\\\DEFMDu', u'\\\\loupMDuP{}']\n",
      "[u'\\\\DEFFSg', u'\\\\lanceFSgP{}', u'\\\\transpercerPrsTroisSgSgP{}', u'\\\\INDMSg', u'\\\\arbreMSgP{}']\n",
      "[u'\\\\DEFFSg', u'\\\\louveFSgP{}', u'\\\\jeterPrsTroisSgSgP{}', u'\\\\DEFFSg', u'\\\\VioletteFSgP{}']\n",
      "[u'\\\\DEFFSg', u'\\\\VioletteFSgP{}', u'\\\\tomberPrsTroisSgSgP{}', u'\\\\SUR', u'\\\\INDMSg', u'\\\\arbreMSgP{}']\n",
      "[u'\\\\DEFMSg', u'\\\\chefMSg', u'\\\\DE', u'\\\\DEFMSg', u'\\\\villageMSgP{}', u'\\\\prendrePrsTroisSgSgP{}', u'\\\\INDFSg', u'\\\\lanceFSgP{}']\n",
      "[u'\\\\DEFMSg', u'\\\\KalebMSgP{}', u'\\\\jeterPrsTroisSgSgP{}', u'\\\\DEMFSg', u'\\\\lanceFSgP{}', u'\\\\VERS', u'\\\\DEFFSg', u'\\\\louveFSgP{}']\n",
      "[u'\\\\DEMFSg', u'\\\\lanceFSgP{}', u'\\\\transpercerPrsTroisSgSgP{}', u'\\\\DEFMSg', u'\\\\corpsMSg', u'\\\\blancMSg', u'\\\\DE', u'\\\\DEFFSg', u'\\\\louveFSgP{}']\n",
      "[u'\\\\DEFMSg', u'\\\\loupMSg', u'\\\\noirMSgP{}', u'\\\\sauterPrsTroisSgSgP{}', u'\\\\SUR', u'\\\\DEFMSg', u'\\\\combattantMSgP{}']\n",
      "[u'\\\\DEFMSg', u'\\\\combattantMSgP{}', u'\\\\tomberPrsTroisSgSgP{}', u'\\\\AVEC', u'\\\\DEFMSg', u'\\\\loupMSgP{}']\n",
      "[u'\\\\DEFMSg', u'\\\\hommeMSgP{}', u'\\\\planterPrsTroisSgSgP{}', u'\\\\INDMSg', u'\\\\couteauMSgP{}', u'\\\\DANS', u'\\\\DEFMSg', u'\\\\corpsMSg', u'\\\\DE', u'\\\\DEFMSg', u'\\\\loupMSgP{}']\n",
      "[u'\\\\DEFMSg', u'\\\\loupMSg', u'\\\\noirMSgP{}', u'\\\\planterPrsTroisSgSgP{}', u'\\\\DEFFPl', u'\\\\crocFPlP{}', u'\\\\DANS', u'\\\\DEFMSg', u'\\\\gorgeMSg', u'\\\\DE', u'\\\\DEMMSg', u'\\\\hommeMSgP{}']\n",
      "[u'\\\\DEFMDu', u'\\\\combattantMDuP{}', u'\\\\disparaitrePrsTroisDuDuP{}', u'\\\\DANS', u'\\\\DEFFSg', u'\\\\mortFSgP{}']\n",
      "[u'\\\\DEFMSg', u'\\\\KalebMSgP{}', u'\\\\prendrePrsTroisSgSgP{}', u'\\\\INDMSg', u'\\\\couteauMSgP{}']\n",
      "[u'\\\\DEFMSg', u'\\\\chefMSg', u'\\\\DE', u'\\\\DEFMPl', u'\\\\combattantMPlP{}', u'\\\\approcherPrsTroisSgSgP{}', u'\\\\DE', u'\\\\DEFFSg', u'\\\\louveFSgP{}']\n",
      "[u'\\\\DEFFSg', u'\\\\louveFSgP{}', u'\\\\planterPrsTroisSgSgP{}', u'\\\\DEFFPl', u'\\\\crocFPlP{}', u'\\\\DANS', u'\\\\DEFFSg', u'\\\\mainFSg', u'\\\\DE', u'\\\\DEFMSg', u'\\\\KalebMSgP{}']\n",
      "[u'\\\\DEFFPl', u'\\\\crocFPl', u'\\\\DE', u'\\\\DEFFSg', u'\\\\louveFSgP{}', u'\\\\donnerPrsTroisPlPlP{}', u'\\\\INDFSg', u'\\\\blessureFSg', u'\\\\profondFSgP{}', u'\\\\A', u'\\\\DEFMPl', u'\\\\villageoisMPlP{}']\n",
      "[u'\\\\DEFMSg', u'\\\\couteauMSgP{}', u'\\\\tomberPrsTroisSgSgP{}']\n",
      "[u'\\\\DEFFSg', u'\\\\louveFSgP{}', u'\\\\pousserPrsTroisSgSgP{}', u'\\\\DEMMSg', u'\\\\couteauMSgP{}']\n",
      "[u'\\\\DEFMSg', u'\\\\KalebMSgP{}', u'\\\\prendrePrsTroisSgSgP{}', u'\\\\DEFFSg', u'\\\\lanceFSgP{}', u'\\\\SUR', u'\\\\DEFMSg', u'\\\\arbreMSgP{}']\n",
      "[u'\\\\DEFFSg', u'\\\\louveFSg', u'\\\\blesseFSgP{}', u'\\\\disparaitrePstTroisSgSgP{}', u'\\\\DANS', u'\\\\DEFFSg', u'\\\\ombreFSg', u'\\\\DE', u'\\\\DEFMPl', u'\\\\arbreMPlP{}']\n",
      "[u'\\\\DEFMSg', u'\\\\KalebMSgP{}', u'\\\\courirPrsTroisSgSgP{}', u'\\\\VERS', u'\\\\DEFFSg', u'\\\\louveFSgP{}', u'\\\\AVEC', u'\\\\DEFFSg', u'\\\\lanceFSg', u'\\\\DANS', u'\\\\DEFFSg', u'\\\\mainFSgP{}']\n",
      "[u'\\\\DEFMSg', u'\\\\KalebMSgP{}', u'\\\\rejoindrePrsTroisSgSgP{}', u'\\\\DEMFSg', u'\\\\louveFSgP{}']\n",
      "[u'\\\\DEFMSg', u'\\\\chefMSg', u'\\\\DE', u'\\\\DEFMPl', u'\\\\villageoisMPlP{}', u'\\\\donnerPrsTroisSgSgP{}', u'\\\\INDMSg', u'\\\\coupMSgP{}', u'\\\\A', u'\\\\DEFFSg', u'\\\\louveFSgP{}']\n",
      "[u'\\\\DEFFSg', u'\\\\louveFSg', u'\\\\blesseFSgP{}', u'\\\\tomberPrsTroisSgSgP{}']\n",
      "[u'\\\\DEFMSg', u'\\\\KalebMSgP{}', u'\\\\prendrePrsTroisSgSgP{}', u'\\\\DEFFSg', u'\\\\lanceFSgP{}', u'\\\\SUR', u'\\\\DEFFSg', u'\\\\louveFSg', u'\\\\blesseFSgP{}']\n",
      "[u'\\\\DEFMSg', u'\\\\villageoisMSg', u'\\\\furieuxMSgP{}', u'\\\\planterPrsTroisSgSgP{}', u'\\\\DEMFDu', u'\\\\lanceFDuP{}', u'\\\\DANS', u'\\\\DEMMSg', u'\\\\corpsMSg', u'\\\\blesseMSgP{}']\n",
      "[u'\\\\INDFSg', u'\\\\lanceFSgP{}', u'\\\\disparaitrePrsTroisSgSgP{}', u'\\\\DANS', u'\\\\DEFMSg', u'\\\\corpsMSg', u'\\\\DE', u'\\\\DEFMSg', u'\\\\chefMSg', u'\\\\DE', u'\\\\DEFMPl', u'\\\\loupMPlP{}']\n",
      "[u'\\\\DEFFSg', u'\\\\lanceFSg', u'\\\\suivantFSgP{}', u'\\\\transpercerPrsTroisSgSgP{}', u'\\\\DEFMSg', u'\\\\gorgeMSg', u'\\\\DE', u'\\\\DEFFSg', u'\\\\louveFSgP{}']\n",
      "[u'\\\\DEMFPl', u'\\\\blessureFPl', u'\\\\profondFPlP{}', u'\\\\donnerPrsTroisPlPlP{}', u'\\\\DEFFSg', u'\\\\mortFSgP{}', u'\\\\A', u'\\\\DEFFSg', u'\\\\louveFSg', u'\\\\grandFSgP{}']\n",
      "[u'\\\\DEFMSg', u'\\\\KalebMSgP{}', u'\\\\rejoindrePrsTroisSgSgP{}', u'\\\\DEFFSg', u'\\\\VioletteFSgP{}', u'\\\\DEVANT', u'\\\\DEFMSg', u'\\\\arbreMSgP{}']\n",
      "[u'\\\\DEFFDu', u'\\\\mainFDu', u'\\\\DE', u'\\\\DEFMSg', u'\\\\KalebMSgP{}', u'\\\\prendrePrsTroisDuDuP{}', u'\\\\DEFMSg', u'\\\\corpsMSg', u'\\\\rougeMSg', u'\\\\DE', u'\\\\DEFFSg', u'\\\\filleFSg', u'\\\\petitFSgP{}']\n",
      "[u'\\\\DEFFSg', u'\\\\mortFSgP{}', u'\\\\prendrePrsTroisSgSgP{}', u'\\\\DEFFSg', u'\\\\filleFSg', u'\\\\petitFSgP{}']\n",
      "[u'\\\\DEFFSg', u'\\\\VioletteFSgP{}', u'\\\\rejoindrePrsTroisSgSgP{}', u'\\\\DEFFSg', u'\\\\louveFSg', u'\\\\grandFSg', u'\\\\blancFSgP{}', u'\\\\DANS', u'\\\\DEFFSg', u'\\\\mortFSgP{}']\n",
      "[u'\\\\INDFDu', u'\\\\lueurFDuP{}', u'\\\\envahirPrsTroisDuDuP{}', u'\\\\DEFFSg', u'\\\\foretFSg', u'\\\\noirFSgP{}']\n",
      "[u'\\\\DEFFPl', u'\\\\lueurFPl', u'\\\\blancFPlP{}', u'\\\\recouvrirPrsTroisPlPlP{}', u'\\\\DEFMSg', u'\\\\corpsMSg', u'\\\\DE', u'\\\\DEFFSg', u'\\\\VioletteFSgP{}']\n",
      "[u'\\\\DEFFSg', u'\\\\mortFSg', u'\\\\DE', u'\\\\DEFFSg', u'\\\\VioletteFSgP{}', u'\\\\donnerPrsTroisSgSgP{}', u'\\\\INDFSg', u'\\\\lueurFSg', u'\\\\rougeFSgP{}', u'\\\\A', u'\\\\DEFMSg', u'\\\\corpsMSg', u'\\\\DE', u'\\\\DEFFSg', u'\\\\louveFSgP{}']\n",
      "[u'\\\\DEFFSg', u'\\\\lueurFSgP{}', u'\\\\transformerPrsTroisSgSgP{}', u'\\\\DEFFSg', u'\\\\louveFSgP{}', u'\\\\DEVANT', u'\\\\DEFMSg', u'\\\\KalebMSgP{}']\n",
      "[u'\\\\DEFMSg', u'\\\\KalebMSgP{}', u'\\\\voirPrsTroisSgSgP{}', u'\\\\DEFFSg', u'\\\\MahiraFSg', u'\\\\AVEC', u'\\\\INDFDu', u'\\\\lanceFDu', u'\\\\DANS', u'\\\\DEFMSg', u'\\\\corpsMSgP{}']\n",
      "[u'\\\\DEFMSg', u'\\\\chefMSg', u'\\\\DE', u'\\\\DEFMPl', u'\\\\villageoisMPlP{}', u'\\\\tomberPrsTroisSgSgP{}']\n",
      "[u'\\\\INDMSg', u'\\\\souffranceMSg', u'\\\\profondMSgP{}', u'\\\\envahirPrsTroisSgSgP{}', u'\\\\DEFMSg', u'\\\\combattantMSgP{}']\n",
      "[u'\\\\DEFMSg', u'\\\\KalebMSgP{}', u'\\\\pousserPrsTroisSgSgP{}', u'\\\\INDMSg', u'\\\\criMSgP{}']\n",
      "[u'\\\\DEFFSg', u'\\\\luneFSg', u'\\\\rougeFSgP{}', u'\\\\disparaitrePstTroisSgSgP{}', u'\\\\DERRIERE', u'\\\\DEFMPl', u'\\\\arbreMPlP{}']\n"
     ]
    }
   ],
   "source": [
    "if ordre_nom.endswith(\"csv\"):\n",
    "    try:\n",
    "        ordre_file = codecs.open(ordre_nom,\"r\",\"utf8\")\n",
    "    except IOError:\n",
    "        print 'I could not open the file', ordre_nom\n",
    "        sys.exit()      \n",
    "    else:\n",
    "        try:\n",
    "            cloze_file = codecs.open(cloze_nom,\"r\",\"utf8\")\n",
    "        except IOError:\n",
    "            print 'I could not open the cloze file', cloze_nom\n",
    "            sys.exit()\n",
    "        else:\n",
    "            ordre={}\n",
    "            for line in cloze_file.readlines():\n",
    "                line=line.strip()\n",
    "                if not line.startswith(\"#\"):\n",
    "                    elementsCloze=line.split(\";\")\n",
    "                    ordre[elementsCloze[0]]=elementsCloze[5]\n",
    "            cloze_file.close()\n",
    "            exemples=[]\n",
    "            accumulateur=[]\n",
    "            vocabulaire=[]\n",
    "#            prononciationExtrait=[]\n",
    "            faire_phrases(ordre_file,sortie=\"ordre\")\n",
    "            ordre_file.close()"
   ]
  },
  {
   "cell_type": "code",
   "execution_count": 1841,
   "metadata": {
    "collapsed": false,
    "scrolled": true
   },
   "outputs": [
    {
     "name": "stdout",
     "output_type": "stream",
     "text": [
      "mots\n",
      "[u'\\\\begin{preview}\\\\DEFMSg{}\\\\end{preview} \\\\begin{preview}\\\\KalebMSg{}\\\\end{preview} \\\\begin{preview}\\\\etrePstTroisSgSg{}\\\\end{preview} \\\\begin{preview}\\\\DEFMSg{}\\\\end{preview} \\\\begin{preview}\\\\chefMSg{}\\\\end{preview} \\\\begin{preview}\\\\DE{}\\\\end{preview} \\\\begin{preview}\\\\INDMSg{}\\\\end{preview} \\\\begin{preview}\\\\villageMSg{}\\\\end{preview} \\\\begin{preview}\\\\petitMSg{}\\\\end{preview} \\\\begin{preview}\\\\DE{}\\\\end{preview} \\\\begin{preview}\\\\DEFFSg{}\\\\end{preview} \\\\begin{preview}\\\\foretFSg{}\\\\end{preview}', u'\\\\DEFMSgP{}   \\\\KalebMSgP{}  \\\\etrePstTroisSgSgP{}   \\\\DEFMSgP{}   \\\\chefMSgP{}   \\\\DEP{}    \\\\INDMSgP{}   \\\\villageMSgP{}   \\\\petitMSgP{}   \\\\DEP{}    \\\\DEFFSgP{}   \\\\foretFSgP{}', u\"\\\\begin{preview}Kaleb \\xe9tait le chef d'un petit village de for\\xeat.\\\\end{preview}\", '\\\\begin{preview}.\\\\end{preview}', u'\\\\begin{preview}\\\\DEFFSg{}\\\\end{preview} \\\\begin{preview}\\\\MahiraFSg{}\\\\end{preview} \\\\begin{preview}\\\\etrePstTroisSgSg{}\\\\end{preview} \\\\begin{preview}\\\\DEFFSg{}\\\\end{preview} \\\\begin{preview}\\\\soeurFSg{}\\\\end{preview} \\\\begin{preview}\\\\grandFSg{}\\\\end{preview} \\\\begin{preview}\\\\DE{}\\\\end{preview} \\\\begin{preview}\\\\DEFMSg{}\\\\end{preview} \\\\begin{preview}\\\\KalebMSg{}\\\\end{preview}', u'\\\\DEFFSgP{}   \\\\MahiraFSgP{}  \\\\etrePstTroisSgSgP{}   \\\\DEFFSgP{}   \\\\soeurFSgP{}   \\\\grandFSgP{}   \\\\DEP{}    \\\\DEFMSgP{}   \\\\KalebMSgP{}', u'\\\\begin{preview}Mahira \\xe9tait la grande s\\u0153ur de Kaleb.\\\\end{preview}', '\\\\begin{preview}.\\\\end{preview}', u'\\\\begin{preview}\\\\DEFFSg{}\\\\end{preview} \\\\begin{preview}\\\\VioletteFSg{}\\\\end{preview} \\\\begin{preview}\\\\etrePstTroisSgSg{}\\\\end{preview} \\\\begin{preview}\\\\DEFFSg{}\\\\end{preview} \\\\begin{preview}\\\\filleFSg{}\\\\end{preview} \\\\begin{preview}\\\\DE{}\\\\end{preview} \\\\begin{preview}\\\\DEFMSg{}\\\\end{preview} \\\\begin{preview}\\\\KalebMSg{}\\\\end{preview}', u'\\\\DEFFSgP{}   \\\\VioletteFSgP{}  \\\\etrePstTroisSgSgP{}   \\\\DEFFSgP{}   \\\\filleFSgP{}   \\\\DEP{}    \\\\DEFMSgP{}   \\\\KalebMSgP{}', u'\\\\begin{preview}Violette \\xe9tait la fille de Kaleb.\\\\end{preview}', '\\\\begin{preview}.\\\\end{preview}', u'\\\\begin{preview}\\\\DEFFSg{}\\\\end{preview} \\\\begin{preview}\\\\MahiraFSg{}\\\\end{preview} \\\\begin{preview}\\\\chasserPstTroisSgSg{}\\\\end{preview} \\\\begin{preview}\\\\DANS{}\\\\end{preview} \\\\begin{preview}\\\\DEFFSg{}\\\\end{preview} \\\\begin{preview}\\\\foretFSg{}\\\\end{preview} \\\\begin{preview}\\\\AVEC{}\\\\end{preview} \\\\begin{preview}\\\\DEFFSg{}\\\\end{preview} \\\\begin{preview}\\\\filleFSg{}\\\\end{preview} \\\\begin{preview}\\\\DE{}\\\\end{preview} \\\\begin{preview}\\\\DEFMSg{}\\\\end{preview} \\\\begin{preview}\\\\KalebMSg{}\\\\end{preview}', u'\\\\DEFFSgP{}   \\\\MahiraFSgP{}  \\\\chasserPstTroisSgSgP{}   \\\\DANSP{}    \\\\DEFFSgP{}   \\\\foretFSgP{}   \\\\AVECP{}    \\\\DEFFSgP{}   \\\\filleFSgP{}   \\\\DEP{}    \\\\DEFMSgP{}   \\\\KalebMSgP{}', u'\\\\begin{preview}Mahira chassait dans la for\\xeat avec la fille de Kaleb.\\\\end{preview}', '\\\\begin{preview}.\\\\end{preview}', u'\\\\begin{preview}\\\\DEFFDu{}\\\\end{preview} \\\\begin{preview}\\\\filleFDu{}\\\\end{preview} \\\\begin{preview}\\\\voirPstTroisDuDu{}\\\\end{preview} \\\\begin{preview}\\\\INDFSg{}\\\\end{preview} \\\\begin{preview}\\\\ombreFSg{}\\\\end{preview} \\\\begin{preview}\\\\grandFSg{}\\\\end{preview}', u'\\\\DEFFDuP{}   \\\\filleFDuP{}  \\\\voirPstTroisDuDuP{}   \\\\INDFSgP{}   \\\\ombreFSgP{}   \\\\grandFSgP{}', u'\\\\begin{preview}Les deux filles virent une grande ombre.\\\\end{preview}', '\\\\begin{preview}.\\\\end{preview}', u'\\\\begin{preview}\\\\DEMFSg{}\\\\end{preview} \\\\begin{preview}\\\\ombreFSg{}\\\\end{preview} \\\\begin{preview}\\\\rougeFSg{}\\\\end{preview} \\\\begin{preview}\\\\noirFSg{}\\\\end{preview} \\\\begin{preview}\\\\etrePstTroisSgSg{}\\\\end{preview} \\\\begin{preview}\\\\INDMSg{}\\\\end{preview} \\\\begin{preview}\\\\demonMSg{}\\\\end{preview}', u'\\\\DEMFSgP{}   \\\\ombreFSgP{}   \\\\rougeFSgP{}   \\\\noirFSgP{}  \\\\etrePstTroisSgSgP{}   \\\\INDMSgP{}   \\\\demonMSgP{}', u'\\\\begin{preview}Cette ombre rouge et noire \\xe9tait un d\\xe9mon.\\\\end{preview}', '\\\\begin{preview}.\\\\end{preview}', u'\\\\begin{preview}\\\\DEFMSg{}\\\\end{preview} \\\\begin{preview}\\\\demonMSg{}\\\\end{preview} \\\\begin{preview}\\\\terribleMSg{}\\\\end{preview} \\\\begin{preview}\\\\devorerPstTroisSgSg{}\\\\end{preview} \\\\begin{preview}\\\\INDMSg{}\\\\end{preview} \\\\begin{preview}\\\\villageoisMSg{}\\\\end{preview} \\\\begin{preview}\\\\DERRIERE{}\\\\end{preview} \\\\begin{preview}\\\\INDMSg{}\\\\end{preview} \\\\begin{preview}\\\\arbreMSg{}\\\\end{preview}', u'\\\\DEFMSgP{}   \\\\demonMSgP{}   \\\\terribleMSgP{}  \\\\devorerPstTroisSgSgP{}   \\\\INDMSgP{}   \\\\villageoisMSgP{}   \\\\DERRIEREP{}    \\\\INDMSgP{}   \\\\arbreMSgP{}', u'\\\\begin{preview}Derri\\xe8re un arbre, le terrible d\\xe9mon d\\xe9vorait un villageois.\\\\end{preview}', '\\\\begin{preview}.\\\\end{preview}', u'\\\\begin{preview}\\\\DEFFDu{}\\\\end{preview} \\\\begin{preview}\\\\filleFDu{}\\\\end{preview} \\\\begin{preview}\\\\effrayeFDu{}\\\\end{preview} \\\\begin{preview}\\\\fuirPrsTroisDuDu{}\\\\end{preview} \\\\begin{preview}\\\\DEVANT{}\\\\end{preview} \\\\begin{preview}\\\\DEFMSg{}\\\\end{preview} \\\\begin{preview}\\\\corpsMSg{}\\\\end{preview} \\\\begin{preview}\\\\DE{}\\\\end{preview} \\\\begin{preview}\\\\DEMMSg{}\\\\end{preview} \\\\begin{preview}\\\\villageoisMSg{}\\\\end{preview}', u'\\\\DEFFDuP{}   \\\\filleFDuP{}   \\\\effrayeFDuP{}  \\\\fuirPrsTroisDuDuP{}   \\\\DEVANTP{}    \\\\DEFMSgP{}   \\\\corpsMSgP{}   \\\\DEP{}    \\\\DEMMSgP{}   \\\\villageoisMSgP{}', u'\\\\begin{preview}Les deux filles effray\\xe9es fuient devant le corps de ce villageois.\\\\end{preview}', '\\\\begin{preview}.\\\\end{preview}', u'\\\\begin{preview}\\\\DEMFDu{}\\\\end{preview} \\\\begin{preview}\\\\filleFDu{}\\\\end{preview} \\\\begin{preview}\\\\courirPrsTroisDuDu{}\\\\end{preview} \\\\begin{preview}\\\\VERS{}\\\\end{preview} \\\\begin{preview}\\\\DEFMSg{}\\\\end{preview} \\\\begin{preview}\\\\villageMSg{}\\\\end{preview}', u'\\\\DEMFDuP{}   \\\\filleFDuP{}  \\\\courirPrsTroisDuDuP{}   \\\\VERSP{}    \\\\DEFMSgP{}   \\\\villageMSgP{}', u'\\\\begin{preview}Ces deux filles courent vers le village.\\\\end{preview}', '\\\\begin{preview}.\\\\end{preview}', u'\\\\begin{preview}\\\\DEFMSg{}\\\\end{preview} \\\\begin{preview}\\\\demonMSg{}\\\\end{preview} \\\\begin{preview}\\\\furieuxMSg{}\\\\end{preview} \\\\begin{preview}\\\\voirPrsTroisSgSg{}\\\\end{preview} \\\\begin{preview}\\\\DEFFDu{}\\\\end{preview} \\\\begin{preview}\\\\filleFDu{}\\\\end{preview}', u'\\\\DEFMSgP{}   \\\\demonMSgP{}   \\\\furieuxMSgP{}  \\\\voirPrsTroisSgSgP{}   \\\\DEFFDuP{}   \\\\filleFDuP{}', u'\\\\begin{preview}Le d\\xe9mon furieux voit les deux filles.\\\\end{preview}', '\\\\begin{preview}.\\\\end{preview}', u'\\\\begin{preview}\\\\DEFMSg{}\\\\end{preview} \\\\begin{preview}\\\\loupMSg{}\\\\end{preview} \\\\begin{preview}\\\\grandMSg{}\\\\end{preview} \\\\begin{preview}\\\\blancMSg{}\\\\end{preview} \\\\begin{preview}\\\\DE{}\\\\end{preview} \\\\begin{preview}\\\\DEFMSg{}\\\\end{preview} \\\\begin{preview}\\\\demonMSg{}\\\\end{preview} \\\\begin{preview}\\\\chasserPrsTroisSgSg{}\\\\end{preview} \\\\begin{preview}\\\\DEFFDu{}\\\\end{preview} \\\\begin{preview}\\\\villageoiseFDu{}\\\\end{preview}', u'\\\\DEFMSgP{}   \\\\loupMSgP{}   \\\\grandMSgP{}   \\\\blancMSgP{}   \\\\DEP{}    \\\\DEFMSgP{}   \\\\demonMSgP{}  \\\\chasserPrsTroisSgSgP{}   \\\\DEFFDuP{}   \\\\villageoiseFDuP{}', u'\\\\begin{preview}Le grand loup blanc du d\\xe9mon chasse les deux villageoises.\\\\end{preview}', '\\\\begin{preview}.\\\\end{preview}', u'\\\\begin{preview}\\\\DEFFSg{}\\\\end{preview} \\\\begin{preview}\\\\filleFSg{}\\\\end{preview} \\\\begin{preview}\\\\petitFSg{}\\\\end{preview} \\\\begin{preview}\\\\tomberPrsTroisSgSg{}\\\\end{preview}', u'\\\\DEFFSgP{}   \\\\filleFSgP{}   \\\\petitFSgP{}  \\\\tomberPrsTroisSgSgP{}', u'\\\\begin{preview}La petite fille tombe.\\\\end{preview}', '\\\\begin{preview}.\\\\end{preview}', u'\\\\begin{preview}\\\\DEFMSg{}\\\\end{preview} \\\\begin{preview}\\\\loupMSg{}\\\\end{preview} \\\\begin{preview}\\\\blancMSg{}\\\\end{preview} \\\\begin{preview}\\\\courirPrsTroisSgSg{}\\\\end{preview} \\\\begin{preview}\\\\VERS{}\\\\end{preview} \\\\begin{preview}\\\\DEMFSg{}\\\\end{preview} \\\\begin{preview}\\\\filleFSg{}\\\\end{preview} \\\\begin{preview}\\\\petitFSg{}\\\\end{preview}', u'\\\\DEFMSgP{}   \\\\loupMSgP{}   \\\\blancMSgP{}  \\\\courirPrsTroisSgSgP{}   \\\\VERSP{}    \\\\DEMFSgP{}   \\\\filleFSgP{}   \\\\petitFSgP{}', u'\\\\begin{preview}Le loup blanc court vers cette petite fille.\\\\end{preview}', '\\\\begin{preview}.\\\\end{preview}', u'\\\\begin{preview}\\\\DEFFSg{}\\\\end{preview} \\\\begin{preview}\\\\MahiraFSg{}\\\\end{preview} \\\\begin{preview}\\\\courageuxFSg{}\\\\end{preview} \\\\begin{preview}\\\\protegerPrsTroisSgSg{}\\\\end{preview} \\\\begin{preview}\\\\DEFFSg{}\\\\end{preview} \\\\begin{preview}\\\\VioletteFSg{}\\\\end{preview} \\\\begin{preview}\\\\AVEC{}\\\\end{preview} \\\\begin{preview}\\\\INDMSg{}\\\\end{preview} \\\\begin{preview}\\\\couteauMSg{}\\\\end{preview}', u'\\\\DEFFSgP{}   \\\\MahiraFSgP{}   \\\\courageuxFSgP{}  \\\\protegerPrsTroisSgSgP{}   \\\\DEFFSgP{}   \\\\VioletteFSgP{}   \\\\AVECP{}    \\\\INDMSgP{}   \\\\couteauMSgP{}', u'\\\\begin{preview}La courageuse Mahira prot\\xe8ge Violette avec un couteau.\\\\end{preview}', '\\\\begin{preview}.\\\\end{preview}', u'\\\\begin{preview}\\\\DEMMSg{}\\\\end{preview} \\\\begin{preview}\\\\couteauMSg{}\\\\end{preview} \\\\begin{preview}\\\\protegerPrsTroisSgSg{}\\\\end{preview} \\\\begin{preview}\\\\DEFMSg{}\\\\end{preview} \\\\begin{preview}\\\\visageMSg{}\\\\end{preview} \\\\begin{preview}\\\\DE{}\\\\end{preview} \\\\begin{preview}\\\\DEFFSg{}\\\\end{preview} \\\\begin{preview}\\\\MahiraFSg{}\\\\end{preview}', u'\\\\DEMMSgP{}   \\\\couteauMSgP{}  \\\\protegerPrsTroisSgSgP{}   \\\\DEFMSgP{}   \\\\visageMSgP{}   \\\\DEP{}    \\\\DEFFSgP{}   \\\\MahiraFSgP{}', u'\\\\begin{preview}Ce couteau prot\\xe8ge le visage de Mahira.\\\\end{preview}', '\\\\begin{preview}.\\\\end{preview}', u'\\\\begin{preview}\\\\DEFMSg{}\\\\end{preview} \\\\begin{preview}\\\\loupMSg{}\\\\end{preview} \\\\begin{preview}\\\\grandMSg{}\\\\end{preview} \\\\begin{preview}\\\\planterPrsTroisSgSg{}\\\\end{preview} \\\\begin{preview}\\\\DEFFPl{}\\\\end{preview} \\\\begin{preview}\\\\crocFPl{}\\\\end{preview} \\\\begin{preview}\\\\DANS{}\\\\end{preview} \\\\begin{preview}\\\\DEFFSg{}\\\\end{preview} \\\\begin{preview}\\\\mainFSg{}\\\\end{preview} \\\\begin{preview}\\\\DE{}\\\\end{preview} \\\\begin{preview}\\\\DEFFSg{}\\\\end{preview} \\\\begin{preview}\\\\MahiraFSg{}\\\\end{preview}', u'\\\\DEFMSgP{}   \\\\loupMSgP{}   \\\\grandMSgP{}  \\\\planterPrsTroisSgSgP{}   \\\\DEFFPlP{}   \\\\crocFPlP{}   \\\\DANSP{}    \\\\DEFFSgP{}   \\\\mainFSgP{}   \\\\DEP{}    \\\\DEFFSgP{}   \\\\MahiraFSgP{}', u'\\\\begin{preview}Le grand loup plante les crocs dans la main de Mahira.\\\\end{preview}', '\\\\begin{preview}.\\\\end{preview}', u'\\\\begin{preview}\\\\DEFMSg{}\\\\end{preview} \\\\begin{preview}\\\\loupMSg{}\\\\end{preview} \\\\begin{preview}\\\\prendrePrsTroisSgSg{}\\\\end{preview} \\\\begin{preview}\\\\INDMSg{}\\\\end{preview} \\\\begin{preview}\\\\coupMSg{}\\\\end{preview} \\\\begin{preview}\\\\profondMSg{}\\\\end{preview} \\\\begin{preview}\\\\DE{}\\\\end{preview} \\\\begin{preview}\\\\DEFMSg{}\\\\end{preview} \\\\begin{preview}\\\\couteauMSg{}\\\\end{preview} \\\\begin{preview}\\\\DANS{}\\\\end{preview} \\\\begin{preview}\\\\DEFMSg{}\\\\end{preview} \\\\begin{preview}\\\\gorgeMSg{}\\\\end{preview}', u'\\\\DEFMSgP{}   \\\\loupMSgP{}  \\\\prendrePrsTroisSgSgP{}   \\\\INDMSgP{}   \\\\coupMSgP{}   \\\\profondMSgP{}   \\\\DEP{}    \\\\DEFMSgP{}   \\\\couteauMSgP{}   \\\\DANSP{}    \\\\DEFMSgP{}   \\\\gorgeMSgP{}', u'\\\\begin{preview}Le loup prend un profond coup de couteau dans la gorge.\\\\end{preview}', '\\\\begin{preview}.\\\\end{preview}', u'\\\\begin{preview}\\\\DEMFSg{}\\\\end{preview} \\\\begin{preview}\\\\blessureFSg{}\\\\end{preview} \\\\begin{preview}\\\\profondFSg{}\\\\end{preview} \\\\begin{preview}\\\\donnerPrsTroisSgSg{}\\\\end{preview} \\\\begin{preview}\\\\DEFFSg{}\\\\end{preview} \\\\begin{preview}\\\\mortFSg{}\\\\end{preview} \\\\begin{preview}\\\\A{}\\\\end{preview} \\\\begin{preview}\\\\DEMMSg{}\\\\end{preview} \\\\begin{preview}\\\\loupMSg{}\\\\end{preview} \\\\begin{preview}\\\\grandMSg{}\\\\end{preview} \\\\begin{preview}\\\\blancMSg{}\\\\end{preview}', u'\\\\DEMFSgP{}   \\\\blessureFSgP{}   \\\\profondFSgP{}  \\\\donnerPrsTroisSgSgP{}   \\\\DEFFSgP{}   \\\\mortFSgP{}   \\\\AP{}    \\\\DEMMSgP{}   \\\\loupMSgP{}   \\\\grandMSgP{}   \\\\blancMSgP{}', u'\\\\begin{preview}Cette profonde blessure donne la mort \\xe0 ce grand loup blanc.\\\\end{preview}', '\\\\begin{preview}.\\\\end{preview}', u'\\\\begin{preview}\\\\INDFSg{}\\\\end{preview} \\\\begin{preview}\\\\colereFSg{}\\\\end{preview} \\\\begin{preview}\\\\profondFSg{}\\\\end{preview} \\\\begin{preview}\\\\envahirPrsTroisSgSg{}\\\\end{preview} \\\\begin{preview}\\\\DEFMSg{}\\\\end{preview} \\\\begin{preview}\\\\visageMSg{}\\\\end{preview} \\\\begin{preview}\\\\rougeMSg{}\\\\end{preview} \\\\begin{preview}\\\\DE{}\\\\end{preview} \\\\begin{preview}\\\\DEFMSg{}\\\\end{preview} \\\\begin{preview}\\\\demonMSg{}\\\\end{preview}', u'\\\\INDFSgP{}   \\\\colereFSgP{}   \\\\profondFSgP{}  \\\\envahirPrsTroisSgSgP{}   \\\\DEFMSgP{}   \\\\visageMSgP{}   \\\\rougeMSgP{}   \\\\DEP{}    \\\\DEFMSgP{}   \\\\demonMSgP{}', u'\\\\begin{preview}Une profonde col\\xe8re envahit le visage rouge du d\\xe9mon.\\\\end{preview}', '\\\\begin{preview}.\\\\end{preview}', u'\\\\begin{preview}\\\\DEFMSg{}\\\\end{preview} \\\\begin{preview}\\\\demonMSg{}\\\\end{preview} \\\\begin{preview}\\\\jeterPrsTroisSgSg{}\\\\end{preview} \\\\begin{preview}\\\\INDMSg{}\\\\end{preview} \\\\begin{preview}\\\\sortMSg{}\\\\end{preview} \\\\begin{preview}\\\\A{}\\\\end{preview} \\\\begin{preview}\\\\DEFFDu{}\\\\end{preview} \\\\begin{preview}\\\\filleFDu{}\\\\end{preview}', u'\\\\DEFMSgP{}   \\\\demonMSgP{}  \\\\jeterPrsTroisSgSgP{}   \\\\INDMSgP{}   \\\\sortMSgP{}   \\\\AP{}    \\\\DEFFDuP{}   \\\\filleFDuP{}', u'\\\\begin{preview}Le d\\xe9mon jette un sort aux deux filles.\\\\end{preview}', '\\\\begin{preview}.\\\\end{preview}', u'\\\\begin{preview}\\\\INDFSg{}\\\\end{preview} \\\\begin{preview}\\\\lueurFSg{}\\\\end{preview} \\\\begin{preview}\\\\rougeFSg{}\\\\end{preview} \\\\begin{preview}\\\\recouvrirPrsTroisSgSg{}\\\\end{preview} \\\\begin{preview}\\\\DEFFDu{}\\\\end{preview} \\\\begin{preview}\\\\filleFDu{}\\\\end{preview}', u'\\\\INDFSgP{}   \\\\lueurFSgP{}   \\\\rougeFSgP{}  \\\\recouvrirPrsTroisSgSgP{}   \\\\DEFFDuP{}   \\\\filleFDuP{}', u'\\\\begin{preview}Une lueur rouge recouvre les deux filles.\\\\end{preview}', '\\\\begin{preview}.\\\\end{preview}', u'\\\\begin{preview}\\\\DEFFSg{}\\\\end{preview} \\\\begin{preview}\\\\nuitFSg{}\\\\end{preview} \\\\begin{preview}\\\\tomberPrsTroisSgSg{}\\\\end{preview} \\\\begin{preview}\\\\SUR{}\\\\end{preview} \\\\begin{preview}\\\\DEFMSg{}\\\\end{preview} \\\\begin{preview}\\\\villageMSg{}\\\\end{preview} \\\\begin{preview}\\\\DE{}\\\\end{preview} \\\\begin{preview}\\\\DEFMSg{}\\\\end{preview} \\\\begin{preview}\\\\KalebMSg{}\\\\end{preview}', u'\\\\DEFFSgP{}   \\\\nuitFSgP{}  \\\\tomberPrsTroisSgSgP{}   \\\\SURP{}    \\\\DEFMSgP{}   \\\\villageMSgP{}   \\\\DEP{}    \\\\DEFMSgP{}   \\\\KalebMSgP{}', u'\\\\begin{preview}La nuit tombe sur le village de Kaleb.\\\\end{preview}', '\\\\begin{preview}.\\\\end{preview}', u'\\\\begin{preview}\\\\DEFFSg{}\\\\end{preview} \\\\begin{preview}\\\\lueurFSg{}\\\\end{preview} \\\\begin{preview}\\\\DE{}\\\\end{preview} \\\\begin{preview}\\\\DEFFSg{}\\\\end{preview} \\\\begin{preview}\\\\luneFSg{}\\\\end{preview} \\\\begin{preview}\\\\envahirPstTroisSgSg{}\\\\end{preview} \\\\begin{preview}\\\\DEFFSg{}\\\\end{preview} \\\\begin{preview}\\\\maisonFSg{}\\\\end{preview} \\\\begin{preview}\\\\DE{}\\\\end{preview} \\\\begin{preview}\\\\DEFFSg{}\\\\end{preview} \\\\begin{preview}\\\\MahiraFSg{}\\\\end{preview}', u'\\\\DEFFSgP{}   \\\\lueurFSgP{}   \\\\DEP{}    \\\\DEFFSgP{}   \\\\luneFSgP{}  \\\\envahirPstTroisSgSgP{}   \\\\DEFFSgP{}   \\\\maisonFSgP{}   \\\\DEP{}    \\\\DEFFSgP{}   \\\\MahiraFSgP{}', u'\\\\begin{preview}La lueur de la lune envahissait la maison de Mahira.\\\\end{preview}', '\\\\begin{preview}.\\\\end{preview}', u'\\\\begin{preview}\\\\DEMFSg{}\\\\end{preview} \\\\begin{preview}\\\\lueurFSg{}\\\\end{preview} \\\\begin{preview}\\\\donnerPstTroisSgSg{}\\\\end{preview} \\\\begin{preview}\\\\INDMSg{}\\\\end{preview} \\\\begin{preview}\\\\souffranceMSg{}\\\\end{preview} \\\\begin{preview}\\\\grandMSg{}\\\\end{preview} \\\\begin{preview}\\\\A{}\\\\end{preview} \\\\begin{preview}\\\\DEFFSg{}\\\\end{preview} \\\\begin{preview}\\\\blessureFSg{}\\\\end{preview} \\\\begin{preview}\\\\DE{}\\\\end{preview} \\\\begin{preview}\\\\DEFFSg{}\\\\end{preview} \\\\begin{preview}\\\\MahiraFSg{}\\\\end{preview}', u'\\\\DEMFSgP{}   \\\\lueurFSgP{}  \\\\donnerPstTroisSgSgP{}   \\\\INDMSgP{}   \\\\souffranceMSgP{}   \\\\grandMSgP{}   \\\\AP{}    \\\\DEFFSgP{}   \\\\blessureFSgP{}   \\\\DEP{}    \\\\DEFFSgP{}   \\\\MahiraFSgP{}', u'\\\\begin{preview}Cette lueur donnait une grande souffrance \\xe0 la blessure de Mahira.\\\\end{preview}', '\\\\begin{preview}.\\\\end{preview}', u'\\\\begin{preview}\\\\DEFFSg{}\\\\end{preview} \\\\begin{preview}\\\\MahiraFSg{}\\\\end{preview} \\\\begin{preview}\\\\sortirPstTroisSgSg{}\\\\end{preview} \\\\begin{preview}\\\\DE{}\\\\end{preview} \\\\begin{preview}\\\\DEFFSg{}\\\\end{preview} \\\\begin{preview}\\\\maisonFSg{}\\\\end{preview}', u'\\\\DEFFSgP{}   \\\\MahiraFSgP{}  \\\\sortirPstTroisSgSgP{}   \\\\DEP{}    \\\\DEFFSgP{}   \\\\maisonFSgP{}', u'\\\\begin{preview}Mahira sortit de la maison.\\\\end{preview}', '\\\\begin{preview}.\\\\end{preview}', u'\\\\begin{preview}\\\\DEFFSg{}\\\\end{preview} \\\\begin{preview}\\\\lueurFSg{}\\\\end{preview} \\\\begin{preview}\\\\DE{}\\\\end{preview} \\\\begin{preview}\\\\DEFFSg{}\\\\end{preview} \\\\begin{preview}\\\\luneFSg{}\\\\end{preview} \\\\begin{preview}\\\\recouvrirPrsTroisSgSg{}\\\\end{preview} \\\\begin{preview}\\\\DEFMSg{}\\\\end{preview} \\\\begin{preview}\\\\corpsMSg{}\\\\end{preview} \\\\begin{preview}\\\\DE{}\\\\end{preview} \\\\begin{preview}\\\\DEFFSg{}\\\\end{preview} \\\\begin{preview}\\\\MahiraFSg{}\\\\end{preview}', u'\\\\DEFFSgP{}   \\\\lueurFSgP{}   \\\\DEP{}    \\\\DEFFSgP{}   \\\\luneFSgP{}  \\\\recouvrirPrsTroisSgSgP{}   \\\\DEFMSgP{}   \\\\corpsMSgP{}   \\\\DEP{}    \\\\DEFFSgP{}   \\\\MahiraFSgP{}', u'\\\\begin{preview}La lueur de la lune recouvre le corps de Mahira.\\\\end{preview}', '\\\\begin{preview}.\\\\end{preview}', u'\\\\begin{preview}\\\\DEMMSg{}\\\\end{preview} \\\\begin{preview}\\\\corpsMSg{}\\\\end{preview} \\\\begin{preview}\\\\disparaitrePrsTroisSgSg{}\\\\end{preview} \\\\begin{preview}\\\\DANS{}\\\\end{preview} \\\\begin{preview}\\\\DEFFSg{}\\\\end{preview} \\\\begin{preview}\\\\nuitFSg{}\\\\end{preview} \\\\begin{preview}\\\\noirFSg{}\\\\end{preview}', u'\\\\DEMMSgP{}   \\\\corpsMSgP{}  \\\\disparaitrePrsTroisSgSgP{}   \\\\DANSP{}    \\\\DEFFSgP{}   \\\\nuitFSgP{}   \\\\noirFSgP{}', u'\\\\begin{preview}Ce corps dispara\\xeet dans la nuit noire.\\\\end{preview}', '\\\\begin{preview}.\\\\end{preview}', u'\\\\begin{preview}\\\\DEFFSg{}\\\\end{preview} \\\\begin{preview}\\\\nuitFSg{}\\\\end{preview} \\\\begin{preview}\\\\transformerPrsTroisSgSg{}\\\\end{preview} \\\\begin{preview}\\\\DEFMSg{}\\\\end{preview} \\\\begin{preview}\\\\visageMSg{}\\\\end{preview} \\\\begin{preview}\\\\DE{}\\\\end{preview} \\\\begin{preview}\\\\DEFFSg{}\\\\end{preview} \\\\begin{preview}\\\\soeurFSg{}\\\\end{preview} \\\\begin{preview}\\\\DE{}\\\\end{preview} \\\\begin{preview}\\\\DEFMSg{}\\\\end{preview} \\\\begin{preview}\\\\KalebMSg{}\\\\end{preview}', u'\\\\DEFFSgP{}   \\\\nuitFSgP{}  \\\\transformerPrsTroisSgSgP{}   \\\\DEFMSgP{}   \\\\visageMSgP{}   \\\\DEP{}    \\\\DEFFSgP{}   \\\\soeurFSgP{}   \\\\DEP{}    \\\\DEFMSgP{}   \\\\KalebMSgP{}', u'\\\\begin{preview}La nuit transforme le visage de la s\\u0153ur de Kaleb.\\\\end{preview}', '\\\\begin{preview}.\\\\end{preview}', u'\\\\begin{preview}\\\\DEFFSg{}\\\\end{preview} \\\\begin{preview}\\\\MahiraFSg{}\\\\end{preview} \\\\begin{preview}\\\\etrePstTroisSgSg{}\\\\end{preview} \\\\begin{preview}\\\\INDFSg{}\\\\end{preview} \\\\begin{preview}\\\\louveFSg{}\\\\end{preview} \\\\begin{preview}\\\\grandFSg{}\\\\end{preview} \\\\begin{preview}\\\\blancFSg{}\\\\end{preview}', u'\\\\DEFFSgP{}   \\\\MahiraFSgP{}  \\\\etrePstTroisSgSgP{}   \\\\INDFSgP{}   \\\\louveFSgP{}   \\\\grandFSgP{}   \\\\blancFSgP{}', u'\\\\begin{preview}Mahira \\xe9tait une grande louve blanche.\\\\end{preview}', '\\\\begin{preview}.\\\\end{preview}', u'\\\\begin{preview}\\\\DEMFSg{}\\\\end{preview} \\\\begin{preview}\\\\louveFSg{}\\\\end{preview} \\\\begin{preview}\\\\effrayeFSg{}\\\\end{preview} \\\\begin{preview}\\\\chercherPrsTroisSgSg{}\\\\end{preview} \\\\begin{preview}\\\\DEFMSg{}\\\\end{preview} \\\\begin{preview}\\\\demonMSg{}\\\\end{preview} \\\\begin{preview}\\\\DANS{}\\\\end{preview} \\\\begin{preview}\\\\DEFFSg{}\\\\end{preview} \\\\begin{preview}\\\\foretFSg{}\\\\end{preview}', u'\\\\DEMFSgP{}   \\\\louveFSgP{}   \\\\effrayeFSgP{}  \\\\chercherPrsTroisSgSgP{}   \\\\DEFMSgP{}   \\\\demonMSgP{}   \\\\DANSP{}    \\\\DEFFSgP{}   \\\\foretFSgP{}', u'\\\\begin{preview}Dans la for\\xeat, cette louve effray\\xe9e cherche le d\\xe9mon.\\\\end{preview}', '\\\\begin{preview}.\\\\end{preview}', u'\\\\begin{preview}\\\\DEFFSg{}\\\\end{preview} \\\\begin{preview}\\\\louveFSg{}\\\\end{preview} \\\\begin{preview}\\\\voirPstTroisSgSg{}\\\\end{preview} \\\\begin{preview}\\\\INDMSg{}\\\\end{preview} \\\\begin{preview}\\\\serpentMSg{}\\\\end{preview} \\\\begin{preview}\\\\grandMSg{}\\\\end{preview} \\\\begin{preview}\\\\noirMSg{}\\\\end{preview}', u'\\\\DEFFSgP{}   \\\\louveFSgP{}  \\\\voirPstTroisSgSgP{}   \\\\INDMSgP{}   \\\\serpentMSgP{}   \\\\grandMSgP{}   \\\\noirMSgP{}', u'\\\\begin{preview}La louve vit un grand serpent noir.\\\\end{preview}', '\\\\begin{preview}.\\\\end{preview}', u'\\\\begin{preview}\\\\DEFMSg{}\\\\end{preview} \\\\begin{preview}\\\\serpentMSg{}\\\\end{preview} \\\\begin{preview}\\\\parlerPstTroisSgSg{}\\\\end{preview} \\\\begin{preview}\\\\A{}\\\\end{preview} \\\\begin{preview}\\\\DEFFSg{}\\\\end{preview} \\\\begin{preview}\\\\louveFSg{}\\\\end{preview} \\\\begin{preview}\\\\blancFSg{}\\\\end{preview}', u'\\\\DEFMSgP{}   \\\\serpentMSgP{}  \\\\parlerPstTroisSgSgP{}   \\\\AP{}    \\\\DEFFSgP{}   \\\\louveFSgP{}   \\\\blancFSgP{}', u'\\\\begin{preview}Le serpent parla \\xe0 la louve blanche.\\\\end{preview}', '\\\\begin{preview}.\\\\end{preview}', u'\\\\begin{preview}\\\\DEFMSg{}\\\\end{preview} \\\\begin{preview}\\\\sortMSg{}\\\\end{preview} \\\\begin{preview}\\\\DE{}\\\\end{preview} \\\\begin{preview}\\\\DEFMSg{}\\\\end{preview} \\\\begin{preview}\\\\demonMSg{}\\\\end{preview} \\\\begin{preview}\\\\transformerPrsTroisSgSg{}\\\\end{preview} \\\\begin{preview}\\\\DEFFSg{}\\\\end{preview} \\\\begin{preview}\\\\villageoiseFSg{}\\\\end{preview} \\\\begin{preview}\\\\DANS{}\\\\end{preview} \\\\begin{preview}\\\\DEFFSg{}\\\\end{preview} \\\\begin{preview}\\\\nuitFSg{}\\\\end{preview}', u'\\\\DEFMSgP{}   \\\\sortMSgP{}   \\\\DEP{}    \\\\DEFMSgP{}   \\\\demonMSgP{}  \\\\transformerPrsTroisSgSgP{}   \\\\DEFFSgP{}   \\\\villageoiseFSgP{}   \\\\DANSP{}    \\\\DEFFSgP{}   \\\\nuitFSgP{}', u'\\\\begin{preview}Le sort du d\\xe9mon transforme la villageoise dans la nuit.\\\\end{preview}', '\\\\begin{preview}.\\\\end{preview}', u'\\\\begin{preview}\\\\DEFMSg{}\\\\end{preview} \\\\begin{preview}\\\\loupMSg{}\\\\end{preview} \\\\begin{preview}\\\\blancMSg{}\\\\end{preview} \\\\begin{preview}\\\\protegerPstTroisSgSg{}\\\\end{preview} \\\\begin{preview}\\\\DEFMPl{}\\\\end{preview} \\\\begin{preview}\\\\loupMPl{}\\\\end{preview} \\\\begin{preview}\\\\noirMPl{}\\\\end{preview}', u'\\\\DEFMSgP{}   \\\\loupMSgP{}   \\\\blancMSgP{}  \\\\protegerPstTroisSgSgP{}   \\\\DEFMPlP{}   \\\\loupMPlP{}   \\\\noirMPlP{}', u'\\\\begin{preview}Le loup blanc prot\\xe9geait les loups noirs.\\\\end{preview}', '\\\\begin{preview}.\\\\end{preview}', u'\\\\begin{preview}\\\\DEFMPl{}\\\\end{preview} \\\\begin{preview}\\\\loupMPl{}\\\\end{preview} \\\\begin{preview}\\\\devorerPrsTroisPlPl{}\\\\end{preview} \\\\begin{preview}\\\\DEFMPl{}\\\\end{preview} \\\\begin{preview}\\\\villageoisMPl{}\\\\end{preview}', u'\\\\DEFMPlP{}   \\\\loupMPlP{}  \\\\devorerPrsTroisPlPlP{}   \\\\DEFMPlP{}   \\\\villageoisMPlP{}', u'\\\\begin{preview}Les loups d\\xe9vorent les villageois.\\\\end{preview}', '\\\\begin{preview}.\\\\end{preview}', u'\\\\begin{preview}\\\\DEFMPl{}\\\\end{preview} \\\\begin{preview}\\\\villageoisMPl{}\\\\end{preview} \\\\begin{preview}\\\\chasserPrsTroisPlPl{}\\\\end{preview} \\\\begin{preview}\\\\DEFMPl{}\\\\end{preview} \\\\begin{preview}\\\\loupMPl{}\\\\end{preview}', u'\\\\DEFMPlP{}   \\\\villageoisMPlP{}  \\\\chasserPrsTroisPlPlP{}   \\\\DEFMPlP{}   \\\\loupMPlP{}', u'\\\\begin{preview}Les villageois chassent les loups.\\\\end{preview}', '\\\\begin{preview}.\\\\end{preview}', u'\\\\begin{preview}\\\\DEFMSg{}\\\\end{preview} \\\\begin{preview}\\\\sortMSg{}\\\\end{preview} \\\\begin{preview}\\\\disparaitrePrsTroisSgSg{}\\\\end{preview} \\\\begin{preview}\\\\AVEC{}\\\\end{preview} \\\\begin{preview}\\\\DEFFSg{}\\\\end{preview} \\\\begin{preview}\\\\mortFSg{}\\\\end{preview} \\\\begin{preview}\\\\DE{}\\\\end{preview} \\\\begin{preview}\\\\DEFMPl{}\\\\end{preview} \\\\begin{preview}\\\\villageoisMPl{}\\\\end{preview}', u'\\\\DEFMSgP{}   \\\\sortMSgP{}  \\\\disparaitrePrsTroisSgSgP{}   \\\\AVECP{}    \\\\DEFFSgP{}   \\\\mortFSgP{}   \\\\DEP{}    \\\\DEFMPlP{}   \\\\villageoisMPlP{}', u'\\\\begin{preview}Le sort dispara\\xeet avec la mort des villageois.\\\\end{preview}', '\\\\begin{preview}.\\\\end{preview}', u'\\\\begin{preview}\\\\DEFMSg{}\\\\end{preview} \\\\begin{preview}\\\\serpentMSg{}\\\\end{preview} \\\\begin{preview}\\\\allerPstTroisSgSg{}\\\\end{preview} \\\\begin{preview}\\\\VERS{}\\\\end{preview} \\\\begin{preview}\\\\DEFFSg{}\\\\end{preview} \\\\begin{preview}\\\\maisonFSg{}\\\\end{preview} \\\\begin{preview}\\\\DE{}\\\\end{preview} \\\\begin{preview}\\\\DEFMSg{}\\\\end{preview} \\\\begin{preview}\\\\chefMSg{}\\\\end{preview} \\\\begin{preview}\\\\DE{}\\\\end{preview} \\\\begin{preview}\\\\DEFMSg{}\\\\end{preview} \\\\begin{preview}\\\\villageMSg{}\\\\end{preview}', u'\\\\DEFMSgP{}   \\\\serpentMSgP{}  \\\\allerPstTroisSgSgP{}   \\\\VERSP{}    \\\\DEFFSgP{}   \\\\maisonFSgP{}   \\\\DEP{}    \\\\DEFMSgP{}   \\\\chefMSgP{}   \\\\DEP{}    \\\\DEFMSgP{}   \\\\villageMSgP{}', u'\\\\begin{preview}Le serpent allait vers la maison du chef du village.\\\\end{preview}', '\\\\begin{preview}.\\\\end{preview}', u'\\\\begin{preview}\\\\DEMMSg{}\\\\end{preview} \\\\begin{preview}\\\\serpentMSg{}\\\\end{preview} \\\\begin{preview}\\\\parlerPstTroisSgSg{}\\\\end{preview} \\\\begin{preview}\\\\A{}\\\\end{preview} \\\\begin{preview}\\\\DEFMSg{}\\\\end{preview} \\\\begin{preview}\\\\KalebMSg{}\\\\end{preview}', u'\\\\DEMMSgP{}   \\\\serpentMSgP{}  \\\\parlerPstTroisSgSgP{}   \\\\AP{}    \\\\DEFMSgP{}   \\\\KalebMSgP{}', u'\\\\begin{preview}Ce serpent parla \\xe0 Kaleb.\\\\end{preview}', '\\\\begin{preview}.\\\\end{preview}', u'\\\\begin{preview}\\\\INDFSg{}\\\\end{preview} \\\\begin{preview}\\\\colereFSg{}\\\\end{preview} \\\\begin{preview}\\\\noirFSg{}\\\\end{preview} \\\\begin{preview}\\\\envahirPrsTroisSgSg{}\\\\end{preview} \\\\begin{preview}\\\\DEFMPl{}\\\\end{preview} \\\\begin{preview}\\\\loupMPl{}\\\\end{preview}', u'\\\\INDFSgP{}   \\\\colereFSgP{}   \\\\noirFSgP{}  \\\\envahirPrsTroisSgSgP{}   \\\\DEFMPlP{}   \\\\loupMPlP{}', u'\\\\begin{preview}Une col\\xe8re noire envahit les loups.\\\\end{preview}', '\\\\begin{preview}.\\\\end{preview}', u'\\\\begin{preview}\\\\DEFMSg{}\\\\end{preview} \\\\begin{preview}\\\\combatMSg{}\\\\end{preview} \\\\begin{preview}\\\\terribleMSg{}\\\\end{preview} \\\\begin{preview}\\\\approcherPrsTroisSgSg{}\\\\end{preview}', u'\\\\DEFMSgP{}   \\\\combatMSgP{}   \\\\terribleMSgP{}  \\\\approcherPrsTroisSgSgP{}', u'\\\\begin{preview}Le terrible combat approche.\\\\end{preview}', '\\\\begin{preview}.\\\\end{preview}', u'\\\\begin{preview}\\\\DEFMSg{}\\\\end{preview} \\\\begin{preview}\\\\chefMSg{}\\\\end{preview} \\\\begin{preview}\\\\DE{}\\\\end{preview} \\\\begin{preview}\\\\DEFMSg{}\\\\end{preview} \\\\begin{preview}\\\\villageMSg{}\\\\end{preview} \\\\begin{preview}\\\\parlerPrsTroisSgSg{}\\\\end{preview} \\\\begin{preview}\\\\A{}\\\\end{preview} \\\\begin{preview}\\\\DEFMPl{}\\\\end{preview} \\\\begin{preview}\\\\villageoisMPl{}\\\\end{preview} \\\\begin{preview}\\\\DE{}\\\\end{preview} \\\\begin{preview}\\\\DEFMPl{}\\\\end{preview} \\\\begin{preview}\\\\loupMPl{}\\\\end{preview} \\\\begin{preview}\\\\furieuxMPl{}\\\\end{preview}', u'\\\\DEFMSgP{}   \\\\chefMSgP{}   \\\\DEP{}    \\\\DEFMSgP{}   \\\\villageMSgP{}  \\\\parlerPrsTroisSgSgP{}   \\\\AP{}    \\\\DEFMPlP{}   \\\\villageoisMPlP{}   \\\\DEP{}    \\\\DEFMPlP{}   \\\\loupMPlP{}   \\\\furieuxMPlP{}', u'\\\\begin{preview}Le chef du village parle aux villageois des loups furieux.\\\\end{preview}', '\\\\begin{preview}.\\\\end{preview}', u'\\\\begin{preview}\\\\DEFFSg{}\\\\end{preview} \\\\begin{preview}\\\\nuitFSg{}\\\\end{preview} \\\\begin{preview}\\\\tomberPstTroisSgSg{}\\\\end{preview}', u'\\\\DEFFSgP{}   \\\\nuitFSgP{}  \\\\tomberPstTroisSgSgP{}', u'\\\\begin{preview}La nuit tombait.\\\\end{preview}', '\\\\begin{preview}.\\\\end{preview}', u'\\\\begin{preview}\\\\DEFMPl{}\\\\end{preview} \\\\begin{preview}\\\\loupMPl{}\\\\end{preview} \\\\begin{preview}\\\\sortirPstTroisPlPl{}\\\\end{preview} \\\\begin{preview}\\\\DE{}\\\\end{preview} \\\\begin{preview}\\\\DEFFSg{}\\\\end{preview} \\\\begin{preview}\\\\foretFSg{}\\\\end{preview}', u'\\\\DEFMPlP{}   \\\\loupMPlP{}  \\\\sortirPstTroisPlPlP{}   \\\\DEP{}    \\\\DEFFSgP{}   \\\\foretFSgP{}', u'\\\\begin{preview}Les loups sortaient de la for\\xeat.\\\\end{preview}', '\\\\begin{preview}.\\\\end{preview}', u'\\\\begin{preview}\\\\DEFMPl{}\\\\end{preview} \\\\begin{preview}\\\\villageoisMPl{}\\\\end{preview} \\\\begin{preview}\\\\prendrePstTroisPlPl{}\\\\end{preview} \\\\begin{preview}\\\\INDFPl{}\\\\end{preview} \\\\begin{preview}\\\\lanceFPl{}\\\\end{preview}', u'\\\\DEFMPlP{}   \\\\villageoisMPlP{}  \\\\prendrePstTroisPlPlP{}   \\\\INDFPlP{}   \\\\lanceFPlP{}', u'\\\\begin{preview}Les villageois prenaient des lances.\\\\end{preview}', '\\\\begin{preview}.\\\\end{preview}', u'\\\\begin{preview}\\\\DEFFPl{}\\\\end{preview} \\\\begin{preview}\\\\villageoiseFPl{}\\\\end{preview} \\\\begin{preview}\\\\protegerPrsTroisPlPl{}\\\\end{preview} \\\\begin{preview}\\\\DEFMPl{}\\\\end{preview} \\\\begin{preview}\\\\enfantMPl{}\\\\end{preview} \\\\begin{preview}\\\\petitMPl{}\\\\end{preview} \\\\begin{preview}\\\\DANS{}\\\\end{preview} \\\\begin{preview}\\\\INDFSg{}\\\\end{preview} \\\\begin{preview}\\\\maisonFSg{}\\\\end{preview}', u'\\\\DEFFPlP{}   \\\\villageoiseFPlP{}  \\\\protegerPrsTroisPlPlP{}   \\\\DEFMPlP{}   \\\\enfantMPlP{}   \\\\petitMPlP{}   \\\\DANSP{}    \\\\INDFSgP{}   \\\\maisonFSgP{}', u'\\\\begin{preview}Les villageoises prot\\xe8gent les petits enfants dans une maison.\\\\end{preview}', '\\\\begin{preview}.\\\\end{preview}', u'\\\\begin{preview}\\\\DEFMPl{}\\\\end{preview} \\\\begin{preview}\\\\loupMPl{}\\\\end{preview} \\\\begin{preview}\\\\envahirPrsTroisPlPl{}\\\\end{preview} \\\\begin{preview}\\\\DEFMSg{}\\\\end{preview} \\\\begin{preview}\\\\villageMSg{}\\\\end{preview} \\\\begin{preview}\\\\petitMSg{}\\\\end{preview}', u'\\\\DEFMPlP{}   \\\\loupMPlP{}  \\\\envahirPrsTroisPlPlP{}   \\\\DEFMSgP{}   \\\\villageMSgP{}   \\\\petitMSgP{}', u'\\\\begin{preview}Les loups envahissent le petit village.\\\\end{preview}', '\\\\begin{preview}.\\\\end{preview}', u'\\\\begin{preview}\\\\INDMSg{}\\\\end{preview} \\\\begin{preview}\\\\loupMSg{}\\\\end{preview} \\\\begin{preview}\\\\planterPrsTroisSgSg{}\\\\end{preview} \\\\begin{preview}\\\\DEFFPl{}\\\\end{preview} \\\\begin{preview}\\\\crocFPl{}\\\\end{preview} \\\\begin{preview}\\\\DANS{}\\\\end{preview} \\\\begin{preview}\\\\DEFMSg{}\\\\end{preview} \\\\begin{preview}\\\\gorgeMSg{}\\\\end{preview} \\\\begin{preview}\\\\DE{}\\\\end{preview} \\\\begin{preview}\\\\INDMSg{}\\\\end{preview} \\\\begin{preview}\\\\hommeMSg{}\\\\end{preview}', u'\\\\INDMSgP{}   \\\\loupMSgP{}  \\\\planterPrsTroisSgSgP{}   \\\\DEFFPlP{}   \\\\crocFPlP{}   \\\\DANSP{}    \\\\DEFMSgP{}   \\\\gorgeMSgP{}   \\\\DEP{}    \\\\INDMSgP{}   \\\\hommeMSgP{}', u\"\\\\begin{preview}Un loup plante les crocs dans la gorge d'un homme.\\\\end{preview}\", '\\\\begin{preview}.\\\\end{preview}', u'\\\\begin{preview}\\\\DEFMPl{}\\\\end{preview} \\\\begin{preview}\\\\hommeMPl{}\\\\end{preview} \\\\begin{preview}\\\\jeterPrsTroisPlPl{}\\\\end{preview} \\\\begin{preview}\\\\INDFPl{}\\\\end{preview} \\\\begin{preview}\\\\lanceFPl{}\\\\end{preview} \\\\begin{preview}\\\\A{}\\\\end{preview} \\\\begin{preview}\\\\DEFMPl{}\\\\end{preview} \\\\begin{preview}\\\\loupMPl{}\\\\end{preview}', u'\\\\DEFMPlP{}   \\\\hommeMPlP{}  \\\\jeterPrsTroisPlPlP{}   \\\\INDFPlP{}   \\\\lanceFPlP{}   \\\\AP{}    \\\\DEFMPlP{}   \\\\loupMPlP{}', u'\\\\begin{preview}Les hommes jettent des lances aux loups.\\\\end{preview}', '\\\\begin{preview}.\\\\end{preview}', u'\\\\begin{preview}\\\\INDFDu{}\\\\end{preview} \\\\begin{preview}\\\\lanceFDu{}\\\\end{preview} \\\\begin{preview}\\\\transpercerPrsTroisDuDu{}\\\\end{preview} \\\\begin{preview}\\\\INDMDu{}\\\\end{preview} \\\\begin{preview}\\\\loupMDu{}\\\\end{preview}', u'\\\\INDFDuP{}   \\\\lanceFDuP{}  \\\\transpercerPrsTroisDuDuP{}   \\\\INDMDuP{}   \\\\loupMDuP{}', u'\\\\begin{preview}Deux lances transpercent deux loups.\\\\end{preview}', '\\\\begin{preview}.\\\\end{preview}', u'\\\\begin{preview}\\\\DEFMSg{}\\\\end{preview} \\\\begin{preview}\\\\chefMSg{}\\\\end{preview} \\\\begin{preview}\\\\DE{}\\\\end{preview} \\\\begin{preview}\\\\DEFMPl{}\\\\end{preview} \\\\begin{preview}\\\\hommeMPl{}\\\\end{preview} \\\\begin{preview}\\\\donnerPrsTroisSgSg{}\\\\end{preview} \\\\begin{preview}\\\\INDMSg{}\\\\end{preview} \\\\begin{preview}\\\\coupMSg{}\\\\end{preview} \\\\begin{preview}\\\\DE{}\\\\end{preview} \\\\begin{preview}\\\\DEFMSg{}\\\\end{preview} \\\\begin{preview}\\\\couteauMSg{}\\\\end{preview} \\\\begin{preview}\\\\A{}\\\\end{preview} \\\\begin{preview}\\\\DEFFSg{}\\\\end{preview} \\\\begin{preview}\\\\louveFSg{}\\\\end{preview}', u'\\\\DEFMSgP{}   \\\\chefMSgP{}   \\\\DEP{}    \\\\DEFMPlP{}   \\\\hommeMPlP{}  \\\\donnerPrsTroisSgSgP{}   \\\\INDMSgP{}   \\\\coupMSgP{}   \\\\DEP{}    \\\\DEFMSgP{}   \\\\couteauMSgP{}   \\\\AP{}    \\\\DEFFSgP{}   \\\\louveFSgP{}', u'\\\\begin{preview}Le chef des hommes donne un coup de couteau \\xe0 la louve.\\\\end{preview}', '\\\\begin{preview}.\\\\end{preview}', u'\\\\begin{preview}\\\\DEFFSg{}\\\\end{preview} \\\\begin{preview}\\\\louveFSg{}\\\\end{preview} \\\\begin{preview}\\\\blesseFSg{}\\\\end{preview} \\\\begin{preview}\\\\sortirPrsTroisSgSg{}\\\\end{preview} \\\\begin{preview}\\\\DE{}\\\\end{preview} \\\\begin{preview}\\\\DEFMSg{}\\\\end{preview} \\\\begin{preview}\\\\combatMSg{}\\\\end{preview}', u'\\\\DEFFSgP{}   \\\\louveFSgP{}   \\\\blesseFSgP{}  \\\\sortirPrsTroisSgSgP{}   \\\\DEP{}    \\\\DEFMSgP{}   \\\\combatMSgP{}', u'\\\\begin{preview}La louve bless\\xe9e sort du combat.\\\\end{preview}', '\\\\begin{preview}.\\\\end{preview}', u'\\\\begin{preview}\\\\DEFMPl{}\\\\end{preview} \\\\begin{preview}\\\\loupMPl{}\\\\end{preview} \\\\begin{preview}\\\\noirMPl{}\\\\end{preview} \\\\begin{preview}\\\\rejoindrePrsTroisPlPl{}\\\\end{preview} \\\\begin{preview}\\\\DEFFSg{}\\\\end{preview} \\\\begin{preview}\\\\louveFSg{}\\\\end{preview} \\\\begin{preview}\\\\grandFSg{}\\\\end{preview} \\\\begin{preview}\\\\DANS{}\\\\end{preview} \\\\begin{preview}\\\\DEFFSg{}\\\\end{preview} \\\\begin{preview}\\\\foretFSg{}\\\\end{preview}', u'\\\\DEFMPlP{}   \\\\loupMPlP{}   \\\\noirMPlP{}  \\\\rejoindrePrsTroisPlPlP{}   \\\\DEFFSgP{}   \\\\louveFSgP{}   \\\\grandFSgP{}   \\\\DANSP{}    \\\\DEFFSgP{}   \\\\foretFSgP{}', u'\\\\begin{preview}Les loups noirs rejoignent la grande louve dans la for\\xeat.\\\\end{preview}', '\\\\begin{preview}.\\\\end{preview}', u'\\\\begin{preview}\\\\DEFFDu{}\\\\end{preview} \\\\begin{preview}\\\\nuitFDu{}\\\\end{preview} \\\\begin{preview}\\\\suivantFDu{}\\\\end{preview} \\\\begin{preview}\\\\passerPstTroisDuDu{}\\\\end{preview}', u'\\\\DEFFDuP{}   \\\\nuitFDuP{}   \\\\suivantFDuP{}  \\\\passerPstTroisDuDuP{}', u'\\\\begin{preview}Les deux nuits suivantes pass\\xe8rent.\\\\end{preview}', '\\\\begin{preview}.\\\\end{preview}', u'\\\\begin{preview}\\\\DEMFPl{}\\\\end{preview} \\\\begin{preview}\\\\nuitFPl{}\\\\end{preview} \\\\begin{preview}\\\\voirPstTroisPlPl{}\\\\end{preview} \\\\begin{preview}\\\\INDMPl{}\\\\end{preview} \\\\begin{preview}\\\\combatMPl{}\\\\end{preview} \\\\begin{preview}\\\\terribleMPl{}\\\\end{preview}', u'\\\\DEMFPlP{}   \\\\nuitFPlP{}  \\\\voirPstTroisPlPlP{}   \\\\INDMPlP{}   \\\\combatMPlP{}   \\\\terribleMPlP{}', u'\\\\begin{preview}Ces nuits virent de terribles combats.\\\\end{preview}', '\\\\begin{preview}.\\\\end{preview}', u'\\\\begin{preview}\\\\DEFMPl{}\\\\end{preview} \\\\begin{preview}\\\\hommeMPl{}\\\\end{preview} \\\\begin{preview}\\\\prendrePrsTroisPlPl{}\\\\end{preview} \\\\begin{preview}\\\\DEFFPl{}\\\\end{preview} \\\\begin{preview}\\\\lanceFPl{}\\\\end{preview} \\\\begin{preview}\\\\DANS{}\\\\end{preview} \\\\begin{preview}\\\\DEFFSg{}\\\\end{preview} \\\\begin{preview}\\\\nuitFSg{}\\\\end{preview} \\\\begin{preview}\\\\suivantFSg{}\\\\end{preview}', u'\\\\DEFMPlP{}   \\\\hommeMPlP{}  \\\\prendrePrsTroisPlPlP{}   \\\\DEFFPlP{}   \\\\lanceFPlP{}   \\\\DANSP{}    \\\\DEFFSgP{}   \\\\nuitFSgP{}   \\\\suivantFSgP{}', u'\\\\begin{preview}Dans la nuit suivante, les hommes prennent les lances.\\\\end{preview}', '\\\\begin{preview}.\\\\end{preview}', u'\\\\begin{preview}\\\\DEFMSg{}\\\\end{preview} \\\\begin{preview}\\\\KalebMSg{}\\\\end{preview} \\\\begin{preview}\\\\courageuxMSg{}\\\\end{preview} \\\\begin{preview}\\\\parlerPrsTroisSgSg{}\\\\end{preview} \\\\begin{preview}\\\\A{}\\\\end{preview} \\\\begin{preview}\\\\DEFMPl{}\\\\end{preview} \\\\begin{preview}\\\\combattantMPl{}\\\\end{preview}', u'\\\\DEFMSgP{}   \\\\KalebMSgP{}   \\\\courageuxMSgP{}  \\\\parlerPrsTroisSgSgP{}   \\\\AP{}    \\\\DEFMPlP{}   \\\\combattantMPlP{}', u'\\\\begin{preview}Le courageux Kaleb parle aux combattants.\\\\end{preview}', '\\\\begin{preview}.\\\\end{preview}', u'\\\\begin{preview}\\\\DEFMPl{}\\\\end{preview} \\\\begin{preview}\\\\hommeMPl{}\\\\end{preview} \\\\begin{preview}\\\\allerPrsTroisPlPl{}\\\\end{preview} \\\\begin{preview}\\\\DANS{}\\\\end{preview} \\\\begin{preview}\\\\DEFFSg{}\\\\end{preview} \\\\begin{preview}\\\\foretFSg{}\\\\end{preview}', u'\\\\DEFMPlP{}   \\\\hommeMPlP{}  \\\\allerPrsTroisPlPlP{}   \\\\DANSP{}    \\\\DEFFSgP{}   \\\\foretFSgP{}', u'\\\\begin{preview}Les hommes vont dans la for\\xeat.\\\\end{preview}', '\\\\begin{preview}.\\\\end{preview}', u'\\\\begin{preview}\\\\DEFFSg{}\\\\end{preview} \\\\begin{preview}\\\\VioletteFSg{}\\\\end{preview} \\\\begin{preview}\\\\chercherPrsTroisSgSg{}\\\\end{preview} \\\\begin{preview}\\\\DEFFSg{}\\\\end{preview} \\\\begin{preview}\\\\MahiraFSg{}\\\\end{preview} \\\\begin{preview}\\\\A{}\\\\end{preview} \\\\begin{preview}\\\\DEFMSg{}\\\\end{preview} \\\\begin{preview}\\\\villageMSg{}\\\\end{preview}', u'\\\\DEFFSgP{}   \\\\VioletteFSgP{}  \\\\chercherPrsTroisSgSgP{}   \\\\DEFFSgP{}   \\\\MahiraFSgP{}   \\\\AP{}    \\\\DEFMSgP{}   \\\\villageMSgP{}', u'\\\\begin{preview}Au village, Violette cherche Mahira.\\\\end{preview}', '\\\\begin{preview}.\\\\end{preview}', u'\\\\begin{preview}\\\\INDMDu{}\\\\end{preview} \\\\begin{preview}\\\\criMDu{}\\\\end{preview} \\\\begin{preview}\\\\DE{}\\\\end{preview} \\\\begin{preview}\\\\DEFMPl{}\\\\end{preview} \\\\begin{preview}\\\\loupMPl{}\\\\end{preview} \\\\begin{preview}\\\\tomberPrsTroisDuDu{}\\\\end{preview} \\\\begin{preview}\\\\SUR{}\\\\end{preview} \\\\begin{preview}\\\\DEFMSg{}\\\\end{preview} \\\\begin{preview}\\\\villageMSg{}\\\\end{preview}', u'\\\\INDMDuP{}   \\\\criMDuP{}   \\\\DEP{}    \\\\DEFMPlP{}   \\\\loupMPlP{}  \\\\tomberPrsTroisDuDuP{}   \\\\SURP{}    \\\\DEFMSgP{}   \\\\villageMSgP{}', u'\\\\begin{preview}Deux cris de loups tombent sur le village.\\\\end{preview}', '\\\\begin{preview}.\\\\end{preview}', u'\\\\begin{preview}\\\\DEFMPl{}\\\\end{preview} \\\\begin{preview}\\\\enfantMPl{}\\\\end{preview} \\\\begin{preview}\\\\effrayeMPl{}\\\\end{preview} \\\\begin{preview}\\\\allerPrsTroisPlPl{}\\\\end{preview} \\\\begin{preview}\\\\DANS{}\\\\end{preview} \\\\begin{preview}\\\\INDFSg{}\\\\end{preview} \\\\begin{preview}\\\\maisonFSg{}\\\\end{preview} \\\\begin{preview}\\\\DE{}\\\\end{preview} \\\\begin{preview}\\\\DEFMSg{}\\\\end{preview} \\\\begin{preview}\\\\villageMSg{}\\\\end{preview} \\\\begin{preview}\\\\AVEC{}\\\\end{preview} \\\\begin{preview}\\\\DEFFPl{}\\\\end{preview} \\\\begin{preview}\\\\villageoiseFPl{}\\\\end{preview} \\\\begin{preview}\\\\courageuxFPl{}\\\\end{preview}', u'\\\\DEFMPlP{}   \\\\enfantMPlP{}   \\\\effrayeMPlP{}  \\\\allerPrsTroisPlPlP{}   \\\\DANSP{}    \\\\INDFSgP{}   \\\\maisonFSgP{}   \\\\DEP{}    \\\\DEFMSgP{}   \\\\villageMSgP{}   \\\\AVECP{}    \\\\DEFFPlP{}   \\\\villageoiseFPlP{}   \\\\courageuxFPlP{}', u'\\\\begin{preview}Les enfants effray\\xe9s vont dans une maison du village avec les courageuses villageoises.\\\\end{preview}', '\\\\begin{preview}.\\\\end{preview}', u'\\\\begin{preview}\\\\DEFMPl{}\\\\end{preview} \\\\begin{preview}\\\\villageoisMPl{}\\\\end{preview} \\\\begin{preview}\\\\fuirPstTroisPlPl{}\\\\end{preview} \\\\begin{preview}\\\\VERS{}\\\\end{preview} \\\\begin{preview}\\\\DEFMSg{}\\\\end{preview} \\\\begin{preview}\\\\villageMSg{}\\\\end{preview}', u'\\\\DEFMPlP{}   \\\\villageoisMPlP{}  \\\\fuirPstTroisPlPlP{}   \\\\VERSP{}    \\\\DEFMSgP{}   \\\\villageMSgP{}', u'\\\\begin{preview}Les villageois fuyaient vers le village.\\\\end{preview}', '\\\\begin{preview}.\\\\end{preview}', u'\\\\begin{preview}\\\\INDFSg{}\\\\end{preview} \\\\begin{preview}\\\\blessureFSg{}\\\\end{preview} \\\\begin{preview}\\\\recouvrirPstTroisSgSg{}\\\\end{preview} \\\\begin{preview}\\\\DEFMSg{}\\\\end{preview} \\\\begin{preview}\\\\visageMSg{}\\\\end{preview} \\\\begin{preview}\\\\DE{}\\\\end{preview} \\\\begin{preview}\\\\INDMSg{}\\\\end{preview} \\\\begin{preview}\\\\combattantMSg{}\\\\end{preview}', u'\\\\INDFSgP{}   \\\\blessureFSgP{}  \\\\recouvrirPstTroisSgSgP{}   \\\\DEFMSgP{}   \\\\visageMSgP{}   \\\\DEP{}    \\\\INDMSgP{}   \\\\combattantMSgP{}', u\"\\\\begin{preview}Une blessure recouvrait le visage d'un combattant.\\\\end{preview}\", '\\\\begin{preview}.\\\\end{preview}', u'\\\\begin{preview}\\\\INDFDu{}\\\\end{preview} \\\\begin{preview}\\\\villageoiseFDu{}\\\\end{preview} \\\\begin{preview}\\\\courirPrsTroisDuDu{}\\\\end{preview} \\\\begin{preview}\\\\VERS{}\\\\end{preview} \\\\begin{preview}\\\\DEMMSg{}\\\\end{preview} \\\\begin{preview}\\\\hommeMSg{}\\\\end{preview} \\\\begin{preview}\\\\blesseMSg{}\\\\end{preview}', u'\\\\INDFDuP{}   \\\\villageoiseFDuP{}  \\\\courirPrsTroisDuDuP{}   \\\\VERSP{}    \\\\DEMMSgP{}   \\\\hommeMSgP{}   \\\\blesseMSgP{}', u'\\\\begin{preview}Deux villageoises courent vers cet homme bless\\xe9.\\\\end{preview}', '\\\\begin{preview}.\\\\end{preview}', u'\\\\begin{preview}\\\\DEFMSg{}\\\\end{preview} \\\\begin{preview}\\\\KalebMSg{}\\\\end{preview} \\\\begin{preview}\\\\rejoindrePrsTroisSgSg{}\\\\end{preview} \\\\begin{preview}\\\\DEFFSg{}\\\\end{preview} \\\\begin{preview}\\\\VioletteFSg{}\\\\end{preview}', u'\\\\DEFMSgP{}   \\\\KalebMSgP{}  \\\\rejoindrePrsTroisSgSgP{}   \\\\DEFFSgP{}   \\\\VioletteFSgP{}', u'\\\\begin{preview}Kaleb rejoint Violette.\\\\end{preview}', '\\\\begin{preview}.\\\\end{preview}', u'\\\\begin{preview}\\\\DEFMPl{}\\\\end{preview} \\\\begin{preview}\\\\villageoisMPl{}\\\\end{preview} \\\\begin{preview}\\\\pousserPrsTroisPlPl{}\\\\end{preview} \\\\begin{preview}\\\\DEFMPl{}\\\\end{preview} \\\\begin{preview}\\\\enfantMPl{}\\\\end{preview} \\\\begin{preview}\\\\DANS{}\\\\end{preview} \\\\begin{preview}\\\\DEFFPl{}\\\\end{preview} \\\\begin{preview}\\\\maisonFPl{}\\\\end{preview}', u'\\\\DEFMPlP{}   \\\\villageoisMPlP{}  \\\\pousserPrsTroisPlPlP{}   \\\\DEFMPlP{}   \\\\enfantMPlP{}   \\\\DANSP{}    \\\\DEFFPlP{}   \\\\maisonFPlP{}', u'\\\\begin{preview}Les villageois poussent les enfants dans les maisons.\\\\end{preview}', '\\\\begin{preview}.\\\\end{preview}', u'\\\\begin{preview}\\\\DEFFPl{}\\\\end{preview} \\\\begin{preview}\\\\nuitFPl{}\\\\end{preview} \\\\begin{preview}\\\\passerPstTroisPlPl{}\\\\end{preview}', u'\\\\DEFFPlP{}   \\\\nuitFPlP{}  \\\\passerPstTroisPlPlP{}', u'\\\\begin{preview}Les nuits passaient.\\\\end{preview}', '\\\\begin{preview}.\\\\end{preview}', u'\\\\begin{preview}\\\\DEFMPl{}\\\\end{preview} \\\\begin{preview}\\\\combatMPl{}\\\\end{preview} \\\\begin{preview}\\\\suivantMPl{}\\\\end{preview} \\\\begin{preview}\\\\apporterPstTroisPlPl{}\\\\end{preview} \\\\begin{preview}\\\\INDFPl{}\\\\end{preview} \\\\begin{preview}\\\\mortFPl{}\\\\end{preview} \\\\begin{preview}\\\\A{}\\\\end{preview} \\\\begin{preview}\\\\DEFMSg{}\\\\end{preview} \\\\begin{preview}\\\\villageMSg{}\\\\end{preview}', u'\\\\DEFMPlP{}   \\\\combatMPlP{}   \\\\suivantMPlP{}  \\\\apporterPstTroisPlPlP{}   \\\\INDFPlP{}   \\\\mortFPlP{}   \\\\AP{}    \\\\DEFMSgP{}   \\\\villageMSgP{}', u'\\\\begin{preview}Les combats suivants apport\\xe8rent des morts au village.\\\\end{preview}', '\\\\begin{preview}.\\\\end{preview}', u'\\\\begin{preview}\\\\DEFMPl{}\\\\end{preview} \\\\begin{preview}\\\\loupMPl{}\\\\end{preview} \\\\begin{preview}\\\\noirMPl{}\\\\end{preview} \\\\begin{preview}\\\\apporterPrsTroisPlPl{}\\\\end{preview} \\\\begin{preview}\\\\INDMDu{}\\\\end{preview} \\\\begin{preview}\\\\corpsMDu{}\\\\end{preview} \\\\begin{preview}\\\\DE{}\\\\end{preview} \\\\begin{preview}\\\\DEFMPl{}\\\\end{preview} \\\\begin{preview}\\\\villageoisMPl{}\\\\end{preview} \\\\begin{preview}\\\\A{}\\\\end{preview} \\\\begin{preview}\\\\DEFFSg{}\\\\end{preview} \\\\begin{preview}\\\\louveFSg{}\\\\end{preview} \\\\begin{preview}\\\\blancFSg{}\\\\end{preview} \\\\begin{preview}\\\\DANS{}\\\\end{preview} \\\\begin{preview}\\\\DEFFSg{}\\\\end{preview} \\\\begin{preview}\\\\foretFSg{}\\\\end{preview}', u'\\\\DEFMPlP{}   \\\\loupMPlP{}   \\\\noirMPlP{}  \\\\apporterPrsTroisPlPlP{}   \\\\INDMDuP{}   \\\\corpsMDuP{}   \\\\DEP{}    \\\\DEFMPlP{}   \\\\villageoisMPlP{}   \\\\AP{}    \\\\DEFFSgP{}   \\\\louveFSgP{}   \\\\blancFSgP{}   \\\\DANSP{}    \\\\DEFFSgP{}   \\\\foretFSgP{}', u'\\\\begin{preview}Les loups noirs apportent deux corps de villageois \\xe0 la louve blanche dans la for\\xeat.\\\\end{preview}', '\\\\begin{preview}.\\\\end{preview}', u'\\\\begin{preview}\\\\DEFFSg{}\\\\end{preview} \\\\begin{preview}\\\\louveFSg{}\\\\end{preview} \\\\begin{preview}\\\\grandFSg{}\\\\end{preview} \\\\begin{preview}\\\\apporterPrsTroisSgSg{}\\\\end{preview} \\\\begin{preview}\\\\DEMMDu{}\\\\end{preview} \\\\begin{preview}\\\\corpsMDu{}\\\\end{preview} \\\\begin{preview}\\\\A{}\\\\end{preview} \\\\begin{preview}\\\\DEFMSg{}\\\\end{preview} \\\\begin{preview}\\\\demonMSg{}\\\\end{preview}', u'\\\\DEFFSgP{}   \\\\louveFSgP{}   \\\\grandFSgP{}  \\\\apporterPrsTroisSgSgP{}   \\\\DEMMDuP{}   \\\\corpsMDuP{}   \\\\AP{}    \\\\DEFMSgP{}   \\\\demonMSgP{}', u'\\\\begin{preview}La grande louve apporte ces deux corps au d\\xe9mon.\\\\end{preview}', '\\\\begin{preview}.\\\\end{preview}', u'\\\\begin{preview}\\\\DEFMSg{}\\\\end{preview} \\\\begin{preview}\\\\demonMSg{}\\\\end{preview} \\\\begin{preview}\\\\jeterPrsTroisSgSg{}\\\\end{preview} \\\\begin{preview}\\\\INDMSg{}\\\\end{preview} \\\\begin{preview}\\\\sortMSg{}\\\\end{preview} \\\\begin{preview}\\\\A{}\\\\end{preview} \\\\begin{preview}\\\\DEFFPl{}\\\\end{preview} \\\\begin{preview}\\\\mortFPl{}\\\\end{preview}', u'\\\\DEFMSgP{}   \\\\demonMSgP{}  \\\\jeterPrsTroisSgSgP{}   \\\\INDMSgP{}   \\\\sortMSgP{}   \\\\AP{}    \\\\DEFFPlP{}   \\\\mortFPlP{}', u'\\\\begin{preview}Le d\\xe9mon jette un sort aux morts.\\\\end{preview}', '\\\\begin{preview}.\\\\end{preview}', u'\\\\begin{preview}\\\\DEFMSg{}\\\\end{preview} \\\\begin{preview}\\\\sortMSg{}\\\\end{preview} \\\\begin{preview}\\\\donnerPrsTroisSgSg{}\\\\end{preview} \\\\begin{preview}\\\\INDFSg{}\\\\end{preview} \\\\begin{preview}\\\\lueurFSg{}\\\\end{preview} \\\\begin{preview}\\\\rougeFSg{}\\\\end{preview} \\\\begin{preview}\\\\A{}\\\\end{preview} \\\\begin{preview}\\\\DEFMDu{}\\\\end{preview} \\\\begin{preview}\\\\villageoisMDu{}\\\\end{preview}', u'\\\\DEFMSgP{}   \\\\sortMSgP{}  \\\\donnerPrsTroisSgSgP{}   \\\\INDFSgP{}   \\\\lueurFSgP{}   \\\\rougeFSgP{}   \\\\AP{}    \\\\DEFMDuP{}   \\\\villageoisMDuP{}', u'\\\\begin{preview}Le sort donne une lueur rouge aux deux villageois.\\\\end{preview}', '\\\\begin{preview}.\\\\end{preview}', u'\\\\begin{preview}\\\\DEFMDu{}\\\\end{preview} \\\\begin{preview}\\\\corpsMDu{}\\\\end{preview} \\\\begin{preview}\\\\disparaitrePrsTroisDuDu{}\\\\end{preview}', u'\\\\DEFMDuP{}   \\\\corpsMDuP{}  \\\\disparaitrePrsTroisDuDuP{}', u'\\\\begin{preview}Les deux corps disparaissent.\\\\end{preview}', '\\\\begin{preview}.\\\\end{preview}', u'\\\\begin{preview}\\\\DEFMSg{}\\\\end{preview} \\\\begin{preview}\\\\demonMSg{}\\\\end{preview} \\\\begin{preview}\\\\parlerPstTroisSgSg{}\\\\end{preview} \\\\begin{preview}\\\\A{}\\\\end{preview} \\\\begin{preview}\\\\DEFFSg{}\\\\end{preview} \\\\begin{preview}\\\\MahiraFSg{}\\\\end{preview}', u'\\\\DEFMSgP{}   \\\\demonMSgP{}  \\\\parlerPstTroisSgSgP{}   \\\\AP{}    \\\\DEFFSgP{}   \\\\MahiraFSgP{}', u'\\\\begin{preview}Le d\\xe9mon parla \\xe0 Mahira.\\\\end{preview}', '\\\\begin{preview}.\\\\end{preview}', u'\\\\begin{preview}\\\\DEFMSg{}\\\\end{preview} \\\\begin{preview}\\\\sortMSg{}\\\\end{preview} \\\\begin{preview}\\\\chercherPrsTroisSgSg{}\\\\end{preview} \\\\begin{preview}\\\\INDMSg{}\\\\end{preview} \\\\begin{preview}\\\\corpsMSg{}\\\\end{preview} \\\\begin{preview}\\\\differentMSg{}\\\\end{preview}', u'\\\\DEFMSgP{}   \\\\sortMSgP{}  \\\\chercherPrsTroisSgSgP{}   \\\\INDMSgP{}   \\\\corpsMSgP{}   \\\\differentMSgP{}', u'\\\\begin{preview}Le sort cherche un corps diff\\xe9rent.\\\\end{preview}', '\\\\begin{preview}.\\\\end{preview}', u'\\\\begin{preview}\\\\DEFMSg{}\\\\end{preview} \\\\begin{preview}\\\\demonMSg{}\\\\end{preview} \\\\begin{preview}\\\\donnerPrsTroisSgSg{}\\\\end{preview} \\\\begin{preview}\\\\INDFSg{}\\\\end{preview} \\\\begin{preview}\\\\colereFSg{}\\\\end{preview} \\\\begin{preview}\\\\grandFSg{}\\\\end{preview} \\\\begin{preview}\\\\A{}\\\\end{preview} \\\\begin{preview}\\\\DEFMSg{}\\\\end{preview} \\\\begin{preview}\\\\chefMSg{}\\\\end{preview} \\\\begin{preview}\\\\DE{}\\\\end{preview} \\\\begin{preview}\\\\DEFMPl{}\\\\end{preview} \\\\begin{preview}\\\\loupMPl{}\\\\end{preview}', u'\\\\DEFMSgP{}   \\\\demonMSgP{}  \\\\donnerPrsTroisSgSgP{}   \\\\INDFSgP{}   \\\\colereFSgP{}   \\\\grandFSgP{}   \\\\AP{}    \\\\DEFMSgP{}   \\\\chefMSgP{}   \\\\DEP{}    \\\\DEFMPlP{}   \\\\loupMPlP{}', u'\\\\begin{preview}Le d\\xe9mon donne une grande col\\xe8re \\xe0 la cheffe des loups.\\\\end{preview}', '\\\\begin{preview}.\\\\end{preview}', u'\\\\begin{preview}\\\\DEFFSg{}\\\\end{preview} \\\\begin{preview}\\\\nuitFSg{}\\\\end{preview} \\\\begin{preview}\\\\approcherPstTroisSgSg{}\\\\end{preview}', u'\\\\DEFFSgP{}   \\\\nuitFSgP{}  \\\\approcherPstTroisSgSgP{}', u'\\\\begin{preview}La nuit approchait.\\\\end{preview}', '\\\\begin{preview}.\\\\end{preview}', u'\\\\begin{preview}\\\\DEFMPl{}\\\\end{preview} \\\\begin{preview}\\\\combattantMPl{}\\\\end{preview} \\\\begin{preview}\\\\courageuxMPl{}\\\\end{preview} \\\\begin{preview}\\\\allerPstTroisPlPl{}\\\\end{preview} \\\\begin{preview}\\\\VERS{}\\\\end{preview} \\\\begin{preview}\\\\DEFFSg{}\\\\end{preview} \\\\begin{preview}\\\\foretFSg{}\\\\end{preview} \\\\begin{preview}\\\\DE{}\\\\end{preview} \\\\begin{preview}\\\\DEFMPl{}\\\\end{preview} \\\\begin{preview}\\\\loupMPl{}\\\\end{preview}', u'\\\\DEFMPlP{}   \\\\combattantMPlP{}   \\\\courageuxMPlP{}  \\\\allerPstTroisPlPlP{}   \\\\VERSP{}    \\\\DEFFSgP{}   \\\\foretFSgP{}   \\\\DEP{}    \\\\DEFMPlP{}   \\\\loupMPlP{}', u'\\\\begin{preview}Les combattants courageux allaient vers la for\\xeat des loups.\\\\end{preview}', '\\\\begin{preview}.\\\\end{preview}', u'\\\\begin{preview}\\\\DEFMPl{}\\\\end{preview} \\\\begin{preview}\\\\enfantMPl{}\\\\end{preview} \\\\begin{preview}\\\\rejoindrePstTroisPlPl{}\\\\end{preview} \\\\begin{preview}\\\\DEFFSg{}\\\\end{preview} \\\\begin{preview}\\\\maisonFSg{}\\\\end{preview} \\\\begin{preview}\\\\grandFSg{}\\\\end{preview} \\\\begin{preview}\\\\AVEC{}\\\\end{preview} \\\\begin{preview}\\\\DEFFPl{}\\\\end{preview} \\\\begin{preview}\\\\villageoiseFPl{}\\\\end{preview}', u'\\\\DEFMPlP{}   \\\\enfantMPlP{}  \\\\rejoindrePstTroisPlPlP{}   \\\\DEFFSgP{}   \\\\maisonFSgP{}   \\\\grandFSgP{}   \\\\AVECP{}    \\\\DEFFPlP{}   \\\\villageoiseFPlP{}', u'\\\\begin{preview}Les enfants rejoignaient la grande maison avec les villageoises.\\\\end{preview}', '\\\\begin{preview}.\\\\end{preview}', u'\\\\begin{preview}\\\\DEFFSg{}\\\\end{preview} \\\\begin{preview}\\\\VioletteFSg{}\\\\end{preview} \\\\begin{preview}\\\\parlerPstTroisSgSg{}\\\\end{preview} \\\\begin{preview}\\\\A{}\\\\end{preview} \\\\begin{preview}\\\\INDMPl{}\\\\end{preview} \\\\begin{preview}\\\\enfantMPl{}\\\\end{preview} \\\\begin{preview}\\\\petitMPl{}\\\\end{preview} \\\\begin{preview}\\\\DEVANT{}\\\\end{preview} \\\\begin{preview}\\\\DEFFSg{}\\\\end{preview} \\\\begin{preview}\\\\maisonFSg{}\\\\end{preview}', u'\\\\DEFFSgP{}   \\\\VioletteFSgP{}  \\\\parlerPstTroisSgSgP{}   \\\\AP{}    \\\\INDMPlP{}   \\\\enfantMPlP{}   \\\\petitMPlP{}   \\\\DEVANTP{}    \\\\DEFFSgP{}   \\\\maisonFSgP{}', u'\\\\begin{preview}Devant la maison, Violette parlait \\xe0 des petits enfants.\\\\end{preview}', '\\\\begin{preview}.\\\\end{preview}', u'\\\\begin{preview}\\\\DEFFSg{}\\\\end{preview} \\\\begin{preview}\\\\filleFSg{}\\\\end{preview} \\\\begin{preview}\\\\petitFSg{}\\\\end{preview} \\\\begin{preview}\\\\voirPrsTroisSgSg{}\\\\end{preview} \\\\begin{preview}\\\\INDFSg{}\\\\end{preview} \\\\begin{preview}\\\\ombreFSg{}\\\\end{preview} \\\\begin{preview}\\\\ENTRE{}\\\\end{preview} \\\\begin{preview}\\\\DEFMPl{}\\\\end{preview} \\\\begin{preview}\\\\arbreMPl{}\\\\end{preview}', u'\\\\DEFFSgP{}   \\\\filleFSgP{}   \\\\petitFSgP{}  \\\\voirPrsTroisSgSgP{}   \\\\INDFSgP{}   \\\\ombreFSgP{}   \\\\ENTREP{}    \\\\DEFMPlP{}   \\\\arbreMPlP{}', u'\\\\begin{preview}La petite fille voit une ombre entre les arbres.\\\\end{preview}', '\\\\begin{preview}.\\\\end{preview}', u'\\\\begin{preview}\\\\DEFFSg{}\\\\end{preview} \\\\begin{preview}\\\\MahiraFSg{}\\\\end{preview} \\\\begin{preview}\\\\disparaitrePstTroisSgSg{}\\\\end{preview} \\\\begin{preview}\\\\DANS{}\\\\end{preview} \\\\begin{preview}\\\\DEFFSg{}\\\\end{preview} \\\\begin{preview}\\\\foretFSg{}\\\\end{preview} \\\\begin{preview}\\\\profondFSg{}\\\\end{preview}', u'\\\\DEFFSgP{}   \\\\MahiraFSgP{}  \\\\disparaitrePstTroisSgSgP{}   \\\\DANSP{}    \\\\DEFFSgP{}   \\\\foretFSgP{}   \\\\profondFSgP{}', u'\\\\begin{preview}Mahira disparaissait dans la for\\xeat profonde.\\\\end{preview}', '\\\\begin{preview}.\\\\end{preview}', u'\\\\begin{preview}\\\\DEFFSg{}\\\\end{preview} \\\\begin{preview}\\\\VioletteFSg{}\\\\end{preview} \\\\begin{preview}\\\\courirPrsTroisSgSg{}\\\\end{preview} \\\\begin{preview}\\\\VERS{}\\\\end{preview} \\\\begin{preview}\\\\DEFFSg{}\\\\end{preview} \\\\begin{preview}\\\\MahiraFSg{}\\\\end{preview}', u'\\\\DEFFSgP{}   \\\\VioletteFSgP{}  \\\\courirPrsTroisSgSgP{}   \\\\VERSP{}    \\\\DEFFSgP{}   \\\\MahiraFSgP{}', u'\\\\begin{preview}Violette court vers Mahira.\\\\end{preview}', '\\\\begin{preview}.\\\\end{preview}', u'\\\\begin{preview}\\\\INDMDu{}\\\\end{preview} \\\\begin{preview}\\\\enfantMDu{}\\\\end{preview} \\\\begin{preview}\\\\rejoindrePrsTroisDuDu{}\\\\end{preview} \\\\begin{preview}\\\\DEFFSg{}\\\\end{preview} \\\\begin{preview}\\\\VioletteFSg{}\\\\end{preview} \\\\begin{preview}\\\\VERS{}\\\\end{preview} \\\\begin{preview}\\\\DEFFSg{}\\\\end{preview} \\\\begin{preview}\\\\foretFSg{}\\\\end{preview}', u'\\\\INDMDuP{}   \\\\enfantMDuP{}  \\\\rejoindrePrsTroisDuDuP{}   \\\\DEFFSgP{}   \\\\VioletteFSgP{}   \\\\VERSP{}    \\\\DEFFSgP{}   \\\\foretFSgP{}', u'\\\\begin{preview}Deux enfants rejoignent Violette vers la for\\xeat.\\\\end{preview}', '\\\\begin{preview}.\\\\end{preview}', u'\\\\begin{preview}\\\\INDFSg{}\\\\end{preview} \\\\begin{preview}\\\\villageoiseFSg{}\\\\end{preview} \\\\begin{preview}\\\\effrayeFSg{}\\\\end{preview} \\\\begin{preview}\\\\pousserPrsTroisSgSg{}\\\\end{preview} \\\\begin{preview}\\\\INDMSg{}\\\\end{preview} \\\\begin{preview}\\\\criMSg{}\\\\end{preview}', u'\\\\INDFSgP{}   \\\\villageoiseFSgP{}   \\\\effrayeFSgP{}  \\\\pousserPrsTroisSgSgP{}   \\\\INDMSgP{}   \\\\criMSgP{}', u'\\\\begin{preview}Une villageoise effray\\xe9e pousse un cri.\\\\end{preview}', '\\\\begin{preview}.\\\\end{preview}', u'\\\\begin{preview}\\\\DEFFSg{}\\\\end{preview} \\\\begin{preview}\\\\VioletteFSg{}\\\\end{preview} \\\\begin{preview}\\\\fuirPrsTroisSgSg{}\\\\end{preview}', u'\\\\DEFFSgP{}   \\\\VioletteFSgP{}  \\\\fuirPrsTroisSgSgP{}', u'\\\\begin{preview}Violette fuit.\\\\end{preview}', '\\\\begin{preview}.\\\\end{preview}', u'\\\\begin{preview}\\\\DEMFSg{}\\\\end{preview} \\\\begin{preview}\\\\villageoiseFSg{}\\\\end{preview} \\\\begin{preview}\\\\prendrePrsTroisSgSg{}\\\\end{preview} \\\\begin{preview}\\\\DEFFSg{}\\\\end{preview} \\\\begin{preview}\\\\mainFSg{}\\\\end{preview} \\\\begin{preview}\\\\A{}\\\\end{preview} \\\\begin{preview}\\\\DEFFDu{}\\\\end{preview} \\\\begin{preview}\\\\enfantFDu{}\\\\end{preview} \\\\begin{preview}\\\\petitFDu{}\\\\end{preview}', u'\\\\DEMFSgP{}   \\\\villageoiseFSgP{}  \\\\prendrePrsTroisSgSgP{}   \\\\DEFFSgP{}   \\\\mainFSgP{}   \\\\AP{}    \\\\DEFFDuP{}   \\\\enfantFDuP{}   \\\\petitFDuP{}', u'\\\\begin{preview}Cette villageoise prend la main aux deux petits enfants.\\\\end{preview}', '\\\\begin{preview}.\\\\end{preview}', u'\\\\begin{preview}\\\\DEFFSg{}\\\\end{preview} \\\\begin{preview}\\\\villageoiseFSg{}\\\\end{preview} \\\\begin{preview}\\\\allerPrsTroisSgSg{}\\\\end{preview} \\\\begin{preview}\\\\DANS{}\\\\end{preview} \\\\begin{preview}\\\\DEFFSg{}\\\\end{preview} \\\\begin{preview}\\\\maisonFSg{}\\\\end{preview} \\\\begin{preview}\\\\AVEC{}\\\\end{preview} \\\\begin{preview}\\\\DEFMSg{}\\\\end{preview} \\\\begin{preview}\\\\enfantMSg{}\\\\end{preview}', u'\\\\DEFFSgP{}   \\\\villageoiseFSgP{}  \\\\allerPrsTroisSgSgP{}   \\\\DANSP{}    \\\\DEFFSgP{}   \\\\maisonFSgP{}   \\\\AVECP{}    \\\\DEFMSgP{}   \\\\enfantMSgP{}', u\"\\\\begin{preview}La villageoise va dans la maison avec l'enfant.\\\\end{preview}\", '\\\\begin{preview}.\\\\end{preview}', u'\\\\begin{preview}\\\\DEFFSg{}\\\\end{preview} \\\\begin{preview}\\\\VioletteFSg{}\\\\end{preview} \\\\begin{preview}\\\\chercherPstTroisSgSg{}\\\\end{preview} \\\\begin{preview}\\\\DEFFSg{}\\\\end{preview} \\\\begin{preview}\\\\MahiraFSg{}\\\\end{preview} \\\\begin{preview}\\\\DANS{}\\\\end{preview} \\\\begin{preview}\\\\DEFFSg{}\\\\end{preview} \\\\begin{preview}\\\\foretFSg{}\\\\end{preview}', u'\\\\DEFFSgP{}   \\\\VioletteFSgP{}  \\\\chercherPstTroisSgSgP{}   \\\\DEFFSgP{}   \\\\MahiraFSgP{}   \\\\DANSP{}    \\\\DEFFSgP{}   \\\\foretFSgP{}', u'\\\\begin{preview}Violette cherchait Mahira dans la for\\xeat.\\\\end{preview}', '\\\\begin{preview}.\\\\end{preview}', u'\\\\begin{preview}\\\\INDMDu{}\\\\end{preview} \\\\begin{preview}\\\\loupMDu{}\\\\end{preview} \\\\begin{preview}\\\\noirMDu{}\\\\end{preview} \\\\begin{preview}\\\\approcherPstTroisDuDu{}\\\\end{preview}', u'\\\\INDMDuP{}   \\\\loupMDuP{}   \\\\noirMDuP{}  \\\\approcherPstTroisDuDuP{}', u'\\\\begin{preview}Deux loups noirs approchaient.\\\\end{preview}', '\\\\begin{preview}.\\\\end{preview}', u'\\\\begin{preview}\\\\DEFFSg{}\\\\end{preview} \\\\begin{preview}\\\\VioletteFSg{}\\\\end{preview} \\\\begin{preview}\\\\voirPrsTroisSgSg{}\\\\end{preview} \\\\begin{preview}\\\\DEMMDu{}\\\\end{preview} \\\\begin{preview}\\\\loupMDu{}\\\\end{preview} \\\\begin{preview}\\\\DANS{}\\\\end{preview} \\\\begin{preview}\\\\DEFFSg{}\\\\end{preview} \\\\begin{preview}\\\\nuitFSg{}\\\\end{preview} \\\\begin{preview}\\\\noirFSg{}\\\\end{preview}', u'\\\\DEFFSgP{}   \\\\VioletteFSgP{}  \\\\voirPrsTroisSgSgP{}   \\\\DEMMDuP{}   \\\\loupMDuP{}   \\\\DANSP{}    \\\\DEFFSgP{}   \\\\nuitFSgP{}   \\\\noirFSgP{}', u'\\\\begin{preview}Violette voit ces deux loups dans la nuit noire.\\\\end{preview}', '\\\\begin{preview}.\\\\end{preview}', u'\\\\begin{preview}\\\\DEFFSg{}\\\\end{preview} \\\\begin{preview}\\\\filleFSg{}\\\\end{preview} \\\\begin{preview}\\\\petitFSg{}\\\\end{preview} \\\\begin{preview}\\\\fuirPrsTroisSgSg{}\\\\end{preview} \\\\begin{preview}\\\\VERS{}\\\\end{preview} \\\\begin{preview}\\\\DEFFPl{}\\\\end{preview} \\\\begin{preview}\\\\lueurFPl{}\\\\end{preview} \\\\begin{preview}\\\\DE{}\\\\end{preview} \\\\begin{preview}\\\\DEFMSg{}\\\\end{preview} \\\\begin{preview}\\\\villageMSg{}\\\\end{preview}', u'\\\\DEFFSgP{}   \\\\filleFSgP{}   \\\\petitFSgP{}  \\\\fuirPrsTroisSgSgP{}   \\\\VERSP{}    \\\\DEFFPlP{}   \\\\lueurFPlP{}   \\\\DEP{}    \\\\DEFMSgP{}   \\\\villageMSgP{}', u'\\\\begin{preview}La petite fille fuit vers les lueurs du village.\\\\end{preview}', '\\\\begin{preview}.\\\\end{preview}', u'\\\\begin{preview}\\\\DEFMDu{}\\\\end{preview} \\\\begin{preview}\\\\loupMDu{}\\\\end{preview} \\\\begin{preview}\\\\terribleMDu{}\\\\end{preview} \\\\begin{preview}\\\\chasserPrsTroisDuDu{}\\\\end{preview} \\\\begin{preview}\\\\DEFFSg{}\\\\end{preview} \\\\begin{preview}\\\\VioletteFSg{}\\\\end{preview}', u'\\\\DEFMDuP{}   \\\\loupMDuP{}   \\\\terribleMDuP{}  \\\\chasserPrsTroisDuDuP{}   \\\\DEFFSgP{}   \\\\VioletteFSgP{}', u'\\\\begin{preview}Les deux terribles loups chassent Violette.\\\\end{preview}', '\\\\begin{preview}.\\\\end{preview}', u'\\\\begin{preview}\\\\DEFMSg{}\\\\end{preview} \\\\begin{preview}\\\\loupMSg{}\\\\end{preview} \\\\begin{preview}\\\\petitMSg{}\\\\end{preview} \\\\begin{preview}\\\\planterPrsTroisSgSg{}\\\\end{preview} \\\\begin{preview}\\\\INDFPl{}\\\\end{preview} \\\\begin{preview}\\\\crocFPl{}\\\\end{preview} \\\\begin{preview}\\\\DANS{}\\\\end{preview} \\\\begin{preview}\\\\DEFFSg{}\\\\end{preview} \\\\begin{preview}\\\\filleFSg{}\\\\end{preview}', u'\\\\DEFMSgP{}   \\\\loupMSgP{}   \\\\petitMSgP{}  \\\\planterPrsTroisSgSgP{}   \\\\INDFPlP{}   \\\\crocFPlP{}   \\\\DANSP{}    \\\\DEFFSgP{}   \\\\filleFSgP{}', u'\\\\begin{preview}Le petit loup plante des crocs dans la fille.\\\\end{preview}', '\\\\begin{preview}.\\\\end{preview}', u'\\\\begin{preview}\\\\DEFMSg{}\\\\end{preview} \\\\begin{preview}\\\\loupMSg{}\\\\end{preview} \\\\begin{preview}\\\\suivantMSg{}\\\\end{preview} \\\\begin{preview}\\\\approcherPrsTroisSgSg{}\\\\end{preview}', u'\\\\DEFMSgP{}   \\\\loupMSgP{}   \\\\suivantMSgP{}  \\\\approcherPrsTroisSgSgP{}', u'\\\\begin{preview}Le loup suivant approche.\\\\end{preview}', '\\\\begin{preview}.\\\\end{preview}', u'\\\\begin{preview}\\\\DEFFSg{}\\\\end{preview} \\\\begin{preview}\\\\louveFSg{}\\\\end{preview} \\\\begin{preview}\\\\blancFSg{}\\\\end{preview} \\\\begin{preview}\\\\sortirPrsTroisSgSg{}\\\\end{preview} \\\\begin{preview}\\\\DE{}\\\\end{preview} \\\\begin{preview}\\\\DEFMSg{}\\\\end{preview} \\\\begin{preview}\\\\milieuMSg{}\\\\end{preview} \\\\begin{preview}\\\\DE{}\\\\end{preview} \\\\begin{preview}\\\\DEFMDu{}\\\\end{preview} \\\\begin{preview}\\\\arbreMDu{}\\\\end{preview}', u'\\\\DEFFSgP{}   \\\\louveFSgP{}   \\\\blancFSgP{}  \\\\sortirPrsTroisSgSgP{}   \\\\DEP{}    \\\\DEFMSgP{}   \\\\milieuMSgP{}   \\\\DEP{}    \\\\DEFMDuP{}   \\\\arbreMDuP{}', u'\\\\begin{preview}La louve blanche sort du milieu des deux arbres.\\\\end{preview}', '\\\\begin{preview}.\\\\end{preview}', u'\\\\begin{preview}\\\\DEFMSg{}\\\\end{preview} \\\\begin{preview}\\\\chefMSg{}\\\\end{preview} \\\\begin{preview}\\\\DE{}\\\\end{preview} \\\\begin{preview}\\\\DEFMPl{}\\\\end{preview} \\\\begin{preview}\\\\loupMPl{}\\\\end{preview} \\\\begin{preview}\\\\protegerPrsTroisSgSg{}\\\\end{preview} \\\\begin{preview}\\\\DEFFSg{}\\\\end{preview} \\\\begin{preview}\\\\filleFSg{}\\\\end{preview} \\\\begin{preview}\\\\petitFSg{}\\\\end{preview} \\\\begin{preview}\\\\blesseFSg{}\\\\end{preview}', u'\\\\DEFMSgP{}   \\\\chefMSgP{}   \\\\DEP{}    \\\\DEFMPlP{}   \\\\loupMPlP{}  \\\\protegerPrsTroisSgSgP{}   \\\\DEFFSgP{}   \\\\filleFSgP{}   \\\\petitFSgP{}   \\\\blesseFSgP{}', u'\\\\begin{preview}La cheffe des loups prot\\xe8ge la petite fille bless\\xe9e.\\\\end{preview}', '\\\\begin{preview}.\\\\end{preview}', u'\\\\begin{preview}\\\\DEFMSg{}\\\\end{preview} \\\\begin{preview}\\\\loupMSg{}\\\\end{preview} \\\\begin{preview}\\\\petitMSg{}\\\\end{preview} \\\\begin{preview}\\\\noirMSg{}\\\\end{preview} \\\\begin{preview}\\\\approcherPrsTroisSgSg{}\\\\end{preview} \\\\begin{preview}\\\\DE{}\\\\end{preview} \\\\begin{preview}\\\\DEFFSg{}\\\\end{preview} \\\\begin{preview}\\\\louveFSg{}\\\\end{preview}', u'\\\\DEFMSgP{}   \\\\loupMSgP{}   \\\\petitMSgP{}   \\\\noirMSgP{}  \\\\approcherPrsTroisSgSgP{}   \\\\DEP{}    \\\\DEFFSgP{}   \\\\louveFSgP{}', u'\\\\begin{preview}Le petit loup noir approche de la louve.\\\\end{preview}', '\\\\begin{preview}.\\\\end{preview}', u'\\\\begin{preview}\\\\DEFMSg{}\\\\end{preview} \\\\begin{preview}\\\\loupMSg{}\\\\end{preview} \\\\begin{preview}\\\\petitMSg{}\\\\end{preview} \\\\begin{preview}\\\\sauterPrsTroisSgSg{}\\\\end{preview} \\\\begin{preview}\\\\SUR{}\\\\end{preview} \\\\begin{preview}\\\\DEFMSg{}\\\\end{preview} \\\\begin{preview}\\\\chefMSg{}\\\\end{preview} \\\\begin{preview}\\\\DE{}\\\\end{preview} \\\\begin{preview}\\\\DEFMPl{}\\\\end{preview} \\\\begin{preview}\\\\loupMPl{}\\\\end{preview}', u'\\\\DEFMSgP{}   \\\\loupMSgP{}   \\\\petitMSgP{}  \\\\sauterPrsTroisSgSgP{}   \\\\SURP{}    \\\\DEFMSgP{}   \\\\chefMSgP{}   \\\\DEP{}    \\\\DEFMPlP{}   \\\\loupMPlP{}', u'\\\\begin{preview}Le petit loup saute sur la cheffe des loups.\\\\end{preview}', '\\\\begin{preview}.\\\\end{preview}', u'\\\\begin{preview}\\\\DEFFSg{}\\\\end{preview} \\\\begin{preview}\\\\louveFSg{}\\\\end{preview} \\\\begin{preview}\\\\sauterPrsTroisSgSg{}\\\\end{preview} \\\\begin{preview}\\\\VERS{}\\\\end{preview} \\\\begin{preview}\\\\DEMMSg{}\\\\end{preview} \\\\begin{preview}\\\\combattantMSg{}\\\\end{preview}', u'\\\\DEFFSgP{}   \\\\louveFSgP{}  \\\\sauterPrsTroisSgSgP{}   \\\\VERSP{}    \\\\DEMMSgP{}   \\\\combattantMSgP{}', u'\\\\begin{preview}La louve saute vers ce combattant.\\\\end{preview}', '\\\\begin{preview}.\\\\end{preview}', u'\\\\begin{preview}\\\\DEFFPl{}\\\\end{preview} \\\\begin{preview}\\\\crocFPl{}\\\\end{preview} \\\\begin{preview}\\\\DE{}\\\\end{preview} \\\\begin{preview}\\\\DEFMSg{}\\\\end{preview} \\\\begin{preview}\\\\chefMSg{}\\\\end{preview} \\\\begin{preview}\\\\transpercerPrsTroisPlPl{}\\\\end{preview} \\\\begin{preview}\\\\DEFMSg{}\\\\end{preview} \\\\begin{preview}\\\\gorgeMSg{}\\\\end{preview} \\\\begin{preview}\\\\DE{}\\\\end{preview} \\\\begin{preview}\\\\DEMMSg{}\\\\end{preview} \\\\begin{preview}\\\\loupMSg{}\\\\end{preview} \\\\begin{preview}\\\\petitMSg{}\\\\end{preview}', u'\\\\DEFFPlP{}   \\\\crocFPlP{}   \\\\DEP{}    \\\\DEFMSgP{}   \\\\chefMSgP{}  \\\\transpercerPrsTroisPlPlP{}   \\\\DEFMSgP{}   \\\\gorgeMSgP{}   \\\\DEP{}    \\\\DEMMSgP{}   \\\\loupMSgP{}   \\\\petitMSgP{}', u'\\\\begin{preview}Les crocs de la cheffe transpercent la gorge de ce petit loup.\\\\end{preview}', '\\\\begin{preview}.\\\\end{preview}', u'\\\\begin{preview}\\\\DEFMSg{}\\\\end{preview} \\\\begin{preview}\\\\corpsMSg{}\\\\end{preview} \\\\begin{preview}\\\\DE{}\\\\end{preview} \\\\begin{preview}\\\\DEFMSg{}\\\\end{preview} \\\\begin{preview}\\\\loupMSg{}\\\\end{preview} \\\\begin{preview}\\\\tomberPrsTroisSgSg{}\\\\end{preview}', u'\\\\DEFMSgP{}   \\\\corpsMSgP{}   \\\\DEP{}    \\\\DEFMSgP{}   \\\\loupMSgP{}  \\\\tomberPrsTroisSgSgP{}', u'\\\\begin{preview}Le corps du loup tombe.\\\\end{preview}', '\\\\begin{preview}.\\\\end{preview}', u'\\\\begin{preview}\\\\DEFFSg{}\\\\end{preview} \\\\begin{preview}\\\\louveFSg{}\\\\end{preview} \\\\begin{preview}\\\\grandFSg{}\\\\end{preview} \\\\begin{preview}\\\\prendrePrsTroisSgSg{}\\\\end{preview} \\\\begin{preview}\\\\DEFFSg{}\\\\end{preview} \\\\begin{preview}\\\\VioletteFSg{}\\\\end{preview} \\\\begin{preview}\\\\ENTRE{}\\\\end{preview} \\\\begin{preview}\\\\DEFFPl{}\\\\end{preview} \\\\begin{preview}\\\\crocFPl{}\\\\end{preview}', u'\\\\DEFFSgP{}   \\\\louveFSgP{}   \\\\grandFSgP{}  \\\\prendrePrsTroisSgSgP{}   \\\\DEFFSgP{}   \\\\VioletteFSgP{}   \\\\ENTREP{}    \\\\DEFFPlP{}   \\\\crocFPlP{}', u'\\\\begin{preview}La grande louve prend Violette entre les crocs.\\\\end{preview}', '\\\\begin{preview}.\\\\end{preview}', u'\\\\begin{preview}\\\\DEFFSg{}\\\\end{preview} \\\\begin{preview}\\\\louveFSg{}\\\\end{preview} \\\\begin{preview}\\\\fuirPrsTroisSgSg{}\\\\end{preview} \\\\begin{preview}\\\\AVEC{}\\\\end{preview} \\\\begin{preview}\\\\DEMFSg{}\\\\end{preview} \\\\begin{preview}\\\\filleFSg{}\\\\end{preview} \\\\begin{preview}\\\\petitFSg{}\\\\end{preview} \\\\begin{preview}\\\\ENTRE{}\\\\end{preview} \\\\begin{preview}\\\\DEFFPl{}\\\\end{preview} \\\\begin{preview}\\\\crocFPl{}\\\\end{preview}', u'\\\\DEFFSgP{}   \\\\louveFSgP{}  \\\\fuirPrsTroisSgSgP{}   \\\\AVECP{}    \\\\DEMFSgP{}   \\\\filleFSgP{}   \\\\petitFSgP{}   \\\\ENTREP{}    \\\\DEFFPlP{}   \\\\crocFPlP{}', u'\\\\begin{preview}La louve fuit avec cette petite fille entre les crocs.\\\\end{preview}', '\\\\begin{preview}.\\\\end{preview}', u'\\\\begin{preview}\\\\DEFMSg{}\\\\end{preview} \\\\begin{preview}\\\\loupMSg{}\\\\end{preview} \\\\begin{preview}\\\\noirMSg{}\\\\end{preview} \\\\begin{preview}\\\\suivantMSg{}\\\\end{preview} \\\\begin{preview}\\\\courirPrsTroisSgSg{}\\\\end{preview} \\\\begin{preview}\\\\APRES{}\\\\end{preview} \\\\begin{preview}\\\\DEFFSg{}\\\\end{preview} \\\\begin{preview}\\\\louveFSg{}\\\\end{preview}', u'\\\\DEFMSgP{}   \\\\loupMSgP{}   \\\\noirMSgP{}   \\\\suivantMSgP{}  \\\\courirPrsTroisSgSgP{}   \\\\APRESP{}    \\\\DEFFSgP{}   \\\\louveFSgP{}', u'\\\\begin{preview}Le loup noir suivant court apr\\xe8s la louve.\\\\end{preview}', '\\\\begin{preview}.\\\\end{preview}', u'\\\\begin{preview}\\\\DEFFSg{}\\\\end{preview} \\\\begin{preview}\\\\VioletteFSg{}\\\\end{preview} \\\\begin{preview}\\\\petitFSg{}\\\\end{preview} \\\\begin{preview}\\\\pousserPrsTroisSgSg{}\\\\end{preview} \\\\begin{preview}\\\\INDMPl{}\\\\end{preview} \\\\begin{preview}\\\\criMPl{}\\\\end{preview} \\\\begin{preview}\\\\terribleMPl{}\\\\end{preview} \\\\begin{preview}\\\\DANS{}\\\\end{preview} \\\\begin{preview}\\\\DEFFSg{}\\\\end{preview} \\\\begin{preview}\\\\nuitFSg{}\\\\end{preview} \\\\begin{preview}\\\\noirFSg{}\\\\end{preview}', u'\\\\DEFFSgP{}   \\\\VioletteFSgP{}   \\\\petitFSgP{}  \\\\pousserPrsTroisSgSgP{}   \\\\INDMPlP{}   \\\\criMPlP{}   \\\\terribleMPlP{}   \\\\DANSP{}    \\\\DEFFSgP{}   \\\\nuitFSgP{}   \\\\noirFSgP{}', u'\\\\begin{preview}La petite Violette pousse de terribles cris dans la nuit noire.\\\\end{preview}', '\\\\begin{preview}.\\\\end{preview}', u'\\\\begin{preview}\\\\DEFMSg{}\\\\end{preview} \\\\begin{preview}\\\\KalebMSg{}\\\\end{preview} \\\\begin{preview}\\\\courirPrsTroisSgSg{}\\\\end{preview} \\\\begin{preview}\\\\VERS{}\\\\end{preview} \\\\begin{preview}\\\\DEMMSg{}\\\\end{preview} \\\\begin{preview}\\\\criMSg{}\\\\end{preview} \\\\begin{preview}\\\\AVEC{}\\\\end{preview} \\\\begin{preview}\\\\INDMSg{}\\\\end{preview} \\\\begin{preview}\\\\combattantMSg{}\\\\end{preview} \\\\begin{preview}\\\\DE{}\\\\end{preview} \\\\begin{preview}\\\\DEFMSg{}\\\\end{preview} \\\\begin{preview}\\\\villageMSg{}\\\\end{preview}', u'\\\\DEFMSgP{}   \\\\KalebMSgP{}  \\\\courirPrsTroisSgSgP{}   \\\\VERSP{}    \\\\DEMMSgP{}   \\\\criMSgP{}   \\\\AVECP{}    \\\\INDMSgP{}   \\\\combattantMSgP{}   \\\\DEP{}    \\\\DEFMSgP{}   \\\\villageMSgP{}', u'\\\\begin{preview}Kaleb court vers ce cri avec un combattant du village.\\\\end{preview}', '\\\\begin{preview}.\\\\end{preview}', u'\\\\begin{preview}\\\\DEFMSg{}\\\\end{preview} \\\\begin{preview}\\\\KalebMSg{}\\\\end{preview} \\\\begin{preview}\\\\voirPrsTroisSgSg{}\\\\end{preview} \\\\begin{preview}\\\\INDFSg{}\\\\end{preview} \\\\begin{preview}\\\\louveFSg{}\\\\end{preview} \\\\begin{preview}\\\\AVEC{}\\\\end{preview} \\\\begin{preview}\\\\INDFSg{}\\\\end{preview} \\\\begin{preview}\\\\filleFSg{}\\\\end{preview} \\\\begin{preview}\\\\ENTRE{}\\\\end{preview} \\\\begin{preview}\\\\DEFFPl{}\\\\end{preview} \\\\begin{preview}\\\\crocFPl{}\\\\end{preview}', u'\\\\DEFMSgP{}   \\\\KalebMSgP{}  \\\\voirPrsTroisSgSgP{}   \\\\INDFSgP{}   \\\\louveFSgP{}   \\\\AVECP{}    \\\\INDFSgP{}   \\\\filleFSgP{}   \\\\ENTREP{}    \\\\DEFFPlP{}   \\\\crocFPlP{}', u'\\\\begin{preview}Kaleb voit une louve avec une fille entre les crocs.\\\\end{preview}', '\\\\begin{preview}.\\\\end{preview}', u'\\\\begin{preview}\\\\DEFMSg{}\\\\end{preview} \\\\begin{preview}\\\\loupMSg{}\\\\end{preview} \\\\begin{preview}\\\\noirMSg{}\\\\end{preview} \\\\begin{preview}\\\\allerPrsTroisSgSg{}\\\\end{preview} \\\\begin{preview}\\\\VERS{}\\\\end{preview} \\\\begin{preview}\\\\DEFMDu{}\\\\end{preview} \\\\begin{preview}\\\\combattantMDu{}\\\\end{preview} \\\\begin{preview}\\\\courageuxMDu{}\\\\end{preview}', u'\\\\DEFMSgP{}   \\\\loupMSgP{}   \\\\noirMSgP{}  \\\\allerPrsTroisSgSgP{}   \\\\VERSP{}    \\\\DEFMDuP{}   \\\\combattantMDuP{}   \\\\courageuxMDuP{}', u'\\\\begin{preview}Le loup noir va vers les deux courageux combattants.\\\\end{preview}', '\\\\begin{preview}.\\\\end{preview}', u'\\\\begin{preview}\\\\DEFMSg{}\\\\end{preview} \\\\begin{preview}\\\\villageoisMSg{}\\\\end{preview} \\\\begin{preview}\\\\jeterPrsTroisSgSg{}\\\\end{preview} \\\\begin{preview}\\\\INDFSg{}\\\\end{preview} \\\\begin{preview}\\\\lanceFSg{}\\\\end{preview} \\\\begin{preview}\\\\A{}\\\\end{preview} \\\\begin{preview}\\\\DEFMDu{}\\\\end{preview} \\\\begin{preview}\\\\loupMDu{}\\\\end{preview}', u'\\\\DEFMSgP{}   \\\\villageoisMSgP{}  \\\\jeterPrsTroisSgSgP{}   \\\\INDFSgP{}   \\\\lanceFSgP{}   \\\\AP{}    \\\\DEFMDuP{}   \\\\loupMDuP{}', u'\\\\begin{preview}Le villageois jette une lance aux deux loups.\\\\end{preview}', '\\\\begin{preview}.\\\\end{preview}', u'\\\\begin{preview}\\\\DEFFSg{}\\\\end{preview} \\\\begin{preview}\\\\lanceFSg{}\\\\end{preview} \\\\begin{preview}\\\\transpercerPrsTroisSgSg{}\\\\end{preview} \\\\begin{preview}\\\\INDMSg{}\\\\end{preview} \\\\begin{preview}\\\\arbreMSg{}\\\\end{preview}', u'\\\\DEFFSgP{}   \\\\lanceFSgP{}  \\\\transpercerPrsTroisSgSgP{}   \\\\INDMSgP{}   \\\\arbreMSgP{}', u'\\\\begin{preview}La lance transperce un arbre.\\\\end{preview}', '\\\\begin{preview}.\\\\end{preview}', u'\\\\begin{preview}\\\\DEFFSg{}\\\\end{preview} \\\\begin{preview}\\\\louveFSg{}\\\\end{preview} \\\\begin{preview}\\\\jeterPrsTroisSgSg{}\\\\end{preview} \\\\begin{preview}\\\\DEFFSg{}\\\\end{preview} \\\\begin{preview}\\\\VioletteFSg{}\\\\end{preview}', u'\\\\DEFFSgP{}   \\\\louveFSgP{}  \\\\jeterPrsTroisSgSgP{}   \\\\DEFFSgP{}   \\\\VioletteFSgP{}', u'\\\\begin{preview}La louve jette Violette.\\\\end{preview}', '\\\\begin{preview}.\\\\end{preview}', u'\\\\begin{preview}\\\\DEFFSg{}\\\\end{preview} \\\\begin{preview}\\\\VioletteFSg{}\\\\end{preview} \\\\begin{preview}\\\\tomberPrsTroisSgSg{}\\\\end{preview} \\\\begin{preview}\\\\SUR{}\\\\end{preview} \\\\begin{preview}\\\\INDMSg{}\\\\end{preview} \\\\begin{preview}\\\\arbreMSg{}\\\\end{preview}', u'\\\\DEFFSgP{}   \\\\VioletteFSgP{}  \\\\tomberPrsTroisSgSgP{}   \\\\SURP{}    \\\\INDMSgP{}   \\\\arbreMSgP{}', u'\\\\begin{preview}Violette tombe sur un arbre.\\\\end{preview}', '\\\\begin{preview}.\\\\end{preview}', u'\\\\begin{preview}\\\\DEFMSg{}\\\\end{preview} \\\\begin{preview}\\\\chefMSg{}\\\\end{preview} \\\\begin{preview}\\\\DE{}\\\\end{preview} \\\\begin{preview}\\\\DEFMSg{}\\\\end{preview} \\\\begin{preview}\\\\villageMSg{}\\\\end{preview} \\\\begin{preview}\\\\prendrePrsTroisSgSg{}\\\\end{preview} \\\\begin{preview}\\\\INDFSg{}\\\\end{preview} \\\\begin{preview}\\\\lanceFSg{}\\\\end{preview}', u'\\\\DEFMSgP{}   \\\\chefMSgP{}   \\\\DEP{}    \\\\DEFMSgP{}   \\\\villageMSgP{}  \\\\prendrePrsTroisSgSgP{}   \\\\INDFSgP{}   \\\\lanceFSgP{}', u'\\\\begin{preview}Le chef du village prend une lance.\\\\end{preview}', '\\\\begin{preview}.\\\\end{preview}', u'\\\\begin{preview}\\\\DEFMSg{}\\\\end{preview} \\\\begin{preview}\\\\KalebMSg{}\\\\end{preview} \\\\begin{preview}\\\\jeterPrsTroisSgSg{}\\\\end{preview} \\\\begin{preview}\\\\DEMFSg{}\\\\end{preview} \\\\begin{preview}\\\\lanceFSg{}\\\\end{preview} \\\\begin{preview}\\\\VERS{}\\\\end{preview} \\\\begin{preview}\\\\DEFFSg{}\\\\end{preview} \\\\begin{preview}\\\\louveFSg{}\\\\end{preview}', u'\\\\DEFMSgP{}   \\\\KalebMSgP{}  \\\\jeterPrsTroisSgSgP{}   \\\\DEMFSgP{}   \\\\lanceFSgP{}   \\\\VERSP{}    \\\\DEFFSgP{}   \\\\louveFSgP{}', u'\\\\begin{preview}Kaleb jette cette lance vers la louve.\\\\end{preview}', '\\\\begin{preview}.\\\\end{preview}', u'\\\\begin{preview}\\\\DEMFSg{}\\\\end{preview} \\\\begin{preview}\\\\lanceFSg{}\\\\end{preview} \\\\begin{preview}\\\\transpercerPrsTroisSgSg{}\\\\end{preview} \\\\begin{preview}\\\\DEFMSg{}\\\\end{preview} \\\\begin{preview}\\\\corpsMSg{}\\\\end{preview} \\\\begin{preview}\\\\blancMSg{}\\\\end{preview} \\\\begin{preview}\\\\DE{}\\\\end{preview} \\\\begin{preview}\\\\DEFFSg{}\\\\end{preview} \\\\begin{preview}\\\\louveFSg{}\\\\end{preview}', u'\\\\DEMFSgP{}   \\\\lanceFSgP{}  \\\\transpercerPrsTroisSgSgP{}   \\\\DEFMSgP{}   \\\\corpsMSgP{}   \\\\blancMSgP{}   \\\\DEP{}    \\\\DEFFSgP{}   \\\\louveFSgP{}', u'\\\\begin{preview}Cette lance transperce le corps blanc de la louve.\\\\end{preview}', '\\\\begin{preview}.\\\\end{preview}', u'\\\\begin{preview}\\\\DEFMSg{}\\\\end{preview} \\\\begin{preview}\\\\loupMSg{}\\\\end{preview} \\\\begin{preview}\\\\noirMSg{}\\\\end{preview} \\\\begin{preview}\\\\sauterPrsTroisSgSg{}\\\\end{preview} \\\\begin{preview}\\\\SUR{}\\\\end{preview} \\\\begin{preview}\\\\DEFMSg{}\\\\end{preview} \\\\begin{preview}\\\\combattantMSg{}\\\\end{preview}', u'\\\\DEFMSgP{}   \\\\loupMSgP{}   \\\\noirMSgP{}  \\\\sauterPrsTroisSgSgP{}   \\\\SURP{}    \\\\DEFMSgP{}   \\\\combattantMSgP{}', u'\\\\begin{preview}Le loup noir saute sur le combattant.\\\\end{preview}', '\\\\begin{preview}.\\\\end{preview}', u'\\\\begin{preview}\\\\DEFMSg{}\\\\end{preview} \\\\begin{preview}\\\\combattantMSg{}\\\\end{preview} \\\\begin{preview}\\\\tomberPrsTroisSgSg{}\\\\end{preview} \\\\begin{preview}\\\\AVEC{}\\\\end{preview} \\\\begin{preview}\\\\DEFMSg{}\\\\end{preview} \\\\begin{preview}\\\\loupMSg{}\\\\end{preview}', u'\\\\DEFMSgP{}   \\\\combattantMSgP{}  \\\\tomberPrsTroisSgSgP{}   \\\\AVECP{}    \\\\DEFMSgP{}   \\\\loupMSgP{}', u'\\\\begin{preview}Le combattant tombe avec le loup.\\\\end{preview}', '\\\\begin{preview}.\\\\end{preview}', u'\\\\begin{preview}\\\\DEFMSg{}\\\\end{preview} \\\\begin{preview}\\\\hommeMSg{}\\\\end{preview} \\\\begin{preview}\\\\planterPrsTroisSgSg{}\\\\end{preview} \\\\begin{preview}\\\\INDMSg{}\\\\end{preview} \\\\begin{preview}\\\\couteauMSg{}\\\\end{preview} \\\\begin{preview}\\\\DANS{}\\\\end{preview} \\\\begin{preview}\\\\DEFMSg{}\\\\end{preview} \\\\begin{preview}\\\\corpsMSg{}\\\\end{preview} \\\\begin{preview}\\\\DE{}\\\\end{preview} \\\\begin{preview}\\\\DEFMSg{}\\\\end{preview} \\\\begin{preview}\\\\loupMSg{}\\\\end{preview}', u'\\\\DEFMSgP{}   \\\\hommeMSgP{}  \\\\planterPrsTroisSgSgP{}   \\\\INDMSgP{}   \\\\couteauMSgP{}   \\\\DANSP{}    \\\\DEFMSgP{}   \\\\corpsMSgP{}   \\\\DEP{}    \\\\DEFMSgP{}   \\\\loupMSgP{}', u\"\\\\begin{preview}L'homme plante un couteau dans le corps du loup.\\\\end{preview}\", '\\\\begin{preview}.\\\\end{preview}', u'\\\\begin{preview}\\\\DEFMSg{}\\\\end{preview} \\\\begin{preview}\\\\loupMSg{}\\\\end{preview} \\\\begin{preview}\\\\noirMSg{}\\\\end{preview} \\\\begin{preview}\\\\planterPrsTroisSgSg{}\\\\end{preview} \\\\begin{preview}\\\\DEFFPl{}\\\\end{preview} \\\\begin{preview}\\\\crocFPl{}\\\\end{preview} \\\\begin{preview}\\\\DANS{}\\\\end{preview} \\\\begin{preview}\\\\DEFMSg{}\\\\end{preview} \\\\begin{preview}\\\\gorgeMSg{}\\\\end{preview} \\\\begin{preview}\\\\DE{}\\\\end{preview} \\\\begin{preview}\\\\DEMMSg{}\\\\end{preview} \\\\begin{preview}\\\\hommeMSg{}\\\\end{preview}', u'\\\\DEFMSgP{}   \\\\loupMSgP{}   \\\\noirMSgP{}  \\\\planterPrsTroisSgSgP{}   \\\\DEFFPlP{}   \\\\crocFPlP{}   \\\\DANSP{}    \\\\DEFMSgP{}   \\\\gorgeMSgP{}   \\\\DEP{}    \\\\DEMMSgP{}   \\\\hommeMSgP{}', u'\\\\begin{preview}Le loup noir plante les crocs dans la gorge de cet homme.\\\\end{preview}', '\\\\begin{preview}.\\\\end{preview}', u'\\\\begin{preview}\\\\DEFMDu{}\\\\end{preview} \\\\begin{preview}\\\\combattantMDu{}\\\\end{preview} \\\\begin{preview}\\\\disparaitrePrsTroisDuDu{}\\\\end{preview} \\\\begin{preview}\\\\DANS{}\\\\end{preview} \\\\begin{preview}\\\\DEFFSg{}\\\\end{preview} \\\\begin{preview}\\\\mortFSg{}\\\\end{preview}', u'\\\\DEFMDuP{}   \\\\combattantMDuP{}  \\\\disparaitrePrsTroisDuDuP{}   \\\\DANSP{}    \\\\DEFFSgP{}   \\\\mortFSgP{}', u'\\\\begin{preview}Les deux combattants disparaissent dans la mort.\\\\end{preview}', '\\\\begin{preview}.\\\\end{preview}', u'\\\\begin{preview}\\\\DEFMSg{}\\\\end{preview} \\\\begin{preview}\\\\KalebMSg{}\\\\end{preview} \\\\begin{preview}\\\\prendrePrsTroisSgSg{}\\\\end{preview} \\\\begin{preview}\\\\INDMSg{}\\\\end{preview} \\\\begin{preview}\\\\couteauMSg{}\\\\end{preview}', u'\\\\DEFMSgP{}   \\\\KalebMSgP{}  \\\\prendrePrsTroisSgSgP{}   \\\\INDMSgP{}   \\\\couteauMSgP{}', u'\\\\begin{preview}Kaleb prend un couteau.\\\\end{preview}', '\\\\begin{preview}.\\\\end{preview}', u'\\\\begin{preview}\\\\DEFMSg{}\\\\end{preview} \\\\begin{preview}\\\\chefMSg{}\\\\end{preview} \\\\begin{preview}\\\\DE{}\\\\end{preview} \\\\begin{preview}\\\\DEFMPl{}\\\\end{preview} \\\\begin{preview}\\\\combattantMPl{}\\\\end{preview} \\\\begin{preview}\\\\approcherPrsTroisSgSg{}\\\\end{preview} \\\\begin{preview}\\\\DE{}\\\\end{preview} \\\\begin{preview}\\\\DEFFSg{}\\\\end{preview} \\\\begin{preview}\\\\louveFSg{}\\\\end{preview}', u'\\\\DEFMSgP{}   \\\\chefMSgP{}   \\\\DEP{}    \\\\DEFMPlP{}   \\\\combattantMPlP{}  \\\\approcherPrsTroisSgSgP{}   \\\\DEP{}    \\\\DEFFSgP{}   \\\\louveFSgP{}', u'\\\\begin{preview}Le chef des combattants approche de la louve.\\\\end{preview}', '\\\\begin{preview}.\\\\end{preview}', u'\\\\begin{preview}\\\\DEFFSg{}\\\\end{preview} \\\\begin{preview}\\\\louveFSg{}\\\\end{preview} \\\\begin{preview}\\\\planterPrsTroisSgSg{}\\\\end{preview} \\\\begin{preview}\\\\DEFFPl{}\\\\end{preview} \\\\begin{preview}\\\\crocFPl{}\\\\end{preview} \\\\begin{preview}\\\\DANS{}\\\\end{preview} \\\\begin{preview}\\\\DEFFSg{}\\\\end{preview} \\\\begin{preview}\\\\mainFSg{}\\\\end{preview} \\\\begin{preview}\\\\DE{}\\\\end{preview} \\\\begin{preview}\\\\DEFMSg{}\\\\end{preview} \\\\begin{preview}\\\\KalebMSg{}\\\\end{preview}', u'\\\\DEFFSgP{}   \\\\louveFSgP{}  \\\\planterPrsTroisSgSgP{}   \\\\DEFFPlP{}   \\\\crocFPlP{}   \\\\DANSP{}    \\\\DEFFSgP{}   \\\\mainFSgP{}   \\\\DEP{}    \\\\DEFMSgP{}   \\\\KalebMSgP{}', u'\\\\begin{preview}La louve plante les crocs dans la main de Kaleb.\\\\end{preview}', '\\\\begin{preview}.\\\\end{preview}', u'\\\\begin{preview}\\\\DEFFPl{}\\\\end{preview} \\\\begin{preview}\\\\crocFPl{}\\\\end{preview} \\\\begin{preview}\\\\DE{}\\\\end{preview} \\\\begin{preview}\\\\DEFFSg{}\\\\end{preview} \\\\begin{preview}\\\\louveFSg{}\\\\end{preview} \\\\begin{preview}\\\\donnerPrsTroisPlPl{}\\\\end{preview} \\\\begin{preview}\\\\INDFSg{}\\\\end{preview} \\\\begin{preview}\\\\blessureFSg{}\\\\end{preview} \\\\begin{preview}\\\\profondFSg{}\\\\end{preview} \\\\begin{preview}\\\\A{}\\\\end{preview} \\\\begin{preview}\\\\DEFMPl{}\\\\end{preview} \\\\begin{preview}\\\\villageoisMPl{}\\\\end{preview}', u'\\\\DEFFPlP{}   \\\\crocFPlP{}   \\\\DEP{}    \\\\DEFFSgP{}   \\\\louveFSgP{}  \\\\donnerPrsTroisPlPlP{}   \\\\INDFSgP{}   \\\\blessureFSgP{}   \\\\profondFSgP{}   \\\\AP{}    \\\\DEFMPlP{}   \\\\villageoisMPlP{}', u'\\\\begin{preview}Les crocs de la louve donnent une blessure profonde au villageois.\\\\end{preview}', '\\\\begin{preview}.\\\\end{preview}', u'\\\\begin{preview}\\\\DEFMSg{}\\\\end{preview} \\\\begin{preview}\\\\couteauMSg{}\\\\end{preview} \\\\begin{preview}\\\\tomberPrsTroisSgSg{}\\\\end{preview}', u'\\\\DEFMSgP{}   \\\\couteauMSgP{}  \\\\tomberPrsTroisSgSgP{}', u'\\\\begin{preview}Le couteau tombe.\\\\end{preview}', '\\\\begin{preview}.\\\\end{preview}', u'\\\\begin{preview}\\\\DEFFSg{}\\\\end{preview} \\\\begin{preview}\\\\louveFSg{}\\\\end{preview} \\\\begin{preview}\\\\pousserPrsTroisSgSg{}\\\\end{preview} \\\\begin{preview}\\\\DEMMSg{}\\\\end{preview} \\\\begin{preview}\\\\couteauMSg{}\\\\end{preview}', u'\\\\DEFFSgP{}   \\\\louveFSgP{}  \\\\pousserPrsTroisSgSgP{}   \\\\DEMMSgP{}   \\\\couteauMSgP{}', u'\\\\begin{preview}La louve pousse ce couteau.\\\\end{preview}', '\\\\begin{preview}.\\\\end{preview}', u'\\\\begin{preview}\\\\DEFMSg{}\\\\end{preview} \\\\begin{preview}\\\\KalebMSg{}\\\\end{preview} \\\\begin{preview}\\\\prendrePrsTroisSgSg{}\\\\end{preview} \\\\begin{preview}\\\\DEFFSg{}\\\\end{preview} \\\\begin{preview}\\\\lanceFSg{}\\\\end{preview} \\\\begin{preview}\\\\SUR{}\\\\end{preview} \\\\begin{preview}\\\\DEFMSg{}\\\\end{preview} \\\\begin{preview}\\\\arbreMSg{}\\\\end{preview}', u'\\\\DEFMSgP{}   \\\\KalebMSgP{}  \\\\prendrePrsTroisSgSgP{}   \\\\DEFFSgP{}   \\\\lanceFSgP{}   \\\\SURP{}    \\\\DEFMSgP{}   \\\\arbreMSgP{}', u\"\\\\begin{preview}Kaleb prend la lance sur l'arbre.\\\\end{preview}\", '\\\\begin{preview}.\\\\end{preview}', u'\\\\begin{preview}\\\\DEFFSg{}\\\\end{preview} \\\\begin{preview}\\\\louveFSg{}\\\\end{preview} \\\\begin{preview}\\\\blesseFSg{}\\\\end{preview} \\\\begin{preview}\\\\disparaitrePstTroisSgSg{}\\\\end{preview} \\\\begin{preview}\\\\DANS{}\\\\end{preview} \\\\begin{preview}\\\\DEFFSg{}\\\\end{preview} \\\\begin{preview}\\\\ombreFSg{}\\\\end{preview} \\\\begin{preview}\\\\DE{}\\\\end{preview} \\\\begin{preview}\\\\DEFMPl{}\\\\end{preview} \\\\begin{preview}\\\\arbreMPl{}\\\\end{preview}', u'\\\\DEFFSgP{}   \\\\louveFSgP{}   \\\\blesseFSgP{}  \\\\disparaitrePstTroisSgSgP{}   \\\\DANSP{}    \\\\DEFFSgP{}   \\\\ombreFSgP{}   \\\\DEP{}    \\\\DEFMPlP{}   \\\\arbreMPlP{}', u\"\\\\begin{preview}La louve bless\\xe9e disparaissait dans l'ombre des arbres.\\\\end{preview}\", '\\\\begin{preview}.\\\\end{preview}', u'\\\\begin{preview}\\\\DEFMSg{}\\\\end{preview} \\\\begin{preview}\\\\KalebMSg{}\\\\end{preview} \\\\begin{preview}\\\\courirPrsTroisSgSg{}\\\\end{preview} \\\\begin{preview}\\\\VERS{}\\\\end{preview} \\\\begin{preview}\\\\DEFFSg{}\\\\end{preview} \\\\begin{preview}\\\\louveFSg{}\\\\end{preview} \\\\begin{preview}\\\\AVEC{}\\\\end{preview} \\\\begin{preview}\\\\DEFFSg{}\\\\end{preview} \\\\begin{preview}\\\\lanceFSg{}\\\\end{preview} \\\\begin{preview}\\\\DANS{}\\\\end{preview} \\\\begin{preview}\\\\DEFFSg{}\\\\end{preview} \\\\begin{preview}\\\\mainFSg{}\\\\end{preview}', u'\\\\DEFMSgP{}   \\\\KalebMSgP{}  \\\\courirPrsTroisSgSgP{}   \\\\VERSP{}    \\\\DEFFSgP{}   \\\\louveFSgP{}   \\\\AVECP{}    \\\\DEFFSgP{}   \\\\lanceFSgP{}   \\\\DANSP{}    \\\\DEFFSgP{}   \\\\mainFSgP{}', u'\\\\begin{preview}Kaleb court vers la louve avec la lance dans la main.\\\\end{preview}', '\\\\begin{preview}.\\\\end{preview}', u'\\\\begin{preview}\\\\DEFMSg{}\\\\end{preview} \\\\begin{preview}\\\\KalebMSg{}\\\\end{preview} \\\\begin{preview}\\\\rejoindrePrsTroisSgSg{}\\\\end{preview} \\\\begin{preview}\\\\DEMFSg{}\\\\end{preview} \\\\begin{preview}\\\\louveFSg{}\\\\end{preview}', u'\\\\DEFMSgP{}   \\\\KalebMSgP{}  \\\\rejoindrePrsTroisSgSgP{}   \\\\DEMFSgP{}   \\\\louveFSgP{}', u'\\\\begin{preview}Kaleb rejoint cette louve.\\\\end{preview}', '\\\\begin{preview}.\\\\end{preview}', u'\\\\begin{preview}\\\\DEFMSg{}\\\\end{preview} \\\\begin{preview}\\\\chefMSg{}\\\\end{preview} \\\\begin{preview}\\\\DE{}\\\\end{preview} \\\\begin{preview}\\\\DEFMPl{}\\\\end{preview} \\\\begin{preview}\\\\villageoisMPl{}\\\\end{preview} \\\\begin{preview}\\\\donnerPrsTroisSgSg{}\\\\end{preview} \\\\begin{preview}\\\\INDMSg{}\\\\end{preview} \\\\begin{preview}\\\\coupMSg{}\\\\end{preview} \\\\begin{preview}\\\\A{}\\\\end{preview} \\\\begin{preview}\\\\DEFFSg{}\\\\end{preview} \\\\begin{preview}\\\\louveFSg{}\\\\end{preview}', u'\\\\DEFMSgP{}   \\\\chefMSgP{}   \\\\DEP{}    \\\\DEFMPlP{}   \\\\villageoisMPlP{}  \\\\donnerPrsTroisSgSgP{}   \\\\INDMSgP{}   \\\\coupMSgP{}   \\\\AP{}    \\\\DEFFSgP{}   \\\\louveFSgP{}', u'\\\\begin{preview}Le chef des villageois donne un coup \\xe0 la louve.\\\\end{preview}', '\\\\begin{preview}.\\\\end{preview}', u'\\\\begin{preview}\\\\DEFFSg{}\\\\end{preview} \\\\begin{preview}\\\\louveFSg{}\\\\end{preview} \\\\begin{preview}\\\\blesseFSg{}\\\\end{preview} \\\\begin{preview}\\\\tomberPrsTroisSgSg{}\\\\end{preview}', u'\\\\DEFFSgP{}   \\\\louveFSgP{}   \\\\blesseFSgP{}  \\\\tomberPrsTroisSgSgP{}', u'\\\\begin{preview}La louve bless\\xe9e tombe.\\\\end{preview}', '\\\\begin{preview}.\\\\end{preview}', u'\\\\begin{preview}\\\\DEFMSg{}\\\\end{preview} \\\\begin{preview}\\\\KalebMSg{}\\\\end{preview} \\\\begin{preview}\\\\prendrePrsTroisSgSg{}\\\\end{preview} \\\\begin{preview}\\\\DEFFSg{}\\\\end{preview} \\\\begin{preview}\\\\lanceFSg{}\\\\end{preview} \\\\begin{preview}\\\\SUR{}\\\\end{preview} \\\\begin{preview}\\\\DEFFSg{}\\\\end{preview} \\\\begin{preview}\\\\louveFSg{}\\\\end{preview} \\\\begin{preview}\\\\blesseFSg{}\\\\end{preview}', u'\\\\DEFMSgP{}   \\\\KalebMSgP{}  \\\\prendrePrsTroisSgSgP{}   \\\\DEFFSgP{}   \\\\lanceFSgP{}   \\\\SURP{}    \\\\DEFFSgP{}   \\\\louveFSgP{}   \\\\blesseFSgP{}', u'\\\\begin{preview}Kaleb prend la lance sur la louve bless\\xe9e.\\\\end{preview}', '\\\\begin{preview}.\\\\end{preview}', u'\\\\begin{preview}\\\\DEFMSg{}\\\\end{preview} \\\\begin{preview}\\\\villageoisMSg{}\\\\end{preview} \\\\begin{preview}\\\\furieuxMSg{}\\\\end{preview} \\\\begin{preview}\\\\planterPrsTroisSgSg{}\\\\end{preview} \\\\begin{preview}\\\\DEMFDu{}\\\\end{preview} \\\\begin{preview}\\\\lanceFDu{}\\\\end{preview} \\\\begin{preview}\\\\DANS{}\\\\end{preview} \\\\begin{preview}\\\\DEMMSg{}\\\\end{preview} \\\\begin{preview}\\\\corpsMSg{}\\\\end{preview} \\\\begin{preview}\\\\blesseMSg{}\\\\end{preview}', u'\\\\DEFMSgP{}   \\\\villageoisMSgP{}   \\\\furieuxMSgP{}  \\\\planterPrsTroisSgSgP{}   \\\\DEMFDuP{}   \\\\lanceFDuP{}   \\\\DANSP{}    \\\\DEMMSgP{}   \\\\corpsMSgP{}   \\\\blesseMSgP{}', u'\\\\begin{preview}Le villageois furieux plante ces deux lances dans ce corps bless\\xe9.\\\\end{preview}', '\\\\begin{preview}.\\\\end{preview}', u'\\\\begin{preview}\\\\INDFSg{}\\\\end{preview} \\\\begin{preview}\\\\lanceFSg{}\\\\end{preview} \\\\begin{preview}\\\\disparaitrePrsTroisSgSg{}\\\\end{preview} \\\\begin{preview}\\\\DANS{}\\\\end{preview} \\\\begin{preview}\\\\DEFMSg{}\\\\end{preview} \\\\begin{preview}\\\\corpsMSg{}\\\\end{preview} \\\\begin{preview}\\\\DE{}\\\\end{preview} \\\\begin{preview}\\\\DEFMSg{}\\\\end{preview} \\\\begin{preview}\\\\chefMSg{}\\\\end{preview} \\\\begin{preview}\\\\DE{}\\\\end{preview} \\\\begin{preview}\\\\DEFMPl{}\\\\end{preview} \\\\begin{preview}\\\\loupMPl{}\\\\end{preview}', u'\\\\INDFSgP{}   \\\\lanceFSgP{}  \\\\disparaitrePrsTroisSgSgP{}   \\\\DANSP{}    \\\\DEFMSgP{}   \\\\corpsMSgP{}   \\\\DEP{}    \\\\DEFMSgP{}   \\\\chefMSgP{}   \\\\DEP{}    \\\\DEFMPlP{}   \\\\loupMPlP{}', u'\\\\begin{preview}Une lance dispara\\xeet dans le corps de la cheffe des loups.\\\\end{preview}', '\\\\begin{preview}.\\\\end{preview}', u'\\\\begin{preview}\\\\DEFFSg{}\\\\end{preview} \\\\begin{preview}\\\\lanceFSg{}\\\\end{preview} \\\\begin{preview}\\\\suivantFSg{}\\\\end{preview} \\\\begin{preview}\\\\transpercerPrsTroisSgSg{}\\\\end{preview} \\\\begin{preview}\\\\DEFMSg{}\\\\end{preview} \\\\begin{preview}\\\\gorgeMSg{}\\\\end{preview} \\\\begin{preview}\\\\DE{}\\\\end{preview} \\\\begin{preview}\\\\DEFFSg{}\\\\end{preview} \\\\begin{preview}\\\\louveFSg{}\\\\end{preview}', u'\\\\DEFFSgP{}   \\\\lanceFSgP{}   \\\\suivantFSgP{}  \\\\transpercerPrsTroisSgSgP{}   \\\\DEFMSgP{}   \\\\gorgeMSgP{}   \\\\DEP{}    \\\\DEFFSgP{}   \\\\louveFSgP{}', u'\\\\begin{preview}La lance suivante transperce la gorge de la louve.\\\\end{preview}', '\\\\begin{preview}.\\\\end{preview}', u'\\\\begin{preview}\\\\DEMFPl{}\\\\end{preview} \\\\begin{preview}\\\\blessureFPl{}\\\\end{preview} \\\\begin{preview}\\\\profondFPl{}\\\\end{preview} \\\\begin{preview}\\\\donnerPrsTroisPlPl{}\\\\end{preview} \\\\begin{preview}\\\\DEFFSg{}\\\\end{preview} \\\\begin{preview}\\\\mortFSg{}\\\\end{preview} \\\\begin{preview}\\\\A{}\\\\end{preview} \\\\begin{preview}\\\\DEFFSg{}\\\\end{preview} \\\\begin{preview}\\\\louveFSg{}\\\\end{preview} \\\\begin{preview}\\\\grandFSg{}\\\\end{preview}', u'\\\\DEMFPlP{}   \\\\blessureFPlP{}   \\\\profondFPlP{}  \\\\donnerPrsTroisPlPlP{}   \\\\DEFFSgP{}   \\\\mortFSgP{}   \\\\AP{}    \\\\DEFFSgP{}   \\\\louveFSgP{}   \\\\grandFSgP{}', u'\\\\begin{preview}Ces blessures profondes donnent la mort \\xe0 la grande louve.\\\\end{preview}', '\\\\begin{preview}.\\\\end{preview}', u'\\\\begin{preview}\\\\DEFMSg{}\\\\end{preview} \\\\begin{preview}\\\\KalebMSg{}\\\\end{preview} \\\\begin{preview}\\\\rejoindrePrsTroisSgSg{}\\\\end{preview} \\\\begin{preview}\\\\DEFFSg{}\\\\end{preview} \\\\begin{preview}\\\\VioletteFSg{}\\\\end{preview} \\\\begin{preview}\\\\DEVANT{}\\\\end{preview} \\\\begin{preview}\\\\DEFMSg{}\\\\end{preview} \\\\begin{preview}\\\\arbreMSg{}\\\\end{preview}', u'\\\\DEFMSgP{}   \\\\KalebMSgP{}  \\\\rejoindrePrsTroisSgSgP{}   \\\\DEFFSgP{}   \\\\VioletteFSgP{}   \\\\DEVANTP{}    \\\\DEFMSgP{}   \\\\arbreMSgP{}', u\"\\\\begin{preview}Kaleb rejoint Violette devant l'arbre.\\\\end{preview}\", '\\\\begin{preview}.\\\\end{preview}', u'\\\\begin{preview}\\\\DEFFDu{}\\\\end{preview} \\\\begin{preview}\\\\mainFDu{}\\\\end{preview} \\\\begin{preview}\\\\DE{}\\\\end{preview} \\\\begin{preview}\\\\DEFMSg{}\\\\end{preview} \\\\begin{preview}\\\\KalebMSg{}\\\\end{preview} \\\\begin{preview}\\\\prendrePrsTroisDuDu{}\\\\end{preview} \\\\begin{preview}\\\\DEFMSg{}\\\\end{preview} \\\\begin{preview}\\\\corpsMSg{}\\\\end{preview} \\\\begin{preview}\\\\rougeMSg{}\\\\end{preview} \\\\begin{preview}\\\\DE{}\\\\end{preview} \\\\begin{preview}\\\\DEFFSg{}\\\\end{preview} \\\\begin{preview}\\\\filleFSg{}\\\\end{preview} \\\\begin{preview}\\\\petitFSg{}\\\\end{preview}', u'\\\\DEFFDuP{}   \\\\mainFDuP{}   \\\\DEP{}    \\\\DEFMSgP{}   \\\\KalebMSgP{}  \\\\prendrePrsTroisDuDuP{}   \\\\DEFMSgP{}   \\\\corpsMSgP{}   \\\\rougeMSgP{}   \\\\DEP{}    \\\\DEFFSgP{}   \\\\filleFSgP{}   \\\\petitFSgP{}', u'\\\\begin{preview}Les deux mains de Kaleb prennent le corps rouge de la petite fille.\\\\end{preview}', '\\\\begin{preview}.\\\\end{preview}', u'\\\\begin{preview}\\\\DEFFSg{}\\\\end{preview} \\\\begin{preview}\\\\mortFSg{}\\\\end{preview} \\\\begin{preview}\\\\prendrePrsTroisSgSg{}\\\\end{preview} \\\\begin{preview}\\\\DEFFSg{}\\\\end{preview} \\\\begin{preview}\\\\filleFSg{}\\\\end{preview} \\\\begin{preview}\\\\petitFSg{}\\\\end{preview}', u'\\\\DEFFSgP{}   \\\\mortFSgP{}  \\\\prendrePrsTroisSgSgP{}   \\\\DEFFSgP{}   \\\\filleFSgP{}   \\\\petitFSgP{}', u'\\\\begin{preview}La mort prend la petite fille.\\\\end{preview}', '\\\\begin{preview}.\\\\end{preview}', u'\\\\begin{preview}\\\\DEFFSg{}\\\\end{preview} \\\\begin{preview}\\\\VioletteFSg{}\\\\end{preview} \\\\begin{preview}\\\\rejoindrePrsTroisSgSg{}\\\\end{preview} \\\\begin{preview}\\\\DEFFSg{}\\\\end{preview} \\\\begin{preview}\\\\louveFSg{}\\\\end{preview} \\\\begin{preview}\\\\grandFSg{}\\\\end{preview} \\\\begin{preview}\\\\blancFSg{}\\\\end{preview} \\\\begin{preview}\\\\DANS{}\\\\end{preview} \\\\begin{preview}\\\\DEFFSg{}\\\\end{preview} \\\\begin{preview}\\\\mortFSg{}\\\\end{preview}', u'\\\\DEFFSgP{}   \\\\VioletteFSgP{}  \\\\rejoindrePrsTroisSgSgP{}   \\\\DEFFSgP{}   \\\\louveFSgP{}   \\\\grandFSgP{}   \\\\blancFSgP{}   \\\\DANSP{}    \\\\DEFFSgP{}   \\\\mortFSgP{}', u'\\\\begin{preview}Violette rejoint la grande louve blanche dans la mort.\\\\end{preview}', '\\\\begin{preview}.\\\\end{preview}', u'\\\\begin{preview}\\\\INDFDu{}\\\\end{preview} \\\\begin{preview}\\\\lueurFDu{}\\\\end{preview} \\\\begin{preview}\\\\envahirPrsTroisDuDu{}\\\\end{preview} \\\\begin{preview}\\\\DEFFSg{}\\\\end{preview} \\\\begin{preview}\\\\foretFSg{}\\\\end{preview} \\\\begin{preview}\\\\noirFSg{}\\\\end{preview}', u'\\\\INDFDuP{}   \\\\lueurFDuP{}  \\\\envahirPrsTroisDuDuP{}   \\\\DEFFSgP{}   \\\\foretFSgP{}   \\\\noirFSgP{}', u'\\\\begin{preview}Deux lueurs envahissent la for\\xeat noire.\\\\end{preview}', '\\\\begin{preview}.\\\\end{preview}', u'\\\\begin{preview}\\\\DEFFPl{}\\\\end{preview} \\\\begin{preview}\\\\lueurFPl{}\\\\end{preview} \\\\begin{preview}\\\\blancFPl{}\\\\end{preview} \\\\begin{preview}\\\\recouvrirPrsTroisPlPl{}\\\\end{preview} \\\\begin{preview}\\\\DEFMSg{}\\\\end{preview} \\\\begin{preview}\\\\corpsMSg{}\\\\end{preview} \\\\begin{preview}\\\\DE{}\\\\end{preview} \\\\begin{preview}\\\\DEFFSg{}\\\\end{preview} \\\\begin{preview}\\\\VioletteFSg{}\\\\end{preview}', u'\\\\DEFFPlP{}   \\\\lueurFPlP{}   \\\\blancFPlP{}  \\\\recouvrirPrsTroisPlPlP{}   \\\\DEFMSgP{}   \\\\corpsMSgP{}   \\\\DEP{}    \\\\DEFFSgP{}   \\\\VioletteFSgP{}', u'\\\\begin{preview}Les lueurs blanches recouvrent le corps de Violette.\\\\end{preview}', '\\\\begin{preview}.\\\\end{preview}', u'\\\\begin{preview}\\\\DEFFSg{}\\\\end{preview} \\\\begin{preview}\\\\mortFSg{}\\\\end{preview} \\\\begin{preview}\\\\DE{}\\\\end{preview} \\\\begin{preview}\\\\DEFFSg{}\\\\end{preview} \\\\begin{preview}\\\\VioletteFSg{}\\\\end{preview} \\\\begin{preview}\\\\donnerPrsTroisSgSg{}\\\\end{preview} \\\\begin{preview}\\\\INDFSg{}\\\\end{preview} \\\\begin{preview}\\\\lueurFSg{}\\\\end{preview} \\\\begin{preview}\\\\rougeFSg{}\\\\end{preview} \\\\begin{preview}\\\\A{}\\\\end{preview} \\\\begin{preview}\\\\DEFMSg{}\\\\end{preview} \\\\begin{preview}\\\\corpsMSg{}\\\\end{preview} \\\\begin{preview}\\\\DE{}\\\\end{preview} \\\\begin{preview}\\\\DEFFSg{}\\\\end{preview} \\\\begin{preview}\\\\louveFSg{}\\\\end{preview}', u'\\\\DEFFSgP{}   \\\\mortFSgP{}   \\\\DEP{}    \\\\DEFFSgP{}   \\\\VioletteFSgP{}  \\\\donnerPrsTroisSgSgP{}   \\\\INDFSgP{}   \\\\lueurFSgP{}   \\\\rougeFSgP{}   \\\\AP{}    \\\\DEFMSgP{}   \\\\corpsMSgP{}   \\\\DEP{}    \\\\DEFFSgP{}   \\\\louveFSgP{}', u'\\\\begin{preview}La mort de Violette donne une lueur rouge au corps de la louve.\\\\end{preview}', '\\\\begin{preview}.\\\\end{preview}', u'\\\\begin{preview}\\\\DEFFSg{}\\\\end{preview} \\\\begin{preview}\\\\lueurFSg{}\\\\end{preview} \\\\begin{preview}\\\\transformerPrsTroisSgSg{}\\\\end{preview} \\\\begin{preview}\\\\DEFFSg{}\\\\end{preview} \\\\begin{preview}\\\\louveFSg{}\\\\end{preview} \\\\begin{preview}\\\\DEVANT{}\\\\end{preview} \\\\begin{preview}\\\\DEFMSg{}\\\\end{preview} \\\\begin{preview}\\\\KalebMSg{}\\\\end{preview}', u'\\\\DEFFSgP{}   \\\\lueurFSgP{}  \\\\transformerPrsTroisSgSgP{}   \\\\DEFFSgP{}   \\\\louveFSgP{}   \\\\DEVANTP{}    \\\\DEFMSgP{}   \\\\KalebMSgP{}', u'\\\\begin{preview}La lueur transforme la louve devant Kaleb.\\\\end{preview}', '\\\\begin{preview}.\\\\end{preview}', u'\\\\begin{preview}\\\\DEFMSg{}\\\\end{preview} \\\\begin{preview}\\\\KalebMSg{}\\\\end{preview} \\\\begin{preview}\\\\voirPrsTroisSgSg{}\\\\end{preview} \\\\begin{preview}\\\\DEFFSg{}\\\\end{preview} \\\\begin{preview}\\\\MahiraFSg{}\\\\end{preview} \\\\begin{preview}\\\\AVEC{}\\\\end{preview} \\\\begin{preview}\\\\INDFDu{}\\\\end{preview} \\\\begin{preview}\\\\lanceFDu{}\\\\end{preview} \\\\begin{preview}\\\\DANS{}\\\\end{preview} \\\\begin{preview}\\\\DEFMSg{}\\\\end{preview} \\\\begin{preview}\\\\corpsMSg{}\\\\end{preview}', u'\\\\DEFMSgP{}   \\\\KalebMSgP{}  \\\\voirPrsTroisSgSgP{}   \\\\DEFFSgP{}   \\\\MahiraFSgP{}   \\\\AVECP{}    \\\\INDFDuP{}   \\\\lanceFDuP{}   \\\\DANSP{}    \\\\DEFMSgP{}   \\\\corpsMSgP{}', u'\\\\begin{preview}Kaleb voit Mahira avec deux lances dans le corps.\\\\end{preview}', '\\\\begin{preview}.\\\\end{preview}', u'\\\\begin{preview}\\\\DEFMSg{}\\\\end{preview} \\\\begin{preview}\\\\chefMSg{}\\\\end{preview} \\\\begin{preview}\\\\DE{}\\\\end{preview} \\\\begin{preview}\\\\DEFMPl{}\\\\end{preview} \\\\begin{preview}\\\\villageoisMPl{}\\\\end{preview} \\\\begin{preview}\\\\tomberPrsTroisSgSg{}\\\\end{preview}', u'\\\\DEFMSgP{}   \\\\chefMSgP{}   \\\\DEP{}    \\\\DEFMPlP{}   \\\\villageoisMPlP{}  \\\\tomberPrsTroisSgSgP{}', u'\\\\begin{preview}Le chef des villageois tombe.\\\\end{preview}', '\\\\begin{preview}.\\\\end{preview}', u'\\\\begin{preview}\\\\INDMSg{}\\\\end{preview} \\\\begin{preview}\\\\souffranceMSg{}\\\\end{preview} \\\\begin{preview}\\\\profondMSg{}\\\\end{preview} \\\\begin{preview}\\\\envahirPrsTroisSgSg{}\\\\end{preview} \\\\begin{preview}\\\\DEFMSg{}\\\\end{preview} \\\\begin{preview}\\\\combattantMSg{}\\\\end{preview}', u'\\\\INDMSgP{}   \\\\souffranceMSgP{}   \\\\profondMSgP{}  \\\\envahirPrsTroisSgSgP{}   \\\\DEFMSgP{}   \\\\combattantMSgP{}', u'\\\\begin{preview}Une profonde souffrance envahit le combattant.\\\\end{preview}', '\\\\begin{preview}.\\\\end{preview}', u'\\\\begin{preview}\\\\DEFMSg{}\\\\end{preview} \\\\begin{preview}\\\\KalebMSg{}\\\\end{preview} \\\\begin{preview}\\\\pousserPrsTroisSgSg{}\\\\end{preview} \\\\begin{preview}\\\\INDMSg{}\\\\end{preview} \\\\begin{preview}\\\\criMSg{}\\\\end{preview}', u'\\\\DEFMSgP{}   \\\\KalebMSgP{}  \\\\pousserPrsTroisSgSgP{}   \\\\INDMSgP{}   \\\\criMSgP{}', u'\\\\begin{preview}Kaleb pousse un cri.\\\\end{preview}', '\\\\begin{preview}.\\\\end{preview}', u'\\\\begin{preview}\\\\DEFFSg{}\\\\end{preview} \\\\begin{preview}\\\\luneFSg{}\\\\end{preview} \\\\begin{preview}\\\\rougeFSg{}\\\\end{preview} \\\\begin{preview}\\\\disparaitrePstTroisSgSg{}\\\\end{preview} \\\\begin{preview}\\\\DERRIERE{}\\\\end{preview} \\\\begin{preview}\\\\DEFMPl{}\\\\end{preview} \\\\begin{preview}\\\\arbreMPl{}\\\\end{preview}', u'\\\\DEFFSgP{}   \\\\luneFSgP{}   \\\\rougeFSgP{}  \\\\disparaitrePstTroisSgSgP{}   \\\\DERRIEREP{}    \\\\DEFMPlP{}   \\\\arbreMPlP{}', u'\\\\begin{preview}La lune rouge disparaissait derri\\xe8re les arbres.\\\\end{preview}', '\\\\begin{preview}.\\\\end{preview}']\n",
      ". ['.']\n"
     ]
    },
    {
     "ename": "KeyError",
     "evalue": "'.'",
     "output_type": "error",
     "traceback": [
      "\u001b[0;31m---------------------------------------------------------------------------\u001b[0m",
      "\u001b[0;31mKeyError\u001b[0m                                  Traceback (most recent call last)",
      "\u001b[0;32m<ipython-input-1841-b12b8f63ebd2>\u001b[0m in \u001b[0;36m<module>\u001b[0;34m()\u001b[0m\n\u001b[1;32m     23\u001b[0m             \u001b[0mvocabulaire\u001b[0m\u001b[0;34m=\u001b[0m\u001b[0;34m[\u001b[0m\u001b[0;34m]\u001b[0m\u001b[0;34m\u001b[0m\u001b[0m\n\u001b[1;32m     24\u001b[0m \u001b[0;31m#            prononciationExtrait=[]\u001b[0m\u001b[0;34m\u001b[0m\u001b[0;34m\u001b[0m\u001b[0m\n\u001b[0;32m---> 25\u001b[0;31m             \u001b[0mfaire_phrases\u001b[0m\u001b[0;34m(\u001b[0m\u001b[0mmots_file\u001b[0m\u001b[0;34m,\u001b[0m\u001b[0msortie\u001b[0m\u001b[0;34m=\u001b[0m\u001b[0;34m\"mots\"\u001b[0m\u001b[0;34m)\u001b[0m\u001b[0;34m\u001b[0m\u001b[0m\n\u001b[0m\u001b[1;32m     26\u001b[0m             \u001b[0mmots_file\u001b[0m\u001b[0;34m.\u001b[0m\u001b[0mclose\u001b[0m\u001b[0;34m(\u001b[0m\u001b[0;34m)\u001b[0m\u001b[0;34m\u001b[0m\u001b[0m\n",
      "\u001b[0;32m<ipython-input-1835-142aab1cb657>\u001b[0m in \u001b[0;36mfaire_phrases\u001b[0;34m(phrase_file, sortie)\u001b[0m\n\u001b[1;32m    330\u001b[0m                 \u001b[0;32mif\u001b[0m \u001b[0mcleElement\u001b[0m\u001b[0;34m:\u001b[0m\u001b[0;34m\u001b[0m\u001b[0m\n\u001b[1;32m    331\u001b[0m                     \u001b[0;32mif\u001b[0m \u001b[0;32mnot\u001b[0m \u001b[0mcleElement\u001b[0m \u001b[0;32min\u001b[0m \u001b[0mtraductions\u001b[0m\u001b[0;34m:\u001b[0m \u001b[0;32mprint\u001b[0m \u001b[0mcleElement\u001b[0m\u001b[0;34m,\u001b[0m\u001b[0mphonoMots\u001b[0m\u001b[0;34m\u001b[0m\u001b[0m\n\u001b[0;32m--> 332\u001b[0;31m                     \u001b[0mphonoPhrase\u001b[0m\u001b[0;34m.\u001b[0m\u001b[0mappend\u001b[0m\u001b[0;34m(\u001b[0m\u001b[0mtraductions\u001b[0m\u001b[0;34m[\u001b[0m\u001b[0mcleElement\u001b[0m\u001b[0;34m]\u001b[0m\u001b[0;34m)\u001b[0m\u001b[0;34m\u001b[0m\u001b[0m\n\u001b[0m\u001b[1;32m    333\u001b[0m             \u001b[0;32mif\u001b[0m \u001b[0mseparateurPhonoCloze\u001b[0m\u001b[0;34m==\u001b[0m\u001b[0;34m\"\"\u001b[0m \u001b[0;34m:\u001b[0m \u001b[0msuppLigne\u001b[0m\u001b[0;34m=\u001b[0m\u001b[0;34m\";\"\u001b[0m\u001b[0;34m+\u001b[0m\u001b[0;34m\" \"\u001b[0m\u001b[0;34m.\u001b[0m\u001b[0mjoin\u001b[0m\u001b[0;34m(\u001b[0m\u001b[0mphonoPhrase\u001b[0m\u001b[0;34m)\u001b[0m\u001b[0;34m\u001b[0m\u001b[0m\n\u001b[1;32m    334\u001b[0m             \u001b[0;32melse\u001b[0m\u001b[0;34m:\u001b[0m \u001b[0msuppLigne\u001b[0m\u001b[0;34m=\u001b[0m\u001b[0;34m\"\"\u001b[0m\u001b[0;34m\u001b[0m\u001b[0m\n",
      "\u001b[0;31mKeyError\u001b[0m: '.'"
     ]
    }
   ],
   "source": [
    "if mots_nom.endswith(\"csv\"):\n",
    "    try:\n",
    "        mots_file = codecs.open(mots_nom,\"r\",\"utf8\")\n",
    "    except IOError:\n",
    "        print 'I could not open the file', mots_nom\n",
    "        sys.exit()      \n",
    "    else:\n",
    "        try:\n",
    "            cloze_file = codecs.open(cloze_nom,\"r\",\"utf8\")\n",
    "        except IOError:\n",
    "            print 'I could not open the cloze file', cloze_nom\n",
    "            sys.exit()\n",
    "        else:\n",
    "            motsIsoles={}\n",
    "            for line in cloze_file.readlines():\n",
    "                line=line.strip()\n",
    "                if not line.startswith(\"#\"):\n",
    "                    elementsCloze=line.split(\";\")\n",
    "                    motsIsoles[elementsCloze[0]]=elementsCloze[5]\n",
    "            cloze_file.close()\n",
    "            exemples=[]\n",
    "            accumulateur=[]\n",
    "            vocabulaire=[]\n",
    "#            prononciationExtrait=[]\n",
    "            faire_phrases(mots_file,sortie=\"mots\")\n",
    "            mots_file.close()"
   ]
  },
  {
   "cell_type": "code",
   "execution_count": null,
   "metadata": {
    "collapsed": false,
    "scrolled": true
   },
   "outputs": [],
   "source": [
    "#PFM.hierarchieCF.classes\n",
    "#discrimineur\n",
    "tableaux[\"NOM\"]"
   ]
  },
  {
   "cell_type": "code",
   "execution_count": null,
   "metadata": {
    "collapsed": true
   },
   "outputs": [],
   "source": []
  }
 ],
 "metadata": {
  "kernelspec": {
   "display_name": "Python 2",
   "language": "python",
   "name": "python2"
  },
  "language_info": {
   "codemirror_mode": {
    "name": "ipython",
    "version": 2
   },
   "file_extension": ".py",
   "mimetype": "text/x-python",
   "name": "python",
   "nbconvert_exporter": "python",
   "pygments_lexer": "ipython2",
   "version": "2.7.12"
  }
 },
 "nbformat": 4,
 "nbformat_minor": 0
}

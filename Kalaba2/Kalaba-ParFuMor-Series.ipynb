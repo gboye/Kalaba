{
 "cells": [
  {
   "cell_type": "markdown",
   "metadata": {},
   "source": [
    "# ParFuMor (version YAML & Objets)\n",
    "\n",
    "Attention les règles qui ne changent pas le radical donnent lieu à des mauvais découpages des formes..."
   ]
  },
  {
   "cell_type": "code",
   "execution_count": 13,
   "metadata": {},
   "outputs": [],
   "source": [
    "# -*- coding: utf8 -*-\n",
    "from os.path import expanduser\n",
    "import itertools\n",
    "import yaml,YamlDuplicates\n",
    "from yaml.constructor import ConstructorError\n",
    "import warnings\n",
    "import ParFuMor as PFM\n",
    "from ParFuMor import *\n",
    "import pickle\n",
    "from IPython.display import HTML, display\n",
    "from cellbell import ding"
   ]
  },
  {
   "cell_type": "code",
   "execution_count": 14,
   "metadata": {},
   "outputs": [],
   "source": [
    "home = expanduser(\"~\")\n",
    "repertoire=home+\"/ownCloud/Cours/Bordeaux/L1-LinguistiqueGenerale/00-ProjetKalaba/\"\n",
    "annee=\"19\"\n",
    "numerosKalabas=[1,2,3,4,5]\n",
    "numerosKalabas=[3]\n",
    "nomKalabas=[repertoire+annee+\"-K%d/\"%num for num in numerosKalabas]\n",
    "\n",
    "#nomKalabas=[home+\"/Dropbox/Partage-Broadway/GAM/Caches/NosCaches/Kalabas/K2-Kalaba0304/\"]\n",
    "\n",
    "lexiqueTestPrep=u\"dans\"\n",
    "lexiqueTestNoun=u\"loups\"\n",
    "lexiqueTestHyper=u\"villagEOIs\""
   ]
  },
  {
   "cell_type": "code",
   "execution_count": 15,
   "metadata": {
    "scrolled": false
   },
   "outputs": [
    {
     "name": "stdout",
     "output_type": "stream",
     "text": [
      "\n",
      "/Users/gilles/ownCloud/Cours/Bordeaux/L1-LinguistiqueGenerale/00-ProjetKalaba/19-K3/\n"
     ]
    },
    {
     "name": "stderr",
     "output_type": "stream",
     "text": [
      "/Users/gilles/opt/anaconda2/lib/python2.7/site-packages/ipykernel_launcher.py:7: YAMLLoadWarning: calling yaml.load() without Loader=... is deprecated, as the default Loader is unsafe. Please read https://msg.pyyaml.org/load for full details.\n",
      "  import sys\n",
      "/Users/gilles/opt/anaconda2/lib/python2.7/site-packages/ipykernel_launcher.py:11: YAMLLoadWarning: calling yaml.load() without Loader=... is deprecated, as the default Loader is unsafe. Please read https://msg.pyyaml.org/load for full details.\n",
      "  # This is added back by InteractiveShellApp.init_path()\n",
      "/Users/gilles/opt/anaconda2/lib/python2.7/site-packages/ipykernel_launcher.py:17: YAMLLoadWarning: calling yaml.load() without Loader=... is deprecated, as the default Loader is unsafe. Please read https://msg.pyyaml.org/load for full details.\n",
      "/Users/gilles/opt/anaconda2/lib/python2.7/site-packages/ipykernel_launcher.py:20: YAMLLoadWarning: calling yaml.load() without Loader=... is deprecated, as the default Loader is unsafe. Please read https://msg.pyyaml.org/load for full details.\n",
      "/Users/gilles/opt/anaconda2/lib/python2.7/site-packages/ipykernel_launcher.py:23: YAMLLoadWarning: calling yaml.load() without Loader=... is deprecated, as the default Loader is unsafe. Please read https://msg.pyyaml.org/load for full details.\n"
     ]
    },
    {
     "name": "stdout",
     "output_type": "stream",
     "text": [
      "VER : Temps Pers Genre\n",
      "NOM : Genre Nombre Cas\n",
      "DET : Genre Nombre Cas\n",
      "ADJ : Genre Nombre\n",
      "head stems\n",
      "head stems,ADJ\n",
      "head stems,DET\n",
      "head stems,VER\n",
      "head stems,NOM\n",
      "head stems,NOM,A\n",
      "head stems,NOM,C\n",
      "head stems,NOM,B\n"
     ]
    }
   ],
   "source": [
    "PFM.duplicateErrors=[]\n",
    "for serie in nomKalabas:\n",
    "    print\n",
    "    print serie\n",
    "\n",
    "    with open(serie+\"Gloses.yaml\", 'r') as stream:\n",
    "        gloses=yaml.load(stream)\n",
    "        PFM.gloses=gloses\n",
    "    with open(serie+\"Stems.yaml\", 'r') as stream:\n",
    "        try:\n",
    "            stems=yaml.load(stream)\n",
    "            PFM.stems=stems\n",
    "        except ConstructorError,msg:\n",
    "            print msg\n",
    "            continue\n",
    "    with open(serie+\"Blocks.yaml\", 'r') as stream:\n",
    "        blocks=yaml.load(stream)\n",
    "        PFM.blocks=blocks\n",
    "    with open(serie+\"Phonology.yaml\", 'r') as stream:\n",
    "        phonology=yaml.load(stream)\n",
    "        PFM.phonology=phonology\n",
    "    with open(serie+\"MorphoSyntax.yaml\", 'r') as stream:\n",
    "        morphosyntax=yaml.load(stream)\n",
    "        PFM.morphosyntax=morphosyntax\n",
    "\n",
    "        \n",
    "    for cat in morphosyntax[\"Attributs\"]:\n",
    "        if sorted(morphosyntax[\"Attributs\"][cat])!=sorted(gloses[cat].keys()):\n",
    "            warnings.warn(\"\\n\"+serie+\"\\nLes attributs de %s ne sont pas cohérents\\nMorphosyntax => %s\\nGloses => %s\"%(cat,\", \".join(morphosyntax[\"Attributs\"][cat]),\", \".join(gloses[cat].keys())))\n",
    "    \n",
    "    regles=Regles()\n",
    "    PFM.regles=regles\n",
    "    for categorie in blocks:\n",
    "        regles.addBlocs(categorie,blocks[categorie])\n",
    "\n",
    "\n",
    "    paradigmes=Paradigmes()\n",
    "    PFM.paradigmes=paradigmes\n",
    "\n",
    "    hierarchieCF=HierarchieCF()\n",
    "    PFM.hierarchieCF=hierarchieCF\n",
    "    lexique=Lexique()\n",
    "    PFM.lexique=lexique\n",
    "\n",
    "\n",
    "    for cat in gloses:\n",
    "    #    print cat\n",
    "        attributes=[]\n",
    "        if gloses[cat]:\n",
    "            if set(gloses[cat].keys())==set(morphosyntax[\"Attributs\"][cat]):\n",
    "                features=morphosyntax[\"Attributs\"][cat]\n",
    "    #            print \"inhérent\",features\n",
    "            else:\n",
    "                features=gloses[cat].keys()\n",
    "    #            print \"contextuel\",features\n",
    "            for attribute in features:\n",
    "                attributes.append(gloses[cat][attribute])\n",
    "            nuplets=(itertools.product(*attributes))\n",
    "            for nuplet in nuplets:\n",
    "                proprietes=[cat]\n",
    "                for element in range(len(nuplet)):\n",
    "                    proprietes.append(u\"%s=%s\"%(features[element],nuplet[element]))\n",
    "                paradigmes.addForme(cat,proprietes)\n",
    "\n",
    "    analyserGloses(gloses)\n",
    "    analyserStems(stems)\n",
    "        \n",
    "    with open(serie+\"Hierarchie-S2.pkl\", 'wb') as output:\n",
    "       pickle.dump(hierarchieCF, output, pickle.HIGHEST_PROTOCOL)\n",
    "    with open(serie+\"Lexique-S2.pkl\", 'wb') as output:\n",
    "       pickle.dump(lexique, output, pickle.HIGHEST_PROTOCOL)\n",
    "    with open(serie+\"Regles-S2.pkl\", 'wb') as output:\n",
    "       pickle.dump(regles, output, pickle.HIGHEST_PROTOCOL)\n",
    "\n",
    "\n",
    "    PFM.lexique.lexemes[lexiqueTestPrep]\n",
    "\n",
    "    mot=lexiqueTestNoun\n",
    "    classesNom=PFM.lexique.formeLexeme[mot][0].split('.')[1:]\n",
    "    [classeElement for classeElement in classesNom if classeElement in gloses[\"NOM\"][\"Genre\"]]\n",
    "\n",
    "    PFM.lexique.formeLexeme[lexiqueTestHyper][0]\n",
    "\n",
    "if PFM.duplicateErrors:\n",
    "    print\n",
    "    print \"=======ERREURS========\"\n",
    "    print\n",
    "    for ligne in PFM.duplicateErrors:\n",
    "        print ligne\n"
   ]
  },
  {
   "cell_type": "code",
   "execution_count": 16,
   "metadata": {},
   "outputs": [
    {
     "name": "stdout",
     "output_type": "stream",
     "text": [
      "villageoise.B.N2\n",
      "enfant.hyper.C.N3\n",
      "croc.B.N1\n"
     ]
    }
   ],
   "source": [
    "print PFM.lexique.formeLexeme[lexiqueTestHyper][0]\n",
    "print PFM.lexique.formeLexeme[u\"enfANT\"][0]\n",
    "print PFM.lexique.formeLexeme[u\"crocs\"][0]"
   ]
  },
  {
   "cell_type": "code",
   "execution_count": 17,
   "metadata": {},
   "outputs": [
    {
     "data": {
      "text/plain": [
       "[u'DET, Genre=A, Nombre=Sg, Cas=Nom',\n",
       " u'DET, Genre=A, Nombre=Sg, Cas=Acc',\n",
       " u'DET, Genre=A, Nombre=Sg, Cas=Dat',\n",
       " u'DET, Genre=A, Nombre=Sg, Cas=Obl',\n",
       " u'DET, Genre=A, Nombre=Du, Cas=Nom',\n",
       " u'DET, Genre=A, Nombre=Du, Cas=Acc',\n",
       " u'DET, Genre=A, Nombre=Du, Cas=Dat',\n",
       " u'DET, Genre=A, Nombre=Du, Cas=Obl',\n",
       " u'DET, Genre=A, Nombre=Pl, Cas=Nom',\n",
       " u'DET, Genre=A, Nombre=Pl, Cas=Acc',\n",
       " u'DET, Genre=A, Nombre=Pl, Cas=Dat',\n",
       " u'DET, Genre=A, Nombre=Pl, Cas=Obl',\n",
       " u'DET, Genre=B, Nombre=Sg, Cas=Nom',\n",
       " u'DET, Genre=B, Nombre=Sg, Cas=Acc',\n",
       " u'DET, Genre=B, Nombre=Sg, Cas=Dat',\n",
       " u'DET, Genre=B, Nombre=Sg, Cas=Obl',\n",
       " u'DET, Genre=B, Nombre=Du, Cas=Nom',\n",
       " u'DET, Genre=B, Nombre=Du, Cas=Acc',\n",
       " u'DET, Genre=B, Nombre=Du, Cas=Dat',\n",
       " u'DET, Genre=B, Nombre=Du, Cas=Obl',\n",
       " u'DET, Genre=B, Nombre=Pl, Cas=Nom',\n",
       " u'DET, Genre=B, Nombre=Pl, Cas=Acc',\n",
       " u'DET, Genre=B, Nombre=Pl, Cas=Dat',\n",
       " u'DET, Genre=B, Nombre=Pl, Cas=Obl',\n",
       " u'DET, Genre=C, Nombre=Sg, Cas=Nom',\n",
       " u'DET, Genre=C, Nombre=Sg, Cas=Acc',\n",
       " u'DET, Genre=C, Nombre=Sg, Cas=Dat',\n",
       " u'DET, Genre=C, Nombre=Sg, Cas=Obl',\n",
       " u'DET, Genre=C, Nombre=Du, Cas=Nom',\n",
       " u'DET, Genre=C, Nombre=Du, Cas=Acc',\n",
       " u'DET, Genre=C, Nombre=Du, Cas=Dat',\n",
       " u'DET, Genre=C, Nombre=Du, Cas=Obl',\n",
       " u'DET, Genre=C, Nombre=Pl, Cas=Nom',\n",
       " u'DET, Genre=C, Nombre=Pl, Cas=Acc',\n",
       " u'DET, Genre=C, Nombre=Pl, Cas=Dat',\n",
       " u'DET, Genre=C, Nombre=Pl, Cas=Obl']"
      ]
     },
     "execution_count": 17,
     "metadata": {},
     "output_type": "execute_result"
    }
   ],
   "source": [
    "paradigmes.getSigmas([\"DET\"])"
   ]
  },
  {
   "cell_type": "code",
   "execution_count": 18,
   "metadata": {},
   "outputs": [
    {
     "name": "stdout",
     "output_type": "stream",
     "text": [
      "CF=\n",
      "['CF=N1', 'CF=N2']\n",
      "does not apply\n"
     ]
    }
   ],
   "source": [
    "case=\"CF=N3\"\n",
    "m=re.match(ur\"(.*=)(.*)\",\"CF=N1|N2\")\n",
    "if m:\n",
    "    altTrait=m.group(1)\n",
    "    altValeurs=m.group(2).split(\"|\")\n",
    "    print altTrait\n",
    "    altTraits=[altTrait+v for v in altValeurs]\n",
    "    print altTraits\n",
    "    if any(t == case for t in altTraits):\n",
    "        print \"applies\"\n",
    "    else:\n",
    "        print \"does not apply\""
   ]
  },
  {
   "cell_type": "code",
   "execution_count": 19,
   "metadata": {},
   "outputs": [
    {
     "data": {
      "text/plain": [
       "[]"
      ]
     },
     "execution_count": 19,
     "metadata": {},
     "output_type": "execute_result"
    }
   ],
   "source": [
    "regles.getRules(\"NOM\",'CF=N3, Genre=C, Nombre=Du, Cas=Acc')"
   ]
  },
  {
   "cell_type": "code",
   "execution_count": 20,
   "metadata": {},
   "outputs": [
    {
     "name": "stdout",
     "output_type": "stream",
     "text": [
      "del Cas\n"
     ]
    },
    {
     "data": {
      "text/html": [
       "<div>\n",
       "<style scoped>\n",
       "    .dataframe tbody tr th:only-of-type {\n",
       "        vertical-align: middle;\n",
       "    }\n",
       "\n",
       "    .dataframe tbody tr th {\n",
       "        vertical-align: top;\n",
       "    }\n",
       "\n",
       "    .dataframe thead th {\n",
       "        text-align: right;\n",
       "    }\n",
       "</style>\n",
       "<table border=\"1\" class=\"dataframe\">\n",
       "  <thead>\n",
       "    <tr style=\"text-align: right;\">\n",
       "      <th>Nombre</th>\n",
       "      <th>Du</th>\n",
       "      <th>Pl</th>\n",
       "      <th>Sg</th>\n",
       "    </tr>\n",
       "    <tr>\n",
       "      <th>Genre</th>\n",
       "      <th></th>\n",
       "      <th></th>\n",
       "      <th></th>\n",
       "    </tr>\n",
       "  </thead>\n",
       "  <tbody>\n",
       "    <tr>\n",
       "      <th>A</th>\n",
       "      <td>be-RAD-u-N,Zo-RAD-u-N,ka-RAD-u-N,si-RAD-u-N</td>\n",
       "      <td>ka-RAD-u-m,si-RAD-u-m,be-RAD-u-m,Zo-RAD-u-m</td>\n",
       "      <td>Zo-RAD-u-S,be-RAD-u-S,ka-RAD-u-S,si-RAD-u-S</td>\n",
       "    </tr>\n",
       "    <tr>\n",
       "      <th>B</th>\n",
       "      <td>si-RAD-i-N,be-RAD-i-N,Zo-RAD-i-N,ka-RAD-i-N</td>\n",
       "      <td>si-RAD-i-m,ka-RAD-i-m,Zo-RAD-i-m,be-RAD-i-m</td>\n",
       "      <td>be-RAD-i-S,ka-RAD-i-S,Zo-RAD-i-S,si-RAD-i-S</td>\n",
       "    </tr>\n",
       "    <tr>\n",
       "      <th>C</th>\n",
       "      <td>be-RAD-e-N,si-RAD-e-N,ka-RAD-e-N,Zo-RAD-e-N</td>\n",
       "      <td>ka-RAD-e-m,si-RAD-e-m,be-RAD-e-m,Zo-RAD-e-m</td>\n",
       "      <td>si-RAD-e-S,be-RAD-e-S,ka-RAD-e-S,Zo-RAD-e-S</td>\n",
       "    </tr>\n",
       "  </tbody>\n",
       "</table>\n",
       "</div>"
      ],
      "text/plain": [
       "Nombre                                           Du  \\\n",
       "Genre                                                 \n",
       "A       be-RAD-u-N,Zo-RAD-u-N,ka-RAD-u-N,si-RAD-u-N   \n",
       "B       si-RAD-i-N,be-RAD-i-N,Zo-RAD-i-N,ka-RAD-i-N   \n",
       "C       be-RAD-e-N,si-RAD-e-N,ka-RAD-e-N,Zo-RAD-e-N   \n",
       "\n",
       "Nombre                                           Pl  \\\n",
       "Genre                                                 \n",
       "A       ka-RAD-u-m,si-RAD-u-m,be-RAD-u-m,Zo-RAD-u-m   \n",
       "B       si-RAD-i-m,ka-RAD-i-m,Zo-RAD-i-m,be-RAD-i-m   \n",
       "C       ka-RAD-e-m,si-RAD-e-m,be-RAD-e-m,Zo-RAD-e-m   \n",
       "\n",
       "Nombre                                           Sg  \n",
       "Genre                                                \n",
       "A       Zo-RAD-u-S,be-RAD-u-S,ka-RAD-u-S,si-RAD-u-S  \n",
       "B       be-RAD-i-S,ka-RAD-i-S,Zo-RAD-i-S,si-RAD-i-S  \n",
       "C       si-RAD-e-S,be-RAD-e-S,ka-RAD-e-S,Zo-RAD-e-S  "
      ]
     },
     "execution_count": 20,
     "metadata": {},
     "output_type": "execute_result"
    }
   ],
   "source": [
    "test=Lexeme(\"RAD\",\"DET\",\"croc\").getParadigm(lignes=[\"Genre\"],colonne=[\"Nombre\"])\n",
    "test\n",
    "#test.index.sortlevel(0,ascending=False)"
   ]
  },
  {
   "cell_type": "raw",
   "metadata": {
    "scrolled": false
   },
   "source": [
    "lignes=[\"Temps\",\"Pers\",\"Trans\"]\n",
    "colonne=[\"Genre\"]\n",
    "lignes=[\"Genre\",\"Nombre\"]\n",
    "colonne=[\"Cas\"]\n",
    "for cf in [\"N%d\"%(i+1) for i in range(4)]:\n",
    "    test=Lexeme(\"RAD\",cf,\"croc\").getParadigm(lignes=lignes,colonne=colonne)\n",
    "    test=test.reset_index().groupby(by=[\"Erg\",\"Abs\",\"Dat\",\"Obl\"]).agg(lambda x: \", \".join(set(x))).reset_index().set_index(lignes)\n",
    "    print cf\n",
    "    display(test)\n",
    "\n",
    "lignes=[\"Cas\",\"Genre\"]\n",
    "colonne=[\"Nombre\"]\n",
    "for cf in [\"A%d\"%(i+1) for i in range(2)]:\n",
    "#for cf in [\"DET\"]:\n",
    "    test=Lexeme(\"RAD\",cf,\"croc\").getParadigm(lignes=lignes,colonne=colonne)\n",
    "    test=test.reset_index().groupby(by=[\"Sg\",\"Du\",\"Pl\"]).agg(lambda x: \", \".join(set(x))).reset_index().set_index(lignes)\n",
    "#    test=test.reset_index().groupby(by=[\"Sg\",\"Du\",\"Pl\"]).agg(lambda x: \", \".join(set(x))).reset_index().set_index(lignes)\n",
    "    print cf\n",
    "    display(test)\n",
    "\n",
    "lignes=[\"Genre\"]\n",
    "colonne=[\"Nombre\"]\n",
    "for cf in [\"DET\"]:\n",
    "    test=Lexeme(\"RAD\",cf,\"croc\").getParadigm(lignes=lignes,colonne=colonne)\n",
    "    test=test.reset_index().groupby(by=[\"Sg\",\"Du\",\"Pl\"]).agg(lambda x: \", \".join(set(x))).reset_index().set_index(lignes)\n",
    "    print cf\n",
    "    display(test)"
   ]
  },
  {
   "cell_type": "code",
   "execution_count": 21,
   "metadata": {},
   "outputs": [
    {
     "data": {
      "text/plain": [
       "{}"
      ]
     },
     "execution_count": 21,
     "metadata": {},
     "output_type": "execute_result"
    }
   ],
   "source": [
    "cat=\"N\"\n",
    "triLex={}\n",
    "for element in PFM.lexique.lexemes:\n",
    "#    print element\n",
    "    elementElts=element.split(\".\")\n",
    "    nom=elementElts[0]\n",
    "    if len(elementElts)==3:\n",
    "        if elementElts[1].startswith(cat):\n",
    "            if not elementElts[2] in triLex:\n",
    "                triLex[elementElts[2]]=set()\n",
    "            triLex[elementElts[2]].add((PFM.lexique.lexemes[element].stem,nom))            \n",
    "triLex"
   ]
  },
  {
   "cell_type": "code",
   "execution_count": 22,
   "metadata": {},
   "outputs": [
    {
     "name": "stdout",
     "output_type": "stream",
     "text": [
      "poisson.A.N2 geZaj\n",
      "main.B.N1 tajen\n",
      "courageux.A2 TeNum\n",
      "envahir.V2 najok\n",
      "transformer.V2 parap\n",
      "mort.B.N2 nonom\n",
      "trois.A1 deriNa\n",
      "sortir.V2 logar\n",
      "acheter.V1 buliza\n",
      "blessure.A.N3 nalus\n",
      "chercher.V1 kifir\n",
      "donner.V1 kusiT\n",
      "souris.C.N3 somal\n",
      "viande.A.N3 koZoN\n",
      "sort.C.N1 lojit\n",
      "lune.B.N3 nuriT\n",
      "être.V1 dalut\n",
      "visage.A.N2 zakem\n",
      "œuf.C.N1 gotar\n",
      "grand.A1 Zojem\n",
      "ENTRE but\n",
      "villageois.C.N3 pujaS\n",
      "apporter.V1 bawek\n",
      "jaune.A1 zamoN\n",
      "de tow\n",
      "infirmière.A.N1 Torol\n",
      "louve.B.N2 nimaru\n",
      "souffrance.C.N2 paZer\n",
      "villageoise.B.N2 Nikol\n",
      "profond.A1 nadir\n",
      "suivant.A2 Tajun\n",
      "disparaître.V2 voniS\n",
      "IND.ART k\n",
      "corps.C.N1 muZur\n",
      "thé.C.N3 noDep\n",
      "furieux.A1 surezi\n",
      "gros.A2 rakek\n",
      "coyote.A.N2 jurin\n",
      "rêvasser.V1 maber\n",
      "fuir.V1 luram\n",
      "quatre.A2 rujem\n",
      "pour ruS\n",
      "blessé.A1 rebin\n",
      "boire.V2 mename\n",
      "arriver.V2 samoj\n",
      "chambre.C.N1 lebaS\n",
      "Mahira.C.N1 maira\n",
      "aller.V2 puger\n",
      "Nicole.C.N2 nikol\n",
      "sur Sol\n",
      "enfant.hyper.C.N3 keZuNo\n",
      "milieu.B.N1 lenoma\n",
      "jeter.V1 bawuN\n",
      "dévorer.V1 geget\n",
      "Violette.B.N1 vjolet\n",
      "parler.V1 Sogap\n",
      "bas.A2 tarona\n",
      "sauter.V2 mulur\n",
      "soeur.C.N3 susen\n",
      "nuit.B.N3 wujoTl\n",
      "DEF.ART l\n",
      "voir.V2 toNoke\n",
      "loup.A.N1 godozi\n",
      "à vogi\n",
      "rouge.A1 miDun\n",
      "table.C.N2 dewiNi\n",
      "croc.B.N1 beran\n",
      "chef.A.N1 naboru\n",
      "avec suTi\n",
      "Nabil.A.N3 nabil\n",
      "combat.B.N2 mikif\n",
      "tomber.V1 Zodat\n",
      "serpent.C.N3 Tanor\n",
      "cri.B.N3 leNuN\n",
      "approcher.V2 nogada\n",
      "lueur.A.N1 rulud\n",
      "chasser.V1 keroj\n",
      "manger.V1 gamaN\n",
      "entrer.V1 mabuk\n",
      "gorge.C.N3 nekele\n",
      "dormir.V1 medur\n",
      "recouvrir.V1 lamut\n",
      "démon.A.N3 rusoj\n",
      "après fet\n",
      "courir.V2 leruN\n",
      "balai.C.N2 losum\n",
      "coussin.C.N3 SuweT\n",
      "prendre.V2 taNope\n",
      "homme.A.N2 foriT\n",
      "DEM.DEM b\n",
      "protéger.V2 tedep\n",
      "chasseur.B.N2 muraz\n",
      "autruche.B.N3 perik\n",
      "montrer.V1 Zadug\n",
      "plaine.B.N1 sirin\n",
      "combattant.B.N3 Todok\n",
      "arbre.B.N1 waDura\n",
      "devant fora\n",
      "pousser.V2 sarom\n",
      "petit.A2 linujo\n",
      "dans tuTi\n",
      "maigre.A1 Sowol\n",
      "sous jok\n",
      "noir.A2 pidir\n",
      "derrière Neb\n",
      "ombre.A.N3 vides\n",
      "Kaleb.C.N1 kaleb\n",
      "enfant.B.N1 tareli\n",
      "vers woreZa\n",
      "planter.V2 temune\n",
      "lance.C.N2 rujun\n",
      "forêt.A.N1 fazaS\n",
      "supporter.V2 tojoNu\n",
      "maison.C.N2 jelene\n",
      "rejoindre.V2 mugal\n",
      "chat.B.N2 libowe\n",
      "lit.B.N3 kirat\n",
      "chatte.C.N2 libow\n",
      "couteau.B.N2 lined\n",
      "effrayé.A2 vizer\n",
      "café.A.N2 woniju\n",
      "fruit.B.N1 Napil\n",
      "cuisine.A.N3 veras\n",
      "fille.A.N3 ZagoNo\n",
      "différent.A1 burin\n",
      "blanc.A1 giduro\n",
      "Katisha.A.N2 katiSa\n",
      "offrir.V1 kadow\n",
      "village.A.N2 duTur\n",
      "lancer.V2 lumpa\n",
      "transpercer.V2 piros\n",
      "colère.B.N3 takar\n",
      "coup.A.N1 kuleN\n",
      "passer.V2 lilej\n",
      "terrible.A2 digoru\n"
     ]
    }
   ],
   "source": [
    "for l in PFM.lexique.lexemes:\n",
    "    print l,PFM.lexique.lexemes[l].stem"
   ]
  },
  {
   "cell_type": "raw",
   "metadata": {},
   "source": [
    "temp=test.reset_index()\n",
    "temp[\"Nombre\"]=pd.Categorical(temp[\"Nombre\"],categories=[\"Sg\",\"Du\",\"Pl\"],ordered=True)\n",
    "temp.sort_values(\"Nombre\")"
   ]
  },
  {
   "cell_type": "code",
   "execution_count": 23,
   "metadata": {},
   "outputs": [],
   "source": [
    "ding()"
   ]
  }
 ],
 "metadata": {
  "kernelspec": {
   "display_name": "Python 2",
   "language": "python",
   "name": "python2"
  },
  "language_info": {
   "codemirror_mode": {
    "name": "ipython",
    "version": 2
   },
   "file_extension": ".py",
   "mimetype": "text/x-python",
   "name": "python",
   "nbconvert_exporter": "python",
   "pygments_lexer": "ipython2",
   "version": "2.7.16"
  }
 },
 "nbformat": 4,
 "nbformat_minor": 1
}

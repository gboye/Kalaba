{
 "cells": [
  {
   "cell_type": "markdown",
   "metadata": {},
   "source": [
    "# ParFuMor (version YAML & Objets)\n",
    "\n",
    "Attention les règles qui ne changent pas le radical donnent lieu à des mauvais découpages des formes..."
   ]
  },
  {
   "cell_type": "code",
   "execution_count": 121,
   "metadata": {},
   "outputs": [],
   "source": [
    "# -*- coding: utf8 -*-\n",
    "from os.path import expanduser\n",
    "import itertools\n",
    "import yaml,YamlDuplicates\n",
    "from yaml.constructor import ConstructorError\n",
    "import warnings\n",
    "import ParFuMor as PFM\n",
    "from ParFuMor import *\n",
    "import pickle"
   ]
  },
  {
   "cell_type": "code",
   "execution_count": 122,
   "metadata": {},
   "outputs": [],
   "source": [
    "home = expanduser(\"~\")\n",
    "repertoire=home+\"/ownCloud/Cours/Bordeaux/L1-LinguistiqueGenerale/Kalaba-Project/\"\n",
    "annee=\"17\"\n",
    "numerosKalabas=[1,2,3,4,5]\n",
    "numerosKalabas=[4]\n",
    "nomKalabas=[repertoire+annee+\"-K%d/\"%num for num in numerosKalabas]\n",
    "\n",
    "lexiqueTestPrep=u\"dans\"\n",
    "lexiqueTestNoun=u\"loups\"\n",
    "lexiqueTestHyper=u\"villagEOIs\""
   ]
  },
  {
   "cell_type": "code",
   "execution_count": 123,
   "metadata": {
    "scrolled": false
   },
   "outputs": [
    {
     "name": "stdout",
     "output_type": "stream",
     "text": [
      "\n",
      "/Users/gilles/ownCloud/Cours/Bordeaux/L1-LinguistiqueGenerale/Kalaba-Project/17-K4/\n",
      "ADJ : Genre Nombre\n",
      "NOM : Genre Nombre Cas\n",
      "DET : Nombre Genre Cas\n",
      "VER : Trans Temps Pers Genre\n",
      "head stems\n",
      "head stems,ADJ\n",
      "head stems,NOM\n",
      "head stems,NOM,N1\n",
      "head stems,NOM,N1,N12\n",
      "head stems,NOM,N1,N11\n",
      "head stems,NOM,N2\n",
      "head stems,NOM,N2,N22\n",
      "head stems,NOM,N2,N21\n",
      "head stems,VER\n",
      "head stems,VER,VI\n",
      "head stems,VER,VT\n",
      "head stems,VER,VD\n"
     ]
    }
   ],
   "source": [
    "PFM.duplicateErrors=[]\n",
    "for serie in nomKalabas:\n",
    "    print\n",
    "    print serie\n",
    "\n",
    "    with open(serie+\"Gloses.yaml\", 'r') as stream:\n",
    "        gloses=yaml.load(stream)\n",
    "        PFM.gloses=gloses\n",
    "    with open(serie+\"Stems.yaml\", 'r') as stream:\n",
    "        try:\n",
    "            stems=yaml.load(stream)\n",
    "            PFM.stems=stems\n",
    "        except ConstructorError,msg:\n",
    "            print msg\n",
    "            continue\n",
    "    with open(serie+\"Blocks.yaml\", 'r') as stream:\n",
    "        blocks=yaml.load(stream)\n",
    "        PFM.blocks=blocks\n",
    "    with open(serie+\"Phonology.yaml\", 'r') as stream:\n",
    "        phonology=yaml.load(stream)\n",
    "        PFM.phonology=phonology\n",
    "    with open(serie+\"MorphoSyntax.yaml\", 'r') as stream:\n",
    "        morphosyntax=yaml.load(stream)\n",
    "        PFM.morphosyntax=morphosyntax\n",
    "\n",
    "        \n",
    "    for cat in morphosyntax[\"Attributs\"]:\n",
    "        if sorted(morphosyntax[\"Attributs\"][cat])!=sorted(gloses[cat].keys()):\n",
    "            warnings.warn(\"\\n\"+serie+\"\\nLes attributs de %s ne sont pas cohérents\\nMorphosyntax => %s\\nGloses => %s\"%(cat,\", \".join(morphosyntax[\"Attributs\"][cat]),\", \".join(gloses[cat].keys())))\n",
    "    \n",
    "    regles=Regles()\n",
    "    PFM.regles=regles\n",
    "    for categorie in blocks:\n",
    "        regles.addBlocs(categorie,blocks[categorie])\n",
    "\n",
    "\n",
    "    paradigmes=Paradigmes()\n",
    "    PFM.paradigmes=paradigmes\n",
    "\n",
    "    hierarchieCF=HierarchieCF()\n",
    "    PFM.hierarchieCF=hierarchieCF\n",
    "    lexique=Lexique()\n",
    "    PFM.lexique=lexique\n",
    "\n",
    "\n",
    "    for cat in gloses:\n",
    "    #    print cat\n",
    "        attributes=[]\n",
    "        if gloses[cat]:\n",
    "            if set(gloses[cat].keys())==set(morphosyntax[\"Attributs\"][cat]):\n",
    "                features=morphosyntax[\"Attributs\"][cat]\n",
    "    #            print \"inhérent\",features\n",
    "            else:\n",
    "                features=gloses[cat].keys()\n",
    "    #            print \"contextuel\",features\n",
    "            for attribute in features:\n",
    "                attributes.append(gloses[cat][attribute])\n",
    "            nuplets=(itertools.product(*attributes))\n",
    "            for nuplet in nuplets:\n",
    "                proprietes=[cat]\n",
    "                for element in range(len(nuplet)):\n",
    "                    proprietes.append(u\"%s=%s\"%(features[element],nuplet[element]))\n",
    "                paradigmes.addForme(cat,proprietes)\n",
    "\n",
    "    analyserGloses(gloses)\n",
    "    analyserStems(stems)\n",
    "        \n",
    "    with open(serie+\"Hierarchie-S2.pkl\", 'wb') as output:\n",
    "       pickle.dump(hierarchieCF, output, pickle.HIGHEST_PROTOCOL)\n",
    "    with open(serie+\"Lexique-S2.pkl\", 'wb') as output:\n",
    "       pickle.dump(lexique, output, pickle.HIGHEST_PROTOCOL)\n",
    "    with open(serie+\"Regles-S2.pkl\", 'wb') as output:\n",
    "       pickle.dump(regles, output, pickle.HIGHEST_PROTOCOL)\n",
    "\n",
    "\n",
    "    PFM.lexique.lexemes[lexiqueTestPrep]\n",
    "\n",
    "    mot=lexiqueTestNoun\n",
    "    classesNom=PFM.lexique.formeLexeme[mot][0].split('.')[1:]\n",
    "    [classeElement for classeElement in classesNom if classeElement in gloses[\"NOM\"][\"Genre\"]]\n",
    "\n",
    "    PFM.lexique.formeLexeme[lexiqueTestHyper][0]\n",
    "\n",
    "if PFM.duplicateErrors:\n",
    "    print\n",
    "    print \"=======ERREURS========\"\n",
    "    print\n",
    "    for ligne in PFM.duplicateErrors:\n",
    "        print ligne\n"
   ]
  },
  {
   "cell_type": "code",
   "execution_count": 124,
   "metadata": {},
   "outputs": [
    {
     "name": "stdout",
     "output_type": "stream",
     "text": [
      "villageoise.N2.N21.D\n",
      "enfant.hyper.N1.N12.B\n",
      "croc.N1.N11.B\n"
     ]
    }
   ],
   "source": [
    "print PFM.lexique.formeLexeme[lexiqueTestHyper][0]\n",
    "print PFM.lexique.formeLexeme[u\"enfANT\"][0]\n",
    "print PFM.lexique.formeLexeme[u\"crocs\"][0]"
   ]
  },
  {
   "cell_type": "code",
   "execution_count": 125,
   "metadata": {},
   "outputs": [],
   "source": [
    "#paradigmes.getSigmas([\"NOM\"])"
   ]
  },
  {
   "cell_type": "code",
   "execution_count": 126,
   "metadata": {},
   "outputs": [
    {
     "data": {
      "text/plain": [
       "[('X+is', 'CF=N1, Nombre=Sg'), ('fa+X', 'CF=N1, Cas=Dat')]"
      ]
     },
     "execution_count": 126,
     "metadata": {},
     "output_type": "execute_result"
    }
   ],
   "source": [
    "regles.getRules(\"NOM\",'NOM, CF=N1, Genre=F, Nombre=Sg, Cas=Dat')"
   ]
  },
  {
   "cell_type": "code",
   "execution_count": 127,
   "metadata": {},
   "outputs": [
    {
     "name": "stdout",
     "output_type": "stream",
     "text": [
      "case NOM, CF=N2,  Genre=A, Nombre=Sg, Cas=Erg:\ttipaz\tessai\\cacherGloses{-N2.Sg}\ttip-az\t\\textRadical{tip}az\tradical: tip\tracine:  \n",
      "case NOM, CF=N2,  Genre=A, Nombre=Sg, Cas=Abs:\ttipaz\tessai\\cacherGloses{-N2.Sg}\ttip-az\t\\textRadical{tip}az\tradical: tip\tracine:  \n",
      "case NOM, CF=N2,  Genre=A, Nombre=Sg, Cas=Dat:\ttipaz\tessai\\cacherGloses{-N2.Sg}\ttip-az\t\\textRadical{tip}az\tradical: tip\tracine:  \n",
      "case NOM, CF=N2,  Genre=A, Nombre=Sg, Cas=Obl:\ttipaz\tessai\\cacherGloses{-N2.Sg}\ttip-az\t\\textRadical{tip}az\tradical: tip\tracine:  \n",
      "case NOM, CF=N2,  Genre=A, Nombre=Du, Cas=Erg:\ttoppap\tessai\\cacherGloses{xN2.Du}\tracine(tip)x1o23A3\t\\textRacineC{t}o\\textRacineC{p}\\textRacineC{p}a\\textRacineC{p}\tradical: tip\tracine: tppi tppi\n",
      "case NOM, CF=N2,  Genre=A, Nombre=Du, Cas=Abs:\ttoppap\tessai\\cacherGloses{xN2.Du}\tracine(tip)x1o23A3\t\\textRacineC{t}o\\textRacineC{p}\\textRacineC{p}a\\textRacineC{p}\tradical: tip\tracine: tppi tppi\n",
      "case NOM, CF=N2,  Genre=A, Nombre=Du, Cas=Dat:\ttoppap\tessai\\cacherGloses{xN2.Du}\tracine(tip)x1o23A3\t\\textRacineC{t}o\\textRacineC{p}\\textRacineC{p}a\\textRacineC{p}\tradical: tip\tracine: tppi tppi\n",
      "case NOM, CF=N2,  Genre=A, Nombre=Du, Cas=Obl:\ttoppap\tessai\\cacherGloses{xN2.Du}\tracine(tip)x1o23A3\t\\textRacineC{t}o\\textRacineC{p}\\textRacineC{p}a\\textRacineC{p}\tradical: tip\tracine: tppi tppi\n",
      "case NOM, CF=N2,  Genre=A, Nombre=Pl, Cas=Erg:\ttipan\tessai\\cacherGloses{-N2.Pl}\ttip-an\t\\textRadical{tip}an\tradical: tip\tracine:  \n",
      "case NOM, CF=N2,  Genre=A, Nombre=Pl, Cas=Abs:\ttipan\tessai\\cacherGloses{-N2.Pl}\ttip-an\t\\textRadical{tip}an\tradical: tip\tracine:  \n",
      "case NOM, CF=N2,  Genre=A, Nombre=Pl, Cas=Dat:\ttipan\tessai\\cacherGloses{-N2.Pl}\ttip-an\t\\textRadical{tip}an\tradical: tip\tracine:  \n",
      "case NOM, CF=N2,  Genre=A, Nombre=Pl, Cas=Obl:\ttipan\tessai\\cacherGloses{-N2.Pl}\ttip-an\t\\textRadical{tip}an\tradical: tip\tracine:  \n",
      "case NOM, CF=N2,  Genre=B, Nombre=Sg, Cas=Erg:\ttipaz\tessai\\cacherGloses{-N2.Sg}\ttip-az\t\\textRadical{tip}az\tradical: tip\tracine:  \n",
      "case NOM, CF=N2,  Genre=B, Nombre=Sg, Cas=Abs:\ttipaz\tessai\\cacherGloses{-N2.Sg}\ttip-az\t\\textRadical{tip}az\tradical: tip\tracine:  \n",
      "case NOM, CF=N2,  Genre=B, Nombre=Sg, Cas=Dat:\ttipaz\tessai\\cacherGloses{-N2.Sg}\ttip-az\t\\textRadical{tip}az\tradical: tip\tracine:  \n",
      "case NOM, CF=N2,  Genre=B, Nombre=Sg, Cas=Obl:\ttipaz\tessai\\cacherGloses{-N2.Sg}\ttip-az\t\\textRadical{tip}az\tradical: tip\tracine:  \n",
      "case NOM, CF=N2,  Genre=B, Nombre=Du, Cas=Erg:\ttoppap\tessai\\cacherGloses{xN2.Du}\tracine(tip)x1o23A3\t\\textRacineC{t}o\\textRacineC{p}\\textRacineC{p}a\\textRacineC{p}\tradical: tip\tracine: tppi tppi\n",
      "case NOM, CF=N2,  Genre=B, Nombre=Du, Cas=Abs:\ttoppap\tessai\\cacherGloses{xN2.Du}\tracine(tip)x1o23A3\t\\textRacineC{t}o\\textRacineC{p}\\textRacineC{p}a\\textRacineC{p}\tradical: tip\tracine: tppi tppi\n",
      "case NOM, CF=N2,  Genre=B, Nombre=Du, Cas=Dat:\ttoppap\tessai\\cacherGloses{xN2.Du}\tracine(tip)x1o23A3\t\\textRacineC{t}o\\textRacineC{p}\\textRacineC{p}a\\textRacineC{p}\tradical: tip\tracine: tppi tppi\n",
      "case NOM, CF=N2,  Genre=B, Nombre=Du, Cas=Obl:\ttoppap\tessai\\cacherGloses{xN2.Du}\tracine(tip)x1o23A3\t\\textRacineC{t}o\\textRacineC{p}\\textRacineC{p}a\\textRacineC{p}\tradical: tip\tracine: tppi tppi\n",
      "case NOM, CF=N2,  Genre=B, Nombre=Pl, Cas=Erg:\ttipan\tessai\\cacherGloses{-N2.Pl}\ttip-an\t\\textRadical{tip}an\tradical: tip\tracine:  \n",
      "case NOM, CF=N2,  Genre=B, Nombre=Pl, Cas=Abs:\ttipan\tessai\\cacherGloses{-N2.Pl}\ttip-an\t\\textRadical{tip}an\tradical: tip\tracine:  \n",
      "case NOM, CF=N2,  Genre=B, Nombre=Pl, Cas=Dat:\ttipan\tessai\\cacherGloses{-N2.Pl}\ttip-an\t\\textRadical{tip}an\tradical: tip\tracine:  \n",
      "case NOM, CF=N2,  Genre=B, Nombre=Pl, Cas=Obl:\ttipan\tessai\\cacherGloses{-N2.Pl}\ttip-an\t\\textRadical{tip}an\tradical: tip\tracine:  \n",
      "case NOM, CF=N2,  Genre=C, Nombre=Sg, Cas=Erg:\ttipaz\tessai\\cacherGloses{-N2.Sg}\ttip-az\t\\textRadical{tip}az\tradical: tip\tracine:  \n",
      "case NOM, CF=N2,  Genre=C, Nombre=Sg, Cas=Abs:\ttipaz\tessai\\cacherGloses{-N2.Sg}\ttip-az\t\\textRadical{tip}az\tradical: tip\tracine:  \n",
      "case NOM, CF=N2,  Genre=C, Nombre=Sg, Cas=Dat:\ttipaz\tessai\\cacherGloses{-N2.Sg}\ttip-az\t\\textRadical{tip}az\tradical: tip\tracine:  \n",
      "case NOM, CF=N2,  Genre=C, Nombre=Sg, Cas=Obl:\ttipaz\tessai\\cacherGloses{-N2.Sg}\ttip-az\t\\textRadical{tip}az\tradical: tip\tracine:  \n",
      "case NOM, CF=N2,  Genre=C, Nombre=Du, Cas=Erg:\ttoppap\tessai\\cacherGloses{xN2.Du}\tracine(tip)x1o23A3\t\\textRacineC{t}o\\textRacineC{p}\\textRacineC{p}a\\textRacineC{p}\tradical: tip\tracine: tppi tppi\n",
      "case NOM, CF=N2,  Genre=C, Nombre=Du, Cas=Abs:\ttoppap\tessai\\cacherGloses{xN2.Du}\tracine(tip)x1o23A3\t\\textRacineC{t}o\\textRacineC{p}\\textRacineC{p}a\\textRacineC{p}\tradical: tip\tracine: tppi tppi\n",
      "case NOM, CF=N2,  Genre=C, Nombre=Du, Cas=Dat:\ttoppap\tessai\\cacherGloses{xN2.Du}\tracine(tip)x1o23A3\t\\textRacineC{t}o\\textRacineC{p}\\textRacineC{p}a\\textRacineC{p}\tradical: tip\tracine: tppi tppi\n",
      "case NOM, CF=N2,  Genre=C, Nombre=Du, Cas=Obl:\ttoppap\tessai\\cacherGloses{xN2.Du}\tracine(tip)x1o23A3\t\\textRacineC{t}o\\textRacineC{p}\\textRacineC{p}a\\textRacineC{p}\tradical: tip\tracine: tppi tppi\n",
      "case NOM, CF=N2,  Genre=C, Nombre=Pl, Cas=Erg:\ttipan\tessai\\cacherGloses{-N2.Pl}\ttip-an\t\\textRadical{tip}an\tradical: tip\tracine:  \n",
      "case NOM, CF=N2,  Genre=C, Nombre=Pl, Cas=Abs:\ttipan\tessai\\cacherGloses{-N2.Pl}\ttip-an\t\\textRadical{tip}an\tradical: tip\tracine:  \n",
      "case NOM, CF=N2,  Genre=C, Nombre=Pl, Cas=Dat:\ttipan\tessai\\cacherGloses{-N2.Pl}\ttip-an\t\\textRadical{tip}an\tradical: tip\tracine:  \n",
      "case NOM, CF=N2,  Genre=C, Nombre=Pl, Cas=Obl:\ttipan\tessai\\cacherGloses{-N2.Pl}\ttip-an\t\\textRadical{tip}an\tradical: tip\tracine:  \n",
      "case NOM, CF=N2,  Genre=D, Nombre=Sg, Cas=Erg:\ttipaz\tessai\\cacherGloses{-N2.Sg}\ttip-az\t\\textRadical{tip}az\tradical: tip\tracine:  \n",
      "case NOM, CF=N2,  Genre=D, Nombre=Sg, Cas=Abs:\ttipaz\tessai\\cacherGloses{-N2.Sg}\ttip-az\t\\textRadical{tip}az\tradical: tip\tracine:  \n",
      "case NOM, CF=N2,  Genre=D, Nombre=Sg, Cas=Dat:\ttipaz\tessai\\cacherGloses{-N2.Sg}\ttip-az\t\\textRadical{tip}az\tradical: tip\tracine:  \n",
      "case NOM, CF=N2,  Genre=D, Nombre=Sg, Cas=Obl:\ttipaz\tessai\\cacherGloses{-N2.Sg}\ttip-az\t\\textRadical{tip}az\tradical: tip\tracine:  \n",
      "case NOM, CF=N2,  Genre=D, Nombre=Du, Cas=Erg:\ttoppap\tessai\\cacherGloses{xN2.Du}\tracine(tip)x1o23A3\t\\textRacineC{t}o\\textRacineC{p}\\textRacineC{p}a\\textRacineC{p}\tradical: tip\tracine: tppi tppi\n",
      "case NOM, CF=N2,  Genre=D, Nombre=Du, Cas=Abs:\ttoppap\tessai\\cacherGloses{xN2.Du}\tracine(tip)x1o23A3\t\\textRacineC{t}o\\textRacineC{p}\\textRacineC{p}a\\textRacineC{p}\tradical: tip\tracine: tppi tppi\n",
      "case NOM, CF=N2,  Genre=D, Nombre=Du, Cas=Dat:\ttoppap\tessai\\cacherGloses{xN2.Du}\tracine(tip)x1o23A3\t\\textRacineC{t}o\\textRacineC{p}\\textRacineC{p}a\\textRacineC{p}\tradical: tip\tracine: tppi tppi\n",
      "case NOM, CF=N2,  Genre=D, Nombre=Du, Cas=Obl:\ttoppap\tessai\\cacherGloses{xN2.Du}\tracine(tip)x1o23A3\t\\textRacineC{t}o\\textRacineC{p}\\textRacineC{p}a\\textRacineC{p}\tradical: tip\tracine: tppi tppi\n",
      "case NOM, CF=N2,  Genre=D, Nombre=Pl, Cas=Erg:\ttipan\tessai\\cacherGloses{-N2.Pl}\ttip-an\t\\textRadical{tip}an\tradical: tip\tracine:  \n",
      "case NOM, CF=N2,  Genre=D, Nombre=Pl, Cas=Abs:\ttipan\tessai\\cacherGloses{-N2.Pl}\ttip-an\t\\textRadical{tip}an\tradical: tip\tracine:  \n",
      "case NOM, CF=N2,  Genre=D, Nombre=Pl, Cas=Dat:\ttipan\tessai\\cacherGloses{-N2.Pl}\ttip-an\t\\textRadical{tip}an\tradical: tip\tracine:  \n",
      "case NOM, CF=N2,  Genre=D, Nombre=Pl, Cas=Obl:\ttipan\tessai\\cacherGloses{-N2.Pl}\ttip-an\t\\textRadical{tip}an\tradical: tip\tracine:  \n"
     ]
    },
    {
     "data": {
      "text/plain": [
       "tip, N2, essai\n",
       "\t\ttip :\n",
       "\t\t\tNOM, CF=N2,  Genre=A, Nombre=Sg, Cas=Erg:\ttipaz\tessai\\cacherGloses{-N2.Sg}\ttip-az\t\\textRadical{tip}az\tradical: tip\tracine: \n",
       "\t\t\tNOM, CF=N2,  Genre=A, Nombre=Sg, Cas=Abs:\ttipaz\tessai\\cacherGloses{-N2.Sg}\ttip-az\t\\textRadical{tip}az\tradical: tip\tracine: \n",
       "\t\t\tNOM, CF=N2,  Genre=A, Nombre=Sg, Cas=Dat:\ttipaz\tessai\\cacherGloses{-N2.Sg}\ttip-az\t\\textRadical{tip}az\tradical: tip\tracine: \n",
       "\t\t\tNOM, CF=N2,  Genre=A, Nombre=Sg, Cas=Obl:\ttipaz\tessai\\cacherGloses{-N2.Sg}\ttip-az\t\\textRadical{tip}az\tradical: tip\tracine: \n",
       "\t\t\tNOM, CF=N2,  Genre=A, Nombre=Du, Cas=Erg:\ttoppap\tessai\\cacherGloses{xN2.Du}\tracine(tip)x1o23A3\t\\textRacineC{t}o\\textRacineC{p}\\textRacineC{p}a\\textRacineC{p}\tradical: tip\tracine: tppi\n",
       "\t\t\tNOM, CF=N2,  Genre=A, Nombre=Du, Cas=Abs:\ttoppap\tessai\\cacherGloses{xN2.Du}\tracine(tip)x1o23A3\t\\textRacineC{t}o\\textRacineC{p}\\textRacineC{p}a\\textRacineC{p}\tradical: tip\tracine: tppi\n",
       "\t\t\tNOM, CF=N2,  Genre=A, Nombre=Du, Cas=Dat:\ttoppap\tessai\\cacherGloses{xN2.Du}\tracine(tip)x1o23A3\t\\textRacineC{t}o\\textRacineC{p}\\textRacineC{p}a\\textRacineC{p}\tradical: tip\tracine: tppi\n",
       "\t\t\tNOM, CF=N2,  Genre=A, Nombre=Du, Cas=Obl:\ttoppap\tessai\\cacherGloses{xN2.Du}\tracine(tip)x1o23A3\t\\textRacineC{t}o\\textRacineC{p}\\textRacineC{p}a\\textRacineC{p}\tradical: tip\tracine: tppi\n",
       "\t\t\tNOM, CF=N2,  Genre=A, Nombre=Pl, Cas=Erg:\ttipan\tessai\\cacherGloses{-N2.Pl}\ttip-an\t\\textRadical{tip}an\tradical: tip\tracine: \n",
       "\t\t\tNOM, CF=N2,  Genre=A, Nombre=Pl, Cas=Abs:\ttipan\tessai\\cacherGloses{-N2.Pl}\ttip-an\t\\textRadical{tip}an\tradical: tip\tracine: \n",
       "\t\t\tNOM, CF=N2,  Genre=A, Nombre=Pl, Cas=Dat:\ttipan\tessai\\cacherGloses{-N2.Pl}\ttip-an\t\\textRadical{tip}an\tradical: tip\tracine: \n",
       "\t\t\tNOM, CF=N2,  Genre=A, Nombre=Pl, Cas=Obl:\ttipan\tessai\\cacherGloses{-N2.Pl}\ttip-an\t\\textRadical{tip}an\tradical: tip\tracine: \n",
       "\t\t\tNOM, CF=N2,  Genre=B, Nombre=Sg, Cas=Erg:\ttipaz\tessai\\cacherGloses{-N2.Sg}\ttip-az\t\\textRadical{tip}az\tradical: tip\tracine: \n",
       "\t\t\tNOM, CF=N2,  Genre=B, Nombre=Sg, Cas=Abs:\ttipaz\tessai\\cacherGloses{-N2.Sg}\ttip-az\t\\textRadical{tip}az\tradical: tip\tracine: \n",
       "\t\t\tNOM, CF=N2,  Genre=B, Nombre=Sg, Cas=Dat:\ttipaz\tessai\\cacherGloses{-N2.Sg}\ttip-az\t\\textRadical{tip}az\tradical: tip\tracine: \n",
       "\t\t\tNOM, CF=N2,  Genre=B, Nombre=Sg, Cas=Obl:\ttipaz\tessai\\cacherGloses{-N2.Sg}\ttip-az\t\\textRadical{tip}az\tradical: tip\tracine: \n",
       "\t\t\tNOM, CF=N2,  Genre=B, Nombre=Du, Cas=Erg:\ttoppap\tessai\\cacherGloses{xN2.Du}\tracine(tip)x1o23A3\t\\textRacineC{t}o\\textRacineC{p}\\textRacineC{p}a\\textRacineC{p}\tradical: tip\tracine: tppi\n",
       "\t\t\tNOM, CF=N2,  Genre=B, Nombre=Du, Cas=Abs:\ttoppap\tessai\\cacherGloses{xN2.Du}\tracine(tip)x1o23A3\t\\textRacineC{t}o\\textRacineC{p}\\textRacineC{p}a\\textRacineC{p}\tradical: tip\tracine: tppi\n",
       "\t\t\tNOM, CF=N2,  Genre=B, Nombre=Du, Cas=Dat:\ttoppap\tessai\\cacherGloses{xN2.Du}\tracine(tip)x1o23A3\t\\textRacineC{t}o\\textRacineC{p}\\textRacineC{p}a\\textRacineC{p}\tradical: tip\tracine: tppi\n",
       "\t\t\tNOM, CF=N2,  Genre=B, Nombre=Du, Cas=Obl:\ttoppap\tessai\\cacherGloses{xN2.Du}\tracine(tip)x1o23A3\t\\textRacineC{t}o\\textRacineC{p}\\textRacineC{p}a\\textRacineC{p}\tradical: tip\tracine: tppi\n",
       "\t\t\tNOM, CF=N2,  Genre=B, Nombre=Pl, Cas=Erg:\ttipan\tessai\\cacherGloses{-N2.Pl}\ttip-an\t\\textRadical{tip}an\tradical: tip\tracine: \n",
       "\t\t\tNOM, CF=N2,  Genre=B, Nombre=Pl, Cas=Abs:\ttipan\tessai\\cacherGloses{-N2.Pl}\ttip-an\t\\textRadical{tip}an\tradical: tip\tracine: \n",
       "\t\t\tNOM, CF=N2,  Genre=B, Nombre=Pl, Cas=Dat:\ttipan\tessai\\cacherGloses{-N2.Pl}\ttip-an\t\\textRadical{tip}an\tradical: tip\tracine: \n",
       "\t\t\tNOM, CF=N2,  Genre=B, Nombre=Pl, Cas=Obl:\ttipan\tessai\\cacherGloses{-N2.Pl}\ttip-an\t\\textRadical{tip}an\tradical: tip\tracine: \n",
       "\t\t\tNOM, CF=N2,  Genre=C, Nombre=Sg, Cas=Erg:\ttipaz\tessai\\cacherGloses{-N2.Sg}\ttip-az\t\\textRadical{tip}az\tradical: tip\tracine: \n",
       "\t\t\tNOM, CF=N2,  Genre=C, Nombre=Sg, Cas=Abs:\ttipaz\tessai\\cacherGloses{-N2.Sg}\ttip-az\t\\textRadical{tip}az\tradical: tip\tracine: \n",
       "\t\t\tNOM, CF=N2,  Genre=C, Nombre=Sg, Cas=Dat:\ttipaz\tessai\\cacherGloses{-N2.Sg}\ttip-az\t\\textRadical{tip}az\tradical: tip\tracine: \n",
       "\t\t\tNOM, CF=N2,  Genre=C, Nombre=Sg, Cas=Obl:\ttipaz\tessai\\cacherGloses{-N2.Sg}\ttip-az\t\\textRadical{tip}az\tradical: tip\tracine: \n",
       "\t\t\tNOM, CF=N2,  Genre=C, Nombre=Du, Cas=Erg:\ttoppap\tessai\\cacherGloses{xN2.Du}\tracine(tip)x1o23A3\t\\textRacineC{t}o\\textRacineC{p}\\textRacineC{p}a\\textRacineC{p}\tradical: tip\tracine: tppi\n",
       "\t\t\tNOM, CF=N2,  Genre=C, Nombre=Du, Cas=Abs:\ttoppap\tessai\\cacherGloses{xN2.Du}\tracine(tip)x1o23A3\t\\textRacineC{t}o\\textRacineC{p}\\textRacineC{p}a\\textRacineC{p}\tradical: tip\tracine: tppi\n",
       "\t\t\tNOM, CF=N2,  Genre=C, Nombre=Du, Cas=Dat:\ttoppap\tessai\\cacherGloses{xN2.Du}\tracine(tip)x1o23A3\t\\textRacineC{t}o\\textRacineC{p}\\textRacineC{p}a\\textRacineC{p}\tradical: tip\tracine: tppi\n",
       "\t\t\tNOM, CF=N2,  Genre=C, Nombre=Du, Cas=Obl:\ttoppap\tessai\\cacherGloses{xN2.Du}\tracine(tip)x1o23A3\t\\textRacineC{t}o\\textRacineC{p}\\textRacineC{p}a\\textRacineC{p}\tradical: tip\tracine: tppi\n",
       "\t\t\tNOM, CF=N2,  Genre=C, Nombre=Pl, Cas=Erg:\ttipan\tessai\\cacherGloses{-N2.Pl}\ttip-an\t\\textRadical{tip}an\tradical: tip\tracine: \n",
       "\t\t\tNOM, CF=N2,  Genre=C, Nombre=Pl, Cas=Abs:\ttipan\tessai\\cacherGloses{-N2.Pl}\ttip-an\t\\textRadical{tip}an\tradical: tip\tracine: \n",
       "\t\t\tNOM, CF=N2,  Genre=C, Nombre=Pl, Cas=Dat:\ttipan\tessai\\cacherGloses{-N2.Pl}\ttip-an\t\\textRadical{tip}an\tradical: tip\tracine: \n",
       "\t\t\tNOM, CF=N2,  Genre=C, Nombre=Pl, Cas=Obl:\ttipan\tessai\\cacherGloses{-N2.Pl}\ttip-an\t\\textRadical{tip}an\tradical: tip\tracine: \n",
       "\t\t\tNOM, CF=N2,  Genre=D, Nombre=Sg, Cas=Erg:\ttipaz\tessai\\cacherGloses{-N2.Sg}\ttip-az\t\\textRadical{tip}az\tradical: tip\tracine: \n",
       "\t\t\tNOM, CF=N2,  Genre=D, Nombre=Sg, Cas=Abs:\ttipaz\tessai\\cacherGloses{-N2.Sg}\ttip-az\t\\textRadical{tip}az\tradical: tip\tracine: \n",
       "\t\t\tNOM, CF=N2,  Genre=D, Nombre=Sg, Cas=Dat:\ttipaz\tessai\\cacherGloses{-N2.Sg}\ttip-az\t\\textRadical{tip}az\tradical: tip\tracine: \n",
       "\t\t\tNOM, CF=N2,  Genre=D, Nombre=Sg, Cas=Obl:\ttipaz\tessai\\cacherGloses{-N2.Sg}\ttip-az\t\\textRadical{tip}az\tradical: tip\tracine: \n",
       "\t\t\tNOM, CF=N2,  Genre=D, Nombre=Du, Cas=Erg:\ttoppap\tessai\\cacherGloses{xN2.Du}\tracine(tip)x1o23A3\t\\textRacineC{t}o\\textRacineC{p}\\textRacineC{p}a\\textRacineC{p}\tradical: tip\tracine: tppi\n",
       "\t\t\tNOM, CF=N2,  Genre=D, Nombre=Du, Cas=Abs:\ttoppap\tessai\\cacherGloses{xN2.Du}\tracine(tip)x1o23A3\t\\textRacineC{t}o\\textRacineC{p}\\textRacineC{p}a\\textRacineC{p}\tradical: tip\tracine: tppi\n",
       "\t\t\tNOM, CF=N2,  Genre=D, Nombre=Du, Cas=Dat:\ttoppap\tessai\\cacherGloses{xN2.Du}\tracine(tip)x1o23A3\t\\textRacineC{t}o\\textRacineC{p}\\textRacineC{p}a\\textRacineC{p}\tradical: tip\tracine: tppi\n",
       "\t\t\tNOM, CF=N2,  Genre=D, Nombre=Du, Cas=Obl:\ttoppap\tessai\\cacherGloses{xN2.Du}\tracine(tip)x1o23A3\t\\textRacineC{t}o\\textRacineC{p}\\textRacineC{p}a\\textRacineC{p}\tradical: tip\tracine: tppi\n",
       "\t\t\tNOM, CF=N2,  Genre=D, Nombre=Pl, Cas=Erg:\ttipan\tessai\\cacherGloses{-N2.Pl}\ttip-an\t\\textRadical{tip}an\tradical: tip\tracine: \n",
       "\t\t\tNOM, CF=N2,  Genre=D, Nombre=Pl, Cas=Abs:\ttipan\tessai\\cacherGloses{-N2.Pl}\ttip-an\t\\textRadical{tip}an\tradical: tip\tracine: \n",
       "\t\t\tNOM, CF=N2,  Genre=D, Nombre=Pl, Cas=Dat:\ttipan\tessai\\cacherGloses{-N2.Pl}\ttip-an\t\\textRadical{tip}an\tradical: tip\tracine: \n",
       "\t\t\tNOM, CF=N2,  Genre=D, Nombre=Pl, Cas=Obl:\ttipan\tessai\\cacherGloses{-N2.Pl}\ttip-an\t\\textRadical{tip}an\tradical: tip\tracine: "
      ]
     },
     "execution_count": 127,
     "metadata": {},
     "output_type": "execute_result"
    }
   ],
   "source": [
    "Lexeme(\"tip\",\"N2\",\"essai\")"
   ]
  },
  {
   "cell_type": "raw",
   "metadata": {},
   "source": [
    "for element in PFM.lexique.vedettes:\n",
    "    print element"
   ]
  },
  {
   "cell_type": "code",
   "execution_count": null,
   "metadata": {
    "collapsed": true
   },
   "outputs": [],
   "source": []
  }
 ],
 "metadata": {
  "kernelspec": {
   "display_name": "Python 2",
   "language": "python",
   "name": "python2"
  },
  "language_info": {
   "codemirror_mode": {
    "name": "ipython",
    "version": 2
   },
   "file_extension": ".py",
   "mimetype": "text/x-python",
   "name": "python",
   "nbconvert_exporter": "python",
   "pygments_lexer": "ipython2",
   "version": "2.7.11"
  }
 },
 "nbformat": 4,
 "nbformat_minor": 1
}

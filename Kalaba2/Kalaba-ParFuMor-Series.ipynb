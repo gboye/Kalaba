{
 "cells": [
  {
   "cell_type": "markdown",
   "metadata": {},
   "source": [
    "# ParFuMor (version YAML & Objets)\n",
    "\n",
    "Attention les règles qui ne changent pas le radical donnent lieu à des mauvais découpages des formes..."
   ]
  },
  {
   "cell_type": "code",
   "execution_count": 43,
   "metadata": {
    "collapsed": false
   },
   "outputs": [],
   "source": [
    "# -*- coding: utf8 -*-\n",
    "from os.path import expanduser\n",
    "import itertools\n",
    "import yaml,YamlDuplicates\n",
    "from yaml.constructor import ConstructorError\n",
    "import warnings\n",
    "import ParFuMor as PFM\n",
    "from ParFuMor import *\n",
    "import pickle"
   ]
  },
  {
   "cell_type": "code",
   "execution_count": 44,
   "metadata": {
    "collapsed": false
   },
   "outputs": [],
   "source": [
    "home = expanduser(\"~\")\n",
    "repertoire=home+\"/ownCloud/Cours/Bordeaux/L1-LinguistiqueGenerale/Kalaba-Project/\"\n",
    "numerosKalabas=[1,2,3,4,5]\n",
    "numerosKalabas=[3]\n",
    "nomKalabas=[repertoire+\"16-K%d/\"%num for num in numerosKalabas]\n",
    "\n",
    "lexiqueTestPrep=u\"dans\"\n",
    "lexiqueTestNoun=u\"loups\"\n",
    "lexiqueTestHyper=u\"villagEOIs\""
   ]
  },
  {
   "cell_type": "code",
   "execution_count": 45,
   "metadata": {
    "collapsed": false,
    "scrolled": false
   },
   "outputs": [
    {
     "name": "stdout",
     "output_type": "stream",
     "text": [
      "\n",
      "/Users/gilles/ownCloud/Cours/Bordeaux/L1-LinguistiqueGenerale/Kalaba-Project/16-K3/\n",
      "ADJ : Genre Nombre\n",
      "NOM : Genre Nombre Cas\n",
      "DET : Genre Nombre Cas\n",
      "VER : Trans Temps Pers Genre Nombre\n",
      "head stems\n",
      "head stems,ADJ\n",
      "head stems,NOM\n",
      "head stems,NOM,A\n",
      "head stems,NOM,C\n",
      "head stems,NOM,B\n",
      "head stems,NOM,D\n",
      "head stems,DET\n",
      "head stems,VER\n",
      "head stems,VER,V1\n",
      "head stems,VER,V2\n"
     ]
    }
   ],
   "source": [
    "PFM.duplicateErrors=[]\n",
    "for serie in nomKalabas:\n",
    "    print\n",
    "    print serie\n",
    "\n",
    "    with open(serie+\"Gloses.yaml\", 'r') as stream:\n",
    "        gloses=yaml.load(stream)\n",
    "        PFM.gloses=gloses\n",
    "    with open(serie+\"Stems.yaml\", 'r') as stream:\n",
    "        try:\n",
    "            stems=yaml.load(stream)\n",
    "            PFM.stems=stems\n",
    "        except ConstructorError,msg:\n",
    "            print msg\n",
    "            continue\n",
    "    with open(serie+\"Blocks.yaml\", 'r') as stream:\n",
    "        blocks=yaml.load(stream)\n",
    "        PFM.blocks=blocks\n",
    "    with open(serie+\"Phonology.yaml\", 'r') as stream:\n",
    "        phonology=yaml.load(stream)\n",
    "        PFM.phonology=phonology\n",
    "    with open(serie+\"MorphoSyntax.yaml\", 'r') as stream:\n",
    "        morphosyntax=yaml.load(stream)\n",
    "        PFM.morphosyntax=morphosyntax\n",
    "\n",
    "        \n",
    "    for cat in morphosyntax[\"Attributs\"]:\n",
    "        if sorted(morphosyntax[\"Attributs\"][cat])!=sorted(gloses[cat].keys()):\n",
    "            warnings.warn(\"\\n\"+serie+\"\\nLes attributs de %s ne sont pas cohérents\\nMorphosyntax => %s\\nGloses => %s\"%(cat,\", \".join(morphosyntax[\"Attributs\"][cat]),\", \".join(gloses[cat].keys())))\n",
    "    \n",
    "    regles=Regles()\n",
    "    PFM.regles=regles\n",
    "    for categorie in blocks:\n",
    "        regles.addBlocs(categorie,blocks[categorie])\n",
    "\n",
    "\n",
    "    paradigmes=Paradigmes()\n",
    "    PFM.paradigmes=paradigmes\n",
    "\n",
    "    hierarchieCF=HierarchieCF()\n",
    "    PFM.hierarchieCF=hierarchieCF\n",
    "    lexique=Lexique()\n",
    "    PFM.lexique=lexique\n",
    "\n",
    "\n",
    "    for cat in gloses:\n",
    "    #    print cat\n",
    "        attributes=[]\n",
    "        if gloses[cat]:\n",
    "            if set(gloses[cat].keys())==set(morphosyntax[\"Attributs\"][cat]):\n",
    "                features=morphosyntax[\"Attributs\"][cat]\n",
    "    #            print \"inhérent\",features\n",
    "            else:\n",
    "                features=gloses[cat].keys()\n",
    "    #            print \"contextuel\",features\n",
    "            for attribute in features:\n",
    "                attributes.append(gloses[cat][attribute])\n",
    "            nuplets=(itertools.product(*attributes))\n",
    "            for nuplet in nuplets:\n",
    "                proprietes=[cat]\n",
    "                for element in range(len(nuplet)):\n",
    "                    proprietes.append(u\"%s=%s\"%(features[element],nuplet[element]))\n",
    "                paradigmes.addForme(cat,proprietes)\n",
    "\n",
    "    analyserGloses(gloses)\n",
    "    analyserStems(stems)\n",
    "        \n",
    "    with open(serie+\"Hierarchie-S2.pkl\", 'wb') as output:\n",
    "       pickle.dump(hierarchieCF, output, pickle.HIGHEST_PROTOCOL)\n",
    "    with open(serie+\"Lexique-S2.pkl\", 'wb') as output:\n",
    "       pickle.dump(lexique, output, pickle.HIGHEST_PROTOCOL)\n",
    "    with open(serie+\"Regles-S2.pkl\", 'wb') as output:\n",
    "       pickle.dump(regles, output, pickle.HIGHEST_PROTOCOL)\n",
    "\n",
    "\n",
    "    PFM.lexique.lexemes[lexiqueTestPrep]\n",
    "\n",
    "    mot=lexiqueTestNoun\n",
    "    classesNom=PFM.lexique.formeLexeme[mot][0].split('.')[1:]\n",
    "    [classeElement for classeElement in classesNom if classeElement in gloses[\"NOM\"][\"Genre\"]]\n",
    "\n",
    "    PFM.lexique.formeLexeme[lexiqueTestHyper][0]\n",
    "\n",
    "if PFM.duplicateErrors:\n",
    "    print\n",
    "    print \"=======ERREURS========\"\n",
    "    print\n",
    "    for ligne in PFM.duplicateErrors:\n",
    "        print ligne\n"
   ]
  },
  {
   "cell_type": "code",
   "execution_count": 50,
   "metadata": {
    "collapsed": false
   },
   "outputs": [
    {
     "name": "stdout",
     "output_type": "stream",
     "text": [
      "villageoise.D.N2\n",
      "enfant.hyper.B.N3\n",
      "croc.B.N1\n"
     ]
    }
   ],
   "source": [
    "print PFM.lexique.formeLexeme[lexiqueTestHyper][0]\n",
    "print PFM.lexique.formeLexeme[u\"enfANT\"][0]\n",
    "print PFM.lexique.formeLexeme[u\"crocs\"][0]"
   ]
  },
  {
   "cell_type": "code",
   "execution_count": 47,
   "metadata": {
    "collapsed": false
   },
   "outputs": [],
   "source": [
    "#paradigmes.getSigmas([\"NOM\"])"
   ]
  },
  {
   "cell_type": "code",
   "execution_count": 48,
   "metadata": {
    "collapsed": false
   },
   "outputs": [
    {
     "data": {
      "text/plain": [
       "[('X+da', 'Cas=Dat, CF=N1'), ('X+s', 'Nombre=Sg, CF=N1')]"
      ]
     },
     "execution_count": 48,
     "metadata": {},
     "output_type": "execute_result"
    }
   ],
   "source": [
    "regles.getRules(\"NOM\",'NOM, CF=N1, Genre=F, Nombre=Sg, Cas=Dat')"
   ]
  },
  {
   "cell_type": "code",
   "execution_count": 49,
   "metadata": {
    "collapsed": false
   },
   "outputs": [
    {
     "name": "stdout",
     "output_type": "stream",
     "text": [
      "case NOM, CF=N2,  Genre=A, Nombre=Sg, Cas=Nom:\ttipnog\tessai\\cacherGloses{-Nom.N2}\\cacherGloses{-Sg.N2}\ttip-no-g\t\\textRadical{tip}nog\tradical: tip\tracine:  \n",
      "case NOM, CF=N2,  Genre=A, Nombre=Sg, Cas=Acc:\ttipkag\tessai\\cacherGloses{-Acc.N2}\\cacherGloses{-Sg.N2}\ttip-ka-g\t\\textRadical{tip}kag\tradical: tip\tracine:  \n",
      "case NOM, CF=N2,  Genre=A, Nombre=Sg, Cas=Dat:\tdatipg\t\\cacherGloses{Dat.N2-}essai\\cacherGloses{-Sg.N2}\tda-tip-g\tda\\textRadical{tip}g\tradical: tip\tracine:  \n",
      "case NOM, CF=N2,  Genre=A, Nombre=Sg, Cas=Obl:\ttiplog\tessai\\cacherGloses{-Obl.N2}\\cacherGloses{-Sg.N2}\ttip-lo-g\t\\textRadical{tip}log\tradical: tip\tracine:  \n",
      "case NOM, CF=N2,  Genre=A, Nombre=Du, Cas=Nom:\ttipnop\tessai\\cacherGloses{-Nom.N2}\\cacherGloses{-Du.N2}\ttip-no-p\t\\textRadical{tip}nop\tradical: tip\tracine:  \n",
      "case NOM, CF=N2,  Genre=A, Nombre=Du, Cas=Acc:\ttipkap\tessai\\cacherGloses{-Acc.N2}\\cacherGloses{-Du.N2}\ttip-ka-p\t\\textRadical{tip}kap\tradical: tip\tracine:  \n",
      "case NOM, CF=N2,  Genre=A, Nombre=Du, Cas=Dat:\tdatipp\t\\cacherGloses{Dat.N2-}essai\\cacherGloses{-Du.N2}\tda-tip-p\tda\\textRadical{tip}p\tradical: tip\tracine:  \n",
      "case NOM, CF=N2,  Genre=A, Nombre=Du, Cas=Obl:\ttiplop\tessai\\cacherGloses{-Obl.N2}\\cacherGloses{-Du.N2}\ttip-lo-p\t\\textRadical{tip}lop\tradical: tip\tracine:  \n",
      "case NOM, CF=N2,  Genre=A, Nombre=Pl, Cas=Nom:\ttipnon\tessai\\cacherGloses{-Nom.N2}\\cacherGloses{-Pl.N2}\ttip-no-n\t\\textRadical{tip}non\tradical: tip\tracine:  \n",
      "case NOM, CF=N2,  Genre=A, Nombre=Pl, Cas=Acc:\ttipkan\tessai\\cacherGloses{-Acc.N2}\\cacherGloses{-Pl.N2}\ttip-ka-n\t\\textRadical{tip}kan\tradical: tip\tracine:  \n",
      "case NOM, CF=N2,  Genre=A, Nombre=Pl, Cas=Dat:\tdatipn\t\\cacherGloses{Dat.N2-}essai\\cacherGloses{-Pl.N2}\tda-tip-n\tda\\textRadical{tip}n\tradical: tip\tracine:  \n",
      "case NOM, CF=N2,  Genre=A, Nombre=Pl, Cas=Obl:\ttiplon\tessai\\cacherGloses{-Obl.N2}\\cacherGloses{-Pl.N2}\ttip-lo-n\t\\textRadical{tip}lon\tradical: tip\tracine:  \n",
      "case NOM, CF=N2,  Genre=B, Nombre=Sg, Cas=Nom:\ttipnog\tessai\\cacherGloses{-Nom.N2}\\cacherGloses{-Sg.N2}\ttip-no-g\t\\textRadical{tip}nog\tradical: tip\tracine:  \n",
      "case NOM, CF=N2,  Genre=B, Nombre=Sg, Cas=Acc:\ttipkag\tessai\\cacherGloses{-Acc.N2}\\cacherGloses{-Sg.N2}\ttip-ka-g\t\\textRadical{tip}kag\tradical: tip\tracine:  \n",
      "case NOM, CF=N2,  Genre=B, Nombre=Sg, Cas=Dat:\tdatipg\t\\cacherGloses{Dat.N2-}essai\\cacherGloses{-Sg.N2}\tda-tip-g\tda\\textRadical{tip}g\tradical: tip\tracine:  \n",
      "case NOM, CF=N2,  Genre=B, Nombre=Sg, Cas=Obl:\ttiplog\tessai\\cacherGloses{-Obl.N2}\\cacherGloses{-Sg.N2}\ttip-lo-g\t\\textRadical{tip}log\tradical: tip\tracine:  \n",
      "case NOM, CF=N2,  Genre=B, Nombre=Du, Cas=Nom:\ttipnop\tessai\\cacherGloses{-Nom.N2}\\cacherGloses{-Du.N2}\ttip-no-p\t\\textRadical{tip}nop\tradical: tip\tracine:  \n",
      "case NOM, CF=N2,  Genre=B, Nombre=Du, Cas=Acc:\ttipkap\tessai\\cacherGloses{-Acc.N2}\\cacherGloses{-Du.N2}\ttip-ka-p\t\\textRadical{tip}kap\tradical: tip\tracine:  \n",
      "case NOM, CF=N2,  Genre=B, Nombre=Du, Cas=Dat:\tdatipp\t\\cacherGloses{Dat.N2-}essai\\cacherGloses{-Du.N2}\tda-tip-p\tda\\textRadical{tip}p\tradical: tip\tracine:  \n",
      "case NOM, CF=N2,  Genre=B, Nombre=Du, Cas=Obl:\ttiplop\tessai\\cacherGloses{-Obl.N2}\\cacherGloses{-Du.N2}\ttip-lo-p\t\\textRadical{tip}lop\tradical: tip\tracine:  \n",
      "case NOM, CF=N2,  Genre=B, Nombre=Pl, Cas=Nom:\ttipnon\tessai\\cacherGloses{-Nom.N2}\\cacherGloses{-Pl.N2}\ttip-no-n\t\\textRadical{tip}non\tradical: tip\tracine:  \n",
      "case NOM, CF=N2,  Genre=B, Nombre=Pl, Cas=Acc:\ttipkan\tessai\\cacherGloses{-Acc.N2}\\cacherGloses{-Pl.N2}\ttip-ka-n\t\\textRadical{tip}kan\tradical: tip\tracine:  \n",
      "case NOM, CF=N2,  Genre=B, Nombre=Pl, Cas=Dat:\tdatipn\t\\cacherGloses{Dat.N2-}essai\\cacherGloses{-Pl.N2}\tda-tip-n\tda\\textRadical{tip}n\tradical: tip\tracine:  \n",
      "case NOM, CF=N2,  Genre=B, Nombre=Pl, Cas=Obl:\ttiplon\tessai\\cacherGloses{-Obl.N2}\\cacherGloses{-Pl.N2}\ttip-lo-n\t\\textRadical{tip}lon\tradical: tip\tracine:  \n",
      "case NOM, CF=N2,  Genre=C, Nombre=Sg, Cas=Nom:\ttipnog\tessai\\cacherGloses{-Nom.N2}\\cacherGloses{-Sg.N2}\ttip-no-g\t\\textRadical{tip}nog\tradical: tip\tracine:  \n",
      "case NOM, CF=N2,  Genre=C, Nombre=Sg, Cas=Acc:\ttipkag\tessai\\cacherGloses{-Acc.N2}\\cacherGloses{-Sg.N2}\ttip-ka-g\t\\textRadical{tip}kag\tradical: tip\tracine:  \n",
      "case NOM, CF=N2,  Genre=C, Nombre=Sg, Cas=Dat:\tdatipg\t\\cacherGloses{Dat.N2-}essai\\cacherGloses{-Sg.N2}\tda-tip-g\tda\\textRadical{tip}g\tradical: tip\tracine:  \n",
      "case NOM, CF=N2,  Genre=C, Nombre=Sg, Cas=Obl:\ttiplog\tessai\\cacherGloses{-Obl.N2}\\cacherGloses{-Sg.N2}\ttip-lo-g\t\\textRadical{tip}log\tradical: tip\tracine:  \n",
      "case NOM, CF=N2,  Genre=C, Nombre=Du, Cas=Nom:\ttipnop\tessai\\cacherGloses{-Nom.N2}\\cacherGloses{-Du.N2}\ttip-no-p\t\\textRadical{tip}nop\tradical: tip\tracine:  \n",
      "case NOM, CF=N2,  Genre=C, Nombre=Du, Cas=Acc:\ttipkap\tessai\\cacherGloses{-Acc.N2}\\cacherGloses{-Du.N2}\ttip-ka-p\t\\textRadical{tip}kap\tradical: tip\tracine:  \n",
      "case NOM, CF=N2,  Genre=C, Nombre=Du, Cas=Dat:\tdatipp\t\\cacherGloses{Dat.N2-}essai\\cacherGloses{-Du.N2}\tda-tip-p\tda\\textRadical{tip}p\tradical: tip\tracine:  \n",
      "case NOM, CF=N2,  Genre=C, Nombre=Du, Cas=Obl:\ttiplop\tessai\\cacherGloses{-Obl.N2}\\cacherGloses{-Du.N2}\ttip-lo-p\t\\textRadical{tip}lop\tradical: tip\tracine:  \n",
      "case NOM, CF=N2,  Genre=C, Nombre=Pl, Cas=Nom:\ttipnon\tessai\\cacherGloses{-Nom.N2}\\cacherGloses{-Pl.N2}\ttip-no-n\t\\textRadical{tip}non\tradical: tip\tracine:  \n",
      "case NOM, CF=N2,  Genre=C, Nombre=Pl, Cas=Acc:\ttipkan\tessai\\cacherGloses{-Acc.N2}\\cacherGloses{-Pl.N2}\ttip-ka-n\t\\textRadical{tip}kan\tradical: tip\tracine:  \n",
      "case NOM, CF=N2,  Genre=C, Nombre=Pl, Cas=Dat:\tdatipn\t\\cacherGloses{Dat.N2-}essai\\cacherGloses{-Pl.N2}\tda-tip-n\tda\\textRadical{tip}n\tradical: tip\tracine:  \n",
      "case NOM, CF=N2,  Genre=C, Nombre=Pl, Cas=Obl:\ttiplon\tessai\\cacherGloses{-Obl.N2}\\cacherGloses{-Pl.N2}\ttip-lo-n\t\\textRadical{tip}lon\tradical: tip\tracine:  \n",
      "case NOM, CF=N2,  Genre=D, Nombre=Sg, Cas=Nom:\ttipnog\tessai\\cacherGloses{-Nom.N2}\\cacherGloses{-Sg.N2}\ttip-no-g\t\\textRadical{tip}nog\tradical: tip\tracine:  \n",
      "case NOM, CF=N2,  Genre=D, Nombre=Sg, Cas=Acc:\ttipkag\tessai\\cacherGloses{-Acc.N2}\\cacherGloses{-Sg.N2}\ttip-ka-g\t\\textRadical{tip}kag\tradical: tip\tracine:  \n",
      "case NOM, CF=N2,  Genre=D, Nombre=Sg, Cas=Dat:\tdatipg\t\\cacherGloses{Dat.N2-}essai\\cacherGloses{-Sg.N2}\tda-tip-g\tda\\textRadical{tip}g\tradical: tip\tracine:  \n",
      "case NOM, CF=N2,  Genre=D, Nombre=Sg, Cas=Obl:\ttiplog\tessai\\cacherGloses{-Obl.N2}\\cacherGloses{-Sg.N2}\ttip-lo-g\t\\textRadical{tip}log\tradical: tip\tracine:  \n",
      "case NOM, CF=N2,  Genre=D, Nombre=Du, Cas=Nom:\ttipnop\tessai\\cacherGloses{-Nom.N2}\\cacherGloses{-Du.N2}\ttip-no-p\t\\textRadical{tip}nop\tradical: tip\tracine:  \n",
      "case NOM, CF=N2,  Genre=D, Nombre=Du, Cas=Acc:\ttipkap\tessai\\cacherGloses{-Acc.N2}\\cacherGloses{-Du.N2}\ttip-ka-p\t\\textRadical{tip}kap\tradical: tip\tracine:  \n",
      "case NOM, CF=N2,  Genre=D, Nombre=Du, Cas=Dat:\tdatipp\t\\cacherGloses{Dat.N2-}essai\\cacherGloses{-Du.N2}\tda-tip-p\tda\\textRadical{tip}p\tradical: tip\tracine:  \n",
      "case NOM, CF=N2,  Genre=D, Nombre=Du, Cas=Obl:\ttiplop\tessai\\cacherGloses{-Obl.N2}\\cacherGloses{-Du.N2}\ttip-lo-p\t\\textRadical{tip}lop\tradical: tip\tracine:  \n",
      "case NOM, CF=N2,  Genre=D, Nombre=Pl, Cas=Nom:\ttipnon\tessai\\cacherGloses{-Nom.N2}\\cacherGloses{-Pl.N2}\ttip-no-n\t\\textRadical{tip}non\tradical: tip\tracine:  \n",
      "case NOM, CF=N2,  Genre=D, Nombre=Pl, Cas=Acc:\ttipkan\tessai\\cacherGloses{-Acc.N2}\\cacherGloses{-Pl.N2}\ttip-ka-n\t\\textRadical{tip}kan\tradical: tip\tracine:  \n",
      "case NOM, CF=N2,  Genre=D, Nombre=Pl, Cas=Dat:\tdatipn\t\\cacherGloses{Dat.N2-}essai\\cacherGloses{-Pl.N2}\tda-tip-n\tda\\textRadical{tip}n\tradical: tip\tracine:  \n",
      "case NOM, CF=N2,  Genre=D, Nombre=Pl, Cas=Obl:\ttiplon\tessai\\cacherGloses{-Obl.N2}\\cacherGloses{-Pl.N2}\ttip-lo-n\t\\textRadical{tip}lon\tradical: tip\tracine:  \n"
     ]
    },
    {
     "data": {
      "text/plain": [
       "tip, N2, essai\n",
       "\t\ttip :\n",
       "\t\t\tNOM, CF=N2,  Genre=A, Nombre=Sg, Cas=Nom:\ttipnog\tessai\\cacherGloses{-Nom.N2}\\cacherGloses{-Sg.N2}\ttip-no-g\t\\textRadical{tip}nog\tradical: tip\tracine: \n",
       "\t\t\tNOM, CF=N2,  Genre=A, Nombre=Sg, Cas=Acc:\ttipkag\tessai\\cacherGloses{-Acc.N2}\\cacherGloses{-Sg.N2}\ttip-ka-g\t\\textRadical{tip}kag\tradical: tip\tracine: \n",
       "\t\t\tNOM, CF=N2,  Genre=A, Nombre=Sg, Cas=Dat:\tdatipg\t\\cacherGloses{Dat.N2-}essai\\cacherGloses{-Sg.N2}\tda-tip-g\tda\\textRadical{tip}g\tradical: tip\tracine: \n",
       "\t\t\tNOM, CF=N2,  Genre=A, Nombre=Sg, Cas=Obl:\ttiplog\tessai\\cacherGloses{-Obl.N2}\\cacherGloses{-Sg.N2}\ttip-lo-g\t\\textRadical{tip}log\tradical: tip\tracine: \n",
       "\t\t\tNOM, CF=N2,  Genre=A, Nombre=Du, Cas=Nom:\ttipnop\tessai\\cacherGloses{-Nom.N2}\\cacherGloses{-Du.N2}\ttip-no-p\t\\textRadical{tip}nop\tradical: tip\tracine: \n",
       "\t\t\tNOM, CF=N2,  Genre=A, Nombre=Du, Cas=Acc:\ttipkap\tessai\\cacherGloses{-Acc.N2}\\cacherGloses{-Du.N2}\ttip-ka-p\t\\textRadical{tip}kap\tradical: tip\tracine: \n",
       "\t\t\tNOM, CF=N2,  Genre=A, Nombre=Du, Cas=Dat:\tdatipp\t\\cacherGloses{Dat.N2-}essai\\cacherGloses{-Du.N2}\tda-tip-p\tda\\textRadical{tip}p\tradical: tip\tracine: \n",
       "\t\t\tNOM, CF=N2,  Genre=A, Nombre=Du, Cas=Obl:\ttiplop\tessai\\cacherGloses{-Obl.N2}\\cacherGloses{-Du.N2}\ttip-lo-p\t\\textRadical{tip}lop\tradical: tip\tracine: \n",
       "\t\t\tNOM, CF=N2,  Genre=A, Nombre=Pl, Cas=Nom:\ttipnon\tessai\\cacherGloses{-Nom.N2}\\cacherGloses{-Pl.N2}\ttip-no-n\t\\textRadical{tip}non\tradical: tip\tracine: \n",
       "\t\t\tNOM, CF=N2,  Genre=A, Nombre=Pl, Cas=Acc:\ttipkan\tessai\\cacherGloses{-Acc.N2}\\cacherGloses{-Pl.N2}\ttip-ka-n\t\\textRadical{tip}kan\tradical: tip\tracine: \n",
       "\t\t\tNOM, CF=N2,  Genre=A, Nombre=Pl, Cas=Dat:\tdatipn\t\\cacherGloses{Dat.N2-}essai\\cacherGloses{-Pl.N2}\tda-tip-n\tda\\textRadical{tip}n\tradical: tip\tracine: \n",
       "\t\t\tNOM, CF=N2,  Genre=A, Nombre=Pl, Cas=Obl:\ttiplon\tessai\\cacherGloses{-Obl.N2}\\cacherGloses{-Pl.N2}\ttip-lo-n\t\\textRadical{tip}lon\tradical: tip\tracine: \n",
       "\t\t\tNOM, CF=N2,  Genre=B, Nombre=Sg, Cas=Nom:\ttipnog\tessai\\cacherGloses{-Nom.N2}\\cacherGloses{-Sg.N2}\ttip-no-g\t\\textRadical{tip}nog\tradical: tip\tracine: \n",
       "\t\t\tNOM, CF=N2,  Genre=B, Nombre=Sg, Cas=Acc:\ttipkag\tessai\\cacherGloses{-Acc.N2}\\cacherGloses{-Sg.N2}\ttip-ka-g\t\\textRadical{tip}kag\tradical: tip\tracine: \n",
       "\t\t\tNOM, CF=N2,  Genre=B, Nombre=Sg, Cas=Dat:\tdatipg\t\\cacherGloses{Dat.N2-}essai\\cacherGloses{-Sg.N2}\tda-tip-g\tda\\textRadical{tip}g\tradical: tip\tracine: \n",
       "\t\t\tNOM, CF=N2,  Genre=B, Nombre=Sg, Cas=Obl:\ttiplog\tessai\\cacherGloses{-Obl.N2}\\cacherGloses{-Sg.N2}\ttip-lo-g\t\\textRadical{tip}log\tradical: tip\tracine: \n",
       "\t\t\tNOM, CF=N2,  Genre=B, Nombre=Du, Cas=Nom:\ttipnop\tessai\\cacherGloses{-Nom.N2}\\cacherGloses{-Du.N2}\ttip-no-p\t\\textRadical{tip}nop\tradical: tip\tracine: \n",
       "\t\t\tNOM, CF=N2,  Genre=B, Nombre=Du, Cas=Acc:\ttipkap\tessai\\cacherGloses{-Acc.N2}\\cacherGloses{-Du.N2}\ttip-ka-p\t\\textRadical{tip}kap\tradical: tip\tracine: \n",
       "\t\t\tNOM, CF=N2,  Genre=B, Nombre=Du, Cas=Dat:\tdatipp\t\\cacherGloses{Dat.N2-}essai\\cacherGloses{-Du.N2}\tda-tip-p\tda\\textRadical{tip}p\tradical: tip\tracine: \n",
       "\t\t\tNOM, CF=N2,  Genre=B, Nombre=Du, Cas=Obl:\ttiplop\tessai\\cacherGloses{-Obl.N2}\\cacherGloses{-Du.N2}\ttip-lo-p\t\\textRadical{tip}lop\tradical: tip\tracine: \n",
       "\t\t\tNOM, CF=N2,  Genre=B, Nombre=Pl, Cas=Nom:\ttipnon\tessai\\cacherGloses{-Nom.N2}\\cacherGloses{-Pl.N2}\ttip-no-n\t\\textRadical{tip}non\tradical: tip\tracine: \n",
       "\t\t\tNOM, CF=N2,  Genre=B, Nombre=Pl, Cas=Acc:\ttipkan\tessai\\cacherGloses{-Acc.N2}\\cacherGloses{-Pl.N2}\ttip-ka-n\t\\textRadical{tip}kan\tradical: tip\tracine: \n",
       "\t\t\tNOM, CF=N2,  Genre=B, Nombre=Pl, Cas=Dat:\tdatipn\t\\cacherGloses{Dat.N2-}essai\\cacherGloses{-Pl.N2}\tda-tip-n\tda\\textRadical{tip}n\tradical: tip\tracine: \n",
       "\t\t\tNOM, CF=N2,  Genre=B, Nombre=Pl, Cas=Obl:\ttiplon\tessai\\cacherGloses{-Obl.N2}\\cacherGloses{-Pl.N2}\ttip-lo-n\t\\textRadical{tip}lon\tradical: tip\tracine: \n",
       "\t\t\tNOM, CF=N2,  Genre=C, Nombre=Sg, Cas=Nom:\ttipnog\tessai\\cacherGloses{-Nom.N2}\\cacherGloses{-Sg.N2}\ttip-no-g\t\\textRadical{tip}nog\tradical: tip\tracine: \n",
       "\t\t\tNOM, CF=N2,  Genre=C, Nombre=Sg, Cas=Acc:\ttipkag\tessai\\cacherGloses{-Acc.N2}\\cacherGloses{-Sg.N2}\ttip-ka-g\t\\textRadical{tip}kag\tradical: tip\tracine: \n",
       "\t\t\tNOM, CF=N2,  Genre=C, Nombre=Sg, Cas=Dat:\tdatipg\t\\cacherGloses{Dat.N2-}essai\\cacherGloses{-Sg.N2}\tda-tip-g\tda\\textRadical{tip}g\tradical: tip\tracine: \n",
       "\t\t\tNOM, CF=N2,  Genre=C, Nombre=Sg, Cas=Obl:\ttiplog\tessai\\cacherGloses{-Obl.N2}\\cacherGloses{-Sg.N2}\ttip-lo-g\t\\textRadical{tip}log\tradical: tip\tracine: \n",
       "\t\t\tNOM, CF=N2,  Genre=C, Nombre=Du, Cas=Nom:\ttipnop\tessai\\cacherGloses{-Nom.N2}\\cacherGloses{-Du.N2}\ttip-no-p\t\\textRadical{tip}nop\tradical: tip\tracine: \n",
       "\t\t\tNOM, CF=N2,  Genre=C, Nombre=Du, Cas=Acc:\ttipkap\tessai\\cacherGloses{-Acc.N2}\\cacherGloses{-Du.N2}\ttip-ka-p\t\\textRadical{tip}kap\tradical: tip\tracine: \n",
       "\t\t\tNOM, CF=N2,  Genre=C, Nombre=Du, Cas=Dat:\tdatipp\t\\cacherGloses{Dat.N2-}essai\\cacherGloses{-Du.N2}\tda-tip-p\tda\\textRadical{tip}p\tradical: tip\tracine: \n",
       "\t\t\tNOM, CF=N2,  Genre=C, Nombre=Du, Cas=Obl:\ttiplop\tessai\\cacherGloses{-Obl.N2}\\cacherGloses{-Du.N2}\ttip-lo-p\t\\textRadical{tip}lop\tradical: tip\tracine: \n",
       "\t\t\tNOM, CF=N2,  Genre=C, Nombre=Pl, Cas=Nom:\ttipnon\tessai\\cacherGloses{-Nom.N2}\\cacherGloses{-Pl.N2}\ttip-no-n\t\\textRadical{tip}non\tradical: tip\tracine: \n",
       "\t\t\tNOM, CF=N2,  Genre=C, Nombre=Pl, Cas=Acc:\ttipkan\tessai\\cacherGloses{-Acc.N2}\\cacherGloses{-Pl.N2}\ttip-ka-n\t\\textRadical{tip}kan\tradical: tip\tracine: \n",
       "\t\t\tNOM, CF=N2,  Genre=C, Nombre=Pl, Cas=Dat:\tdatipn\t\\cacherGloses{Dat.N2-}essai\\cacherGloses{-Pl.N2}\tda-tip-n\tda\\textRadical{tip}n\tradical: tip\tracine: \n",
       "\t\t\tNOM, CF=N2,  Genre=C, Nombre=Pl, Cas=Obl:\ttiplon\tessai\\cacherGloses{-Obl.N2}\\cacherGloses{-Pl.N2}\ttip-lo-n\t\\textRadical{tip}lon\tradical: tip\tracine: \n",
       "\t\t\tNOM, CF=N2,  Genre=D, Nombre=Sg, Cas=Nom:\ttipnog\tessai\\cacherGloses{-Nom.N2}\\cacherGloses{-Sg.N2}\ttip-no-g\t\\textRadical{tip}nog\tradical: tip\tracine: \n",
       "\t\t\tNOM, CF=N2,  Genre=D, Nombre=Sg, Cas=Acc:\ttipkag\tessai\\cacherGloses{-Acc.N2}\\cacherGloses{-Sg.N2}\ttip-ka-g\t\\textRadical{tip}kag\tradical: tip\tracine: \n",
       "\t\t\tNOM, CF=N2,  Genre=D, Nombre=Sg, Cas=Dat:\tdatipg\t\\cacherGloses{Dat.N2-}essai\\cacherGloses{-Sg.N2}\tda-tip-g\tda\\textRadical{tip}g\tradical: tip\tracine: \n",
       "\t\t\tNOM, CF=N2,  Genre=D, Nombre=Sg, Cas=Obl:\ttiplog\tessai\\cacherGloses{-Obl.N2}\\cacherGloses{-Sg.N2}\ttip-lo-g\t\\textRadical{tip}log\tradical: tip\tracine: \n",
       "\t\t\tNOM, CF=N2,  Genre=D, Nombre=Du, Cas=Nom:\ttipnop\tessai\\cacherGloses{-Nom.N2}\\cacherGloses{-Du.N2}\ttip-no-p\t\\textRadical{tip}nop\tradical: tip\tracine: \n",
       "\t\t\tNOM, CF=N2,  Genre=D, Nombre=Du, Cas=Acc:\ttipkap\tessai\\cacherGloses{-Acc.N2}\\cacherGloses{-Du.N2}\ttip-ka-p\t\\textRadical{tip}kap\tradical: tip\tracine: \n",
       "\t\t\tNOM, CF=N2,  Genre=D, Nombre=Du, Cas=Dat:\tdatipp\t\\cacherGloses{Dat.N2-}essai\\cacherGloses{-Du.N2}\tda-tip-p\tda\\textRadical{tip}p\tradical: tip\tracine: \n",
       "\t\t\tNOM, CF=N2,  Genre=D, Nombre=Du, Cas=Obl:\ttiplop\tessai\\cacherGloses{-Obl.N2}\\cacherGloses{-Du.N2}\ttip-lo-p\t\\textRadical{tip}lop\tradical: tip\tracine: \n",
       "\t\t\tNOM, CF=N2,  Genre=D, Nombre=Pl, Cas=Nom:\ttipnon\tessai\\cacherGloses{-Nom.N2}\\cacherGloses{-Pl.N2}\ttip-no-n\t\\textRadical{tip}non\tradical: tip\tracine: \n",
       "\t\t\tNOM, CF=N2,  Genre=D, Nombre=Pl, Cas=Acc:\ttipkan\tessai\\cacherGloses{-Acc.N2}\\cacherGloses{-Pl.N2}\ttip-ka-n\t\\textRadical{tip}kan\tradical: tip\tracine: \n",
       "\t\t\tNOM, CF=N2,  Genre=D, Nombre=Pl, Cas=Dat:\tdatipn\t\\cacherGloses{Dat.N2-}essai\\cacherGloses{-Pl.N2}\tda-tip-n\tda\\textRadical{tip}n\tradical: tip\tracine: \n",
       "\t\t\tNOM, CF=N2,  Genre=D, Nombre=Pl, Cas=Obl:\ttiplon\tessai\\cacherGloses{-Obl.N2}\\cacherGloses{-Pl.N2}\ttip-lo-n\t\\textRadical{tip}lon\tradical: tip\tracine: "
      ]
     },
     "execution_count": 49,
     "metadata": {},
     "output_type": "execute_result"
    }
   ],
   "source": [
    "Lexeme(\"tip\",\"N2\",\"essai\")"
   ]
  },
  {
   "cell_type": "raw",
   "metadata": {
    "collapsed": false
   },
   "source": [
    "for element in PFM.lexique.vedettes:\n",
    "    print element"
   ]
  }
 ],
 "metadata": {
  "kernelspec": {
   "display_name": "Python 2",
   "language": "python",
   "name": "python2"
  },
  "language_info": {
   "codemirror_mode": {
    "name": "ipython",
    "version": 2
   },
   "file_extension": ".py",
   "mimetype": "text/x-python",
   "name": "python",
   "nbconvert_exporter": "python",
   "pygments_lexer": "ipython2",
   "version": "2.7.11"
  }
 },
 "nbformat": 4,
 "nbformat_minor": 0
}

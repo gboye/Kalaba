{
 "cells": [
  {
   "cell_type": "markdown",
   "metadata": {},
   "source": [
    "# ParFuMor (version YAML & Objets)"
   ]
  },
  {
   "cell_type": "code",
   "execution_count": 1,
   "metadata": {
    "collapsed": false
   },
   "outputs": [],
   "source": [
    "# -*- coding: utf8 -*-\n",
    "from os.path import expanduser\n",
    "import itertools\n",
    "import yaml,YamlDuplicates\n",
    "from yaml.constructor import ConstructorError\n",
    "import warnings\n",
    "import ParFuMor as PFM\n",
    "from ParFuMor import *\n",
    "import pickle"
   ]
  },
  {
   "cell_type": "code",
   "execution_count": 2,
   "metadata": {
    "collapsed": false
   },
   "outputs": [],
   "source": [
    "home = expanduser(\"~\")\n",
    "repertoire=home+\"/ownCloud/Cours/Bordeaux/L1-LinguistiqueGenerale/Kalaba-Project/\"\n",
    "numerosKalabas=[1,2,3,4,5]\n",
    "#numerosKalabas=[1]\n",
    "nomKalabas=[repertoire+\"16-K%d/\"%num for num in numerosKalabas]\n",
    "\n",
    "lexiqueTestPrep=u\"dans\"\n",
    "lexiqueTestNoun=u\"loups\"\n",
    "lexiqueTestHyper=u\"villagEOIs\""
   ]
  },
  {
   "cell_type": "code",
   "execution_count": 3,
   "metadata": {
    "collapsed": false,
    "scrolled": false
   },
   "outputs": [
    {
     "name": "stdout",
     "output_type": "stream",
     "text": [
      "\n",
      "/Users/gilles/ownCloud/Cours/Bordeaux/L1-LinguistiqueGenerale/Kalaba-Project/16-K1/\n",
      "ADJ : Genre Nombre\n",
      "NOM : Genre Nombre\n",
      "DET : Genre Nombre\n",
      "VER : Temps Pers\n",
      "head stems\n",
      "head stems,NOM\n",
      "head stems,VER\n",
      "\n",
      "/Users/gilles/ownCloud/Cours/Bordeaux/L1-LinguistiqueGenerale/Kalaba-Project/16-K2/\n",
      "ADJ : Genre Nombre\n",
      "NOM : Genre Nombre Cas\n",
      "DET : Genre Nombre Cas\n",
      "VER : Temps Pers Genre\n",
      "head stems\n",
      "head stems,NOM\n",
      "head stems,NOM,N\n",
      "head stems,NOM,M\n",
      "head stems,NOM,F\n",
      "head stems,DET\n",
      "head stems,VER\n",
      "\n",
      "/Users/gilles/ownCloud/Cours/Bordeaux/L1-LinguistiqueGenerale/Kalaba-Project/16-K3/\n",
      "ADJ : Genre Nombre\n",
      "NOM : Genre Nombre Cas\n",
      "DET : Genre Nombre Cas\n",
      "VER : Trans Temps Pers Genre Nombre\n",
      "head stems\n",
      "head stems,ADJ\n",
      "head stems,NOM\n",
      "head stems,NOM,A\n",
      "head stems,NOM,C\n",
      "head stems,NOM,B\n",
      "head stems,NOM,D\n",
      "head stems,DET\n",
      "head stems,VER\n",
      "head stems,VER,V1\n",
      "head stems,VER,V2\n",
      "\n",
      "/Users/gilles/ownCloud/Cours/Bordeaux/L1-LinguistiqueGenerale/Kalaba-Project/16-K4/\n",
      "ADJ : Genre Nombre\n",
      "NOM : Genre Nombre Cas\n",
      "DET : Nombre Cas\n",
      "VER : Trans Temps Pers Genre Nombre\n",
      "head stems\n",
      "head stems,ADJ\n",
      "head stems,NOM\n",
      "head stems,NOM,A\n",
      "head stems,NOM,C\n",
      "head stems,NOM,B\n",
      "head stems,NOM,D\n"
     ]
    },
    {
     "name": "stderr",
     "output_type": "stream",
     "text": [
      "ParFuMor.py:412: UserWarning: Vedettes homographes \"enfant\" pour \"enfant.A.N2\" et \"enfant.B.N3\"\n",
      "  warnings.warn('Vedettes homographes \"%s\" pour \"%s\" et \"%s\"'%(formes[0],self.vedettes[formes[0]],nom))\n"
     ]
    },
    {
     "name": "stdout",
     "output_type": "stream",
     "text": [
      "head stems,VER\n",
      "head stems,VER,V1\n",
      "head stems,VER,V2\n",
      "\n",
      "/Users/gilles/ownCloud/Cours/Bordeaux/L1-LinguistiqueGenerale/Kalaba-Project/16-K5/\n",
      "ADJ : Genre Nombre\n",
      "NOM : Genre Nombre Cas\n",
      "DET : Nombre Cas\n",
      "VER : Trans Temps Pers Genre Nombre\n",
      "head stems\n",
      "head stems,ADJ\n",
      "head stems,NOM\n",
      "head stems,NOM,N1\n",
      "head stems,NOM,N1,N12\n",
      "head stems,NOM,N1,N11\n",
      "head stems,NOM,N2\n",
      "head stems,NOM,N2,N22\n",
      "head stems,NOM,N2,N21\n",
      "head stems,VER\n",
      "head stems,VER,VI\n",
      "head stems,VER,VT\n",
      "head stems,VER,VD\n"
     ]
    }
   ],
   "source": [
    "PFM.duplicateErrors=[]\n",
    "for serie in nomKalabas:\n",
    "    print\n",
    "    print serie\n",
    "\n",
    "    with open(serie+\"Gloses.yaml\", 'r') as stream:\n",
    "        gloses=yaml.load(stream)\n",
    "        PFM.gloses=gloses\n",
    "    with open(serie+\"Stems.yaml\", 'r') as stream:\n",
    "        try:\n",
    "            stems=yaml.load(stream)\n",
    "            PFM.stems=stems\n",
    "        except ConstructorError,msg:\n",
    "            print msg\n",
    "            continue\n",
    "    with open(serie+\"Blocks.yaml\", 'r') as stream:\n",
    "        blocks=yaml.load(stream)\n",
    "        PFM.blocks=blocks\n",
    "    with open(serie+\"Phonology.yaml\", 'r') as stream:\n",
    "        phonology=yaml.load(stream)\n",
    "        PFM.phonology=phonology\n",
    "    with open(serie+\"MorphoSyntax.yaml\", 'r') as stream:\n",
    "        morphosyntax=yaml.load(stream)\n",
    "        PFM.morphosyntax=morphosyntax\n",
    "\n",
    "        \n",
    "    for cat in morphosyntax[\"Attributs\"]:\n",
    "        if sorted(morphosyntax[\"Attributs\"][cat])!=sorted(gloses[cat].keys()):\n",
    "            warnings.warn(\"\\n\"+serie+\"\\nLes attributs de %s ne sont pas cohérents\\nMorphosyntax => %s\\nGloses => %s\"%(cat,\", \".join(morphosyntax[\"Attributs\"][cat]),\", \".join(gloses[cat].keys())))\n",
    "    \n",
    "    regles=Regles()\n",
    "    PFM.regles=regles\n",
    "    for categorie in blocks:\n",
    "        regles.addBlocs(categorie,blocks[categorie])\n",
    "\n",
    "\n",
    "    paradigmes=Paradigmes()\n",
    "    PFM.paradigmes=paradigmes\n",
    "\n",
    "    hierarchieCF=HierarchieCF()\n",
    "    PFM.hierarchieCF=hierarchieCF\n",
    "    lexique=Lexique()\n",
    "    PFM.lexique=lexique\n",
    "\n",
    "\n",
    "    for cat in gloses:\n",
    "    #    print cat\n",
    "        attributes=[]\n",
    "        if gloses[cat]:\n",
    "            if set(gloses[cat].keys())==set(morphosyntax[\"Attributs\"][cat]):\n",
    "                features=morphosyntax[\"Attributs\"][cat]\n",
    "    #            print \"inhérent\",features\n",
    "            else:\n",
    "                features=gloses[cat].keys()\n",
    "    #            print \"contextuel\",features\n",
    "            for attribute in features:\n",
    "                attributes.append(gloses[cat][attribute])\n",
    "            nuplets=(itertools.product(*attributes))\n",
    "            for nuplet in nuplets:\n",
    "                proprietes=[cat]\n",
    "                for element in range(len(nuplet)):\n",
    "                    proprietes.append(u\"%s=%s\"%(features[element],nuplet[element]))\n",
    "                paradigmes.addForme(cat,proprietes)\n",
    "\n",
    "    analyserGloses(gloses)\n",
    "    analyserStems(stems)\n",
    "        \n",
    "    with open(serie+\"Hierarchie-S2.pkl\", 'wb') as output:\n",
    "       pickle.dump(hierarchieCF, output, pickle.HIGHEST_PROTOCOL)\n",
    "    with open(serie+\"Lexique-S2.pkl\", 'wb') as output:\n",
    "       pickle.dump(lexique, output, pickle.HIGHEST_PROTOCOL)\n",
    "    with open(serie+\"Regles-S2.pkl\", 'wb') as output:\n",
    "       pickle.dump(regles, output, pickle.HIGHEST_PROTOCOL)\n",
    "\n",
    "\n",
    "    PFM.lexique.lexemes[lexiqueTestPrep]\n",
    "\n",
    "    mot=lexiqueTestNoun\n",
    "    classesNom=PFM.lexique.formeLexeme[mot][0].split('.')[1:]\n",
    "    [classeElement for classeElement in classesNom if classeElement in gloses[\"NOM\"][\"Genre\"]]\n",
    "\n",
    "    PFM.lexique.formeLexeme[lexiqueTestHyper][0]\n",
    "\n",
    "if PFM.duplicateErrors:\n",
    "    print\n",
    "    print \"=======ERREURS========\"\n",
    "    print\n",
    "    for ligne in PFM.duplicateErrors:\n",
    "        print ligne\n"
   ]
  },
  {
   "cell_type": "raw",
   "metadata": {
    "collapsed": false,
    "scrolled": true
   },
   "source": [
    "for element in PFM.lexique.lexemes:\n",
    "    print element, type(element)\n",
    "    print PFM.lexique.lexemes[element].formes"
   ]
  },
  {
   "cell_type": "code",
   "execution_count": 4,
   "metadata": {
    "collapsed": false
   },
   "outputs": [
    {
     "name": "stdout",
     "output_type": "stream",
     "text": [
      "villageoise.N2.N21.D\n",
      "enfant.hyper.N1.N12.B\n"
     ]
    }
   ],
   "source": [
    "print PFM.lexique.formeLexeme[lexiqueTestHyper][0]\n",
    "print PFM.lexique.formeLexeme[u\"enfANT\"][0]"
   ]
  },
  {
   "cell_type": "code",
   "execution_count": 5,
   "metadata": {
    "collapsed": false
   },
   "outputs": [
    {
     "data": {
      "text/plain": [
       "[]"
      ]
     },
     "execution_count": 5,
     "metadata": {},
     "output_type": "execute_result"
    }
   ],
   "source": [
    "PFM.lexique.getLexemes(u\"sorT\")"
   ]
  },
  {
   "cell_type": "code",
   "execution_count": 6,
   "metadata": {
    "collapsed": false
   },
   "outputs": [
    {
     "name": "stdout",
     "output_type": "stream",
     "text": [
      "coup\n",
      "corps\n",
      "disparaître\n",
      "rouge\n",
      "transformer\n",
      "noir\n",
      "planter\n",
      "dévorer\n",
      "différent\n",
      "main\n",
      "courir\n",
      "vers\n",
      "ENTRE\n",
      "de\n",
      "voir\n",
      "villageois\n",
      "tomber\n",
      "blessé\n",
      "cri\n",
      "blessure\n",
      "furieux\n",
      "chef\n",
      "profond\n",
      "DEM\n",
      "rejoindre\n",
      "croc\n",
      "DEF\n",
      "homme\n",
      "arbre\n",
      "apporter\n",
      "transpercer\n",
      "jeter\n",
      "courageux\n",
      "pousser\n",
      "sur\n",
      "nuit\n",
      "gorge\n",
      "à\n",
      "être\n",
      "loup\n",
      "terrible\n",
      "souffrance\n",
      "protéger\n",
      "IND\n",
      "forêt\n",
      "fuir\n",
      "Kaleb\n",
      "couteau\n",
      "approcher\n",
      "lune\n",
      "village\n",
      "blanc\n",
      "passer\n",
      "avec\n",
      "parler\n",
      "après\n",
      "mort\n",
      "milieu\n",
      "lueur\n",
      "combattant\n",
      "sort\n",
      "enfant.hyper\n",
      "sortir\n",
      "louve\n",
      "prendre\n",
      "villageoise\n",
      "devant\n",
      "envahir\n",
      "dans\n",
      "démon\n",
      "derrière\n",
      "ombre\n",
      "enfant\n",
      "visage\n",
      "serpent\n",
      "chercher\n",
      "petit\n",
      "Mahira\n",
      "soeur\n",
      "Violette\n",
      "suivant\n",
      "colère\n",
      "recouvrir\n",
      "maison\n",
      "grand\n",
      "lance\n",
      "combat\n",
      "effrayé\n",
      "sauter\n",
      "fille\n",
      "chasser\n",
      "donner\n",
      "aller\n"
     ]
    }
   ],
   "source": [
    "for element in PFM.lexique.vedettes:\n",
    "    print element"
   ]
  }
 ],
 "metadata": {
  "kernelspec": {
   "display_name": "Python 2",
   "language": "python",
   "name": "python2"
  },
  "language_info": {
   "codemirror_mode": {
    "name": "ipython",
    "version": 2
   },
   "file_extension": ".py",
   "mimetype": "text/x-python",
   "name": "python",
   "nbconvert_exporter": "python",
   "pygments_lexer": "ipython2",
   "version": "2.7.11"
  }
 },
 "nbformat": 4,
 "nbformat_minor": 0
}

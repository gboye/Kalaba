{
 "cells": [
  {
   "cell_type": "code",
   "execution_count": 24,
   "metadata": {
    "collapsed": false
   },
   "outputs": [],
   "source": [
    "# -*- coding: utf8 -*-\n",
    "from os.path import expanduser\n",
    "home = expanduser(\"~\")\n",
    "repertoire=home+\"/ownCloud/Cours/Bordeaux/L1-UE1/Kalaba-15/05-Devoir\"\n",
    "serie=repertoire+\"/\"\n",
    "#########################IMPORTS############################################\n",
    "import codecs, optparse\n",
    "import re, random\n",
    "import sys,os,time\n",
    "import string\n",
    "import yaml\n",
    "import ParFuMor as PFM\n",
    "from ParFuMor import *\n",
    "import pickle"
   ]
  },
  {
   "cell_type": "code",
   "execution_count": 25,
   "metadata": {
    "collapsed": false
   },
   "outputs": [],
   "source": [
    "debug=0\n",
    "print_glose=True\n",
    "print_cloze=True\n",
    "print_radicaux=True\n",
    "numeros={'1':'Un','2':'Deux','3':'Trois','4':'Quatre','5':'Cinq'}\n",
    "personnes={'1sg':'UnSg','2sg':'DeuxSg','3sg':'TroisSg','1du':'UnDu','2du':'DeuxDu','3du':'TroisDu','1pl':'UnPl','2pl':'DeuxPl','3pl':'TroisPl'}\n",
    "\n",
    "commandGrapho=\"\\\\newcommand{\\\\%s}{\\\\strutgb{0pt}\\\\grapho{%s}}\"\n",
    "#commandGrapho=\"\\\\newcommand{\\\\%s}{\\\\strutgb{0pt}{\\\\dn %s}}\"\n",
    "#commandGrapho=u\"\\\\newcommand{\\\\%s}{\\\\strutgb{0pt}{%s}}\"\n",
    "commandPhono=u\"\\\\newcommand{\\\\%sP}{\\\\textipa{%s}}\"\n",
    "commandGlose=u\"\\\\newcommand{\\\\%sG}{\\\\textGlose{%s}}\""
   ]
  },
  {
   "cell_type": "code",
   "execution_count": 26,
   "metadata": {
    "collapsed": false
   },
   "outputs": [],
   "source": [
    "with open(serie+\"Phonology.yaml\", 'r') as stream:\n",
    "    phonology=yaml.load(stream)\n",
    "with open(serie+\"Stems.yaml\", 'r') as stream:\n",
    "    stems=yaml.load(stream)\n",
    "with open(serie+\"MorphoSyntax.yaml\", 'r') as stream:\n",
    "    morphosyntax=yaml.load(stream)\n",
    "with open(serie+\"Hierarchie-S2.pkl\", 'rb') as input:\n",
    "   PFM.hierarchieCF = pickle.load(input)\n",
    "with open(serie+\"Lexique-S2.pkl\", 'rb') as input:\n",
    "   PFM.lexique = pickle.load(input)\n",
    "with open(serie+\"Regles-S2.pkl\", 'rb') as input:\n",
    "   PFM.regles = pickle.load(input)"
   ]
  },
  {
   "cell_type": "code",
   "execution_count": 27,
   "metadata": {
    "collapsed": false,
    "scrolled": true
   },
   "outputs": [
    {
     "data": {
      "text/plain": [
       "venad, VD.V2, acheter.VD.V2\n",
       "\t\tvenad :\n",
       "\t\t\tVER, CF=V2,  Trans=VD, Temps=PRS, Pers=3Sg, Genre=A, Nombre=Sg:\tlavenadi\t\\cacherGloses{3Sg.A+}acheter\\cacherGloses{.VD.V2}\\cacherGloses{+3Sg.A}\tla+venad+i\tla\\textRadical{venad}i\n",
       "\t\t\tVER, CF=V2,  Trans=VD, Temps=PRS, Pers=3Sg, Genre=A, Nombre=Du:\tlavenadi\t\\cacherGloses{3Sg.A+}acheter\\cacherGloses{.VD.V2}\\cacherGloses{+3Sg.A}\tla+venad+i\tla\\textRadical{venad}i\n",
       "\t\t\tVER, CF=V2,  Trans=VD, Temps=PRS, Pers=3Sg, Genre=A, Nombre=Pl:\tlavenadini\t\\cacherGloses{3Sg.A+}acheter\\cacherGloses{.VD.V2}\\cacherGloses{-A.Pl}\\cacherGloses{+3Sg.A}\tla+venad-in+i\tla\\textRadical{venad}ini\n",
       "\t\t\tVER, CF=V2,  Trans=VD, Temps=PRS, Pers=3Sg, Genre=B, Nombre=Sg:\tvenadod\tacheter\\cacherGloses{.VD.V2}\\cacherGloses{-B}\tvenad-od\t\\textRadical{venad}od\n",
       "\t\t\tVER, CF=V2,  Trans=VD, Temps=PRS, Pers=3Sg, Genre=B, Nombre=Du:\tvenadod\tacheter\\cacherGloses{.VD.V2}\\cacherGloses{-B}\tvenad-od\t\\textRadical{venad}od\n",
       "\t\t\tVER, CF=V2,  Trans=VD, Temps=PRS, Pers=3Sg, Genre=B, Nombre=Pl:\tvenadod\tacheter\\cacherGloses{.VD.V2}\\cacherGloses{-B}\tvenad-od\t\\textRadical{venad}od\n",
       "\t\t\tVER, CF=V2,  Trans=VD, Temps=PRS, Pers=3Sg, Genre=C, Nombre=Sg:\tvenadeb\tacheter\\cacherGloses{.VD.V2}\\cacherGloses{-C}\tvenad-eb\t\\textRadical{venad}eb\n",
       "\t\t\tVER, CF=V2,  Trans=VD, Temps=PRS, Pers=3Sg, Genre=C, Nombre=Du:\tvenadeb\tacheter\\cacherGloses{.VD.V2}\\cacherGloses{-C}\tvenad-eb\t\\textRadical{venad}eb\n",
       "\t\t\tVER, CF=V2,  Trans=VD, Temps=PRS, Pers=3Sg, Genre=C, Nombre=Pl:\tvenadeb\tacheter\\cacherGloses{.VD.V2}\\cacherGloses{-C}\tvenad-eb\t\\textRadical{venad}eb\n",
       "\t\t\tVER, CF=V2,  Trans=VD, Temps=PRS, Pers=3Sg, Genre=D, Nombre=Sg:\tvenadam\tacheter\\cacherGloses{.VD.V2}\\cacherGloses{-D}\tvenad-am\t\\textRadical{venad}am\n",
       "\t\t\tVER, CF=V2,  Trans=VD, Temps=PRS, Pers=3Sg, Genre=D, Nombre=Du:\tvenadam\tacheter\\cacherGloses{.VD.V2}\\cacherGloses{-D}\tvenad-am\t\\textRadical{venad}am\n",
       "\t\t\tVER, CF=V2,  Trans=VD, Temps=PRS, Pers=3Sg, Genre=D, Nombre=Pl:\tvenadam\tacheter\\cacherGloses{.VD.V2}\\cacherGloses{-D}\tvenad-am\t\\textRadical{venad}am\n",
       "\t\t\tVER, CF=V2,  Trans=VD, Temps=PRS, Pers=3Du, Genre=A, Nombre=Sg:\tkevenado\t\\cacherGloses{3Du+}acheter\\cacherGloses{.VD.V2}\\cacherGloses{+3Du}\tke+venad+o\tke\\textRadical{venad}o\n",
       "\t\t\tVER, CF=V2,  Trans=VD, Temps=PRS, Pers=3Du, Genre=A, Nombre=Du:\tkevenado\t\\cacherGloses{3Du+}acheter\\cacherGloses{.VD.V2}\\cacherGloses{+3Du}\tke+venad+o\tke\\textRadical{venad}o\n",
       "\t\t\tVER, CF=V2,  Trans=VD, Temps=PRS, Pers=3Du, Genre=A, Nombre=Pl:\tkevenadino\t\\cacherGloses{3Du+}acheter\\cacherGloses{.VD.V2}\\cacherGloses{-A.Pl}\\cacherGloses{+3Du}\tke+venad-in+o\tke\\textRadical{venad}ino\n",
       "\t\t\tVER, CF=V2,  Trans=VD, Temps=PRS, Pers=3Du, Genre=B, Nombre=Sg:\tkevenadodo\t\\cacherGloses{3Du+}acheter\\cacherGloses{.VD.V2}\\cacherGloses{-B}\\cacherGloses{+3Du}\tke+venad-od+o\tke\\textRadical{venad}odo\n",
       "\t\t\tVER, CF=V2,  Trans=VD, Temps=PRS, Pers=3Du, Genre=B, Nombre=Du:\tkevenadodo\t\\cacherGloses{3Du+}acheter\\cacherGloses{.VD.V2}\\cacherGloses{-B}\\cacherGloses{+3Du}\tke+venad-od+o\tke\\textRadical{venad}odo\n",
       "\t\t\tVER, CF=V2,  Trans=VD, Temps=PRS, Pers=3Du, Genre=B, Nombre=Pl:\tkevenadodo\t\\cacherGloses{3Du+}acheter\\cacherGloses{.VD.V2}\\cacherGloses{-B}\\cacherGloses{+3Du}\tke+venad-od+o\tke\\textRadical{venad}odo\n",
       "\t\t\tVER, CF=V2,  Trans=VD, Temps=PRS, Pers=3Du, Genre=C, Nombre=Sg:\tkevenadebo\t\\cacherGloses{3Du+}acheter\\cacherGloses{.VD.V2}\\cacherGloses{-C}\\cacherGloses{+3Du}\tke+venad-eb+o\tke\\textRadical{venad}ebo\n",
       "\t\t\tVER, CF=V2,  Trans=VD, Temps=PRS, Pers=3Du, Genre=C, Nombre=Du:\tkevenadebo\t\\cacherGloses{3Du+}acheter\\cacherGloses{.VD.V2}\\cacherGloses{-C}\\cacherGloses{+3Du}\tke+venad-eb+o\tke\\textRadical{venad}ebo\n",
       "\t\t\tVER, CF=V2,  Trans=VD, Temps=PRS, Pers=3Du, Genre=C, Nombre=Pl:\tkevenadebo\t\\cacherGloses{3Du+}acheter\\cacherGloses{.VD.V2}\\cacherGloses{-C}\\cacherGloses{+3Du}\tke+venad-eb+o\tke\\textRadical{venad}ebo\n",
       "\t\t\tVER, CF=V2,  Trans=VD, Temps=PRS, Pers=3Du, Genre=D, Nombre=Sg:\tkevenadamo\t\\cacherGloses{3Du+}acheter\\cacherGloses{.VD.V2}\\cacherGloses{-D}\\cacherGloses{+3Du}\tke+venad-am+o\tke\\textRadical{venad}amo\n",
       "\t\t\tVER, CF=V2,  Trans=VD, Temps=PRS, Pers=3Du, Genre=D, Nombre=Du:\tkevenadamo\t\\cacherGloses{3Du+}acheter\\cacherGloses{.VD.V2}\\cacherGloses{-D}\\cacherGloses{+3Du}\tke+venad-am+o\tke\\textRadical{venad}amo\n",
       "\t\t\tVER, CF=V2,  Trans=VD, Temps=PRS, Pers=3Du, Genre=D, Nombre=Pl:\tkevenadamo\t\\cacherGloses{3Du+}acheter\\cacherGloses{.VD.V2}\\cacherGloses{-D}\\cacherGloses{+3Du}\tke+venad-am+o\tke\\textRadical{venad}amo\n",
       "\t\t\tVER, CF=V2,  Trans=VD, Temps=PRS, Pers=3Pl, Genre=A, Nombre=Sg:\tbovenade\t\\cacherGloses{3Pl+}acheter\\cacherGloses{.VD.V2}\\cacherGloses{+3Pl}\tbo+venad+e\tbo\\textRadical{venad}e\n",
       "\t\t\tVER, CF=V2,  Trans=VD, Temps=PRS, Pers=3Pl, Genre=A, Nombre=Du:\tbovenade\t\\cacherGloses{3Pl+}acheter\\cacherGloses{.VD.V2}\\cacherGloses{+3Pl}\tbo+venad+e\tbo\\textRadical{venad}e\n",
       "\t\t\tVER, CF=V2,  Trans=VD, Temps=PRS, Pers=3Pl, Genre=A, Nombre=Pl:\tbovenadine\t\\cacherGloses{3Pl+}acheter\\cacherGloses{.VD.V2}\\cacherGloses{-A.Pl}\\cacherGloses{+3Pl}\tbo+venad-in+e\tbo\\textRadical{venad}ine\n",
       "\t\t\tVER, CF=V2,  Trans=VD, Temps=PRS, Pers=3Pl, Genre=B, Nombre=Sg:\tbovenadode\t\\cacherGloses{3Pl+}acheter\\cacherGloses{.VD.V2}\\cacherGloses{-B}\\cacherGloses{+3Pl}\tbo+venad-od+e\tbo\\textRadical{venad}ode\n",
       "\t\t\tVER, CF=V2,  Trans=VD, Temps=PRS, Pers=3Pl, Genre=B, Nombre=Du:\tbovenadode\t\\cacherGloses{3Pl+}acheter\\cacherGloses{.VD.V2}\\cacherGloses{-B}\\cacherGloses{+3Pl}\tbo+venad-od+e\tbo\\textRadical{venad}ode\n",
       "\t\t\tVER, CF=V2,  Trans=VD, Temps=PRS, Pers=3Pl, Genre=B, Nombre=Pl:\tbovenadode\t\\cacherGloses{3Pl+}acheter\\cacherGloses{.VD.V2}\\cacherGloses{-B}\\cacherGloses{+3Pl}\tbo+venad-od+e\tbo\\textRadical{venad}ode\n",
       "\t\t\tVER, CF=V2,  Trans=VD, Temps=PRS, Pers=3Pl, Genre=C, Nombre=Sg:\ttivenadebu\t\\cacherGloses{3Pl.C+}acheter\\cacherGloses{.VD.V2}\\cacherGloses{-C}\\cacherGloses{+3Pl.C}\tti+venad-eb+u\tti\\textRadical{venad}ebu\n",
       "\t\t\tVER, CF=V2,  Trans=VD, Temps=PRS, Pers=3Pl, Genre=C, Nombre=Du:\ttivenadebu\t\\cacherGloses{3Pl.C+}acheter\\cacherGloses{.VD.V2}\\cacherGloses{-C}\\cacherGloses{+3Pl.C}\tti+venad-eb+u\tti\\textRadical{venad}ebu\n",
       "\t\t\tVER, CF=V2,  Trans=VD, Temps=PRS, Pers=3Pl, Genre=C, Nombre=Pl:\ttivenadebu\t\\cacherGloses{3Pl.C+}acheter\\cacherGloses{.VD.V2}\\cacherGloses{-C}\\cacherGloses{+3Pl.C}\tti+venad-eb+u\tti\\textRadical{venad}ebu\n",
       "\t\t\tVER, CF=V2,  Trans=VD, Temps=PRS, Pers=3Pl, Genre=D, Nombre=Sg:\tbovenadame\t\\cacherGloses{3Pl+}acheter\\cacherGloses{.VD.V2}\\cacherGloses{-D}\\cacherGloses{+3Pl}\tbo+venad-am+e\tbo\\textRadical{venad}ame\n",
       "\t\t\tVER, CF=V2,  Trans=VD, Temps=PRS, Pers=3Pl, Genre=D, Nombre=Du:\tbovenadame\t\\cacherGloses{3Pl+}acheter\\cacherGloses{.VD.V2}\\cacherGloses{-D}\\cacherGloses{+3Pl}\tbo+venad-am+e\tbo\\textRadical{venad}ame\n",
       "\t\t\tVER, CF=V2,  Trans=VD, Temps=PRS, Pers=3Pl, Genre=D, Nombre=Pl:\tbovenadame\t\\cacherGloses{3Pl+}acheter\\cacherGloses{.VD.V2}\\cacherGloses{-D}\\cacherGloses{+3Pl}\tbo+venad-am+e\tbo\\textRadical{venad}ame\n",
       "\t\t\tVER, CF=V2,  Trans=VD, Temps=PST, Pers=3Sg, Genre=A, Nombre=Sg:\tladuvonnedi\t\\cacherGloses{3Sg.A+}acheter\\cacherGloses{.VD.V2}\\cacherGloses{xPST}\\cacherGloses{+3Sg.A}\tla+racine(venad)xdu1A22V3+i\tladu\\textRacineC{v}o\\textRacineC{n}\\textRacineC{n}\\textRacineV{e}\\textRacineC{d}i\n",
       "\t\t\tVER, CF=V2,  Trans=VD, Temps=PST, Pers=3Sg, Genre=A, Nombre=Du:\tladuvonnedi\t\\cacherGloses{3Sg.A+}acheter\\cacherGloses{.VD.V2}\\cacherGloses{xPST}\\cacherGloses{+3Sg.A}\tla+racine(venad)xdu1A22V3+i\tladu\\textRacineC{v}o\\textRacineC{n}\\textRacineC{n}\\textRacineV{e}\\textRacineC{d}i\n",
       "\t\t\tVER, CF=V2,  Trans=VD, Temps=PST, Pers=3Sg, Genre=A, Nombre=Pl:\tladuvonnedini\t\\cacherGloses{3Sg.A+}acheter\\cacherGloses{.VD.V2}\\cacherGloses{xPST}\\cacherGloses{-A.Pl}\\cacherGloses{+3Sg.A}\tla+racine(venad)xdu1A22V3-in+i\tladu\\textRacineC{v}o\\textRacineC{n}\\textRacineC{n}\\textRacineV{e}\\textRacineC{d}ini\n",
       "\t\t\tVER, CF=V2,  Trans=VD, Temps=PST, Pers=3Sg, Genre=B, Nombre=Sg:\tduvonnedod\tacheter\\cacherGloses{.VD.V2}\\cacherGloses{xPST}\\cacherGloses{-B}\tracine(venad)xdu1A22V3-od\tdu\\textRacineC{v}o\\textRacineC{n}\\textRacineC{n}\\textRacineV{e}\\textRacineC{d}od\n",
       "\t\t\tVER, CF=V2,  Trans=VD, Temps=PST, Pers=3Sg, Genre=B, Nombre=Du:\tduvonnedod\tacheter\\cacherGloses{.VD.V2}\\cacherGloses{xPST}\\cacherGloses{-B}\tracine(venad)xdu1A22V3-od\tdu\\textRacineC{v}o\\textRacineC{n}\\textRacineC{n}\\textRacineV{e}\\textRacineC{d}od\n",
       "\t\t\tVER, CF=V2,  Trans=VD, Temps=PST, Pers=3Sg, Genre=B, Nombre=Pl:\tduvonnedod\tacheter\\cacherGloses{.VD.V2}\\cacherGloses{xPST}\\cacherGloses{-B}\tracine(venad)xdu1A22V3-od\tdu\\textRacineC{v}o\\textRacineC{n}\\textRacineC{n}\\textRacineV{e}\\textRacineC{d}od\n",
       "\t\t\tVER, CF=V2,  Trans=VD, Temps=PST, Pers=3Sg, Genre=C, Nombre=Sg:\tduvonnedeb\tacheter\\cacherGloses{.VD.V2}\\cacherGloses{xPST}\\cacherGloses{-C}\tracine(venad)xdu1A22V3-eb\tdu\\textRacineC{v}o\\textRacineC{n}\\textRacineC{n}\\textRacineV{e}\\textRacineC{d}eb\n",
       "\t\t\tVER, CF=V2,  Trans=VD, Temps=PST, Pers=3Sg, Genre=C, Nombre=Du:\tduvonnedeb\tacheter\\cacherGloses{.VD.V2}\\cacherGloses{xPST}\\cacherGloses{-C}\tracine(venad)xdu1A22V3-eb\tdu\\textRacineC{v}o\\textRacineC{n}\\textRacineC{n}\\textRacineV{e}\\textRacineC{d}eb\n",
       "\t\t\tVER, CF=V2,  Trans=VD, Temps=PST, Pers=3Sg, Genre=C, Nombre=Pl:\tduvonnedeb\tacheter\\cacherGloses{.VD.V2}\\cacherGloses{xPST}\\cacherGloses{-C}\tracine(venad)xdu1A22V3-eb\tdu\\textRacineC{v}o\\textRacineC{n}\\textRacineC{n}\\textRacineV{e}\\textRacineC{d}eb\n",
       "\t\t\tVER, CF=V2,  Trans=VD, Temps=PST, Pers=3Sg, Genre=D, Nombre=Sg:\tduvonnedam\tacheter\\cacherGloses{.VD.V2}\\cacherGloses{xPST}\\cacherGloses{-D}\tracine(venad)xdu1A22V3-am\tdu\\textRacineC{v}o\\textRacineC{n}\\textRacineC{n}\\textRacineV{e}\\textRacineC{d}am\n",
       "\t\t\tVER, CF=V2,  Trans=VD, Temps=PST, Pers=3Sg, Genre=D, Nombre=Du:\tduvonnedam\tacheter\\cacherGloses{.VD.V2}\\cacherGloses{xPST}\\cacherGloses{-D}\tracine(venad)xdu1A22V3-am\tdu\\textRacineC{v}o\\textRacineC{n}\\textRacineC{n}\\textRacineV{e}\\textRacineC{d}am\n",
       "\t\t\tVER, CF=V2,  Trans=VD, Temps=PST, Pers=3Sg, Genre=D, Nombre=Pl:\tduvonnedam\tacheter\\cacherGloses{.VD.V2}\\cacherGloses{xPST}\\cacherGloses{-D}\tracine(venad)xdu1A22V3-am\tdu\\textRacineC{v}o\\textRacineC{n}\\textRacineC{n}\\textRacineV{e}\\textRacineC{d}am\n",
       "\t\t\tVER, CF=V2,  Trans=VD, Temps=PST, Pers=3Du, Genre=A, Nombre=Sg:\tkeduvonnedo\t\\cacherGloses{3Du+}acheter\\cacherGloses{.VD.V2}\\cacherGloses{xPST}\\cacherGloses{+3Du}\tke+racine(venad)xdu1A22V3+o\tkedu\\textRacineC{v}o\\textRacineC{n}\\textRacineC{n}\\textRacineV{e}\\textRacineC{d}o\n",
       "\t\t\tVER, CF=V2,  Trans=VD, Temps=PST, Pers=3Du, Genre=A, Nombre=Du:\tkeduvonnedo\t\\cacherGloses{3Du+}acheter\\cacherGloses{.VD.V2}\\cacherGloses{xPST}\\cacherGloses{+3Du}\tke+racine(venad)xdu1A22V3+o\tkedu\\textRacineC{v}o\\textRacineC{n}\\textRacineC{n}\\textRacineV{e}\\textRacineC{d}o\n",
       "\t\t\tVER, CF=V2,  Trans=VD, Temps=PST, Pers=3Du, Genre=A, Nombre=Pl:\tkeduvonnedino\t\\cacherGloses{3Du+}acheter\\cacherGloses{.VD.V2}\\cacherGloses{xPST}\\cacherGloses{-A.Pl}\\cacherGloses{+3Du}\tke+racine(venad)xdu1A22V3-in+o\tkedu\\textRacineC{v}o\\textRacineC{n}\\textRacineC{n}\\textRacineV{e}\\textRacineC{d}ino\n",
       "\t\t\tVER, CF=V2,  Trans=VD, Temps=PST, Pers=3Du, Genre=B, Nombre=Sg:\tkeduvonnedodo\t\\cacherGloses{3Du+}acheter\\cacherGloses{.VD.V2}\\cacherGloses{xPST}\\cacherGloses{-B}\\cacherGloses{+3Du}\tke+racine(venad)xdu1A22V3-od+o\tkedu\\textRacineC{v}o\\textRacineC{n}\\textRacineC{n}\\textRacineV{e}\\textRacineC{d}odo\n",
       "\t\t\tVER, CF=V2,  Trans=VD, Temps=PST, Pers=3Du, Genre=B, Nombre=Du:\tkeduvonnedodo\t\\cacherGloses{3Du+}acheter\\cacherGloses{.VD.V2}\\cacherGloses{xPST}\\cacherGloses{-B}\\cacherGloses{+3Du}\tke+racine(venad)xdu1A22V3-od+o\tkedu\\textRacineC{v}o\\textRacineC{n}\\textRacineC{n}\\textRacineV{e}\\textRacineC{d}odo\n",
       "\t\t\tVER, CF=V2,  Trans=VD, Temps=PST, Pers=3Du, Genre=B, Nombre=Pl:\tkeduvonnedodo\t\\cacherGloses{3Du+}acheter\\cacherGloses{.VD.V2}\\cacherGloses{xPST}\\cacherGloses{-B}\\cacherGloses{+3Du}\tke+racine(venad)xdu1A22V3-od+o\tkedu\\textRacineC{v}o\\textRacineC{n}\\textRacineC{n}\\textRacineV{e}\\textRacineC{d}odo\n",
       "\t\t\tVER, CF=V2,  Trans=VD, Temps=PST, Pers=3Du, Genre=C, Nombre=Sg:\tkeduvonnedebo\t\\cacherGloses{3Du+}acheter\\cacherGloses{.VD.V2}\\cacherGloses{xPST}\\cacherGloses{-C}\\cacherGloses{+3Du}\tke+racine(venad)xdu1A22V3-eb+o\tkedu\\textRacineC{v}o\\textRacineC{n}\\textRacineC{n}\\textRacineV{e}\\textRacineC{d}ebo\n",
       "\t\t\tVER, CF=V2,  Trans=VD, Temps=PST, Pers=3Du, Genre=C, Nombre=Du:\tkeduvonnedebo\t\\cacherGloses{3Du+}acheter\\cacherGloses{.VD.V2}\\cacherGloses{xPST}\\cacherGloses{-C}\\cacherGloses{+3Du}\tke+racine(venad)xdu1A22V3-eb+o\tkedu\\textRacineC{v}o\\textRacineC{n}\\textRacineC{n}\\textRacineV{e}\\textRacineC{d}ebo\n",
       "\t\t\tVER, CF=V2,  Trans=VD, Temps=PST, Pers=3Du, Genre=C, Nombre=Pl:\tkeduvonnedebo\t\\cacherGloses{3Du+}acheter\\cacherGloses{.VD.V2}\\cacherGloses{xPST}\\cacherGloses{-C}\\cacherGloses{+3Du}\tke+racine(venad)xdu1A22V3-eb+o\tkedu\\textRacineC{v}o\\textRacineC{n}\\textRacineC{n}\\textRacineV{e}\\textRacineC{d}ebo\n",
       "\t\t\tVER, CF=V2,  Trans=VD, Temps=PST, Pers=3Du, Genre=D, Nombre=Sg:\tkeduvonnedamo\t\\cacherGloses{3Du+}acheter\\cacherGloses{.VD.V2}\\cacherGloses{xPST}\\cacherGloses{-D}\\cacherGloses{+3Du}\tke+racine(venad)xdu1A22V3-am+o\tkedu\\textRacineC{v}o\\textRacineC{n}\\textRacineC{n}\\textRacineV{e}\\textRacineC{d}amo\n",
       "\t\t\tVER, CF=V2,  Trans=VD, Temps=PST, Pers=3Du, Genre=D, Nombre=Du:\tkeduvonnedamo\t\\cacherGloses{3Du+}acheter\\cacherGloses{.VD.V2}\\cacherGloses{xPST}\\cacherGloses{-D}\\cacherGloses{+3Du}\tke+racine(venad)xdu1A22V3-am+o\tkedu\\textRacineC{v}o\\textRacineC{n}\\textRacineC{n}\\textRacineV{e}\\textRacineC{d}amo\n",
       "\t\t\tVER, CF=V2,  Trans=VD, Temps=PST, Pers=3Du, Genre=D, Nombre=Pl:\tkeduvonnedamo\t\\cacherGloses{3Du+}acheter\\cacherGloses{.VD.V2}\\cacherGloses{xPST}\\cacherGloses{-D}\\cacherGloses{+3Du}\tke+racine(venad)xdu1A22V3-am+o\tkedu\\textRacineC{v}o\\textRacineC{n}\\textRacineC{n}\\textRacineV{e}\\textRacineC{d}amo\n",
       "\t\t\tVER, CF=V2,  Trans=VD, Temps=PST, Pers=3Pl, Genre=A, Nombre=Sg:\tboduvonnede\t\\cacherGloses{3Pl+}acheter\\cacherGloses{.VD.V2}\\cacherGloses{xPST}\\cacherGloses{+3Pl}\tbo+racine(venad)xdu1A22V3+e\tbodu\\textRacineC{v}o\\textRacineC{n}\\textRacineC{n}\\textRacineV{e}\\textRacineC{d}e\n",
       "\t\t\tVER, CF=V2,  Trans=VD, Temps=PST, Pers=3Pl, Genre=A, Nombre=Du:\tboduvonnede\t\\cacherGloses{3Pl+}acheter\\cacherGloses{.VD.V2}\\cacherGloses{xPST}\\cacherGloses{+3Pl}\tbo+racine(venad)xdu1A22V3+e\tbodu\\textRacineC{v}o\\textRacineC{n}\\textRacineC{n}\\textRacineV{e}\\textRacineC{d}e\n",
       "\t\t\tVER, CF=V2,  Trans=VD, Temps=PST, Pers=3Pl, Genre=A, Nombre=Pl:\tboduvonnedine\t\\cacherGloses{3Pl+}acheter\\cacherGloses{.VD.V2}\\cacherGloses{xPST}\\cacherGloses{-A.Pl}\\cacherGloses{+3Pl}\tbo+racine(venad)xdu1A22V3-in+e\tbodu\\textRacineC{v}o\\textRacineC{n}\\textRacineC{n}\\textRacineV{e}\\textRacineC{d}ine\n",
       "\t\t\tVER, CF=V2,  Trans=VD, Temps=PST, Pers=3Pl, Genre=B, Nombre=Sg:\tboduvonnedode\t\\cacherGloses{3Pl+}acheter\\cacherGloses{.VD.V2}\\cacherGloses{xPST}\\cacherGloses{-B}\\cacherGloses{+3Pl}\tbo+racine(venad)xdu1A22V3-od+e\tbodu\\textRacineC{v}o\\textRacineC{n}\\textRacineC{n}\\textRacineV{e}\\textRacineC{d}ode\n",
       "\t\t\tVER, CF=V2,  Trans=VD, Temps=PST, Pers=3Pl, Genre=B, Nombre=Du:\tboduvonnedode\t\\cacherGloses{3Pl+}acheter\\cacherGloses{.VD.V2}\\cacherGloses{xPST}\\cacherGloses{-B}\\cacherGloses{+3Pl}\tbo+racine(venad)xdu1A22V3-od+e\tbodu\\textRacineC{v}o\\textRacineC{n}\\textRacineC{n}\\textRacineV{e}\\textRacineC{d}ode\n",
       "\t\t\tVER, CF=V2,  Trans=VD, Temps=PST, Pers=3Pl, Genre=B, Nombre=Pl:\tboduvonnedode\t\\cacherGloses{3Pl+}acheter\\cacherGloses{.VD.V2}\\cacherGloses{xPST}\\cacherGloses{-B}\\cacherGloses{+3Pl}\tbo+racine(venad)xdu1A22V3-od+e\tbodu\\textRacineC{v}o\\textRacineC{n}\\textRacineC{n}\\textRacineV{e}\\textRacineC{d}ode\n",
       "\t\t\tVER, CF=V2,  Trans=VD, Temps=PST, Pers=3Pl, Genre=C, Nombre=Sg:\ttiduvonnedebu\t\\cacherGloses{3Pl.C+}acheter\\cacherGloses{.VD.V2}\\cacherGloses{xPST}\\cacherGloses{-C}\\cacherGloses{+3Pl.C}\tti+racine(venad)xdu1A22V3-eb+u\ttidu\\textRacineC{v}o\\textRacineC{n}\\textRacineC{n}\\textRacineV{e}\\textRacineC{d}ebu\n",
       "\t\t\tVER, CF=V2,  Trans=VD, Temps=PST, Pers=3Pl, Genre=C, Nombre=Du:\ttiduvonnedebu\t\\cacherGloses{3Pl.C+}acheter\\cacherGloses{.VD.V2}\\cacherGloses{xPST}\\cacherGloses{-C}\\cacherGloses{+3Pl.C}\tti+racine(venad)xdu1A22V3-eb+u\ttidu\\textRacineC{v}o\\textRacineC{n}\\textRacineC{n}\\textRacineV{e}\\textRacineC{d}ebu\n",
       "\t\t\tVER, CF=V2,  Trans=VD, Temps=PST, Pers=3Pl, Genre=C, Nombre=Pl:\ttiduvonnedebu\t\\cacherGloses{3Pl.C+}acheter\\cacherGloses{.VD.V2}\\cacherGloses{xPST}\\cacherGloses{-C}\\cacherGloses{+3Pl.C}\tti+racine(venad)xdu1A22V3-eb+u\ttidu\\textRacineC{v}o\\textRacineC{n}\\textRacineC{n}\\textRacineV{e}\\textRacineC{d}ebu\n",
       "\t\t\tVER, CF=V2,  Trans=VD, Temps=PST, Pers=3Pl, Genre=D, Nombre=Sg:\tboduvonnedame\t\\cacherGloses{3Pl+}acheter\\cacherGloses{.VD.V2}\\cacherGloses{xPST}\\cacherGloses{-D}\\cacherGloses{+3Pl}\tbo+racine(venad)xdu1A22V3-am+e\tbodu\\textRacineC{v}o\\textRacineC{n}\\textRacineC{n}\\textRacineV{e}\\textRacineC{d}ame\n",
       "\t\t\tVER, CF=V2,  Trans=VD, Temps=PST, Pers=3Pl, Genre=D, Nombre=Du:\tboduvonnedame\t\\cacherGloses{3Pl+}acheter\\cacherGloses{.VD.V2}\\cacherGloses{xPST}\\cacherGloses{-D}\\cacherGloses{+3Pl}\tbo+racine(venad)xdu1A22V3-am+e\tbodu\\textRacineC{v}o\\textRacineC{n}\\textRacineC{n}\\textRacineV{e}\\textRacineC{d}ame\n",
       "\t\t\tVER, CF=V2,  Trans=VD, Temps=PST, Pers=3Pl, Genre=D, Nombre=Pl:\tboduvonnedame\t\\cacherGloses{3Pl+}acheter\\cacherGloses{.VD.V2}\\cacherGloses{xPST}\\cacherGloses{-D}\\cacherGloses{+3Pl}\tbo+racine(venad)xdu1A22V3-am+e\tbodu\\textRacineC{v}o\\textRacineC{n}\\textRacineC{n}\\textRacineV{e}\\textRacineC{d}ame"
      ]
     },
     "execution_count": 27,
     "metadata": {},
     "output_type": "execute_result"
    }
   ],
   "source": [
    "PFM.lexique.lexemes[u'acheter.VD.V2']"
   ]
  },
  {
   "cell_type": "markdown",
   "metadata": {},
   "source": [
    "#### Définition des segments"
   ]
  },
  {
   "cell_type": "code",
   "execution_count": 28,
   "metadata": {
    "collapsed": false
   },
   "outputs": [],
   "source": [
    "consonnes=phonology[\"consonnes\"]\n",
    "voyelles=phonology[\"voyelles\"]\n",
    "gabarits=phonology[\"gabarits\"]\n",
    "derives=phonology[\"derives\"]\n",
    "nom_classe=phonology[\"nom_classe\"]\n",
    "nom_apo=phonology[\"apophonies\"]\n",
    "nom_mut=phonology[\"mutations\"]\n",
    "syllabes=phonology[\"syllabes\"]"
   ]
  },
  {
   "cell_type": "markdown",
   "metadata": {},
   "source": [
    "#### Attention aux correspondances pour les syllabes\n",
    "YAML interprète la clé no comme False"
   ]
  },
  {
   "cell_type": "code",
   "execution_count": 29,
   "metadata": {
    "collapsed": false
   },
   "outputs": [],
   "source": [
    "def parse_grapho(graphie):\n",
    "#    chunks=re.findall(r\"([ptkbdgmnNfsSvzjrlyv]?[aeiou]?)|[aeiou]|[ptkbdgmnNfsSvzjrlyv]|[.…,;!?:—–()\\[\\]\\/# \"\"«»<>]\", graphie)\n",
    "#    chunks=re.findall(r\"([ptkbdgmnNfsSvzZjwrlyv]?[aeiou]?|[.…,;!?:—–()\\[\\]\\/#\"\"«»<>]+|.*)\", graphie,re.U)\n",
    "    chunks=re.findall(ur\"\\s+|[ptkbdgmnNfsSvzZjwrlyv]?[aeiou]?\", graphie,re.U)\n",
    "    result=[]\n",
    "#    print chunks\n",
    "    for chunk in chunks:\n",
    "#        print [chunk],syllabes.keys()\n",
    "        if chunk in syllabes.keys():\n",
    "            result.append(syllabes[chunk])\n",
    "        else:\n",
    "            result.append(chunk)\n",
    "    return \"\".join(result)"
   ]
  },
  {
   "cell_type": "code",
   "execution_count": 30,
   "metadata": {
    "collapsed": false
   },
   "outputs": [],
   "source": [
    "def parse_cloze(glose):\n",
    "    if debug: print [glose]\n",
    "    chunks=re.findall(r\"\\\\cacherGloses{([^}]*)?}|(\\w+)\", glose,re.UNICODE)\n",
    "    result=[]\n",
    "    for chunk in chunks:\n",
    "        result.extend([x for x in chunk if x!=\"\"])\n",
    "    return u\"%s;\"%len(result)+\";\".join(result)"
   ]
  },
  {
   "cell_type": "code",
   "execution_count": 31,
   "metadata": {
    "collapsed": false
   },
   "outputs": [],
   "source": [
    "#grapho=recoder(\"SviNaNeNNoNN\",translit)\n",
    "#grapho,parse_grapho(grapho)"
   ]
  },
  {
   "cell_type": "code",
   "execution_count": 32,
   "metadata": {
    "collapsed": false
   },
   "outputs": [],
   "source": [
    "if \"Cas\" in morphosyntax:\n",
    "    casSyntagmes=morphosyntax[\"Cas\"]\n",
    "else:\n",
    "    casSyntagmes=\"\"\n",
    "lexiquePrepositions=[stems[\"PREP\"][x][0] for x in stems[\"PREP\"]]\n",
    "casPreposition={}\n",
    "for preposition in lexiquePrepositions:\n",
    "    prep=preposition.upper()\n",
    "    if casSyntagmes and prep in casSyntagmes:\n",
    "        casPreposition[preposition]=casSyntagmes[prep]\n",
    "    elif casSyntagmes and \"PREP\" in casSyntagmes:\n",
    "        casPreposition[preposition]=casSyntagmes[\"PREP\"]\n",
    "    else:\n",
    "        casPreposition[preposition]=\"\"\n",
    "glosePREP={x:u\"%s%s\"%(x.upper(),cacherGloses(\"[\"+casPreposition[x].strip(\"+\").capitalize()+\"]\")) for x in casPreposition if \"+\" in casPreposition[x]}"
   ]
  },
  {
   "cell_type": "code",
   "execution_count": 33,
   "metadata": {
    "collapsed": false
   },
   "outputs": [
    {
     "data": {
      "text/plain": [
       "{'avec': u'AVEC\\\\cacherGloses{[Abs]}',\n",
       " 'dans': u'DANS\\\\cacherGloses{[Abs]}',\n",
       " 'de': u'DE\\\\cacherGloses{[Gen]}',\n",
       " 'devant': u'DEVANT\\\\cacherGloses{[Abs]}',\n",
       " 'pour': u'POUR\\\\cacherGloses{[Dat]}',\n",
       " 'sous': u'SOUS\\\\cacherGloses{[Abs]}',\n",
       " 'sur': u'SUR\\\\cacherGloses{[Abs]}',\n",
       " u'\\xe0': u'\\xc0\\\\cacherGloses{[Abs]}'}"
      ]
     },
     "execution_count": 33,
     "metadata": {},
     "output_type": "execute_result"
    }
   ],
   "source": [
    "glosePREP"
   ]
  },
  {
   "cell_type": "code",
   "execution_count": 34,
   "metadata": {
    "collapsed": false
   },
   "outputs": [
    {
     "name": "stdout",
     "output_type": "stream",
     "text": [
      "%% version : __file__\n",
      "%% traitement : 160331-1837\n"
     ]
    }
   ],
   "source": [
    "try:\n",
    "    __IPYTHON__ \n",
    "    ipython=True\n",
    "except: \n",
    "    ipython=False\n",
    "\n",
    "version=os.path.basename(\"__file__\")\n",
    "time_stamp='%s' % time.strftime(\"%y%m%d-%H%M\")\n",
    "print \"%% version : \"+version\n",
    "print \"%% traitement : \"+time_stamp\n",
    "\n",
    "if ipython or True:\n",
    "#    lexeme_nom=\"lexemes.txt\"\n",
    "#    phrase_nom=\"phrases.txt\"\n",
    "    pass\n",
    "else:\n",
    "    parser=optparse.OptionParser()\n",
    "    parser.add_option(\"-o\", \"--out\", dest=\"outfile\", action=\"store_true\", help=\"write to FILE\")\n",
    "    parser.add_option(\"-c\", \"--cloze\", dest=\"print_cloze\", action=\"store_true\", help=\"write a CLOZE FILE\")\n",
    "    parser.add_option(\"-l\", \"--lexicon\", dest=\"print_lexique\", action=\"store_true\", help=\"append a lexicon\")\n",
    "    parser.add_option(\"-r\", \"--roots\", dest=\"print_racines\", action=\"store_true\", help=\"append a root list\")\n",
    "\n",
    "    (options, args) = parser.parse_args()\n",
    "    lexeme_nom=args[0]\n",
    "    phrase_nom=args[1]"
   ]
  },
  {
   "cell_type": "code",
   "execution_count": 35,
   "metadata": {
    "collapsed": true
   },
   "outputs": [],
   "source": [
    "def recoder(chaine,table,boolUTF8=True):\n",
    "    if type(chaine)==str:\n",
    "        temp=unicode(chaine.decode('utf8')).translate(table)\n",
    "        result=temp\n",
    "    elif type(chaine)==unicode:\n",
    "        result=chaine.translate(table)\n",
    "    if boolUTF8:\n",
    "        return result\n",
    "    else:\n",
    "        return result.encode(\"utf8\")\n",
    "#translit=string.maketrans(u'iueoaftgzZvjkSpN',u'tgazpHTGZJVkXyxI')"
   ]
  },
  {
   "cell_type": "code",
   "execution_count": 36,
   "metadata": {
    "collapsed": false
   },
   "outputs": [],
   "source": [
    "phonoIn =  unicode(phonology[\"translations\"][\"grapho\"][\"in\"])\n",
    "graphoIn = [ord(char) for char in phonoIn]\n",
    "graphoOut = unicode(phonology[\"translations\"][\"grapho\"][\"out\"])\n",
    "translit = dict(zip(graphoIn, graphoOut))"
   ]
  },
  {
   "cell_type": "code",
   "execution_count": 37,
   "metadata": {
    "collapsed": false
   },
   "outputs": [],
   "source": [
    "accentedIn = unicode(phonology[\"translations\"][\"deaccent\"][\"in\"])\n",
    "deaccentIn = [ord(char) for char in accentedIn]\n",
    "deaccentOut = unicode(phonology[\"translations\"][\"deaccent\"][\"out\"])\n",
    "deaccent = dict(zip(deaccentIn, deaccentOut))\n",
    "\n",
    "deligatures=phonology[\"translations\"][\"deligatures\"]"
   ]
  },
  {
   "cell_type": "code",
   "execution_count": 38,
   "metadata": {
    "collapsed": false
   },
   "outputs": [],
   "source": [
    "#translit"
   ]
  },
  {
   "cell_type": "code",
   "execution_count": 39,
   "metadata": {
    "collapsed": false
   },
   "outputs": [],
   "source": [
    "tipaIn = unicode(phonology[\"translations\"][\"ipa\"][\"in\"])\n",
    "ipaIn = [ord(char) for char in tipaIn]\n",
    "ipaOut = unicode(phonology[\"translations\"][\"ipa\"][\"out\"])\n",
    "toipa = dict(zip(ipaIn, ipaOut))"
   ]
  },
  {
   "cell_type": "code",
   "execution_count": 40,
   "metadata": {
    "collapsed": false,
    "scrolled": true
   },
   "outputs": [],
   "source": [
    "tableaux={}\n",
    "gloseClozes={}\n",
    "declarations=[]\n",
    "for categorie in PFM.lexique.catLexeme:\n",
    "    if not categorie in tableaux:\n",
    "        tableaux[categorie]=set()\n",
    "        gloseClozes[categorie]=[]\n",
    "    if verbose: print categorie\n",
    "    for lexeme in PFM.lexique.catLexeme[categorie]:\n",
    "        if verbose: print PFM.lexique.lexemes[lexeme]\n",
    "        for case in PFM.lexique.lexemes[lexeme].paradigme.cases:\n",
    "            caseGlose=case.glose\n",
    "            if categorie in PFM.categoriesMajeures:\n",
    "                nom=PFM.lexique.lexemes[lexeme].nom\n",
    "            else:\n",
    "                nom=PFM.lexique.lexemes[lexeme].nom.upper()\n",
    "                gloseCase=case.glose\n",
    "                if categorie==\"PREP\" and gloseCase in glosePREP:\n",
    "                    caseGlose=glosePREP[gloseCase]\n",
    "                elif categorie==\"PREP\":\n",
    "                    caseGlose=caseGlose.upper()\n",
    "#                print caseGlose\n",
    "            ref=PFM.modifierGlose(nom,case.sigma,\"ref\")\n",
    "            ref=recoder(ref,deaccent)\n",
    "            for ligature in deligatures:\n",
    "                ref=ref.replace(ligature,deligatures[ligature])\n",
    "            for pers in personnes:\n",
    "                ref=ref.replace(pers,personnes[pers])\n",
    "            for num in numeros:\n",
    "                ref=ref.replace(num,numeros[num])\n",
    "#            phono=case.forme\n",
    "#            print (\"lexeme\",lexeme)\n",
    "            grapho=chaine2utf8(re.sub(ur\"\\s+\",ur\"\",recoder(parse_grapho(case.forme),translit)))\n",
    "            if print_radicaux:\n",
    "                phono=case.detoure.replace(\" \",\"\")\n",
    "            else:\n",
    "                phono=case.forme.replace(\" \",\"\")\n",
    "#            print [ref,grapho]\n",
    "            declarations.append(commandGrapho%(ref,grapho))\n",
    "            declarations.append(commandPhono%(ref,phono))\n",
    "            declarations.append(commandGlose%(ref,caseGlose))\n",
    "            if print_glose:\n",
    "                tableaux[categorie].add(\"\\\\\"+ref+\" & \\\\\"+ref+\"P & \\\\\"+ref+\"G \\\\\\\\\")\n",
    "            else:\n",
    "                tableaux[categorie].add(\"\\\\\"+ref+\" & \\\\\"+ref+\"P & \\\\blanc{\\\\\"+ref+\"G} \\\\\\\\\")\n",
    "            if print_cloze:\n",
    "                vedette=nom.split(\".\")[0]\n",
    "                gloses=parse_cloze(case.glose)\n",
    "                if debug: print [grapho, recoder(phono,toipa)]\n",
    "                try:\n",
    "                    cloze=u\";\".join([ref,vedette,categorie,recoder(phono,toipa),recoder(case.decoupe,toipa),case.sigma,gloses])\n",
    "                except NameError:\n",
    "                    cloze=u\";\".join([ref,vedette,categorie,recoder(phono,toipa),gloses])\n",
    "                gloseClozes[categorie].append(cloze)\n",
    "    "
   ]
  },
  {
   "cell_type": "code",
   "execution_count": 41,
   "metadata": {
    "collapsed": true
   },
   "outputs": [],
   "source": [
    "if print_radicaux:\n",
    "    nomDeclaration=\"Declarations-Radicaux.tex\"\n",
    "    nomTableaux=\"Tableaux-Radicaux.yaml\"\n",
    "else:\n",
    "    nomDeclaration=\"Declarations.tex\"\n",
    "    nomTableaux=\"Tableaux.yaml\""
   ]
  },
  {
   "cell_type": "code",
   "execution_count": 42,
   "metadata": {
    "collapsed": false,
    "scrolled": true
   },
   "outputs": [],
   "source": [
    "with codecs.open(serie+nomDeclaration, 'wb', encoding='utf8') as output:\n",
    "    for declaration in declarations:\n",
    "#        print type(declaration),declaration\n",
    "        output.write(declaration+\"\\n\")"
   ]
  },
  {
   "cell_type": "code",
   "execution_count": 43,
   "metadata": {
    "collapsed": false
   },
   "outputs": [],
   "source": [
    "if not print_radicaux:\n",
    "    with codecs.open(serie+\"Clozes.txt\", 'wb', encoding='utf8') as output:\n",
    "        for categorie in gloseClozes:\n",
    "            output.write(\"#\\t\"+categorie+\"\\n#\\n#\\n\")\n",
    "            for cloze in gloseClozes[categorie]:\n",
    "                output.write(cloze+\"\\n\")\n",
    "            output.write(\"#\\n#\\n#\\n\")"
   ]
  },
  {
   "cell_type": "code",
   "execution_count": 44,
   "metadata": {
    "collapsed": false
   },
   "outputs": [],
   "source": [
    "yaml.safe_dump(tableaux, file(serie+nomTableaux, 'w'), encoding='utf-8', allow_unicode=True)"
   ]
  },
  {
   "cell_type": "code",
   "execution_count": 45,
   "metadata": {
    "collapsed": false,
    "scrolled": true
   },
   "outputs": [],
   "source": [
    "#gloseClozes"
   ]
  },
  {
   "cell_type": "code",
   "execution_count": 46,
   "metadata": {
    "collapsed": false,
    "scrolled": true
   },
   "outputs": [],
   "source": [
    "#declarations"
   ]
  },
  {
   "cell_type": "code",
   "execution_count": null,
   "metadata": {
    "collapsed": true
   },
   "outputs": [],
   "source": []
  },
  {
   "cell_type": "code",
   "execution_count": null,
   "metadata": {
    "collapsed": false
   },
   "outputs": [],
   "source": []
  }
 ],
 "metadata": {
  "kernelspec": {
   "display_name": "Python 2",
   "language": "python",
   "name": "python2"
  },
  "language_info": {
   "codemirror_mode": {
    "name": "ipython",
    "version": 2
   },
   "file_extension": ".py",
   "mimetype": "text/x-python",
   "name": "python",
   "nbconvert_exporter": "python",
   "pygments_lexer": "ipython2",
   "version": "2.7.11"
  }
 },
 "nbformat": 4,
 "nbformat_minor": 0
}

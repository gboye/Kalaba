{
 "cells": [
  {
   "cell_type": "code",
   "execution_count": 101,
   "metadata": {
    "collapsed": false
   },
   "outputs": [],
   "source": [
    "# -*- coding: utf8 -*-\n",
    "from os.path import expanduser\n",
    "home = expanduser(\"~\")\n",
    "repertoire=home+\"/Copy/Cours/Bordeaux/L1-UE1/Kalaba-15/03-PseudoXXX\"\n",
    "serie=repertoire+\"/\"\n",
    "#########################IMPORTS############################################\n",
    "import codecs, optparse\n",
    "import re, random\n",
    "import sys,os,time\n",
    "import string\n",
    "import yaml\n",
    "import ParFuMor as PFM\n",
    "from ParFuMor import *\n",
    "import pickle"
   ]
  },
  {
   "cell_type": "code",
   "execution_count": 102,
   "metadata": {
    "collapsed": false
   },
   "outputs": [],
   "source": [
    "print_glose=False\n",
    "print_cloze=False\n",
    "numeros={'1':'Un','2':'Deux','3':'Trois','4':'Quatre','5':'Cinq'}\n",
    "personnes={'1sg':'UnSg','2sg':'DeuxSg','3sg':'TroisSg','1pl':'UnPl','2pl':'DeuxPl','3pl':'TroisPl'}\n",
    "\n",
    "commandGrapho=\"\\\\newcommand{\\\\%s}{\\\\strutgb{0pt}\\\\grapho{%s}}\"\n",
    "#commandGrapho=\"\\\\newcommand{\\\\%s}{\\\\strutgb{0pt}{\\\\dn %s}}\"\n",
    "#commandGrapho=u\"\\\\newcommand{\\\\%s}{\\\\strutgb{0pt}{%s}}\"\n",
    "commandPhono=u\"\\\\newcommand{\\\\%sP}{\\\\textipa{%s}}\"\n",
    "commandGlose=u\"\\\\newcommand{\\\\%sG}{%s}\""
   ]
  },
  {
   "cell_type": "code",
   "execution_count": 103,
   "metadata": {
    "collapsed": false
   },
   "outputs": [],
   "source": [
    "with open(serie+\"Phonology.yaml\", 'r') as stream:\n",
    "    phonology=yaml.load(stream)\n",
    "with open(serie+\"Stems.yaml\", 'r') as stream:\n",
    "    stems=yaml.load(stream)\n",
    "with open(serie+\"MorphoSyntax.yaml\", 'r') as stream:\n",
    "    morphosyntax=yaml.load(stream)\n",
    "with open(serie+\"Hierarchie.pkl\", 'rb') as input:\n",
    "   PFM.hierarchieCF = pickle.load(input)\n",
    "with open(serie+\"Lexique.pkl\", 'rb') as input:\n",
    "   PFM.lexique = pickle.load(input)\n",
    "with open(serie+\"Regles.pkl\", 'rb') as input:\n",
    "   PFM.regles = pickle.load(input)"
   ]
  },
  {
   "cell_type": "code",
   "execution_count": 104,
   "metadata": {
    "collapsed": false
   },
   "outputs": [
    {
     "data": {
      "text/plain": [
       "[u'\\xe0']"
      ]
     },
     "execution_count": 104,
     "metadata": {},
     "output_type": "execute_result"
    }
   ],
   "source": [
    "PFM.lexique.lexemes[u'à'].formes"
   ]
  },
  {
   "cell_type": "markdown",
   "metadata": {},
   "source": [
    "####Définition des segments"
   ]
  },
  {
   "cell_type": "code",
   "execution_count": 105,
   "metadata": {
    "collapsed": false
   },
   "outputs": [],
   "source": [
    "consonnes=phonology[\"consonnes\"]\n",
    "voyelles=phonology[\"voyelles\"]\n",
    "gabarits=phonology[\"gabarits\"]\n",
    "derives=phonology[\"derives\"]\n",
    "nom_classe=phonology[\"nom_classe\"]\n",
    "nom_apo=phonology[\"apophonies\"]\n",
    "nom_mut=phonology[\"mutations\"]\n",
    "syllabes=phonology[\"syllabes\"]"
   ]
  },
  {
   "cell_type": "markdown",
   "metadata": {},
   "source": [
    "####Attention aux correspondances pour les syllabes\n",
    "YAML interprète la clé no comme False"
   ]
  },
  {
   "cell_type": "code",
   "execution_count": 106,
   "metadata": {
    "collapsed": false
   },
   "outputs": [],
   "source": [
    "def parse_grapho(graphie):\n",
    "#    chunks=re.findall(r\"([ptkbdgmnNfsSvzjrlyv]?[aeiou]?)|[aeiou]|[ptkbdgmnNfsSvzjrlyv]|[.…,;!?:—–()\\[\\]\\/# \"\"«»<>]\", graphie)\n",
    "#    chunks=re.findall(r\"([ptkbdgmnNfsSvzZjwrlyv]?[aeiou]?|[.…,;!?:—–()\\[\\]\\/#\"\"«»<>]+|.*)\", graphie,re.U)\n",
    "#    print graphie\n",
    "    chunks=re.findall(ur\"\\s+|[ptkbdgmnNfsSvzZjwrlyv]?[aeiou]?\", graphie,re.U)\n",
    "    result=[]\n",
    "#    print chunks\n",
    "    for chunk in chunks:\n",
    "#        print [chunk],syllabes.keys()\n",
    "        if chunk in syllabes.keys():\n",
    "            result.append(syllabes[chunk])\n",
    "        else:\n",
    "            result.append(chunk)\n",
    "    return \"\".join(result)"
   ]
  },
  {
   "cell_type": "code",
   "execution_count": 107,
   "metadata": {
    "collapsed": false
   },
   "outputs": [],
   "source": [
    "def parse_cloze(glose):\n",
    "    chunks=re.findall(r\"\\\\cacherGloses{([^}]*)?}|(\\w+)\", glose.decode('utf8'),re.UNICODE)\n",
    "    result=[]\n",
    "    for chunk in chunks:\n",
    "        result.extend([x.encode('utf8') for x in chunk if x!=\"\"])\n",
    "    return u\"%s;\"%len(result)+\";\".join(result)"
   ]
  },
  {
   "cell_type": "code",
   "execution_count": 108,
   "metadata": {
    "collapsed": false
   },
   "outputs": [],
   "source": [
    "#grapho=recoder(\"SviNaNeNNoNN\",translit)\n",
    "#grapho,parse_grapho(grapho)"
   ]
  },
  {
   "cell_type": "code",
   "execution_count": 109,
   "metadata": {
    "collapsed": false
   },
   "outputs": [],
   "source": [
    "if \"Cas\" in morphosyntax:\n",
    "    casSyntagmes=morphosyntax[\"Cas\"]\n",
    "else:\n",
    "    casSyntagmes=\"\"\n",
    "lexiquePrepositions=[stems[\"PREP\"][x][0] for x in stems[\"PREP\"]]\n",
    "casPreposition={}\n",
    "for preposition in lexiquePrepositions:\n",
    "    prep=preposition.upper()\n",
    "    if casSyntagmes and prep in casSyntagmes:\n",
    "        casPreposition[preposition]=casSyntagmes[prep]\n",
    "    elif casSyntagmes and \"PREP\" in casSyntagmes:\n",
    "        casPreposition[preposition]=casSyntagmes[\"PREP\"]\n",
    "    else:\n",
    "        casPreposition[preposition]=\"\"\n",
    "glosePREP={x:u\"%s%s\"%(x.upper(),cacherGloses(\"[\"+casPreposition[x].strip(\"+\").capitalize()+\"]\")) for x in casPreposition if \"+\" in casPreposition[x]}"
   ]
  },
  {
   "cell_type": "code",
   "execution_count": 110,
   "metadata": {
    "collapsed": false
   },
   "outputs": [
    {
     "data": {
      "text/plain": [
       "{'avec': u'AVEC\\\\cacherGloses{[Nom]}',\n",
       " 'dans': u'DANS\\\\cacherGloses{[Nom]}',\n",
       " 'de': u'DE\\\\cacherGloses{[Gen]}',\n",
       " 'devant': u'DEVANT\\\\cacherGloses{[Nom]}',\n",
       " 'pour': u'POUR\\\\cacherGloses{[Dat]}',\n",
       " 'sous': u'SOUS\\\\cacherGloses{[Nom]}',\n",
       " 'sur': u'SUR\\\\cacherGloses{[Nom]}',\n",
       " u'\\xe0': u'\\xc0\\\\cacherGloses{[Acc]}'}"
      ]
     },
     "execution_count": 110,
     "metadata": {},
     "output_type": "execute_result"
    }
   ],
   "source": [
    "glosePREP"
   ]
  },
  {
   "cell_type": "code",
   "execution_count": 111,
   "metadata": {
    "collapsed": false
   },
   "outputs": [
    {
     "name": "stdout",
     "output_type": "stream",
     "text": [
      "%% version : __file__\n",
      "%% traitement : 150926-0928\n"
     ]
    }
   ],
   "source": [
    "try:\n",
    "    __IPYTHON__ \n",
    "    ipython=True\n",
    "except: \n",
    "    ipython=False\n",
    "\n",
    "version=os.path.basename(\"__file__\")\n",
    "time_stamp='%s' % time.strftime(\"%y%m%d-%H%M\")\n",
    "print \"%% version : \"+version\n",
    "print \"%% traitement : \"+time_stamp\n",
    "\n",
    "if ipython or True:\n",
    "#    lexeme_nom=\"lexemes.txt\"\n",
    "#    phrase_nom=\"phrases.txt\"\n",
    "    pass\n",
    "else:\n",
    "    parser=optparse.OptionParser()\n",
    "    parser.add_option(\"-o\", \"--out\", dest=\"outfile\", action=\"store_true\", help=\"write to FILE\")\n",
    "    parser.add_option(\"-c\", \"--cloze\", dest=\"print_cloze\", action=\"store_true\", help=\"write a CLOZE FILE\")\n",
    "    parser.add_option(\"-l\", \"--lexicon\", dest=\"print_lexique\", action=\"store_true\", help=\"append a lexicon\")\n",
    "    parser.add_option(\"-r\", \"--roots\", dest=\"print_racines\", action=\"store_true\", help=\"append a root list\")\n",
    "\n",
    "    (options, args) = parser.parse_args()\n",
    "    lexeme_nom=args[0]\n",
    "    phrase_nom=args[1]"
   ]
  },
  {
   "cell_type": "code",
   "execution_count": 112,
   "metadata": {
    "collapsed": false
   },
   "outputs": [],
   "source": [
    "def recoder(chaine,table):\n",
    "    if type(chaine)==str:\n",
    "        temp=unicode(chaine.decode('utf8')).translate(table)\n",
    "        result=temp.encode('utf8')\n",
    "    elif type(chaine)==unicode:\n",
    "        result=chaine.translate(table)\n",
    "    return result\n",
    "#translit=string.maketrans(u'iueoaftgzZvjkSpN',u'tgazpHTGZJVkXyxI')\n",
    "phonoIn =  unicode(phonology[\"translations\"][\"grapho\"][\"in\"])\n",
    "graphoIn = [ord(char) for char in phonoIn]\n",
    "graphoOut = unicode(phonology[\"translations\"][\"grapho\"][\"out\"])\n",
    "translit = dict(zip(graphoIn, graphoOut))"
   ]
  },
  {
   "cell_type": "code",
   "execution_count": 113,
   "metadata": {
    "collapsed": false
   },
   "outputs": [],
   "source": [
    "accentedIn = unicode(phonology[\"translations\"][\"deaccent\"][\"in\"])\n",
    "deaccentIn = [ord(char) for char in accentedIn]\n",
    "deaccentOut = unicode(phonology[\"translations\"][\"deaccent\"][\"out\"])\n",
    "deaccent = dict(zip(deaccentIn, deaccentOut))"
   ]
  },
  {
   "cell_type": "code",
   "execution_count": 114,
   "metadata": {
    "collapsed": false
   },
   "outputs": [],
   "source": [
    "tipaIn = unicode(phonology[\"translations\"][\"ipa\"][\"in\"])\n",
    "ipaIn = [ord(char) for char in tipaIn]\n",
    "ipaOut = unicode(phonology[\"translations\"][\"ipa\"][\"out\"])\n",
    "toipa = dict(zip(ipaIn, ipaOut))"
   ]
  },
  {
   "cell_type": "code",
   "execution_count": 115,
   "metadata": {
    "collapsed": false,
    "scrolled": true
   },
   "outputs": [],
   "source": [
    "tableaux={}\n",
    "gloseClozes={}\n",
    "declarations=[]\n",
    "for categorie in PFM.lexique.catLexeme:\n",
    "    if not categorie in tableaux:\n",
    "        tableaux[categorie]=[]\n",
    "        gloseClozes[categorie]=[]\n",
    "    if verbose: print categorie\n",
    "    for lexeme in PFM.lexique.catLexeme[categorie]:\n",
    "        if verbose: print PFM.lexique.lexemes[lexeme]\n",
    "        for case in PFM.lexique.lexemes[lexeme].paradigme.cases:\n",
    "            caseGlose=case.glose\n",
    "            if categorie in PFM.categoriesMajeures:\n",
    "                nom=PFM.lexique.lexemes[lexeme].nom\n",
    "            else:\n",
    "                nom=PFM.lexique.lexemes[lexeme].nom.upper()\n",
    "                gloseCase=case.glose\n",
    "                if categorie==\"PREP\" and gloseCase in glosePREP:\n",
    "                    caseGlose=glosePREP[gloseCase]\n",
    "                elif categorie==\"PREP\":\n",
    "                    caseGlose=caseGlose.upper()\n",
    "#                print caseGlose\n",
    "            ref=PFM.modifierGlose(nom,case.sigma,\"ref\")\n",
    "            ref=recoder(ref,deaccent)\n",
    "            for pers in personnes:\n",
    "                ref=ref.replace(pers,personnes[pers])\n",
    "            for num in numeros:\n",
    "                ref=ref.replace(num,numeros[num])\n",
    "#            phono=case.forme\n",
    "#            print (\"lexeme\",lexeme)\n",
    "            grapho=chaine2utf8(recoder(parse_grapho(case.forme),translit))\n",
    "            phono=case.forme.replace(\" \",\"\")\n",
    "#            print [ref,grapho]\n",
    "            declarations.append(commandGrapho%(ref,grapho))\n",
    "            declarations.append(commandPhono%(ref,phono))\n",
    "            declarations.append(commandGlose%(ref,caseGlose))\n",
    "            if print_glose:\n",
    "                tableaux[categorie].append(\"\\\\\"+ref+\" & \\\\\"+ref+\"P & \\\\\"+ref+\"G \\\\\\\\\")\n",
    "            else:\n",
    "                tableaux[categorie].append(\"\\\\\"+ref+\" & \\\\\"+ref+\"P & \\\\blanc{\\\\\"+ref+\"G} \\\\\\\\\")\n",
    "            if print_cloze:\n",
    "                vedette=nom.split(\".\")[0]\n",
    "                gloses=parse_cloze(case.glose)\n",
    "                try:\n",
    "                    cloze=\";\".join([vedette,categorie,phono,case.decoupe,case.sigma,gloses])\n",
    "                except NameError:\n",
    "                    cloze=\";\".join([vedette,categorie,phono,gloses])\n",
    "                gloseClozes[categorie].append(cloze)\n",
    "    "
   ]
  },
  {
   "cell_type": "code",
   "execution_count": 116,
   "metadata": {
    "collapsed": false,
    "scrolled": true
   },
   "outputs": [],
   "source": [
    "with codecs.open(serie+\"Declarations.tex\", 'wb', encoding='utf8') as output:\n",
    "    for declaration in declarations:\n",
    "#        print type(declaration),declaration\n",
    "        output.write(declaration+\"\\n\")"
   ]
  },
  {
   "cell_type": "code",
   "execution_count": 117,
   "metadata": {
    "collapsed": false
   },
   "outputs": [],
   "source": [
    "with open(serie+\"Clozes.txt\", 'wb') as output:\n",
    "    for categorie in gloseClozes:\n",
    "        output.write(\"#\\t\"+categorie+\"\\n#\\n#\\n\")\n",
    "        for cloze in gloseClozes[categorie]:\n",
    "            output.write(cloze+\"\\n\")\n",
    "        output.write(\"#\\n#\\n#\\n\")"
   ]
  },
  {
   "cell_type": "code",
   "execution_count": 118,
   "metadata": {
    "collapsed": false
   },
   "outputs": [],
   "source": [
    "with open(serie+\"Tableaux.yaml\", 'w') as outfile:\n",
    "    outfile.write(yaml.dump(tableaux, default_flow_style=True))"
   ]
  },
  {
   "cell_type": "code",
   "execution_count": 119,
   "metadata": {
    "collapsed": false
   },
   "outputs": [],
   "source": [
    "#gloseClozes"
   ]
  },
  {
   "cell_type": "code",
   "execution_count": 120,
   "metadata": {
    "collapsed": false,
    "scrolled": true
   },
   "outputs": [],
   "source": [
    "#declarations"
   ]
  },
  {
   "cell_type": "code",
   "execution_count": null,
   "metadata": {
    "collapsed": true
   },
   "outputs": [],
   "source": []
  },
  {
   "cell_type": "code",
   "execution_count": null,
   "metadata": {
    "collapsed": false
   },
   "outputs": [],
   "source": []
  }
 ],
 "metadata": {
  "kernelspec": {
   "display_name": "Python 2",
   "language": "python",
   "name": "python2"
  },
  "language_info": {
   "codemirror_mode": {
    "name": "ipython",
    "version": 2
   },
   "file_extension": ".py",
   "mimetype": "text/x-python",
   "name": "python",
   "nbconvert_exporter": "python",
   "pygments_lexer": "ipython2",
   "version": "2.7.10"
  }
 },
 "nbformat": 4,
 "nbformat_minor": 0
}

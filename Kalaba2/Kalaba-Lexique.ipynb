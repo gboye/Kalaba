{
 "cells": [
  {
   "cell_type": "code",
   "execution_count": 645,
   "metadata": {
    "collapsed": false
   },
   "outputs": [],
   "source": [
    "# -*- coding: utf8 -*-\n",
    "from os.path import expanduser\n",
    "home = expanduser(\"~\")\n",
    "repertoire=home+\"/ownCloud/Cours/Bordeaux/L1-LinguistiqueGenerale/Kalaba-Project/16-K2\"\n",
    "serie=repertoire+\"/\"\n",
    "#########################IMPORTS############################################\n",
    "import codecs, optparse\n",
    "import re, random\n",
    "import sys,os,time\n",
    "import string\n",
    "import yaml\n",
    "import ParFuMor as PFM\n",
    "from ParFuMor import *\n",
    "import pickle"
   ]
  },
  {
   "cell_type": "code",
   "execution_count": 646,
   "metadata": {
    "collapsed": false
   },
   "outputs": [],
   "source": [
    "debug=0\n",
    "print_glose=True\n",
    "print_cloze=True\n",
    "print_radicaux=True\n",
    "cloze_expanded=True\n",
    "numeros={'1':'Un','2':'Deux','3':'Trois','4':'Quatre','5':'Cinq'}\n",
    "personnes={'1sg':'UnSg','2sg':'DeuxSg','3sg':'TroisSg','1du':'UnDu','2du':'DeuxDu','3du':'TroisDu','1pl':'UnPl','2pl':'DeuxPl','3pl':'TroisPl'}\n",
    "\n",
    "commandGrapho=\"\\\\newcommand{\\\\%s}{\\\\strutgb{0pt}\\\\grapho{%s}}\"\n",
    "#commandGrapho=\"\\\\newcommand{\\\\%s}{\\\\strutgb{0pt}{\\\\dn %s}}\"\n",
    "#commandGrapho=u\"\\\\newcommand{\\\\%s}{\\\\strutgb{0pt}{%s}}\"\n",
    "commandPhono=u\"\\\\newcommand{\\\\%sP}{\\\\textipa{%s}}\"\n",
    "commandGlose=u\"\\\\newcommand{\\\\%sG}{\\\\textGlose{%s}}\""
   ]
  },
  {
   "cell_type": "code",
   "execution_count": 647,
   "metadata": {
    "collapsed": false
   },
   "outputs": [],
   "source": [
    "with open(serie+\"Phonology.yaml\", 'r') as stream:\n",
    "    phonology=yaml.load(stream)\n",
    "with open(serie+\"Stems.yaml\", 'r') as stream:\n",
    "    stems=yaml.load(stream)\n",
    "with open(serie+\"MorphoSyntax.yaml\", 'r') as stream:\n",
    "    morphosyntax=yaml.load(stream)\n",
    "with open(serie+\"Hierarchie-S2.pkl\", 'rb') as input:\n",
    "   PFM.hierarchieCF = pickle.load(input)\n",
    "with open(serie+\"Lexique-S2.pkl\", 'rb') as input:\n",
    "   PFM.lexique = pickle.load(input)\n",
    "with open(serie+\"Regles-S2.pkl\", 'rb') as input:\n",
    "   PFM.regles = pickle.load(input)"
   ]
  },
  {
   "cell_type": "code",
   "execution_count": 648,
   "metadata": {
    "collapsed": false,
    "scrolled": true
   },
   "outputs": [
    {
     "name": "stdout",
     "output_type": "stream",
     "text": [
      "case PREP:\tsur\tdans\tsur\t\\textRadical{sur}\tradical: sur\tracine:  \n"
     ]
    },
    {
     "data": {
      "text/plain": [
       "sur, PREP, DANS\n",
       "\t\tsur :\n",
       "\t\t\tPREP:\tsur\tdans\tsur\t\\textRadical{sur}\tradical: sur\tracine: "
      ]
     },
     "execution_count": 648,
     "metadata": {},
     "output_type": "execute_result"
    }
   ],
   "source": [
    "PFM.lexique.lexemes[u'dans']"
   ]
  },
  {
   "cell_type": "markdown",
   "metadata": {},
   "source": [
    "#### Définition des segments"
   ]
  },
  {
   "cell_type": "code",
   "execution_count": 649,
   "metadata": {
    "collapsed": false
   },
   "outputs": [],
   "source": [
    "consonnes=phonology[\"consonnes\"]\n",
    "voyelles=phonology[\"voyelles\"]\n",
    "gabarits=phonology[\"gabarits\"]\n",
    "derives=phonology[\"derives\"]\n",
    "nom_classe=phonology[\"nom_classe\"]\n",
    "nom_apo=phonology[\"apophonies\"]\n",
    "nom_mut=phonology[\"mutations\"]\n",
    "syllabes=phonology[\"syllabes\"]"
   ]
  },
  {
   "cell_type": "markdown",
   "metadata": {},
   "source": [
    "#### Attention aux correspondances pour les syllabes\n",
    "YAML interprète la clé no comme False"
   ]
  },
  {
   "cell_type": "code",
   "execution_count": 650,
   "metadata": {
    "collapsed": false
   },
   "outputs": [],
   "source": [
    "def parse_grapho(graphie):\n",
    "#    chunks=re.findall(r\"([ptkbdgmnNfsSvzjrlyv]?[aeiou]?)|[aeiou]|[ptkbdgmnNfsSvzjrlyv]|[.…,;!?:—–()\\[\\]\\/# \"\"«»<>]\", graphie)\n",
    "#    chunks=re.findall(r\"([ptkbdgmnNfsSvzZjwrlyv]?[aeiou]?|[.…,;!?:—–()\\[\\]\\/#\"\"«»<>]+|.*)\", graphie,re.U)\n",
    "    chunks=re.findall(ur\"\\s+|[ptkbdgmnNfsSvzZjwrlyv]?[aeiou]?\", graphie,re.U)\n",
    "    result=[]\n",
    "#    print chunks\n",
    "    for chunk in chunks:\n",
    "#        print [chunk],syllabes.keys()\n",
    "        if chunk in syllabes.keys():\n",
    "            result.append(syllabes[chunk])\n",
    "        else:\n",
    "            result.append(chunk)\n",
    "    return \"\".join(result)"
   ]
  },
  {
   "cell_type": "code",
   "execution_count": 651,
   "metadata": {
    "collapsed": false
   },
   "outputs": [],
   "source": [
    "def parse_cloze(glose):\n",
    "    if debug: print [glose]\n",
    "    chunks=re.findall(r\"\\\\cacherGloses{([^}]*)?}|(\\w+)\", glose,re.UNICODE)\n",
    "    result=[]\n",
    "    for chunk in chunks:\n",
    "        result.extend([x for x in chunk if x!=\"\"])\n",
    "    return (u\"%s;\"%len(result)+\";\".join(result),\"\".join(result))"
   ]
  },
  {
   "cell_type": "code",
   "execution_count": 652,
   "metadata": {
    "collapsed": false
   },
   "outputs": [],
   "source": [
    "#grapho=recoder(\"SviNaNeNNoNN\",translit)\n",
    "#grapho,parse_grapho(grapho)"
   ]
  },
  {
   "cell_type": "code",
   "execution_count": 653,
   "metadata": {
    "collapsed": false
   },
   "outputs": [],
   "source": [
    "if \"Cas\" in morphosyntax:\n",
    "    casSyntagmes=morphosyntax[\"Cas\"]\n",
    "else:\n",
    "    casSyntagmes=\"\"\n",
    "lexiquePrepositions=[stems[\"PREP\"][x][0] for x in stems[\"PREP\"]]\n",
    "casPreposition={}\n",
    "for preposition in lexiquePrepositions:\n",
    "    prep=preposition.upper()\n",
    "    if casSyntagmes and prep in casSyntagmes:\n",
    "        casPreposition[preposition]=casSyntagmes[prep]\n",
    "    elif casSyntagmes and \"PREP\" in casSyntagmes:\n",
    "        casPreposition[preposition]=casSyntagmes[\"PREP\"]\n",
    "    else:\n",
    "        casPreposition[preposition]=\"\"\n",
    "glosePREP={x:u\"%s%s\"%(x.upper(),cacherGloses(\"[\"+casPreposition[x].strip(\"+\").capitalize()+\"]\")) for x in casPreposition if \"+\" in casPreposition[x]}"
   ]
  },
  {
   "cell_type": "code",
   "execution_count": 654,
   "metadata": {
    "collapsed": false
   },
   "outputs": [
    {
     "data": {
      "text/plain": [
       "{u'apr\\xe8s': u'APR\\xc8S\\\\cacherGloses{[Obl]}',\n",
       " 'avec': u'AVEC\\\\cacherGloses{[Obl]}',\n",
       " 'dans': u'DANS\\\\cacherGloses{[Obl]}',\n",
       " 'de': u'DE\\\\cacherGloses{[Obl]}',\n",
       " u'derri\\xe8re': u'DERRI\\xc8RE\\\\cacherGloses{[Obl]}',\n",
       " 'devant': u'DEVANT\\\\cacherGloses{[Obl]}',\n",
       " 'entre': u'ENTRE\\\\cacherGloses{[Obl]}',\n",
       " 'sur': u'SUR\\\\cacherGloses{[Obl]}',\n",
       " 'vers': u'VERS\\\\cacherGloses{[Obl]}',\n",
       " u'\\xe0': u'\\xc0\\\\cacherGloses{[Obl]}'}"
      ]
     },
     "execution_count": 654,
     "metadata": {},
     "output_type": "execute_result"
    }
   ],
   "source": [
    "glosePREP"
   ]
  },
  {
   "cell_type": "code",
   "execution_count": 655,
   "metadata": {
    "collapsed": false
   },
   "outputs": [
    {
     "name": "stdout",
     "output_type": "stream",
     "text": [
      "%% version : __file__\n",
      "%% traitement : 160914-1602\n"
     ]
    }
   ],
   "source": [
    "try:\n",
    "    __IPYTHON__ \n",
    "    ipython=True\n",
    "except: \n",
    "    ipython=False\n",
    "\n",
    "version=os.path.basename(\"__file__\")\n",
    "time_stamp='%s' % time.strftime(\"%y%m%d-%H%M\")\n",
    "print \"%% version : \"+version\n",
    "print \"%% traitement : \"+time_stamp\n",
    "\n",
    "if ipython or True:\n",
    "#    lexeme_nom=\"lexemes.txt\"\n",
    "#    phrase_nom=\"phrases.txt\"\n",
    "    pass\n",
    "else:\n",
    "    parser=optparse.OptionParser()\n",
    "    parser.add_option(\"-o\", \"--out\", dest=\"outfile\", action=\"store_true\", help=\"write to FILE\")\n",
    "    parser.add_option(\"-c\", \"--cloze\", dest=\"print_cloze\", action=\"store_true\", help=\"write a CLOZE FILE\")\n",
    "    parser.add_option(\"-l\", \"--lexicon\", dest=\"print_lexique\", action=\"store_true\", help=\"append a lexicon\")\n",
    "    parser.add_option(\"-r\", \"--roots\", dest=\"print_racines\", action=\"store_true\", help=\"append a root list\")\n",
    "\n",
    "    (options, args) = parser.parse_args()\n",
    "    lexeme_nom=args[0]\n",
    "    phrase_nom=args[1]"
   ]
  },
  {
   "cell_type": "code",
   "execution_count": 656,
   "metadata": {
    "collapsed": true
   },
   "outputs": [],
   "source": [
    "def recoder(chaine,table,boolUTF8=True):\n",
    "    if type(chaine)==str:\n",
    "        temp=unicode(chaine.decode('utf8')).translate(table)\n",
    "        result=temp\n",
    "    elif type(chaine)==unicode:\n",
    "        result=chaine.translate(table)\n",
    "    if boolUTF8:\n",
    "        return result\n",
    "    else:\n",
    "        return result.encode(\"utf8\")\n",
    "#translit=string.maketrans(u'iueoaftgzZvjkSpN',u'tgazpHTGZJVkXyxI')"
   ]
  },
  {
   "cell_type": "code",
   "execution_count": 657,
   "metadata": {
    "collapsed": false
   },
   "outputs": [],
   "source": [
    "phonoIn =  unicode(phonology[\"translations\"][\"grapho\"][\"in\"])\n",
    "graphoIn = [ord(char) for char in phonoIn]\n",
    "graphoOut = unicode(phonology[\"translations\"][\"grapho\"][\"out\"])\n",
    "translit = dict(zip(graphoIn, graphoOut))"
   ]
  },
  {
   "cell_type": "code",
   "execution_count": 658,
   "metadata": {
    "collapsed": false
   },
   "outputs": [],
   "source": [
    "accentedIn = unicode(phonology[\"translations\"][\"deaccent\"][\"in\"])\n",
    "deaccentIn = [ord(char) for char in accentedIn]\n",
    "deaccentOut = unicode(phonology[\"translations\"][\"deaccent\"][\"out\"])\n",
    "deaccent = dict(zip(deaccentIn, deaccentOut))\n",
    "\n",
    "deligatures=phonology[\"translations\"][\"deligatures\"]"
   ]
  },
  {
   "cell_type": "code",
   "execution_count": 659,
   "metadata": {
    "collapsed": false
   },
   "outputs": [],
   "source": [
    "#translit"
   ]
  },
  {
   "cell_type": "code",
   "execution_count": 660,
   "metadata": {
    "collapsed": false
   },
   "outputs": [],
   "source": [
    "tipaIn = unicode(phonology[\"translations\"][\"ipa\"][\"in\"])\n",
    "ipaIn = [ord(char) for char in tipaIn]\n",
    "ipaOut = unicode(phonology[\"translations\"][\"ipa\"][\"out\"])\n",
    "toipa = dict(zip(ipaIn, ipaOut))"
   ]
  },
  {
   "cell_type": "code",
   "execution_count": 661,
   "metadata": {
    "collapsed": false,
    "scrolled": true
   },
   "outputs": [],
   "source": [
    "tableaux={}\n",
    "gloseClozes={}\n",
    "declarations=[]\n",
    "for categorie in PFM.lexique.catLexeme:\n",
    "    if not categorie in tableaux:\n",
    "        tableaux[categorie]=set()\n",
    "        gloseClozes[categorie]=[]\n",
    "    if verbose: print categorie\n",
    "    for lexeme in PFM.lexique.catLexeme[categorie]:\n",
    "        if verbose: print PFM.lexique.lexemes[lexeme]\n",
    "        for case in PFM.lexique.lexemes[lexeme].paradigme.cases:\n",
    "            caseGlose=case.glose\n",
    "            if categorie in PFM.categoriesMajeures:\n",
    "                nom=PFM.lexique.lexemes[lexeme].nom\n",
    "            else:\n",
    "                nom=PFM.lexique.lexemes[lexeme].nom.upper()\n",
    "                gloseCase=case.glose\n",
    "                if categorie==\"PREP\" and gloseCase in glosePREP:\n",
    "                    caseGlose=glosePREP[gloseCase]\n",
    "                elif categorie==\"PREP\":\n",
    "                    caseGlose=caseGlose.upper()\n",
    "#                print caseGlose\n",
    "            ref=PFM.modifierGlose(nom,case.sigma,\"ref\")\n",
    "            ref=recoder(ref,deaccent)\n",
    "            for ligature in deligatures:\n",
    "                ref=ref.replace(ligature,deligatures[ligature])\n",
    "            for pers in personnes:\n",
    "                ref=ref.replace(pers,personnes[pers])\n",
    "            for num in numeros:\n",
    "                ref=ref.replace(num,numeros[num])\n",
    "#            phono=case.forme\n",
    "#            print (\"lexeme\",lexeme)\n",
    "            grapho=chaine2utf8(re.sub(ur\"\\s+\",ur\"\",recoder(parse_grapho(case.forme),translit)))\n",
    "            if print_radicaux:\n",
    "                phono=case.detoure.replace(\" \",\"\")\n",
    "            else:\n",
    "                phono=case.forme.replace(\" \",\"\")\n",
    "#            print [ref,grapho]\n",
    "            declarations.append(commandGrapho%(ref,grapho))\n",
    "            declarations.append(commandPhono%(ref,phono))\n",
    "            declarations.append(commandGlose%(ref,caseGlose))\n",
    "            if print_glose:\n",
    "                tableaux[categorie].add(\"\\\\\"+ref+\" & \\\\\"+ref+\"P & \\\\\"+ref+\"G \\\\\\\\\")\n",
    "            else:\n",
    "                tableaux[categorie].add(\"\\\\\"+ref+\" & \\\\\"+ref+\"P & \\\\blanc{\\\\\"+ref+\"G} \\\\\\\\\")\n",
    "            if print_cloze:\n",
    "                vedette=nom.split(\".\")[0]\n",
    "                gloses,strGlose=parse_cloze(case.glose)\n",
    "                phono=case.forme.replace(\" \",\"\")\n",
    "                if debug: print [grapho, recoder(phono,toipa)]\n",
    "                if cloze_expanded:\n",
    "                    try:\n",
    "                        cloze=u\";\".join([ref,vedette,\n",
    "                                         categorie,\n",
    "                                         recoder(case.radical,toipa),recoder(case.racine,toipa),\n",
    "                                         recoder(phono,toipa),recoder(case.decoupe,toipa),\n",
    "                                         case.sigma,\n",
    "                                         strGlose,\n",
    "                                         gloses])\n",
    "                    except NameError:\n",
    "                        cloze=u\";\".join([ref,vedette,\n",
    "                                         categorie,\n",
    "                                         recoder(case.radical,toipa),recoder(case.racine,toipa),\n",
    "                                         recoder(phono,toipa),\n",
    "                                         strGlose,\n",
    "                                         gloses])\n",
    "                else:\n",
    "                    try:\n",
    "                        cloze=u\";\".join([ref,vedette,categorie,recoder(phono,toipa),recoder(case.decoupe,toipa),case.sigma,gloses])\n",
    "                    except NameError:\n",
    "                        cloze=u\";\".join([ref,vedette,categorie,recoder(phono,toipa),gloses])\n",
    "                gloseClozes[categorie].append(cloze)\n",
    "    "
   ]
  },
  {
   "cell_type": "code",
   "execution_count": 662,
   "metadata": {
    "collapsed": true
   },
   "outputs": [],
   "source": [
    "if print_radicaux:\n",
    "    nomDeclaration=\"Declarations-Radicaux.tex\"\n",
    "    nomTableaux=\"Tableaux-Radicaux.yaml\"\n",
    "else:\n",
    "    nomDeclaration=\"Declarations.tex\"\n",
    "    nomTableaux=\"Tableaux.yaml\""
   ]
  },
  {
   "cell_type": "code",
   "execution_count": 663,
   "metadata": {
    "collapsed": false,
    "scrolled": true
   },
   "outputs": [],
   "source": [
    "with codecs.open(serie+nomDeclaration, 'wb', encoding='utf8') as output:\n",
    "    for declaration in declarations:\n",
    "#        print type(declaration),declaration\n",
    "        output.write(declaration+\"\\n\")"
   ]
  },
  {
   "cell_type": "code",
   "execution_count": 664,
   "metadata": {
    "collapsed": false
   },
   "outputs": [],
   "source": [
    "if print_cloze:\n",
    "    with codecs.open(serie+\"Clozes.txt\", 'wb', encoding='utf8') as output:\n",
    "        for categorie in gloseClozes:\n",
    "            output.write(\"#\\t\"+categorie+\"\\n#\\n#\\n\")\n",
    "            for cloze in gloseClozes[categorie]:\n",
    "                output.write(cloze+\"\\n\")\n",
    "            output.write(\"#\\n#\\n#\\n\")"
   ]
  },
  {
   "cell_type": "code",
   "execution_count": 665,
   "metadata": {
    "collapsed": false
   },
   "outputs": [],
   "source": [
    "yaml.safe_dump(tableaux, file(serie+nomTableaux, 'w'), encoding='utf-8', allow_unicode=True)"
   ]
  },
  {
   "cell_type": "code",
   "execution_count": 666,
   "metadata": {
    "collapsed": false,
    "scrolled": true
   },
   "outputs": [],
   "source": [
    "#gloseClozes"
   ]
  },
  {
   "cell_type": "code",
   "execution_count": 667,
   "metadata": {
    "collapsed": false
   },
   "outputs": [
    {
     "data": {
      "text/plain": [
       "[u'\\\\newcommand{\\\\KalebMSgNom}{\\\\strutgb{0pt}\\\\grapho{nuOkuelIuLIpu}}',\n",
       " u'\\\\newcommand{\\\\KalebMSgNomP}{\\\\textipa{no\\\\textRadical{kaleb}p}}',\n",
       " u'\\\\newcommand{\\\\KalebMSgNomG}{\\\\textGlose{\\\\cacherGloses{Nom.N2-}Kaleb\\\\cacherGloses{.M.N2}\\\\cacherGloses{-Sg.N2}}}',\n",
       " u'\\\\newcommand{\\\\KalebMSgAcc}{\\\\strutgb{0pt}\\\\grapho{kuelIuLIkuepu}}',\n",
       " u'\\\\newcommand{\\\\KalebMSgAccP}{\\\\textipa{\\\\textRadical{kaleb}kap}}',\n",
       " u'\\\\newcommand{\\\\KalebMSgAccG}{\\\\textGlose{Kaleb\\\\cacherGloses{.M.N2}\\\\cacherGloses{-Acc.N2}\\\\cacherGloses{-Sg.N2}}}',\n",
       " u'\\\\newcommand{\\\\KalebMSgDat}{\\\\strutgb{0pt}\\\\grapho{kuelIuLITIepu}}',\n",
       " u'\\\\newcommand{\\\\KalebMSgDatP}{\\\\textipa{\\\\textRadical{kaleb}dap}}',\n",
       " u'\\\\newcommand{\\\\KalebMSgDatG}{\\\\textGlose{Kaleb\\\\cacherGloses{.M.N2}\\\\cacherGloses{-Dat.N2}\\\\cacherGloses{-Sg.N2}}}',\n",
       " u'\\\\newcommand{\\\\KalebMSgObl}{\\\\strutgb{0pt}\\\\grapho{kuelIuLIlIOpu}}',\n",
       " u'\\\\newcommand{\\\\KalebMSgOblP}{\\\\textipa{\\\\textRadical{kaleb}lop}}',\n",
       " u'\\\\newcommand{\\\\KalebMSgOblG}{\\\\textGlose{Kaleb\\\\cacherGloses{.M.N2}\\\\cacherGloses{-Obl.N2}\\\\cacherGloses{-Sg.N2}}}',\n",
       " u'\\\\newcommand{\\\\KalebMDuNom}{\\\\strutgb{0pt}\\\\grapho{nuOkuelIuLIlI}}',\n",
       " u'\\\\newcommand{\\\\KalebMDuNomP}{\\\\textipa{no\\\\textRadical{kaleb}l}}',\n",
       " u'\\\\newcommand{\\\\KalebMDuNomG}{\\\\textGlose{\\\\cacherGloses{Nom.N2-}Kaleb\\\\cacherGloses{.M.N2}\\\\cacherGloses{-Du.N2}}}',\n",
       " u'\\\\newcommand{\\\\KalebMDuAcc}{\\\\strutgb{0pt}\\\\grapho{kuelIuLIkuelI}}',\n",
       " u'\\\\newcommand{\\\\KalebMDuAccP}{\\\\textipa{\\\\textRadical{kaleb}kal}}',\n",
       " u'\\\\newcommand{\\\\KalebMDuAccG}{\\\\textGlose{Kaleb\\\\cacherGloses{.M.N2}\\\\cacherGloses{-Acc.N2}\\\\cacherGloses{-Du.N2}}}',\n",
       " u'\\\\newcommand{\\\\KalebMDuDat}{\\\\strutgb{0pt}\\\\grapho{kuelIuLITIelI}}',\n",
       " u'\\\\newcommand{\\\\KalebMDuDatP}{\\\\textipa{\\\\textRadical{kaleb}dal}}',\n",
       " u'\\\\newcommand{\\\\KalebMDuDatG}{\\\\textGlose{Kaleb\\\\cacherGloses{.M.N2}\\\\cacherGloses{-Dat.N2}\\\\cacherGloses{-Du.N2}}}',\n",
       " u'\\\\newcommand{\\\\KalebMDuObl}{\\\\strutgb{0pt}\\\\grapho{kuelIuLIlIOlI}}',\n",
       " u'\\\\newcommand{\\\\KalebMDuOblP}{\\\\textipa{\\\\textRadical{kaleb}lol}}',\n",
       " u'\\\\newcommand{\\\\KalebMDuOblG}{\\\\textGlose{Kaleb\\\\cacherGloses{.M.N2}\\\\cacherGloses{-Obl.N2}\\\\cacherGloses{-Du.N2}}}',\n",
       " u'\\\\newcommand{\\\\KalebMPlNom}{\\\\strutgb{0pt}\\\\grapho{nuOkuelIuLIse}}',\n",
       " u'\\\\newcommand{\\\\KalebMPlNomP}{\\\\textipa{no\\\\textRadical{kaleb}s}}',\n",
       " u'\\\\newcommand{\\\\KalebMPlNomG}{\\\\textGlose{\\\\cacherGloses{Nom.N2-}Kaleb\\\\cacherGloses{.M.N2}\\\\cacherGloses{-Pl.N2}}}',\n",
       " u'\\\\newcommand{\\\\KalebMPlAcc}{\\\\strutgb{0pt}\\\\grapho{kuelIuLIkuese}}',\n",
       " u'\\\\newcommand{\\\\KalebMPlAccP}{\\\\textipa{\\\\textRadical{kaleb}kas}}',\n",
       " u'\\\\newcommand{\\\\KalebMPlAccG}{\\\\textGlose{Kaleb\\\\cacherGloses{.M.N2}\\\\cacherGloses{-Acc.N2}\\\\cacherGloses{-Pl.N2}}}',\n",
       " u'\\\\newcommand{\\\\KalebMPlDat}{\\\\strutgb{0pt}\\\\grapho{kuelIuLITIese}}',\n",
       " u'\\\\newcommand{\\\\KalebMPlDatP}{\\\\textipa{\\\\textRadical{kaleb}das}}',\n",
       " u'\\\\newcommand{\\\\KalebMPlDatG}{\\\\textGlose{Kaleb\\\\cacherGloses{.M.N2}\\\\cacherGloses{-Dat.N2}\\\\cacherGloses{-Pl.N2}}}',\n",
       " u'\\\\newcommand{\\\\KalebMPlObl}{\\\\strutgb{0pt}\\\\grapho{kuelIuLIlIOse}}',\n",
       " u'\\\\newcommand{\\\\KalebMPlOblP}{\\\\textipa{\\\\textRadical{kaleb}los}}',\n",
       " u'\\\\newcommand{\\\\KalebMPlOblG}{\\\\textGlose{Kaleb\\\\cacherGloses{.M.N2}\\\\cacherGloses{-Obl.N2}\\\\cacherGloses{-Pl.N2}}}']"
      ]
     },
     "execution_count": 667,
     "metadata": {},
     "output_type": "execute_result"
    }
   ],
   "source": [
    "[l for l in declarations if \"Kaleb\" in l]"
   ]
  }
 ],
 "metadata": {
  "kernelspec": {
   "display_name": "Python 2",
   "language": "python",
   "name": "python2"
  },
  "language_info": {
   "codemirror_mode": {
    "name": "ipython",
    "version": 2
   },
   "file_extension": ".py",
   "mimetype": "text/x-python",
   "name": "python",
   "nbconvert_exporter": "python",
   "pygments_lexer": "ipython2",
   "version": "2.7.11"
  }
 },
 "nbformat": 4,
 "nbformat_minor": 0
}

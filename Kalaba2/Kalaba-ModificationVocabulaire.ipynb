{
 "cells": [
  {
   "cell_type": "code",
   "execution_count": 91,
   "metadata": {
    "collapsed": true
   },
   "outputs": [],
   "source": [
    "# -*- coding: utf8 -*-\n",
    "#########################IMPORTS############################################\n",
    "from os.path import expanduser\n",
    "import codecs, optparse\n",
    "import re\n",
    "import random as rd\n",
    "import sys,os,time\n",
    "import string\n",
    "import yaml, YamlDuplicates\n",
    "import ParFuMor as PFM\n",
    "from ParFuMor import *\n",
    "import pickle"
   ]
  },
  {
   "cell_type": "code",
   "execution_count": 92,
   "metadata": {},
   "outputs": [],
   "source": [
    "from string import translate, maketrans"
   ]
  },
  {
   "cell_type": "code",
   "execution_count": 93,
   "metadata": {
    "collapsed": true
   },
   "outputs": [],
   "source": [
    "home = expanduser(\"~\")\n",
    "annee=\"17\"\n",
    "def getSerie(nomKalaba):\n",
    "    return home+\"/ownCloud/Cours/Bordeaux/L1-LinguistiqueGenerale/Kalaba-Project/%s-%s/\"%(annee,nomKalaba)\n",
    "\n",
    "prevSerie=getSerie(\"K2\")\n",
    "nextSerie=getSerie(\"K1\")\n"
   ]
  },
  {
   "cell_type": "code",
   "execution_count": 94,
   "metadata": {
    "collapsed": true
   },
   "outputs": [],
   "source": [
    "with open(prevSerie+\"Stems.yaml\", 'r') as stream:\n",
    "    prevStems=yaml.load(stream)\n",
    "with open(nextSerie+\"Stems.yaml\", 'r') as stream:\n",
    "    nextStems=yaml.load(stream)"
   ]
  },
  {
   "cell_type": "code",
   "execution_count": 95,
   "metadata": {
    "collapsed": true
   },
   "outputs": [],
   "source": [
    "def getLeaves(stemStructure):\n",
    "    formes={}\n",
    "    for element in stemStructure:\n",
    "        if type(stemStructure[element])==list:\n",
    "            formesCle=\", \".join(stemStructure[element])\n",
    "            formes[formesCle]=element\n",
    "        else:\n",
    "            formes.update(getLeaves(stemStructure[element]))\n",
    "    return formes"
   ]
  },
  {
   "cell_type": "code",
   "execution_count": 96,
   "metadata": {
    "collapsed": true
   },
   "outputs": [],
   "source": [
    "prevLexique=getLeaves(prevStems)\n",
    "nextLexique=getLeaves(nextStems)"
   ]
  },
  {
   "cell_type": "code",
   "execution_count": 97,
   "metadata": {
    "collapsed": true
   },
   "outputs": [],
   "source": [
    "def replace_keys(old_dict, key_dict):\n",
    "    new_dict = { }\n",
    "    for key in old_dict.keys():\n",
    "        new_key = key_dict.get(key, key)\n",
    "        if isinstance(old_dict[key], dict):\n",
    "            new_dict[new_key] = replace_keys(old_dict[key], key_dict)\n",
    "        else:\n",
    "            new_dict[new_key] = old_dict[key]\n",
    "    return new_dict\n"
   ]
  },
  {
   "cell_type": "code",
   "execution_count": 98,
   "metadata": {
    "collapsed": true
   },
   "outputs": [],
   "source": [
    "with open(prevSerie+\"Phonology.yaml\", 'r') as stream:\n",
    "    phonology=yaml.load(stream)"
   ]
  },
  {
   "cell_type": "code",
   "execution_count": 99,
   "metadata": {},
   "outputs": [],
   "source": [
    "obstrusivesSourdes=u\"ptkfTsS\"\n",
    "obstrusivesVoisees=u\"bdgvDzZ\"\n",
    "\n",
    "voisement=maketrans(obstrusivesSourdes,obstrusivesVoisees)\n",
    "devoisement=maketrans(obstrusivesVoisees,obstrusivesSourdes)\n",
    "\n",
    "\n",
    "consonnes=phonology[\"consonnes\"]\n",
    "voyelles=phonology[\"voyelles\"]"
   ]
  },
  {
   "cell_type": "code",
   "execution_count": 100,
   "metadata": {},
   "outputs": [],
   "source": [
    "def devoiserFinale(radical):\n",
    "    if radical[-1] in obstrusivesVoisees:\n",
    "        return radical.translate(devoisement)\n",
    "    else:\n",
    "        return None\n",
    "\n",
    "def voiserVCV(radical):\n",
    "    result=list(radical)\n",
    "    cibles=[]\n",
    "    for p,l in enumerate(radical[1:-1]):\n",
    "        if l in obstrusivesSourdes and radical[p] in voyelles and radical[p+2] in voyelles:\n",
    "            cibles.append(p+1)\n",
    "    if cibles:\n",
    "        cible=rd.choice(cibles)\n",
    "        result[cible]=result[cible].translate(voisement)\n",
    "        return \"\".join(result)\n",
    "    else:\n",
    "        return None\n",
    "\n",
    "def metathese(radical):\n",
    "    result=list(radical)\n",
    "    cibles=[]\n",
    "    for p,l in enumerate(radical):\n",
    "        if l in consonnes:\n",
    "            cibles.append(p)\n",
    "    if len(cibles)>1 and rd.randint(1,3)==1:\n",
    "        cible1=rd.choice(cibles[:-1])\n",
    "        cible2=cibles[cibles.index(cible1)+1]\n",
    "        result[cible1]=radical[cible2]\n",
    "        result[cible2]=radical[cible1]\n",
    "        result=\"\".join(result)\n",
    "        if result!=radical:\n",
    "            return result\n",
    "        else:\n",
    "            return None\n",
    "    else:\n",
    "        return None\n",
    "\n",
    "    \n",
    "def apophonie(radical):\n",
    "    result=list(radical)\n",
    "    cibles=[]\n",
    "    for p,l in enumerate(radical):\n",
    "        if l in \"iae\":\n",
    "            cibles.append(p)\n",
    "    if cibles:\n",
    "        cible=rd.choice(cibles)\n",
    "        result[cible]=phonology[\"apophonies\"][result[cible]]\n",
    "        return \"\".join(result)\n",
    "    else:\n",
    "        return None\n",
    "\n",
    "def changerLongueur(radical):\n",
    "    result=list(radical)\n",
    "    if len(radical)==5:\n",
    "        if radical[0] in consonnes:\n",
    "            if radical[-1] in consonnes:\n",
    "                if rd.randint(1,5)==1:\n",
    "                    result.append(rd.choice(voyelles))\n",
    "                    return \"\".join(result)\n",
    "                else:\n",
    "                    return None\n",
    "            else:\n",
    "                if rd.randint(1,5)==1:\n",
    "                    result.append(rd.choice(consonnes))\n",
    "                    return \"\".join(result)\n",
    "                else:\n",
    "                    return None\n",
    "        else:\n",
    "            if rd.randint(1,3)==1:\n",
    "                result.insert(0,rd.choice(consonnes))\n",
    "                return \"\".join(result)\n",
    "            else:\n",
    "                return None\n",
    "    elif len(radical)>5:\n",
    "        if rd.randint(1,3)==1:\n",
    "            if radical[0] in consonnes:\n",
    "                result=result[:-1]\n",
    "            else:\n",
    "                result=result[1:]\n",
    "            return \"\".join(result)\n",
    "        else:\n",
    "            return None\n",
    "    else:\n",
    "        if rd.randint(1,3)==1:\n",
    "            if radical[0] in voyelles:\n",
    "                result.insert(0,rd.choice(consonnes))\n",
    "            elif radical[-1] in voyelles:\n",
    "                result.append(rd.choice(consonnes))\n",
    "            else:\n",
    "                result.append(rd.choice(voyelles))\n",
    "            return \"\".join(result)\n",
    "        else:\n",
    "            return None\n",
    "        \n",
    "            "
   ]
  },
  {
   "cell_type": "code",
   "execution_count": 101,
   "metadata": {
    "collapsed": true
   },
   "outputs": [],
   "source": [
    "operations=[devoiserFinale,apophonie,voiserVCV,metathese,changerLongueur]"
   ]
  },
  {
   "cell_type": "code",
   "execution_count": 102,
   "metadata": {},
   "outputs": [],
   "source": [
    "def modifierRadical(radical):\n",
    "    nOperations=rd.choice([0,1,2,2,3,3,3,4,5])\n",
    "    while nOperations>0:\n",
    "        operation=rd.choice(operations)\n",
    "        result=operation(radical)\n",
    "        if result:\n",
    "            radical=result\n",
    "            nOperations-=1\n",
    "    return radical"
   ]
  },
  {
   "cell_type": "code",
   "execution_count": 103,
   "metadata": {},
   "outputs": [
    {
     "name": "stdout",
     "output_type": "stream",
     "text": [
      "***\n",
      "villageois.HYPER, villagEOIs, villagEOIS n'est pas dans le nouveau lexique\n",
      "***\n",
      "***\n",
      "loup, loups n'est pas dans le nouveau lexique\n",
      "***\n",
      "***\n",
      "villageois, villageoiS n'est pas dans le nouveau lexique\n",
      "***\n",
      "***\n",
      "loup.HYPER, lOUP, lOUPs n'est pas dans le nouveau lexique\n",
      "***\n",
      "***\n",
      "enfant.HYPER, enfANT, enfANTs n'est pas dans le nouveau lexique\n",
      "***\n",
      "***\n",
      "garçon, garçons, enfant, enfants n'est pas dans le nouveau lexique\n",
      "***\n"
     ]
    }
   ],
   "source": [
    "racineChanges={}\n",
    "for mot in prevLexique:\n",
    "    if mot in nextLexique:\n",
    "#        print mot, \":\", prevLexique[mot], \">\",nextLexique[mot]\n",
    "        racineChanges[nextLexique[mot]]=modifierRadical(prevLexique[mot])\n",
    "    else:\n",
    "        print \"***\"\n",
    "        print mot,\"n'est pas dans le nouveau lexique\"\n",
    "        print \"***\""
   ]
  },
  {
   "cell_type": "code",
   "execution_count": 120,
   "metadata": {},
   "outputs": [
    {
     "data": {
      "text/plain": [
       "'sTonuf'"
      ]
     },
     "execution_count": 120,
     "metadata": {},
     "output_type": "execute_result"
    }
   ],
   "source": [
    "modifierRadical(\"Tonif\")"
   ]
  },
  {
   "cell_type": "code",
   "execution_count": 105,
   "metadata": {},
   "outputs": [
    {
     "data": {
      "text/plain": [
       "{'SeSer': 'gunov',\n",
       " 'Senna': 'moZuni',\n",
       " 'Setane': 'jodun',\n",
       " 'Sop': 'Subaro',\n",
       " 'Suf': 'mukutu',\n",
       " 'Zemala': 'zuZoZi',\n",
       " 'abita': 'moDona',\n",
       " 'ad': 'wubuN',\n",
       " 'allo': 'guSoro',\n",
       " 'amne': 'noDoNu',\n",
       " 'amo': 'folov',\n",
       " 'amplet': 'tujopi',\n",
       " 'anpal': 'tuDob',\n",
       " 'apwij': 'subuSo',\n",
       " 'ar': 'ruzu',\n",
       " 'asaj': 'Zobulu',\n",
       " 'astra': 'gaZolu',\n",
       " 'atame': 'sutogu',\n",
       " 'atlas': 'Todup',\n",
       " 'atros': 'lozofe',\n",
       " 'avans': 'Suzora',\n",
       " 'banan': 'tubugu',\n",
       " 'bibipo': 'komof',\n",
       " 'boske': 'ronuk',\n",
       " 'braje': 'kofut',\n",
       " 'brav': 'Zuvop',\n",
       " 'buf': 'muZuf',\n",
       " 'buro': 'sulok',\n",
       " 'bwaje': 'Zukovu',\n",
       " 'deSik': 'muluko',\n",
       " 'debark': 'bumuw',\n",
       " 'deka': 'tuSuS',\n",
       " 'derul': 'fuDedu',\n",
       " 'dollore': 'ludure',\n",
       " 'eSap': 'noDaf',\n",
       " 'elans': 'tTuZof',\n",
       " 'estomp': 'lDuvuN',\n",
       " 'estrop': 'Novut',\n",
       " 'frapo': 'zozuga',\n",
       " 'friro': 'Zozut',\n",
       " 'furo': 'ruvudu',\n",
       " 'fuzie': 'kozuTS',\n",
       " 'garuva': 'poNuf',\n",
       " 'gren': 'toDun',\n",
       " 'grife': 'rugol',\n",
       " 'gur': 'susok',\n",
       " 'intro': 'Tofut',\n",
       " 'jurta': 'dulum',\n",
       " 'kadot': 'boZum',\n",
       " 'kajnina': 'kuvod',\n",
       " 'kalebe': 'lugop',\n",
       " 'karne': 'nozuZ',\n",
       " 'karpa': 'doZub',\n",
       " 'katiSa': 'kutiZ',\n",
       " 'katro': 'noput',\n",
       " 'kej': 'loZu',\n",
       " 'kitas': 'dobud',\n",
       " 'klamse': 'forut',\n",
       " 'klije': 'lobug',\n",
       " 'koko': 'vumoNo',\n",
       " 'krevas': 'seSuk',\n",
       " 'kukua': 'NomuT',\n",
       " 'l': 'k',\n",
       " 'lamer': 'zogoZ',\n",
       " 'maZin': 'sotoSu',\n",
       " 'maira': 'ruumu',\n",
       " 'makros': 'juzoT',\n",
       " 'mamba': 'kudoti',\n",
       " 'manSo': 'bobum',\n",
       " 'masakro': 'suduTj',\n",
       " 'masko': 'moDomu',\n",
       " 'matar': 'Sidof',\n",
       " 'matla': 'vogub',\n",
       " 'menasa': 'dolud',\n",
       " 'mija': 'loDob',\n",
       " 'mijao': 'ronoT',\n",
       " 'mikron': 'nuvod',\n",
       " 'mimmina': 'ruduge',\n",
       " 'minus': 'duwoz',\n",
       " 'morf': 'furog',\n",
       " 'mortemo': 'luZobu',\n",
       " 'mwatje': 'mukus',\n",
       " 'nabilo': 'bunul',\n",
       " 'neZ': 'moduk',\n",
       " 'nen': 'woDom',\n",
       " 'nikole': 'nigol',\n",
       " 'ninSa': 'poworu',\n",
       " 'nip': 'poDeZ',\n",
       " 'noksa': 'robuku',\n",
       " 'obez': 'gojoT',\n",
       " 'otr': 'nubodu',\n",
       " 'papot': 'Susun',\n",
       " 'pastek': 'noduzu',\n",
       " 'piloma': 'luduSi',\n",
       " 'pjola': 'guZosa',\n",
       " 'pla': 'mulod',\n",
       " 'poloSo': 'kuDur',\n",
       " 'poma': 'guguZu',\n",
       " 'proSen': 'puvub',\n",
       " 'puw': 'sozuN',\n",
       " 'raZ': 'fodoT',\n",
       " 'raZa': 'vugoku',\n",
       " 'ratrap': 'bTogu',\n",
       " 'retam': 'vuZom',\n",
       " 'rew': 'nude',\n",
       " 'ron': 'bofo',\n",
       " 'ronZe': 'kunuSu',\n",
       " 'ronk': 'mulok',\n",
       " 'sestra': 'mopod',\n",
       " 'skeleto': 'mavudu',\n",
       " 'sor': 'luf',\n",
       " 'st': 'vu',\n",
       " 'sum': 'kujoS',\n",
       " 'swaf': 'lonuvu',\n",
       " 'tSaia': 'pagod',\n",
       " 'tSika': 'motuj',\n",
       " 'tados': 'luDoto',\n",
       " 'teZ': 'koDor',\n",
       " 'tek': 'rufut',\n",
       " 'tileZo': 'mobuz',\n",
       " 'traSe': 'nuvotu',\n",
       " 'tras': 'budon',\n",
       " 'tres': 'Zupov',\n",
       " 'turmant': 'goduf',\n",
       " 'uka': 'luf',\n",
       " 'un': 'l',\n",
       " 'valzi': 'rozos',\n",
       " 'vjoleta': 'lvojo',\n",
       " 'vwal': 'buZoNu',\n",
       " 'wen': 'Topuj',\n",
       " 'zjut': 'guNun'}"
      ]
     },
     "execution_count": 105,
     "metadata": {},
     "output_type": "execute_result"
    }
   ],
   "source": [
    "racineChanges"
   ]
  },
  {
   "cell_type": "code",
   "execution_count": 106,
   "metadata": {
    "collapsed": true
   },
   "outputs": [],
   "source": [
    "newStems=replace_keys(nextStems,racineChanges)"
   ]
  },
  {
   "cell_type": "code",
   "execution_count": 107,
   "metadata": {
    "collapsed": true
   },
   "outputs": [],
   "source": [
    "with open(nextSerie+'flowStems.yaml', 'w') as output:\n",
    "    yaml.dump(newStems, output, default_flow_style=False,allow_unicode=True)"
   ]
  },
  {
   "cell_type": "raw",
   "metadata": {
    "collapsed": true
   },
   "source": [
    "with open(nextSerie+\"newStems.yaml\", 'r') as stream:\n",
    "    testStems=yaml.load(stream)\n",
    "    "
   ]
  },
  {
   "cell_type": "code",
   "execution_count": 108,
   "metadata": {
    "collapsed": true
   },
   "outputs": [],
   "source": [
    "with open(nextSerie+\"flowStems.yaml\", 'r') as input:\n",
    "    yamlLines=input.readlines()"
   ]
  },
  {
   "cell_type": "code",
   "execution_count": 109,
   "metadata": {},
   "outputs": [
    {
     "name": "stdout",
     "output_type": "stream",
     "text": [
      "ADJ:\n",
      "  Novut: [blessé, blessés, blessée, blessées]\n",
      "  Zupov: [trois]\n",
      "  Zuvop: [courageux, courageuse, courageuses]\n",
      "  duwoz: [bas, basse, basses]\n",
      "  fodoT: [furieux, furieuse, furieuses]\n",
      "  goduf: [effrayé, effrayés, effrayée, effrayées]\n",
      "  gojoT: [gros, grosse, grosses]\n",
      "  juzoT: [grand, grande, grands, grandes]\n",
      "  lozofe: [terrible, terribles]\n",
      "  luDoto: [maigre, maigres]\n",
      "  moduk: [blanc, blanche, blancs, blanches]\n",
      "  noduzu: [rouge, rouges]\n",
      "  noput: [quatre]\n",
      "  nubodu: [différent, différents, différente, différentes]\n",
      "  nuvod: [petit, petite, petits, petites]\n",
      "  puvub: [suivant, suivants, suivante, suivantes]\n",
      "  seSuk: [profond, profonds, profonde, profondes]\n",
      "  tubugu: [jaune, jaunes]\n",
      "  zogoZ: [noir, noire, noirs, noires]\n",
      "DET:\n",
      "  k: [DEF, le, la, les, l]\n",
      "  l: [IND, un, une, des, dE]\n",
      "  vu: [DEM, ce, cet, cette, ces]\n",
      "NOM:\n",
      "  F:\n",
      "    NomuT: [autruche, autruches]\n",
      "    doZub: [poisson, poissons]\n",
      "    dolud: [ombre, ombres]\n",
      "    dulum: [maison, maisons]\n",
      "    forut: [mort, morts]\n",
      "    gaZolu: [lune, lunes]\n",
      "    guSoro: [lueur, lueurs]\n",
      "    guZosa: [chambre, chambres]\n",
      "    guguZu: [fruit, fruits]\n",
      "    kutiZ: [Katisha, Katishas]\n",
      "    kuvod: [croc, crocs]\n",
      "    luduSi: [lance, lances]\n",
      "    lvojo: [Violette, Violettes]\n",
      "    moDona: [villageoise, villageoises]\n",
      "    mopod: [soeur, soeurs, sœur, sœurs]\n",
      "    motuj: [fille, filles]\n",
      "    mulod: [plaine, plaines]\n",
      "    nigol: [Nicole, Nicoles]\n",
      "    pagod: [thé, thés]\n",
      "    poNuf: [louve, louves]\n",
      "    robuku: [nuit, nuits]\n",
      "    ronoT: [chatte, chattes]\n",
      "    ronuk: [forêt, forêts]\n",
      "    ruduge: [main, mains]\n",
      "    rugol: [blessure, blessures]\n",
      "    ruumu: [Mahira, Mahiras]\n",
      "    ruvudu: [cuisine, cuisines]\n",
      "    sulok: [table, tables]\n",
      "    vugoku: [colère, colères]\n",
      "    zanfana: [enfant, enfants]\n",
      "    zuZoZi: [infirmière, infirmières]\n",
      "  M:\n",
      "    Zukovu: [chef, chefs, cheffe, cheffes]\n",
      "    abito: [villageois, villageoiS, villagEOISe, villagEOISes, villagEOIS, villagEOIs]\n",
      "    bobum: [balai, balais]\n",
      "    bunul: [Nabil, Nabils]\n",
      "    folov: [village, villages]\n",
      "    garruo: [loup, loups, lOUP, lOUPs]\n",
      "    jodun: [démon, démons]\n",
      "    kofut: [cri, cris]\n",
      "    komof: [coyote, coyotes]\n",
      "    kozuTS: [chasseur, chasseurs]\n",
      "    kuDur: [coussin, coussins]\n",
      "    kudoti: [serpent, serpents]\n",
      "    kunuSu: [souris, souriS]\n",
      "    loDob: [chat, chats]\n",
      "    luZobu: [homme, hommes]\n",
      "    ludure: [souffrance, souffrances]\n",
      "    lugop: [Kaleb, Kalebs]\n",
      "    mavudu: [corps, corpS]\n",
      "    moDomu: [visage, visages]\n",
      "    moZuni: [arbre, arbres]\n",
      "    mobuz: [sort, sorts]\n",
      "    mukus: [milieu, milieux]\n",
      "    nozuZ: [viande, viandes]\n",
      "    nuvotu: [gorge, gorges]\n",
      "    poworu: [combattant, combattants]\n",
      "    suduTj: [combat, combats]\n",
      "    sutogu: [couteau, couteaux]\n",
      "    tSiko: [garçon, garçons]\n",
      "    tuSuS: [café, cafés]\n",
      "    vogub: [lit, lits]\n",
      "    vumoNo: [œuf, oeuf, œufs, oeufs]\n",
      "    zenfane: [enfant.hyper, enfANT, enfANTs]\n",
      "    zozuga: [coup, coups]\n",
      "PREP:\n",
      "  Topuj: [derrière]\n",
      "  bofo: [ENTRE, entrE]\n",
      "  loZu: [avec]\n",
      "  luf: [vers]\n",
      "  nude: [sous]\n",
      "  poDeZ: [pour]\n",
      "  ruzu: [à]\n",
      "  sozuN: [sur]\n",
      "  susok: [après]\n",
      "  woDom: [devant]\n",
      "  wubuN: [de, d]\n",
      "VER:\n",
      "  V1:\n",
      "    Subaro: [prendre, prend, prennent, prenait, prenaient]\n",
      "    Todup: [supporter, supporte, supportent, supportait, supportaient]\n",
      "    Zobulu: [envahir, envahit, envahissent, envahissait, envahissaient]\n",
      "    budon: [courir, court, courent, courait, couraient]\n",
      "    dobud: [sortir, sorT, sortent, sortait, sortaient, sortit, sortirent]\n",
      "    furog: [transformer, transforme, transforment, transformait, transformaient]\n",
      "    guNun: [voir, voit, voient, voyait, voyaient, vit, virent]\n",
      "    koDor: [jeter, jette, jettent, jetait, jetaient]\n",
      "    kujoS: [être, est, sont, était, étaient]\n",
      "    lDuvuN: [disparaître, disparaît, disparaissent, disparaissait, disparaissaient]\n",
      "    lonuvu: [boire, boit, boivent, buvait, buvaient]\n",
      "    mukutu: [montrer, montre, montrent, montrait, montraient]\n",
      "    mulok: [dormir, dort, dorment, dormait, dormaient, dormit, dormirent]\n",
      "    muluko: [dévorer, dévore, dévorent, dévorait, dévoraient]\n",
      "    noDaf: [fuir, fuit, fuient, fuyait, fuyaient]\n",
      "    noDoNu: [apporter, apporte, apportent, apportait, apportaient, apporta, apportèrent]\n",
      "    rufut: [lancer, lancE, lancent, lançait, lançaient]\n",
      "    toDun: [planter, plante, plantent, plantait, plantaient]\n",
      "    tuDob: [transpercer, transperce, transpercent, transperçait, transperçaient]\n",
      "    tujopi: [acheter, achète, achètent, achetait, achetaient]\n",
      "  V2:\n",
      "    Sidof: [chasser, chasse, chassent, chassait, chassaient]\n",
      "    Susun: [parler, parle, parlent, parlait, parlaient, parla, parlèrent]\n",
      "    Suzora: [approcher, approche, approchent, approchait, approchaient]\n",
      "    Tofut: [entrer, entre, entrent, entrait, entraient]\n",
      "    Zozut: [donner, donne, donnent, donnait, donnaient]\n",
      "    bTogu: [rejoindre, rejoint, rejoignent, rejoignait, rejoignaient]\n",
      "    boZum: [offrir, offre, offrent, offrait, offraient]\n",
      "    buZoNu: [recouvrir, recouvre, recouvrent, recouvrait, recouvraient]\n",
      "    bumuw: [arriver, arrive, arrivent, arrivait, arrivaient]\n",
      "    fuDedu: [passer, passe, passent, passait, passaient, passa, passèrent]\n",
      "    gunov: [chercher, cherche, cherchent, cherchait, cherchaient]\n",
      "    lobug: [protéger, protège, protègent, protégeait, protégeaient]\n",
      "    muZuf: [manger, mange, mangent, mangeait, mangeaient]\n",
      "    rozos: [aller, va, vont, allait, allaient]\n",
      "    sotoSu: [rêvasser, rêvasse, rêvassent, rêvassait, rêvassaient]\n",
      "    subuSo: [pousser, pousse, poussent, poussait, poussaient]\n",
      "    tTuZof: [sauter, saute, sautent, sautait, sautaient]\n",
      "    vuZom: [tomber, tombe, tombent, tombait, tombaient]\n",
      "\n"
     ]
    }
   ],
   "source": [
    "yamlText=\"\".join(yamlLines)\n",
    "yamlText=re.sub(r\"\\n\\s*-\\s*\",\", \",yamlText)\n",
    "yamlText=re.sub(r\":,\\s*\",\": \",yamlText)\n",
    "yamlText=re.sub(r\": *([^\\n]+)\",\": [\\g<1>]\",yamlText)\n",
    "print yamlText"
   ]
  },
  {
   "cell_type": "code",
   "execution_count": 110,
   "metadata": {
    "collapsed": true
   },
   "outputs": [],
   "source": [
    "with open(nextSerie+'newStems.yaml', 'w') as output:\n",
    "    output.write(yamlText)"
   ]
  },
  {
   "cell_type": "code",
   "execution_count": null,
   "metadata": {
    "collapsed": true
   },
   "outputs": [],
   "source": []
  }
 ],
 "metadata": {
  "kernelspec": {
   "display_name": "Python 2",
   "language": "python",
   "name": "python2"
  },
  "language_info": {
   "codemirror_mode": {
    "name": "ipython",
    "version": 2
   },
   "file_extension": ".py",
   "mimetype": "text/x-python",
   "name": "python",
   "nbconvert_exporter": "python",
   "pygments_lexer": "ipython2",
   "version": "2.7.11"
  }
 },
 "nbformat": 4,
 "nbformat_minor": 2
}
